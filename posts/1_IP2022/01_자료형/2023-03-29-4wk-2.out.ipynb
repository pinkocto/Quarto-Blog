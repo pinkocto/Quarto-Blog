{
 "cells": [
  {
   "cell_type": "raw",
   "id": "6eb3dc87-54c0-41a2-b1c5-9813f5529443",
   "metadata": {},
   "source": [
    "---\n",
    "title: \"04wk-2: 파이썬의 자료형 (7) -- O\"\n",
    "author: \"jiyunLim\"\n",
    "date: \"09/21/2023\"\n",
    "categories:\n",
    "    - 파이썬의 자료형\n",
    "---"
   ]
  },
  {
   "cell_type": "markdown",
   "id": "5cc60891-5a1b-4ab5-a5fa-c8108c72bbbe",
   "metadata": {},
   "source": [
    "> 딕셔너리 컴프리헨션, 셋 컴프리헨션"
   ]
  },
  {
   "cell_type": "markdown",
   "id": "6529edcc-0e83-478a-b4ca-1ecf45d1a51e",
   "metadata": {},
   "source": [
    "# 강의영상\n",
    "\n",
    "> youtube:\n",
    "> <https://youtube.com/playlist?list=PLQqh36zP38-yyWy5IzZwxEX_dHX53cBJh>"
   ]
  },
  {
   "cell_type": "markdown",
   "id": "b65a9704-794b-479f-ad30-2a517e5f9040",
   "metadata": {},
   "source": [
    "# 딕셔너리 고급내용 (2)\n",
    "\n",
    "## key의 조건\n",
    "\n",
    "`-` 조건1: 키로 쓸 수 있는 자료형은 정해져 있다.\n",
    "\n",
    "-   int O, float O, bool O, str O, list X, tuple O, dict X, set X"
   ]
  },
  {
   "cell_type": "markdown",
   "id": "3997b2d4-164b-45dd-a4be-a6737bd3ea20",
   "metadata": {},
   "source": [
    "(예시1) dict의 키로 int를 사용"
   ]
  },
  {
   "cell_type": "code",
   "execution_count": 1,
   "id": "07fc7019-7f39-44a5-a326-f5aa54808314",
   "metadata": {},
   "outputs": [
    {
     "data": {
      "text/plain": [
       "[1, 2, 3]"
      ]
     },
     "execution_count": 1,
     "metadata": {},
     "output_type": "execute_result"
    }
   ],
   "source": [
    "dct = {0:[1,2,3], 1:[2,3,4]} \n",
    "dct[0] # 인덱싱 하는거 같네?"
   ]
  },
  {
   "cell_type": "code",
   "execution_count": 6,
   "id": "832d01b9-d466-43ee-94a8-32b11bbcb57f",
   "metadata": {},
   "outputs": [
    {
     "ename": "KeyError",
     "evalue": "-1",
     "output_type": "error",
     "traceback": [
      "\u001b[0;31m---------------------------------------------------------------------------\u001b[0m",
      "\u001b[0;31mKeyError\u001b[0m                                  Traceback (most recent call last)",
      "Cell \u001b[0;32mIn[6], line 1\u001b[0m\n\u001b[0;32m----> 1\u001b[0m \u001b[43mdct\u001b[49m\u001b[43m[\u001b[49m\u001b[38;5;241;43m-\u001b[39;49m\u001b[38;5;241;43m1\u001b[39;49m\u001b[43m]\u001b[49m \u001b[38;5;66;03m# 속았지?\u001b[39;00m\n",
      "\u001b[0;31mKeyError\u001b[0m: -1"
     ]
    }
   ],
   "source": [
    "dct[-1] # 속았지?"
   ]
  },
  {
   "cell_type": "markdown",
   "id": "90e62210-da5a-4e2a-b67e-1f093806d925",
   "metadata": {},
   "source": [
    "(예시2) dict의 키로 float을 사용 \\<– 이렇게 쓰는 사람 본적이 없어요"
   ]
  },
  {
   "cell_type": "code",
   "execution_count": 7,
   "id": "caaa96b9-b5e7-49e1-819a-f0f7f57b820d",
   "metadata": {},
   "outputs": [
    {
     "data": {
      "text/plain": [
       "'π'"
      ]
     },
     "execution_count": 7,
     "metadata": {},
     "output_type": "execute_result"
    }
   ],
   "source": [
    "dct = {3.14:'π', 2.178:'e'}\n",
    "dct[3.14]"
   ]
  },
  {
   "cell_type": "markdown",
   "id": "3f4695b6-5ad8-489e-8cf7-9ecc39fcb785",
   "metadata": {},
   "source": [
    "(예시3) dict의 키로 bool을 사용"
   ]
  },
  {
   "cell_type": "code",
   "execution_count": 8,
   "id": "d14479fb-ec5c-40ed-a913-446085d727e9",
   "metadata": {},
   "outputs": [
    {
     "data": {
      "text/plain": [
       "{True: '참이다', False: '거짓이다.'}"
      ]
     },
     "execution_count": 8,
     "metadata": {},
     "output_type": "execute_result"
    }
   ],
   "source": [
    "dct = {True: '참이다', False: '거짓이다.'} \n",
    "dct"
   ]
  },
  {
   "cell_type": "code",
   "execution_count": 9,
   "id": "dadb71ea-3da4-4850-9293-ccc28d757312",
   "metadata": {},
   "outputs": [
    {
     "data": {
      "text/plain": [
       "'참이다'"
      ]
     },
     "execution_count": 9,
     "metadata": {},
     "output_type": "execute_result"
    }
   ],
   "source": [
    "dct[1<2]"
   ]
  },
  {
   "cell_type": "markdown",
   "id": "a7aea244-3a77-4bde-9963-0c093f549507",
   "metadata": {},
   "source": [
    "(예시4) dict의 키로 str을 사용 ($\\star$)"
   ]
  },
  {
   "cell_type": "code",
   "execution_count": 10,
   "id": "36da0ee1-b35e-4923-952b-b7605bb5be25",
   "metadata": {},
   "outputs": [
    {
     "data": {
      "text/plain": [
       "[10, 20, 30, 30]"
      ]
     },
     "execution_count": 10,
     "metadata": {},
     "output_type": "execute_result"
    }
   ],
   "source": [
    "dct = {'guebin':[10,20,30,30], 'hanni':[10,20,25,40]}\n",
    "dct['guebin']"
   ]
  },
  {
   "cell_type": "markdown",
   "id": "96f4fc30-db8e-4554-bc9e-9a94a2deebe5",
   "metadata": {},
   "source": [
    "(예시5) dict의 키로 list를 사용 $\\Rightarrow$ 불가능"
   ]
  },
  {
   "cell_type": "code",
   "execution_count": 13,
   "id": "7b66c7c9-37d5-4885-9acf-f45f2e5c953f",
   "metadata": {},
   "outputs": [
    {
     "ename": "TypeError",
     "evalue": "unhashable type: 'list'",
     "output_type": "error",
     "traceback": [
      "\u001b[0;31m---------------------------------------------------------------------------\u001b[0m",
      "\u001b[0;31mTypeError\u001b[0m                                 Traceback (most recent call last)",
      "Cell \u001b[0;32mIn[13], line 1\u001b[0m\n\u001b[0;32m----> 1\u001b[0m dct \u001b[38;5;241m=\u001b[39m {[\u001b[38;5;241m10\u001b[39m,\u001b[38;5;241m20\u001b[39m,\u001b[38;5;241m30\u001b[39m,\u001b[38;5;241m40\u001b[39m]: \u001b[38;5;124m'\u001b[39m\u001b[38;5;124mguebin\u001b[39m\u001b[38;5;124m'\u001b[39m, [\u001b[38;5;241m10\u001b[39m,\u001b[38;5;241m20\u001b[39m,\u001b[38;5;241m25\u001b[39m,\u001b[38;5;241m40\u001b[39m]: \u001b[38;5;124m'\u001b[39m\u001b[38;5;124mhanni\u001b[39m\u001b[38;5;124m'\u001b[39m} \n\u001b[1;32m      2\u001b[0m dct\n",
      "\u001b[0;31mTypeError\u001b[0m: unhashable type: 'list'"
     ]
    }
   ],
   "source": [
    "dct = {[10,20,30,40]: 'guebin', [10,20,25,40]: 'hanni'} \n",
    "dct"
   ]
  },
  {
   "cell_type": "markdown",
   "id": "60735ae6-5268-48ff-9eb7-c9d69bd0daf7",
   "metadata": {},
   "source": [
    "(예시6) dict의 키로 tuple 사용 ($\\star$)"
   ]
  },
  {
   "cell_type": "code",
   "execution_count": 29,
   "id": "0e6c7390-ba51-43dd-a38f-0f7ef104b5aa",
   "metadata": {},
   "outputs": [],
   "source": [
    "dct = {(10,20,30,40): 'guebin', (10,20,25,40): 'hanni'} \n",
    "dct"
   ]
  },
  {
   "cell_type": "code",
   "execution_count": 32,
   "id": "8b2ea970-8ede-4b3f-96af-a5833ae72843",
   "metadata": {},
   "outputs": [],
   "source": [
    "dct[(10,20,30,40)]"
   ]
  },
  {
   "cell_type": "code",
   "execution_count": 33,
   "id": "096980a7-a7f3-44bf-8bee-83988e6e468c",
   "metadata": {},
   "outputs": [],
   "source": [
    "dct[10,20,30,40]"
   ]
  },
  {
   "cell_type": "markdown",
   "id": "e82cbbc6-933c-422c-93d3-959e3258a637",
   "metadata": {},
   "source": [
    "(예시7) dict의 키로 dict사용 $\\Rightarrow$ 불가능"
   ]
  },
  {
   "cell_type": "code",
   "execution_count": 35,
   "id": "26186683-861f-4866-a89f-2be4611d2dd8",
   "metadata": {},
   "outputs": [],
   "source": [
    "dct = {{0:1}: 'guebin', {1:2}: 'hanni'} \n",
    "dct"
   ]
  },
  {
   "cell_type": "markdown",
   "id": "edeee0ed-f6e2-4aa4-af1d-1e8ea4327332",
   "metadata": {},
   "source": [
    "(예시8) dict의 키로 set사용 $\\Rightarrow$ 불가능"
   ]
  },
  {
   "cell_type": "code",
   "execution_count": 36,
   "id": "8774cc76-2146-42ef-b6c5-4d2164244d06",
   "metadata": {},
   "outputs": [],
   "source": [
    "dct = {{'샌드위치','딸기우유'}:'점심', {'불고기','된장찌개','김','콩자반'}: '저녁'}\n",
    "dct"
   ]
  },
  {
   "cell_type": "markdown",
   "id": "cd6a253c-7246-447b-98ac-e0c05fa93a90",
   "metadata": {},
   "source": [
    "`-` 조건2: 키는 중복해서 쓸 수 없다.\n",
    "\n",
    "(예시1)"
   ]
  },
  {
   "cell_type": "code",
   "execution_count": 99,
   "id": "0fcf6ee8-c977-4a93-9b9c-a445c2a5bc7b",
   "metadata": {},
   "outputs": [],
   "source": [
    "dct = {0:[1,2,3], 1:[2,3,4], 0:[3,4,5]} # 이렇게 쓰지 마세요\n",
    "dct "
   ]
  },
  {
   "cell_type": "markdown",
   "id": "ebfb2165-cc5f-4759-8646-de490e646f88",
   "metadata": {},
   "source": [
    "## value의 조건\n",
    "\n",
    "`-` 없다… $\\Rightarrow$ dict는 컨테이너형!!\n",
    "\n",
    "## 딕셔너리 컴프리헨션\n",
    "\n",
    "`-` 예시1"
   ]
  },
  {
   "cell_type": "code",
   "execution_count": 56,
   "id": "5438e152-d4a7-4b29-854a-a8114ee4d7e7",
   "metadata": {},
   "outputs": [
    {
     "data": {
      "text/plain": [
       "[['딸기', '사과'], ['오토바이', '자동차'], ['컴퓨터', '아이패드', '마우스']]"
      ]
     },
     "execution_count": 56,
     "metadata": {},
     "output_type": "execute_result"
    }
   ],
   "source": [
    "lst = [['딸기','사과'],['오토바이','자동차'],['컴퓨터','아이패드','마우스']]\n",
    "lst  "
   ]
  },
  {
   "cell_type": "code",
   "execution_count": 57,
   "id": "b457aa55-dc65-46fa-9d9c-3b416b687e6a",
   "metadata": {},
   "outputs": [
    {
     "data": {
      "text/plain": [
       "['딸기', '사과']"
      ]
     },
     "execution_count": 57,
     "metadata": {},
     "output_type": "execute_result"
    }
   ],
   "source": [
    "lst[0]"
   ]
  },
  {
   "cell_type": "code",
   "execution_count": 59,
   "id": "0fdf2ced-847a-4803-ba0a-af8ab10577cb",
   "metadata": {},
   "outputs": [
    {
     "data": {
      "text/plain": [
       "{0: ['딸기', '사과'], 1: ['오토바이', '자동차'], 2: ['컴퓨터', '아이패드', '마우스']}"
      ]
     },
     "execution_count": 59,
     "metadata": {},
     "output_type": "execute_result"
    }
   ],
   "source": [
    "{i:lst[i] for i in range(3)}"
   ]
  },
  {
   "cell_type": "markdown",
   "id": "c9737c9e-c0bf-4dfe-9c37-14cf2b838f4f",
   "metadata": {},
   "source": [
    "`-` 예시2: key, val을 서로 바꾸는 예시"
   ]
  },
  {
   "cell_type": "code",
   "execution_count": 60,
   "id": "206a0969-8c5f-4e8f-94f7-939fe43449d3",
   "metadata": {},
   "outputs": [
    {
     "data": {
      "text/plain": [
       "{'a': (1, 0, 0, 0), 'b': (0, 1, 0, 0), 'c': (0, 0, 1, 0), 'd': (0, 0, 0, 1)}"
      ]
     },
     "execution_count": 60,
     "metadata": {},
     "output_type": "execute_result"
    }
   ],
   "source": [
    "dct = {'a':(1,0,0,0), 'b':(0,1,0,0), 'c':(0,0,1,0), 'd':(0,0,0,1)}\n",
    "dct"
   ]
  },
  {
   "cell_type": "code",
   "execution_count": 61,
   "id": "8a1f1850-3f44-4d87-86df-32f32ffc3cbe",
   "metadata": {},
   "outputs": [
    {
     "data": {
      "text/plain": [
       "[('a', (1, 0, 0, 0)),\n",
       " ('b', (0, 1, 0, 0)),\n",
       " ('c', (0, 0, 1, 0)),\n",
       " ('d', (0, 0, 0, 1))]"
      ]
     },
     "execution_count": 61,
     "metadata": {},
     "output_type": "execute_result"
    }
   ],
   "source": [
    "[(k,v) for k,v in dct.items()]"
   ]
  },
  {
   "cell_type": "code",
   "execution_count": 62,
   "id": "9c161cbd-4936-45c3-af93-bce334262e36",
   "metadata": {},
   "outputs": [
    {
     "data": {
      "text/plain": [
       "{'a': (1, 0, 0, 0), 'b': (0, 1, 0, 0), 'c': (0, 0, 1, 0), 'd': (0, 0, 0, 1)}"
      ]
     },
     "execution_count": 62,
     "metadata": {},
     "output_type": "execute_result"
    }
   ],
   "source": [
    "{k:v for k,v in dct.items()}"
   ]
  },
  {
   "cell_type": "code",
   "execution_count": 64,
   "id": "ed864dbf-17fc-4312-882f-022b64e3d239",
   "metadata": {},
   "outputs": [
    {
     "data": {
      "text/plain": [
       "{(1, 0, 0, 0): 'a', (0, 1, 0, 0): 'b', (0, 0, 1, 0): 'c', (0, 0, 0, 1): 'd'}"
      ]
     },
     "execution_count": 64,
     "metadata": {},
     "output_type": "execute_result"
    }
   ],
   "source": [
    "# key, value 서로 바꾸는 예시\n",
    "{v:k for k,v in dct.items() }"
   ]
  },
  {
   "cell_type": "markdown",
   "id": "b0113468-8501-4c61-a44e-a15a2352e75c",
   "metadata": {},
   "source": [
    "## 바꿔치기 (3)\n",
    "\n",
    "`-` 예제1: 아래와 같은 리스트가 있다고 하자."
   ]
  },
  {
   "cell_type": "code",
   "execution_count": 69,
   "id": "e033cca2-93cc-44d0-b9b9-94de523e3d50",
   "metadata": {},
   "outputs": [
    {
     "data": {
      "text/plain": [
       "['a', 'b', 'c', 'd', 'a', 'b', 'c', 'd']"
      ]
     },
     "execution_count": 69,
     "metadata": {},
     "output_type": "execute_result"
    }
   ],
   "source": [
    "lst = list('abcd'*2)\n",
    "lst"
   ]
  },
  {
   "cell_type": "markdown",
   "id": "f4f59997-d767-48bd-9159-1cb2da0a2208",
   "metadata": {},
   "source": [
    "아래의 규칙에 의하여 lst의 각 원소의 값을 바꾸고 싶다고 하자.\n",
    "\n",
    "| 변환전 |   변환후    |\n",
    "|:------:|:-----------:|\n",
    "|  ‘a’   | \\[1,0,0,0\\] |\n",
    "|  ‘b’   | \\[0,1,0,0\\] |\n",
    "|  ‘c’   | \\[0,0,1,0\\] |\n",
    "|  ‘d’   | \\[0,0,0,1\\] |\n",
    "\n",
    "이를 구현하는 코드를 작성하고, 역변환하는 코드를 작성하라.\n",
    "\n",
    "hint: 아래의 dct를 이용할 것"
   ]
  },
  {
   "cell_type": "code",
   "execution_count": 70,
   "id": "2c2aebd8-0977-4a47-9e76-41e23411f356",
   "metadata": {},
   "outputs": [
    {
     "data": {
      "text/plain": [
       "{'a': [1, 0, 0, 0], 'b': [0, 1, 0, 0], 'c': [0, 0, 1, 0], 'd': [0, 0, 0, 1]}"
      ]
     },
     "execution_count": 70,
     "metadata": {},
     "output_type": "execute_result"
    }
   ],
   "source": [
    "dct = {'a':[1,0,0,0], 'b':[0,1,0,0], 'c':[0,0,1,0], 'd':[0,0,0,1]}\n",
    "dct"
   ]
  },
  {
   "cell_type": "markdown",
   "id": "8ccce46a-a600-463d-a45d-d630c5803a91",
   "metadata": {},
   "source": [
    "(풀이)\n",
    "\n",
    "변환하는 코드를 구현하면"
   ]
  },
  {
   "cell_type": "code",
   "execution_count": 75,
   "id": "59cf5ec2-4450-486c-a29e-d483368a8662",
   "metadata": {},
   "outputs": [
    {
     "data": {
      "text/plain": [
       "[[1, 0, 0, 0],\n",
       " [0, 1, 0, 0],\n",
       " [0, 0, 1, 0],\n",
       " [0, 0, 0, 1],\n",
       " [1, 0, 0, 0],\n",
       " [0, 1, 0, 0],\n",
       " [0, 0, 1, 0],\n",
       " [0, 0, 0, 1]]"
      ]
     },
     "execution_count": 75,
     "metadata": {},
     "output_type": "execute_result"
    }
   ],
   "source": [
    "lst2= [dct[l] for l in lst] \n",
    "lst2"
   ]
  },
  {
   "cell_type": "markdown",
   "id": "54814a37-506c-4318-b885-a2ba7587ae43",
   "metadata": {},
   "source": [
    "역변환하는 코드를 구현하면\n",
    "\n",
    "(1단계)"
   ]
  },
  {
   "cell_type": "code",
   "execution_count": 83,
   "id": "aee4ab0c-7a77-4da6-bf2c-37f605ccedd1",
   "metadata": {},
   "outputs": [
    {
     "data": {
      "text/plain": [
       "dict_items([('a', [1, 0, 0, 0]), ('b', [0, 1, 0, 0]), ('c', [0, 0, 1, 0]), ('d', [0, 0, 0, 1])])"
      ]
     },
     "execution_count": 83,
     "metadata": {},
     "output_type": "execute_result"
    }
   ],
   "source": [
    "dct.items()"
   ]
  },
  {
   "cell_type": "code",
   "execution_count": 85,
   "id": "4f782c10-7155-463c-b7e1-0e698f43df41",
   "metadata": {},
   "outputs": [
    {
     "data": {
      "text/plain": [
       "{'a': [1, 0, 0, 0], 'b': [0, 1, 0, 0], 'c': [0, 0, 1, 0], 'd': [0, 0, 0, 1]}"
      ]
     },
     "execution_count": 85,
     "metadata": {},
     "output_type": "execute_result"
    }
   ],
   "source": [
    "{k:v for k,v in dct.items()} "
   ]
  },
  {
   "cell_type": "code",
   "execution_count": 87,
   "id": "35706d99-bf25-42b4-86eb-b33b1daa485f",
   "metadata": {},
   "outputs": [
    {
     "ename": "TypeError",
     "evalue": "unhashable type: 'list'",
     "output_type": "error",
     "traceback": [
      "\u001b[0;31m---------------------------------------------------------------------------\u001b[0m",
      "\u001b[0;31mTypeError\u001b[0m                                 Traceback (most recent call last)",
      "Cell \u001b[0;32mIn[87], line 1\u001b[0m\n\u001b[0;32m----> 1\u001b[0m {v:k \u001b[38;5;28;01mfor\u001b[39;00m k,v \u001b[38;5;129;01min\u001b[39;00m dct\u001b[38;5;241m.\u001b[39mitems()} \u001b[38;5;66;03m# 리스트 타입은 키로 쓸수없다.\u001b[39;00m\n",
      "Cell \u001b[0;32mIn[87], line 1\u001b[0m, in \u001b[0;36m<dictcomp>\u001b[0;34m(.0)\u001b[0m\n\u001b[0;32m----> 1\u001b[0m {v:k \u001b[38;5;28;01mfor\u001b[39;00m k,v \u001b[38;5;129;01min\u001b[39;00m dct\u001b[38;5;241m.\u001b[39mitems()} \u001b[38;5;66;03m# 리스트 타입은 키로 쓸수없다.\u001b[39;00m\n",
      "\u001b[0;31mTypeError\u001b[0m: unhashable type: 'list'"
     ]
    }
   ],
   "source": [
    "{v:k for k,v in dct.items()} # 리스트 타입은 키로 쓸수없다."
   ]
  },
  {
   "cell_type": "code",
   "execution_count": 91,
   "id": "d6550c07-3a2a-4989-bcc7-2467c68af198",
   "metadata": {},
   "outputs": [
    {
     "data": {
      "text/plain": [
       "{(1, 0, 0, 0): 'a', (0, 1, 0, 0): 'b', (0, 0, 1, 0): 'c', (0, 0, 0, 1): 'd'}"
      ]
     },
     "execution_count": 91,
     "metadata": {},
     "output_type": "execute_result"
    }
   ],
   "source": [
    "{tuple(v):k for k,v in dct.items()} # 억지로 키를 튜플로 바꿔서."
   ]
  },
  {
   "cell_type": "markdown",
   "id": "b6252568-d017-4107-8941-17fc4dc893bf",
   "metadata": {},
   "source": [
    "**역변환**"
   ]
  },
  {
   "cell_type": "code",
   "execution_count": 93,
   "id": "d4b38cf8-4ea8-4629-8e4b-89531de2a387",
   "metadata": {},
   "outputs": [
    {
     "data": {
      "text/plain": [
       "{(1, 0, 0, 0): 'a', (0, 1, 0, 0): 'b', (0, 0, 1, 0): 'c', (0, 0, 0, 1): 'd'}"
      ]
     },
     "execution_count": 93,
     "metadata": {},
     "output_type": "execute_result"
    }
   ],
   "source": [
    "dct_inv = {tuple(v):k for k,v in dct.items()}\n",
    "dct_inv"
   ]
  },
  {
   "cell_type": "code",
   "execution_count": 100,
   "id": "37a94bd7-6e3d-43d4-a5f9-be258f133a6b",
   "metadata": {},
   "outputs": [
    {
     "data": {
      "text/plain": [
       "[[1, 0, 0, 0],\n",
       " [0, 1, 0, 0],\n",
       " [0, 0, 1, 0],\n",
       " [0, 0, 0, 1],\n",
       " [1, 0, 0, 0],\n",
       " [0, 1, 0, 0],\n",
       " [0, 0, 1, 0],\n",
       " [0, 0, 0, 1]]"
      ]
     },
     "execution_count": 100,
     "metadata": {},
     "output_type": "execute_result"
    }
   ],
   "source": [
    "lst2"
   ]
  },
  {
   "cell_type": "code",
   "execution_count": 98,
   "id": "ecb28937-4e81-43bd-b36b-722d81d2b4ed",
   "metadata": {},
   "outputs": [
    {
     "ename": "TypeError",
     "evalue": "unhashable type: 'list'",
     "output_type": "error",
     "traceback": [
      "\u001b[0;31m---------------------------------------------------------------------------\u001b[0m",
      "\u001b[0;31mTypeError\u001b[0m                                 Traceback (most recent call last)",
      "Cell \u001b[0;32mIn[98], line 1\u001b[0m\n\u001b[0;32m----> 1\u001b[0m [dct_inv[l] \u001b[38;5;28;01mfor\u001b[39;00m l \u001b[38;5;129;01min\u001b[39;00m lst2]\n",
      "Cell \u001b[0;32mIn[98], line 1\u001b[0m, in \u001b[0;36m<listcomp>\u001b[0;34m(.0)\u001b[0m\n\u001b[0;32m----> 1\u001b[0m [\u001b[43mdct_inv\u001b[49m\u001b[43m[\u001b[49m\u001b[43ml\u001b[49m\u001b[43m]\u001b[49m \u001b[38;5;28;01mfor\u001b[39;00m l \u001b[38;5;129;01min\u001b[39;00m lst2]\n",
      "\u001b[0;31mTypeError\u001b[0m: unhashable type: 'list'"
     ]
    }
   ],
   "source": [
    "[dct_inv[l] for l in lst2] # 키로 list 타입을 넣을 수 없다."
   ]
  },
  {
   "cell_type": "code",
   "execution_count": 101,
   "id": "da479b98-20c6-4dc9-bfe0-a67c1558f075",
   "metadata": {},
   "outputs": [
    {
     "data": {
      "text/plain": [
       "['a', 'b', 'c', 'd', 'a', 'b', 'c', 'd']"
      ]
     },
     "execution_count": 101,
     "metadata": {},
     "output_type": "execute_result"
    }
   ],
   "source": [
    "[dct_inv[tuple(l)] for l in lst2]"
   ]
  },
  {
   "cell_type": "markdown",
   "id": "7029227c-b136-436c-ba00-1ff290e9a8d6",
   "metadata": {},
   "source": [
    "(2단계)"
   ]
  },
  {
   "cell_type": "code",
   "execution_count": 190,
   "id": "fd2dc2b2-0c09-4e20-aab6-9f322cd5645f",
   "metadata": {},
   "outputs": [],
   "source": [
    "[dct_inv[tuple(l)] for l in lst2]"
   ]
  },
  {
   "cell_type": "markdown",
   "id": "2ab212fc-e6a0-4338-a6d1-ad29a7a994f2",
   "metadata": {},
   "source": [
    "***내생각***\n",
    "\n",
    "위와 같은 코드는 경우에 따라서 아래와 같은 복잡합 코드를 피할 수 있는\n",
    "장점이 있다."
   ]
  },
  {
   "cell_type": "code",
   "execution_count": 191,
   "id": "8d92a82d-6fe0-4d15-b104-97483731498e",
   "metadata": {},
   "outputs": [],
   "source": [
    "[x for l in lst2 for x,y in dct.items() if l==y]"
   ]
  },
  {
   "cell_type": "markdown",
   "id": "6a344af4-2d50-40f7-87e7-36951d0de872",
   "metadata": {},
   "source": [
    "`-` 예제2: 아래와 같은 리스트가 있다고 하자. – 강의를 재촬영 했습니다."
   ]
  },
  {
   "cell_type": "code",
   "execution_count": 111,
   "id": "e64393fc-fdea-432f-aa75-e63c9630d3d2",
   "metadata": {},
   "outputs": [
    {
     "data": {
      "text/plain": [
       "['딸기', '사과', '바나나', '바나나', '오토바이', '자동차', '기차']"
      ]
     },
     "execution_count": 111,
     "metadata": {},
     "output_type": "execute_result"
    }
   ],
   "source": [
    "lst = ['딸기', '사과', '바나나', '바나나', '오토바이', '자동차', '기차']\n",
    "lst"
   ]
  },
  {
   "cell_type": "markdown",
   "id": "0921b09d-9f0c-4673-9023-626256f42c9e",
   "metadata": {},
   "source": [
    "아래와 같은 규칙에 따라서 바꾸고 싶다고 하자.\n",
    "\n",
    "|  변환전  | 변환후 |\n",
    "|:--------:|:------:|\n",
    "|   딸기   |  과일  |\n",
    "|   사과   |  과일  |\n",
    "|  바나나  |  과일  |\n",
    "| 오토바이 |  탈것  |\n",
    "|  자동차  |  탈것  |\n",
    "|   버스   |  탈것  |\n",
    "|   기차   |  탈것  |\n",
    "\n",
    "(풀이1)"
   ]
  },
  {
   "cell_type": "code",
   "execution_count": 27,
   "id": "a956fc6c-4558-4f94-96d0-ee2041d7531f",
   "metadata": {},
   "outputs": [],
   "source": [
    "dct = {'딸기':'과일', '사과':'과일', '바나나':'과일', \n",
    "       '오토바이':'탈것', '자동차':'탈것', '버스':'탈것', '기차':'탈것'}\n",
    "dct"
   ]
  },
  {
   "cell_type": "code",
   "execution_count": 35,
   "id": "bd734a84-5e93-45be-9b10-527790afa6bd",
   "metadata": {},
   "outputs": [],
   "source": [
    "[dct[l] for l in lst]    "
   ]
  },
  {
   "cell_type": "markdown",
   "id": "ce49501a-3b37-4719-9ee3-a64ac2d3dec0",
   "metadata": {},
   "source": [
    "(풀이2) – 지난시간에 한 것"
   ]
  },
  {
   "cell_type": "code",
   "execution_count": 105,
   "id": "20128ef6-2c74-4ec8-b1be-bfc17072c69a",
   "metadata": {},
   "outputs": [
    {
     "data": {
      "text/plain": [
       "{'과일': ['딸기', '사과', '바나나'], '탈것': ['오토바이', '자동차', '버스', '기차']}"
      ]
     },
     "execution_count": 105,
     "metadata": {},
     "output_type": "execute_result"
    }
   ],
   "source": [
    "dct = {'과일':['딸기','사과','바나나'], '탈것':['오토바이','자동차', '버스', '기차']} \n",
    "dct"
   ]
  },
  {
   "cell_type": "code",
   "execution_count": 122,
   "id": "27b68266-d306-4765-96df-e4236a7b74e3",
   "metadata": {},
   "outputs": [
    {
     "name": "stdout",
     "output_type": "stream",
     "text": [
      "과일\n",
      "과일\n",
      "과일\n",
      "과일\n",
      "탈것\n",
      "탈것\n",
      "탈것\n"
     ]
    }
   ],
   "source": [
    "for l in lst:\n",
    "    # print(l) \n",
    "    for k,v in dct.items():\n",
    "        if l in v: \n",
    "            print(k) # list안에 있는 것이 과일이냐? 탈것이냐?"
   ]
  },
  {
   "cell_type": "code",
   "execution_count": 123,
   "id": "52ae136e-fedb-4aa4-aaef-9f2425f20e46",
   "metadata": {},
   "outputs": [],
   "source": [
    "# lst = [딸기, 사과, 바나나, 바나나, 오토바이, 자동차, 기차]"
   ]
  },
  {
   "cell_type": "markdown",
   "id": "83acefdd-54fa-4d3b-9a77-d7c3c3b543c1",
   "metadata": {},
   "source": [
    "위에 코드를 중첩구조로 만들면 아래와 같다."
   ]
  },
  {
   "cell_type": "code",
   "execution_count": 125,
   "id": "a9a540a3-ec2a-474c-9d4f-0789609a3c4d",
   "metadata": {},
   "outputs": [
    {
     "data": {
      "text/plain": [
       "['과일', '과일', '과일', '과일', '탈것', '탈것', '탈것']"
      ]
     },
     "execution_count": 125,
     "metadata": {},
     "output_type": "execute_result"
    }
   ],
   "source": [
    "[k for l in lst for k,v in dct.items() if l in v]"
   ]
  },
  {
   "cell_type": "markdown",
   "id": "28b94771-9021-4281-846c-0a10c4485f93",
   "metadata": {},
   "source": [
    "(풀이3)"
   ]
  },
  {
   "cell_type": "code",
   "execution_count": 127,
   "id": "40d6975c-fa1a-49ae-a751-f7dd33cfbc7a",
   "metadata": {},
   "outputs": [
    {
     "data": {
      "text/plain": [
       "{'과일': ['딸기', '사과', '바나나'], '탈것': ['오토바이', '자동차', '버스', '기차']}"
      ]
     },
     "execution_count": 127,
     "metadata": {},
     "output_type": "execute_result"
    }
   ],
   "source": [
    "{k:v for k,v in dct.items()}"
   ]
  },
  {
   "cell_type": "code",
   "execution_count": 129,
   "id": "8479496d-b2c8-49d4-973b-1647dc21b5ef",
   "metadata": {},
   "outputs": [
    {
     "data": {
      "text/plain": [
       "{'딸기': '과일',\n",
       " '사과': '과일',\n",
       " '바나나': '과일',\n",
       " '오토바이': '탈것',\n",
       " '자동차': '탈것',\n",
       " '버스': '탈것',\n",
       " '기차': '탈것'}"
      ]
     },
     "execution_count": 129,
     "metadata": {},
     "output_type": "execute_result"
    }
   ],
   "source": [
    "{l:k for k,v in dct.items() for l in v}"
   ]
  },
  {
   "cell_type": "code",
   "execution_count": 130,
   "id": "c0ef59b8-cac0-402d-b5b8-3f6fbc585cb0",
   "metadata": {},
   "outputs": [
    {
     "data": {
      "text/plain": [
       "{'딸기': '과일',\n",
       " '사과': '과일',\n",
       " '바나나': '과일',\n",
       " '오토바이': '탈것',\n",
       " '자동차': '탈것',\n",
       " '버스': '탈것',\n",
       " '기차': '탈것'}"
      ]
     },
     "execution_count": 130,
     "metadata": {},
     "output_type": "execute_result"
    }
   ],
   "source": [
    "_dct = {l:k for k,v in dct.items() for l in v}\n",
    "_dct "
   ]
  },
  {
   "cell_type": "code",
   "execution_count": 131,
   "id": "3eaedc96-441c-4e13-9ea6-d350da17e960",
   "metadata": {},
   "outputs": [
    {
     "data": {
      "text/plain": [
       "['과일', '과일', '과일', '과일', '탈것', '탈것', '탈것']"
      ]
     },
     "execution_count": 131,
     "metadata": {},
     "output_type": "execute_result"
    }
   ],
   "source": [
    "[_dct[l] for l in lst]"
   ]
  },
  {
   "cell_type": "markdown",
   "id": "e8f12ed0-3cc3-4cb4-b4bf-ac4eade78a3b",
   "metadata": {},
   "source": [
    "# 집합 기본내용\n",
    "\n",
    "## 선언"
   ]
  },
  {
   "cell_type": "code",
   "execution_count": 132,
   "id": "296bfc98-a4d2-421d-bff9-0279c19d5873",
   "metadata": {},
   "outputs": [
    {
     "data": {
      "text/plain": [
       "{'desktop', 'notebook'}"
      ]
     },
     "execution_count": 132,
     "metadata": {},
     "output_type": "execute_result"
    }
   ],
   "source": [
    "wishlist={'notebook','desktop'}\n",
    "wishlist"
   ]
  },
  {
   "cell_type": "markdown",
   "id": "1ac53df0-3a82-42cd-a14d-527d4b4e3612",
   "metadata": {},
   "source": [
    "## 원소추출\n",
    "\n",
    "`-` 일단 인덱스로는 못합니다."
   ]
  },
  {
   "cell_type": "code",
   "execution_count": 133,
   "id": "245a3afd-13d8-4104-8a22-b24eea7cef39",
   "metadata": {},
   "outputs": [
    {
     "ename": "TypeError",
     "evalue": "'set' object is not subscriptable",
     "output_type": "error",
     "traceback": [
      "\u001b[0;31m---------------------------------------------------------------------------\u001b[0m",
      "\u001b[0;31mTypeError\u001b[0m                                 Traceback (most recent call last)",
      "Cell \u001b[0;32mIn[133], line 2\u001b[0m\n\u001b[1;32m      1\u001b[0m wishlist\u001b[38;5;241m=\u001b[39m{\u001b[38;5;124m'\u001b[39m\u001b[38;5;124mnotebook\u001b[39m\u001b[38;5;124m'\u001b[39m,\u001b[38;5;124m'\u001b[39m\u001b[38;5;124mdesktop\u001b[39m\u001b[38;5;124m'\u001b[39m}\n\u001b[0;32m----> 2\u001b[0m \u001b[43mwishlist\u001b[49m\u001b[43m[\u001b[49m\u001b[38;5;241;43m0\u001b[39;49m\u001b[43m]\u001b[49m\n",
      "\u001b[0;31mTypeError\u001b[0m: 'set' object is not subscriptable"
     ]
    }
   ],
   "source": [
    "wishlist={'notebook','desktop'}\n",
    "wishlist[0] # 원소추출을 안됨."
   ]
  },
  {
   "cell_type": "markdown",
   "id": "ac73e1c2-0d3f-4407-8a27-2df11ec847c1",
   "metadata": {},
   "source": [
    "`-` 딱히 하는 방법이 없어요.. 그리고 이걸 하는 의미가 없어요.. (원소에\n",
    "접근해서 뭐하려고??)\n",
    "\n",
    "## 원소추가\n",
    "\n",
    "`-` 이건 의미가 있음"
   ]
  },
  {
   "cell_type": "code",
   "execution_count": 134,
   "id": "b43609fe-0d40-464a-9696-50357d2b35ea",
   "metadata": {},
   "outputs": [
    {
     "data": {
      "text/plain": [
       "{'desktop', 'notebook'}"
      ]
     },
     "execution_count": 134,
     "metadata": {},
     "output_type": "execute_result"
    }
   ],
   "source": [
    "wishlist={'notebook','desktop'} \n",
    "wishlist"
   ]
  },
  {
   "cell_type": "code",
   "execution_count": 135,
   "id": "359a1f90-0776-45bc-ad43-9520fbecc179",
   "metadata": {},
   "outputs": [
    {
     "data": {
      "text/plain": [
       "{'desktop', 'ipad', 'notebook'}"
      ]
     },
     "execution_count": 135,
     "metadata": {},
     "output_type": "execute_result"
    }
   ],
   "source": [
    "wishlist.add('ipad')\n",
    "wishlist"
   ]
  },
  {
   "cell_type": "code",
   "execution_count": 136,
   "id": "a8e27c56-d189-4504-8bd8-83e5199f8781",
   "metadata": {},
   "outputs": [
    {
     "data": {
      "text/plain": [
       "{'desktop', 'ipad', 'notebook'}"
      ]
     },
     "execution_count": 136,
     "metadata": {},
     "output_type": "execute_result"
    }
   ],
   "source": [
    "wishlist.add('notebook') # 이미 원소로 있는건 추가되지 않음. \n",
    "wishlist"
   ]
  },
  {
   "cell_type": "markdown",
   "id": "bd782a43-3b65-4702-8071-bf2e54001649",
   "metadata": {},
   "source": [
    "## 원소삭제"
   ]
  },
  {
   "cell_type": "code",
   "execution_count": 137,
   "id": "288e63e2-4748-4129-9be0-3c3fe7b8df82",
   "metadata": {},
   "outputs": [
    {
     "data": {
      "text/plain": [
       "{'desktop', 'ipad', 'notebook'}"
      ]
     },
     "execution_count": 137,
     "metadata": {},
     "output_type": "execute_result"
    }
   ],
   "source": [
    "wishlist={'desktop', 'ipad', 'notebook'}\n",
    "wishlist"
   ]
  },
  {
   "cell_type": "code",
   "execution_count": 138,
   "id": "79ee609d-d5ea-4150-a0b7-8dc55e204163",
   "metadata": {},
   "outputs": [],
   "source": [
    "wishlist.remove('notebook')"
   ]
  },
  {
   "cell_type": "code",
   "execution_count": 139,
   "id": "f40292c0-82b7-4139-8f60-1fc9eb484637",
   "metadata": {},
   "outputs": [
    {
     "data": {
      "text/plain": [
       "{'desktop', 'ipad'}"
      ]
     },
     "execution_count": 139,
     "metadata": {},
     "output_type": "execute_result"
    }
   ],
   "source": [
    "wishlist"
   ]
  },
  {
   "cell_type": "markdown",
   "id": "c4b3819f-4a37-4a59-b85c-4db275ec0b8e",
   "metadata": {},
   "source": [
    "## 연산\n",
    "\n",
    "`-` in 연산자"
   ]
  },
  {
   "cell_type": "code",
   "execution_count": 140,
   "id": "aef7d3b7-4583-4cdb-a22f-e6a25239ffc0",
   "metadata": {},
   "outputs": [
    {
     "data": {
      "text/plain": [
       "{'desktop', 'ipad', 'notebook'}"
      ]
     },
     "execution_count": 140,
     "metadata": {},
     "output_type": "execute_result"
    }
   ],
   "source": [
    "wishlist={'desktop', 'ipad', 'notebook'}\n",
    "wishlist"
   ]
  },
  {
   "cell_type": "code",
   "execution_count": 141,
   "id": "a63a9416-0642-4e73-9dea-61e498759535",
   "metadata": {},
   "outputs": [
    {
     "data": {
      "text/plain": [
       "True"
      ]
     },
     "execution_count": 141,
     "metadata": {},
     "output_type": "execute_result"
    }
   ],
   "source": [
    "'notebook' in wishlist"
   ]
  },
  {
   "cell_type": "markdown",
   "id": "44ebbfc1-f718-4613-8252-fde8e85fef9a",
   "metadata": {},
   "source": [
    "-   참고로 `in`연산자는 집합에서만 쓰는것은 아님\n",
    "\n",
    "`-` 합집합, 교집합, 차집합"
   ]
  },
  {
   "cell_type": "code",
   "execution_count": 25,
   "id": "8581eec8-64ee-4060-b55e-4c1f84412132",
   "metadata": {},
   "outputs": [],
   "source": [
    "day1 = {'notebook','desktop'}\n",
    "day2 = {'notebook','ipad'}"
   ]
  },
  {
   "cell_type": "code",
   "execution_count": 26,
   "id": "65368e25-335a-4ff6-b9ab-66724ad6decb",
   "metadata": {},
   "outputs": [
    {
     "data": {
      "text/plain": [
       "{'desktop', 'ipad', 'notebook'}"
      ]
     },
     "execution_count": 26,
     "metadata": {},
     "output_type": "execute_result"
    }
   ],
   "source": [
    "day1 | day2 # 합집합"
   ]
  },
  {
   "cell_type": "code",
   "execution_count": 27,
   "id": "651ff060-4259-444e-9b8c-f0caa8d24229",
   "metadata": {},
   "outputs": [
    {
     "data": {
      "text/plain": [
       "{'notebook'}"
      ]
     },
     "execution_count": 27,
     "metadata": {},
     "output_type": "execute_result"
    }
   ],
   "source": [
    "day1 & day2 # 교집합"
   ]
  },
  {
   "cell_type": "code",
   "execution_count": 28,
   "id": "ee340b45-b2f1-44c7-96e0-f93263d298c2",
   "metadata": {},
   "outputs": [
    {
     "data": {
      "text/plain": [
       "{'desktop'}"
      ]
     },
     "execution_count": 28,
     "metadata": {},
     "output_type": "execute_result"
    }
   ],
   "source": [
    "day1 - day2 # 차집합 "
   ]
  },
  {
   "cell_type": "code",
   "execution_count": 29,
   "id": "51ac2d2b-c905-4703-a6af-6563884bcb54",
   "metadata": {},
   "outputs": [
    {
     "data": {
      "text/plain": [
       "{'ipad'}"
      ]
     },
     "execution_count": 29,
     "metadata": {},
     "output_type": "execute_result"
    }
   ],
   "source": [
    "day2 - day1 # 차집합"
   ]
  },
  {
   "cell_type": "markdown",
   "id": "ee0aea6e-a27e-4a0d-b29f-4659dfd7edda",
   "metadata": {},
   "source": [
    "`-` 부분집합"
   ]
  },
  {
   "cell_type": "code",
   "execution_count": 30,
   "id": "4e270836-73f6-41df-ab2b-780dbfe1b82b",
   "metadata": {},
   "outputs": [],
   "source": [
    "day1 = {'notebook', 'desktop'}\n",
    "day2 = day1 | {'ipad'} "
   ]
  },
  {
   "cell_type": "code",
   "execution_count": 32,
   "id": "1d2e3e61-d084-437f-b2d5-c2518b712f4c",
   "metadata": {},
   "outputs": [
    {
     "data": {
      "text/plain": [
       "{'desktop', 'ipad', 'notebook'}"
      ]
     },
     "execution_count": 32,
     "metadata": {},
     "output_type": "execute_result"
    }
   ],
   "source": [
    "day2"
   ]
  },
  {
   "cell_type": "code",
   "execution_count": 33,
   "id": "66498d09-2ac8-4097-9530-58d797d57d0d",
   "metadata": {},
   "outputs": [
    {
     "data": {
      "text/plain": [
       "True"
      ]
     },
     "execution_count": 33,
     "metadata": {},
     "output_type": "execute_result"
    }
   ],
   "source": [
    "day1 < day2  # day1는 day2의 부분집합인가? "
   ]
  },
  {
   "cell_type": "code",
   "execution_count": 34,
   "id": "d0a84e4b-413e-4507-ac75-3814beed2d3b",
   "metadata": {},
   "outputs": [
    {
     "data": {
      "text/plain": [
       "False"
      ]
     },
     "execution_count": 34,
     "metadata": {},
     "output_type": "execute_result"
    }
   ],
   "source": [
    "day2 < day1"
   ]
  },
  {
   "cell_type": "markdown",
   "id": "079c1d7c-b88f-4163-8567-a7ea6b881537",
   "metadata": {},
   "source": [
    "## 집합 특수기능\n",
    "\n",
    "`-` 합집합"
   ]
  },
  {
   "cell_type": "code",
   "execution_count": 35,
   "id": "0f3fa968-a02a-43bf-b182-5d5f2f536337",
   "metadata": {},
   "outputs": [],
   "source": [
    "day1 = {'notebook', 'desktop'}\n",
    "day2 = {'notebook','ipad'}"
   ]
  },
  {
   "cell_type": "code",
   "execution_count": 36,
   "id": "713fe8d0-ff08-4e4e-9cf2-4503b13c40aa",
   "metadata": {},
   "outputs": [
    {
     "data": {
      "text/plain": [
       "{'desktop', 'ipad', 'notebook'}"
      ]
     },
     "execution_count": 36,
     "metadata": {},
     "output_type": "execute_result"
    }
   ],
   "source": [
    "day1.union(day2)"
   ]
  },
  {
   "cell_type": "markdown",
   "id": "4b0b39d0-19ff-476a-b870-91392f7e862c",
   "metadata": {},
   "source": [
    "`-` 나머지 메소드는 스스로 찾아보세요\n",
    "\n",
    "## for문과 set"
   ]
  },
  {
   "cell_type": "code",
   "execution_count": 39,
   "id": "ca05ef59-830e-4c02-96b6-c3dcb951c046",
   "metadata": {},
   "outputs": [],
   "source": [
    "day1 = {'notebook', 'desktop'}\n",
    "day2 = {'notebook', 'ipad'}"
   ]
  },
  {
   "cell_type": "code",
   "execution_count": 40,
   "id": "6fb4466a-33c3-46bb-9766-dfd3de6e7246",
   "metadata": {},
   "outputs": [
    {
     "name": "stdout",
     "output_type": "stream",
     "text": [
      "notebook\n",
      "ipad\n",
      "desktop\n"
     ]
    }
   ],
   "source": [
    "for i in day1|day2:\n",
    "    print(i)"
   ]
  },
  {
   "cell_type": "code",
   "execution_count": 41,
   "id": "6d489f41-16d8-426f-badd-d235ec1d057a",
   "metadata": {},
   "outputs": [
    {
     "name": "stdout",
     "output_type": "stream",
     "text": [
      "notebook\n",
      "ipad\n",
      "desktop\n"
     ]
    }
   ],
   "source": [
    "for i in day1|day2: \n",
    "    print(i)"
   ]
  },
  {
   "cell_type": "markdown",
   "id": "f4c89023-e4fd-4b00-9958-a76c4fd4d6e9",
   "metadata": {},
   "source": [
    "# 집합 고급내용\n",
    "\n",
    "## set 컴프리헨션\n",
    "\n",
    "`-` 예시1"
   ]
  },
  {
   "cell_type": "code",
   "execution_count": 142,
   "id": "c799364a-dc24-40ca-b98c-19b7beb86b8f",
   "metadata": {},
   "outputs": [
    {
     "data": {
      "text/plain": [
       "{1, 2, 3, 4, 5}"
      ]
     },
     "execution_count": 142,
     "metadata": {},
     "output_type": "execute_result"
    }
   ],
   "source": [
    "lst = [1,2,1,1,3,4,5]\n",
    "{l for l in lst}"
   ]
  },
  {
   "cell_type": "markdown",
   "id": "849ca42f-19bb-415f-a065-1ba2b878aa02",
   "metadata": {},
   "source": [
    "## 유니크한 원소"
   ]
  },
  {
   "cell_type": "markdown",
   "id": "6b6fe2fa-6e35-4ec8-8291-190447937be0",
   "metadata": {},
   "source": [
    "::: {.callout-tip}\n",
    "\n",
    "중복되는 원소가 사라진다는 것이 집합의 장점!\n",
    ":::"
   ]
  },
  {
   "cell_type": "markdown",
   "id": "cf42c90d-fb6d-4448-ae14-468421a63a0f",
   "metadata": {},
   "source": [
    "`-` 예제1: 아래의 list는 모두 몇 종류의 문자로 이루어져 있는가?"
   ]
  },
  {
   "cell_type": "code",
   "execution_count": 160,
   "id": "5dd99ede-b627-416b-aa0d-08e439048478",
   "metadata": {},
   "outputs": [],
   "source": [
    "lst=list('asdfasssdfdsasdfasdfasdfasdf')"
   ]
  },
  {
   "cell_type": "code",
   "execution_count": 161,
   "id": "5400ae6a-0c18-482d-b84f-7a6335cfd019",
   "metadata": {},
   "outputs": [
    {
     "data": {
      "text/plain": [
       "{'a', 'd', 'f', 's'}"
      ]
     },
     "execution_count": 161,
     "metadata": {},
     "output_type": "execute_result"
    }
   ],
   "source": [
    "{s for s in lst}"
   ]
  },
  {
   "cell_type": "markdown",
   "id": "78cc6128-0793-4d49-a782-ba08aa4a02a5",
   "metadata": {},
   "source": [
    "***참고*** : `.count`"
   ]
  },
  {
   "cell_type": "code",
   "execution_count": 162,
   "id": "3963a5c0-6aab-4a8c-9303-f872093d57ef",
   "metadata": {},
   "outputs": [
    {
     "data": {
      "text/plain": [
       "6"
      ]
     },
     "execution_count": 162,
     "metadata": {},
     "output_type": "execute_result"
    }
   ],
   "source": [
    "lst.count('a') # 'a'가 몇개있냐?"
   ]
  },
  {
   "cell_type": "code",
   "execution_count": 167,
   "id": "2d1d9d20-e34e-40a6-b222-2edd17328b54",
   "metadata": {},
   "outputs": [
    {
     "data": {
      "text/plain": [
       "9"
      ]
     },
     "execution_count": 167,
     "metadata": {},
     "output_type": "execute_result"
    }
   ],
   "source": [
    "lst.count('s') # 's'가 몇개?"
   ]
  },
  {
   "cell_type": "code",
   "execution_count": 168,
   "id": "b175945c-3ef4-482f-801e-3a5670f9cecd",
   "metadata": {},
   "outputs": [
    {
     "data": {
      "text/plain": [
       "6"
      ]
     },
     "execution_count": 168,
     "metadata": {},
     "output_type": "execute_result"
    }
   ],
   "source": [
    "lst.count('f') # 'f'는 몇개?"
   ]
  },
  {
   "cell_type": "code",
   "execution_count": 169,
   "id": "03aba5b0-259e-4605-a401-d0676ff52bfe",
   "metadata": {},
   "outputs": [
    {
     "data": {
      "text/plain": [
       "{'a': 6, 's': 9, 'f': 6}"
      ]
     },
     "execution_count": 169,
     "metadata": {},
     "output_type": "execute_result"
    }
   ],
   "source": [
    "{'a':lst.count('a'), 's':lst.count('s'), 'f':lst.count('f')}"
   ]
  },
  {
   "cell_type": "markdown",
   "id": "49e7b367-9d9e-4d73-bc73-934ce86c10b5",
   "metadata": {},
   "source": [
    "(풀이)"
   ]
  },
  {
   "cell_type": "code",
   "execution_count": 170,
   "id": "9da29aba-1a20-41e1-8d50-050ed31a5340",
   "metadata": {},
   "outputs": [
    {
     "data": {
      "text/plain": [
       "{'a', 'd', 'f', 's'}"
      ]
     },
     "execution_count": 170,
     "metadata": {},
     "output_type": "execute_result"
    }
   ],
   "source": [
    "set(lst) "
   ]
  },
  {
   "cell_type": "code",
   "execution_count": 171,
   "id": "52e3b989-8556-4c58-aab8-cbfbd740d08a",
   "metadata": {},
   "outputs": [
    {
     "data": {
      "text/plain": [
       "4"
      ]
     },
     "execution_count": 171,
     "metadata": {},
     "output_type": "execute_result"
    }
   ],
   "source": [
    "len(set(lst))"
   ]
  },
  {
   "cell_type": "code",
   "execution_count": 174,
   "id": "e93265f0-38b3-41e3-9206-8c5cbdfc0f3d",
   "metadata": {},
   "outputs": [
    {
     "data": {
      "text/plain": [
       "{'f': 6, 's': 9, 'a': 6, 'd': 7}"
      ]
     },
     "execution_count": 174,
     "metadata": {},
     "output_type": "execute_result"
    }
   ],
   "source": [
    "{k:lst.count(k) for k in set(lst)}  # {'a':lst.count('a'), 's':lst.count('s'), 'f':lst.count('f')}와 동일."
   ]
  },
  {
   "cell_type": "markdown",
   "id": "5f2a842d-734b-425d-817d-65d7824d6100",
   "metadata": {},
   "source": [
    "`-` 예제2: 아래의 txt에서 어떠한 종류의 문자가 각각 몇번씩 사용되었는지\n",
    "빈도를 구하는 코드를 작성하라."
   ]
  },
  {
   "cell_type": "code",
   "execution_count": 157,
   "id": "8a05a2cd-48dc-4b0a-a4d6-6becb8b29ad7",
   "metadata": {},
   "outputs": [
    {
     "data": {
      "text/plain": [
       "'asdkflkjahsdlkjfhlaksglkjdhflkgjhlskdfjhglkajhsdlkfjhalsdkf'"
      ]
     },
     "execution_count": 157,
     "metadata": {},
     "output_type": "execute_result"
    }
   ],
   "source": [
    "txt = 'asdkflkjahsdlkjfhlaksglkjdhflkgjhlskdfjhglkajhsdlkfjhalsdkf'\n",
    "txt"
   ]
  },
  {
   "cell_type": "code",
   "execution_count": 158,
   "id": "c52b62da-a752-4dc6-a419-cd729e577673",
   "metadata": {},
   "outputs": [
    {
     "data": {
      "text/plain": [
       "{'a', 'd', 'f', 'g', 'h', 'j', 'k', 'l', 's'}"
      ]
     },
     "execution_count": 158,
     "metadata": {},
     "output_type": "execute_result"
    }
   ],
   "source": [
    "{t for t in txt}"
   ]
  },
  {
   "cell_type": "code",
   "execution_count": 175,
   "id": "6952868f-1e6f-440e-b266-89d9862bd772",
   "metadata": {},
   "outputs": [
    {
     "data": {
      "text/plain": [
       "{'k': 10, 'g': 3, 'a': 5, 'l': 9, 'j': 7, 'h': 7, 'f': 6, 's': 6, 'd': 6}"
      ]
     },
     "execution_count": 175,
     "metadata": {},
     "output_type": "execute_result"
    }
   ],
   "source": [
    "{k:list(txt).count(k) for k in set(txt)}"
   ]
  },
  {
   "cell_type": "markdown",
   "id": "22691fe4-7657-44d1-8163-260d2144e841",
   "metadata": {},
   "source": [
    "(풀이)"
   ]
  },
  {
   "cell_type": "code",
   "execution_count": 176,
   "id": "39aadec2-290c-463a-9ca4-61bec56a702c",
   "metadata": {},
   "outputs": [
    {
     "data": {
      "text/plain": [
       "{'k': 10, 'g': 3, 'a': 5, 'l': 9, 'j': 7, 'h': 7, 'f': 6, 's': 6, 'd': 6}"
      ]
     },
     "execution_count": 176,
     "metadata": {},
     "output_type": "execute_result"
    }
   ],
   "source": [
    "{k:list(txt).count(k) for k in set(txt)}"
   ]
  },
  {
   "cell_type": "markdown",
   "id": "67873f6d-4432-4c64-999f-c64ad67ae910",
   "metadata": {},
   "source": [
    "# HW\n",
    "\n",
    "`Oxford-III`: 1–5 //\n",
    "[reference](https://www.robots.ox.ac.uk/~vgg/data/pets/)\n",
    "\n",
    "아래는 이미지 파일명들이 저장된 string을 불러오는 코드이다."
   ]
  },
  {
   "cell_type": "code",
   "execution_count": 178,
   "id": "66e04af4-d058-405b-b17f-8de50663e5fc",
   "metadata": {},
   "outputs": [],
   "source": [
    "import requests\n",
    "url = 'https://raw.githubusercontent.com/guebin/PP2023/main/posts/01_PythonBasic/Oxford-IIIT.txt'\n",
    "txt = requests.get(url).content.decode()"
   ]
  },
  {
   "cell_type": "markdown",
   "id": "f3e1baba-2399-454b-bde2-509658f8fb1e",
   "metadata": {},
   "source": [
    "이미지파일이 저장된 형식은 아래와 같다.\n",
    "\n",
    "    Abyssinian_1.jpg\n",
    "    British_Shorthair_129.jpg\n",
    "\n",
    "**note**: `British_Shorthair`와 같이 종 이름 사이에 `_`가 들어있는\n",
    "경우도 있음.\n",
    "\n",
    "`1`. txt를 적당히 변환하여 아래와 같은 list를 만들어라."
   ]
  },
  {
   "cell_type": "code",
   "execution_count": 201,
   "id": "8d37c4a8-46a4-4680-9844-edeadbc7d7e4",
   "metadata": {},
   "outputs": [
    {
     "data": {
      "text/plain": [
       "(['Abyssinian',\n",
       "  'Abyssinian',\n",
       "  'Abyssinian',\n",
       "  'Abyssinian',\n",
       "  'Abyssinian',\n",
       "  'Abyssinian',\n",
       "  'Abyssinian',\n",
       "  'Abyssinian',\n",
       "  'Abyssinian',\n",
       "  'Abyssinian'],\n",
       " ['BritishShorthair',\n",
       "  'BritishShorthair',\n",
       "  'BritishShorthair',\n",
       "  'BritishShorthair',\n",
       "  'BritishShorthair',\n",
       "  'BritishShorthair',\n",
       "  'BritishShorthair',\n",
       "  'BritishShorthair',\n",
       "  'BritishShorthair',\n",
       "  'BritishShorthair'])"
      ]
     },
     "execution_count": 201,
     "metadata": {},
     "output_type": "execute_result"
    }
   ],
   "source": [
    "lst[:10],lst[810:820]"
   ]
  },
  {
   "cell_type": "markdown",
   "id": "4cd912bf-7179-4ac7-905b-9462b7f9971c",
   "metadata": {},
   "source": [
    "**hint1**"
   ]
  },
  {
   "cell_type": "code",
   "execution_count": 183,
   "id": "01c04340-a536-457b-a24b-0acc797669df",
   "metadata": {},
   "outputs": [
    {
     "data": {
      "text/plain": [
       "['Abyssinian_1.jpg', 'Abyssinian_10.jpg']"
      ]
     },
     "execution_count": 183,
     "metadata": {},
     "output_type": "execute_result"
    }
   ],
   "source": [
    "'Abyssinian_1.jpg\\nAbyssinian_10.jpg'.split('\\n')"
   ]
  },
  {
   "cell_type": "markdown",
   "id": "b828fd73-158f-4a2e-a8d0-14b592a01ed5",
   "metadata": {},
   "source": [
    "**hint2**"
   ]
  },
  {
   "cell_type": "code",
   "execution_count": 184,
   "id": "dae41923-0fa1-44c3-a9d2-cd05437202f0",
   "metadata": {},
   "outputs": [
    {
     "data": {
      "text/plain": [
       "'BritishShorthair'"
      ]
     },
     "execution_count": 184,
     "metadata": {},
     "output_type": "execute_result"
    }
   ],
   "source": [
    "''.join(['British', 'Shorthair'])"
   ]
  },
  {
   "cell_type": "code",
   "execution_count": 185,
   "id": "85a28842-e2a2-469c-8cb9-a89a56725ee5",
   "metadata": {},
   "outputs": [
    {
     "data": {
      "text/plain": [
       "'Abyssinian'"
      ]
     },
     "execution_count": 185,
     "metadata": {},
     "output_type": "execute_result"
    }
   ],
   "source": [
    "''.join(['Abyssinian'])"
   ]
  },
  {
   "cell_type": "markdown",
   "id": "9680ad91-5303-48e8-98b6-c1a5197e5714",
   "metadata": {},
   "source": [
    "(풀이1)"
   ]
  },
  {
   "cell_type": "code",
   "execution_count": 252,
   "id": "2789b345-31fc-4806-99c9-7263ff8ee5b5",
   "metadata": {},
   "outputs": [
    {
     "data": {
      "text/plain": [
       "37"
      ]
     },
     "execution_count": 252,
     "metadata": {},
     "output_type": "execute_result"
    }
   ],
   "source": [
    "lst = [''.join(filename.split('_')[:-1]) for filename in txt.split('\\n')]\n",
    "len(set(lst))"
   ]
  },
  {
   "cell_type": "markdown",
   "id": "b67f23d9-99bc-4a96-a29a-fa35e91bb2bf",
   "metadata": {},
   "source": [
    "(풀이2)"
   ]
  },
  {
   "cell_type": "code",
   "execution_count": 257,
   "id": "60bb5253-c71b-40eb-b704-44e2f053f8db",
   "metadata": {},
   "outputs": [],
   "source": [
    "def f(filename): \n",
    "    *name, _ = filename.split('_')\n",
    "    return ''.join(name)\n",
    "lst = [f(filename) for filename in txt.split('\\n')]"
   ]
  },
  {
   "cell_type": "markdown",
   "id": "a5cc0e76-4d52-4f80-8e5e-9b4c076b3c20",
   "metadata": {},
   "source": [
    "(확인)"
   ]
  },
  {
   "cell_type": "code",
   "execution_count": 258,
   "id": "5484a0ad-3381-4ba8-87fb-8136154faa93",
   "metadata": {},
   "outputs": [
    {
     "data": {
      "text/plain": [
       "(['Abyssinian',\n",
       "  'Abyssinian',\n",
       "  'Abyssinian',\n",
       "  'Abyssinian',\n",
       "  'Abyssinian',\n",
       "  'Abyssinian',\n",
       "  'Abyssinian',\n",
       "  'Abyssinian',\n",
       "  'Abyssinian',\n",
       "  'Abyssinian'],\n",
       " ['BritishShorthair',\n",
       "  'BritishShorthair',\n",
       "  'BritishShorthair',\n",
       "  'BritishShorthair',\n",
       "  'BritishShorthair',\n",
       "  'BritishShorthair',\n",
       "  'BritishShorthair',\n",
       "  'BritishShorthair',\n",
       "  'BritishShorthair',\n",
       "  'BritishShorthair'])"
      ]
     },
     "execution_count": 258,
     "metadata": {},
     "output_type": "execute_result"
    }
   ],
   "source": [
    "lst[:10],lst[810:820]"
   ]
  },
  {
   "cell_type": "markdown",
   "id": "67cdafdf-f1e5-4800-9721-94b9733b7d4d",
   "metadata": {},
   "source": [
    "`2`. 그림파일에는 총 몇가지 종류의 고양이와, 몇가지 종류의 강아지가\n",
    "있는가?\n",
    "\n",
    "**note:** 고양이사진은 대문자로 시작하고, 강아지 사진은 소문자로\n",
    "시작한다.\n",
    "\n",
    "**note**: 12종의 고양이, 25종의 강아지가 있음"
   ]
  },
  {
   "cell_type": "code",
   "execution_count": 267,
   "id": "92c4eba2-a29b-4056-88ce-3c0cb4e54233",
   "metadata": {},
   "outputs": [],
   "source": [
    "lst = [''.join(fname.split('_')[:-1]) for fname in txt.split('\\n')]"
   ]
  },
  {
   "cell_type": "code",
   "execution_count": 270,
   "id": "e34098e2-7741-4599-8385-25abbedac193",
   "metadata": {},
   "outputs": [
    {
     "data": {
      "text/plain": [
       "12"
      ]
     },
     "execution_count": 270,
     "metadata": {},
     "output_type": "execute_result"
    }
   ],
   "source": [
    "sum([l[0].isupper() for l in set(lst)]) # 고양이 12 "
   ]
  },
  {
   "cell_type": "code",
   "execution_count": 272,
   "id": "f8fbca00-9f18-403c-82b9-b9cf6163edb3",
   "metadata": {},
   "outputs": [
    {
     "data": {
      "text/plain": [
       "25"
      ]
     },
     "execution_count": 272,
     "metadata": {},
     "output_type": "execute_result"
    }
   ],
   "source": [
    "sum([l[0].islower() for l in set(lst)]) # 강아지 25"
   ]
  },
  {
   "cell_type": "markdown",
   "id": "c0818e8d-18cd-497a-9170-3060e44fa3c8",
   "metadata": {},
   "source": [
    "(풀이)"
   ]
  },
  {
   "cell_type": "code",
   "execution_count": 273,
   "id": "64092cf5-c207-4400-971d-2ab8faab8f9c",
   "metadata": {},
   "outputs": [
    {
     "data": {
      "text/plain": [
       "12"
      ]
     },
     "execution_count": 273,
     "metadata": {},
     "output_type": "execute_result"
    }
   ],
   "source": [
    "[s[0].isupper() for s in set(lst)].count(True) # 고양이 12"
   ]
  },
  {
   "cell_type": "code",
   "execution_count": 274,
   "id": "a1e9d54d-e901-457d-90ce-7b4987258d5e",
   "metadata": {},
   "outputs": [
    {
     "data": {
      "text/plain": [
       "25"
      ]
     },
     "execution_count": 274,
     "metadata": {},
     "output_type": "execute_result"
    }
   ],
   "source": [
    "[s[0].isupper() for s in set(lst)].count(False) # 강아지 25 "
   ]
  },
  {
   "cell_type": "markdown",
   "id": "57fdc3fc-a66f-4a77-8724-cbe4d37278b3",
   "metadata": {},
   "source": [
    "`3`. 아래는 1번의 결과로 얻어진 lst의 첫 10개의 원소와 마지막 10개의\n",
    "원소이다."
   ]
  },
  {
   "cell_type": "code",
   "execution_count": 287,
   "id": "ab9820fa-5f0a-4064-a450-265957eac306",
   "metadata": {},
   "outputs": [
    {
     "data": {
      "text/plain": [
       "(['Abyssinian',\n",
       "  'Abyssinian',\n",
       "  'Abyssinian',\n",
       "  'Abyssinian',\n",
       "  'Abyssinian',\n",
       "  'Abyssinian',\n",
       "  'Abyssinian',\n",
       "  'Abyssinian',\n",
       "  'Abyssinian',\n",
       "  'Abyssinian'],\n",
       " ['yorkshireterrier',\n",
       "  'yorkshireterrier',\n",
       "  'yorkshireterrier',\n",
       "  'yorkshireterrier',\n",
       "  'yorkshireterrier',\n",
       "  'yorkshireterrier',\n",
       "  'yorkshireterrier',\n",
       "  'yorkshireterrier',\n",
       "  'yorkshireterrier',\n",
       "  'yorkshireterrier'])"
      ]
     },
     "execution_count": 287,
     "metadata": {},
     "output_type": "execute_result"
    }
   ],
   "source": [
    "lst[:10], lst[-10:]"
   ]
  },
  {
   "cell_type": "markdown",
   "id": "c84b4da1-66f1-447d-a1da-10b6d1f398f9",
   "metadata": {},
   "source": [
    "적당한 변환을 정의하여 lst를 아래와 같이 바꾸어라."
   ]
  },
  {
   "cell_type": "markdown",
   "id": "2d84cf84-5300-40e4-8c5b-ac71ce7aaca3",
   "metadata": {},
   "source": [
    "```python\n",
    "lst2[:10], lst2[-10:] # 바뀐 lst\n",
    "\n",
    "(['cat', 'cat', 'cat', 'cat', 'cat', 'cat', 'cat', 'cat', 'cat', 'cat'],\n",
    " ['dog', 'dog', 'dog', 'dog', 'dog', 'dog', 'dog', 'dog', 'dog', 'dog'])\n",
    "```"
   ]
  },
  {
   "cell_type": "code",
   "execution_count": 290,
   "id": "b2bd81bb-95a6-4376-ac9f-6c341ebc6802",
   "metadata": {},
   "outputs": [
    {
     "data": {
      "text/plain": [
       "(['cat', 'cat', 'cat', 'cat', 'cat', 'cat', 'cat', 'cat', 'cat', 'cat'],\n",
       " ['dog', 'dog', 'dog', 'dog', 'dog', 'dog', 'dog', 'dog', 'dog', 'dog'])"
      ]
     },
     "execution_count": 290,
     "metadata": {},
     "output_type": "execute_result"
    }
   ],
   "source": [
    "dct_ = {'cat':[s for s in set(lst) if s[0].isupper()], 'dog': [s for s in set(lst) if s[0].islower()]}\n",
    "lst2 = [k for l in lst for k,v in dct_.items() if l in v]\n",
    "lst2[:10], lst2[-10:]"
   ]
  },
  {
   "cell_type": "markdown",
   "id": "17aa5d4f-8863-4e81-9b67-01bcc4bcf0c7",
   "metadata": {},
   "source": [
    "(풀이1)"
   ]
  },
  {
   "cell_type": "code",
   "execution_count": 291,
   "id": "5331f7c6-2980-4245-a4ec-933198bea556",
   "metadata": {},
   "outputs": [],
   "source": [
    "dct = {'cat':[s for s in set(lst) if s[0].isupper()], 'dog': [s for s in set(lst) if not s[0].isupper()]}\n",
    "lst2 = [k for l in lst for k,v in dct.items() if l in v]"
   ]
  },
  {
   "cell_type": "markdown",
   "id": "0956263e-e6e0-4b50-951d-8bc00b24e868",
   "metadata": {},
   "source": [
    "(풀이2)"
   ]
  },
  {
   "cell_type": "code",
   "execution_count": 292,
   "id": "938dd910-a11c-430a-9428-009c3e6da340",
   "metadata": {},
   "outputs": [],
   "source": [
    "def f(fname): \n",
    "    return 'cat' if fname[0].isupper() else 'dog'\n",
    "lst2= [f(fname) for fname in lst]"
   ]
  },
  {
   "cell_type": "code",
   "execution_count": 293,
   "id": "33b5683c-b437-4357-801a-53947f9cfac1",
   "metadata": {},
   "outputs": [
    {
     "data": {
      "text/plain": [
       "(['cat', 'cat', 'cat', 'cat', 'cat', 'cat', 'cat', 'cat', 'cat', 'cat'],\n",
       " ['dog', 'dog', 'dog', 'dog', 'dog', 'dog', 'dog', 'dog', 'dog', 'dog'])"
      ]
     },
     "execution_count": 293,
     "metadata": {},
     "output_type": "execute_result"
    }
   ],
   "source": [
    "lst2[:10], lst2[-10:]"
   ]
  },
  {
   "cell_type": "markdown",
   "id": "37736456-706b-484c-ac32-5f2c17289b1e",
   "metadata": {},
   "source": [
    "`4`. txt에는 강아지사진과 고양이사진이 모두 몇장씩 들어있는가?\n",
    "\n",
    "```\n",
    "# 출력예시\n",
    "{'dog': 4990, 'cat': 2403}\n",
    "```"
   ]
  },
  {
   "cell_type": "code",
   "execution_count": 330,
   "id": "6ebbea1a-344c-46a4-9baf-5f1cd2f3c7ab",
   "metadata": {},
   "outputs": [
    {
     "data": {
      "text/plain": [
       "(['cat', 'cat', 'cat', 'cat', 'cat', 'cat', 'cat', 'cat', 'cat', 'cat'],\n",
       " ['dog', 'dog', 'dog', 'dog', 'dog', 'dog', 'dog', 'dog', 'dog', 'dog'])"
      ]
     },
     "execution_count": 330,
     "metadata": {},
     "output_type": "execute_result"
    }
   ],
   "source": [
    "lst = [''.join(fname.split('_')[:-1]) for fname in txt.split('\\n')]\n",
    "dct = {'cat':[s for s in set(lst) if s[0].isupper()] , 'dog':[s for s in set(lst) if not s[0].isupper()]}\n",
    "lst2 = [k for l in lst for k,v in dct.items() if l in v]\n",
    "lst2[:10], lst2[-10:]"
   ]
  },
  {
   "cell_type": "code",
   "execution_count": 322,
   "id": "bfa9df67-7c99-42f2-bb4d-7283915e7015",
   "metadata": {},
   "outputs": [
    {
     "data": {
      "text/plain": [
       "{'cat': 2403, 'dog': 4990}"
      ]
     },
     "execution_count": 322,
     "metadata": {},
     "output_type": "execute_result"
    }
   ],
   "source": [
    "{k:lst2.count(k) for k in set(lst2)}"
   ]
  },
  {
   "cell_type": "markdown",
   "id": "0c6a08b8-dee6-48a1-b448-a8c9f3b88ecf",
   "metadata": {},
   "source": [
    "(풀이)"
   ]
  },
  {
   "cell_type": "code",
   "execution_count": 114,
   "id": "b7bdd388-68b8-4394-bc56-99554bd8afdb",
   "metadata": {},
   "outputs": [],
   "source": [
    "{k:lst2.count(k) for k in ['dog','cat']}"
   ]
  },
  {
   "cell_type": "markdown",
   "id": "dcd898fa-23d9-454a-b251-e4b41c90898d",
   "metadata": {},
   "source": [
    "`5`. txt에 각 종별로 몇장의 사진이 있는지 조사하라."
   ]
  },
  {
   "cell_type": "markdown",
   "id": "0f52d6b6-8e1f-43fb-b7b5-4b356087916c",
   "metadata": {},
   "source": [
    "```\n",
    "## 출력예시 \n",
    "\n",
    "{'beagle': 200,\n",
    " 'scottishterrier': 199,\n",
    " 'newfoundland': 200,\n",
    " 'Birman': 200,\n",
    " 'Bombay': 200,\n",
    " 'pug': 200,\n",
    " 'germanshorthaired': 200,\n",
    " 'samoyed': 200,\n",
    " 'Sphynx': 200,\n",
    " 'englishsetter': 200,\n",
    " 'Bengal': 200,\n",
    " 'MaineCoon': 200,\n",
    " 'Persian': 200,\n",
    " 'boxer': 200,\n",
    " 'staffordshirebullterrier': 191,\n",
    " 'Siamese': 200,\n",
    " 'bassethound': 200,\n",
    " 'wheatenterrier': 200,\n",
    " 'englishcockerspaniel': 200,\n",
    " 'Ragdoll': 200,\n",
    " 'yorkshireterrier': 200,\n",
    " 'EgyptianMau': 200,\n",
    " 'BritishShorthair': 200,\n",
    " 'keeshond': 200,\n",
    " 'RussianBlue': 200,\n",
    " 'saintbernard': 200,\n",
    " 'americanbulldog': 200,\n",
    " 'Abyssinian': 203,\n",
    " 'leonberger': 200,\n",
    " 'greatpyrenees': 200,\n",
    " 'japanesechin': 200,\n",
    " 'pomeranian': 200,\n",
    " 'chihuahua': 200,\n",
    " 'shibainu': 200,\n",
    " 'americanpitbullterrier': 200,\n",
    " 'miniaturepinscher': 200,\n",
    " 'havanese': 200}\n",
    "```"
   ]
  },
  {
   "cell_type": "code",
   "execution_count": 331,
   "id": "50bdfb18-fcd5-4039-bc68-55e195cf031c",
   "metadata": {},
   "outputs": [
    {
     "data": {
      "text/plain": [
       "{'Siamese': 200,\n",
       " 'wheatenterrier': 200,\n",
       " 'BritishShorthair': 200,\n",
       " 'pug': 200,\n",
       " 'yorkshireterrier': 200,\n",
       " 'englishsetter': 200,\n",
       " 'chihuahua': 200,\n",
       " 'beagle': 200,\n",
       " 'Ragdoll': 200,\n",
       " 'Birman': 200,\n",
       " 'Bengal': 200,\n",
       " 'EgyptianMau': 200,\n",
       " 'japanesechin': 200,\n",
       " 'shibainu': 200,\n",
       " 'newfoundland': 200,\n",
       " 'havanese': 200,\n",
       " 'americanbulldog': 200,\n",
       " 'Persian': 200,\n",
       " 'englishcockerspaniel': 200,\n",
       " 'RussianBlue': 200,\n",
       " 'greatpyrenees': 200,\n",
       " 'staffordshirebullterrier': 191,\n",
       " 'Abyssinian': 203,\n",
       " 'pomeranian': 200,\n",
       " 'leonberger': 200,\n",
       " 'miniaturepinscher': 200,\n",
       " 'samoyed': 200,\n",
       " 'germanshorthaired': 200,\n",
       " 'Bombay': 200,\n",
       " 'Sphynx': 200,\n",
       " 'americanpitbullterrier': 200,\n",
       " 'MaineCoon': 200,\n",
       " 'saintbernard': 200,\n",
       " 'keeshond': 200,\n",
       " 'bassethound': 200,\n",
       " 'boxer': 200,\n",
       " 'scottishterrier': 199}"
      ]
     },
     "execution_count": 331,
     "metadata": {},
     "output_type": "execute_result"
    }
   ],
   "source": [
    "{k:lst.count(k) for k in set(lst)}"
   ]
  },
  {
   "cell_type": "markdown",
   "id": "84664499-bb65-49ab-9a91-2a88335a3bc0",
   "metadata": {},
   "source": [
    "(풀이)"
   ]
  },
  {
   "cell_type": "code",
   "execution_count": 332,
   "id": "124c1bac-7635-471f-93ee-0071acf6a3ac",
   "metadata": {},
   "outputs": [
    {
     "data": {
      "text/plain": [
       "{'Siamese': 200,\n",
       " 'wheatenterrier': 200,\n",
       " 'BritishShorthair': 200,\n",
       " 'pug': 200,\n",
       " 'yorkshireterrier': 200,\n",
       " 'englishsetter': 200,\n",
       " 'chihuahua': 200,\n",
       " 'beagle': 200,\n",
       " 'Ragdoll': 200,\n",
       " 'Birman': 200,\n",
       " 'Bengal': 200,\n",
       " 'EgyptianMau': 200,\n",
       " 'japanesechin': 200,\n",
       " 'shibainu': 200,\n",
       " 'newfoundland': 200,\n",
       " 'havanese': 200,\n",
       " 'americanbulldog': 200,\n",
       " 'Persian': 200,\n",
       " 'englishcockerspaniel': 200,\n",
       " 'RussianBlue': 200,\n",
       " 'greatpyrenees': 200,\n",
       " 'staffordshirebullterrier': 191,\n",
       " 'Abyssinian': 203,\n",
       " 'pomeranian': 200,\n",
       " 'leonberger': 200,\n",
       " 'miniaturepinscher': 200,\n",
       " 'samoyed': 200,\n",
       " 'germanshorthaired': 200,\n",
       " 'Bombay': 200,\n",
       " 'Sphynx': 200,\n",
       " 'americanpitbullterrier': 200,\n",
       " 'MaineCoon': 200,\n",
       " 'saintbernard': 200,\n",
       " 'keeshond': 200,\n",
       " 'bassethound': 200,\n",
       " 'boxer': 200,\n",
       " 'scottishterrier': 199}"
      ]
     },
     "execution_count": 332,
     "metadata": {},
     "output_type": "execute_result"
    }
   ],
   "source": [
    "{k:lst.count(k) for k in set(lst)}"
   ]
  },
  {
   "cell_type": "code",
   "execution_count": null,
   "id": "90ebf628-20c9-432f-817a-46e2b266601d",
   "metadata": {},
   "outputs": [],
   "source": []
  }
 ],
 "metadata": {
  "kernelspec": {
   "display_name": "Python 3",
   "language": "python",
   "name": "python3"
  },
  "language_info": {
   "codemirror_mode": {
    "name": "ipython",
    "version": 3
   },
   "file_extension": ".py",
   "mimetype": "text/x-python",
   "name": "python",
   "nbconvert_exporter": "python",
   "pygments_lexer": "ipython3",
   "version": "3.8.16"
  }
 },
 "nbformat": 4,
 "nbformat_minor": 5
}
