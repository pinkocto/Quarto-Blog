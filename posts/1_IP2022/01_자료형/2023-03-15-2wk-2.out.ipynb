{
 "cells": [
  {
   "cell_type": "markdown",
   "id": "1c4f5c96-2e26-48b7-8ca1-f48a6961367b",
   "metadata": {},
   "source": [
    "# 02wk-2: 파이썬의 자료형 (3) -- O\n",
    "\n",
    "최규빈  \n",
    "2023-03-15\n",
    "\n",
    "<a href=\"https://colab.research.google.com/github/guebin/PP2023/blob/main/posts/01_PythonBasic/2023-03-15-2wk-2.ipynb\"><img src=\"https://colab.research.google.com/assets/colab-badge.svg\" style=\"text-align: left\"></a>\n",
    "\n",
    "# 강의영상\n",
    "\n",
    "> <https://youtube.com/playlist?list=PLQqh36zP38-yYY4_T4ZDcUeMLxFJma2B3>\n",
    "\n",
    "# list 기본내용\n",
    "\n",
    "## 선언\n",
    "\n",
    "`-` 리스트의 선언"
   ]
  },
  {
   "cell_type": "code",
   "execution_count": 2,
   "id": "c68e3bd1-77ce-4aa1-a066-6f5cf661f871",
   "metadata": {},
   "outputs": [],
   "source": [
    "a= [1,2,3,22] "
   ]
  },
  {
   "cell_type": "markdown",
   "id": "ab8af47c-c138-4173-a26e-32d6ab328649",
   "metadata": {},
   "source": [
    "`-` 비어있는 리스트의 선언"
   ]
  },
  {
   "cell_type": "code",
   "execution_count": 3,
   "id": "c7eff869-ed60-4922-97f9-6d69b8d123de",
   "metadata": {},
   "outputs": [
    {
     "data": {
      "text/plain": [
       "[]"
      ]
     },
     "execution_count": 3,
     "metadata": {},
     "output_type": "execute_result"
    }
   ],
   "source": [
    "a= []\n",
    "a"
   ]
  },
  {
   "cell_type": "code",
   "execution_count": 4,
   "id": "8142f0ed-9dc6-4342-b679-b0147005d266",
   "metadata": {},
   "outputs": [
    {
     "data": {
      "text/plain": [
       "[]"
      ]
     },
     "execution_count": 4,
     "metadata": {},
     "output_type": "execute_result"
    }
   ],
   "source": [
    "a= list()\n",
    "a"
   ]
  },
  {
   "cell_type": "markdown",
   "id": "b8b8c649-1aaf-470d-9920-3ca2e35d82e1",
   "metadata": {},
   "source": [
    "## 연산\n",
    "\n",
    "`-` 더하기연산"
   ]
  },
  {
   "cell_type": "code",
   "execution_count": 5,
   "id": "85dff1ed-accb-4674-a770-fdf10d385059",
   "metadata": {},
   "outputs": [
    {
     "data": {
      "text/plain": [
       "[1, 2, -3, 4, 5]"
      ]
     },
     "execution_count": 5,
     "metadata": {},
     "output_type": "execute_result"
    }
   ],
   "source": [
    "[1,2]+[-3,4,5]"
   ]
  },
  {
   "cell_type": "markdown",
   "id": "5ec1750f-a457-4f8f-ae9a-a1556297c824",
   "metadata": {},
   "source": [
    "-   우리의 예상과 다른 결과가 나옴 $\\to$ 파이썬은 R처럼 자체적으로 좋은\n",
    "    계산기능을 내장하고 있지 않음.\n",
    "\n",
    "`-` 브로드캐스팅과 같이 R에서는 당연히 가능했던 기능을 사용할 수 없음."
   ]
  },
  {
   "cell_type": "code",
   "execution_count": 6,
   "id": "e41a662c-eec0-4838-92d4-96ff272702f8",
   "metadata": {},
   "outputs": [
    {
     "ename": "TypeError",
     "evalue": "can only concatenate list (not \"int\") to list",
     "output_type": "error",
     "traceback": [
      "\u001b[0;31m---------------------------------------------------------------------------\u001b[0m",
      "\u001b[0;31mTypeError\u001b[0m                                 Traceback (most recent call last)",
      "Cell \u001b[0;32mIn[6], line 1\u001b[0m\n\u001b[0;32m----> 1\u001b[0m \u001b[43m[\u001b[49m\u001b[38;5;241;43m1\u001b[39;49m\u001b[43m,\u001b[49m\u001b[38;5;241;43m2\u001b[39;49m\u001b[43m,\u001b[49m\u001b[38;5;241;43m3\u001b[39;49m\u001b[43m,\u001b[49m\u001b[38;5;241;43m4\u001b[39;49m\u001b[43m,\u001b[49m\u001b[38;5;241;43m5\u001b[39;49m\u001b[43m]\u001b[49m\u001b[43m \u001b[49m\u001b[38;5;241;43m+\u001b[39;49m\u001b[43m \u001b[49m\u001b[38;5;241;43m1\u001b[39;49m\n",
      "\u001b[0;31mTypeError\u001b[0m: can only concatenate list (not \"int\") to list"
     ]
    }
   ],
   "source": [
    "[1,2,3,4,5] + 1"
   ]
  },
  {
   "cell_type": "markdown",
   "id": "05e95f28-a0b0-4ca5-b48a-03d975c944fb",
   "metadata": {},
   "source": [
    "`-` 뺄셈은 정의되지 않음"
   ]
  },
  {
   "cell_type": "code",
   "execution_count": 7,
   "id": "4eedf8a0-f46f-4414-95cd-0f660efc85d5",
   "metadata": {},
   "outputs": [
    {
     "ename": "TypeError",
     "evalue": "unsupported operand type(s) for -: 'list' and 'list'",
     "output_type": "error",
     "traceback": [
      "\u001b[0;31m---------------------------------------------------------------------------\u001b[0m",
      "\u001b[0;31mTypeError\u001b[0m                                 Traceback (most recent call last)",
      "Cell \u001b[0;32mIn[7], line 2\u001b[0m\n\u001b[1;32m      1\u001b[0m a\u001b[38;5;241m=\u001b[39m [\u001b[38;5;241m1\u001b[39m,\u001b[38;5;241m2\u001b[39m,\u001b[38;5;241m1\u001b[39m,\u001b[38;5;241m2\u001b[39m]\n\u001b[0;32m----> 2\u001b[0m \u001b[43ma\u001b[49m\u001b[38;5;241;43m-\u001b[39;49m\u001b[43m[\u001b[49m\u001b[38;5;241;43m1\u001b[39;49m\u001b[43m,\u001b[49m\u001b[38;5;241;43m2\u001b[39;49m\u001b[43m]\u001b[49m\n",
      "\u001b[0;31mTypeError\u001b[0m: unsupported operand type(s) for -: 'list' and 'list'"
     ]
    }
   ],
   "source": [
    "a= [1,2,1,2]\n",
    "a-[1,2]"
   ]
  },
  {
   "cell_type": "markdown",
   "id": "8ed094a0-8278-4ceb-83e2-f59f459fecaa",
   "metadata": {},
   "source": [
    "`-` 곱하기는 정의가능"
   ]
  },
  {
   "cell_type": "code",
   "execution_count": 8,
   "id": "d96b70b4-4cda-41aa-9ac1-acf488d823af",
   "metadata": {},
   "outputs": [
    {
     "data": {
      "text/plain": [
       "[1, 2, 1, 2, 1, 2]"
      ]
     },
     "execution_count": 8,
     "metadata": {},
     "output_type": "execute_result"
    }
   ],
   "source": [
    "[1,2]*3"
   ]
  },
  {
   "cell_type": "markdown",
   "id": "825e5136-fe88-4477-b4bc-847fde35c376",
   "metadata": {},
   "source": [
    "`-` 나눗셈은 정의되지 않음"
   ]
  },
  {
   "cell_type": "code",
   "execution_count": 9,
   "id": "08b974ff-b341-4783-95b2-7cae20b02d0f",
   "metadata": {},
   "outputs": [
    {
     "ename": "TypeError",
     "evalue": "unsupported operand type(s) for /: 'list' and 'int'",
     "output_type": "error",
     "traceback": [
      "\u001b[0;31m---------------------------------------------------------------------------\u001b[0m",
      "\u001b[0;31mTypeError\u001b[0m                                 Traceback (most recent call last)",
      "Cell \u001b[0;32mIn[9], line 1\u001b[0m\n\u001b[0;32m----> 1\u001b[0m \u001b[43m[\u001b[49m\u001b[38;5;241;43m1\u001b[39;49m\u001b[43m,\u001b[49m\u001b[38;5;241;43m2\u001b[39;49m\u001b[43m,\u001b[49m\u001b[38;5;241;43m1\u001b[39;49m\u001b[43m,\u001b[49m\u001b[38;5;241;43m2\u001b[39;49m\u001b[43m,\u001b[49m\u001b[38;5;241;43m1\u001b[39;49m\u001b[43m,\u001b[49m\u001b[38;5;241;43m2\u001b[39;49m\u001b[43m]\u001b[49m\u001b[43m \u001b[49m\u001b[38;5;241;43m/\u001b[39;49m\u001b[38;5;241;43m3\u001b[39;49m\n",
      "\u001b[0;31mTypeError\u001b[0m: unsupported operand type(s) for /: 'list' and 'int'"
     ]
    }
   ],
   "source": [
    "[1,2,1,2,1,2] /3"
   ]
  },
  {
   "cell_type": "markdown",
   "id": "73107078-170c-463c-b618-bf27fa1eeb7a",
   "metadata": {},
   "source": [
    "`-` 더하기와 곱하기는 원소의 추가와 반복추가를 의미하지만 그렇다고 해서\n",
    "뺄셈과 나눗셈이 원소의 삭제를 의미하는것은 아님\n",
    "\n",
    "`-` 더하기와 곱하기가 원소의 추가와 반복추가를 의미하여 편리할때도\n",
    "있긴하지만, 우리는 산술적인 `+`, `*` 를 원하는 경우도 있다. 이럴 경우는\n",
    "어떻게 할 수 있을까?\n",
    "\n",
    "(예제)"
   ]
  },
  {
   "cell_type": "code",
   "execution_count": 16,
   "id": "643db365-7958-4ebf-87e1-8d086fde4623",
   "metadata": {},
   "outputs": [],
   "source": [
    "a=[1,2]\n",
    "b=[3,4]"
   ]
  },
  {
   "cell_type": "markdown",
   "id": "0ef56a5a-bdc0-495d-bf0e-8c2b9727d6a9",
   "metadata": {},
   "source": [
    "a+b = \\[4,6\\] 이 되도록 하려면?\n",
    "\n",
    "(풀이1)"
   ]
  },
  {
   "cell_type": "code",
   "execution_count": 11,
   "id": "55f4bdc2-d08d-44f5-851f-a779500678e5",
   "metadata": {},
   "outputs": [
    {
     "data": {
      "text/plain": [
       "[4, 6]"
      ]
     },
     "execution_count": 11,
     "metadata": {},
     "output_type": "execute_result"
    }
   ],
   "source": [
    "[a[0]+b[0],a[1]+b[1]]"
   ]
  },
  {
   "cell_type": "markdown",
   "id": "15713b62-66d8-4eb2-8825-19b312526f93",
   "metadata": {},
   "source": [
    "풀이가 가능한 이유? a,b는 리스트이지만 a\\[0\\], a\\[1\\], b\\[0\\], b\\[1\\] 은\n",
    "각각 인트형임. 인트형은 + 연산이 가능했음.\n",
    "\n",
    "(풀이2)\n",
    "\n",
    "numpy 패키지 (파이썬의 여러 수치연산들을 담당하는 라이브러리)\n",
    "\n",
    "-   이러한 벡터연산은 누구나 필요로 하는 연산임.\n",
    "-   내가 아니더라도 누군가가 프로그램화 해놓았을 것임.\n",
    "-   그 누군가가 자신이 만든 코드를 잘 정리하여 무료로 배포했을 수도\n",
    "    있음. (패키지를 배포한다고 표현)\n",
    "-   그 패키지를 우리는 가져와서 설치한뒤 사용하기만 하면된다.\n",
    "\n",
    "패키지를 설치하는 방법\n",
    "\n",
    "-   `!pip install numpy` \\# 최신버전을 설치함\n",
    "-   `!conda install -c conda-forge numpy -y` \\# 안전한 버전을 설치함\n",
    "\n",
    "설치된 패키지를 사용하는 방법\n",
    "\n",
    "-   `import numpy` 한뒤에 `numpy.??`로 기능을 사용\n",
    "-   `import numpy as np` 한뒤에 `np.??`로 기능을 사용"
   ]
  },
  {
   "cell_type": "code",
   "execution_count": 5,
   "id": "8ef820c4-1e9d-49a1-8238-2705a8850a50",
   "metadata": {},
   "outputs": [],
   "source": [
    "import numpy ## 설치한패키지를 쓰겠다고 선언함 "
   ]
  },
  {
   "cell_type": "code",
   "execution_count": 6,
   "id": "86978180-0621-40b0-b6c8-2cdb0fd60853",
   "metadata": {},
   "outputs": [],
   "source": [
    "a=[1,2]\n",
    "b=[3,4]"
   ]
  },
  {
   "cell_type": "code",
   "execution_count": 7,
   "id": "0e6322b6-ca8a-47f2-8b4e-ec7fa6372b6a",
   "metadata": {},
   "outputs": [],
   "source": [
    "aa = numpy.array(a)\n",
    "bb = numpy.array(b)"
   ]
  },
  {
   "cell_type": "code",
   "execution_count": 8,
   "id": "f4bfe720-241c-4d08-b47b-3210775f6bde",
   "metadata": {},
   "outputs": [
    {
     "data": {
      "text/plain": [
       "array([4, 6])"
      ]
     },
     "execution_count": 8,
     "metadata": {},
     "output_type": "execute_result"
    }
   ],
   "source": [
    "aa+bb"
   ]
  },
  {
   "cell_type": "markdown",
   "id": "e3cd21d3-e17d-43d5-8289-fb7d62f66be9",
   "metadata": {},
   "source": [
    "여러가지 연산 가능 (마치 R처럼 쓸 수 있음)"
   ]
  },
  {
   "cell_type": "code",
   "execution_count": 9,
   "id": "8f5ce4c0-1a8c-4ccd-8ad2-450c0e97bdf1",
   "metadata": {},
   "outputs": [
    {
     "data": {
      "text/plain": [
       "array([2, 4])"
      ]
     },
     "execution_count": 9,
     "metadata": {},
     "output_type": "execute_result"
    }
   ],
   "source": [
    "2*aa"
   ]
  },
  {
   "cell_type": "code",
   "execution_count": 10,
   "id": "83773bda-e522-487f-a413-33184903be6b",
   "metadata": {},
   "outputs": [
    {
     "data": {
      "text/plain": [
       "array([3, 5])"
      ]
     },
     "execution_count": 10,
     "metadata": {},
     "output_type": "execute_result"
    }
   ],
   "source": [
    "2*aa+1"
   ]
  },
  {
   "cell_type": "code",
   "execution_count": 11,
   "id": "a6aaf1c2-ac33-40b6-bbb2-028c0864bd89",
   "metadata": {},
   "outputs": [
    {
     "data": {
      "text/plain": [
       "array([6, 9])"
      ]
     },
     "execution_count": 11,
     "metadata": {},
     "output_type": "execute_result"
    }
   ],
   "source": [
    "2*aa+1+bb"
   ]
  },
  {
   "cell_type": "markdown",
   "id": "e034b10c-4bb8-4793-8714-c4f0c7a9fec0",
   "metadata": {},
   "source": [
    "(풀이3)"
   ]
  },
  {
   "cell_type": "code",
   "execution_count": 12,
   "id": "64c7d2ab-50a7-4d08-b204-27b4f3b00e4e",
   "metadata": {},
   "outputs": [],
   "source": [
    "import numpy as np ## 설치한 numpy라는 패키지를 쓰겠음. 그런데 numpy말고 np라는 이름으로 쓰겠음"
   ]
  },
  {
   "cell_type": "code",
   "execution_count": 13,
   "id": "05f9e4a4-6912-4fb2-9725-f11cacadd665",
   "metadata": {},
   "outputs": [
    {
     "data": {
      "text/plain": [
       "array([4, 6])"
      ]
     },
     "execution_count": 13,
     "metadata": {},
     "output_type": "execute_result"
    }
   ],
   "source": [
    "np.array(a)+np.array(b)"
   ]
  },
  {
   "cell_type": "markdown",
   "id": "088f60ed-c492-476c-b9bd-ef8a78fb099f",
   "metadata": {},
   "source": [
    "## 인덱싱\n",
    "\n",
    "`-` str형과 동일한 방식"
   ]
  },
  {
   "cell_type": "code",
   "execution_count": 14,
   "id": "1fab0cf8-b693-45f0-9ca2-be5923508d65",
   "metadata": {},
   "outputs": [],
   "source": [
    "a=[11,22,33,44,55] # 0 -4 -3 -2 -1"
   ]
  },
  {
   "cell_type": "code",
   "execution_count": 15,
   "id": "a5ed42cc-2ec2-4b4d-b390-8f22ad95f8f9",
   "metadata": {},
   "outputs": [
    {
     "data": {
      "text/plain": [
       "[44, 55]"
      ]
     },
     "execution_count": 15,
     "metadata": {},
     "output_type": "execute_result"
    }
   ],
   "source": [
    "a[-2:] # 끝의 2개의 원소를 뽑음 "
   ]
  },
  {
   "cell_type": "markdown",
   "id": "46e974ea-156a-406e-9b18-2a54ba2a51a1",
   "metadata": {},
   "source": [
    "# list 고급내용 1\n",
    "\n",
    "## 콘테이너형 객체\n",
    "\n",
    "`-` 리스트의 원소는 int, float 따위만 가능한 것이 아니다. (리스트는\n",
    "컨테이너형 객체이므로)"
   ]
  },
  {
   "cell_type": "code",
   "execution_count": 16,
   "id": "6bca2ab6-762d-4476-9c3c-204778d824c0",
   "metadata": {},
   "outputs": [],
   "source": [
    "lst = [1,3.14,True,'a',[1,2], \n",
    "       (1,2),{'name':'iu','age':27},{1,2,3}]"
   ]
  },
  {
   "cell_type": "code",
   "execution_count": 17,
   "id": "c202a191-a3e4-4a40-8353-03df6fa1eece",
   "metadata": {},
   "outputs": [
    {
     "data": {
      "text/plain": [
       "[1, 3.14, True, 'a', [1, 2], (1, 2), {'name': 'iu', 'age': 27}, {1, 2, 3}]"
      ]
     },
     "execution_count": 17,
     "metadata": {},
     "output_type": "execute_result"
    }
   ],
   "source": [
    "lst"
   ]
  },
  {
   "cell_type": "markdown",
   "id": "e216f36d-d913-404d-ba5e-5e80e36419b7",
   "metadata": {},
   "source": [
    "각 원소의 타입을 알아보자."
   ]
  },
  {
   "cell_type": "code",
   "execution_count": 18,
   "id": "58b9d37c-017b-4965-9ced-8181f4b63772",
   "metadata": {},
   "outputs": [
    {
     "data": {
      "text/plain": [
       "int"
      ]
     },
     "execution_count": 18,
     "metadata": {},
     "output_type": "execute_result"
    }
   ],
   "source": [
    "type(lst[0])"
   ]
  },
  {
   "cell_type": "code",
   "execution_count": 19,
   "id": "8ad7e578-f4f4-409c-bc7a-ce188efb8293",
   "metadata": {},
   "outputs": [
    {
     "data": {
      "text/plain": [
       "float"
      ]
     },
     "execution_count": 19,
     "metadata": {},
     "output_type": "execute_result"
    }
   ],
   "source": [
    "type(lst[1])"
   ]
  },
  {
   "cell_type": "code",
   "execution_count": 20,
   "id": "fef0fd0f-e394-4fcd-a2fd-cd986354640d",
   "metadata": {},
   "outputs": [
    {
     "data": {
      "text/plain": [
       "bool"
      ]
     },
     "execution_count": 20,
     "metadata": {},
     "output_type": "execute_result"
    }
   ],
   "source": [
    "type(lst[2])"
   ]
  },
  {
   "cell_type": "code",
   "execution_count": 21,
   "id": "97a7896b-bb24-4ef6-80f1-6772facb7345",
   "metadata": {},
   "outputs": [
    {
     "data": {
      "text/plain": [
       "str"
      ]
     },
     "execution_count": 21,
     "metadata": {},
     "output_type": "execute_result"
    }
   ],
   "source": [
    "type(lst[3])"
   ]
  },
  {
   "cell_type": "code",
   "execution_count": 22,
   "id": "2cdfa3a1-ddd7-4aa8-a48c-b76116358527",
   "metadata": {},
   "outputs": [
    {
     "data": {
      "text/plain": [
       "list"
      ]
     },
     "execution_count": 22,
     "metadata": {},
     "output_type": "execute_result"
    }
   ],
   "source": [
    "type(lst[4])"
   ]
  },
  {
   "cell_type": "code",
   "execution_count": 23,
   "id": "990b57c8-03c9-4eea-8ee2-28e615fb410e",
   "metadata": {},
   "outputs": [
    {
     "data": {
      "text/plain": [
       "tuple"
      ]
     },
     "execution_count": 23,
     "metadata": {},
     "output_type": "execute_result"
    }
   ],
   "source": [
    "type(lst[5])"
   ]
  },
  {
   "cell_type": "code",
   "execution_count": 24,
   "id": "6a03c65f-054d-457a-a484-d081bae70e79",
   "metadata": {},
   "outputs": [
    {
     "data": {
      "text/plain": [
       "dict"
      ]
     },
     "execution_count": 24,
     "metadata": {},
     "output_type": "execute_result"
    }
   ],
   "source": [
    "type(lst[6])"
   ]
  },
  {
   "cell_type": "code",
   "execution_count": 25,
   "id": "d251284d-2c55-471d-a498-5361b9e9f55a",
   "metadata": {},
   "outputs": [
    {
     "data": {
      "text/plain": [
       "set"
      ]
     },
     "execution_count": 25,
     "metadata": {},
     "output_type": "execute_result"
    }
   ],
   "source": [
    "type(lst[7])"
   ]
  },
  {
   "cell_type": "markdown",
   "id": "2d8323d8-5559-48dd-a2fa-582dd1380115",
   "metadata": {},
   "source": [
    "`-` str은 컨테이너형이 아니다."
   ]
  },
  {
   "cell_type": "code",
   "execution_count": 26,
   "id": "7bac689f-25d5-424d-8092-02bd93edc2b8",
   "metadata": {},
   "outputs": [
    {
     "data": {
      "text/plain": [
       "'c'"
      ]
     },
     "execution_count": 26,
     "metadata": {},
     "output_type": "execute_result"
    }
   ],
   "source": [
    "'abcd'[2]"
   ]
  },
  {
   "cell_type": "markdown",
   "id": "9149f154-c5a2-45d4-930c-778b27734f9d",
   "metadata": {},
   "source": [
    "-   str의 모든 원소는 문자임\n",
    "\n",
    "## 가변객체\n",
    "\n",
    "`-` 리스트는 원소를 수정할 수 있다. (리스트는 가변객체이므로)"
   ]
  },
  {
   "cell_type": "code",
   "execution_count": 27,
   "id": "03b12f77-4f18-4251-8ce4-51f7be28e631",
   "metadata": {},
   "outputs": [
    {
     "data": {
      "text/plain": [
       "[11, 22, 33]"
      ]
     },
     "execution_count": 27,
     "metadata": {},
     "output_type": "execute_result"
    }
   ],
   "source": [
    "a=[11,22,33]\n",
    "a"
   ]
  },
  {
   "cell_type": "code",
   "execution_count": 28,
   "id": "3878c6ef-50b7-4b61-aef2-8d22a8bd3f17",
   "metadata": {},
   "outputs": [
    {
     "data": {
      "text/plain": [
       "11"
      ]
     },
     "execution_count": 28,
     "metadata": {},
     "output_type": "execute_result"
    }
   ],
   "source": [
    "a[0]"
   ]
  },
  {
   "cell_type": "code",
   "execution_count": 29,
   "id": "86bb058a-bf39-4a6b-8183-cc8ce2c7b62d",
   "metadata": {},
   "outputs": [],
   "source": [
    "a[0]=111"
   ]
  },
  {
   "cell_type": "code",
   "execution_count": 30,
   "id": "0fd901e0-ef1d-4db9-b57e-1fffe10b28bb",
   "metadata": {},
   "outputs": [
    {
     "data": {
      "text/plain": [
       "[111, 22, 33]"
      ]
     },
     "execution_count": 30,
     "metadata": {},
     "output_type": "execute_result"
    }
   ],
   "source": [
    "a"
   ]
  },
  {
   "cell_type": "markdown",
   "id": "9691f769-6c04-46d1-a4ea-d4f29b8e451d",
   "metadata": {},
   "source": [
    "`-` 원소수정은 당연한 기능같은데 이것이 불가능한 경우도 있다.\n",
    "\n",
    "(가능한경우)"
   ]
  },
  {
   "cell_type": "code",
   "execution_count": 31,
   "id": "147f5a58-b94f-45ea-9ab2-bb190913f6e9",
   "metadata": {},
   "outputs": [
    {
     "data": {
      "text/plain": [
       "['g', 'u', 'e', 'b', 'i', 'n']"
      ]
     },
     "execution_count": 31,
     "metadata": {},
     "output_type": "execute_result"
    }
   ],
   "source": [
    "a=['g','u','e','b','i','n']\n",
    "a"
   ]
  },
  {
   "cell_type": "code",
   "execution_count": 32,
   "id": "e6c8c0b1-d95b-427a-92ca-ab09d7827974",
   "metadata": {},
   "outputs": [
    {
     "data": {
      "text/plain": [
       "'g'"
      ]
     },
     "execution_count": 32,
     "metadata": {},
     "output_type": "execute_result"
    }
   ],
   "source": [
    "a[0]"
   ]
  },
  {
   "cell_type": "code",
   "execution_count": 33,
   "id": "53577bb1-80e2-4e9e-b17d-e7af1b1555f1",
   "metadata": {},
   "outputs": [],
   "source": [
    "a[0]='G'"
   ]
  },
  {
   "cell_type": "code",
   "execution_count": 34,
   "id": "ddf501eb-f3d9-4acd-8f77-f07424c9ab41",
   "metadata": {},
   "outputs": [
    {
     "data": {
      "text/plain": [
       "['G', 'u', 'e', 'b', 'i', 'n']"
      ]
     },
     "execution_count": 34,
     "metadata": {},
     "output_type": "execute_result"
    }
   ],
   "source": [
    "a"
   ]
  },
  {
   "cell_type": "markdown",
   "id": "7df74bbb-3d79-49c8-a246-fd3bc00509bc",
   "metadata": {},
   "source": [
    "(불가능한경우)"
   ]
  },
  {
   "cell_type": "code",
   "execution_count": 35,
   "id": "35db9d10-7e56-4c7b-9813-d302f453fdf8",
   "metadata": {},
   "outputs": [
    {
     "data": {
      "text/plain": [
       "'guebin'"
      ]
     },
     "execution_count": 35,
     "metadata": {},
     "output_type": "execute_result"
    }
   ],
   "source": [
    "a='guebin'\n",
    "a"
   ]
  },
  {
   "cell_type": "code",
   "execution_count": 36,
   "id": "2bbde9f0-2a30-43cd-b76c-a578f181317a",
   "metadata": {},
   "outputs": [
    {
     "data": {
      "text/plain": [
       "'g'"
      ]
     },
     "execution_count": 36,
     "metadata": {},
     "output_type": "execute_result"
    }
   ],
   "source": [
    "a[0]"
   ]
  },
  {
   "cell_type": "code",
   "execution_count": 37,
   "id": "d3712c4c-f962-4e7e-bd61-b8561f0afedd",
   "metadata": {},
   "outputs": [
    {
     "ename": "TypeError",
     "evalue": "'str' object does not support item assignment",
     "output_type": "error",
     "traceback": [
      "\u001b[1;31m---------------------------------------------------------------------------\u001b[0m",
      "\u001b[1;31mTypeError\u001b[0m                                 Traceback (most recent call last)",
      "\u001b[1;32mc:\\Users\\hanka\\Dropbox\\임지윤\\Quarto-Blog\\posts\\1_IP2022\\01_자료형\\2023-03-15-2wk-2.out.ipynb Cell 62\u001b[0m line \u001b[0;36m1\n\u001b[1;32m----> <a href='vscode-notebook-cell:/c%3A/Users/hanka/Dropbox/%EC%9E%84%EC%A7%80%EC%9C%A4/Quarto-Blog/posts/1_IP2022/01_%EC%9E%90%EB%A3%8C%ED%98%95/2023-03-15-2wk-2.out.ipynb#Y115sZmlsZQ%3D%3D?line=0'>1</a>\u001b[0m a[\u001b[39m0\u001b[39m]\u001b[39m=\u001b[39m\u001b[39m'\u001b[39m\u001b[39mG\u001b[39m\u001b[39m'\u001b[39m\n",
      "\u001b[1;31mTypeError\u001b[0m: 'str' object does not support item assignment"
     ]
    }
   ],
   "source": [
    "a[0]='G'"
   ]
  },
  {
   "cell_type": "markdown",
   "id": "7832f641-8360-4f05-85ca-21cb8709b2bd",
   "metadata": {},
   "source": [
    "## 리스트의 원소 삭제\n",
    "\n",
    "(예제1) del을 이용한 원소삭제\n",
    "\n",
    "아래와 같이 문자로 된 리스트를 선언하자."
   ]
  },
  {
   "cell_type": "code",
   "execution_count": 38,
   "id": "baab4373-6a21-4c64-b279-3595ead70469",
   "metadata": {},
   "outputs": [
    {
     "data": {
      "text/plain": [
       "['g', 'u', 'e', 'b', 'i', 'n']"
      ]
     },
     "execution_count": 38,
     "metadata": {},
     "output_type": "execute_result"
    }
   ],
   "source": [
    "a=['g','u','e','b','i','n']\n",
    "a"
   ]
  },
  {
   "cell_type": "markdown",
   "id": "fb286a61-a590-4a22-a55a-2fe00662d702",
   "metadata": {},
   "source": [
    "***사실 더 쉽게 선언할 수 있음***"
   ]
  },
  {
   "cell_type": "code",
   "execution_count": 39,
   "id": "bbea1098-1882-4931-bbd5-97c843a1a464",
   "metadata": {},
   "outputs": [
    {
     "data": {
      "text/plain": [
       "['g', 'u', 'e', 'b', 'i', 'n']"
      ]
     },
     "execution_count": 39,
     "metadata": {},
     "output_type": "execute_result"
    }
   ],
   "source": [
    "list('guebin')"
   ]
  },
  {
   "cell_type": "markdown",
   "id": "343649e3-31b0-4c55-ae84-0564b4fa90bd",
   "metadata": {},
   "source": [
    "첫번째 원소를 삭제하고 싶다면?"
   ]
  },
  {
   "cell_type": "code",
   "execution_count": 40,
   "id": "642812f1-f109-4d7f-b561-76a1afdeeda0",
   "metadata": {},
   "outputs": [
    {
     "data": {
      "text/plain": [
       "['u', 'e', 'b', 'i', 'n']"
      ]
     },
     "execution_count": 40,
     "metadata": {},
     "output_type": "execute_result"
    }
   ],
   "source": [
    "del a[0]\n",
    "a"
   ]
  },
  {
   "cell_type": "markdown",
   "id": "a973dabf-aa0a-4165-9cc2-86cadeb37538",
   "metadata": {},
   "source": [
    "이 상태에서 다시 첫번째 원소를 삭제한다면?"
   ]
  },
  {
   "cell_type": "code",
   "execution_count": 41,
   "id": "6c0c6f66-ff71-4ac0-a16e-77ed9ca9b4c5",
   "metadata": {},
   "outputs": [
    {
     "data": {
      "text/plain": [
       "['e', 'b', 'i', 'n']"
      ]
     },
     "execution_count": 41,
     "metadata": {},
     "output_type": "execute_result"
    }
   ],
   "source": [
    "del a[0]\n",
    "a"
   ]
  },
  {
   "cell_type": "markdown",
   "id": "e6654cc4-5b6b-48ab-9e56-bdf248941b7f",
   "metadata": {},
   "source": [
    "(예제2) pop을 이용한 원소삭제"
   ]
  },
  {
   "cell_type": "code",
   "execution_count": 42,
   "id": "47556a57-357a-48a2-b50c-900b3ff19f0f",
   "metadata": {},
   "outputs": [
    {
     "data": {
      "text/plain": [
       "['g', 'u', 'e', 'b', 'i', 'n']"
      ]
     },
     "execution_count": 42,
     "metadata": {},
     "output_type": "execute_result"
    }
   ],
   "source": [
    "a=list('guebin')\n",
    "a"
   ]
  },
  {
   "cell_type": "code",
   "execution_count": 43,
   "id": "b9825e53-c507-4caa-9e57-23d003111e49",
   "metadata": {},
   "outputs": [
    {
     "data": {
      "text/plain": [
       "'g'"
      ]
     },
     "execution_count": 43,
     "metadata": {},
     "output_type": "execute_result"
    }
   ],
   "source": [
    "a.pop(0)"
   ]
  },
  {
   "cell_type": "code",
   "execution_count": 44,
   "id": "6ffc048f-6750-453b-a8bb-4451bb6d7a38",
   "metadata": {},
   "outputs": [
    {
     "data": {
      "text/plain": [
       "['u', 'e', 'b', 'i', 'n']"
      ]
     },
     "execution_count": 44,
     "metadata": {},
     "output_type": "execute_result"
    }
   ],
   "source": [
    "a"
   ]
  },
  {
   "cell_type": "code",
   "execution_count": 45,
   "id": "c2c4d187-e6e2-436f-8db2-ca3bcd18a707",
   "metadata": {},
   "outputs": [
    {
     "data": {
      "text/plain": [
       "'u'"
      ]
     },
     "execution_count": 45,
     "metadata": {},
     "output_type": "execute_result"
    }
   ],
   "source": [
    "a.pop(0)"
   ]
  },
  {
   "cell_type": "code",
   "execution_count": 46,
   "id": "1e00e75d-2c1f-463d-bb52-aee86c5224d3",
   "metadata": {},
   "outputs": [
    {
     "data": {
      "text/plain": [
       "['e', 'b', 'i', 'n']"
      ]
     },
     "execution_count": 46,
     "metadata": {},
     "output_type": "execute_result"
    }
   ],
   "source": [
    "a"
   ]
  },
  {
   "cell_type": "markdown",
   "id": "a6588e7e-1799-479f-bfae-141b9ae347bf",
   "metadata": {},
   "source": [
    "# HW 0315\n",
    "\n",
    "`1`. 길이가 0인 리스트를 만들어라. (비어있는 리스트를 만들어라)\n",
    "\n",
    "(풀이1)"
   ]
  },
  {
   "cell_type": "code",
   "execution_count": 47,
   "id": "22ddba19-9269-4edb-97e2-77fb74ea96ee",
   "metadata": {},
   "outputs": [
    {
     "data": {
      "text/plain": [
       "[]"
      ]
     },
     "execution_count": 47,
     "metadata": {},
     "output_type": "execute_result"
    }
   ],
   "source": [
    "[]"
   ]
  },
  {
   "cell_type": "code",
   "execution_count": 48,
   "id": "f512d06a-a327-4ad0-a1de-db319191e504",
   "metadata": {},
   "outputs": [
    {
     "data": {
      "text/plain": [
       "0"
      ]
     },
     "execution_count": 48,
     "metadata": {},
     "output_type": "execute_result"
    }
   ],
   "source": [
    "len([])"
   ]
  },
  {
   "cell_type": "markdown",
   "id": "6ea98cb0-6bc7-41ef-b285-0a4080e299ba",
   "metadata": {},
   "source": [
    "(풀이2)"
   ]
  },
  {
   "cell_type": "code",
   "execution_count": 49,
   "id": "36cf5ac9-70d4-46de-af2d-3e9a3affe355",
   "metadata": {},
   "outputs": [
    {
     "data": {
      "text/plain": [
       "[]"
      ]
     },
     "execution_count": 49,
     "metadata": {},
     "output_type": "execute_result"
    }
   ],
   "source": [
    "list()"
   ]
  },
  {
   "cell_type": "code",
   "execution_count": 50,
   "id": "f887feb6-521f-4dea-ad95-672568b78c0e",
   "metadata": {},
   "outputs": [
    {
     "data": {
      "text/plain": [
       "0"
      ]
     },
     "execution_count": 50,
     "metadata": {},
     "output_type": "execute_result"
    }
   ],
   "source": [
    "len(list())"
   ]
  },
  {
   "cell_type": "markdown",
   "id": "e33d258a-5834-492c-950e-9cdaf041d305",
   "metadata": {},
   "source": [
    "`2`. 다음의 실행값 중 가장 큰 숫자가 나오는 보기를 골라라. (에러가 나는\n",
    "코드는 정답에서 제외함)\n",
    "\n",
    "``` python\n",
    "(a) len(3.14) \n",
    "(b) len([3.14]) \n",
    "(c) len('3.14') \n",
    "```\n",
    "\n",
    "(풀이)"
   ]
  },
  {
   "cell_type": "code",
   "execution_count": 51,
   "id": "1632a818-1ae1-4ab5-a4f1-f5933eb3a3f5",
   "metadata": {},
   "outputs": [
    {
     "ename": "TypeError",
     "evalue": "object of type 'float' has no len()",
     "output_type": "error",
     "traceback": [
      "\u001b[1;31m---------------------------------------------------------------------------\u001b[0m",
      "\u001b[1;31mTypeError\u001b[0m                                 Traceback (most recent call last)",
      "\u001b[1;32mc:\\Users\\hanka\\Dropbox\\임지윤\\Quarto-Blog\\posts\\1_IP2022\\01_자료형\\2023-03-15-2wk-2.out.ipynb Cell 84\u001b[0m line \u001b[0;36m1\n\u001b[1;32m----> <a href='vscode-notebook-cell:/c%3A/Users/hanka/Dropbox/%EC%9E%84%EC%A7%80%EC%9C%A4/Quarto-Blog/posts/1_IP2022/01_%EC%9E%90%EB%A3%8C%ED%98%95/2023-03-15-2wk-2.out.ipynb#Y146sZmlsZQ%3D%3D?line=0'>1</a>\u001b[0m \u001b[39mlen\u001b[39;49m(\u001b[39m3.14\u001b[39;49m)\n",
      "\u001b[1;31mTypeError\u001b[0m: object of type 'float' has no len()"
     ]
    }
   ],
   "source": [
    "len(3.14)"
   ]
  },
  {
   "cell_type": "code",
   "execution_count": 52,
   "id": "543a1e27-2058-4395-9e80-339dd3d224e7",
   "metadata": {},
   "outputs": [
    {
     "data": {
      "text/plain": [
       "1"
      ]
     },
     "execution_count": 52,
     "metadata": {},
     "output_type": "execute_result"
    }
   ],
   "source": [
    "len([3.14])"
   ]
  },
  {
   "cell_type": "code",
   "execution_count": 53,
   "id": "651e4d30-f408-43e9-961f-a873de48dd5d",
   "metadata": {},
   "outputs": [
    {
     "data": {
      "text/plain": [
       "4"
      ]
     },
     "execution_count": 53,
     "metadata": {},
     "output_type": "execute_result"
    }
   ],
   "source": [
    "len('3.14')"
   ]
  },
  {
   "cell_type": "markdown",
   "id": "9a481cfa-6877-4bc9-b204-db32c74c9d68",
   "metadata": {},
   "source": [
    "따라서 답은 (c)\n",
    "\n",
    "`3`. 아래의 예제를 관찰하라."
   ]
  },
  {
   "cell_type": "code",
   "execution_count": 54,
   "id": "d93527ad-4af4-476d-bb47-bf939c1cf882",
   "metadata": {},
   "outputs": [
    {
     "data": {
      "text/plain": [
       "'제 이름은 최규빈입니다'"
      ]
     },
     "execution_count": 54,
     "metadata": {},
     "output_type": "execute_result"
    }
   ],
   "source": [
    "'제 이름은 {}입니다'.format('최규빈')"
   ]
  },
  {
   "cell_type": "code",
   "execution_count": 55,
   "id": "49faa47c-7662-4002-9057-2fcd535cf365",
   "metadata": {},
   "outputs": [
    {
     "data": {
      "text/plain": [
       "'제 이름은 죠르디입니다.'"
      ]
     },
     "execution_count": 55,
     "metadata": {},
     "output_type": "execute_result"
    }
   ],
   "source": [
    "'제 이름은 {}입니다.'.format('죠르디')"
   ]
  },
  {
   "cell_type": "code",
   "execution_count": 56,
   "id": "b848a434-48b8-4ee4-82f3-2ec91ee2a124",
   "metadata": {},
   "outputs": [
    {
     "data": {
      "text/plain": [
       "'제 이름은 최규빈이고 사는곳은 전주입니다.'"
      ]
     },
     "execution_count": 56,
     "metadata": {},
     "output_type": "execute_result"
    }
   ],
   "source": [
    "'제 이름은 {}이고 사는곳은 {}입니다.'.format('최규빈','전주')"
   ]
  },
  {
   "cell_type": "markdown",
   "id": "c0ff988f-ded0-467d-a122-4b085fe8a6ef",
   "metadata": {},
   "source": [
    "이 예제를 바탕으로 문자열에 포함된 `.format()`함수의 기능을 유추하라.\n",
    "그리고 아래의 결과를 확인하라.\n",
    "\n",
    "``` python\n",
    "string = '전북대학교 학생엠티가 {}월{}일-{}월{}일 완주 곶감펜션에서 있다고 합니다. 자세한 일정 등은 다시 공지하겠습니다.' \n",
    "string.format(3,24,3,25)\n",
    "```\n",
    "\n",
    "ChatGPT를 활용하여 `.format()`함수의 기능을 학습하라.\n",
    "\n",
    "(풀이)\n",
    "\n",
    "\n",
    "::: {.callout-note}\n",
    "## format() 문자열메서드\n",
    "\n",
    ".format()은 Python에서 문자열을 포맷하는 메서드입니다. 이 메서드를 사용하면 문자열에 변수나 값을 삽입하거나 원하는 형식으로 문자열을 조작할 수 있습니다. Python 3 이상에서는 f-문자열을 사용하여 문자열을 포맷하는 것이 더 선호되는 방법이지만, 여전히 .format()을 사용하는 경우도 많이 있습니다.\n",
    ":::\n",
    "\n",
    "\n",
    "\n"
   ]
  },
  {
   "cell_type": "markdown",
   "id": "0a424f21-e48f-420e-898b-d627bb8beedb",
   "metadata": {},
   "source": [
    "`-` 문자열 메서드?"
   ]
  },
  {
   "cell_type": "markdown",
   "id": "eea43f69-e32b-4284-b35d-d79441149407",
   "metadata": {},
   "source": [
    "문자열 메서드(String method)는 특정 문자열 객체에 대해 호출되어 문자열을 조작하고 변환하는 함수와 같은 기능을 수행하는 함수입니다. 이러한 메서드는 문자열을 처리하고 원하는 형식으로 변경하는 데 사용됩니다. Python과 다른 프로그래밍 언어에서 문자열 메서드는 일반적으로 문자열을 다루는 다양한 작업을 수행하는 데 도움을 주는데 사용됩니다.\n",
    "\n",
    "Python의 문자열 메서드 중 일부 예시는 다음과 같습니다:\n",
    "\n",
    "```python\n",
    "str.upper() # 문자열을 모두 대문자로 변환합니다.\n",
    "str.lower() # 문자열을 모두 소문자로 변환합니다.\n",
    "str.capitalize() # 문자열의 첫 글자를 대문자로 만듭니다.\n",
    "str.strip() # 문자열 앞뒤의 공백을 제거합니다.\n",
    "str.split() # 문자열을 지정한 구분자를 기준으로 나눕니다.\n",
    "str.replace(old, new) # 문자열 내에서 지정한 부분 문자열을 다른 문자열로 대체합니다.\n",
    "str.find(substring) # 문자열 내에서 부분 문자열의 인덱스를 찾습니다.\n",
    "str.startswith(prefix) # 문자열이 특정 접두사로 시작하는지 확인합니다.\n",
    "str.endswith(suffix) # 문자열이 특정 접미사로 끝나는지 확인합니다.\n",
    "```"
   ]
  },
  {
   "cell_type": "code",
   "execution_count": 57,
   "id": "959cd14c-54f7-4bc6-9431-45b5d8b13abf",
   "metadata": {},
   "outputs": [
    {
     "data": {
      "text/plain": [
       "'Abc'"
      ]
     },
     "execution_count": 57,
     "metadata": {},
     "output_type": "execute_result"
    }
   ],
   "source": [
    "'abc'.capitalize()"
   ]
  },
  {
   "cell_type": "code",
   "execution_count": 60,
   "id": "441cbb82-08aa-42d1-91d6-f1c9533fb146",
   "metadata": {},
   "outputs": [
    {
     "data": {
      "text/plain": [
       "4"
      ]
     },
     "execution_count": 60,
     "metadata": {},
     "output_type": "execute_result"
    }
   ],
   "source": [
    "\"I'm Jordy\".find(\"J\")"
   ]
  },
  {
   "cell_type": "markdown",
   "id": "b4c85e37-7fe6-49d5-95f7-5db1f2d0eca9",
   "metadata": {},
   "source": [
    "`4`. 아래의 예제를 관찰하라."
   ]
  },
  {
   "cell_type": "code",
   "execution_count": 61,
   "id": "77f99a1c-fb7d-4268-b90b-0c48ed7ae650",
   "metadata": {},
   "outputs": [
    {
     "data": {
      "text/plain": [
       "'abcdefu'"
      ]
     },
     "execution_count": 61,
     "metadata": {},
     "output_type": "execute_result"
    }
   ],
   "source": [
    "'abcdefg'.replace('g','u')"
   ]
  },
  {
   "cell_type": "markdown",
   "id": "19a0dd13-7b31-4707-9820-30e1eee06868",
   "metadata": {},
   "source": [
    "-  'g'가 'u'로 바뀌었네? / 지정된 문자열을  다른 문자열로 바꾸는 기능?"
   ]
  },
  {
   "cell_type": "markdown",
   "id": "7e2f7dbb-4d3b-4a20-aaa1-cf9abdec68fa",
   "metadata": {},
   "source": [
    "이 예제를 바탕으로 문자열의 `.replace()` 기능을 유추하라. 유추한 기능을\n",
    "chatGPT로 확인하라.\n",
    "\n",
    "(풀이)\n",
    "\n",
    "\n",
    "::: {.callout-note}\n",
    "## replace() 문자열메서드\n",
    "\n",
    "replace()는 Python 문자열 메서드 중 하나로, 문자열 내에서 지정된 문자열 또는 패턴을 다른 문자열로 대체하는 기능을 수행합니다. 이 메서드는 원래 문자열을 변경하지 않고 대체된 새 문자열을 반환합니다.\n",
    ":::\n",
    "\n",
    "`5`. 리스트자료형의 `+`와 `*` 연산을 이용하여 아래와 같은 list를\n",
    "생성하라."
   ]
  },
  {
   "cell_type": "code",
   "execution_count": 75,
   "id": "1b12f310-68f3-4802-b1cc-0d8eeb054b9c",
   "metadata": {},
   "outputs": [
    {
     "data": {
      "text/plain": [
       "[1, 2, 2, 3, 3, 3, 4, 4, 4, 4, 5, 5, 5, 5, 5]"
      ]
     },
     "execution_count": 75,
     "metadata": {},
     "output_type": "execute_result"
    }
   ],
   "source": [
    "[1, 2, 2, 3, 3, 3, 4, 4, 4, 4, 5, 5, 5, 5, 5]"
   ]
  },
  {
   "cell_type": "code",
   "execution_count": 64,
   "id": "f54a2791",
   "metadata": {},
   "outputs": [
    {
     "data": {
      "text/plain": [
       "[1, 2, 2, 3, 3, 3, 4, 4, 4, 4, 5, 5, 5, 5, 5]"
      ]
     },
     "execution_count": 64,
     "metadata": {},
     "output_type": "execute_result"
    }
   ],
   "source": [
    "[1]*1 + [2]*2 + [3]*3 + [4]*4 + [5]*5"
   ]
  },
  {
   "cell_type": "markdown",
   "id": "23130d87-63d3-4f64-bd88-5a92b3c83cb4",
   "metadata": {},
   "source": [
    "**hint:** 아래의 코드를 관찰해보세요"
   ]
  },
  {
   "cell_type": "code",
   "execution_count": 65,
   "id": "913145d4-8ad0-4931-a05e-40ab6e1dfdbb",
   "metadata": {},
   "outputs": [
    {
     "data": {
      "text/plain": [
       "[1, 2, 2]"
      ]
     },
     "execution_count": 65,
     "metadata": {},
     "output_type": "execute_result"
    }
   ],
   "source": [
    "[1]*1+[2]*2 "
   ]
  },
  {
   "cell_type": "markdown",
   "id": "2d6879c2-3ece-47dd-a94a-53e24f7dab46",
   "metadata": {},
   "source": [
    "(풀이)"
   ]
  },
  {
   "cell_type": "code",
   "execution_count": 77,
   "id": "ef82a2b1-4735-4b83-b698-15c2ece51ddf",
   "metadata": {},
   "outputs": [
    {
     "data": {
      "text/plain": [
       "[1, 2, 2, 3, 3, 3, 4, 4, 4, 4, 5, 5, 5, 5, 5]"
      ]
     },
     "execution_count": 77,
     "metadata": {},
     "output_type": "execute_result"
    }
   ],
   "source": [
    "[1]*1+[2]*2+[3]*3+[4]*4+[5]*5"
   ]
  },
  {
   "cell_type": "markdown",
   "id": "d17183f4-db69-4281-be18-c21ec43746b1",
   "metadata": {},
   "source": [
    "`6`. 넘파이를 이용하여 아래와 같은 결과가 나오도록 코드가 작성하라.\n",
    "\n",
    "$$\\begin{bmatrix}\n",
    "1 \\\\\n",
    "2 \n",
    "\\end{bmatrix} + \\begin{bmatrix}\n",
    "11 \\\\\n",
    "22 \n",
    "\\end{bmatrix} = \n",
    "\\begin{bmatrix}\n",
    "12 \\\\\n",
    "24\n",
    "\\end{bmatrix}$$\n",
    "\n",
    "(풀이)"
   ]
  },
  {
   "cell_type": "code",
   "execution_count": 66,
   "id": "1c0cd7ae-57b8-4886-9bfb-1223d0072668",
   "metadata": {},
   "outputs": [],
   "source": [
    "import numpy as np"
   ]
  },
  {
   "cell_type": "code",
   "execution_count": 67,
   "id": "68905af9",
   "metadata": {},
   "outputs": [
    {
     "data": {
      "text/plain": [
       "array([12, 24])"
      ]
     },
     "execution_count": 67,
     "metadata": {},
     "output_type": "execute_result"
    }
   ],
   "source": [
    "np.array([1,2]) + np.array([11,22])"
   ]
  },
  {
   "cell_type": "code",
   "execution_count": 68,
   "id": "ff469bf6-c6c2-4ed7-a5bf-5d55c716223c",
   "metadata": {},
   "outputs": [
    {
     "data": {
      "text/plain": [
       "array([12, 24])"
      ]
     },
     "execution_count": 68,
     "metadata": {},
     "output_type": "execute_result"
    }
   ],
   "source": [
    "np.array([1,2]) + np.array([11,22]) # 풀이1"
   ]
  },
  {
   "cell_type": "code",
   "execution_count": 69,
   "id": "0a10a948-8dd7-4467-a527-196d2fb64705",
   "metadata": {},
   "outputs": [
    {
     "data": {
      "text/plain": [
       "array([[12],\n",
       "       [24]])"
      ]
     },
     "execution_count": 69,
     "metadata": {},
     "output_type": "execute_result"
    }
   ],
   "source": [
    "np.array([[1],[2]]) + np.array([[11],[22]]) # 풀이2"
   ]
  },
  {
   "cell_type": "markdown",
   "id": "b4ef0a57-eb49-4948-89d5-56eb06a596b8",
   "metadata": {},
   "source": [
    "> 풀이1,2 모두 좋음\n",
    "\n",
    "`7`. 아래와 같은 벡터 ${\\boldsymbol a}$가 있다고 하자.\n",
    "\n",
    "$$\\boldsymbol{a}=\n",
    "\\begin{bmatrix}\n",
    "12 \\\\\n",
    "24\n",
    "\\end{bmatrix}$$\n",
    "\n",
    "넘파이를 이용하여 아래의 결과가 나오게 하는 코드를 작성하라.\n",
    "\n",
    "$$2\\boldsymbol{a}=\n",
    "\\begin{bmatrix}\n",
    "24 \\\\\n",
    "48\n",
    "\\end{bmatrix}$$\n",
    "\n",
    "(풀이)"
   ]
  },
  {
   "cell_type": "code",
   "execution_count": 70,
   "id": "5427cb4d-7174-45e1-951e-7f46b561c52c",
   "metadata": {},
   "outputs": [
    {
     "data": {
      "text/plain": [
       "array([24, 48])"
      ]
     },
     "execution_count": 70,
     "metadata": {},
     "output_type": "execute_result"
    }
   ],
   "source": [
    "2*np.array([12,24]) # 풀이1"
   ]
  },
  {
   "cell_type": "code",
   "execution_count": 71,
   "id": "5c40032f-c00d-4e2c-996f-e03798b4b30c",
   "metadata": {},
   "outputs": [
    {
     "data": {
      "text/plain": [
       "array([[24],\n",
       "       [48]])"
      ]
     },
     "execution_count": 71,
     "metadata": {},
     "output_type": "execute_result"
    }
   ],
   "source": [
    "2*np.array([[12],[24]]) # 풀이2"
   ]
  }
 ],
 "metadata": {
  "kernelspec": {
   "display_name": "Python 3",
   "language": "python",
   "name": "python3"
  },
  "language_info": {
   "codemirror_mode": {
    "name": "ipython",
    "version": 3
   },
   "file_extension": ".py",
   "mimetype": "text/x-python",
   "name": "python",
   "nbconvert_exporter": "python",
   "pygments_lexer": "ipython3",
   "version": "3.8.16"
  }
 },
 "nbformat": 4,
 "nbformat_minor": 5
}
