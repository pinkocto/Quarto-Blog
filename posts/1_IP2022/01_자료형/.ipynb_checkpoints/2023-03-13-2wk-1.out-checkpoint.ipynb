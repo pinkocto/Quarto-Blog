{
 "cells": [
  {
   "cell_type": "markdown",
   "id": "4a6ff76e-4619-4463-b63f-dcdf800d2585",
   "metadata": {},
   "source": [
    "# 02wk-1: 파이썬의 자료형 (2)\n",
    "\n",
    "최규빈  \n",
    "2023-03-13\n",
    "\n",
    "<a href=\"https://colab.research.google.com/github/guebin/PP2023/blob/main/posts/01_PythonBasic/2023-03-13-2wk-1.ipynb\"><img src=\"https://colab.research.google.com/assets/colab-badge.svg\" style=\"text-align: left\"></a>\n",
    "\n",
    "# 강의영상\n",
    "\n",
    "> <https://youtube.com/playlist?list=PLQqh36zP38-xyfFAJpOK00B4fIn6UQggd>\n",
    "\n",
    "# 강의노트의 저장 및 정리\n",
    "\n",
    "`1`. website에 들어가서 강의노트를 pdf 혹은 html 파일로 변환한다.\n",
    "\n",
    "-   강의노트를 출력, 책으로 만들거나..\n",
    "-   아이패드등에 저장하고 필기하면서 공부한다..\n",
    "\n",
    "`2`. 코랩이용\n",
    "\n",
    "-   <https://guebin.github.io/PP2023> 에서 원하는 강의노트 선택 $\\to$\n",
    "    collab 버튼을 누른뒤에 강의노트 파일을 연다 $\\to$ 다운로드 or 본인의\n",
    "    구글 드라이브에 저장\n",
    "-   코랩을 연다 $\\to$ 파일열기 $\\to$ github / guebin / PP2023 / 파일찾기\n",
    "    $\\to$ 강의노트 파일 열기 $\\to$ 다운로드 or 본인의 구글 드라이브에\n",
    "    저장\n",
    "\n",
    "`3`. 깃헙에서 저장\n",
    "\n",
    "-   파일하나씩 저장\n",
    "-   레포지토리 전체 저장\n",
    "\n",
    "# 참고도서 소개\n",
    "\n",
    "`-` 전자교재\n",
    "\n",
    "-   <https://docs.python.org/3.9/tutorial/index.html>\n",
    "-   <https://wikidocs.net/book/1>\n",
    "-   <https://jakevdp.github.io/PythonDataScienceHandbook/>\n",
    "\n",
    "`-` 종이책\n",
    "\n",
    "-   효율적 개발로 이끄는 파이썬 실천 기술\n",
    "-   Learning python: powerful object-oriented programming\n",
    "-   전문가를 위한 파이썬 : 파이썬3 버전 기준 \\| 간단하고, 명료하고,\n",
    "    효율적인 파이썬 프로그래밍\n",
    "\n",
    "# 주피터랩\n",
    "\n",
    "`-` 파일탐색기, 저장된 변수값 확인 등의 기능이 있음\n",
    "\n",
    "`-` interactive notebook이 아니다."
   ]
  },
  {
   "cell_type": "code",
   "execution_count": 1,
   "id": "dbe52b7a-0fc4-48e5-b25f-0af7d4508f65",
   "metadata": {},
   "outputs": [],
   "source": [
    "a=1"
   ]
  },
  {
   "cell_type": "code",
   "execution_count": 2,
   "id": "4a72952f-2c06-44d8-a751-452c5ab645b0",
   "metadata": {},
   "outputs": [
    {
     "name": "stdout",
     "output_type": "stream",
     "text": [
      "1\n"
     ]
    }
   ],
   "source": [
    "print(a)"
   ]
  },
  {
   "cell_type": "code",
   "execution_count": 3,
   "id": "3324a9bb-136b-42cb-9a56-9b1acdb6a4d8",
   "metadata": {},
   "outputs": [],
   "source": [
    "a=3"
   ]
  },
  {
   "cell_type": "markdown",
   "id": "a3819b65-3ad0-4b38-8534-fe0068a899cf",
   "metadata": {},
   "source": [
    "# 주석"
   ]
  },
  {
   "cell_type": "code",
   "execution_count": 4,
   "id": "8700d479-b27b-4ee1-9d70-45454074d752",
   "metadata": {},
   "outputs": [
    {
     "name": "stdout",
     "output_type": "stream",
     "text": [
      "3\n"
     ]
    }
   ],
   "source": [
    "a=3  \n",
    "#a=4\n",
    "print(a)"
   ]
  },
  {
   "cell_type": "markdown",
   "id": "ec18461a-6a3d-412c-818f-27f67f45321e",
   "metadata": {},
   "source": [
    "# str 기본내용\n",
    "\n",
    "## 선언\n",
    "\n",
    "`-` 예시1"
   ]
  },
  {
   "cell_type": "code",
   "execution_count": 5,
   "id": "a4248c6b-06f4-4257-89e2-4ad1f9ff987d",
   "metadata": {},
   "outputs": [],
   "source": [
    "a='guebin'"
   ]
  },
  {
   "cell_type": "code",
   "execution_count": 6,
   "id": "d19c7a0d-6caf-4a98-b2c2-9e6293da8817",
   "metadata": {},
   "outputs": [
    {
     "data": {
      "text/plain": [
       "'guebin'"
      ]
     },
     "execution_count": 6,
     "metadata": {},
     "output_type": "execute_result"
    }
   ],
   "source": [
    "a"
   ]
  },
  {
   "cell_type": "markdown",
   "id": "b38d8057-966c-4d67-80da-b02babe50f13",
   "metadata": {},
   "source": [
    "`-` 예시2"
   ]
  },
  {
   "cell_type": "code",
   "execution_count": 7,
   "id": "85d2d458-d7b3-417b-a95d-061d4412c40b",
   "metadata": {},
   "outputs": [],
   "source": [
    "a=\"guebin\""
   ]
  },
  {
   "cell_type": "code",
   "execution_count": 8,
   "id": "c236cb4b-0f5e-4834-a6d5-d494ffb013b6",
   "metadata": {},
   "outputs": [
    {
     "data": {
      "text/plain": [
       "'guebin'"
      ]
     },
     "execution_count": 8,
     "metadata": {},
     "output_type": "execute_result"
    }
   ],
   "source": [
    "a"
   ]
  },
  {
   "cell_type": "markdown",
   "id": "60b597e1-3900-4ded-a19b-7527e1550604",
   "metadata": {},
   "source": [
    "## 연산\n",
    "\n",
    "`-` 더하기(+)연산"
   ]
  },
  {
   "cell_type": "code",
   "execution_count": 9,
   "id": "4821d768-6982-407e-ac21-acbefa39e91d",
   "metadata": {},
   "outputs": [],
   "source": [
    "a='X'\n",
    "b='2'"
   ]
  },
  {
   "cell_type": "code",
   "execution_count": 10,
   "id": "6648aac8-60d3-493d-b10f-5dd1289939bf",
   "metadata": {},
   "outputs": [
    {
     "data": {
      "text/plain": [
       "'X2'"
      ]
     },
     "execution_count": 10,
     "metadata": {},
     "output_type": "execute_result"
    }
   ],
   "source": [
    "c=a+b\n",
    "c"
   ]
  },
  {
   "cell_type": "markdown",
   "id": "2921b40f-89a4-43dc-ae4a-0ebe891dea15",
   "metadata": {},
   "source": [
    "`-` 빼기(-)연산"
   ]
  },
  {
   "cell_type": "code",
   "execution_count": 11,
   "id": "23e774f6-7d05-4c14-b1f8-92d3b5ef351f",
   "metadata": {},
   "outputs": [
    {
     "ename": "TypeError",
     "evalue": "unsupported operand type(s) for -: 'str' and 'str'",
     "output_type": "error",
     "traceback": [
      "\u001b[0;31m---------------------------------------------------------------------------\u001b[0m",
      "\u001b[0;31mTypeError\u001b[0m                                 Traceback (most recent call last)",
      "Cell \u001b[0;32mIn[11], line 3\u001b[0m\n\u001b[1;32m      1\u001b[0m a\u001b[38;5;241m=\u001b[39m\u001b[38;5;124m'\u001b[39m\u001b[38;5;124mX2\u001b[39m\u001b[38;5;124m'\u001b[39m\n\u001b[1;32m      2\u001b[0m b\u001b[38;5;241m=\u001b[39m\u001b[38;5;124m'\u001b[39m\u001b[38;5;124m2\u001b[39m\u001b[38;5;124m'\u001b[39m\n\u001b[0;32m----> 3\u001b[0m \u001b[43ma\u001b[49m\u001b[38;5;241;43m-\u001b[39;49m\u001b[43mb\u001b[49m\n",
      "\u001b[0;31mTypeError\u001b[0m: unsupported operand type(s) for -: 'str' and 'str'"
     ]
    }
   ],
   "source": [
    "a='X2'\n",
    "b='2'\n",
    "a-b"
   ]
  },
  {
   "cell_type": "markdown",
   "id": "c32d9d8a-0b4a-4b7c-8c9b-b313c5e597c8",
   "metadata": {},
   "source": [
    "-   이런건 없다.\n",
    "\n",
    "`-` 곱하기(\\*)연산"
   ]
  },
  {
   "cell_type": "code",
   "execution_count": 12,
   "id": "96204fc5-5fe9-4edf-8022-e887fcd6086a",
   "metadata": {},
   "outputs": [],
   "source": [
    "a='X'"
   ]
  },
  {
   "cell_type": "code",
   "execution_count": 13,
   "id": "fb3a01ac-28ea-431f-8e6b-89468587948c",
   "metadata": {},
   "outputs": [
    {
     "data": {
      "text/plain": [
       "'XXX'"
      ]
     },
     "execution_count": 13,
     "metadata": {},
     "output_type": "execute_result"
    }
   ],
   "source": [
    "a+a+a"
   ]
  },
  {
   "cell_type": "code",
   "execution_count": 14,
   "id": "2206ea1e-9c5e-4c51-aa01-308e8845ec9c",
   "metadata": {},
   "outputs": [
    {
     "data": {
      "text/plain": [
       "'XXX'"
      ]
     },
     "execution_count": 14,
     "metadata": {},
     "output_type": "execute_result"
    }
   ],
   "source": [
    "a*3 # a*3 = a+a+a = 'X'+'X+'X'"
   ]
  },
  {
   "cell_type": "markdown",
   "id": "4099e7f1-ba67-4763-9b5c-3737d03e732a",
   "metadata": {},
   "source": [
    "아래도 가능하다."
   ]
  },
  {
   "cell_type": "code",
   "execution_count": 15,
   "id": "5afac3cf-0c99-42f1-acc8-b008416eb433",
   "metadata": {},
   "outputs": [
    {
     "data": {
      "text/plain": [
       "'XXX'"
      ]
     },
     "execution_count": 15,
     "metadata": {},
     "output_type": "execute_result"
    }
   ],
   "source": [
    "3*a"
   ]
  },
  {
   "cell_type": "markdown",
   "id": "b014b839-e7d2-4fc6-b1be-d489f2874010",
   "metadata": {},
   "source": [
    "그리고 아래도 가능하다."
   ]
  },
  {
   "cell_type": "code",
   "execution_count": 16,
   "id": "8677606d-9cd0-425d-a352-5194cd10af37",
   "metadata": {},
   "outputs": [
    {
     "data": {
      "text/plain": [
       "'XXX'"
      ]
     },
     "execution_count": 16,
     "metadata": {},
     "output_type": "execute_result"
    }
   ],
   "source": [
    "a='X'\n",
    "b=3 \n",
    "a*b"
   ]
  },
  {
   "cell_type": "markdown",
   "id": "354f8e97-df6d-4197-907a-b765dc3e3c50",
   "metadata": {},
   "source": [
    "대신에 의미상 맞지 않는 것은 수행되지 않고 에러가 난다."
   ]
  },
  {
   "cell_type": "code",
   "execution_count": 17,
   "id": "3dda6310-73de-43b8-9c68-fe0da3683d11",
   "metadata": {},
   "outputs": [
    {
     "data": {
      "text/plain": [
       "'XY'"
      ]
     },
     "execution_count": 17,
     "metadata": {},
     "output_type": "execute_result"
    }
   ],
   "source": [
    "a='X'\n",
    "b='Y'\n",
    "a+b"
   ]
  },
  {
   "cell_type": "code",
   "execution_count": 18,
   "id": "2184ff3c-3cbb-4024-b2ac-f29dec5527de",
   "metadata": {},
   "outputs": [
    {
     "ename": "TypeError",
     "evalue": "can't multiply sequence by non-int of type 'str'",
     "output_type": "error",
     "traceback": [
      "\u001b[0;31m---------------------------------------------------------------------------\u001b[0m",
      "\u001b[0;31mTypeError\u001b[0m                                 Traceback (most recent call last)",
      "Cell \u001b[0;32mIn[18], line 1\u001b[0m\n\u001b[0;32m----> 1\u001b[0m \u001b[43ma\u001b[49m\u001b[38;5;241;43m*\u001b[39;49m\u001b[43mb\u001b[49m\n",
      "\u001b[0;31mTypeError\u001b[0m: can't multiply sequence by non-int of type 'str'"
     ]
    }
   ],
   "source": [
    "a*b"
   ]
  },
  {
   "cell_type": "markdown",
   "id": "a34650e3-23d3-46db-968d-79c8d751bbff",
   "metadata": {},
   "source": [
    "`-` 나눗셈(/)연산"
   ]
  },
  {
   "cell_type": "code",
   "execution_count": 19,
   "id": "77f22e63-661b-4200-ab01-d24f92046de2",
   "metadata": {},
   "outputs": [],
   "source": [
    "a='XX'"
   ]
  },
  {
   "cell_type": "code",
   "execution_count": 20,
   "id": "107e7c94-e358-449c-8a92-b740be09420a",
   "metadata": {},
   "outputs": [
    {
     "ename": "TypeError",
     "evalue": "unsupported operand type(s) for /: 'str' and 'int'",
     "output_type": "error",
     "traceback": [
      "\u001b[0;31m---------------------------------------------------------------------------\u001b[0m",
      "\u001b[0;31mTypeError\u001b[0m                                 Traceback (most recent call last)",
      "Cell \u001b[0;32mIn[20], line 1\u001b[0m\n\u001b[0;32m----> 1\u001b[0m \u001b[43ma\u001b[49m\u001b[38;5;241;43m/\u001b[39;49m\u001b[38;5;241;43m2\u001b[39;49m\n",
      "\u001b[0;31mTypeError\u001b[0m: unsupported operand type(s) for /: 'str' and 'int'"
     ]
    }
   ],
   "source": [
    "a/2"
   ]
  },
  {
   "cell_type": "markdown",
   "id": "cefb9fcd-336f-44ca-9791-fb3d0ee3b42f",
   "metadata": {},
   "source": [
    "-   이런건 없다..\n",
    "\n",
    "## 인덱싱\n",
    "\n",
    "`-` str은 하나의 벡터 문자가 여러개 있는 형태라고 생각하면 된다."
   ]
  },
  {
   "cell_type": "code",
   "execution_count": 21,
   "id": "79a5950b-59bb-47e2-9941-53f7d05252bc",
   "metadata": {},
   "outputs": [],
   "source": [
    "a='guebin'"
   ]
  },
  {
   "cell_type": "code",
   "execution_count": 22,
   "id": "0305d453-7997-4df1-9845-d3d01a6ae94c",
   "metadata": {},
   "outputs": [
    {
     "data": {
      "text/plain": [
       "'guebin'"
      ]
     },
     "execution_count": 22,
     "metadata": {},
     "output_type": "execute_result"
    }
   ],
   "source": [
    "a"
   ]
  },
  {
   "cell_type": "markdown",
   "id": "0d42d0db-614c-45e0-bf23-a3b9356fdc45",
   "metadata": {},
   "source": [
    "-   6개의 칸에 글씨가 하나씩 들어가 있음.\n",
    "\n",
    "`-` 대괄호 `[]`안에 숫자를 넣는 방식으로 벡터의 원소를 호출할 수 있다.\n",
    "(주의: 인덱스가 0부터 시작함)"
   ]
  },
  {
   "cell_type": "code",
   "execution_count": 23,
   "id": "0c20884b-a3cb-4677-9103-71384adc19b2",
   "metadata": {},
   "outputs": [
    {
     "data": {
      "text/plain": [
       "'g'"
      ]
     },
     "execution_count": 23,
     "metadata": {},
     "output_type": "execute_result"
    }
   ],
   "source": [
    "a[0] #첫번째원소"
   ]
  },
  {
   "cell_type": "code",
   "execution_count": 24,
   "id": "cc5d7fb3-a143-4c89-998a-ada55a958ba1",
   "metadata": {},
   "outputs": [
    {
     "data": {
      "text/plain": [
       "'u'"
      ]
     },
     "execution_count": 24,
     "metadata": {},
     "output_type": "execute_result"
    }
   ],
   "source": [
    "a[1] #두번째원소 "
   ]
  },
  {
   "cell_type": "markdown",
   "id": "df981468-8d45-44db-8069-2595ebfd5683",
   "metadata": {},
   "source": [
    "마지막원소는 -1로 호출할 수도 있다."
   ]
  },
  {
   "cell_type": "code",
   "execution_count": 25,
   "id": "18d020ce-b09d-4a90-918c-58276c13544c",
   "metadata": {},
   "outputs": [
    {
     "data": {
      "text/plain": [
       "'n'"
      ]
     },
     "execution_count": 25,
     "metadata": {},
     "output_type": "execute_result"
    }
   ],
   "source": [
    "a[-1]"
   ]
  },
  {
   "cell_type": "markdown",
   "id": "a20f81dd-8d00-4eca-8d5d-d3662f196e1c",
   "metadata": {},
   "source": [
    "마지막에서 2번째 원소는 -2로 호출가능하다."
   ]
  },
  {
   "cell_type": "code",
   "execution_count": 26,
   "id": "85e70a24-25b6-4a6c-b5eb-953ca74241cb",
   "metadata": {},
   "outputs": [
    {
     "data": {
      "text/plain": [
       "'i'"
      ]
     },
     "execution_count": 26,
     "metadata": {},
     "output_type": "execute_result"
    }
   ],
   "source": [
    "a[-2]"
   ]
  },
  {
   "cell_type": "markdown",
   "id": "e186d3cf-16e6-4d5e-adda-2fb7f530d742",
   "metadata": {},
   "source": [
    "`-` 요약하면 아래와 같은 방식으로 호출가능함.\n",
    "\n",
    "|  g  |  u  |  e  |  b  |  i  |  n  |\n",
    "|:---:|:---:|:---:|:---:|:---:|:---:|\n",
    "|  0  |  1  |  2  |  3  |  4  |  5  |\n",
    "|  0  | -5  | -4  | -3  | -2  | -1  |"
   ]
  },
  {
   "cell_type": "code",
   "execution_count": 27,
   "id": "0a8ade8b-88df-463b-88c7-14e8de1f7fff",
   "metadata": {},
   "outputs": [
    {
     "data": {
      "text/plain": [
       "'i'"
      ]
     },
     "execution_count": 27,
     "metadata": {},
     "output_type": "execute_result"
    }
   ],
   "source": [
    "a[4]"
   ]
  },
  {
   "cell_type": "code",
   "execution_count": 28,
   "id": "d31d3740-d7bc-41bb-a9d9-bc21fee57e36",
   "metadata": {},
   "outputs": [
    {
     "data": {
      "text/plain": [
       "'i'"
      ]
     },
     "execution_count": 28,
     "metadata": {},
     "output_type": "execute_result"
    }
   ],
   "source": [
    "a[-2]"
   ]
  },
  {
   "cell_type": "code",
   "execution_count": 29,
   "id": "cc5e4f41-e7cf-4ba8-9e62-cad834da57d8",
   "metadata": {},
   "outputs": [
    {
     "data": {
      "text/plain": [
       "'e'"
      ]
     },
     "execution_count": 29,
     "metadata": {},
     "output_type": "execute_result"
    }
   ],
   "source": [
    "a[-4]"
   ]
  },
  {
   "cell_type": "markdown",
   "id": "691ca519-b975-4a57-9a13-017595f9b926",
   "metadata": {},
   "source": [
    "`-` `:`을 이용하여 여러개의 원소를 호출할 수 있음."
   ]
  },
  {
   "cell_type": "code",
   "execution_count": 30,
   "id": "62fe50e4-71e5-4f54-8a9a-bb6954cf52cd",
   "metadata": {},
   "outputs": [],
   "source": [
    "a='guebin'"
   ]
  },
  {
   "cell_type": "code",
   "execution_count": 31,
   "id": "a5c7057c-e167-45a2-988f-b48aab9b44e2",
   "metadata": {},
   "outputs": [
    {
     "data": {
      "text/plain": [
       "'gue'"
      ]
     },
     "execution_count": 31,
     "metadata": {},
     "output_type": "execute_result"
    }
   ],
   "source": [
    "a[0:3] # a[0],a[1],a[2],a[3]이 아니라 a[0],a[1],a[2]까지만 뽑힌다. 즉 마지막의 3은 호출되지 않는다. "
   ]
  },
  {
   "cell_type": "code",
   "execution_count": 32,
   "id": "0d69e7dc-4b06-4c59-9e6b-039629b86f43",
   "metadata": {},
   "outputs": [
    {
     "data": {
      "text/plain": [
       "'ue'"
      ]
     },
     "execution_count": 32,
     "metadata": {},
     "output_type": "execute_result"
    }
   ],
   "source": [
    "a[1:3] # a[1], a[2] 만 호출 // start=1,  stop=3 "
   ]
  },
  {
   "cell_type": "markdown",
   "id": "da1ecddf-307b-4883-b6ab-7ef2af90dd4b",
   "metadata": {},
   "source": [
    "index=1부터 시작해서 마지막원소까지 호출하려면?"
   ]
  },
  {
   "cell_type": "code",
   "execution_count": 33,
   "id": "7303340b-1a8f-4a4f-9fca-d7ad8d0ae623",
   "metadata": {},
   "outputs": [],
   "source": [
    "a='guebin'"
   ]
  },
  {
   "cell_type": "code",
   "execution_count": 34,
   "id": "ac81185d-9137-448e-944b-881eb0ec698b",
   "metadata": {},
   "outputs": [
    {
     "data": {
      "text/plain": [
       "'n'"
      ]
     },
     "execution_count": 34,
     "metadata": {},
     "output_type": "execute_result"
    }
   ],
   "source": [
    "a[5] # guebin의 마지막원소 'n'이 출려 "
   ]
  },
  {
   "cell_type": "code",
   "execution_count": 35,
   "id": "cff760ab-17f2-4d3e-bb67-81020304f53a",
   "metadata": {},
   "outputs": [
    {
     "data": {
      "text/plain": [
       "'uebi'"
      ]
     },
     "execution_count": 35,
     "metadata": {},
     "output_type": "execute_result"
    }
   ],
   "source": [
    "a[1:5] # 5는 포함되지 않으므로 틀림"
   ]
  },
  {
   "cell_type": "code",
   "execution_count": 36,
   "id": "755d4763-1455-4911-abdf-54c7a01e57e5",
   "metadata": {},
   "outputs": [
    {
     "data": {
      "text/plain": [
       "'uebin'"
      ]
     },
     "execution_count": 36,
     "metadata": {},
     "output_type": "execute_result"
    }
   ],
   "source": [
    "a[1:6] # 정답"
   ]
  },
  {
   "cell_type": "markdown",
   "id": "c17609ed-7d03-440b-a59a-c29b9cb1573b",
   "metadata": {},
   "source": [
    "안 헷갈리는 방법은 없을까? 생략한다."
   ]
  },
  {
   "cell_type": "code",
   "execution_count": 37,
   "id": "3ec43f1f-488f-4773-933d-9ff06b884772",
   "metadata": {},
   "outputs": [
    {
     "data": {
      "text/plain": [
       "'uebin'"
      ]
     },
     "execution_count": 37,
     "metadata": {},
     "output_type": "execute_result"
    }
   ],
   "source": [
    "a[1:]"
   ]
  },
  {
   "cell_type": "markdown",
   "id": "75a975a3-e8ed-4211-80c5-d8ac4c9746a8",
   "metadata": {},
   "source": [
    "`-` 생략의 응용1"
   ]
  },
  {
   "cell_type": "code",
   "execution_count": 38,
   "id": "58d29252-8cd3-431e-b6fa-e63c85ef37e3",
   "metadata": {},
   "outputs": [
    {
     "data": {
      "text/plain": [
       "'k-pop'"
      ]
     },
     "execution_count": 38,
     "metadata": {},
     "output_type": "execute_result"
    }
   ],
   "source": [
    "a='k-pop' \n",
    "a"
   ]
  },
  {
   "cell_type": "code",
   "execution_count": 39,
   "id": "5d83b129-2cee-40b4-b2a0-d3c40aff0f0d",
   "metadata": {},
   "outputs": [
    {
     "data": {
      "text/plain": [
       "'pop'"
      ]
     },
     "execution_count": 39,
     "metadata": {},
     "output_type": "execute_result"
    }
   ],
   "source": [
    "a[2:5]"
   ]
  },
  {
   "cell_type": "code",
   "execution_count": 40,
   "id": "3195fc64-eff8-4664-aae1-c7a3513bc4b8",
   "metadata": {},
   "outputs": [
    {
     "data": {
      "text/plain": [
       "'pop'"
      ]
     },
     "execution_count": 40,
     "metadata": {},
     "output_type": "execute_result"
    }
   ],
   "source": [
    "a[2:]"
   ]
  },
  {
   "cell_type": "markdown",
   "id": "46315ba6-5197-4615-b272-cd938c105e57",
   "metadata": {},
   "source": [
    "`-` 생략의 응용2"
   ]
  },
  {
   "cell_type": "code",
   "execution_count": 41,
   "id": "1956b74a-9928-4325-afdb-a30d964b1b78",
   "metadata": {},
   "outputs": [
    {
     "data": {
      "text/plain": [
       "'k-pop'"
      ]
     },
     "execution_count": 41,
     "metadata": {},
     "output_type": "execute_result"
    }
   ],
   "source": [
    "a='k-pop'\n",
    "a"
   ]
  },
  {
   "cell_type": "code",
   "execution_count": 42,
   "id": "69e55965-b902-49eb-afe9-de61885cba2e",
   "metadata": {},
   "outputs": [
    {
     "data": {
      "text/plain": [
       "'k-'"
      ]
     },
     "execution_count": 42,
     "metadata": {},
     "output_type": "execute_result"
    }
   ],
   "source": [
    "a[0:2] # a[0],a[1]"
   ]
  },
  {
   "cell_type": "code",
   "execution_count": 43,
   "id": "0b57d2ab-3d16-4761-848b-c8f742431513",
   "metadata": {},
   "outputs": [
    {
     "data": {
      "text/plain": [
       "'k-'"
      ]
     },
     "execution_count": 43,
     "metadata": {},
     "output_type": "execute_result"
    }
   ],
   "source": [
    "a[:2] # a[0],a[1] "
   ]
  },
  {
   "cell_type": "markdown",
   "id": "343451c0-1ab5-49d1-a56d-230287a4163c",
   "metadata": {},
   "source": [
    "`-` 생략의 응용3"
   ]
  },
  {
   "cell_type": "code",
   "execution_count": 44,
   "id": "7ec04af6-d7f6-4ebe-97f8-e670bf4142b2",
   "metadata": {},
   "outputs": [
    {
     "data": {
      "text/plain": [
       "'k-pop'"
      ]
     },
     "execution_count": 44,
     "metadata": {},
     "output_type": "execute_result"
    }
   ],
   "source": [
    "a='k-pop'\n",
    "a"
   ]
  },
  {
   "cell_type": "code",
   "execution_count": 45,
   "id": "e251c5d4-b724-4674-806a-5b3cc2490db0",
   "metadata": {},
   "outputs": [
    {
     "data": {
      "text/plain": [
       "'k-pop'"
      ]
     },
     "execution_count": 45,
     "metadata": {},
     "output_type": "execute_result"
    }
   ],
   "source": [
    "a[0:5] # a[0],...,a[4]"
   ]
  },
  {
   "cell_type": "code",
   "execution_count": 46,
   "id": "70f8a025-5ae8-4e03-bedc-e79c8a25d151",
   "metadata": {},
   "outputs": [
    {
     "data": {
      "text/plain": [
       "'k-pop'"
      ]
     },
     "execution_count": 46,
     "metadata": {},
     "output_type": "execute_result"
    }
   ],
   "source": [
    "a[:]"
   ]
  },
  {
   "cell_type": "markdown",
   "id": "b56746db-7a08-49fd-b1c6-43f15009d356",
   "metadata": {},
   "source": [
    "## str 특수기능\n",
    "\n",
    "`-` 파이썬의 변수는 단순히 정보를 담는 그릇이 아니다. 유용한 기능을\n",
    "제공하는 경우가 있다."
   ]
  },
  {
   "cell_type": "code",
   "execution_count": 47,
   "id": "4f7ed308-37da-4d2d-8acd-5a4980a47abe",
   "metadata": {},
   "outputs": [
    {
     "data": {
      "text/plain": [
       "'ABCD'"
      ]
     },
     "execution_count": 47,
     "metadata": {},
     "output_type": "execute_result"
    }
   ],
   "source": [
    "a='ABCD' # a라는 변수는 'ABCD'라는 정보를 담는 그릇의 역할만 하지 않고, 특화된 어떠한 기능도 제공한다. \n",
    "a"
   ]
  },
  {
   "cell_type": "code",
   "execution_count": 48,
   "id": "49c16c42-9833-4d27-bc1a-f087121956d3",
   "metadata": {},
   "outputs": [
    {
     "data": {
      "text/plain": [
       "'abcd'"
      ]
     },
     "execution_count": 48,
     "metadata": {},
     "output_type": "execute_result"
    }
   ],
   "source": [
    "a.lower() # a.lower()를 쓰면 a의 모든 문자를 소문자로 바꾸는 기능을 제공, lower(a)라고 읽자!"
   ]
  },
  {
   "cell_type": "markdown",
   "id": "18f02304-ed36-4cee-927f-a92aa1978e41",
   "metadata": {},
   "source": [
    "여기에서 lower()는 문자열에 특화된 기능임. 따라서 당연히 아래는 불가능"
   ]
  },
  {
   "cell_type": "code",
   "execution_count": 50,
   "id": "467117d1-7157-4f67-8189-883625c13d7e",
   "metadata": {},
   "outputs": [
    {
     "ename": "AttributeError",
     "evalue": "'float' object has no attribute 'lower'",
     "output_type": "error",
     "traceback": [
      "\u001b[0;31m---------------------------------------------------------------------------\u001b[0m",
      "\u001b[0;31mAttributeError\u001b[0m                            Traceback (most recent call last)",
      "Cell \u001b[0;32mIn[50], line 2\u001b[0m\n\u001b[1;32m      1\u001b[0m a\u001b[38;5;241m=\u001b[39m\u001b[38;5;241m3.14\u001b[39m\n\u001b[0;32m----> 2\u001b[0m \u001b[43ma\u001b[49m\u001b[38;5;241;43m.\u001b[39;49m\u001b[43mlower\u001b[49m() \u001b[38;5;66;03m# lower(a)\u001b[39;00m\n",
      "\u001b[0;31mAttributeError\u001b[0m: 'float' object has no attribute 'lower'"
     ]
    }
   ],
   "source": [
    "a=3.14\n",
    "a.lower() # lower(a)"
   ]
  },
  {
   "cell_type": "markdown",
   "id": "b5fec6ed-570b-4373-830f-dabb7251cda5",
   "metadata": {},
   "source": [
    "`-` 자료형에 특화된 기능(=함수)을 확인하는 방법? `a.`+ `tab` 으로 목록\n",
    "확인 가능"
   ]
  },
  {
   "cell_type": "code",
   "execution_count": 51,
   "id": "c9965258-c6be-41fe-9739-9281296be760",
   "metadata": {},
   "outputs": [],
   "source": [
    "a='guebin'"
   ]
  },
  {
   "cell_type": "code",
   "execution_count": 52,
   "id": "301f3fb7-cac2-4cf0-9fdf-f83bd1b0ac97",
   "metadata": {},
   "outputs": [
    {
     "data": {
      "text/plain": [
       "\u001b[0;31mSignature:\u001b[0m \u001b[0ma\u001b[0m\u001b[0;34m.\u001b[0m\u001b[0mupper\u001b[0m\u001b[0;34m(\u001b[0m\u001b[0;34m)\u001b[0m\u001b[0;34m\u001b[0m\u001b[0;34m\u001b[0m\u001b[0m\n",
       "\u001b[0;31mDocstring:\u001b[0m Return a copy of the string converted to uppercase.\n",
       "\u001b[0;31mType:\u001b[0m      builtin_function_or_method"
      ]
     },
     "metadata": {},
     "output_type": "display_data"
    }
   ],
   "source": [
    "a.upper?"
   ]
  },
  {
   "cell_type": "code",
   "execution_count": 53,
   "id": "f8af36d2-2f22-426a-a6b7-a83d51ee9aef",
   "metadata": {},
   "outputs": [
    {
     "data": {
      "text/plain": [
       "'GUEBIN'"
      ]
     },
     "execution_count": 53,
     "metadata": {},
     "output_type": "execute_result"
    }
   ],
   "source": [
    "a.upper() # upper(a) "
   ]
  },
  {
   "cell_type": "code",
   "execution_count": 54,
   "id": "0f91d3e0-d258-4b4c-a354-18fa05e6d4dd",
   "metadata": {},
   "outputs": [
    {
     "data": {
      "text/plain": [
       "'Guebin'"
      ]
     },
     "execution_count": 54,
     "metadata": {},
     "output_type": "execute_result"
    }
   ],
   "source": [
    "a.capitalize() # capitalize(a) "
   ]
  },
  {
   "cell_type": "code",
   "execution_count": 55,
   "id": "6313107d-2d52-4c0b-af38-e85a5c0505e6",
   "metadata": {},
   "outputs": [],
   "source": [
    "a='asdf'"
   ]
  },
  {
   "cell_type": "markdown",
   "id": "4efd95b7-e38d-48b1-893b-a3e3fedf1ac4",
   "metadata": {},
   "source": [
    "`-` 문자열에 대한 다른 내용들은 추후에 다루겠음.\n",
    "\n",
    "`-` 마음의눈: `a.f()` 형태를 읽는 팁\n",
    "\n",
    "-   `a.f()`는 `f(a)`로 생각하면 편리함.\n",
    "-   `a.f(2)`는 `f(a,2)`로 생각하면 편리함.\n",
    "-   이런점에서 R `%>%` 연산자와 비슷하다고 생각할 수 있다. (약간\n",
    "    다르긴함)\n",
    "\n",
    "`-` 사실 `.`은 좀 더 다양한 상황에서 쓰일 수 있다. `변수이름.함수이름()`\n",
    "의 형태가 아니라\n",
    "\n",
    "-   `패지키이름.함수이름()`\n",
    "-   `패키지이름.변수이름`\n",
    "-   `패키지이름.패키지이름.함수이름()`\n",
    "-   …\n",
    "\n",
    "와 같이 다양한 형태가 가능하다. 근본적인 공통점은 `.`을 기준으로\n",
    "`상위개념.하위개념` 으로 이해하는 것이 좋다.\n",
    "\n",
    "## len\n",
    "\n",
    "`-` `len`함수 소개: 원소의 갯수를 알려주는 함수."
   ]
  },
  {
   "cell_type": "code",
   "execution_count": 56,
   "id": "491c469d-1a5a-45fe-9c83-28e4b3e4ff2d",
   "metadata": {},
   "outputs": [
    {
     "data": {
      "text/plain": [
       "4"
      ]
     },
     "execution_count": 56,
     "metadata": {},
     "output_type": "execute_result"
    }
   ],
   "source": [
    "a='ABCD' \n",
    "len(a)"
   ]
  },
  {
   "cell_type": "markdown",
   "id": "0124418a-370c-4e5b-9c36-98b8000a1256",
   "metadata": {},
   "source": [
    "`-` 참고: len은 0차원 변수형에서는 동작하지 않고 1차원 변수형에서만\n",
    "동작한다.\n",
    "\n",
    "(0차원) `len` 함수가 동작하지 않음."
   ]
  },
  {
   "cell_type": "code",
   "execution_count": 57,
   "id": "3a11e307-85e2-4194-aeeb-f8d6363c3a26",
   "metadata": {},
   "outputs": [],
   "source": [
    "a=3.14"
   ]
  },
  {
   "cell_type": "code",
   "execution_count": 58,
   "id": "0daa3095-7acc-4860-8f68-7a6f5d46a3f6",
   "metadata": {},
   "outputs": [
    {
     "ename": "TypeError",
     "evalue": "object of type 'float' has no len()",
     "output_type": "error",
     "traceback": [
      "\u001b[0;31m---------------------------------------------------------------------------\u001b[0m",
      "\u001b[0;31mTypeError\u001b[0m                                 Traceback (most recent call last)",
      "Cell \u001b[0;32mIn[58], line 1\u001b[0m\n\u001b[0;32m----> 1\u001b[0m \u001b[38;5;28;43mlen\u001b[39;49m\u001b[43m(\u001b[49m\u001b[43ma\u001b[49m\u001b[43m)\u001b[49m\n",
      "\u001b[0;31mTypeError\u001b[0m: object of type 'float' has no len()"
     ]
    }
   ],
   "source": [
    "len(a)"
   ]
  },
  {
   "cell_type": "code",
   "execution_count": 59,
   "id": "83746dc1-87e1-47ad-8ba1-5cfaff4d2a3a",
   "metadata": {},
   "outputs": [],
   "source": [
    "b=True"
   ]
  },
  {
   "cell_type": "code",
   "execution_count": 60,
   "id": "3354bca3-b748-4e17-a44f-30eec029533c",
   "metadata": {},
   "outputs": [
    {
     "ename": "TypeError",
     "evalue": "object of type 'bool' has no len()",
     "output_type": "error",
     "traceback": [
      "\u001b[0;31m---------------------------------------------------------------------------\u001b[0m",
      "\u001b[0;31mTypeError\u001b[0m                                 Traceback (most recent call last)",
      "Cell \u001b[0;32mIn[60], line 1\u001b[0m\n\u001b[0;32m----> 1\u001b[0m \u001b[38;5;28;43mlen\u001b[39;49m\u001b[43m(\u001b[49m\u001b[43mb\u001b[49m\u001b[43m)\u001b[49m\n",
      "\u001b[0;31mTypeError\u001b[0m: object of type 'bool' has no len()"
     ]
    }
   ],
   "source": [
    "len(b)"
   ]
  },
  {
   "cell_type": "markdown",
   "id": "e0d9a031-593e-4f3e-ad11-20a1ad9cb8b2",
   "metadata": {},
   "source": [
    "(1차원) `len` 함수가 잘 동작함."
   ]
  },
  {
   "cell_type": "code",
   "execution_count": 61,
   "id": "9b28a788-f91c-481b-aed8-4ba1a9916c35",
   "metadata": {},
   "outputs": [
    {
     "data": {
      "text/plain": [
       "4"
      ]
     },
     "execution_count": 61,
     "metadata": {},
     "output_type": "execute_result"
    }
   ],
   "source": [
    "a='3.14'\n",
    "len(a)"
   ]
  },
  {
   "cell_type": "code",
   "execution_count": 62,
   "id": "a999f4d6-5cf5-4b9c-8b34-b8a2ab35f9ad",
   "metadata": {},
   "outputs": [],
   "source": [
    "b=[1,2,3]"
   ]
  },
  {
   "cell_type": "code",
   "execution_count": 63,
   "id": "9d607870-3baa-4288-91d4-4a0991480b15",
   "metadata": {},
   "outputs": [
    {
     "data": {
      "text/plain": [
       "3"
      ]
     },
     "execution_count": 63,
     "metadata": {},
     "output_type": "execute_result"
    }
   ],
   "source": [
    "len(b)"
   ]
  },
  {
   "cell_type": "markdown",
   "id": "4874dcaa-af11-4296-b753-a44dc8d89408",
   "metadata": {},
   "source": [
    "# HW: 0315\n",
    "\n",
    "아래와 같은 문자열이 있다고 하자."
   ]
  },
  {
   "cell_type": "code",
   "execution_count": 64,
   "id": "97d226d3-afa2-43fe-8b26-1245e01b2ddf",
   "metadata": {},
   "outputs": [],
   "source": [
    "a='Jeonbuk National University' "
   ]
  },
  {
   "cell_type": "markdown",
   "id": "ee989cdc-1c2b-456f-970a-1bfaf82bf727",
   "metadata": {},
   "source": [
    "`1`. 적당한 인덱싱을 통하여 출력결과가 아래와 같도록 하라."
   ]
  },
  {
   "cell_type": "code",
   "execution_count": 69,
   "id": "bfb9e375-62eb-4ee6-a8e5-777ddb8dceb4",
   "metadata": {},
   "outputs": [
    {
     "data": {
      "text/plain": [
       "'University'"
      ]
     },
     "execution_count": 69,
     "metadata": {},
     "output_type": "execute_result"
    }
   ],
   "source": [
    "a[17:]"
   ]
  },
  {
   "cell_type": "markdown",
   "id": "cbec5696-0b0d-4d08-b92f-abf59da3a241",
   "metadata": {},
   "source": [
    "```python\n",
    "# 적당한 인덱싱 출력결과\n",
    "'University'\n",
    "```"
   ]
  },
  {
   "cell_type": "markdown",
   "id": "e2fbe6f4-fe15-4120-852a-7194bd3de2f8",
   "metadata": {},
   "source": [
    "**hint**: University는 10글자이다.\n",
    "\n",
    "`2`. 출력결과가 아래와 같도록 하는 코드를 작성하라. (lower 함수를 이용할\n",
    "것)"
   ]
  },
  {
   "cell_type": "code",
   "execution_count": 70,
   "id": "7fa6ccb1-0305-49aa-954b-9954fe290273",
   "metadata": {},
   "outputs": [
    {
     "data": {
      "text/plain": [
       "'jeonbuk national university'"
      ]
     },
     "execution_count": 70,
     "metadata": {},
     "output_type": "execute_result"
    }
   ],
   "source": [
    "a.lower()"
   ]
  },
  {
   "cell_type": "markdown",
   "id": "59f917fa-b881-4925-9a6e-aed1522ec326",
   "metadata": {},
   "source": [
    "```python\n",
    "# 적당한 코드 결과\n",
    "'jeonbuk national university'\n",
    "```"
   ]
  },
  {
   "cell_type": "markdown",
   "id": "7be3f0d9-e27e-49cb-96f6-d138a99fd149",
   "metadata": {},
   "source": [
    "`3`. 아래의 코드를 관찰하고 isupper()의 기능이 무엇인지 스스로\n",
    "정리해보라."
   ]
  },
  {
   "cell_type": "code",
   "execution_count": 76,
   "id": "82567453-19a2-49d9-a8bc-22492ba55d4a",
   "metadata": {},
   "outputs": [
    {
     "data": {
      "text/plain": [
       "True"
      ]
     },
     "execution_count": 76,
     "metadata": {},
     "output_type": "execute_result"
    }
   ],
   "source": [
    "'A'.isupper()"
   ]
  },
  {
   "cell_type": "code",
   "execution_count": 77,
   "id": "97216c74-fde6-4976-ab98-524787e39120",
   "metadata": {},
   "outputs": [
    {
     "data": {
      "text/plain": [
       "True"
      ]
     },
     "execution_count": 77,
     "metadata": {},
     "output_type": "execute_result"
    }
   ],
   "source": [
    "'AA'.isupper()"
   ]
  },
  {
   "cell_type": "code",
   "execution_count": 78,
   "id": "dda2089e-220e-4b0c-90fb-392fafe9da8f",
   "metadata": {},
   "outputs": [
    {
     "data": {
      "text/plain": [
       "False"
      ]
     },
     "execution_count": 78,
     "metadata": {},
     "output_type": "execute_result"
    }
   ],
   "source": [
    "'Aa'.isupper()"
   ]
  },
  {
   "cell_type": "code",
   "execution_count": 79,
   "id": "d35cba09-1b59-46b7-a18e-6e3b15b2bc5f",
   "metadata": {},
   "outputs": [
    {
     "data": {
      "text/plain": [
       "False"
      ]
     },
     "execution_count": 79,
     "metadata": {},
     "output_type": "execute_result"
    }
   ],
   "source": [
    "'aa'.isupper()"
   ]
  },
  {
   "cell_type": "code",
   "execution_count": 80,
   "id": "83e1a853-0d6b-48e0-9e38-28d93cdb7011",
   "metadata": {},
   "outputs": [
    {
     "data": {
      "text/plain": [
       "False"
      ]
     },
     "execution_count": 80,
     "metadata": {},
     "output_type": "execute_result"
    }
   ],
   "source": [
    "'aA'.isupper()"
   ]
  },
  {
   "cell_type": "markdown",
   "id": "d1ff50d4-b306-47b0-9096-4a7ca3a384e5",
   "metadata": {},
   "source": [
    "> 예상: 주어진 문자열을 대문자로 바꿔라?"
   ]
  },
  {
   "cell_type": "markdown",
   "id": "bb356ab6-80aa-4b51-a6e8-db9bf2ee5c18",
   "metadata": {},
   "source": [
    "유추한 기능이 맞는지 ChatGPT를 통하여 확인하라."
   ]
  },
  {
   "cell_type": "markdown",
   "id": "b988808a-7634-4d1f-81ae-7efc6554b4be",
   "metadata": {},
   "source": [
    "`4`. 다음중 실행 불가능한 코드를 모두 골라라.\n",
    "\n",
    "``` python\n",
    "(a) 'a'*2 \n",
    "\n",
    "(b) 'a'*'2'\n",
    "\n",
    "(c) 'a'+2 \n",
    "\n",
    "(d) 'a'+'2'\n",
    "```"
   ]
  },
  {
   "cell_type": "markdown",
   "id": "e40cdaa0-7854-4fda-97e9-9e7aa0989f6d",
   "metadata": {},
   "source": [
    "**Answer** : (b) , (c)"
   ]
  },
  {
   "cell_type": "code",
   "execution_count": 85,
   "id": "32559ec9-8dd6-45c3-8ed6-d23b97c3b27d",
   "metadata": {},
   "outputs": [
    {
     "data": {
      "text/plain": [
       "'aa'"
      ]
     },
     "execution_count": 85,
     "metadata": {},
     "output_type": "execute_result"
    }
   ],
   "source": [
    "# (a)\n",
    "'a'*2"
   ]
  },
  {
   "cell_type": "code",
   "execution_count": 86,
   "id": "23e9d70b-9ded-41d2-b895-82193e7ef7c5",
   "metadata": {},
   "outputs": [
    {
     "ename": "TypeError",
     "evalue": "can't multiply sequence by non-int of type 'str'",
     "output_type": "error",
     "traceback": [
      "\u001b[0;31m---------------------------------------------------------------------------\u001b[0m",
      "\u001b[0;31mTypeError\u001b[0m                                 Traceback (most recent call last)",
      "Cell \u001b[0;32mIn[86], line 2\u001b[0m\n\u001b[1;32m      1\u001b[0m \u001b[38;5;66;03m# (b)\u001b[39;00m\n\u001b[0;32m----> 2\u001b[0m \u001b[38;5;124;43m'\u001b[39;49m\u001b[38;5;124;43ma\u001b[39;49m\u001b[38;5;124;43m'\u001b[39;49m\u001b[43m \u001b[49m\u001b[38;5;241;43m*\u001b[39;49m\u001b[43m \u001b[49m\u001b[38;5;124;43m'\u001b[39;49m\u001b[38;5;124;43m2\u001b[39;49m\u001b[38;5;124;43m'\u001b[39;49m\n",
      "\u001b[0;31mTypeError\u001b[0m: can't multiply sequence by non-int of type 'str'"
     ]
    }
   ],
   "source": [
    "# (b)\n",
    "'a' * '2'"
   ]
  },
  {
   "cell_type": "code",
   "execution_count": 87,
   "id": "23eb4166-414a-484d-b661-3e811914c0c8",
   "metadata": {},
   "outputs": [
    {
     "ename": "TypeError",
     "evalue": "can only concatenate str (not \"int\") to str",
     "output_type": "error",
     "traceback": [
      "\u001b[0;31m---------------------------------------------------------------------------\u001b[0m",
      "\u001b[0;31mTypeError\u001b[0m                                 Traceback (most recent call last)",
      "Cell \u001b[0;32mIn[87], line 2\u001b[0m\n\u001b[1;32m      1\u001b[0m \u001b[38;5;66;03m# (c)\u001b[39;00m\n\u001b[0;32m----> 2\u001b[0m \u001b[38;5;124;43m'\u001b[39;49m\u001b[38;5;124;43ma\u001b[39;49m\u001b[38;5;124;43m'\u001b[39;49m\u001b[43m \u001b[49m\u001b[38;5;241;43m+\u001b[39;49m\u001b[43m \u001b[49m\u001b[38;5;241;43m2\u001b[39;49m\n",
      "\u001b[0;31mTypeError\u001b[0m: can only concatenate str (not \"int\") to str"
     ]
    }
   ],
   "source": [
    "# (c)\n",
    "'a' + 2"
   ]
  },
  {
   "cell_type": "code",
   "execution_count": 88,
   "id": "52ae181a-a2b1-468f-a599-843f1d873634",
   "metadata": {},
   "outputs": [
    {
     "data": {
      "text/plain": [
       "'a2'"
      ]
     },
     "execution_count": 88,
     "metadata": {},
     "output_type": "execute_result"
    }
   ],
   "source": [
    "# (d)\n",
    "'a' + '2'"
   ]
  }
 ],
 "metadata": {
  "kernelspec": {
   "display_name": "Python 3",
   "language": "python",
   "name": "python3"
  },
  "language_info": {
   "codemirror_mode": {
    "name": "ipython",
    "version": 3
   },
   "file_extension": ".py",
   "mimetype": "text/x-python",
   "name": "python",
   "nbconvert_exporter": "python",
   "pygments_lexer": "ipython3",
   "version": "3.8.16"
  }
 },
 "nbformat": 4,
 "nbformat_minor": 5
}
