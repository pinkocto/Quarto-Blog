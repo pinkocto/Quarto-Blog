{
 "cells": [
  {
   "cell_type": "raw",
   "id": "3afd7e33-bfdf-4437-8dcd-0b66bff2eed6",
   "metadata": {},
   "source": [
    "---\n",
    "title: \"**[IP2022]** Numpy 4단계(concat, stack)\"\n",
    "author: \"jiyun Lim\"\n",
    "date: \"02/23/2023\"\n",
    "categories:\n",
    "  - Python\n",
    "  - Numpy\n",
    "---"
   ]
  },
  {
   "cell_type": "markdown",
   "id": "24e368e7-9daf-4e85-aa91-07081e143e5d",
   "metadata": {},
   "source": [
    "# Numpy 공부 4단계\n",
    "> Numpy array를 결합하는 기능들에 대해 알아보자. (`np.concatenate`, `np.concat`)"
   ]
  },
  {
   "cell_type": "markdown",
   "id": "4ed2fae9-8a7b-4859-b8f0-023a93059a15",
   "metadata": {},
   "source": [
    "## np.concatenate"
   ]
  },
  {
   "cell_type": "markdown",
   "id": "929d8bb8-9aa9-461a-859e-f9bd33aaa8cd",
   "metadata": {},
   "source": [
    "`-` 기본예제"
   ]
  },
  {
   "cell_type": "code",
   "execution_count": 3,
   "id": "497b25cb-b62a-4ac8-be82-e49a9ee65ba8",
   "metadata": {},
   "outputs": [],
   "source": [
    "import numpy as np"
   ]
  },
  {
   "cell_type": "code",
   "execution_count": 5,
   "id": "bf72d5c6-1132-4354-a903-31241f13ed27",
   "metadata": {},
   "outputs": [],
   "source": [
    "a = np.array([1,2])\n",
    "b = -a"
   ]
  },
  {
   "cell_type": "code",
   "execution_count": 6,
   "id": "b269ecf9-25ba-44e6-bdd9-c3ccb70901d2",
   "metadata": {},
   "outputs": [
    {
     "data": {
      "text/plain": [
       "array([ 1,  2, -1, -2])"
      ]
     },
     "execution_count": 6,
     "metadata": {},
     "output_type": "execute_result"
    }
   ],
   "source": [
    "np.concatenate([a,b])"
   ]
  },
  {
   "cell_type": "markdown",
   "id": "54d221f1-bb0b-4636-8f25-3cf7608328f1",
   "metadata": {},
   "source": [
    "`-` 응용"
   ]
  },
  {
   "cell_type": "code",
   "execution_count": 8,
   "id": "a820116d-3374-4c61-81b3-d73357cdef1f",
   "metadata": {},
   "outputs": [],
   "source": [
    "a = np.array([1,2])\n",
    "b = -a\n",
    "c = np.array([3,4,5])"
   ]
  },
  {
   "cell_type": "code",
   "execution_count": 9,
   "id": "ac9d3a35-af7d-4b21-926e-f918425b00f1",
   "metadata": {},
   "outputs": [
    {
     "data": {
      "text/plain": [
       "array([ 1,  2, -1, -2,  3,  4,  5])"
      ]
     },
     "execution_count": 9,
     "metadata": {},
     "output_type": "execute_result"
    }
   ],
   "source": [
    "np.concatenate([a,b,c])"
   ]
  },
  {
   "cell_type": "markdown",
   "id": "5b3e61a9-ad39-496c-8f21-86a1ef4e34e0",
   "metadata": {},
   "source": [
    "- 여기까진 딱히 concatenate의 메리트가 없어보임\n",
    "- 리스트였다면 a+b+c하면 되는 기능이니까?"
   ]
  },
  {
   "cell_type": "markdown",
   "id": "1d1ef078-349e-418a-a522-08f4942d8795",
   "metadata": {},
   "source": [
    "`-` 2d array에 적용해보자."
   ]
  },
  {
   "cell_type": "code",
   "execution_count": 12,
   "id": "a1661349-f682-41b5-9f66-0fb7ea24c75a",
   "metadata": {},
   "outputs": [],
   "source": [
    "a = np.arange(4).reshape(2,2)\n",
    "b = -a"
   ]
  },
  {
   "cell_type": "code",
   "execution_count": 15,
   "id": "ff0eedaa-7033-494c-8c75-f425e3cab7ca",
   "metadata": {},
   "outputs": [
    {
     "data": {
      "text/plain": [
       "array([[0, 1],\n",
       "       [2, 3]])"
      ]
     },
     "execution_count": 15,
     "metadata": {},
     "output_type": "execute_result"
    }
   ],
   "source": [
    "a"
   ]
  },
  {
   "cell_type": "code",
   "execution_count": 16,
   "id": "8afb3591-2219-491d-b97a-3d632ee79193",
   "metadata": {},
   "outputs": [
    {
     "data": {
      "text/plain": [
       "array([[ 0, -1],\n",
       "       [-2, -3]])"
      ]
     },
     "execution_count": 16,
     "metadata": {},
     "output_type": "execute_result"
    }
   ],
   "source": [
    "b"
   ]
  },
  {
   "cell_type": "code",
   "execution_count": 13,
   "id": "975d1737-16ec-46e0-bd61-35390c08ad22",
   "metadata": {},
   "outputs": [
    {
     "data": {
      "text/plain": [
       "array([[ 0,  1],\n",
       "       [ 2,  3],\n",
       "       [ 0, -1],\n",
       "       [-2, -3]])"
      ]
     },
     "execution_count": 13,
     "metadata": {},
     "output_type": "execute_result"
    }
   ],
   "source": [
    "np.concatenate([a,b])"
   ]
  },
  {
   "cell_type": "markdown",
   "id": "7c6877d4-b5f1-4649-bb6d-4aa1efdc0501",
   "metadata": {},
   "source": [
    "- 위아래로 붙었네! 그럼 옆으로 붙이려면 어떻게 하지?"
   ]
  },
  {
   "cell_type": "markdown",
   "id": "d5c057e3-73a6-4dec-9e57-afbfaea04eb4",
   "metadata": {},
   "source": [
    "`-` 옆으로 붙이려면?"
   ]
  },
  {
   "cell_type": "code",
   "execution_count": 14,
   "id": "6b50ee9f-cb90-41e8-a2ef-13ee01018172",
   "metadata": {},
   "outputs": [
    {
     "data": {
      "text/plain": [
       "array([[ 0,  1,  0, -1],\n",
       "       [ 2,  3, -2, -3]])"
      ]
     },
     "execution_count": 14,
     "metadata": {},
     "output_type": "execute_result"
    }
   ],
   "source": [
    "np.concatenate([a,b], axis=1)"
   ]
  },
  {
   "cell_type": "markdown",
   "id": "5787cacc-e232-40c2-bdcd-cafd86c868a3",
   "metadata": {},
   "source": [
    "`-` 위의 코드에서 axis=1 이 뭐지? axis=0,2 등을 치면 결과가 어떻게 될까?"
   ]
  },
  {
   "cell_type": "code",
   "execution_count": 17,
   "id": "c0c203d5-654f-4efb-89c7-643031f03576",
   "metadata": {},
   "outputs": [
    {
     "data": {
      "text/plain": [
       "array([[ 0,  1],\n",
       "       [ 2,  3],\n",
       "       [ 0, -1],\n",
       "       [-2, -3]])"
      ]
     },
     "execution_count": 17,
     "metadata": {},
     "output_type": "execute_result"
    }
   ],
   "source": [
    "np.concatenate([a,b],axis=0)"
   ]
  },
  {
   "cell_type": "markdown",
   "id": "75dcfd33-3a2b-40ba-b4f7-2333fe00a9d9",
   "metadata": {},
   "source": [
    "- 이건 그냥 np.concatenate([a,b])와 같다.\n",
    "- np.concatenate([a,b])는 np.concatenate([a,b],axis=0)의 생략버전이군?"
   ]
  },
  {
   "cell_type": "code",
   "execution_count": 18,
   "id": "3972b0c5-49ca-4c3a-b09d-e32a5edfe183",
   "metadata": {},
   "outputs": [
    {
     "ename": "AxisError",
     "evalue": "axis 2 is out of bounds for array of dimension 2",
     "output_type": "error",
     "traceback": [
      "\u001b[0;31m---------------------------------------------------------------------------\u001b[0m",
      "\u001b[0;31mAxisError\u001b[0m                                 Traceback (most recent call last)",
      "Cell \u001b[0;32mIn[18], line 1\u001b[0m\n\u001b[0;32m----> 1\u001b[0m \u001b[43mnp\u001b[49m\u001b[38;5;241;43m.\u001b[39;49m\u001b[43mconcatenate\u001b[49m\u001b[43m(\u001b[49m\u001b[43m[\u001b[49m\u001b[43ma\u001b[49m\u001b[43m,\u001b[49m\u001b[43mb\u001b[49m\u001b[43m]\u001b[49m\u001b[43m,\u001b[49m\u001b[43maxis\u001b[49m\u001b[38;5;241;43m=\u001b[39;49m\u001b[38;5;241;43m2\u001b[39;49m\u001b[43m)\u001b[49m\n",
      "File \u001b[0;32m<__array_function__ internals>:180\u001b[0m, in \u001b[0;36mconcatenate\u001b[0;34m(*args, **kwargs)\u001b[0m\n",
      "\u001b[0;31mAxisError\u001b[0m: axis 2 is out of bounds for array of dimension 2"
     ]
    }
   ],
   "source": [
    "np.concatenate([a,b],axis=2)"
   ]
  },
  {
   "cell_type": "markdown",
   "id": "b17f3634-3d3c-40e2-863d-b3d7c47a8c21",
   "metadata": {},
   "source": [
    "- 이런건 없다."
   ]
  },
  {
   "cell_type": "markdown",
   "id": "4614d91d-bf30-4ad4-bc29-48a80eaf6e32",
   "metadata": {},
   "source": [
    "`-` axis의 의미가 뭔지 궁금함. 좀 더 예제를 살펴보자."
   ]
  },
  {
   "cell_type": "code",
   "execution_count": 19,
   "id": "33db7b5b-6fcb-4ee9-a7b3-164583c8910e",
   "metadata": {},
   "outputs": [
    {
     "data": {
      "text/plain": [
       "array([[[ 0,  1,  2,  3],\n",
       "        [ 4,  5,  6,  7],\n",
       "        [ 8,  9, 10, 11]],\n",
       "\n",
       "       [[12, 13, 14, 15],\n",
       "        [16, 17, 18, 19],\n",
       "        [20, 21, 22, 23]]])"
      ]
     },
     "execution_count": 19,
     "metadata": {},
     "output_type": "execute_result"
    }
   ],
   "source": [
    "a = np.array(range(2*3*4)).reshape(2,3,4) # 3d array\n",
    "a"
   ]
  },
  {
   "cell_type": "code",
   "execution_count": 21,
   "id": "0bf1d780-33f7-4c66-b00e-f468956ec457",
   "metadata": {},
   "outputs": [
    {
     "data": {
      "text/plain": [
       "array([[[  0,  -1,  -2,  -3],\n",
       "        [ -4,  -5,  -6,  -7],\n",
       "        [ -8,  -9, -10, -11]],\n",
       "\n",
       "       [[-12, -13, -14, -15],\n",
       "        [-16, -17, -18, -19],\n",
       "        [-20, -21, -22, -23]]])"
      ]
     },
     "execution_count": 21,
     "metadata": {},
     "output_type": "execute_result"
    }
   ],
   "source": [
    "b = -a\n",
    "b"
   ]
  },
  {
   "cell_type": "code",
   "execution_count": 22,
   "id": "822b4a01-1d33-416d-a4e6-78c362ceaaf5",
   "metadata": {},
   "outputs": [
    {
     "data": {
      "text/plain": [
       "array([[[  0,   1,   2,   3],\n",
       "        [  4,   5,   6,   7],\n",
       "        [  8,   9,  10,  11]],\n",
       "\n",
       "       [[ 12,  13,  14,  15],\n",
       "        [ 16,  17,  18,  19],\n",
       "        [ 20,  21,  22,  23]],\n",
       "\n",
       "       [[  0,  -1,  -2,  -3],\n",
       "        [ -4,  -5,  -6,  -7],\n",
       "        [ -8,  -9, -10, -11]],\n",
       "\n",
       "       [[-12, -13, -14, -15],\n",
       "        [-16, -17, -18, -19],\n",
       "        [-20, -21, -22, -23]]])"
      ]
     },
     "execution_count": 22,
     "metadata": {},
     "output_type": "execute_result"
    }
   ],
   "source": [
    "np.concatenate([a,b],axis=0)"
   ]
  },
  {
   "cell_type": "code",
   "execution_count": 23,
   "id": "78cc2a7f-5c68-4b10-95eb-3ce851b49cb8",
   "metadata": {},
   "outputs": [
    {
     "data": {
      "text/plain": [
       "array([[[  0,   1,   2,   3],\n",
       "        [  4,   5,   6,   7],\n",
       "        [  8,   9,  10,  11],\n",
       "        [  0,  -1,  -2,  -3],\n",
       "        [ -4,  -5,  -6,  -7],\n",
       "        [ -8,  -9, -10, -11]],\n",
       "\n",
       "       [[ 12,  13,  14,  15],\n",
       "        [ 16,  17,  18,  19],\n",
       "        [ 20,  21,  22,  23],\n",
       "        [-12, -13, -14, -15],\n",
       "        [-16, -17, -18, -19],\n",
       "        [-20, -21, -22, -23]]])"
      ]
     },
     "execution_count": 23,
     "metadata": {},
     "output_type": "execute_result"
    }
   ],
   "source": [
    "np.concatenate([a,b],axis=1)"
   ]
  },
  {
   "cell_type": "code",
   "execution_count": 24,
   "id": "e01cb443-eee9-4811-be0a-c2d3c011b859",
   "metadata": {},
   "outputs": [
    {
     "data": {
      "text/plain": [
       "array([[[  0,   1,   2,   3,   0,  -1,  -2,  -3],\n",
       "        [  4,   5,   6,   7,  -4,  -5,  -6,  -7],\n",
       "        [  8,   9,  10,  11,  -8,  -9, -10, -11]],\n",
       "\n",
       "       [[ 12,  13,  14,  15, -12, -13, -14, -15],\n",
       "        [ 16,  17,  18,  19, -16, -17, -18, -19],\n",
       "        [ 20,  21,  22,  23, -20, -21, -22, -23]]])"
      ]
     },
     "execution_count": 24,
     "metadata": {},
     "output_type": "execute_result"
    }
   ],
   "source": [
    "np.concatenate([a,b], axis=2)"
   ]
  },
  {
   "cell_type": "markdown",
   "id": "5ef1eef8-a242-4c16-8219-0449798cc010",
   "metadata": {},
   "source": [
    "- 이번에는 axis=2까지 된다?"
   ]
  },
  {
   "cell_type": "code",
   "execution_count": 25,
   "id": "3a134003-bce0-46a4-b353-06596779457f",
   "metadata": {},
   "outputs": [
    {
     "ename": "AxisError",
     "evalue": "axis 3 is out of bounds for array of dimension 3",
     "output_type": "error",
     "traceback": [
      "\u001b[0;31m---------------------------------------------------------------------------\u001b[0m",
      "\u001b[0;31mAxisError\u001b[0m                                 Traceback (most recent call last)",
      "Cell \u001b[0;32mIn[25], line 1\u001b[0m\n\u001b[0;32m----> 1\u001b[0m \u001b[43mnp\u001b[49m\u001b[38;5;241;43m.\u001b[39;49m\u001b[43mconcatenate\u001b[49m\u001b[43m(\u001b[49m\u001b[43m[\u001b[49m\u001b[43ma\u001b[49m\u001b[43m,\u001b[49m\u001b[43mb\u001b[49m\u001b[43m]\u001b[49m\u001b[43m,\u001b[49m\u001b[43m \u001b[49m\u001b[43maxis\u001b[49m\u001b[38;5;241;43m=\u001b[39;49m\u001b[38;5;241;43m3\u001b[39;49m\u001b[43m)\u001b[49m\n",
      "File \u001b[0;32m<__array_function__ internals>:180\u001b[0m, in \u001b[0;36mconcatenate\u001b[0;34m(*args, **kwargs)\u001b[0m\n",
      "\u001b[0;31mAxisError\u001b[0m: axis 3 is out of bounds for array of dimension 3"
     ]
    }
   ],
   "source": [
    "np.concatenate([a,b], axis=3)"
   ]
  },
  {
   "cell_type": "markdown",
   "id": "4713fe61-79aa-4cc4-be40-928d10f5f8bb",
   "metadata": {},
   "source": [
    "- axis=3까지는 안된다?"
   ]
  },
  {
   "cell_type": "markdown",
   "id": "8fcd5363-09d3-4927-9bbf-86dcff7f415c",
   "metadata": {},
   "source": [
    "`-` 뭔가 나름의 방식으로 합쳐지는데 원리가 뭘까?"
   ]
  },
  {
   "cell_type": "markdown",
   "id": "a30adcaf-603a-4ad5-9c9f-904c5982c58a",
   "metadata": {},
   "source": [
    "(분석1) np.concatenate([a,b], axis=0)"
   ]
  },
  {
   "cell_type": "code",
   "execution_count": 26,
   "id": "6648f277-8f6f-4eff-8921-84dcbe698d3a",
   "metadata": {},
   "outputs": [],
   "source": [
    "# a = np.array(range(2*3*4)).reshape(2,3,4)\n",
    "a = np.arange(2*3*4).reshape(2,3,4)\n",
    "b = -a"
   ]
  },
  {
   "cell_type": "code",
   "execution_count": 29,
   "id": "33ff94e5-a52d-4a17-897f-c3b4c1699ae9",
   "metadata": {},
   "outputs": [
    {
     "data": {
      "text/plain": [
       "((2, 3, 4), (2, 3, 4), (4, 3, 4))"
      ]
     },
     "execution_count": 29,
     "metadata": {},
     "output_type": "execute_result"
    }
   ],
   "source": [
    "a.shape, b.shape, np.concatenate([a,b], axis=0).shape"
   ]
  },
  {
   "cell_type": "markdown",
   "id": "ba5f39d2-641c-44d8-a498-86de97cc7015",
   "metadata": {},
   "source": [
    "- 첫번째 차원이 바뀌었다. $\\Rightarrow$ 첫번째 축이 바뀌었다. $\\Rightarrow$ axis=0 (파이썬은 0부터 시작하니까!)"
   ]
  },
  {
   "cell_type": "markdown",
   "id": "bb9939cc-50d2-4d7e-8013-19f18cd5a2a4",
   "metadata": {},
   "source": [
    "(분석2) np.concatenate([a,b], axis=1)"
   ]
  },
  {
   "cell_type": "code",
   "execution_count": 26,
   "id": "079eaf55-4428-4669-bc75-dd733c0f2b28",
   "metadata": {},
   "outputs": [],
   "source": [
    "# a = np.array(range(2*3*4)).reshape(2,3,4)\n",
    "a = np.arange(2*3*4).reshape(2,3,4)\n",
    "b = -a"
   ]
  },
  {
   "cell_type": "code",
   "execution_count": 30,
   "id": "7606a0cd-5c3a-400a-9e1f-1322ac53bf75",
   "metadata": {},
   "outputs": [
    {
     "data": {
      "text/plain": [
       "((2, 3, 4), (2, 3, 4), (2, 6, 4))"
      ]
     },
     "execution_count": 30,
     "metadata": {},
     "output_type": "execute_result"
    }
   ],
   "source": [
    "a.shape, b.shape, np.concatenate([a,b], axis=1).shape"
   ]
  },
  {
   "cell_type": "markdown",
   "id": "31a723ff-a7fb-4c87-a4e4-e042265ae2f9",
   "metadata": {},
   "source": [
    "- 두번째 차원이 바뀌었다. $\\Rightarrow$ 두번째 축이 바뀌었다. $\\Rightarrow$ axis=1"
   ]
  },
  {
   "cell_type": "markdown",
   "id": "d65b8c31-0fd2-44c0-b1ec-a6af07a99954",
   "metadata": {},
   "source": [
    "(분석3) np.concatenate([a,b], axis=2)"
   ]
  },
  {
   "cell_type": "code",
   "execution_count": 26,
   "id": "f6d3f171-21d2-4e96-b2b7-4e35b927d46a",
   "metadata": {},
   "outputs": [],
   "source": [
    "# a = np.array(range(2*3*4)).reshape(2,3,4)\n",
    "a = np.arange(2*3*4).reshape(2,3,4)\n",
    "b = -a"
   ]
  },
  {
   "cell_type": "code",
   "execution_count": 31,
   "id": "9ebf8906-0cce-4491-b05e-295da7623b27",
   "metadata": {},
   "outputs": [
    {
     "data": {
      "text/plain": [
       "((2, 3, 4), (2, 3, 4), (2, 3, 8))"
      ]
     },
     "execution_count": 31,
     "metadata": {},
     "output_type": "execute_result"
    }
   ],
   "source": [
    "a.shape, b.shape, np.concatenate([a,b], axis=2).shape"
   ]
  },
  {
   "cell_type": "markdown",
   "id": "b12856af-c910-4899-9313-df9a13b07f49",
   "metadata": {},
   "source": [
    "- 세번째 차원이 바뀌었다. $\\Rightarrow$ 세번째 축이 바뀌었다. $\\Rightarrow$ axis=2"
   ]
  },
  {
   "cell_type": "markdown",
   "id": "b1f2a3d8-c218-4ce6-8326-51cee8f2c929",
   "metadata": {},
   "source": [
    "(분석4) np.concatenate([a,b], axis=3)"
   ]
  },
  {
   "cell_type": "code",
   "execution_count": 32,
   "id": "82d71de3-d7d6-45da-a157-53b964545b16",
   "metadata": {},
   "outputs": [],
   "source": [
    "# a = np.array(range(2*3*4)).reshape(2,3,4)\n",
    "a = np.arange(2*3*4).reshape(2,3,4)\n",
    "b = -a"
   ]
  },
  {
   "cell_type": "code",
   "execution_count": 33,
   "id": "d4a943b0-4bc9-4a1d-9171-9b268bdd9dad",
   "metadata": {},
   "outputs": [
    {
     "ename": "AxisError",
     "evalue": "axis 3 is out of bounds for array of dimension 3",
     "output_type": "error",
     "traceback": [
      "\u001b[0;31m---------------------------------------------------------------------------\u001b[0m",
      "\u001b[0;31mAxisError\u001b[0m                                 Traceback (most recent call last)",
      "Cell \u001b[0;32mIn[33], line 1\u001b[0m\n\u001b[0;32m----> 1\u001b[0m a\u001b[38;5;241m.\u001b[39mshape, b\u001b[38;5;241m.\u001b[39mshape, \u001b[43mnp\u001b[49m\u001b[38;5;241;43m.\u001b[39;49m\u001b[43mconcatenate\u001b[49m\u001b[43m(\u001b[49m\u001b[43m[\u001b[49m\u001b[43ma\u001b[49m\u001b[43m,\u001b[49m\u001b[43mb\u001b[49m\u001b[43m]\u001b[49m\u001b[43m,\u001b[49m\u001b[43m \u001b[49m\u001b[43maxis\u001b[49m\u001b[38;5;241;43m=\u001b[39;49m\u001b[38;5;241;43m3\u001b[39;49m\u001b[43m)\u001b[49m\u001b[38;5;241m.\u001b[39mshape\n",
      "File \u001b[0;32m<__array_function__ internals>:180\u001b[0m, in \u001b[0;36mconcatenate\u001b[0;34m(*args, **kwargs)\u001b[0m\n",
      "\u001b[0;31mAxisError\u001b[0m: axis 3 is out of bounds for array of dimension 3"
     ]
    }
   ],
   "source": [
    "a.shape, b.shape, np.concatenate([a,b], axis=3).shape"
   ]
  },
  {
   "cell_type": "markdown",
   "id": "4ce9dfc8-75d6-4057-adfc-2dec12f20dd1",
   "metadata": {},
   "source": [
    "- 네번째 차원이 없다. $\\Rightarrow$ 세번째 축이 없다. $\\Rightarrow$ axis=3으로 하면 에러가 난다."
   ]
  },
  {
   "cell_type": "markdown",
   "id": "af21ac5b-0a50-40a4-8700-1aec40a079b0",
   "metadata": {},
   "source": [
    "(보너스)"
   ]
  },
  {
   "cell_type": "code",
   "execution_count": 32,
   "id": "b667094a-9fed-47c2-943a-abcd6eb222df",
   "metadata": {},
   "outputs": [],
   "source": [
    "# a = np.array(range(2*3*4)).reshape(2,3,4)\n",
    "a = np.arange(2*3*4).reshape(2,3,4)\n",
    "b = -a"
   ]
  },
  {
   "cell_type": "code",
   "execution_count": 35,
   "id": "aa4a428d-c418-45e9-adfb-73f582605f59",
   "metadata": {},
   "outputs": [
    {
     "data": {
      "text/plain": [
       "array([[[  0,   1,   2,   3,   0,  -1,  -2,  -3],\n",
       "        [  4,   5,   6,   7,  -4,  -5,  -6,  -7],\n",
       "        [  8,   9,  10,  11,  -8,  -9, -10, -11]],\n",
       "\n",
       "       [[ 12,  13,  14,  15, -12, -13, -14, -15],\n",
       "        [ 16,  17,  18,  19, -16, -17, -18, -19],\n",
       "        [ 20,  21,  22,  23, -20, -21, -22, -23]]])"
      ]
     },
     "execution_count": 35,
     "metadata": {},
     "output_type": "execute_result"
    }
   ],
   "source": [
    "np.concatenate([a,b], axis=-1)"
   ]
  },
  {
   "cell_type": "code",
   "execution_count": 34,
   "id": "eaafab90-a5a3-4b05-83e0-1e254cc51723",
   "metadata": {},
   "outputs": [
    {
     "data": {
      "text/plain": [
       "((2, 3, 4), (2, 3, 4), (2, 3, 8))"
      ]
     },
     "execution_count": 34,
     "metadata": {},
     "output_type": "execute_result"
    }
   ],
   "source": [
    "a.shape, b.shape, np.concatenate([a,b], axis=-1).shape"
   ]
  },
  {
   "cell_type": "markdown",
   "id": "b80b3d1d-0bbc-4d93-9733-6694970f0101",
   "metadata": {},
   "source": [
    "- 마지막 차원이 바뀌었다. $\\Rightarrow$ 마지막 축이 바뀌었다. $\\Rightarrow$ axis=-1"
   ]
  },
  {
   "cell_type": "markdown",
   "id": "389c6009-188d-4b91-9258-4f650da7d51f",
   "metadata": {},
   "source": [
    "(보너스2)"
   ]
  },
  {
   "cell_type": "code",
   "execution_count": 32,
   "id": "3fbad13b-290a-4d4b-b0a4-6d7f96697b91",
   "metadata": {},
   "outputs": [],
   "source": [
    "# a = np.array(range(2*3*4)).reshape(2,3,4)\n",
    "a = np.arange(2*3*4).reshape(2,3,4)\n",
    "b = -a"
   ]
  },
  {
   "cell_type": "code",
   "execution_count": 37,
   "id": "45f6b017-eedf-48f8-9f0f-cc1a2682c95a",
   "metadata": {},
   "outputs": [
    {
     "data": {
      "text/plain": [
       "array([[[  0,   1,   2,   3],\n",
       "        [  4,   5,   6,   7],\n",
       "        [  8,   9,  10,  11],\n",
       "        [  0,  -1,  -2,  -3],\n",
       "        [ -4,  -5,  -6,  -7],\n",
       "        [ -8,  -9, -10, -11]],\n",
       "\n",
       "       [[ 12,  13,  14,  15],\n",
       "        [ 16,  17,  18,  19],\n",
       "        [ 20,  21,  22,  23],\n",
       "        [-12, -13, -14, -15],\n",
       "        [-16, -17, -18, -19],\n",
       "        [-20, -21, -22, -23]]])"
      ]
     },
     "execution_count": 37,
     "metadata": {},
     "output_type": "execute_result"
    }
   ],
   "source": [
    "np.concatenate([a,b], axis=-2)"
   ]
  },
  {
   "cell_type": "code",
   "execution_count": 38,
   "id": "599f65a3-431a-45f0-b453-be80a246a0ad",
   "metadata": {},
   "outputs": [
    {
     "data": {
      "text/plain": [
       "((2, 3, 4), (2, 3, 4), (2, 6, 4))"
      ]
     },
     "execution_count": 38,
     "metadata": {},
     "output_type": "execute_result"
    }
   ],
   "source": [
    "a.shape, b.shape, np.concatenate([a,b], axis=-2).shape"
   ]
  },
  {
   "cell_type": "markdown",
   "id": "eff40347-dc8c-43f0-9bcd-bca5787dcc18",
   "metadata": {},
   "source": [
    "- 마지막에서 2번째 차원이 바뀌었다. $\\Rightarrow$ 마지막에서 2번째 축이 바뀌었다. $\\Rightarrow$ axis=-2"
   ]
  },
  {
   "cell_type": "markdown",
   "id": "109961c5-ce4c-439d-9294-5d38ad0221e5",
   "metadata": {},
   "source": [
    "(보너스3)"
   ]
  },
  {
   "cell_type": "code",
   "execution_count": 39,
   "id": "9e18304e-5b63-4f35-b0df-9455b6e5479c",
   "metadata": {},
   "outputs": [],
   "source": [
    "# a = np.array(range(2*3*4)).reshape(2,3,4)\n",
    "a = np.arange(2*3*4).reshape(2,3,4)\n",
    "b = -a"
   ]
  },
  {
   "cell_type": "code",
   "execution_count": 40,
   "id": "b1cbc2f6-d757-488d-b7c0-7c0413b19152",
   "metadata": {},
   "outputs": [
    {
     "data": {
      "text/plain": [
       "array([[[  0,   1,   2,   3],\n",
       "        [  4,   5,   6,   7],\n",
       "        [  8,   9,  10,  11]],\n",
       "\n",
       "       [[ 12,  13,  14,  15],\n",
       "        [ 16,  17,  18,  19],\n",
       "        [ 20,  21,  22,  23]],\n",
       "\n",
       "       [[  0,  -1,  -2,  -3],\n",
       "        [ -4,  -5,  -6,  -7],\n",
       "        [ -8,  -9, -10, -11]],\n",
       "\n",
       "       [[-12, -13, -14, -15],\n",
       "        [-16, -17, -18, -19],\n",
       "        [-20, -21, -22, -23]]])"
      ]
     },
     "execution_count": 40,
     "metadata": {},
     "output_type": "execute_result"
    }
   ],
   "source": [
    "np.concatenate([a,b], axis=-3)"
   ]
  },
  {
   "cell_type": "code",
   "execution_count": 41,
   "id": "d76781e6-cb75-4a5f-b749-eb40e7e14221",
   "metadata": {},
   "outputs": [
    {
     "data": {
      "text/plain": [
       "((2, 3, 4), (2, 3, 4), (4, 3, 4))"
      ]
     },
     "execution_count": 41,
     "metadata": {},
     "output_type": "execute_result"
    }
   ],
   "source": [
    "a.shape, b.shape, np.concatenate([a,b], axis=-3).shape"
   ]
  },
  {
   "cell_type": "markdown",
   "id": "e595747b-9633-4245-a0e6-b4cb27b55f72",
   "metadata": {},
   "source": [
    "- 마지막에서 3번째 차원이 바뀌었다. $\\Rightarrow$ 마지막에서 3번째 축이 바뀌었다. $\\Rightarrow$ axis=-3"
   ]
  },
  {
   "cell_type": "markdown",
   "id": "5b0de35c-7f33-47b3-b3a9-9ae7af223300",
   "metadata": {},
   "source": [
    "(보너스4)"
   ]
  },
  {
   "cell_type": "code",
   "execution_count": 42,
   "id": "2fd65cae-1d7b-402d-935d-a65db4c27ea9",
   "metadata": {},
   "outputs": [],
   "source": [
    "# a = np.array(range(2*3*4)).reshape(2,3,4)\n",
    "a = np.arange(2*3*4).reshape(2,3,4)\n",
    "b = -a"
   ]
  },
  {
   "cell_type": "code",
   "execution_count": 43,
   "id": "149b5b2b-f0db-4044-9b3d-365ca5cb6062",
   "metadata": {},
   "outputs": [
    {
     "ename": "AxisError",
     "evalue": "axis -4 is out of bounds for array of dimension 3",
     "output_type": "error",
     "traceback": [
      "\u001b[0;31m---------------------------------------------------------------------------\u001b[0m",
      "\u001b[0;31mAxisError\u001b[0m                                 Traceback (most recent call last)",
      "Cell \u001b[0;32mIn[43], line 1\u001b[0m\n\u001b[0;32m----> 1\u001b[0m \u001b[43mnp\u001b[49m\u001b[38;5;241;43m.\u001b[39;49m\u001b[43mconcatenate\u001b[49m\u001b[43m(\u001b[49m\u001b[43m[\u001b[49m\u001b[43ma\u001b[49m\u001b[43m,\u001b[49m\u001b[43mb\u001b[49m\u001b[43m]\u001b[49m\u001b[43m,\u001b[49m\u001b[43m \u001b[49m\u001b[43maxis\u001b[49m\u001b[38;5;241;43m=\u001b[39;49m\u001b[38;5;241;43m-\u001b[39;49m\u001b[38;5;241;43m4\u001b[39;49m\u001b[43m)\u001b[49m\n",
      "File \u001b[0;32m<__array_function__ internals>:180\u001b[0m, in \u001b[0;36mconcatenate\u001b[0;34m(*args, **kwargs)\u001b[0m\n",
      "\u001b[0;31mAxisError\u001b[0m: axis -4 is out of bounds for array of dimension 3"
     ]
    }
   ],
   "source": [
    "np.concatenate([a,b], axis=-4)"
   ]
  },
  {
   "cell_type": "code",
   "execution_count": 44,
   "id": "de779cf9-7b5b-41d4-9430-3303ec5cb60d",
   "metadata": {},
   "outputs": [
    {
     "ename": "AxisError",
     "evalue": "axis -4 is out of bounds for array of dimension 3",
     "output_type": "error",
     "traceback": [
      "\u001b[0;31m---------------------------------------------------------------------------\u001b[0m",
      "\u001b[0;31mAxisError\u001b[0m                                 Traceback (most recent call last)",
      "Cell \u001b[0;32mIn[44], line 1\u001b[0m\n\u001b[0;32m----> 1\u001b[0m a\u001b[38;5;241m.\u001b[39mshape, b\u001b[38;5;241m.\u001b[39mshape, \u001b[43mnp\u001b[49m\u001b[38;5;241;43m.\u001b[39;49m\u001b[43mconcatenate\u001b[49m\u001b[43m(\u001b[49m\u001b[43m[\u001b[49m\u001b[43ma\u001b[49m\u001b[43m,\u001b[49m\u001b[43mb\u001b[49m\u001b[43m]\u001b[49m\u001b[43m,\u001b[49m\u001b[43m \u001b[49m\u001b[43maxis\u001b[49m\u001b[38;5;241;43m=\u001b[39;49m\u001b[38;5;241;43m-\u001b[39;49m\u001b[38;5;241;43m4\u001b[39;49m\u001b[43m)\u001b[49m\u001b[38;5;241m.\u001b[39mshape\n",
      "File \u001b[0;32m<__array_function__ internals>:180\u001b[0m, in \u001b[0;36mconcatenate\u001b[0;34m(*args, **kwargs)\u001b[0m\n",
      "\u001b[0;31mAxisError\u001b[0m: axis -4 is out of bounds for array of dimension 3"
     ]
    }
   ],
   "source": [
    "a.shape, b.shape, np.concatenate([a,b], axis=-4).shape"
   ]
  },
  {
   "cell_type": "markdown",
   "id": "b94f37f0-c8d7-4b6d-a78d-4bc8e852ac9e",
   "metadata": {},
   "source": [
    "- 마지막에서 4번째 차원은 없다. $\\Rightarrow$ 마지막에서 4번째 축은 없다. $\\Rightarrow$ axis=-4는 에러가 난다."
   ]
  },
  {
   "cell_type": "markdown",
   "id": "f6c6ca10-1f96-4c6c-bbe4-8ed0787ccd08",
   "metadata": {},
   "source": [
    "`-` 0차원은 축이 없으므로 `concatenate`를 쓸 수 없다."
   ]
  },
  {
   "cell_type": "code",
   "execution_count": 45,
   "id": "770d4ccc-009d-41db-bd55-0a5edfa2d953",
   "metadata": {},
   "outputs": [],
   "source": [
    "a = np.array(1)\n",
    "b = np.array(-1)"
   ]
  },
  {
   "cell_type": "code",
   "execution_count": 46,
   "id": "1d08bb7d-dc75-41c7-8983-9c56e610aa59",
   "metadata": {},
   "outputs": [
    {
     "data": {
      "text/plain": [
       "((), ())"
      ]
     },
     "execution_count": 46,
     "metadata": {},
     "output_type": "execute_result"
    }
   ],
   "source": [
    "a.shape, b.shape"
   ]
  },
  {
   "cell_type": "code",
   "execution_count": 47,
   "id": "e98cc7fa-e7c4-4b74-9ea6-c3c5cc556aff",
   "metadata": {},
   "outputs": [
    {
     "ename": "ValueError",
     "evalue": "zero-dimensional arrays cannot be concatenated",
     "output_type": "error",
     "traceback": [
      "\u001b[0;31m---------------------------------------------------------------------------\u001b[0m",
      "\u001b[0;31mValueError\u001b[0m                                Traceback (most recent call last)",
      "Cell \u001b[0;32mIn[47], line 1\u001b[0m\n\u001b[0;32m----> 1\u001b[0m \u001b[43mnp\u001b[49m\u001b[38;5;241;43m.\u001b[39;49m\u001b[43mconcatenate\u001b[49m\u001b[43m(\u001b[49m\u001b[43m[\u001b[49m\u001b[43ma\u001b[49m\u001b[43m,\u001b[49m\u001b[43mb\u001b[49m\u001b[43m]\u001b[49m\u001b[43m)\u001b[49m\n",
      "File \u001b[0;32m<__array_function__ internals>:180\u001b[0m, in \u001b[0;36mconcatenate\u001b[0;34m(*args, **kwargs)\u001b[0m\n",
      "\u001b[0;31mValueError\u001b[0m: zero-dimensional arrays cannot be concatenated"
     ]
    }
   ],
   "source": [
    "np.concatenate([a,b])"
   ]
  },
  {
   "cell_type": "markdown",
   "id": "9ae17cc7-ddf7-4545-bcf0-616cb3e01d25",
   "metadata": {},
   "source": [
    "이게 만약에 이렇게 바뀌면 1차원이니까 쓸 수 있다."
   ]
  },
  {
   "cell_type": "code",
   "execution_count": 48,
   "id": "6ca01aef-39d4-4719-ae31-af51179f30c6",
   "metadata": {},
   "outputs": [
    {
     "data": {
      "text/plain": [
       "((1,), (1,))"
      ]
     },
     "execution_count": 48,
     "metadata": {},
     "output_type": "execute_result"
    }
   ],
   "source": [
    "a = np.array([1])\n",
    "b = np.array([-1])\n",
    "a.shape, b.shape"
   ]
  },
  {
   "cell_type": "code",
   "execution_count": 49,
   "id": "c5228929-267f-40e5-87f1-46aeaf802d58",
   "metadata": {},
   "outputs": [
    {
     "data": {
      "text/plain": [
       "array([ 1, -1])"
      ]
     },
     "execution_count": 49,
     "metadata": {},
     "output_type": "execute_result"
    }
   ],
   "source": [
    "np.concatenate([a,b])"
   ]
  },
  {
   "cell_type": "markdown",
   "id": "89ede253-ef68-4dfe-b373-392c0e2f8d1d",
   "metadata": {},
   "source": [
    "`-`  꼭 a,b가 같은 차원일 필요는 없다."
   ]
  },
  {
   "cell_type": "code",
   "execution_count": 51,
   "id": "422ba2ae-4a74-42ab-b93e-4bd7de9310c8",
   "metadata": {},
   "outputs": [],
   "source": [
    "a = np.array(range(4)).reshape(2,2)\n",
    "b = np.array(range(2)).reshape(2,1)"
   ]
  },
  {
   "cell_type": "code",
   "execution_count": 53,
   "id": "a4e73f59-c0df-4d28-905a-300f454c73db",
   "metadata": {},
   "outputs": [
    {
     "data": {
      "text/plain": [
       "array([[0, 1, 0],\n",
       "       [2, 3, 1]])"
      ]
     },
     "execution_count": 53,
     "metadata": {},
     "output_type": "execute_result"
    }
   ],
   "source": [
    "np.concatenate([a,b], axis=1)"
   ]
  },
  {
   "cell_type": "code",
   "execution_count": 56,
   "id": "b6958811-aea8-4996-9d60-cecffef02026",
   "metadata": {},
   "outputs": [
    {
     "data": {
      "text/plain": [
       "((2, 2), (2, 1), (2, 3))"
      ]
     },
     "execution_count": 56,
     "metadata": {},
     "output_type": "execute_result"
    }
   ],
   "source": [
    "a.shape, b.shape, np.concatenate([a,b], axis=1).shape"
   ]
  },
  {
   "cell_type": "markdown",
   "id": "758cc262-6861-4420-a3cb-6b82b7fdd6de",
   "metadata": {},
   "source": [
    "## np.stack"
   ]
  },
  {
   "cell_type": "markdown",
   "id": "c885c029-dcc4-40f6-9ad6-c79029b347bf",
   "metadata": {},
   "source": [
    "`-` 혹시 아래가 가능할까?"
   ]
  },
  {
   "cell_type": "markdown",
   "id": "90b218b4-2f82-4296-92a1-f9aeba67e92e",
   "metadata": {},
   "source": [
    "- $(3,)$ 결합 : $(3,) \\Rightarrow (3,2)$"
   ]
  },
  {
   "cell_type": "code",
   "execution_count": 57,
   "id": "81910c05-135d-4a08-8ad4-0c61d3635558",
   "metadata": {},
   "outputs": [],
   "source": [
    "a = np.array([1,2,3])\n",
    "b = -a"
   ]
  },
  {
   "cell_type": "code",
   "execution_count": 58,
   "id": "4e50a780-b882-423e-8bc5-a9fb5b2aca32",
   "metadata": {},
   "outputs": [
    {
     "data": {
      "text/plain": [
       "(array([1, 2, 3]), array([-1, -2, -3]))"
      ]
     },
     "execution_count": 58,
     "metadata": {},
     "output_type": "execute_result"
    }
   ],
   "source": [
    "a,b"
   ]
  },
  {
   "cell_type": "code",
   "execution_count": 61,
   "id": "faee2457-a132-4535-a838-ae30039bcaff",
   "metadata": {},
   "outputs": [
    {
     "data": {
      "text/plain": [
       "((3,), (3,))"
      ]
     },
     "execution_count": 61,
     "metadata": {},
     "output_type": "execute_result"
    }
   ],
   "source": [
    "a.shape, b.shape"
   ]
  },
  {
   "cell_type": "code",
   "execution_count": 60,
   "id": "4aa8f260-5fb8-4289-808e-14d526414dc2",
   "metadata": {},
   "outputs": [
    {
     "ename": "AxisError",
     "evalue": "axis 1 is out of bounds for array of dimension 1",
     "output_type": "error",
     "traceback": [
      "\u001b[0;31m---------------------------------------------------------------------------\u001b[0m",
      "\u001b[0;31mAxisError\u001b[0m                                 Traceback (most recent call last)",
      "Cell \u001b[0;32mIn[60], line 1\u001b[0m\n\u001b[0;32m----> 1\u001b[0m \u001b[43mnp\u001b[49m\u001b[38;5;241;43m.\u001b[39;49m\u001b[43mconcatenate\u001b[49m\u001b[43m(\u001b[49m\u001b[43m[\u001b[49m\u001b[43ma\u001b[49m\u001b[43m,\u001b[49m\u001b[43mb\u001b[49m\u001b[43m]\u001b[49m\u001b[43m,\u001b[49m\u001b[43m \u001b[49m\u001b[43maxis\u001b[49m\u001b[38;5;241;43m=\u001b[39;49m\u001b[38;5;241;43m1\u001b[39;49m\u001b[43m)\u001b[49m\n",
      "File \u001b[0;32m<__array_function__ internals>:180\u001b[0m, in \u001b[0;36mconcatenate\u001b[0;34m(*args, **kwargs)\u001b[0m\n",
      "\u001b[0;31mAxisError\u001b[0m: axis 1 is out of bounds for array of dimension 1"
     ]
    }
   ],
   "source": [
    "np.concatenate([a,b], axis=1)"
   ]
  },
  {
   "cell_type": "markdown",
   "id": "df00d761-7b5c-488c-83f6-d032ed47fd0b",
   "metadata": {},
   "source": [
    "- 불가능"
   ]
  },
  {
   "cell_type": "markdown",
   "id": "b46f4c30-1da1-4b8e-bc03-8d86482f2acb",
   "metadata": {},
   "source": [
    "`-` 아래와 같이 하면 해결 가능"
   ]
  },
  {
   "cell_type": "code",
   "execution_count": 67,
   "id": "ce42abcf-d873-4b5c-a227-f54e9d9aef2e",
   "metadata": {},
   "outputs": [],
   "source": [
    "a = np.array([1,2,3]).reshape(3,1)\n",
    "b = -a"
   ]
  },
  {
   "cell_type": "code",
   "execution_count": 68,
   "id": "a1aeac7a-78e8-4adc-9557-bbd50c4ce981",
   "metadata": {},
   "outputs": [
    {
     "data": {
      "text/plain": [
       "((3, 1), (3, 1))"
      ]
     },
     "execution_count": 68,
     "metadata": {},
     "output_type": "execute_result"
    }
   ],
   "source": [
    "a.shape, b.shape"
   ]
  },
  {
   "cell_type": "code",
   "execution_count": 69,
   "id": "a8680eb2-dd39-4677-a90e-00324bc7cb1a",
   "metadata": {},
   "outputs": [
    {
     "data": {
      "text/plain": [
       "(array([[1],\n",
       "        [2],\n",
       "        [3]]),\n",
       " array([[-1],\n",
       "        [-2],\n",
       "        [-3]]))"
      ]
     },
     "execution_count": 69,
     "metadata": {},
     "output_type": "execute_result"
    }
   ],
   "source": [
    "a,b"
   ]
  },
  {
   "cell_type": "code",
   "execution_count": 70,
   "id": "72a57fe8-39aa-4249-b227-3a8eb700769f",
   "metadata": {},
   "outputs": [
    {
     "data": {
      "text/plain": [
       "array([[ 1, -1],\n",
       "       [ 2, -2],\n",
       "       [ 3, -3]])"
      ]
     },
     "execution_count": 70,
     "metadata": {},
     "output_type": "execute_result"
    }
   ],
   "source": [
    "np.concatenate([a,b], axis=1)"
   ]
  },
  {
   "cell_type": "markdown",
   "id": "7ad48130-9593-412d-9728-7379535ad446",
   "metadata": {},
   "source": [
    "- 분석: $(3) (3) \\Rightarrow (3,1),(3,1)\\Rightarrow (3,1) \\space \\tt{concat} \\space (3,1)$"
   ]
  },
  {
   "cell_type": "markdown",
   "id": "cb0dec6d-62b0-4df5-8869-e99042a517c4",
   "metadata": {},
   "source": [
    "`-` 위의 과정을 줄여서 아래와 같이 할 수 있다."
   ]
  },
  {
   "cell_type": "code",
   "execution_count": 72,
   "id": "3f5b9f3e-f18a-4a3b-bbb3-5ea6939e945f",
   "metadata": {},
   "outputs": [],
   "source": [
    "a = np.array([1,2,3])\n",
    "b = -a"
   ]
  },
  {
   "cell_type": "code",
   "execution_count": 73,
   "id": "d2fd09cd-e15f-49f7-a7b4-19b1c6fd641d",
   "metadata": {},
   "outputs": [
    {
     "data": {
      "text/plain": [
       "array([[ 1, -1],\n",
       "       [ 2, -2],\n",
       "       [ 3, -3]])"
      ]
     },
     "execution_count": 73,
     "metadata": {},
     "output_type": "execute_result"
    }
   ],
   "source": [
    "np.stack([a,b], axis=1)"
   ]
  },
  {
   "cell_type": "markdown",
   "id": "672cb978-529f-46fd-be08-c47181302d85",
   "metadata": {},
   "source": [
    "`-` 아래도 가능"
   ]
  },
  {
   "cell_type": "code",
   "execution_count": 74,
   "id": "f298c905-9b5c-4820-b220-c36ab399e2b4",
   "metadata": {},
   "outputs": [
    {
     "data": {
      "text/plain": [
       "array([[ 1,  2,  3],\n",
       "       [-1, -2, -3]])"
      ]
     },
     "execution_count": 74,
     "metadata": {},
     "output_type": "execute_result"
    }
   ],
   "source": [
    "np.stack([a,b],axis=0)"
   ]
  },
  {
   "cell_type": "markdown",
   "id": "c48ce040-a306-4d7d-bb2c-de55dbca31d0",
   "metadata": {},
   "source": [
    "`-` 분석해보고 외우자"
   ]
  },
  {
   "cell_type": "markdown",
   "id": "3402dccb-f4db-4ef0-abf1-967432cfd0e2",
   "metadata": {},
   "source": [
    "(분석1)"
   ]
  },
  {
   "cell_type": "code",
   "execution_count": 75,
   "id": "0315fc5f-012e-4e4d-8ca7-e3d48668658e",
   "metadata": {},
   "outputs": [],
   "source": [
    "a = np.array([1,2,3])\n",
    "b = -a"
   ]
  },
  {
   "cell_type": "code",
   "execution_count": 76,
   "id": "6a35c989-1e4b-44d7-b88e-c5dd26e5f19c",
   "metadata": {},
   "outputs": [
    {
     "data": {
      "text/plain": [
       "((3,), (3,), (2, 3))"
      ]
     },
     "execution_count": 76,
     "metadata": {},
     "output_type": "execute_result"
    }
   ],
   "source": [
    "a.shape, b.shape, np.stack([a,b],axis=0).shape"
   ]
  },
  {
   "cell_type": "markdown",
   "id": "e119eed4-72b9-46f5-9df7-ab54abc4e220",
   "metadata": {},
   "source": [
    "- $(3)(3) \\Rightarrow \\text{첫 위치에 축을 추가 (axis=0)} \\Rightarrow (1,3)(1,3) \\Rightarrow (2,3)$"
   ]
  },
  {
   "cell_type": "markdown",
   "id": "1650d0e7-c89d-4651-b078-04a3a2fa1b7e",
   "metadata": {},
   "source": [
    "(분석2)"
   ]
  },
  {
   "cell_type": "code",
   "execution_count": 77,
   "id": "d22515ae-d838-4d6d-824c-2e2fd0bd5ee5",
   "metadata": {},
   "outputs": [],
   "source": [
    "a = np.array([1,2,3])\n",
    "b = -a"
   ]
  },
  {
   "cell_type": "code",
   "execution_count": 78,
   "id": "d29e1551-cd23-46a7-ab96-37138b3eeac0",
   "metadata": {},
   "outputs": [
    {
     "data": {
      "text/plain": [
       "((3,), (3,), (3, 2))"
      ]
     },
     "execution_count": 78,
     "metadata": {},
     "output_type": "execute_result"
    }
   ],
   "source": [
    "a.shape, b.shape, np.stack([a,b],axis=1).shape"
   ]
  },
  {
   "cell_type": "markdown",
   "id": "75102140-c092-4a6f-9df4-35990d8cd3aa",
   "metadata": {},
   "source": [
    "$(3)(3)\\Rightarrow \\text{두번째 위치에 축을 추가 (axis=1)} \\Rightarrow (3,1)(3,1) \\Rightarrow (3,2)$"
   ]
  },
  {
   "cell_type": "markdown",
   "id": "06c31d6e-22db-47fb-b33f-3d4fc816b336",
   "metadata": {},
   "source": [
    "`-` 고차원예제"
   ]
  },
  {
   "cell_type": "code",
   "execution_count": 79,
   "id": "02027fcc-7a26-47ce-8e6b-f23bf6c20ef3",
   "metadata": {},
   "outputs": [],
   "source": [
    "a = np.arange(3*4*5).reshape(3,4,5)\n",
    "b = -a"
   ]
  },
  {
   "cell_type": "code",
   "execution_count": 80,
   "id": "3b030838-f8b2-4496-b68c-ad32052de95a",
   "metadata": {},
   "outputs": [
    {
     "data": {
      "text/plain": [
       "((3, 4, 5), (3, 4, 5))"
      ]
     },
     "execution_count": 80,
     "metadata": {},
     "output_type": "execute_result"
    }
   ],
   "source": [
    "a.shape, b.shape"
   ]
  },
  {
   "cell_type": "code",
   "execution_count": 81,
   "id": "71ef251c-727b-4f75-884b-2fbfd8d20ed3",
   "metadata": {},
   "outputs": [
    {
     "data": {
      "text/plain": [
       "(2, 3, 4, 5)"
      ]
     },
     "execution_count": 81,
     "metadata": {},
     "output_type": "execute_result"
    }
   ],
   "source": [
    "np.stack([a,b], axis=0).shape # (3,4,5) => (1,3,4,5) // 첫 위치에 축이 추가되고 스택"
   ]
  },
  {
   "cell_type": "code",
   "execution_count": 82,
   "id": "a908c95d-9509-416d-896b-25babf7d57c0",
   "metadata": {},
   "outputs": [
    {
     "data": {
      "text/plain": [
       "(3, 2, 4, 5)"
      ]
     },
     "execution_count": 82,
     "metadata": {},
     "output_type": "execute_result"
    }
   ],
   "source": [
    "np.stack([a,b], axis=1).shape # (3,4,5) => (3,1,4,5) // 두번째 위치에 축이 추가되고 스택"
   ]
  },
  {
   "cell_type": "code",
   "execution_count": 83,
   "id": "2cb7ce63-8878-46e6-a637-6e4baaf175a9",
   "metadata": {},
   "outputs": [
    {
     "data": {
      "text/plain": [
       "(3, 4, 2, 5)"
      ]
     },
     "execution_count": 83,
     "metadata": {},
     "output_type": "execute_result"
    }
   ],
   "source": [
    "np.stack([a,b], axis=2).shape # (3,4,5) => (3,4,1,5) // 세번째 위치에 축이 추가되고 스택"
   ]
  },
  {
   "cell_type": "code",
   "execution_count": 84,
   "id": "63f71bf4-e17b-4e1b-8e8a-62e230963558",
   "metadata": {},
   "outputs": [
    {
     "data": {
      "text/plain": [
       "(3, 4, 5, 2)"
      ]
     },
     "execution_count": 84,
     "metadata": {},
     "output_type": "execute_result"
    }
   ],
   "source": [
    "np.stack([a,b], axis=3).shape # (3,4,5) => (3,4,5,1) // 네번째 위치에 축이 추가되고 스택"
   ]
  },
  {
   "cell_type": "code",
   "execution_count": 86,
   "id": "3a477725-d00c-4c69-9967-10c3e8593348",
   "metadata": {},
   "outputs": [
    {
     "data": {
      "text/plain": [
       "(3, 4, 5, 2)"
      ]
     },
     "execution_count": 86,
     "metadata": {},
     "output_type": "execute_result"
    }
   ],
   "source": [
    "np.stack([a,b], axis=-1).shape # axis=-1 <=> axis=3"
   ]
  },
  {
   "cell_type": "code",
   "execution_count": 87,
   "id": "9232eb70-f7d5-4643-a235-ae86592aa1cc",
   "metadata": {},
   "outputs": [
    {
     "data": {
      "text/plain": [
       "(3, 4, 2, 5)"
      ]
     },
     "execution_count": 87,
     "metadata": {},
     "output_type": "execute_result"
    }
   ],
   "source": [
    "np.stack([a,b], axis=-2).shape # axis=-2 <=> axis=2"
   ]
  },
  {
   "cell_type": "markdown",
   "id": "bd8f10d4-0750-45d2-89da-aac5958b5b58",
   "metadata": {},
   "source": [
    "***np.concatenate*** 는 축의 총 개수를 유지하면서 결합, ***np.stack***은 축의 개수를 하나 증가시키면서 결합"
   ]
  }
 ],
 "metadata": {
  "kernelspec": {
   "display_name": "Python 3",
   "language": "python",
   "name": "python3"
  },
  "language_info": {
   "codemirror_mode": {
    "name": "ipython",
    "version": 3
   },
   "file_extension": ".py",
   "mimetype": "text/x-python",
   "name": "python",
   "nbconvert_exporter": "python",
   "pygments_lexer": "ipython3",
   "version": "3.8.16"
  }
 },
 "nbformat": 4,
 "nbformat_minor": 5
}
