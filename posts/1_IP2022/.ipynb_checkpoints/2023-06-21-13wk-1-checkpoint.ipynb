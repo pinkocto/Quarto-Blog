{
 "cells": [
  {
   "cell_type": "raw",
   "id": "c49ee4fc-a6f7-4ee8-90a6-8922db6efbc8",
   "metadata": {},
   "source": [
    "---\n",
    "title: \"**[IP2023]** 13wk-1: 깊은복사와 얕은복사\"\n",
    "author: \"최규빈\"\n",
    "date: \"06/21/2023\"\n",
    "---"
   ]
  },
  {
   "cell_type": "markdown",
   "id": "6602e1d4-34d0-456d-9776-31937dfe4135",
   "metadata": {},
   "source": [
    "> 모르고 살았다면 더 좋았을 내용 "
   ]
  },
  {
   "cell_type": "markdown",
   "id": "964b6379-3898-41e4-9062-d11817bdf155",
   "metadata": {},
   "source": [
    "# 강의영상 "
   ]
  },
  {
   "cell_type": "markdown",
   "id": "05061f45-59b4-4657-b423-8b499dd9d014",
   "metadata": {},
   "source": [
    "> youtube: <https://youtube.com/playlist?list=PLQqh36zP38-x1VTi4A3DVjHwcc56J9mwj>"
   ]
  },
  {
   "cell_type": "markdown",
   "id": "5e73a844-fd17-4c94-8691-09f98e1fe389",
   "metadata": {},
   "source": [
    "# import"
   ]
  },
  {
   "cell_type": "code",
   "execution_count": 1,
   "id": "483637f3-9c67-4350-977d-f248b75d6c39",
   "metadata": {},
   "outputs": [],
   "source": [
    "import numpy as np\n",
    "import pandas as pd "
   ]
  },
  {
   "cell_type": "markdown",
   "id": "ede9769b-7797-4788-8a27-767f0263e814",
   "metadata": {},
   "source": [
    "# Introduction"
   ]
  },
  {
   "cell_type": "markdown",
   "id": "f44c580e-d70e-4e92-9aca-17271122a1e8",
   "metadata": {
    "tags": []
   },
   "source": [
    "## 예제1: 비상식적인 append "
   ]
  },
  {
   "cell_type": "markdown",
   "id": "e65cd37c-0bf0-4274-bb9b-16b40ed92792",
   "metadata": {},
   "source": [
    "> 포인트: 이상한 일의 관찰 "
   ]
  },
  {
   "cell_type": "markdown",
   "id": "65b08cd9-2eaa-4ae1-953a-ea867ec7c669",
   "metadata": {},
   "source": [
    "`-` 원소의 추가: `+` 이용 "
   ]
  },
  {
   "cell_type": "code",
   "execution_count": 2,
   "id": "91397342-7e71-4573-ae37-aff657cc3ea6",
   "metadata": {},
   "outputs": [],
   "source": [
    "a=[1,2,3]\n",
    "b=a\n",
    "a=a+[4]"
   ]
  },
  {
   "cell_type": "code",
   "execution_count": 3,
   "id": "44243af4-3dc0-4a53-a901-b4cb5a2831ef",
   "metadata": {},
   "outputs": [
    {
     "data": {
      "text/plain": [
       "[1, 2, 3, 4]"
      ]
     },
     "execution_count": 3,
     "metadata": {},
     "output_type": "execute_result"
    }
   ],
   "source": [
    "a"
   ]
  },
  {
   "cell_type": "code",
   "execution_count": 4,
   "id": "0086fc1e-b32a-4fff-b471-9002ae416da7",
   "metadata": {},
   "outputs": [
    {
     "data": {
      "text/plain": [
       "[1, 2, 3]"
      ]
     },
     "execution_count": 4,
     "metadata": {},
     "output_type": "execute_result"
    }
   ],
   "source": [
    "b"
   ]
  },
  {
   "cell_type": "markdown",
   "id": "672981fd-a634-4e3b-a30d-4eccb1e15185",
   "metadata": {},
   "source": [
    "`-` 원소의 추가 `.append` 이용"
   ]
  },
  {
   "cell_type": "code",
   "execution_count": 5,
   "id": "6fedbcfa-1282-4a2c-94b5-a20ca70f7313",
   "metadata": {},
   "outputs": [],
   "source": [
    "a=[1,2,3]\n",
    "b=a\n",
    "a.append(4) # a=a+[4]"
   ]
  },
  {
   "cell_type": "code",
   "execution_count": 6,
   "id": "e19606a1-b1f8-4776-b510-02dad5b37871",
   "metadata": {},
   "outputs": [
    {
     "data": {
      "text/plain": [
       "[1, 2, 3, 4]"
      ]
     },
     "execution_count": 6,
     "metadata": {},
     "output_type": "execute_result"
    }
   ],
   "source": [
    "a"
   ]
  },
  {
   "cell_type": "code",
   "execution_count": 7,
   "id": "9cd3448e-6110-4367-b6b0-b19f51035c3f",
   "metadata": {},
   "outputs": [
    {
     "data": {
      "text/plain": [
       "[1, 2, 3, 4]"
      ]
     },
     "execution_count": 7,
     "metadata": {},
     "output_type": "execute_result"
    }
   ],
   "source": [
    "b"
   ]
  },
  {
   "cell_type": "markdown",
   "id": "5a15a687-4e99-4c4e-b75b-cd08004c1751",
   "metadata": {},
   "source": [
    "## append의 동작원리: 틀린상상 "
   ]
  },
  {
   "cell_type": "markdown",
   "id": "05525842-101b-4a47-8be4-ec8d2496bf7c",
   "metadata": {},
   "source": [
    "`-` 상자로서의 변수: 변수가 데이터를 저장하는 일종의 상자와 같다. <-- 아주 흔한 오해 (Fluent Python)"
   ]
  },
  {
   "cell_type": "markdown",
   "id": "bd5b6d88-1d76-4972-8613-459cf86872d8",
   "metadata": {},
   "source": [
    "> 흔히 비유하는 '상자로서의 변수' 개념이 실제로는 객체지향적 언어에서 참조변수를 이해하는 데 방해가 된다. "
   ]
  },
  {
   "cell_type": "markdown",
   "id": "417cf482-567b-4cc6-9f32-58d9b7ce54b3",
   "metadata": {},
   "source": [
    "`-` \"상자로서의 변수\" 관점에서 아래의 코드를 해석하자. (일단 아래의 해석들이 틀린해석이라는 사실을 명심할 것)"
   ]
  },
  {
   "cell_type": "markdown",
   "id": "f9eae3d5-36fd-475e-afc3-642b04737ece",
   "metadata": {},
   "source": [
    "```python\n",
    "a=[1,2,3]\n",
    "b=a\n",
    "a.append(4)\n",
    "```"
   ]
  },
  {
   "cell_type": "markdown",
   "id": "04787cf9-bb25-4200-9e98-51b938d3e634",
   "metadata": {},
   "source": [
    "a,b라는 변수들은 메모리에 어떻게 저장이 되어있을까? "
   ]
  },
  {
   "cell_type": "markdown",
   "id": "3cc684f7-5372-4bb0-80b1-23f652fee6d4",
   "metadata": {},
   "source": [
    "상상력을 조금 발휘하면 아래와 같이 여길 수 있다. "
   ]
  },
  {
   "cell_type": "markdown",
   "id": "d049e089-adb2-47c7-ac0d-96ce2d056e1e",
   "metadata": {},
   "source": [
    "(1) 메모리는 변수를 담을 방이 여러개 있는 호텔이라고 생각하자. "
   ]
  },
  {
   "cell_type": "markdown",
   "id": "87de9ed9-6489-459d-b7ab-b78cd3348d94",
   "metadata": {},
   "source": [
    "(2) 아래를 실행하였을 경우 \n",
    "```python\n",
    "a=[1,2,3]\n",
    "```\n",
    "- 메모리주소1에 존재하는 방을 a라고 하고, 그 방에 [1,2,3]을 넣는다. "
   ]
  },
  {
   "cell_type": "markdown",
   "id": "cd14de19-197b-4cce-9412-cd867377fe79",
   "metadata": {},
   "source": [
    "(3) 아래를 실행하였을 경우 \n",
    "```python\n",
    "b=a\n",
    "```\n",
    "- 메모리주소2에 존재하는 방을 b라고 하고, 그 방에 a를 넣어야하는데, a는 [1,2,3]이니까 [1,2,3]을 넣는다. "
   ]
  },
  {
   "cell_type": "markdown",
   "id": "e72fe13e-9c2c-4558-8918-cc2270733f61",
   "metadata": {},
   "source": [
    "(4) 아래를 실행하면 \n",
    "```python\n",
    "a.append(4)\n",
    "```\n",
    "- 방 a로가서 [1,2,3]을 [1,2,3,4]로 바꾼다. \n",
    "- 그리고 방 b에는 아무것도 하지 않는다. "
   ]
  },
  {
   "cell_type": "markdown",
   "id": "f90d8f0b-4cbc-4af0-b425-c3840e153ab5",
   "metadata": {},
   "source": [
    "`-` R에서는 맞는 비유인데, 파이썬은 적절하지 않은 비유이다. "
   ]
  },
  {
   "cell_type": "markdown",
   "id": "54703b12-4dd2-4afd-9ac3-ced22b4cd9da",
   "metadata": {},
   "source": [
    "### 틀린이유 "
   ]
  },
  {
   "cell_type": "code",
   "execution_count": 8,
   "id": "f0d2737e-84d7-4edc-87b9-21656eabf801",
   "metadata": {},
   "outputs": [
    {
     "data": {
      "text/plain": [
       "139765704687936"
      ]
     },
     "execution_count": 8,
     "metadata": {},
     "output_type": "execute_result"
    }
   ],
   "source": [
    "id(a)"
   ]
  },
  {
   "cell_type": "code",
   "execution_count": 9,
   "id": "976206f0-57a2-4090-a409-996dd489674a",
   "metadata": {},
   "outputs": [
    {
     "data": {
      "text/plain": [
       "139765704687936"
      ]
     },
     "execution_count": 9,
     "metadata": {},
     "output_type": "execute_result"
    }
   ],
   "source": [
    "id(b)"
   ]
  },
  {
   "cell_type": "markdown",
   "id": "a9f5a432-9f87-4aee-89d4-aa59de52b324",
   "metadata": {},
   "source": [
    "## append의 동작원리: 올바른 상상 "
   ]
  },
  {
   "cell_type": "markdown",
   "id": "72883d87-1276-4814-a451-831af338d39e",
   "metadata": {},
   "source": [
    "> 파이썬에서의 변수는 자바에서의 참조변수와 같으므로 변수는 객체에 붙은 레이블이라고 생각하는 것이 좋다. "
   ]
  },
  {
   "cell_type": "markdown",
   "id": "7aa83d69-adb6-4bd1-a630-1d386a9eac3b",
   "metadata": {},
   "source": [
    "`-` 파이썬에서는 아래가 더 적절한 비유이다. "
   ]
  },
  {
   "cell_type": "markdown",
   "id": "0b063472-4099-4fb9-90ea-0bef012ee95b",
   "metadata": {},
   "source": [
    "(1) 메모리는 변수를 담을 방이 여러개 있는 호텔이라고 생각하자. "
   ]
  },
  {
   "cell_type": "markdown",
   "id": "4450b041-00d5-418a-af75-c36ad7a08bfd",
   "metadata": {},
   "source": [
    "(2) 아래를 실행하였을 경우 \n",
    "```python\n",
    "a=[1,2,3]\n",
    "```\n",
    "- 메모리주소 `139753545242336`에서 [1,2,3]을 생성\n",
    "- 방 `139753545242336`의 방문에 `a`라는 포스트잇을 붙인다. \n",
    "- 앞으로 [1,2,3]에 접근하기 위해서는 여러 메모리방중에서 `a`라는 포스트잇이 붙은 방을 찾아가면 된다. "
   ]
  },
  {
   "cell_type": "markdown",
   "id": "ee24d8a9-8994-4131-8262-7e84e02f86a7",
   "metadata": {},
   "source": [
    "(3) 아래를 실행하였을 경우 \n",
    "```python\n",
    "b=a\n",
    "```\n",
    "- `a`라는 포스트잇이 지칭하는 객체를 가져옴. 그리고 그 객체에 `b`라는 포스트잇을 붙인다. \n",
    "- 쉽게말하면 `b`라는 포스트잇을 방 `139753545242336`의 방문에 붙인다는 이야기. \n",
    "- 앞으로 [1,2,3]에 접근하기 위해서는 여러 메모리방중에서 `a`라는 포스트잇이 붙어 있거나 `b`라는 포스트잇이 붙어있는 방을 찾아가면 된다. "
   ]
  },
  {
   "cell_type": "markdown",
   "id": "a9bc43c1-39e3-4679-b206-d3c3dd649494",
   "metadata": {},
   "source": [
    "(4) 아래를 실행하면 \n",
    "```python\n",
    "a.append(4)\n",
    "```\n",
    "- `a`라는 포스트잇이 붙어있는 방으로 가서, 그 내용물에 `append`함수를 적용하여 4를 추가하라. 즉 내용물 [1,2,3]을 [1,2,3,4]로 바꾸라. \n",
    "- 같은방(`139753545242336`)에 `a`,`b`라는 포스트잇이 모두 붙어있음. 따라서 `b`라는 포스트잇이 붙은 방을 찾아가서 내용물을 열어보면 [1,2,3,4]가 나온다. "
   ]
  },
  {
   "cell_type": "markdown",
   "id": "71a13062-f74c-4675-b921-63d9ee41e6f8",
   "metadata": {},
   "source": [
    "# 할당문(=)의 이해 "
   ]
  },
  {
   "cell_type": "markdown",
   "id": "9301afc9-9ba0-450e-86d1-b29d2c153c2f",
   "metadata": {},
   "source": [
    "`-` 파이썬에서 할당문을 이해하기 위해서는 언제나 오른쪽을 먼저 읽어야 한다. \n",
    "\n",
    "- 할당문의 오른쪽에서는 객체를 \"생성\"하거나 \"가져옴\"\n",
    "- 그 후에 라벨을 붙이듯이 할당문 왼쪽의 변수가 할당문 오른쪽의 객체에 바인딩 된다. (참조)"
   ]
  },
  {
   "cell_type": "markdown",
   "id": "265e6b83-77cf-4849-95fc-36986e735ef4",
   "metadata": {},
   "source": [
    "`-` `b=a`는 \n",
    "\n",
    "> 나는 이미 a가 의미하는게 무엇인지 알고있어. 그런데 그 실체를 b라고도 부르고 싶어. \n",
    "\n",
    "라는 것과 같다. 즉 이미 `a`라고 부르고 있는것을 내가 `b`라고도 부르고 싶다는 의미인데 이는 마치 별명과 같다. (`b`는 `a`의 별명, alias) 그리고 이처럼 하나의 오브젝트에 여러개의 이름을 붙이는 것을 에일리어싱이라고 부른다. "
   ]
  },
  {
   "cell_type": "markdown",
   "id": "7adfdfe5-7c3b-4725-b296-cc89f95dc86d",
   "metadata": {},
   "source": [
    "# id, value "
   ]
  },
  {
   "cell_type": "markdown",
   "id": "c50dedb3-6017-40aa-82ee-7e15f8aab018",
   "metadata": {},
   "source": [
    "## 예제1: 같은 value, 다른 id"
   ]
  },
  {
   "cell_type": "markdown",
   "id": "9ddb4028-3984-4155-af81-813456a0e125",
   "metadata": {},
   "source": [
    "> 포인트: (1) 포스트잇 개념의 확실한 이해 (2) 할당문을 새로운 시각으로 해석하는 연습 (3) \"생성->할당\"과 \"참조/에일리어싱\"의 구분"
   ]
  },
  {
   "cell_type": "code",
   "execution_count": 30,
   "id": "17e8752d-48a4-4520-b57d-37beaecbd911",
   "metadata": {},
   "outputs": [],
   "source": [
    "a=[1,2,3] # 우변: 생성된 오브젝트, 좌변: 이름 \n",
    "b=a # 우변: 가져온 오브젝트, 좌변: 별명 --> 참조, 에일리어싱(별칭부여)이라고 한다\n",
    "a.append(4) # a라는 오브젝트를 직접변경\n",
    "c=[1,2,3,4] # 우변: 생성된 오브젝트, 좌변: 이름"
   ]
  },
  {
   "cell_type": "markdown",
   "id": "531ec4bd-331f-4427-b011-87447af85f3a",
   "metadata": {},
   "source": [
    "여기에서 a,b,c는 모두 같은 value를 가진다. "
   ]
  },
  {
   "cell_type": "code",
   "execution_count": 15,
   "id": "084f7221-eed5-4ae0-a0ea-82a9fe18e482",
   "metadata": {},
   "outputs": [
    {
     "data": {
      "text/plain": [
       "[1, 2, 3, 4]"
      ]
     },
     "execution_count": 15,
     "metadata": {},
     "output_type": "execute_result"
    }
   ],
   "source": [
    "a"
   ]
  },
  {
   "cell_type": "code",
   "execution_count": 16,
   "id": "59572bba-0421-4439-a548-6ae2b7b481fc",
   "metadata": {},
   "outputs": [
    {
     "data": {
      "text/plain": [
       "[1, 2, 3, 4]"
      ]
     },
     "execution_count": 16,
     "metadata": {},
     "output_type": "execute_result"
    }
   ],
   "source": [
    "b"
   ]
  },
  {
   "cell_type": "code",
   "execution_count": 17,
   "id": "8a0c15c2-fe77-4a95-b0f1-288d65bc8aa7",
   "metadata": {},
   "outputs": [
    {
     "data": {
      "text/plain": [
       "[1, 2, 3, 4]"
      ]
     },
     "execution_count": 17,
     "metadata": {},
     "output_type": "execute_result"
    }
   ],
   "source": [
    "c"
   ]
  },
  {
   "cell_type": "markdown",
   "id": "9cd22bdd-93ac-45eb-8717-5e563dc20abb",
   "metadata": {},
   "source": [
    "하지만 그 id까지 같은 것은 아니다. "
   ]
  },
  {
   "cell_type": "code",
   "execution_count": 18,
   "id": "7056a969-853d-4d1d-bdd5-509a4c5361e6",
   "metadata": {},
   "outputs": [
    {
     "data": {
      "text/plain": [
       "(140237129249664, 140237129249664, 140237128836544)"
      ]
     },
     "execution_count": 18,
     "metadata": {},
     "output_type": "execute_result"
    }
   ],
   "source": [
    "id(a), id(b), id(c)"
   ]
  },
  {
   "cell_type": "markdown",
   "id": "08dbb446-e019-4cfb-88b8-40c2a3949cd9",
   "metadata": {},
   "source": [
    "## 예제2"
   ]
  },
  {
   "cell_type": "markdown",
   "id": "692192d8-bd38-4422-a3e7-e655c9581806",
   "metadata": {},
   "source": [
    "> 선행지식: \"생성->할당\" 과 \"참조/에일리어싱\"의 구분"
   ]
  },
  {
   "cell_type": "markdown",
   "id": "02f27d43-28ee-494c-9a3d-4a62db9e0cd9",
   "metadata": {},
   "source": [
    "> 포인트: 재할당의 이해!!"
   ]
  },
  {
   "cell_type": "markdown",
   "id": "c8800c8d-7601-4262-8b40-210aec9d9d45",
   "metadata": {},
   "source": [
    "(관찰)"
   ]
  },
  {
   "cell_type": "code",
   "execution_count": 44,
   "id": "358e36b2-67a3-4a90-9b2b-8f54c2b16776",
   "metadata": {},
   "outputs": [
    {
     "name": "stdout",
     "output_type": "stream",
     "text": [
      "a= [1, 2, 3, 4]\n",
      "b= [1, 2, 3]\n"
     ]
    }
   ],
   "source": [
    "a=[1,2,3] # 생성->할당\n",
    "b=a # 참조/에일리어싱 \n",
    "a=a+[4] # 생성->재할당 \n",
    "print('a=',a)\n",
    "print('b=',b)"
   ]
  },
  {
   "cell_type": "markdown",
   "id": "679d3278-0097-41c7-8345-0e03636fcfea",
   "metadata": {},
   "source": [
    "(해설)"
   ]
  },
  {
   "cell_type": "code",
   "execution_count": 20,
   "id": "9a5bf633-d3ea-4f58-aaf7-0a91d87bfbea",
   "metadata": {},
   "outputs": [
    {
     "data": {
      "text/plain": [
       "(140237129283584, 140237129350912)"
      ]
     },
     "execution_count": 20,
     "metadata": {},
     "output_type": "execute_result"
    }
   ],
   "source": [
    "id(a),id(b)"
   ]
  },
  {
   "cell_type": "markdown",
   "id": "0dfcd7fc-3bcb-4a7d-92c7-62d033d97fe8",
   "metadata": {},
   "source": [
    "- 포인트: [1,2,3]+[4] 가 실행되는 순간 새로운 오브젝트가 만들어지고 그 오브젝트를 a라는 이름으로 다시 할당되었음. (재할당)"
   ]
  },
  {
   "cell_type": "markdown",
   "id": "d6f334d0-252e-4149-b14d-f5b3c140d7d6",
   "metadata": {},
   "source": [
    "# 인터닝 "
   ]
  },
  {
   "cell_type": "markdown",
   "id": "2202b17c-ca9a-4d87-b535-590e878d5405",
   "metadata": {},
   "source": [
    "## 예제1"
   ]
  },
  {
   "cell_type": "markdown",
   "id": "4464e855-7efb-4312-becb-7534820c7115",
   "metadata": {},
   "source": [
    "> 선행지식: \"생성->할당,재할당\" 과 \"참조/에일리어싱\"의 구분"
   ]
  },
  {
   "cell_type": "markdown",
   "id": "91c012c0-6025-4a9c-b5b3-6ed93255aa09",
   "metadata": {},
   "source": [
    "> 포인트: 인터닝을 위한 떡밥예제"
   ]
  },
  {
   "cell_type": "code",
   "execution_count": 25,
   "id": "1a7cac44-3de3-462c-a53d-b241f963651b",
   "metadata": {},
   "outputs": [
    {
     "data": {
      "text/plain": [
       "139753546122608"
      ]
     },
     "execution_count": 25,
     "metadata": {},
     "output_type": "execute_result"
    }
   ],
   "source": [
    "a=1+2021\n",
    "id(a)"
   ]
  },
  {
   "cell_type": "code",
   "execution_count": 26,
   "id": "e67d70d0-bfb8-4f25-9c39-f8341ede577c",
   "metadata": {},
   "outputs": [
    {
     "data": {
      "text/plain": [
       "139753545299280"
      ]
     },
     "execution_count": 26,
     "metadata": {},
     "output_type": "execute_result"
    }
   ],
   "source": [
    "b=2023-1\n",
    "id(b)"
   ]
  },
  {
   "cell_type": "code",
   "execution_count": 27,
   "id": "d23a4f7b-5988-4a4c-bd9c-0110fd0386d7",
   "metadata": {},
   "outputs": [
    {
     "data": {
      "text/plain": [
       "139753545299472"
      ]
     },
     "execution_count": 27,
     "metadata": {},
     "output_type": "execute_result"
    }
   ],
   "source": [
    "id(2022)"
   ]
  },
  {
   "cell_type": "markdown",
   "id": "177b77ce-75fc-475a-b95c-0b78748bdd06",
   "metadata": {},
   "source": [
    "- 당연한결과임. "
   ]
  },
  {
   "cell_type": "markdown",
   "id": "4b592f70-a61c-46d7-a37c-0f6d905e753c",
   "metadata": {},
   "source": [
    "## 예제2: 이제 다 이해했다고 생각했는데.. "
   ]
  },
  {
   "cell_type": "markdown",
   "id": "d06896c7-6c14-4730-baba-420fcf8374a9",
   "metadata": {},
   "source": [
    "> 선행지식: \"생성->할당,재할당\" 과 \"참조/에일리어싱\"의 구분"
   ]
  },
  {
   "cell_type": "markdown",
   "id": "929a4a17-5887-41fc-8cf8-283431b8cdd7",
   "metadata": {},
   "source": [
    "> 포인트: 인터닝의 이해"
   ]
  },
  {
   "cell_type": "code",
   "execution_count": 22,
   "id": "4d8163bb-9ffa-4b86-9c30-bdfa3edeb487",
   "metadata": {},
   "outputs": [
    {
     "data": {
      "text/plain": [
       "7394720"
      ]
     },
     "execution_count": 22,
     "metadata": {},
     "output_type": "execute_result"
    }
   ],
   "source": [
    "a=1+2 \n",
    "id(a)"
   ]
  },
  {
   "cell_type": "code",
   "execution_count": 23,
   "id": "0b7ef7e3-4d22-4110-879e-15da4301f5a9",
   "metadata": {},
   "outputs": [
    {
     "data": {
      "text/plain": [
       "7394720"
      ]
     },
     "execution_count": 23,
     "metadata": {},
     "output_type": "execute_result"
    }
   ],
   "source": [
    "b=4-1\n",
    "id(b)"
   ]
  },
  {
   "cell_type": "markdown",
   "id": "034a9d1a-89f0-4407-88f6-6ec392212d56",
   "metadata": {},
   "source": [
    "- id(a)와 id(b)가 왜 똑같지..? "
   ]
  },
  {
   "cell_type": "markdown",
   "id": "cd041624-52fe-4d41-a48e-a542faab651e",
   "metadata": {},
   "source": [
    "(해설) 파이썬의 경우 효율성을 위해서 -5~256까지의 정수를 미리 저장해둠. "
   ]
  },
  {
   "cell_type": "code",
   "execution_count": 14,
   "id": "34344327-fd27-423d-9182-24eec3533ada",
   "metadata": {},
   "outputs": [
    {
     "data": {
      "text/plain": [
       "7394720"
      ]
     },
     "execution_count": 14,
     "metadata": {},
     "output_type": "execute_result"
    }
   ],
   "source": [
    "id(3)"
   ]
  },
  {
   "cell_type": "markdown",
   "id": "c8a68f9a-989d-4d1b-b374-9237f138055f",
   "metadata": {},
   "source": [
    "- 3은 언제나 7394720에 지박령마냥 밖혀있음 "
   ]
  },
  {
   "cell_type": "markdown",
   "id": "ec4976eb-87e0-42cf-8cd8-77e5de812ec4",
   "metadata": {},
   "source": [
    "# `.copy()`의 사용 (shallow copy의 사용)"
   ]
  },
  {
   "cell_type": "markdown",
   "id": "c986b4c3-0788-4e1f-a2e6-4cb049cf46e1",
   "metadata": {},
   "source": [
    "> 선행지식: \"생성->할당,재할당\" 과 \"참조/에일리어싱\"의 구분"
   ]
  },
  {
   "cell_type": "markdown",
   "id": "dae1718d-fb55-4938-8a23-6509e9e9e35c",
   "metadata": {},
   "source": [
    "> 포인트: \"생성->할당,재할당\" 과 \"참조/에일리어싱\"의 연습, 복사를 위한 떡밥예제"
   ]
  },
  {
   "cell_type": "markdown",
   "id": "7306b2d5-2779-49f8-b0cf-17882baeaaf9",
   "metadata": {
    "tags": []
   },
   "source": [
    "## 예제1"
   ]
  },
  {
   "cell_type": "markdown",
   "id": "f2faeed7-4747-4d3c-a12f-20aa045f6f85",
   "metadata": {},
   "source": [
    "(관찰) 아래의 예제를 살펴보자. 참조를 제대로 이해했다면 아래의 예제는 자연스럽게 이해가능할 것임. "
   ]
  },
  {
   "cell_type": "code",
   "execution_count": 6,
   "id": "629799b4-01ea-45b2-8d79-27f327c73837",
   "metadata": {},
   "outputs": [
    {
     "name": "stdout",
     "output_type": "stream",
     "text": [
      "시점1\n",
      "l1= [3, [66, 55, 44]]\n",
      "l2= [3, [66, 55, 44]]\n",
      "시점2\n",
      "l1= [4, [66, 55, 44]]\n",
      "l2= [4, [66, 55, 44]]\n",
      "시점3\n",
      "l1= [4, [66, 55, 44], 5]\n",
      "l2= [4, [66, 55, 44], 5]\n"
     ]
    }
   ],
   "source": [
    "l1 = [3, [66,55,44]]\n",
    "l2 = l1 \n",
    "print('시점1')\n",
    "print('l1=',l1)\n",
    "print('l2=',l2)\n",
    "\n",
    "l1[0]=4 \n",
    "print('시점2')\n",
    "print('l1=',l1)\n",
    "print('l2=',l2)\n",
    "\n",
    "l2.append(5)\n",
    "print('시점3')\n",
    "print('l1=',l1)\n",
    "print('l2=',l2)"
   ]
  },
  {
   "cell_type": "markdown",
   "id": "7856d091-c039-4240-b81c-72193cfef492",
   "metadata": {},
   "source": [
    "(해설)"
   ]
  },
  {
   "cell_type": "code",
   "execution_count": 7,
   "id": "abd78f06-ac53-4069-a176-781f052cd7e5",
   "metadata": {},
   "outputs": [],
   "source": [
    "l1 = [3, [66,55,44]]\n",
    "l2 = l1 "
   ]
  },
  {
   "cell_type": "code",
   "execution_count": 8,
   "id": "12c4e081-13c5-4e02-a7bd-040e68ba5a94",
   "metadata": {},
   "outputs": [
    {
     "data": {
      "text/plain": [
       "(140571068242688, 140571068242688)"
      ]
     },
     "execution_count": 8,
     "metadata": {},
     "output_type": "execute_result"
    }
   ],
   "source": [
    "id(l1),id(l2)"
   ]
  },
  {
   "cell_type": "markdown",
   "id": "0fb0ac6c-7e19-48b4-8b49-5743cb604b80",
   "metadata": {},
   "source": [
    "이해는 되지만 우리가 원한건 이런게 아니야 "
   ]
  },
  {
   "cell_type": "markdown",
   "id": "9e97636b-f7eb-40d2-8538-8758abd3fdea",
   "metadata": {},
   "source": [
    "## 예제2: R과 같이 = 를 쓰고 싶다면? "
   ]
  },
  {
   "cell_type": "markdown",
   "id": "a4937ab7-7198-41ca-8a4a-94c2c4811b44",
   "metadata": {},
   "source": [
    "> 선행지식: \"생성->할당,재할당\" 과 \"참조/에일리어싱\"의 구분"
   ]
  },
  {
   "cell_type": "markdown",
   "id": "e1d04ccb-deb1-418b-be49-60366ec0bcdc",
   "metadata": {},
   "source": [
    "> 포인트: 복사의 사용, 얕은복사의 떡밥"
   ]
  },
  {
   "cell_type": "markdown",
   "id": "271ff29b-7f03-4666-9413-674641479c8f",
   "metadata": {},
   "source": [
    "(관찰)"
   ]
  },
  {
   "cell_type": "code",
   "execution_count": 11,
   "id": "513c42be-ea60-493c-a71c-4956a0180341",
   "metadata": {},
   "outputs": [
    {
     "name": "stdout",
     "output_type": "stream",
     "text": [
      "시점1\n",
      "l1= [3, [66, 55, 44]]\n",
      "l2= [3, [66, 55, 44]]\n",
      "시점2\n",
      "l1= [4, [66, 55, 44]]\n",
      "l2= [3, [66, 55, 44]]\n",
      "시점3\n",
      "l1= [4, [66, 55, 44]]\n",
      "l2= [3, [66, 55, 44], 5]\n"
     ]
    }
   ],
   "source": [
    "l1 = [3, [66,55,44]]\n",
    "l2 = l1.copy()\n",
    "print('시점1')\n",
    "print('l1=',l1)\n",
    "print('l2=',l2)\n",
    "\n",
    "l1[0]=4 \n",
    "print('시점2')\n",
    "print('l1=',l1)\n",
    "print('l2=',l2)\n",
    "\n",
    "l2.append(5)\n",
    "print('시점3')\n",
    "print('l1=',l1)\n",
    "print('l2=',l2)"
   ]
  },
  {
   "cell_type": "markdown",
   "id": "827d9577-1883-457d-8722-bd2b08861486",
   "metadata": {},
   "source": [
    "(해설)"
   ]
  },
  {
   "cell_type": "code",
   "execution_count": 12,
   "id": "1741f081-2173-4a1b-8f3e-9da5667f6264",
   "metadata": {},
   "outputs": [],
   "source": [
    "l1 = [3, [66,55,44]]\n",
    "l2 = l1.copy()"
   ]
  },
  {
   "cell_type": "code",
   "execution_count": 13,
   "id": "93a0100d-12a2-421c-a8ff-7393857487d0",
   "metadata": {},
   "outputs": [
    {
     "data": {
      "text/plain": [
       "(140571068242688, 140571068242240)"
      ]
     },
     "execution_count": 13,
     "metadata": {},
     "output_type": "execute_result"
    }
   ],
   "source": [
    "id(l1),id(l2) ## 드디어 주소가 달라졌다."
   ]
  },
  {
   "cell_type": "markdown",
   "id": "59f587ec-1677-4435-9dfa-b74808e5b862",
   "metadata": {},
   "source": [
    "## 예제3: 이제 다 이해했다고 생각했는데.. "
   ]
  },
  {
   "cell_type": "markdown",
   "id": "039cfc31-3ec2-4945-a6ee-ebaf304c7b48",
   "metadata": {},
   "source": [
    "> 선행지식: \"생성->할당,재할당\" 과 \"참조/에일리어싱\"의 구분, 복사의 사용"
   ]
  },
  {
   "cell_type": "markdown",
   "id": "eaefd86b-ee9a-4d39-a017-b18bc9342db4",
   "metadata": {},
   "source": [
    "> 포인트: 얕은복사를 이해하지 못할때 생기는 개념충돌 "
   ]
  },
  {
   "cell_type": "markdown",
   "id": "b48c5c14-6041-4d76-899d-95674a321f29",
   "metadata": {},
   "source": [
    "(관찰)"
   ]
  },
  {
   "cell_type": "code",
   "execution_count": 14,
   "id": "91eef950-4e7a-40fd-b23b-00d6b6f04ed5",
   "metadata": {},
   "outputs": [
    {
     "name": "stdout",
     "output_type": "stream",
     "text": [
      "l1= [3, [66, 55, 44, 33]]\n",
      "l2= [3, [66, 55, 44, 33]]\n"
     ]
    }
   ],
   "source": [
    "l1 = [3,[66,55,44]]\n",
    "l2 = l1.copy()\n",
    "l1[1].append(33)\n",
    "print('l1=',l1)\n",
    "print('l2=',l2)"
   ]
  },
  {
   "cell_type": "markdown",
   "id": "45d46ded-5207-4cbe-a872-5efecf9ff661",
   "metadata": {},
   "source": [
    "(의문)"
   ]
  },
  {
   "cell_type": "code",
   "execution_count": 15,
   "id": "c99d8558-9d02-4cb3-8335-7dcf7fdf8525",
   "metadata": {},
   "outputs": [
    {
     "data": {
      "text/plain": [
       "(140571077644352, 140571068253376)"
      ]
     },
     "execution_count": 15,
     "metadata": {},
     "output_type": "execute_result"
    }
   ],
   "source": [
    "id(l1),id(l2)"
   ]
  },
  {
   "cell_type": "markdown",
   "id": "7ad596dd-c29c-4f6a-b654-21d4a88e4e6c",
   "metadata": {},
   "source": [
    "- l1이랑 l2의 주소도 다르게 나오는데 왜 또 참조한것마냥 l1과 l2가 같이 바뀌고 있지? "
   ]
  },
  {
   "cell_type": "markdown",
   "id": "6e0281a5-4246-4857-a8aa-7e2e80b8f894",
   "metadata": {},
   "source": [
    "***나는 진정한 복사(=깊은복사)를 하고싶다***"
   ]
  },
  {
   "cell_type": "markdown",
   "id": "5b9db954-cc7f-43b7-af52-e029937827d4",
   "metadata": {},
   "source": [
    "# Shallow copy의 이해"
   ]
  },
  {
   "cell_type": "markdown",
   "id": "3b6dd465-3c6c-42db-91c9-57112701f39e",
   "metadata": {},
   "source": [
    "`-` 방금 살펴본 예제3을 이해하기 위해서는 shallow copy를 이해해야 한다. "
   ]
  },
  {
   "cell_type": "markdown",
   "id": "396d5012-a61b-483e-bdd7-b07d27f064f9",
   "metadata": {},
   "source": [
    "## 예제1"
   ]
  },
  {
   "cell_type": "markdown",
   "id": "22f4ed2d-61b1-4edf-91c3-7560f8acdc8e",
   "metadata": {},
   "source": [
    "> 선행지식: 이전까지 모든것 "
   ]
  },
  {
   "cell_type": "markdown",
   "id": "ae25d445-229a-41b0-9698-cc46b60f97ee",
   "metadata": {},
   "source": [
    "> 포인트: 0차원 자료형의 메모리 구조 이해, 1차원 자료형의 메모리 구조를 위한 떡밥"
   ]
  },
  {
   "cell_type": "markdown",
   "id": "3fca72a9-16f0-45ac-a1f6-c4e8ed26b150",
   "metadata": {},
   "source": [
    "(관찰+해설)"
   ]
  },
  {
   "cell_type": "code",
   "execution_count": 53,
   "id": "62afd5ae-2e11-4e26-a2f8-41a84211de3f",
   "metadata": {},
   "outputs": [],
   "source": [
    "a=2222\n",
    "b=2222"
   ]
  },
  {
   "cell_type": "code",
   "execution_count": 54,
   "id": "2635aa01-c913-47d7-9275-16a0bd6fe257",
   "metadata": {},
   "outputs": [
    {
     "data": {
      "text/plain": [
       "(139753545300880, 139753545301808)"
      ]
     },
     "execution_count": 54,
     "metadata": {},
     "output_type": "execute_result"
    }
   ],
   "source": [
    "id(a),id(b)"
   ]
  },
  {
   "cell_type": "markdown",
   "id": "72eaadd8-2f68-4eef-8389-1a88d8841ff1",
   "metadata": {},
   "source": [
    "메모리 상황 "
   ]
  },
  {
   "cell_type": "markdown",
   "id": "3352d9d5-317b-4968-a0b6-297e92597c6d",
   "metadata": {},
   "source": [
    "1. 2222라는 오브젝트가 어떤공간(`139753545300880`)에 생성되고 그 공간에 `a`라는 라벨이 붙음 \n",
    "2. 2222라는 오브젝트가 어떤공간(`139753545301808`)에 생성되고 그 공간에 `b`라는 라벨이 붙음 "
   ]
  },
  {
   "cell_type": "markdown",
   "id": "a09823db-e557-48f6-abd9-819980d8e8df",
   "metadata": {},
   "source": [
    "즉 -5~256 이외의 2개의 메모리 공간을 추가적으로 사용 "
   ]
  },
  {
   "cell_type": "markdown",
   "id": "2bd817bd-169e-40d4-a7a0-cde1ee57f480",
   "metadata": {},
   "source": [
    "## 예제2"
   ]
  },
  {
   "cell_type": "markdown",
   "id": "03fc9479-3c42-4e0b-a2be-aecbc69fbe76",
   "metadata": {},
   "source": [
    "> 선행지식: 이전까지 모든것, 0차원 자료형의 메모리저장상태 이해 "
   ]
  },
  {
   "cell_type": "markdown",
   "id": "81d0e2d8-b666-40c5-9362-6ac1b0b5e89d",
   "metadata": {},
   "source": [
    "> 포인트: (1) 1차원 자료형의 메모리 구조 이해 (2) 가변형객체라는 표현의 의미 "
   ]
  },
  {
   "cell_type": "markdown",
   "id": "b6c72413-a5cf-48ed-9e14-653444087081",
   "metadata": {},
   "source": [
    "(관찰)"
   ]
  },
  {
   "cell_type": "code",
   "execution_count": 3,
   "id": "e90fc56b-cf8d-460e-a963-1a4a25156ba3",
   "metadata": {},
   "outputs": [
    {
     "name": "stdout",
     "output_type": "stream",
     "text": [
      "a= [1, 2, 2222, 4]\n",
      "b= [1, 2, 2222]\n"
     ]
    }
   ],
   "source": [
    "a=[1,2,2222]\n",
    "b=[1,2,2222]\n",
    "a.append(4)\n",
    "print('a=',a)\n",
    "print('b=',b)"
   ]
  },
  {
   "cell_type": "markdown",
   "id": "143e43c5-88a9-4926-9699-4e9551ec991b",
   "metadata": {},
   "source": [
    "(해설)"
   ]
  },
  {
   "cell_type": "code",
   "execution_count": 1,
   "id": "1c6323d2-b4c6-491d-a3a0-55a8ea9d12b7",
   "metadata": {},
   "outputs": [],
   "source": [
    "a=[1,2,2222]\n",
    "b=[1,2,2222]"
   ]
  },
  {
   "cell_type": "code",
   "execution_count": 2,
   "id": "87faa6a2-95d9-4adc-a8aa-2f74aaf065b5",
   "metadata": {},
   "outputs": [
    {
     "data": {
      "text/plain": [
       "(140527746917824, [7585472, 7585504, 140528016796752])"
      ]
     },
     "execution_count": 2,
     "metadata": {},
     "output_type": "execute_result"
    }
   ],
   "source": [
    "id(a), [id(a[0]),id(a[1]),id(a[2])] # a=[1,2,2222]"
   ]
  },
  {
   "cell_type": "code",
   "execution_count": 3,
   "id": "d70a66dc-adf0-4b08-a0ec-c4b64f8b6896",
   "metadata": {},
   "outputs": [
    {
     "data": {
      "text/plain": [
       "(140527746917568, [7585472, 7585504, 140528016796144])"
      ]
     },
     "execution_count": 3,
     "metadata": {},
     "output_type": "execute_result"
    }
   ],
   "source": [
    "id(b), [id(b[0]),id(b[1]),id(b[2])] # b=[1,2,2222] "
   ]
  },
  {
   "cell_type": "code",
   "execution_count": 4,
   "id": "eaf96d1d-a08e-44d8-b9fc-caa463780721",
   "metadata": {},
   "outputs": [],
   "source": [
    "a.append(4)"
   ]
  },
  {
   "cell_type": "code",
   "execution_count": 5,
   "id": "0b619398-a79e-4a4e-98eb-2e822048dd15",
   "metadata": {},
   "outputs": [
    {
     "data": {
      "text/plain": [
       "[1, 2, 2222, 4]"
      ]
     },
     "execution_count": 5,
     "metadata": {},
     "output_type": "execute_result"
    }
   ],
   "source": [
    "a"
   ]
  },
  {
   "cell_type": "code",
   "execution_count": 6,
   "id": "f445522e-a3c6-4aea-b89d-d9a391ecf6bc",
   "metadata": {},
   "outputs": [
    {
     "data": {
      "text/plain": [
       "[1, 2, 2222]"
      ]
     },
     "execution_count": 6,
     "metadata": {},
     "output_type": "execute_result"
    }
   ],
   "source": [
    "b"
   ]
  },
  {
   "cell_type": "code",
   "execution_count": 7,
   "id": "cbb70194-6612-41cc-8d93-5e70e0794437",
   "metadata": {},
   "outputs": [
    {
     "data": {
      "text/plain": [
       "140527746917824"
      ]
     },
     "execution_count": 7,
     "metadata": {},
     "output_type": "execute_result"
    }
   ],
   "source": [
    "id(a)"
   ]
  },
  {
   "cell_type": "markdown",
   "id": "f3a23828-504c-49ca-927a-704db886901b",
   "metadata": {},
   "source": [
    "메모리상황 "
   ]
  },
  {
   "cell_type": "markdown",
   "id": "2320f86d-6044-4fce-a976-703e520cc4d1",
   "metadata": {},
   "source": [
    "0. -5~256까지의 숫자는 미리 메모리에 저장되어 있다. 이중에서 1은 `7394656`, 2는 `7394688`에 저장되어있음. \n",
    "1. 2222가 공간 `139753178093776`에서 만들어진다. \n",
    "2. 어떠한 리스트오브젝트가 공간 `139753182327904`에서 만들어지고 원소로 [1,2,2222]를 가진다. 이 공간에 `a`라는 포스트잇을 붙인다. \n",
    "3. 2222가 공간 `139753178095568`에서 만들어진다.\n",
    "4. 어떠한 리스트오브젝트가 공간 `139753173818656`에서 만들어지고 원소로 [1,2,2222]를 가진다. 이 공간에 `b`라는 포스트잇을 붙인다. \n",
    "5. `a`라는 포스트잇이 붙은 공간으로 이동하여 원소에 4를 추가시킨다. "
   ]
  },
  {
   "cell_type": "markdown",
   "id": "4179e6c8-b45e-4e39-8a9e-1b47ab86ba2b",
   "metadata": {},
   "source": [
    "즉 -5~256이외에 4개의 메모리 공간을 추가사용 (a,b,a의 2222,b의 2222)"
   ]
  },
  {
   "cell_type": "markdown",
   "id": "16818a4e-9dce-4daa-803d-7791ca74e55b",
   "metadata": {},
   "source": [
    "## 예제3"
   ]
  },
  {
   "cell_type": "markdown",
   "id": "e6e02226-bdcd-4d77-b5c6-2f6d9d9310ca",
   "metadata": {},
   "source": [
    "> 선행지식: 이전까지 모든 것"
   ]
  },
  {
   "cell_type": "markdown",
   "id": "f8979ae8-e790-43dd-8c34-fc58715333e4",
   "metadata": {},
   "source": [
    "> 포인트: `l2=l1` 와 `l2=l1.copy()` 의 차이점"
   ]
  },
  {
   "cell_type": "markdown",
   "id": "bc71649b-dcb4-4462-93ca-97818be99d99",
   "metadata": {},
   "source": [
    "(관찰)"
   ]
  },
  {
   "cell_type": "code",
   "execution_count": 4,
   "id": "0f314b35-548b-4d7c-8995-17fbe8006ad2",
   "metadata": {},
   "outputs": [
    {
     "name": "stdout",
     "output_type": "stream",
     "text": [
      "l1= [7777, [66, 55, 44]]\n",
      "l2= [3, [66, 55, 44]]\n"
     ]
    }
   ],
   "source": [
    "l1 = [3,[66,55,44]]\n",
    "l2 = l1.copy()\n",
    "l1[0] = 7777\n",
    "print('l1=',l1)\n",
    "print('l2=',l2)"
   ]
  },
  {
   "cell_type": "markdown",
   "id": "a5ee1487-6eef-45c9-8bea-a91cdf37e36d",
   "metadata": {},
   "source": [
    "(해설)"
   ]
  },
  {
   "cell_type": "code",
   "execution_count": 258,
   "id": "f0d0a997-1d9c-49d5-a4d3-6376c7fa3d99",
   "metadata": {},
   "outputs": [],
   "source": [
    "l1 = [3,[66,55,44]]\n",
    "l2 = l1.copy()"
   ]
  },
  {
   "cell_type": "code",
   "execution_count": 259,
   "id": "273a9ca9-f631-4491-b190-010790a35ad7",
   "metadata": {},
   "outputs": [
    {
     "data": {
      "text/plain": [
       "(139753183437040, [7394720, 139753183707216])"
      ]
     },
     "execution_count": 259,
     "metadata": {},
     "output_type": "execute_result"
    }
   ],
   "source": [
    "id(l1), [id(l1[0]), id(l1[1])]"
   ]
  },
  {
   "cell_type": "code",
   "execution_count": 260,
   "id": "51c2e227-1ae3-4125-ac8c-2a497c933183",
   "metadata": {},
   "outputs": [
    {
     "data": {
      "text/plain": [
       "(139753182311120, [7394720, 139753183707216])"
      ]
     },
     "execution_count": 260,
     "metadata": {},
     "output_type": "execute_result"
    }
   ],
   "source": [
    "id(l2), [id(l2[0]), id(l2[1])]"
   ]
  },
  {
   "cell_type": "markdown",
   "id": "cf177ac8-7417-4e5e-b30c-76a08c19f41b",
   "metadata": {},
   "source": [
    "메모리상황 "
   ]
  },
  {
   "cell_type": "markdown",
   "id": "660a0653-99c9-4096-9016-969e7fa26f5e",
   "metadata": {},
   "source": [
    "0. -5~256까지의 숫자가 메모리에 저장되어 있다. \n",
    "1. 저장된 숫자중 66,55,44를 묶어서 리스트로 구성하고 이 리스트를 공간 `139753183707216`에 저장. \n",
    "2. 숫자 3과 공간 `139753183707216`에 저장된 리스트 [66,55,44]를 하나로 묶어서 새로운 리스트를 구성하고 이를 공간 `139753183437040`에 저장. 공간 `139753183437040`에 `l1`이라는 포스트잇 생성. \n",
    "3. 공간 `139753182311120`에 `l1`의 원소들을 모아서 새로운 리스트를 구성함. 공간 `139753182311120`에 `l2`라는 포스트잇 생성. 그런데 따져보니까 내부구성은 똑같아?"
   ]
  },
  {
   "cell_type": "code",
   "execution_count": 261,
   "id": "c8d9bf1c-6702-4667-99b9-f6f97a6b273c",
   "metadata": {},
   "outputs": [
    {
     "data": {
      "text/plain": [
       "([7777, [66, 55, 44]], [3, [66, 55, 44]])"
      ]
     },
     "execution_count": 261,
     "metadata": {},
     "output_type": "execute_result"
    }
   ],
   "source": [
    "l1[0] = 7777\n",
    "l1,l2"
   ]
  },
  {
   "cell_type": "code",
   "execution_count": 262,
   "id": "dbd7d5a6-6e28-4bdb-a9df-87b0da2501e0",
   "metadata": {},
   "outputs": [
    {
     "data": {
      "text/plain": [
       "(139753183437040, [139753178092080, 139753183707216])"
      ]
     },
     "execution_count": 262,
     "metadata": {},
     "output_type": "execute_result"
    }
   ],
   "source": [
    "id(l1), [id(l1[0]), id(l1[1])]"
   ]
  },
  {
   "cell_type": "code",
   "execution_count": 263,
   "id": "5d316e11-2362-4a69-af75-c2e0826987d5",
   "metadata": {},
   "outputs": [
    {
     "data": {
      "text/plain": [
       "(139753182311120, [7394720, 139753183707216])"
      ]
     },
     "execution_count": 263,
     "metadata": {},
     "output_type": "execute_result"
    }
   ],
   "source": [
    "id(l2), [id(l2[0]), id(l2[1])]"
   ]
  },
  {
   "cell_type": "markdown",
   "id": "7845943a-8a33-45cd-acb5-f73bc02333b6",
   "metadata": {},
   "source": [
    "0. l1[0]은 원래 공간 `7394720`와 binding 되어 있었음.  \n",
    "1. 그런데 7777이라는 새로운 오브젝트가 공간 `139753178092080`에 생성되고 l1[0]이 공간 `139753178092080`와 다시 binding 됨. "
   ]
  },
  {
   "cell_type": "markdown",
   "id": "fe124504-d217-40cf-bca4-9a1224da2088",
   "metadata": {
    "tags": []
   },
   "source": [
    "## 예제4"
   ]
  },
  {
   "cell_type": "markdown",
   "id": "1428dab8-663a-4efb-b9be-0f8027da0c47",
   "metadata": {},
   "source": [
    "> 선행지식: 이전까지 모든것, `.copy()`의 동작원리 "
   ]
  },
  {
   "cell_type": "markdown",
   "id": "af541bbb-8a33-411c-82ab-902b00c9b4a7",
   "metadata": {},
   "source": [
    "> 포인트: `.copy()`의 동작원리 재학습"
   ]
  },
  {
   "cell_type": "markdown",
   "id": "9caa99bf-e387-45ab-8a0f-0a4c27711d3f",
   "metadata": {},
   "source": [
    "(관찰)"
   ]
  },
  {
   "cell_type": "code",
   "execution_count": 5,
   "id": "0a140cdc-c788-4bac-9a20-84fc04868823",
   "metadata": {},
   "outputs": [
    {
     "name": "stdout",
     "output_type": "stream",
     "text": [
      "l1= [3, [66, 55, 44], 7777]\n",
      "l2= [3, [66, 55, 44]]\n"
     ]
    }
   ],
   "source": [
    "l1 = [3,[66,55,44]]\n",
    "l2 = l1.copy()\n",
    "l1.append(7777)\n",
    "print('l1=',l1)\n",
    "print('l2=',l2)"
   ]
  },
  {
   "cell_type": "markdown",
   "id": "3a7cb24a-7968-4e05-84be-3ac4531ad494",
   "metadata": {},
   "source": [
    "(해설)"
   ]
  },
  {
   "cell_type": "code",
   "execution_count": 282,
   "id": "9e61fe6b-dfdb-4cf0-af62-6d3781708f4b",
   "metadata": {},
   "outputs": [],
   "source": [
    "l1 = [3,[66,55,44]]\n",
    "l2 = l1.copy()\n",
    "l1.append(7777)"
   ]
  },
  {
   "cell_type": "code",
   "execution_count": 283,
   "id": "123b252e-501d-4418-b154-c98ff5321abb",
   "metadata": {},
   "outputs": [
    {
     "data": {
      "text/plain": [
       "([3, [66, 55, 44], 7777], [3, [66, 55, 44]])"
      ]
     },
     "execution_count": 283,
     "metadata": {},
     "output_type": "execute_result"
    }
   ],
   "source": [
    "l1,l2"
   ]
  },
  {
   "cell_type": "code",
   "execution_count": 278,
   "id": "ce53f367-21e1-4c8c-8b93-4c897bc447d0",
   "metadata": {},
   "outputs": [
    {
     "data": {
      "text/plain": [
       "(139753183257056, [7394720, 139753184484240, 139753180268560])"
      ]
     },
     "execution_count": 278,
     "metadata": {},
     "output_type": "execute_result"
    }
   ],
   "source": [
    "id(l1), [id(l1[0]), id(l1[1]), id(l1[2])]"
   ]
  },
  {
   "cell_type": "code",
   "execution_count": 279,
   "id": "b067c054-555c-423b-93ea-4f01dd3e2584",
   "metadata": {},
   "outputs": [
    {
     "data": {
      "text/plain": [
       "(139753183216656, [7394720, 139753184484240])"
      ]
     },
     "execution_count": 279,
     "metadata": {},
     "output_type": "execute_result"
    }
   ],
   "source": [
    "id(l2), [id(l2[0]), id(l2[1])]"
   ]
  },
  {
   "cell_type": "markdown",
   "id": "00f8c62c-a7e6-4dab-acbc-274c93a6227d",
   "metadata": {
    "tags": []
   },
   "source": [
    "## 예제5: 우리를 힘들게 했던 그 예제. "
   ]
  },
  {
   "cell_type": "markdown",
   "id": "cf650fcc-1fa0-484f-8111-ac4d0f18af34",
   "metadata": {},
   "source": [
    "> 선행지식: 이전까지 모든것, `.copy()`의 동작원리 "
   ]
  },
  {
   "cell_type": "markdown",
   "id": "4f5b8fcf-b3e2-4f99-8c08-ddf1f35e124b",
   "metadata": {},
   "source": [
    "> 포인트: (1) `.copy()`의 한계, (2) 얕은복사라는 명칭의 유래"
   ]
  },
  {
   "cell_type": "markdown",
   "id": "426d0377-3f91-4f8f-aadb-0d2740957b05",
   "metadata": {},
   "source": [
    "(관찰)"
   ]
  },
  {
   "cell_type": "code",
   "execution_count": 6,
   "id": "f5af594a-bf60-41a3-8d21-f152157b5c2a",
   "metadata": {},
   "outputs": [
    {
     "name": "stdout",
     "output_type": "stream",
     "text": [
      "l1= [3, [66, 55, 44, 7777]]\n",
      "l2= [3, [66, 55, 44, 7777]]\n"
     ]
    }
   ],
   "source": [
    "l1 = [3,[66,55,44]]\n",
    "l2 = l1.copy()\n",
    "l1[1].append(7777)\n",
    "print('l1=',l1)\n",
    "print('l2=',l2)"
   ]
  },
  {
   "cell_type": "markdown",
   "id": "c0b7e512-7893-424f-9b5d-15e26676d34d",
   "metadata": {},
   "source": [
    "(해설-시점1)"
   ]
  },
  {
   "cell_type": "code",
   "execution_count": 284,
   "id": "9d1f3300-f986-49e0-8c22-ce50436eb7d5",
   "metadata": {},
   "outputs": [],
   "source": [
    "l1 = [3,[66,55,44]]\n",
    "l2 = l1.copy()"
   ]
  },
  {
   "cell_type": "code",
   "execution_count": 285,
   "id": "33cb32e8-aad0-41a6-8a7e-e59576b42bea",
   "metadata": {},
   "outputs": [
    {
     "data": {
      "text/plain": [
       "([3, [66, 55, 44]], [3, [66, 55, 44]])"
      ]
     },
     "execution_count": 285,
     "metadata": {},
     "output_type": "execute_result"
    }
   ],
   "source": [
    "l1,l2"
   ]
  },
  {
   "cell_type": "code",
   "execution_count": 286,
   "id": "b21c083a-1724-4aad-bb38-d829c72cb48c",
   "metadata": {},
   "outputs": [
    {
     "data": {
      "text/plain": [
       "(139753181411920, [7394720, 139753181409920])"
      ]
     },
     "execution_count": 286,
     "metadata": {},
     "output_type": "execute_result"
    }
   ],
   "source": [
    "id(l1), [id(l1[0]), id(l1[1])]"
   ]
  },
  {
   "cell_type": "code",
   "execution_count": 287,
   "id": "bde34f96-8555-49e2-bf66-ea14a7052a8d",
   "metadata": {},
   "outputs": [
    {
     "data": {
      "text/plain": [
       "(139753181409440, [7394720, 139753181409920])"
      ]
     },
     "execution_count": 287,
     "metadata": {},
     "output_type": "execute_result"
    }
   ],
   "source": [
    "id(l2), [id(l2[0]), id(l2[1])]"
   ]
  },
  {
   "cell_type": "markdown",
   "id": "18f96c2a-206a-4b8e-bd77-aec33875b7f1",
   "metadata": {},
   "source": [
    "(해설-시점2)"
   ]
  },
  {
   "cell_type": "code",
   "execution_count": 288,
   "id": "77c73615-3a44-493f-9ebb-2ed7f67b63b5",
   "metadata": {},
   "outputs": [],
   "source": [
    "l1[1].append(7777)"
   ]
  },
  {
   "cell_type": "code",
   "execution_count": 289,
   "id": "1864785c-d8bb-4ec1-90af-8d00c057feeb",
   "metadata": {},
   "outputs": [
    {
     "data": {
      "text/plain": [
       "([3, [66, 55, 44, 7777]], [3, [66, 55, 44, 7777]])"
      ]
     },
     "execution_count": 289,
     "metadata": {},
     "output_type": "execute_result"
    }
   ],
   "source": [
    "l1,l2"
   ]
  },
  {
   "cell_type": "code",
   "execution_count": 290,
   "id": "030e911b-927b-4e4a-9def-5578633038f1",
   "metadata": {},
   "outputs": [
    {
     "data": {
      "text/plain": [
       "(139753181411920, [7394720, 139753181409920])"
      ]
     },
     "execution_count": 290,
     "metadata": {},
     "output_type": "execute_result"
    }
   ],
   "source": [
    "id(l1), [id(l1[0]), id(l1[1])]"
   ]
  },
  {
   "cell_type": "code",
   "execution_count": 291,
   "id": "3e3adec3-7a77-4d90-a11b-55a8c54505e0",
   "metadata": {},
   "outputs": [
    {
     "data": {
      "text/plain": [
       "(139753181409440, [7394720, 139753181409920])"
      ]
     },
     "execution_count": 291,
     "metadata": {},
     "output_type": "execute_result"
    }
   ],
   "source": [
    "id(l2), [id(l2[0]), id(l2[1])]"
   ]
  },
  {
   "cell_type": "markdown",
   "id": "19537e03-ff52-496f-aabb-53466e38d297",
   "metadata": {},
   "source": [
    "해설: 사실 시점1에서 메모리 주소상황을 잘 이해했다면 신기한 일이 아니다. `.copy()`는 l1과 l2의 주소만 다르게 만들 뿐 내용물인 `l1[0]`,`l1[1]`는 동일하니까."
   ]
  },
  {
   "cell_type": "markdown",
   "id": "18124a5c-a0ed-47a7-a24e-87ed48e99faf",
   "metadata": {},
   "source": [
    "## 예제6: 신임교수=['최규빈','이영미']"
   ]
  },
  {
   "cell_type": "markdown",
   "id": "58819039-42cf-4ebe-bd57-d585c14aa80c",
   "metadata": {},
   "source": [
    "> 선행지식: 이전까지의 모든것 "
   ]
  },
  {
   "cell_type": "markdown",
   "id": "0d4ea107-3a10-4317-86d1-b39a77d545dd",
   "metadata": {},
   "source": [
    "> 포인트: 이전까지의 모든것 점검"
   ]
  },
  {
   "cell_type": "markdown",
   "id": "a80b9d8a-bfd7-4751-8ebe-576b4c0d244f",
   "metadata": {},
   "source": [
    "`-` 최규빈, 이영미는 신임교수임 "
   ]
  },
  {
   "cell_type": "code",
   "execution_count": 316,
   "id": "fb158478-5e67-4cb7-99f7-08a0c2f66d15",
   "metadata": {},
   "outputs": [],
   "source": [
    "신임교수 = ['최규빈','이영미']"
   ]
  },
  {
   "cell_type": "code",
   "execution_count": 317,
   "id": "9b12ebb1-21fc-49c1-b1ff-7211e49f44ee",
   "metadata": {},
   "outputs": [
    {
     "data": {
      "text/plain": [
       "(139753182527808, 139753171447312, 139753171447408)"
      ]
     },
     "execution_count": 317,
     "metadata": {},
     "output_type": "execute_result"
    }
   ],
   "source": [
    "id(신임교수), id('최규빈'), id('이영미')"
   ]
  },
  {
   "cell_type": "markdown",
   "id": "c4286dab-47d7-4757-ad38-3b5699b99e7b",
   "metadata": {},
   "source": [
    "`-` 신임교수를 누군가는 막내들이라고 부르기도 함. "
   ]
  },
  {
   "cell_type": "code",
   "execution_count": 318,
   "id": "37ccd5f3-30a5-4a65-9835-f3f234fd7783",
   "metadata": {},
   "outputs": [],
   "source": [
    "막내들 = 신임교수 "
   ]
  },
  {
   "cell_type": "code",
   "execution_count": 319,
   "id": "a0662e3c-5098-4f4c-b4ac-c28bab70bb57",
   "metadata": {},
   "outputs": [
    {
     "data": {
      "text/plain": [
       "(139753182527808, 139753182527808)"
      ]
     },
     "execution_count": 319,
     "metadata": {},
     "output_type": "execute_result"
    }
   ],
   "source": [
    "id(막내들), id(신임교수)"
   ]
  },
  {
   "cell_type": "markdown",
   "id": "3719bf45-43fa-47c0-8bfc-42f413e228bd",
   "metadata": {},
   "source": [
    "\"막내들\"이라는 단어와 \"신임교수\"라는 단어는 사실 같은 말임 "
   ]
  },
  {
   "cell_type": "markdown",
   "id": "6f31453d-6948-47bb-8109-370a348bec2f",
   "metadata": {},
   "source": [
    "`-` 새로운 교수 \"박혜원\"이 뽑혔음. "
   ]
  },
  {
   "cell_type": "code",
   "execution_count": 320,
   "id": "c0ef6364-3dcf-4d31-b03d-522758c9e6bf",
   "metadata": {},
   "outputs": [],
   "source": [
    "신임교수.append(\"박혜원\")"
   ]
  },
  {
   "cell_type": "code",
   "execution_count": 321,
   "id": "adfa1442-5b7b-41bb-874e-481f00b44b60",
   "metadata": {},
   "outputs": [
    {
     "data": {
      "text/plain": [
       "(['최규빈', '이영미', '박혜원'], ['최규빈', '이영미', '박혜원'])"
      ]
     },
     "execution_count": 321,
     "metadata": {},
     "output_type": "execute_result"
    }
   ],
   "source": [
    "신임교수, 막내들"
   ]
  },
  {
   "cell_type": "markdown",
   "id": "008084f8-7a19-4312-b705-8e7ed0b610aa",
   "metadata": {},
   "source": [
    "`-` 전북대 통계학과에서 R특강팀을 구성하여 방학중 R교육을 실시하고자함. 특강팀은 우선 신임교수들로 구성. "
   ]
  },
  {
   "cell_type": "code",
   "execution_count": 322,
   "id": "539f71da-7d1c-489e-91a7-c3f42f5e1006",
   "metadata": {},
   "outputs": [
    {
     "data": {
      "text/plain": [
       "['최규빈', '이영미', '박혜원']"
      ]
     },
     "execution_count": 322,
     "metadata": {},
     "output_type": "execute_result"
    }
   ],
   "source": [
    "R특강팀 = 신임교수.copy()\n",
    "R특강팀 "
   ]
  },
  {
   "cell_type": "markdown",
   "id": "27813e68-8b16-49e2-b413-40a2971190c7",
   "metadata": {},
   "source": [
    "`-` R특강팀에 `최혜미`교수님 추가. (그렇지만 최혜미교수님이 막내는 아니야.. // 참조와 shallow copy의 차이점) "
   ]
  },
  {
   "cell_type": "code",
   "execution_count": 323,
   "id": "6c0df593-0a84-4d93-ae69-b57730cce57f",
   "metadata": {},
   "outputs": [],
   "source": [
    "R특강팀.append(\"최혜미\") "
   ]
  },
  {
   "cell_type": "code",
   "execution_count": 324,
   "id": "1561932e-8f09-450d-91dd-72d31c94adbe",
   "metadata": {},
   "outputs": [
    {
     "data": {
      "text/plain": [
       "(['최규빈', '이영미', '박혜원', '최혜미'], ['최규빈', '이영미', '박혜원'], ['최규빈', '이영미', '박혜원'])"
      ]
     },
     "execution_count": 324,
     "metadata": {},
     "output_type": "execute_result"
    }
   ],
   "source": [
    "R특강팀, 신임교수, 막내들"
   ]
  },
  {
   "cell_type": "markdown",
   "id": "c6da39e6-b00d-4736-9e35-39e2a5e0e94a",
   "metadata": {},
   "source": [
    "`-` R특강팀에서 양성준 교수를 추가하여 파이썬 특강팀을 구성 (R특강팀의 구분을 위해서 중첩리스트 구조로 만들자)"
   ]
  },
  {
   "cell_type": "code",
   "execution_count": 326,
   "id": "ff6abacd-ebd4-429d-892f-a904878dd547",
   "metadata": {},
   "outputs": [
    {
     "data": {
      "text/plain": [
       "[['최규빈', '이영미', '박혜원', '최혜미'], '양성준']"
      ]
     },
     "execution_count": 326,
     "metadata": {},
     "output_type": "execute_result"
    }
   ],
   "source": [
    "파이썬특강팀 = [R특강팀, \"양성준\"]\n",
    "파이썬특강팀"
   ]
  },
  {
   "cell_type": "markdown",
   "id": "0eda5db2-eec7-48f6-918f-f16ad0a3d56f",
   "metadata": {},
   "source": [
    "`-` 이영미교수는 다른 일이 많아서 R특강 팀에서 제외됨. (그럼 자연히 파이썬에서도 제외됨!!) "
   ]
  },
  {
   "cell_type": "code",
   "execution_count": 327,
   "id": "432b3055-7133-410f-a485-38fe5d1126a9",
   "metadata": {},
   "outputs": [],
   "source": [
    "R특강팀.remove(\"이영미\")"
   ]
  },
  {
   "cell_type": "code",
   "execution_count": 328,
   "id": "b1b102bb-1d97-4fa8-bee8-aef99aabc2c6",
   "metadata": {},
   "outputs": [
    {
     "data": {
      "text/plain": [
       "(['최규빈', '박혜원', '최혜미'], [['최규빈', '박혜원', '최혜미'], '양성준'])"
      ]
     },
     "execution_count": 328,
     "metadata": {},
     "output_type": "execute_result"
    }
   ],
   "source": [
    "R특강팀, 파이썬특강팀"
   ]
  },
  {
   "cell_type": "markdown",
   "id": "761abef1-b0f9-4cbc-99ac-211a4539e635",
   "metadata": {},
   "source": [
    "하지만 이영미교수는 여전히 신임교수이면서 막내들임 "
   ]
  },
  {
   "cell_type": "code",
   "execution_count": 329,
   "id": "15594b32-1647-458f-8774-06e9480cd1ac",
   "metadata": {},
   "outputs": [
    {
     "data": {
      "text/plain": [
       "(['최규빈', '이영미', '박혜원'], ['최규빈', '이영미', '박혜원'])"
      ]
     },
     "execution_count": 329,
     "metadata": {},
     "output_type": "execute_result"
    }
   ],
   "source": [
    "신임교수, 막내들"
   ]
  },
  {
   "cell_type": "markdown",
   "id": "3edd7640-77b8-4fcb-b3b2-ea16452384da",
   "metadata": {},
   "source": [
    "`-` 새로운 교수로 \"손흥민\"이 임용됨. "
   ]
  },
  {
   "cell_type": "code",
   "execution_count": 330,
   "id": "451aae63-78e5-45ac-883a-7ab85593edbd",
   "metadata": {},
   "outputs": [],
   "source": [
    "막내들.append(\"손흥민\")"
   ]
  },
  {
   "cell_type": "code",
   "execution_count": 331,
   "id": "9c0cd78c-9383-45b3-9258-8d25e7dc516e",
   "metadata": {},
   "outputs": [
    {
     "data": {
      "text/plain": [
       "(['최규빈', '이영미', '박혜원', '손흥민'], ['최규빈', '이영미', '박혜원', '손흥민'])"
      ]
     },
     "execution_count": 331,
     "metadata": {},
     "output_type": "execute_result"
    }
   ],
   "source": [
    "막내들, 신임교수"
   ]
  },
  {
   "cell_type": "markdown",
   "id": "5028ae45-53f9-417c-820d-801e2bf79646",
   "metadata": {},
   "source": [
    "`-` 그렇다고 해서 손흥민 교수가 바로 R이나 파이썬 특강팀에 자동소속되는건 아님"
   ]
  },
  {
   "cell_type": "code",
   "execution_count": 332,
   "id": "80b07b06-17d9-4d5e-939a-2ced4b7f0963",
   "metadata": {},
   "outputs": [
    {
     "data": {
      "text/plain": [
       "(['최규빈', '박혜원', '최혜미'], [['최규빈', '박혜원', '최혜미'], '양성준'])"
      ]
     },
     "execution_count": 332,
     "metadata": {},
     "output_type": "execute_result"
    }
   ],
   "source": [
    "R특강팀, 파이썬특강팀"
   ]
  },
  {
   "cell_type": "markdown",
   "id": "76474e72-effc-46a8-b5b9-0b5ec799c147",
   "metadata": {},
   "source": [
    "# Deep copy"
   ]
  },
  {
   "cell_type": "markdown",
   "id": "109eb75f-df51-4eaf-a7bb-894b15635809",
   "metadata": {},
   "source": [
    "## 예제1: Motivation example"
   ]
  },
  {
   "cell_type": "markdown",
   "id": "f003f18e-6a93-4d7d-8239-506ee0474a78",
   "metadata": {},
   "source": [
    "`-` 아래의 상황을 다시 생각해보자."
   ]
  },
  {
   "cell_type": "code",
   "execution_count": 6,
   "id": "24cade23-8f97-4234-a01f-bc9d88a2c26f",
   "metadata": {},
   "outputs": [],
   "source": [
    "파이썬특강팀 = [\"양성준\",[\"최규빈\",\"이영미\",\"최혜미\"]]\n",
    "ADSP특강팀 = 파이썬특강팀.copy()\n",
    "파이썬특강팀[-1].remove(\"이영미\")"
   ]
  },
  {
   "cell_type": "code",
   "execution_count": 7,
   "id": "288d7c22-68da-44b0-a144-34d86e65e45d",
   "metadata": {},
   "outputs": [
    {
     "data": {
      "text/plain": [
       "(['양성준', ['최규빈', '최혜미']], ['양성준', ['최규빈', '최혜미']])"
      ]
     },
     "execution_count": 7,
     "metadata": {},
     "output_type": "execute_result"
    }
   ],
   "source": [
    "파이썬특강팀, ADSP특강팀"
   ]
  },
  {
   "cell_type": "markdown",
   "id": "b2e74820-f27e-4217-a1da-574926755dd1",
   "metadata": {},
   "source": [
    "**이슈:** 이영미교수가 파이썬특강에서 제외되면서 ADSP특강팀에서도 제외되었음. 그런데 사실 이영미교수가 파이썬특강팀에서만 제외되길 원한 것이지 ADSP특강팀에서 제외되길 원한게 아닐수도 있음. "
   ]
  },
  {
   "cell_type": "markdown",
   "id": "cb828e24-2015-4a12-9e57-e6b37a790e0a",
   "metadata": {
    "tags": []
   },
   "source": [
    "**해결**: Deep copy의 사용"
   ]
  },
  {
   "cell_type": "code",
   "execution_count": 8,
   "id": "31c127ae-cced-4781-9e51-8db5770e7f8b",
   "metadata": {},
   "outputs": [],
   "source": [
    "import copy"
   ]
  },
  {
   "cell_type": "code",
   "execution_count": 9,
   "id": "4006f93e-b5c4-4eb1-953f-995df756f2ad",
   "metadata": {},
   "outputs": [],
   "source": [
    "파이썬특강팀 = [\"양성준\",[\"최규빈\",\"이영미\",\"최혜미\"]]\n",
    "ADSP특강팀 = copy.deepcopy(파이썬특강팀)\n",
    "파이썬특강팀[-1].remove(\"이영미\")"
   ]
  },
  {
   "cell_type": "code",
   "execution_count": 10,
   "id": "91fcdcd0-7ff0-4e2d-bba0-986bd334ac27",
   "metadata": {},
   "outputs": [
    {
     "data": {
      "text/plain": [
       "(['양성준', ['최규빈', '최혜미']], ['양성준', ['최규빈', '이영미', '최혜미']])"
      ]
     },
     "execution_count": 10,
     "metadata": {},
     "output_type": "execute_result"
    }
   ],
   "source": [
    "파이썬특강팀, ADSP특강팀"
   ]
  },
  {
   "cell_type": "markdown",
   "id": "56ed9ee3-eb56-469e-8744-4141594f1d07",
   "metadata": {},
   "source": [
    "## 예제2"
   ]
  },
  {
   "cell_type": "markdown",
   "id": "06582e84-c60e-4c30-bdaf-d14b6c4eadb4",
   "metadata": {},
   "source": [
    "> 선행지식: 이전까지 모든것, 얕은복사 "
   ]
  },
  {
   "cell_type": "markdown",
   "id": "d77a7fdc-3266-4849-845c-0987c893565f",
   "metadata": {},
   "source": [
    "> 포인트: (1) 깊은복사 (2) 복사의 레벨을 이해 (3) 얕은복사 = 1단계 깊은복사"
   ]
  },
  {
   "cell_type": "markdown",
   "id": "60172b9e-1a05-43fb-9ba8-520143db6b0b",
   "metadata": {},
   "source": [
    "`-` deepcopy"
   ]
  },
  {
   "cell_type": "code",
   "execution_count": 11,
   "id": "351119a6-8484-458e-8b09-0d2e21d1410f",
   "metadata": {},
   "outputs": [],
   "source": [
    "l1 = [3,[66,[55,44]]] \n",
    "l2 = copy.deepcopy(l1)"
   ]
  },
  {
   "cell_type": "code",
   "execution_count": 12,
   "id": "e4cebd53-bbcb-4dc9-af03-28905584811b",
   "metadata": {},
   "outputs": [],
   "source": [
    "l2[1][1].append(33)"
   ]
  },
  {
   "cell_type": "code",
   "execution_count": 13,
   "id": "088ccc11-d3ca-4c6e-86cf-1cb0f6e45a25",
   "metadata": {},
   "outputs": [
    {
     "data": {
      "text/plain": [
       "([3, [66, [55, 44]]], [3, [66, [55, 44, 33]]])"
      ]
     },
     "execution_count": 13,
     "metadata": {},
     "output_type": "execute_result"
    }
   ],
   "source": [
    "l1,l2"
   ]
  },
  {
   "cell_type": "code",
   "execution_count": 14,
   "id": "27944192-794e-4646-8114-e3e503433832",
   "metadata": {},
   "outputs": [
    {
     "name": "stdout",
     "output_type": "stream",
     "text": [
      "level 1\n",
      "l1: 140137133270656\n",
      "l2: 140137132727232\n"
     ]
    }
   ],
   "source": [
    "print('level 1')\n",
    "print('l1:', id(l1))\n",
    "print('l2:', id(l2))"
   ]
  },
  {
   "cell_type": "markdown",
   "id": "5ef8a508-7be1-4350-b389-56077ca70e04",
   "metadata": {},
   "source": [
    "- 레벨1: `l1`,`l2` 의 메모리 주소가 다름을 확인"
   ]
  },
  {
   "cell_type": "code",
   "execution_count": 15,
   "id": "7d3642ab-6523-46a5-8135-d7cc5a5064d8",
   "metadata": {},
   "outputs": [
    {
     "name": "stdout",
     "output_type": "stream",
     "text": [
      "level 2\n",
      "l1: 140137133270656 [7585536, 140137133267712]\n",
      "l2: 140137132727232 [7585536, 140137133267456]\n"
     ]
    }
   ],
   "source": [
    "print('level 2')\n",
    "print('l1:', id(l1), [id(l1[0]),id(l1[1])])\n",
    "print('l2:', id(l2), [id(l2[0]),id(l2[1])])"
   ]
  },
  {
   "cell_type": "markdown",
   "id": "f3f1951b-beb5-4d80-8490-db7a407649bd",
   "metadata": {},
   "source": [
    "- 레벨2: `l1안에 있는 [66,[55,44]]`와 `l2안에 있는 [66,[55,44]]`의 메모리 주소가 다름도 확인. "
   ]
  },
  {
   "cell_type": "code",
   "execution_count": 16,
   "id": "f4b96ad5-4d5a-4a7b-a919-0c8883c9be26",
   "metadata": {},
   "outputs": [
    {
     "name": "stdout",
     "output_type": "stream",
     "text": [
      "level 3\n",
      "l1: 140137133270656 [7585536, [7587552, 140137133704320]]\n",
      "l2: 140137132727232 [7585536, [7587552, 140137137410624]]\n"
     ]
    }
   ],
   "source": [
    "print('level 3')\n",
    "print('l1:', id(l1), [id(l1[0]),[id(l1[1][0]),id(l1[1][1])]])\n",
    "print('l2:', id(l2), [id(l2[0]),[id(l2[1][0]),id(l2[1][1])]])"
   ]
  },
  {
   "cell_type": "markdown",
   "id": "e4734f84-20cf-4a94-901b-e17b56404f21",
   "metadata": {},
   "source": [
    "- 레벨3: `l1안의 [66,[55,44]] 안의 [55,44]`와 `l2안의 [66,[55,44]] 안의 [55,44]`의 메모리 주소까지도 다름을 확인. "
   ]
  },
  {
   "cell_type": "markdown",
   "id": "01a73a39-d61d-4f94-8298-8ab64431bfcb",
   "metadata": {},
   "source": [
    "`-` 비교를 위한 shallow copy"
   ]
  },
  {
   "cell_type": "code",
   "execution_count": 17,
   "id": "e3ea4ba5-427e-4737-8e8b-703d24c2e98f",
   "metadata": {},
   "outputs": [],
   "source": [
    "l1 = [3,[66,[55,44]]] \n",
    "l2 = l1.copy()"
   ]
  },
  {
   "cell_type": "code",
   "execution_count": 18,
   "id": "eaa1c8c6-249a-445d-823a-c91b2d34fb64",
   "metadata": {},
   "outputs": [],
   "source": [
    "l2[1][1].append(33)"
   ]
  },
  {
   "cell_type": "code",
   "execution_count": 19,
   "id": "2fbacc77-7df7-4acd-8e30-9a01262f57e5",
   "metadata": {},
   "outputs": [
    {
     "data": {
      "text/plain": [
       "([3, [66, [55, 44, 33]]], [3, [66, [55, 44, 33]]])"
      ]
     },
     "execution_count": 19,
     "metadata": {},
     "output_type": "execute_result"
    }
   ],
   "source": [
    "l1,l2"
   ]
  },
  {
   "cell_type": "code",
   "execution_count": 20,
   "id": "ac3948d2-81be-4689-a669-5c1209e93559",
   "metadata": {},
   "outputs": [
    {
     "name": "stdout",
     "output_type": "stream",
     "text": [
      "level 1\n",
      "l1: 140137133470528\n",
      "l2: 140137137411136\n"
     ]
    }
   ],
   "source": [
    "print('level 1')\n",
    "print('l1:', id(l1))\n",
    "print('l2:', id(l2))"
   ]
  },
  {
   "cell_type": "markdown",
   "id": "3566e250-d263-48de-bbd2-8ca97023f229",
   "metadata": {},
   "source": [
    "- 레벨1: `l1`,`l2` 의 메모리 주소가 다름을 확인"
   ]
  },
  {
   "cell_type": "code",
   "execution_count": 21,
   "id": "a12874ae-ecea-425c-aad4-de7bfe3d120f",
   "metadata": {},
   "outputs": [
    {
     "name": "stdout",
     "output_type": "stream",
     "text": [
      "level 2\n",
      "l1: 140137133470528 [7585536, 140137133703424]\n",
      "l2: 140137137411136 [7585536, 140137133703424]\n"
     ]
    }
   ],
   "source": [
    "print('level 2')\n",
    "print('l1:', id(l1), [id(l1[0]),id(l1[1])])\n",
    "print('l2:', id(l2), [id(l2[0]),id(l2[1])])"
   ]
  },
  {
   "cell_type": "markdown",
   "id": "7e968107-418d-47c6-acbe-e28c2473b580",
   "metadata": {},
   "source": [
    "- 레벨2: `l1안에 있는 [66,[55,44]]`와 `l2안에 있는 [66,[55,44]]`의 메모리 주소는 같음!!"
   ]
  },
  {
   "cell_type": "code",
   "execution_count": 24,
   "id": "22d105c6-10c0-4ff8-bc0b-a4c3104bc1f7",
   "metadata": {},
   "outputs": [
    {
     "name": "stdout",
     "output_type": "stream",
     "text": [
      "level 3\n",
      "l1: 140137133470528 [7585536, [7587552, 140137137410880]]\n",
      "l2: 140137137411136 [7585536, [7587552, 140137137410880]]\n"
     ]
    }
   ],
   "source": [
    "print('level 3')\n",
    "print('l1:', id(l1), [id(l1[0]),[id(l1[1][0]),id(l1[1][1])]])\n",
    "print('l2:', id(l2), [id(l2[0]),[id(l2[1][0]),id(l2[1][1])]])"
   ]
  },
  {
   "cell_type": "markdown",
   "id": "2c5e3628-b9ba-4853-b178-03ee18423ec5",
   "metadata": {
    "tags": []
   },
   "source": [
    "- 레벨3: `l1안의 [66,[55,44]] 안의 [55,44]`와 `l2안의 [66,[55,44]] 안의 [55,44]`의 메모리 주소도 같음!!"
   ]
  },
  {
   "cell_type": "markdown",
   "id": "a39dab86-4a0b-407b-ba84-251d9b6f1e61",
   "metadata": {},
   "source": [
    "`-` 비교를 위한 참조 "
   ]
  },
  {
   "cell_type": "code",
   "execution_count": 25,
   "id": "3d81d2f6-d501-4e81-8336-02872c2cb68c",
   "metadata": {},
   "outputs": [],
   "source": [
    "l1 = [3,[66,[55,44]]] \n",
    "l2 = l1"
   ]
  },
  {
   "cell_type": "code",
   "execution_count": 26,
   "id": "3eac46b8-45af-4b62-ae8a-dd727f28f285",
   "metadata": {},
   "outputs": [],
   "source": [
    "l2[1][1].append(33)"
   ]
  },
  {
   "cell_type": "code",
   "execution_count": 27,
   "id": "3df64867-06ab-470f-a387-f26da5884e3e",
   "metadata": {},
   "outputs": [
    {
     "data": {
      "text/plain": [
       "([3, [66, [55, 44, 33]]], [3, [66, [55, 44, 33]]])"
      ]
     },
     "execution_count": 27,
     "metadata": {},
     "output_type": "execute_result"
    }
   ],
   "source": [
    "l1,l2"
   ]
  },
  {
   "cell_type": "code",
   "execution_count": 28,
   "id": "7ca7cdf0-a84e-452a-9509-45a5e804738d",
   "metadata": {},
   "outputs": [
    {
     "name": "stdout",
     "output_type": "stream",
     "text": [
      "level 1\n",
      "l1: 140137133223232\n",
      "l2: 140137133223232\n"
     ]
    }
   ],
   "source": [
    "print('level 1')\n",
    "print('l1:', id(l1))\n",
    "print('l2:', id(l2))"
   ]
  },
  {
   "cell_type": "markdown",
   "id": "0cdeba42-c314-4a8c-a486-c3553f89405b",
   "metadata": {},
   "source": [
    "- 레벨1: `l1`,`l2` 여기서부터 메모리 주소가 같다. "
   ]
  },
  {
   "cell_type": "code",
   "execution_count": 29,
   "id": "d6c7c746-8593-4233-a5f6-cab79075da4e",
   "metadata": {},
   "outputs": [
    {
     "name": "stdout",
     "output_type": "stream",
     "text": [
      "level 2\n",
      "l1: 140137133223232 [7585536, 140137133698560]\n",
      "l2: 140137133223232 [7585536, 140137133698560]\n"
     ]
    }
   ],
   "source": [
    "print('level 2')\n",
    "print('l1:', id(l1), [id(l1[0]),id(l1[1])])\n",
    "print('l2:', id(l2), [id(l2[0]),id(l2[1])])"
   ]
  },
  {
   "cell_type": "code",
   "execution_count": 30,
   "id": "90bf6c4b-afe9-4d5a-aa36-4ca1235323ca",
   "metadata": {},
   "outputs": [
    {
     "name": "stdout",
     "output_type": "stream",
     "text": [
      "level 3\n",
      "l1: 140137133223232 [7585536, [7587552, 140137133438144]]\n",
      "l2: 140137133223232 [7585536, [7587552, 140137133438144]]\n"
     ]
    }
   ],
   "source": [
    "print('level 3')\n",
    "print('l1:', id(l1), [id(l1[0]),[id(l1[1][0]),id(l1[1][1])]])\n",
    "print('l2:', id(l2), [id(l2[0]),[id(l2[1][0]),id(l2[1][1])]])"
   ]
  },
  {
   "cell_type": "markdown",
   "id": "73f401ea-087c-4c58-9c0d-8e0062cfae86",
   "metadata": {},
   "source": [
    "> Note: 문헌에 따라서 shallow copy를 level1 deep copy라고 부르기도 한다. "
   ]
  },
  {
   "cell_type": "markdown",
   "id": "d9b48607-5dd3-4ddc-9a7d-b4944a8498d4",
   "metadata": {},
   "source": [
    "# Shallow copy 연습문제 "
   ]
  },
  {
   "cell_type": "markdown",
   "id": "554f5abe-9c6c-493f-9b87-db3b67639499",
   "metadata": {},
   "source": [
    "## 예제1"
   ]
  },
  {
   "cell_type": "markdown",
   "id": "ddc3ad2c-b2a2-4d1a-99bf-2fe55fa26fc0",
   "metadata": {},
   "source": [
    "> 선행지식: 이전까지 모든것"
   ]
  },
  {
   "cell_type": "markdown",
   "id": "45e8f315-8394-4def-9818-776e5323da37",
   "metadata": {},
   "source": [
    "> 포인트: 얕은복사의 한계점 이해"
   ]
  },
  {
   "cell_type": "markdown",
   "id": "9efd3b39-6780-43b0-945c-6f9c75ac1900",
   "metadata": {},
   "source": [
    "`-` 아래의 코드결과를 예측하라. 결과가 나오는 이유를 설명하라. "
   ]
  },
  {
   "cell_type": "code",
   "execution_count": 54,
   "id": "738cfd8c-81c0-4e73-a56d-edc389d0cdf7",
   "metadata": {},
   "outputs": [],
   "source": [
    "l1= [3,[66,55,44]]\n",
    "l2= l1.copy() \n",
    "l1[-1].append(33)"
   ]
  },
  {
   "cell_type": "code",
   "execution_count": 56,
   "id": "b514c259-65b3-4c18-969d-819dab29c6cf",
   "metadata": {},
   "outputs": [
    {
     "name": "stdout",
     "output_type": "stream",
     "text": [
      "l1= [3, [66, 55, 44, 33]]\n",
      "l2= [3, [66, 55, 44, 33]]\n"
     ]
    }
   ],
   "source": [
    "print('l1=', l1)\n",
    "print('l2=', l2)"
   ]
  },
  {
   "cell_type": "markdown",
   "id": "6c1ac811-82f7-4d29-9438-7e985cad407b",
   "metadata": {},
   "source": [
    "- 포인트: shallow copy (=level 1 deep copy) 이므로 `l1안의 [66,55,44]`와 `l2안의 [66,55,44]`는 같은 메모리 주소를 가짐 "
   ]
  },
  {
   "cell_type": "markdown",
   "id": "875c12e8-10cb-4848-97f8-ccbfe39246de",
   "metadata": {},
   "source": [
    "## 예제2"
   ]
  },
  {
   "cell_type": "markdown",
   "id": "7e17f0d9-7cdd-4205-a72a-977d6014b261",
   "metadata": {},
   "source": [
    "> 선행지식: 이전까지 모든것"
   ]
  },
  {
   "cell_type": "markdown",
   "id": "3e473b19-03b6-444a-88ab-166e3cca5ac9",
   "metadata": {},
   "source": [
    "> 포인트: 재할당의 활용하여 얕은복사의 한계점 극복"
   ]
  },
  {
   "cell_type": "markdown",
   "id": "ff4f4839-0d2a-4d25-b85c-20aaa581035d",
   "metadata": {},
   "source": [
    "`-` 아래의 코드결과를 예측하라. 결과가 나오는 이유를 설명하라. "
   ]
  },
  {
   "cell_type": "code",
   "execution_count": 58,
   "id": "49dbcbb7-0601-4eb7-b896-10795107a481",
   "metadata": {},
   "outputs": [],
   "source": [
    "l1= [3,[66,55,44]] \n",
    "l2= l1.copy() \n",
    "l1[-1] = l1[-1]+[33] "
   ]
  },
  {
   "cell_type": "code",
   "execution_count": 59,
   "id": "6a654347-1434-4e00-ba37-0a6400f5c252",
   "metadata": {},
   "outputs": [
    {
     "name": "stdout",
     "output_type": "stream",
     "text": [
      "l1= [3, [66, 55, 44, 33]]\n",
      "l2= [3, [66, 55, 44]]\n"
     ]
    }
   ],
   "source": [
    "print('l1=', l1)\n",
    "print('l2=', l2)"
   ]
  },
  {
   "cell_type": "markdown",
   "id": "afd4fa4f-8010-482c-b041-7146c41778e6",
   "metadata": {},
   "source": [
    "- 포인트: `l1[-1]+[33]`가 실행되는 순간 새로운 오브젝트가 생성되고 이 새로운 오브젝트가 l1의 마지막 원소에 새롭게 할당된다. "
   ]
  },
  {
   "cell_type": "markdown",
   "id": "36b5d6e6-7a54-42ca-9bf9-2e797847a819",
   "metadata": {},
   "source": [
    "## 예제3"
   ]
  },
  {
   "cell_type": "markdown",
   "id": "1e064fda-d929-404c-a615-6a3053ec0902",
   "metadata": {},
   "source": [
    "> 선행지식: 이전까지 모든것"
   ]
  },
  {
   "cell_type": "markdown",
   "id": "c2882188-e2c9-4c90-a6d6-08f97fdbf1ab",
   "metadata": {},
   "source": [
    "> 포인트: 재할당의 활용하여 얕은복사의 한계점 극복, 예제4를 위한 떡밥"
   ]
  },
  {
   "cell_type": "code",
   "execution_count": 66,
   "id": "41c8d6a1-b091-46e7-869d-33bedb91956d",
   "metadata": {},
   "outputs": [],
   "source": [
    "l1= [3,[66,55,44]] \n",
    "l2= l1.copy() \n",
    "l1[-1] = l1[-1]+[33] \n",
    "l1[-1].remove(33)"
   ]
  },
  {
   "cell_type": "code",
   "execution_count": 67,
   "id": "887eee9c-817f-4449-bd31-b584843e64dd",
   "metadata": {},
   "outputs": [
    {
     "name": "stdout",
     "output_type": "stream",
     "text": [
      "l1= [3, [66, 55, 44]]\n",
      "l2= [3, [66, 55, 44]]\n"
     ]
    }
   ],
   "source": [
    "print('l1=', l1)\n",
    "print('l2=', l2)"
   ]
  },
  {
   "cell_type": "markdown",
   "id": "2ac4a62d-a52f-4481-a2b7-4de61fa885e3",
   "metadata": {},
   "source": [
    "- 포인트: 이 상황에서 `l1안의 [66,55,44]`와 `l2안의 [66,55,44]`는 서로 다른 메모리 주소를 가진다. "
   ]
  },
  {
   "cell_type": "markdown",
   "id": "5f948c27-c939-41fe-92d7-3a8233ea6928",
   "metadata": {},
   "source": [
    "## 예제4"
   ]
  },
  {
   "cell_type": "markdown",
   "id": "8f01260d-517f-4422-8ce5-d86b91a1bb63",
   "metadata": {},
   "source": [
    "> 선행지식: 이전까지 모든것"
   ]
  },
  {
   "cell_type": "markdown",
   "id": "17989a39-ecbd-4f7d-97c6-639cbd056b0e",
   "metadata": {},
   "source": [
    "> 포인트: 재할당으로 인해 메모리주소가 틀어짐을 이용한 트릭예제, 예제5의 떡밥예제"
   ]
  },
  {
   "cell_type": "code",
   "execution_count": 31,
   "id": "1325d80f-bbf0-4a62-b6a4-7c54520290df",
   "metadata": {},
   "outputs": [],
   "source": [
    "l1= [3,[66,55,44]] \n",
    "l2= l1.copy() \n",
    "l1[-1] = l1[-1]+[33]\n",
    "l1[-1].remove(33) \n",
    "l1[-1].append(33)"
   ]
  },
  {
   "cell_type": "markdown",
   "id": "f50ab907-4fac-4677-833e-a732562b439d",
   "metadata": {},
   "source": [
    "(잘못된 상상) 아래의 코드와 결과가 같을거야!!"
   ]
  },
  {
   "cell_type": "code",
   "execution_count": 36,
   "id": "7dd6f3d0-8e35-4551-8540-50c18ed3aac8",
   "metadata": {},
   "outputs": [],
   "source": [
    "l1= [3,[66,55,44]] \n",
    "l2= l1.copy() \n",
    "# l1[-1] = l1[-1]+[33] \n",
    "# l1[-1].remove(33)\n",
    "l1[-1].append(33)"
   ]
  },
  {
   "cell_type": "code",
   "execution_count": 33,
   "id": "97170731-b910-49a4-8fa6-da649f9d3861",
   "metadata": {},
   "outputs": [
    {
     "name": "stdout",
     "output_type": "stream",
     "text": [
      "l1= [3, [66, 55, 44, 33]]\n",
      "l2= [3, [66, 55, 44, 33]]\n"
     ]
    }
   ],
   "source": [
    "print('l1=', l1)\n",
    "print('l2=', l2)"
   ]
  },
  {
   "cell_type": "markdown",
   "id": "33810cd9-4f30-4e72-aa0d-e165a128dbec",
   "metadata": {},
   "source": [
    "(하지만 현실은)"
   ]
  },
  {
   "cell_type": "code",
   "execution_count": 34,
   "id": "b0cc0643-eefd-42e4-b8b7-905fa72a6dd1",
   "metadata": {},
   "outputs": [],
   "source": [
    "l1= [3,[66,55,44]] \n",
    "l2= l1.copy() \n",
    "l1[-1] = l1[-1]+[33] \n",
    "l1[-1].remove(33)\n",
    "l1[-1].append(33)"
   ]
  },
  {
   "cell_type": "code",
   "execution_count": 35,
   "id": "40645d05-a59a-424d-bb7c-99073c43d80a",
   "metadata": {},
   "outputs": [
    {
     "name": "stdout",
     "output_type": "stream",
     "text": [
      "l1= [3, [66, 55, 44, 33]]\n",
      "l2= [3, [66, 55, 44]]\n"
     ]
    }
   ],
   "source": [
    "print('l1=', l1)\n",
    "print('l2=', l2)"
   ]
  },
  {
   "cell_type": "markdown",
   "id": "17475839-d395-401b-a497-33cfa46a08f4",
   "metadata": {},
   "source": [
    "## 예제5"
   ]
  },
  {
   "cell_type": "markdown",
   "id": "fe6ba250-41d8-416b-b268-fda2d755c149",
   "metadata": {},
   "source": [
    "> 선행지식: 이전까지 모든것"
   ]
  },
  {
   "cell_type": "markdown",
   "id": "17c42d5b-2ca2-46cc-996e-5c6292c10f8f",
   "metadata": {},
   "source": [
    "> 포인트: `+=`는 재할당이 아니다. "
   ]
  },
  {
   "cell_type": "code",
   "execution_count": 73,
   "id": "51ca9c01-9929-4fa7-ab83-b9b3f8a8efaf",
   "metadata": {},
   "outputs": [],
   "source": [
    "l1= [3,[66,55,44]] \n",
    "l2= l1.copy() \n",
    "l1[-1] += [33] # l1[-1] = l1[-1]+[33] \n",
    "l1[-1].remove(33)\n",
    "l1[-1].append(33)"
   ]
  },
  {
   "cell_type": "code",
   "execution_count": 74,
   "id": "de249109-583c-4591-9086-427647262fb8",
   "metadata": {},
   "outputs": [
    {
     "name": "stdout",
     "output_type": "stream",
     "text": [
      "l1= [3, [66, 55, 44, 33]]\n",
      "l2= [3, [66, 55, 44, 33]]\n"
     ]
    }
   ],
   "source": [
    "print('l1=', l1)\n",
    "print('l2=', l2)"
   ]
  },
  {
   "cell_type": "markdown",
   "id": "5adc4262-1f53-45a1-9194-2c314e310b4f",
   "metadata": {},
   "source": [
    "***`+=` 연산자의 올바른 이해***"
   ]
  },
  {
   "cell_type": "markdown",
   "id": "e315c0a3-5aae-4800-b2d1-5d09402a0355",
   "metadata": {},
   "source": [
    "> ??? 예제4랑 예제5는 같은코드가 아니었음!!! `a += [1]` 는 새로운 오브젝트를 만드는게 아니고, 기존의 오브젝트를 변형하는 스타일의 코드였음! (마치 append 메소드처럼) "
   ]
  },
  {
   "cell_type": "markdown",
   "id": "30ab411c-6b69-4404-ba4b-d82a26cb05e4",
   "metadata": {},
   "source": [
    "# 불변형 객체 "
   ]
  },
  {
   "cell_type": "markdown",
   "id": "c0ec91c2-2348-4be1-b79a-57216b3018bc",
   "metadata": {},
   "source": [
    "## 예제1: Motivation example"
   ]
  },
  {
   "cell_type": "markdown",
   "id": "b039c727-9b82-4796-be5b-b7114e77a3e8",
   "metadata": {},
   "source": [
    "> 선행지식: 이전까지 모든것"
   ]
  },
  {
   "cell_type": "markdown",
   "id": "4b0673a6-6386-456c-af02-25c31aedb60e",
   "metadata": {},
   "source": [
    "> 포인트: `+=`는 재할당이 아니다. "
   ]
  },
  {
   "cell_type": "markdown",
   "id": "32d31693-b552-419b-aa91-62cb51884b9b",
   "metadata": {},
   "source": [
    "`-` 우리는 이제 아래의 내용은 마스터함 "
   ]
  },
  {
   "cell_type": "code",
   "execution_count": 75,
   "id": "8caef4d3-51a5-4293-a567-5c36f9884cbf",
   "metadata": {},
   "outputs": [],
   "source": [
    "l1= [3,[66,55,44]] \n",
    "l2= l1.copy() \n",
    "l1[-1] += [33] # l1[-1].append(33)이랑 같은거.."
   ]
  },
  {
   "cell_type": "code",
   "execution_count": 76,
   "id": "3f6aed1a-2ed0-4d6c-91a1-9f22aa17eb3d",
   "metadata": {},
   "outputs": [
    {
     "name": "stdout",
     "output_type": "stream",
     "text": [
      "l1= [3, [66, 55, 44, 33]]\n",
      "l2= [3, [66, 55, 44, 33]]\n"
     ]
    }
   ],
   "source": [
    "print('l1=', l1)\n",
    "print('l2=', l2)"
   ]
  },
  {
   "cell_type": "markdown",
   "id": "a6ab4c2a-baea-4f07-a622-73e2b3d3a345",
   "metadata": {},
   "source": [
    "`-` 아래의 결과를 한번 예측해볼까? "
   ]
  },
  {
   "cell_type": "code",
   "execution_count": 77,
   "id": "b470cb94-6bae-4f40-b934-b094a5f8d850",
   "metadata": {},
   "outputs": [],
   "source": [
    "l1=[3,(66,55,44)]\n",
    "l2=l1.copy()\n",
    "l2[1] += (33,)"
   ]
  },
  {
   "cell_type": "code",
   "execution_count": 78,
   "id": "12536f0e-9bf2-4228-9764-8c7c191d62aa",
   "metadata": {},
   "outputs": [
    {
     "name": "stdout",
     "output_type": "stream",
     "text": [
      "l1= [3, (66, 55, 44)]\n",
      "l2= [3, (66, 55, 44, 33)]\n"
     ]
    }
   ],
   "source": [
    "print('l1=', l1)\n",
    "print('l2=', l2)"
   ]
  },
  {
   "cell_type": "markdown",
   "id": "11310274-78a1-4f89-93fd-a4828bf50298",
   "metadata": {},
   "source": [
    "## 해설 "
   ]
  },
  {
   "cell_type": "markdown",
   "id": "76cdef41-87d9-40ec-ac12-5ce073051105",
   "metadata": {},
   "source": [
    "(시점1)"
   ]
  },
  {
   "cell_type": "code",
   "execution_count": 9,
   "id": "208f3f5d-d6d2-4a94-98b2-43f103acce5d",
   "metadata": {},
   "outputs": [],
   "source": [
    "l1=[3,(66,55,44)]\n",
    "l2=l1.copy()"
   ]
  },
  {
   "cell_type": "code",
   "execution_count": 10,
   "id": "60295c45-cf9b-4ea0-a979-4a310f91f212",
   "metadata": {},
   "outputs": [
    {
     "data": {
      "text/plain": [
       "([3, (66, 55, 44)], [3, (66, 55, 44)])"
      ]
     },
     "execution_count": 10,
     "metadata": {},
     "output_type": "execute_result"
    }
   ],
   "source": [
    "l1,l2"
   ]
  },
  {
   "cell_type": "code",
   "execution_count": 11,
   "id": "c6622b57-12a5-419d-a7ed-3f5cf20e0d7b",
   "metadata": {},
   "outputs": [
    {
     "name": "stdout",
     "output_type": "stream",
     "text": [
      "level 1\n",
      "l1: 140006812656640\n",
      "l2: 140006812645888\n"
     ]
    }
   ],
   "source": [
    "print('level 1')\n",
    "print('l1:', id(l1))\n",
    "print('l2:', id(l2))"
   ]
  },
  {
   "cell_type": "code",
   "execution_count": 12,
   "id": "4228d504-a845-48b8-bce8-525278073e2e",
   "metadata": {},
   "outputs": [
    {
     "name": "stdout",
     "output_type": "stream",
     "text": [
      "level 2\n",
      "l1: 140006812656640 [7585536, 140006812590400]\n",
      "l2: 140006812645888 [7585536, 140006812590400]\n"
     ]
    }
   ],
   "source": [
    "print('level 2')\n",
    "print('l1:', id(l1), [id(l1[0]),id(l1[1])])\n",
    "print('l2:', id(l2), [id(l2[0]),id(l2[1])])"
   ]
  },
  {
   "cell_type": "markdown",
   "id": "aaf1c121-d940-497c-8384-157cde83897d",
   "metadata": {},
   "source": [
    "(시점2)"
   ]
  },
  {
   "cell_type": "code",
   "execution_count": 13,
   "id": "754a2aff-5abb-44e6-aae9-98007fb8efd9",
   "metadata": {},
   "outputs": [],
   "source": [
    "l2[1] += (33,)"
   ]
  },
  {
   "cell_type": "code",
   "execution_count": 14,
   "id": "5a0e77fe-9888-4cb9-b361-4e00164916a8",
   "metadata": {},
   "outputs": [
    {
     "data": {
      "text/plain": [
       "([3, (66, 55, 44)], [3, (66, 55, 44, 33)])"
      ]
     },
     "execution_count": 14,
     "metadata": {},
     "output_type": "execute_result"
    }
   ],
   "source": [
    "l1,l2"
   ]
  },
  {
   "cell_type": "code",
   "execution_count": 15,
   "id": "3ba02838-5e86-4d28-84df-cb62fad3c73e",
   "metadata": {},
   "outputs": [
    {
     "name": "stdout",
     "output_type": "stream",
     "text": [
      "level 1\n",
      "l1: 140006812656640\n",
      "l2: 140006812645888\n"
     ]
    }
   ],
   "source": [
    "print('level 1')\n",
    "print('l1:', id(l1))\n",
    "print('l2:', id(l2))"
   ]
  },
  {
   "cell_type": "code",
   "execution_count": 16,
   "id": "3d257e1d-ad8b-4743-b1e1-2495eb16c814",
   "metadata": {},
   "outputs": [
    {
     "name": "stdout",
     "output_type": "stream",
     "text": [
      "level 2\n",
      "l1: 140006812656640 [7585536, 140006812590400]\n",
      "l2: 140006812645888 [7585536, 140006813422272]\n"
     ]
    }
   ],
   "source": [
    "print('level 2')\n",
    "print('l1:', id(l1), [id(l1[0]),id(l1[1])])\n",
    "print('l2:', id(l2), [id(l2[0]),id(l2[1])])"
   ]
  },
  {
   "cell_type": "markdown",
   "id": "71cf2f27-2237-4ee2-a34f-b7243baaec64",
   "metadata": {},
   "source": [
    "주소 `140006812590400:(66,55,44)`에 있는 값을 바꾸고 싶지만 불변형이라 못바꿈 $\\to$ 그냥 새로 만들자. 그래서 그걸 `140006813422272`에 저장하자. "
   ]
  },
  {
   "cell_type": "markdown",
   "id": "7cd70bee-7c23-48d0-82fe-3d24d2401bd6",
   "metadata": {},
   "source": [
    "# Shallow-copy vs Deep-copy"
   ]
  },
  {
   "cell_type": "markdown",
   "id": "dd2766a0-7d1e-4389-aa80-e51ca5fdc731",
   "metadata": {},
   "source": [
    "`-` 암기용문구: \"얕은복사는 껍데기만 복사한다. 깊은복사는 내부까지 복사한다.\""
   ]
  },
  {
   "cell_type": "markdown",
   "id": "9507aaa6-5597-4f1d-888d-63562d8b3394",
   "metadata": {},
   "source": [
    "`-` 일부교재에서는 경우에 따라 얕은복사가 선호될 수 있다는 식으로 설명되어있으나 솔직히 대부분 코드에서 얕은복사의 동작을 정확하게 의도하고 코드를 사용하진 않는다. 대부분의 경우에서 얕은복사는 불필요한 side effect을 유발하는 쓸모없는 개념이라 생각한다. (복사를 이미 하려고 마음먹었으면 보통 깊은복사를 생각함, 그게 아니라면 차라리 참조를 썼겠지..)"
   ]
  },
  {
   "cell_type": "markdown",
   "id": "d963eabd-0518-4075-8e77-42d64241ca8d",
   "metadata": {},
   "source": [
    "`-` 그럼 얕은복사의 장점은 무엇인가? 얕은복사가 깊은복사보다 메모리를 더 적게 사용한다. "
   ]
  },
  {
   "cell_type": "markdown",
   "id": "89b802c1-1002-490c-98b2-fa180087ce01",
   "metadata": {},
   "source": [
    "```Python\n",
    "## 예제1\n",
    "lst1 = ['양성준',['최규빈','이영미','최혜미']]\n",
    "lst2 = lst1.copy()\n",
    "## 예제2 \n",
    "lst1 = ['양성준',['최규빈','이영미','최혜미']]\n",
    "lst2 = copy.deepcopy(lst1)\n",
    "```"
   ]
  },
  {
   "cell_type": "markdown",
   "id": "fa4089ef-8d66-4f99-b08d-c3e2f8d1bbbf",
   "metadata": {},
   "source": [
    "- 예제1: 4+1+2 = 7개의 공간 사용 \n",
    "- 예제2: 4+2+2 = 8개의 공간 사용 "
   ]
  },
  {
   "cell_type": "markdown",
   "id": "8777c840-e38e-4103-903d-0ca96eabdfc0",
   "metadata": {},
   "source": [
    "**요약**"
   ]
  },
  {
   "cell_type": "markdown",
   "id": "6a12733a-1678-425c-ac64-30e1c758c621",
   "metadata": {},
   "source": [
    "`-` 파이썬은 메모리를 아끼기 위해서 얕은복사라는 이상한 행동을 한다. (하지만 우리는 보통 얕은복사를 원하지 않아. 우리는 깊은복사만 쓰고 싶음!) "
   ]
  },
  {
   "cell_type": "markdown",
   "id": "9ef708c1-93f8-43a4-a238-baf2664e53a9",
   "metadata": {},
   "source": [
    "`-` 통찰1: 그런데 오묘하게도 [1,2,3,4,5,6]와 같이 1차원 리스트인 경우는 문제가 되지 않음. \n",
    "\n",
    "-  1차원 리스트의 경우(= 중첩된 리스트가 아닐 경우)는 \"레벨1 수준의 깊은복사\"만 있으면 충분하다. 따라서 \"shallow copy = deep copy\" 임."
   ]
  },
  {
   "cell_type": "markdown",
   "id": "70782c14-5899-4da7-94ff-7551bdb79856",
   "metadata": {},
   "source": [
    "`-` 통찰2: 생각해보니까 모든 자료형이 불변형인 경우에도 문제가 되지 않음. (R은 모든 자료형이 불변형이다) "
   ]
  },
  {
   "cell_type": "markdown",
   "id": "c92497cb-f3d8-43af-a6e6-8e69ff72a362",
   "metadata": {},
   "source": [
    "`-` 문제상황요약: [[1,2],[3,4]] 와 같이 리스트에 리스트가 포함된 형태라면 문제가 생긴다. $\\to$ 그런데 우리가 자주 쓰는 매트릭스가 사실 이러한 중첩된 리스트 구조 아니야? 이거 문제인데? \n",
    "\n",
    "- 해결책1: 깊은복사를 하면 된다. (이미했음)\n",
    "- 해결책2: 넘파이를 쓰면된다. (이걸로 뭘 어떻게 개선한다는거야?)"
   ]
  },
  {
   "cell_type": "markdown",
   "id": "7bffe7b3-0c3a-40c4-ae22-df2a69067ecb",
   "metadata": {},
   "source": [
    "# numpy "
   ]
  },
  {
   "cell_type": "code",
   "execution_count": 93,
   "id": "e0d893e0-5948-48ea-a1a6-02ec80d1f143",
   "metadata": {},
   "outputs": [],
   "source": [
    "import numpy as np"
   ]
  },
  {
   "cell_type": "markdown",
   "id": "8d3c6a33-47fd-49b4-a1df-a0674b0439e7",
   "metadata": {},
   "source": [
    "## 2차원의 실체 "
   ]
  },
  {
   "cell_type": "markdown",
   "id": "2fd0d3d8-8136-4717-95ff-029955a32164",
   "metadata": {},
   "source": [
    "`-` 2차원 array a,b를 선언하자. "
   ]
  },
  {
   "cell_type": "code",
   "execution_count": 99,
   "id": "75281cca-ec0c-4267-870c-424e3fc040cb",
   "metadata": {},
   "outputs": [],
   "source": [
    "a = np.array([[11,22,33,44]]).reshape(2,2)\n",
    "b = np.array([[11,22,33,44,55,66]]).reshape(2,3)\n",
    "c = np.array([11,22,33,44]).reshape(4,1)\n",
    "d = np.array([11,22,33,44]) # 1d"
   ]
  },
  {
   "cell_type": "markdown",
   "id": "0d91546f-db34-4201-afb7-abdbeac3bf14",
   "metadata": {},
   "source": [
    "`-` a,b,c,d 속성비교 "
   ]
  },
  {
   "cell_type": "code",
   "execution_count": 100,
   "id": "47ed423a-4c43-4bbb-982d-ba928350a6a7",
   "metadata": {},
   "outputs": [
    {
     "data": {
      "text/plain": [
       "((2, 2), (2, 3), (4, 1), (4,))"
      ]
     },
     "execution_count": 100,
     "metadata": {},
     "output_type": "execute_result"
    }
   ],
   "source": [
    "a.shape, b.shape, c.shape, d.shape ## 차원 "
   ]
  },
  {
   "cell_type": "code",
   "execution_count": 4,
   "id": "92ededd2-66d0-40cf-a91c-23181a3381b8",
   "metadata": {},
   "outputs": [
    {
     "data": {
      "text/plain": [
       "((16, 8), (24, 8), (8, 8), (8,))"
      ]
     },
     "execution_count": 4,
     "metadata": {},
     "output_type": "execute_result"
    }
   ],
   "source": [
    "a.strides, b.strides, c.strides, d.strides ## 차원이랑 관련이 있어보임.. + 8의 배수 "
   ]
  },
  {
   "cell_type": "markdown",
   "id": "9872b2f4-d572-40c4-b872-16295f953085",
   "metadata": {},
   "source": [
    "`-` ((16, 8), (24, 8), (8, 8), (8,)) 와 같은 저 숫자들이 도데체 무엇을 의미하는거야?!\n",
    "\n",
    "- 사전지식: 컴퓨터는 하나의 숫자를 저장하는데 메모리를 8칸 쓴다. \n",
    "- 가정: 만약에 컴퓨터가 1차원으로만 숫자를 저장한다면?? \n",
    "- strides의 의미: (다음 행으로 가기위해서 JUMP해야하는 메모리 공간수, 다음 열로 가기위해서 JUMP해야하는 메모리 공간수) "
   ]
  },
  {
   "cell_type": "markdown",
   "id": "4084ca5f-eef0-48a1-8ed9-d4d350903c4d",
   "metadata": {},
   "source": [
    "`-` 통찰: strides의 존재로 인해서 유추할 수 있는 것은 a,b,c,d 는 모두 1차원으로 저장되어있다는 사실이다. (중첩된 리스트꼴이 아니라)"
   ]
  },
  {
   "cell_type": "markdown",
   "id": "c53dcfaa-1fa3-4176-9362-95bc9cb21b8f",
   "metadata": {},
   "source": [
    "`-` 그렇다면.. shallow copy = deep copy?!"
   ]
  },
  {
   "cell_type": "code",
   "execution_count": 102,
   "id": "cde939db-d2f6-40b9-85b7-ea6085805e7c",
   "metadata": {},
   "outputs": [],
   "source": [
    "A1=[[1,2],[3,4]]\n",
    "A2=A1.copy()\n",
    "B1=np.array([[1,2],[3,4]])\n",
    "B2=B1.copy()"
   ]
  },
  {
   "cell_type": "code",
   "execution_count": 104,
   "id": "d3e3e7e7-d753-414f-b0bf-5fe956487da6",
   "metadata": {},
   "outputs": [
    {
     "data": {
      "text/plain": [
       "array([[1, 2],\n",
       "       [3, 4]])"
      ]
     },
     "execution_count": 104,
     "metadata": {},
     "output_type": "execute_result"
    }
   ],
   "source": [
    "B1"
   ]
  },
  {
   "cell_type": "code",
   "execution_count": 105,
   "id": "9d16b8e9-2d90-4dff-8d2b-2978a943f0d0",
   "metadata": {},
   "outputs": [],
   "source": [
    "A2[0][0]=11\n",
    "B2[0][0]=11"
   ]
  },
  {
   "cell_type": "code",
   "execution_count": 106,
   "id": "81fdf2bf-6976-40b0-b4dd-6b1dfee5904b",
   "metadata": {},
   "outputs": [
    {
     "data": {
      "text/plain": [
       "([[11, 2], [3, 4]], [[11, 2], [3, 4]])"
      ]
     },
     "execution_count": 106,
     "metadata": {},
     "output_type": "execute_result"
    }
   ],
   "source": [
    "A1,A2"
   ]
  },
  {
   "cell_type": "code",
   "execution_count": 107,
   "id": "6cdf8058-3fc5-4c1a-9f5a-a91e1a9153d2",
   "metadata": {},
   "outputs": [
    {
     "data": {
      "text/plain": [
       "(array([[1, 2],\n",
       "        [3, 4]]),\n",
       " array([[11,  2],\n",
       "        [ 3,  4]]))"
      ]
     },
     "execution_count": 107,
     "metadata": {},
     "output_type": "execute_result"
    }
   ],
   "source": [
    "B1,B2"
   ]
  },
  {
   "cell_type": "markdown",
   "id": "7b7d4318-7abf-42ee-8c37-0bbb67cb139b",
   "metadata": {},
   "source": [
    "`-` 해방: 넘파이를 쓰면 `copy.deepcopy()`를 쓰지 않아도 된다. "
   ]
  },
  {
   "cell_type": "markdown",
   "id": "95672b85-37b3-4a01-b324-2a596eaeda29",
   "metadata": {},
   "source": [
    "`-` 용어정리: (필요할까..?)\n",
    "\n",
    "- numpy 한정 `.copy()` 는 copy모듈의 deep copy와 동등한 효과를 준다. 하지만 실제로는 shallow copy 이다. [공식문서](https://numpy.org/doc/stable/reference/generated/numpy.copy.html)에는 \"Note that np.copy is a shallow copy and will not copy object elements within arrays.\" 라고 명시되어 있음. \n",
    "- 일부 블로그에서 deep copy라고 주장하기도 함. [블로그1](https://humaneer.net/292), [블로그2](https://python.plainenglish.io/shallow-copy-and-deep-copy-in-python-numpy-8861e0870c5f), [블로그3](https://yeko90.tistory.com/entry/%EB%84%98%ED%8C%8C%EC%9D%B4-%EA%B8%B0%EC%B4%88-%EA%B9%8A%EC%9D%80-%EB%B3%B5%EC%82%AC-%EC%96%95%EC%9D%80-%EB%B3%B5%EC%82%AC-copy-view) // 블로그2의 경우 참조와 shallow copy도 구분못함.. \n",
    "- 이따가 view라는 개념도 나올텐데 `.copy()`를 deep copy라고 주장하는 블로거들 대부분 `.view()`를 shallow copy 혹은 참조라고 주장한다. 하지만 copy와 view를 설명하는 [공식문서](https://numpy.org/doc/stable/user/basics.copies.html)에서는 view가 shallow copy라는 말을 찾아볼 수 없음. "
   ]
  },
  {
   "cell_type": "markdown",
   "id": "f228cff6-b415-4f9c-91bd-c35412229ede",
   "metadata": {},
   "source": [
    "`-` 정리 (넘파이한정)\n",
    "\n",
    "- `nparray.copy()`: 실제로는 shallow copy, 그런데 느낌은 deep copy \n",
    "- `nparray.view()`: 실제로는 shallow copy 보다 더 얕은 단계의 카피, 그런데 느낌은 shallow copy"
   ]
  },
  {
   "cell_type": "markdown",
   "id": "0358320c-aece-4d49-a5d4-2fd0fd81b6e4",
   "metadata": {},
   "source": [
    "## 참조 "
   ]
  },
  {
   "cell_type": "markdown",
   "id": "f6ea4283-d853-4242-993c-a1b65ba5c50f",
   "metadata": {},
   "source": [
    "`-` a를 선언, b는 a의 참조"
   ]
  },
  {
   "cell_type": "code",
   "execution_count": 9,
   "id": "a732d4d7-03a4-4a92-93eb-dc8844edd9e6",
   "metadata": {},
   "outputs": [],
   "source": [
    "a=np.array([[1,2],[3,4]])\n",
    "b=a ## 참조 "
   ]
  },
  {
   "cell_type": "code",
   "execution_count": 10,
   "id": "92a6f8c9-066d-44b9-a738-d220a5f49f77",
   "metadata": {},
   "outputs": [
    {
     "data": {
      "text/plain": [
       "array([[1, 2],\n",
       "       [3, 4]])"
      ]
     },
     "execution_count": 10,
     "metadata": {},
     "output_type": "execute_result"
    }
   ],
   "source": [
    "a"
   ]
  },
  {
   "cell_type": "code",
   "execution_count": 11,
   "id": "10b335d8-4732-440f-8336-ac60e979c014",
   "metadata": {},
   "outputs": [
    {
     "data": {
      "text/plain": [
       "array([[1, 2],\n",
       "       [3, 4]])"
      ]
     },
     "execution_count": 11,
     "metadata": {},
     "output_type": "execute_result"
    }
   ],
   "source": [
    "b"
   ]
  },
  {
   "cell_type": "code",
   "execution_count": 12,
   "id": "ae961c63-4bed-4a3e-a3a5-b211273b25de",
   "metadata": {},
   "outputs": [
    {
     "data": {
      "text/plain": [
       "(2, 2)"
      ]
     },
     "execution_count": 12,
     "metadata": {},
     "output_type": "execute_result"
    }
   ],
   "source": [
    "a.shape"
   ]
  },
  {
   "cell_type": "code",
   "execution_count": 13,
   "id": "5c7c6c3c-b8b5-4db6-8a30-25c3d21a0380",
   "metadata": {},
   "outputs": [
    {
     "data": {
      "text/plain": [
       "(2, 2)"
      ]
     },
     "execution_count": 13,
     "metadata": {},
     "output_type": "execute_result"
    }
   ],
   "source": [
    "b.shape"
   ]
  },
  {
   "cell_type": "markdown",
   "id": "4c8386ac-727d-4822-9147-81d55dd64ccb",
   "metadata": {},
   "source": [
    "`-` a의 shape을 바꾸어보자 $\\to$ b도 같이 바뀐다 "
   ]
  },
  {
   "cell_type": "code",
   "execution_count": 14,
   "id": "2e00f42c-8db7-4eea-ba34-2334ad87592c",
   "metadata": {},
   "outputs": [],
   "source": [
    "a.shape = (4,)"
   ]
  },
  {
   "cell_type": "code",
   "execution_count": 15,
   "id": "6006c139-5ef8-4943-a76c-0c2a19bba16d",
   "metadata": {},
   "outputs": [
    {
     "data": {
      "text/plain": [
       "array([1, 2, 3, 4])"
      ]
     },
     "execution_count": 15,
     "metadata": {},
     "output_type": "execute_result"
    }
   ],
   "source": [
    "a"
   ]
  },
  {
   "cell_type": "code",
   "execution_count": 16,
   "id": "ed5a5569-5bd0-48fc-a126-9e4145cdb5c3",
   "metadata": {},
   "outputs": [
    {
     "data": {
      "text/plain": [
       "array([1, 2, 3, 4])"
      ]
     },
     "execution_count": 16,
     "metadata": {},
     "output_type": "execute_result"
    }
   ],
   "source": [
    "b"
   ]
  },
  {
   "cell_type": "code",
   "execution_count": 17,
   "id": "0d65267b-7d76-4ee9-a253-5084c151876a",
   "metadata": {},
   "outputs": [
    {
     "data": {
      "text/plain": [
       "(139680327738544, 139680327738544)"
      ]
     },
     "execution_count": 17,
     "metadata": {},
     "output_type": "execute_result"
    }
   ],
   "source": [
    "id(a),id(b)"
   ]
  },
  {
   "cell_type": "markdown",
   "id": "838617e7-f964-4cbf-80d5-4853740eec43",
   "metadata": {
    "tags": []
   },
   "source": [
    "## view "
   ]
  },
  {
   "cell_type": "markdown",
   "id": "85d99254-af60-4077-a746-0eccab5314e7",
   "metadata": {},
   "source": [
    "`-` a를 선언, b는 a의 view"
   ]
  },
  {
   "cell_type": "code",
   "execution_count": 30,
   "id": "e68ba710-a5f5-4eca-ba34-ce07dcb78b66",
   "metadata": {},
   "outputs": [],
   "source": [
    "a=np.array([[1,2],[3,4]]) \n",
    "b=a.view() ## 어떤 블로그등에서는 shallow copy라고 부르기도 한다. 그렇게 공부하지 마세여.."
   ]
  },
  {
   "cell_type": "code",
   "execution_count": 31,
   "id": "34f91923-ce17-47ec-9d04-743f8bd46251",
   "metadata": {},
   "outputs": [
    {
     "data": {
      "text/plain": [
       "array([[1, 2],\n",
       "       [3, 4]])"
      ]
     },
     "execution_count": 31,
     "metadata": {},
     "output_type": "execute_result"
    }
   ],
   "source": [
    "a"
   ]
  },
  {
   "cell_type": "code",
   "execution_count": 32,
   "id": "853bc126-bd9b-4a7f-ad7f-22acf509cfa5",
   "metadata": {},
   "outputs": [
    {
     "data": {
      "text/plain": [
       "array([[1, 2],\n",
       "       [3, 4]])"
      ]
     },
     "execution_count": 32,
     "metadata": {},
     "output_type": "execute_result"
    }
   ],
   "source": [
    "b"
   ]
  },
  {
   "cell_type": "code",
   "execution_count": 33,
   "id": "a1128c6d-bcb0-44e4-949c-17a497e6ff5c",
   "metadata": {},
   "outputs": [
    {
     "data": {
      "text/plain": [
       "(2, 2)"
      ]
     },
     "execution_count": 33,
     "metadata": {},
     "output_type": "execute_result"
    }
   ],
   "source": [
    "a.shape"
   ]
  },
  {
   "cell_type": "code",
   "execution_count": 34,
   "id": "933c2902-45eb-455d-ab8d-e257b9975642",
   "metadata": {},
   "outputs": [
    {
     "data": {
      "text/plain": [
       "(2, 2)"
      ]
     },
     "execution_count": 34,
     "metadata": {},
     "output_type": "execute_result"
    }
   ],
   "source": [
    "b.shape"
   ]
  },
  {
   "cell_type": "code",
   "execution_count": 35,
   "id": "c3f37926-e3d3-43d8-965c-9a2dc9d43515",
   "metadata": {},
   "outputs": [],
   "source": [
    "a.shape= (4,1)"
   ]
  },
  {
   "cell_type": "code",
   "execution_count": 36,
   "id": "69a30307-3f44-4b7e-85a8-0cd4a6349cd4",
   "metadata": {},
   "outputs": [
    {
     "data": {
      "text/plain": [
       "array([[1],\n",
       "       [2],\n",
       "       [3],\n",
       "       [4]])"
      ]
     },
     "execution_count": 36,
     "metadata": {},
     "output_type": "execute_result"
    }
   ],
   "source": [
    "a"
   ]
  },
  {
   "cell_type": "code",
   "execution_count": 37,
   "id": "9d724e66-daab-4838-9254-d3bc27331618",
   "metadata": {},
   "outputs": [
    {
     "data": {
      "text/plain": [
       "array([[1, 2],\n",
       "       [3, 4]])"
      ]
     },
     "execution_count": 37,
     "metadata": {},
     "output_type": "execute_result"
    }
   ],
   "source": [
    "b"
   ]
  },
  {
   "cell_type": "code",
   "execution_count": 38,
   "id": "99909af1-5b78-4253-85f5-3878ccccf4c2",
   "metadata": {},
   "outputs": [
    {
     "data": {
      "text/plain": [
       "(139679960161232, 139679932937872)"
      ]
     },
     "execution_count": 38,
     "metadata": {},
     "output_type": "execute_result"
    }
   ],
   "source": [
    "id(a), id(b)"
   ]
  },
  {
   "cell_type": "markdown",
   "id": "96294513-0566-4b75-9859-c2db53482d97",
   "metadata": {},
   "source": [
    "`-` 그런데.. "
   ]
  },
  {
   "cell_type": "code",
   "execution_count": 39,
   "id": "48f51d2c-4a45-4c93-9b38-640712b2dcdf",
   "metadata": {},
   "outputs": [],
   "source": [
    "a[0]=100"
   ]
  },
  {
   "cell_type": "code",
   "execution_count": 40,
   "id": "e54428ac-83c4-413e-a1a7-1598e17ed264",
   "metadata": {},
   "outputs": [
    {
     "data": {
      "text/plain": [
       "array([[100],\n",
       "       [  2],\n",
       "       [  3],\n",
       "       [  4]])"
      ]
     },
     "execution_count": 40,
     "metadata": {},
     "output_type": "execute_result"
    }
   ],
   "source": [
    "a"
   ]
  },
  {
   "cell_type": "code",
   "execution_count": 41,
   "id": "0cb558eb-90b8-4742-aa02-8529b1cef82d",
   "metadata": {},
   "outputs": [
    {
     "data": {
      "text/plain": [
       "array([[100,   2],\n",
       "       [  3,   4]])"
      ]
     },
     "execution_count": 41,
     "metadata": {},
     "output_type": "execute_result"
    }
   ],
   "source": [
    "b"
   ]
  },
  {
   "cell_type": "markdown",
   "id": "f49ffef1-f26d-496b-b334-a45124da6665",
   "metadata": {},
   "source": [
    "`-` 출생의 비밀 "
   ]
  },
  {
   "cell_type": "code",
   "execution_count": 42,
   "id": "e5b51b34-796e-41f2-9e01-118ce63b49f6",
   "metadata": {},
   "outputs": [
    {
     "data": {
      "text/plain": [
       "array([[100,   2],\n",
       "       [  3,   4]])"
      ]
     },
     "execution_count": 42,
     "metadata": {},
     "output_type": "execute_result"
    }
   ],
   "source": [
    "b"
   ]
  },
  {
   "cell_type": "code",
   "execution_count": 43,
   "id": "89fa22ec-60db-48c0-82bf-be21d1729fd2",
   "metadata": {},
   "outputs": [
    {
     "data": {
      "text/plain": [
       "array([[100],\n",
       "       [  2],\n",
       "       [  3],\n",
       "       [  4]])"
      ]
     },
     "execution_count": 43,
     "metadata": {},
     "output_type": "execute_result"
    }
   ],
   "source": [
    "b.base"
   ]
  },
  {
   "cell_type": "markdown",
   "id": "41229d1f-26db-4366-9548-7e2a313c42ee",
   "metadata": {},
   "source": [
    "- ? 이거 바뀐 a아니야? "
   ]
  },
  {
   "cell_type": "code",
   "execution_count": 44,
   "id": "f44f6000-1c02-49e9-9f90-a2c38813389d",
   "metadata": {},
   "outputs": [
    {
     "data": {
      "text/plain": [
       "(139679960161232, 139679960161232)"
      ]
     },
     "execution_count": 44,
     "metadata": {},
     "output_type": "execute_result"
    }
   ],
   "source": [
    "id(b.base), id(a)"
   ]
  },
  {
   "cell_type": "markdown",
   "id": "80cb6389-6cb5-4f81-a9e7-eba0004beb74",
   "metadata": {},
   "source": [
    "`-` View \n",
    "\n",
    "- b가 a의 뷰라는 의미는, b가 a를 소스로하여 만들어진 오브젝트란 의미이다. \n",
    "- 따라서 이때 b.base는 a가 된다. \n",
    "- b는 자체적으로 데이터를 가지고 있지 않으며 a와 공유한다. "
   ]
  },
  {
   "cell_type": "markdown",
   "id": "c8d651ab-7f60-496d-b5a4-59dd37156e58",
   "metadata": {},
   "source": [
    "`note1` 원본 ndarray의 일 경우는 .base가 None으로 나온다. "
   ]
  },
  {
   "cell_type": "code",
   "execution_count": 45,
   "id": "f6416fb3-aa7a-4506-80c0-c2a5e23237cf",
   "metadata": {},
   "outputs": [],
   "source": [
    "a.base"
   ]
  },
  {
   "cell_type": "markdown",
   "id": "ee9e3c27-8060-4b4f-9994-1d46a77213bc",
   "metadata": {},
   "source": [
    "`note2` b.base의 shpae과 b의 shape은 아무 관련없다. "
   ]
  },
  {
   "cell_type": "code",
   "execution_count": 46,
   "id": "36f09048-ccf8-4de9-a907-4889ea7092ec",
   "metadata": {},
   "outputs": [
    {
     "data": {
      "text/plain": [
       "(2, 2)"
      ]
     },
     "execution_count": 46,
     "metadata": {},
     "output_type": "execute_result"
    }
   ],
   "source": [
    "b.shape"
   ]
  },
  {
   "cell_type": "code",
   "execution_count": 47,
   "id": "40799344-45f7-40f1-8b52-3e59af9ae792",
   "metadata": {},
   "outputs": [
    {
     "data": {
      "text/plain": [
       "(4, 1)"
      ]
     },
     "execution_count": 47,
     "metadata": {},
     "output_type": "execute_result"
    }
   ],
   "source": [
    "b.base.shape # a.shape과 같음"
   ]
  },
  {
   "cell_type": "markdown",
   "id": "3058cea4-b51e-4600-b7df-b4e4f4e39af0",
   "metadata": {},
   "source": [
    "`-` numpy에서 view를 사용하는 예시 (transpose)"
   ]
  },
  {
   "cell_type": "code",
   "execution_count": 48,
   "id": "73bb35d5-ff2f-4c01-baac-739ab26e4076",
   "metadata": {},
   "outputs": [
    {
     "data": {
      "text/plain": [
       "(139679932937584, 139679932937584)"
      ]
     },
     "execution_count": 48,
     "metadata": {},
     "output_type": "execute_result"
    }
   ],
   "source": [
    "X = np.random.normal(size=[100,2])\n",
    "id((X.T).base), id(X)"
   ]
  },
  {
   "cell_type": "markdown",
   "id": "9c302b99-7f73-4a98-904b-0478c94ea402",
   "metadata": {},
   "source": [
    "- `X.T` 는 `X`의 view 이다."
   ]
  },
  {
   "cell_type": "code",
   "execution_count": 49,
   "id": "baca5a82-dc8f-445e-8f35-b34a94b10d42",
   "metadata": {},
   "outputs": [
    {
     "data": {
      "text/plain": [
       "array([[124.15127928,  -0.45772606],\n",
       "       [ -0.45772606,  79.17005817]])"
      ]
     },
     "execution_count": 49,
     "metadata": {},
     "output_type": "execute_result"
    }
   ],
   "source": [
    "X.T @ X ## 실제로 X.T를 메모리공간에 새로 만들어 숫자를 저장하지않고 X.T @ X를 계산할 수 있음 (R과차이점) "
   ]
  },
  {
   "cell_type": "markdown",
   "id": "31ee39f6-a8e5-40b8-9f44-5ed1a0f6f935",
   "metadata": {},
   "source": [
    "## copy "
   ]
  },
  {
   "cell_type": "markdown",
   "id": "c0dd751a-e941-4120-a656-15a55287dd2c",
   "metadata": {},
   "source": [
    "`-` a를 선언, b는 a의 copy"
   ]
  },
  {
   "cell_type": "code",
   "execution_count": 50,
   "id": "5f02d51e-1768-403d-887b-62a6e146dac3",
   "metadata": {},
   "outputs": [],
   "source": [
    "a=np.array([[1,2],[3,4]])\n",
    "b=a.copy() # 껍데기를 새로 생성 (strides, shape) + 데이터도 a와 독립적으로 새로 생성하여 따로 메모리에 저장함. "
   ]
  },
  {
   "cell_type": "code",
   "execution_count": 51,
   "id": "e87128a2-121e-4c58-88ce-af2001510268",
   "metadata": {},
   "outputs": [
    {
     "data": {
      "text/plain": [
       "(139680327737776, 139679932938832)"
      ]
     },
     "execution_count": 51,
     "metadata": {},
     "output_type": "execute_result"
    }
   ],
   "source": [
    "id(a),id(b)"
   ]
  },
  {
   "cell_type": "markdown",
   "id": "e0a6969e-f788-4cef-8eaa-10836997273f",
   "metadata": {},
   "source": [
    "`-` a의 shape을 바꿔도 b에는 적용되지 않음 "
   ]
  },
  {
   "cell_type": "code",
   "execution_count": 52,
   "id": "78451c28-f21d-4454-a235-5926e274295e",
   "metadata": {},
   "outputs": [
    {
     "data": {
      "text/plain": [
       "array([[1],\n",
       "       [2],\n",
       "       [3],\n",
       "       [4]])"
      ]
     },
     "execution_count": 52,
     "metadata": {},
     "output_type": "execute_result"
    }
   ],
   "source": [
    "a.shape = (4,1)\n",
    "a"
   ]
  },
  {
   "cell_type": "code",
   "execution_count": 53,
   "id": "e2457cc9-8d23-4738-a4bb-1b5020540a8e",
   "metadata": {},
   "outputs": [
    {
     "data": {
      "text/plain": [
       "array([[1, 2],\n",
       "       [3, 4]])"
      ]
     },
     "execution_count": 53,
     "metadata": {},
     "output_type": "execute_result"
    }
   ],
   "source": [
    "b"
   ]
  },
  {
   "cell_type": "markdown",
   "id": "da3c7823-950e-420a-af9d-d8dfa8141e14",
   "metadata": {},
   "source": [
    "`-` 그리고 a[0]의 값을 바꿔도 b에는 적용되지 않음. "
   ]
  },
  {
   "cell_type": "code",
   "execution_count": 54,
   "id": "93ea0dcd-d816-4885-868b-ee3ba7a8d660",
   "metadata": {},
   "outputs": [],
   "source": [
    "a[0]=100"
   ]
  },
  {
   "cell_type": "code",
   "execution_count": 55,
   "id": "336e840e-4e7c-4aae-9cd8-83e5d62f12c6",
   "metadata": {},
   "outputs": [
    {
     "data": {
      "text/plain": [
       "array([[100],\n",
       "       [  2],\n",
       "       [  3],\n",
       "       [  4]])"
      ]
     },
     "execution_count": 55,
     "metadata": {},
     "output_type": "execute_result"
    }
   ],
   "source": [
    "a"
   ]
  },
  {
   "cell_type": "code",
   "execution_count": 56,
   "id": "149eab56-64a1-4d60-8718-3078a1dcfbbe",
   "metadata": {},
   "outputs": [
    {
     "data": {
      "text/plain": [
       "array([[1, 2],\n",
       "       [3, 4]])"
      ]
     },
     "execution_count": 56,
     "metadata": {},
     "output_type": "execute_result"
    }
   ],
   "source": [
    "b"
   ]
  },
  {
   "cell_type": "markdown",
   "id": "01b41184-9d3f-488a-9d5b-d16623adf890",
   "metadata": {},
   "source": [
    "`-` b의 출생을 조사해보니.. "
   ]
  },
  {
   "cell_type": "code",
   "execution_count": 57,
   "id": "e1c978e0-8d59-4f66-a5d1-ec6b9c3528a4",
   "metadata": {},
   "outputs": [
    {
     "data": {
      "text/plain": [
       "(None, None)"
      ]
     },
     "execution_count": 57,
     "metadata": {},
     "output_type": "execute_result"
    }
   ],
   "source": [
    "a.base,b.base"
   ]
  },
  {
   "cell_type": "markdown",
   "id": "0c2a97a8-2a22-4b79-be9a-aa4dabf947cd",
   "metadata": {},
   "source": [
    "출생의 비밀은 없었다. 둘다 원본. "
   ]
  },
  {
   "cell_type": "markdown",
   "id": "38c5413f-09e2-4232-88c2-62e9fa202a46",
   "metadata": {},
   "source": [
    "`-` `.view()` 는 껍데기만 새로생성 //  `.copy()` 는 껍데기와 데이터를 모두 새로 생성 "
   ]
  },
  {
   "cell_type": "markdown",
   "id": "19331204-1f81-4d64-baf0-3e5ec8107f97",
   "metadata": {},
   "source": [
    "### ***Appendix: .copy의 한계(?)***"
   ]
  },
  {
   "cell_type": "markdown",
   "id": "b0ff48c1-a989-4758-bb7a-83cfd530da39",
   "metadata": {},
   "source": [
    "(관찰)"
   ]
  },
  {
   "cell_type": "code",
   "execution_count": 58,
   "id": "630a68c8-12b3-47fc-a43f-dc8d2d58b2cb",
   "metadata": {},
   "outputs": [
    {
     "name": "stdout",
     "output_type": "stream",
     "text": [
      "시점1\n",
      "a= [1 list([1, 2])]\n",
      "b= [1 list([1, 2])]\n",
      "시점2\n",
      "a= [222 list([1, 2])]\n",
      "b= [1 list([1, 2])]\n",
      "시점2\n",
      "a= [222 list([333, 2])]\n",
      "b= [1 list([333, 2])]\n"
     ]
    }
   ],
   "source": [
    "a=np.array([1,[1,2]],dtype='O')\n",
    "b=a.copy()\n",
    "print('시점1')\n",
    "print('a=',a)\n",
    "print('b=',b)\n",
    "\n",
    "a[0]=222\n",
    "print('시점2')\n",
    "print('a=',a)\n",
    "print('b=',b)\n",
    "\n",
    "a[1][0]=333\n",
    "print('시점2')\n",
    "print('a=',a)\n",
    "print('b=',b)"
   ]
  },
  {
   "cell_type": "markdown",
   "id": "2d3ab705-976d-4de0-88a8-3ef22ba42479",
   "metadata": {},
   "source": [
    "- 왜 또 시점2에서는 a와 b가 같이 움직여?"
   ]
  },
  {
   "cell_type": "markdown",
   "id": "4852f91e-106f-442b-bed9-304e539b95ac",
   "metadata": {},
   "source": [
    "***해결책: 더 깊은 복사***"
   ]
  },
  {
   "cell_type": "code",
   "execution_count": 60,
   "id": "7dd31017-6d97-41a7-a913-a7f5af02e5cb",
   "metadata": {},
   "outputs": [],
   "source": [
    "import copy"
   ]
  },
  {
   "cell_type": "code",
   "execution_count": 61,
   "id": "da5766fb-e6b8-426f-ae0b-93458049a004",
   "metadata": {
    "tags": []
   },
   "outputs": [
    {
     "name": "stdout",
     "output_type": "stream",
     "text": [
      "시점1\n",
      "a= [1 list([1, 2])]\n",
      "b= [1 list([1, 2])]\n",
      "시점2\n",
      "a= [222 list([1, 2])]\n",
      "b= [1 list([1, 2])]\n",
      "시점2\n",
      "a= [222 list([333, 2])]\n",
      "b= [1 list([1, 2])]\n"
     ]
    }
   ],
   "source": [
    "a=np.array([1,[1,2]],dtype='O')\n",
    "b=copy.deepcopy(a)\n",
    "print('시점1')\n",
    "print('a=',a)\n",
    "print('b=',b)\n",
    "\n",
    "a[0]=222\n",
    "print('시점2')\n",
    "print('a=',a)\n",
    "print('b=',b)\n",
    "\n",
    "a[1][0]=333\n",
    "print('시점2')\n",
    "print('a=',a)\n",
    "print('b=',b)"
   ]
  },
  {
   "cell_type": "markdown",
   "id": "92334b40-b709-4619-b0cb-7971442129fb",
   "metadata": {},
   "source": [
    "`-` 중간요약\n",
    "\n",
    "- 사실 `b=a.copy()`는 에서 `.copy()`는 사실 온전한 deep-copy가 아니다. \n",
    "- 그래서 `a`의 데이터가 중첩구조를 가지는 경우는 온전한 deep-copy가 수행되지 않는다. \n",
    "- 그런데 일반적으로 넘파이를 이용할때 자주 사용하는 데이터 구조인 행렬, 텐서등은 데이터가 중첩구조를 가지지 않는다. (1차원 array로만 저장되어 있음) \n",
    "- 따라서 행렬, 텐서에 한정하면 `.copy()`는 온전한 deep-copy라고 이해해도 무방하다. <-- 이것만 기억해!"
   ]
  },
  {
   "cell_type": "markdown",
   "id": "0a7790de-695e-4865-8348-cd95353438cb",
   "metadata": {},
   "source": [
    "## 요약 "
   ]
  },
  {
   "cell_type": "markdown",
   "id": "41357722-495e-4890-9e04-bd04db3c91e1",
   "metadata": {},
   "source": [
    "아래를 구분할 수 있으면 잘 이해한 것!! "
   ]
  },
  {
   "cell_type": "markdown",
   "id": "ac1ecfaf-5abd-4b41-9225-4f4856aa54b7",
   "metadata": {},
   "source": [
    "```Python \n",
    "arr = np.array(...) # arr -- [arr.shape, arr.strides, arr.base, ... ] \n",
    "arr2 = arr \n",
    "arr2 = arr.view()\n",
    "arr2 = arr.copy()\n",
    "arr2 = copy.deepcopy(arr)\n",
    "```"
   ]
  },
  {
   "cell_type": "markdown",
   "id": "b9672d58-b8eb-409d-85f7-4b974766242c",
   "metadata": {},
   "source": [
    "## 별명, 뷰, 카피 "
   ]
  },
  {
   "cell_type": "markdown",
   "id": "adb45c74-ee24-423a-ac7d-d5e4102b9307",
   "metadata": {},
   "source": [
    "`-` test 함수 작성 "
   ]
  },
  {
   "cell_type": "code",
   "execution_count": 63,
   "id": "892f6649-b689-4bcd-af81-e42d4c38edb4",
   "metadata": {},
   "outputs": [],
   "source": [
    "def test(a,b): \n",
    "    if id(a) == id(b): \n",
    "        print(\"별명\")\n",
    "    elif id(a) == id(b.base) or id(a.base)==id(b): \n",
    "        print(\"뷰\")\n",
    "    elif (id(a.base)!=id(None) and id(b.base)!=id(None)) and id(a.base) == id(b.base):\n",
    "        print(\"공통의 base를 가짐\")\n",
    "    else: \n",
    "        print(\"카피, 혹은 아무 관련없는 오브젝트\") "
   ]
  },
  {
   "cell_type": "markdown",
   "id": "8a8407f4-ac6d-4707-9297-0e7ed6d6b32f",
   "metadata": {},
   "source": [
    "`-` 잘 동작하나? "
   ]
  },
  {
   "cell_type": "markdown",
   "id": "e4e33dfd-0979-4c99-b629-bdc5d36a025e",
   "metadata": {},
   "source": [
    "(테스트1) "
   ]
  },
  {
   "cell_type": "code",
   "execution_count": 64,
   "id": "b98016da-91d6-419d-b423-829320edcd02",
   "metadata": {},
   "outputs": [],
   "source": [
    "a=np.array([1,2,3,4])\n",
    "b=a"
   ]
  },
  {
   "cell_type": "code",
   "execution_count": 65,
   "id": "e91e4381-88ec-4a29-b8c5-ca3c886633c4",
   "metadata": {},
   "outputs": [
    {
     "name": "stdout",
     "output_type": "stream",
     "text": [
      "별명\n"
     ]
    }
   ],
   "source": [
    "test(a,b)"
   ]
  },
  {
   "cell_type": "markdown",
   "id": "08362a9a-ffc2-4741-aa67-268fad8567d1",
   "metadata": {},
   "source": [
    "(테스트2) "
   ]
  },
  {
   "cell_type": "code",
   "execution_count": 66,
   "id": "62bb9759-7c97-4781-b83b-f4806125182e",
   "metadata": {},
   "outputs": [],
   "source": [
    "a=np.array([1,2,3,4])\n",
    "b=a.view()"
   ]
  },
  {
   "cell_type": "code",
   "execution_count": 67,
   "id": "60eeed8f-2526-4519-ba09-b4808829c0cf",
   "metadata": {},
   "outputs": [
    {
     "name": "stdout",
     "output_type": "stream",
     "text": [
      "뷰\n"
     ]
    }
   ],
   "source": [
    "test(a,b)"
   ]
  },
  {
   "cell_type": "markdown",
   "id": "3b656041-9eef-4b17-b084-13035f14a159",
   "metadata": {},
   "source": [
    "(테스트3) "
   ]
  },
  {
   "cell_type": "code",
   "execution_count": 68,
   "id": "b00f729d-9d98-41a0-b3a0-b121bc069b27",
   "metadata": {},
   "outputs": [],
   "source": [
    "a=np.array([1,2,3,4])\n",
    "b=a.view()\n",
    "c=a.view()"
   ]
  },
  {
   "cell_type": "code",
   "execution_count": 69,
   "id": "db21efc9-01fd-42a1-a34d-c1025bf95d97",
   "metadata": {},
   "outputs": [
    {
     "name": "stdout",
     "output_type": "stream",
     "text": [
      "공통의 base를 가짐\n"
     ]
    }
   ],
   "source": [
    "test(b,c)"
   ]
  },
  {
   "cell_type": "code",
   "execution_count": 70,
   "id": "ac077c11-90df-4743-ac28-2f7f1a89afbc",
   "metadata": {},
   "outputs": [
    {
     "name": "stdout",
     "output_type": "stream",
     "text": [
      "뷰\n"
     ]
    }
   ],
   "source": [
    "test(a,b)"
   ]
  },
  {
   "cell_type": "code",
   "execution_count": 71,
   "id": "b20f5021-f559-4f48-8fd1-f41d8c0db26a",
   "metadata": {},
   "outputs": [
    {
     "name": "stdout",
     "output_type": "stream",
     "text": [
      "뷰\n"
     ]
    }
   ],
   "source": [
    "test(a,c)"
   ]
  },
  {
   "cell_type": "markdown",
   "id": "afc318e1-18dd-4810-8c14-420fc219b6f4",
   "metadata": {},
   "source": [
    "(테스트4) "
   ]
  },
  {
   "cell_type": "code",
   "execution_count": 72,
   "id": "b010ccc8-7a04-47e4-b71e-1dec43e50d61",
   "metadata": {},
   "outputs": [],
   "source": [
    "a=np.array([1,2,3,4])\n",
    "b=a.copy()"
   ]
  },
  {
   "cell_type": "code",
   "execution_count": 73,
   "id": "baf65e1c-7f05-44e5-b03c-a3caa46813bc",
   "metadata": {},
   "outputs": [
    {
     "name": "stdout",
     "output_type": "stream",
     "text": [
      "카피, 혹은 아무 관련없는 오브젝트\n"
     ]
    }
   ],
   "source": [
    "test(a,b)"
   ]
  },
  {
   "cell_type": "markdown",
   "id": "059f9fe2-0abd-4700-a622-59e6a73c6e3f",
   "metadata": {},
   "source": [
    "## 결론 "
   ]
  },
  {
   "cell_type": "markdown",
   "id": "8ebeb06b-5cf4-480e-af06-61bff451a723",
   "metadata": {},
   "source": [
    "`-` 참조, 뷰, 카피의 개념을 잘 알고 있고 때에 따라 메모리를 아끼면서 이들을 적절하게 사용하고 싶을것 같음. 하지만 이건 불가능한 소망임. "
   ]
  },
  {
   "cell_type": "markdown",
   "id": "b2c4777e-806b-4e1e-ba96-1a0b7849f32e",
   "metadata": {},
   "source": [
    "`-` 우리가 사용했던 어떠한 것들이 뷰가 나올지 카피가 나올지 잘 모른다. (그래서 원리를 이해해도 대응할 방법이 사실없음) "
   ]
  },
  {
   "cell_type": "markdown",
   "id": "3818198d-6549-42b6-b446-fa97e80a3b9c",
   "metadata": {},
   "source": [
    "### 예시1"
   ]
  },
  {
   "cell_type": "code",
   "execution_count": 74,
   "id": "f42357fc-b520-4974-9304-f50373fcc51d",
   "metadata": {},
   "outputs": [],
   "source": [
    "a=np.array([1,2,3,4])\n",
    "b=a[:3]"
   ]
  },
  {
   "cell_type": "code",
   "execution_count": 75,
   "id": "d81ba309-11ed-4299-b640-30f546bc9c20",
   "metadata": {},
   "outputs": [
    {
     "data": {
      "text/plain": [
       "array([1, 2, 3, 4])"
      ]
     },
     "execution_count": 75,
     "metadata": {},
     "output_type": "execute_result"
    }
   ],
   "source": [
    "a"
   ]
  },
  {
   "cell_type": "code",
   "execution_count": 76,
   "id": "f0d1d52b-4f29-4906-a438-bd9d78d9537a",
   "metadata": {},
   "outputs": [
    {
     "data": {
      "text/plain": [
       "array([1, 2, 3])"
      ]
     },
     "execution_count": 76,
     "metadata": {},
     "output_type": "execute_result"
    }
   ],
   "source": [
    "b"
   ]
  },
  {
   "cell_type": "code",
   "execution_count": 77,
   "id": "d352b9ac-ad77-4d1e-a4f4-60f652aa3cc0",
   "metadata": {},
   "outputs": [
    {
     "name": "stdout",
     "output_type": "stream",
     "text": [
      "뷰\n"
     ]
    }
   ],
   "source": [
    "test(a,b)"
   ]
  },
  {
   "cell_type": "code",
   "execution_count": 78,
   "id": "025e80a7-3b48-4d3d-b208-a6b93f2702bf",
   "metadata": {},
   "outputs": [
    {
     "data": {
      "text/plain": [
       "array([1, 2, 3])"
      ]
     },
     "execution_count": 78,
     "metadata": {},
     "output_type": "execute_result"
    }
   ],
   "source": [
    "c=a[[0,1,2]]\n",
    "c"
   ]
  },
  {
   "cell_type": "code",
   "execution_count": 79,
   "id": "cf3af2f8-648d-4f6f-97e1-c3a1f19a732d",
   "metadata": {},
   "outputs": [
    {
     "name": "stdout",
     "output_type": "stream",
     "text": [
      "카피, 혹은 아무 관련없는 오브젝트\n"
     ]
    }
   ],
   "source": [
    "test(a,c)"
   ]
  },
  {
   "cell_type": "markdown",
   "id": "af6c8b71-0334-4fc9-9b19-49aab674add8",
   "metadata": {},
   "source": [
    "### 예시2"
   ]
  },
  {
   "cell_type": "code",
   "execution_count": 114,
   "id": "f0181623-b313-4180-a8b9-ae5d5a8026ec",
   "metadata": {},
   "outputs": [
    {
     "data": {
      "text/plain": [
       "array([[1, 2],\n",
       "       [3, 4]])"
      ]
     },
     "execution_count": 114,
     "metadata": {},
     "output_type": "execute_result"
    }
   ],
   "source": [
    "a=np.array([[1,2],[3,4]])\n",
    "a"
   ]
  },
  {
   "cell_type": "code",
   "execution_count": 87,
   "id": "a1c6bf09-7fe2-4d55-8041-c713f03ded0e",
   "metadata": {},
   "outputs": [],
   "source": [
    "b=a.flatten() # 플래튼은 펼치는건데..\n",
    "c=a.ravel() # 라벨도 펼치라는 뜻인데..\n",
    "d=a.reshape(-1) # 이것도 뜻은 펼치는건데..\n",
    "# 걍 다 똑같은거아냐?"
   ]
  },
  {
   "cell_type": "code",
   "execution_count": 88,
   "id": "0ba19a29-8a3c-42a1-9090-73cab583eff3",
   "metadata": {},
   "outputs": [
    {
     "name": "stdout",
     "output_type": "stream",
     "text": [
      "카피, 혹은 아무 관련없는 오브젝트\n"
     ]
    }
   ],
   "source": [
    "test(a,b)"
   ]
  },
  {
   "cell_type": "code",
   "execution_count": 89,
   "id": "be6c0116-1e1c-45e9-a889-e3295f5ee99e",
   "metadata": {},
   "outputs": [
    {
     "name": "stdout",
     "output_type": "stream",
     "text": [
      "뷰\n"
     ]
    }
   ],
   "source": [
    "test(a,c)"
   ]
  },
  {
   "cell_type": "code",
   "execution_count": 90,
   "id": "48d404fb-bce9-4b84-ba0f-f37cf4fdd5fb",
   "metadata": {},
   "outputs": [
    {
     "name": "stdout",
     "output_type": "stream",
     "text": [
      "뷰\n"
     ]
    }
   ],
   "source": [
    "test(a,d)"
   ]
  },
  {
   "cell_type": "code",
   "execution_count": 91,
   "id": "f3705747-c532-425f-a7d2-c3f2fe1389d7",
   "metadata": {},
   "outputs": [
    {
     "name": "stdout",
     "output_type": "stream",
     "text": [
      "공통의 base를 가짐\n"
     ]
    }
   ],
   "source": [
    "test(c,d)"
   ]
  },
  {
   "cell_type": "code",
   "execution_count": 92,
   "id": "a509b9ab-2bd1-4b20-985e-e0c2b724c8c4",
   "metadata": {},
   "outputs": [
    {
     "name": "stdout",
     "output_type": "stream",
     "text": [
      "카피, 혹은 아무 관련없는 오브젝트\n"
     ]
    }
   ],
   "source": [
    "test(b,c)"
   ]
  },
  {
   "cell_type": "markdown",
   "id": "cc65db6c-ffe7-4ee9-9b28-6374a746d7c8",
   "metadata": {},
   "source": [
    "`-` 심지어 copy인줄 알았던것이 사실 view라서 원치않는 side effect이 생길수 있음. $\\to$ 그냥 방어적 프로그래밍이 최선인듯 "
   ]
  }
 ],
 "metadata": {
  "kernelspec": {
   "display_name": "Python 3",
   "language": "python",
   "name": "python3"
  },
  "language_info": {
   "codemirror_mode": {
    "name": "ipython",
    "version": 3
   },
   "file_extension": ".py",
   "mimetype": "text/x-python",
   "name": "python",
   "nbconvert_exporter": "python",
   "pygments_lexer": "ipython3",
   "version": "3.8.16"
  }
 },
 "nbformat": 4,
 "nbformat_minor": 5
}
