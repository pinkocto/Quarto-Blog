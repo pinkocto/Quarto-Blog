{
 "cells": [
  {
   "cell_type": "raw",
   "id": "514fcf84-a517-4c3b-8e9b-53e4a354abb2",
   "metadata": {},
   "source": [
    "---\n",
    "title: 'class 5단계'\n",
    "author: 'jiyun Lim'\n",
    "date: '02/23/2023'\n",
    "categories:\n",
    "  - class\n",
    "  - Python\n",
    "---"
   ]
  },
  {
   "cell_type": "markdown",
   "id": "51528542-188c-4bb9-be9b-44c22cd39643",
   "metadata": {},
   "source": [
    "# 클래스공부 5단계\n",
    "> 특정 자료형에 한정하여 print 이외에 파이썬 내부기능을 재정의해보자."
   ]
  },
  {
   "cell_type": "markdown",
   "id": "a3bd1b7f-c7b8-4854-bba0-86616982b10e",
   "metadata": {},
   "source": [
    "`-` 지난시간까지 배운 것: RPC자료형에 한정해서 print() 등의 기능을 조작할 수 있었다. (재정의 할 수 있었다.)"
   ]
  },
  {
   "cell_type": "markdown",
   "id": "1096595f-bcdf-431e-83f9-d2b5017c2671",
   "metadata": {},
   "source": [
    "`-` 이번시간에 배울 것: 특정 자료형에 한정하여 print 이외에 파이썬 내부기능을 조작하여 보자. (재정의하여 보자.)"
   ]
  },
  {
   "cell_type": "code",
   "execution_count": 107,
   "id": "d60380a9-8998-43f4-b3a1-6a1483b931a5",
   "metadata": {},
   "outputs": [],
   "source": [
    "import numpy as np"
   ]
  },
  {
   "cell_type": "markdown",
   "id": "18cb90e9-8c18-49b3-a007-644d9963179b",
   "metadata": {},
   "source": [
    "## motive"
   ]
  },
  {
   "cell_type": "markdown",
   "id": "519f080a-5565-4260-ac95-be5b4f73c7ff",
   "metadata": {},
   "source": [
    "`-` 아래의 연산구조를 관찰하자."
   ]
  },
  {
   "cell_type": "code",
   "execution_count": 1,
   "id": "8ee68fe2-50cd-4be4-bfa7-c7860b9d27ba",
   "metadata": {},
   "outputs": [],
   "source": [
    "a = 1\n",
    "b = 2"
   ]
  },
  {
   "cell_type": "code",
   "execution_count": 2,
   "id": "bcf7af98-7f87-4db1-8e4e-647ab1623eaa",
   "metadata": {},
   "outputs": [
    {
     "data": {
      "text/plain": [
       "\u001b[0;31mType:\u001b[0m        int\n",
       "\u001b[0;31mString form:\u001b[0m 1\n",
       "\u001b[0;31mDocstring:\u001b[0m  \n",
       "int([x]) -> integer\n",
       "int(x, base=10) -> integer\n",
       "\n",
       "Convert a number or string to an integer, or return 0 if no arguments\n",
       "are given.  If x is a number, return x.__int__().  For floating point\n",
       "numbers, this truncates towards zero.\n",
       "\n",
       "If x is not a number or if base is given, then x must be a string,\n",
       "bytes, or bytearray instance representing an integer literal in the\n",
       "given base.  The literal can be preceded by '+' or '-' and be surrounded\n",
       "by whitespace.  The base defaults to 10.  Valid bases are 0 and 2-36.\n",
       "Base 0 means to interpret the base from the string as an integer literal.\n",
       ">>> int('0b100', base=0)\n",
       "4"
      ]
     },
     "metadata": {},
     "output_type": "display_data"
    }
   ],
   "source": [
    "a?? # a는 int class에서 만들어진 인스턴스다."
   ]
  },
  {
   "cell_type": "code",
   "execution_count": 3,
   "id": "b0ea2dde-7e7e-46ec-8706-4c208cf2d393",
   "metadata": {},
   "outputs": [
    {
     "data": {
      "text/plain": [
       "3"
      ]
     },
     "execution_count": 3,
     "metadata": {},
     "output_type": "execute_result"
    }
   ],
   "source": [
    "a + b"
   ]
  },
  {
   "cell_type": "markdown",
   "id": "acb6e175-7003-466a-a4ea-4c22b9b4a0f2",
   "metadata": {},
   "source": [
    "- a라는 인스턴스와 b라는 인스턴스를 +라는 기호가 연결하고 있다."
   ]
  },
  {
   "cell_type": "markdown",
   "id": "5b96dfe4-688d-4249-a21c-7b60b66c4921",
   "metadata": {},
   "source": [
    "`-` 이번에는 아래의 연산구조를 관찰하자."
   ]
  },
  {
   "cell_type": "code",
   "execution_count": 4,
   "id": "3845bc04-f696-4645-a727-770efb264f3f",
   "metadata": {},
   "outputs": [
    {
     "data": {
      "text/plain": [
       "[1, 2, 3, 4]"
      ]
     },
     "execution_count": 4,
     "metadata": {},
     "output_type": "execute_result"
    }
   ],
   "source": [
    "a = [1,2]\n",
    "b = [3,4]\n",
    "a+b"
   ]
  },
  {
   "cell_type": "markdown",
   "id": "4520a4de-6ff8-4072-b6b5-cf2393d4c97a",
   "metadata": {},
   "source": [
    "- a라는 인스턴스와 b라는 인스턴스를 +라는 기호가 연결하고 있다."
   ]
  },
  {
   "cell_type": "markdown",
   "id": "0a27b0c0-ef02-4053-8936-f4a8e78cb3f7",
   "metadata": {},
   "source": [
    "`-` 동작이 다른 이유?"
   ]
  },
  {
   "cell_type": "markdown",
   "id": "ebcd1373-5a79-495b-a8e7-68d4d56b815c",
   "metadata": {},
   "source": [
    "- 클래스를 배우기 이전: int자료형의 `+`는 \"정수의 덧셈\"을 의미하고 list자료형의 `+`는 \"자료의 추가\"를 의미한다.\n",
    "- 클래스를 배운 이후: 아마 클래스는 `+` 라는 연산을 정의하는 숨겨진 메소드가 있을 것이다. (print가 그랬듯이) 그런데 int 클래스에서는 그 메소드를 \"정수의 덧셈\"이 되도록 정의하였고, list클래스에서는 그 메소드를 \"자료의 추가\"를 의마하도록 정의하였을 것이다."
   ]
  },
  {
   "cell_type": "markdown",
   "id": "6f5d56e1-6e8f-4625-af69-d39a85d9aa62",
   "metadata": {},
   "source": [
    "`-` 아래의 결과를 관찰"
   ]
  },
  {
   "cell_type": "code",
   "execution_count": 6,
   "id": "3adf7d38-71e9-4e16-96c8-fa034c35b787",
   "metadata": {},
   "outputs": [],
   "source": [
    "a = 1\n",
    "b = 2"
   ]
  },
  {
   "cell_type": "code",
   "execution_count": 8,
   "id": "af385f3b-d550-4628-b880-c808b19fdad1",
   "metadata": {},
   "outputs": [
    {
     "data": {
      "text/plain": [
       "{'__add__'}"
      ]
     },
     "execution_count": 8,
     "metadata": {},
     "output_type": "execute_result"
    }
   ],
   "source": [
    "set(dir(a)) & {'__add__'}"
   ]
  },
  {
   "cell_type": "code",
   "execution_count": 9,
   "id": "3e53ca65-153e-4ba0-a2ba-4bf2475ccd82",
   "metadata": {},
   "outputs": [
    {
     "data": {
      "text/plain": [
       "3"
      ]
     },
     "execution_count": 9,
     "metadata": {},
     "output_type": "execute_result"
    }
   ],
   "source": [
    "a.__add__(b)"
   ]
  },
  {
   "cell_type": "code",
   "execution_count": 10,
   "id": "5ca913fb-7434-41be-bf36-36c0fe710f9f",
   "metadata": {},
   "outputs": [
    {
     "data": {
      "text/plain": [
       "3"
      ]
     },
     "execution_count": 10,
     "metadata": {},
     "output_type": "execute_result"
    }
   ],
   "source": [
    "b.__add__(a)"
   ]
  },
  {
   "cell_type": "code",
   "execution_count": 11,
   "id": "9b8d5dad-a17c-476e-9a48-ac80a85eb405",
   "metadata": {},
   "outputs": [],
   "source": [
    "a = [1,2]\n",
    "b = [3,4]"
   ]
  },
  {
   "cell_type": "code",
   "execution_count": 12,
   "id": "d1113d79-c87e-414c-b8c2-acefbfca35fe",
   "metadata": {},
   "outputs": [
    {
     "data": {
      "text/plain": [
       "[1, 2, 3, 4]"
      ]
     },
     "execution_count": 12,
     "metadata": {},
     "output_type": "execute_result"
    }
   ],
   "source": [
    "a.__add__(b)"
   ]
  },
  {
   "cell_type": "code",
   "execution_count": 14,
   "id": "3a1c82fa-37bc-4e5b-8cd7-f8618dc5c7cb",
   "metadata": {},
   "outputs": [
    {
     "data": {
      "text/plain": [
       "[3, 4, 1, 2]"
      ]
     },
     "execution_count": 14,
     "metadata": {},
     "output_type": "execute_result"
    }
   ],
   "source": [
    "b.__add__(a)"
   ]
  },
  {
   "cell_type": "markdown",
   "id": "9afed197-b705-4384-ae19-e7dd3458ed1c",
   "metadata": {},
   "source": [
    "`-` a+b는 사실 내부적으로 `a.__add(b)`의 축약구문이다. 따라서 만약 `a.__add__(b)`의 기능을 바꾸면 (재정의 하면) a+b의 기능도 바뀔 것이다."
   ]
  },
  {
   "cell_type": "markdown",
   "id": "61c4de74-3824-498e-9811-8fb398c70c4d",
   "metadata": {},
   "source": [
    "### 1. `__add__`"
   ]
  },
  {
   "cell_type": "markdown",
   "id": "0c35c535-fd3a-44be-8d41-34d30812cf67",
   "metadata": {},
   "source": [
    "`-` 학생예제"
   ]
  },
  {
   "cell_type": "code",
   "execution_count": 69,
   "id": "981329b8-b80e-4646-b07f-a5550003f872",
   "metadata": {},
   "outputs": [],
   "source": [
    "class Student: # student class를 만들어보자. (student 자료형인것.)\n",
    "    def __init__(self, age = 20.0, semester = 0):\n",
    "        self.age = age\n",
    "        self.semester = semester\n",
    "        print('입학을 축하합니다. 당신의 나이는 {}이고 현재 학기는 {}학기입니다.'.format(self.age, self.semester))\n",
    "    def __add__(self, val):\n",
    "        # val == 0: 휴학\n",
    "        # val == 1: 등록\n",
    "        if val == 0:\n",
    "            self.age = self.age + 0.5\n",
    "        elif val == 1:\n",
    "            self.age = self.age + 0.5\n",
    "            self.semester = self.semester + 1\n",
    "    def _repr_html_(self):\n",
    "        html_str = \"\"\"\n",
    "        나이: {} <br/>\n",
    "        학기: {} <br/>\n",
    "        \"\"\"\n",
    "        return html_str.format(self.age, self.semester)"
   ]
  },
  {
   "cell_type": "code",
   "execution_count": 70,
   "id": "342559b1-8a78-4fa4-8683-8d6218f51a23",
   "metadata": {},
   "outputs": [
    {
     "name": "stdout",
     "output_type": "stream",
     "text": [
      "입학을 축하합니다. 당신의 나이는 20.0이고 현재 학기는 0학기입니다.\n"
     ]
    }
   ],
   "source": [
    "iu = Student()"
   ]
  },
  {
   "cell_type": "code",
   "execution_count": 71,
   "id": "41f807dc-66b9-4cd0-8e20-205184bcd91b",
   "metadata": {},
   "outputs": [
    {
     "data": {
      "text/html": [
       "\n",
       "        나이: 20.0 <br/>\n",
       "        학기: 0 <br/>\n",
       "        "
      ],
      "text/plain": [
       "<__main__.Student at 0x7fb4f4469bb0>"
      ]
     },
     "execution_count": 71,
     "metadata": {},
     "output_type": "execute_result"
    }
   ],
   "source": [
    "iu"
   ]
  },
  {
   "cell_type": "code",
   "execution_count": 72,
   "id": "cbeab130-6ff5-4cd9-95b7-b15167fefebf",
   "metadata": {},
   "outputs": [
    {
     "data": {
      "text/html": [
       "\n",
       "        나이: 20.5 <br/>\n",
       "        학기: 1 <br/>\n",
       "        "
      ],
      "text/plain": [
       "<__main__.Student at 0x7fb4f4469bb0>"
      ]
     },
     "execution_count": 72,
     "metadata": {},
     "output_type": "execute_result"
    }
   ],
   "source": [
    "iu + 1 ## 1학년 1학기 등록\n",
    "iu"
   ]
  },
  {
   "cell_type": "code",
   "execution_count": 73,
   "id": "728b716a-5e16-4bfa-ab55-2ccb119edc33",
   "metadata": {},
   "outputs": [
    {
     "data": {
      "text/html": [
       "\n",
       "        나이: 21.0 <br/>\n",
       "        학기: 1 <br/>\n",
       "        "
      ],
      "text/plain": [
       "<__main__.Student at 0x7fb4f4469bb0>"
      ]
     },
     "execution_count": 73,
     "metadata": {},
     "output_type": "execute_result"
    }
   ],
   "source": [
    "iu + 0 ## 휴학함\n",
    "iu"
   ]
  },
  {
   "cell_type": "code",
   "execution_count": 74,
   "id": "8e12729b-9234-437f-844b-735c863edc5e",
   "metadata": {},
   "outputs": [],
   "source": [
    "iu.__add__(1)"
   ]
  },
  {
   "cell_type": "code",
   "execution_count": 75,
   "id": "d6dc610c-8fbd-45a1-876b-57db902a3601",
   "metadata": {},
   "outputs": [
    {
     "data": {
      "text/html": [
       "\n",
       "        나이: 21.5 <br/>\n",
       "        학기: 2 <br/>\n",
       "        "
      ],
      "text/plain": [
       "<__main__.Student at 0x7fb4f4469bb0>"
      ]
     },
     "execution_count": 75,
     "metadata": {},
     "output_type": "execute_result"
    }
   ],
   "source": [
    "iu"
   ]
  },
  {
   "cell_type": "markdown",
   "id": "69876a19-1bd9-4407-8231-128e522d9e94",
   "metadata": {},
   "source": [
    "`-` 연산을 연속으로 하고 싶다."
   ]
  },
  {
   "cell_type": "code",
   "execution_count": 46,
   "id": "c14a5044-89a6-41d2-965b-8bd44da8dd6d",
   "metadata": {},
   "outputs": [
    {
     "ename": "TypeError",
     "evalue": "unsupported operand type(s) for +: 'NoneType' and 'int'",
     "output_type": "error",
     "traceback": [
      "\u001b[0;31m---------------------------------------------------------------------------\u001b[0m",
      "\u001b[0;31mTypeError\u001b[0m                                 Traceback (most recent call last)",
      "Cell \u001b[0;32mIn[46], line 1\u001b[0m\n\u001b[0;32m----> 1\u001b[0m \u001b[43miu\u001b[49m\u001b[43m \u001b[49m\u001b[38;5;241;43m+\u001b[39;49m\u001b[43m \u001b[49m\u001b[38;5;241;43m1\u001b[39;49m\u001b[43m \u001b[49m\u001b[38;5;241;43m+\u001b[39;49m\u001b[43m \u001b[49m\u001b[38;5;241;43m0\u001b[39;49m \u001b[38;5;241m+\u001b[39m \u001b[38;5;241m0\u001b[39m \u001b[38;5;241m+\u001b[39m \u001b[38;5;241m0\u001b[39m \u001b[38;5;241m+\u001b[39m \u001b[38;5;241m0\u001b[39m\n",
      "\u001b[0;31mTypeError\u001b[0m: unsupported operand type(s) for +: 'NoneType' and 'int'"
     ]
    }
   ],
   "source": [
    "iu + 1 + 0 + 0 + 0 + 0"
   ]
  },
  {
   "cell_type": "markdown",
   "id": "dd995e94-9d61-41d4-b0ab-55106a5240a5",
   "metadata": {},
   "source": [
    "`-` 에러의 이유?"
   ]
  },
  {
   "cell_type": "markdown",
   "id": "92554838-af9e-4228-b96f-78f932017172",
   "metadata": {},
   "source": [
    "(되는코드)"
   ]
  },
  {
   "cell_type": "code",
   "execution_count": 49,
   "id": "9b8a4a17-2aa2-4cce-a15c-36550eea5d63",
   "metadata": {},
   "outputs": [
    {
     "data": {
      "text/plain": [
       "3"
      ]
     },
     "execution_count": 49,
     "metadata": {},
     "output_type": "execute_result"
    }
   ],
   "source": [
    "(1+1)+1 # 1+1+1은 이렇게 볼 수 있다."
   ]
  },
  {
   "cell_type": "code",
   "execution_count": 50,
   "id": "e1706c96-8887-429a-bd0c-d425809b7223",
   "metadata": {},
   "outputs": [
    {
     "data": {
      "text/plain": [
       "int"
      ]
     },
     "execution_count": 50,
     "metadata": {},
     "output_type": "execute_result"
    }
   ],
   "source": [
    "_a = (1+1)\n",
    "type(_a)"
   ]
  },
  {
   "cell_type": "code",
   "execution_count": 52,
   "id": "0eb26e83-91ab-4e46-b562-9e06e66ee0be",
   "metadata": {},
   "outputs": [
    {
     "data": {
      "text/plain": [
       "3"
      ]
     },
     "execution_count": 52,
     "metadata": {},
     "output_type": "execute_result"
    }
   ],
   "source": [
    "_a+1 # 이 연산은 int 인스턴스 + int인스턴스"
   ]
  },
  {
   "cell_type": "markdown",
   "id": "af862f32-19cf-4186-8b9b-7601e82e941e",
   "metadata": {},
   "source": [
    "(안되는코드)"
   ]
  },
  {
   "cell_type": "code",
   "execution_count": 53,
   "id": "f43c49a6-fdf8-427c-a8ed-4447ca082c3f",
   "metadata": {},
   "outputs": [
    {
     "ename": "TypeError",
     "evalue": "unsupported operand type(s) for +: 'NoneType' and 'int'",
     "output_type": "error",
     "traceback": [
      "\u001b[0;31m---------------------------------------------------------------------------\u001b[0m",
      "\u001b[0;31mTypeError\u001b[0m                                 Traceback (most recent call last)",
      "Cell \u001b[0;32mIn[53], line 1\u001b[0m\n\u001b[0;32m----> 1\u001b[0m \u001b[43miu\u001b[49m\u001b[43m \u001b[49m\u001b[38;5;241;43m+\u001b[39;49m\u001b[43m \u001b[49m\u001b[38;5;241;43m1\u001b[39;49m\u001b[43m \u001b[49m\u001b[38;5;241;43m+\u001b[39;49m\u001b[43m \u001b[49m\u001b[38;5;241;43m1\u001b[39;49m\n",
      "\u001b[0;31mTypeError\u001b[0m: unsupported operand type(s) for +: 'NoneType' and 'int'"
     ]
    }
   ],
   "source": [
    "iu + 1 + 1"
   ]
  },
  {
   "cell_type": "code",
   "execution_count": 59,
   "id": "e86cad59-fcc6-4b66-b3b2-1dd2cb44cc84",
   "metadata": {},
   "outputs": [
    {
     "data": {
      "text/plain": [
       "NoneType"
      ]
     },
     "execution_count": 59,
     "metadata": {},
     "output_type": "execute_result"
    }
   ],
   "source": [
    "_a = iu + 1\n",
    "type(_a)"
   ]
  },
  {
   "cell_type": "code",
   "execution_count": 60,
   "id": "9199de21-da57-47cd-90a3-66ac4c5904b3",
   "metadata": {},
   "outputs": [
    {
     "ename": "TypeError",
     "evalue": "unsupported operand type(s) for +: 'NoneType' and 'int'",
     "output_type": "error",
     "traceback": [
      "\u001b[0;31m---------------------------------------------------------------------------\u001b[0m",
      "\u001b[0;31mTypeError\u001b[0m                                 Traceback (most recent call last)",
      "Cell \u001b[0;32mIn[60], line 1\u001b[0m\n\u001b[0;32m----> 1\u001b[0m \u001b[43m_a\u001b[49m\u001b[43m \u001b[49m\u001b[38;5;241;43m+\u001b[39;49m\u001b[43m \u001b[49m\u001b[38;5;241;43m1\u001b[39;49m\n",
      "\u001b[0;31mTypeError\u001b[0m: unsupported operand type(s) for +: 'NoneType' and 'int'"
     ]
    }
   ],
   "source": [
    "_a + 1"
   ]
  },
  {
   "cell_type": "markdown",
   "id": "4cea3a5a-4d5e-405f-ac62-0b4d549b257d",
   "metadata": {},
   "source": [
    "`-` 에러를 해결하는 방법: iu + 1의 결과로 Student클래스가 리턴되면 된다."
   ]
  },
  {
   "cell_type": "code",
   "execution_count": 85,
   "id": "ca6fb9d3-da40-44d6-9962-d29535d103c6",
   "metadata": {},
   "outputs": [],
   "source": [
    "class Student: # student class를 만들어보자. (student 자료형인것.)\n",
    "    def __init__(self, age = 20.0, semester = 0):\n",
    "        self.age = age\n",
    "        self.semester = semester\n",
    "        print('입학을 축하합니다. 당신의 나이는 {}이고 현재 학기는 {}학기입니다.'.format(self.age, self.semester))\n",
    "    def __add__(self, val):\n",
    "        # val == 0: 휴학\n",
    "        # val == 1: 등록\n",
    "        if val == 0:\n",
    "            self.age = self.age + 0.5\n",
    "        elif val == 1:\n",
    "            self.age = self.age + 0.5\n",
    "            self.semester = self.semester + 1\n",
    "        return self\n",
    "    def _repr_html_(self):\n",
    "        html_str = \"\"\"\n",
    "        나이: {} <br/>\n",
    "        학기: {} <br/>\n",
    "        \"\"\"\n",
    "        return html_str.format(self.age, self.semester)"
   ]
  },
  {
   "cell_type": "code",
   "execution_count": 86,
   "id": "2ce2a5b5-7889-4724-83f8-8e7e5601bee9",
   "metadata": {},
   "outputs": [
    {
     "name": "stdout",
     "output_type": "stream",
     "text": [
      "입학을 축하합니다. 당신의 나이는 20.0이고 현재 학기는 0학기입니다.\n"
     ]
    }
   ],
   "source": [
    "iu = Student()"
   ]
  },
  {
   "cell_type": "code",
   "execution_count": 87,
   "id": "b2051770-3d82-43ac-ba27-1bf850c7de87",
   "metadata": {},
   "outputs": [
    {
     "data": {
      "text/html": [
       "\n",
       "        나이: 20.5 <br/>\n",
       "        학기: 1 <br/>\n",
       "        "
      ],
      "text/plain": [
       "<__main__.Student at 0x7fb4f4805df0>"
      ]
     },
     "execution_count": 87,
     "metadata": {},
     "output_type": "execute_result"
    }
   ],
   "source": [
    "iu+1  # __add__의 return에 Student 클래스의 인스턴스가 리턴되면서 자동으로 _repr_html_() 실행"
   ]
  },
  {
   "cell_type": "code",
   "execution_count": 88,
   "id": "7b05841f-fa94-4b51-8203-096f48b9ed47",
   "metadata": {},
   "outputs": [
    {
     "data": {
      "text/html": [
       "\n",
       "        나이: 23.0 <br/>\n",
       "        학기: 2 <br/>\n",
       "        "
      ],
      "text/plain": [
       "<__main__.Student at 0x7fb4f4805df0>"
      ]
     },
     "execution_count": 88,
     "metadata": {},
     "output_type": "execute_result"
    }
   ],
   "source": [
    "iu + 1 + 0 + 0 + 0 + 0"
   ]
  },
  {
   "cell_type": "markdown",
   "id": "dde48909-f2a0-439f-ad7e-cc78840500d5",
   "metadata": {},
   "source": [
    "### 2. `__mul__`"
   ]
  },
  {
   "cell_type": "code",
   "execution_count": 90,
   "id": "ad5140f7-fb02-4400-a69c-3a203cadddff",
   "metadata": {},
   "outputs": [
    {
     "data": {
      "text/plain": [
       "0"
      ]
     },
     "execution_count": 90,
     "metadata": {},
     "output_type": "execute_result"
    }
   ],
   "source": [
    "a = 1\n",
    "b = 0\n",
    "a*b"
   ]
  },
  {
   "cell_type": "code",
   "execution_count": 111,
   "id": "d686485c-8e40-43e0-b7aa-04de5c18269b",
   "metadata": {},
   "outputs": [],
   "source": [
    "class RPC:\n",
    "    def __init__(self, candidate=['가위','바위','보']):\n",
    "        self.candidate = candidate\n",
    "        self.actions = list()\n",
    "        self.results = list()\n",
    "    def __mul__(self, other):\n",
    "        self.choose()\n",
    "        other.choose()\n",
    "        if self.actions[-1] == '가위' and other.actions[-1]=='가위':\n",
    "            self.results.append(0)\n",
    "            other.results.append(0)\n",
    "        if self.actions[-1] == '가위' and other.actions[-1]=='바위':\n",
    "            self.results.append(-1)\n",
    "            other.results.append(1)\n",
    "        if self.actions[-1] == '가위' and other.actions[-1]=='보':\n",
    "            self.results.append(1)\n",
    "            other.results.append(-1)\n",
    "        if self.actions[-1] == '바위' and other.actions[-1]=='가위':\n",
    "            self.results.append(1)\n",
    "            other.results.append(-1)\n",
    "        if self.actions[-1] == '바위' and other.actions[-1]=='바위':\n",
    "            self.results.append(0)\n",
    "            other.results.append(0)\n",
    "        if self.actions[-1] == '바위' and other.actions[-1]=='보':\n",
    "            self.results.append(-1)\n",
    "            other.results.append(1)\n",
    "        if self.actions[-1] == '보' and other.actions[-1]=='가위':\n",
    "            self.results.append(-1)\n",
    "            other.results.append(1)\n",
    "        if self.actions[-1] == '보' and other.actions[-1]=='바위':\n",
    "            self.results.append(1)\n",
    "            other.results.append(-1)\n",
    "        if self.actions[-1] == '보' and other.actions[-1]=='보':\n",
    "            self.results.append(0)\n",
    "            other.results.append(0)\n",
    "    def choose(self):\n",
    "        self.actions.append(np.random.choice(self.candidate))\n",
    "    def _repr_html_(self):\n",
    "        html_str = \"\"\"\n",
    "        낼 수 있는 패: {} <br/>\n",
    "        액션: {} <br/>\n",
    "        승패: {}\n",
    "        \"\"\"\n",
    "        return html_str.format(self.candidate, self.actions, self.results)"
   ]
  },
  {
   "cell_type": "code",
   "execution_count": 112,
   "id": "da6e9d09-9250-4de9-897d-1615009ee948",
   "metadata": {},
   "outputs": [],
   "source": [
    "a = RPC()\n",
    "b = RPC()"
   ]
  },
  {
   "cell_type": "code",
   "execution_count": 113,
   "id": "86f48216-74d6-40c0-bb42-1b410de4e5f7",
   "metadata": {},
   "outputs": [
    {
     "data": {
      "text/html": [
       "\n",
       "        낼 수 있는 패: ['가위', '바위', '보'] <br/>\n",
       "        액션: [] <br/>\n",
       "        승패: []\n",
       "        "
      ],
      "text/plain": [
       "<__main__.RPC at 0x7fb4df04e0a0>"
      ]
     },
     "execution_count": 113,
     "metadata": {},
     "output_type": "execute_result"
    }
   ],
   "source": [
    "a"
   ]
  },
  {
   "cell_type": "code",
   "execution_count": 114,
   "id": "94679d31-9e55-432e-a918-bef4373eae51",
   "metadata": {},
   "outputs": [
    {
     "data": {
      "text/html": [
       "\n",
       "        낼 수 있는 패: ['가위', '바위', '보'] <br/>\n",
       "        액션: [] <br/>\n",
       "        승패: []\n",
       "        "
      ],
      "text/plain": [
       "<__main__.RPC at 0x7fb4f458fac0>"
      ]
     },
     "execution_count": 114,
     "metadata": {},
     "output_type": "execute_result"
    }
   ],
   "source": [
    "b"
   ]
  },
  {
   "cell_type": "code",
   "execution_count": 115,
   "id": "e13d4be1-3417-4ba7-920f-8d3b62efcb53",
   "metadata": {},
   "outputs": [],
   "source": [
    "a*b"
   ]
  },
  {
   "cell_type": "code",
   "execution_count": 116,
   "id": "14efbc39-ef3e-4c63-9f10-ac668075c805",
   "metadata": {},
   "outputs": [
    {
     "data": {
      "text/html": [
       "\n",
       "        낼 수 있는 패: ['가위', '바위', '보'] <br/>\n",
       "        액션: ['보'] <br/>\n",
       "        승패: [-1]\n",
       "        "
      ],
      "text/plain": [
       "<__main__.RPC at 0x7fb4df04e0a0>"
      ]
     },
     "execution_count": 116,
     "metadata": {},
     "output_type": "execute_result"
    }
   ],
   "source": [
    "a"
   ]
  },
  {
   "cell_type": "code",
   "execution_count": 117,
   "id": "4423516f-8b42-48ac-b696-824cf1364735",
   "metadata": {},
   "outputs": [
    {
     "data": {
      "text/html": [
       "\n",
       "        낼 수 있는 패: ['가위', '바위', '보'] <br/>\n",
       "        액션: ['가위'] <br/>\n",
       "        승패: [1]\n",
       "        "
      ],
      "text/plain": [
       "<__main__.RPC at 0x7fb4f458fac0>"
      ]
     },
     "execution_count": 117,
     "metadata": {},
     "output_type": "execute_result"
    }
   ],
   "source": [
    "b"
   ]
  },
  {
   "cell_type": "code",
   "execution_count": 124,
   "id": "7e07342d-9ae7-4bb3-a934-6b2e81db1146",
   "metadata": {},
   "outputs": [],
   "source": [
    "for i in range(50000):\n",
    "    a*b"
   ]
  },
  {
   "cell_type": "code",
   "execution_count": 126,
   "id": "2d850791-8296-4e80-b40e-5086ec0f508c",
   "metadata": {},
   "outputs": [],
   "source": [
    "#a"
   ]
  },
  {
   "cell_type": "code",
   "execution_count": 127,
   "id": "2b30f745-b7a9-4d67-8a84-d8a8c1ce7433",
   "metadata": {},
   "outputs": [],
   "source": [
    "#b"
   ]
  },
  {
   "cell_type": "code",
   "execution_count": 128,
   "id": "b5ab858b-caf9-45d7-be8c-325db0d7fcf3",
   "metadata": {},
   "outputs": [
    {
     "data": {
      "text/plain": [
       "(175, -175)"
      ]
     },
     "execution_count": 128,
     "metadata": {},
     "output_type": "execute_result"
    }
   ],
   "source": [
    "sum(a.results), sum(b.results)"
   ]
  },
  {
   "cell_type": "code",
   "execution_count": 129,
   "id": "e67cd76f-818d-49fc-820c-d8bcf2f68c20",
   "metadata": {},
   "outputs": [
    {
     "data": {
      "text/plain": [
       "0.0035"
      ]
     },
     "execution_count": 129,
     "metadata": {},
     "output_type": "execute_result"
    }
   ],
   "source": [
    "sum(a.results)/50000"
   ]
  },
  {
   "cell_type": "code",
   "execution_count": 130,
   "id": "9fbf1e38-d553-481b-9883-86832aecc1a6",
   "metadata": {},
   "outputs": [
    {
     "data": {
      "text/plain": [
       "-0.0035"
      ]
     },
     "execution_count": 130,
     "metadata": {},
     "output_type": "execute_result"
    }
   ],
   "source": [
    "sum(b.results)/50000"
   ]
  },
  {
   "cell_type": "markdown",
   "id": "66292550-05c3-43c7-b319-3b752f74055f",
   "metadata": {},
   "source": [
    "## 숙제"
   ]
  },
  {
   "cell_type": "markdown",
   "id": "6be4793c-8877-4a41-986a-01597f86b281",
   "metadata": {},
   "source": [
    "RPC클래스에서 Player a와 Player b를 만들어라.\n",
    "- Player a는 ['가위','보'] 중에 하나를 낼 수 있다. \n",
    "- 그리고 Player b는 ['가위','바위'] 중에 하나를 낼 수 있다. \n",
    "- 두 Player는 가지고 있는 패를 (같은 확률로) 랜덤으로 낸다. (즉, Player a가 가위만 내거나 보만 내는 경우는 없다.)"
   ]
  },
  {
   "cell_type": "markdown",
   "id": "b351f1f1-9edd-4871-9639-01ce6a469071",
   "metadata": {},
   "source": [
    "(1) 누가 더 유리한가? 이유를 스스로 생각해보라. \n",
    "- 비슷하지 않을까?"
   ]
  },
  {
   "cell_type": "markdown",
   "id": "834cc99f-fd24-4c8d-993f-5cb4628f9001",
   "metadata": {},
   "source": [
    "(2) 50000번을 시뮬레이션을 해보고 결과를 분석해보라."
   ]
  },
  {
   "cell_type": "code",
   "execution_count": 131,
   "id": "aa321f79-e65b-46eb-a234-55fe4ab3ba07",
   "metadata": {},
   "outputs": [],
   "source": [
    "class RPC:\n",
    "    def __init__(self, candidate=['가위','바위','보']):\n",
    "        self.candidate = candidate\n",
    "        self.actions = list()\n",
    "        self.results = list()\n",
    "    def __mul__(self, other):\n",
    "        self.choose()\n",
    "        other.choose()\n",
    "        if self.actions[-1] == '가위' and other.actions[-1]=='가위':\n",
    "            self.results.append(0)\n",
    "            other.results.append(0)\n",
    "        if self.actions[-1] == '가위' and other.actions[-1]=='바위':\n",
    "            self.results.append(-1)\n",
    "            other.results.append(1)\n",
    "        if self.actions[-1] == '가위' and other.actions[-1]=='보':\n",
    "            self.results.append(1)\n",
    "            other.results.append(-1)\n",
    "        if self.actions[-1] == '바위' and other.actions[-1]=='가위':\n",
    "            self.results.append(1)\n",
    "            other.results.append(-1)\n",
    "        if self.actions[-1] == '바위' and other.actions[-1]=='바위':\n",
    "            self.results.append(0)\n",
    "            other.results.append(0)\n",
    "        if self.actions[-1] == '바위' and other.actions[-1]=='보':\n",
    "            self.results.append(-1)\n",
    "            other.results.append(1)\n",
    "        if self.actions[-1] == '보' and other.actions[-1]=='가위':\n",
    "            self.results.append(-1)\n",
    "            other.results.append(1)\n",
    "        if self.actions[-1] == '보' and other.actions[-1]=='바위':\n",
    "            self.results.append(1)\n",
    "            other.results.append(-1)\n",
    "        if self.actions[-1] == '보' and other.actions[-1]=='보':\n",
    "            self.results.append(0)\n",
    "            other.results.append(0)\n",
    "    def choose(self):\n",
    "        self.actions.append(np.random.choice(self.candidate))\n",
    "    def _repr_html_(self):\n",
    "        html_str = \"\"\"\n",
    "        낼 수 있는 패: {} <br/>\n",
    "        액션: {} <br/>\n",
    "        승패: {}\n",
    "        \"\"\"\n",
    "        return html_str.format(self.candidate, self.actions, self.results)"
   ]
  },
  {
   "cell_type": "code",
   "execution_count": 132,
   "id": "aa3cdc4f-65bc-445b-866b-cee934d77056",
   "metadata": {},
   "outputs": [],
   "source": [
    "player_a = RPC(['가위', '보'])\n",
    "player_b = RPC(['가위', '바위'])"
   ]
  },
  {
   "cell_type": "code",
   "execution_count": 134,
   "id": "6af9101d-dfc5-460b-ba86-ddd821089f57",
   "metadata": {},
   "outputs": [
    {
     "data": {
      "text/html": [
       "\n",
       "        낼 수 있는 패: ['가위', '보'] <br/>\n",
       "        액션: [] <br/>\n",
       "        승패: []\n",
       "        "
      ],
      "text/plain": [
       "<__main__.RPC at 0x7fb4dd61f640>"
      ]
     },
     "execution_count": 134,
     "metadata": {},
     "output_type": "execute_result"
    }
   ],
   "source": [
    "player_a"
   ]
  },
  {
   "cell_type": "code",
   "execution_count": 135,
   "id": "ebbfa8ed-9603-4f52-b135-9f22e35c0d3b",
   "metadata": {},
   "outputs": [
    {
     "data": {
      "text/html": [
       "\n",
       "        낼 수 있는 패: ['가위', '바위'] <br/>\n",
       "        액션: [] <br/>\n",
       "        승패: []\n",
       "        "
      ],
      "text/plain": [
       "<__main__.RPC at 0x7fb4dd61f490>"
      ]
     },
     "execution_count": 135,
     "metadata": {},
     "output_type": "execute_result"
    }
   ],
   "source": [
    "player_b"
   ]
  },
  {
   "cell_type": "code",
   "execution_count": 136,
   "id": "f15324bc-aaff-4c96-9b38-34c31ee2cf17",
   "metadata": {},
   "outputs": [],
   "source": [
    "player_a*player_b"
   ]
  },
  {
   "cell_type": "code",
   "execution_count": 137,
   "id": "6e974162-52a9-40c5-b3ea-bbf1cb449d81",
   "metadata": {},
   "outputs": [
    {
     "data": {
      "text/html": [
       "\n",
       "        낼 수 있는 패: ['가위', '보'] <br/>\n",
       "        액션: ['보'] <br/>\n",
       "        승패: [1]\n",
       "        "
      ],
      "text/plain": [
       "<__main__.RPC at 0x7fb4dd61f640>"
      ]
     },
     "execution_count": 137,
     "metadata": {},
     "output_type": "execute_result"
    }
   ],
   "source": [
    "player_a"
   ]
  },
  {
   "cell_type": "code",
   "execution_count": 138,
   "id": "3ef97fc0-43ac-4511-b493-3bb59fc83f30",
   "metadata": {},
   "outputs": [
    {
     "data": {
      "text/html": [
       "\n",
       "        낼 수 있는 패: ['가위', '바위'] <br/>\n",
       "        액션: ['바위'] <br/>\n",
       "        승패: [-1]\n",
       "        "
      ],
      "text/plain": [
       "<__main__.RPC at 0x7fb4dd61f490>"
      ]
     },
     "execution_count": 138,
     "metadata": {},
     "output_type": "execute_result"
    }
   ],
   "source": [
    "player_b"
   ]
  },
  {
   "cell_type": "code",
   "execution_count": 139,
   "id": "4f8c2942-e9dc-4891-9738-dd4ba37a3cb3",
   "metadata": {},
   "outputs": [],
   "source": [
    "for i in range(50000):\n",
    "    player_a*player_b"
   ]
  },
  {
   "cell_type": "code",
   "execution_count": 140,
   "id": "4157bfa7-6521-4b8e-9ae8-36cd1006c9f2",
   "metadata": {},
   "outputs": [
    {
     "data": {
      "text/plain": [
       "(-12279, 12279)"
      ]
     },
     "execution_count": 140,
     "metadata": {},
     "output_type": "execute_result"
    }
   ],
   "source": [
    "sum(player_a.results), sum(player_b.results)"
   ]
  },
  {
   "cell_type": "code",
   "execution_count": 141,
   "id": "77968207-717f-4ce2-8c7b-c60394e72d98",
   "metadata": {},
   "outputs": [
    {
     "data": {
      "text/plain": [
       "(-0.24558, 0.24558)"
      ]
     },
     "execution_count": 141,
     "metadata": {},
     "output_type": "execute_result"
    }
   ],
   "source": [
    "sum(player_a.results)/50000, sum(player_b.results)/50000"
   ]
  }
 ],
 "metadata": {
  "kernelspec": {
   "display_name": "Python 3",
   "language": "python",
   "name": "python3"
  },
  "language_info": {
   "codemirror_mode": {
    "name": "ipython",
    "version": 3
   },
   "file_extension": ".py",
   "mimetype": "text/x-python",
   "name": "python",
   "nbconvert_exporter": "python",
   "pygments_lexer": "ipython3",
   "version": "3.8.16"
  }
 },
 "nbformat": 4,
 "nbformat_minor": 5
}
