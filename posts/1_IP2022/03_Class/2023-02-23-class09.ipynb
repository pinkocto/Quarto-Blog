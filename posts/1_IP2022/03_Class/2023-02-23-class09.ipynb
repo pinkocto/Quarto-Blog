{
 "cells": [
  {
   "cell_type": "raw",
   "id": "16b123ad-08d8-48d4-8a5a-5c9ff406c6f4",
   "metadata": {},
   "source": [
    "---\n",
    "title: '**[IP2022]** class 09단계'\n",
    "author: 'jiyun Lim'\n",
    "date: '02/23/2023'\n",
    "categories:\n",
    "  - class\n",
    "  - Python\n",
    "---"
   ]
  },
  {
   "cell_type": "markdown",
   "id": "6601739b-d0eb-4511-9d46-74f98a72df3b",
   "metadata": {},
   "source": [
    "# 클래스공부 9단계\n",
    "> global/local 변수, 인스턴스/클래스 변수, 인스턴스/클래스 메서드"
   ]
  },
  {
   "cell_type": "markdown",
   "id": "829e7480-a142-44f5-8e53-bd165fc82859",
   "metadata": {},
   "source": [
    "## 예비학습 (변수의 범위)"
   ]
  },
  {
   "cell_type": "markdown",
   "id": "8c776091-dc83-4917-afe1-5bde086f51a4",
   "metadata": {},
   "source": [
    "**커널을 재시작하고 아래를 관찰하자.**"
   ]
  },
  {
   "cell_type": "markdown",
   "id": "191d552f-585a-4273-b350-b4604be17023",
   "metadata": {},
   "source": [
    "### 예제1"
   ]
  },
  {
   "cell_type": "markdown",
   "id": "c90a6704-6350-4aab-894c-7e9f9e45825f",
   "metadata": {},
   "source": [
    "`-` 관찰1: 함수내의 변수 출력"
   ]
  },
  {
   "cell_type": "code",
   "execution_count": 1,
   "id": "d1c71be8-06a0-4874-85ac-0dc5b69478ef",
   "metadata": {},
   "outputs": [],
   "source": [
    "def f():\n",
    "    x = 10\n",
    "    print(x)"
   ]
  },
  {
   "cell_type": "code",
   "execution_count": 2,
   "id": "d731e434-7aa0-4bed-bc78-b544968ade1e",
   "metadata": {},
   "outputs": [
    {
     "name": "stdout",
     "output_type": "stream",
     "text": [
      "10\n"
     ]
    }
   ],
   "source": [
    "f()"
   ]
  },
  {
   "cell_type": "markdown",
   "id": "ca9f9030-4ad0-4f7c-a61c-dc9df8125a86",
   "metadata": {},
   "source": [
    "`-` 관찰2: 함수내의 변수가 없을 경우 출력이 되지 않음"
   ]
  },
  {
   "cell_type": "code",
   "execution_count": 6,
   "id": "53011e1d-64dc-41c9-b31d-5bf5b6cd7b5e",
   "metadata": {},
   "outputs": [],
   "source": [
    "def g():\n",
    "    print(x)"
   ]
  },
  {
   "cell_type": "code",
   "execution_count": 7,
   "id": "f331e5fc-ab64-4c84-b71d-313bdabc9801",
   "metadata": {},
   "outputs": [
    {
     "ename": "NameError",
     "evalue": "name 'x' is not defined",
     "output_type": "error",
     "traceback": [
      "\u001b[0;31m---------------------------------------------------------------------------\u001b[0m",
      "\u001b[0;31mNameError\u001b[0m                                 Traceback (most recent call last)",
      "Cell \u001b[0;32mIn[7], line 1\u001b[0m\n\u001b[0;32m----> 1\u001b[0m \u001b[43mg\u001b[49m\u001b[43m(\u001b[49m\u001b[43m)\u001b[49m\n",
      "Cell \u001b[0;32mIn[6], line 2\u001b[0m, in \u001b[0;36mg\u001b[0;34m()\u001b[0m\n\u001b[1;32m      1\u001b[0m \u001b[38;5;28;01mdef\u001b[39;00m \u001b[38;5;21mg\u001b[39m():\n\u001b[0;32m----> 2\u001b[0m     \u001b[38;5;28mprint\u001b[39m(\u001b[43mx\u001b[49m)\n",
      "\u001b[0;31mNameError\u001b[0m: name 'x' is not defined"
     ]
    }
   ],
   "source": [
    "g()"
   ]
  },
  {
   "cell_type": "markdown",
   "id": "fbfa2b00-dfdf-492f-b572-05d84fb7093f",
   "metadata": {},
   "source": [
    "`-` 관찰3: 동일한 이름의 변수가 global에 있다면 함수내에 (local) 그 이름의 변수가 선언되지 않아도 global 변수를 빌려서 사용함. "
   ]
  },
  {
   "cell_type": "code",
   "execution_count": 10,
   "id": "4b711bfa-56dd-4399-bb91-3198a32f73d9",
   "metadata": {},
   "outputs": [],
   "source": [
    "x = 20\n",
    "def g():\n",
    "    print(x)"
   ]
  },
  {
   "cell_type": "code",
   "execution_count": 11,
   "id": "8ef78d47-fdc5-4248-8d36-a63566fb0d91",
   "metadata": {},
   "outputs": [
    {
     "name": "stdout",
     "output_type": "stream",
     "text": [
      "20\n"
     ]
    }
   ],
   "source": [
    "g()"
   ]
  },
  {
   "cell_type": "markdown",
   "id": "cf70cb4e-a07a-4c54-af4c-03df1466776a",
   "metadata": {},
   "source": [
    "`-` 관찰4: f()가 실행되면서 `x=10`이 함수내에(=local에) 실행되지만 이 결과가 외부의 x=20에(=global에) 영향을 미치지는 못함."
   ]
  },
  {
   "cell_type": "code",
   "execution_count": 12,
   "id": "4cfd9358-0683-4143-8e78-9d8ee5198453",
   "metadata": {},
   "outputs": [
    {
     "name": "stdout",
     "output_type": "stream",
     "text": [
      "10\n"
     ]
    }
   ],
   "source": [
    "f()"
   ]
  },
  {
   "cell_type": "code",
   "execution_count": 13,
   "id": "db408d56-c446-464b-bcea-624e5b8636af",
   "metadata": {},
   "outputs": [
    {
     "data": {
      "text/plain": [
       "20"
      ]
     },
     "execution_count": 13,
     "metadata": {},
     "output_type": "execute_result"
    }
   ],
   "source": [
    "x"
   ]
  },
  {
   "cell_type": "markdown",
   "id": "83ba17d7-96dd-4576-bd82-6454939e5b48",
   "metadata": {},
   "source": [
    "### 예제2"
   ]
  },
  {
   "cell_type": "markdown",
   "id": "e828f252-9c76-4994-8357-899eef24a05c",
   "metadata": {},
   "source": [
    "(코드1)"
   ]
  },
  {
   "cell_type": "code",
   "execution_count": 14,
   "id": "5bfdfcc1-8f10-4e0b-ac2c-64975f006c80",
   "metadata": {},
   "outputs": [
    {
     "name": "stdout",
     "output_type": "stream",
     "text": [
      "38 39\n"
     ]
    }
   ],
   "source": [
    "x = 38\n",
    "def nextyear():\n",
    "    y = x+1\n",
    "    print(x,y)\n",
    "nextyear()"
   ]
  },
  {
   "cell_type": "markdown",
   "id": "7946a178-d302-42ae-9dc0-e848e3be62fe",
   "metadata": {},
   "source": [
    "(코드2)"
   ]
  },
  {
   "cell_type": "code",
   "execution_count": 15,
   "id": "3a220477-43cd-45e1-bc2a-406f0d891907",
   "metadata": {},
   "outputs": [
    {
     "ename": "UnboundLocalError",
     "evalue": "local variable 'x' referenced before assignment",
     "output_type": "error",
     "traceback": [
      "\u001b[0;31m---------------------------------------------------------------------------\u001b[0m",
      "\u001b[0;31mUnboundLocalError\u001b[0m                         Traceback (most recent call last)",
      "Cell \u001b[0;32mIn[15], line 6\u001b[0m\n\u001b[1;32m      4\u001b[0m     \u001b[38;5;28mprint\u001b[39m(x,y)\n\u001b[1;32m      5\u001b[0m     x \u001b[38;5;241m=\u001b[39m \u001b[38;5;241m0\u001b[39m\n\u001b[0;32m----> 6\u001b[0m \u001b[43mnextyear\u001b[49m\u001b[43m(\u001b[49m\u001b[43m)\u001b[49m\n",
      "Cell \u001b[0;32mIn[15], line 3\u001b[0m, in \u001b[0;36mnextyear\u001b[0;34m()\u001b[0m\n\u001b[1;32m      2\u001b[0m \u001b[38;5;28;01mdef\u001b[39;00m \u001b[38;5;21mnextyear\u001b[39m():\n\u001b[0;32m----> 3\u001b[0m     y \u001b[38;5;241m=\u001b[39m \u001b[43mx\u001b[49m\u001b[38;5;241m+\u001b[39m\u001b[38;5;241m1\u001b[39m\n\u001b[1;32m      4\u001b[0m     \u001b[38;5;28mprint\u001b[39m(x,y)\n\u001b[1;32m      5\u001b[0m     x \u001b[38;5;241m=\u001b[39m \u001b[38;5;241m0\u001b[39m\n",
      "\u001b[0;31mUnboundLocalError\u001b[0m: local variable 'x' referenced before assignment"
     ]
    }
   ],
   "source": [
    "x = 38\n",
    "def nextyear():\n",
    "    y = x+1\n",
    "    print(x,y)\n",
    "    x = 0\n",
    "nextyear()"
   ]
  },
  {
   "cell_type": "markdown",
   "id": "bbfad94a-15ec-4119-ab48-c9826e4de4d1",
   "metadata": {},
   "source": [
    "`-` 해석:\n",
    "- 잘못된해석: 코드1은 실행되었고, 코드2에서 에러가 났다. 코드1과 2의 차이점은 `x=0` 이라는 코드가 코드2에 추가로 포함되어있다는 것이다. 따라서 `x=0`이 잘못된 코드이고 이걸 실행하는 과정에서 에러가 발생했다.\n"
   ]
  },
  {
   "cell_type": "markdown",
   "id": "3bedcf80-e55e-4505-8191-4a6764c345a5",
   "metadata": {},
   "source": [
    "- 올바른해석: 코드1에서는 x가 global variable이고 코드2에서는 x가 local variable이어서 생기는 문제"
   ]
  },
  {
   "cell_type": "markdown",
   "id": "f4cfb5bd-e210-4c90-a2dd-fd3bfe5f9a43",
   "metadata": {},
   "source": [
    "`-` 코드2의 올바른 수정"
   ]
  },
  {
   "cell_type": "code",
   "execution_count": 18,
   "id": "40fe78cc-7230-4f09-9326-bd22b2d67ce6",
   "metadata": {},
   "outputs": [
    {
     "name": "stdout",
     "output_type": "stream",
     "text": [
      "0 1\n"
     ]
    }
   ],
   "source": [
    "x = 38\n",
    "def nextyear():\n",
    "    x = 0\n",
    "    y = x+1\n",
    "    print(x,y)\n",
    "nextyear()"
   ]
  },
  {
   "cell_type": "markdown",
   "id": "351cca95-a609-4e88-af84-e60d32348501",
   "metadata": {},
   "source": [
    "## 인스턴스 변수, 클래스 변수"
   ]
  },
  {
   "cell_type": "markdown",
   "id": "d56555f9-7ce1-449a-88ea-41209c3b10c1",
   "metadata": {},
   "source": [
    "`-` 예비학습이 주는 교훈\n",
    "\n",
    "\n",
    "(원칙1) global에서 정의된 이름은 local에서 정의된 이름이 없을 경우 그를 대신할 수 있다. (local은 경우에 따라서 global에 있는 변수를 빌려 쓸 수 있다.)"
   ]
  },
  {
   "cell_type": "markdown",
   "id": "2c177e5a-de6c-4bc0-b5f0-4b9fadb16bc4",
   "metadata": {},
   "source": [
    "(원칙2) local과 global에서 같은 이름 'x'가 각각 정의되어 있는 경우? global의 변수와 local의 변수는 각각 따로 행동하여 서로 영향을 주지 않는다. (독립적이다)"
   ]
  },
  {
   "cell_type": "markdown",
   "id": "649645d8-4637-48a9-b0f7-4d3cf51bc580",
   "metadata": {},
   "source": [
    "- 만약에 local에 global의 변수를 같이 쓰고 있었다고 할지라도, 추후 새롭게 local에 이름이 새롭게 정의된다면 그 순간 local과 global의 변수를 각자 따로 행동하며 서로 영향을 주지 않는다.$\\to$ 아래예제 확인"
   ]
  },
  {
   "cell_type": "code",
   "execution_count": 19,
   "id": "b3f3e7a0-3111-4f73-860f-fca02fb5171a",
   "metadata": {},
   "outputs": [],
   "source": [
    "x = 10\n",
    "def f():\n",
    "    print(x)"
   ]
  },
  {
   "cell_type": "code",
   "execution_count": 20,
   "id": "2387767b-a63a-4786-abbb-37ace4b588ef",
   "metadata": {},
   "outputs": [
    {
     "name": "stdout",
     "output_type": "stream",
     "text": [
      "10\n"
     ]
    }
   ],
   "source": [
    "f() # x를 빌려쓰는 신세"
   ]
  },
  {
   "cell_type": "code",
   "execution_count": 23,
   "id": "69ab71a7-03ed-4934-8582-b6283ab376c0",
   "metadata": {},
   "outputs": [],
   "source": [
    "def f():\n",
    "    x = 20 # 이제 새롭게 x를 정의했으니까\n",
    "    print(x)"
   ]
  },
  {
   "cell_type": "code",
   "execution_count": 25,
   "id": "b580fc28-bab3-4b4f-8f5e-09f13d42059c",
   "metadata": {},
   "outputs": [
    {
     "name": "stdout",
     "output_type": "stream",
     "text": [
      "20\n"
     ]
    }
   ],
   "source": [
    "f() # 다른길을 간다."
   ]
  },
  {
   "cell_type": "markdown",
   "id": "e8378792-0875-44c9-97a7-ee3b61da254e",
   "metadata": {},
   "source": [
    "`-` 이전에 공부하였던 인스턴스변수와 클래스변수 역시 비슷한 행동을 보인다."
   ]
  },
  {
   "cell_type": "code",
   "execution_count": 29,
   "id": "3cee9bc6-cd9f-4f90-8274-2743b6d1b9e0",
   "metadata": {},
   "outputs": [],
   "source": [
    "class Moo:\n",
    "    x = 0 # 클래스 변수"
   ]
  },
  {
   "cell_type": "code",
   "execution_count": 30,
   "id": "c5d96f65-274d-4ff2-b2bc-c0517ef620d0",
   "metadata": {},
   "outputs": [],
   "source": [
    "moo=Moo()"
   ]
  },
  {
   "cell_type": "markdown",
   "id": "3217ef2c-a1f5-4503-bfb9-c715be2b0da9",
   "metadata": {},
   "source": [
    "(관찰1)"
   ]
  },
  {
   "cell_type": "code",
   "execution_count": 32,
   "id": "7fd38a37-6e5d-467b-8170-cb04d5f9158a",
   "metadata": {},
   "outputs": [
    {
     "data": {
      "text/plain": [
       "(0, 0)"
      ]
     },
     "execution_count": 32,
     "metadata": {},
     "output_type": "execute_result"
    }
   ],
   "source": [
    "Moo.x, moo.x"
   ]
  },
  {
   "cell_type": "markdown",
   "id": "e905d732-1258-4345-905d-5dfc5c023483",
   "metadata": {},
   "source": [
    "- moo.x는 사실 정의한적이 없지만 Moo.x를 빌려쓰고 있다. (원칙1)"
   ]
  },
  {
   "cell_type": "markdown",
   "id": "700a8018-7bc4-48fe-82f0-4695280493a2",
   "metadata": {},
   "source": [
    "(관찰2)"
   ]
  },
  {
   "cell_type": "code",
   "execution_count": 33,
   "id": "f4ac5757-a411-4f43-9183-46e6650e2046",
   "metadata": {},
   "outputs": [],
   "source": [
    "Moo.x = 100"
   ]
  },
  {
   "cell_type": "code",
   "execution_count": 34,
   "id": "28cffbf7-304c-48dd-8ad4-91e4288a10a3",
   "metadata": {},
   "outputs": [
    {
     "data": {
      "text/plain": [
       "(100, 100)"
      ]
     },
     "execution_count": 34,
     "metadata": {},
     "output_type": "execute_result"
    }
   ],
   "source": [
    "Moo.x, moo.x"
   ]
  },
  {
   "cell_type": "markdown",
   "id": "375a3b3d-9563-4e09-abc7-dd2093b0d70c",
   "metadata": {},
   "source": [
    "- Moo.x를 변화시키면 moo.x도 변화한다. (빌려쓰고 있는 것이니까, 원칙1의 재확인)"
   ]
  },
  {
   "cell_type": "markdown",
   "id": "b13ddb54-e921-428c-b97a-a5d49f03542e",
   "metadata": {},
   "source": [
    "(관찰3)"
   ]
  },
  {
   "cell_type": "code",
   "execution_count": 35,
   "id": "774c86ff-08ef-4948-9549-ac6a6b6e7db7",
   "metadata": {},
   "outputs": [],
   "source": [
    "moo.x = 200"
   ]
  },
  {
   "cell_type": "code",
   "execution_count": 36,
   "id": "f69eb240-0f39-4fc6-8673-e730cd92d715",
   "metadata": {},
   "outputs": [
    {
     "data": {
      "text/plain": [
       "(100, 200)"
      ]
     },
     "execution_count": 36,
     "metadata": {},
     "output_type": "execute_result"
    }
   ],
   "source": [
    "Moo.x, moo.x"
   ]
  },
  {
   "cell_type": "markdown",
   "id": "213911ca-6d5e-4307-9699-0e54a803b6bf",
   "metadata": {},
   "source": [
    "- moo.x=200을 하는 순간 새롭게 인스턴스변수를 선언한 셈이된다. 따라서 원칙2가 적용되어 이제부터 Moo.x와 moo.x는 서로 독립적으로 행동한다."
   ]
  },
  {
   "cell_type": "markdown",
   "id": "3c0846cf-00a2-43ef-9e5f-036376798d22",
   "metadata": {},
   "source": [
    "(관찰4)"
   ]
  },
  {
   "cell_type": "code",
   "execution_count": 37,
   "id": "00c6a504-c543-4bc2-ba32-726f2f320211",
   "metadata": {},
   "outputs": [],
   "source": [
    "Moo.x = -99"
   ]
  },
  {
   "cell_type": "code",
   "execution_count": 38,
   "id": "8bdbdccb-737a-4543-85ba-35e1372fa491",
   "metadata": {},
   "outputs": [
    {
     "data": {
      "text/plain": [
       "(-99, 200)"
      ]
     },
     "execution_count": 38,
     "metadata": {},
     "output_type": "execute_result"
    }
   ],
   "source": [
    "Moo.x, moo.x"
   ]
  },
  {
   "cell_type": "code",
   "execution_count": 39,
   "id": "3fa0c09d-f1f6-4c2a-9268-26e714bd773e",
   "metadata": {},
   "outputs": [],
   "source": [
    "moo.x = 99"
   ]
  },
  {
   "cell_type": "code",
   "execution_count": 40,
   "id": "64a1b34b-9488-45e2-b986-dd8f6452d417",
   "metadata": {},
   "outputs": [
    {
     "data": {
      "text/plain": [
       "(-99, 99)"
      ]
     },
     "execution_count": 40,
     "metadata": {},
     "output_type": "execute_result"
    }
   ],
   "source": [
    "Moo.x, moo.x"
   ]
  },
  {
   "cell_type": "markdown",
   "id": "d6e22aae-3ade-4c38-9ab5-a346ad2daf4d",
   "metadata": {},
   "source": [
    "- Moo.x를 바꾼다고 해서 moo.x가 영향받지 않고 moo.x를 바꿔도 Moo.x가 영향받지 않음. (완전히 독립, 원칙2의 재확인)"
   ]
  },
  {
   "cell_type": "markdown",
   "id": "7c88a932-a542-438b-be4c-8a344328cf2a",
   "metadata": {},
   "source": [
    "### `-` 포인트 ($\\star$)\n",
    "- (1) 클래스변수와 인스턴스 변수의 구분 \n",
    "\n",
    "- (2) 인스턴스 변수가 정의되지 않으면 클래스변수를 빌려쓸 수 있음(클래스변수가 상위개념) \n",
    "\n",
    "- (3) 인스턴스변수와 클래스변수가 같은 이름으로 저장되어 있으면 각각 독립적으로 행동"
   ]
  },
  {
   "cell_type": "markdown",
   "id": "da8ee11d-45c2-4237-b0b4-d52a83a3a71d",
   "metadata": {},
   "source": [
    "## 인스턴스 메서드"
   ]
  },
  {
   "cell_type": "markdown",
   "id": "c55b9a17-de30-4452-9a3b-b5a62bdc5574",
   "metadata": {},
   "source": [
    "`-` self 비밀: 사실 클래스에서 정의된 함수의 첫번째 인자의 이름이 꼭 self일 필요는 없다. (무엇으로 전달하든 클래스 안에서 정의된 메소드의 첫번째 인자는 기본적으로 태명역할을 한다.)"
   ]
  },
  {
   "cell_type": "code",
   "execution_count": 41,
   "id": "29faaab3-cbd2-4aae-9c6c-115ec153b0e6",
   "metadata": {},
   "outputs": [],
   "source": [
    "class Moo:\n",
    "    def __init__(self):\n",
    "        self.name = 'jordy'\n",
    "    def f(self):\n",
    "        print(self.name)"
   ]
  },
  {
   "cell_type": "code",
   "execution_count": 42,
   "id": "30cc5a45-7456-4fcd-af61-6bea35f3c0fe",
   "metadata": {},
   "outputs": [],
   "source": [
    "moo = Moo()"
   ]
  },
  {
   "cell_type": "code",
   "execution_count": 43,
   "id": "6520c404-355d-4d38-851c-bb7ccf01b54d",
   "metadata": {},
   "outputs": [
    {
     "data": {
      "text/plain": [
       "'jordy'"
      ]
     },
     "execution_count": 43,
     "metadata": {},
     "output_type": "execute_result"
    }
   ],
   "source": [
    "moo.name"
   ]
  },
  {
   "cell_type": "code",
   "execution_count": 44,
   "id": "64937ce7-fa78-4af3-85e3-73d01052b793",
   "metadata": {},
   "outputs": [
    {
     "name": "stdout",
     "output_type": "stream",
     "text": [
      "jordy\n"
     ]
    }
   ],
   "source": [
    "moo.f()"
   ]
  },
  {
   "cell_type": "markdown",
   "id": "de2e9d0a-a874-4498-99a7-772a58ea4eb0",
   "metadata": {},
   "source": [
    "- 꼭 위와 같이 할 필요는 없다."
   ]
  },
  {
   "cell_type": "code",
   "execution_count": 50,
   "id": "89d9722b-6183-4c61-9231-caad5fae252e",
   "metadata": {},
   "outputs": [],
   "source": [
    "class Moo:\n",
    "    def __init__(abab):\n",
    "        abab.name = 'jordy'\n",
    "    def f(cdcd):\n",
    "        print(cdcd.name)"
   ]
  },
  {
   "cell_type": "code",
   "execution_count": 51,
   "id": "c37d6e12-43e1-4b05-937f-5777c8d2ef08",
   "metadata": {},
   "outputs": [],
   "source": [
    "moo = Moo()"
   ]
  },
  {
   "cell_type": "code",
   "execution_count": 52,
   "id": "914e33f5-086f-441c-abac-8e17d72a364d",
   "metadata": {},
   "outputs": [
    {
     "data": {
      "text/plain": [
       "'jordy'"
      ]
     },
     "execution_count": 52,
     "metadata": {},
     "output_type": "execute_result"
    }
   ],
   "source": [
    "moo.name"
   ]
  },
  {
   "cell_type": "code",
   "execution_count": 53,
   "id": "47378590-767c-422a-bf86-e5f64c7d2ca3",
   "metadata": {},
   "outputs": [
    {
     "name": "stdout",
     "output_type": "stream",
     "text": [
      "jordy\n"
     ]
    }
   ],
   "source": [
    "moo.f()"
   ]
  },
  {
   "cell_type": "markdown",
   "id": "45aa4fae-1454-4301-af1f-6e6f2987cd83",
   "metadata": {},
   "source": [
    "`-` 인스턴스 메서드: 위의 `__init__`와 `f`와 같이 첫번째 인자를 인스턴스의 태명으로 받는 함수를 인스턴스 메서드 (간단히 메서드) 라고 한다.\n",
    "\n",
    "- 인스턴스 메소드는 `self.f()`와 같이 사용한다. 의미는 `f(self)` 이다."
   ]
  },
  {
   "cell_type": "code",
   "execution_count": 54,
   "id": "2749bec7-dcaf-4c66-949f-ad71989b82ca",
   "metadata": {},
   "outputs": [],
   "source": [
    "moo.name = 'chunsik'"
   ]
  },
  {
   "cell_type": "code",
   "execution_count": 55,
   "id": "f1609f27-10cf-4724-8b13-975860629e89",
   "metadata": {},
   "outputs": [
    {
     "data": {
      "text/plain": [
       "'chunsik'"
      ]
     },
     "execution_count": 55,
     "metadata": {},
     "output_type": "execute_result"
    }
   ],
   "source": [
    "moo.name"
   ]
  },
  {
   "cell_type": "code",
   "execution_count": 56,
   "id": "68f01c69-d268-4b0c-b3c4-bdb553f61be5",
   "metadata": {},
   "outputs": [],
   "source": [
    "moo.__init__()"
   ]
  },
  {
   "cell_type": "code",
   "execution_count": 58,
   "id": "d5a81f90-dec5-40e6-a091-790459c24398",
   "metadata": {},
   "outputs": [
    {
     "data": {
      "text/plain": [
       "'jordy'"
      ]
     },
     "execution_count": 58,
     "metadata": {},
     "output_type": "execute_result"
    }
   ],
   "source": [
    "moo.name # 인스턴스 메서드의 사용예시: self.__init__()의 꼴로 사용"
   ]
  },
  {
   "cell_type": "markdown",
   "id": "eb3f59bc-830b-4b71-9a90-a206507f2a5f",
   "metadata": {},
   "source": [
    "- 오 신기하다."
   ]
  },
  {
   "cell_type": "markdown",
   "id": "0df29dba-903f-4f5b-b859-0812240b9544",
   "metadata": {},
   "source": [
    "`-` 아래와 같이 사용할 수 없다."
   ]
  },
  {
   "cell_type": "code",
   "execution_count": 59,
   "id": "464ac3f8-6b8e-44eb-bcde-b405d726eb3a",
   "metadata": {},
   "outputs": [
    {
     "ename": "TypeError",
     "evalue": "__init__() missing 1 required positional argument: 'abab'",
     "output_type": "error",
     "traceback": [
      "\u001b[0;31m---------------------------------------------------------------------------\u001b[0m",
      "\u001b[0;31mTypeError\u001b[0m                                 Traceback (most recent call last)",
      "Cell \u001b[0;32mIn[59], line 1\u001b[0m\n\u001b[0;32m----> 1\u001b[0m \u001b[43mMoo\u001b[49m\u001b[38;5;241;43m.\u001b[39;49m\u001b[38;5;21;43m__init__\u001b[39;49m\u001b[43m(\u001b[49m\u001b[43m)\u001b[49m\n",
      "\u001b[0;31mTypeError\u001b[0m: __init__() missing 1 required positional argument: 'abab'"
     ]
    }
   ],
   "source": [
    "Moo.__init__() # 인스턴스가 들어와야하는데 클래스가 들어와버려서 이렇게 쓸순 없다."
   ]
  },
  {
   "cell_type": "markdown",
   "id": "f626eed6-a696-4c5f-b8ba-2822bdf37a91",
   "metadata": {},
   "source": [
    "- 인스턴스 메소드이기때문에 에러가 난다. 즉, 첫번째 입력 (`.__init__()`앞에)에 인스턴스가 들어가야 하는데 클래스가 들어와버렸다."
   ]
  },
  {
   "cell_type": "markdown",
   "id": "208e542a-8fd2-4a5d-982d-9312e916a1c5",
   "metadata": {},
   "source": [
    "## 클래스 메서드"
   ]
  },
  {
   "cell_type": "markdown",
   "id": "52035081-9a4b-4ac0-8aac-16c9fce7fe40",
   "metadata": {},
   "source": [
    "`-` 클래스 메서드: 함수의 첫 인자로 클래스오브젝트를 받는 메서드를 클래스메서드라고 한다."
   ]
  },
  {
   "cell_type": "markdown",
   "id": "1e7ac85b-a9b9-4f27-b1a4-5b9690ed9eef",
   "metadata": {},
   "source": [
    "`-` 목표: `Moo.f()` 와 같은 형태로 사용할 수 있는 함수를 만들어 보자. $\\to$ 클래스메서드를 만들어보자."
   ]
  },
  {
   "cell_type": "code",
   "execution_count": 60,
   "id": "34173d90-e631-4a0a-9af5-2f7a25cc6a20",
   "metadata": {},
   "outputs": [],
   "source": [
    "class Moo:\n",
    "    def f(self): # 클래스 안에서 함수를 선언하면 디폴트로 인스턴스 메서드가 만들어진다.\n",
    "        print('인스턴스 메서드') "
   ]
  },
  {
   "cell_type": "code",
   "execution_count": 61,
   "id": "e379f9a1-73c9-429e-bad9-2ad614525190",
   "metadata": {},
   "outputs": [],
   "source": [
    "moo = Moo()"
   ]
  },
  {
   "cell_type": "code",
   "execution_count": 62,
   "id": "6706744b-1b11-47e2-ab0f-e12832d801c2",
   "metadata": {},
   "outputs": [
    {
     "name": "stdout",
     "output_type": "stream",
     "text": [
      "인스턴스 메서드\n"
     ]
    }
   ],
   "source": [
    "moo.f()"
   ]
  },
  {
   "cell_type": "code",
   "execution_count": 63,
   "id": "be258178-4d3c-4f19-8390-bbb658586298",
   "metadata": {},
   "outputs": [
    {
     "ename": "TypeError",
     "evalue": "f() missing 1 required positional argument: 'self'",
     "output_type": "error",
     "traceback": [
      "\u001b[0;31m---------------------------------------------------------------------------\u001b[0m",
      "\u001b[0;31mTypeError\u001b[0m                                 Traceback (most recent call last)",
      "Cell \u001b[0;32mIn[63], line 1\u001b[0m\n\u001b[0;32m----> 1\u001b[0m \u001b[43mMoo\u001b[49m\u001b[38;5;241;43m.\u001b[39;49m\u001b[43mf\u001b[49m\u001b[43m(\u001b[49m\u001b[43m)\u001b[49m\n",
      "\u001b[0;31mTypeError\u001b[0m: f() missing 1 required positional argument: 'self'"
     ]
    }
   ],
   "source": [
    "Moo.f() # 인스턴스 메서드니까 안되는게 당연"
   ]
  },
  {
   "cell_type": "code",
   "execution_count": 64,
   "id": "cef2d68d-8dfb-4744-b220-597180e4e99c",
   "metadata": {},
   "outputs": [],
   "source": [
    "class Moo:\n",
    "    @classmethod\n",
    "    def f(cls): # 함수의 첫 인자로 클래스오브젝트를 받는다. cls는 클래스 Moo의 별명? 이라고 생각하면 된다.\n",
    "        print('클래스 메서드')"
   ]
  },
  {
   "cell_type": "code",
   "execution_count": 65,
   "id": "1bb875ae-f4cd-40df-8b51-23994146c259",
   "metadata": {},
   "outputs": [],
   "source": [
    "moo = Moo()"
   ]
  },
  {
   "cell_type": "code",
   "execution_count": 66,
   "id": "51a82a18-d9c8-4cd1-ba1c-fdd0d83461ae",
   "metadata": {},
   "outputs": [
    {
     "name": "stdout",
     "output_type": "stream",
     "text": [
      "클래스 메서드\n"
     ]
    }
   ],
   "source": [
    "Moo.f()"
   ]
  },
  {
   "cell_type": "code",
   "execution_count": 68,
   "id": "50ece97d-0768-48ad-b941-44ead1179495",
   "metadata": {},
   "outputs": [
    {
     "name": "stdout",
     "output_type": "stream",
     "text": [
      "클래스 메서드\n"
     ]
    }
   ],
   "source": [
    "moo.f() # 인스턴스 메서드를 따로 정의한적은 없지만 같은 이름의 클래스 메서드가 있으므로 빌려와서 씀!"
   ]
  },
  {
   "cell_type": "markdown",
   "id": "7ecdc108-3cbf-47df-a4fe-1834eb023094",
   "metadata": {},
   "source": [
    "`-` 예제"
   ]
  },
  {
   "cell_type": "code",
   "execution_count": 70,
   "id": "e21f2657-36b6-4001-9096-89ba978c1c21",
   "metadata": {},
   "outputs": [],
   "source": [
    "class Moo:\n",
    "    @classmethod\n",
    "    def set_class_x(cls, value): # 클래스 메서드\n",
    "        cls.x = value # 클래스변수선언, Moo.x = value와 같은 코드!\n",
    "    def set_instance_x(self, value): # 인스턴스 메서드\n",
    "        self.x = value # 인스턴스 변수선언"
   ]
  },
  {
   "cell_type": "code",
   "execution_count": 71,
   "id": "64028664-574b-4674-93cd-eebfda2f89a5",
   "metadata": {},
   "outputs": [],
   "source": [
    "moo = Moo()"
   ]
  },
  {
   "cell_type": "code",
   "execution_count": 74,
   "id": "71c360a9-9e8c-4b75-bdc1-af7c74fb4649",
   "metadata": {},
   "outputs": [],
   "source": [
    "Moo.set_class_x(10) # 클래스메서드로 클래스변수에 10을 설정"
   ]
  },
  {
   "cell_type": "code",
   "execution_count": 75,
   "id": "e2f448fd-e4bc-46bd-a100-271609b15ef6",
   "metadata": {},
   "outputs": [
    {
     "data": {
      "text/plain": [
       "10"
      ]
     },
     "execution_count": 75,
     "metadata": {},
     "output_type": "execute_result"
    }
   ],
   "source": [
    "Moo.x"
   ]
  },
  {
   "cell_type": "code",
   "execution_count": 77,
   "id": "11e39253-3b15-4f2e-9236-6f61a26aa89a",
   "metadata": {},
   "outputs": [
    {
     "ename": "TypeError",
     "evalue": "set_instance_x() missing 1 required positional argument: 'value'",
     "output_type": "error",
     "traceback": [
      "\u001b[0;31m---------------------------------------------------------------------------\u001b[0m",
      "\u001b[0;31mTypeError\u001b[0m                                 Traceback (most recent call last)",
      "Cell \u001b[0;32mIn[77], line 1\u001b[0m\n\u001b[0;32m----> 1\u001b[0m \u001b[43mMoo\u001b[49m\u001b[38;5;241;43m.\u001b[39;49m\u001b[43mset_instance_x\u001b[49m\u001b[43m(\u001b[49m\u001b[38;5;241;43m10\u001b[39;49m\u001b[43m)\u001b[49m \u001b[38;5;66;03m# 클래스에서 인스턴스 메서드 사용 -> 사용불가\u001b[39;00m\n",
      "\u001b[0;31mTypeError\u001b[0m: set_instance_x() missing 1 required positional argument: 'value'"
     ]
    }
   ],
   "source": [
    "Moo.set_instance_x(10) # 클래스에서 인스턴스 메서드 사용 -> 사용불가"
   ]
  },
  {
   "cell_type": "code",
   "execution_count": 79,
   "id": "f9cc2304-75b5-4474-b229-f0ee7571bb77",
   "metadata": {},
   "outputs": [
    {
     "data": {
      "text/plain": [
       "(10, 10)"
      ]
     },
     "execution_count": 79,
     "metadata": {},
     "output_type": "execute_result"
    }
   ],
   "source": [
    "Moo.x, moo.x # 인스턴스변수는 따로 설정하지 않았지만 클래스 변수값을 빌려쓰고 있음"
   ]
  },
  {
   "cell_type": "code",
   "execution_count": 83,
   "id": "296ffe13-ea42-42f3-bf8f-d6dd4429b694",
   "metadata": {},
   "outputs": [],
   "source": [
    "moo.set_class_x(20) # 인스턴스에서는 원래 set_class_x 라는 메서드는 없지만 클래스에서 빌려씀"
   ]
  },
  {
   "cell_type": "code",
   "execution_count": 86,
   "id": "3b24c721-652e-4456-b53f-2de83e62db53",
   "metadata": {},
   "outputs": [
    {
     "data": {
      "text/plain": [
       "(20, 20)"
      ]
     },
     "execution_count": 86,
     "metadata": {},
     "output_type": "execute_result"
    }
   ],
   "source": [
    "Moo.x, moo.x # 현재 moo.x(인스턴스)는 클래스 변수를 빌려쓰고 있는 상황이므로 같이 바뀜"
   ]
  },
  {
   "cell_type": "code",
   "execution_count": 88,
   "id": "75952d33-02fb-4a87-b485-962fdd4d60fd",
   "metadata": {},
   "outputs": [],
   "source": [
    "moo.set_instance_x(-20) \n",
    "# 인스턴스에서 인스턴스 메서드를 사용하여 인스턴스 변수값을 -20으로 설정 \n",
    "# -> 이때부터 인스턴스 변수와 클래스 변수는 서로 독립적인 노선을 간다."
   ]
  },
  {
   "cell_type": "code",
   "execution_count": 90,
   "id": "637cb3e4-18b7-4851-96ae-2a586ae7590e",
   "metadata": {},
   "outputs": [
    {
     "data": {
      "text/plain": [
       "(30, -20)"
      ]
     },
     "execution_count": 90,
     "metadata": {},
     "output_type": "execute_result"
    }
   ],
   "source": [
    "Moo.set_class_x(30) # 독립적인 노선을 가기로 헀으므로 클래스변수만 30으로 바뀜.\n",
    "Moo.x, moo.x"
   ]
  },
  {
   "cell_type": "code",
   "execution_count": 91,
   "id": "55cdb31c-fd51-4e66-b5e5-e62c4ae77ddc",
   "metadata": {},
   "outputs": [],
   "source": [
    "moo.set_class_x(-40) # 여전히 인스턴스에서 set_class_x라는 함수는 없으므로 클래스메소드를 빌려쓰고 있음."
   ]
  },
  {
   "cell_type": "markdown",
   "id": "0ff87f30-7296-4315-964c-99b7f6a58290",
   "metadata": {},
   "source": [
    "## 스태틱 메서드"
   ]
  },
  {
   "cell_type": "markdown",
   "id": "b5db3ab1-ec6e-4abf-9b97-06a1ed000bc6",
   "metadata": {},
   "source": [
    "`-` 스태틱 메서드: 첫 인자로 인스턴스와 클래스 모두 받지 않음. (클래스안에 정의되어 있지만 그냥 함수와 같음)"
   ]
  },
  {
   "cell_type": "code",
   "execution_count": 92,
   "id": "01ed57ee-22f8-4410-88ba-e4792c339850",
   "metadata": {},
   "outputs": [],
   "source": [
    "class Cals:\n",
    "    @staticmethod\n",
    "    def add(a,b):\n",
    "        return a+b\n",
    "    @staticmethod\n",
    "    def sub(a,b):\n",
    "        return a-b"
   ]
  },
  {
   "cell_type": "code",
   "execution_count": 93,
   "id": "142684bd-9df1-42fe-940f-d8442fd0f1a5",
   "metadata": {},
   "outputs": [],
   "source": [
    "fs = Cals()"
   ]
  },
  {
   "cell_type": "code",
   "execution_count": 94,
   "id": "dc373f33-128f-4ff4-b8a0-484a2baea673",
   "metadata": {},
   "outputs": [
    {
     "data": {
      "text/plain": [
       "3"
      ]
     },
     "execution_count": 94,
     "metadata": {},
     "output_type": "execute_result"
    }
   ],
   "source": [
    "fs.add(1,2)"
   ]
  },
  {
   "cell_type": "code",
   "execution_count": 95,
   "id": "6fd65cb6-e66b-4f26-a67f-79b426d645e6",
   "metadata": {},
   "outputs": [
    {
     "data": {
      "text/plain": [
       "-1"
      ]
     },
     "execution_count": 95,
     "metadata": {},
     "output_type": "execute_result"
    }
   ],
   "source": [
    "fs.sub(1,2)"
   ]
  },
  {
   "cell_type": "markdown",
   "id": "01fff10b-0e01-4027-9ac3-8b028801f594",
   "metadata": {},
   "source": [
    "- fs는 그냥 함수들을 묶어놓은 느낌? 정리하기 편하게?"
   ]
  }
 ],
 "metadata": {
  "kernelspec": {
   "display_name": "Python 3",
   "language": "python",
   "name": "python3"
  },
  "language_info": {
   "codemirror_mode": {
    "name": "ipython",
    "version": 3
   },
   "file_extension": ".py",
   "mimetype": "text/x-python",
   "name": "python",
   "nbconvert_exporter": "python",
   "pygments_lexer": "ipython3",
   "version": "3.8.16"
  }
 },
 "nbformat": 4,
 "nbformat_minor": 5
}
