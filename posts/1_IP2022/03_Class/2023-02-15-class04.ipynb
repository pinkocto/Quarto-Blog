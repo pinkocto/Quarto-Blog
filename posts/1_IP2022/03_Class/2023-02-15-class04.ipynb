{
 "cells": [
  {
   "cell_type": "raw",
   "id": "c5ff6d9e-c805-4745-9607-3853127cc005",
   "metadata": {},
   "source": [
    "---\n",
    "title: '**[IP2022]** class 4단계'\n",
    "author: 'jiyun Lim'\n",
    "date: '02/15/2023'\n",
    "categories:\n",
    "  - class\n",
    "  - Python\n",
    "---"
   ]
  },
  {
   "cell_type": "markdown",
   "id": "158a288a-b39a-4200-a7f8-abd14079248d",
   "metadata": {},
   "source": [
    "# 클래스 공부 4단계\n",
    "> 프린트 가로채기 `__str__`, `__repr__` (파이썬의 비밀2,3)"
   ]
  },
  {
   "cell_type": "markdown",
   "id": "c08ee073-d463-4bd8-9fd5-5127a98f944f",
   "metadata": {},
   "source": [
    "## Contents\n",
    "> 1. motivating example\n",
    "> 2. `__str__`, 파이썬의 비밀2\n",
    "> 3. `__repr__`, 파이썬의 비밀3\n",
    "> 4. 주피터 노트북의 비밀 (`_repr_html_`), `__repr__`와 `__str__`의 우선적용 순위"
   ]
  },
  {
   "cell_type": "markdown",
   "id": "f8c00d9f-6522-49ba-ac9c-1b26c28011e4",
   "metadata": {},
   "source": [
    "## imports"
   ]
  },
  {
   "cell_type": "code",
   "execution_count": 11,
   "id": "5f09a394-996e-490d-b6fb-f5a2ff5c1c9d",
   "metadata": {},
   "outputs": [],
   "source": [
    "import numpy as np"
   ]
  },
  {
   "cell_type": "markdown",
   "id": "178a41c0-eda7-4ba0-aa83-f2b5eed0fe0e",
   "metadata": {},
   "source": [
    "## 01. Motivating Example"
   ]
  },
  {
   "cell_type": "markdown",
   "id": "94808509-f194-423d-847e-e9da034c7a77",
   "metadata": {},
   "source": [
    "### `-` 가위바위보"
   ]
  },
  {
   "cell_type": "markdown",
   "id": "537f711b-d6d7-48b2-8738-656556e816c3",
   "metadata": {},
   "source": [
    "#### class1 review"
   ]
  },
  {
   "cell_type": "code",
   "execution_count": 14,
   "id": "ab1bf520-7971-4b68-b4fd-9d6b2381f054",
   "metadata": {},
   "outputs": [],
   "source": [
    "# class1 hw's review\n",
    "class RPC:\n",
    "    def throw(self):\n",
    "        print(np.random.choice(['가위','바위','보']))"
   ]
  },
  {
   "cell_type": "code",
   "execution_count": 16,
   "id": "f254aee2-9068-4c18-9ad9-291c5b857f55",
   "metadata": {},
   "outputs": [],
   "source": [
    "a = RPC()"
   ]
  },
  {
   "cell_type": "code",
   "execution_count": 22,
   "id": "ad627882-9369-487b-98ad-c3c4b5465b47",
   "metadata": {},
   "outputs": [
    {
     "name": "stdout",
     "output_type": "stream",
     "text": [
      "가위\n"
     ]
    }
   ],
   "source": [
    "a.throw()"
   ]
  },
  {
   "cell_type": "markdown",
   "id": "ec7a299c-550c-4b02-8053-0ebec93f2891",
   "metadata": {},
   "source": [
    "#### 가위,보 GAME"
   ]
  },
  {
   "cell_type": "markdown",
   "id": "bae8f407-195e-4e02-8abe-f2f290fd8ae7",
   "metadata": {},
   "source": [
    "[가위, 바위, 보] 말고 [가위, 보] 혹은 [바위, 보] 처럼 정해진 케이스가 아닌 입력으로 받고 싶을 수도 있다."
   ]
  },
  {
   "cell_type": "code",
   "execution_count": 34,
   "id": "51b1a543-e36f-4933-8389-dffc4650c03a",
   "metadata": {},
   "outputs": [],
   "source": [
    "class RPC:\n",
    "    def throw(self, candidate):\n",
    "        print(np.random.choice(candidate))"
   ]
  },
  {
   "cell_type": "code",
   "execution_count": 36,
   "id": "9049bfd0-4100-4dc2-a36f-88a47126de04",
   "metadata": {},
   "outputs": [],
   "source": [
    "a = RPC()"
   ]
  },
  {
   "cell_type": "code",
   "execution_count": 41,
   "id": "811a3529-85b1-4af1-8622-22d0f172b855",
   "metadata": {},
   "outputs": [
    {
     "name": "stdout",
     "output_type": "stream",
     "text": [
      "보\n"
     ]
    }
   ],
   "source": [
    "# throw(a, ['가위','바위','보'])\n",
    "a.throw(['가위','바위','보'])"
   ]
  },
  {
   "cell_type": "code",
   "execution_count": 57,
   "id": "ff1894ef-47a6-4128-a064-6d720f546bc9",
   "metadata": {},
   "outputs": [
    {
     "name": "stdout",
     "output_type": "stream",
     "text": [
      "가위\n"
     ]
    }
   ],
   "source": [
    "a.throw(['가위', '보']) # 보, 가위만."
   ]
  },
  {
   "cell_type": "markdown",
   "id": "12ebc056-53d5-4727-8aab-770d15db3635",
   "metadata": {},
   "source": [
    "#### 가위바위보1"
   ]
  },
  {
   "cell_type": "code",
   "execution_count": 114,
   "id": "c21fd624-3ee5-493d-a0bf-34aecef78097",
   "metadata": {},
   "outputs": [],
   "source": [
    "class RPC:\n",
    "    def __init__(self, candidate = ['가위', '바위', '보']):\n",
    "        self.candidate = candidate\n",
    "    def throw(self):\n",
    "        print(np.random.choice(self.candidate))"
   ]
  },
  {
   "cell_type": "code",
   "execution_count": 115,
   "id": "a75bcffd-a674-457f-a900-db2505461173",
   "metadata": {},
   "outputs": [],
   "source": [
    "a = RPC() # __init__ 는 암묵적으로 실행"
   ]
  },
  {
   "cell_type": "code",
   "execution_count": 116,
   "id": "ab5f9714-1f63-4665-b222-ef6ee3363654",
   "metadata": {},
   "outputs": [
    {
     "name": "stdout",
     "output_type": "stream",
     "text": [
      "보\n"
     ]
    }
   ],
   "source": [
    "a.throw()"
   ]
  },
  {
   "cell_type": "markdown",
   "id": "5e7f5e7c-968d-490f-83cb-eeea08c6d1e6",
   "metadata": {},
   "source": [
    "#### 가위바위보2 (풀어서)\n",
    "\n",
    "위의 코드 3줄과 동일한 코드이며, 풀어써보면 다음과 같다."
   ]
  },
  {
   "cell_type": "code",
   "execution_count": 72,
   "id": "cec1763b-2784-4235-9e48-6fc67cf3d600",
   "metadata": {},
   "outputs": [],
   "source": [
    "class RPC2:\n",
    "    pass"
   ]
  },
  {
   "cell_type": "code",
   "execution_count": 76,
   "id": "b7819651-35ea-48a8-8204-f0bd2d85b2ac",
   "metadata": {},
   "outputs": [],
   "source": [
    "b = RPC2() # 아무것도 없음.."
   ]
  },
  {
   "cell_type": "code",
   "execution_count": 77,
   "id": "fd3e36fa-2397-46f3-999e-bc074d9bd3d9",
   "metadata": {},
   "outputs": [],
   "source": [
    "def initt(b, candidate = ['가위','바위','보']):\n",
    "    b.candidate = candidate"
   ]
  },
  {
   "cell_type": "code",
   "execution_count": 79,
   "id": "627c21ba-6089-4571-a362-18e5611c148d",
   "metadata": {},
   "outputs": [],
   "source": [
    "initt(b)"
   ]
  },
  {
   "cell_type": "code",
   "execution_count": 82,
   "id": "88505635-f1f0-4939-a01e-49376126b9e5",
   "metadata": {},
   "outputs": [],
   "source": [
    "# 던져서 화면에 보여주는 과정까지 추가\n",
    "def throw(b):\n",
    "    print(np.random.choice(b.candidate))"
   ]
  },
  {
   "cell_type": "code",
   "execution_count": 83,
   "id": "731f28b9-318f-473f-8419-ea873d920b1d",
   "metadata": {},
   "outputs": [
    {
     "name": "stdout",
     "output_type": "stream",
     "text": [
      "보\n"
     ]
    }
   ],
   "source": [
    "throw(b)"
   ]
  },
  {
   "cell_type": "markdown",
   "id": "8ca7573c-cdd7-478e-b7ca-d8bcc38a336b",
   "metadata": {},
   "source": [
    "#### 가위바위보2 (재조합)"
   ]
  },
  {
   "cell_type": "markdown",
   "id": "a3105dea-c7a3-41ed-9bcb-a3b4a7872d83",
   "metadata": {},
   "source": [
    "풀어쓴 코드를 조합해보면?"
   ]
  },
  {
   "cell_type": "code",
   "execution_count": 84,
   "id": "d6d590e6-1406-4bc2-9e1b-5db5aa679692",
   "metadata": {},
   "outputs": [],
   "source": [
    "class RPC2:\n",
    "    def __init__(self, candidate = ['가위','바위','보']):\n",
    "        self.candidate = candidate\n",
    "    def throw(self):\n",
    "        print(np.random.choice(self.candidate))"
   ]
  },
  {
   "cell_type": "code",
   "execution_count": 85,
   "id": "6b9a95e9-b61c-42a5-b7a5-aae852feeb89",
   "metadata": {},
   "outputs": [],
   "source": [
    "b = RPC2()"
   ]
  },
  {
   "cell_type": "code",
   "execution_count": 89,
   "id": "b502abc9-3270-4523-a7f3-4404d8c5af2d",
   "metadata": {},
   "outputs": [
    {
     "data": {
      "text/plain": [
       "['가위', '바위', '보']"
      ]
     },
     "execution_count": 89,
     "metadata": {},
     "output_type": "execute_result"
    }
   ],
   "source": [
    "b.candidate"
   ]
  },
  {
   "cell_type": "code",
   "execution_count": 87,
   "id": "fda42309-71e8-42b3-aea3-9de0a7f91038",
   "metadata": {},
   "outputs": [
    {
     "name": "stdout",
     "output_type": "stream",
     "text": [
      "가위\n"
     ]
    }
   ],
   "source": [
    "b.throw()"
   ]
  },
  {
   "cell_type": "markdown",
   "id": "7c8ba042-74be-4ba0-9c75-aa629c685a86",
   "metadata": {},
   "source": [
    "#### throw = choose + show?"
   ]
  },
  {
   "cell_type": "markdown",
   "id": "e6c12d33-f750-4c20-ae23-79a8ccde51a8",
   "metadata": {},
   "source": [
    "생각해보니까 throw는 choose + show의 결합인 것 같다."
   ]
  },
  {
   "cell_type": "code",
   "execution_count": 124,
   "id": "491ec3fb-7c89-44c5-80a8-f72ecbfdc40b",
   "metadata": {},
   "outputs": [],
   "source": [
    "class RPC: ## 시점1\n",
    "    def __init__(self, candidate = ['가위', '바위', '보']):\n",
    "        self.candidate = candidate\n",
    "    def choose(self):\n",
    "        self.actions = np.random.choice(self.candidate)\n",
    "    def show(self):\n",
    "        print(self.actions)"
   ]
  },
  {
   "cell_type": "code",
   "execution_count": 125,
   "id": "71c348cf-1e97-4336-a0f3-7717cffcdf8b",
   "metadata": {},
   "outputs": [],
   "source": [
    "a = RPC()  ## 시점2"
   ]
  },
  {
   "cell_type": "code",
   "execution_count": 126,
   "id": "d995a559-b8a3-4aa6-9e25-3eaa848e73a3",
   "metadata": {},
   "outputs": [
    {
     "ename": "AttributeError",
     "evalue": "'RPC' object has no attribute 'actions'",
     "output_type": "error",
     "traceback": [
      "\u001b[0;31m---------------------------------------------------------------------------\u001b[0m",
      "\u001b[0;31mAttributeError\u001b[0m                            Traceback (most recent call last)",
      "Cell \u001b[0;32mIn[126], line 1\u001b[0m\n\u001b[0;32m----> 1\u001b[0m \u001b[43ma\u001b[49m\u001b[38;5;241;43m.\u001b[39;49m\u001b[43mactions\u001b[49m \u001b[38;5;66;03m## 시점3 (지금은 정의되지 않음, choose를 해야함)\u001b[39;00m\n",
      "\u001b[0;31mAttributeError\u001b[0m: 'RPC' object has no attribute 'actions'"
     ]
    }
   ],
   "source": [
    "a.actions ## 시점3 (지금은 정의되지 않음, choose를 해야함)"
   ]
  },
  {
   "cell_type": "code",
   "execution_count": 127,
   "id": "af53e101-841f-4e5a-a2e8-cfff790a820c",
   "metadata": {},
   "outputs": [],
   "source": [
    "a.choose() # 뭔가 선택했겠지?    ## 시점4"
   ]
  },
  {
   "cell_type": "code",
   "execution_count": 128,
   "id": "3f169d42-af38-4179-a43f-aa169e821b28",
   "metadata": {},
   "outputs": [
    {
     "data": {
      "text/plain": [
       "'바위'"
      ]
     },
     "execution_count": 128,
     "metadata": {},
     "output_type": "execute_result"
    }
   ],
   "source": [
    "a.actions # 바위를 선택했구만     ## 시점5 "
   ]
  },
  {
   "cell_type": "code",
   "execution_count": 129,
   "id": "cfb981c0-d797-4cd2-abc6-154aef9a5ab8",
   "metadata": {},
   "outputs": [
    {
     "name": "stdout",
     "output_type": "stream",
     "text": [
      "바위\n"
     ]
    }
   ],
   "source": [
    "a.show()   ## 시점6"
   ]
  },
  {
   "cell_type": "markdown",
   "id": "34f7001f-0506-410e-ba54-c6aa1c5e016a",
   "metadata": {},
   "source": [
    "#### **보충학습**: 시점별 분석 (throw + show)\n",
    "위와 같은 코드입니다."
   ]
  },
  {
   "cell_type": "code",
   "execution_count": 101,
   "id": "187fb67a-4c1c-4150-9eb1-05d9d37890ee",
   "metadata": {},
   "outputs": [],
   "source": [
    "class _RPC:  ## 시점1 \n",
    "    pass  # <-- 이렇게하면 아무 기능이 없는 비어있는 클래스가 정의된다."
   ]
  },
  {
   "cell_type": "code",
   "execution_count": 102,
   "id": "f83a3e85-a7a2-43a6-836c-282b5b3eeb85",
   "metadata": {},
   "outputs": [],
   "source": [
    "_a  = _RPC()  ## 시점2\n",
    "\n",
    "def _init(_a, candidate = ['가위','바위','보']):\n",
    "    _a.candidate = candidate\n",
    "    \n",
    "_init(_a)"
   ]
  },
  {
   "cell_type": "code",
   "execution_count": 105,
   "id": "ce4dc352-3b33-480e-a0ce-6d4e409deca7",
   "metadata": {},
   "outputs": [
    {
     "ename": "AttributeError",
     "evalue": "'_RPC' object has no attribute 'actions'",
     "output_type": "error",
     "traceback": [
      "\u001b[0;31m---------------------------------------------------------------------------\u001b[0m",
      "\u001b[0;31mAttributeError\u001b[0m                            Traceback (most recent call last)",
      "Cell \u001b[0;32mIn[105], line 1\u001b[0m\n\u001b[0;32m----> 1\u001b[0m \u001b[43m_a\u001b[49m\u001b[38;5;241;43m.\u001b[39;49m\u001b[43mactions\u001b[49m\n",
      "\u001b[0;31mAttributeError\u001b[0m: '_RPC' object has no attribute 'actions'"
     ]
    }
   ],
   "source": [
    "_a.actions ## 시점3"
   ]
  },
  {
   "cell_type": "code",
   "execution_count": 108,
   "id": "a632ce92-8fec-4e81-b3bc-125a11856d6e",
   "metadata": {},
   "outputs": [],
   "source": [
    "# choose 선언      ## 시점4\n",
    "def _choose(_a):\n",
    "    _a.actions = np.random.choice(_a.candidate)\n",
    "_choose(_a)"
   ]
  },
  {
   "cell_type": "code",
   "execution_count": 109,
   "id": "ca6a5ede-4b79-4753-b8f6-12cb57f3050b",
   "metadata": {},
   "outputs": [
    {
     "data": {
      "text/plain": [
       "'바위'"
      ]
     },
     "execution_count": 109,
     "metadata": {},
     "output_type": "execute_result"
    }
   ],
   "source": [
    "_a.actions  ## 시점5"
   ]
  },
  {
   "cell_type": "code",
   "execution_count": 110,
   "id": "5dadfaf2-2b60-47ee-adfb-b2f8b9e2a91e",
   "metadata": {},
   "outputs": [
    {
     "name": "stdout",
     "output_type": "stream",
     "text": [
      "바위\n"
     ]
    }
   ],
   "source": [
    "# show 선언    ## 시점6\n",
    "def _show(_a):\n",
    "    print(_a.actions)\n",
    "_show(_a)"
   ]
  },
  {
   "cell_type": "markdown",
   "id": "db632596-d34f-44b2-b9bd-0afad636e712",
   "metadata": {},
   "source": [
    "### `-` 인스턴스 $b$ 추가"
   ]
  },
  {
   "cell_type": "markdown",
   "id": "9d9811b1-ebeb-49bc-94c8-ad3c27ebd88a",
   "metadata": {},
   "source": [
    "또 다른 인스턴스 b를 만들자. b는 가위만 낼 수 있다."
   ]
  },
  {
   "cell_type": "markdown",
   "id": "70c2266d-78bc-497d-9bcf-4f45010ce2f2",
   "metadata": {},
   "source": [
    "```\n",
    "class RPC: ## 시점1\n",
    "    def __init__(self, candidate = ['가위', '바위', '보']):\n",
    "        self.candidate = candidate\n",
    "    def choose(self):\n",
    "        self.actions = np.random.choice(self.candidate)\n",
    "    def show(self):\n",
    "        print(self.actions)\n",
    "        \n",
    "```\n",
    "        "
   ]
  },
  {
   "cell_type": "code",
   "execution_count": 131,
   "id": "6aac42e1-f582-4ab0-9a2e-d81cd5d988ad",
   "metadata": {},
   "outputs": [],
   "source": [
    "b = RPC()"
   ]
  },
  {
   "cell_type": "code",
   "execution_count": 132,
   "id": "70c7acef-458c-4ed9-8cc0-25c1e332436f",
   "metadata": {},
   "outputs": [
    {
     "data": {
      "text/plain": [
       "['가위', '바위', '보']"
      ]
     },
     "execution_count": 132,
     "metadata": {},
     "output_type": "execute_result"
    }
   ],
   "source": [
    "b.candidate"
   ]
  },
  {
   "cell_type": "markdown",
   "id": "a0fbebe1-8f44-4b43-a0cb-99fd0e67552d",
   "metadata": {},
   "source": [
    "- 아무것도 없으면 b의 candidate이 가위, 가위, 보로 들어감"
   ]
  },
  {
   "cell_type": "code",
   "execution_count": 133,
   "id": "aaee76d8-ca68-4e11-ad6d-8778e2253623",
   "metadata": {},
   "outputs": [],
   "source": [
    "b = RPC(['가위']) # 가위만 포함된 리스트 전달"
   ]
  },
  {
   "cell_type": "code",
   "execution_count": 134,
   "id": "58b7937b-879d-4d59-b30e-0d32d41f5efb",
   "metadata": {},
   "outputs": [
    {
     "data": {
      "text/plain": [
       "['가위']"
      ]
     },
     "execution_count": 134,
     "metadata": {},
     "output_type": "execute_result"
    }
   ],
   "source": [
    "b.candidate"
   ]
  },
  {
   "cell_type": "code",
   "execution_count": 135,
   "id": "7cda2b07-13ae-4c96-9f8b-97528fb39db8",
   "metadata": {},
   "outputs": [
    {
     "name": "stdout",
     "output_type": "stream",
     "text": [
      "가위\n"
     ]
    }
   ],
   "source": [
    "b.choose()\n",
    "b.show()"
   ]
  },
  {
   "cell_type": "markdown",
   "id": "3aa131ee-67f6-4804-bea3-59e71dd26985",
   "metadata": {},
   "source": [
    "`-` a, b의 선택들을 모아서 기록하고 싶다."
   ]
  },
  {
   "cell_type": "code",
   "execution_count": 159,
   "id": "08b1ff47-ccf5-4b62-a7c8-6caf008fccd5",
   "metadata": {},
   "outputs": [],
   "source": [
    "class RPC: ## 시점1\n",
    "    def __init__(self, candidate = ['가위', '바위', '보']):\n",
    "        self.candidate = candidate\n",
    "        self.actions = list() ## 추가\n",
    "    def choose(self):\n",
    "        self.actions.append(np.random.choice(self.candidate)) ## 추가\n",
    "    def show(self):\n",
    "        print(self.actions)"
   ]
  },
  {
   "cell_type": "code",
   "execution_count": 160,
   "id": "ab52fef7-91c9-42a4-9b4a-93508c93611d",
   "metadata": {},
   "outputs": [],
   "source": [
    "a = RPC()\n",
    "b = RPC(['가위'])"
   ]
  },
  {
   "cell_type": "code",
   "execution_count": 161,
   "id": "c662dd10-2d17-441e-8ce1-7b18298a0486",
   "metadata": {},
   "outputs": [
    {
     "name": "stdout",
     "output_type": "stream",
     "text": [
      "['보']\n",
      "['보', '바위']\n",
      "['보', '바위', '보']\n",
      "['보', '바위', '보', '보']\n",
      "['보', '바위', '보', '보', '가위']\n"
     ]
    }
   ],
   "source": [
    "np.random.seed(123)\n",
    "for i in range(5):\n",
    "    a.choose()\n",
    "    a.show()"
   ]
  },
  {
   "cell_type": "markdown",
   "id": "422ff244-8466-4fe9-ba25-2b5291b5e801",
   "metadata": {},
   "source": [
    "- `show()` 지난 히스토리까지 다 나오니까 보기 좀 불편하댜"
   ]
  },
  {
   "cell_type": "code",
   "execution_count": 162,
   "id": "618e5912-cb13-47a5-bda7-9b8fb70f5574",
   "metadata": {},
   "outputs": [],
   "source": [
    "np.random.seed(123)\n",
    "class RPC: ## 시점1\n",
    "    def __init__(self, candidate = ['가위', '바위', '보']):\n",
    "        self.candidate = candidate\n",
    "        self.actions = list() ## 추가\n",
    "    def choose(self):\n",
    "        self.actions.append(np.random.choice(self.candidate)) ## 추가\n",
    "    def show(self):\n",
    "        print(self.actions[-1]) ### 추추가"
   ]
  },
  {
   "cell_type": "code",
   "execution_count": 163,
   "id": "632a243a-da5f-4023-b2f9-79b9dd58941b",
   "metadata": {},
   "outputs": [],
   "source": [
    "a = RPC()\n",
    "b = RPC(['가위'])"
   ]
  },
  {
   "cell_type": "code",
   "execution_count": 164,
   "id": "56a860e0-4506-43bc-b247-e53115f14096",
   "metadata": {},
   "outputs": [
    {
     "name": "stdout",
     "output_type": "stream",
     "text": [
      "보\n",
      "바위\n",
      "보\n",
      "보\n",
      "가위\n"
     ]
    }
   ],
   "source": [
    "for i in range(5):\n",
    "    a.choose()\n",
    "    a.show()"
   ]
  },
  {
   "cell_type": "code",
   "execution_count": 165,
   "id": "04351794-fe14-44af-8718-921aba2ff7f9",
   "metadata": {},
   "outputs": [
    {
     "data": {
      "text/plain": [
       "['보', '바위', '보', '보', '가위']"
      ]
     },
     "execution_count": 165,
     "metadata": {},
     "output_type": "execute_result"
    }
   ],
   "source": [
    "a.actions"
   ]
  },
  {
   "cell_type": "code",
   "execution_count": 166,
   "id": "eb9cd7ea-9c44-4fc9-8572-480abd9f1119",
   "metadata": {},
   "outputs": [
    {
     "name": "stdout",
     "output_type": "stream",
     "text": [
      "가위\n",
      "가위\n",
      "가위\n",
      "가위\n",
      "가위\n"
     ]
    }
   ],
   "source": [
    "for i in range(5):\n",
    "    b.choose()\n",
    "    b.show()"
   ]
  },
  {
   "cell_type": "code",
   "execution_count": 167,
   "id": "ded0ea41-27f4-4148-ac9a-63c325fefbaf",
   "metadata": {},
   "outputs": [
    {
     "data": {
      "text/plain": [
       "['가위', '가위', '가위', '가위', '가위']"
      ]
     },
     "execution_count": 167,
     "metadata": {},
     "output_type": "execute_result"
    }
   ],
   "source": [
    "b.actions"
   ]
  },
  {
   "cell_type": "code",
   "execution_count": 168,
   "id": "b1819a42-ce51-426c-b85a-413cd6079b67",
   "metadata": {},
   "outputs": [
    {
     "data": {
      "text/plain": [
       "(['가위', '바위', '보'], ['보', '바위', '보', '보', '가위'])"
      ]
     },
     "execution_count": 168,
     "metadata": {},
     "output_type": "execute_result"
    }
   ],
   "source": [
    "a.candidate, a.actions # (낼 수 있는 패, 내가 낸 패)"
   ]
  },
  {
   "cell_type": "code",
   "execution_count": 172,
   "id": "31189ba4-46e1-4759-a474-bd4ce4753d65",
   "metadata": {},
   "outputs": [
    {
     "data": {
      "text/plain": [
       "(['가위'], ['가위', '가위', '가위', '가위', '가위'])"
      ]
     },
     "execution_count": 172,
     "metadata": {},
     "output_type": "execute_result"
    }
   ],
   "source": [
    "b.candidate, b.actions # (낼 수 있는 패, 내가 낸 패)"
   ]
  },
  {
   "cell_type": "markdown",
   "id": "f30d18d6-b7c1-440b-a4a0-0e498af2ee4b",
   "metadata": {},
   "source": [
    "`-` info라는 함수를 만들어서 a의 오브젝트가 가지고 있는 정보를 모두 보도록 하자."
   ]
  },
  {
   "cell_type": "markdown",
   "id": "d19b0bba-7eba-48f7-ba0e-dd588f2659d0",
   "metadata": {},
   "source": [
    "(예비학습) 문자열 `\\n` 이 포함된다면?"
   ]
  },
  {
   "cell_type": "code",
   "execution_count": 175,
   "id": "d84919bc-9007-4ef6-8e31-3fe767dcdc9b",
   "metadata": {},
   "outputs": [
    {
     "data": {
      "text/plain": [
       "'클래스\\n어렵네..'"
      ]
     },
     "execution_count": 175,
     "metadata": {},
     "output_type": "execute_result"
    }
   ],
   "source": [
    "'클래스\\n어렵네..'"
   ]
  },
  {
   "cell_type": "code",
   "execution_count": 176,
   "id": "f96bcf5b-c244-4e24-aa23-0c8ed3ba3166",
   "metadata": {},
   "outputs": [
    {
     "name": "stdout",
     "output_type": "stream",
     "text": [
      "클래스\n",
      "어렵네..\n"
     ]
    }
   ],
   "source": [
    "print('클래스\\n어렵네..')"
   ]
  },
  {
   "cell_type": "markdown",
   "id": "43db9a70-1223-4e9f-9cb6-ce860e018f42",
   "metadata": {},
   "source": [
    "예비학습 끝"
   ]
  },
  {
   "cell_type": "code",
   "execution_count": 186,
   "id": "d415fd09-c83c-4c8e-ab2c-a7a86fd76d6f",
   "metadata": {},
   "outputs": [],
   "source": [
    "class RPC:\n",
    "    def __init__(self, candidate = ['가위','바위','보']):\n",
    "        self.candidate = candidate\n",
    "        self.actions = list()\n",
    "    def choose(self):\n",
    "        self.actions.append(np.random.choice(self.candidate))\n",
    "    def show(self):\n",
    "        print(self.actions[-1])      \n",
    "    def info(self):\n",
    "        print('낼 수 있는 패: {}\\n기록: {}'.format(self.candidate, self.actions))"
   ]
  },
  {
   "cell_type": "code",
   "execution_count": 187,
   "id": "6e43cd94-0ffd-4f6b-8be6-5b141a57fc20",
   "metadata": {},
   "outputs": [],
   "source": [
    "a = RPC()\n",
    "b = RPC(['가위'])"
   ]
  },
  {
   "cell_type": "code",
   "execution_count": 188,
   "id": "a9f06ab8-b6cf-4119-ad35-29f2eff57573",
   "metadata": {},
   "outputs": [
    {
     "name": "stdout",
     "output_type": "stream",
     "text": [
      "바위\n",
      "가위\n",
      "보\n",
      "가위\n",
      "바위\n"
     ]
    }
   ],
   "source": [
    "for i in range(5):\n",
    "    a.choose()\n",
    "    a.show()"
   ]
  },
  {
   "cell_type": "code",
   "execution_count": 189,
   "id": "c5e9385e-7088-4711-8696-3800bd90b3e1",
   "metadata": {},
   "outputs": [
    {
     "name": "stdout",
     "output_type": "stream",
     "text": [
      "가위\n",
      "가위\n",
      "가위\n",
      "가위\n",
      "가위\n"
     ]
    }
   ],
   "source": [
    "for i in range(5):\n",
    "    b.choose()\n",
    "    b.show()"
   ]
  },
  {
   "cell_type": "code",
   "execution_count": 190,
   "id": "84ebfba6-d522-4764-8ea9-375fa8c9c0ce",
   "metadata": {},
   "outputs": [
    {
     "name": "stdout",
     "output_type": "stream",
     "text": [
      "낼 수 있는 패: ['가위', '바위', '보']\n",
      "기록: ['바위', '가위', '보', '가위', '바위']\n"
     ]
    }
   ],
   "source": [
    "a.info()"
   ]
  },
  {
   "cell_type": "code",
   "execution_count": 191,
   "id": "ce929273-7cf4-4260-8e74-3aced9a10681",
   "metadata": {},
   "outputs": [
    {
     "name": "stdout",
     "output_type": "stream",
     "text": [
      "낼 수 있는 패: ['가위']\n",
      "기록: ['가위', '가위', '가위', '가위', '가위']\n"
     ]
    }
   ],
   "source": [
    "b.info()"
   ]
  },
  {
   "cell_type": "markdown",
   "id": "c155653e-c3d8-4856-bc75-7fd9143e88d8",
   "metadata": {},
   "source": [
    "`-` 만들고보니까 info와 print의 기능이 거의 비슷함 $\\to$ print(a)를 하면 a.info()와 동일한 효과를 내도록 만들 수 있을까?"
   ]
  },
  {
   "cell_type": "markdown",
   "id": "8746fe91-9fac-4ea4-9fca-8341314efc27",
   "metadata": {},
   "source": [
    "`-` 말도 안되는 소리같다. 왜?\n",
    "- 안될것 같은 이유1: print는 파이썬 내장기능, 내장기능을 우리가 맘대로 커스터마이징해서 쓰기는 어려울 것 같다.\n",
    "- 안될 것 같은 이유2: 이유1이 해결된다 해도 문제다. 그럼 지금까지 우리가 사용했던 수 많은 print()의 결과는 어떻게 되는가?"
   ]
  },
  {
   "cell_type": "markdown",
   "id": "3bcd3a01-7a79-4ead-bde8-3ae757921646",
   "metadata": {},
   "source": [
    "**결론은 가능하다**"
   ]
  },
  {
   "cell_type": "markdown",
   "id": "4785e8b1-eff2-4033-b514-6ddd5640b5d0",
   "metadata": {},
   "source": [
    "`-` 그런데 a의 자료형(RPC 자료형)에 해당하는 오브젝트에 한정하여 print를 수정하는 방법이 가능하다면? (그럼 다른 오브젝트들은 수정된 print에 영향을 받지 않음)"
   ]
  },
  {
   "cell_type": "markdown",
   "id": "1600498d-6497-40bb-8088-0b2da32e5a50",
   "metadata": {},
   "source": [
    "## 02. `__str__`"
   ]
  },
  {
   "cell_type": "markdown",
   "id": "2be1cb83-df09-4345-8543-4bd4503c26bc",
   "metadata": {},
   "source": [
    "`-` 관찰1: 현재 print(a)의 결과는 아래와 같다."
   ]
  },
  {
   "cell_type": "code",
   "execution_count": 192,
   "id": "de4c23c3-a554-43c2-8afc-9bf34596baf6",
   "metadata": {},
   "outputs": [
    {
     "name": "stdout",
     "output_type": "stream",
     "text": [
      "<__main__.RPC object at 0x7faaa7500850>\n"
     ]
    }
   ],
   "source": [
    "print(a)"
   ]
  },
  {
   "cell_type": "markdown",
   "id": "8951851b-d864-488f-9b0b-a83f2285df79",
   "metadata": {},
   "source": [
    "- a는 RPC클래스에서 만든 오브젝트이며 a가 저장된 메모리 주소는 0x7faaa7500850라는 의미"
   ]
  },
  {
   "cell_type": "markdown",
   "id": "e7659c30-01f5-49ea-91ff-8d4b654014f9",
   "metadata": {},
   "source": [
    "`-` 관찰2: a에는 `__str__` 이 있다."
   ]
  },
  {
   "cell_type": "code",
   "execution_count": 193,
   "id": "8878cdd5-1f2f-489a-a601-4412c757af8e",
   "metadata": {},
   "outputs": [
    {
     "data": {
      "text/plain": [
       "['__class__',\n",
       " '__delattr__',\n",
       " '__dict__',\n",
       " '__dir__',\n",
       " '__doc__',\n",
       " '__eq__',\n",
       " '__format__',\n",
       " '__ge__',\n",
       " '__getattribute__',\n",
       " '__gt__',\n",
       " '__hash__',\n",
       " '__init__',\n",
       " '__init_subclass__',\n",
       " '__le__',\n",
       " '__lt__',\n",
       " '__module__',\n",
       " '__ne__',\n",
       " '__new__',\n",
       " '__reduce__',\n",
       " '__reduce_ex__',\n",
       " '__repr__',\n",
       " '__setattr__',\n",
       " '__sizeof__',\n",
       " '__str__',\n",
       " '__subclasshook__',\n",
       " '__weakref__',\n",
       " 'actions',\n",
       " 'candidate',\n",
       " 'choose',\n",
       " 'info',\n",
       " 'show']"
      ]
     },
     "execution_count": 193,
     "metadata": {},
     "output_type": "execute_result"
    }
   ],
   "source": [
    "dir(a)"
   ]
  },
  {
   "cell_type": "code",
   "execution_count": 196,
   "id": "851d0403-8101-43ef-be84-83c27338130c",
   "metadata": {},
   "outputs": [
    {
     "data": {
      "text/plain": [
       "{'__str__'}"
      ]
     },
     "execution_count": 196,
     "metadata": {},
     "output_type": "execute_result"
    }
   ],
   "source": [
    "set(dir(a)) & {'__str__'}"
   ]
  },
  {
   "cell_type": "markdown",
   "id": "67eba01d-a54a-466f-9f3d-26063c75eb50",
   "metadata": {},
   "source": [
    "이것을 함수처럼 사용하니까 아래와 같다."
   ]
  },
  {
   "cell_type": "code",
   "execution_count": 194,
   "id": "eeadcf6a-e204-4396-9068-2cfde8597155",
   "metadata": {},
   "outputs": [
    {
     "data": {
      "text/plain": [
       "<method-wrapper '__str__' of RPC object at 0x7faaa7500850>"
      ]
     },
     "execution_count": 194,
     "metadata": {},
     "output_type": "execute_result"
    }
   ],
   "source": [
    "a.__str__"
   ]
  },
  {
   "cell_type": "code",
   "execution_count": 195,
   "id": "a15ced71-ef09-46a8-b5ba-7d084db36d50",
   "metadata": {},
   "outputs": [
    {
     "data": {
      "text/plain": [
       "'<__main__.RPC object at 0x7faaa7500850>'"
      ]
     },
     "execution_count": 195,
     "metadata": {},
     "output_type": "execute_result"
    }
   ],
   "source": [
    "a.__str__() # 클래스 안에 있는 메소드, 문자열 리턴"
   ]
  },
  {
   "cell_type": "code",
   "execution_count": 197,
   "id": "6ab88e5b-1745-46a2-af8b-f2808d672bd8",
   "metadata": {},
   "outputs": [
    {
     "name": "stdout",
     "output_type": "stream",
     "text": [
      "<__main__.RPC object at 0x7faaa7500850>\n"
     ]
    }
   ],
   "source": [
    "print(a.__str__()) # 이거 print(a)를 실행한 결과와 같다?"
   ]
  },
  {
   "cell_type": "code",
   "execution_count": 198,
   "id": "6ed0344a-8164-4ff4-812f-f0f18616e5a1",
   "metadata": {},
   "outputs": [
    {
     "name": "stdout",
     "output_type": "stream",
     "text": [
      "<__main__.RPC object at 0x7faaa7500850>\n"
     ]
    }
   ],
   "source": [
    "print(a)"
   ]
  },
  {
   "cell_type": "markdown",
   "id": "f062a01a-57b0-4423-a88b-432d700ae032",
   "metadata": {},
   "source": [
    "`-` 생각: 만약에 내가 `a.__str__()` 라는 함수를 재정의 하여 리턴값을 '너는 해킹당했다'로 바꾸게 되면 print(a)해서 나오는 결과는 어떻게 될까? (약간 해커같죠)"
   ]
  },
  {
   "cell_type": "markdown",
   "id": "31b21e41-6999-481f-8836-487816341bc8",
   "metadata": {},
   "source": [
    "(예비학습) 함수 덮어씌우기"
   ]
  },
  {
   "cell_type": "code",
   "execution_count": 199,
   "id": "b7cc8b93-a342-44c1-9f36-5e6430c90ad9",
   "metadata": {},
   "outputs": [],
   "source": [
    "def f():\n",
    "    print('asdf')"
   ]
  },
  {
   "cell_type": "code",
   "execution_count": 200,
   "id": "7d2a7cc4-c5e8-46db-88ab-985f97e0f5be",
   "metadata": {},
   "outputs": [
    {
     "name": "stdout",
     "output_type": "stream",
     "text": [
      "asdf\n"
     ]
    }
   ],
   "source": [
    "f()"
   ]
  },
  {
   "cell_type": "code",
   "execution_count": 201,
   "id": "44a3c94e-ca56-4eba-b5d1-c067c9512b51",
   "metadata": {},
   "outputs": [],
   "source": [
    "def f():\n",
    "    print('guebin hahaha')"
   ]
  },
  {
   "cell_type": "code",
   "execution_count": 202,
   "id": "3f824ca6-037b-4784-88f7-18924fab968b",
   "metadata": {},
   "outputs": [
    {
     "name": "stdout",
     "output_type": "stream",
     "text": [
      "guebin hahaha\n"
     ]
    }
   ],
   "source": [
    "f()"
   ]
  },
  {
   "cell_type": "markdown",
   "id": "866bad82-d1a1-4b29-bf80-268293f537f7",
   "metadata": {},
   "source": [
    "이런식으로 함수가 이미 정의되어 있더라도, 내가 나중에 덮어씌우면 그 함수의 기능을 다시 정의한다."
   ]
  },
  {
   "cell_type": "markdown",
   "id": "be825b56-8f4a-414a-a00d-3cea9cf2e414",
   "metadata": {},
   "source": [
    "(해킹시작)"
   ]
  },
  {
   "cell_type": "code",
   "execution_count": 212,
   "id": "d16b6b76-220d-4c8f-a289-7ff5862be48b",
   "metadata": {},
   "outputs": [],
   "source": [
    "class RPC:\n",
    "    def __init__(self, candidate=['가위','바위','보']):\n",
    "        self.candidate = candidate\n",
    "        self.actions = list()\n",
    "    def choose(self):\n",
    "        self.actions.append(np.random.choice(self.candidate))\n",
    "    def show(self):\n",
    "        print(self.actions[-1])\n",
    "    def __str__(self):\n",
    "        return '너는 해킹당했다'\n",
    "    def info(self):\n",
    "        print('낼 수 있는 패: {}\\n기록: {}'.format(self.candidate, self.actions))"
   ]
  },
  {
   "cell_type": "code",
   "execution_count": 213,
   "id": "1f6f116f-993b-4c23-ae89-7178d31a2a46",
   "metadata": {},
   "outputs": [],
   "source": [
    "a = RPC()"
   ]
  },
  {
   "cell_type": "code",
   "execution_count": 214,
   "id": "9660a1a9-5fba-4ddf-a8c1-9e9ebb0dfba5",
   "metadata": {},
   "outputs": [
    {
     "name": "stdout",
     "output_type": "stream",
     "text": [
      "너는 해킹당했다\n"
     ]
    }
   ],
   "source": [
    "print(a)"
   ]
  },
  {
   "cell_type": "markdown",
   "id": "7739c138-034d-496e-8ea3-086b809f2ab0",
   "metadata": {},
   "source": [
    "`-` `__str__` 의 리턴값을 info에서 타이핑했던 문자열로 재정의한다면?"
   ]
  },
  {
   "cell_type": "code",
   "execution_count": 215,
   "id": "45b8e3ee-27d0-4bc6-b8c1-a2cd247d25a5",
   "metadata": {},
   "outputs": [],
   "source": [
    "class RPC:\n",
    "    def __init__(self, candidate=['가위','바위','보']):\n",
    "        self.candidate = candidate\n",
    "        self.actions = list()\n",
    "    def choose(self):\n",
    "        self.actions.append(np.random.choice(self.candidate))\n",
    "    def show(self):\n",
    "        print(self.actions[-1])\n",
    "    # def info(self):\n",
    "    #     print('낼 수 있는 패: {}\\n기록: {}'.format(self.candidate, self.actions))\n",
    "    def __str__(self):\n",
    "        return('낼 수 있는 패: {}\\n기록: {}'.format(self.candidate, self.actions))"
   ]
  },
  {
   "cell_type": "code",
   "execution_count": 220,
   "id": "c34d8d4b-8706-4999-9e6d-cf6e6b78914d",
   "metadata": {},
   "outputs": [],
   "source": [
    "a = RPC()"
   ]
  },
  {
   "cell_type": "code",
   "execution_count": 221,
   "id": "9c2d2bc0-2309-41f0-9728-4ffb14720a18",
   "metadata": {},
   "outputs": [
    {
     "name": "stdout",
     "output_type": "stream",
     "text": [
      "낼 수 있는 패: ['가위', '바위', '보']\n",
      "기록: []\n"
     ]
    }
   ],
   "source": [
    "print(a)"
   ]
  },
  {
   "cell_type": "code",
   "execution_count": 222,
   "id": "68725ef8-d6d9-47f4-8a0b-9b57412e13a9",
   "metadata": {},
   "outputs": [
    {
     "name": "stdout",
     "output_type": "stream",
     "text": [
      "바위\n"
     ]
    }
   ],
   "source": [
    "a.choose()\n",
    "a.show()"
   ]
  },
  {
   "cell_type": "code",
   "execution_count": 223,
   "id": "2f413146-06af-4941-aa12-545787201a88",
   "metadata": {},
   "outputs": [
    {
     "name": "stdout",
     "output_type": "stream",
     "text": [
      "낼 수 있는 패: ['가위', '바위', '보']\n",
      "기록: ['바위']\n"
     ]
    }
   ],
   "source": [
    "print(a)"
   ]
  },
  {
   "cell_type": "code",
   "execution_count": 224,
   "id": "8a588ed3-ce23-40f2-b527-93d3fb3124ab",
   "metadata": {},
   "outputs": [
    {
     "name": "stdout",
     "output_type": "stream",
     "text": [
      "가위\n"
     ]
    }
   ],
   "source": [
    "a.choose()\n",
    "a.show()"
   ]
  },
  {
   "cell_type": "code",
   "execution_count": 225,
   "id": "470d6707-691e-4e1a-9358-804ef8730c6a",
   "metadata": {},
   "outputs": [
    {
     "name": "stdout",
     "output_type": "stream",
     "text": [
      "낼 수 있는 패: ['가위', '바위', '보']\n",
      "기록: ['바위', '가위']\n"
     ]
    }
   ],
   "source": [
    "print(a)"
   ]
  },
  {
   "cell_type": "markdown",
   "id": "a0f081e8-e767-4887-8b84-460b009c0c2e",
   "metadata": {},
   "source": [
    "### 파이썬의 비밀2"
   ]
  },
  {
   "cell_type": "markdown",
   "id": "8592a4b0-bcc7-4bd6-86b8-979fe9227cae",
   "metadata": {},
   "source": [
    "`-` `print(a)` 와 `print(a.__str__())` 는 같은 문법이다."
   ]
  },
  {
   "cell_type": "markdown",
   "id": "f7eec0c4-ee57-4636-b3c0-fd3170f77300",
   "metadata": {},
   "source": [
    "`-` 참고로 `a.__str__()` 와 `str(a)` 도 같은 방법이다."
   ]
  },
  {
   "cell_type": "code",
   "execution_count": 226,
   "id": "ef1660fb-be72-4ec0-843f-9b898c79e88e",
   "metadata": {},
   "outputs": [
    {
     "data": {
      "text/plain": [
       "\"낼 수 있는 패: ['가위', '바위', '보']\\n기록: ['바위', '가위']\""
      ]
     },
     "execution_count": 226,
     "metadata": {},
     "output_type": "execute_result"
    }
   ],
   "source": [
    "str(a)"
   ]
  },
  {
   "cell_type": "code",
   "execution_count": 227,
   "id": "f941e90c-f56a-4e9d-a5e6-a1440f4b7cc0",
   "metadata": {},
   "outputs": [
    {
     "data": {
      "text/plain": [
       "\"낼 수 있는 패: ['가위', '바위', '보']\\n기록: ['바위', '가위']\""
      ]
     },
     "execution_count": 227,
     "metadata": {},
     "output_type": "execute_result"
    }
   ],
   "source": [
    "a.__str__()"
   ]
  },
  {
   "cell_type": "markdown",
   "id": "cb5b5921-5492-4aea-9e3d-cb7c97abc00a",
   "metadata": {},
   "source": [
    "`-` 지금까지 우리가 썼던 기능을 확인!"
   ]
  },
  {
   "cell_type": "markdown",
   "id": "8c3ddf8d-84bb-4c07-abff-098d4b1df57d",
   "metadata": {},
   "source": [
    "(예제1)"
   ]
  },
  {
   "cell_type": "code",
   "execution_count": 228,
   "id": "b7d3ee69-6d27-44a1-9034-d3830b94bd4c",
   "metadata": {},
   "outputs": [],
   "source": [
    "a = [1,2,3]"
   ]
  },
  {
   "cell_type": "code",
   "execution_count": 229,
   "id": "fd3ea100-c4e7-4833-839c-93a040d66ab5",
   "metadata": {},
   "outputs": [
    {
     "name": "stdout",
     "output_type": "stream",
     "text": [
      "[1, 2, 3]\n"
     ]
    }
   ],
   "source": [
    "print(a)"
   ]
  },
  {
   "cell_type": "code",
   "execution_count": 230,
   "id": "9027e42c-bd06-4f04-ba32-eb5aaf459f6e",
   "metadata": {},
   "outputs": [
    {
     "data": {
      "text/plain": [
       "'[1, 2, 3]'"
      ]
     },
     "execution_count": 230,
     "metadata": {},
     "output_type": "execute_result"
    }
   ],
   "source": [
    "a.__str__()"
   ]
  },
  {
   "cell_type": "code",
   "execution_count": 231,
   "id": "404116a5-53ed-45b9-b32f-82c31298cdb4",
   "metadata": {},
   "outputs": [
    {
     "data": {
      "text/plain": [
       "'[1, 2, 3]'"
      ]
     },
     "execution_count": 231,
     "metadata": {},
     "output_type": "execute_result"
    }
   ],
   "source": [
    "str(a)"
   ]
  },
  {
   "cell_type": "markdown",
   "id": "ef63cec1-8824-43fb-ae44-749deff3d58b",
   "metadata": {},
   "source": [
    "(예제2)"
   ]
  },
  {
   "cell_type": "code",
   "execution_count": 232,
   "id": "331f9586-879d-4cfd-957f-1d843a91b766",
   "metadata": {},
   "outputs": [
    {
     "name": "stdout",
     "output_type": "stream",
     "text": [
      "{1, 2, 3}\n"
     ]
    }
   ],
   "source": [
    "a = {1,2,3}\n",
    "print(a)"
   ]
  },
  {
   "cell_type": "code",
   "execution_count": 233,
   "id": "a3bcf95a-a6a6-4f82-af2d-27f98b894fbd",
   "metadata": {},
   "outputs": [
    {
     "data": {
      "text/plain": [
       "'{1, 2, 3}'"
      ]
     },
     "execution_count": 233,
     "metadata": {},
     "output_type": "execute_result"
    }
   ],
   "source": [
    "str(a)"
   ]
  },
  {
   "cell_type": "code",
   "execution_count": 235,
   "id": "95c64c4c-9f74-44fc-95e9-54c65b901e10",
   "metadata": {},
   "outputs": [
    {
     "data": {
      "text/plain": [
       "'{1, 2, 3}'"
      ]
     },
     "execution_count": 235,
     "metadata": {},
     "output_type": "execute_result"
    }
   ],
   "source": [
    "a.__str__()"
   ]
  },
  {
   "cell_type": "markdown",
   "id": "f2383348-fc5f-4a04-9bbe-7f82234c1deb",
   "metadata": {},
   "source": [
    "(예제3)"
   ]
  },
  {
   "cell_type": "code",
   "execution_count": 236,
   "id": "23737a1f-b5c5-45f1-ac4b-859d972ceb0d",
   "metadata": {},
   "outputs": [
    {
     "data": {
      "text/plain": [
       "()"
      ]
     },
     "execution_count": 236,
     "metadata": {},
     "output_type": "execute_result"
    }
   ],
   "source": [
    "a = np.array(1)\n",
    "a.shape"
   ]
  },
  {
   "cell_type": "code",
   "execution_count": 237,
   "id": "83832373-b146-45cc-bba2-453884041a58",
   "metadata": {},
   "outputs": [
    {
     "data": {
      "text/plain": [
       "tuple"
      ]
     },
     "execution_count": 237,
     "metadata": {},
     "output_type": "execute_result"
    }
   ],
   "source": [
    "type(a.shape)"
   ]
  },
  {
   "cell_type": "code",
   "execution_count": 238,
   "id": "4de510ca-d7eb-4dca-a809-4de689d6fc5e",
   "metadata": {},
   "outputs": [
    {
     "name": "stdout",
     "output_type": "stream",
     "text": [
      "()\n"
     ]
    }
   ],
   "source": [
    "print(a.shape)"
   ]
  },
  {
   "cell_type": "code",
   "execution_count": 239,
   "id": "858f0785-56fd-430c-966e-182a3efbd1b3",
   "metadata": {},
   "outputs": [
    {
     "data": {
      "text/plain": [
       "'()'"
      ]
     },
     "execution_count": 239,
     "metadata": {},
     "output_type": "execute_result"
    }
   ],
   "source": [
    "a.shape.__str__()"
   ]
  },
  {
   "cell_type": "code",
   "execution_count": 240,
   "id": "c16cd833-97bb-4dc7-898b-d1cbea04805a",
   "metadata": {},
   "outputs": [
    {
     "data": {
      "text/plain": [
       "'()'"
      ]
     },
     "execution_count": 240,
     "metadata": {},
     "output_type": "execute_result"
    }
   ],
   "source": [
    "str(a.shape)"
   ]
  },
  {
   "cell_type": "markdown",
   "id": "c0d0f86a-6704-47f6-90de-dafc53860c6c",
   "metadata": {},
   "source": [
    "(예제4)"
   ]
  },
  {
   "cell_type": "code",
   "execution_count": 241,
   "id": "9afd6811-9793-4eda-b493-33885ee8441c",
   "metadata": {},
   "outputs": [
    {
     "name": "stdout",
     "output_type": "stream",
     "text": [
      "range(0, 10)\n"
     ]
    }
   ],
   "source": [
    "a = range(10)\n",
    "print(a)"
   ]
  },
  {
   "cell_type": "code",
   "execution_count": 242,
   "id": "7f0e5e72-2929-424c-951a-72264d6f90be",
   "metadata": {},
   "outputs": [
    {
     "data": {
      "text/plain": [
       "'range(0, 10)'"
      ]
     },
     "execution_count": 242,
     "metadata": {},
     "output_type": "execute_result"
    }
   ],
   "source": [
    "a.__str__()"
   ]
  },
  {
   "cell_type": "markdown",
   "id": "05400303-9e29-43d3-bc0d-b7ff1bcbe7db",
   "metadata": {},
   "source": [
    "(예제5)"
   ]
  },
  {
   "cell_type": "code",
   "execution_count": 243,
   "id": "e692f084-b54c-486e-ade6-9b6554fdd506",
   "metadata": {},
   "outputs": [
    {
     "name": "stdout",
     "output_type": "stream",
     "text": [
      "[[ 0  1  2  3  4  5  6  7  8  9]\n",
      " [10 11 12 13 14 15 16 17 18 19]\n",
      " [20 21 22 23 24 25 26 27 28 29]\n",
      " [30 31 32 33 34 35 36 37 38 39]\n",
      " [40 41 42 43 44 45 46 47 48 49]\n",
      " [50 51 52 53 54 55 56 57 58 59]\n",
      " [60 61 62 63 64 65 66 67 68 69]\n",
      " [70 71 72 73 74 75 76 77 78 79]\n",
      " [80 81 82 83 84 85 86 87 88 89]\n",
      " [90 91 92 93 94 95 96 97 98 99]]\n"
     ]
    }
   ],
   "source": [
    "a = np.arange(100).reshape(10,10)\n",
    "print(a)"
   ]
  },
  {
   "cell_type": "code",
   "execution_count": 244,
   "id": "0d00ffc2-4e0b-4df5-8673-6ba67835bf54",
   "metadata": {},
   "outputs": [
    {
     "data": {
      "text/plain": [
       "'[[ 0  1  2  3  4  5  6  7  8  9]\\n [10 11 12 13 14 15 16 17 18 19]\\n [20 21 22 23 24 25 26 27 28 29]\\n [30 31 32 33 34 35 36 37 38 39]\\n [40 41 42 43 44 45 46 47 48 49]\\n [50 51 52 53 54 55 56 57 58 59]\\n [60 61 62 63 64 65 66 67 68 69]\\n [70 71 72 73 74 75 76 77 78 79]\\n [80 81 82 83 84 85 86 87 88 89]\\n [90 91 92 93 94 95 96 97 98 99]]'"
      ]
     },
     "execution_count": 244,
     "metadata": {},
     "output_type": "execute_result"
    }
   ],
   "source": [
    "a.__str__()"
   ]
  },
  {
   "cell_type": "markdown",
   "id": "70711a45-2704-4f79-be94-51f81b58ed57",
   "metadata": {},
   "source": [
    "## 03. `__repr__`"
   ]
  },
  {
   "cell_type": "markdown",
   "id": "df7483ef-fc8d-48eb-a9f9-4b44609af813",
   "metadata": {},
   "source": [
    "`-` 생각해보니까  print를 써서 우리가 원하는 정보를 확인하는건 아니였음"
   ]
  },
  {
   "cell_type": "code",
   "execution_count": 267,
   "id": "9962aad7-62ec-47a3-af33-579799551747",
   "metadata": {},
   "outputs": [],
   "source": [
    "a = [1,2,3]"
   ]
  },
  {
   "cell_type": "code",
   "execution_count": 268,
   "id": "e32cefb9-5678-460b-b2b8-2b25e322dcab",
   "metadata": {},
   "outputs": [
    {
     "data": {
      "text/plain": [
       "[1, 2, 3]"
      ]
     },
     "execution_count": 268,
     "metadata": {},
     "output_type": "execute_result"
    }
   ],
   "source": [
    "a"
   ]
  },
  {
   "cell_type": "code",
   "execution_count": 269,
   "id": "423dddc6-aa17-49be-9c3b-a9698296ea4b",
   "metadata": {},
   "outputs": [
    {
     "name": "stdout",
     "output_type": "stream",
     "text": [
      "[1, 2, 3]\n"
     ]
    }
   ],
   "source": [
    "print(a) # print(a.__str__()) + enter ==> a + enter"
   ]
  },
  {
   "cell_type": "markdown",
   "id": "37a6fda7-544c-4908-a1a2-90c253c9a145",
   "metadata": {},
   "source": [
    "`-`` a + 엔터`를 하면 `print(a) + 엔터`를 하는 것과 같은 효과인가?"
   ]
  },
  {
   "cell_type": "markdown",
   "id": "ed5fe89a-f01f-4133-9e1a-5e650b052bea",
   "metadata": {},
   "source": [
    "(반례)"
   ]
  },
  {
   "cell_type": "code",
   "execution_count": 270,
   "id": "c19b019e-5174-4be0-825f-0f0269333c03",
   "metadata": {},
   "outputs": [],
   "source": [
    "a = np.array([1,2,3,4]).reshape(2,2)"
   ]
  },
  {
   "cell_type": "code",
   "execution_count": 271,
   "id": "f4072a61-8808-4717-8d91-cbf7b4e09089",
   "metadata": {},
   "outputs": [
    {
     "data": {
      "text/plain": [
       "array([[1, 2],\n",
       "       [3, 4]])"
      ]
     },
     "execution_count": 271,
     "metadata": {},
     "output_type": "execute_result"
    }
   ],
   "source": [
    "a"
   ]
  },
  {
   "cell_type": "code",
   "execution_count": 272,
   "id": "f63695f4-1198-4393-ae87-cd1a8937bf3a",
   "metadata": {},
   "outputs": [
    {
     "name": "stdout",
     "output_type": "stream",
     "text": [
      "[[1 2]\n",
      " [3 4]]\n"
     ]
    }
   ],
   "source": [
    "print(a)"
   ]
  },
  {
   "cell_type": "markdown",
   "id": "fe5c4f2d-5952-4139-9739-6d2b6b24a734",
   "metadata": {},
   "source": [
    "`-` `a + 엔터` 는 `print(a) + 엔터` 가 다른 경우도 있다. $\\to$ 추측: 서로 다른 숨겨진 기능이 있다! $\\to$ 결론: 그 기능은 `__repr__` 에 저장되어 있음. "
   ]
  },
  {
   "cell_type": "markdown",
   "id": "590bc4b8-079b-4a30-97e2-fa26ff313676",
   "metadata": {},
   "source": [
    "- `__repr__` 추가 전"
   ]
  },
  {
   "cell_type": "code",
   "execution_count": 273,
   "id": "890bd429-71df-477b-b020-53665257f9b2",
   "metadata": {},
   "outputs": [],
   "source": [
    "class RPC:\n",
    "    def __init__(self, candidate=['가위','바위','보']):\n",
    "        self.candidate = candidate\n",
    "        self.actions = list()\n",
    "    def choose(self):\n",
    "        self.actions.append(np.random.choice(self.candidate))\n",
    "    def show(self):\n",
    "        print(self.actions[-1])\n",
    "    def __str__(self):\n",
    "        return('낼 수 있는 패: {}\\n기록: {}'.format(self.candidate, self.actions))"
   ]
  },
  {
   "cell_type": "code",
   "execution_count": 274,
   "id": "0a4e82da-e6e9-48c5-958a-800544a04831",
   "metadata": {},
   "outputs": [],
   "source": [
    "a = RPC()"
   ]
  },
  {
   "cell_type": "code",
   "execution_count": 275,
   "id": "1dba4bcb-791d-4cb8-9a53-35f874ae66e3",
   "metadata": {},
   "outputs": [
    {
     "data": {
      "text/plain": [
       "<__main__.RPC at 0x7faaa6d821c0>"
      ]
     },
     "execution_count": 275,
     "metadata": {},
     "output_type": "execute_result"
    }
   ],
   "source": [
    "a"
   ]
  },
  {
   "cell_type": "code",
   "execution_count": 276,
   "id": "78d58316-2464-4c05-8889-00118991f493",
   "metadata": {},
   "outputs": [
    {
     "name": "stdout",
     "output_type": "stream",
     "text": [
      "낼 수 있는 패: ['가위', '바위', '보']\n",
      "기록: []\n"
     ]
    }
   ],
   "source": [
    "print(a)"
   ]
  },
  {
   "cell_type": "markdown",
   "id": "3b3d4506-2f58-482b-9ca3-9f47c7c8594a",
   "metadata": {},
   "source": [
    "- `__repr__` 추가 후"
   ]
  },
  {
   "cell_type": "code",
   "execution_count": 277,
   "id": "ff036bfb-285c-40ca-99bc-76ea6628c1c9",
   "metadata": {},
   "outputs": [],
   "source": [
    "class RPC:\n",
    "    def __init__(self, candidate=['가위','바위','보']):\n",
    "        self.candidate = candidate\n",
    "        self.actions = list()\n",
    "    def choose(self):\n",
    "        self.actions.append(np.random.choice(self.candidate))\n",
    "    def show(self):\n",
    "        print(self.actions[-1])\n",
    "    def __repr__(self):\n",
    "        return('낼 수 있는 패: {}\\n기록: {}'.format(self.candidate, self.actions))"
   ]
  },
  {
   "cell_type": "code",
   "execution_count": 278,
   "id": "bde00b81-21d8-4532-bcde-b0db085773d4",
   "metadata": {},
   "outputs": [],
   "source": [
    "a = RPC()"
   ]
  },
  {
   "cell_type": "code",
   "execution_count": 279,
   "id": "e81610fc-9ea9-46fa-b163-090c7beef65c",
   "metadata": {},
   "outputs": [
    {
     "data": {
      "text/plain": [
       "낼 수 있는 패: ['가위', '바위', '보']\n",
       "기록: []"
      ]
     },
     "execution_count": 279,
     "metadata": {},
     "output_type": "execute_result"
    }
   ],
   "source": [
    "a # print(a.__repr__())"
   ]
  },
  {
   "cell_type": "markdown",
   "id": "e31e905c-e29a-4f87-8795-915e621bf527",
   "metadata": {},
   "source": [
    "`-` 그럼 우리가 지금까지 했던 것?"
   ]
  },
  {
   "cell_type": "code",
   "execution_count": 280,
   "id": "7aae9e87-bb58-419a-9374-cdb482fa92b4",
   "metadata": {},
   "outputs": [],
   "source": [
    "a = np.array([1,2,3])"
   ]
  },
  {
   "cell_type": "code",
   "execution_count": 281,
   "id": "3a6a53b8-d0c7-4b6f-91a7-ab5ecc891aa8",
   "metadata": {},
   "outputs": [
    {
     "data": {
      "text/plain": [
       "array([1, 2, 3])"
      ]
     },
     "execution_count": 281,
     "metadata": {},
     "output_type": "execute_result"
    }
   ],
   "source": [
    "a"
   ]
  },
  {
   "cell_type": "code",
   "execution_count": 282,
   "id": "9ceb5c3e-0d13-4c1f-a35c-fa12b6a6fe7c",
   "metadata": {},
   "outputs": [
    {
     "name": "stdout",
     "output_type": "stream",
     "text": [
      "[1 2 3]\n"
     ]
    }
   ],
   "source": [
    "print(a)"
   ]
  },
  {
   "cell_type": "code",
   "execution_count": 283,
   "id": "5faa654d-4e9d-4329-b7d0-a34f4bf080ec",
   "metadata": {},
   "outputs": [
    {
     "data": {
      "text/plain": [
       "'array([1, 2, 3])'"
      ]
     },
     "execution_count": 283,
     "metadata": {},
     "output_type": "execute_result"
    }
   ],
   "source": [
    "a.__repr__()"
   ]
  },
  {
   "cell_type": "code",
   "execution_count": 284,
   "id": "b2cc6129-33de-4851-aa82-c3485d179180",
   "metadata": {},
   "outputs": [
    {
     "data": {
      "text/plain": [
       "'[1 2 3]'"
      ]
     },
     "execution_count": 284,
     "metadata": {},
     "output_type": "execute_result"
    }
   ],
   "source": [
    "a.__str__()"
   ]
  },
  {
   "cell_type": "markdown",
   "id": "4ec9cb38-c783-4e66-830e-89b503c5a0e1",
   "metadata": {},
   "source": [
    "### 파이썬의 비밀3"
   ]
  },
  {
   "cell_type": "markdown",
   "id": "b123dd76-2b1d-4a58-8889-ab25e2748c84",
   "metadata": {},
   "source": [
    "`-` 대화형콘솔에서 `오브젝트이름 + 엔터`를 쳐서 나오는 출력은 `__repr__`의 결과와 연관이 있다."
   ]
  },
  {
   "cell_type": "code",
   "execution_count": 285,
   "id": "c0ed817d-0592-478b-82fc-71f493908bab",
   "metadata": {},
   "outputs": [
    {
     "data": {
      "text/plain": [
       "array([[   0,    1,    2, ...,   97,   98,   99],\n",
       "       [ 100,  101,  102, ...,  197,  198,  199],\n",
       "       [ 200,  201,  202, ...,  297,  298,  299],\n",
       "       ...,\n",
       "       [9700, 9701, 9702, ..., 9797, 9798, 9799],\n",
       "       [9800, 9801, 9802, ..., 9897, 9898, 9899],\n",
       "       [9900, 9901, 9902, ..., 9997, 9998, 9999]])"
      ]
     },
     "execution_count": 285,
     "metadata": {},
     "output_type": "execute_result"
    }
   ],
   "source": [
    "a = np.array(range(10000)).reshape(100,100)\n",
    "a"
   ]
  },
  {
   "cell_type": "code",
   "execution_count": 286,
   "id": "d725761a-a0b4-44a5-a541-44e4b64a4e5c",
   "metadata": {},
   "outputs": [
    {
     "data": {
      "text/plain": [
       "'array([[   0,    1,    2, ...,   97,   98,   99],\\n       [ 100,  101,  102, ...,  197,  198,  199],\\n       [ 200,  201,  202, ...,  297,  298,  299],\\n       ...,\\n       [9700, 9701, 9702, ..., 9797, 9798, 9799],\\n       [9800, 9801, 9802, ..., 9897, 9898, 9899],\\n       [9900, 9901, 9902, ..., 9997, 9998, 9999]])'"
      ]
     },
     "execution_count": 286,
     "metadata": {},
     "output_type": "execute_result"
    }
   ],
   "source": [
    "a.__repr__()"
   ]
  },
  {
   "cell_type": "markdown",
   "id": "f378e06d-1dfc-4c52-a8a4-1213a83be677",
   "metadata": {},
   "source": [
    "`-` 참고로 `a.__repr__()`은 `repr(a)`와 같다."
   ]
  },
  {
   "cell_type": "code",
   "execution_count": 287,
   "id": "1d88be75-7672-4f24-bd66-9c541a73ac99",
   "metadata": {},
   "outputs": [
    {
     "data": {
      "text/plain": [
       "'array([[   0,    1,    2, ...,   97,   98,   99],\\n       [ 100,  101,  102, ...,  197,  198,  199],\\n       [ 200,  201,  202, ...,  297,  298,  299],\\n       ...,\\n       [9700, 9701, 9702, ..., 9797, 9798, 9799],\\n       [9800, 9801, 9802, ..., 9897, 9898, 9899],\\n       [9900, 9901, 9902, ..., 9997, 9998, 9999]])'"
      ]
     },
     "execution_count": 287,
     "metadata": {},
     "output_type": "execute_result"
    }
   ],
   "source": [
    "repr(a)"
   ]
  },
  {
   "cell_type": "markdown",
   "id": "f046f552-ba6e-47b9-96bd-33c971751a2e",
   "metadata": {},
   "source": [
    "### 주피터노트북의 비밀(`_repr_html`)"
   ]
  },
  {
   "cell_type": "markdown",
   "id": "29ed878c-c762-41e6-b11e-c77dcee608a4",
   "metadata": {},
   "source": [
    "`-` 요즘에는 IDE 발전에 따라서 `오브젝트 + 엔터` 칠 때 나오는 출력의 형태도 다양해지고 있음."
   ]
  },
  {
   "cell_type": "code",
   "execution_count": 288,
   "id": "f4499b93-81de-4bb3-887f-646af880692f",
   "metadata": {},
   "outputs": [],
   "source": [
    "import pandas as pd"
   ]
  },
  {
   "cell_type": "code",
   "execution_count": 289,
   "id": "697cced5-485d-4de6-a80e-ea18316b1016",
   "metadata": {},
   "outputs": [],
   "source": [
    "df = pd.DataFrame({'a':[1,2,3],\n",
    "                   'b':[2,3,4]})"
   ]
  },
  {
   "cell_type": "code",
   "execution_count": 290,
   "id": "9dd89638-580b-4044-8855-d4245d9de533",
   "metadata": {},
   "outputs": [
    {
     "data": {
      "text/html": [
       "<div>\n",
       "<style scoped>\n",
       "    .dataframe tbody tr th:only-of-type {\n",
       "        vertical-align: middle;\n",
       "    }\n",
       "\n",
       "    .dataframe tbody tr th {\n",
       "        vertical-align: top;\n",
       "    }\n",
       "\n",
       "    .dataframe thead th {\n",
       "        text-align: right;\n",
       "    }\n",
       "</style>\n",
       "<table border=\"1\" class=\"dataframe\">\n",
       "  <thead>\n",
       "    <tr style=\"text-align: right;\">\n",
       "      <th></th>\n",
       "      <th>a</th>\n",
       "      <th>b</th>\n",
       "    </tr>\n",
       "  </thead>\n",
       "  <tbody>\n",
       "    <tr>\n",
       "      <th>0</th>\n",
       "      <td>1</td>\n",
       "      <td>2</td>\n",
       "    </tr>\n",
       "    <tr>\n",
       "      <th>1</th>\n",
       "      <td>2</td>\n",
       "      <td>3</td>\n",
       "    </tr>\n",
       "    <tr>\n",
       "      <th>2</th>\n",
       "      <td>3</td>\n",
       "      <td>4</td>\n",
       "    </tr>\n",
       "  </tbody>\n",
       "</table>\n",
       "</div>"
      ],
      "text/plain": [
       "   a  b\n",
       "0  1  2\n",
       "1  2  3\n",
       "2  3  4"
      ]
     },
     "execution_count": 290,
     "metadata": {},
     "output_type": "execute_result"
    }
   ],
   "source": [
    "df"
   ]
  },
  {
   "cell_type": "markdown",
   "id": "98ba50a2-c403-4cfb-8d32-2442a653e7e3",
   "metadata": {},
   "source": [
    "- 예쁘게 나온다."
   ]
  },
  {
   "cell_type": "markdown",
   "id": "cc09b4f8-46f8-4644-9481-e5f2307cf230",
   "metadata": {},
   "source": [
    "`-` 위의 결과는 `print(df.__repr__())`의 결과와 조금 다르게 나온다?"
   ]
  },
  {
   "cell_type": "code",
   "execution_count": 291,
   "id": "ebcbc46d-5a77-4c33-8722-658b52ef3bc4",
   "metadata": {},
   "outputs": [
    {
     "name": "stdout",
     "output_type": "stream",
     "text": [
      "   a  b\n",
      "0  1  2\n",
      "1  2  3\n",
      "2  3  4\n"
     ]
    }
   ],
   "source": [
    "print(df.__repr__())"
   ]
  },
  {
   "cell_type": "markdown",
   "id": "1d5ea6bf-5e04-43d2-b810-48a15191a62f",
   "metadata": {},
   "source": [
    "`-` `print(df.__repr__())`는 예전 검은화면에서 코딩할 때 나오는 출력임"
   ]
  },
  {
   "cell_type": "markdown",
   "id": "b4cba733-d81b-4a22-ade2-94c3fd126491",
   "metadata": {},
   "source": [
    "```\n",
    "Python 3.10.2 | packaged by conda-forge | (main, Feb  1 2022, 19:28:35) [GCC 9.4.0] on linux\n",
    "Type \"help\", \"copyright\", \"credits\" or \"license\" for more information.\n",
    "> >> import pandas as pd \n",
    ">>> df = pd.DataFrame({'a':[1,2,3],'b':[2,3,4]})>>> df\n",
    "   a  b\n",
    "0  1  2\n",
    "1  2  3\n",
    "2  3  4\n",
    ">>>\n",
    "```"
   ]
  },
  {
   "cell_type": "markdown",
   "id": "d28f8af0-54d2-4038-9664-857c03097533",
   "metadata": {},
   "source": [
    "`-` 주피터에서는 '오브젝트이름 + 엔터' 치면 `HTML(df.__repr_html())`이 실행되고 `repr_html_()`이 정의되어 있지 않으면 `print(df.__rept__())`이 실행된다."
   ]
  },
  {
   "cell_type": "code",
   "execution_count": 293,
   "id": "0afeadcc-dca8-4aa5-94fe-dd8c2de7795c",
   "metadata": {},
   "outputs": [
    {
     "data": {
      "text/plain": [
       "'<div>\\n<style scoped>\\n    .dataframe tbody tr th:only-of-type {\\n        vertical-align: middle;\\n    }\\n\\n    .dataframe tbody tr th {\\n        vertical-align: top;\\n    }\\n\\n    .dataframe thead th {\\n        text-align: right;\\n    }\\n</style>\\n<table border=\"1\" class=\"dataframe\">\\n  <thead>\\n    <tr style=\"text-align: right;\">\\n      <th></th>\\n      <th>a</th>\\n      <th>b</th>\\n    </tr>\\n  </thead>\\n  <tbody>\\n    <tr>\\n      <th>0</th>\\n      <td>1</td>\\n      <td>2</td>\\n    </tr>\\n    <tr>\\n      <th>1</th>\\n      <td>2</td>\\n      <td>3</td>\\n    </tr>\\n    <tr>\\n      <th>2</th>\\n      <td>3</td>\\n      <td>4</td>\\n    </tr>\\n  </tbody>\\n</table>\\n</div>'"
      ]
     },
     "execution_count": 293,
     "metadata": {},
     "output_type": "execute_result"
    }
   ],
   "source": [
    "df._repr_html_()"
   ]
  },
  {
   "cell_type": "markdown",
   "id": "b5d7faa9-916f-4be7-b700-50e960e8a7d5",
   "metadata": {},
   "source": [
    "- html 코드!"
   ]
  },
  {
   "cell_type": "code",
   "execution_count": 294,
   "id": "8b73d173-567d-4411-a579-5624f670643c",
   "metadata": {},
   "outputs": [],
   "source": [
    "from IPython.core.display import HTML"
   ]
  },
  {
   "cell_type": "code",
   "execution_count": 295,
   "id": "3fc1f2f8-97cc-48ed-a873-0bd20ac5304b",
   "metadata": {},
   "outputs": [
    {
     "data": {
      "text/html": [
       "<div>\n",
       "<style scoped>\n",
       "    .dataframe tbody tr th:only-of-type {\n",
       "        vertical-align: middle;\n",
       "    }\n",
       "\n",
       "    .dataframe tbody tr th {\n",
       "        vertical-align: top;\n",
       "    }\n",
       "\n",
       "    .dataframe thead th {\n",
       "        text-align: right;\n",
       "    }\n",
       "</style>\n",
       "<table border=\"1\" class=\"dataframe\">\n",
       "  <thead>\n",
       "    <tr style=\"text-align: right;\">\n",
       "      <th></th>\n",
       "      <th>a</th>\n",
       "      <th>b</th>\n",
       "    </tr>\n",
       "  </thead>\n",
       "  <tbody>\n",
       "    <tr>\n",
       "      <th>0</th>\n",
       "      <td>1</td>\n",
       "      <td>2</td>\n",
       "    </tr>\n",
       "    <tr>\n",
       "      <th>1</th>\n",
       "      <td>2</td>\n",
       "      <td>3</td>\n",
       "    </tr>\n",
       "    <tr>\n",
       "      <th>2</th>\n",
       "      <td>3</td>\n",
       "      <td>4</td>\n",
       "    </tr>\n",
       "  </tbody>\n",
       "</table>\n",
       "</div>"
      ],
      "text/plain": [
       "<IPython.core.display.HTML object>"
      ]
     },
     "execution_count": 295,
     "metadata": {},
     "output_type": "execute_result"
    }
   ],
   "source": [
    "HTML(df._repr_html_())"
   ]
  },
  {
   "cell_type": "markdown",
   "id": "1372a49d-97af-4b6b-b252-e1ca45260cc3",
   "metadata": {},
   "source": [
    "`-` 물론 `df._repr_html_()`함수가 내부적으로 있어도 html이 지원되지 않는 환경이라면 `print(df.__repr__())`이 내부적으로 수행된다."
   ]
  },
  {
   "cell_type": "markdown",
   "id": "0b854226-5d67-48e7-817a-b45bd4b8d0aa",
   "metadata": {},
   "source": [
    "## 04. `__repr__`와 `__str__`의 우선적용 순위"
   ]
  },
  {
   "cell_type": "markdown",
   "id": "514fc0e5-d358-4b8f-83f5-c5ff651e3d31",
   "metadata": {},
   "source": [
    "(예제1)"
   ]
  },
  {
   "cell_type": "markdown",
   "id": "06fbc6d6-7a86-43ec-8223-aeedb75e28be",
   "metadata": {},
   "source": [
    "`-` 아래의 예제를 관찰하자."
   ]
  },
  {
   "cell_type": "code",
   "execution_count": 296,
   "id": "796a3e2d-3fc8-4179-abe1-8252a97c9549",
   "metadata": {},
   "outputs": [],
   "source": [
    "class RPS:\n",
    "    def __init__(self, candidate = ['가위','바위','보']):\n",
    "        self.candidate = candidate\n",
    "        self.actions = list()\n",
    "    def choose(self):\n",
    "        self.actions.append(np.random.choice(self.candidate))\n",
    "    def show(self):\n",
    "        print(self.actions[-1])\n",
    "    def __repr__(self):\n",
    "        return '낼 수 있는 패: {}\\n기록: {}'.format(self.candidate, self.actions)"
   ]
  },
  {
   "cell_type": "code",
   "execution_count": 297,
   "id": "8fa7a619-a3a9-4853-a968-360b810f932c",
   "metadata": {},
   "outputs": [
    {
     "data": {
      "text/plain": [
       "낼 수 있는 패: ['가위', '바위', '보']\n",
       "기록: []"
      ]
     },
     "execution_count": 297,
     "metadata": {},
     "output_type": "execute_result"
    }
   ],
   "source": [
    "a = RPS()\n",
    "a"
   ]
  },
  {
   "cell_type": "code",
   "execution_count": 300,
   "id": "49a9d81e-85d8-438b-90e5-32f6b3561e00",
   "metadata": {},
   "outputs": [
    {
     "data": {
      "text/plain": [
       "\"낼 수 있는 패: ['가위', '바위', '보']\\n기록: []\""
      ]
     },
     "execution_count": 300,
     "metadata": {},
     "output_type": "execute_result"
    }
   ],
   "source": [
    "a.__repr__()"
   ]
  },
  {
   "cell_type": "code",
   "execution_count": 301,
   "id": "031cd4f8-89b7-48ff-93e2-95d6c099e90a",
   "metadata": {},
   "outputs": [
    {
     "data": {
      "text/plain": [
       "\"낼 수 있는 패: ['가위', '바위', '보']\\n기록: []\""
      ]
     },
     "execution_count": 301,
     "metadata": {},
     "output_type": "execute_result"
    }
   ],
   "source": [
    "repr(a)"
   ]
  },
  {
   "cell_type": "markdown",
   "id": "92335f64-57b8-414a-812e-fca2df3cf59b",
   "metadata": {},
   "source": [
    "`-` 여기까지는 상식수준의 결과임. 이제 아래를 관찰하라."
   ]
  },
  {
   "cell_type": "code",
   "execution_count": 302,
   "id": "ff073945-92e2-44a9-a607-df67a8ef1601",
   "metadata": {},
   "outputs": [
    {
     "name": "stdout",
     "output_type": "stream",
     "text": [
      "낼 수 있는 패: ['가위', '바위', '보']\n",
      "기록: []\n"
     ]
    }
   ],
   "source": [
    "print(a) # print(a.__repr__())"
   ]
  },
  {
   "cell_type": "code",
   "execution_count": 304,
   "id": "9313bf55-3f63-450b-92f6-8a9f454ccf15",
   "metadata": {},
   "outputs": [
    {
     "data": {
      "text/plain": [
       "\"낼 수 있는 패: ['가위', '바위', '보']\\n기록: []\""
      ]
     },
     "execution_count": 304,
     "metadata": {},
     "output_type": "execute_result"
    }
   ],
   "source": [
    "a.__str__()"
   ]
  },
  {
   "cell_type": "code",
   "execution_count": 305,
   "id": "fbd3fb6a-4e0f-4393-8076-a44f3dc2c6f7",
   "metadata": {},
   "outputs": [
    {
     "data": {
      "text/plain": [
       "\"낼 수 있는 패: ['가위', '바위', '보']\\n기록: []\""
      ]
     },
     "execution_count": 305,
     "metadata": {},
     "output_type": "execute_result"
    }
   ],
   "source": [
    "str(a)"
   ]
  },
  {
   "cell_type": "markdown",
   "id": "4316e90f-4ec2-497c-86de-4f5f60c536ad",
   "metadata": {},
   "source": [
    "- `__str__()`은 건드린적이 없는데?"
   ]
  },
  {
   "cell_type": "code",
   "execution_count": 306,
   "id": "b94a0507-551d-4a4c-b9fb-8cc4bca73fcd",
   "metadata": {},
   "outputs": [
    {
     "data": {
      "text/plain": [
       "\u001b[0;31mSignature:\u001b[0m \u001b[0ma\u001b[0m\u001b[0;34m.\u001b[0m\u001b[0m__repr__\u001b[0m\u001b[0;34m(\u001b[0m\u001b[0;34m)\u001b[0m\u001b[0;34m\u001b[0m\u001b[0;34m\u001b[0m\u001b[0m\n",
       "\u001b[0;31mDocstring:\u001b[0m Return repr(self).\n",
       "\u001b[0;31mSource:\u001b[0m   \n",
       "    \u001b[0;32mdef\u001b[0m \u001b[0m__repr__\u001b[0m\u001b[0;34m(\u001b[0m\u001b[0mself\u001b[0m\u001b[0;34m)\u001b[0m\u001b[0;34m:\u001b[0m\u001b[0;34m\u001b[0m\n",
       "\u001b[0;34m\u001b[0m        \u001b[0;32mreturn\u001b[0m \u001b[0;34m'낼 수 있는 패: {}\\n기록: {}'\u001b[0m\u001b[0;34m.\u001b[0m\u001b[0mformat\u001b[0m\u001b[0;34m(\u001b[0m\u001b[0mself\u001b[0m\u001b[0;34m.\u001b[0m\u001b[0mcandidate\u001b[0m\u001b[0;34m,\u001b[0m \u001b[0mself\u001b[0m\u001b[0;34m.\u001b[0m\u001b[0mactions\u001b[0m\u001b[0;34m)\u001b[0m\u001b[0;34m\u001b[0m\u001b[0;34m\u001b[0m\u001b[0m\n",
       "\u001b[0;31mFile:\u001b[0m      ~/Dropbox/Quarto-Blog/posts/Python/<ipython-input-296-bcd76efb6380>\n",
       "\u001b[0;31mType:\u001b[0m      method"
      ]
     },
     "metadata": {},
     "output_type": "display_data"
    }
   ],
   "source": [
    "a.__repr__??"
   ]
  },
  {
   "cell_type": "code",
   "execution_count": 307,
   "id": "2f5eab3b-165e-4d8c-bed2-6b78db866aa2",
   "metadata": {},
   "outputs": [
    {
     "data": {
      "text/plain": [
       "\u001b[0;31mSignature:\u001b[0m      \u001b[0ma\u001b[0m\u001b[0;34m.\u001b[0m\u001b[0m__str__\u001b[0m\u001b[0;34m(\u001b[0m\u001b[0;34m)\u001b[0m\u001b[0;34m\u001b[0m\u001b[0;34m\u001b[0m\u001b[0m\n",
       "\u001b[0;31mCall signature:\u001b[0m \u001b[0ma\u001b[0m\u001b[0;34m.\u001b[0m\u001b[0m__str__\u001b[0m\u001b[0;34m(\u001b[0m\u001b[0;34m*\u001b[0m\u001b[0margs\u001b[0m\u001b[0;34m,\u001b[0m \u001b[0;34m**\u001b[0m\u001b[0mkwargs\u001b[0m\u001b[0;34m)\u001b[0m\u001b[0;34m\u001b[0m\u001b[0;34m\u001b[0m\u001b[0m\n",
       "\u001b[0;31mType:\u001b[0m           method-wrapper\n",
       "\u001b[0;31mString form:\u001b[0m    <method-wrapper '__str__' of RPS object at 0x7faaa47aae20>\n",
       "\u001b[0;31mDocstring:\u001b[0m      Return str(self)."
      ]
     },
     "metadata": {},
     "output_type": "display_data"
    }
   ],
   "source": [
    "a.__str__??"
   ]
  },
  {
   "cell_type": "markdown",
   "id": "37f9e0f1-67a8-495f-96e0-31ce40c36ecd",
   "metadata": {},
   "source": [
    "- `__str__()`은 건드린 적이 없는데 $\\to$ 건드린적은 없는데 기능이 바뀌어있음."
   ]
  },
  {
   "cell_type": "markdown",
   "id": "1056c629-55e5-445f-a614-c92144694fc8",
   "metadata": {},
   "source": [
    "(예제2)"
   ]
  },
  {
   "cell_type": "markdown",
   "id": "fdd56dee-e446-45b2-8582-c68f38f6ea9b",
   "metadata": {},
   "source": [
    "`-` 아래의 예제를 관찰하자."
   ]
  },
  {
   "cell_type": "code",
   "execution_count": 3,
   "id": "348befc2-5cb7-4a95-a460-880183231e74",
   "metadata": {},
   "outputs": [],
   "source": [
    "class RPC:\n",
    "    def __init__(self, candidate = ['가위','바위','보']):\n",
    "        self.candidate = candidate\n",
    "        self.actions = list()\n",
    "    def choose(self):\n",
    "        self.actions.append(np.random.choice(self.candidate))\n",
    "    def show(self):\n",
    "        print(self.actions[-1])\n",
    "    def __str__(self):\n",
    "        return '낼 수 있는 패: {}\\n기록: {}'.format(self.candidate, self.actions)"
   ]
  },
  {
   "cell_type": "code",
   "execution_count": 4,
   "id": "f367960b-6332-4e98-8758-bc86fb0e5976",
   "metadata": {},
   "outputs": [],
   "source": [
    "a = RPC()"
   ]
  },
  {
   "cell_type": "code",
   "execution_count": 5,
   "id": "73657c5d-16c1-4cc7-a1d1-76eee998d66a",
   "metadata": {},
   "outputs": [
    {
     "name": "stdout",
     "output_type": "stream",
     "text": [
      "낼 수 있는 패: ['가위', '바위', '보']\n",
      "기록: []\n"
     ]
    }
   ],
   "source": [
    "print(a)"
   ]
  },
  {
   "cell_type": "code",
   "execution_count": 6,
   "id": "24d6095d-fc1a-4011-a34e-7ff144468a84",
   "metadata": {},
   "outputs": [
    {
     "data": {
      "text/plain": [
       "\"낼 수 있는 패: ['가위', '바위', '보']\\n기록: []\""
      ]
     },
     "execution_count": 6,
     "metadata": {},
     "output_type": "execute_result"
    }
   ],
   "source": [
    "a.__str__()"
   ]
  },
  {
   "cell_type": "code",
   "execution_count": 7,
   "id": "a6bce94d-5796-4e49-ba9d-7e0c986aa0f0",
   "metadata": {},
   "outputs": [
    {
     "data": {
      "text/plain": [
       "'<__main__.RPC object at 0x7f8f38ca22e0>'"
      ]
     },
     "execution_count": 7,
     "metadata": {},
     "output_type": "execute_result"
    }
   ],
   "source": [
    "a.__repr__()"
   ]
  },
  {
   "cell_type": "code",
   "execution_count": 8,
   "id": "0da20bcd-7d73-4eaa-b0c4-347b03ae8714",
   "metadata": {},
   "outputs": [
    {
     "data": {
      "text/plain": [
       "\u001b[0;31mSignature:\u001b[0m \u001b[0ma\u001b[0m\u001b[0;34m.\u001b[0m\u001b[0m__str__\u001b[0m\u001b[0;34m(\u001b[0m\u001b[0;34m)\u001b[0m\u001b[0;34m\u001b[0m\u001b[0;34m\u001b[0m\u001b[0m\n",
       "\u001b[0;31mDocstring:\u001b[0m Return str(self).\n",
       "\u001b[0;31mSource:\u001b[0m   \n",
       "    \u001b[0;32mdef\u001b[0m \u001b[0m__str__\u001b[0m\u001b[0;34m(\u001b[0m\u001b[0mself\u001b[0m\u001b[0;34m)\u001b[0m\u001b[0;34m:\u001b[0m\u001b[0;34m\u001b[0m\n",
       "\u001b[0;34m\u001b[0m        \u001b[0;32mreturn\u001b[0m \u001b[0;34m'낼 수 있는 패: {}\\n기록: {}'\u001b[0m\u001b[0;34m.\u001b[0m\u001b[0mformat\u001b[0m\u001b[0;34m(\u001b[0m\u001b[0mself\u001b[0m\u001b[0;34m.\u001b[0m\u001b[0mcandidate\u001b[0m\u001b[0;34m,\u001b[0m \u001b[0mself\u001b[0m\u001b[0;34m.\u001b[0m\u001b[0mactions\u001b[0m\u001b[0;34m)\u001b[0m\u001b[0;34m\u001b[0m\u001b[0;34m\u001b[0m\u001b[0m\n",
       "\u001b[0;31mFile:\u001b[0m      ~/Dropbox/Quarto-Blog/posts/Python/<ipython-input-3-2e46ee18321f>\n",
       "\u001b[0;31mType:\u001b[0m      method"
      ]
     },
     "metadata": {},
     "output_type": "display_data"
    }
   ],
   "source": [
    "a.__str__??"
   ]
  },
  {
   "cell_type": "code",
   "execution_count": 10,
   "id": "986dba61-5e86-4214-b6dd-472760fdb338",
   "metadata": {},
   "outputs": [
    {
     "data": {
      "text/plain": [
       "\u001b[0;31mSignature:\u001b[0m      \u001b[0ma\u001b[0m\u001b[0;34m.\u001b[0m\u001b[0m__repr__\u001b[0m\u001b[0;34m(\u001b[0m\u001b[0;34m)\u001b[0m\u001b[0;34m\u001b[0m\u001b[0;34m\u001b[0m\u001b[0m\n",
       "\u001b[0;31mCall signature:\u001b[0m \u001b[0ma\u001b[0m\u001b[0;34m.\u001b[0m\u001b[0m__repr__\u001b[0m\u001b[0;34m(\u001b[0m\u001b[0;34m*\u001b[0m\u001b[0margs\u001b[0m\u001b[0;34m,\u001b[0m \u001b[0;34m**\u001b[0m\u001b[0mkwargs\u001b[0m\u001b[0;34m)\u001b[0m\u001b[0;34m\u001b[0m\u001b[0;34m\u001b[0m\u001b[0m\n",
       "\u001b[0;31mType:\u001b[0m           method-wrapper\n",
       "\u001b[0;31mString form:\u001b[0m    <method-wrapper '__repr__' of RPC object at 0x7f8f38ca22e0>\n",
       "\u001b[0;31mDocstring:\u001b[0m      Return repr(self)."
      ]
     },
     "metadata": {},
     "output_type": "display_data"
    }
   ],
   "source": [
    "a.__repr__??"
   ]
  },
  {
   "cell_type": "markdown",
   "id": "0d51ad02-6a0a-42ee-b1e3-831f8ae13114",
   "metadata": {},
   "source": [
    "2번째 예제에서는 건드린 애만 바뀌었는데 첫번째 예제에서는 건드리지 않은 애들까지 기능이 바뀌었다."
   ]
  },
  {
   "cell_type": "markdown",
   "id": "b16b105e-6b7b-453f-9258-0c194fcd7263",
   "metadata": {},
   "source": [
    "(예제3)"
   ]
  },
  {
   "cell_type": "code",
   "execution_count": 11,
   "id": "b9c4703f-2479-4cbb-b822-bb36586002c0",
   "metadata": {},
   "outputs": [],
   "source": [
    "class RPC:\n",
    "    def __init__(self, candidate = ['가위','바위','보']):\n",
    "        self.candidate = candidate\n",
    "        self.actions = list()\n",
    "    def choose(self):\n",
    "        self.actions.append(np.random.choice(self.candidate))\n",
    "    def show(self):\n",
    "        print(self.actions[-1])\n",
    "    def __repr__(self):\n",
    "        return '너는 해킹당했다. 하하하'\n",
    "    def __str__(self):\n",
    "        return '낼 수 있는 패: {}\\n기록: {}'.format(self.candidate, self.actions)"
   ]
  },
  {
   "cell_type": "code",
   "execution_count": 12,
   "id": "680694ae-849e-4ba4-b384-ab3ad1f308f7",
   "metadata": {},
   "outputs": [],
   "source": [
    "a = RPC()"
   ]
  },
  {
   "cell_type": "code",
   "execution_count": 13,
   "id": "10b0da78-fcac-4ae1-8219-0c0fa7d3eb2c",
   "metadata": {},
   "outputs": [
    {
     "data": {
      "text/plain": [
       "너는 해킹당했다. 하하하"
      ]
     },
     "execution_count": 13,
     "metadata": {},
     "output_type": "execute_result"
    }
   ],
   "source": [
    "a"
   ]
  },
  {
   "cell_type": "code",
   "execution_count": 14,
   "id": "1918ae6e-ae5b-432c-8dd3-cf3672b0faa6",
   "metadata": {},
   "outputs": [
    {
     "name": "stdout",
     "output_type": "stream",
     "text": [
      "낼 수 있는 패: ['가위', '바위', '보']\n",
      "기록: []\n"
     ]
    }
   ],
   "source": [
    "print(a)"
   ]
  },
  {
   "cell_type": "markdown",
   "id": "e13c2f3b-6d0c-40e6-accb-456d414a9ac5",
   "metadata": {},
   "source": [
    "`-` `__str__` 와 `__repr__`을 건드리지 않고 출력결과를 바꾸고 싶다면?"
   ]
  },
  {
   "cell_type": "code",
   "execution_count": 16,
   "id": "f6a90e75-c643-4f27-8ccd-5d0ab8e9341d",
   "metadata": {},
   "outputs": [],
   "source": [
    "class RPC:\n",
    "    def __init__(self, candidate = ['가위','바위','보']):\n",
    "        self.candidate = candidate\n",
    "        self.actions = list()\n",
    "    def choose(self):\n",
    "        self.actions.append(np.random.choice(self.candidate))\n",
    "    def show(self):\n",
    "        print(self.actions[-1])\n",
    "    def _repr_html_(self):\n",
    "        html_str = \"\"\"\n",
    "        낼 수 있는 패: {} <br/>\n",
    "        기록: {}\n",
    "        \"\"\"\n",
    "        return html_str.format(self.candidate, self.actions)"
   ]
  },
  {
   "cell_type": "code",
   "execution_count": 17,
   "id": "12e8051b-7efb-4af9-b0ba-4c81d0cd2ae4",
   "metadata": {},
   "outputs": [],
   "source": [
    "a = RPC()"
   ]
  },
  {
   "cell_type": "code",
   "execution_count": 18,
   "id": "62fddbd7-9b09-4a79-a765-190671264deb",
   "metadata": {},
   "outputs": [
    {
     "data": {
      "text/plain": [
       "'<__main__.RPC object at 0x7f8f38bb7730>'"
      ]
     },
     "execution_count": 18,
     "metadata": {},
     "output_type": "execute_result"
    }
   ],
   "source": [
    "str(a)"
   ]
  },
  {
   "cell_type": "code",
   "execution_count": 21,
   "id": "c260cf40-2d5f-4971-9d6c-e0429945fe9d",
   "metadata": {},
   "outputs": [
    {
     "data": {
      "text/plain": [
       "'<__main__.RPC object at 0x7f8f38bb7730>'"
      ]
     },
     "execution_count": 21,
     "metadata": {},
     "output_type": "execute_result"
    }
   ],
   "source": [
    "repr(a)"
   ]
  },
  {
   "cell_type": "code",
   "execution_count": 22,
   "id": "b84099e5-eae4-4a0a-a87e-b729159ad52c",
   "metadata": {},
   "outputs": [
    {
     "data": {
      "text/html": [
       "\n",
       "        낼 수 있는 패: ['가위', '바위', '보'] <br/>\n",
       "        기록: []\n",
       "        "
      ],
      "text/plain": [
       "<__main__.RPC at 0x7f8f38bb7730>"
      ]
     },
     "execution_count": 22,
     "metadata": {},
     "output_type": "execute_result"
    }
   ],
   "source": [
    "a"
   ]
  },
  {
   "cell_type": "code",
   "execution_count": 25,
   "id": "edc6a024-bd04-4e91-bf26-3ee8ab13acc9",
   "metadata": {},
   "outputs": [
    {
     "name": "stdout",
     "output_type": "stream",
     "text": [
      "보\n",
      "바위\n",
      "가위\n",
      "바위\n",
      "보\n"
     ]
    }
   ],
   "source": [
    "for i in range(5):\n",
    "    a.choose()\n",
    "    a.show()"
   ]
  },
  {
   "cell_type": "code",
   "execution_count": 26,
   "id": "763a2278-ef55-42a8-857e-05de62e31cdc",
   "metadata": {},
   "outputs": [
    {
     "data": {
      "text/html": [
       "\n",
       "        낼 수 있는 패: ['가위', '바위', '보'] <br/>\n",
       "        기록: ['보', '바위', '가위', '바위', '보']\n",
       "        "
      ],
      "text/plain": [
       "<__main__.RPC at 0x7f8f38bb7730>"
      ]
     },
     "execution_count": 26,
     "metadata": {},
     "output_type": "execute_result"
    }
   ],
   "source": [
    "a"
   ]
  },
  {
   "cell_type": "markdown",
   "id": "b36f0fb2-9b40-4218-ae8e-4111797514f3",
   "metadata": {},
   "source": [
    "## 05. 숙제"
   ]
  },
  {
   "cell_type": "markdown",
   "id": "9453fcbb-12a0-4566-a3eb-d2d53642a179",
   "metadata": {},
   "source": [
    "아래의 클래스를 수정하여\n",
    "```python\n",
    "class RPS: \n",
    "    def __init__(self,candidate=['가위','바위','보']):\n",
    "        self.candidate = candidate\n",
    "        self.actions = list() \n",
    "    def choose(self):\n",
    "        self.actions.append(np.random.choice(self.candidate))\n",
    "    def show(self):\n",
    "        print(self.actions[-1])\n",
    "    def _repr_html_(self):\n",
    "        html_str = \"\"\"\n",
    "        낼 수 있는 패: {} <br/> \n",
    "        기록: {}\n",
    "        \"\"\"\n",
    "        return html_str.format(self.candidate,self.actions)\n",
    "```\n",
    "클래스에서 생성된 인스턴스의 출력결과가 아래와 같도록 하라."
   ]
  },
  {
   "cell_type": "markdown",
   "id": "d90fda71-bf01-42c1-b5bd-ec3d79490454",
   "metadata": {},
   "source": [
    "```\n",
    "학번: 202143052 \n",
    "낼 수 있는 패: ['가위', '바위', '보']\n",
    "기록: ['가위', '가위', '보', '보', '바위']\n",
    "```"
   ]
  },
  {
   "cell_type": "code",
   "execution_count": 43,
   "id": "16b5191a-d32a-4754-8138-c2c4430b5025",
   "metadata": {},
   "outputs": [],
   "source": [
    "class RPS: \n",
    "    def __init__(self,candidate=['가위','바위','보']):\n",
    "        self.candidate = candidate\n",
    "        self.actions = list() \n",
    "    def choose(self):\n",
    "        self.actions.append(np.random.choice(self.candidate))\n",
    "    def show(self):\n",
    "        print(self.actions[-1])\n",
    "    def _repr_html_(self):\n",
    "        html_str = \"\"\"\n",
    "        학번: {} <br/>\n",
    "        낼 수 있는 패: {} <br/> \n",
    "        기록: {}\n",
    "        \"\"\"\n",
    "        return html_str.format(202143052,self.candidate,self.actions)"
   ]
  },
  {
   "cell_type": "code",
   "execution_count": 44,
   "id": "4695576c-76de-432f-a86a-58b55d5e7864",
   "metadata": {},
   "outputs": [],
   "source": [
    "a = RPS()"
   ]
  },
  {
   "cell_type": "code",
   "execution_count": 45,
   "id": "91468a0b-8f6d-460c-9d77-9956b3c6c082",
   "metadata": {},
   "outputs": [
    {
     "data": {
      "text/html": [
       "\n",
       "        학번: 202143052 <br/>\n",
       "        낼 수 있는 패: ['가위', '바위', '보'] <br/> \n",
       "        기록: []\n",
       "        "
      ],
      "text/plain": [
       "<__main__.RPS at 0x7f8f219b8fd0>"
      ]
     },
     "execution_count": 45,
     "metadata": {},
     "output_type": "execute_result"
    }
   ],
   "source": [
    "a"
   ]
  },
  {
   "cell_type": "code",
   "execution_count": 46,
   "id": "6ce9396f-4ac1-4848-a305-1a19d083ab5b",
   "metadata": {},
   "outputs": [
    {
     "name": "stdout",
     "output_type": "stream",
     "text": [
      "보\n",
      "가위\n",
      "바위\n",
      "바위\n",
      "가위\n"
     ]
    }
   ],
   "source": [
    "for i in range(5):\n",
    "    a.choose()\n",
    "    a.show()"
   ]
  },
  {
   "cell_type": "code",
   "execution_count": 47,
   "id": "f586c74e-390f-425c-93bb-15b3c0c75736",
   "metadata": {},
   "outputs": [
    {
     "data": {
      "text/html": [
       "\n",
       "        학번: 202143052 <br/>\n",
       "        낼 수 있는 패: ['가위', '바위', '보'] <br/> \n",
       "        기록: ['보', '가위', '바위', '바위', '가위']\n",
       "        "
      ],
      "text/plain": [
       "<__main__.RPS at 0x7f8f219b8fd0>"
      ]
     },
     "execution_count": 47,
     "metadata": {},
     "output_type": "execute_result"
    }
   ],
   "source": [
    "a"
   ]
  }
 ],
 "metadata": {
  "kernelspec": {
   "display_name": "Python 3",
   "language": "python",
   "name": "python3"
  },
  "language_info": {
   "codemirror_mode": {
    "name": "ipython",
    "version": 3
   },
   "file_extension": ".py",
   "mimetype": "text/x-python",
   "name": "python",
   "nbconvert_exporter": "python",
   "pygments_lexer": "ipython3",
   "version": "3.8.16"
  }
 },
 "nbformat": 4,
 "nbformat_minor": 5
}
