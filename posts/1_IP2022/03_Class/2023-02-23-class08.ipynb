{
 "cells": [
  {
   "cell_type": "raw",
   "id": "1fdeda51-b8b4-44d9-b8a1-9d3312aa9e84",
   "metadata": {},
   "source": [
    "---\n",
    "title: '**[IP2022]** class 08단계'\n",
    "author: 'jiyun Lim'\n",
    "date: '02/23/2023'\n",
    "categories:\n",
    "  - class\n",
    "  - Python\n",
    "---"
   ]
  },
  {
   "cell_type": "markdown",
   "id": "6f0586ab-ef24-4b0c-9745-21012f9a92d2",
   "metadata": {},
   "source": [
    "# 클래스공부 8단계"
   ]
  },
  {
   "cell_type": "markdown",
   "id": "783edbc6-ef1a-4829-b34e-894bd31307a7",
   "metadata": {},
   "source": [
    "> for문 복습, iterable object"
   ]
  },
  {
   "cell_type": "markdown",
   "id": "ceb90214-28c4-4968-9472-8876c814c6d3",
   "metadata": {},
   "source": [
    "## import"
   ]
  },
  {
   "cell_type": "code",
   "execution_count": 9,
   "id": "bb531dfd-41e2-498f-8bfa-59b402f14e67",
   "metadata": {},
   "outputs": [],
   "source": [
    "import numpy as np\n",
    "import matplotlib.pyplot as plt\n",
    "import pandas as pd"
   ]
  },
  {
   "cell_type": "markdown",
   "id": "c0f606fd-247e-4da0-8ba6-56c7f3b4faaf",
   "metadata": {},
   "source": [
    "## for문의 복습"
   ]
  },
  {
   "cell_type": "markdown",
   "id": "d99fd172-1b53-4f48-86fb-b011f5866226",
   "metadata": {},
   "source": [
    "`-` 아래와 같은 예제들을 관찰하여 for문을 복습하자."
   ]
  },
  {
   "cell_type": "markdown",
   "id": "0a595138-a4ba-4af3-beb2-98234231742e",
   "metadata": {},
   "source": [
    "(예제1)"
   ]
  },
  {
   "cell_type": "code",
   "execution_count": 1,
   "id": "4f9cfb27-8500-4543-bbb5-c1d523a30b74",
   "metadata": {},
   "outputs": [
    {
     "name": "stdout",
     "output_type": "stream",
     "text": [
      "1\n",
      "2\n",
      "3\n",
      "4\n"
     ]
    }
   ],
   "source": [
    "for i in [1,2,3,4]:\n",
    "    print(i)"
   ]
  },
  {
   "cell_type": "markdown",
   "id": "008c3e31-9894-4ad8-94d1-dc4011a32667",
   "metadata": {},
   "source": [
    "(예제2)"
   ]
  },
  {
   "cell_type": "code",
   "execution_count": 2,
   "id": "9491d9ad-5e4c-4411-ab9f-1083e50e4336",
   "metadata": {},
   "outputs": [
    {
     "name": "stdout",
     "output_type": "stream",
     "text": [
      "1\n",
      "2\n",
      "3\n",
      "4\n"
     ]
    }
   ],
   "source": [
    "for i in (1,2,3,4):\n",
    "    print(i)"
   ]
  },
  {
   "cell_type": "markdown",
   "id": "b93a6718-acf8-415d-b649-7ef887808382",
   "metadata": {},
   "source": [
    "(예제3)"
   ]
  },
  {
   "cell_type": "code",
   "execution_count": 3,
   "id": "c881cd4f-8846-49b9-bcd6-1cacf88d34c8",
   "metadata": {},
   "outputs": [
    {
     "name": "stdout",
     "output_type": "stream",
     "text": [
      "1\n",
      "2\n",
      "3\n",
      "4\n"
     ]
    }
   ],
   "source": [
    "for i in '1234':\n",
    "    print(i)"
   ]
  },
  {
   "cell_type": "markdown",
   "id": "7684b5f3-6d84-4862-b9be-7a1b42304675",
   "metadata": {},
   "source": [
    "(예제4)"
   ]
  },
  {
   "cell_type": "code",
   "execution_count": 4,
   "id": "6f5570f5-2077-4608-a4ca-ee49c79cb53f",
   "metadata": {},
   "outputs": [
    {
     "ename": "TypeError",
     "evalue": "'int' object is not iterable",
     "output_type": "error",
     "traceback": [
      "\u001b[0;31m---------------------------------------------------------------------------\u001b[0m",
      "\u001b[0;31mTypeError\u001b[0m                                 Traceback (most recent call last)",
      "Cell \u001b[0;32mIn[4], line 2\u001b[0m\n\u001b[1;32m      1\u001b[0m a\u001b[38;5;241m=\u001b[39m\u001b[38;5;241m5\u001b[39m\n\u001b[0;32m----> 2\u001b[0m \u001b[38;5;28;01mfor\u001b[39;00m i \u001b[38;5;129;01min\u001b[39;00m a:\n\u001b[1;32m      3\u001b[0m     \u001b[38;5;28mprint\u001b[39m(i)\n",
      "\u001b[0;31mTypeError\u001b[0m: 'int' object is not iterable"
     ]
    }
   ],
   "source": [
    "a=5\n",
    "for i in a:\n",
    "    print(i)"
   ]
  },
  {
   "cell_type": "markdown",
   "id": "7fed4b93-a240-4573-9eb6-21245b0d5255",
   "metadata": {},
   "source": [
    "- 5라고 출력되어야 하지 않나?"
   ]
  },
  {
   "cell_type": "markdown",
   "id": "d0f80738-7a45-43cd-b05b-b824e06aa577",
   "metadata": {},
   "source": [
    "`-` 의문1:"
   ]
  },
  {
   "cell_type": "markdown",
   "id": "e379fa22-2c24-4032-b7d1-7053ca6aedad",
   "metadata": {},
   "source": [
    "```python\n",
    "for i in ???:\n",
    "    print(i)\n",
    "```"
   ]
  },
  {
   "cell_type": "markdown",
   "id": "1ee42e2c-eed5-4ce6-8cb3-701ee77b4a0a",
   "metadata": {},
   "source": [
    "에서 ???자리에 올 수 있는 것이 무엇일까?"
   ]
  },
  {
   "cell_type": "markdown",
   "id": "974067e3-c2eb-4472-b067-345553a4d70e",
   "metadata": {},
   "source": [
    "(예제5)"
   ]
  },
  {
   "cell_type": "markdown",
   "id": "5cd4e180-bdb9-43bb-b3fb-2da47e09a658",
   "metadata": {},
   "source": [
    "***상황1***"
   ]
  },
  {
   "cell_type": "code",
   "execution_count": 7,
   "id": "6b6ffdde-ecac-4168-a201-3a232f97a6a7",
   "metadata": {},
   "outputs": [
    {
     "data": {
      "text/plain": [
       "[[1, 2, 3, 4], [3, 4, 5, 6]]"
      ]
     },
     "execution_count": 7,
     "metadata": {},
     "output_type": "execute_result"
    }
   ],
   "source": [
    "lst = [[1,2,3,4],[3,4,5,6]]\n",
    "lst"
   ]
  },
  {
   "cell_type": "code",
   "execution_count": 8,
   "id": "7ce70ed0-576d-4520-a332-78f5cc138d57",
   "metadata": {},
   "outputs": [
    {
     "name": "stdout",
     "output_type": "stream",
     "text": [
      "[1, 2, 3, 4]\n",
      "[3, 4, 5, 6]\n"
     ]
    }
   ],
   "source": [
    "for l in lst:\n",
    "    print(l)"
   ]
  },
  {
   "cell_type": "markdown",
   "id": "b6dab347-4c19-46fd-8df5-cbc979af8b26",
   "metadata": {},
   "source": [
    "***상황2***"
   ]
  },
  {
   "cell_type": "code",
   "execution_count": 10,
   "id": "2ecd8845-a571-489a-97fb-c04599c211df",
   "metadata": {},
   "outputs": [
    {
     "data": {
      "text/html": [
       "<div>\n",
       "<style scoped>\n",
       "    .dataframe tbody tr th:only-of-type {\n",
       "        vertical-align: middle;\n",
       "    }\n",
       "\n",
       "    .dataframe tbody tr th {\n",
       "        vertical-align: top;\n",
       "    }\n",
       "\n",
       "    .dataframe thead th {\n",
       "        text-align: right;\n",
       "    }\n",
       "</style>\n",
       "<table border=\"1\" class=\"dataframe\">\n",
       "  <thead>\n",
       "    <tr style=\"text-align: right;\">\n",
       "      <th></th>\n",
       "      <th>0</th>\n",
       "      <th>1</th>\n",
       "      <th>2</th>\n",
       "      <th>3</th>\n",
       "    </tr>\n",
       "  </thead>\n",
       "  <tbody>\n",
       "    <tr>\n",
       "      <th>0</th>\n",
       "      <td>1</td>\n",
       "      <td>2</td>\n",
       "      <td>3</td>\n",
       "      <td>4</td>\n",
       "    </tr>\n",
       "    <tr>\n",
       "      <th>1</th>\n",
       "      <td>3</td>\n",
       "      <td>4</td>\n",
       "      <td>5</td>\n",
       "      <td>6</td>\n",
       "    </tr>\n",
       "  </tbody>\n",
       "</table>\n",
       "</div>"
      ],
      "text/plain": [
       "   0  1  2  3\n",
       "0  1  2  3  4\n",
       "1  3  4  5  6"
      ]
     },
     "execution_count": 10,
     "metadata": {},
     "output_type": "execute_result"
    }
   ],
   "source": [
    "df = pd.DataFrame(lst)\n",
    "df"
   ]
  },
  {
   "cell_type": "code",
   "execution_count": 11,
   "id": "d303f251-56a9-4e9e-8310-d79545f22666",
   "metadata": {},
   "outputs": [
    {
     "name": "stdout",
     "output_type": "stream",
     "text": [
      "0\n",
      "1\n",
      "2\n",
      "3\n"
     ]
    }
   ],
   "source": [
    "for i in df:\n",
    "    print(i)"
   ]
  },
  {
   "cell_type": "markdown",
   "id": "ab2babdf-a9ae-4c6b-8f55-e3486b0cc7d7",
   "metadata": {},
   "source": [
    "칼럼이름들이 나오는 것 같음 $\\to$ 확인해보자."
   ]
  },
  {
   "cell_type": "code",
   "execution_count": 14,
   "id": "f8ca1218-7cdf-4ca2-9204-6c05c7a5fc7d",
   "metadata": {},
   "outputs": [
    {
     "data": {
      "text/html": [
       "<div>\n",
       "<style scoped>\n",
       "    .dataframe tbody tr th:only-of-type {\n",
       "        vertical-align: middle;\n",
       "    }\n",
       "\n",
       "    .dataframe tbody tr th {\n",
       "        vertical-align: top;\n",
       "    }\n",
       "\n",
       "    .dataframe thead th {\n",
       "        text-align: right;\n",
       "    }\n",
       "</style>\n",
       "<table border=\"1\" class=\"dataframe\">\n",
       "  <thead>\n",
       "    <tr style=\"text-align: right;\">\n",
       "      <th></th>\n",
       "      <th>X1</th>\n",
       "      <th>X2</th>\n",
       "      <th>X3</th>\n",
       "      <th>X4</th>\n",
       "    </tr>\n",
       "  </thead>\n",
       "  <tbody>\n",
       "    <tr>\n",
       "      <th>0</th>\n",
       "      <td>1</td>\n",
       "      <td>2</td>\n",
       "      <td>3</td>\n",
       "      <td>4</td>\n",
       "    </tr>\n",
       "    <tr>\n",
       "      <th>1</th>\n",
       "      <td>3</td>\n",
       "      <td>4</td>\n",
       "      <td>5</td>\n",
       "      <td>6</td>\n",
       "    </tr>\n",
       "  </tbody>\n",
       "</table>\n",
       "</div>"
      ],
      "text/plain": [
       "   X1  X2  X3  X4\n",
       "0   1   2   3   4\n",
       "1   3   4   5   6"
      ]
     },
     "execution_count": 14,
     "metadata": {},
     "output_type": "execute_result"
    }
   ],
   "source": [
    "df.columns = pd.Index(['X'+str(i) for i in range(1,5)])\n",
    "df"
   ]
  },
  {
   "cell_type": "code",
   "execution_count": 15,
   "id": "e3e701ec-5429-4dc0-9f44-21c21b7c92c6",
   "metadata": {},
   "outputs": [
    {
     "name": "stdout",
     "output_type": "stream",
     "text": [
      "X1\n",
      "X2\n",
      "X3\n",
      "X4\n"
     ]
    }
   ],
   "source": [
    "for i in df:\n",
    "    print(i)"
   ]
  },
  {
   "cell_type": "markdown",
   "id": "cdf60596-acb0-4b69-9220-56d029aaede4",
   "metadata": {},
   "source": [
    "`-` 의문2: for의 출력결과는 어떻게 예측할 수 있을까?"
   ]
  },
  {
   "cell_type": "markdown",
   "id": "b0f4fc2e-6cd5-4cd3-a503-64c2ce0425c7",
   "metadata": {},
   "source": [
    "## for문의 동작원리"
   ]
  },
  {
   "cell_type": "markdown",
   "id": "da09a4ee-7bb2-47ed-9a41-9173576ca7e2",
   "metadata": {},
   "source": [
    "`-` 의문1의 해결: 아래의 ??? 자리에 올 수 있는 것은 dir() 하여 `__iter__` 가 있는 object이다.\n",
    "\n",
    "```python\n",
    "for i in ???:\n",
    "    print(i)\n",
    "```"
   ]
  },
  {
   "cell_type": "markdown",
   "id": "3810a375-0f55-49cb-beea-0e3ce6aad280",
   "metadata": {},
   "source": [
    "`-` 확인"
   ]
  },
  {
   "cell_type": "code",
   "execution_count": 17,
   "id": "804ed5ec-a1d4-47dd-baa3-7be76c771e5a",
   "metadata": {},
   "outputs": [
    {
     "data": {
      "text/plain": [
       "{'__iter__'}"
      ]
     },
     "execution_count": 17,
     "metadata": {},
     "output_type": "execute_result"
    }
   ],
   "source": [
    "a = [1,2,3] # list\n",
    "set(dir(a)) & {'__iter__'}"
   ]
  },
  {
   "cell_type": "code",
   "execution_count": 18,
   "id": "34253c47-ddc2-4c5d-bf70-b306c8c7b976",
   "metadata": {},
   "outputs": [
    {
     "data": {
      "text/plain": [
       "{'__iter__'}"
      ]
     },
     "execution_count": 18,
     "metadata": {},
     "output_type": "execute_result"
    }
   ],
   "source": [
    "a = 1,2,3 # tuple\n",
    "set(dir(a)) & {'__iter__'}"
   ]
  },
  {
   "cell_type": "code",
   "execution_count": 19,
   "id": "938bb0ef-bd84-4858-8621-e8c484ac8e0a",
   "metadata": {},
   "outputs": [
    {
     "data": {
      "text/plain": [
       "{'__iter__'}"
      ]
     },
     "execution_count": 19,
     "metadata": {},
     "output_type": "execute_result"
    }
   ],
   "source": [
    "a = '123' # string\n",
    "set(dir(a)) & {'__iter__'}"
   ]
  },
  {
   "cell_type": "code",
   "execution_count": 20,
   "id": "bcaabf9d-09a6-4f33-89e9-12d3411d5ca8",
   "metadata": {},
   "outputs": [
    {
     "data": {
      "text/plain": [
       "set()"
      ]
     },
     "execution_count": 20,
     "metadata": {},
     "output_type": "execute_result"
    }
   ],
   "source": [
    "a=3\n",
    "set(dir(a)) & {'__iter__'}"
   ]
  },
  {
   "cell_type": "markdown",
   "id": "1e22dd27-dccb-4147-9325-23fab6ff3f8f",
   "metadata": {},
   "source": [
    "**iterable 하지 않다라는 것은`dir()`을 쳤을 때 `__iter__` 라는 메소드가 없다는 것을 의미**"
   ]
  },
  {
   "cell_type": "markdown",
   "id": "a662392f-2e36-4a48-bdff-f4f93e8bc2e5",
   "metadata": {},
   "source": [
    "- 예상대로 예제1~예제4에서는 int클래스의 instance만 `__iter__`가 없다."
   ]
  },
  {
   "cell_type": "markdown",
   "id": "cc2cda0c-20e3-43e5-ae54-bd7505e02f00",
   "metadata": {},
   "source": [
    "- for문 뒤 `???` 자리에 올 수 있는 것은 **iterable object**만 올 수 있다."
   ]
  },
  {
   "cell_type": "markdown",
   "id": "e774bbcb-be1d-4201-9173-d00cfced3b32",
   "metadata": {},
   "source": [
    "`-` `__iter__`의 역할: iterable object를 iterator로 만들 수 있다."
   ]
  },
  {
   "cell_type": "code",
   "execution_count": 21,
   "id": "8377414f-c820-458d-85af-0167f25f7f64",
   "metadata": {},
   "outputs": [
    {
     "data": {
      "text/plain": [
       "[1, 2, 3]"
      ]
     },
     "execution_count": 21,
     "metadata": {},
     "output_type": "execute_result"
    }
   ],
   "source": [
    "lst = [1,2,3]\n",
    "lst"
   ]
  },
  {
   "cell_type": "code",
   "execution_count": 24,
   "id": "38e7f67b-6921-4d68-afd9-0d7f8342134d",
   "metadata": {},
   "outputs": [
    {
     "data": {
      "text/plain": [
       "2"
      ]
     },
     "execution_count": 24,
     "metadata": {},
     "output_type": "execute_result"
    }
   ],
   "source": [
    "lst[1] # 충실한 리스트"
   ]
  },
  {
   "cell_type": "code",
   "execution_count": 33,
   "id": "63a39f00-9e5f-43ab-9ffd-78c7c18a5cd6",
   "metadata": {},
   "outputs": [
    {
     "data": {
      "text/plain": [
       "<list_iterator at 0x7f2dfc4c51f0>"
      ]
     },
     "execution_count": 33,
     "metadata": {},
     "output_type": "execute_result"
    }
   ],
   "source": [
    "ltor = iter(lst) # 아래와 같은 표현 (a.__str__() = str(a)가 같은 것처럼)\n",
    "#ltor = lst.__iter__() # list iterator\n",
    "ltor"
   ]
  },
  {
   "cell_type": "code",
   "execution_count": 34,
   "id": "dab9db15-7144-449e-9752-fc6e15127159",
   "metadata": {},
   "outputs": [
    {
     "ename": "TypeError",
     "evalue": "'list_iterator' object is not subscriptable",
     "output_type": "error",
     "traceback": [
      "\u001b[0;31m---------------------------------------------------------------------------\u001b[0m",
      "\u001b[0;31mTypeError\u001b[0m                                 Traceback (most recent call last)",
      "Cell \u001b[0;32mIn[34], line 1\u001b[0m\n\u001b[0;32m----> 1\u001b[0m \u001b[43mltor\u001b[49m\u001b[43m[\u001b[49m\u001b[38;5;241;43m1\u001b[39;49m\u001b[43m]\u001b[49m \u001b[38;5;66;03m# 더이상 리스트가 아니다.\u001b[39;00m\n",
      "\u001b[0;31mTypeError\u001b[0m: 'list_iterator' object is not subscriptable"
     ]
    }
   ],
   "source": [
    "ltor[1] # 더이상 리스트가 아니다."
   ]
  },
  {
   "cell_type": "code",
   "execution_count": 35,
   "id": "99ef09e6-235f-4bed-bafc-80b452e97380",
   "metadata": {},
   "outputs": [
    {
     "data": {
      "text/plain": [
       "\u001b[0;31mType:\u001b[0m        list_iterator\n",
       "\u001b[0;31mString form:\u001b[0m <list_iterator object at 0x7f2dfc4c51f0>\n",
       "\u001b[0;31mDocstring:\u001b[0m   <no docstring>"
      ]
     },
     "metadata": {},
     "output_type": "display_data"
    }
   ],
   "source": [
    "ltor?"
   ]
  },
  {
   "cell_type": "markdown",
   "id": "a4f3ac2e-c21b-4bc9-a116-2e91f0130673",
   "metadata": {},
   "source": [
    "`-` iterator가 되면 무엇이 좋은가? $\\to$ 숨겨진 기능 `__next__`가 열린다."
   ]
  },
  {
   "cell_type": "code",
   "execution_count": 36,
   "id": "f55acf45-1d1c-4b7b-bc05-992479f82ef7",
   "metadata": {},
   "outputs": [
    {
     "data": {
      "text/plain": [
       "[1, 2, 3]"
      ]
     },
     "execution_count": 36,
     "metadata": {},
     "output_type": "execute_result"
    }
   ],
   "source": [
    "lst"
   ]
  },
  {
   "cell_type": "code",
   "execution_count": 38,
   "id": "ed45f0c6-2e1e-4570-8fbb-3db2b8e01de6",
   "metadata": {},
   "outputs": [
    {
     "data": {
      "text/plain": [
       "(set(), {'__next__'})"
      ]
     },
     "execution_count": 38,
     "metadata": {},
     "output_type": "execute_result"
    }
   ],
   "source": [
    "set(dir(lst)) & {'__next__'}, set(dir(ltor)) & {'__next__'}"
   ]
  },
  {
   "cell_type": "markdown",
   "id": "6b35ca8a-1009-4149-9cdd-d3dd57324b5f",
   "metadata": {},
   "source": [
    "- lst에는 `__next__` 가 없지만 ltor에는 있다."
   ]
  },
  {
   "cell_type": "markdown",
   "id": "1bfadb16-1a5b-4717-a8d8-6577a52fd649",
   "metadata": {},
   "source": [
    "`-` 그래서 `__next__`의 기능은? $\\to$ 원소를 차례대로 꺼내준다. + 더 이상 꺼낼 원소가 없으면 Stopiteration Error 발생시킨다."
   ]
  },
  {
   "cell_type": "code",
   "execution_count": 39,
   "id": "30b6a811-1aa2-47e7-bac7-cc6dfb5b4a81",
   "metadata": {},
   "outputs": [
    {
     "data": {
      "text/plain": [
       "[1, 2, 3]"
      ]
     },
     "execution_count": 39,
     "metadata": {},
     "output_type": "execute_result"
    }
   ],
   "source": [
    "lst"
   ]
  },
  {
   "cell_type": "code",
   "execution_count": 40,
   "id": "6185f576-4349-44cc-b7e0-a5d326455d58",
   "metadata": {},
   "outputs": [
    {
     "data": {
      "text/plain": [
       "1"
      ]
     },
     "execution_count": 40,
     "metadata": {},
     "output_type": "execute_result"
    }
   ],
   "source": [
    "ltor.__next__()"
   ]
  },
  {
   "cell_type": "code",
   "execution_count": 41,
   "id": "7c6326a0-2808-491a-bf51-723dc14526bd",
   "metadata": {},
   "outputs": [
    {
     "data": {
      "text/plain": [
       "2"
      ]
     },
     "execution_count": 41,
     "metadata": {},
     "output_type": "execute_result"
    }
   ],
   "source": [
    "ltor.__next__()"
   ]
  },
  {
   "cell_type": "code",
   "execution_count": 42,
   "id": "8f07381b-5ff7-4312-b2b9-3f3c4a525132",
   "metadata": {},
   "outputs": [
    {
     "data": {
      "text/plain": [
       "3"
      ]
     },
     "execution_count": 42,
     "metadata": {},
     "output_type": "execute_result"
    }
   ],
   "source": [
    "ltor.__next__()"
   ]
  },
  {
   "cell_type": "code",
   "execution_count": 43,
   "id": "c44fdf6d-1d2b-4d84-be78-8e99d6b5983b",
   "metadata": {},
   "outputs": [
    {
     "ename": "StopIteration",
     "evalue": "",
     "output_type": "error",
     "traceback": [
      "\u001b[0;31m---------------------------------------------------------------------------\u001b[0m",
      "\u001b[0;31mStopIteration\u001b[0m                             Traceback (most recent call last)",
      "Cell \u001b[0;32mIn[43], line 1\u001b[0m\n\u001b[0;32m----> 1\u001b[0m \u001b[43mltor\u001b[49m\u001b[38;5;241;43m.\u001b[39;49m\u001b[38;5;21;43m__next__\u001b[39;49m\u001b[43m(\u001b[49m\u001b[43m)\u001b[49m\n",
      "\u001b[0;31mStopIteration\u001b[0m: "
     ]
    }
   ],
   "source": [
    "ltor.__next__()"
   ]
  },
  {
   "cell_type": "markdown",
   "id": "d9dcc5dc-0f30-411e-93f9-aa7d9d2bbff4",
   "metadata": {},
   "source": [
    "`-` for문의 동작원리"
   ]
  },
  {
   "cell_type": "markdown",
   "id": "56c75a2a-d472-4cc3-805e-c59f4e53eaa7",
   "metadata": {},
   "source": [
    "```python\n",
    "for i in lst:\n",
    "    print(i)\n",
    "```"
   ]
  },
  {
   "cell_type": "markdown",
   "id": "0561ec28-2a4e-4483-8158-2b91f978b55f",
   "metadata": {},
   "source": [
    "(1) `lst.__iter__()` 혹은 `iter(lst)`를 이용하여 lst를 iterator로 만든다. (iterable object를 iterator object로 만든다.)\n",
    "\n",
    "(2) iterator에서 `.__next__()` 함수를 호출하고 결과를 i에 저장한 뒤에 for문 블락안에 있는 내용 (들여쓰기 된 내용)을 실행한다. $\\to$ 반복\n",
    "\n",
    "(3) StopIteration 에러가 발생하면 for문을 멈춘다."
   ]
  },
  {
   "cell_type": "markdown",
   "id": "0ee61308-322a-46d9-81cd-4ebbaaa65227",
   "metadata": {},
   "source": [
    "`-` 아래의 ??? 자리에 올 수 있는 것이 iterable object 가 아니라 iterator 자체여도 for문이 돌아갈까? (당연히 돌아가야 할 것 같음)\n",
    "\n",
    "```python\n",
    "for i in ???:\n",
    "    print(i)\n",
    "```"
   ]
  },
  {
   "cell_type": "code",
   "execution_count": 57,
   "id": "cba0f568-aa24-46cc-86ef-912a96cc9a35",
   "metadata": {},
   "outputs": [
    {
     "name": "stdout",
     "output_type": "stream",
     "text": [
      "1\n",
      "2\n",
      "3\n"
     ]
    }
   ],
   "source": [
    "for i in [1,2,3]: # iterable object\n",
    "    print(i)"
   ]
  },
  {
   "cell_type": "markdown",
   "id": "488f312c-8fc7-4f02-9ed4-1b84deb12ba8",
   "metadata": {},
   "source": [
    "- 당연히 가능!"
   ]
  },
  {
   "cell_type": "markdown",
   "id": "d5c1f206-91ac-41f3-bcb9-0b0805ea700e",
   "metadata": {},
   "source": [
    "`-` a가 iterator일때 iter(a)의 출력결과가 a와 같도록 조정한다면 for문의 동작원리 (1)-(3)을 수행하지 않아도 좋다. $\\to$ 실제로 이렇게 동작한다."
   ]
  },
  {
   "cell_type": "markdown",
   "id": "4f579272-1b14-402d-970b-848a2fc0972c",
   "metadata": {},
   "source": [
    "`-` 요약"
   ]
  },
  {
   "cell_type": "markdown",
   "id": "65a3a5e5-1e72-4157-bd1d-ad5526288056",
   "metadata": {},
   "source": [
    "- iterable object는 숨겨진 기능으로 `__iter__`를 가진다.\n",
    "- iterator object는 숨겨진 기능으로 `__iter__`와 `__next__`를 가진다. (즉 iterator는 그 자체로 iterable object가 된다!)"
   ]
  },
  {
   "cell_type": "code",
   "execution_count": 62,
   "id": "bf319ec1-90c1-4b7d-ace2-ecbe22c9305d",
   "metadata": {},
   "outputs": [],
   "source": [
    "lst = [1,2,3]\n",
    "ltor = iter(lst)"
   ]
  },
  {
   "cell_type": "code",
   "execution_count": 63,
   "id": "189d4f5f-6096-4f18-a55d-7c4d0ce95bca",
   "metadata": {},
   "outputs": [
    {
     "data": {
      "text/plain": [
       "{'__iter__'}"
      ]
     },
     "execution_count": 63,
     "metadata": {},
     "output_type": "execute_result"
    }
   ],
   "source": [
    "set(dir(lst)) & {'__iter__','__next__'}"
   ]
  },
  {
   "cell_type": "code",
   "execution_count": 65,
   "id": "ac26ce8e-872b-4986-a01a-8cb8ed774e0f",
   "metadata": {},
   "outputs": [
    {
     "data": {
      "text/plain": [
       "{'__iter__', '__next__'}"
      ]
     },
     "execution_count": 65,
     "metadata": {},
     "output_type": "execute_result"
    }
   ],
   "source": [
    "set(dir(ltor)) & {'__iter__', '__next__'}"
   ]
  },
  {
   "cell_type": "markdown",
   "id": "136dc9e8-9c5c-4dce-bfb7-dc5aa5cca01f",
   "metadata": {},
   "source": [
    "`-` 의문2의 해결: for의 출력결과는 어떻게 예측할 수 있을까? iterator를 만들어서 `.__next__()`의 출력값을 확인하면 알 수 있다."
   ]
  },
  {
   "cell_type": "code",
   "execution_count": 66,
   "id": "8fa014a7-f55b-4764-bfa4-e499d6627621",
   "metadata": {},
   "outputs": [
    {
     "name": "stdout",
     "output_type": "stream",
     "text": [
      "X1\n",
      "X2\n",
      "X3\n",
      "X4\n"
     ]
    }
   ],
   "source": [
    "for i in df:\n",
    "    print(i)"
   ]
  },
  {
   "cell_type": "code",
   "execution_count": 68,
   "id": "2df40221-17d3-40c5-a1cd-910750dee769",
   "metadata": {},
   "outputs": [
    {
     "data": {
      "text/plain": [
       "\u001b[0;31mType:\u001b[0m        map\n",
       "\u001b[0;31mString form:\u001b[0m <map object at 0x7f2dfc4c85b0>\n",
       "\u001b[0;31mDocstring:\u001b[0m  \n",
       "map(func, *iterables) --> map object\n",
       "\n",
       "Make an iterator that computes the function using arguments from\n",
       "each of the iterables.  Stops when the shortest iterable is exhausted."
      ]
     },
     "metadata": {},
     "output_type": "display_data"
    }
   ],
   "source": [
    "dftor = iter(df)\n",
    "dftor?"
   ]
  },
  {
   "cell_type": "code",
   "execution_count": 69,
   "id": "796c24a4-3b15-4a57-a2e5-7320c9169aa2",
   "metadata": {},
   "outputs": [
    {
     "data": {
      "text/plain": [
       "'X1'"
      ]
     },
     "execution_count": 69,
     "metadata": {},
     "output_type": "execute_result"
    }
   ],
   "source": [
    "dftor.__next__()"
   ]
  },
  {
   "cell_type": "code",
   "execution_count": 70,
   "id": "aa86f8ac-6068-4690-91dc-daa4eb59c44d",
   "metadata": {},
   "outputs": [
    {
     "data": {
      "text/plain": [
       "'X2'"
      ]
     },
     "execution_count": 70,
     "metadata": {},
     "output_type": "execute_result"
    }
   ],
   "source": [
    "dftor.__next__()"
   ]
  },
  {
   "cell_type": "code",
   "execution_count": 71,
   "id": "4abdf97a-57ce-4056-9cb5-e3f88840cbe9",
   "metadata": {},
   "outputs": [
    {
     "data": {
      "text/plain": [
       "'X3'"
      ]
     },
     "execution_count": 71,
     "metadata": {},
     "output_type": "execute_result"
    }
   ],
   "source": [
    "dftor.__next__()"
   ]
  },
  {
   "cell_type": "code",
   "execution_count": 72,
   "id": "71cd1ccd-ee79-4119-8c7e-ba65566a2185",
   "metadata": {},
   "outputs": [
    {
     "data": {
      "text/plain": [
       "'X4'"
      ]
     },
     "execution_count": 72,
     "metadata": {},
     "output_type": "execute_result"
    }
   ],
   "source": [
    "dftor.__next__()"
   ]
  },
  {
   "cell_type": "code",
   "execution_count": 73,
   "id": "d0215a70-ff5a-40e9-94e7-2e45ae90ddcc",
   "metadata": {},
   "outputs": [
    {
     "ename": "StopIteration",
     "evalue": "",
     "output_type": "error",
     "traceback": [
      "\u001b[0;31m---------------------------------------------------------------------------\u001b[0m",
      "\u001b[0;31mStopIteration\u001b[0m                             Traceback (most recent call last)",
      "Cell \u001b[0;32mIn[73], line 1\u001b[0m\n\u001b[0;32m----> 1\u001b[0m \u001b[43mdftor\u001b[49m\u001b[38;5;241;43m.\u001b[39;49m\u001b[38;5;21;43m__next__\u001b[39;49m\u001b[43m(\u001b[49m\u001b[43m)\u001b[49m\n",
      "\u001b[0;31mStopIteration\u001b[0m: "
     ]
    }
   ],
   "source": [
    "dftor.__next__()"
   ]
  },
  {
   "cell_type": "markdown",
   "id": "be16b876-a21b-4c1a-a216-8ac88a91c688",
   "metadata": {},
   "source": [
    "## range()"
   ]
  },
  {
   "cell_type": "markdown",
   "id": "73277386-fb65-414c-a7bc-6bab54a089f0",
   "metadata": {},
   "source": [
    "`-` 파이썬에서 for문을 처음 배울 때: range(5)를 써라!"
   ]
  },
  {
   "cell_type": "code",
   "execution_count": 74,
   "id": "d0b3d618-fa6d-4f46-9bc2-2e08dc9efd9b",
   "metadata": {},
   "outputs": [
    {
     "name": "stdout",
     "output_type": "stream",
     "text": [
      "0\n",
      "1\n",
      "2\n",
      "3\n",
      "4\n"
     ]
    }
   ],
   "source": [
    "for i in range(5):\n",
    "    print(i)"
   ]
  },
  {
   "cell_type": "markdown",
   "id": "99500690-e30b-453e-b0f0-48d3202e3a5e",
   "metadata": {},
   "source": [
    "- range(5)가 도대체 무엇이길래?  ## iterator 아니면 iterable object 일건데.."
   ]
  },
  {
   "cell_type": "code",
   "execution_count": 75,
   "id": "fcbaea65-ad41-48f0-806a-b57e0f257453",
   "metadata": {},
   "outputs": [
    {
     "data": {
      "text/plain": [
       "range(0, 5)"
      ]
     },
     "execution_count": 75,
     "metadata": {},
     "output_type": "execute_result"
    }
   ],
   "source": [
    "range(5)"
   ]
  },
  {
   "cell_type": "code",
   "execution_count": 76,
   "id": "95b34dcb-208e-4ee6-a220-293e89115b37",
   "metadata": {},
   "outputs": [
    {
     "data": {
      "text/plain": [
       "'range(0, 5)'"
      ]
     },
     "execution_count": 76,
     "metadata": {},
     "output_type": "execute_result"
    }
   ],
   "source": [
    "repr(range(5))"
   ]
  },
  {
   "cell_type": "markdown",
   "id": "c37a6290-7833-4f71-a234-f871c1d292a0",
   "metadata": {},
   "source": [
    "`-` range(5)의 정체는 그냥 iterable object이다."
   ]
  },
  {
   "cell_type": "code",
   "execution_count": 79,
   "id": "f75478a8-4b87-441f-9413-25c8d532c79e",
   "metadata": {},
   "outputs": [
    {
     "data": {
      "text/plain": [
       "{'__iter__'}"
      ]
     },
     "execution_count": 79,
     "metadata": {},
     "output_type": "execute_result"
    }
   ],
   "source": [
    "set(dir(range(5))) & {'__iter__', '__next__'}"
   ]
  },
  {
   "cell_type": "markdown",
   "id": "e926a6bf-8811-4987-9a91-94ea536d4966",
   "metadata": {},
   "source": [
    "`__next__` 는 갖고있지 않은데 `__iter__`만 갖고있으니까 range(5)는 iterable object"
   ]
  },
  {
   "cell_type": "markdown",
   "id": "085d22ec-9413-436f-8b89-e099729f1647",
   "metadata": {},
   "source": [
    "`-` 그래서 언제든지 iterator로 바꿀 수 있다."
   ]
  },
  {
   "cell_type": "code",
   "execution_count": 80,
   "id": "934a4198-3a24-46e8-b8ce-7ab7c349a634",
   "metadata": {},
   "outputs": [],
   "source": [
    "rtor = iter(range(5))"
   ]
  },
  {
   "cell_type": "code",
   "execution_count": 81,
   "id": "2a7fe429-f197-4281-b858-755462c96e59",
   "metadata": {},
   "outputs": [
    {
     "data": {
      "text/plain": [
       "\u001b[0;31mType:\u001b[0m        range_iterator\n",
       "\u001b[0;31mString form:\u001b[0m <range_iterator object at 0x7f2dfc4c56c0>\n",
       "\u001b[0;31mDocstring:\u001b[0m   <no docstring>"
      ]
     },
     "metadata": {},
     "output_type": "display_data"
    }
   ],
   "source": [
    "rtor?"
   ]
  },
  {
   "cell_type": "code",
   "execution_count": 83,
   "id": "35ed006c-2c1c-403f-99d0-74333bca9191",
   "metadata": {},
   "outputs": [
    {
     "data": {
      "text/plain": [
       "{'__iter__', '__next__'}"
      ]
     },
     "execution_count": 83,
     "metadata": {},
     "output_type": "execute_result"
    }
   ],
   "source": [
    "set(dir(rtor)) & {'__iter__','__next__'}"
   ]
  },
  {
   "cell_type": "markdown",
   "id": "9d73f44e-f2c9-4eae-b871-bbafad95eb2e",
   "metadata": {},
   "source": [
    "`-`  for문에서 range(5)가 행동하는 방법?\n"
   ]
  },
  {
   "cell_type": "code",
   "execution_count": 84,
   "id": "87c272e0-fece-447f-bf75-39efd2222c6d",
   "metadata": {},
   "outputs": [
    {
     "data": {
      "text/plain": [
       "0"
      ]
     },
     "execution_count": 84,
     "metadata": {},
     "output_type": "execute_result"
    }
   ],
   "source": [
    "rtor.__next__()"
   ]
  },
  {
   "cell_type": "code",
   "execution_count": 85,
   "id": "882c2831-591f-4f7b-b423-67b337715c43",
   "metadata": {},
   "outputs": [
    {
     "data": {
      "text/plain": [
       "1"
      ]
     },
     "execution_count": 85,
     "metadata": {},
     "output_type": "execute_result"
    }
   ],
   "source": [
    "rtor.__next__()"
   ]
  },
  {
   "cell_type": "code",
   "execution_count": 86,
   "id": "c2298c4e-04ec-4521-b247-22d30c19f8e0",
   "metadata": {},
   "outputs": [
    {
     "data": {
      "text/plain": [
       "2"
      ]
     },
     "execution_count": 86,
     "metadata": {},
     "output_type": "execute_result"
    }
   ],
   "source": [
    "rtor.__next__()"
   ]
  },
  {
   "cell_type": "code",
   "execution_count": 87,
   "id": "9c78db43-b189-405e-9b92-e98f8e67686c",
   "metadata": {},
   "outputs": [
    {
     "data": {
      "text/plain": [
       "3"
      ]
     },
     "execution_count": 87,
     "metadata": {},
     "output_type": "execute_result"
    }
   ],
   "source": [
    "rtor.__next__()"
   ]
  },
  {
   "cell_type": "code",
   "execution_count": 88,
   "id": "2e10c002-3f0d-483f-a866-3704330ff2b6",
   "metadata": {},
   "outputs": [
    {
     "data": {
      "text/plain": [
       "4"
      ]
     },
     "execution_count": 88,
     "metadata": {},
     "output_type": "execute_result"
    }
   ],
   "source": [
    "rtor.__next__()"
   ]
  },
  {
   "cell_type": "code",
   "execution_count": 89,
   "id": "959d839f-dd1c-423b-8df5-cb41764218b2",
   "metadata": {},
   "outputs": [
    {
     "ename": "StopIteration",
     "evalue": "",
     "output_type": "error",
     "traceback": [
      "\u001b[0;31m---------------------------------------------------------------------------\u001b[0m",
      "\u001b[0;31mStopIteration\u001b[0m                             Traceback (most recent call last)",
      "Cell \u001b[0;32mIn[89], line 1\u001b[0m\n\u001b[0;32m----> 1\u001b[0m \u001b[43mrtor\u001b[49m\u001b[38;5;241;43m.\u001b[39;49m\u001b[38;5;21;43m__next__\u001b[39;49m\u001b[43m(\u001b[49m\u001b[43m)\u001b[49m\n",
      "\u001b[0;31mStopIteration\u001b[0m: "
     ]
    }
   ],
   "source": [
    "rtor.__next__()"
   ]
  },
  {
   "cell_type": "markdown",
   "id": "3bf34f11-ccc4-443d-bad3-726b9992033e",
   "metadata": {},
   "source": [
    "## zip"
   ]
  },
  {
   "cell_type": "markdown",
   "id": "e08889df-e9b5-4011-8af6-c22005cff28c",
   "metadata": {},
   "source": [
    "`-` 이터레이터의 개념을 알면 for문에 대한 이해도가 대폭 상승한다."
   ]
  },
  {
   "cell_type": "code",
   "execution_count": 90,
   "id": "9297887a-8bb0-4b43-9b29-583ba8b3e833",
   "metadata": {},
   "outputs": [
    {
     "name": "stdout",
     "output_type": "stream",
     "text": [
      "(1, 'a')\n",
      "(2, 'b')\n",
      "(3, 'c')\n"
     ]
    }
   ],
   "source": [
    "for i in zip([1,2,3],'abc'):\n",
    "    print(i)"
   ]
  },
  {
   "cell_type": "markdown",
   "id": "cdbb65b9-7744-4d08-a5e7-e446d5264ad3",
   "metadata": {},
   "source": [
    "- zip은 뭐지???"
   ]
  },
  {
   "cell_type": "code",
   "execution_count": 91,
   "id": "ca395402-394f-4ea7-b5ed-b3b8485606ba",
   "metadata": {},
   "outputs": [
    {
     "data": {
      "text/plain": [
       "<zip at 0x7f2dfc4e8340>"
      ]
     },
     "execution_count": 91,
     "metadata": {},
     "output_type": "execute_result"
    }
   ],
   "source": [
    "zip([1,2,3],'abc')"
   ]
  },
  {
   "cell_type": "markdown",
   "id": "533bdd09-06cf-438a-9f13-1de59760fd75",
   "metadata": {},
   "source": [
    "`-` 어차피 for i in `????`: 의 ???? 자리는 iterable object(iterator)의 자리이다."
   ]
  },
  {
   "cell_type": "code",
   "execution_count": 92,
   "id": "0e7c0063-153b-48ec-b646-81f013818376",
   "metadata": {},
   "outputs": [
    {
     "data": {
      "text/plain": [
       "{'__iter__', '__next__'}"
      ]
     },
     "execution_count": 92,
     "metadata": {},
     "output_type": "execute_result"
    }
   ],
   "source": [
    "set(dir(zip([1,2,3],'abc'))) & {'__iter__','__next__'}"
   ]
  },
  {
   "cell_type": "markdown",
   "id": "bf24a598-cbf7-45c7-ae07-5a0a6ba1e2ae",
   "metadata": {},
   "source": [
    "- `__next__()` 함수가 있음 $\\to$ `zip([1,2,3],'abc')`는 그자체로 iterator 였다!"
   ]
  },
  {
   "cell_type": "code",
   "execution_count": 94,
   "id": "bd1bc948-6657-49ea-abd5-1e0778828289",
   "metadata": {},
   "outputs": [],
   "source": [
    "z = zip([1,2,3],'abc')"
   ]
  },
  {
   "cell_type": "code",
   "execution_count": 95,
   "id": "6aebb349-4580-413b-a686-874c286b568d",
   "metadata": {},
   "outputs": [
    {
     "data": {
      "text/plain": [
       "(1, 'a')"
      ]
     },
     "execution_count": 95,
     "metadata": {},
     "output_type": "execute_result"
    }
   ],
   "source": [
    "z.__next__()"
   ]
  },
  {
   "cell_type": "code",
   "execution_count": 96,
   "id": "b62f3446-dc2c-4d43-bbd2-28b86b02ad62",
   "metadata": {},
   "outputs": [
    {
     "data": {
      "text/plain": [
       "(2, 'b')"
      ]
     },
     "execution_count": 96,
     "metadata": {},
     "output_type": "execute_result"
    }
   ],
   "source": [
    "z.__next__()"
   ]
  },
  {
   "cell_type": "code",
   "execution_count": 97,
   "id": "fb5ef366-f2c5-4d31-9f6f-167fcd8629ee",
   "metadata": {},
   "outputs": [
    {
     "data": {
      "text/plain": [
       "(3, 'c')"
      ]
     },
     "execution_count": 97,
     "metadata": {},
     "output_type": "execute_result"
    }
   ],
   "source": [
    "z.__next__()"
   ]
  },
  {
   "cell_type": "code",
   "execution_count": 98,
   "id": "7eabfb46-a75e-46b3-ab34-80d50310a610",
   "metadata": {},
   "outputs": [
    {
     "ename": "StopIteration",
     "evalue": "",
     "output_type": "error",
     "traceback": [
      "\u001b[0;31m---------------------------------------------------------------------------\u001b[0m",
      "\u001b[0;31mStopIteration\u001b[0m                             Traceback (most recent call last)",
      "Cell \u001b[0;32mIn[98], line 1\u001b[0m\n\u001b[0;32m----> 1\u001b[0m \u001b[43mz\u001b[49m\u001b[38;5;241;43m.\u001b[39;49m\u001b[38;5;21;43m__next__\u001b[39;49m\u001b[43m(\u001b[49m\u001b[43m)\u001b[49m\n",
      "\u001b[0;31mStopIteration\u001b[0m: "
     ]
    }
   ],
   "source": [
    "z.__next__()"
   ]
  },
  {
   "cell_type": "markdown",
   "id": "8cd7403f-2873-48be-b4d8-c4df7f12f88a",
   "metadata": {},
   "source": [
    "## 사용자정의 이터레이터"
   ]
  },
  {
   "cell_type": "markdown",
   "id": "c95a8a10-4a7a-468d-9030-8220187ebc7f",
   "metadata": {},
   "source": [
    "`-` 내가 이터레이터를 만들어보자."
   ]
  },
  {
   "cell_type": "code",
   "execution_count": 105,
   "id": "2e59d647-d061-4972-a422-91c8e2f723fb",
   "metadata": {},
   "outputs": [],
   "source": [
    "class Klass: # 찌를 내는 순간 for문이 멈추도록 하는 이터레이터를 만들자.\n",
    "    def __init__(self):\n",
    "        self.candidate = ['묵','찌','빠']\n",
    "    def __iter__(self):\n",
    "        return self\n",
    "    def __next__(self):\n",
    "        action = np.random.choice(self.candidate)\n",
    "        if action == '찌':\n",
    "            print('찌가 나와서 for문을 멈춥니다.')\n",
    "            raise StopIteration\n",
    "        else:\n",
    "            return action"
   ]
  },
  {
   "cell_type": "code",
   "execution_count": 106,
   "id": "380d670f-394d-4e83-ae8c-d43a2313e9bf",
   "metadata": {},
   "outputs": [],
   "source": [
    "a = Klass() # 클래스로부터 인스턴스 만들기"
   ]
  },
  {
   "cell_type": "code",
   "execution_count": 107,
   "id": "59f50544-844e-476b-82ff-a934dfce523c",
   "metadata": {},
   "outputs": [
    {
     "data": {
      "text/plain": [
       "\u001b[0;31mType:\u001b[0m        Klass\n",
       "\u001b[0;31mString form:\u001b[0m <__main__.Klass object at 0x7f2dfc373af0>\n",
       "\u001b[0;31mDocstring:\u001b[0m   <no docstring>"
      ]
     },
     "metadata": {},
     "output_type": "display_data"
    }
   ],
   "source": [
    "a?"
   ]
  },
  {
   "cell_type": "code",
   "execution_count": 108,
   "id": "ecae0fe5-ce0e-4cee-a831-6fbd65ad5143",
   "metadata": {},
   "outputs": [
    {
     "data": {
      "text/plain": [
       "{'__iter__', '__next__'}"
      ]
     },
     "execution_count": 108,
     "metadata": {},
     "output_type": "execute_result"
    }
   ],
   "source": [
    "set(dir(a)) & {'__iter__', '__next__'} # a는 이터레이터!"
   ]
  },
  {
   "cell_type": "code",
   "execution_count": 111,
   "id": "2ca75830-66cd-4a13-9112-4b22344bb1ba",
   "metadata": {},
   "outputs": [
    {
     "data": {
      "text/plain": [
       "'빠'"
      ]
     },
     "execution_count": 111,
     "metadata": {},
     "output_type": "execute_result"
    }
   ],
   "source": [
    "a.__next__()"
   ]
  },
  {
   "cell_type": "code",
   "execution_count": 112,
   "id": "2fe0a8af-849a-488b-ba2e-be4646ce8a21",
   "metadata": {},
   "outputs": [
    {
     "data": {
      "text/plain": [
       "'묵'"
      ]
     },
     "execution_count": 112,
     "metadata": {},
     "output_type": "execute_result"
    }
   ],
   "source": [
    "a.__next__()"
   ]
  },
  {
   "cell_type": "code",
   "execution_count": 113,
   "id": "2cd1e418-14e4-4bfd-99fa-0f7b63349111",
   "metadata": {},
   "outputs": [
    {
     "data": {
      "text/plain": [
       "'묵'"
      ]
     },
     "execution_count": 113,
     "metadata": {},
     "output_type": "execute_result"
    }
   ],
   "source": [
    "a.__next__()"
   ]
  },
  {
   "cell_type": "code",
   "execution_count": 115,
   "id": "0090aac5-b7a6-45d6-b228-755b4e6026dc",
   "metadata": {},
   "outputs": [
    {
     "name": "stdout",
     "output_type": "stream",
     "text": [
      "찌가 나와서 for문을 멈춥니다.\n"
     ]
    },
    {
     "ename": "StopIteration",
     "evalue": "",
     "output_type": "error",
     "traceback": [
      "\u001b[0;31m---------------------------------------------------------------------------\u001b[0m",
      "\u001b[0;31mStopIteration\u001b[0m                             Traceback (most recent call last)",
      "Cell \u001b[0;32mIn[115], line 1\u001b[0m\n\u001b[0;32m----> 1\u001b[0m \u001b[43ma\u001b[49m\u001b[38;5;241;43m.\u001b[39;49m\u001b[38;5;21;43m__next__\u001b[39;49m\u001b[43m(\u001b[49m\u001b[43m)\u001b[49m\n",
      "Cell \u001b[0;32mIn[105], line 10\u001b[0m, in \u001b[0;36mKlass.__next__\u001b[0;34m(self)\u001b[0m\n\u001b[1;32m      8\u001b[0m \u001b[38;5;28;01mif\u001b[39;00m action \u001b[38;5;241m==\u001b[39m \u001b[38;5;124m'\u001b[39m\u001b[38;5;124m찌\u001b[39m\u001b[38;5;124m'\u001b[39m:\n\u001b[1;32m      9\u001b[0m     \u001b[38;5;28mprint\u001b[39m(\u001b[38;5;124m'\u001b[39m\u001b[38;5;124m찌가 나와서 for문을 멈춥니다.\u001b[39m\u001b[38;5;124m'\u001b[39m)\n\u001b[0;32m---> 10\u001b[0m     \u001b[38;5;28;01mraise\u001b[39;00m \u001b[38;5;167;01mStopIteration\u001b[39;00m\n\u001b[1;32m     11\u001b[0m \u001b[38;5;28;01melse\u001b[39;00m:\n\u001b[1;32m     12\u001b[0m     \u001b[38;5;28;01mreturn\u001b[39;00m action\n",
      "\u001b[0;31mStopIteration\u001b[0m: "
     ]
    }
   ],
   "source": [
    "a.__next__()"
   ]
  },
  {
   "cell_type": "code",
   "execution_count": 116,
   "id": "9dd3bad4-cb0f-44af-8203-dedd3b27731f",
   "metadata": {},
   "outputs": [
    {
     "name": "stdout",
     "output_type": "stream",
     "text": [
      "빠\n",
      "묵\n",
      "묵\n",
      "빠\n",
      "찌가 나와서 for문을 멈춥니다.\n"
     ]
    }
   ],
   "source": [
    "for i in a:\n",
    "    print(i)"
   ]
  },
  {
   "cell_type": "markdown",
   "id": "4993ffc8-0437-4d2b-b2e9-fc1bc32e8583",
   "metadata": {},
   "source": [
    "## 파이썬의 비밀 1~5"
   ]
  },
  {
   "cell_type": "markdown",
   "id": "b8e9bf2b-0134-4940-bbda-87849850a054",
   "metadata": {},
   "source": [
    "- 파이썬의 비밀1: 자료형은 클래스의 이름이다.\n",
    "- 파이썬의 비밀2: 클래스에는 `__str__` 처럼 숨겨진 매서드가 존재한다. 이를 이용하여 파이썬 내부의 기능을 가로챌 수 있다.\n",
    "- 파이썬의 비밀3: 주피터노트북(대화형 콘솔)에서는 \"오브젝트이름 + 엔터\"를 쳐서 나오는 출력은 `__repr__`로 가로챌 수 있다. (주피터의 비밀)\n",
    "- 파이썬의 비밀4: 함수와 클래스는 숨겨진 메소드에 `__call__`을 가진 오브젝트일 뿐이다.\n",
    "- 파이썬의 비밀5: for문의 비밀(iterable object, iterator, StopIteration Error)"
   ]
  }
 ],
 "metadata": {
  "kernelspec": {
   "display_name": "Python 3",
   "language": "python",
   "name": "python3"
  },
  "language_info": {
   "codemirror_mode": {
    "name": "ipython",
    "version": 3
   },
   "file_extension": ".py",
   "mimetype": "text/x-python",
   "name": "python",
   "nbconvert_exporter": "python",
   "pygments_lexer": "ipython3",
   "version": "3.8.16"
  }
 },
 "nbformat": 4,
 "nbformat_minor": 5
}
