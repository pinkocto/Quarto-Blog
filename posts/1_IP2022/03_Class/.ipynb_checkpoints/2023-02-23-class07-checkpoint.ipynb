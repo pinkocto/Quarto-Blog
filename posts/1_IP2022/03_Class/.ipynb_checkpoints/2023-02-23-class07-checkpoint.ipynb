{
 "cells": [
  {
   "cell_type": "raw",
   "id": "94b63a35-5234-4519-9dac-e420cdec1910",
   "metadata": {},
   "source": [
    "---\n",
    "title: '**[IP2022]** class 07단계'\n",
    "author: 'jiyun Lim'\n",
    "date: '02/23/2023'\n",
    "categories:\n",
    "  - class\n",
    "  - Python\n",
    "---"
   ]
  },
  {
   "cell_type": "markdown",
   "id": "9b5209ad-1b2c-4d75-8275-7ccc451d9264",
   "metadata": {},
   "source": [
    "# 클래스공부 7단계"
   ]
  },
  {
   "cell_type": "markdown",
   "id": "138fbfdd-2245-478b-b257-90864e35a294",
   "metadata": {},
   "source": [
    "> 함수형 프로그래밍, callable object, 파이썬의 비밀"
   ]
  },
  {
   "cell_type": "markdown",
   "id": "5470e29f-a019-42bd-b7c0-47350c13f27f",
   "metadata": {},
   "source": [
    "# imports"
   ]
  },
  {
   "cell_type": "code",
   "execution_count": 1,
   "id": "9e18091b-4387-46c6-a18c-3a6a3a7d5080",
   "metadata": {},
   "outputs": [],
   "source": [
    "import numpy as np\n",
    "import matplotlib.pyplot as plt\n",
    "import pandas as pd"
   ]
  },
  {
   "cell_type": "markdown",
   "id": "fe9805ff-3f4b-4b12-b14b-c35f9a42033f",
   "metadata": {},
   "source": [
    "# 함수공부"
   ]
  },
  {
   "cell_type": "markdown",
   "id": "afc8bcb7-54c9-4f08-b43b-0d0e89946b12",
   "metadata": {},
   "source": [
    "`-` 다시 함수를 공부해봅시다."
   ]
  },
  {
   "cell_type": "code",
   "execution_count": 2,
   "id": "b2f99d07-a1fc-4ae5-8a9f-24e1495a3ba5",
   "metadata": {},
   "outputs": [],
   "source": [
    "def f(x):\n",
    "    return x+1"
   ]
  },
  {
   "cell_type": "code",
   "execution_count": 4,
   "id": "b5aa25cc-1262-4d50-9199-c7fb362be2df",
   "metadata": {},
   "outputs": [
    {
     "data": {
      "text/plain": [
       "4"
      ]
     },
     "execution_count": 4,
     "metadata": {},
     "output_type": "execute_result"
    }
   ],
   "source": [
    "f(3)"
   ]
  },
  {
   "cell_type": "markdown",
   "id": "4735a227-46d8-48af-bdd5-5d9777028647",
   "metadata": {},
   "source": [
    "`-` 함수의 사용방법?"
   ]
  },
  {
   "cell_type": "markdown",
   "id": "dac4dc56-3af9-46be-ab74-f58b8684a70f",
   "metadata": {},
   "source": [
    "- 입력으로 변수 x를 받음 = 입력으로 인스턴스 x를 받음\n",
    "\n",
    "- 출력으로 변수 x+1을 리턴 = 출력으로 인스턴스 x+1을 리턴"
   ]
  },
  {
   "cell_type": "markdown",
   "id": "a622622a-a833-4364-b6cf-d8c8149b3124",
   "metadata": {},
   "source": [
    "`-` 사실1: 파이썬에서는 함수는 인스턴스를 입력으로 받고 인스턴스를 출력한다."
   ]
  },
  {
   "cell_type": "markdown",
   "id": "7f6cf43b-f11b-41aa-a579-060b76f185f4",
   "metadata": {},
   "source": [
    "`-` 함수의 자료형?"
   ]
  },
  {
   "cell_type": "code",
   "execution_count": 5,
   "id": "9c636b37-430e-48ed-8c07-49ccc6248343",
   "metadata": {},
   "outputs": [
    {
     "data": {
      "text/plain": [
       "\u001b[0;31mSignature:\u001b[0m \u001b[0mf\u001b[0m\u001b[0;34m(\u001b[0m\u001b[0mx\u001b[0m\u001b[0;34m)\u001b[0m\u001b[0;34m\u001b[0m\u001b[0;34m\u001b[0m\u001b[0m\n",
       "\u001b[0;31mDocstring:\u001b[0m <no docstring>\n",
       "\u001b[0;31mFile:\u001b[0m      ~/Dropbox/Quarto-Blog/posts/Python/<ipython-input-2-9897bae5f29b>\n",
       "\u001b[0;31mType:\u001b[0m      function"
      ]
     },
     "metadata": {},
     "output_type": "display_data"
    }
   ],
   "source": [
    "?f"
   ]
  },
  {
   "cell_type": "markdown",
   "id": "176fcaee-e358-49c1-b24c-796ffa04b813",
   "metadata": {},
   "source": [
    "- type이 function이다.\n",
    "- f는 function class의 instance이다.\n",
    "- 결국 f 역시 하나의 오브젝트에 불과하다."
   ]
  },
  {
   "cell_type": "markdown",
   "id": "8542aa8f-74d1-4869-b063-e299021f9254",
   "metadata": {},
   "source": [
    "`-` 사실2: 함수도 결국 인스턴스이다. $\\to$ 함수의 입력으로 함수를 쓸 수도 있고 함수의 출력으로 함수가 나올 수도 있다."
   ]
  },
  {
   "cell_type": "markdown",
   "id": "8b230a95-d57a-4df3-9c27-0d1cb128a6ab",
   "metadata": {},
   "source": [
    "# 함수형 프로그래밍"
   ]
  },
  {
   "cell_type": "markdown",
   "id": "dfede873-514c-401d-8e4c-9e60d59a2c5c",
   "metadata": {},
   "source": [
    "***함수도 결국 오브젝트에 불과하다***"
   ]
  },
  {
   "cell_type": "markdown",
   "id": "01d17eac-dbd2-4249-ae92-3e5bb8302e3b",
   "metadata": {},
   "source": [
    "## (예제1) 숫자입력, 함수출력"
   ]
  },
  {
   "cell_type": "code",
   "execution_count": 6,
   "id": "568b062f-964e-4609-be47-a3fd26e5cabb",
   "metadata": {},
   "outputs": [],
   "source": [
    "def f(a):\n",
    "    def _f(x):\n",
    "        return (x-a)**2\n",
    "    return _f"
   ]
  },
  {
   "cell_type": "code",
   "execution_count": 7,
   "id": "38abbf54-1563-4c09-8111-12be2d0e72d4",
   "metadata": {},
   "outputs": [],
   "source": [
    "g = f(10) # g(x) = (x-10)**2"
   ]
  },
  {
   "cell_type": "code",
   "execution_count": 8,
   "id": "322deb86-474d-4496-b420-8026eb7e09a8",
   "metadata": {},
   "outputs": [
    {
     "data": {
      "text/plain": [
       "64"
      ]
     },
     "execution_count": 8,
     "metadata": {},
     "output_type": "execute_result"
    }
   ],
   "source": [
    "g(2) # (2-10)**2 = 64"
   ]
  },
  {
   "cell_type": "markdown",
   "id": "49314c28-42b3-46aa-84d3-e2cfbc498ee7",
   "metadata": {},
   "source": [
    "- 해석: $f(a)$는 $a$를 입력으로 받고 $g(x)=(x-a)^2$를 함수를 리턴해주는 함수"
   ]
  },
  {
   "cell_type": "markdown",
   "id": "614124b2-bf72-442c-bbc9-c837205b3ef6",
   "metadata": {},
   "source": [
    "## (예제1)의 다른 표현: 익명함수 `lambda`"
   ]
  },
  {
   "cell_type": "markdown",
   "id": "ca922f1f-817f-44f1-8b0f-92cff31f7b56",
   "metadata": {},
   "source": [
    "#### 표현1"
   ]
  },
  {
   "cell_type": "code",
   "execution_count": 9,
   "id": "728c1107-484b-4e36-a49b-967d694f585b",
   "metadata": {},
   "outputs": [],
   "source": [
    "def f(a):\n",
    "    _f = lambda x: (x-a)**2 ### lambda x: (x-a)**2 가 실행되는 순간 함수오브젝트가 만들어지고 그것이 _f 로 저장됨 \n",
    "    return _f"
   ]
  },
  {
   "cell_type": "code",
   "execution_count": 10,
   "id": "db34a5fd-3ea6-4fa3-9dc8-c3ffb0fb0d7f",
   "metadata": {},
   "outputs": [],
   "source": [
    "g = f(10) # g(x) = (x-10)**2"
   ]
  },
  {
   "cell_type": "code",
   "execution_count": 11,
   "id": "34b07dbc-8410-4ee4-8283-f65e817fe9d0",
   "metadata": {},
   "outputs": [
    {
     "data": {
      "text/plain": [
       "49"
      ]
     },
     "execution_count": 11,
     "metadata": {},
     "output_type": "execute_result"
    }
   ],
   "source": [
    "g(3)"
   ]
  },
  {
   "cell_type": "markdown",
   "id": "e25d3aa6-f862-4bd5-a8ef-252a47554ebf",
   "metadata": {},
   "source": [
    "#### 표현2"
   ]
  },
  {
   "cell_type": "code",
   "execution_count": 12,
   "id": "39941816-75da-424c-afbb-418bffe36d00",
   "metadata": {},
   "outputs": [],
   "source": [
    "def f(a):\n",
    "    return lambda x: (x-a)**2"
   ]
  },
  {
   "cell_type": "code",
   "execution_count": 13,
   "id": "65513e83-475a-4cf8-a0d9-1519f89ced90",
   "metadata": {},
   "outputs": [],
   "source": [
    "g = f(10)"
   ]
  },
  {
   "cell_type": "code",
   "execution_count": 18,
   "id": "95dfc0d7-1ee5-47e9-a36d-065eee2afef6",
   "metadata": {},
   "outputs": [
    {
     "data": {
      "text/plain": [
       "49"
      ]
     },
     "execution_count": 18,
     "metadata": {},
     "output_type": "execute_result"
    }
   ],
   "source": [
    "g(3)"
   ]
  },
  {
   "cell_type": "markdown",
   "id": "6d20b815-f7e7-456a-b0f8-764357e4fdc6",
   "metadata": {},
   "source": [
    "- `lambda x: (x-a)**2`는 $\\text{lambda}(x) = (x-a)^2$의 느낌으로 기억하면 외우기 쉽다.\n",
    "\n",
    "- `lambda x: (x-a)**2`는 \"아직 이름이 없는 함수 오브젝트를 (가칭 lambda라고 하자) 만들고 기능은 x를 입력으로 하고 (x-2)**2를 출력하도록 하자\" 라는 뜻으로 해석하면 된다."
   ]
  },
  {
   "cell_type": "markdown",
   "id": "fde82f0d-c524-4f90-a3b2-cfe5709aea99",
   "metadata": {},
   "source": [
    "## (예제2) 함수입력, 숫자출력"
   ]
  },
  {
   "cell_type": "code",
   "execution_count": 19,
   "id": "4624bcb6-b553-4f3d-81f6-f3433aafaa28",
   "metadata": {},
   "outputs": [],
   "source": [
    "def f(x):\n",
    "    return x**2"
   ]
  },
  {
   "cell_type": "code",
   "execution_count": 20,
   "id": "aa23e86c-920d-4970-bc88-bc78e44a5b6d",
   "metadata": {},
   "outputs": [],
   "source": [
    "def d(f,x): # 함수를 입력을 받는 함수를 정의\n",
    "    h=0.000000000001\n",
    "    return (f(x+h)-f(x))/h "
   ]
  },
  {
   "cell_type": "markdown",
   "id": "6aff601a-9df2-4689-bd11-9134443cd8df",
   "metadata": {},
   "source": [
    "$$f'(x)\\approx \\frac{f(x+h)-f(x)}{h}$$"
   ]
  },
  {
   "cell_type": "markdown",
   "id": "8c91d547-3ab5-47a1-a95c-1c373909bd84",
   "metadata": {},
   "source": [
    "- $h$의 값이 점점 0에 가까울수록 등호에 가까워짐."
   ]
  },
  {
   "cell_type": "code",
   "execution_count": 22,
   "id": "d896c342-c269-4b53-b8ae-5cdc0d7170f7",
   "metadata": {},
   "outputs": [
    {
     "data": {
      "text/plain": [
       "8.000711204658728"
      ]
     },
     "execution_count": 22,
     "metadata": {},
     "output_type": "execute_result"
    }
   ],
   "source": [
    "d(f,4) # f'(4) = 2*4 = 8"
   ]
  },
  {
   "cell_type": "markdown",
   "id": "dce0d887-56e6-4200-9628-6427f511f0bf",
   "metadata": {},
   "source": [
    "## (예제3) 함수입력, 함수출력"
   ]
  },
  {
   "cell_type": "code",
   "execution_count": 23,
   "id": "30f230e6-10a6-4dc4-b85f-8ae6011afd50",
   "metadata": {},
   "outputs": [],
   "source": [
    "def f(x): \n",
    "    return x**2 "
   ]
  },
  {
   "cell_type": "code",
   "execution_count": 24,
   "id": "19da9210-b5a6-4e16-a475-994503f3064c",
   "metadata": {},
   "outputs": [],
   "source": [
    "def derivate(f): \n",
    "    def df(x): \n",
    "        h=0.000000000001\n",
    "        return (f(x+h)-f(x))/h \n",
    "    return df"
   ]
  },
  {
   "cell_type": "code",
   "execution_count": 25,
   "id": "78b56a85-0f0b-4122-8141-b5910e706658",
   "metadata": {},
   "outputs": [],
   "source": [
    "ff = derivate(f)"
   ]
  },
  {
   "cell_type": "code",
   "execution_count": 26,
   "id": "c6cf66a7-481a-401d-9a7f-7ed1a2dbc004",
   "metadata": {},
   "outputs": [
    {
     "data": {
      "text/plain": [
       "14.004797321831575"
      ]
     },
     "execution_count": 26,
     "metadata": {},
     "output_type": "execute_result"
    }
   ],
   "source": [
    "ff(7) # f의 도함수"
   ]
  },
  {
   "cell_type": "markdown",
   "id": "41f53795-0f66-4720-847e-e0eefe8f6291",
   "metadata": {},
   "source": [
    "**원래함수 시각화**"
   ]
  },
  {
   "cell_type": "code",
   "execution_count": 30,
   "id": "4bdc53ca-d081-43e4-8851-30ee594a21cd",
   "metadata": {},
   "outputs": [
    {
     "data": {
      "text/plain": [
       "[<matplotlib.lines.Line2D at 0x7f5033ea31f0>]"
      ]
     },
     "execution_count": 30,
     "metadata": {},
     "output_type": "execute_result"
    },
    {
     "data": {
      "image/png": "[encoded data removed]",
      "text/plain": [
       "<Figure size 432x288 with 1 Axes>"
      ]
     },
     "metadata": {
      "needs_background": "light"
     },
     "output_type": "display_data"
    }
   ],
   "source": [
    "x = np.linspace(-1,1,100)\n",
    "plt.plot(x,f(x))"
   ]
  },
  {
   "cell_type": "markdown",
   "id": "5572ade9-ff05-498b-a396-7532025f3e23",
   "metadata": {},
   "source": [
    "**도함수 시각화**"
   ]
  },
  {
   "cell_type": "code",
   "execution_count": 32,
   "id": "6bafdd53-a1a2-4bcd-a0c8-85f066d78b3e",
   "metadata": {},
   "outputs": [
    {
     "data": {
      "text/plain": [
       "[<matplotlib.lines.Line2D at 0x7f50333c4760>]"
      ]
     },
     "execution_count": 32,
     "metadata": {},
     "output_type": "execute_result"
    },
    {
     "data": {
      "image/png": "[encoded data removed]",
      "text/plain": [
       "<Figure size 432x288 with 1 Axes>"
      ]
     },
     "metadata": {
      "needs_background": "light"
     },
     "output_type": "display_data"
    }
   ],
   "source": [
    "x = np.linspace(-1,1,100)\n",
    "plt.plot(x, ff(x))"
   ]
  },
  {
   "cell_type": "markdown",
   "id": "56cb3fbb-c9d2-4c01-a7d4-e52d0a2d89a1",
   "metadata": {},
   "source": [
    "## (예제3)의 다른 표현"
   ]
  },
  {
   "cell_type": "code",
   "execution_count": 33,
   "id": "cb1033db-1b0e-45f4-b0e1-e33333440781",
   "metadata": {},
   "outputs": [],
   "source": [
    "def f(x): \n",
    "    return x**2"
   ]
  },
  {
   "cell_type": "code",
   "execution_count": 34,
   "id": "3e95597e-086d-4402-9a2b-feb9580292e8",
   "metadata": {},
   "outputs": [],
   "source": [
    "def derivate(f): \n",
    "    h=0.000000000001\n",
    "    return lambda x: (f(x+h)-f(x))/h "
   ]
  },
  {
   "cell_type": "code",
   "execution_count": 36,
   "id": "1273be11-2dc1-4ad8-aa0b-a3398e2598b0",
   "metadata": {},
   "outputs": [],
   "source": [
    "ff = derivate(f)"
   ]
  },
  {
   "cell_type": "code",
   "execution_count": 37,
   "id": "993a977f-a56d-429e-8180-d08dff8866bf",
   "metadata": {},
   "outputs": [
    {
     "data": {
      "text/plain": [
       "20.00888343900442"
      ]
     },
     "execution_count": 37,
     "metadata": {},
     "output_type": "execute_result"
    }
   ],
   "source": [
    "ff(10)"
   ]
  },
  {
   "cell_type": "markdown",
   "id": "f00cfdb3-42bc-49c3-8c0f-73b4c65bac7c",
   "metadata": {},
   "source": [
    "## (예제4) 함수들의 리스트"
   ]
  },
  {
   "cell_type": "markdown",
   "id": "638b9c3c-d449-4a64-b2e9-91f54f476fc1",
   "metadata": {},
   "source": [
    "[오브젝트, 오브젝트, 오브젝트]"
   ]
  },
  {
   "cell_type": "code",
   "execution_count": 41,
   "id": "5ba61e0c-326f-48dc-85d2-fa007c8ac119",
   "metadata": {},
   "outputs": [
    {
     "data": {
      "text/plain": [
       "[<function __main__.<lambda>(x)>,\n",
       " <function __main__.<lambda>(x)>,\n",
       " <function __main__.<lambda>(x)>]"
      ]
     },
     "execution_count": 41,
     "metadata": {},
     "output_type": "execute_result"
    }
   ],
   "source": [
    "flst = [lambda x: x, lambda x: x**2, lambda x: x**3]  # [함수오브젝트,함수오브젝트,함수오브젝트]\n",
    "flst # 이것의 타입은 function"
   ]
  },
  {
   "cell_type": "code",
   "execution_count": 42,
   "id": "62a96c78-617c-40a4-94ce-3d0c9b1ce711",
   "metadata": {},
   "outputs": [
    {
     "name": "stdout",
     "output_type": "stream",
     "text": [
      "2\n",
      "4\n",
      "8\n"
     ]
    }
   ],
   "source": [
    "for f in flst:\n",
    "    print(f(2))"
   ]
  },
  {
   "cell_type": "markdown",
   "id": "a043ba0e-5403-42ef-883b-df9491e9ce58",
   "metadata": {},
   "source": [
    "- 첫번째 함수에 적용될 때는 2출력, 2번째 함수에 적용될 때는 4출력, 3번째 함수에 적용될 때는 8출력"
   ]
  },
  {
   "cell_type": "code",
   "execution_count": 43,
   "id": "8a698555-1d52-4011-901d-90f144db8415",
   "metadata": {},
   "outputs": [
    {
     "data": {
      "image/png": "[encoded data removed]",
      "text/plain": [
       "<Figure size 432x288 with 1 Axes>"
      ]
     },
     "metadata": {
      "needs_background": "light"
     },
     "output_type": "display_data"
    }
   ],
   "source": [
    "for f in flst:\n",
    "    plt.plot(x,f(x),'--')"
   ]
  },
  {
   "cell_type": "markdown",
   "id": "a66da6c1-5b7f-474d-8a7c-f319fb86d30c",
   "metadata": {},
   "source": [
    "위의 코드는 아래와 같음."
   ]
  },
  {
   "cell_type": "code",
   "execution_count": 49,
   "id": "6db4c6c3-a038-47c8-bc6d-997ee6016af0",
   "metadata": {},
   "outputs": [
    {
     "data": {
      "text/plain": [
       "[<matplotlib.lines.Line2D at 0x7f50331492b0>]"
      ]
     },
     "execution_count": 49,
     "metadata": {},
     "output_type": "execute_result"
    },
    {
     "data": {
      "image/png": "[encoded data removed]",
      "text/plain": [
       "<Figure size 432x288 with 1 Axes>"
      ]
     },
     "metadata": {
      "needs_background": "light"
     },
     "output_type": "display_data"
    }
   ],
   "source": [
    "plt.plot(x, (lambda x: x)(x),'--')\n",
    "plt.plot(x, (lambda x: x**2)(x),'--')\n",
    "plt.plot(x, (lambda x: x**3)(x),'--')"
   ]
  },
  {
   "cell_type": "markdown",
   "id": "8333e636-fe41-4696-ad19-6af66cd18576",
   "metadata": {},
   "source": [
    "# 정리"
   ]
  },
  {
   "cell_type": "markdown",
   "id": "536103dd-9346-47fd-b1a6-ec7008306751",
   "metadata": {},
   "source": [
    "`-` 지금까지 개념\n",
    "\n",
    "- 함수: 변수를 입력으로 받아서 변수를 출력하는 개념\n",
    "- 변수: 어떠한 값을 저장하는 용도로 쓰거나 함수의 입력 혹은 출력으로 사용함"
   ]
  },
  {
   "cell_type": "markdown",
   "id": "55006bb2-9cc1-448d-ac5a-890044f23a79",
   "metadata": {},
   "source": [
    "`-` 파이썬의 함수형 프로그래밍을 잘하려면? (객체지향적 언어의특징)"
   ]
  },
  {
   "cell_type": "markdown",
   "id": "23d92229-4114-4ab7-9e4b-5e8588ddf69c",
   "metadata": {},
   "source": [
    "- 변수든 함수든 둘 다 인스턴스임.\n",
    "- 변수를 함수처럼: 메소드\n",
    "- 함수를 변수처럼($\\star$): 함수자체를 함수의 입력으로 혹은 출력으로 쓸 수도 있음. 함수를 특정 값처럼 생각해서 함수들의 list를 만들 수도 있었다."
   ]
  },
  {
   "cell_type": "markdown",
   "id": "f411acee-099f-46f1-8d6c-fd4307b4c621",
   "metadata": {},
   "source": [
    "# callable object"
   ]
  },
  {
   "cell_type": "markdown",
   "id": "a3eebfb2-e342-4112-ad8d-f7bf27ad8e91",
   "metadata": {},
   "source": [
    "`-` 함수 오브젝트의 비밀?"
   ]
  },
  {
   "cell_type": "code",
   "execution_count": 50,
   "id": "f055bba9-ab9b-436b-ae99-509370999e72",
   "metadata": {},
   "outputs": [],
   "source": [
    "f = lambda x: x+1 "
   ]
  },
  {
   "cell_type": "code",
   "execution_count": 52,
   "id": "c642b93e-8e55-47d2-bc61-b996928cbf9f",
   "metadata": {},
   "outputs": [
    {
     "data": {
      "text/plain": [
       "<function __main__.<lambda>(x)>"
      ]
     },
     "execution_count": 52,
     "metadata": {},
     "output_type": "execute_result"
    }
   ],
   "source": [
    "f"
   ]
  },
  {
   "cell_type": "code",
   "execution_count": 57,
   "id": "258ba114-24b2-4f76-9372-fef0a523d80a",
   "metadata": {},
   "outputs": [
    {
     "data": {
      "text/plain": [
       "{'__call__'}"
      ]
     },
     "execution_count": 57,
     "metadata": {},
     "output_type": "execute_result"
    }
   ],
   "source": [
    "set(dir(f)) & {'__call__'} ## 여기에는 __call__이 있음."
   ]
  },
  {
   "cell_type": "code",
   "execution_count": 54,
   "id": "8360124d-0f21-49c9-9a6a-eb97d14854d6",
   "metadata": {},
   "outputs": [],
   "source": [
    "lst = [1,2,3] "
   ]
  },
  {
   "cell_type": "code",
   "execution_count": 58,
   "id": "c2cff27b-2aa5-4826-878a-1362fd924138",
   "metadata": {},
   "outputs": [
    {
     "data": {
      "text/plain": [
       "set()"
      ]
     },
     "execution_count": 58,
     "metadata": {},
     "output_type": "execute_result"
    }
   ],
   "source": [
    "set(dir(lst)) & {'__call__'} ## 여기에는 __call__이 없음."
   ]
  },
  {
   "cell_type": "markdown",
   "id": "346620e3-82f1-4177-a46e-dbf9e4e33651",
   "metadata": {},
   "source": [
    "`-` 함수 오브젝트에는 숨겨진 기능 `__call__`이 있다."
   ]
  },
  {
   "cell_type": "code",
   "execution_count": 59,
   "id": "f72be1fa-33f6-4cc3-aa81-5a9c7fab3453",
   "metadata": {},
   "outputs": [
    {
     "data": {
      "text/plain": [
       "4"
      ]
     },
     "execution_count": 59,
     "metadata": {},
     "output_type": "execute_result"
    }
   ],
   "source": [
    "f.__call__(3) # f(3)"
   ]
  },
  {
   "cell_type": "code",
   "execution_count": 60,
   "id": "7647cd19-d70d-476e-9a0e-d34a51732d75",
   "metadata": {},
   "outputs": [
    {
     "data": {
      "text/plain": [
       "5"
      ]
     },
     "execution_count": 60,
     "metadata": {},
     "output_type": "execute_result"
    }
   ],
   "source": [
    "f.__call__(4) # f(4)"
   ]
  },
  {
   "cell_type": "markdown",
   "id": "f6564d7c-d8d3-436f-8286-68d4a0579bb6",
   "metadata": {},
   "source": [
    "- 여기에 우리가 정의한 내용이 있다."
   ]
  },
  {
   "cell_type": "markdown",
   "id": "4e3a86e0-6507-4172-b5c7-79fd021525f2",
   "metadata": {},
   "source": [
    "`-` 함수처럼 쓸 수 없는 인스턴스는 단지 call이 없는 것일 뿐이다."
   ]
  },
  {
   "cell_type": "code",
   "execution_count": 64,
   "id": "ff6d6991-8a03-41ec-ace6-c209247c8164",
   "metadata": {},
   "outputs": [],
   "source": [
    "class Klass:\n",
    "    def __init__(self):\n",
    "        self.name='jordy'"
   ]
  },
  {
   "cell_type": "code",
   "execution_count": 65,
   "id": "331c7cbe-0ff4-4c8e-9c37-9fb0a26f2e2b",
   "metadata": {},
   "outputs": [],
   "source": [
    "a = Klass()"
   ]
  },
  {
   "cell_type": "code",
   "execution_count": 66,
   "id": "f4e5e50a-0f99-40ac-b6a6-d58fd6b7335f",
   "metadata": {},
   "outputs": [
    {
     "ename": "TypeError",
     "evalue": "'Klass' object is not callable",
     "output_type": "error",
     "traceback": [
      "\u001b[0;31m---------------------------------------------------------------------------\u001b[0m",
      "\u001b[0;31mTypeError\u001b[0m                                 Traceback (most recent call last)",
      "Cell \u001b[0;32mIn[66], line 1\u001b[0m\n\u001b[0;32m----> 1\u001b[0m \u001b[43ma\u001b[49m\u001b[43m(\u001b[49m\u001b[43m)\u001b[49m\n",
      "\u001b[0;31mTypeError\u001b[0m: 'Klass' object is not callable"
     ]
    }
   ],
   "source": [
    "a()"
   ]
  },
  {
   "cell_type": "markdown",
   "id": "3b2e7626-2f04-48c6-8bca-b5607b8f8fae",
   "metadata": {},
   "source": [
    "- a는 callable이 아니라고 한다."
   ]
  },
  {
   "cell_type": "code",
   "execution_count": 70,
   "id": "3c960d13-82ae-40d5-91f0-8cb40d8045e5",
   "metadata": {},
   "outputs": [],
   "source": [
    "class Klass2(Klass): # 상속\n",
    "    def __call__(self):\n",
    "        print(self.name)"
   ]
  },
  {
   "cell_type": "code",
   "execution_count": 71,
   "id": "a8ebd0b2-f474-4f05-9b60-a0aa9a428d92",
   "metadata": {},
   "outputs": [],
   "source": [
    "b = Klass2()"
   ]
  },
  {
   "cell_type": "code",
   "execution_count": 72,
   "id": "dfce0e80-198d-40f6-b732-7e3163b4b785",
   "metadata": {},
   "outputs": [
    {
     "name": "stdout",
     "output_type": "stream",
     "text": [
      "jordy\n"
     ]
    }
   ],
   "source": [
    "b()"
   ]
  },
  {
   "cell_type": "markdown",
   "id": "34c4d1e4-1d64-4d0c-b80a-f8c69600977d",
   "metadata": {},
   "source": [
    "- b는 callable object! 즉, 숨겨진 메소드로 `__call__`를 가진 오브젝트\n",
    "\n",
    "- Klass는 callable object를 만들지 못하지만 Klass2는 callable object를 만든다."
   ]
  },
  {
   "cell_type": "markdown",
   "id": "f7b97ffa-1dca-40c6-8bf0-b4e31ff18788",
   "metadata": {},
   "source": [
    "`-` 클래스로 함수를 만들기"
   ]
  },
  {
   "cell_type": "code",
   "execution_count": 73,
   "id": "936d8487-520f-4d97-925b-df2e41d661a4",
   "metadata": {},
   "outputs": [],
   "source": [
    "class AddConstant:\n",
    "    def __init__(self,c):\n",
    "        self.c = c\n",
    "    def __call__(self,a):\n",
    "        return a + self.c"
   ]
  },
  {
   "cell_type": "code",
   "execution_count": 74,
   "id": "42ccc451-924d-4a29-a7fb-29f929f38d10",
   "metadata": {},
   "outputs": [],
   "source": [
    "f = AddConstant(3) # callable object생성, f.c에는 3이 저장되어있음."
   ]
  },
  {
   "cell_type": "code",
   "execution_count": 76,
   "id": "983303cb-a22d-43d3-bae5-b55a179c4036",
   "metadata": {},
   "outputs": [
    {
     "data": {
      "text/plain": [
       "8"
      ]
     },
     "execution_count": 76,
     "metadata": {},
     "output_type": "execute_result"
    }
   ],
   "source": [
    "f(5) # f.c와 5를 더하는 기능을 수행, # f(x) = x+3을 수행함."
   ]
  },
  {
   "cell_type": "code",
   "execution_count": 77,
   "id": "a8cf1569-dba0-4409-b051-a1227cc32408",
   "metadata": {},
   "outputs": [
    {
     "data": {
      "text/plain": [
       "13"
      ]
     },
     "execution_count": 77,
     "metadata": {},
     "output_type": "execute_result"
    }
   ],
   "source": [
    "f(10)"
   ]
  },
  {
   "cell_type": "markdown",
   "id": "67418bd5-846c-4879-8ea5-70d0aacb8e6d",
   "metadata": {},
   "source": [
    "`-` 클래스도 그러고보니까 `오브젝트` 아니었나? 클래스도 함수처럼 `Klass()`와 같이 사용하면 인스턴스를 만들었음. $\\to$ `Klass.__call__()`은 `Klass()`와 같은 역할을 할 것이다."
   ]
  },
  {
   "cell_type": "code",
   "execution_count": 79,
   "id": "9a06492f-20de-4831-8743-03891aa3d6ce",
   "metadata": {},
   "outputs": [],
   "source": [
    "class Klass:\n",
    "    def __init__(self):\n",
    "        self.name = 'chunsik'"
   ]
  },
  {
   "cell_type": "code",
   "execution_count": 80,
   "id": "e314675d-f2d5-4572-a5a9-b42a7e091261",
   "metadata": {},
   "outputs": [],
   "source": [
    "a = Klass.__call__() # 이것이 a=Klass()와 같은 효과"
   ]
  },
  {
   "cell_type": "code",
   "execution_count": 81,
   "id": "5c330b5e-5059-4c67-9dba-435e1c81150a",
   "metadata": {},
   "outputs": [
    {
     "data": {
      "text/plain": [
       "'chunsik'"
      ]
     },
     "execution_count": 81,
     "metadata": {},
     "output_type": "execute_result"
    }
   ],
   "source": [
    "a.name"
   ]
  },
  {
   "cell_type": "markdown",
   "id": "a774cfe5-0f81-4ebd-8bcd-7fb30ced2739",
   "metadata": {},
   "source": [
    "# 파이썬의 비밀 1~4"
   ]
  },
  {
   "cell_type": "markdown",
   "id": "185c8e68-3b89-487d-9777-7f0e83590cc0",
   "metadata": {},
   "source": [
    "- 파이썬의 비밀1: 자료형은 클래스의 이름이다.\n",
    "- 파이썬의 비밀2: 클래스에는 `__str__` 처럼 숨겨진 매서드가 존재한다. 이를 이용하여 파이썬 내부의 기능을 가로챌 수 있다.\n",
    "- 파이썬의 비밀3: 주피터노트북(대화형 콘솔)에서는 \"오브젝트이름 + 엔터\"를 쳐서 나오는 출력은 `__repr__`로 가로챌 수 있다. (주피터의 비밀)\n",
    "- 파이썬의 비밀4: 함수와 클래스는 숨겨진 메소드에 `__call__`을 가진 오브젝트일 뿐이다.\n",
    "- 파이썬의 비밀5: **NEXT** (클래스공부 8단계에서)"
   ]
  }
 ],
 "metadata": {
  "kernelspec": {
   "display_name": "Python 3",
   "language": "python",
   "name": "python3"
  },
  "language_info": {
   "codemirror_mode": {
    "name": "ipython",
    "version": 3
   },
   "file_extension": ".py",
   "mimetype": "text/x-python",
   "name": "python",
   "nbconvert_exporter": "python",
   "pygments_lexer": "ipython3",
   "version": "3.8.16"
  }
 },
 "nbformat": 4,
 "nbformat_minor": 5
}
