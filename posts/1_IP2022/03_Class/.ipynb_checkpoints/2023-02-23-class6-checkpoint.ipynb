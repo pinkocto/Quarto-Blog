{
 "cells": [
  {
   "cell_type": "raw",
   "id": "94426498-3ce0-493b-b0ea-ce8c3b299ea2",
   "metadata": {},
   "source": [
    "---\n",
    "title: 'class 6단계'\n",
    "author: 'jiyun Lim'\n",
    "date: '02/23/2023'\n",
    "categories:\n",
    "  - class\n",
    "  - Python\n",
    "---"
   ]
  },
  {
   "cell_type": "markdown",
   "id": "cf739ec3-834a-422e-8092-8e63e5357863",
   "metadata": {},
   "source": [
    "# 클래스공부 6단계"
   ]
  },
  {
   "cell_type": "markdown",
   "id": "95cd5a57-d234-46e5-8431-937d54a5ed24",
   "metadata": {},
   "source": [
    "> 상속, 사용자정의 자료형"
   ]
  },
  {
   "cell_type": "markdown",
   "id": "2d1d4bd9-fc7f-42bd-9a12-59960346a7cd",
   "metadata": {},
   "source": [
    "## 인사관리 예제"
   ]
  },
  {
   "cell_type": "markdown",
   "id": "e7e4e5d2-d5a9-45d4-b3a8-c56158eb7ed0",
   "metadata": {},
   "source": [
    "`-` 아래와 같은 클래스를 만들자."
   ]
  },
  {
   "cell_type": "markdown",
   "id": "f2e48ff9-dca6-4cf3-a943-d01599e3a9ed",
   "metadata": {},
   "source": [
    "- 이름, 직급, 연봉에 대한 정보가 있다.\n",
    "\n",
    "- 연봉을 올려주는 메소드가 존재함."
   ]
  },
  {
   "cell_type": "code",
   "execution_count": 10,
   "id": "1fc43fa1-0b1f-446c-89fc-6f97f60bf08d",
   "metadata": {},
   "outputs": [],
   "source": [
    "class Employee:\n",
    "    def __init__(self, name,position=None, pay=0):\n",
    "        self.name = name\n",
    "        self.position = position\n",
    "        self.pay = pay\n",
    "    def _repr_html_(self):\n",
    "        html_str = \"\"\"\n",
    "        이름: {} <br/>\n",
    "        직급: {} <br/>\n",
    "        연봉: {} <br/>\n",
    "        \"\"\".format(self.name, self.position, self.pay)\n",
    "        return html_str\n",
    "    def giveraise(self, pct):\n",
    "        self.pay = self.pay * (1+pct)"
   ]
  },
  {
   "cell_type": "markdown",
   "id": "3d33c7d7-026d-4857-a571-2e519bc182cc",
   "metadata": {},
   "source": [
    "`-` 확인"
   ]
  },
  {
   "cell_type": "code",
   "execution_count": 11,
   "id": "410340a1-1317-401c-93be-8fe34daeaa10",
   "metadata": {},
   "outputs": [],
   "source": [
    "iu = Employee('iu', position = 'staff', pay = 5000)\n",
    "hynn = Employee('hynn', position = 'staff', pay = 4000)\n",
    "hd = Employee('hodong', position = 'mgr', pay = 8000)"
   ]
  },
  {
   "cell_type": "code",
   "execution_count": 12,
   "id": "227d05fb-53e0-4578-a285-c08d57e1982f",
   "metadata": {},
   "outputs": [
    {
     "data": {
      "text/html": [
       "\n",
       "        이름: iu <br/>\n",
       "        직급: staff <br/>\n",
       "        연봉: 5000 <br/>\n",
       "        "
      ],
      "text/plain": [
       "<__main__.Employee at 0x7f66f85182b0>"
      ]
     },
     "execution_count": 12,
     "metadata": {},
     "output_type": "execute_result"
    }
   ],
   "source": [
    "iu"
   ]
  },
  {
   "cell_type": "code",
   "execution_count": 13,
   "id": "1a33f99f-0261-4af2-8faa-099129f4b6ab",
   "metadata": {},
   "outputs": [
    {
     "data": {
      "text/html": [
       "\n",
       "        이름: iu <br/>\n",
       "        직급: staff <br/>\n",
       "        연봉: 5500.0 <br/>\n",
       "        "
      ],
      "text/plain": [
       "<__main__.Employee at 0x7f66f85182b0>"
      ]
     },
     "execution_count": 13,
     "metadata": {},
     "output_type": "execute_result"
    }
   ],
   "source": [
    "iu.giveraise(0.1)\n",
    "iu"
   ]
  },
  {
   "cell_type": "code",
   "execution_count": 14,
   "id": "48d4b668-c465-4e84-89f9-ba1d092935ae",
   "metadata": {},
   "outputs": [
    {
     "data": {
      "text/html": [
       "\n",
       "        이름: hynn <br/>\n",
       "        직급: staff <br/>\n",
       "        연봉: 4800.0 <br/>\n",
       "        "
      ],
      "text/plain": [
       "<__main__.Employee at 0x7f66f8518b20>"
      ]
     },
     "execution_count": 14,
     "metadata": {},
     "output_type": "execute_result"
    }
   ],
   "source": [
    "hynn.giveraise(0.2)\n",
    "hynn"
   ]
  },
  {
   "cell_type": "markdown",
   "id": "5acb2dec-d2db-461f-95b7-de12a2c7eb60",
   "metadata": {},
   "source": [
    "`-` 회사의 모든 직원의 연봉을 $10\\%$씩 올려보자."
   ]
  },
  {
   "cell_type": "code",
   "execution_count": 15,
   "id": "174520ff-6c65-48c4-947e-04516ebd4ae3",
   "metadata": {},
   "outputs": [],
   "source": [
    "iu = Employee('iu', position = 'staff', pay = 5000)\n",
    "hynn = Employee('hynn', position = 'staff', pay = 4000)\n",
    "hd = Employee('hodong', position = 'mgr', pay = 8000)"
   ]
  },
  {
   "cell_type": "code",
   "execution_count": 16,
   "id": "8ea7f636-7fe4-418f-a0f0-6483a184fa25",
   "metadata": {},
   "outputs": [],
   "source": [
    "for i in [iu, hynn, hd]:\n",
    "    i.giveraise(0.1)"
   ]
  },
  {
   "cell_type": "code",
   "execution_count": 17,
   "id": "a2aec2b8-9469-4744-a991-67bffe7fafef",
   "metadata": {},
   "outputs": [
    {
     "data": {
      "text/html": [
       "\n",
       "        이름: iu <br/>\n",
       "        직급: staff <br/>\n",
       "        연봉: 5500.0 <br/>\n",
       "        "
      ],
      "text/plain": [
       "<__main__.Employee at 0x7f66f8518160>"
      ]
     },
     "execution_count": 17,
     "metadata": {},
     "output_type": "execute_result"
    }
   ],
   "source": [
    "iu"
   ]
  },
  {
   "cell_type": "code",
   "execution_count": 18,
   "id": "871d9697-f20d-4e77-b82b-0a042f0d815a",
   "metadata": {},
   "outputs": [
    {
     "data": {
      "text/html": [
       "\n",
       "        이름: hynn <br/>\n",
       "        직급: staff <br/>\n",
       "        연봉: 4400.0 <br/>\n",
       "        "
      ],
      "text/plain": [
       "<__main__.Employee at 0x7f66f8518d60>"
      ]
     },
     "execution_count": 18,
     "metadata": {},
     "output_type": "execute_result"
    }
   ],
   "source": [
    "hynn"
   ]
  },
  {
   "cell_type": "code",
   "execution_count": 19,
   "id": "9cddc0f8-6780-4f22-be6b-72cd5f045e0b",
   "metadata": {},
   "outputs": [
    {
     "data": {
      "text/html": [
       "\n",
       "        이름: hodong <br/>\n",
       "        직급: mgr <br/>\n",
       "        연봉: 8800.0 <br/>\n",
       "        "
      ],
      "text/plain": [
       "<__main__.Employee at 0x7f66f8518220>"
      ]
     },
     "execution_count": 19,
     "metadata": {},
     "output_type": "execute_result"
    }
   ],
   "source": [
    "hd"
   ]
  },
  {
   "cell_type": "markdown",
   "id": "d068cbe9-0f90-4211-b817-913e745c03fd",
   "metadata": {},
   "source": [
    "`-` 매니저직은 일반직원들의 상승분에서 $5\\%$의 보너스가 추가되어 상승한다고 가정하고 모든 직원의 연봉을 $10\\%$씩 올리는 코드를 구현해보자."
   ]
  },
  {
   "cell_type": "markdown",
   "id": "676f3a3f-c2e1-493a-b83c-e68e9e7fc8d5",
   "metadata": {},
   "source": [
    "### (구현1)"
   ]
  },
  {
   "cell_type": "code",
   "execution_count": 20,
   "id": "717404ce-6802-4e80-a2f9-db9d347ab376",
   "metadata": {},
   "outputs": [],
   "source": [
    "iu=Employee('iu',position='staff',pay=5000)\n",
    "hynn=Employee('hynn',position='staff',pay=4000)\n",
    "hd=Employee('hodong',position='mgr',pay=8000)"
   ]
  },
  {
   "cell_type": "code",
   "execution_count": 22,
   "id": "6ee2f267-5892-45b9-8427-42844a5350de",
   "metadata": {},
   "outputs": [],
   "source": [
    "for i in [iu, hynn, hd]:\n",
    "    if i.position == 'mgr':\n",
    "        i.giveraise(0.1 + 0.05)\n",
    "    else:\n",
    "        i.giveraise(0.1)"
   ]
  },
  {
   "cell_type": "code",
   "execution_count": 23,
   "id": "14b56ec3-c57a-4b45-a6b5-2199a5635a3a",
   "metadata": {},
   "outputs": [
    {
     "data": {
      "text/html": [
       "\n",
       "        이름: iu <br/>\n",
       "        직급: staff <br/>\n",
       "        연봉: 5500.0 <br/>\n",
       "        "
      ],
      "text/plain": [
       "<__main__.Employee at 0x7f66f8472070>"
      ]
     },
     "execution_count": 23,
     "metadata": {},
     "output_type": "execute_result"
    }
   ],
   "source": [
    "iu"
   ]
  },
  {
   "cell_type": "code",
   "execution_count": 24,
   "id": "febf1221-cd5d-4597-83fe-bc86a4fd2bc4",
   "metadata": {},
   "outputs": [
    {
     "data": {
      "text/html": [
       "\n",
       "        이름: hynn <br/>\n",
       "        직급: staff <br/>\n",
       "        연봉: 4400.0 <br/>\n",
       "        "
      ],
      "text/plain": [
       "<__main__.Employee at 0x7f66f8524af0>"
      ]
     },
     "execution_count": 24,
     "metadata": {},
     "output_type": "execute_result"
    }
   ],
   "source": [
    "hynn"
   ]
  },
  {
   "cell_type": "code",
   "execution_count": 25,
   "id": "7576ec98-550e-4cc1-863d-89be5f13386f",
   "metadata": {},
   "outputs": [
    {
     "data": {
      "text/html": [
       "\n",
       "        이름: hodong <br/>\n",
       "        직급: mgr <br/>\n",
       "        연봉: 9200.0 <br/>\n",
       "        "
      ],
      "text/plain": [
       "<__main__.Employee at 0x7f66f8472160>"
      ]
     },
     "execution_count": 25,
     "metadata": {},
     "output_type": "execute_result"
    }
   ],
   "source": [
    "hd"
   ]
  },
  {
   "cell_type": "markdown",
   "id": "a2525dc1-4fab-4538-a18c-f3463a01f4fa",
   "metadata": {},
   "source": [
    "### (구현2) 새로운 클래스를 만들자."
   ]
  },
  {
   "cell_type": "code",
   "execution_count": 26,
   "id": "b918b058-9205-45b1-9e13-59c1dc014940",
   "metadata": {},
   "outputs": [],
   "source": [
    "class Manager:\n",
    "    def __init__(self, name, position=None, pay=0):\n",
    "        self.name = name\n",
    "        self.position = position\n",
    "        self.pay = pay\n",
    "    def _repr_html_(self):\n",
    "        html_str = \"\"\"\n",
    "        이름: {} <br/>\n",
    "        직급: {} <br/>\n",
    "        연봉: {} <br/>\n",
    "        \"\"\".format(self.name, self.position, self.pay)\n",
    "        return html_str\n",
    "    def giveraise(self,pct):\n",
    "        self.pay = self.pay * (1+pct+0.05)"
   ]
  },
  {
   "cell_type": "code",
   "execution_count": 32,
   "id": "622b7a5a-c8ca-4238-822d-1c9844a675d3",
   "metadata": {},
   "outputs": [],
   "source": [
    "iu=Employee('iu',position='staff',pay=5000)\n",
    "hynn=Employee('hynn',position='staff',pay=4000)\n",
    "hd=Manager('hodong',position='mgr',pay=8000)"
   ]
  },
  {
   "cell_type": "code",
   "execution_count": 33,
   "id": "7e803856-ca92-44c3-a7fc-ad230158029d",
   "metadata": {},
   "outputs": [],
   "source": [
    "for i in [iu,hynn,hd]:\n",
    "    i.giveraise(0.1)"
   ]
  },
  {
   "cell_type": "code",
   "execution_count": 34,
   "id": "e50ade50-b56d-4072-929e-b6b36c764192",
   "metadata": {},
   "outputs": [
    {
     "data": {
      "text/html": [
       "\n",
       "        이름: iu <br/>\n",
       "        직급: staff <br/>\n",
       "        연봉: 5500.0 <br/>\n",
       "        "
      ],
      "text/plain": [
       "<__main__.Employee at 0x7f66f8472e20>"
      ]
     },
     "execution_count": 34,
     "metadata": {},
     "output_type": "execute_result"
    }
   ],
   "source": [
    "iu"
   ]
  },
  {
   "cell_type": "code",
   "execution_count": 35,
   "id": "8d0d9754-3993-41cc-a019-bab5f2aa5fa8",
   "metadata": {},
   "outputs": [
    {
     "data": {
      "text/html": [
       "\n",
       "        이름: hynn <br/>\n",
       "        직급: staff <br/>\n",
       "        연봉: 4400.0 <br/>\n",
       "        "
      ],
      "text/plain": [
       "<__main__.Employee at 0x7f66f8472c70>"
      ]
     },
     "execution_count": 35,
     "metadata": {},
     "output_type": "execute_result"
    }
   ],
   "source": [
    "hynn"
   ]
  },
  {
   "cell_type": "code",
   "execution_count": 36,
   "id": "85c308f1-36a6-4c61-a490-51eb54018728",
   "metadata": {},
   "outputs": [
    {
     "data": {
      "text/html": [
       "\n",
       "        이름: hodong <br/>\n",
       "        직급: mgr <br/>\n",
       "        연봉: 9200.000000000002 <br/>\n",
       "        "
      ],
      "text/plain": [
       "<__main__.Manager at 0x7f66f8472670>"
      ]
     },
     "execution_count": 36,
     "metadata": {},
     "output_type": "execute_result"
    }
   ],
   "source": [
    "hd"
   ]
  },
  {
   "cell_type": "markdown",
   "id": "b38c753e-7058-46d2-916f-ca534101e229",
   "metadata": {},
   "source": [
    "### (구현3) 상속이용!"
   ]
  },
  {
   "cell_type": "code",
   "execution_count": 37,
   "id": "5c511ab9-1f84-4622-9810-b511757d2c06",
   "metadata": {},
   "outputs": [],
   "source": [
    "class Manager(Employee):\n",
    "    def giveraise(self,pct):\n",
    "        self.pay = self.pay * (1+pct+0.05)"
   ]
  },
  {
   "cell_type": "code",
   "execution_count": 38,
   "id": "6e06d983-3298-494f-a576-c0968871b2e1",
   "metadata": {},
   "outputs": [],
   "source": [
    "iu=Employee('iu',position='staff',pay=5000)\n",
    "hynn=Employee('hynn',position='staff',pay=4000)\n",
    "hd=Manager('hodong',position='mgr',pay=8000)"
   ]
  },
  {
   "cell_type": "code",
   "execution_count": 39,
   "id": "ebae2f48-85c3-4cf5-8653-3fd0d2fef063",
   "metadata": {},
   "outputs": [],
   "source": [
    "for i in [iu,hynn,hd]:\n",
    "    i.giveraise(0.1) "
   ]
  },
  {
   "cell_type": "code",
   "execution_count": 40,
   "id": "0e0657fc-afc9-4bda-9234-54c98ae44871",
   "metadata": {},
   "outputs": [
    {
     "data": {
      "text/html": [
       "\n",
       "        이름: iu <br/>\n",
       "        직급: staff <br/>\n",
       "        연봉: 5500.0 <br/>\n",
       "        "
      ],
      "text/plain": [
       "<__main__.Employee at 0x7f66f8472fa0>"
      ]
     },
     "execution_count": 40,
     "metadata": {},
     "output_type": "execute_result"
    }
   ],
   "source": [
    "iu"
   ]
  },
  {
   "cell_type": "code",
   "execution_count": 41,
   "id": "126197ce-25be-4895-8478-93b6145c45bb",
   "metadata": {},
   "outputs": [
    {
     "data": {
      "text/html": [
       "\n",
       "        이름: hynn <br/>\n",
       "        직급: staff <br/>\n",
       "        연봉: 4400.0 <br/>\n",
       "        "
      ],
      "text/plain": [
       "<__main__.Employee at 0x7f66f84726a0>"
      ]
     },
     "execution_count": 41,
     "metadata": {},
     "output_type": "execute_result"
    }
   ],
   "source": [
    "hynn"
   ]
  },
  {
   "cell_type": "code",
   "execution_count": 42,
   "id": "1c4dd33c-50e7-40c4-9e17-ea7da8459544",
   "metadata": {},
   "outputs": [
    {
     "data": {
      "text/html": [
       "\n",
       "        이름: hodong <br/>\n",
       "        직급: mgr <br/>\n",
       "        연봉: 9200.000000000002 <br/>\n",
       "        "
      ],
      "text/plain": [
       "<__main__.Manager at 0x7f66f8472970>"
      ]
     },
     "execution_count": 42,
     "metadata": {},
     "output_type": "execute_result"
    }
   ],
   "source": [
    "hd"
   ]
  },
  {
   "cell_type": "markdown",
   "id": "b6457de3-b9fb-4474-8bce-314fb534bcca",
   "metadata": {},
   "source": [
    "`-` 요약: 이미 만들어진 클래스에서 대부분의 기능은 그대로 쓰지만 **일부기능만 변경 혹은 추가**하고 싶다면 **클래스를 상속**하면 된다!"
   ]
  },
  {
   "cell_type": "markdown",
   "id": "c4f71d5f-d5ec-4ce4-b8c6-7ceff48dc28b",
   "metadata": {},
   "source": [
    "### 리스트의 상속"
   ]
  },
  {
   "cell_type": "markdown",
   "id": "fadba259-33c6-4829-bc63-430ba28b6f5d",
   "metadata": {},
   "source": [
    "- ref:  http://www.kyobobook.co.kr/product/detailViewKor.laf?mallGb=KOR&ejkGb=KOR&barcode=9791165213190"
   ]
  },
  {
   "cell_type": "markdown",
   "id": "b1d230e6-a809-4fa1-bb56-8c51f7e7cacb",
   "metadata": {},
   "source": [
    "`-` list와 비슷한데 멤버들의 빈도가 계산되는 메소드를 포함하는 새로운 나만의 list를 만들고 싶다."
   ]
  },
  {
   "cell_type": "code",
   "execution_count": 43,
   "id": "cb65980a-7d75-4f89-a06a-0fda3a5108bb",
   "metadata": {},
   "outputs": [
    {
     "data": {
      "text/plain": [
       "['a', 'b', 'a', 'c', 'b', 'a', 'd']"
      ]
     },
     "execution_count": 43,
     "metadata": {},
     "output_type": "execute_result"
    }
   ],
   "source": [
    "lst = ['a','b','a','c','b','a','d']\n",
    "lst"
   ]
  },
  {
   "cell_type": "markdown",
   "id": "e5e8be78-4c7b-455a-a608-2167ce08bcf6",
   "metadata": {},
   "source": [
    "`-` 아래와 같은 딕셔너리를 만들고 싶다."
   ]
  },
  {
   "cell_type": "code",
   "execution_count": 44,
   "id": "da70aa64-f205-4820-9bc6-32277a3da48c",
   "metadata": {},
   "outputs": [
    {
     "data": {
      "text/plain": [
       "{'a': 3, 'b': 2, 'c': 1, 'd': 1}"
      ]
     },
     "execution_count": 44,
     "metadata": {},
     "output_type": "execute_result"
    }
   ],
   "source": [
    "freq = {'a':3, 'b':2, 'c':1, 'd':1} \n",
    "freq"
   ]
  },
  {
   "cell_type": "markdown",
   "id": "559e4015-6480-4e55-a33b-fc49890854ad",
   "metadata": {},
   "source": [
    "- `lst.frequency()`를 입력하면 위의 기능이 수행되도록 변형된 list를 쓰고 싶다."
   ]
  },
  {
   "cell_type": "markdown",
   "id": "c57d058b-8813-43d9-b7f1-647bf0daf9c8",
   "metadata": {},
   "source": [
    "`-` 구현"
   ]
  },
  {
   "cell_type": "markdown",
   "id": "852471b1-70c5-43cd-b8a4-4eeb2d4b9a14",
   "metadata": {},
   "source": [
    "#### (시도1) 반쯤 성공?"
   ]
  },
  {
   "cell_type": "code",
   "execution_count": 45,
   "id": "58609151-5538-45fe-99b6-3c2fb3e71cfe",
   "metadata": {},
   "outputs": [
    {
     "data": {
      "text/plain": [
       "['a', 'b', 'a', 'c', 'b', 'a', 'd']"
      ]
     },
     "execution_count": 45,
     "metadata": {},
     "output_type": "execute_result"
    }
   ],
   "source": [
    "lst"
   ]
  },
  {
   "cell_type": "code",
   "execution_count": 46,
   "id": "f339fee8-60a9-47f9-9931-04b581f0c89c",
   "metadata": {},
   "outputs": [
    {
     "data": {
      "text/plain": [
       "{'a': 0, 'b': 0, 'c': 0, 'd': 0}"
      ]
     },
     "execution_count": 46,
     "metadata": {},
     "output_type": "execute_result"
    }
   ],
   "source": [
    "freq = {'a':0, 'b':0, 'c':0, 'd':0}\n",
    "freq"
   ]
  },
  {
   "cell_type": "code",
   "execution_count": 48,
   "id": "4bd19c07-deca-47f9-95a8-689769504a63",
   "metadata": {},
   "outputs": [],
   "source": [
    "for item in lst:\n",
    "    freq[item] = freq[item] + 1"
   ]
  },
  {
   "cell_type": "code",
   "execution_count": 49,
   "id": "49a02d09-0d2b-4d48-bc95-7989c297b5eb",
   "metadata": {},
   "outputs": [
    {
     "data": {
      "text/plain": [
       "{'a': 3, 'b': 2, 'c': 1, 'd': 1}"
      ]
     },
     "execution_count": 49,
     "metadata": {},
     "output_type": "execute_result"
    }
   ],
   "source": [
    "freq"
   ]
  },
  {
   "cell_type": "markdown",
   "id": "0e60c5b0-abb2-4866-9772-bb277762e322",
   "metadata": {},
   "source": [
    "#### (시도2) 실패"
   ]
  },
  {
   "cell_type": "code",
   "execution_count": 50,
   "id": "b545205a-1607-4947-93e1-33059b55b0c1",
   "metadata": {},
   "outputs": [
    {
     "data": {
      "text/plain": [
       "['a', 'b', 'a', 'c', 'b', 'a', 'd']"
      ]
     },
     "execution_count": 50,
     "metadata": {},
     "output_type": "execute_result"
    }
   ],
   "source": [
    "lst"
   ]
  },
  {
   "cell_type": "code",
   "execution_count": 51,
   "id": "eaed0e54-cf6a-4538-bb36-4a75c1e5cc92",
   "metadata": {},
   "outputs": [
    {
     "data": {
      "text/plain": [
       "{}"
      ]
     },
     "execution_count": 51,
     "metadata": {},
     "output_type": "execute_result"
    }
   ],
   "source": [
    "freq = dict()\n",
    "freq"
   ]
  },
  {
   "cell_type": "code",
   "execution_count": 52,
   "id": "eb558e79-91cd-41bb-9e1d-93550fd27d1a",
   "metadata": {},
   "outputs": [
    {
     "ename": "KeyError",
     "evalue": "'a'",
     "output_type": "error",
     "traceback": [
      "\u001b[0;31m---------------------------------------------------------------------------\u001b[0m",
      "\u001b[0;31mKeyError\u001b[0m                                  Traceback (most recent call last)",
      "Cell \u001b[0;32mIn[52], line 2\u001b[0m\n\u001b[1;32m      1\u001b[0m \u001b[38;5;28;01mfor\u001b[39;00m item \u001b[38;5;129;01min\u001b[39;00m lst:\n\u001b[0;32m----> 2\u001b[0m     freq[item] \u001b[38;5;241m=\u001b[39m \u001b[43mfreq\u001b[49m\u001b[43m[\u001b[49m\u001b[43mitem\u001b[49m\u001b[43m]\u001b[49m \u001b[38;5;241m+\u001b[39m \u001b[38;5;241m1\u001b[39m\n",
      "\u001b[0;31mKeyError\u001b[0m: 'a'"
     ]
    }
   ],
   "source": [
    "for item in lst:\n",
    "    freq[item] = freq[item] + 1"
   ]
  },
  {
   "cell_type": "markdown",
   "id": "74d2eb4f-43e9-4c16-abbd-b201cc8feca4",
   "metadata": {},
   "source": [
    "에러이유? `freq['a']`를 호출할 수 없다. $\\to$ `freq.get('a',0)` 이용"
   ]
  },
  {
   "cell_type": "code",
   "execution_count": 53,
   "id": "683c8ba5-067c-4938-88af-046038060bf9",
   "metadata": {},
   "outputs": [
    {
     "ename": "KeyError",
     "evalue": "'a'",
     "output_type": "error",
     "traceback": [
      "\u001b[0;31m---------------------------------------------------------------------------\u001b[0m",
      "\u001b[0;31mKeyError\u001b[0m                                  Traceback (most recent call last)",
      "Cell \u001b[0;32mIn[53], line 1\u001b[0m\n\u001b[0;32m----> 1\u001b[0m \u001b[43mfreq\u001b[49m\u001b[43m[\u001b[49m\u001b[38;5;124;43m'\u001b[39;49m\u001b[38;5;124;43ma\u001b[39;49m\u001b[38;5;124;43m'\u001b[39;49m\u001b[43m]\u001b[49m\n",
      "\u001b[0;31mKeyError\u001b[0m: 'a'"
     ]
    }
   ],
   "source": [
    "freq['a']"
   ]
  },
  {
   "cell_type": "code",
   "execution_count": 54,
   "id": "e8b0cd22-c747-4321-b0a2-38777cfab337",
   "metadata": {},
   "outputs": [
    {
     "data": {
      "text/plain": [
       "\u001b[0;31mSignature:\u001b[0m \u001b[0mfreq\u001b[0m\u001b[0;34m.\u001b[0m\u001b[0mget\u001b[0m\u001b[0;34m(\u001b[0m\u001b[0mkey\u001b[0m\u001b[0;34m,\u001b[0m \u001b[0mdefault\u001b[0m\u001b[0;34m=\u001b[0m\u001b[0;32mNone\u001b[0m\u001b[0;34m,\u001b[0m \u001b[0;34m/\u001b[0m\u001b[0;34m)\u001b[0m\u001b[0;34m\u001b[0m\u001b[0;34m\u001b[0m\u001b[0m\n",
       "\u001b[0;31mDocstring:\u001b[0m Return the value for key if key is in the dictionary, else default.\n",
       "\u001b[0;31mType:\u001b[0m      builtin_function_or_method"
      ]
     },
     "metadata": {},
     "output_type": "display_data"
    }
   ],
   "source": [
    "freq.get?"
   ]
  },
  {
   "cell_type": "markdown",
   "id": "50790ede-e0c8-4d43-ac2f-2f04da0b5b3a",
   "metadata": {},
   "source": [
    "- key에 대응하는 값이 있으면 그 값을 리턴하고 없으면 default를 리턴"
   ]
  },
  {
   "cell_type": "code",
   "execution_count": 55,
   "id": "60028843-523f-4724-ba60-a3acb0c37bf4",
   "metadata": {},
   "outputs": [],
   "source": [
    "freq.get('a') # freq['a']에 해당하는 자료가 없어도 에러가 나지 않음"
   ]
  },
  {
   "cell_type": "code",
   "execution_count": 57,
   "id": "72ad79a2-59d5-4d2e-b00b-8c2488f57264",
   "metadata": {},
   "outputs": [
    {
     "data": {
      "text/plain": [
       "0"
      ]
     },
     "execution_count": 57,
     "metadata": {},
     "output_type": "execute_result"
    }
   ],
   "source": [
    "freq.get('a',0) # freq['a']에 해당하는 자료가 없어도 에러가 나지 않음 + freq['a']에 해당하는 자료가 없으면 0을 리턴"
   ]
  },
  {
   "cell_type": "markdown",
   "id": "57bb4bba-5063-4d7d-94ec-bf8946f7c8e9",
   "metadata": {},
   "source": [
    "#### (시도3)"
   ]
  },
  {
   "cell_type": "code",
   "execution_count": 58,
   "id": "e81b4f7b-2fd9-49a1-a0b2-82baeb56c242",
   "metadata": {},
   "outputs": [
    {
     "data": {
      "text/plain": [
       "['a', 'b', 'a', 'c', 'b', 'a', 'd']"
      ]
     },
     "execution_count": 58,
     "metadata": {},
     "output_type": "execute_result"
    }
   ],
   "source": [
    "lst"
   ]
  },
  {
   "cell_type": "code",
   "execution_count": 59,
   "id": "9495a7b9-7506-4c5d-b9f2-0d28efe049bc",
   "metadata": {},
   "outputs": [
    {
     "data": {
      "text/plain": [
       "{}"
      ]
     },
     "execution_count": 59,
     "metadata": {},
     "output_type": "execute_result"
    }
   ],
   "source": [
    "freq = dict()\n",
    "freq"
   ]
  },
  {
   "cell_type": "code",
   "execution_count": 60,
   "id": "24e888a7-09d4-4169-8eca-e694ff2e6704",
   "metadata": {},
   "outputs": [],
   "source": [
    "for item in lst:\n",
    "    freq[item] = freq.get(item,0) + 1"
   ]
  },
  {
   "cell_type": "code",
   "execution_count": 61,
   "id": "5f652833-4164-44d7-9478-ac377b592827",
   "metadata": {},
   "outputs": [
    {
     "data": {
      "text/plain": [
       "{'a': 3, 'b': 2, 'c': 1, 'd': 1}"
      ]
     },
     "execution_count": 61,
     "metadata": {},
     "output_type": "execute_result"
    }
   ],
   "source": [
    "freq"
   ]
  },
  {
   "cell_type": "markdown",
   "id": "aeda8352-3b56-42ac-be52-75ece3fe4eec",
   "metadata": {},
   "source": [
    "`-` 이것을 내가 정의하는 새로은 list의 메소드로 넣고 싶다."
   ]
  },
  {
   "cell_type": "code",
   "execution_count": 62,
   "id": "d9ac5b45-e827-4a0d-9761-0c5e618ac716",
   "metadata": {},
   "outputs": [],
   "source": [
    "class L(list):\n",
    "    def frequency(self):\n",
    "        freq = dict()\n",
    "        for item in self:\n",
    "            freq[item] = freq.get(item,0) + 1\n",
    "        return freq"
   ]
  },
  {
   "cell_type": "code",
   "execution_count": 63,
   "id": "568e0f98-ec2b-4afd-be1e-fd6c6c14ffa0",
   "metadata": {},
   "outputs": [],
   "source": [
    "lst = L([1,1,1,2,2,3])"
   ]
  },
  {
   "cell_type": "code",
   "execution_count": 65,
   "id": "d6a1b39c-d91b-41ec-ab63-f09f79be9f75",
   "metadata": {},
   "outputs": [
    {
     "data": {
      "text/plain": [
       "[1, 1, 1, 2, 2, 3]"
      ]
     },
     "execution_count": 65,
     "metadata": {},
     "output_type": "execute_result"
    }
   ],
   "source": [
    "lst # 원래 list에 있는 repr 기능을 상속받아서 이루어지는 결과"
   ]
  },
  {
   "cell_type": "code",
   "execution_count": 66,
   "id": "0a6f6acb-94ce-4235-bc7d-daa33acec39d",
   "metadata": {},
   "outputs": [
    {
     "data": {
      "text/plain": [
       "[1, 1, 1, 2, 2, 3, 4, 5, 6]"
      ]
     },
     "execution_count": 66,
     "metadata": {},
     "output_type": "execute_result"
    }
   ],
   "source": [
    "_lst = L([4,5,6])\n",
    "lst + _lst  # L자료형끼리의 덧셈"
   ]
  },
  {
   "cell_type": "code",
   "execution_count": 67,
   "id": "8ffe426b-8e8d-4b74-9ffc-05f7deff4678",
   "metadata": {},
   "outputs": [
    {
     "data": {
      "text/plain": [
       "[1, 1, 1, 2, 2, 3, 4, 5, 6]"
      ]
     },
     "execution_count": 67,
     "metadata": {},
     "output_type": "execute_result"
    }
   ],
   "source": [
    "lst + [4,5,6] # lst + [4,5,6] # L자료형과 list자료형의 덧셈도 가능"
   ]
  },
  {
   "cell_type": "markdown",
   "id": "6edb4852-6921-479b-9a77-532efdb4c352",
   "metadata": {},
   "source": [
    "- L자료형의 덧셈은 list의 덧셈과 완전히 같음"
   ]
  },
  {
   "cell_type": "code",
   "execution_count": 68,
   "id": "715a4af9-00df-4f7e-8b5f-2406c7950ceb",
   "metadata": {},
   "outputs": [],
   "source": [
    "lst.append(10) # append 함수도 그대로 쓸 수 있음."
   ]
  },
  {
   "cell_type": "code",
   "execution_count": 69,
   "id": "70d490ef-82f4-4804-9e96-1e6774cf5307",
   "metadata": {},
   "outputs": [
    {
     "data": {
      "text/plain": [
       "[1, 1, 1, 2, 2, 3, 10]"
      ]
     },
     "execution_count": 69,
     "metadata": {},
     "output_type": "execute_result"
    }
   ],
   "source": [
    "lst"
   ]
  },
  {
   "cell_type": "markdown",
   "id": "6e9dbfb9-8b10-4707-a773-588909da4085",
   "metadata": {},
   "source": [
    "`-` 기존 리스트에서 추가로 frequency() 메소드가 존재함."
   ]
  },
  {
   "cell_type": "code",
   "execution_count": 71,
   "id": "40290184-1ea2-4d48-80fa-db729be2cc3d",
   "metadata": {},
   "outputs": [
    {
     "data": {
      "text/plain": [
       "{1: 3, 2: 2, 3: 1, 10: 1}"
      ]
     },
     "execution_count": 71,
     "metadata": {},
     "output_type": "execute_result"
    }
   ],
   "source": [
    "lst.frequency()"
   ]
  },
  {
   "cell_type": "markdown",
   "id": "d7a5fa26-c8ed-4a94-8ba2-2ef99d5698ce",
   "metadata": {},
   "source": [
    "## Appendix: 사용자정의 자료형의 유용함"
   ]
  },
  {
   "cell_type": "markdown",
   "id": "50d99206-e296-4a6f-af72-dcd15d314769",
   "metadata": {},
   "source": [
    "`-` 사용자정의 자료형이 어떤 경우에는 유용할 수 있다."
   ]
  },
  {
   "cell_type": "code",
   "execution_count": 72,
   "id": "492a0e8c-c8b0-4cb6-bbe0-1a87f3885e11",
   "metadata": {},
   "outputs": [],
   "source": [
    "import pandas as pd\n",
    "import numpy as np\n",
    "import matplotlib.pyplot as plt"
   ]
  },
  {
   "cell_type": "markdown",
   "id": "28e83f90-a1b4-481b-8537-05264398f483",
   "metadata": {},
   "source": [
    "### `-` 예제1"
   ]
  },
  {
   "cell_type": "code",
   "execution_count": 73,
   "id": "b7c2c470-478f-4569-9ba5-6249c5cc6ccf",
   "metadata": {},
   "outputs": [],
   "source": [
    "year = ['2016','2017','2017','2017',2017,2018,2018,2019,2019] \n",
    "value = np.random.randn(9)"
   ]
  },
  {
   "cell_type": "code",
   "execution_count": 76,
   "id": "ad73c6f4-a4ac-4678-b558-7ec36a6d17f2",
   "metadata": {},
   "outputs": [
    {
     "data": {
      "text/html": [
       "<div>\n",
       "<style scoped>\n",
       "    .dataframe tbody tr th:only-of-type {\n",
       "        vertical-align: middle;\n",
       "    }\n",
       "\n",
       "    .dataframe tbody tr th {\n",
       "        vertical-align: top;\n",
       "    }\n",
       "\n",
       "    .dataframe thead th {\n",
       "        text-align: right;\n",
       "    }\n",
       "</style>\n",
       "<table border=\"1\" class=\"dataframe\">\n",
       "  <thead>\n",
       "    <tr style=\"text-align: right;\">\n",
       "      <th></th>\n",
       "      <th>year</th>\n",
       "      <th>value</th>\n",
       "    </tr>\n",
       "  </thead>\n",
       "  <tbody>\n",
       "    <tr>\n",
       "      <th>0</th>\n",
       "      <td>2016</td>\n",
       "      <td>-0.140139</td>\n",
       "    </tr>\n",
       "    <tr>\n",
       "      <th>1</th>\n",
       "      <td>2017</td>\n",
       "      <td>1.412758</td>\n",
       "    </tr>\n",
       "    <tr>\n",
       "      <th>2</th>\n",
       "      <td>2017</td>\n",
       "      <td>-0.065478</td>\n",
       "    </tr>\n",
       "    <tr>\n",
       "      <th>3</th>\n",
       "      <td>2017</td>\n",
       "      <td>0.107847</td>\n",
       "    </tr>\n",
       "    <tr>\n",
       "      <th>4</th>\n",
       "      <td>2017</td>\n",
       "      <td>0.824112</td>\n",
       "    </tr>\n",
       "    <tr>\n",
       "      <th>5</th>\n",
       "      <td>2018</td>\n",
       "      <td>0.061573</td>\n",
       "    </tr>\n",
       "    <tr>\n",
       "      <th>6</th>\n",
       "      <td>2018</td>\n",
       "      <td>-0.463060</td>\n",
       "    </tr>\n",
       "    <tr>\n",
       "      <th>7</th>\n",
       "      <td>2019</td>\n",
       "      <td>-0.808921</td>\n",
       "    </tr>\n",
       "    <tr>\n",
       "      <th>8</th>\n",
       "      <td>2019</td>\n",
       "      <td>0.389417</td>\n",
       "    </tr>\n",
       "  </tbody>\n",
       "</table>\n",
       "</div>"
      ],
      "text/plain": [
       "   year     value\n",
       "0  2016 -0.140139\n",
       "1  2017  1.412758\n",
       "2  2017 -0.065478\n",
       "3  2017  0.107847\n",
       "4  2017  0.824112\n",
       "5  2018  0.061573\n",
       "6  2018 -0.463060\n",
       "7  2019 -0.808921\n",
       "8  2019  0.389417"
      ]
     },
     "execution_count": 76,
     "metadata": {},
     "output_type": "execute_result"
    }
   ],
   "source": [
    "df = pd.DataFrame({'year':year, 'value':value})\n",
    "df"
   ]
  },
  {
   "cell_type": "code",
   "execution_count": 77,
   "id": "d5257078-5cf5-437b-9b1b-417c15d4bda8",
   "metadata": {},
   "outputs": [
    {
     "ename": "TypeError",
     "evalue": "'value' must be an instance of str or bytes, not a int",
     "output_type": "error",
     "traceback": [
      "\u001b[0;31m---------------------------------------------------------------------------\u001b[0m",
      "\u001b[0;31mTypeError\u001b[0m                                 Traceback (most recent call last)",
      "Cell \u001b[0;32mIn[77], line 1\u001b[0m\n\u001b[0;32m----> 1\u001b[0m \u001b[43mplt\u001b[49m\u001b[38;5;241;43m.\u001b[39;49m\u001b[43mplot\u001b[49m\u001b[43m(\u001b[49m\u001b[43mdf\u001b[49m\u001b[38;5;241;43m.\u001b[39;49m\u001b[43myear\u001b[49m\u001b[43m,\u001b[49m\u001b[43m \u001b[49m\u001b[43mdf\u001b[49m\u001b[38;5;241;43m.\u001b[39;49m\u001b[43mvalue\u001b[49m\u001b[43m)\u001b[49m\n",
      "File \u001b[0;32m~/anaconda3/envs/py38/lib/python3.8/site-packages/matplotlib/pyplot.py:2785\u001b[0m, in \u001b[0;36mplot\u001b[0;34m(scalex, scaley, data, *args, **kwargs)\u001b[0m\n\u001b[1;32m   2783\u001b[0m \u001b[38;5;129m@_copy_docstring_and_deprecators\u001b[39m(Axes\u001b[38;5;241m.\u001b[39mplot)\n\u001b[1;32m   2784\u001b[0m \u001b[38;5;28;01mdef\u001b[39;00m \u001b[38;5;21mplot\u001b[39m(\u001b[38;5;241m*\u001b[39margs, scalex\u001b[38;5;241m=\u001b[39m\u001b[38;5;28;01mTrue\u001b[39;00m, scaley\u001b[38;5;241m=\u001b[39m\u001b[38;5;28;01mTrue\u001b[39;00m, data\u001b[38;5;241m=\u001b[39m\u001b[38;5;28;01mNone\u001b[39;00m, \u001b[38;5;241m*\u001b[39m\u001b[38;5;241m*\u001b[39mkwargs):\n\u001b[0;32m-> 2785\u001b[0m     \u001b[38;5;28;01mreturn\u001b[39;00m \u001b[43mgca\u001b[49m\u001b[43m(\u001b[49m\u001b[43m)\u001b[49m\u001b[38;5;241;43m.\u001b[39;49m\u001b[43mplot\u001b[49m\u001b[43m(\u001b[49m\n\u001b[1;32m   2786\u001b[0m \u001b[43m        \u001b[49m\u001b[38;5;241;43m*\u001b[39;49m\u001b[43margs\u001b[49m\u001b[43m,\u001b[49m\u001b[43m \u001b[49m\u001b[43mscalex\u001b[49m\u001b[38;5;241;43m=\u001b[39;49m\u001b[43mscalex\u001b[49m\u001b[43m,\u001b[49m\u001b[43m \u001b[49m\u001b[43mscaley\u001b[49m\u001b[38;5;241;43m=\u001b[39;49m\u001b[43mscaley\u001b[49m\u001b[43m,\u001b[49m\n\u001b[1;32m   2787\u001b[0m \u001b[43m        \u001b[49m\u001b[38;5;241;43m*\u001b[39;49m\u001b[38;5;241;43m*\u001b[39;49m\u001b[43m(\u001b[49m\u001b[43m{\u001b[49m\u001b[38;5;124;43m\"\u001b[39;49m\u001b[38;5;124;43mdata\u001b[39;49m\u001b[38;5;124;43m\"\u001b[39;49m\u001b[43m:\u001b[49m\u001b[43m \u001b[49m\u001b[43mdata\u001b[49m\u001b[43m}\u001b[49m\u001b[43m \u001b[49m\u001b[38;5;28;43;01mif\u001b[39;49;00m\u001b[43m \u001b[49m\u001b[43mdata\u001b[49m\u001b[43m \u001b[49m\u001b[38;5;129;43;01mis\u001b[39;49;00m\u001b[43m \u001b[49m\u001b[38;5;129;43;01mnot\u001b[39;49;00m\u001b[43m \u001b[49m\u001b[38;5;28;43;01mNone\u001b[39;49;00m\u001b[43m \u001b[49m\u001b[38;5;28;43;01melse\u001b[39;49;00m\u001b[43m \u001b[49m\u001b[43m{\u001b[49m\u001b[43m}\u001b[49m\u001b[43m)\u001b[49m\u001b[43m,\u001b[49m\u001b[43m \u001b[49m\u001b[38;5;241;43m*\u001b[39;49m\u001b[38;5;241;43m*\u001b[39;49m\u001b[43mkwargs\u001b[49m\u001b[43m)\u001b[49m\n",
      "File \u001b[0;32m~/anaconda3/envs/py38/lib/python3.8/site-packages/matplotlib/axes/_axes.py:1688\u001b[0m, in \u001b[0;36mAxes.plot\u001b[0;34m(self, scalex, scaley, data, *args, **kwargs)\u001b[0m\n\u001b[1;32m   1445\u001b[0m \u001b[38;5;250m\u001b[39m\u001b[38;5;124;03m\"\"\"\u001b[39;00m\n\u001b[1;32m   1446\u001b[0m \u001b[38;5;124;03mPlot y versus x as lines and/or markers.\u001b[39;00m\n\u001b[1;32m   1447\u001b[0m \n\u001b[0;32m   (...)\u001b[0m\n\u001b[1;32m   1685\u001b[0m \u001b[38;5;124;03m(``'green'``) or hex strings (``'#008000'``).\u001b[39;00m\n\u001b[1;32m   1686\u001b[0m \u001b[38;5;124;03m\"\"\"\u001b[39;00m\n\u001b[1;32m   1687\u001b[0m kwargs \u001b[38;5;241m=\u001b[39m cbook\u001b[38;5;241m.\u001b[39mnormalize_kwargs(kwargs, mlines\u001b[38;5;241m.\u001b[39mLine2D)\n\u001b[0;32m-> 1688\u001b[0m lines \u001b[38;5;241m=\u001b[39m [\u001b[38;5;241m*\u001b[39m\u001b[38;5;28mself\u001b[39m\u001b[38;5;241m.\u001b[39m_get_lines(\u001b[38;5;241m*\u001b[39margs, data\u001b[38;5;241m=\u001b[39mdata, \u001b[38;5;241m*\u001b[39m\u001b[38;5;241m*\u001b[39mkwargs)]\n\u001b[1;32m   1689\u001b[0m \u001b[38;5;28;01mfor\u001b[39;00m line \u001b[38;5;129;01min\u001b[39;00m lines:\n\u001b[1;32m   1690\u001b[0m     \u001b[38;5;28mself\u001b[39m\u001b[38;5;241m.\u001b[39madd_line(line)\n",
      "File \u001b[0;32m~/anaconda3/envs/py38/lib/python3.8/site-packages/matplotlib/axes/_base.py:311\u001b[0m, in \u001b[0;36m_process_plot_var_args.__call__\u001b[0;34m(self, data, *args, **kwargs)\u001b[0m\n\u001b[1;32m    309\u001b[0m     this \u001b[38;5;241m+\u001b[39m\u001b[38;5;241m=\u001b[39m args[\u001b[38;5;241m0\u001b[39m],\n\u001b[1;32m    310\u001b[0m     args \u001b[38;5;241m=\u001b[39m args[\u001b[38;5;241m1\u001b[39m:]\n\u001b[0;32m--> 311\u001b[0m \u001b[38;5;28;01myield from\u001b[39;00m \u001b[38;5;28;43mself\u001b[39;49m\u001b[38;5;241;43m.\u001b[39;49m\u001b[43m_plot_args\u001b[49m\u001b[43m(\u001b[49m\n\u001b[1;32m    312\u001b[0m \u001b[43m    \u001b[49m\u001b[43mthis\u001b[49m\u001b[43m,\u001b[49m\u001b[43m \u001b[49m\u001b[43mkwargs\u001b[49m\u001b[43m,\u001b[49m\u001b[43m \u001b[49m\u001b[43mambiguous_fmt_datakey\u001b[49m\u001b[38;5;241;43m=\u001b[39;49m\u001b[43mambiguous_fmt_datakey\u001b[49m\u001b[43m)\u001b[49m\n",
      "File \u001b[0;32m~/anaconda3/envs/py38/lib/python3.8/site-packages/matplotlib/axes/_base.py:499\u001b[0m, in \u001b[0;36m_process_plot_var_args._plot_args\u001b[0;34m(self, tup, kwargs, return_kwargs, ambiguous_fmt_datakey)\u001b[0m\n\u001b[1;32m    496\u001b[0m     x, y \u001b[38;5;241m=\u001b[39m index_of(xy[\u001b[38;5;241m-\u001b[39m\u001b[38;5;241m1\u001b[39m])\n\u001b[1;32m    498\u001b[0m \u001b[38;5;28;01mif\u001b[39;00m \u001b[38;5;28mself\u001b[39m\u001b[38;5;241m.\u001b[39maxes\u001b[38;5;241m.\u001b[39mxaxis \u001b[38;5;129;01mis\u001b[39;00m \u001b[38;5;129;01mnot\u001b[39;00m \u001b[38;5;28;01mNone\u001b[39;00m:\n\u001b[0;32m--> 499\u001b[0m     \u001b[38;5;28;43mself\u001b[39;49m\u001b[38;5;241;43m.\u001b[39;49m\u001b[43maxes\u001b[49m\u001b[38;5;241;43m.\u001b[39;49m\u001b[43mxaxis\u001b[49m\u001b[38;5;241;43m.\u001b[39;49m\u001b[43mupdate_units\u001b[49m\u001b[43m(\u001b[49m\u001b[43mx\u001b[49m\u001b[43m)\u001b[49m\n\u001b[1;32m    500\u001b[0m \u001b[38;5;28;01mif\u001b[39;00m \u001b[38;5;28mself\u001b[39m\u001b[38;5;241m.\u001b[39maxes\u001b[38;5;241m.\u001b[39myaxis \u001b[38;5;129;01mis\u001b[39;00m \u001b[38;5;129;01mnot\u001b[39;00m \u001b[38;5;28;01mNone\u001b[39;00m:\n\u001b[1;32m    501\u001b[0m     \u001b[38;5;28mself\u001b[39m\u001b[38;5;241m.\u001b[39maxes\u001b[38;5;241m.\u001b[39myaxis\u001b[38;5;241m.\u001b[39mupdate_units(y)\n",
      "File \u001b[0;32m~/anaconda3/envs/py38/lib/python3.8/site-packages/matplotlib/axis.py:1670\u001b[0m, in \u001b[0;36mAxis.update_units\u001b[0;34m(self, data)\u001b[0m\n\u001b[1;32m   1668\u001b[0m neednew \u001b[38;5;241m=\u001b[39m \u001b[38;5;28mself\u001b[39m\u001b[38;5;241m.\u001b[39mconverter \u001b[38;5;241m!=\u001b[39m converter\n\u001b[1;32m   1669\u001b[0m \u001b[38;5;28mself\u001b[39m\u001b[38;5;241m.\u001b[39mconverter \u001b[38;5;241m=\u001b[39m converter\n\u001b[0;32m-> 1670\u001b[0m default \u001b[38;5;241m=\u001b[39m \u001b[38;5;28;43mself\u001b[39;49m\u001b[38;5;241;43m.\u001b[39;49m\u001b[43mconverter\u001b[49m\u001b[38;5;241;43m.\u001b[39;49m\u001b[43mdefault_units\u001b[49m\u001b[43m(\u001b[49m\u001b[43mdata\u001b[49m\u001b[43m,\u001b[49m\u001b[43m \u001b[49m\u001b[38;5;28;43mself\u001b[39;49m\u001b[43m)\u001b[49m\n\u001b[1;32m   1671\u001b[0m \u001b[38;5;28;01mif\u001b[39;00m default \u001b[38;5;129;01mis\u001b[39;00m \u001b[38;5;129;01mnot\u001b[39;00m \u001b[38;5;28;01mNone\u001b[39;00m \u001b[38;5;129;01mand\u001b[39;00m \u001b[38;5;28mself\u001b[39m\u001b[38;5;241m.\u001b[39munits \u001b[38;5;129;01mis\u001b[39;00m \u001b[38;5;28;01mNone\u001b[39;00m:\n\u001b[1;32m   1672\u001b[0m     \u001b[38;5;28mself\u001b[39m\u001b[38;5;241m.\u001b[39mset_units(default)\n",
      "File \u001b[0;32m~/anaconda3/envs/py38/lib/python3.8/site-packages/matplotlib/category.py:105\u001b[0m, in \u001b[0;36mStrCategoryConverter.default_units\u001b[0;34m(data, axis)\u001b[0m\n\u001b[1;32m    103\u001b[0m \u001b[38;5;66;03m# the conversion call stack is default_units -> axis_info -> convert\u001b[39;00m\n\u001b[1;32m    104\u001b[0m \u001b[38;5;28;01mif\u001b[39;00m axis\u001b[38;5;241m.\u001b[39munits \u001b[38;5;129;01mis\u001b[39;00m \u001b[38;5;28;01mNone\u001b[39;00m:\n\u001b[0;32m--> 105\u001b[0m     axis\u001b[38;5;241m.\u001b[39mset_units(\u001b[43mUnitData\u001b[49m\u001b[43m(\u001b[49m\u001b[43mdata\u001b[49m\u001b[43m)\u001b[49m)\n\u001b[1;32m    106\u001b[0m \u001b[38;5;28;01melse\u001b[39;00m:\n\u001b[1;32m    107\u001b[0m     axis\u001b[38;5;241m.\u001b[39munits\u001b[38;5;241m.\u001b[39mupdate(data)\n",
      "File \u001b[0;32m~/anaconda3/envs/py38/lib/python3.8/site-packages/matplotlib/category.py:181\u001b[0m, in \u001b[0;36mUnitData.__init__\u001b[0;34m(self, data)\u001b[0m\n\u001b[1;32m    179\u001b[0m \u001b[38;5;28mself\u001b[39m\u001b[38;5;241m.\u001b[39m_counter \u001b[38;5;241m=\u001b[39m itertools\u001b[38;5;241m.\u001b[39mcount()\n\u001b[1;32m    180\u001b[0m \u001b[38;5;28;01mif\u001b[39;00m data \u001b[38;5;129;01mis\u001b[39;00m \u001b[38;5;129;01mnot\u001b[39;00m \u001b[38;5;28;01mNone\u001b[39;00m:\n\u001b[0;32m--> 181\u001b[0m     \u001b[38;5;28;43mself\u001b[39;49m\u001b[38;5;241;43m.\u001b[39;49m\u001b[43mupdate\u001b[49m\u001b[43m(\u001b[49m\u001b[43mdata\u001b[49m\u001b[43m)\u001b[49m\n",
      "File \u001b[0;32m~/anaconda3/envs/py38/lib/python3.8/site-packages/matplotlib/category.py:216\u001b[0m, in \u001b[0;36mUnitData.update\u001b[0;34m(self, data)\u001b[0m\n\u001b[1;32m    213\u001b[0m convertible \u001b[38;5;241m=\u001b[39m \u001b[38;5;28;01mTrue\u001b[39;00m\n\u001b[1;32m    214\u001b[0m \u001b[38;5;28;01mfor\u001b[39;00m val \u001b[38;5;129;01min\u001b[39;00m OrderedDict\u001b[38;5;241m.\u001b[39mfromkeys(data):\n\u001b[1;32m    215\u001b[0m     \u001b[38;5;66;03m# OrderedDict just iterates over unique values in data.\u001b[39;00m\n\u001b[0;32m--> 216\u001b[0m     \u001b[43m_api\u001b[49m\u001b[38;5;241;43m.\u001b[39;49m\u001b[43mcheck_isinstance\u001b[49m\u001b[43m(\u001b[49m\u001b[43m(\u001b[49m\u001b[38;5;28;43mstr\u001b[39;49m\u001b[43m,\u001b[49m\u001b[43m \u001b[49m\u001b[38;5;28;43mbytes\u001b[39;49m\u001b[43m)\u001b[49m\u001b[43m,\u001b[49m\u001b[43m \u001b[49m\u001b[43mvalue\u001b[49m\u001b[38;5;241;43m=\u001b[39;49m\u001b[43mval\u001b[49m\u001b[43m)\u001b[49m\n\u001b[1;32m    217\u001b[0m     \u001b[38;5;28;01mif\u001b[39;00m convertible:\n\u001b[1;32m    218\u001b[0m         \u001b[38;5;66;03m# this will only be called so long as convertible is True.\u001b[39;00m\n\u001b[1;32m    219\u001b[0m         convertible \u001b[38;5;241m=\u001b[39m \u001b[38;5;28mself\u001b[39m\u001b[38;5;241m.\u001b[39m_str_is_convertible(val)\n",
      "File \u001b[0;32m~/anaconda3/envs/py38/lib/python3.8/site-packages/matplotlib/_api/__init__.py:93\u001b[0m, in \u001b[0;36mcheck_isinstance\u001b[0;34m(_types, **kwargs)\u001b[0m\n\u001b[1;32m     91\u001b[0m     names\u001b[38;5;241m.\u001b[39mremove(\u001b[38;5;124m\"\u001b[39m\u001b[38;5;124mNone\u001b[39m\u001b[38;5;124m\"\u001b[39m)\n\u001b[1;32m     92\u001b[0m     names\u001b[38;5;241m.\u001b[39mappend(\u001b[38;5;124m\"\u001b[39m\u001b[38;5;124mNone\u001b[39m\u001b[38;5;124m\"\u001b[39m)\n\u001b[0;32m---> 93\u001b[0m \u001b[38;5;28;01mraise\u001b[39;00m \u001b[38;5;167;01mTypeError\u001b[39;00m(\n\u001b[1;32m     94\u001b[0m     \u001b[38;5;124m\"\u001b[39m\u001b[38;5;132;01m{!r}\u001b[39;00m\u001b[38;5;124m must be an instance of \u001b[39m\u001b[38;5;132;01m{}\u001b[39;00m\u001b[38;5;124m, not a \u001b[39m\u001b[38;5;132;01m{}\u001b[39;00m\u001b[38;5;124m\"\u001b[39m\u001b[38;5;241m.\u001b[39mformat(\n\u001b[1;32m     95\u001b[0m         k,\n\u001b[1;32m     96\u001b[0m         \u001b[38;5;124m\"\u001b[39m\u001b[38;5;124m, \u001b[39m\u001b[38;5;124m\"\u001b[39m\u001b[38;5;241m.\u001b[39mjoin(names[:\u001b[38;5;241m-\u001b[39m\u001b[38;5;241m1\u001b[39m]) \u001b[38;5;241m+\u001b[39m \u001b[38;5;124m\"\u001b[39m\u001b[38;5;124m or \u001b[39m\u001b[38;5;124m\"\u001b[39m \u001b[38;5;241m+\u001b[39m names[\u001b[38;5;241m-\u001b[39m\u001b[38;5;241m1\u001b[39m]\n\u001b[1;32m     97\u001b[0m         \u001b[38;5;28;01mif\u001b[39;00m \u001b[38;5;28mlen\u001b[39m(names) \u001b[38;5;241m>\u001b[39m \u001b[38;5;241m1\u001b[39m \u001b[38;5;28;01melse\u001b[39;00m names[\u001b[38;5;241m0\u001b[39m],\n\u001b[1;32m     98\u001b[0m         type_name(\u001b[38;5;28mtype\u001b[39m(v))))\n",
      "\u001b[0;31mTypeError\u001b[0m: 'value' must be an instance of str or bytes, not a int"
     ]
    },
    {
     "data": {
      "image/png": "[encoded data removed]",
      "text/plain": [
       "<Figure size 432x288 with 1 Axes>"
      ]
     },
     "metadata": {
      "needs_background": "light"
     },
     "output_type": "display_data"
    }
   ],
   "source": [
    "plt.plot(df.year, df.value)"
   ]
  },
  {
   "cell_type": "markdown",
   "id": "9a58b524-9ad5-4563-9335-fcfe02f1a9e0",
   "metadata": {},
   "source": [
    "에러의 이유: df.year에 str,int가 동시에 있음."
   ]
  },
  {
   "cell_type": "code",
   "execution_count": 78,
   "id": "64c1a7fe-a1e6-423f-a5f1-e6ba38adb89d",
   "metadata": {},
   "outputs": [
    {
     "data": {
      "text/plain": [
       "array(['2016', '2017', '2017', '2017', 2017, 2018, 2018, 2019, 2019],\n",
       "      dtype=object)"
      ]
     },
     "execution_count": 78,
     "metadata": {},
     "output_type": "execute_result"
    }
   ],
   "source": [
    "np.array(df.year)"
   ]
  },
  {
   "cell_type": "markdown",
   "id": "acac4958-2533-4514-9fb7-f4149c5de6df",
   "metadata": {},
   "source": [
    "자료형을 바꿔주면 해결할 수 있다."
   ]
  },
  {
   "cell_type": "code",
   "execution_count": 79,
   "id": "b90aca0e-a27c-4abc-96e5-c23a7f9f5aaa",
   "metadata": {},
   "outputs": [
    {
     "data": {
      "text/plain": [
       "array([2016., 2017., 2017., 2017., 2017., 2018., 2018., 2019., 2019.])"
      ]
     },
     "execution_count": 79,
     "metadata": {},
     "output_type": "execute_result"
    }
   ],
   "source": [
    "np.array(df.year, dtype=np.float64)\n",
    "#np.array(df.year).astype(np.float64)\n",
    "#df.year.astype(np.float64)"
   ]
  },
  {
   "cell_type": "code",
   "execution_count": 81,
   "id": "9255e457-488b-4fcd-9c77-1ab08b38e391",
   "metadata": {},
   "outputs": [
    {
     "data": {
      "text/plain": [
       "[<matplotlib.lines.Line2D at 0x7f66cad7a2e0>]"
      ]
     },
     "execution_count": 81,
     "metadata": {},
     "output_type": "execute_result"
    },
    {
     "data": {
      "image/png": "[encoded data removed]",
      "text/plain": [
       "<Figure size 432x288 with 1 Axes>"
      ]
     },
     "metadata": {
      "needs_background": "light"
     },
     "output_type": "display_data"
    }
   ],
   "source": [
    "plt.plot(df.year.astype(np.float64),df.value,'.')"
   ]
  },
  {
   "cell_type": "markdown",
   "id": "8761d181-99d6-4c5f-a4c7-4e96045cce33",
   "metadata": {},
   "source": [
    "### `-` 예제2"
   ]
  },
  {
   "cell_type": "code",
   "execution_count": 82,
   "id": "b3196318-7f9e-4bc9-b867-00fbe06b871f",
   "metadata": {},
   "outputs": [],
   "source": [
    "year = ['2016','2017','2017','2017년','2017년',2018,2018,2019,2019] \n",
    "value = np.random.randn(9)"
   ]
  },
  {
   "cell_type": "code",
   "execution_count": 83,
   "id": "81c11d73-bbff-4dd6-a8de-0e001fd914e9",
   "metadata": {},
   "outputs": [
    {
     "data": {
      "text/html": [
       "<div>\n",
       "<style scoped>\n",
       "    .dataframe tbody tr th:only-of-type {\n",
       "        vertical-align: middle;\n",
       "    }\n",
       "\n",
       "    .dataframe tbody tr th {\n",
       "        vertical-align: top;\n",
       "    }\n",
       "\n",
       "    .dataframe thead th {\n",
       "        text-align: right;\n",
       "    }\n",
       "</style>\n",
       "<table border=\"1\" class=\"dataframe\">\n",
       "  <thead>\n",
       "    <tr style=\"text-align: right;\">\n",
       "      <th></th>\n",
       "      <th>year</th>\n",
       "      <th>value</th>\n",
       "    </tr>\n",
       "  </thead>\n",
       "  <tbody>\n",
       "    <tr>\n",
       "      <th>0</th>\n",
       "      <td>2016</td>\n",
       "      <td>0.127739</td>\n",
       "    </tr>\n",
       "    <tr>\n",
       "      <th>1</th>\n",
       "      <td>2017</td>\n",
       "      <td>1.437921</td>\n",
       "    </tr>\n",
       "    <tr>\n",
       "      <th>2</th>\n",
       "      <td>2017</td>\n",
       "      <td>-1.137349</td>\n",
       "    </tr>\n",
       "    <tr>\n",
       "      <th>3</th>\n",
       "      <td>2017년</td>\n",
       "      <td>-0.178713</td>\n",
       "    </tr>\n",
       "    <tr>\n",
       "      <th>4</th>\n",
       "      <td>2017년</td>\n",
       "      <td>-0.276401</td>\n",
       "    </tr>\n",
       "    <tr>\n",
       "      <th>5</th>\n",
       "      <td>2018</td>\n",
       "      <td>2.467760</td>\n",
       "    </tr>\n",
       "    <tr>\n",
       "      <th>6</th>\n",
       "      <td>2018</td>\n",
       "      <td>-1.068202</td>\n",
       "    </tr>\n",
       "    <tr>\n",
       "      <th>7</th>\n",
       "      <td>2019</td>\n",
       "      <td>-0.313908</td>\n",
       "    </tr>\n",
       "    <tr>\n",
       "      <th>8</th>\n",
       "      <td>2019</td>\n",
       "      <td>1.049837</td>\n",
       "    </tr>\n",
       "  </tbody>\n",
       "</table>\n",
       "</div>"
      ],
      "text/plain": [
       "    year     value\n",
       "0   2016  0.127739\n",
       "1   2017  1.437921\n",
       "2   2017 -1.137349\n",
       "3  2017년 -0.178713\n",
       "4  2017년 -0.276401\n",
       "5   2018  2.467760\n",
       "6   2018 -1.068202\n",
       "7   2019 -0.313908\n",
       "8   2019  1.049837"
      ]
     },
     "execution_count": 83,
     "metadata": {},
     "output_type": "execute_result"
    }
   ],
   "source": [
    "df= pd.DataFrame({'year':year,'value':value})\n",
    "df"
   ]
  },
  {
   "cell_type": "code",
   "execution_count": 84,
   "id": "73011f2a-bd71-4821-aaf9-9c9624fcc10d",
   "metadata": {},
   "outputs": [
    {
     "ename": "ValueError",
     "evalue": "could not convert string to float: '2017년'",
     "output_type": "error",
     "traceback": [
      "\u001b[0;31m---------------------------------------------------------------------------\u001b[0m",
      "\u001b[0;31mValueError\u001b[0m                                Traceback (most recent call last)",
      "Cell \u001b[0;32mIn[84], line 1\u001b[0m\n\u001b[0;32m----> 1\u001b[0m \u001b[43mnp\u001b[49m\u001b[38;5;241;43m.\u001b[39;49m\u001b[43marray\u001b[49m\u001b[43m(\u001b[49m\u001b[43mdf\u001b[49m\u001b[38;5;241;43m.\u001b[39;49m\u001b[43myear\u001b[49m\u001b[43m,\u001b[49m\u001b[43mdtype\u001b[49m\u001b[38;5;241;43m=\u001b[39;49m\u001b[43mnp\u001b[49m\u001b[38;5;241;43m.\u001b[39;49m\u001b[43mfloat64\u001b[49m\u001b[43m)\u001b[49m \u001b[38;5;66;03m# 타입을 일괄적으로 바꾸기 어렵다. \u001b[39;00m\n",
      "File \u001b[0;32m~/anaconda3/envs/py38/lib/python3.8/site-packages/pandas/core/series.py:857\u001b[0m, in \u001b[0;36mSeries.__array__\u001b[0;34m(self, dtype)\u001b[0m\n\u001b[1;32m    810\u001b[0m \u001b[38;5;28;01mdef\u001b[39;00m \u001b[38;5;21m__array__\u001b[39m(\u001b[38;5;28mself\u001b[39m, dtype: NpDtype \u001b[38;5;241m|\u001b[39m \u001b[38;5;28;01mNone\u001b[39;00m \u001b[38;5;241m=\u001b[39m \u001b[38;5;28;01mNone\u001b[39;00m) \u001b[38;5;241m-\u001b[39m\u001b[38;5;241m>\u001b[39m np\u001b[38;5;241m.\u001b[39mndarray:\n\u001b[1;32m    811\u001b[0m \u001b[38;5;250m    \u001b[39m\u001b[38;5;124;03m\"\"\"\u001b[39;00m\n\u001b[1;32m    812\u001b[0m \u001b[38;5;124;03m    Return the values as a NumPy array.\u001b[39;00m\n\u001b[1;32m    813\u001b[0m \n\u001b[0;32m   (...)\u001b[0m\n\u001b[1;32m    855\u001b[0m \u001b[38;5;124;03m          dtype='datetime64[ns]')\u001b[39;00m\n\u001b[1;32m    856\u001b[0m \u001b[38;5;124;03m    \"\"\"\u001b[39;00m\n\u001b[0;32m--> 857\u001b[0m     \u001b[38;5;28;01mreturn\u001b[39;00m \u001b[43mnp\u001b[49m\u001b[38;5;241;43m.\u001b[39;49m\u001b[43masarray\u001b[49m\u001b[43m(\u001b[49m\u001b[38;5;28;43mself\u001b[39;49m\u001b[38;5;241;43m.\u001b[39;49m\u001b[43m_values\u001b[49m\u001b[43m,\u001b[49m\u001b[43m \u001b[49m\u001b[43mdtype\u001b[49m\u001b[43m)\u001b[49m\n",
      "\u001b[0;31mValueError\u001b[0m: could not convert string to float: '2017년'"
     ]
    }
   ],
   "source": [
    "np.array(df.year,dtype=np.float64) # 타입을 일괄적으로 바꾸기 어렵다. "
   ]
  },
  {
   "cell_type": "code",
   "execution_count": 85,
   "id": "ac58fc0f-0d8f-422d-8e39-d477026f91bc",
   "metadata": {},
   "outputs": [
    {
     "data": {
      "text/plain": [
       "{'2016': 1, '2017': 2, '2017년': 2, 2018: 2, 2019: 2}"
      ]
     },
     "execution_count": 85,
     "metadata": {},
     "output_type": "execute_result"
    }
   ],
   "source": [
    "L(df.year).frequency()"
   ]
  },
  {
   "cell_type": "markdown",
   "id": "5c2db526-c2a2-4f3d-a811-c617104d1ed7",
   "metadata": {},
   "source": [
    "- '2016'와 같은 형태, '2017년'와 같은 형태, 숫자형이 혼합 $\\to$ 맞춤형 변환이 필요함"
   ]
  },
  {
   "cell_type": "code",
   "execution_count": 86,
   "id": "c56153be-8db2-4c99-ab42-054d4f2e25b0",
   "metadata": {},
   "outputs": [
    {
     "data": {
      "text/plain": [
       "'2017'"
      ]
     },
     "execution_count": 86,
     "metadata": {},
     "output_type": "execute_result"
    }
   ],
   "source": [
    "'2017년'.replace('년','')"
   ]
  },
  {
   "cell_type": "code",
   "execution_count": 87,
   "id": "7079241a-f9d8-423e-846f-9809f07ba716",
   "metadata": {},
   "outputs": [],
   "source": [
    "def f(a): ## 사실 데이터의 구조를 모르면 이런 함수를 짤 수 없음 --> 자료의 구조를 확인해준다는 의미에서 freq가 있다면 편리하다. \n",
    "    if type(a) is str:\n",
    "        if '년' in a:\n",
    "            return int(a.replace('년',''))\n",
    "        else:\n",
    "            return int(a)\n",
    "    else:\n",
    "        return a"
   ]
  },
  {
   "cell_type": "code",
   "execution_count": 88,
   "id": "1df4f1f3-7cef-4a42-9405-5e6460d399a7",
   "metadata": {},
   "outputs": [
    {
     "data": {
      "text/plain": [
       "[2016, 2017, 2017, 2017, 2017, 2018, 2018, 2019, 2019]"
      ]
     },
     "execution_count": 88,
     "metadata": {},
     "output_type": "execute_result"
    }
   ],
   "source": [
    "[f(a) for a in df.year]"
   ]
  },
  {
   "cell_type": "code",
   "execution_count": 89,
   "id": "13778eae-8407-4d95-a576-59c93bd4885e",
   "metadata": {},
   "outputs": [],
   "source": [
    "df.year = [f(a) for a in df.year]"
   ]
  },
  {
   "cell_type": "code",
   "execution_count": 90,
   "id": "7691c869-d2b1-4364-8c0b-85611b31f2b2",
   "metadata": {},
   "outputs": [
    {
     "data": {
      "text/html": [
       "<div>\n",
       "<style scoped>\n",
       "    .dataframe tbody tr th:only-of-type {\n",
       "        vertical-align: middle;\n",
       "    }\n",
       "\n",
       "    .dataframe tbody tr th {\n",
       "        vertical-align: top;\n",
       "    }\n",
       "\n",
       "    .dataframe thead th {\n",
       "        text-align: right;\n",
       "    }\n",
       "</style>\n",
       "<table border=\"1\" class=\"dataframe\">\n",
       "  <thead>\n",
       "    <tr style=\"text-align: right;\">\n",
       "      <th></th>\n",
       "      <th>year</th>\n",
       "      <th>value</th>\n",
       "    </tr>\n",
       "  </thead>\n",
       "  <tbody>\n",
       "    <tr>\n",
       "      <th>0</th>\n",
       "      <td>2016</td>\n",
       "      <td>0.127739</td>\n",
       "    </tr>\n",
       "    <tr>\n",
       "      <th>1</th>\n",
       "      <td>2017</td>\n",
       "      <td>1.437921</td>\n",
       "    </tr>\n",
       "    <tr>\n",
       "      <th>2</th>\n",
       "      <td>2017</td>\n",
       "      <td>-1.137349</td>\n",
       "    </tr>\n",
       "    <tr>\n",
       "      <th>3</th>\n",
       "      <td>2017</td>\n",
       "      <td>-0.178713</td>\n",
       "    </tr>\n",
       "    <tr>\n",
       "      <th>4</th>\n",
       "      <td>2017</td>\n",
       "      <td>-0.276401</td>\n",
       "    </tr>\n",
       "    <tr>\n",
       "      <th>5</th>\n",
       "      <td>2018</td>\n",
       "      <td>2.467760</td>\n",
       "    </tr>\n",
       "    <tr>\n",
       "      <th>6</th>\n",
       "      <td>2018</td>\n",
       "      <td>-1.068202</td>\n",
       "    </tr>\n",
       "    <tr>\n",
       "      <th>7</th>\n",
       "      <td>2019</td>\n",
       "      <td>-0.313908</td>\n",
       "    </tr>\n",
       "    <tr>\n",
       "      <th>8</th>\n",
       "      <td>2019</td>\n",
       "      <td>1.049837</td>\n",
       "    </tr>\n",
       "  </tbody>\n",
       "</table>\n",
       "</div>"
      ],
      "text/plain": [
       "   year     value\n",
       "0  2016  0.127739\n",
       "1  2017  1.437921\n",
       "2  2017 -1.137349\n",
       "3  2017 -0.178713\n",
       "4  2017 -0.276401\n",
       "5  2018  2.467760\n",
       "6  2018 -1.068202\n",
       "7  2019 -0.313908\n",
       "8  2019  1.049837"
      ]
     },
     "execution_count": 90,
     "metadata": {},
     "output_type": "execute_result"
    }
   ],
   "source": [
    "df"
   ]
  },
  {
   "cell_type": "code",
   "execution_count": 91,
   "id": "a087aaca-c608-48a8-8c3e-bb8ae5a0e2c9",
   "metadata": {},
   "outputs": [
    {
     "data": {
      "text/plain": [
       "[<matplotlib.lines.Line2D at 0x7f66ca88b220>]"
      ]
     },
     "execution_count": 91,
     "metadata": {},
     "output_type": "execute_result"
    },
    {
     "data": {
      "image/png": "[encoded data removed]",
      "text/plain": [
       "<Figure size 432x288 with 1 Axes>"
      ]
     },
     "metadata": {
      "needs_background": "light"
     },
     "output_type": "display_data"
    }
   ],
   "source": [
    "plt.plot(df.year, df.value,'.')"
   ]
  }
 ],
 "metadata": {
  "kernelspec": {
   "display_name": "Python 3",
   "language": "python",
   "name": "python3"
  },
  "language_info": {
   "codemirror_mode": {
    "name": "ipython",
    "version": 3
   },
   "file_extension": ".py",
   "mimetype": "text/x-python",
   "name": "python",
   "nbconvert_exporter": "python",
   "pygments_lexer": "ipython3",
   "version": "3.8.16"
  }
 },
 "nbformat": 4,
 "nbformat_minor": 5
}
