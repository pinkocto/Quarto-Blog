{
 "cells": [
  {
   "cell_type": "raw",
   "id": "41b3d0cd-0ad3-41ee-b1a5-547d9578d5fa",
   "metadata": {},
   "source": [
    "---\n",
    "title: 'class 10단계'\n",
    "author: 'jiyun Lim'\n",
    "date: '02/23/2023'\n",
    "categories:\n",
    "  - class\n",
    "  - Python\n",
    "---"
   ]
  },
  {
   "cell_type": "markdown",
   "id": "da980296-8c00-48dd-9fd1-bc6ae5a69b51",
   "metadata": {},
   "source": [
    "# 클래스공부 10단계\n",
    "> 문자열 join, matplotlib, 참조와 에일리어싱"
   ]
  },
  {
   "cell_type": "markdown",
   "id": "dd1880af-a000-4a1e-829b-44480f7a26ef",
   "metadata": {},
   "source": [
    "## 문자열 join"
   ]
  },
  {
   "cell_type": "markdown",
   "id": "1cdb0b6d-1693-4369-b760-6bc7d072dd02",
   "metadata": {},
   "source": [
    "`-` 예제"
   ]
  },
  {
   "cell_type": "code",
   "execution_count": 2,
   "id": "bb3039ed-5880-43df-94f1-c0cf4562f676",
   "metadata": {},
   "outputs": [
    {
     "data": {
      "text/plain": [
       "'abcd'"
      ]
     },
     "execution_count": 2,
     "metadata": {},
     "output_type": "execute_result"
    }
   ],
   "source": [
    "'abcd'"
   ]
  },
  {
   "cell_type": "code",
   "execution_count": 6,
   "id": "14899910-6865-4030-8484-8560749d134e",
   "metadata": {},
   "outputs": [
    {
     "data": {
      "text/plain": [
       "['a', 'b', 'c', 'd']"
      ]
     },
     "execution_count": 6,
     "metadata": {},
     "output_type": "execute_result"
    }
   ],
   "source": [
    "lst = list('abcd')\n",
    "lst"
   ]
  },
  {
   "cell_type": "markdown",
   "id": "85fb94b6-bc3b-4a6f-9d16-7873a71df678",
   "metadata": {},
   "source": [
    "- `['a','b','c','d']`를 붙여서 `'abcd'`로 하고 싶은데?"
   ]
  },
  {
   "cell_type": "code",
   "execution_count": 5,
   "id": "53c1ff39-962a-4a92-8d01-0aef23b84dba",
   "metadata": {},
   "outputs": [
    {
     "data": {
      "text/plain": [
       "'abcd'"
      ]
     },
     "execution_count": 5,
     "metadata": {},
     "output_type": "execute_result"
    }
   ],
   "source": [
    "''.join(lst)"
   ]
  },
  {
   "cell_type": "code",
   "execution_count": 9,
   "id": "82d8acfc-bce5-4357-a8bb-dc0f0482835b",
   "metadata": {},
   "outputs": [],
   "source": [
    "a='' # string object"
   ]
  },
  {
   "cell_type": "code",
   "execution_count": 10,
   "id": "83f00042-90a4-4d34-8fef-6ec603458f5e",
   "metadata": {},
   "outputs": [
    {
     "data": {
      "text/plain": [
       "\u001b[0;31mType:\u001b[0m        str\n",
       "\u001b[0;31mString form:\u001b[0m \n",
       "\u001b[0;31mLength:\u001b[0m      0\n",
       "\u001b[0;31mDocstring:\u001b[0m  \n",
       "str(object='') -> str\n",
       "str(bytes_or_buffer[, encoding[, errors]]) -> str\n",
       "\n",
       "Create a new string object from the given object. If encoding or\n",
       "errors is specified, then the object must expose a data buffer\n",
       "that will be decoded using the given encoding and error handler.\n",
       "Otherwise, returns the result of object.__str__() (if defined)\n",
       "or repr(object).\n",
       "encoding defaults to sys.getdefaultencoding().\n",
       "errors defaults to 'strict'."
      ]
     },
     "metadata": {},
     "output_type": "display_data"
    }
   ],
   "source": [
    "a?"
   ]
  },
  {
   "cell_type": "code",
   "execution_count": 11,
   "id": "74f3a47d-1a95-4192-bf31-a6ca618cd636",
   "metadata": {},
   "outputs": [
    {
     "data": {
      "text/plain": [
       "\u001b[0;31mSignature:\u001b[0m \u001b[0ma\u001b[0m\u001b[0;34m.\u001b[0m\u001b[0mjoin\u001b[0m\u001b[0;34m(\u001b[0m\u001b[0miterable\u001b[0m\u001b[0;34m,\u001b[0m \u001b[0;34m/\u001b[0m\u001b[0;34m)\u001b[0m\u001b[0;34m\u001b[0m\u001b[0;34m\u001b[0m\u001b[0m\n",
       "\u001b[0;31mDocstring:\u001b[0m\n",
       "Concatenate any number of strings.\n",
       "\n",
       "The string whose method is called is inserted in between each given string.\n",
       "The result is returned as a new string.\n",
       "\n",
       "Example: '.'.join(['ab', 'pq', 'rs']) -> 'ab.pq.rs'\n",
       "\u001b[0;31mType:\u001b[0m      builtin_function_or_method"
      ]
     },
     "metadata": {},
     "output_type": "display_data"
    }
   ],
   "source": [
    "a.join? # iterable이 와야함."
   ]
  },
  {
   "cell_type": "code",
   "execution_count": 12,
   "id": "5d55112e-e123-4571-a743-c8fa9c2eb661",
   "metadata": {},
   "outputs": [
    {
     "data": {
      "text/plain": [
       "'abcd'"
      ]
     },
     "execution_count": 12,
     "metadata": {},
     "output_type": "execute_result"
    }
   ],
   "source": [
    "a.join(lst) # lst도 일단 리스트니까 iterable object"
   ]
  },
  {
   "cell_type": "code",
   "execution_count": 16,
   "id": "2dc86db2-71f2-49f5-8d87-9dd631590203",
   "metadata": {},
   "outputs": [
    {
     "data": {
      "text/plain": [
       "{'__iter__'}"
      ]
     },
     "execution_count": 16,
     "metadata": {},
     "output_type": "execute_result"
    }
   ],
   "source": [
    "set(dir(lst)) & {'__iter__' , '__next__'} # iterable object임을 확인"
   ]
  },
  {
   "cell_type": "markdown",
   "id": "688fc3eb-b9f5-4b2d-a0df-cdd35182f8aa",
   "metadata": {},
   "source": [
    "`-` 해설: `''`는 string object이고, `.join`는 string object에 소속된 메서드이다."
   ]
  },
  {
   "cell_type": "code",
   "execution_count": 17,
   "id": "88738149-389f-476b-824f-885a90bca53c",
   "metadata": {},
   "outputs": [
    {
     "data": {
      "text/plain": [
       "'abcd'"
      ]
     },
     "execution_count": 17,
     "metadata": {},
     "output_type": "execute_result"
    }
   ],
   "source": [
    "a = ''\n",
    "a.join(lst) # join(a,lst) 와 같은 효과"
   ]
  },
  {
   "cell_type": "markdown",
   "id": "fa6937dc-22d6-429e-ad69-1016d07a6296",
   "metadata": {},
   "source": [
    "`-` join의 간단한 사용방법"
   ]
  },
  {
   "cell_type": "code",
   "execution_count": 18,
   "id": "fab2c28e-0a7a-4e69-bb17-7dbe623eb61b",
   "metadata": {},
   "outputs": [
    {
     "data": {
      "text/plain": [
       "'a-b-c-d'"
      ]
     },
     "execution_count": 18,
     "metadata": {},
     "output_type": "execute_result"
    }
   ],
   "source": [
    "'-'.join(lst)"
   ]
  },
  {
   "cell_type": "markdown",
   "id": "d8924506-6aa6-4414-bb3c-b744834e5c95",
   "metadata": {},
   "source": [
    "## matplotlib"
   ]
  },
  {
   "cell_type": "markdown",
   "id": "e19016f4-3378-4569-afd7-2e04fe9a79ef",
   "metadata": {},
   "source": [
    "`-` 파이썬의 모든것은 객체이다:matplotlib의 다른 사용 (객체지향적 언어로 그림그리기!)"
   ]
  },
  {
   "cell_type": "markdown",
   "id": "3f6ef627-38c9-458d-8cad-adda514e6a67",
   "metadata": {},
   "source": [
    "`-` 그림오브젝트 생성"
   ]
  },
  {
   "cell_type": "code",
   "execution_count": 37,
   "id": "6cde6494-ecee-43a6-8332-85fc5b21eab6",
   "metadata": {},
   "outputs": [],
   "source": [
    "import matplotlib.pyplot as plt"
   ]
  },
  {
   "cell_type": "code",
   "execution_count": 38,
   "id": "0bdbfaea-6ab9-48ee-9fc1-f61a20cfafb9",
   "metadata": {},
   "outputs": [
    {
     "data": {
      "text/plain": [
       "<Figure size 432x288 with 0 Axes>"
      ]
     },
     "metadata": {},
     "output_type": "display_data"
    }
   ],
   "source": [
    "fig = plt.figure() # plt라는 모듈안에서 figure()라는 함수 실행"
   ]
  },
  {
   "cell_type": "markdown",
   "id": "8ee11a74-6e98-4bee-88f7-5691b9688b2e",
   "metadata": {},
   "source": [
    "그림오브젝트가 실행되고 fig라는 이름이 붙음"
   ]
  },
  {
   "cell_type": "code",
   "execution_count": 39,
   "id": "f604ba57-6c9a-4638-ab25-90d2c0e17c9d",
   "metadata": {},
   "outputs": [
    {
     "data": {
      "text/plain": [
       "140529470770096"
      ]
     },
     "execution_count": 39,
     "metadata": {},
     "output_type": "execute_result"
    }
   ],
   "source": [
    "id(fig)"
   ]
  },
  {
   "cell_type": "code",
   "execution_count": 41,
   "id": "bb9cb890-df3f-4232-8239-97a35b89dcbc",
   "metadata": {},
   "outputs": [
    {
     "data": {
      "text/plain": [
       "<Figure size 432x288 with 0 Axes>"
      ]
     },
     "execution_count": 41,
     "metadata": {},
     "output_type": "execute_result"
    }
   ],
   "source": [
    "fig"
   ]
  },
  {
   "cell_type": "markdown",
   "id": "489686e7-d416-4e8e-b714-94a23a0a7e01",
   "metadata": {},
   "source": [
    "`-` 그림오브젝트의 액시즈를 확인 -> 아무것도 없음"
   ]
  },
  {
   "cell_type": "code",
   "execution_count": 42,
   "id": "ba392408-2124-43ec-ba65-fb2b4c82af44",
   "metadata": {},
   "outputs": [
    {
     "data": {
      "text/plain": [
       "[]"
      ]
     },
     "execution_count": 42,
     "metadata": {},
     "output_type": "execute_result"
    }
   ],
   "source": [
    "fig.axes"
   ]
  },
  {
   "cell_type": "markdown",
   "id": "517b0721-b88d-4123-a0f5-9c134801ee67",
   "metadata": {},
   "source": [
    "`-` (0,0) 자리에 (가로=1, 세로=1) 크기의 액시즈를 넣어보자."
   ]
  },
  {
   "cell_type": "code",
   "execution_count": 43,
   "id": "2156ce08-a459-4f7b-80a3-740b6a1f7426",
   "metadata": {},
   "outputs": [
    {
     "data": {
      "text/plain": [
       "<Axes: >"
      ]
     },
     "execution_count": 43,
     "metadata": {},
     "output_type": "execute_result"
    }
   ],
   "source": [
    "fig.add_axes([0,0,1,1])"
   ]
  },
  {
   "cell_type": "code",
   "execution_count": 44,
   "id": "56fdf6c0-58bd-4afe-9030-1dc118ae1521",
   "metadata": {},
   "outputs": [
    {
     "data": {
      "text/plain": [
       "[<Axes: >]"
      ]
     },
     "execution_count": 44,
     "metadata": {},
     "output_type": "execute_result"
    }
   ],
   "source": [
    "fig.axes"
   ]
  },
  {
   "cell_type": "markdown",
   "id": "1dc38dce-366c-4a99-a332-cae2aa0aac27",
   "metadata": {},
   "source": [
    "- 아까는 빈 리스트였는데 뭔가 추가되어 있다."
   ]
  },
  {
   "cell_type": "code",
   "execution_count": 45,
   "id": "ff12975c-90bf-4a1d-bdbf-81b4bd8a9928",
   "metadata": {},
   "outputs": [
    {
     "data": {
      "image/png": "[encoded data removed]",
      "text/plain": [
       "<Figure size 432x288 with 1 Axes>"
      ]
     },
     "execution_count": 45,
     "metadata": {},
     "output_type": "execute_result"
    }
   ],
   "source": [
    "fig"
   ]
  },
  {
   "cell_type": "markdown",
   "id": "c259e28b-c975-4d28-b897-0d0cefb82dce",
   "metadata": {},
   "source": [
    "`-` (0,1.2) 위치에 (가로=1,세로=1) 크기의 엑시즈 추가"
   ]
  },
  {
   "cell_type": "code",
   "execution_count": 46,
   "id": "89050e97-0738-4c3c-950c-20d36798a00f",
   "metadata": {},
   "outputs": [
    {
     "data": {
      "image/png": "[encoded data removed]",
      "text/plain": [
       "<Figure size 432x288 with 2 Axes>"
      ]
     },
     "execution_count": 46,
     "metadata": {},
     "output_type": "execute_result"
    }
   ],
   "source": [
    "fig.add_axes([0,1.2, 1,1])\n",
    "fig"
   ]
  },
  {
   "cell_type": "markdown",
   "id": "aa8ac9d6-d177-4406-9639-4f2f0f9e4ba0",
   "metadata": {},
   "source": [
    "`-` (0.5,0.5) 위치에 (가로=1, 세로=1) 크기의 그림 추가"
   ]
  },
  {
   "cell_type": "code",
   "execution_count": 47,
   "id": "b66d8682-9eee-4862-b86f-61e1aa325600",
   "metadata": {},
   "outputs": [
    {
     "data": {
      "text/plain": [
       "<Axes: >"
      ]
     },
     "execution_count": 47,
     "metadata": {},
     "output_type": "execute_result"
    }
   ],
   "source": [
    "fig.add_axes([0.5,0.5,1,1])"
   ]
  },
  {
   "cell_type": "code",
   "execution_count": 48,
   "id": "fe0f6531-0966-494d-ace2-0b11a2cf0a23",
   "metadata": {},
   "outputs": [
    {
     "data": {
      "image/png": "[encoded data removed]",
      "text/plain": [
       "<Figure size 432x288 with 3 Axes>"
      ]
     },
     "execution_count": 48,
     "metadata": {},
     "output_type": "execute_result"
    }
   ],
   "source": [
    "fig"
   ]
  },
  {
   "cell_type": "markdown",
   "id": "bcbf1ca4-b3ec-463e-a8f8-3c5eaa03dd3d",
   "metadata": {},
   "source": [
    "`-` fig의 세번째 엑시즈에 접근"
   ]
  },
  {
   "cell_type": "code",
   "execution_count": 52,
   "id": "6ef1b879-cc33-4b7d-8af1-21892720990e",
   "metadata": {},
   "outputs": [
    {
     "data": {
      "text/plain": [
       "<Axes: >"
      ]
     },
     "execution_count": 52,
     "metadata": {},
     "output_type": "execute_result"
    }
   ],
   "source": [
    "a3 = fig.axes[2] # 이것역시 오브젝트임.\n",
    "a3"
   ]
  },
  {
   "cell_type": "code",
   "execution_count": 51,
   "id": "053b3920-f01e-4f01-a376-32da089cb3e7",
   "metadata": {},
   "outputs": [
    {
     "data": {
      "text/plain": [
       "140529466106976"
      ]
     },
     "execution_count": 51,
     "metadata": {},
     "output_type": "execute_result"
    }
   ],
   "source": [
    "id(fig.axes[2]) # 어딘가에 저장이 되어있으니까 오브젝트!"
   ]
  },
  {
   "cell_type": "markdown",
   "id": "4a26676b-19b5-4229-8fa5-923841692077",
   "metadata": {},
   "source": [
    "`-` 엑시즈의 메소드 중에 plot이 있음 $\\to$ 이것으로 그림을 그려봄."
   ]
  },
  {
   "cell_type": "code",
   "execution_count": 53,
   "id": "dafb91d3-71eb-4df3-b5ef-24a1934c2f35",
   "metadata": {},
   "outputs": [
    {
     "data": {
      "text/plain": [
       "[<matplotlib.lines.Line2D at 0x7fcf8f382730>]"
      ]
     },
     "execution_count": 53,
     "metadata": {},
     "output_type": "execute_result"
    }
   ],
   "source": [
    "a3.plot([1,2,3],[4,5,3],'--r')"
   ]
  },
  {
   "cell_type": "code",
   "execution_count": 55,
   "id": "90100ef4-fa99-4c78-90c4-11fabd6696cc",
   "metadata": {},
   "outputs": [
    {
     "data": {
      "image/png": "[encoded data removed]",
      "text/plain": [
       "<Figure size 432x288 with 3 Axes>"
      ]
     },
     "execution_count": 55,
     "metadata": {},
     "output_type": "execute_result"
    }
   ],
   "source": [
    "fig"
   ]
  },
  {
   "cell_type": "markdown",
   "id": "87191469-451a-42ca-92f1-d1849cc173b3",
   "metadata": {},
   "source": [
    "`-` 다시 세번째 축에 접근하여 다른 그림을 그려보자."
   ]
  },
  {
   "cell_type": "code",
   "execution_count": 59,
   "id": "028abcbc-35aa-4d90-be84-12e8748aeeff",
   "metadata": {},
   "outputs": [
    {
     "data": {
      "image/png": "[encoded data removed]",
      "text/plain": [
       "<Figure size 432x288 with 3 Axes>"
      ]
     },
     "execution_count": 59,
     "metadata": {},
     "output_type": "execute_result"
    }
   ],
   "source": [
    "fig.axes[-1].plot([1,2,3],[5,4,3],':o')\n",
    "fig"
   ]
  },
  {
   "cell_type": "markdown",
   "id": "c9233b5d-a9f0-4082-baf9-3923e72f9d45",
   "metadata": {},
   "source": [
    "`-` 이제 첫번째 축에 접근하여 새로운 그림을 그려보자."
   ]
  },
  {
   "cell_type": "code",
   "execution_count": 60,
   "id": "04adb986-6e5d-4f53-b824-dd7b6c983f78",
   "metadata": {},
   "outputs": [
    {
     "data": {
      "image/png": "[encoded data removed]",
      "text/plain": [
       "<Figure size 432x288 with 3 Axes>"
      ]
     },
     "execution_count": 60,
     "metadata": {},
     "output_type": "execute_result"
    }
   ],
   "source": [
    "fig.axes[0].plot([1,2,3],[4,1,4],'--b')\n",
    "fig"
   ]
  },
  {
   "cell_type": "markdown",
   "id": "c776fa68-99ed-4fdc-84b7-2ae584aa4a87",
   "metadata": {},
   "source": [
    "`-` 클래스에 대한 이해가 없다면 위와 같은 그림을 그리기도 힘들고 코드를 해석하기도 힘듬"
   ]
  },
  {
   "cell_type": "markdown",
   "id": "954b91ed-987b-4e5f-b442-5eefe87b3a9c",
   "metadata": {},
   "source": [
    "## 참조와 에일리어싱"
   ]
  },
  {
   "cell_type": "code",
   "execution_count": 69,
   "id": "0b29008d-50e4-42db-ae9f-d6ab2de7c8db",
   "metadata": {},
   "outputs": [],
   "source": [
    "# !conda install -c conda-forge rise -y"
   ]
  },
  {
   "cell_type": "markdown",
   "id": "796d0233-f526-412f-b49d-9ca240c41ad1",
   "metadata": {},
   "source": [
    "`-` 아래의 코드를 관찰하자."
   ]
  },
  {
   "cell_type": "code",
   "execution_count": 84,
   "id": "bab0427e-a494-49dd-a73d-c50ed0b990d0",
   "metadata": {},
   "outputs": [],
   "source": [
    "a = [1,2,3]\n",
    "b = a"
   ]
  },
  {
   "cell_type": "code",
   "execution_count": 85,
   "id": "03b975bd-4f41-440c-94b7-d649724301d2",
   "metadata": {},
   "outputs": [
    {
     "data": {
      "text/plain": [
       "([1, 2, 3], [1, 2, 3])"
      ]
     },
     "execution_count": 85,
     "metadata": {},
     "output_type": "execute_result"
    }
   ],
   "source": [
    "a, b"
   ]
  },
  {
   "cell_type": "code",
   "execution_count": 86,
   "id": "a42b9771-63f9-44ba-8b3a-287dc9aefaff",
   "metadata": {},
   "outputs": [
    {
     "data": {
      "text/plain": [
       "(140529440320192, 140529440320192)"
      ]
     },
     "execution_count": 86,
     "metadata": {},
     "output_type": "execute_result"
    }
   ],
   "source": [
    "id(a), id(b)"
   ]
  },
  {
   "cell_type": "markdown",
   "id": "0211b484-19b7-4271-948e-62340be4b3d5",
   "metadata": {},
   "source": [
    "같은 방문 앞에 a라는 포스트잇과, b라는 포스트잇이 같이 붙어있었음."
   ]
  },
  {
   "cell_type": "code",
   "execution_count": 87,
   "id": "449d893a-b85a-46e5-93e9-13b6b54db044",
   "metadata": {},
   "outputs": [
    {
     "data": {
      "text/plain": [
       "([1, 2, 3, 4], [1, 2, 3])"
      ]
     },
     "execution_count": 87,
     "metadata": {},
     "output_type": "execute_result"
    }
   ],
   "source": [
    "a = a + [4] ## 추가\n",
    "a,b"
   ]
  },
  {
   "cell_type": "code",
   "execution_count": 88,
   "id": "74e87bb7-383f-4946-9378-7f904af33a6f",
   "metadata": {},
   "outputs": [
    {
     "data": {
      "text/plain": [
       "(140529450518400, 140529440320192)"
      ]
     },
     "execution_count": 88,
     "metadata": {},
     "output_type": "execute_result"
    }
   ],
   "source": [
    "id(a), id(b) # id 추적 -> a의 id 달라짐."
   ]
  },
  {
   "cell_type": "markdown",
   "id": "eedffc62-ea9f-4b3f-a22f-3f8e9a97cd8a",
   "metadata": {},
   "source": [
    "새로운 공간(다른방)에 a라는 포스트잇을 붙인것 (방이 바뀐것)"
   ]
  },
  {
   "cell_type": "markdown",
   "id": "40315494-9812-4c31-a1fc-ddc3cbc6a34f",
   "metadata": {},
   "source": [
    "`-` 이제 다시 아래의 코드를 관찰하자."
   ]
  },
  {
   "cell_type": "code",
   "execution_count": 65,
   "id": "0fa820fe-8881-4f99-9c81-62f47fbcef94",
   "metadata": {},
   "outputs": [],
   "source": [
    "a = [1,2,3]\n",
    "b = a\n",
    "a.append(4)"
   ]
  },
  {
   "cell_type": "markdown",
   "id": "0d714db9-c61a-414f-9699-23fd5c0afef8",
   "metadata": {},
   "source": [
    "현재 a,b의 출력결과는?"
   ]
  },
  {
   "cell_type": "code",
   "execution_count": 67,
   "id": "e63b4452-0d15-42a8-9fdb-eebe7f644ce7",
   "metadata": {},
   "outputs": [
    {
     "data": {
      "text/plain": [
       "([1, 2, 3, 4], [1, 2, 3, 4])"
      ]
     },
     "execution_count": 67,
     "metadata": {},
     "output_type": "execute_result"
    }
   ],
   "source": [
    "a, b"
   ]
  },
  {
   "cell_type": "markdown",
   "id": "ee497853-e05b-4a8e-bf4c-af2a00bb3b83",
   "metadata": {},
   "source": [
    "`-` 아래의 코드를 다시 살펴보자."
   ]
  },
  {
   "cell_type": "code",
   "execution_count": 72,
   "id": "533bae2c-9bbb-4801-a3de-660c2fe9bdc0",
   "metadata": {},
   "outputs": [],
   "source": [
    "a = [1,2,3]\n",
    "b = a\n",
    "a.append(4)"
   ]
  },
  {
   "cell_type": "markdown",
   "id": "f9b58b29-4686-4ba3-8b1b-bb0e8efdfba0",
   "metadata": {},
   "source": [
    "a,b라는 변수들은 메모리에 어떻게 저장이 되어있을까?"
   ]
  },
  {
   "cell_type": "markdown",
   "id": "05ce0a97-25ce-4c45-9194-e8e2e1ef99ff",
   "metadata": {},
   "source": [
    "상상력을 조금 발휘하면 아래와 같이 여길 수 있다."
   ]
  },
  {
   "cell_type": "markdown",
   "id": "6e9b9b76-23d9-4120-8f8d-eb45cdd3db36",
   "metadata": {},
   "source": [
    "(1) 메모리는 변수를 담을 방이 여러개 있는 호텔이라고 생각하자.\n",
    "\n",
    "(2) 아래를 실행하였을 경우"
   ]
  },
  {
   "cell_type": "code",
   "execution_count": 73,
   "id": "53251a31-3b76-497b-8026-6e3c7f4ffd8c",
   "metadata": {},
   "outputs": [],
   "source": [
    "a = [1,2,3]"
   ]
  },
  {
   "cell_type": "markdown",
   "id": "abb35ca1-73b0-46f1-8382-3a871a68a76f",
   "metadata": {},
   "source": [
    "- 메모리주소1에 존재하는 방을 a라고 하고, 그 방에 [1,2,3]을 넣는다."
   ]
  },
  {
   "cell_type": "markdown",
   "id": "631ddf5b-7eca-4b15-a582-2bdd436ecbd5",
   "metadata": {},
   "source": [
    "(3) 아래를 실행하였을 경우"
   ]
  },
  {
   "cell_type": "code",
   "execution_count": 74,
   "id": "482e2104-e726-4efc-9bac-6714f5886c3f",
   "metadata": {},
   "outputs": [],
   "source": [
    "b = a"
   ]
  },
  {
   "cell_type": "markdown",
   "id": "e63e8948-f5ef-433d-a75e-ac9ddcae3f48",
   "metadata": {},
   "source": [
    "- 메모리주소 38에 존재하는 방을 b라고 하고, 그 방에 a를 넣어야하는데 a는 [1,2,3]이니까 [1,2,3]을 넣는다."
   ]
  },
  {
   "cell_type": "markdown",
   "id": "26110354-beb0-4dec-9e63-7160eb3b9f04",
   "metadata": {},
   "source": [
    "(4) 아래를 실행하면"
   ]
  },
  {
   "cell_type": "code",
   "execution_count": 75,
   "id": "72f1bf86-45df-44ba-9039-546ad96108e6",
   "metadata": {},
   "outputs": [],
   "source": [
    "a.append(4)"
   ]
  },
  {
   "cell_type": "markdown",
   "id": "f9da470a-c4f9-497d-a3f5-bd557d3b0ab3",
   "metadata": {},
   "source": [
    "- 방  a로 가서 [1,2,3]을 [1,2,3,4]로 바꾼다.\n",
    "- 그리고 방 b에는 아무것도 하지 않는다."
   ]
  },
  {
   "cell_type": "markdown",
   "id": "a5c4186c-6960-42db-9c8a-0eb726a0583c",
   "metadata": {},
   "source": [
    "`-` R에서는 맞는 비유인데, 파이썬은 적절하지 않은 비유이다."
   ]
  },
  {
   "cell_type": "code",
   "execution_count": 77,
   "id": "7648f6dc-a0e3-4a65-b45c-1ae103df6843",
   "metadata": {},
   "outputs": [
    {
     "data": {
      "text/plain": [
       "140529439072192"
      ]
     },
     "execution_count": 77,
     "metadata": {},
     "output_type": "execute_result"
    }
   ],
   "source": [
    "id(a)"
   ]
  },
  {
   "cell_type": "code",
   "execution_count": 76,
   "id": "8c9583c0-b477-464d-b890-c3ebb70c1911",
   "metadata": {},
   "outputs": [
    {
     "data": {
      "text/plain": [
       "140529439072192"
      ]
     },
     "execution_count": 76,
     "metadata": {},
     "output_type": "execute_result"
    }
   ],
   "source": [
    "id(b)"
   ]
  },
  {
   "cell_type": "markdown",
   "id": "68ea4929-844e-4584-96c8-2dd90fc13082",
   "metadata": {},
   "source": [
    "실제로는 a,b가 저장된 메모리 주소가 동일함"
   ]
  },
  {
   "cell_type": "markdown",
   "id": "4c187c2d-c7ca-47f5-89b8-879575548ef0",
   "metadata": {},
   "source": [
    "`-` 파이썬에서는 아래가 더 적절한 비유이다."
   ]
  },
  {
   "cell_type": "markdown",
   "id": "e86aa772-162b-4f37-a9de-36e5beb4fff7",
   "metadata": {},
   "source": [
    "(1) 메모리는 변수를 담을 방이 여러개 있는 호텔이라고 생각하자.\n",
    "\n",
    "(2) 아래를 실행하였을 경우"
   ]
  },
  {
   "cell_type": "code",
   "execution_count": 78,
   "id": "df8b3144-39c6-4733-998f-e72502439da0",
   "metadata": {},
   "outputs": [],
   "source": [
    "a = [1,2,3]"
   ]
  },
  {
   "cell_type": "markdown",
   "id": "dfb5a963-49cd-4767-b1f5-2c7002c020ae",
   "metadata": {},
   "source": [
    "- 메모리주소 140529439072192에서 [1,2,3]을 생성한다.\n",
    "- 방 140529439072192의 방문에 a라는 포스트잇을 붙인다.\n",
    "- 앞으로 [1,2,3]에 접근하기 위해서는 여러 메모리방중에서 a라는 포스트잇이 붙은 방을 찾아가면 된다."
   ]
  },
  {
   "cell_type": "markdown",
   "id": "6d6c9ed2-40a8-415a-b680-d0da2649f742",
   "metadata": {},
   "source": [
    "(3) 아래를 실행하였을 경우"
   ]
  },
  {
   "cell_type": "code",
   "execution_count": 79,
   "id": "71ed1fc4-c4fa-4c2a-b579-88f4d8762fb0",
   "metadata": {},
   "outputs": [],
   "source": [
    "b=a"
   ]
  },
  {
   "cell_type": "markdown",
   "id": "12bc9dfb-dd52-4611-92b2-bd2d19e58e56",
   "metadata": {},
   "source": [
    "- a 라는 포스트잇이 있는데, a라는 포스트잇이랑 b라는 포스트잇과 같은 효과를 주도록 한다.\n",
    "- 쉽게말하면, b라는 포스트잇을 방 140529439072192의 방문에 붙인다는 이야기.\n",
    "- 앞으로 [1,2,3]에 접근하기 위해서는 여러 메모리방 중에서 a라는 포스트잇이 붙어있거나, b라는 포스트잇이 붙어있는 방을 찾아가면 된다."
   ]
  },
  {
   "cell_type": "markdown",
   "id": "ed36fbb8-0148-4c47-840b-20ab70cfd60c",
   "metadata": {},
   "source": [
    "(4) 아래를 실행하면"
   ]
  },
  {
   "cell_type": "code",
   "execution_count": 80,
   "id": "63dc80e8-f580-4b1d-b6e0-38cf9822937d",
   "metadata": {},
   "outputs": [],
   "source": [
    "a.append(4)"
   ]
  },
  {
   "cell_type": "markdown",
   "id": "38dbabe1-66cd-4123-9f99-81848aa8cb3a",
   "metadata": {},
   "source": [
    "- a라는 포스트잇이 붙어있는 방으로 가서, 그 내용물 append함수를 써서 4를 추가하라. 즉 내용물 [1,2,3]을 [1,2,3,4]로 바꾸라.\n",
    "- 같은방에 a,b라는 포스트잇이 모두 붙어있음. 따라서 b라는 포스트잇이 붙은 방을 찾아가서 내용물을 열어보면 [1,2,3,4]가 나온다."
   ]
  },
  {
   "cell_type": "markdown",
   "id": "62d96f78-958d-456c-8a9b-b21ebea0a188",
   "metadata": {},
   "source": [
    "`-` 결론: 파이썬의 모든것은 오브젝트이다. 그리고 모든 오브젝트는 메모리주소 위에 올라간다. 하지만 그 메모리 주소에 붙어있는 포스트잇이 하나라는 보장은 없다."
   ]
  }
 ],
 "metadata": {
  "kernelspec": {
   "display_name": "Python 3",
   "language": "python",
   "name": "python3"
  },
  "language_info": {
   "codemirror_mode": {
    "name": "ipython",
    "version": 3
   },
   "file_extension": ".py",
   "mimetype": "text/x-python",
   "name": "python",
   "nbconvert_exporter": "python",
   "pygments_lexer": "ipython3",
   "version": "3.8.16"
  }
 },
 "nbformat": 4,
 "nbformat_minor": 5
}
