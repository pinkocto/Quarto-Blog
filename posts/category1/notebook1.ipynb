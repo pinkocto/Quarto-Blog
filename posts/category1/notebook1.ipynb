{
 "cells": [
  {
   "cell_type": "raw",
   "id": "2e2b1801",
   "metadata": {},
   "source": [
    "---\n",
    "title: \"class 2단계\"\n",
    "author: \"임지윤\"\n",
    "date: \"02/15/2023\"\n",
    "categories:\n",
    "  - class\n",
    "---\n"
   ]
  },
  {
   "cell_type": "markdown",
   "id": "8b9c527b-5070-42ad-a3d3-7ddd89421acd",
   "metadata": {},
   "source": [
    "> 1. `__init__`\n",
    "> 2. self의 의미\n",
    "> 3. 파이썬의 비밀1\n",
    "> 4. 파이썬의 비밀2"
   ]
  },
  {
   "cell_type": "markdown",
   "id": "541e0aa9-8d58-41ef-9061-9a7582f7a42b",
   "metadata": {},
   "source": [
    "## imports"
   ]
  },
  {
   "cell_type": "code",
   "execution_count": 1,
   "id": "66e444e8-61f2-4d5b-be89-298ab08450a8",
   "metadata": {},
   "outputs": [],
   "source": [
    "# 이미지 출력을 위한 패키지\n",
    "from PIL import Image\n",
    "import requests"
   ]
  },
  {
   "cell_type": "code",
   "execution_count": null,
   "id": "805ec0a0-7e51-4e70-91da-47ebf5794d26",
   "metadata": {},
   "outputs": [],
   "source": []
  }
 ],
 "metadata": {
  "kernelspec": {
   "display_name": "Python 3",
   "language": "python",
   "name": "python3"
  },
  "language_info": {
   "codemirror_mode": {
    "name": "ipython",
    "version": 3
   },
   "file_extension": ".py",
   "mimetype": "text/x-python",
   "name": "python",
   "nbconvert_exporter": "python",
   "pygments_lexer": "ipython3",
   "version": "3.8.16"
  }
 },
 "nbformat": 4,
 "nbformat_minor": 5
}
