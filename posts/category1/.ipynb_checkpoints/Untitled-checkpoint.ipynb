{
 "cells": [
  {
   "cell_type": "raw",
   "id": "9290f003",
   "metadata": {},
   "source": [
    "---\n",
    "title: \"test: quarto test2\"\n",
    "author: \"임지윤\"\n",
    "date: \"01/23/2023\"\n",
    "categories:\n",
    "  - test\n",
    "---\n"
   ]
  },
  {
   "cell_type": "markdown",
   "id": "e69ae06d",
   "metadata": {},
   "source": [
    "test 입니다."
   ]
  },
  {
   "cell_type": "code",
   "execution_count": null,
   "id": "bfd31849",
   "metadata": {},
   "outputs": [],
   "source": []
  }
 ],
 "metadata": {
  "kernelspec": {
   "display_name": "Python 3 (ipykernel)",
   "language": "python",
   "name": "python3"
  },
  "language_info": {
   "codemirror_mode": {
    "name": "ipython",
    "version": 3
   },
   "file_extension": ".py",
   "mimetype": "text/x-python",
   "name": "python",
   "nbconvert_exporter": "python",
   "pygments_lexer": "ipython3",
   "version": "3.8.13"
  }
 },
 "nbformat": 4,
 "nbformat_minor": 5
}
