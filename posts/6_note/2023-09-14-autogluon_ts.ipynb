{
 "cells": [
  {
   "cell_type": "raw",
   "id": "012b5ec8-2b77-49a2-8eb3-ef5169958283",
   "metadata": {},
   "source": [
    "---\n",
    "title: \"AutoGluon TS\"\n",
    "author: \"JiyunLim\"\n",
    "date: \"09/14/2023\"\n",
    "---"
   ]
  },
  {
   "cell_type": "markdown",
   "id": "7a566956-ae8d-48a2-82c1-b10e1ff265c5",
   "metadata": {},
   "source": [
    "## autogluon.timeseries?\n",
    "\n",
    "> Autogluon Timeseries는 AWS에서의 연구 및 개발을 기반으로 하며, 오픈 소스 커뮤니티와 공개 소프트웨어로 제공되고 있습니다. 이 라이브러리는 Python 언어로 작성되었으며, 주로 주피터 노트북과 함께 사용되며, 다양한 시계열 데이터에 대한 모델을 빠르게 실험하고 평가하는 데 도움이 됩니다."
   ]
  },
  {
   "cell_type": "markdown",
   "id": "53446025-0f68-4f69-85df-16e77e1440f5",
   "metadata": {},
   "source": [
    "`autogluon.timeseries` 라이브러리를 이용하여 시계열 예측을 하려면 아래와 같은 두개의 클래스를 이용하면 된다."
   ]
  },
  {
   "cell_type": "markdown",
   "id": "e5d34586-f25a-4416-82f6-4a14604ee34e",
   "metadata": {},
   "source": [
    "**1.** :  `TimeSeriesDataFrame`\n",
    "\n",
    "- 시계열 데이터를 로드하고, 데이터의 전처리, 탐색 및 준비를 수행하는 단계. \n",
    "- 각 시계열은 \"item_id,\" \"timestamp,\" 그리고 \"target\" 열과 같은 기본 열 구조를 따라야 한다.\n",
    "\n",
    "**2.** : `TimeSeriesPredictor`  (1-학습/2-예측/3-평가) \n",
    "\n",
    "- fit/predict/leaderboard\n",
    "- 시계열 데이터에 대한 모델을 훈련하고 예측을 하는 단계.\n",
    "- 시계열 모델을 자동으로 피팅(fitting)하고 모델 선택 및 하이퍼파라미터 튜닝을 수행한다.\n",
    "- 다양한 시계열 모델 및 예측 알고리즘을 자동으로 적용하고 최적의 모델을 선택하여 사용자에게 최상의 예측 결과를 제공한다."
   ]
  },
  {
   "cell_type": "markdown",
   "id": "177ed630-90a1-4397-bed9-fc5998d6a587",
   "metadata": {},
   "source": [
    "위를 요약하면, `autogluon.timeseries` 라이브러리를 사용하여 시계열 데이터를 저장/관리(TimeSeriesDataFrame)를 하고, 이러한 데이터를 기반으로 모델을 훈련하고 예측을 하는(TimeSeriesPredictor) 자동화된 시계열 예측 작업을 수행할 수 있다."
   ]
  },
  {
   "cell_type": "markdown",
   "id": "8c44d7a6-8ae8-4cd2-871f-457591746f62",
   "metadata": {},
   "source": [
    "## 1. Loading time series data as a `TimeSeriesDataFrame`"
   ]
  },
  {
   "cell_type": "code",
   "execution_count": 1,
   "id": "5aaddd63-b175-495c-ad94-df5022e78a02",
   "metadata": {},
   "outputs": [],
   "source": [
    "import pandas as pd\n",
    "from autogluon.timeseries import TimeSeriesDataFrame, TimeSeriesPredictor"
   ]
  },
  {
   "cell_type": "code",
   "execution_count": 2,
   "id": "9576f21e-4956-4449-8e91-972aa3750d38",
   "metadata": {},
   "outputs": [
    {
     "data": {
      "text/html": [
       "<div>\n",
       "<style scoped>\n",
       "    .dataframe tbody tr th:only-of-type {\n",
       "        vertical-align: middle;\n",
       "    }\n",
       "\n",
       "    .dataframe tbody tr th {\n",
       "        vertical-align: top;\n",
       "    }\n",
       "\n",
       "    .dataframe thead th {\n",
       "        text-align: right;\n",
       "    }\n",
       "</style>\n",
       "<table border=\"1\" class=\"dataframe\">\n",
       "  <thead>\n",
       "    <tr style=\"text-align: right;\">\n",
       "      <th></th>\n",
       "      <th>item_id</th>\n",
       "      <th>timestamp</th>\n",
       "      <th>target</th>\n",
       "    </tr>\n",
       "  </thead>\n",
       "  <tbody>\n",
       "    <tr>\n",
       "      <th>0</th>\n",
       "      <td>H1</td>\n",
       "      <td>1750-01-01 00:00:00</td>\n",
       "      <td>605.0</td>\n",
       "    </tr>\n",
       "    <tr>\n",
       "      <th>1</th>\n",
       "      <td>H1</td>\n",
       "      <td>1750-01-01 01:00:00</td>\n",
       "      <td>586.0</td>\n",
       "    </tr>\n",
       "    <tr>\n",
       "      <th>2</th>\n",
       "      <td>H1</td>\n",
       "      <td>1750-01-01 02:00:00</td>\n",
       "      <td>586.0</td>\n",
       "    </tr>\n",
       "    <tr>\n",
       "      <th>3</th>\n",
       "      <td>H1</td>\n",
       "      <td>1750-01-01 03:00:00</td>\n",
       "      <td>559.0</td>\n",
       "    </tr>\n",
       "    <tr>\n",
       "      <th>4</th>\n",
       "      <td>H1</td>\n",
       "      <td>1750-01-01 04:00:00</td>\n",
       "      <td>511.0</td>\n",
       "    </tr>\n",
       "  </tbody>\n",
       "</table>\n",
       "</div>"
      ],
      "text/plain": [
       "  item_id            timestamp  target\n",
       "0      H1  1750-01-01 00:00:00   605.0\n",
       "1      H1  1750-01-01 01:00:00   586.0\n",
       "2      H1  1750-01-01 02:00:00   586.0\n",
       "3      H1  1750-01-01 03:00:00   559.0\n",
       "4      H1  1750-01-01 04:00:00   511.0"
      ]
     },
     "execution_count": 2,
     "metadata": {},
     "output_type": "execute_result"
    }
   ],
   "source": [
    "df = pd.read_csv(\"https://autogluon.s3.amazonaws.com/datasets/timeseries/m4_hourly_subset/train.csv\")\n",
    "df.head()"
   ]
  },
  {
   "cell_type": "markdown",
   "id": "e25d3311-a216-45c6-ac7c-18a847a00709",
   "metadata": {},
   "source": [
    "::: {.callout-note}\n",
    "\n",
    "AutoGluon을 사용하려면 시계열 데이터가 `long format` 이어야 한다.\n",
    ":::"
   ]
  },
  {
   "cell_type": "code",
   "execution_count": 5,
   "id": "0f2aa4f6-423d-4637-bcb1-a54e1a2f31a9",
   "metadata": {},
   "outputs": [],
   "source": [
    "train_data = TimeSeriesDataFrame.from_data_frame(\n",
    "    df,\n",
    "    id_column=\"item_id\",\n",
    "    timestamp_column=\"timestamp\"\n",
    ")"
   ]
  },
  {
   "cell_type": "code",
   "execution_count": 6,
   "id": "f5d029ad-90fd-4d07-9821-351dd1aed145",
   "metadata": {},
   "outputs": [
    {
     "data": {
      "text/html": [
       "<div>\n",
       "<style scoped>\n",
       "    .dataframe tbody tr th:only-of-type {\n",
       "        vertical-align: middle;\n",
       "    }\n",
       "\n",
       "    .dataframe tbody tr th {\n",
       "        vertical-align: top;\n",
       "    }\n",
       "\n",
       "    .dataframe thead th {\n",
       "        text-align: right;\n",
       "    }\n",
       "</style>\n",
       "<table border=\"1\" class=\"dataframe\">\n",
       "  <thead>\n",
       "    <tr style=\"text-align: right;\">\n",
       "      <th></th>\n",
       "      <th></th>\n",
       "      <th>target</th>\n",
       "    </tr>\n",
       "    <tr>\n",
       "      <th>item_id</th>\n",
       "      <th>timestamp</th>\n",
       "      <th></th>\n",
       "    </tr>\n",
       "  </thead>\n",
       "  <tbody>\n",
       "    <tr>\n",
       "      <th rowspan=\"5\" valign=\"top\">H1</th>\n",
       "      <th>1750-01-01 00:00:00</th>\n",
       "      <td>605.0</td>\n",
       "    </tr>\n",
       "    <tr>\n",
       "      <th>1750-01-01 01:00:00</th>\n",
       "      <td>586.0</td>\n",
       "    </tr>\n",
       "    <tr>\n",
       "      <th>1750-01-01 02:00:00</th>\n",
       "      <td>586.0</td>\n",
       "    </tr>\n",
       "    <tr>\n",
       "      <th>1750-01-01 03:00:00</th>\n",
       "      <td>559.0</td>\n",
       "    </tr>\n",
       "    <tr>\n",
       "      <th>1750-01-01 04:00:00</th>\n",
       "      <td>511.0</td>\n",
       "    </tr>\n",
       "    <tr>\n",
       "      <th>...</th>\n",
       "      <th>...</th>\n",
       "      <td>...</td>\n",
       "    </tr>\n",
       "    <tr>\n",
       "      <th rowspan=\"5\" valign=\"top\">H200</th>\n",
       "      <th>1750-02-09 19:00:00</th>\n",
       "      <td>24.2</td>\n",
       "    </tr>\n",
       "    <tr>\n",
       "      <th>1750-02-09 20:00:00</th>\n",
       "      <td>22.6</td>\n",
       "    </tr>\n",
       "    <tr>\n",
       "      <th>1750-02-09 21:00:00</th>\n",
       "      <td>20.8</td>\n",
       "    </tr>\n",
       "    <tr>\n",
       "      <th>1750-02-09 22:00:00</th>\n",
       "      <td>19.6</td>\n",
       "    </tr>\n",
       "    <tr>\n",
       "      <th>1750-02-09 23:00:00</th>\n",
       "      <td>18.8</td>\n",
       "    </tr>\n",
       "  </tbody>\n",
       "</table>\n",
       "<p>148060 rows × 1 columns</p>\n",
       "</div>"
      ],
      "text/plain": [
       "                             target\n",
       "item_id timestamp                  \n",
       "H1      1750-01-01 00:00:00   605.0\n",
       "        1750-01-01 01:00:00   586.0\n",
       "        1750-01-01 02:00:00   586.0\n",
       "        1750-01-01 03:00:00   559.0\n",
       "        1750-01-01 04:00:00   511.0\n",
       "...                             ...\n",
       "H200    1750-02-09 19:00:00    24.2\n",
       "        1750-02-09 20:00:00    22.6\n",
       "        1750-02-09 21:00:00    20.8\n",
       "        1750-02-09 22:00:00    19.6\n",
       "        1750-02-09 23:00:00    18.8\n",
       "\n",
       "[148060 rows x 1 columns]"
      ]
     },
     "execution_count": 6,
     "metadata": {},
     "output_type": "execute_result"
    }
   ],
   "source": [
    "train_data"
   ]
  },
  {
   "cell_type": "code",
   "execution_count": 10,
   "id": "cdfd811f-32e0-4601-ba77-5eb382bdf762",
   "metadata": {},
   "outputs": [
    {
     "data": {
      "text/plain": [
       "autogluon.timeseries.dataset.ts_dataframe.TimeSeriesDataFrame"
      ]
     },
     "execution_count": 10,
     "metadata": {},
     "output_type": "execute_result"
    }
   ],
   "source": [
    "type(train_data)"
   ]
  },
  {
   "cell_type": "markdown",
   "id": "9a683134-22f4-42de-ab4a-eb81104729c8",
   "metadata": {},
   "source": [
    "`-` item"
   ]
  },
  {
   "cell_type": "markdown",
   "id": "c556d372-16d0-4309-ae03-ff06aee5cfa8",
   "metadata": {},
   "source": [
    "`TimeSeriesDataFrame` 클래스를 사용하여 여러 개의 시계열 데이터를 저장하며, 이러한 각각의 시계열 데이터를 \"item\" 이라고 부른다.  \n",
    "\n",
    "예를들어, 수요예측에서 각 \"item\"은 각각 다른 제품을 나타낼 수도 있고, 금융 데이터셋에서는 각 \"item\"이 주식을 나타낼 수 있음.\n"
   ]
  },
  {
   "cell_type": "markdown",
   "id": "e56ae38b-7364-45e3-bdb5-b720327e8f0d",
   "metadata": {},
   "source": [
    "`-` 다변량 예측과의 차이"
   ]
  },
  {
   "cell_type": "markdown",
   "id": "2b57259c-1664-45c7-9240-431e33e5c6c8",
   "metadata": {},
   "source": [
    "\"multivariate forecasting\"과 다르다는 것을 주의하자. \"Multivariate forecasting\"은 여러 변수 간의 상호작용을 모델링하고 다른 시계열 간의 관계를 고려하여 예측하는 것을 의미하는 반면 AutoGluon은 각 시계열을 개별적으로 처리하므로 \"item\" 간의 상호작용을 고려하지 않는다."
   ]
  },
  {
   "cell_type": "markdown",
   "id": "48308f4a-7491-4255-9b71-4ca10773426b",
   "metadata": {},
   "source": [
    "`-` pd.DataFrame을 상속"
   ]
  },
  {
   "cell_type": "code",
   "execution_count": 9,
   "id": "12dab7f5-c9f2-4bc6-b984-58a25ae109f2",
   "metadata": {},
   "outputs": [],
   "source": [
    "# TimeSeriesDataFrame??"
   ]
  },
  {
   "attachments": {
    "686923a3-6ee4-4786-86cf-8a712dc66797.png": {
     "image/png": "[encoded data removed]"
    }
   },
   "cell_type": "markdown",
   "id": "a4e6036e-09bb-4557-af24-d1554699d7c1",
   "metadata": {},
   "source": [
    "![TimeSeriesDataFrame은 pandas.DataFrame을 상속하고 있어 pandas.DataFrame의 모든 속성 및 메서드를 사용할 수 있다. ](attachment:686923a3-6ee4-4786-86cf-8a712dc66797.png)"
   ]
  },
  {
   "cell_type": "markdown",
   "id": "e327f836-1281-49f1-adff-8187618bfb39",
   "metadata": {},
   "source": [
    "## 2. Training time series models with `TimeSeriesPredictor.fit`"
   ]
  },
  {
   "cell_type": "markdown",
   "id": "7ab6978e-1587-42db-918b-db28834a085b",
   "metadata": {},
   "source": [
    "시계열 예측을 위해 `TimeSeriesPredictor` 오브젝트를 생성하자."
   ]
  },
  {
   "cell_type": "markdown",
   "id": "cebfb35c-13e2-4e08-86f8-79066604ab5e",
   "metadata": {},
   "source": [
    "### `-` predictor 생성"
   ]
  },
  {
   "cell_type": "code",
   "execution_count": null,
   "id": "75744a1d-e7a2-435e-b9d4-03ecbb44500d",
   "metadata": {},
   "outputs": [],
   "source": [
    "predictor = TimeSeriesPredictor(\n",
    "    prediction_length=48, # 시간별 자료 // 미래의 2일을 예측하고 싶어!\n",
    "    path=\"autogluon-m4-hourly\", # 학습된 모델 저장폴더 경로\n",
    "    target=\"target\",\n",
    "    eval_metric=\"MASE\",\n",
    ")"
   ]
  },
  {
   "cell_type": "markdown",
   "id": "f2578b3a-49c8-4d89-859d-856a94030553",
   "metadata": {},
   "source": [
    "### `-` 적합"
   ]
  },
  {
   "cell_type": "code",
   "execution_count": 11,
   "id": "2cd40f6c-0dc5-465f-bb23-97232de93bfa",
   "metadata": {},
   "outputs": [
    {
     "name": "stderr",
     "output_type": "stream",
     "text": [
      "================ TimeSeriesPredictor ================\n",
      "TimeSeriesPredictor.fit() called\n",
      "Setting presets to: medium_quality\n",
      "Fitting with arguments:\n",
      "{'enable_ensemble': True,\n",
      " 'evaluation_metric': 'MASE',\n",
      " 'excluded_model_types': None,\n",
      " 'hyperparameter_tune_kwargs': None,\n",
      " 'hyperparameters': 'medium_quality',\n",
      " 'num_val_windows': 1,\n",
      " 'prediction_length': 48,\n",
      " 'random_seed': None,\n",
      " 'target': 'target',\n",
      " 'time_limit': 600,\n",
      " 'verbosity': 2}\n",
      "Provided training data set with 148060 rows, 200 items (item = single time series). Average time series length is 740.3. Data frequency is 'H'.\n",
      "=====================================================\n",
      "AutoGluon will save models to autogluon-m4-hourly/\n",
      "AutoGluon will gauge predictive performance using evaluation metric: 'MASE'\n",
      "\tThis metric's sign has been flipped to adhere to being 'higher is better'. The reported score can be multiplied by -1 to get the metric value.\n",
      "\n",
      "Provided dataset contains following columns:\n",
      "\ttarget:           'target'\n",
      "\n",
      "Starting training. Start time is 2023-09-15 00:47:18\n",
      "Models that will be trained: ['Naive', 'SeasonalNaive', 'Theta', 'AutoETS', 'RecursiveTabular', 'DeepAR']\n",
      "Training timeseries model Naive. Training for up to 599.88s of the 599.88s of remaining time.\n",
      "\t-6.6629       = Validation score (-MASE)\n",
      "\t0.06    s     = Training runtime\n",
      "\t4.91    s     = Validation (prediction) runtime\n",
      "Training timeseries model SeasonalNaive. Training for up to 594.90s of the 594.90s of remaining time.\n",
      "\t-1.2169       = Validation score (-MASE)\n",
      "\t0.05    s     = Training runtime\n",
      "\t0.10    s     = Validation (prediction) runtime\n",
      "Training timeseries model Theta. Training for up to 594.74s of the 594.74s of remaining time.\n",
      "\t-2.1425       = Validation score (-MASE)\n",
      "\t0.06    s     = Training runtime\n",
      "\t29.74   s     = Validation (prediction) runtime\n",
      "Training timeseries model AutoETS. Training for up to 564.94s of the 564.94s of remaining time.\n",
      "\t-1.9400       = Validation score (-MASE)\n",
      "\t0.06    s     = Training runtime\n",
      "\t31.95   s     = Validation (prediction) runtime\n",
      "Training timeseries model RecursiveTabular. Training for up to 532.92s of the 532.92s of remaining time.\n",
      "\t-0.8988       = Validation score (-MASE)\n",
      "\t5.95    s     = Training runtime\n",
      "\t1.25    s     = Validation (prediction) runtime\n",
      "Training timeseries model DeepAR. Training for up to 525.71s of the 525.71s of remaining time.\n",
      "\t-1.5221       = Validation score (-MASE)\n",
      "\t47.08   s     = Training runtime\n",
      "\t0.77    s     = Validation (prediction) runtime\n",
      "Fitting simple weighted ensemble.\n",
      "\t-0.8823       = Validation score (-MASE)\n",
      "\t2.68    s     = Training runtime\n",
      "\t34.07   s     = Validation (prediction) runtime\n",
      "Training complete. Models trained: ['Naive', 'SeasonalNaive', 'Theta', 'AutoETS', 'RecursiveTabular', 'DeepAR', 'WeightedEnsemble']\n",
      "Total runtime: 124.87 s\n",
      "Best model: WeightedEnsemble\n",
      "Best model score: -0.8823\n"
     ]
    },
    {
     "data": {
      "text/plain": [
       "<autogluon.timeseries.predictor.TimeSeriesPredictor at 0x7f5246b844c0>"
      ]
     },
     "execution_count": 11,
     "metadata": {},
     "output_type": "execute_result"
    }
   ],
   "source": [
    "predictor.fit(\n",
    "    train_data,\n",
    "    presets=\"medium_quality\", # 훈련시간 10분 제한 (medium_quality / fast_training / high_quality / best_quality)\n",
    "    time_limit=600,\n",
    ")"
   ]
  },
  {
   "cell_type": "markdown",
   "id": "5c2bf65f-fdb5-420b-9339-126f01ec0f69",
   "metadata": {},
   "source": [
    "`-` presets"
   ]
  },
  {
   "cell_type": "markdown",
   "id": "de22deb5-8e58-4120-88b8-e1829fd1b907",
   "metadata": {},
   "source": [
    "프리셋이란, 말그대로 미리 정의해둔 설정이다. 즉, AutoGluon에서 사용할 모델과 훈련설정을 미리 정의해둔 설정을 말한다. 이 설정은 모델 선택과 하이퍼파라미터 튜닝을 자동화하여 더 빠르게 원하는 예측 모델을 찾을 수 있도록 도와준다."
   ]
  },
  {
   "cell_type": "markdown",
   "id": "7e3978b2-af59-4009-bafe-42355885095c",
   "metadata": {},
   "source": [
    "- 옵션: `medium_quality`, `fast_training`, `high_quality`, `best_quality` 등을 제공\n",
    "\n",
    "더 높은 품질의 프리셋은 일반적으로 더 정확한 예측 결과를 생성하지만 훈련에 더 많은 시간이 소요될 수 있다."
   ]
  },
  {
   "cell_type": "markdown",
   "id": "b4689bc7-ecf5-4d6a-8dcd-2b21ec8fe45a",
   "metadata": {},
   "source": [
    "- 모델: medium_quality는 간단한 기본모델인 Naive, SeasonalNaive와 통계모델 (AutoETS, Theta), 트리기반 모델(LightGBM), 심층학습모델(DeepAR) 및 이러한 모델을 결합한 가중앙상블이 포함된다."
   ]
  },
  {
   "cell_type": "markdown",
   "id": "4aba6153-dbdc-450a-b27f-7302a9e1ed0c",
   "metadata": {},
   "source": [
    "여기서 medium_quality는 훈련시간 10분 내로 제한하고, 이 모델 중 가장 좋은 예측 성능을 얻으려고 노력한다."
   ]
  },
  {
   "cell_type": "markdown",
   "id": "737fa3b7-01fe-4eeb-a3be-6ef75b6f9646",
   "metadata": {},
   "source": [
    "## 3. Generating forecasts with `TimeSeriesPredictor.predict`"
   ]
  },
  {
   "cell_type": "code",
   "execution_count": 12,
   "id": "75bd91cb-d4a3-483b-9e47-cd22e535ccbf",
   "metadata": {},
   "outputs": [
    {
     "name": "stderr",
     "output_type": "stream",
     "text": [
      "Global seed set to 123\n",
      "Model not specified in predict, will default to the model with the best validation score: WeightedEnsemble\n"
     ]
    },
    {
     "data": {
      "text/html": [
       "<div>\n",
       "<style scoped>\n",
       "    .dataframe tbody tr th:only-of-type {\n",
       "        vertical-align: middle;\n",
       "    }\n",
       "\n",
       "    .dataframe tbody tr th {\n",
       "        vertical-align: top;\n",
       "    }\n",
       "\n",
       "    .dataframe thead th {\n",
       "        text-align: right;\n",
       "    }\n",
       "</style>\n",
       "<table border=\"1\" class=\"dataframe\">\n",
       "  <thead>\n",
       "    <tr style=\"text-align: right;\">\n",
       "      <th></th>\n",
       "      <th></th>\n",
       "      <th>mean</th>\n",
       "      <th>0.1</th>\n",
       "      <th>0.2</th>\n",
       "      <th>0.3</th>\n",
       "      <th>0.4</th>\n",
       "      <th>0.5</th>\n",
       "      <th>0.6</th>\n",
       "      <th>0.7</th>\n",
       "      <th>0.8</th>\n",
       "      <th>0.9</th>\n",
       "    </tr>\n",
       "    <tr>\n",
       "      <th>item_id</th>\n",
       "      <th>timestamp</th>\n",
       "      <th></th>\n",
       "      <th></th>\n",
       "      <th></th>\n",
       "      <th></th>\n",
       "      <th></th>\n",
       "      <th></th>\n",
       "      <th></th>\n",
       "      <th></th>\n",
       "      <th></th>\n",
       "      <th></th>\n",
       "    </tr>\n",
       "  </thead>\n",
       "  <tbody>\n",
       "    <tr>\n",
       "      <th rowspan=\"5\" valign=\"top\">H1</th>\n",
       "      <th>1750-01-30 04:00:00</th>\n",
       "      <td>624.225400</td>\n",
       "      <td>592.533253</td>\n",
       "      <td>603.438425</td>\n",
       "      <td>611.274422</td>\n",
       "      <td>617.975393</td>\n",
       "      <td>624.239736</td>\n",
       "      <td>630.498044</td>\n",
       "      <td>637.191945</td>\n",
       "      <td>645.042920</td>\n",
       "      <td>655.908431</td>\n",
       "    </tr>\n",
       "    <tr>\n",
       "      <th>1750-01-30 05:00:00</th>\n",
       "      <td>558.038120</td>\n",
       "      <td>515.235197</td>\n",
       "      <td>530.005515</td>\n",
       "      <td>540.575718</td>\n",
       "      <td>549.627181</td>\n",
       "      <td>558.071079</td>\n",
       "      <td>566.513349</td>\n",
       "      <td>575.543314</td>\n",
       "      <td>586.115937</td>\n",
       "      <td>600.829335</td>\n",
       "    </tr>\n",
       "    <tr>\n",
       "      <th>1750-01-30 06:00:00</th>\n",
       "      <td>515.495213</td>\n",
       "      <td>464.240430</td>\n",
       "      <td>481.872256</td>\n",
       "      <td>494.568026</td>\n",
       "      <td>505.378544</td>\n",
       "      <td>515.514013</td>\n",
       "      <td>525.643002</td>\n",
       "      <td>536.460744</td>\n",
       "      <td>549.135748</td>\n",
       "      <td>566.750336</td>\n",
       "    </tr>\n",
       "    <tr>\n",
       "      <th>1750-01-30 07:00:00</th>\n",
       "      <td>481.701016</td>\n",
       "      <td>423.316455</td>\n",
       "      <td>443.383962</td>\n",
       "      <td>457.847898</td>\n",
       "      <td>470.179675</td>\n",
       "      <td>481.696121</td>\n",
       "      <td>493.234340</td>\n",
       "      <td>505.589204</td>\n",
       "      <td>520.044493</td>\n",
       "      <td>540.152060</td>\n",
       "    </tr>\n",
       "    <tr>\n",
       "      <th>1750-01-30 08:00:00</th>\n",
       "      <td>459.156714</td>\n",
       "      <td>394.461819</td>\n",
       "      <td>416.640338</td>\n",
       "      <td>432.661205</td>\n",
       "      <td>446.361193</td>\n",
       "      <td>459.170291</td>\n",
       "      <td>471.982521</td>\n",
       "      <td>485.641357</td>\n",
       "      <td>501.591228</td>\n",
       "      <td>523.913884</td>\n",
       "    </tr>\n",
       "  </tbody>\n",
       "</table>\n",
       "</div>"
      ],
      "text/plain": [
       "                                   mean         0.1         0.2         0.3  \\\n",
       "item_id timestamp                                                             \n",
       "H1      1750-01-30 04:00:00  624.225400  592.533253  603.438425  611.274422   \n",
       "        1750-01-30 05:00:00  558.038120  515.235197  530.005515  540.575718   \n",
       "        1750-01-30 06:00:00  515.495213  464.240430  481.872256  494.568026   \n",
       "        1750-01-30 07:00:00  481.701016  423.316455  443.383962  457.847898   \n",
       "        1750-01-30 08:00:00  459.156714  394.461819  416.640338  432.661205   \n",
       "\n",
       "                                    0.4         0.5         0.6         0.7  \\\n",
       "item_id timestamp                                                             \n",
       "H1      1750-01-30 04:00:00  617.975393  624.239736  630.498044  637.191945   \n",
       "        1750-01-30 05:00:00  549.627181  558.071079  566.513349  575.543314   \n",
       "        1750-01-30 06:00:00  505.378544  515.514013  525.643002  536.460744   \n",
       "        1750-01-30 07:00:00  470.179675  481.696121  493.234340  505.589204   \n",
       "        1750-01-30 08:00:00  446.361193  459.170291  471.982521  485.641357   \n",
       "\n",
       "                                    0.8         0.9  \n",
       "item_id timestamp                                    \n",
       "H1      1750-01-30 04:00:00  645.042920  655.908431  \n",
       "        1750-01-30 05:00:00  586.115937  600.829335  \n",
       "        1750-01-30 06:00:00  549.135748  566.750336  \n",
       "        1750-01-30 07:00:00  520.044493  540.152060  \n",
       "        1750-01-30 08:00:00  501.591228  523.913884  "
      ]
     },
     "execution_count": 12,
     "metadata": {},
     "output_type": "execute_result"
    }
   ],
   "source": [
    "predictions = predictor.predict(train_data)\n",
    "predictions.head()"
   ]
  },
  {
   "cell_type": "code",
   "execution_count": 13,
   "id": "50b48ce0-139c-4b16-90f2-a7bb5bb8775e",
   "metadata": {},
   "outputs": [
    {
     "data": {
      "image/png": "[encoded data removed]",
      "text/plain": [
       "<Figure size 1440x216 with 1 Axes>"
      ]
     },
     "metadata": {
      "needs_background": "light"
     },
     "output_type": "display_data"
    }
   ],
   "source": [
    "import matplotlib.pyplot as plt\n",
    "\n",
    "# TimeSeriesDataFrame can also be loaded directly from a file\n",
    "test_data = TimeSeriesDataFrame.from_path(\"https://autogluon.s3.amazonaws.com/datasets/timeseries/m4_hourly_subset/test.csv\")\n",
    "\n",
    "plt.figure(figsize=(20, 3))\n",
    "\n",
    "item_id = \"H1\"\n",
    "y_past = train_data.loc[item_id][\"target\"]\n",
    "y_pred = predictions.loc[item_id]\n",
    "y_test = test_data.loc[item_id][\"target\"][-48:]\n",
    "\n",
    "plt.plot(y_past[-200:], label=\"Past time series values\")\n",
    "plt.plot(y_pred[\"mean\"], label=\"Mean forecast\")\n",
    "plt.plot(y_test, label=\"Future time series values\")\n",
    "\n",
    "plt.fill_between(\n",
    "    y_pred.index, y_pred[\"0.1\"], y_pred[\"0.9\"], color=\"red\", alpha=0.1, label=f\"10%-90% confidence interval\"\n",
    ")\n",
    "plt.legend();"
   ]
  },
  {
   "cell_type": "markdown",
   "id": "52abce9e-221b-478d-883d-e1752a503d1b",
   "metadata": {},
   "source": [
    "## 4. Evaluating the performance of different models"
   ]
  },
  {
   "cell_type": "markdown",
   "id": "560b7bf4-8b5e-4f48-b7c4-0c2a2a4edf02",
   "metadata": {},
   "source": [
    "`-` 리더보드 확인"
   ]
  },
  {
   "cell_type": "code",
   "execution_count": 27,
   "id": "a48b02b1-7908-4d19-bf23-737697965c18",
   "metadata": {},
   "outputs": [
    {
     "name": "stderr",
     "output_type": "stream",
     "text": [
      "Additional data provided, testing on additional data. Resulting leaderboard will be sorted according to test score (`score_test`).\n"
     ]
    },
    {
     "data": {
      "text/html": [
       "<div>\n",
       "<style scoped>\n",
       "    .dataframe tbody tr th:only-of-type {\n",
       "        vertical-align: middle;\n",
       "    }\n",
       "\n",
       "    .dataframe tbody tr th {\n",
       "        vertical-align: top;\n",
       "    }\n",
       "\n",
       "    .dataframe thead th {\n",
       "        text-align: right;\n",
       "    }\n",
       "</style>\n",
       "<table border=\"1\" class=\"dataframe\">\n",
       "  <thead>\n",
       "    <tr style=\"text-align: right;\">\n",
       "      <th></th>\n",
       "      <th>model</th>\n",
       "      <th>score_test</th>\n",
       "      <th>score_val</th>\n",
       "      <th>pred_time_test</th>\n",
       "      <th>pred_time_val</th>\n",
       "      <th>fit_time_marginal</th>\n",
       "      <th>fit_order</th>\n",
       "    </tr>\n",
       "  </thead>\n",
       "  <tbody>\n",
       "    <tr>\n",
       "      <th>0</th>\n",
       "      <td>WeightedEnsemble</td>\n",
       "      <td>-0.850095</td>\n",
       "      <td>-0.882350</td>\n",
       "      <td>48.495575</td>\n",
       "      <td>34.074169</td>\n",
       "      <td>2.684069</td>\n",
       "      <td>7</td>\n",
       "    </tr>\n",
       "    <tr>\n",
       "      <th>1</th>\n",
       "      <td>RecursiveTabular</td>\n",
       "      <td>-0.870271</td>\n",
       "      <td>-0.898770</td>\n",
       "      <td>0.802261</td>\n",
       "      <td>1.253653</td>\n",
       "      <td>5.947196</td>\n",
       "      <td>5</td>\n",
       "    </tr>\n",
       "    <tr>\n",
       "      <th>2</th>\n",
       "      <td>SeasonalNaive</td>\n",
       "      <td>-1.022854</td>\n",
       "      <td>-1.216909</td>\n",
       "      <td>0.107641</td>\n",
       "      <td>0.095930</td>\n",
       "      <td>0.053485</td>\n",
       "      <td>2</td>\n",
       "    </tr>\n",
       "    <tr>\n",
       "      <th>3</th>\n",
       "      <td>DeepAR</td>\n",
       "      <td>-1.586545</td>\n",
       "      <td>-1.522113</td>\n",
       "      <td>0.808109</td>\n",
       "      <td>0.772847</td>\n",
       "      <td>47.082557</td>\n",
       "      <td>6</td>\n",
       "    </tr>\n",
       "    <tr>\n",
       "      <th>4</th>\n",
       "      <td>AutoETS</td>\n",
       "      <td>-1.778462</td>\n",
       "      <td>-1.939952</td>\n",
       "      <td>46.754016</td>\n",
       "      <td>31.951739</td>\n",
       "      <td>0.059222</td>\n",
       "      <td>4</td>\n",
       "    </tr>\n",
       "    <tr>\n",
       "      <th>5</th>\n",
       "      <td>Theta</td>\n",
       "      <td>-1.905365</td>\n",
       "      <td>-2.142531</td>\n",
       "      <td>34.860988</td>\n",
       "      <td>29.740138</td>\n",
       "      <td>0.058667</td>\n",
       "      <td>3</td>\n",
       "    </tr>\n",
       "    <tr>\n",
       "      <th>6</th>\n",
       "      <td>Naive</td>\n",
       "      <td>-6.696079</td>\n",
       "      <td>-6.662942</td>\n",
       "      <td>0.103503</td>\n",
       "      <td>4.909723</td>\n",
       "      <td>0.061440</td>\n",
       "      <td>1</td>\n",
       "    </tr>\n",
       "  </tbody>\n",
       "</table>\n",
       "</div>"
      ],
      "text/plain": [
       "              model  score_test  score_val  pred_time_test  pred_time_val  \\\n",
       "0  WeightedEnsemble   -0.850095  -0.882350       48.495575      34.074169   \n",
       "1  RecursiveTabular   -0.870271  -0.898770        0.802261       1.253653   \n",
       "2     SeasonalNaive   -1.022854  -1.216909        0.107641       0.095930   \n",
       "3            DeepAR   -1.586545  -1.522113        0.808109       0.772847   \n",
       "4           AutoETS   -1.778462  -1.939952       46.754016      31.951739   \n",
       "5             Theta   -1.905365  -2.142531       34.860988      29.740138   \n",
       "6             Naive   -6.696079  -6.662942        0.103503       4.909723   \n",
       "\n",
       "   fit_time_marginal  fit_order  \n",
       "0           2.684069          7  \n",
       "1           5.947196          5  \n",
       "2           0.053485          2  \n",
       "3          47.082557          6  \n",
       "4           0.059222          4  \n",
       "5           0.058667          3  \n",
       "6           0.061440          1  "
      ]
     },
     "execution_count": 27,
     "metadata": {},
     "output_type": "execute_result"
    }
   ],
   "source": [
    "# The test score is computed using the last\n",
    "# prediction_length=48 timesteps of each time series in test_data\n",
    "predictor.leaderboard(test_data, silent=True)"
   ]
  }
 ],
 "metadata": {
  "kernelspec": {
   "display_name": "Python 3",
   "language": "python",
   "name": "python3"
  },
  "language_info": {
   "codemirror_mode": {
    "name": "ipython",
    "version": 3
   },
   "file_extension": ".py",
   "mimetype": "text/x-python",
   "name": "python",
   "nbconvert_exporter": "python",
   "pygments_lexer": "ipython3",
   "version": "3.8.16"
  }
 },
 "nbformat": 4,
 "nbformat_minor": 5
}
