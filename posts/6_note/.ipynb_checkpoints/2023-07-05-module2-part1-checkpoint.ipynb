{
 "cells": [
  {
   "cell_type": "raw",
   "id": "fd2e6e6e-9467-4401-b8b8-867dc4a14814",
   "metadata": {},
   "source": [
    "---\n",
    "title: \"[Module2] Mathmatrics for ML\"\n",
    "author: \"JiyunLim\"\n",
    "date: \"07/05/2023\"\n",
    "categories:\n",
    "  - Module2\n",
    "---"
   ]
  },
  {
   "cell_type": "markdown",
   "id": "636a2221-89d4-43af-a7b7-3f579009274e",
   "metadata": {},
   "source": [
    "# 1. Matrix Decomposition"
   ]
  },
  {
   "cell_type": "markdown",
   "id": "f20dcf99-47fa-4469-9ebb-d8c1d706e1bf",
   "metadata": {},
   "source": [
    "1. Determinant and Trace\n",
    "\n",
    "\n",
    "2. Eigenvalues and Eigenvectors\n",
    "\n",
    "3. Cholesky Decomposition\n",
    "\n",
    "4. Eigendecomposition and Diagonalization\n",
    "\n",
    "5. Singular Value Decomposition"
   ]
  },
  {
   "cell_type": "markdown",
   "id": "239a3020-8b98-4fe2-8f08-8236a3a6549f",
   "metadata": {},
   "source": [
    "### 1. Determinant and Trace"
   ]
  },
  {
   "cell_type": "code",
   "execution_count": null,
   "id": "53b0a263-628b-4f50-bed2-ae4f64a6b282",
   "metadata": {},
   "outputs": [],
   "source": []
  }
 ],
 "metadata": {
  "kernelspec": {
   "display_name": "Python 3",
   "language": "python",
   "name": "python3"
  },
  "language_info": {
   "codemirror_mode": {
    "name": "ipython",
    "version": 3
   },
   "file_extension": ".py",
   "mimetype": "text/x-python",
   "name": "python",
   "nbconvert_exporter": "python",
   "pygments_lexer": "ipython3",
   "version": "3.8.16"
  }
 },
 "nbformat": 4,
 "nbformat_minor": 5
}
