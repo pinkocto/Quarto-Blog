{
 "cells": [
  {
   "cell_type": "raw",
   "id": "ab251ef2-74f6-4e35-8701-1acece177c6b",
   "metadata": {},
   "source": [
    "---\n",
    "title: \"Kaggle 리눅스 세팅\"\n",
    "author: \"JiyunLim\"\n",
    "date: \"01/01/2000\"\n",
    "bibliography: ref.bib\n",
    "---"
   ]
  },
  {
   "cell_type": "markdown",
   "id": "b9811761-b72f-41e1-83e2-0cf7b2863f1b",
   "metadata": {},
   "source": [
    "**`step1`** Kaggle 홈페이지에서 kaggle.json 다운로드\n",
    "\n",
    "다운로드 받은 파일 원하는 위치로 이동 (ex. Dropbox)"
   ]
  },
  {
   "cell_type": "markdown",
   "id": "0f63af77-f3a2-4922-b67f-381fa105c241",
   "metadata": {},
   "source": [
    "**`step2`** 터미널에서 확인\n",
    "\n",
    "```\n",
    "ls /home/jy/.kaggle.\n",
    "```\n"
   ]
  },
  {
   "cell_type": "markdown",
   "id": "f1d78c83-69ae-43e2-8647-6ab4ca73612c",
   "metadata": {},
   "source": [
    "> ls: cannot access '/home/jy/.kaggle.': No such file or directory"
   ]
  },
  {
   "cell_type": "markdown",
   "id": "1be84d2e-158a-4908-a0d8-30aeae637ace",
   "metadata": {},
   "source": [
    "현대 디렉토리에 `.kaggle` 이 없다?"
   ]
  },
  {
   "cell_type": "markdown",
   "id": "97c3c692-bd47-43e6-9838-d89eb8510399",
   "metadata": {},
   "source": [
    "Dropbox에서 `ls`로 파일 리스트를 확인해보면"
   ]
  },
  {
   "cell_type": "markdown",
   "id": "217c748f-8f71-4079-b584-19f482faf5ed",
   "metadata": {},
   "source": [
    "**`step3`** home/jy/ 위치에 다운로드 받은 kaggle.json 복사"
   ]
  },
  {
   "cell_type": "markdown",
   "id": "aaaea74a-5260-4c08-a234-dc5c16a4f6d2",
   "metadata": {},
   "source": [
    "```\n",
    "cp kaggle.json /home/jy/.kaggle\n",
    "ls /home/jy/.kaggle\n",
    "# kaggle.json (복사된 kagglg.json)\n",
    "```"
   ]
  },
  {
   "cell_type": "markdown",
   "id": "116a39b7-6fce-4a8f-bfeb-43f6afd982cb",
   "metadata": {},
   "source": [
    "**`(참고)`**\n",
    "\n",
    "```\n",
    "# for 보안\n",
    "chmod 600 /home/jy/.kaggle/kaggle.json\n",
    "```"
   ]
  },
  {
   "cell_type": "markdown",
   "id": "cb6e2df1-e5ea-4cb3-9517-a30e2007206f",
   "metadata": {},
   "source": [
    "**`step4`**"
   ]
  },
  {
   "cell_type": "markdown",
   "id": "10acafa3-32aa-45b9-95b5-885baa83fc0f",
   "metadata": {},
   "source": [
    "```\n",
    "!kaggle competitions download -c titanic\n",
    "!unzip titanic.zip -d ./titanic\n",
    "df_train = pd.read_csv('titanic/train.csv')\n",
    "df_test = pd.read_csv('titanic/test.csv')\n",
    "!rm titanic.zip\n",
    "!rm -rf titanic/\n",
    "```"
   ]
  }
 ],
 "metadata": {
  "kernelspec": {
   "display_name": "Python 3 (ipykernel)",
   "language": "python",
   "name": "python3"
  },
  "language_info": {
   "codemirror_mode": {
    "name": "ipython",
    "version": 3
   },
   "file_extension": ".py",
   "mimetype": "text/x-python",
   "name": "python",
   "nbconvert_exporter": "python",
   "pygments_lexer": "ipython3",
   "version": "3.10.13"
  }
 },
 "nbformat": 4,
 "nbformat_minor": 5
}
