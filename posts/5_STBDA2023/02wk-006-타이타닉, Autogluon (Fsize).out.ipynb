{
 "cells": [
  {
   "cell_type": "raw",
   "id": "5c8d7c71-2df8-4e3d-af7a-73add760ac80",
   "metadata": {},
   "source": [
    "---\n",
    "title: \"02wk-006: 타이타닉, Autogluon (Fsize)\"\n",
    "author: \"최규빈\"\n",
    "date: \"09/12/2023\"\n",
    "---"
   ]
  },
  {
   "cell_type": "markdown",
   "id": "bb3572fd-ec2c-4fbf-8f70-c66c34d08709",
   "metadata": {},
   "source": [
    "# 1. 강의영상\n",
    "\n",
    "<https://youtu.be/playlist?list=PLQqh36zP38-zEjYbXMD4e-nS0_-nx9Zac&si=eA9ME6Pe4ecmtIgi>\n",
    "\n",
    "# 2. Import\n",
    "\n",
    "``` python\n",
    "# This Python 3 environment comes with many helpful analytics libraries installed\n",
    "# It is defined by the kaggle/python Docker image: https://github.com/kaggle/docker-python\n",
    "# For example, here's several helpful packages to load\n",
    "\n",
    "import numpy as np # linear algebra\n",
    "import pandas as pd # data processing, CSV file I/O (e.g. pd.read_csv)\n",
    "\n",
    "# Input data files are available in the read-only \"../input/\" directory\n",
    "# For example, running this (by clicking run or pressing Shift+Enter) will list all files under the input directory\n",
    "\n",
    "import os\n",
    "for dirname, _, filenames in os.walk('/kaggle/input'):\n",
    "    for filename in filenames:\n",
    "        print(os.path.join(dirname, filename))\n",
    "\n",
    "# You can write up to 20GB to the current directory (/kaggle/working/) that gets preserved as output when you create a version using \"Save & Run All\" \n",
    "# You can also write temporary files to /kaggle/temp/, but they won't be saved outside of the current session\n",
    "```\n",
    "\n",
    "    /kaggle/input/titanic/train.csv\n",
    "    /kaggle/input/titanic/test.csv\n",
    "    /kaggle/input/titanic/gender_submission.csv"
   ]
  },
  {
   "cell_type": "code",
   "execution_count": 1,
   "id": "7df920d4-ec5e-4342-b087-fc3c3666c3a5",
   "metadata": {},
   "outputs": [],
   "source": [
    "#pip install autogluon"
   ]
  },
  {
   "cell_type": "code",
   "execution_count": 2,
   "id": "773d010f-fcd9-496e-8706-b9ca032f33c0",
   "metadata": {},
   "outputs": [],
   "source": [
    "from autogluon.tabular import TabularDataset, TabularPredictor"
   ]
  },
  {
   "cell_type": "markdown",
   "id": "1ae9994b-b73a-4879-871c-90b40edfcbca",
   "metadata": {},
   "source": [
    "# 3. 분석의 절차\n",
    "\n",
    "## A. 데이터\n",
    "\n",
    "`-` 비유: 문제를 받아오는 과정으로 비유할 수 있다."
   ]
  },
  {
   "cell_type": "code",
   "execution_count": 3,
   "id": "eb5bdeb2-0cf3-444b-96d8-487834528ffd",
   "metadata": {},
   "outputs": [],
   "source": [
    "tr = TabularDataset(\"/kaggle/input/titanic/train.csv\")\n",
    "tst = TabularDataset(\"/kaggle/input/titanic/test.csv\")"
   ]
  },
  {
   "cell_type": "markdown",
   "id": "f3511368-8761-4c62-925d-06538a243cbc",
   "metadata": {},
   "source": [
    "`-` 피처엔지니어링"
   ]
  },
  {
   "cell_type": "code",
   "execution_count": 4,
   "id": "13fb6de0-a801-4b0c-a8da-04d4ea5e0537",
   "metadata": {},
   "outputs": [],
   "source": [
    "tr.eval('Fsize = SibSp + Parch')\n",
    "tst.eval('Fsize = SibSp + Parch')"
   ]
  },
  {
   "cell_type": "markdown",
   "id": "7ee20074-ee2b-4597-8d99-4506e3b68396",
   "metadata": {},
   "source": [
    "## B. Predictor 생성\n",
    "\n",
    "`-` 비유: 문제를 풀 학생을 생성하는 과정으로 비유할 수 있다."
   ]
  },
  {
   "cell_type": "code",
   "execution_count": 5,
   "id": "e8a5f51d-726c-4059-97e2-c9e81b05d08e",
   "metadata": {},
   "outputs": [
    {
     "name": "stderr",
     "output_type": "stream",
     "text": [
      "No path specified. Models will be saved in: \"AutogluonModels/ag-20230912_115814/\""
     ]
    }
   ],
   "source": [
    "predictr = TabularPredictor(\"Survived\")"
   ]
  },
  {
   "cell_type": "markdown",
   "id": "462f6031-62d8-420c-a20f-291f67f569e1",
   "metadata": {},
   "source": [
    "## C. 적합(fit)\n",
    "\n",
    "`-` 비유: 학생이 공부를 하는 과정으로 비유할 수 있다.\n",
    "\n",
    "`-` 학습"
   ]
  },
  {
   "cell_type": "code",
   "execution_count": 6,
   "id": "41979ff5-73f7-458a-9fc7-de56d1690a54",
   "metadata": {},
   "outputs": [
    {
     "name": "stderr",
     "output_type": "stream",
     "text": [
      "Beginning AutoGluon training ...\n",
      "AutoGluon will save models to \"AutogluonModels/ag-20230912_115814/\"\n",
      "AutoGluon Version:  0.8.2\n",
      "Python Version:     3.10.12\n",
      "Operating System:   Linux\n",
      "Platform Machine:   x86_64\n",
      "Platform Version:   #26~22.04.1-Ubuntu SMP PREEMPT_DYNAMIC Thu Jul 13 16:27:29 UTC 2\n",
      "Disk Space Avail:   294.00 GB / 490.57 GB (59.9%)\n",
      "Train Data Rows:    891\n",
      "Train Data Columns: 12\n",
      "Label Column: Survived\n",
      "Preprocessing data ...\n",
      "AutoGluon infers your prediction problem is: 'binary' (because only two unique label-values observed).\n",
      "    2 unique label values:  [0, 1]\n",
      "    If 'binary' is not the correct problem_type, please manually specify the problem_type parameter during predictor init (You may specify problem_type as one of: ['binary', 'multiclass', 'regression'])\n",
      "Selected class <--> label mapping:  class 1 = 1, class 0 = 0\n",
      "Using Feature Generators to preprocess the data ...\n",
      "Fitting AutoMLPipelineFeatureGenerator...\n",
      "    Available Memory:                    125936.3 MB\n",
      "    Train Data (Original)  Memory Usage: 0.32 MB (0.0% of available memory)\n",
      "    Inferring data type of each feature based on column values. Set feature_metadata_in to manually specify special dtypes of the features.\n",
      "/home/cgb2/anaconda3/envs/mp/lib/python3.10/site-packages/autogluon/common/features/infer_types.py:118: UserWarning: Could not infer format, so each element will be parsed individually, falling back to `dateutil`. To ensure parsing is consistent and as-expected, please specify a format.\n",
      "  result = pd.to_datetime(X, errors=\"coerce\")\n",
      "/home/cgb2/anaconda3/envs/mp/lib/python3.10/site-packages/autogluon/common/features/infer_types.py:118: UserWarning: Could not infer format, so each element will be parsed individually, falling back to `dateutil`. To ensure parsing is consistent and as-expected, please specify a format.\n",
      "  result = pd.to_datetime(X, errors=\"coerce\")\n",
      "/home/cgb2/anaconda3/envs/mp/lib/python3.10/site-packages/autogluon/common/features/infer_types.py:118: UserWarning: Could not infer format, so each element will be parsed individually, falling back to `dateutil`. To ensure parsing is consistent and as-expected, please specify a format.\n",
      "  result = pd.to_datetime(X, errors=\"coerce\")\n",
      "/home/cgb2/anaconda3/envs/mp/lib/python3.10/site-packages/autogluon/common/features/infer_types.py:118: UserWarning: Could not infer format, so each element will be parsed individually, falling back to `dateutil`. To ensure parsing is consistent and as-expected, please specify a format.\n",
      "  result = pd.to_datetime(X, errors=\"coerce\")\n",
      "/home/cgb2/anaconda3/envs/mp/lib/python3.10/site-packages/autogluon/common/features/infer_types.py:118: UserWarning: Could not infer format, so each element will be parsed individually, falling back to `dateutil`. To ensure parsing is consistent and as-expected, please specify a format.\n",
      "  result = pd.to_datetime(X, errors=\"coerce\")\n",
      "    Stage 1 Generators:\n",
      "        Fitting AsTypeFeatureGenerator...\n",
      "            Note: Converting 1 features to boolean dtype as they only contain 2 unique values.\n",
      "    Stage 2 Generators:\n",
      "        Fitting FillNaFeatureGenerator...\n",
      "    Stage 3 Generators:\n",
      "        Fitting IdentityFeatureGenerator...\n",
      "        Fitting CategoryFeatureGenerator...\n",
      "            Fitting CategoryMemoryMinimizeFeatureGenerator...\n",
      "        Fitting TextSpecialFeatureGenerator...\n",
      "            Fitting BinnedFeatureGenerator...\n",
      "            Fitting DropDuplicatesFeatureGenerator...\n",
      "        Fitting TextNgramFeatureGenerator...\n",
      "            Fitting CountVectorizer for text features: ['Name']\n",
      "            CountVectorizer fit with vocabulary size = 8\n",
      "    Stage 4 Generators:\n",
      "        Fitting DropUniqueFeatureGenerator...\n",
      "    Stage 5 Generators:\n",
      "        Fitting DropDuplicatesFeatureGenerator...\n",
      "    Types of features in original data (raw dtype, special dtypes):\n",
      "        ('float', [])        : 2 | ['Age', 'Fare']\n",
      "        ('int', [])          : 5 | ['PassengerId', 'Pclass', 'SibSp', 'Parch', 'Fsize']\n",
      "        ('object', [])       : 4 | ['Sex', 'Ticket', 'Cabin', 'Embarked']\n",
      "        ('object', ['text']) : 1 | ['Name']\n",
      "    Types of features in processed data (raw dtype, special dtypes):\n",
      "        ('category', [])                    : 3 | ['Ticket', 'Cabin', 'Embarked']\n",
      "        ('float', [])                       : 2 | ['Age', 'Fare']\n",
      "        ('int', [])                         : 5 | ['PassengerId', 'Pclass', 'SibSp', 'Parch', 'Fsize']\n",
      "        ('int', ['binned', 'text_special']) : 9 | ['Name.char_count', 'Name.word_count', 'Name.capital_ratio', 'Name.lower_ratio', 'Name.special_ratio', ...]\n",
      "        ('int', ['bool'])                   : 1 | ['Sex']\n",
      "        ('int', ['text_ngram'])             : 9 | ['__nlp__.henry', '__nlp__.john', '__nlp__.master', '__nlp__.miss', '__nlp__.mr', ...]\n",
      "    0.2s = Fit runtime\n",
      "    12 features in original data used to generate 29 features in processed data.\n",
      "    Train Data (Processed) Memory Usage: 0.08 MB (0.0% of available memory)\n",
      "Data preprocessing and feature engineering runtime = 0.21s ...\n",
      "AutoGluon will gauge predictive performance using evaluation metric: 'accuracy'\n",
      "    To change this, specify the eval_metric parameter of Predictor()\n",
      "Automatically generating train/validation split with holdout_frac=0.2, Train Rows: 712, Val Rows: 179\n",
      "User-specified model hyperparameters to be fit:\n",
      "{\n",
      "    'NN_TORCH': {},\n",
      "    'GBM': [{'extra_trees': True, 'ag_args': {'name_suffix': 'XT'}}, {}, 'GBMLarge'],\n",
      "    'CAT': {},\n",
      "    'XGB': {},\n",
      "    'FASTAI': {},\n",
      "    'RF': [{'criterion': 'gini', 'ag_args': {'name_suffix': 'Gini', 'problem_types': ['binary', 'multiclass']}}, {'criterion': 'entropy', 'ag_args': {'name_suffix': 'Entr', 'problem_types': ['binary', 'multiclass']}}, {'criterion': 'squared_error', 'ag_args': {'name_suffix': 'MSE', 'problem_types': ['regression', 'quantile']}}],\n",
      "    'XT': [{'criterion': 'gini', 'ag_args': {'name_suffix': 'Gini', 'problem_types': ['binary', 'multiclass']}}, {'criterion': 'entropy', 'ag_args': {'name_suffix': 'Entr', 'problem_types': ['binary', 'multiclass']}}, {'criterion': 'squared_error', 'ag_args': {'name_suffix': 'MSE', 'problem_types': ['regression', 'quantile']}}],\n",
      "    'KNN': [{'weights': 'uniform', 'ag_args': {'name_suffix': 'Unif'}}, {'weights': 'distance', 'ag_args': {'name_suffix': 'Dist'}}],\n",
      "}\n",
      "Fitting 13 L1 models ...\n",
      "Fitting model: KNeighborsUnif ...\n",
      "    0.648    = Validation score   (accuracy)\n",
      "    0.09s    = Training   runtime\n",
      "    0.0s     = Validation runtime\n",
      "Fitting model: KNeighborsDist ...\n",
      "    0.648    = Validation score   (accuracy)\n",
      "    0.01s    = Training   runtime\n",
      "    0.0s     = Validation runtime\n",
      "Fitting model: LightGBMXT ...\n",
      "    0.8156   = Validation score   (accuracy)\n",
      "    0.2s     = Training   runtime\n",
      "    0.0s     = Validation runtime\n",
      "Fitting model: LightGBM ...\n",
      "    0.8212   = Validation score   (accuracy)\n",
      "    0.18s    = Training   runtime\n",
      "    0.0s     = Validation runtime\n",
      "Fitting model: RandomForestGini ...\n",
      "    0.8156   = Validation score   (accuracy)\n",
      "    0.31s    = Training   runtime\n",
      "    0.1s     = Validation runtime\n",
      "Fitting model: RandomForestEntr ...\n",
      "    0.8212   = Validation score   (accuracy)\n",
      "    0.48s    = Training   runtime\n",
      "    0.19s    = Validation runtime\n",
      "Fitting model: CatBoost ...\n",
      "    0.8268   = Validation score   (accuracy)\n",
      "    0.53s    = Training   runtime\n",
      "    0.0s     = Validation runtime\n",
      "Fitting model: ExtraTreesGini ...\n",
      "    0.8045   = Validation score   (accuracy)\n",
      "    0.88s    = Training   runtime\n",
      "    0.12s    = Validation runtime\n",
      "Fitting model: ExtraTreesEntr ...\n",
      "    0.8101   = Validation score   (accuracy)\n",
      "    0.51s    = Training   runtime\n",
      "    0.08s    = Validation runtime\n",
      "Fitting model: NeuralNetFastAI ...\n",
      "    0.8324   = Validation score   (accuracy)\n",
      "    1.32s    = Training   runtime\n",
      "    0.01s    = Validation runtime\n",
      "Fitting model: XGBoost ...\n",
      "    0.8268   = Validation score   (accuracy)\n",
      "    0.15s    = Training   runtime\n",
      "    0.0s     = Validation runtime\n",
      "Fitting model: NeuralNetTorch ...\n",
      "    0.838    = Validation score   (accuracy)\n",
      "    1.38s    = Training   runtime\n",
      "    0.01s    = Validation runtime\n",
      "Fitting model: LightGBMLarge ...\n",
      "    0.8324   = Validation score   (accuracy)\n",
      "    0.38s    = Training   runtime\n",
      "    0.0s     = Validation runtime\n",
      "Fitting model: WeightedEnsemble_L2 ...\n",
      "    0.8603   = Validation score   (accuracy)\n",
      "    0.24s    = Training   runtime\n",
      "    0.0s     = Validation runtime\n",
      "AutoGluon training complete, total runtime = 7.68s ... Best model: \"WeightedEnsemble_L2\"\n",
      "TabularPredictor saved. To load, use: predictor = TabularPredictor.load(\"AutogluonModels/ag-20230912_115814/\")"
     ]
    }
   ],
   "source": [
    "predictr.fit(tr.eval('Fsize = SibSp + Parch'))"
   ]
  },
  {
   "cell_type": "markdown",
   "id": "fff339e3-7368-41ac-896e-c11c159dcf6b",
   "metadata": {},
   "source": [
    "`-` 리더보드확인 (모의고사채점)"
   ]
  },
  {
   "cell_type": "code",
   "execution_count": 8,
   "id": "c365442c-84e8-4e34-bcec-106fa15a55fe",
   "metadata": {},
   "outputs": [
    {
     "name": "stdout",
     "output_type": "stream",
     "text": [
      "                  model  score_val  pred_time_val  fit_time  pred_time_val_marginal  fit_time_marginal  stack_level  can_infer  fit_order\n",
      "0   WeightedEnsemble_L2   0.860335       0.016608  2.934600                0.000400           0.236214            2       True         14\n",
      "1        NeuralNetTorch   0.837989       0.008671  1.382263                0.008671           1.382263            1       True         12\n",
      "2         LightGBMLarge   0.832402       0.003077  0.377827                0.003077           0.377827            1       True         13\n",
      "3       NeuralNetFastAI   0.832402       0.007537  1.316123                0.007537           1.316123            1       True         10\n",
      "4              CatBoost   0.826816       0.003649  0.528946                0.003649           0.528946            1       True          7\n",
      "5               XGBoost   0.826816       0.004545  0.150251                0.004545           0.150251            1       True         11\n",
      "6              LightGBM   0.821229       0.003294  0.180805                0.003294           0.180805            1       True          4\n",
      "7      RandomForestEntr   0.821229       0.194986  0.478185                0.194986           0.478185            1       True          6\n",
      "8            LightGBMXT   0.815642       0.003372  0.198229                0.003372           0.198229            1       True          3\n",
      "9      RandomForestGini   0.815642       0.097445  0.306731                0.097445           0.306731            1       True          5\n",
      "10       ExtraTreesEntr   0.810056       0.076015  0.512563                0.076015           0.512563            1       True          9\n",
      "11       ExtraTreesGini   0.804469       0.118582  0.881634                0.118582           0.881634            1       True          8\n",
      "12       KNeighborsDist   0.648045       0.001869  0.007722                0.001869           0.007722            1       True          2\n",
      "13       KNeighborsUnif   0.648045       0.004271  0.092099                0.004271           0.092099            1       True          1"
     ]
    }
   ],
   "source": [
    "predictr.leaderboard()"
   ]
  },
  {
   "cell_type": "markdown",
   "id": "f3128910-6293-4eba-9414-df39172eac42",
   "metadata": {},
   "source": [
    "## D. 예측 (predict)\n",
    "\n",
    "`-` 비유: 학습이후에 문제를 푸는 과정으로 비유할 수 있다.\n",
    "\n",
    "`-` training set 을 풀어봄 (predict) $\\to$ 점수 확인"
   ]
  },
  {
   "cell_type": "code",
   "execution_count": 10,
   "id": "36e5d9fc-069b-46c8-8c2f-b75c06e9c19a",
   "metadata": {},
   "outputs": [],
   "source": [
    "(tr.Survived == predictr.predict(tr.eval('Fsize = SibSp + Parch'))).mean()"
   ]
  },
  {
   "cell_type": "markdown",
   "id": "8d8d3898-57c1-4c10-9fe9-d1cdd4dcb675",
   "metadata": {},
   "source": [
    "`-` test set 을 풀어봄 (predict) $\\to$ 점수 확인 하러 캐글에 결과제출"
   ]
  },
  {
   "cell_type": "code",
   "execution_count": 12,
   "id": "a059e8ec-d555-4e8d-aa09-32fd909d497a",
   "metadata": {},
   "outputs": [],
   "source": [
    "tst.assign(Survived = predictr.predict(tst.eval('Fsize = SibSp + Parch'))).loc[:,['PassengerId','Survived']]\\\n",
    ".to_csv(\"autogluon(Fsize)_submission.csv\",index=False)"
   ]
  }
 ],
 "metadata": {
  "kernelspec": {
   "display_name": "Python 3",
   "language": "python",
   "name": "python3"
  },
  "language_info": {
   "codemirror_mode": {
    "name": "ipython",
    "version": 3
   },
   "file_extension": ".py",
   "mimetype": "text/x-python",
   "name": "python",
   "nbconvert_exporter": "python",
   "pygments_lexer": "ipython3",
   "version": "3.8.16"
  }
 },
 "nbformat": 4,
 "nbformat_minor": 5
}
