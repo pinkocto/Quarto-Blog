{
 "cells": [
  {
   "cell_type": "raw",
   "id": "8dcab261-4990-4f00-9f0e-0e7d9b5ee7a8",
   "metadata": {},
   "source": [
    "---\n",
    "title: \"12wk-044: Medical Cost / 랜덤포레스트\"\n",
    "author: \"JiyunLim\"\n",
    "date: \"11/21/2023\"\n",
    "bibliography: ref.bib\n",
    "draft: false\n",
    "---"
   ]
  },
  {
   "cell_type": "markdown",
   "id": "659dbb4c-8f8d-46ca-a3c6-56ea0aa77c21",
   "metadata": {},
   "source": [
    "# 1. 강의영상 "
   ]
  },
  {
   "cell_type": "markdown",
   "id": "8fd9986c-7a2b-4cd5-ae81-7663efa27a7a",
   "metadata": {},
   "source": [
    "- <https://youtu.be/playlist?list=PLQqh36zP38-y50V9RPpXbBFFOXuCC5qCt&si=rmXkq99Bhp6jgEBf>"
   ]
  },
  {
   "cell_type": "markdown",
   "id": "4042c98e-7672-402a-94af-981a65053cd5",
   "metadata": {
    "tags": []
   },
   "source": [
    "# 2. Imports "
   ]
  },
  {
   "cell_type": "code",
   "execution_count": 1,
   "id": "09d5b631-0d2d-4a22-bac0-307dad239a65",
   "metadata": {
    "tags": []
   },
   "outputs": [],
   "source": [
    "import numpy as np\n",
    "import pandas as pd\n",
    "import matplotlib.pyplot as plt\n",
    "import sklearn.tree\n",
    "import sklearn.ensemble\n",
    "#---#\n",
    "import warnings\n",
    "warnings.filterwarnings('ignore')"
   ]
  },
  {
   "cell_type": "markdown",
   "id": "ca9c6ae2-6f99-45da-aeb3-11fe40b7ba6c",
   "metadata": {},
   "source": [
    "# 3. Data "
   ]
  },
  {
   "cell_type": "code",
   "execution_count": 3,
   "id": "d9cc2d67-02e0-4c15-9838-6d4ddc941952",
   "metadata": {
    "tags": []
   },
   "outputs": [
    {
     "data": {
      "text/html": [
       "<div>\n",
       "<style scoped>\n",
       "    .dataframe tbody tr th:only-of-type {\n",
       "        vertical-align: middle;\n",
       "    }\n",
       "\n",
       "    .dataframe tbody tr th {\n",
       "        vertical-align: top;\n",
       "    }\n",
       "\n",
       "    .dataframe thead th {\n",
       "        text-align: right;\n",
       "    }\n",
       "</style>\n",
       "<table border=\"1\" class=\"dataframe\">\n",
       "  <thead>\n",
       "    <tr style=\"text-align: right;\">\n",
       "      <th></th>\n",
       "      <th>age</th>\n",
       "      <th>sex</th>\n",
       "      <th>bmi</th>\n",
       "      <th>children</th>\n",
       "      <th>smoker</th>\n",
       "      <th>region</th>\n",
       "      <th>charges</th>\n",
       "    </tr>\n",
       "  </thead>\n",
       "  <tbody>\n",
       "    <tr>\n",
       "      <th>0</th>\n",
       "      <td>19</td>\n",
       "      <td>female</td>\n",
       "      <td>27.900</td>\n",
       "      <td>0</td>\n",
       "      <td>yes</td>\n",
       "      <td>southwest</td>\n",
       "      <td>16884.92400</td>\n",
       "    </tr>\n",
       "    <tr>\n",
       "      <th>1</th>\n",
       "      <td>18</td>\n",
       "      <td>male</td>\n",
       "      <td>33.770</td>\n",
       "      <td>1</td>\n",
       "      <td>no</td>\n",
       "      <td>southeast</td>\n",
       "      <td>1725.55230</td>\n",
       "    </tr>\n",
       "    <tr>\n",
       "      <th>2</th>\n",
       "      <td>28</td>\n",
       "      <td>male</td>\n",
       "      <td>33.000</td>\n",
       "      <td>3</td>\n",
       "      <td>no</td>\n",
       "      <td>southeast</td>\n",
       "      <td>4449.46200</td>\n",
       "    </tr>\n",
       "    <tr>\n",
       "      <th>3</th>\n",
       "      <td>33</td>\n",
       "      <td>male</td>\n",
       "      <td>22.705</td>\n",
       "      <td>0</td>\n",
       "      <td>no</td>\n",
       "      <td>northwest</td>\n",
       "      <td>21984.47061</td>\n",
       "    </tr>\n",
       "    <tr>\n",
       "      <th>4</th>\n",
       "      <td>32</td>\n",
       "      <td>male</td>\n",
       "      <td>28.880</td>\n",
       "      <td>0</td>\n",
       "      <td>no</td>\n",
       "      <td>northwest</td>\n",
       "      <td>3866.85520</td>\n",
       "    </tr>\n",
       "    <tr>\n",
       "      <th>...</th>\n",
       "      <td>...</td>\n",
       "      <td>...</td>\n",
       "      <td>...</td>\n",
       "      <td>...</td>\n",
       "      <td>...</td>\n",
       "      <td>...</td>\n",
       "      <td>...</td>\n",
       "    </tr>\n",
       "    <tr>\n",
       "      <th>1333</th>\n",
       "      <td>50</td>\n",
       "      <td>male</td>\n",
       "      <td>30.970</td>\n",
       "      <td>3</td>\n",
       "      <td>no</td>\n",
       "      <td>northwest</td>\n",
       "      <td>10600.54830</td>\n",
       "    </tr>\n",
       "    <tr>\n",
       "      <th>1334</th>\n",
       "      <td>18</td>\n",
       "      <td>female</td>\n",
       "      <td>31.920</td>\n",
       "      <td>0</td>\n",
       "      <td>no</td>\n",
       "      <td>northeast</td>\n",
       "      <td>2205.98080</td>\n",
       "    </tr>\n",
       "    <tr>\n",
       "      <th>1335</th>\n",
       "      <td>18</td>\n",
       "      <td>female</td>\n",
       "      <td>36.850</td>\n",
       "      <td>0</td>\n",
       "      <td>no</td>\n",
       "      <td>southeast</td>\n",
       "      <td>1629.83350</td>\n",
       "    </tr>\n",
       "    <tr>\n",
       "      <th>1336</th>\n",
       "      <td>21</td>\n",
       "      <td>female</td>\n",
       "      <td>25.800</td>\n",
       "      <td>0</td>\n",
       "      <td>no</td>\n",
       "      <td>southwest</td>\n",
       "      <td>2007.94500</td>\n",
       "    </tr>\n",
       "    <tr>\n",
       "      <th>1337</th>\n",
       "      <td>61</td>\n",
       "      <td>female</td>\n",
       "      <td>29.070</td>\n",
       "      <td>0</td>\n",
       "      <td>yes</td>\n",
       "      <td>northwest</td>\n",
       "      <td>29141.36030</td>\n",
       "    </tr>\n",
       "  </tbody>\n",
       "</table>\n",
       "<p>1338 rows × 7 columns</p>\n",
       "</div>"
      ],
      "text/plain": [
       "      age     sex     bmi  children smoker     region      charges\n",
       "0      19  female  27.900         0    yes  southwest  16884.92400\n",
       "1      18    male  33.770         1     no  southeast   1725.55230\n",
       "2      28    male  33.000         3     no  southeast   4449.46200\n",
       "3      33    male  22.705         0     no  northwest  21984.47061\n",
       "4      32    male  28.880         0     no  northwest   3866.85520\n",
       "...   ...     ...     ...       ...    ...        ...          ...\n",
       "1333   50    male  30.970         3     no  northwest  10600.54830\n",
       "1334   18  female  31.920         0     no  northeast   2205.98080\n",
       "1335   18  female  36.850         0     no  southeast   1629.83350\n",
       "1336   21  female  25.800         0     no  southwest   2007.94500\n",
       "1337   61  female  29.070         0    yes  northwest  29141.36030\n",
       "\n",
       "[1338 rows x 7 columns]"
      ]
     },
     "execution_count": 3,
     "metadata": {},
     "output_type": "execute_result"
    }
   ],
   "source": [
    "df_train = pd.read_csv('https://raw.githubusercontent.com/guebin/MP2023/main/posts/insurance.csv')\n",
    "df_train"
   ]
  },
  {
   "cell_type": "markdown",
   "id": "59f7a1ee-f328-4094-915f-b7331ba53c97",
   "metadata": {},
   "source": [
    "# 4. Bagging의 단점 "
   ]
  },
  {
   "cell_type": "markdown",
   "id": "0aed3b69-fd1b-47c3-9c44-0574a568fdb6",
   "metadata": {},
   "source": [
    "## A. Baggin으로 적합 "
   ]
  },
  {
   "cell_type": "code",
   "execution_count": 4,
   "id": "7fbecefe-1419-4cc4-9dba-0a5a23b6b9c4",
   "metadata": {
    "tags": []
   },
   "outputs": [
    {
     "data": {
      "text/html": [
       "<style>#sk-container-id-1 {color: black;}#sk-container-id-1 pre{padding: 0;}#sk-container-id-1 div.sk-toggleable {background-color: white;}#sk-container-id-1 label.sk-toggleable__label {cursor: pointer;display: block;width: 100%;margin-bottom: 0;padding: 0.3em;box-sizing: border-box;text-align: center;}#sk-container-id-1 label.sk-toggleable__label-arrow:before {content: \"▸\";float: left;margin-right: 0.25em;color: #696969;}#sk-container-id-1 label.sk-toggleable__label-arrow:hover:before {color: black;}#sk-container-id-1 div.sk-estimator:hover label.sk-toggleable__label-arrow:before {color: black;}#sk-container-id-1 div.sk-toggleable__content {max-height: 0;max-width: 0;overflow: hidden;text-align: left;background-color: #f0f8ff;}#sk-container-id-1 div.sk-toggleable__content pre {margin: 0.2em;color: black;border-radius: 0.25em;background-color: #f0f8ff;}#sk-container-id-1 input.sk-toggleable__control:checked~div.sk-toggleable__content {max-height: 200px;max-width: 100%;overflow: auto;}#sk-container-id-1 input.sk-toggleable__control:checked~label.sk-toggleable__label-arrow:before {content: \"▾\";}#sk-container-id-1 div.sk-estimator input.sk-toggleable__control:checked~label.sk-toggleable__label {background-color: #d4ebff;}#sk-container-id-1 div.sk-label input.sk-toggleable__control:checked~label.sk-toggleable__label {background-color: #d4ebff;}#sk-container-id-1 input.sk-hidden--visually {border: 0;clip: rect(1px 1px 1px 1px);clip: rect(1px, 1px, 1px, 1px);height: 1px;margin: -1px;overflow: hidden;padding: 0;position: absolute;width: 1px;}#sk-container-id-1 div.sk-estimator {font-family: monospace;background-color: #f0f8ff;border: 1px dotted black;border-radius: 0.25em;box-sizing: border-box;margin-bottom: 0.5em;}#sk-container-id-1 div.sk-estimator:hover {background-color: #d4ebff;}#sk-container-id-1 div.sk-parallel-item::after {content: \"\";width: 100%;border-bottom: 1px solid gray;flex-grow: 1;}#sk-container-id-1 div.sk-label:hover label.sk-toggleable__label {background-color: #d4ebff;}#sk-container-id-1 div.sk-serial::before {content: \"\";position: absolute;border-left: 1px solid gray;box-sizing: border-box;top: 0;bottom: 0;left: 50%;z-index: 0;}#sk-container-id-1 div.sk-serial {display: flex;flex-direction: column;align-items: center;background-color: white;padding-right: 0.2em;padding-left: 0.2em;position: relative;}#sk-container-id-1 div.sk-item {position: relative;z-index: 1;}#sk-container-id-1 div.sk-parallel {display: flex;align-items: stretch;justify-content: center;background-color: white;position: relative;}#sk-container-id-1 div.sk-item::before, #sk-container-id-1 div.sk-parallel-item::before {content: \"\";position: absolute;border-left: 1px solid gray;box-sizing: border-box;top: 0;bottom: 0;left: 50%;z-index: -1;}#sk-container-id-1 div.sk-parallel-item {display: flex;flex-direction: column;z-index: 1;position: relative;background-color: white;}#sk-container-id-1 div.sk-parallel-item:first-child::after {align-self: flex-end;width: 50%;}#sk-container-id-1 div.sk-parallel-item:last-child::after {align-self: flex-start;width: 50%;}#sk-container-id-1 div.sk-parallel-item:only-child::after {width: 0;}#sk-container-id-1 div.sk-dashed-wrapped {border: 1px dashed gray;margin: 0 0.4em 0.5em 0.4em;box-sizing: border-box;padding-bottom: 0.4em;background-color: white;}#sk-container-id-1 div.sk-label label {font-family: monospace;font-weight: bold;display: inline-block;line-height: 1.2em;}#sk-container-id-1 div.sk-label-container {text-align: center;}#sk-container-id-1 div.sk-container {/* jupyter's `normalize.less` sets `[hidden] { display: none; }` but bootstrap.min.css set `[hidden] { display: none !important; }` so we also need the `!important` here to be able to override the default hidden behavior on the sphinx rendered scikit-learn.org. See: https://github.com/scikit-learn/scikit-learn/issues/21755 */display: inline-block !important;position: relative;}#sk-container-id-1 div.sk-text-repr-fallback {display: none;}</style><div id=\"sk-container-id-1\" class=\"sk-top-container\"><div class=\"sk-text-repr-fallback\"><pre>BaggingRegressor()</pre><b>In a Jupyter environment, please rerun this cell to show the HTML representation or trust the notebook. <br />On GitHub, the HTML representation is unable to render, please try loading this page with nbviewer.org.</b></div><div class=\"sk-container\" hidden><div class=\"sk-item\"><div class=\"sk-estimator sk-toggleable\"><input class=\"sk-toggleable__control sk-hidden--visually\" id=\"sk-estimator-id-1\" type=\"checkbox\" checked><label for=\"sk-estimator-id-1\" class=\"sk-toggleable__label sk-toggleable__label-arrow\">BaggingRegressor</label><div class=\"sk-toggleable__content\"><pre>BaggingRegressor()</pre></div></div></div></div></div>"
      ],
      "text/plain": [
       "BaggingRegressor()"
      ]
     },
     "execution_count": 4,
     "metadata": {},
     "output_type": "execute_result"
    }
   ],
   "source": [
    "# step1\n",
    "X = pd.get_dummies(df_train.loc[:,'age':'region'],drop_first=True)\n",
    "y = df_train['charges']\n",
    "# step2 \n",
    "predictr = sklearn.ensemble.BaggingRegressor()\n",
    "# step3\n",
    "predictr.fit(X,y)\n",
    "# step4 -- pass "
   ]
  },
  {
   "cell_type": "markdown",
   "id": "e2fd07fa-2562-4961-b6cc-b406b783eaa7",
   "metadata": {},
   "source": [
    "## B. 결과 시각화"
   ]
  },
  {
   "cell_type": "markdown",
   "id": "b036ee09-6310-49da-aa5f-8963bf15dc23",
   "metadata": {},
   "source": [
    "`-` 관찰: 트리들의 다양하지 않다. "
   ]
  },
  {
   "cell_type": "code",
   "execution_count": 11,
   "id": "d3a1dbac-c799-4aef-8a71-92197dcd3f44",
   "metadata": {},
   "outputs": [
    {
     "data": {
      "text/plain": [
       "[DecisionTreeRegressor(random_state=1148720136),\n",
       " DecisionTreeRegressor(random_state=304735399),\n",
       " DecisionTreeRegressor(random_state=1906207855),\n",
       " DecisionTreeRegressor(random_state=1311279426),\n",
       " DecisionTreeRegressor(random_state=1352332538),\n",
       " DecisionTreeRegressor(random_state=232981945),\n",
       " DecisionTreeRegressor(random_state=708664711),\n",
       " DecisionTreeRegressor(random_state=1731872076),\n",
       " DecisionTreeRegressor(random_state=827341768),\n",
       " DecisionTreeRegressor(random_state=1340855572)]"
      ]
     },
     "execution_count": 11,
     "metadata": {},
     "output_type": "execute_result"
    }
   ],
   "source": [
    "predictr.estimators_ # 10개의 estimators."
   ]
  },
  {
   "cell_type": "code",
   "execution_count": 13,
   "id": "2f4993ae-d142-480a-b614-87b4d83ae77f",
   "metadata": {
    "tags": []
   },
   "outputs": [
    {
     "data": {
      "image/png": "[encoded data removed]",
      "text/plain": [
       "<Figure size 1280x960 with 1 Axes>"
      ]
     },
     "metadata": {},
     "output_type": "display_data"
    }
   ],
   "source": [
    "sklearn.tree.plot_tree(\n",
    "    predictr.estimators_[4],\n",
    "    feature_names=X.columns.tolist(),\n",
    "    max_depth=1\n",
    ");\n",
    "fig = plt.gcf()\n",
    "fig.set_dpi(200)"
   ]
  },
  {
   "cell_type": "markdown",
   "id": "89809df0-54e9-4e25-8894-ffd3b6b2ddc0",
   "metadata": {},
   "source": [
    "`-` 5번째 estimator"
   ]
  },
  {
   "cell_type": "code",
   "execution_count": 33,
   "id": "27649e5b-3e77-49e4-a0bf-ff34843b58e7",
   "metadata": {},
   "outputs": [
    {
     "data": {
      "image/svg+xml": [
       "<?xml version=\"1.0\" encoding=\"UTF-8\" standalone=\"no\"?>\n",
       "<!DOCTYPE svg PUBLIC \"-//W3C//DTD SVG 1.1//EN\"\n",
       " \"http://www.w3.org/Graphics/SVG/1.1/DTD/svg11.dtd\">\n",
       "<!-- Generated by graphviz version 4.0.0 (20220529.1859)\n",
       " -->\n",
       "<!-- Title: Tree Pages: 1 -->\n",
       "<svg width=\"1016pt\" height=\"356pt\"\n",
       " viewBox=\"0.00 0.00 1016.00 356.00\" xmlns=\"http://www.w3.org/2000/svg\" xmlns:xlink=\"http://www.w3.org/1999/xlink\">\n",
       "<g id=\"graph0\" class=\"graph\" transform=\"scale(1 1) rotate(0) translate(4 352)\">\n",
       "<title>Tree</title>\n",
       "<polygon fill=\"white\" stroke=\"transparent\" points=\"-4,4 -4,-352 1012,-352 1012,4 -4,4\"/>\n",
       "<!-- 0 -->\n",
       "<g id=\"node1\" class=\"node\">\n",
       "<title>0</title>\n",
       "<path fill=\"#fae5d7\" stroke=\"black\" d=\"M614.5,-348C614.5,-348 391.5,-348 391.5,-348 385.5,-348 379.5,-342 379.5,-336 379.5,-336 379.5,-292 379.5,-292 379.5,-286 385.5,-280 391.5,-280 391.5,-280 614.5,-280 614.5,-280 620.5,-280 626.5,-286 626.5,-292 626.5,-292 626.5,-336 626.5,-336 626.5,-342 620.5,-348 614.5,-348\"/>\n",
       "<text text-anchor=\"middle\" x=\"503\" y=\"-332.8\" font-family=\"Helvetica,sans-Serif\" font-size=\"14.00\">smoker_yes &lt;= 0.5</text>\n",
       "<text text-anchor=\"middle\" x=\"503\" y=\"-317.8\" font-family=\"Helvetica,sans-Serif\" font-size=\"14.00\">squared_error = 149861577.016</text>\n",
       "<text text-anchor=\"middle\" x=\"503\" y=\"-302.8\" font-family=\"Helvetica,sans-Serif\" font-size=\"14.00\">samples = 844</text>\n",
       "<text text-anchor=\"middle\" x=\"503\" y=\"-287.8\" font-family=\"Helvetica,sans-Serif\" font-size=\"14.00\">value = 13580.484</text>\n",
       "</g>\n",
       "<!-- 1 -->\n",
       "<g id=\"node2\" class=\"node\">\n",
       "<title>1</title>\n",
       "<path fill=\"#fcf0e7\" stroke=\"black\" d=\"M480,-244C480,-244 266,-244 266,-244 260,-244 254,-238 254,-232 254,-232 254,-188 254,-188 254,-182 260,-176 266,-176 266,-176 480,-176 480,-176 486,-176 492,-182 492,-188 492,-188 492,-232 492,-232 492,-238 486,-244 480,-244\"/>\n",
       "<text text-anchor=\"middle\" x=\"373\" y=\"-228.8\" font-family=\"Helvetica,sans-Serif\" font-size=\"14.00\">age &lt;= 42.5</text>\n",
       "<text text-anchor=\"middle\" x=\"373\" y=\"-213.8\" font-family=\"Helvetica,sans-Serif\" font-size=\"14.00\">squared_error = 39858521.516</text>\n",
       "<text text-anchor=\"middle\" x=\"373\" y=\"-198.8\" font-family=\"Helvetica,sans-Serif\" font-size=\"14.00\">samples = 671</text>\n",
       "<text text-anchor=\"middle\" x=\"373\" y=\"-183.8\" font-family=\"Helvetica,sans-Serif\" font-size=\"14.00\">value = 8668.531</text>\n",
       "</g>\n",
       "<!-- 0&#45;&gt;1 -->\n",
       "<g id=\"edge1\" class=\"edge\">\n",
       "<title>0&#45;&gt;1</title>\n",
       "<path fill=\"none\" stroke=\"black\" d=\"M460.79,-279.88C448.87,-270.53 435.78,-260.26 423.43,-250.57\"/>\n",
       "<polygon fill=\"black\" stroke=\"black\" points=\"425.47,-247.72 415.44,-244.3 421.15,-253.23 425.47,-247.72\"/>\n",
       "<text text-anchor=\"middle\" x=\"418.44\" y=\"-265.42\" font-family=\"Helvetica,sans-Serif\" font-size=\"14.00\">True</text>\n",
       "</g>\n",
       "<!-- 1340 -->\n",
       "<g id=\"node9\" class=\"node\">\n",
       "<title>1340</title>\n",
       "<path fill=\"#f2bf9a\" stroke=\"black\" d=\"M745.5,-244C745.5,-244 522.5,-244 522.5,-244 516.5,-244 510.5,-238 510.5,-232 510.5,-232 510.5,-188 510.5,-188 510.5,-182 516.5,-176 522.5,-176 522.5,-176 745.5,-176 745.5,-176 751.5,-176 757.5,-182 757.5,-188 757.5,-188 757.5,-232 757.5,-232 757.5,-238 751.5,-244 745.5,-244\"/>\n",
       "<text text-anchor=\"middle\" x=\"634\" y=\"-228.8\" font-family=\"Helvetica,sans-Serif\" font-size=\"14.00\">bmi &lt;= 30.01</text>\n",
       "<text text-anchor=\"middle\" x=\"634\" y=\"-213.8\" font-family=\"Helvetica,sans-Serif\" font-size=\"14.00\">squared_error = 124813033.426</text>\n",
       "<text text-anchor=\"middle\" x=\"634\" y=\"-198.8\" font-family=\"Helvetica,sans-Serif\" font-size=\"14.00\">samples = 173</text>\n",
       "<text text-anchor=\"middle\" x=\"634\" y=\"-183.8\" font-family=\"Helvetica,sans-Serif\" font-size=\"14.00\">value = 32394.858</text>\n",
       "</g>\n",
       "<!-- 0&#45;&gt;1340 -->\n",
       "<g id=\"edge8\" class=\"edge\">\n",
       "<title>0&#45;&gt;1340</title>\n",
       "<path fill=\"none\" stroke=\"black\" d=\"M545.53,-279.88C557.54,-270.53 570.74,-260.26 583.18,-250.57\"/>\n",
       "<polygon fill=\"black\" stroke=\"black\" points=\"585.49,-253.2 591.23,-244.3 581.19,-247.68 585.49,-253.2\"/>\n",
       "<text text-anchor=\"middle\" x=\"588.15\" y=\"-265.41\" font-family=\"Helvetica,sans-Serif\" font-size=\"14.00\">False</text>\n",
       "</g>\n",
       "<!-- 2 -->\n",
       "<g id=\"node3\" class=\"node\">\n",
       "<title>2</title>\n",
       "<path fill=\"#fdf6f1\" stroke=\"black\" d=\"M226,-140C226,-140 12,-140 12,-140 6,-140 0,-134 0,-128 0,-128 0,-84 0,-84 0,-78 6,-72 12,-72 12,-72 226,-72 226,-72 232,-72 238,-78 238,-84 238,-84 238,-128 238,-128 238,-134 232,-140 226,-140\"/>\n",
       "<text text-anchor=\"middle\" x=\"119\" y=\"-124.8\" font-family=\"Helvetica,sans-Serif\" font-size=\"14.00\">age &lt;= 22.5</text>\n",
       "<text text-anchor=\"middle\" x=\"119\" y=\"-109.8\" font-family=\"Helvetica,sans-Serif\" font-size=\"14.00\">squared_error = 22211943.308</text>\n",
       "<text text-anchor=\"middle\" x=\"119\" y=\"-94.8\" font-family=\"Helvetica,sans-Serif\" font-size=\"14.00\">samples = 380</text>\n",
       "<text text-anchor=\"middle\" x=\"119\" y=\"-79.8\" font-family=\"Helvetica,sans-Serif\" font-size=\"14.00\">value = 5391.404</text>\n",
       "</g>\n",
       "<!-- 1&#45;&gt;2 -->\n",
       "<g id=\"edge2\" class=\"edge\">\n",
       "<title>1&#45;&gt;2</title>\n",
       "<path fill=\"none\" stroke=\"black\" d=\"M290.53,-175.88C265.12,-165.68 236.98,-154.38 210.97,-143.93\"/>\n",
       "<polygon fill=\"black\" stroke=\"black\" points=\"212.07,-140.6 201.49,-140.12 209.46,-147.1 212.07,-140.6\"/>\n",
       "</g>\n",
       "<!-- 759 -->\n",
       "<g id=\"node6\" class=\"node\">\n",
       "<title>759</title>\n",
       "<path fill=\"#fae7d9\" stroke=\"black\" d=\"M482,-140C482,-140 268,-140 268,-140 262,-140 256,-134 256,-128 256,-128 256,-84 256,-84 256,-78 262,-72 268,-72 268,-72 482,-72 482,-72 488,-72 494,-78 494,-84 494,-84 494,-128 494,-128 494,-134 488,-140 482,-140\"/>\n",
       "<text text-anchor=\"middle\" x=\"375\" y=\"-124.8\" font-family=\"Helvetica,sans-Serif\" font-size=\"14.00\">age &lt;= 58.5</text>\n",
       "<text text-anchor=\"middle\" x=\"375\" y=\"-109.8\" font-family=\"Helvetica,sans-Serif\" font-size=\"14.00\">squared_error = 31658735.182</text>\n",
       "<text text-anchor=\"middle\" x=\"375\" y=\"-94.8\" font-family=\"Helvetica,sans-Serif\" font-size=\"14.00\">samples = 291</text>\n",
       "<text text-anchor=\"middle\" x=\"375\" y=\"-79.8\" font-family=\"Helvetica,sans-Serif\" font-size=\"14.00\">value = 12773.637</text>\n",
       "</g>\n",
       "<!-- 1&#45;&gt;759 -->\n",
       "<g id=\"edge5\" class=\"edge\">\n",
       "<title>1&#45;&gt;759</title>\n",
       "<path fill=\"none\" stroke=\"black\" d=\"M373.65,-175.88C373.81,-167.78 373.98,-158.98 374.15,-150.47\"/>\n",
       "<polygon fill=\"black\" stroke=\"black\" points=\"377.65,-150.37 374.35,-140.3 370.65,-150.23 377.65,-150.37\"/>\n",
       "</g>\n",
       "<!-- 3 -->\n",
       "<g id=\"node4\" class=\"node\">\n",
       "<title>3</title>\n",
       "<path fill=\"#c0c0c0\" stroke=\"black\" d=\"M98,-36C98,-36 68,-36 68,-36 62,-36 56,-30 56,-24 56,-24 56,-12 56,-12 56,-6 62,0 68,0 68,0 98,0 98,0 104,0 110,-6 110,-12 110,-12 110,-24 110,-24 110,-30 104,-36 98,-36\"/>\n",
       "<text text-anchor=\"middle\" x=\"83\" y=\"-14.3\" font-family=\"Helvetica,sans-Serif\" font-size=\"14.00\">(...)</text>\n",
       "</g>\n",
       "<!-- 2&#45;&gt;3 -->\n",
       "<g id=\"edge3\" class=\"edge\">\n",
       "<title>2&#45;&gt;3</title>\n",
       "<path fill=\"none\" stroke=\"black\" d=\"M105.18,-72C101.54,-63.28 97.64,-53.98 94.16,-45.65\"/>\n",
       "<polygon fill=\"black\" stroke=\"black\" points=\"97.38,-44.28 90.29,-36.4 90.92,-46.98 97.38,-44.28\"/>\n",
       "</g>\n",
       "<!-- 216 -->\n",
       "<g id=\"node5\" class=\"node\">\n",
       "<title>216</title>\n",
       "<path fill=\"#c0c0c0\" stroke=\"black\" d=\"M170,-36C170,-36 140,-36 140,-36 134,-36 128,-30 128,-24 128,-24 128,-12 128,-12 128,-6 134,0 140,0 140,0 170,0 170,0 176,0 182,-6 182,-12 182,-12 182,-24 182,-24 182,-30 176,-36 170,-36\"/>\n",
       "<text text-anchor=\"middle\" x=\"155\" y=\"-14.3\" font-family=\"Helvetica,sans-Serif\" font-size=\"14.00\">(...)</text>\n",
       "</g>\n",
       "<!-- 2&#45;&gt;216 -->\n",
       "<g id=\"edge4\" class=\"edge\">\n",
       "<title>2&#45;&gt;216</title>\n",
       "<path fill=\"none\" stroke=\"black\" d=\"M132.82,-72C136.46,-63.28 140.36,-53.98 143.84,-45.65\"/>\n",
       "<polygon fill=\"black\" stroke=\"black\" points=\"147.08,-46.98 147.71,-36.4 140.62,-44.28 147.08,-46.98\"/>\n",
       "</g>\n",
       "<!-- 760 -->\n",
       "<g id=\"node7\" class=\"node\">\n",
       "<title>760</title>\n",
       "<path fill=\"#c0c0c0\" stroke=\"black\" d=\"M354,-36C354,-36 324,-36 324,-36 318,-36 312,-30 312,-24 312,-24 312,-12 312,-12 312,-6 318,0 324,0 324,0 354,0 354,0 360,0 366,-6 366,-12 366,-12 366,-24 366,-24 366,-30 360,-36 354,-36\"/>\n",
       "<text text-anchor=\"middle\" x=\"339\" y=\"-14.3\" font-family=\"Helvetica,sans-Serif\" font-size=\"14.00\">(...)</text>\n",
       "</g>\n",
       "<!-- 759&#45;&gt;760 -->\n",
       "<g id=\"edge6\" class=\"edge\">\n",
       "<title>759&#45;&gt;760</title>\n",
       "<path fill=\"none\" stroke=\"black\" d=\"M361.18,-72C357.54,-63.28 353.64,-53.98 350.16,-45.65\"/>\n",
       "<polygon fill=\"black\" stroke=\"black\" points=\"353.38,-44.28 346.29,-36.4 346.92,-46.98 353.38,-44.28\"/>\n",
       "</g>\n",
       "<!-- 1205 -->\n",
       "<g id=\"node8\" class=\"node\">\n",
       "<title>1205</title>\n",
       "<path fill=\"#c0c0c0\" stroke=\"black\" d=\"M426,-36C426,-36 396,-36 396,-36 390,-36 384,-30 384,-24 384,-24 384,-12 384,-12 384,-6 390,0 396,0 396,0 426,0 426,0 432,0 438,-6 438,-12 438,-12 438,-24 438,-24 438,-30 432,-36 426,-36\"/>\n",
       "<text text-anchor=\"middle\" x=\"411\" y=\"-14.3\" font-family=\"Helvetica,sans-Serif\" font-size=\"14.00\">(...)</text>\n",
       "</g>\n",
       "<!-- 759&#45;&gt;1205 -->\n",
       "<g id=\"edge7\" class=\"edge\">\n",
       "<title>759&#45;&gt;1205</title>\n",
       "<path fill=\"none\" stroke=\"black\" d=\"M388.82,-72C392.46,-63.28 396.36,-53.98 399.84,-45.65\"/>\n",
       "<polygon fill=\"black\" stroke=\"black\" points=\"403.08,-46.98 403.71,-36.4 396.62,-44.28 403.08,-46.98\"/>\n",
       "</g>\n",
       "<!-- 1341 -->\n",
       "<g id=\"node10\" class=\"node\">\n",
       "<title>1341</title>\n",
       "<path fill=\"#f6d4bc\" stroke=\"black\" d=\"M740,-140C740,-140 526,-140 526,-140 520,-140 514,-134 514,-128 514,-128 514,-84 514,-84 514,-78 520,-72 526,-72 526,-72 740,-72 740,-72 746,-72 752,-78 752,-84 752,-84 752,-128 752,-128 752,-134 746,-140 740,-140\"/>\n",
       "<text text-anchor=\"middle\" x=\"633\" y=\"-124.8\" font-family=\"Helvetica,sans-Serif\" font-size=\"14.00\">age &lt;= 39.5</text>\n",
       "<text text-anchor=\"middle\" x=\"633\" y=\"-109.8\" font-family=\"Helvetica,sans-Serif\" font-size=\"14.00\">squared_error = 28518604.713</text>\n",
       "<text text-anchor=\"middle\" x=\"633\" y=\"-94.8\" font-family=\"Helvetica,sans-Serif\" font-size=\"14.00\">samples = 77</text>\n",
       "<text text-anchor=\"middle\" x=\"633\" y=\"-79.8\" font-family=\"Helvetica,sans-Serif\" font-size=\"14.00\">value = 21955.05</text>\n",
       "</g>\n",
       "<!-- 1340&#45;&gt;1341 -->\n",
       "<g id=\"edge9\" class=\"edge\">\n",
       "<title>1340&#45;&gt;1341</title>\n",
       "<path fill=\"none\" stroke=\"black\" d=\"M633.68,-175.88C633.6,-167.78 633.51,-158.98 633.43,-150.47\"/>\n",
       "<polygon fill=\"black\" stroke=\"black\" points=\"636.92,-150.26 633.33,-140.3 629.92,-150.33 636.92,-150.26\"/>\n",
       "</g>\n",
       "<!-- 1494 -->\n",
       "<g id=\"node13\" class=\"node\">\n",
       "<title>1494</title>\n",
       "<path fill=\"#eeac7d\" stroke=\"black\" d=\"M996,-140C996,-140 782,-140 782,-140 776,-140 770,-134 770,-128 770,-128 770,-84 770,-84 770,-78 776,-72 782,-72 782,-72 996,-72 996,-72 1002,-72 1008,-78 1008,-84 1008,-84 1008,-128 1008,-128 1008,-134 1002,-140 996,-140\"/>\n",
       "<text text-anchor=\"middle\" x=\"889\" y=\"-124.8\" font-family=\"Helvetica,sans-Serif\" font-size=\"14.00\">age &lt;= 41.5</text>\n",
       "<text text-anchor=\"middle\" x=\"889\" y=\"-109.8\" font-family=\"Helvetica,sans-Serif\" font-size=\"14.00\">squared_error = 30945626.999</text>\n",
       "<text text-anchor=\"middle\" x=\"889\" y=\"-94.8\" font-family=\"Helvetica,sans-Serif\" font-size=\"14.00\">samples = 96</text>\n",
       "<text text-anchor=\"middle\" x=\"889\" y=\"-79.8\" font-family=\"Helvetica,sans-Serif\" font-size=\"14.00\">value = 41494.42</text>\n",
       "</g>\n",
       "<!-- 1340&#45;&gt;1494 -->\n",
       "<g id=\"edge12\" class=\"edge\">\n",
       "<title>1340&#45;&gt;1494</title>\n",
       "<path fill=\"none\" stroke=\"black\" d=\"M716.79,-175.88C742.31,-165.68 770.56,-154.38 796.67,-143.93\"/>\n",
       "<polygon fill=\"black\" stroke=\"black\" points=\"798.2,-147.09 806.19,-140.12 795.6,-140.59 798.2,-147.09\"/>\n",
       "</g>\n",
       "<!-- 1342 -->\n",
       "<g id=\"node11\" class=\"node\">\n",
       "<title>1342</title>\n",
       "<path fill=\"#c0c0c0\" stroke=\"black\" d=\"M612,-36C612,-36 582,-36 582,-36 576,-36 570,-30 570,-24 570,-24 570,-12 570,-12 570,-6 576,0 582,0 582,0 612,0 612,0 618,0 624,-6 624,-12 624,-12 624,-24 624,-24 624,-30 618,-36 612,-36\"/>\n",
       "<text text-anchor=\"middle\" x=\"597\" y=\"-14.3\" font-family=\"Helvetica,sans-Serif\" font-size=\"14.00\">(...)</text>\n",
       "</g>\n",
       "<!-- 1341&#45;&gt;1342 -->\n",
       "<g id=\"edge10\" class=\"edge\">\n",
       "<title>1341&#45;&gt;1342</title>\n",
       "<path fill=\"none\" stroke=\"black\" d=\"M619.18,-72C615.54,-63.28 611.64,-53.98 608.16,-45.65\"/>\n",
       "<polygon fill=\"black\" stroke=\"black\" points=\"611.38,-44.28 604.29,-36.4 604.92,-46.98 611.38,-44.28\"/>\n",
       "</g>\n",
       "<!-- 1427 -->\n",
       "<g id=\"node12\" class=\"node\">\n",
       "<title>1427</title>\n",
       "<path fill=\"#c0c0c0\" stroke=\"black\" d=\"M684,-36C684,-36 654,-36 654,-36 648,-36 642,-30 642,-24 642,-24 642,-12 642,-12 642,-6 648,0 654,0 654,0 684,0 684,0 690,0 696,-6 696,-12 696,-12 696,-24 696,-24 696,-30 690,-36 684,-36\"/>\n",
       "<text text-anchor=\"middle\" x=\"669\" y=\"-14.3\" font-family=\"Helvetica,sans-Serif\" font-size=\"14.00\">(...)</text>\n",
       "</g>\n",
       "<!-- 1341&#45;&gt;1427 -->\n",
       "<g id=\"edge11\" class=\"edge\">\n",
       "<title>1341&#45;&gt;1427</title>\n",
       "<path fill=\"none\" stroke=\"black\" d=\"M646.82,-72C650.46,-63.28 654.36,-53.98 657.84,-45.65\"/>\n",
       "<polygon fill=\"black\" stroke=\"black\" points=\"661.08,-46.98 661.71,-36.4 654.62,-44.28 661.08,-46.98\"/>\n",
       "</g>\n",
       "<!-- 1495 -->\n",
       "<g id=\"node14\" class=\"node\">\n",
       "<title>1495</title>\n",
       "<path fill=\"#c0c0c0\" stroke=\"black\" d=\"M868,-36C868,-36 838,-36 838,-36 832,-36 826,-30 826,-24 826,-24 826,-12 826,-12 826,-6 832,0 838,0 838,0 868,0 868,0 874,0 880,-6 880,-12 880,-12 880,-24 880,-24 880,-30 874,-36 868,-36\"/>\n",
       "<text text-anchor=\"middle\" x=\"853\" y=\"-14.3\" font-family=\"Helvetica,sans-Serif\" font-size=\"14.00\">(...)</text>\n",
       "</g>\n",
       "<!-- 1494&#45;&gt;1495 -->\n",
       "<g id=\"edge13\" class=\"edge\">\n",
       "<title>1494&#45;&gt;1495</title>\n",
       "<path fill=\"none\" stroke=\"black\" d=\"M875.18,-72C871.54,-63.28 867.64,-53.98 864.16,-45.65\"/>\n",
       "<polygon fill=\"black\" stroke=\"black\" points=\"867.38,-44.28 860.29,-36.4 860.92,-46.98 867.38,-44.28\"/>\n",
       "</g>\n",
       "<!-- 1588 -->\n",
       "<g id=\"node15\" class=\"node\">\n",
       "<title>1588</title>\n",
       "<path fill=\"#c0c0c0\" stroke=\"black\" d=\"M940,-36C940,-36 910,-36 910,-36 904,-36 898,-30 898,-24 898,-24 898,-12 898,-12 898,-6 904,0 910,0 910,0 940,0 940,0 946,0 952,-6 952,-12 952,-12 952,-24 952,-24 952,-30 946,-36 940,-36\"/>\n",
       "<text text-anchor=\"middle\" x=\"925\" y=\"-14.3\" font-family=\"Helvetica,sans-Serif\" font-size=\"14.00\">(...)</text>\n",
       "</g>\n",
       "<!-- 1494&#45;&gt;1588 -->\n",
       "<g id=\"edge14\" class=\"edge\">\n",
       "<title>1494&#45;&gt;1588</title>\n",
       "<path fill=\"none\" stroke=\"black\" d=\"M902.82,-72C906.46,-63.28 910.36,-53.98 913.84,-45.65\"/>\n",
       "<polygon fill=\"black\" stroke=\"black\" points=\"917.08,-46.98 917.71,-36.4 910.62,-44.28 917.08,-46.98\"/>\n",
       "</g>\n",
       "</g>\n",
       "</svg>\n"
      ],
      "text/plain": [
       "<graphviz.sources.Source at 0x7f8ed7eef100>"
      ]
     },
     "execution_count": 33,
     "metadata": {},
     "output_type": "execute_result"
    }
   ],
   "source": [
    "import graphviz\n",
    "from sklearn.tree import export_graphviz\n",
    "\n",
    "# export_graphviz 함수를 이용해서 dot 형식의 트리그래프 생성\n",
    "dot_data = export_graphviz(predictr.estimators_[4], feature_names=X.columns.tolist(), filled=True, rounded=True, max_depth=2)\n",
    "graphviz.Source(dot_data)"
   ]
  },
  {
   "cell_type": "markdown",
   "id": "d2e24c1b-0d0b-4850-a4ce-e4f1fdc5fb1d",
   "metadata": {},
   "source": [
    "`-` 7번째 estimator"
   ]
  },
  {
   "cell_type": "code",
   "execution_count": 32,
   "id": "a91943af-0a0d-4a95-b801-fb33f246de4e",
   "metadata": {},
   "outputs": [
    {
     "data": {
      "image/svg+xml": [
       "<?xml version=\"1.0\" encoding=\"UTF-8\" standalone=\"no\"?>\n",
       "<!DOCTYPE svg PUBLIC \"-//W3C//DTD SVG 1.1//EN\"\n",
       " \"http://www.w3.org/Graphics/SVG/1.1/DTD/svg11.dtd\">\n",
       "<!-- Generated by graphviz version 4.0.0 (20220529.1859)\n",
       " -->\n",
       "<!-- Title: Tree Pages: 1 -->\n",
       "<svg width=\"1014pt\" height=\"356pt\"\n",
       " viewBox=\"0.00 0.00 1014.00 356.00\" xmlns=\"http://www.w3.org/2000/svg\" xmlns:xlink=\"http://www.w3.org/1999/xlink\">\n",
       "<g id=\"graph0\" class=\"graph\" transform=\"scale(1 1) rotate(0) translate(4 352)\">\n",
       "<title>Tree</title>\n",
       "<polygon fill=\"white\" stroke=\"transparent\" points=\"-4,4 -4,-352 1010,-352 1010,4 -4,4\"/>\n",
       "<!-- 0 -->\n",
       "<g id=\"node1\" class=\"node\">\n",
       "<title>0</title>\n",
       "<path fill=\"#fae5d6\" stroke=\"black\" d=\"M614.5,-348C614.5,-348 391.5,-348 391.5,-348 385.5,-348 379.5,-342 379.5,-336 379.5,-336 379.5,-292 379.5,-292 379.5,-286 385.5,-280 391.5,-280 391.5,-280 614.5,-280 614.5,-280 620.5,-280 626.5,-286 626.5,-292 626.5,-292 626.5,-336 626.5,-336 626.5,-342 620.5,-348 614.5,-348\"/>\n",
       "<text text-anchor=\"middle\" x=\"503\" y=\"-332.8\" font-family=\"Helvetica,sans-Serif\" font-size=\"14.00\">smoker_yes &lt;= 0.5</text>\n",
       "<text text-anchor=\"middle\" x=\"503\" y=\"-317.8\" font-family=\"Helvetica,sans-Serif\" font-size=\"14.00\">squared_error = 145351042.381</text>\n",
       "<text text-anchor=\"middle\" x=\"503\" y=\"-302.8\" font-family=\"Helvetica,sans-Serif\" font-size=\"14.00\">samples = 847</text>\n",
       "<text text-anchor=\"middle\" x=\"503\" y=\"-287.8\" font-family=\"Helvetica,sans-Serif\" font-size=\"14.00\">value = 13203.602</text>\n",
       "</g>\n",
       "<!-- 1 -->\n",
       "<g id=\"node2\" class=\"node\">\n",
       "<title>1</title>\n",
       "<path fill=\"#fcefe6\" stroke=\"black\" d=\"M477.5,-244C477.5,-244 272.5,-244 272.5,-244 266.5,-244 260.5,-238 260.5,-232 260.5,-232 260.5,-188 260.5,-188 260.5,-182 266.5,-176 272.5,-176 272.5,-176 477.5,-176 477.5,-176 483.5,-176 489.5,-182 489.5,-188 489.5,-188 489.5,-232 489.5,-232 489.5,-238 483.5,-244 477.5,-244\"/>\n",
       "<text text-anchor=\"middle\" x=\"375\" y=\"-228.8\" font-family=\"Helvetica,sans-Serif\" font-size=\"14.00\">age &lt;= 46.5</text>\n",
       "<text text-anchor=\"middle\" x=\"375\" y=\"-213.8\" font-family=\"Helvetica,sans-Serif\" font-size=\"14.00\">squared_error = 38521670.96</text>\n",
       "<text text-anchor=\"middle\" x=\"375\" y=\"-198.8\" font-family=\"Helvetica,sans-Serif\" font-size=\"14.00\">samples = 677</text>\n",
       "<text text-anchor=\"middle\" x=\"375\" y=\"-183.8\" font-family=\"Helvetica,sans-Serif\" font-size=\"14.00\">value = 8429.512</text>\n",
       "</g>\n",
       "<!-- 0&#45;&gt;1 -->\n",
       "<g id=\"edge1\" class=\"edge\">\n",
       "<title>0&#45;&gt;1</title>\n",
       "<path fill=\"none\" stroke=\"black\" d=\"M461.44,-279.88C449.71,-270.53 436.82,-260.26 424.65,-250.57\"/>\n",
       "<polygon fill=\"black\" stroke=\"black\" points=\"426.79,-247.79 416.79,-244.3 422.43,-253.27 426.79,-247.79\"/>\n",
       "<text text-anchor=\"middle\" x=\"419.6\" y=\"-265.44\" font-family=\"Helvetica,sans-Serif\" font-size=\"14.00\">True</text>\n",
       "</g>\n",
       "<!-- 1354 -->\n",
       "<g id=\"node9\" class=\"node\">\n",
       "<title>1354</title>\n",
       "<path fill=\"#f2bf9a\" stroke=\"black\" d=\"M742.5,-244C742.5,-244 519.5,-244 519.5,-244 513.5,-244 507.5,-238 507.5,-232 507.5,-232 507.5,-188 507.5,-188 507.5,-182 513.5,-176 519.5,-176 519.5,-176 742.5,-176 742.5,-176 748.5,-176 754.5,-182 754.5,-188 754.5,-188 754.5,-232 754.5,-232 754.5,-238 748.5,-244 742.5,-244\"/>\n",
       "<text text-anchor=\"middle\" x=\"631\" y=\"-228.8\" font-family=\"Helvetica,sans-Serif\" font-size=\"14.00\">bmi &lt;= 30.1</text>\n",
       "<text text-anchor=\"middle\" x=\"631\" y=\"-213.8\" font-family=\"Helvetica,sans-Serif\" font-size=\"14.00\">squared_error = 138971691.393</text>\n",
       "<text text-anchor=\"middle\" x=\"631\" y=\"-198.8\" font-family=\"Helvetica,sans-Serif\" font-size=\"14.00\">samples = 170</text>\n",
       "<text text-anchor=\"middle\" x=\"631\" y=\"-183.8\" font-family=\"Helvetica,sans-Serif\" font-size=\"14.00\">value = 31161.655</text>\n",
       "</g>\n",
       "<!-- 0&#45;&gt;1354 -->\n",
       "<g id=\"edge8\" class=\"edge\">\n",
       "<title>0&#45;&gt;1354</title>\n",
       "<path fill=\"none\" stroke=\"black\" d=\"M544.56,-279.88C556.29,-270.53 569.18,-260.26 581.35,-250.57\"/>\n",
       "<polygon fill=\"black\" stroke=\"black\" points=\"583.57,-253.27 589.21,-244.3 579.21,-247.79 583.57,-253.27\"/>\n",
       "<text text-anchor=\"middle\" x=\"586.4\" y=\"-265.44\" font-family=\"Helvetica,sans-Serif\" font-size=\"14.00\">False</text>\n",
       "</g>\n",
       "<!-- 2 -->\n",
       "<g id=\"node3\" class=\"node\">\n",
       "<title>2</title>\n",
       "<path fill=\"#fdf6f0\" stroke=\"black\" d=\"M226,-140C226,-140 12,-140 12,-140 6,-140 0,-134 0,-128 0,-128 0,-84 0,-84 0,-78 6,-72 12,-72 12,-72 226,-72 226,-72 232,-72 238,-78 238,-84 238,-84 238,-128 238,-128 238,-134 232,-140 226,-140\"/>\n",
       "<text text-anchor=\"middle\" x=\"119\" y=\"-124.8\" font-family=\"Helvetica,sans-Serif\" font-size=\"14.00\">age &lt;= 32.5</text>\n",
       "<text text-anchor=\"middle\" x=\"119\" y=\"-109.8\" font-family=\"Helvetica,sans-Serif\" font-size=\"14.00\">squared_error = 19354853.064</text>\n",
       "<text text-anchor=\"middle\" x=\"119\" y=\"-94.8\" font-family=\"Helvetica,sans-Serif\" font-size=\"14.00\">samples = 433</text>\n",
       "<text text-anchor=\"middle\" x=\"119\" y=\"-79.8\" font-family=\"Helvetica,sans-Serif\" font-size=\"14.00\">value = 5545.724</text>\n",
       "</g>\n",
       "<!-- 1&#45;&gt;2 -->\n",
       "<g id=\"edge2\" class=\"edge\">\n",
       "<title>1&#45;&gt;2</title>\n",
       "<path fill=\"none\" stroke=\"black\" d=\"M291.88,-175.88C266.27,-165.68 237.91,-154.38 211.69,-143.93\"/>\n",
       "<polygon fill=\"black\" stroke=\"black\" points=\"212.72,-140.57 202.14,-140.12 210.13,-147.08 212.72,-140.57\"/>\n",
       "</g>\n",
       "<!-- 867 -->\n",
       "<g id=\"node6\" class=\"node\">\n",
       "<title>867</title>\n",
       "<path fill=\"#fae5d6\" stroke=\"black\" d=\"M482,-140C482,-140 268,-140 268,-140 262,-140 256,-134 256,-128 256,-128 256,-84 256,-84 256,-78 262,-72 268,-72 268,-72 482,-72 482,-72 488,-72 494,-78 494,-84 494,-84 494,-128 494,-128 494,-134 488,-140 482,-140\"/>\n",
       "<text text-anchor=\"middle\" x=\"375\" y=\"-124.8\" font-family=\"Helvetica,sans-Serif\" font-size=\"14.00\">age &lt;= 51.5</text>\n",
       "<text text-anchor=\"middle\" x=\"375\" y=\"-109.8\" font-family=\"Helvetica,sans-Serif\" font-size=\"14.00\">squared_error = 32631168.499</text>\n",
       "<text text-anchor=\"middle\" x=\"375\" y=\"-94.8\" font-family=\"Helvetica,sans-Serif\" font-size=\"14.00\">samples = 244</text>\n",
       "<text text-anchor=\"middle\" x=\"375\" y=\"-79.8\" font-family=\"Helvetica,sans-Serif\" font-size=\"14.00\">value = 13381.621</text>\n",
       "</g>\n",
       "<!-- 1&#45;&gt;867 -->\n",
       "<g id=\"edge5\" class=\"edge\">\n",
       "<title>1&#45;&gt;867</title>\n",
       "<path fill=\"none\" stroke=\"black\" d=\"M375,-175.88C375,-167.78 375,-158.98 375,-150.47\"/>\n",
       "<polygon fill=\"black\" stroke=\"black\" points=\"378.5,-150.3 375,-140.3 371.5,-150.3 378.5,-150.3\"/>\n",
       "</g>\n",
       "<!-- 3 -->\n",
       "<g id=\"node4\" class=\"node\">\n",
       "<title>3</title>\n",
       "<path fill=\"#c0c0c0\" stroke=\"black\" d=\"M98,-36C98,-36 68,-36 68,-36 62,-36 56,-30 56,-24 56,-24 56,-12 56,-12 56,-6 62,0 68,0 68,0 98,0 98,0 104,0 110,-6 110,-12 110,-12 110,-24 110,-24 110,-30 104,-36 98,-36\"/>\n",
       "<text text-anchor=\"middle\" x=\"83\" y=\"-14.3\" font-family=\"Helvetica,sans-Serif\" font-size=\"14.00\">(...)</text>\n",
       "</g>\n",
       "<!-- 2&#45;&gt;3 -->\n",
       "<g id=\"edge3\" class=\"edge\">\n",
       "<title>2&#45;&gt;3</title>\n",
       "<path fill=\"none\" stroke=\"black\" d=\"M105.18,-72C101.54,-63.28 97.64,-53.98 94.16,-45.65\"/>\n",
       "<polygon fill=\"black\" stroke=\"black\" points=\"97.38,-44.28 90.29,-36.4 90.92,-46.98 97.38,-44.28\"/>\n",
       "</g>\n",
       "<!-- 506 -->\n",
       "<g id=\"node5\" class=\"node\">\n",
       "<title>506</title>\n",
       "<path fill=\"#c0c0c0\" stroke=\"black\" d=\"M170,-36C170,-36 140,-36 140,-36 134,-36 128,-30 128,-24 128,-24 128,-12 128,-12 128,-6 134,0 140,0 140,0 170,0 170,0 176,0 182,-6 182,-12 182,-12 182,-24 182,-24 182,-30 176,-36 170,-36\"/>\n",
       "<text text-anchor=\"middle\" x=\"155\" y=\"-14.3\" font-family=\"Helvetica,sans-Serif\" font-size=\"14.00\">(...)</text>\n",
       "</g>\n",
       "<!-- 2&#45;&gt;506 -->\n",
       "<g id=\"edge4\" class=\"edge\">\n",
       "<title>2&#45;&gt;506</title>\n",
       "<path fill=\"none\" stroke=\"black\" d=\"M132.82,-72C136.46,-63.28 140.36,-53.98 143.84,-45.65\"/>\n",
       "<polygon fill=\"black\" stroke=\"black\" points=\"147.08,-46.98 147.71,-36.4 140.62,-44.28 147.08,-46.98\"/>\n",
       "</g>\n",
       "<!-- 868 -->\n",
       "<g id=\"node7\" class=\"node\">\n",
       "<title>868</title>\n",
       "<path fill=\"#c0c0c0\" stroke=\"black\" d=\"M354,-36C354,-36 324,-36 324,-36 318,-36 312,-30 312,-24 312,-24 312,-12 312,-12 312,-6 318,0 324,0 324,0 354,0 354,0 360,0 366,-6 366,-12 366,-12 366,-24 366,-24 366,-30 360,-36 354,-36\"/>\n",
       "<text text-anchor=\"middle\" x=\"339\" y=\"-14.3\" font-family=\"Helvetica,sans-Serif\" font-size=\"14.00\">(...)</text>\n",
       "</g>\n",
       "<!-- 867&#45;&gt;868 -->\n",
       "<g id=\"edge6\" class=\"edge\">\n",
       "<title>867&#45;&gt;868</title>\n",
       "<path fill=\"none\" stroke=\"black\" d=\"M361.18,-72C357.54,-63.28 353.64,-53.98 350.16,-45.65\"/>\n",
       "<polygon fill=\"black\" stroke=\"black\" points=\"353.38,-44.28 346.29,-36.4 346.92,-46.98 353.38,-44.28\"/>\n",
       "</g>\n",
       "<!-- 1009 -->\n",
       "<g id=\"node8\" class=\"node\">\n",
       "<title>1009</title>\n",
       "<path fill=\"#c0c0c0\" stroke=\"black\" d=\"M426,-36C426,-36 396,-36 396,-36 390,-36 384,-30 384,-24 384,-24 384,-12 384,-12 384,-6 390,0 396,0 396,0 426,0 426,0 432,0 438,-6 438,-12 438,-12 438,-24 438,-24 438,-30 432,-36 426,-36\"/>\n",
       "<text text-anchor=\"middle\" x=\"411\" y=\"-14.3\" font-family=\"Helvetica,sans-Serif\" font-size=\"14.00\">(...)</text>\n",
       "</g>\n",
       "<!-- 867&#45;&gt;1009 -->\n",
       "<g id=\"edge7\" class=\"edge\">\n",
       "<title>867&#45;&gt;1009</title>\n",
       "<path fill=\"none\" stroke=\"black\" d=\"M388.82,-72C392.46,-63.28 396.36,-53.98 399.84,-45.65\"/>\n",
       "<polygon fill=\"black\" stroke=\"black\" points=\"403.08,-46.98 403.71,-36.4 396.62,-44.28 403.08,-46.98\"/>\n",
       "</g>\n",
       "<!-- 1355 -->\n",
       "<g id=\"node10\" class=\"node\">\n",
       "<title>1355</title>\n",
       "<path fill=\"#f6d5be\" stroke=\"black\" d=\"M738,-140C738,-140 524,-140 524,-140 518,-140 512,-134 512,-128 512,-128 512,-84 512,-84 512,-78 518,-72 524,-72 524,-72 738,-72 738,-72 744,-72 750,-78 750,-84 750,-84 750,-128 750,-128 750,-134 744,-140 738,-140\"/>\n",
       "<text text-anchor=\"middle\" x=\"631\" y=\"-124.8\" font-family=\"Helvetica,sans-Serif\" font-size=\"14.00\">age &lt;= 41.0</text>\n",
       "<text text-anchor=\"middle\" x=\"631\" y=\"-109.8\" font-family=\"Helvetica,sans-Serif\" font-size=\"14.00\">squared_error = 24873769.906</text>\n",
       "<text text-anchor=\"middle\" x=\"631\" y=\"-94.8\" font-family=\"Helvetica,sans-Serif\" font-size=\"14.00\">samples = 81</text>\n",
       "<text text-anchor=\"middle\" x=\"631\" y=\"-79.8\" font-family=\"Helvetica,sans-Serif\" font-size=\"14.00\">value = 20572.761</text>\n",
       "</g>\n",
       "<!-- 1354&#45;&gt;1355 -->\n",
       "<g id=\"edge9\" class=\"edge\">\n",
       "<title>1354&#45;&gt;1355</title>\n",
       "<path fill=\"none\" stroke=\"black\" d=\"M631,-175.88C631,-167.78 631,-158.98 631,-150.47\"/>\n",
       "<polygon fill=\"black\" stroke=\"black\" points=\"634.5,-150.3 631,-140.3 627.5,-150.3 634.5,-150.3\"/>\n",
       "</g>\n",
       "<!-- 1516 -->\n",
       "<g id=\"node13\" class=\"node\">\n",
       "<title>1516</title>\n",
       "<path fill=\"#eda877\" stroke=\"black\" d=\"M994,-140C994,-140 780,-140 780,-140 774,-140 768,-134 768,-128 768,-128 768,-84 768,-84 768,-78 774,-72 780,-72 780,-72 994,-72 994,-72 1000,-72 1006,-78 1006,-84 1006,-84 1006,-128 1006,-128 1006,-134 1000,-140 994,-140\"/>\n",
       "<text text-anchor=\"middle\" x=\"887\" y=\"-124.8\" font-family=\"Helvetica,sans-Serif\" font-size=\"14.00\">age &lt;= 27.5</text>\n",
       "<text text-anchor=\"middle\" x=\"887\" y=\"-109.8\" font-family=\"Helvetica,sans-Serif\" font-size=\"14.00\">squared_error = 30391037.936</text>\n",
       "<text text-anchor=\"middle\" x=\"887\" y=\"-94.8\" font-family=\"Helvetica,sans-Serif\" font-size=\"14.00\">samples = 89</text>\n",
       "<text text-anchor=\"middle\" x=\"887\" y=\"-79.8\" font-family=\"Helvetica,sans-Serif\" font-size=\"14.00\">value = 41675.451</text>\n",
       "</g>\n",
       "<!-- 1354&#45;&gt;1516 -->\n",
       "<g id=\"edge12\" class=\"edge\">\n",
       "<title>1354&#45;&gt;1516</title>\n",
       "<path fill=\"none\" stroke=\"black\" d=\"M714.12,-175.88C739.73,-165.68 768.09,-154.38 794.31,-143.93\"/>\n",
       "<polygon fill=\"black\" stroke=\"black\" points=\"795.87,-147.08 803.86,-140.12 793.28,-140.57 795.87,-147.08\"/>\n",
       "</g>\n",
       "<!-- 1356 -->\n",
       "<g id=\"node11\" class=\"node\">\n",
       "<title>1356</title>\n",
       "<path fill=\"#c0c0c0\" stroke=\"black\" d=\"M610,-36C610,-36 580,-36 580,-36 574,-36 568,-30 568,-24 568,-24 568,-12 568,-12 568,-6 574,0 580,0 580,0 610,0 610,0 616,0 622,-6 622,-12 622,-12 622,-24 622,-24 622,-30 616,-36 610,-36\"/>\n",
       "<text text-anchor=\"middle\" x=\"595\" y=\"-14.3\" font-family=\"Helvetica,sans-Serif\" font-size=\"14.00\">(...)</text>\n",
       "</g>\n",
       "<!-- 1355&#45;&gt;1356 -->\n",
       "<g id=\"edge10\" class=\"edge\">\n",
       "<title>1355&#45;&gt;1356</title>\n",
       "<path fill=\"none\" stroke=\"black\" d=\"M617.18,-72C613.54,-63.28 609.64,-53.98 606.16,-45.65\"/>\n",
       "<polygon fill=\"black\" stroke=\"black\" points=\"609.38,-44.28 602.29,-36.4 602.92,-46.98 609.38,-44.28\"/>\n",
       "</g>\n",
       "<!-- 1455 -->\n",
       "<g id=\"node12\" class=\"node\">\n",
       "<title>1455</title>\n",
       "<path fill=\"#c0c0c0\" stroke=\"black\" d=\"M682,-36C682,-36 652,-36 652,-36 646,-36 640,-30 640,-24 640,-24 640,-12 640,-12 640,-6 646,0 652,0 652,0 682,0 682,0 688,0 694,-6 694,-12 694,-12 694,-24 694,-24 694,-30 688,-36 682,-36\"/>\n",
       "<text text-anchor=\"middle\" x=\"667\" y=\"-14.3\" font-family=\"Helvetica,sans-Serif\" font-size=\"14.00\">(...)</text>\n",
       "</g>\n",
       "<!-- 1355&#45;&gt;1455 -->\n",
       "<g id=\"edge11\" class=\"edge\">\n",
       "<title>1355&#45;&gt;1455</title>\n",
       "<path fill=\"none\" stroke=\"black\" d=\"M644.82,-72C648.46,-63.28 652.36,-53.98 655.84,-45.65\"/>\n",
       "<polygon fill=\"black\" stroke=\"black\" points=\"659.08,-46.98 659.71,-36.4 652.62,-44.28 659.08,-46.98\"/>\n",
       "</g>\n",
       "<!-- 1517 -->\n",
       "<g id=\"node14\" class=\"node\">\n",
       "<title>1517</title>\n",
       "<path fill=\"#c0c0c0\" stroke=\"black\" d=\"M866,-36C866,-36 836,-36 836,-36 830,-36 824,-30 824,-24 824,-24 824,-12 824,-12 824,-6 830,0 836,0 836,0 866,0 866,0 872,0 878,-6 878,-12 878,-12 878,-24 878,-24 878,-30 872,-36 866,-36\"/>\n",
       "<text text-anchor=\"middle\" x=\"851\" y=\"-14.3\" font-family=\"Helvetica,sans-Serif\" font-size=\"14.00\">(...)</text>\n",
       "</g>\n",
       "<!-- 1516&#45;&gt;1517 -->\n",
       "<g id=\"edge13\" class=\"edge\">\n",
       "<title>1516&#45;&gt;1517</title>\n",
       "<path fill=\"none\" stroke=\"black\" d=\"M873.18,-72C869.54,-63.28 865.64,-53.98 862.16,-45.65\"/>\n",
       "<polygon fill=\"black\" stroke=\"black\" points=\"865.38,-44.28 858.29,-36.4 858.92,-46.98 865.38,-44.28\"/>\n",
       "</g>\n",
       "<!-- 1568 -->\n",
       "<g id=\"node15\" class=\"node\">\n",
       "<title>1568</title>\n",
       "<path fill=\"#c0c0c0\" stroke=\"black\" d=\"M938,-36C938,-36 908,-36 908,-36 902,-36 896,-30 896,-24 896,-24 896,-12 896,-12 896,-6 902,0 908,0 908,0 938,0 938,0 944,0 950,-6 950,-12 950,-12 950,-24 950,-24 950,-30 944,-36 938,-36\"/>\n",
       "<text text-anchor=\"middle\" x=\"923\" y=\"-14.3\" font-family=\"Helvetica,sans-Serif\" font-size=\"14.00\">(...)</text>\n",
       "</g>\n",
       "<!-- 1516&#45;&gt;1568 -->\n",
       "<g id=\"edge14\" class=\"edge\">\n",
       "<title>1516&#45;&gt;1568</title>\n",
       "<path fill=\"none\" stroke=\"black\" d=\"M900.82,-72C904.46,-63.28 908.36,-53.98 911.84,-45.65\"/>\n",
       "<polygon fill=\"black\" stroke=\"black\" points=\"915.08,-46.98 915.71,-36.4 908.62,-44.28 915.08,-46.98\"/>\n",
       "</g>\n",
       "</g>\n",
       "</svg>\n"
      ],
      "text/plain": [
       "<graphviz.sources.Source at 0x7f8ed8091090>"
      ]
     },
     "execution_count": 32,
     "metadata": {},
     "output_type": "execute_result"
    }
   ],
   "source": [
    "import graphviz\n",
    "from sklearn.tree import export_graphviz\n",
    "\n",
    "dot_data = export_graphviz(predictr.estimators_[6], feature_names=X.columns.tolist(), filled=True, rounded=True, max_depth=2)\n",
    "graphviz.Source(dot_data)"
   ]
  },
  {
   "cell_type": "markdown",
   "id": "fcff6d4b-72c8-4329-a845-38e2f2a7763f",
   "metadata": {},
   "source": [
    "- 숫자들은 조금씩 다르다. 전체 observation을 사용하는 것이 아니라 리샘플링한 데이터를 적합을 시키기 때문이다.\n",
    "- `smoker_yes`를 첫 변수로 뽑는 것이 바뀌지 않는 이유는 모든 변수들을 넣어서 테스트 해봤을 때, `smoker_yes`를 기준으로 나누는 것이 $R^2$ score 상 유리하기 때문이다.\n",
    "- 숫자들만 조금씩 바뀌고 뽑아지는 변수의 딱히 바뀌지 않는다. --> 트리들이 다양하지 않다. --> 이게 배깅의 약점이다."
   ]
  },
  {
   "cell_type": "markdown",
   "id": "91b97202-d292-45ce-899c-c0ba610ae097",
   "metadata": {},
   "source": [
    "`-` 의문 \n",
    "\n",
    "트리가 다양하지 않은게 왜 약점이지?"
   ]
  },
  {
   "cell_type": "markdown",
   "id": "dabd74af-bbc0-4ad5-8183-e708588c36c9",
   "metadata": {},
   "source": [
    "## C. 우수성 vs 다양성 "
   ]
  },
  {
   "cell_type": "markdown",
   "id": "b8370cd5-c534-42d0-8ccc-400f5fd68d3e",
   "metadata": {},
   "source": [
    "`-` 다양성이 없는게 왜 문제인가? \n",
    "\n",
    "- 기존의 의사결정나무: 데이터에 최적화된 **똑똑한 하나**의 트리를 발견\n",
    "- Bagging: \"데이터에 최적화\"를 희생하고 \"다양성\"을 확보. 즉 **똑똑한 하나**의 트리대신에 **모자란 여러개**의 트리를 생성하고 힘을 합침."
   ]
  },
  {
   "cell_type": "markdown",
   "id": "2883be8b-214e-46ac-ab85-2025dd044280",
   "metadata": {},
   "source": [
    "`DecisionTree` \n",
    "- 자료 --> 적합 : 똑똑한 하나의 트리\n",
    "\n",
    "`Bagging`\n",
    "- 자료 --> 리샘플링 --> 적합: 모자란 하나의 트리\n",
    "- 자료 --> 리샘플링 --> 적합: 모자란 또 다른 하나의 트리\n",
    "- $\\cdots$"
   ]
  },
  {
   "cell_type": "markdown",
   "id": "7031c578-5eb0-4950-be11-55a7f151cfe9",
   "metadata": {},
   "source": [
    "`-` 우수성 vs 다양성 -- 우수하지만 비슷한 생각을 가진 10명의 인재 vs 평범하지만 다양한 의견을 가진 10명의 인재 \n",
    "\n",
    "- 뭐가 좋을까요? \n",
    "- 김용대 교수님의 통찰! <https://biz.heraldcorp.com/view.php?ud=20170802000434>"
   ]
  },
  {
   "cell_type": "markdown",
   "id": "1021d4f5-b1dc-441e-a711-22f549aea514",
   "metadata": {},
   "source": [
    "::: {.callout-note}\n",
    "기계학습 방법론 중 앙상블이라는 방법이 있다. 앙상블이란 음악에서 여러 명의 연주자에 의한 합주 또는 합창을 의미하는데, 다양한 의견들을 조화롭게 결합하는 방법을 의미하기도 한다. 기계학습에서 앙상블이란 같은 데이터를 여러 개의 기계학습 알고리즘들이 분석하여 각자 지식을 습득한 후 이를 결합하여 새롭고 유용한 지식을 창출하는 방법이다.\n",
    "\n",
    "앙상블 방법론에 숨어 있는 매우 흥미롭고 이해하기 어려운 과학적 현상으로는, 앙상블의 성능을 높이기 위해서는 개별 알고리즘들의 성능보다는 알고리즘들의 다양성이 훨씬 중요하다는 것이다. 즉, 주어진 문제에 대해서 모두 비슷한 답을 주는 성능이 우수한 10개의 알고리즘보다는 성능은 좀 떨어지지만 다양한 답을 제공하는 10개의 알고리즘이 앙상블에는 더 효율적이라는 것이다. 이를 인간 사회에 적용하면, 비슷한 생각을 가진 우수한 10명의 인재보다는 다양한 의견을 가진 평범한 10명의 의견이 훨씬 유용할 수 있다는 것이다.\n",
    ":::"
   ]
  },
  {
   "cell_type": "markdown",
   "id": "3e21a841-897b-4aee-afac-a584dce16e1e",
   "metadata": {},
   "source": [
    "> 그래서 **\"랜덤포레스트\"** 라는 방법이 나오게 되었다."
   ]
  },
  {
   "cell_type": "markdown",
   "id": "976fb114-ce28-431d-b4ed-27b7698789ea",
   "metadata": {
    "tags": []
   },
   "source": [
    "`-` 요약 \n",
    "\n",
    "- 통찰: Bagging은 의사결정나무보다 다양성을 추구하는 알고리즘이다. \n",
    "- 문제점: 하지만 ${\\bf X}$가 고차원인 상황에서 배깅만으로는 그렇게 다양한 트리가 나오지 않는다. (모든 트리가 천편일륜적으로 흡연여부가 보험료에 미치는 영향을 우선적으로 연구한다) \n",
    "- 소망: 혹시 어떤 괴짜는 흡연여부를 연구하지 않고 다른 변수들을 최우선으로 연구하는 연구자가 있다면 좋겠는데.. (그러면 트리가 다양해질텐데)"
   ]
  },
  {
   "cell_type": "markdown",
   "id": "96b97dbd-7532-4e94-902a-da6de31608e7",
   "metadata": {},
   "source": [
    "# 5. 랜덤포레스트 "
   ]
  },
  {
   "attachments": {},
   "cell_type": "markdown",
   "id": "ef5a0c89-7ffb-4f3f-891e-9a391bbc944c",
   "metadata": {},
   "source": [
    "## A. 개념 \n",
    "\n",
    "> Bagging에 max_feature를 제한하는 방법을 제안."
   ]
  },
  {
   "cell_type": "markdown",
   "id": "fd046ee7-f628-46ad-802d-92a9b0f8146e",
   "metadata": {},
   "source": [
    "`-` RandomForeset = Bagging + `max_feature=??`\n",
    "\n",
    "- 엄밀한 수식은 아닙니다."
   ]
  },
  {
   "cell_type": "markdown",
   "id": "1ed1a339-13af-4b8f-9ac4-ace7aeb0ba57",
   "metadata": {},
   "source": [
    "`-` 슈도-알고리즘의 비교 "
   ]
  },
  {
   "cell_type": "markdown",
   "id": "90674bcc-12f1-4577-aac8-ed317ae33feb",
   "metadata": {},
   "source": [
    "```Python\n",
    "## Bagging \n",
    "trees = []\n",
    "for i in range(100):\n",
    "    tree = sklearn.tree.DecisionTreeRegressor() \n",
    "    X_sample,y_sample = boostrap(X,y) # 매순간 샘플바뀜\n",
    "    tree.fit(X_sample,y_sample) # 일부 샘플만으로 적합\n",
    "    trees.append(tree) # 학습한 나무를 저장\n",
    "yhat = ensemble(trees) # 여러개의 나무를 종합하여 하나의 예측값을 만들어냄 (합주)\n",
    "\n",
    "## RandomForeset \n",
    "forest = [] \n",
    "for i in range(100):\n",
    "    tree = sklearn.tree.DecisionTreeRegressor(max_feature=1) # 매순간 설명변수 바뀜\n",
    "    X_sample,y_sample = boostrap(X,y) # 매순간 샘플바뀜    \n",
    "    tree.fit(X_sample,y_sample) # 일부설명변수, 일부샘플만으로 적합 \n",
    "    forest.append(tree) # 학습한 나무를 숲에 저장 \n",
    "yhat = ensemble(forest) # 여러개의 나무를 종합하여 하나의 예측값을 만들어냄 (합주) \n",
    "```"
   ]
  },
  {
   "cell_type": "markdown",
   "id": "f3a0fa84-6f39-49d6-a1da-45a4ed00eab9",
   "metadata": {},
   "source": [
    "## B. 일단 적합 "
   ]
  },
  {
   "cell_type": "code",
   "execution_count": 37,
   "id": "9a3d4e35-497d-4a12-8816-2f998957853f",
   "metadata": {
    "tags": []
   },
   "outputs": [
    {
     "data": {
      "text/html": [
       "<style>#sk-container-id-3 {color: black;}#sk-container-id-3 pre{padding: 0;}#sk-container-id-3 div.sk-toggleable {background-color: white;}#sk-container-id-3 label.sk-toggleable__label {cursor: pointer;display: block;width: 100%;margin-bottom: 0;padding: 0.3em;box-sizing: border-box;text-align: center;}#sk-container-id-3 label.sk-toggleable__label-arrow:before {content: \"▸\";float: left;margin-right: 0.25em;color: #696969;}#sk-container-id-3 label.sk-toggleable__label-arrow:hover:before {color: black;}#sk-container-id-3 div.sk-estimator:hover label.sk-toggleable__label-arrow:before {color: black;}#sk-container-id-3 div.sk-toggleable__content {max-height: 0;max-width: 0;overflow: hidden;text-align: left;background-color: #f0f8ff;}#sk-container-id-3 div.sk-toggleable__content pre {margin: 0.2em;color: black;border-radius: 0.25em;background-color: #f0f8ff;}#sk-container-id-3 input.sk-toggleable__control:checked~div.sk-toggleable__content {max-height: 200px;max-width: 100%;overflow: auto;}#sk-container-id-3 input.sk-toggleable__control:checked~label.sk-toggleable__label-arrow:before {content: \"▾\";}#sk-container-id-3 div.sk-estimator input.sk-toggleable__control:checked~label.sk-toggleable__label {background-color: #d4ebff;}#sk-container-id-3 div.sk-label input.sk-toggleable__control:checked~label.sk-toggleable__label {background-color: #d4ebff;}#sk-container-id-3 input.sk-hidden--visually {border: 0;clip: rect(1px 1px 1px 1px);clip: rect(1px, 1px, 1px, 1px);height: 1px;margin: -1px;overflow: hidden;padding: 0;position: absolute;width: 1px;}#sk-container-id-3 div.sk-estimator {font-family: monospace;background-color: #f0f8ff;border: 1px dotted black;border-radius: 0.25em;box-sizing: border-box;margin-bottom: 0.5em;}#sk-container-id-3 div.sk-estimator:hover {background-color: #d4ebff;}#sk-container-id-3 div.sk-parallel-item::after {content: \"\";width: 100%;border-bottom: 1px solid gray;flex-grow: 1;}#sk-container-id-3 div.sk-label:hover label.sk-toggleable__label {background-color: #d4ebff;}#sk-container-id-3 div.sk-serial::before {content: \"\";position: absolute;border-left: 1px solid gray;box-sizing: border-box;top: 0;bottom: 0;left: 50%;z-index: 0;}#sk-container-id-3 div.sk-serial {display: flex;flex-direction: column;align-items: center;background-color: white;padding-right: 0.2em;padding-left: 0.2em;position: relative;}#sk-container-id-3 div.sk-item {position: relative;z-index: 1;}#sk-container-id-3 div.sk-parallel {display: flex;align-items: stretch;justify-content: center;background-color: white;position: relative;}#sk-container-id-3 div.sk-item::before, #sk-container-id-3 div.sk-parallel-item::before {content: \"\";position: absolute;border-left: 1px solid gray;box-sizing: border-box;top: 0;bottom: 0;left: 50%;z-index: -1;}#sk-container-id-3 div.sk-parallel-item {display: flex;flex-direction: column;z-index: 1;position: relative;background-color: white;}#sk-container-id-3 div.sk-parallel-item:first-child::after {align-self: flex-end;width: 50%;}#sk-container-id-3 div.sk-parallel-item:last-child::after {align-self: flex-start;width: 50%;}#sk-container-id-3 div.sk-parallel-item:only-child::after {width: 0;}#sk-container-id-3 div.sk-dashed-wrapped {border: 1px dashed gray;margin: 0 0.4em 0.5em 0.4em;box-sizing: border-box;padding-bottom: 0.4em;background-color: white;}#sk-container-id-3 div.sk-label label {font-family: monospace;font-weight: bold;display: inline-block;line-height: 1.2em;}#sk-container-id-3 div.sk-label-container {text-align: center;}#sk-container-id-3 div.sk-container {/* jupyter's `normalize.less` sets `[hidden] { display: none; }` but bootstrap.min.css set `[hidden] { display: none !important; }` so we also need the `!important` here to be able to override the default hidden behavior on the sphinx rendered scikit-learn.org. See: https://github.com/scikit-learn/scikit-learn/issues/21755 */display: inline-block !important;position: relative;}#sk-container-id-3 div.sk-text-repr-fallback {display: none;}</style><div id=\"sk-container-id-3\" class=\"sk-top-container\"><div class=\"sk-text-repr-fallback\"><pre>RandomForestRegressor(max_depth=1, max_features=0.3333333333333333)</pre><b>In a Jupyter environment, please rerun this cell to show the HTML representation or trust the notebook. <br />On GitHub, the HTML representation is unable to render, please try loading this page with nbviewer.org.</b></div><div class=\"sk-container\" hidden><div class=\"sk-item\"><div class=\"sk-estimator sk-toggleable\"><input class=\"sk-toggleable__control sk-hidden--visually\" id=\"sk-estimator-id-3\" type=\"checkbox\" checked><label for=\"sk-estimator-id-3\" class=\"sk-toggleable__label sk-toggleable__label-arrow\">RandomForestRegressor</label><div class=\"sk-toggleable__content\"><pre>RandomForestRegressor(max_depth=1, max_features=0.3333333333333333)</pre></div></div></div></div></div>"
      ],
      "text/plain": [
       "RandomForestRegressor(max_depth=1, max_features=0.3333333333333333)"
      ]
     },
     "execution_count": 37,
     "metadata": {},
     "output_type": "execute_result"
    }
   ],
   "source": [
    "# step1 -- pass \n",
    "# step2 \n",
    "predictr = sklearn.ensemble.RandomForestRegressor(\n",
    "    max_depth=1,\n",
    "    max_features=1/3 # 각각의 트리에 적용되는 옵션. (전체 피처중 1/3정도만 학습할거야.)\n",
    ")\n",
    "# step3\n",
    "predictr.fit(X,y)\n",
    "# step4 "
   ]
  },
  {
   "cell_type": "markdown",
   "id": "7debc765-9e59-48e6-98c2-3632b6d67c9a",
   "metadata": {},
   "source": [
    "- `max_features=1` : 전체 피처들 중 랜덤으로 1개를 뽑아 학습한다는 것.\n",
    "- `max_features=0.5`: 전체 피처들 중 50% 정도만 학습한다는 것."
   ]
  },
  {
   "cell_type": "code",
   "execution_count": 42,
   "id": "fa29ea76-9f47-401b-9ed1-ba2ae80e24d3",
   "metadata": {},
   "outputs": [
    {
     "data": {
      "text/plain": [
       "100"
      ]
     },
     "execution_count": 42,
     "metadata": {},
     "output_type": "execute_result"
    }
   ],
   "source": [
    "len(predictr.estimators_)"
   ]
  },
  {
   "cell_type": "code",
   "execution_count": 36,
   "id": "f46e5ad6-699d-44c8-af19-7dbe330ad6b4",
   "metadata": {},
   "outputs": [],
   "source": [
    "# sklearn.ensemble.RandomForestRegressor?"
   ]
  },
  {
   "cell_type": "markdown",
   "id": "262e6a2d-2271-487c-8fb5-a4ba07b68eb6",
   "metadata": {},
   "source": [
    "> 주의1: `max_feature=1`은 1개의 feature를 고려한다는 의미이고, `max_feature=1.0`은 100%의 feature를 고려한다는 의미이다. "
   ]
  },
  {
   "cell_type": "markdown",
   "id": "9bf6bc96-4fec-475f-86ab-9a8802108064",
   "metadata": {},
   "source": [
    "> 주의2: `max_feature=1.0` 이 default값이며 이 값을 사용한다면 \"RandomForest = Bagging\" 이다. (아래 ref 참고)"
   ]
  },
  {
   "cell_type": "markdown",
   "id": "ba9a20d9-8965-4916-9338-e8ae19d3a688",
   "metadata": {},
   "source": [
    "- ref: <https://scikit-learn.org/stable/modules/generated/sklearn.ensemble.RandomForestRegressor.html>"
   ]
  },
  {
   "cell_type": "markdown",
   "id": "00094bd2-b3a2-4930-ad7e-2cb05f8a4f12",
   "metadata": {},
   "source": [
    "## C. 시각화 "
   ]
  },
  {
   "cell_type": "code",
   "execution_count": 46,
   "id": "bb879bce-205a-4d87-b88d-c3f925c16017",
   "metadata": {
    "tags": []
   },
   "outputs": [
    {
     "data": {
      "image/png": "[encoded data removed]",
      "text/plain": [
       "<Figure size 640x480 with 1 Axes>"
      ]
     },
     "metadata": {},
     "output_type": "display_data"
    }
   ],
   "source": [
    "sklearn.tree.plot_tree(\n",
    "    predictr.estimators_[5],\n",
    "    feature_names=X.columns.tolist(),\n",
    "    max_depth=1\n",
    ");"
   ]
  },
  {
   "cell_type": "markdown",
   "id": "18a2822e-4132-4992-a197-9af277ab1d57",
   "metadata": {},
   "source": [
    "- `region_northwest`를 먼저 연구한 트리."
   ]
  },
  {
   "cell_type": "code",
   "execution_count": 47,
   "id": "703109ea-e4c8-4f94-a74f-abd00b0263d9",
   "metadata": {},
   "outputs": [
    {
     "data": {
      "image/png": "[encoded data removed]",
      "text/plain": [
       "<Figure size 640x480 with 1 Axes>"
      ]
     },
     "metadata": {},
     "output_type": "display_data"
    }
   ],
   "source": [
    "sklearn.tree.plot_tree(\n",
    "    predictr.estimators_[4],\n",
    "    feature_names=X.columns.tolist(),\n",
    "    max_depth=1\n",
    ");"
   ]
  },
  {
   "cell_type": "markdown",
   "id": "07298bf5-73e4-430b-9adf-4b2774c03d30",
   "metadata": {},
   "source": [
    "- `childeren`을 먼저 연구한 트리."
   ]
  },
  {
   "cell_type": "markdown",
   "id": "ee8c6d88-6b54-481b-bb0b-d22d6bd8c56e",
   "metadata": {},
   "source": [
    "> 일반적인 Bagging 방법에 비해 랜덤포레스트에서 다양성이 훨씬 더 많이 확보되었음을 쉽게 파악할 수 있다."
   ]
  },
  {
   "cell_type": "markdown",
   "id": "23d3cf96-0a2f-4186-ba8a-4aa0a57026ed",
   "metadata": {},
   "source": [
    "# 6. 랜덤포레스트 재현"
   ]
  },
  {
   "cell_type": "markdown",
   "id": "12dcba18-9e53-4908-b6b2-b40175042b18",
   "metadata": {},
   "source": [
    "## A. random_state 추출"
   ]
  },
  {
   "cell_type": "markdown",
   "id": "422cf6a6-15a6-4ff0-81b5-cf07251e5f79",
   "metadata": {},
   "source": [
    "`-` 첫번째 트리 - random_state 확인"
   ]
  },
  {
   "cell_type": "code",
   "execution_count": 48,
   "id": "fd60a2f5-d225-4b04-9af9-70d0bd6e3c74",
   "metadata": {
    "tags": []
   },
   "outputs": [
    {
     "data": {
      "text/html": [
       "<style>#sk-container-id-6 {color: black;}#sk-container-id-6 pre{padding: 0;}#sk-container-id-6 div.sk-toggleable {background-color: white;}#sk-container-id-6 label.sk-toggleable__label {cursor: pointer;display: block;width: 100%;margin-bottom: 0;padding: 0.3em;box-sizing: border-box;text-align: center;}#sk-container-id-6 label.sk-toggleable__label-arrow:before {content: \"▸\";float: left;margin-right: 0.25em;color: #696969;}#sk-container-id-6 label.sk-toggleable__label-arrow:hover:before {color: black;}#sk-container-id-6 div.sk-estimator:hover label.sk-toggleable__label-arrow:before {color: black;}#sk-container-id-6 div.sk-toggleable__content {max-height: 0;max-width: 0;overflow: hidden;text-align: left;background-color: #f0f8ff;}#sk-container-id-6 div.sk-toggleable__content pre {margin: 0.2em;color: black;border-radius: 0.25em;background-color: #f0f8ff;}#sk-container-id-6 input.sk-toggleable__control:checked~div.sk-toggleable__content {max-height: 200px;max-width: 100%;overflow: auto;}#sk-container-id-6 input.sk-toggleable__control:checked~label.sk-toggleable__label-arrow:before {content: \"▾\";}#sk-container-id-6 div.sk-estimator input.sk-toggleable__control:checked~label.sk-toggleable__label {background-color: #d4ebff;}#sk-container-id-6 div.sk-label input.sk-toggleable__control:checked~label.sk-toggleable__label {background-color: #d4ebff;}#sk-container-id-6 input.sk-hidden--visually {border: 0;clip: rect(1px 1px 1px 1px);clip: rect(1px, 1px, 1px, 1px);height: 1px;margin: -1px;overflow: hidden;padding: 0;position: absolute;width: 1px;}#sk-container-id-6 div.sk-estimator {font-family: monospace;background-color: #f0f8ff;border: 1px dotted black;border-radius: 0.25em;box-sizing: border-box;margin-bottom: 0.5em;}#sk-container-id-6 div.sk-estimator:hover {background-color: #d4ebff;}#sk-container-id-6 div.sk-parallel-item::after {content: \"\";width: 100%;border-bottom: 1px solid gray;flex-grow: 1;}#sk-container-id-6 div.sk-label:hover label.sk-toggleable__label {background-color: #d4ebff;}#sk-container-id-6 div.sk-serial::before {content: \"\";position: absolute;border-left: 1px solid gray;box-sizing: border-box;top: 0;bottom: 0;left: 50%;z-index: 0;}#sk-container-id-6 div.sk-serial {display: flex;flex-direction: column;align-items: center;background-color: white;padding-right: 0.2em;padding-left: 0.2em;position: relative;}#sk-container-id-6 div.sk-item {position: relative;z-index: 1;}#sk-container-id-6 div.sk-parallel {display: flex;align-items: stretch;justify-content: center;background-color: white;position: relative;}#sk-container-id-6 div.sk-item::before, #sk-container-id-6 div.sk-parallel-item::before {content: \"\";position: absolute;border-left: 1px solid gray;box-sizing: border-box;top: 0;bottom: 0;left: 50%;z-index: -1;}#sk-container-id-6 div.sk-parallel-item {display: flex;flex-direction: column;z-index: 1;position: relative;background-color: white;}#sk-container-id-6 div.sk-parallel-item:first-child::after {align-self: flex-end;width: 50%;}#sk-container-id-6 div.sk-parallel-item:last-child::after {align-self: flex-start;width: 50%;}#sk-container-id-6 div.sk-parallel-item:only-child::after {width: 0;}#sk-container-id-6 div.sk-dashed-wrapped {border: 1px dashed gray;margin: 0 0.4em 0.5em 0.4em;box-sizing: border-box;padding-bottom: 0.4em;background-color: white;}#sk-container-id-6 div.sk-label label {font-family: monospace;font-weight: bold;display: inline-block;line-height: 1.2em;}#sk-container-id-6 div.sk-label-container {text-align: center;}#sk-container-id-6 div.sk-container {/* jupyter's `normalize.less` sets `[hidden] { display: none; }` but bootstrap.min.css set `[hidden] { display: none !important; }` so we also need the `!important` here to be able to override the default hidden behavior on the sphinx rendered scikit-learn.org. See: https://github.com/scikit-learn/scikit-learn/issues/21755 */display: inline-block !important;position: relative;}#sk-container-id-6 div.sk-text-repr-fallback {display: none;}</style><div id=\"sk-container-id-6\" class=\"sk-top-container\"><div class=\"sk-text-repr-fallback\"><pre>DecisionTreeRegressor(max_depth=1, max_features=0.3333333333333333,\n",
       "                      random_state=115825912)</pre><b>In a Jupyter environment, please rerun this cell to show the HTML representation or trust the notebook. <br />On GitHub, the HTML representation is unable to render, please try loading this page with nbviewer.org.</b></div><div class=\"sk-container\" hidden><div class=\"sk-item\"><div class=\"sk-estimator sk-toggleable\"><input class=\"sk-toggleable__control sk-hidden--visually\" id=\"sk-estimator-id-6\" type=\"checkbox\" checked><label for=\"sk-estimator-id-6\" class=\"sk-toggleable__label sk-toggleable__label-arrow\">DecisionTreeRegressor</label><div class=\"sk-toggleable__content\"><pre>DecisionTreeRegressor(max_depth=1, max_features=0.3333333333333333,\n",
       "                      random_state=115825912)</pre></div></div></div></div></div>"
      ],
      "text/plain": [
       "DecisionTreeRegressor(max_depth=1, max_features=0.3333333333333333,\n",
       "                      random_state=115825912)"
      ]
     },
     "execution_count": 48,
     "metadata": {},
     "output_type": "execute_result"
    }
   ],
   "source": [
    "predictr.estimators_[0]"
   ]
  },
  {
   "cell_type": "markdown",
   "id": "be6c794e-5f0e-4de8-962f-504db9fadec2",
   "metadata": {},
   "source": [
    "`-` 첫번째 트리의 random_state가 저장된 곳"
   ]
  },
  {
   "cell_type": "code",
   "execution_count": 51,
   "id": "0f8129b0-7ffc-46f9-a11f-5b73091aa20f",
   "metadata": {
    "tags": []
   },
   "outputs": [
    {
     "data": {
      "text/plain": [
       "115825912"
      ]
     },
     "execution_count": 51,
     "metadata": {},
     "output_type": "execute_result"
    }
   ],
   "source": [
    "predictr.estimators_[0].random_state"
   ]
  },
  {
   "cell_type": "markdown",
   "id": "df317ee9-a209-4038-9b30-9f2af64d18a5",
   "metadata": {},
   "source": [
    "`-` 각 나무들의 random_state 추출 "
   ]
  },
  {
   "cell_type": "code",
   "execution_count": 52,
   "id": "b1b3fe2d-13f3-49da-8cbe-e5f582324750",
   "metadata": {
    "tags": []
   },
   "outputs": [],
   "source": [
    "rs = [tree.random_state for tree in predictr.estimators_] # 100개의 random_state 저장."
   ]
  },
  {
   "cell_type": "code",
   "execution_count": 56,
   "id": "1d051d54-9042-4425-b1ee-08467894c6c3",
   "metadata": {},
   "outputs": [
    {
     "data": {
      "text/plain": [
       "[115825912, 1440244931, 2072811334, 832457061, 121563411]"
      ]
     },
     "execution_count": 56,
     "metadata": {},
     "output_type": "execute_result"
    }
   ],
   "source": [
    "rs[:5]"
   ]
  },
  {
   "cell_type": "markdown",
   "id": "f4c29da6-2113-4ff2-be5f-00633b3d77ad",
   "metadata": {},
   "source": [
    "## B. forest 생성 "
   ]
  },
  {
   "cell_type": "code",
   "execution_count": 58,
   "id": "9c7cf98b-51b1-4acd-8081-cbfe9068f9a9",
   "metadata": {
    "tags": []
   },
   "outputs": [],
   "source": [
    "my_forest = [sklearn.tree.DecisionTreeRegressor(max_depth=1,max_features=1/3,random_state=r) for r in rs] # tree들의 모임."
   ]
  },
  {
   "cell_type": "code",
   "execution_count": 59,
   "id": "5b9e6000-0322-4a16-b595-e5f4bcaf7e33",
   "metadata": {
    "tags": []
   },
   "outputs": [
    {
     "data": {
      "text/html": [
       "<style>#sk-container-id-8 {color: black;}#sk-container-id-8 pre{padding: 0;}#sk-container-id-8 div.sk-toggleable {background-color: white;}#sk-container-id-8 label.sk-toggleable__label {cursor: pointer;display: block;width: 100%;margin-bottom: 0;padding: 0.3em;box-sizing: border-box;text-align: center;}#sk-container-id-8 label.sk-toggleable__label-arrow:before {content: \"▸\";float: left;margin-right: 0.25em;color: #696969;}#sk-container-id-8 label.sk-toggleable__label-arrow:hover:before {color: black;}#sk-container-id-8 div.sk-estimator:hover label.sk-toggleable__label-arrow:before {color: black;}#sk-container-id-8 div.sk-toggleable__content {max-height: 0;max-width: 0;overflow: hidden;text-align: left;background-color: #f0f8ff;}#sk-container-id-8 div.sk-toggleable__content pre {margin: 0.2em;color: black;border-radius: 0.25em;background-color: #f0f8ff;}#sk-container-id-8 input.sk-toggleable__control:checked~div.sk-toggleable__content {max-height: 200px;max-width: 100%;overflow: auto;}#sk-container-id-8 input.sk-toggleable__control:checked~label.sk-toggleable__label-arrow:before {content: \"▾\";}#sk-container-id-8 div.sk-estimator input.sk-toggleable__control:checked~label.sk-toggleable__label {background-color: #d4ebff;}#sk-container-id-8 div.sk-label input.sk-toggleable__control:checked~label.sk-toggleable__label {background-color: #d4ebff;}#sk-container-id-8 input.sk-hidden--visually {border: 0;clip: rect(1px 1px 1px 1px);clip: rect(1px, 1px, 1px, 1px);height: 1px;margin: -1px;overflow: hidden;padding: 0;position: absolute;width: 1px;}#sk-container-id-8 div.sk-estimator {font-family: monospace;background-color: #f0f8ff;border: 1px dotted black;border-radius: 0.25em;box-sizing: border-box;margin-bottom: 0.5em;}#sk-container-id-8 div.sk-estimator:hover {background-color: #d4ebff;}#sk-container-id-8 div.sk-parallel-item::after {content: \"\";width: 100%;border-bottom: 1px solid gray;flex-grow: 1;}#sk-container-id-8 div.sk-label:hover label.sk-toggleable__label {background-color: #d4ebff;}#sk-container-id-8 div.sk-serial::before {content: \"\";position: absolute;border-left: 1px solid gray;box-sizing: border-box;top: 0;bottom: 0;left: 50%;z-index: 0;}#sk-container-id-8 div.sk-serial {display: flex;flex-direction: column;align-items: center;background-color: white;padding-right: 0.2em;padding-left: 0.2em;position: relative;}#sk-container-id-8 div.sk-item {position: relative;z-index: 1;}#sk-container-id-8 div.sk-parallel {display: flex;align-items: stretch;justify-content: center;background-color: white;position: relative;}#sk-container-id-8 div.sk-item::before, #sk-container-id-8 div.sk-parallel-item::before {content: \"\";position: absolute;border-left: 1px solid gray;box-sizing: border-box;top: 0;bottom: 0;left: 50%;z-index: -1;}#sk-container-id-8 div.sk-parallel-item {display: flex;flex-direction: column;z-index: 1;position: relative;background-color: white;}#sk-container-id-8 div.sk-parallel-item:first-child::after {align-self: flex-end;width: 50%;}#sk-container-id-8 div.sk-parallel-item:last-child::after {align-self: flex-start;width: 50%;}#sk-container-id-8 div.sk-parallel-item:only-child::after {width: 0;}#sk-container-id-8 div.sk-dashed-wrapped {border: 1px dashed gray;margin: 0 0.4em 0.5em 0.4em;box-sizing: border-box;padding-bottom: 0.4em;background-color: white;}#sk-container-id-8 div.sk-label label {font-family: monospace;font-weight: bold;display: inline-block;line-height: 1.2em;}#sk-container-id-8 div.sk-label-container {text-align: center;}#sk-container-id-8 div.sk-container {/* jupyter's `normalize.less` sets `[hidden] { display: none; }` but bootstrap.min.css set `[hidden] { display: none !important; }` so we also need the `!important` here to be able to override the default hidden behavior on the sphinx rendered scikit-learn.org. See: https://github.com/scikit-learn/scikit-learn/issues/21755 */display: inline-block !important;position: relative;}#sk-container-id-8 div.sk-text-repr-fallback {display: none;}</style><div id=\"sk-container-id-8\" class=\"sk-top-container\"><div class=\"sk-text-repr-fallback\"><pre>DecisionTreeRegressor(max_depth=1, max_features=0.3333333333333333,\n",
       "                      random_state=1321455257)</pre><b>In a Jupyter environment, please rerun this cell to show the HTML representation or trust the notebook. <br />On GitHub, the HTML representation is unable to render, please try loading this page with nbviewer.org.</b></div><div class=\"sk-container\" hidden><div class=\"sk-item\"><div class=\"sk-estimator sk-toggleable\"><input class=\"sk-toggleable__control sk-hidden--visually\" id=\"sk-estimator-id-8\" type=\"checkbox\" checked><label for=\"sk-estimator-id-8\" class=\"sk-toggleable__label sk-toggleable__label-arrow\">DecisionTreeRegressor</label><div class=\"sk-toggleable__content\"><pre>DecisionTreeRegressor(max_depth=1, max_features=0.3333333333333333,\n",
       "                      random_state=1321455257)</pre></div></div></div></div></div>"
      ],
      "text/plain": [
       "DecisionTreeRegressor(max_depth=1, max_features=0.3333333333333333,\n",
       "                      random_state=1321455257)"
      ]
     },
     "execution_count": 59,
     "metadata": {},
     "output_type": "execute_result"
    }
   ],
   "source": [
    "my_forest[-1]"
   ]
  },
  {
   "cell_type": "code",
   "execution_count": 60,
   "id": "bebd4fcf-536d-4a89-a084-a56af4373211",
   "metadata": {
    "tags": []
   },
   "outputs": [
    {
     "data": {
      "text/html": [
       "<style>#sk-container-id-9 {color: black;}#sk-container-id-9 pre{padding: 0;}#sk-container-id-9 div.sk-toggleable {background-color: white;}#sk-container-id-9 label.sk-toggleable__label {cursor: pointer;display: block;width: 100%;margin-bottom: 0;padding: 0.3em;box-sizing: border-box;text-align: center;}#sk-container-id-9 label.sk-toggleable__label-arrow:before {content: \"▸\";float: left;margin-right: 0.25em;color: #696969;}#sk-container-id-9 label.sk-toggleable__label-arrow:hover:before {color: black;}#sk-container-id-9 div.sk-estimator:hover label.sk-toggleable__label-arrow:before {color: black;}#sk-container-id-9 div.sk-toggleable__content {max-height: 0;max-width: 0;overflow: hidden;text-align: left;background-color: #f0f8ff;}#sk-container-id-9 div.sk-toggleable__content pre {margin: 0.2em;color: black;border-radius: 0.25em;background-color: #f0f8ff;}#sk-container-id-9 input.sk-toggleable__control:checked~div.sk-toggleable__content {max-height: 200px;max-width: 100%;overflow: auto;}#sk-container-id-9 input.sk-toggleable__control:checked~label.sk-toggleable__label-arrow:before {content: \"▾\";}#sk-container-id-9 div.sk-estimator input.sk-toggleable__control:checked~label.sk-toggleable__label {background-color: #d4ebff;}#sk-container-id-9 div.sk-label input.sk-toggleable__control:checked~label.sk-toggleable__label {background-color: #d4ebff;}#sk-container-id-9 input.sk-hidden--visually {border: 0;clip: rect(1px 1px 1px 1px);clip: rect(1px, 1px, 1px, 1px);height: 1px;margin: -1px;overflow: hidden;padding: 0;position: absolute;width: 1px;}#sk-container-id-9 div.sk-estimator {font-family: monospace;background-color: #f0f8ff;border: 1px dotted black;border-radius: 0.25em;box-sizing: border-box;margin-bottom: 0.5em;}#sk-container-id-9 div.sk-estimator:hover {background-color: #d4ebff;}#sk-container-id-9 div.sk-parallel-item::after {content: \"\";width: 100%;border-bottom: 1px solid gray;flex-grow: 1;}#sk-container-id-9 div.sk-label:hover label.sk-toggleable__label {background-color: #d4ebff;}#sk-container-id-9 div.sk-serial::before {content: \"\";position: absolute;border-left: 1px solid gray;box-sizing: border-box;top: 0;bottom: 0;left: 50%;z-index: 0;}#sk-container-id-9 div.sk-serial {display: flex;flex-direction: column;align-items: center;background-color: white;padding-right: 0.2em;padding-left: 0.2em;position: relative;}#sk-container-id-9 div.sk-item {position: relative;z-index: 1;}#sk-container-id-9 div.sk-parallel {display: flex;align-items: stretch;justify-content: center;background-color: white;position: relative;}#sk-container-id-9 div.sk-item::before, #sk-container-id-9 div.sk-parallel-item::before {content: \"\";position: absolute;border-left: 1px solid gray;box-sizing: border-box;top: 0;bottom: 0;left: 50%;z-index: -1;}#sk-container-id-9 div.sk-parallel-item {display: flex;flex-direction: column;z-index: 1;position: relative;background-color: white;}#sk-container-id-9 div.sk-parallel-item:first-child::after {align-self: flex-end;width: 50%;}#sk-container-id-9 div.sk-parallel-item:last-child::after {align-self: flex-start;width: 50%;}#sk-container-id-9 div.sk-parallel-item:only-child::after {width: 0;}#sk-container-id-9 div.sk-dashed-wrapped {border: 1px dashed gray;margin: 0 0.4em 0.5em 0.4em;box-sizing: border-box;padding-bottom: 0.4em;background-color: white;}#sk-container-id-9 div.sk-label label {font-family: monospace;font-weight: bold;display: inline-block;line-height: 1.2em;}#sk-container-id-9 div.sk-label-container {text-align: center;}#sk-container-id-9 div.sk-container {/* jupyter's `normalize.less` sets `[hidden] { display: none; }` but bootstrap.min.css set `[hidden] { display: none !important; }` so we also need the `!important` here to be able to override the default hidden behavior on the sphinx rendered scikit-learn.org. See: https://github.com/scikit-learn/scikit-learn/issues/21755 */display: inline-block !important;position: relative;}#sk-container-id-9 div.sk-text-repr-fallback {display: none;}</style><div id=\"sk-container-id-9\" class=\"sk-top-container\"><div class=\"sk-text-repr-fallback\"><pre>DecisionTreeRegressor(max_depth=1, max_features=0.3333333333333333,\n",
       "                      random_state=1321455257)</pre><b>In a Jupyter environment, please rerun this cell to show the HTML representation or trust the notebook. <br />On GitHub, the HTML representation is unable to render, please try loading this page with nbviewer.org.</b></div><div class=\"sk-container\" hidden><div class=\"sk-item\"><div class=\"sk-estimator sk-toggleable\"><input class=\"sk-toggleable__control sk-hidden--visually\" id=\"sk-estimator-id-9\" type=\"checkbox\" checked><label for=\"sk-estimator-id-9\" class=\"sk-toggleable__label sk-toggleable__label-arrow\">DecisionTreeRegressor</label><div class=\"sk-toggleable__content\"><pre>DecisionTreeRegressor(max_depth=1, max_features=0.3333333333333333,\n",
       "                      random_state=1321455257)</pre></div></div></div></div></div>"
      ],
      "text/plain": [
       "DecisionTreeRegressor(max_depth=1, max_features=0.3333333333333333,\n",
       "                      random_state=1321455257)"
      ]
     },
     "execution_count": 60,
     "metadata": {},
     "output_type": "execute_result"
    }
   ],
   "source": [
    "predictr.estimators_[-1]"
   ]
  },
  {
   "cell_type": "markdown",
   "id": "3ae02f14-2790-4e27-95eb-a03a5c61075d",
   "metadata": {},
   "source": [
    "## C. 부스트랩 샘플생성"
   ]
  },
  {
   "cell_type": "markdown",
   "id": "b573dc30-3ded-4954-b532-2e25e3a14e0f",
   "metadata": {},
   "source": [
    "`-` 저장된 부스트랩 샘플을 확보하자. -- 실패"
   ]
  },
  {
   "cell_type": "code",
   "execution_count": 61,
   "id": "5f728c34-9b9e-4f28-a846-77aba2178f0a",
   "metadata": {},
   "outputs": [
    {
     "ename": "AttributeError",
     "evalue": "'RandomForestRegressor' object has no attribute 'estimators_samples_'",
     "output_type": "error",
     "traceback": [
      "\u001b[0;31m---------------------------------------------------------------------------\u001b[0m",
      "\u001b[0;31mAttributeError\u001b[0m                            Traceback (most recent call last)",
      "Cell \u001b[0;32mIn[61], line 1\u001b[0m\n\u001b[0;32m----> 1\u001b[0m \u001b[43mpredictr\u001b[49m\u001b[38;5;241;43m.\u001b[39;49m\u001b[43mestimators_samples_\u001b[49m\n",
      "\u001b[0;31mAttributeError\u001b[0m: 'RandomForestRegressor' object has no attribute 'estimators_samples_'"
     ]
    }
   ],
   "source": [
    "predictr.estimators_samples_"
   ]
  },
  {
   "cell_type": "markdown",
   "id": "ab7a722a-065e-452a-9369-fe117637c13b",
   "metadata": {},
   "source": [
    "- 샘플들을 재현하기 귀찮게 되어있다."
   ]
  },
  {
   "cell_type": "markdown",
   "id": "880d6e12-864e-4198-ad1c-a0a2884b0aa8",
   "metadata": {},
   "source": [
    "`-` 그냥 새로 만들어보자!"
   ]
  },
  {
   "cell_type": "code",
   "execution_count": 63,
   "id": "d430c703-4fa1-4d47-a02e-c439f6d8396d",
   "metadata": {
    "tags": []
   },
   "outputs": [
    {
     "data": {
      "text/plain": [
       "\u001b[0;31mSignature:\u001b[0m\n",
       "\u001b[0msklearn\u001b[0m\u001b[0;34m.\u001b[0m\u001b[0mensemble\u001b[0m\u001b[0;34m.\u001b[0m\u001b[0m_forest\u001b[0m\u001b[0;34m.\u001b[0m\u001b[0m_generate_sample_indices\u001b[0m\u001b[0;34m(\u001b[0m\u001b[0;34m\u001b[0m\n",
       "\u001b[0;34m\u001b[0m    \u001b[0mrandom_state\u001b[0m\u001b[0;34m,\u001b[0m\u001b[0;34m\u001b[0m\n",
       "\u001b[0;34m\u001b[0m    \u001b[0mn_samples\u001b[0m\u001b[0;34m,\u001b[0m\u001b[0;34m\u001b[0m\n",
       "\u001b[0;34m\u001b[0m    \u001b[0mn_samples_bootstrap\u001b[0m\u001b[0;34m,\u001b[0m\u001b[0;34m\u001b[0m\n",
       "\u001b[0;34m\u001b[0m\u001b[0;34m)\u001b[0m\u001b[0;34m\u001b[0m\u001b[0;34m\u001b[0m\u001b[0m\n",
       "\u001b[0;31mDocstring:\u001b[0m Private function used to _parallel_build_trees function.\n",
       "\u001b[0;31mFile:\u001b[0m      ~/anaconda3/envs/mp/lib/python3.10/site-packages/sklearn/ensemble/_forest.py\n",
       "\u001b[0;31mType:\u001b[0m      function"
      ]
     },
     "metadata": {},
     "output_type": "display_data"
    }
   ],
   "source": [
    "sklearn.ensemble._forest._generate_sample_indices?"
   ]
  },
  {
   "cell_type": "markdown",
   "id": "deae8968-a5e5-440b-b488-0a5c416cc24f",
   "metadata": {},
   "source": [
    "- `sklearn.ensemble`에 `_forest` 라는 모듈이 숨겨져 있었음.\n",
    "- `_foreset`모듈에 있는 `_generate_sample_indeces`라는 함수를 보면, random_state를 넣고 뽑을 샘플의 수를 정하면 되는 것 같다."
   ]
  },
  {
   "cell_type": "code",
   "execution_count": 65,
   "id": "e985e044-078d-4e8f-83cd-35ea893e5500",
   "metadata": {
    "tags": []
   },
   "outputs": [],
   "source": [
    "sample = sklearn.ensemble._forest._generate_sample_indices"
   ]
  },
  {
   "cell_type": "code",
   "execution_count": 71,
   "id": "0aa9e6dc-eed6-44c4-9f70-c4d3992c70b3",
   "metadata": {},
   "outputs": [
    {
     "data": {
      "text/plain": [
       "(140251644367712, 140251644367712)"
      ]
     },
     "execution_count": 71,
     "metadata": {},
     "output_type": "execute_result"
    }
   ],
   "source": [
    "id(sample), id(sklearn.ensemble._forest._generate_sample_indices) # id는 sample이 저장된 메모리 주소."
   ]
  },
  {
   "cell_type": "markdown",
   "id": "1f3f82f5-9496-4371-a4a3-2991cc3c63eb",
   "metadata": {},
   "source": [
    "---"
   ]
  },
  {
   "cell_type": "markdown",
   "id": "6bcb02fe-354d-4a6c-81ac-b0124f3b1997",
   "metadata": {},
   "source": [
    "`-` 사용 예시"
   ]
  },
  {
   "cell_type": "code",
   "execution_count": 78,
   "id": "6a77818b-f965-4627-a35d-e4de1d561511",
   "metadata": {},
   "outputs": [
    {
     "data": {
      "text/plain": [
       "array([5, 0, 3, 3, 7])"
      ]
     },
     "execution_count": 78,
     "metadata": {},
     "output_type": "execute_result"
    }
   ],
   "source": [
    "_arr = np.array([1,2,3,4,6,7,8,9,10])\n",
    "sample(random_state=0, n_samples=10, n_samples_bootstrap=5)"
   ]
  },
  {
   "cell_type": "code",
   "execution_count": 79,
   "id": "cc7d932e-a7b8-4c6c-9220-1f7e85ebf066",
   "metadata": {},
   "outputs": [
    {
     "data": {
      "text/plain": [
       "array([5, 8, 9, 5, 0])"
      ]
     },
     "execution_count": 79,
     "metadata": {},
     "output_type": "execute_result"
    }
   ],
   "source": [
    "sample(random_state=1, n_samples=10, n_samples_bootstrap=5)"
   ]
  },
  {
   "cell_type": "markdown",
   "id": "a9b88f98-0878-4545-83ef-2f3a8c2b360a",
   "metadata": {},
   "source": [
    "---"
   ]
  },
  {
   "cell_type": "code",
   "execution_count": 85,
   "id": "43053903-87e9-4290-9c41-a1a888b67698",
   "metadata": {
    "tags": []
   },
   "outputs": [],
   "source": [
    "my_index = [sample(random_state=r,n_samples=1338,n_samples_bootstrap=1338) for r in rs] "
   ]
  },
  {
   "cell_type": "code",
   "execution_count": 84,
   "id": "0cc2e22e-5601-4453-890a-47efe5dae392",
   "metadata": {},
   "outputs": [
    {
     "data": {
      "text/plain": [
       "(100, 1338)"
      ]
     },
     "execution_count": 84,
     "metadata": {},
     "output_type": "execute_result"
    }
   ],
   "source": [
    "np.array([sample(random_state=r, n_samples=1338, n_samples_bootstrap=1338) for r in rs]).shape"
   ]
  },
  {
   "cell_type": "markdown",
   "id": "8c1e82f1-a780-4a2a-b4d8-b3a3da37ad8c",
   "metadata": {},
   "source": [
    "## D. 적합 "
   ]
  },
  {
   "cell_type": "markdown",
   "id": "63b263eb-9911-4695-a7f7-1417086b0398",
   "metadata": {},
   "source": [
    "---"
   ]
  },
  {
   "cell_type": "markdown",
   "id": "e3bc0241-f715-4581-b0d5-e64de736f161",
   "metadata": {},
   "source": [
    "`-` `zip` 에 대한 설명"
   ]
  },
  {
   "cell_type": "code",
   "execution_count": 97,
   "id": "2fffdb8b-da23-41c9-8adc-148890a2af08",
   "metadata": {},
   "outputs": [
    {
     "data": {
      "text/plain": [
       "(array([646, 693, 441, ..., 158, 183, 930]),\n",
       " DecisionTreeRegressor(max_depth=1, max_features=0.3333333333333333,\n",
       "                       random_state=115825912))"
      ]
     },
     "execution_count": 97,
     "metadata": {},
     "output_type": "execute_result"
    }
   ],
   "source": [
    "my_index[0], my_forest[0] # 이렇게 동시에 뽑고 싶다."
   ]
  },
  {
   "cell_type": "markdown",
   "id": "c3151a66-f25f-4c58-ad53-62511b2505ea",
   "metadata": {},
   "source": [
    "```python\n",
    "# 물론 이렇게 해도 된다.\n",
    "for i in range(100):\n",
    "    print(my_index[i])\n",
    "    print(my_forest[i])\n",
    "\n",
    "# 이렇게 해도 같은 코드!\n",
    "for idx, tree in zip(my_index, my_forest):\n",
    "    print(idx, tree)\n",
    "```"
   ]
  },
  {
   "cell_type": "markdown",
   "id": "125913db-ca3f-4615-88f1-4c4f10b54756",
   "metadata": {},
   "source": [
    "---"
   ]
  },
  {
   "cell_type": "code",
   "execution_count": 100,
   "id": "81d4692c-ac67-4a94-b9fc-4d9e9df9ccd8",
   "metadata": {
    "tags": []
   },
   "outputs": [],
   "source": [
    "for idx,tree in zip(my_index, my_forest):\n",
    "    X_sampled, y_sampled = np.array(X)[idx], np.array(y)[idx]\n",
    "    tree.fit(X_sampled,y_sampled)"
   ]
  },
  {
   "cell_type": "markdown",
   "id": "cfe7426f-b922-4765-b22c-f9f1dbc6d3d9",
   "metadata": {},
   "source": [
    "## E. 앙상블 "
   ]
  },
  {
   "cell_type": "markdown",
   "id": "ebce8b5c-776e-429c-ab82-208f5e26374f",
   "metadata": {},
   "source": [
    "---"
   ]
  },
  {
   "cell_type": "code",
   "execution_count": 113,
   "id": "1884bda7-77c7-4ea8-aed3-05c9e281b19c",
   "metadata": {},
   "outputs": [
    {
     "data": {
      "text/plain": [
       "(100, 1338)"
      ]
     },
     "execution_count": 113,
     "metadata": {},
     "output_type": "execute_result"
    }
   ],
   "source": [
    "np.stack([tree.predict(X) for tree in my_forest]).shape"
   ]
  },
  {
   "cell_type": "markdown",
   "id": "119e8424-0534-4656-9960-775855748baf",
   "metadata": {},
   "source": [
    "- 첫번째 축이 사라져야 함."
   ]
  },
  {
   "cell_type": "code",
   "execution_count": 118,
   "id": "bc9beb21-9824-41a2-8f1e-ac0e3ce67fce",
   "metadata": {},
   "outputs": [
    {
     "data": {
      "text/plain": [
       "(1338,)"
      ]
     },
     "execution_count": 118,
     "metadata": {},
     "output_type": "execute_result"
    }
   ],
   "source": [
    "np.stack([tree.predict(X) for tree in my_forest]).mean(axis=0) # shape: (1338,)"
   ]
  },
  {
   "cell_type": "markdown",
   "id": "5c00a176-311a-4d40-ab31-e4e4662ab981",
   "metadata": {},
   "source": [
    "---"
   ]
  },
  {
   "cell_type": "code",
   "execution_count": 119,
   "id": "ff6edc0a-4791-464d-813f-e66cf32e07ba",
   "metadata": {
    "tags": []
   },
   "outputs": [],
   "source": [
    "def ensemble(forest):\n",
    "    return np.stack([tree.predict(X) for tree in forest]).mean(axis=0)"
   ]
  },
  {
   "cell_type": "code",
   "execution_count": 120,
   "id": "dfcda0c1-3e59-404b-b986-2427fd3a4ac4",
   "metadata": {
    "tags": []
   },
   "outputs": [
    {
     "data": {
      "text/plain": [
       "array([17119.05659641, 12084.36123917, 12371.33668852, ...,\n",
       "       12084.54461021, 10691.84446396, 18223.64822057])"
      ]
     },
     "execution_count": 120,
     "metadata": {},
     "output_type": "execute_result"
    }
   ],
   "source": [
    "ensemble(my_forest)"
   ]
  },
  {
   "cell_type": "code",
   "execution_count": 121,
   "id": "ed0b9b06-f0fa-406a-9087-7499a94c414d",
   "metadata": {
    "tags": []
   },
   "outputs": [
    {
     "data": {
      "text/plain": [
       "array([17119.05659641, 12084.36123917, 12371.33668852, ...,\n",
       "       12084.54461021, 10691.84446396, 18223.64822057])"
      ]
     },
     "execution_count": 121,
     "metadata": {},
     "output_type": "execute_result"
    }
   ],
   "source": [
    "predictr.predict(X)"
   ]
  },
  {
   "cell_type": "markdown",
   "id": "d440addd-ac0e-48de-ae29-e1e46fc1d46b",
   "metadata": {},
   "source": [
    "- `ensemble(my_forest)`과 `predictr.predict(X)`는 완전히 똑같이 나온다. -- 완벽히 재현!"
   ]
  },
  {
   "cell_type": "markdown",
   "id": "482c32a3-d348-469e-81be-a414fdfd94f2",
   "metadata": {},
   "source": [
    "## F. 주의"
   ]
  },
  {
   "cell_type": "markdown",
   "id": "1c9f75a2-5a1e-4bda-a6ba-4201a593c66d",
   "metadata": {},
   "source": [
    "`-` `max_depth`가 깊을 경우 `ensemble(my_forest)`와 `predictr.predict(X)`의 결과가 일치하지 않을 수 있다. 이유는 트리의 성장을 멈추는 조건에서 각 leaf의 최소 샘플숫자가 기여하는데, 샘플의 가중치를 고려하느냐 하지 않느냐에 따라서 샘플숫자의 차이가 있기 때문 "
   ]
  },
  {
   "cell_type": "markdown",
   "id": "7bd3a88a-8034-4a6a-ac7a-1baf7dc9c755",
   "metadata": {},
   "source": [
    "`-` 시각화 비교 (samples가 서로다름을 파악!!)"
   ]
  },
  {
   "cell_type": "code",
   "execution_count": 122,
   "id": "cfcda475-e44e-45bc-8cac-a50e1cce86e0",
   "metadata": {
    "tags": []
   },
   "outputs": [
    {
     "data": {
      "text/plain": [
       "[Text(0.5, 0.75, 'x[4] <= 0.5\\nsquared_error = 152698111.736\\nsamples = 1338\\nvalue = 13417.975'),\n",
       " Text(0.25, 0.25, 'squared_error = 33926584.735\\nsamples = 1056\\nvalue = 8373.279'),\n",
       " Text(0.75, 0.25, 'squared_error = 145299956.24\\nsamples = 282\\nvalue = 32308.751')]"
      ]
     },
     "execution_count": 122,
     "metadata": {},
     "output_type": "execute_result"
    },
    {
     "data": {
      "image/png": "[encoded data removed]",
      "text/plain": [
       "<Figure size 640x480 with 1 Axes>"
      ]
     },
     "metadata": {},
     "output_type": "display_data"
    }
   ],
   "source": [
    "sklearn.tree.plot_tree(my_forest[0])"
   ]
  },
  {
   "cell_type": "code",
   "execution_count": 123,
   "id": "ff4df974-8421-4e63-bc84-2a7d9d6f1bb7",
   "metadata": {
    "tags": []
   },
   "outputs": [
    {
     "data": {
      "text/plain": [
       "[Text(0.5, 0.75, 'x[4] <= 0.5\\nsquared_error = 152698111.736\\nsamples = 847\\nvalue = 13417.975'),\n",
       " Text(0.25, 0.25, 'squared_error = 33926584.735\\nsamples = 677\\nvalue = 8373.279'),\n",
       " Text(0.75, 0.25, 'squared_error = 145299956.24\\nsamples = 170\\nvalue = 32308.751')]"
      ]
     },
     "execution_count": 123,
     "metadata": {},
     "output_type": "execute_result"
    },
    {
     "data": {
      "image/png": "[encoded data removed]",
      "text/plain": [
       "<Figure size 640x480 with 1 Axes>"
      ]
     },
     "metadata": {},
     "output_type": "display_data"
    }
   ],
   "source": [
    "sklearn.tree.plot_tree(predictr.estimators_[0])"
   ]
  },
  {
   "cell_type": "markdown",
   "id": "2b1643b9-beed-43d0-96bc-c8de911958e5",
   "metadata": {},
   "source": [
    "- 위에있는거는 1338개의 샘플을 썼는데 아래것은 847개의 샘플을 썼다?\n",
    "- 아래 것은 847개 사용한 것 대신에 가중치를 고려한 것이고, 위에 것은 가중치를 고려하지 않은 대신 샘플을 1338개 사용한 것이다."
   ]
  },
  {
   "cell_type": "code",
   "execution_count": 124,
   "id": "cf431982-a3e5-49be-8f20-60912d4d66fa",
   "metadata": {},
   "outputs": [
    {
     "data": {
      "text/plain": [
       "array([646, 693, 441, ..., 158, 183, 930])"
      ]
     },
     "execution_count": 124,
     "metadata": {},
     "output_type": "execute_result"
    }
   ],
   "source": [
    "my_index[0]"
   ]
  },
  {
   "cell_type": "code",
   "execution_count": 128,
   "id": "6d6ffae8-394a-4ed7-b3b1-2cd2681a5f29",
   "metadata": {},
   "outputs": [
    {
     "data": {
      "text/plain": [
       "847"
      ]
     },
     "execution_count": 128,
     "metadata": {},
     "output_type": "execute_result"
    }
   ],
   "source": [
    "len(set(my_index[0])) # 얘의 unique한 원소를 보면 847개이다!"
   ]
  }
 ],
 "metadata": {
  "kernelspec": {
   "display_name": "Python 3 (ipykernel)",
   "language": "python",
   "name": "python3"
  },
  "language_info": {
   "codemirror_mode": {
    "name": "ipython",
    "version": 3
   },
   "file_extension": ".py",
   "mimetype": "text/x-python",
   "name": "python",
   "nbconvert_exporter": "python",
   "pygments_lexer": "ipython3",
   "version": "3.10.13"
  }
 },
 "nbformat": 4,
 "nbformat_minor": 5
}
