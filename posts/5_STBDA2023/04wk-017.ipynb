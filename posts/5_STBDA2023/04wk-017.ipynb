{
 "cells": [
  {
   "cell_type": "raw",
   "id": "9ebb0df4-065a-49f0-bbd2-4c969c97d248",
   "metadata": {},
   "source": [
    "---\n",
    "title: \"04wk-017: 취업, 로지스틱을 더 깊게\"\n",
    "author: \"JiyunLim\"\n",
    "date: \"09/26/2023\"\n",
    "bibliography: ref.bib\n",
    "---"
   ]
  },
  {
   "cell_type": "markdown",
   "id": "9447bffc-4365-4d2f-8135-24a44dac8d16",
   "metadata": {},
   "source": [
    "# 1. 강의영상 "
   ]
  },
  {
   "cell_type": "markdown",
   "id": "c3231bef-10ff-4b0d-b34c-577926300818",
   "metadata": {},
   "source": [
    "{{<video https://youtu.be/playlist?list=PLQqh36zP38-yZKLoD4xCQYvimA2q_8lCl&si=vBBY-dA7arD2SCSy >}}"
   ]
  },
  {
   "cell_type": "markdown",
   "id": "767733c8-0ad9-4b48-bb7b-619a795c85aa",
   "metadata": {},
   "source": [
    "# 2. Imports "
   ]
  },
  {
   "cell_type": "code",
   "execution_count": 1,
   "id": "a819f180-59e0-4cb2-815d-9283c4fd0f45",
   "metadata": {},
   "outputs": [],
   "source": [
    "import numpy as np\n",
    "import pandas as pd\n",
    "import matplotlib.pyplot as plt\n",
    "import sklearn.linear_model"
   ]
  },
  {
   "cell_type": "markdown",
   "id": "a85dbfd4-767b-4489-bbeb-7c29c4472cce",
   "metadata": {},
   "source": [
    "# 3. 데이터 불러오기 $\\to$ 학습"
   ]
  },
  {
   "cell_type": "code",
   "execution_count": 2,
   "id": "85449ef3-ed2f-4d23-80d4-cf089c0871ba",
   "metadata": {},
   "outputs": [
    {
     "data": {
      "text/html": [
       "<div>\n",
       "<style scoped>\n",
       "    .dataframe tbody tr th:only-of-type {\n",
       "        vertical-align: middle;\n",
       "    }\n",
       "\n",
       "    .dataframe tbody tr th {\n",
       "        vertical-align: top;\n",
       "    }\n",
       "\n",
       "    .dataframe thead th {\n",
       "        text-align: right;\n",
       "    }\n",
       "</style>\n",
       "<table border=\"1\" class=\"dataframe\">\n",
       "  <thead>\n",
       "    <tr style=\"text-align: right;\">\n",
       "      <th></th>\n",
       "      <th>toeic</th>\n",
       "      <th>gpa</th>\n",
       "      <th>employment</th>\n",
       "    </tr>\n",
       "  </thead>\n",
       "  <tbody>\n",
       "    <tr>\n",
       "      <th>0</th>\n",
       "      <td>135</td>\n",
       "      <td>0.051535</td>\n",
       "      <td>0</td>\n",
       "    </tr>\n",
       "    <tr>\n",
       "      <th>1</th>\n",
       "      <td>935</td>\n",
       "      <td>0.355496</td>\n",
       "      <td>0</td>\n",
       "    </tr>\n",
       "    <tr>\n",
       "      <th>2</th>\n",
       "      <td>485</td>\n",
       "      <td>2.228435</td>\n",
       "      <td>0</td>\n",
       "    </tr>\n",
       "    <tr>\n",
       "      <th>3</th>\n",
       "      <td>65</td>\n",
       "      <td>1.179701</td>\n",
       "      <td>0</td>\n",
       "    </tr>\n",
       "    <tr>\n",
       "      <th>4</th>\n",
       "      <td>445</td>\n",
       "      <td>3.962356</td>\n",
       "      <td>1</td>\n",
       "    </tr>\n",
       "    <tr>\n",
       "      <th>...</th>\n",
       "      <td>...</td>\n",
       "      <td>...</td>\n",
       "      <td>...</td>\n",
       "    </tr>\n",
       "    <tr>\n",
       "      <th>495</th>\n",
       "      <td>280</td>\n",
       "      <td>4.288465</td>\n",
       "      <td>1</td>\n",
       "    </tr>\n",
       "    <tr>\n",
       "      <th>496</th>\n",
       "      <td>310</td>\n",
       "      <td>2.601212</td>\n",
       "      <td>1</td>\n",
       "    </tr>\n",
       "    <tr>\n",
       "      <th>497</th>\n",
       "      <td>225</td>\n",
       "      <td>0.042323</td>\n",
       "      <td>0</td>\n",
       "    </tr>\n",
       "    <tr>\n",
       "      <th>498</th>\n",
       "      <td>320</td>\n",
       "      <td>1.041416</td>\n",
       "      <td>0</td>\n",
       "    </tr>\n",
       "    <tr>\n",
       "      <th>499</th>\n",
       "      <td>375</td>\n",
       "      <td>3.626883</td>\n",
       "      <td>1</td>\n",
       "    </tr>\n",
       "  </tbody>\n",
       "</table>\n",
       "<p>500 rows × 3 columns</p>\n",
       "</div>"
      ],
      "text/plain": [
       "     toeic       gpa  employment\n",
       "0      135  0.051535           0\n",
       "1      935  0.355496           0\n",
       "2      485  2.228435           0\n",
       "3       65  1.179701           0\n",
       "4      445  3.962356           1\n",
       "..     ...       ...         ...\n",
       "495    280  4.288465           1\n",
       "496    310  2.601212           1\n",
       "497    225  0.042323           0\n",
       "498    320  1.041416           0\n",
       "499    375  3.626883           1\n",
       "\n",
       "[500 rows x 3 columns]"
      ]
     },
     "execution_count": 2,
     "metadata": {},
     "output_type": "execute_result"
    }
   ],
   "source": [
    "df = pd.read_csv('https://raw.githubusercontent.com/guebin/MP2023/main/posts/employment.csv')\n",
    "df"
   ]
  },
  {
   "cell_type": "code",
   "execution_count": 3,
   "id": "292e53b3-c485-4301-b714-2b4d147d4f50",
   "metadata": {},
   "outputs": [
    {
     "name": "stderr",
     "output_type": "stream",
     "text": [
      "/home/jy/anaconda3/envs/py38/lib/python3.8/site-packages/sklearn/utils/validation.py:1184: DataConversionWarning: A column-vector y was passed when a 1d array was expected. Please change the shape of y to (n_samples, ), for example using ravel().\n",
      "  y = column_or_1d(y, warn=True)\n"
     ]
    },
    {
     "data": {
      "text/html": [
       "<style>#sk-container-id-1 {color: black;}#sk-container-id-1 pre{padding: 0;}#sk-container-id-1 div.sk-toggleable {background-color: white;}#sk-container-id-1 label.sk-toggleable__label {cursor: pointer;display: block;width: 100%;margin-bottom: 0;padding: 0.3em;box-sizing: border-box;text-align: center;}#sk-container-id-1 label.sk-toggleable__label-arrow:before {content: \"▸\";float: left;margin-right: 0.25em;color: #696969;}#sk-container-id-1 label.sk-toggleable__label-arrow:hover:before {color: black;}#sk-container-id-1 div.sk-estimator:hover label.sk-toggleable__label-arrow:before {color: black;}#sk-container-id-1 div.sk-toggleable__content {max-height: 0;max-width: 0;overflow: hidden;text-align: left;background-color: #f0f8ff;}#sk-container-id-1 div.sk-toggleable__content pre {margin: 0.2em;color: black;border-radius: 0.25em;background-color: #f0f8ff;}#sk-container-id-1 input.sk-toggleable__control:checked~div.sk-toggleable__content {max-height: 200px;max-width: 100%;overflow: auto;}#sk-container-id-1 input.sk-toggleable__control:checked~label.sk-toggleable__label-arrow:before {content: \"▾\";}#sk-container-id-1 div.sk-estimator input.sk-toggleable__control:checked~label.sk-toggleable__label {background-color: #d4ebff;}#sk-container-id-1 div.sk-label input.sk-toggleable__control:checked~label.sk-toggleable__label {background-color: #d4ebff;}#sk-container-id-1 input.sk-hidden--visually {border: 0;clip: rect(1px 1px 1px 1px);clip: rect(1px, 1px, 1px, 1px);height: 1px;margin: -1px;overflow: hidden;padding: 0;position: absolute;width: 1px;}#sk-container-id-1 div.sk-estimator {font-family: monospace;background-color: #f0f8ff;border: 1px dotted black;border-radius: 0.25em;box-sizing: border-box;margin-bottom: 0.5em;}#sk-container-id-1 div.sk-estimator:hover {background-color: #d4ebff;}#sk-container-id-1 div.sk-parallel-item::after {content: \"\";width: 100%;border-bottom: 1px solid gray;flex-grow: 1;}#sk-container-id-1 div.sk-label:hover label.sk-toggleable__label {background-color: #d4ebff;}#sk-container-id-1 div.sk-serial::before {content: \"\";position: absolute;border-left: 1px solid gray;box-sizing: border-box;top: 0;bottom: 0;left: 50%;z-index: 0;}#sk-container-id-1 div.sk-serial {display: flex;flex-direction: column;align-items: center;background-color: white;padding-right: 0.2em;padding-left: 0.2em;position: relative;}#sk-container-id-1 div.sk-item {position: relative;z-index: 1;}#sk-container-id-1 div.sk-parallel {display: flex;align-items: stretch;justify-content: center;background-color: white;position: relative;}#sk-container-id-1 div.sk-item::before, #sk-container-id-1 div.sk-parallel-item::before {content: \"\";position: absolute;border-left: 1px solid gray;box-sizing: border-box;top: 0;bottom: 0;left: 50%;z-index: -1;}#sk-container-id-1 div.sk-parallel-item {display: flex;flex-direction: column;z-index: 1;position: relative;background-color: white;}#sk-container-id-1 div.sk-parallel-item:first-child::after {align-self: flex-end;width: 50%;}#sk-container-id-1 div.sk-parallel-item:last-child::after {align-self: flex-start;width: 50%;}#sk-container-id-1 div.sk-parallel-item:only-child::after {width: 0;}#sk-container-id-1 div.sk-dashed-wrapped {border: 1px dashed gray;margin: 0 0.4em 0.5em 0.4em;box-sizing: border-box;padding-bottom: 0.4em;background-color: white;}#sk-container-id-1 div.sk-label label {font-family: monospace;font-weight: bold;display: inline-block;line-height: 1.2em;}#sk-container-id-1 div.sk-label-container {text-align: center;}#sk-container-id-1 div.sk-container {/* jupyter's `normalize.less` sets `[hidden] { display: none; }` but bootstrap.min.css set `[hidden] { display: none !important; }` so we also need the `!important` here to be able to override the default hidden behavior on the sphinx rendered scikit-learn.org. See: https://github.com/scikit-learn/scikit-learn/issues/21755 */display: inline-block !important;position: relative;}#sk-container-id-1 div.sk-text-repr-fallback {display: none;}</style><div id=\"sk-container-id-1\" class=\"sk-top-container\"><div class=\"sk-text-repr-fallback\"><pre>LogisticRegression()</pre><b>In a Jupyter environment, please rerun this cell to show the HTML representation or trust the notebook. <br />On GitHub, the HTML representation is unable to render, please try loading this page with nbviewer.org.</b></div><div class=\"sk-container\" hidden><div class=\"sk-item\"><div class=\"sk-estimator sk-toggleable\"><input class=\"sk-toggleable__control sk-hidden--visually\" id=\"sk-estimator-id-1\" type=\"checkbox\" checked><label for=\"sk-estimator-id-1\" class=\"sk-toggleable__label sk-toggleable__label-arrow\">LogisticRegression</label><div class=\"sk-toggleable__content\"><pre>LogisticRegression()</pre></div></div></div></div></div>"
      ],
      "text/plain": [
       "LogisticRegression()"
      ]
     },
     "execution_count": 3,
     "metadata": {},
     "output_type": "execute_result"
    }
   ],
   "source": [
    "X = df[['toeic','gpa']]\n",
    "y = df[['employment']]\n",
    "predictr = sklearn.linear_model.LogisticRegression()\n",
    "predictr.fit(X,y)"
   ]
  },
  {
   "cell_type": "markdown",
   "id": "fd2f4dbd-5cea-411d-9648-568aa383b7c4",
   "metadata": {},
   "source": [
    "# 4. yhat이 나오는 방식?"
   ]
  },
  {
   "cell_type": "markdown",
   "id": "1d49cf92-03c5-419b-9ce0-1b6b3b507c34",
   "metadata": {},
   "source": [
    "`-` 확인: 무슨 수식에 의하여 나오긴함"
   ]
  },
  {
   "cell_type": "code",
   "execution_count": 7,
   "id": "7a7f34cd-18fd-4884-893f-1a7ff8249fb7",
   "metadata": {},
   "outputs": [
    {
     "data": {
      "text/plain": [
       "(array([[0.00571598, 2.46520018]]), array([-8.45433334]))"
      ]
     },
     "execution_count": 7,
     "metadata": {},
     "output_type": "execute_result"
    }
   ],
   "source": [
    "predictr.coef_, predictr.intercept_"
   ]
  },
  {
   "cell_type": "code",
   "execution_count": 13,
   "id": "26137422-061f-48af-9383-a31986c2e6a5",
   "metadata": {},
   "outputs": [
    {
     "data": {
      "text/plain": [
       "toeic    0.005716\n",
       "gpa      2.465200\n",
       "dtype: float64"
      ]
     },
     "execution_count": 13,
     "metadata": {},
     "output_type": "execute_result"
    }
   ],
   "source": [
    "pd.Series(predictr.coef_[0], index=X.columns)"
   ]
  },
  {
   "cell_type": "code",
   "execution_count": 8,
   "id": "b2467a9b-ff1d-439a-b48d-654320b491aa",
   "metadata": {},
   "outputs": [
    {
     "data": {
      "text/plain": [
       "0      0.000523\n",
       "1      0.096780\n",
       "2      0.453003\n",
       "3      0.005627\n",
       "4      0.979312\n",
       "         ...   \n",
       "495    0.976295\n",
       "496    0.432939\n",
       "497    0.000855\n",
       "498    0.016991\n",
       "499    0.932777\n",
       "Length: 500, dtype: float64"
      ]
     },
     "execution_count": 8,
     "metadata": {},
     "output_type": "execute_result"
    }
   ],
   "source": [
    "u = X.toeic*0.00571598 + X.gpa*2.46520018 -8.45433334\n",
    "v = 1/(1+np.exp(-u))\n",
    "v # 확률같은것임"
   ]
  },
  {
   "cell_type": "code",
   "execution_count": 9,
   "id": "c3ae1ece-7dd4-45bf-9cde-f20d53dfbdf9",
   "metadata": {},
   "outputs": [
    {
     "data": {
      "text/plain": [
       "1.0"
      ]
     },
     "execution_count": 9,
     "metadata": {},
     "output_type": "execute_result"
    }
   ],
   "source": [
    "((v > 0.5) == predictr.predict(X)).mean()"
   ]
  },
  {
   "cell_type": "markdown",
   "id": "42290195-619a-4f75-9478-d20af3642d7c",
   "metadata": {},
   "source": [
    "`-` 하여튼 아래와 같은 구조임 "
   ]
  },
  {
   "cell_type": "markdown",
   "id": "660e67d1-cf80-4dc2-a4dd-e9a915aa734e",
   "metadata": {},
   "source": [
    "(구조1)"
   ]
  },
  {
   "cell_type": "markdown",
   "id": "325379ae-d8f9-4cb8-ba64-5f5ad0d74b80",
   "metadata": {},
   "source": [
    "```{mermaid}\n",
    "flowchart LR\n",
    "  A[\"predictr (not learned)\"]\n",
    "  B[\"predictr (learned)\"]\n",
    "  C(\"v (=prob)\")\n",
    "  D(\"yhat\")\n",
    "  A --> |\"`.fit(X,y)`\"| B --> |\"`????`\" | C --> |\"`v>0.5`\"| D\n",
    "```"
   ]
  },
  {
   "cell_type": "markdown",
   "id": "2f8dee36-8120-461d-9e15-92ffd49a72ae",
   "metadata": {},
   "source": [
    "(구조2) -- 단순화"
   ]
  },
  {
   "cell_type": "markdown",
   "id": "96677d06-d567-46a0-ab98-64cf0dc196bd",
   "metadata": {},
   "source": [
    "```{mermaid}\n",
    "flowchart LR\n",
    "  A[\"predictr (not learned)\"]\n",
    "  B[\"predictr (learned)\"]\n",
    "  C(\"yhat\")\n",
    "  A --> |\"`.fit(X,y)`\"| B --> |\"`.predict(X)`\" | C\n",
    "```"
   ]
  },
  {
   "cell_type": "markdown",
   "id": "e7d31da7-3a37-4659-bb81-3f4a2c6a61d6",
   "metadata": {},
   "source": [
    "`-` `v` 값을 알고 싶다면 어쩌지? "
   ]
  },
  {
   "cell_type": "code",
   "execution_count": 49,
   "id": "d95c5e0b-1fb2-4b63-a9ad-4ab4203bad1b",
   "metadata": {},
   "outputs": [
    {
     "data": {
      "text/plain": [
       "0    0.001\n",
       "1    0.097\n",
       "2    0.453\n",
       "3    0.006\n",
       "4    0.979\n",
       "dtype: float64"
      ]
     },
     "execution_count": 49,
     "metadata": {},
     "output_type": "execute_result"
    }
   ],
   "source": [
    "v[:5].round(3)"
   ]
  },
  {
   "cell_type": "code",
   "execution_count": 14,
   "id": "3988acfb-bb9c-4d0c-96ac-16fce16b5bcf",
   "metadata": {},
   "outputs": [
    {
     "data": {
      "text/plain": [
       "array([[0.999, 0.001],\n",
       "       [0.903, 0.097],\n",
       "       [0.547, 0.453],\n",
       "       [0.994, 0.006],\n",
       "       [0.021, 0.979]])"
      ]
     },
     "execution_count": 14,
     "metadata": {},
     "output_type": "execute_result"
    }
   ],
   "source": [
    "predictr.predict_proba(X)[:5].round(3) # 오른쪽 값이 v임. (취업이 될 확률 = y가 1일 확률)"
   ]
  },
  {
   "cell_type": "markdown",
   "id": "45c2e182-f871-481e-82c8-bbcdf7ca2cdf",
   "metadata": {},
   "source": [
    "- 좌측값은 취업이 안될 확률/ 우측값은 취업이 될 확률"
   ]
  },
  {
   "cell_type": "code",
   "execution_count": 18,
   "id": "9888cd68-b1c3-4f8f-a28e-16c309895ace",
   "metadata": {},
   "outputs": [
    {
     "data": {
      "text/plain": [
       "[1.0, 1.0, 1.0, 1.0, 1.0]"
      ]
     },
     "execution_count": 18,
     "metadata": {},
     "output_type": "execute_result"
    }
   ],
   "source": [
    "[p.sum() for p in predictr.predict_proba(X)[:5]]"
   ]
  },
  {
   "cell_type": "markdown",
   "id": "fd2a84d2-d5bb-480d-a13b-53c6d1d9a57f",
   "metadata": {},
   "source": [
    "- 당연한 말이지만 좌측의 취업이 안될 확률과 우측의 취업이 될 확률을 더하면 $1$이 된다."
   ]
  }
 ],
 "metadata": {
  "kernelspec": {
   "display_name": "Python 3",
   "language": "python",
   "name": "python3"
  },
  "language_info": {
   "codemirror_mode": {
    "name": "ipython",
    "version": 3
   },
   "file_extension": ".py",
   "mimetype": "text/x-python",
   "name": "python",
   "nbconvert_exporter": "python",
   "pygments_lexer": "ipython3",
   "version": "3.8.16"
  }
 },
 "nbformat": 4,
 "nbformat_minor": 5
}
