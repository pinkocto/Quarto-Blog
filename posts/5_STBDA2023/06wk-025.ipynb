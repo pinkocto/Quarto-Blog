{
 "cells": [
  {
   "cell_type": "raw",
   "metadata": {},
   "source": [
    "---\n",
    "title: \"06wk-025: 취업+각종영어점수, Lasso\"\n",
    "author: \"JiyunLim\"\n",
    "date: \"10/05/2023\"\n",
    "bibliography: ref.bib\n",
    "draft: false\n",
    "---"
   ]
  },
  {
   "cell_type": "markdown",
   "metadata": {},
   "source": [
    "> 다중공선성이 있을 때 그것을 깨기위한 두번째 방법인 라쏘에 대해 소개한다."
   ]
  },
  {
   "cell_type": "markdown",
   "metadata": {},
   "source": [
    "# 1. 강의영상 "
   ]
  },
  {
   "cell_type": "markdown",
   "metadata": {},
   "source": [
    "{{<video https://youtu.be/playlist?list=PLQqh36zP38-wvjYdDl50TvV9cRY4PdSPG&si=Fft31dpXqRsb4tw2 >}}"
   ]
  },
  {
   "cell_type": "markdown",
   "metadata": {},
   "source": [
    "# 2. Imports"
   ]
  },
  {
   "cell_type": "code",
   "execution_count": 1,
   "metadata": {
    "tags": []
   },
   "outputs": [],
   "source": [
    "import numpy as np\n",
    "import pandas as pd\n",
    "import matplotlib.pyplot as plt \n",
    "import sklearn.linear_model"
   ]
  },
  {
   "cell_type": "markdown",
   "metadata": {},
   "source": [
    "# 3. Data"
   ]
  },
  {
   "cell_type": "code",
   "execution_count": 2,
   "metadata": {
    "tags": []
   },
   "outputs": [],
   "source": [
    "df = pd.read_csv(\"https://raw.githubusercontent.com/guebin/MP2023/main/posts/employment_multicollinearity.csv\")\n",
    "np.random.seed(43052)\n",
    "df['employment_score'] = df.gpa * 1.0 + df.toeic* 1/100 + np.random.randn(500)"
   ]
  },
  {
   "cell_type": "code",
   "execution_count": 3,
   "metadata": {},
   "outputs": [
    {
     "data": {
      "text/html": [
       "<div>\n",
       "<style scoped>\n",
       "    .dataframe tbody tr th:only-of-type {\n",
       "        vertical-align: middle;\n",
       "    }\n",
       "\n",
       "    .dataframe tbody tr th {\n",
       "        vertical-align: top;\n",
       "    }\n",
       "\n",
       "    .dataframe thead th {\n",
       "        text-align: right;\n",
       "    }\n",
       "</style>\n",
       "<table border=\"1\" class=\"dataframe\">\n",
       "  <thead>\n",
       "    <tr style=\"text-align: right;\">\n",
       "      <th></th>\n",
       "      <th>employment_score</th>\n",
       "      <th>gpa</th>\n",
       "      <th>toeic</th>\n",
       "      <th>toeic0</th>\n",
       "      <th>toeic1</th>\n",
       "      <th>toeic2</th>\n",
       "      <th>toeic3</th>\n",
       "      <th>toeic4</th>\n",
       "      <th>toeic5</th>\n",
       "      <th>toeic6</th>\n",
       "      <th>...</th>\n",
       "      <th>toeic490</th>\n",
       "      <th>toeic491</th>\n",
       "      <th>toeic492</th>\n",
       "      <th>toeic493</th>\n",
       "      <th>toeic494</th>\n",
       "      <th>toeic495</th>\n",
       "      <th>toeic496</th>\n",
       "      <th>toeic497</th>\n",
       "      <th>toeic498</th>\n",
       "      <th>toeic499</th>\n",
       "    </tr>\n",
       "  </thead>\n",
       "  <tbody>\n",
       "    <tr>\n",
       "      <th>0</th>\n",
       "      <td>1.784955</td>\n",
       "      <td>0.051535</td>\n",
       "      <td>135</td>\n",
       "      <td>129.566309</td>\n",
       "      <td>133.078481</td>\n",
       "      <td>121.678398</td>\n",
       "      <td>113.457366</td>\n",
       "      <td>133.564200</td>\n",
       "      <td>136.026566</td>\n",
       "      <td>141.793547</td>\n",
       "      <td>...</td>\n",
       "      <td>132.014696</td>\n",
       "      <td>140.013265</td>\n",
       "      <td>135.575816</td>\n",
       "      <td>143.863346</td>\n",
       "      <td>152.162740</td>\n",
       "      <td>132.850033</td>\n",
       "      <td>115.956496</td>\n",
       "      <td>131.842126</td>\n",
       "      <td>125.090801</td>\n",
       "      <td>143.568527</td>\n",
       "    </tr>\n",
       "    <tr>\n",
       "      <th>1</th>\n",
       "      <td>10.789671</td>\n",
       "      <td>0.355496</td>\n",
       "      <td>935</td>\n",
       "      <td>940.563187</td>\n",
       "      <td>935.723570</td>\n",
       "      <td>939.190519</td>\n",
       "      <td>938.995672</td>\n",
       "      <td>945.376482</td>\n",
       "      <td>927.469901</td>\n",
       "      <td>952.424087</td>\n",
       "      <td>...</td>\n",
       "      <td>942.251184</td>\n",
       "      <td>923.241548</td>\n",
       "      <td>939.924802</td>\n",
       "      <td>921.912261</td>\n",
       "      <td>953.250300</td>\n",
       "      <td>931.743615</td>\n",
       "      <td>940.205853</td>\n",
       "      <td>930.575825</td>\n",
       "      <td>941.530348</td>\n",
       "      <td>934.221055</td>\n",
       "    </tr>\n",
       "    <tr>\n",
       "      <th>2</th>\n",
       "      <td>8.221213</td>\n",
       "      <td>2.228435</td>\n",
       "      <td>485</td>\n",
       "      <td>493.671390</td>\n",
       "      <td>493.909118</td>\n",
       "      <td>475.500970</td>\n",
       "      <td>480.363752</td>\n",
       "      <td>478.868942</td>\n",
       "      <td>493.321602</td>\n",
       "      <td>490.059102</td>\n",
       "      <td>...</td>\n",
       "      <td>484.438233</td>\n",
       "      <td>488.101275</td>\n",
       "      <td>485.626742</td>\n",
       "      <td>475.330715</td>\n",
       "      <td>485.147363</td>\n",
       "      <td>468.553780</td>\n",
       "      <td>486.870976</td>\n",
       "      <td>481.640957</td>\n",
       "      <td>499.340808</td>\n",
       "      <td>488.197332</td>\n",
       "    </tr>\n",
       "    <tr>\n",
       "      <th>3</th>\n",
       "      <td>2.137594</td>\n",
       "      <td>1.179701</td>\n",
       "      <td>65</td>\n",
       "      <td>62.272565</td>\n",
       "      <td>55.957257</td>\n",
       "      <td>68.521468</td>\n",
       "      <td>76.866765</td>\n",
       "      <td>51.436321</td>\n",
       "      <td>57.166824</td>\n",
       "      <td>67.834920</td>\n",
       "      <td>...</td>\n",
       "      <td>67.653225</td>\n",
       "      <td>65.710588</td>\n",
       "      <td>64.146780</td>\n",
       "      <td>76.662194</td>\n",
       "      <td>66.837839</td>\n",
       "      <td>82.379018</td>\n",
       "      <td>69.174745</td>\n",
       "      <td>64.475993</td>\n",
       "      <td>52.647087</td>\n",
       "      <td>59.493275</td>\n",
       "    </tr>\n",
       "    <tr>\n",
       "      <th>4</th>\n",
       "      <td>8.650144</td>\n",
       "      <td>3.962356</td>\n",
       "      <td>445</td>\n",
       "      <td>449.280637</td>\n",
       "      <td>438.895582</td>\n",
       "      <td>433.598274</td>\n",
       "      <td>444.081141</td>\n",
       "      <td>437.005100</td>\n",
       "      <td>434.761142</td>\n",
       "      <td>443.135269</td>\n",
       "      <td>...</td>\n",
       "      <td>455.940348</td>\n",
       "      <td>435.952854</td>\n",
       "      <td>441.521145</td>\n",
       "      <td>443.038886</td>\n",
       "      <td>433.118847</td>\n",
       "      <td>466.103355</td>\n",
       "      <td>430.056944</td>\n",
       "      <td>423.632873</td>\n",
       "      <td>446.973484</td>\n",
       "      <td>442.793633</td>\n",
       "    </tr>\n",
       "    <tr>\n",
       "      <th>...</th>\n",
       "      <td>...</td>\n",
       "      <td>...</td>\n",
       "      <td>...</td>\n",
       "      <td>...</td>\n",
       "      <td>...</td>\n",
       "      <td>...</td>\n",
       "      <td>...</td>\n",
       "      <td>...</td>\n",
       "      <td>...</td>\n",
       "      <td>...</td>\n",
       "      <td>...</td>\n",
       "      <td>...</td>\n",
       "      <td>...</td>\n",
       "      <td>...</td>\n",
       "      <td>...</td>\n",
       "      <td>...</td>\n",
       "      <td>...</td>\n",
       "      <td>...</td>\n",
       "      <td>...</td>\n",
       "      <td>...</td>\n",
       "      <td>...</td>\n",
       "    </tr>\n",
       "    <tr>\n",
       "      <th>495</th>\n",
       "      <td>9.057243</td>\n",
       "      <td>4.288465</td>\n",
       "      <td>280</td>\n",
       "      <td>276.680902</td>\n",
       "      <td>274.502675</td>\n",
       "      <td>277.868536</td>\n",
       "      <td>292.283300</td>\n",
       "      <td>277.476630</td>\n",
       "      <td>281.671647</td>\n",
       "      <td>296.307373</td>\n",
       "      <td>...</td>\n",
       "      <td>269.541846</td>\n",
       "      <td>278.220546</td>\n",
       "      <td>278.484758</td>\n",
       "      <td>284.901284</td>\n",
       "      <td>272.451612</td>\n",
       "      <td>265.784490</td>\n",
       "      <td>275.795948</td>\n",
       "      <td>280.465992</td>\n",
       "      <td>268.528889</td>\n",
       "      <td>283.638470</td>\n",
       "    </tr>\n",
       "    <tr>\n",
       "      <th>496</th>\n",
       "      <td>4.108020</td>\n",
       "      <td>2.601212</td>\n",
       "      <td>310</td>\n",
       "      <td>296.940263</td>\n",
       "      <td>301.545000</td>\n",
       "      <td>306.725610</td>\n",
       "      <td>314.811407</td>\n",
       "      <td>311.935810</td>\n",
       "      <td>309.695838</td>\n",
       "      <td>301.979914</td>\n",
       "      <td>...</td>\n",
       "      <td>304.680578</td>\n",
       "      <td>295.476836</td>\n",
       "      <td>316.582100</td>\n",
       "      <td>319.412132</td>\n",
       "      <td>312.984039</td>\n",
       "      <td>312.372112</td>\n",
       "      <td>312.106944</td>\n",
       "      <td>314.101927</td>\n",
       "      <td>309.409533</td>\n",
       "      <td>297.429968</td>\n",
       "    </tr>\n",
       "    <tr>\n",
       "      <th>497</th>\n",
       "      <td>2.430590</td>\n",
       "      <td>0.042323</td>\n",
       "      <td>225</td>\n",
       "      <td>206.793217</td>\n",
       "      <td>228.335345</td>\n",
       "      <td>222.115146</td>\n",
       "      <td>216.479498</td>\n",
       "      <td>227.469560</td>\n",
       "      <td>238.710310</td>\n",
       "      <td>233.797065</td>\n",
       "      <td>...</td>\n",
       "      <td>233.469238</td>\n",
       "      <td>235.160919</td>\n",
       "      <td>228.517306</td>\n",
       "      <td>228.349646</td>\n",
       "      <td>224.153606</td>\n",
       "      <td>230.860484</td>\n",
       "      <td>218.683195</td>\n",
       "      <td>232.949484</td>\n",
       "      <td>236.951938</td>\n",
       "      <td>227.997629</td>\n",
       "    </tr>\n",
       "    <tr>\n",
       "      <th>498</th>\n",
       "      <td>5.343171</td>\n",
       "      <td>1.041416</td>\n",
       "      <td>320</td>\n",
       "      <td>327.461442</td>\n",
       "      <td>323.019899</td>\n",
       "      <td>329.589337</td>\n",
       "      <td>313.312233</td>\n",
       "      <td>315.645050</td>\n",
       "      <td>324.448247</td>\n",
       "      <td>314.271045</td>\n",
       "      <td>...</td>\n",
       "      <td>326.297700</td>\n",
       "      <td>309.893822</td>\n",
       "      <td>312.873223</td>\n",
       "      <td>322.356584</td>\n",
       "      <td>319.332809</td>\n",
       "      <td>319.405283</td>\n",
       "      <td>324.021917</td>\n",
       "      <td>312.363694</td>\n",
       "      <td>318.493866</td>\n",
       "      <td>310.973930</td>\n",
       "    </tr>\n",
       "    <tr>\n",
       "      <th>499</th>\n",
       "      <td>6.505106</td>\n",
       "      <td>3.626883</td>\n",
       "      <td>375</td>\n",
       "      <td>370.966595</td>\n",
       "      <td>364.668477</td>\n",
       "      <td>371.853566</td>\n",
       "      <td>373.574930</td>\n",
       "      <td>376.701708</td>\n",
       "      <td>356.905085</td>\n",
       "      <td>354.584022</td>\n",
       "      <td>...</td>\n",
       "      <td>382.278782</td>\n",
       "      <td>379.460816</td>\n",
       "      <td>371.031640</td>\n",
       "      <td>370.272639</td>\n",
       "      <td>375.618182</td>\n",
       "      <td>369.252740</td>\n",
       "      <td>376.925543</td>\n",
       "      <td>391.863103</td>\n",
       "      <td>368.735260</td>\n",
       "      <td>368.520844</td>\n",
       "    </tr>\n",
       "  </tbody>\n",
       "</table>\n",
       "<p>500 rows × 503 columns</p>\n",
       "</div>"
      ],
      "text/plain": [
       "     employment_score       gpa  toeic      toeic0      toeic1      toeic2  \\\n",
       "0            1.784955  0.051535    135  129.566309  133.078481  121.678398   \n",
       "1           10.789671  0.355496    935  940.563187  935.723570  939.190519   \n",
       "2            8.221213  2.228435    485  493.671390  493.909118  475.500970   \n",
       "3            2.137594  1.179701     65   62.272565   55.957257   68.521468   \n",
       "4            8.650144  3.962356    445  449.280637  438.895582  433.598274   \n",
       "..                ...       ...    ...         ...         ...         ...   \n",
       "495          9.057243  4.288465    280  276.680902  274.502675  277.868536   \n",
       "496          4.108020  2.601212    310  296.940263  301.545000  306.725610   \n",
       "497          2.430590  0.042323    225  206.793217  228.335345  222.115146   \n",
       "498          5.343171  1.041416    320  327.461442  323.019899  329.589337   \n",
       "499          6.505106  3.626883    375  370.966595  364.668477  371.853566   \n",
       "\n",
       "         toeic3      toeic4      toeic5      toeic6  ...    toeic490  \\\n",
       "0    113.457366  133.564200  136.026566  141.793547  ...  132.014696   \n",
       "1    938.995672  945.376482  927.469901  952.424087  ...  942.251184   \n",
       "2    480.363752  478.868942  493.321602  490.059102  ...  484.438233   \n",
       "3     76.866765   51.436321   57.166824   67.834920  ...   67.653225   \n",
       "4    444.081141  437.005100  434.761142  443.135269  ...  455.940348   \n",
       "..          ...         ...         ...         ...  ...         ...   \n",
       "495  292.283300  277.476630  281.671647  296.307373  ...  269.541846   \n",
       "496  314.811407  311.935810  309.695838  301.979914  ...  304.680578   \n",
       "497  216.479498  227.469560  238.710310  233.797065  ...  233.469238   \n",
       "498  313.312233  315.645050  324.448247  314.271045  ...  326.297700   \n",
       "499  373.574930  376.701708  356.905085  354.584022  ...  382.278782   \n",
       "\n",
       "       toeic491    toeic492    toeic493    toeic494    toeic495    toeic496  \\\n",
       "0    140.013265  135.575816  143.863346  152.162740  132.850033  115.956496   \n",
       "1    923.241548  939.924802  921.912261  953.250300  931.743615  940.205853   \n",
       "2    488.101275  485.626742  475.330715  485.147363  468.553780  486.870976   \n",
       "3     65.710588   64.146780   76.662194   66.837839   82.379018   69.174745   \n",
       "4    435.952854  441.521145  443.038886  433.118847  466.103355  430.056944   \n",
       "..          ...         ...         ...         ...         ...         ...   \n",
       "495  278.220546  278.484758  284.901284  272.451612  265.784490  275.795948   \n",
       "496  295.476836  316.582100  319.412132  312.984039  312.372112  312.106944   \n",
       "497  235.160919  228.517306  228.349646  224.153606  230.860484  218.683195   \n",
       "498  309.893822  312.873223  322.356584  319.332809  319.405283  324.021917   \n",
       "499  379.460816  371.031640  370.272639  375.618182  369.252740  376.925543   \n",
       "\n",
       "       toeic497    toeic498    toeic499  \n",
       "0    131.842126  125.090801  143.568527  \n",
       "1    930.575825  941.530348  934.221055  \n",
       "2    481.640957  499.340808  488.197332  \n",
       "3     64.475993   52.647087   59.493275  \n",
       "4    423.632873  446.973484  442.793633  \n",
       "..          ...         ...         ...  \n",
       "495  280.465992  268.528889  283.638470  \n",
       "496  314.101927  309.409533  297.429968  \n",
       "497  232.949484  236.951938  227.997629  \n",
       "498  312.363694  318.493866  310.973930  \n",
       "499  391.863103  368.735260  368.520844  \n",
       "\n",
       "[500 rows x 503 columns]"
      ]
     },
     "execution_count": 3,
     "metadata": {},
     "output_type": "execute_result"
    }
   ],
   "source": [
    "df"
   ]
  },
  {
   "cell_type": "markdown",
   "metadata": {},
   "source": [
    "# 4. True (Oracle)"
   ]
  },
  {
   "cell_type": "code",
   "execution_count": 5,
   "metadata": {
    "tags": []
   },
   "outputs": [
    {
     "data": {
      "text/html": [
       "<style>#sk-container-id-2 {color: black;}#sk-container-id-2 pre{padding: 0;}#sk-container-id-2 div.sk-toggleable {background-color: white;}#sk-container-id-2 label.sk-toggleable__label {cursor: pointer;display: block;width: 100%;margin-bottom: 0;padding: 0.3em;box-sizing: border-box;text-align: center;}#sk-container-id-2 label.sk-toggleable__label-arrow:before {content: \"▸\";float: left;margin-right: 0.25em;color: #696969;}#sk-container-id-2 label.sk-toggleable__label-arrow:hover:before {color: black;}#sk-container-id-2 div.sk-estimator:hover label.sk-toggleable__label-arrow:before {color: black;}#sk-container-id-2 div.sk-toggleable__content {max-height: 0;max-width: 0;overflow: hidden;text-align: left;background-color: #f0f8ff;}#sk-container-id-2 div.sk-toggleable__content pre {margin: 0.2em;color: black;border-radius: 0.25em;background-color: #f0f8ff;}#sk-container-id-2 input.sk-toggleable__control:checked~div.sk-toggleable__content {max-height: 200px;max-width: 100%;overflow: auto;}#sk-container-id-2 input.sk-toggleable__control:checked~label.sk-toggleable__label-arrow:before {content: \"▾\";}#sk-container-id-2 div.sk-estimator input.sk-toggleable__control:checked~label.sk-toggleable__label {background-color: #d4ebff;}#sk-container-id-2 div.sk-label input.sk-toggleable__control:checked~label.sk-toggleable__label {background-color: #d4ebff;}#sk-container-id-2 input.sk-hidden--visually {border: 0;clip: rect(1px 1px 1px 1px);clip: rect(1px, 1px, 1px, 1px);height: 1px;margin: -1px;overflow: hidden;padding: 0;position: absolute;width: 1px;}#sk-container-id-2 div.sk-estimator {font-family: monospace;background-color: #f0f8ff;border: 1px dotted black;border-radius: 0.25em;box-sizing: border-box;margin-bottom: 0.5em;}#sk-container-id-2 div.sk-estimator:hover {background-color: #d4ebff;}#sk-container-id-2 div.sk-parallel-item::after {content: \"\";width: 100%;border-bottom: 1px solid gray;flex-grow: 1;}#sk-container-id-2 div.sk-label:hover label.sk-toggleable__label {background-color: #d4ebff;}#sk-container-id-2 div.sk-serial::before {content: \"\";position: absolute;border-left: 1px solid gray;box-sizing: border-box;top: 0;bottom: 0;left: 50%;z-index: 0;}#sk-container-id-2 div.sk-serial {display: flex;flex-direction: column;align-items: center;background-color: white;padding-right: 0.2em;padding-left: 0.2em;position: relative;}#sk-container-id-2 div.sk-item {position: relative;z-index: 1;}#sk-container-id-2 div.sk-parallel {display: flex;align-items: stretch;justify-content: center;background-color: white;position: relative;}#sk-container-id-2 div.sk-item::before, #sk-container-id-2 div.sk-parallel-item::before {content: \"\";position: absolute;border-left: 1px solid gray;box-sizing: border-box;top: 0;bottom: 0;left: 50%;z-index: -1;}#sk-container-id-2 div.sk-parallel-item {display: flex;flex-direction: column;z-index: 1;position: relative;background-color: white;}#sk-container-id-2 div.sk-parallel-item:first-child::after {align-self: flex-end;width: 50%;}#sk-container-id-2 div.sk-parallel-item:last-child::after {align-self: flex-start;width: 50%;}#sk-container-id-2 div.sk-parallel-item:only-child::after {width: 0;}#sk-container-id-2 div.sk-dashed-wrapped {border: 1px dashed gray;margin: 0 0.4em 0.5em 0.4em;box-sizing: border-box;padding-bottom: 0.4em;background-color: white;}#sk-container-id-2 div.sk-label label {font-family: monospace;font-weight: bold;display: inline-block;line-height: 1.2em;}#sk-container-id-2 div.sk-label-container {text-align: center;}#sk-container-id-2 div.sk-container {/* jupyter's `normalize.less` sets `[hidden] { display: none; }` but bootstrap.min.css set `[hidden] { display: none !important; }` so we also need the `!important` here to be able to override the default hidden behavior on the sphinx rendered scikit-learn.org. See: https://github.com/scikit-learn/scikit-learn/issues/21755 */display: inline-block !important;position: relative;}#sk-container-id-2 div.sk-text-repr-fallback {display: none;}</style><div id=\"sk-container-id-2\" class=\"sk-top-container\"><div class=\"sk-text-repr-fallback\"><pre>LinearRegression()</pre><b>In a Jupyter environment, please rerun this cell to show the HTML representation or trust the notebook. <br />On GitHub, the HTML representation is unable to render, please try loading this page with nbviewer.org.</b></div><div class=\"sk-container\" hidden><div class=\"sk-item\"><div class=\"sk-estimator sk-toggleable\"><input class=\"sk-toggleable__control sk-hidden--visually\" id=\"sk-estimator-id-2\" type=\"checkbox\" checked><label for=\"sk-estimator-id-2\" class=\"sk-toggleable__label sk-toggleable__label-arrow\">LinearRegression</label><div class=\"sk-toggleable__content\"><pre>LinearRegression()</pre></div></div></div></div></div>"
      ],
      "text/plain": [
       "LinearRegression()"
      ]
     },
     "execution_count": 5,
     "metadata": {},
     "output_type": "execute_result"
    }
   ],
   "source": [
    "## step1 \n",
    "df_train, df_test = sklearn.model_selection.train_test_split(df,test_size=0.3,random_state=42)\n",
    "X = df_train.loc[:,'gpa':'toeic']\n",
    "y = df_train[['employment_score']]\n",
    "XX = df_test.loc[:,'gpa':'toeic']\n",
    "yy = df_test[['employment_score']]\n",
    "## step2 \n",
    "predictr = sklearn.linear_model.LinearRegression()\n",
    "## step3\n",
    "predictr.fit(X,y)\n",
    "## step4 : pass "
   ]
  },
  {
   "cell_type": "code",
   "execution_count": 7,
   "metadata": {
    "tags": []
   },
   "outputs": [
    {
     "name": "stdout",
     "output_type": "stream",
     "text": [
      "train_score:\t0.9133\n",
      "test_score:\t0.9127\n"
     ]
    }
   ],
   "source": [
    "print(f'train_score:\\t{predictr.score(X,y):.4f}')\n",
    "print(f'test_score:\\t{predictr.score(XX,yy):.4f}')"
   ]
  },
  {
   "cell_type": "markdown",
   "metadata": {},
   "source": [
    "# 5. Baseline"
   ]
  },
  {
   "cell_type": "markdown",
   "metadata": {},
   "source": [
    "`-` 모든 변수를 활용하여 회귀모형으로 적합 $\\to$ 최악의 결과 "
   ]
  },
  {
   "cell_type": "code",
   "execution_count": 8,
   "metadata": {},
   "outputs": [
    {
     "data": {
      "text/html": [
       "<style>#sk-container-id-3 {color: black;}#sk-container-id-3 pre{padding: 0;}#sk-container-id-3 div.sk-toggleable {background-color: white;}#sk-container-id-3 label.sk-toggleable__label {cursor: pointer;display: block;width: 100%;margin-bottom: 0;padding: 0.3em;box-sizing: border-box;text-align: center;}#sk-container-id-3 label.sk-toggleable__label-arrow:before {content: \"▸\";float: left;margin-right: 0.25em;color: #696969;}#sk-container-id-3 label.sk-toggleable__label-arrow:hover:before {color: black;}#sk-container-id-3 div.sk-estimator:hover label.sk-toggleable__label-arrow:before {color: black;}#sk-container-id-3 div.sk-toggleable__content {max-height: 0;max-width: 0;overflow: hidden;text-align: left;background-color: #f0f8ff;}#sk-container-id-3 div.sk-toggleable__content pre {margin: 0.2em;color: black;border-radius: 0.25em;background-color: #f0f8ff;}#sk-container-id-3 input.sk-toggleable__control:checked~div.sk-toggleable__content {max-height: 200px;max-width: 100%;overflow: auto;}#sk-container-id-3 input.sk-toggleable__control:checked~label.sk-toggleable__label-arrow:before {content: \"▾\";}#sk-container-id-3 div.sk-estimator input.sk-toggleable__control:checked~label.sk-toggleable__label {background-color: #d4ebff;}#sk-container-id-3 div.sk-label input.sk-toggleable__control:checked~label.sk-toggleable__label {background-color: #d4ebff;}#sk-container-id-3 input.sk-hidden--visually {border: 0;clip: rect(1px 1px 1px 1px);clip: rect(1px, 1px, 1px, 1px);height: 1px;margin: -1px;overflow: hidden;padding: 0;position: absolute;width: 1px;}#sk-container-id-3 div.sk-estimator {font-family: monospace;background-color: #f0f8ff;border: 1px dotted black;border-radius: 0.25em;box-sizing: border-box;margin-bottom: 0.5em;}#sk-container-id-3 div.sk-estimator:hover {background-color: #d4ebff;}#sk-container-id-3 div.sk-parallel-item::after {content: \"\";width: 100%;border-bottom: 1px solid gray;flex-grow: 1;}#sk-container-id-3 div.sk-label:hover label.sk-toggleable__label {background-color: #d4ebff;}#sk-container-id-3 div.sk-serial::before {content: \"\";position: absolute;border-left: 1px solid gray;box-sizing: border-box;top: 0;bottom: 0;left: 50%;z-index: 0;}#sk-container-id-3 div.sk-serial {display: flex;flex-direction: column;align-items: center;background-color: white;padding-right: 0.2em;padding-left: 0.2em;position: relative;}#sk-container-id-3 div.sk-item {position: relative;z-index: 1;}#sk-container-id-3 div.sk-parallel {display: flex;align-items: stretch;justify-content: center;background-color: white;position: relative;}#sk-container-id-3 div.sk-item::before, #sk-container-id-3 div.sk-parallel-item::before {content: \"\";position: absolute;border-left: 1px solid gray;box-sizing: border-box;top: 0;bottom: 0;left: 50%;z-index: -1;}#sk-container-id-3 div.sk-parallel-item {display: flex;flex-direction: column;z-index: 1;position: relative;background-color: white;}#sk-container-id-3 div.sk-parallel-item:first-child::after {align-self: flex-end;width: 50%;}#sk-container-id-3 div.sk-parallel-item:last-child::after {align-self: flex-start;width: 50%;}#sk-container-id-3 div.sk-parallel-item:only-child::after {width: 0;}#sk-container-id-3 div.sk-dashed-wrapped {border: 1px dashed gray;margin: 0 0.4em 0.5em 0.4em;box-sizing: border-box;padding-bottom: 0.4em;background-color: white;}#sk-container-id-3 div.sk-label label {font-family: monospace;font-weight: bold;display: inline-block;line-height: 1.2em;}#sk-container-id-3 div.sk-label-container {text-align: center;}#sk-container-id-3 div.sk-container {/* jupyter's `normalize.less` sets `[hidden] { display: none; }` but bootstrap.min.css set `[hidden] { display: none !important; }` so we also need the `!important` here to be able to override the default hidden behavior on the sphinx rendered scikit-learn.org. See: https://github.com/scikit-learn/scikit-learn/issues/21755 */display: inline-block !important;position: relative;}#sk-container-id-3 div.sk-text-repr-fallback {display: none;}</style><div id=\"sk-container-id-3\" class=\"sk-top-container\"><div class=\"sk-text-repr-fallback\"><pre>LinearRegression()</pre><b>In a Jupyter environment, please rerun this cell to show the HTML representation or trust the notebook. <br />On GitHub, the HTML representation is unable to render, please try loading this page with nbviewer.org.</b></div><div class=\"sk-container\" hidden><div class=\"sk-item\"><div class=\"sk-estimator sk-toggleable\"><input class=\"sk-toggleable__control sk-hidden--visually\" id=\"sk-estimator-id-3\" type=\"checkbox\" checked><label for=\"sk-estimator-id-3\" class=\"sk-toggleable__label sk-toggleable__label-arrow\">LinearRegression</label><div class=\"sk-toggleable__content\"><pre>LinearRegression()</pre></div></div></div></div></div>"
      ],
      "text/plain": [
       "LinearRegression()"
      ]
     },
     "execution_count": 8,
     "metadata": {},
     "output_type": "execute_result"
    }
   ],
   "source": [
    "## step1 \n",
    "df_train, df_test = sklearn.model_selection.train_test_split(df,test_size=0.3,random_state=42)\n",
    "X = df_train.loc[:,'gpa':'toeic499']\n",
    "y = df_train[['employment_score']]\n",
    "XX = df_test.loc[:,'gpa':'toeic499']\n",
    "yy = df_test[['employment_score']]\n",
    "## step2 \n",
    "predictr = sklearn.linear_model.LinearRegression()\n",
    "## step3\n",
    "predictr.fit(X,y)\n",
    "## step4 : pass \n"
   ]
  },
  {
   "cell_type": "markdown",
   "metadata": {},
   "source": [
    "`-` 평가"
   ]
  },
  {
   "cell_type": "code",
   "execution_count": 9,
   "metadata": {},
   "outputs": [
    {
     "name": "stdout",
     "output_type": "stream",
     "text": [
      "train_score:\t 1.0000\n",
      "test_score:\t 0.1171\n"
     ]
    }
   ],
   "source": [
    "print(f'train_score:\\t {predictr.score(X,y):.4f}')\n",
    "print(f'test_score:\\t {predictr.score(XX,yy):.4f}')"
   ]
  },
  {
   "cell_type": "markdown",
   "metadata": {},
   "source": [
    "# 6. Lasso"
   ]
  },
  {
   "cell_type": "markdown",
   "metadata": {},
   "source": [
    "`-` Lasso를 이용 "
   ]
  },
  {
   "cell_type": "code",
   "execution_count": 10,
   "metadata": {},
   "outputs": [
    {
     "name": "stderr",
     "output_type": "stream",
     "text": [
      "/home/jy/anaconda3/envs/py38/lib/python3.8/site-packages/sklearn/linear_model/_coordinate_descent.py:628: ConvergenceWarning: Objective did not converge. You might want to increase the number of iterations, check the scale of the features or consider increasing regularisation. Duality gap: 5.877e+01, tolerance: 3.337e-01\n",
      "  model = cd_fast.enet_coordinate_descent(\n"
     ]
    },
    {
     "data": {
      "text/html": [
       "<style>#sk-container-id-4 {color: black;}#sk-container-id-4 pre{padding: 0;}#sk-container-id-4 div.sk-toggleable {background-color: white;}#sk-container-id-4 label.sk-toggleable__label {cursor: pointer;display: block;width: 100%;margin-bottom: 0;padding: 0.3em;box-sizing: border-box;text-align: center;}#sk-container-id-4 label.sk-toggleable__label-arrow:before {content: \"▸\";float: left;margin-right: 0.25em;color: #696969;}#sk-container-id-4 label.sk-toggleable__label-arrow:hover:before {color: black;}#sk-container-id-4 div.sk-estimator:hover label.sk-toggleable__label-arrow:before {color: black;}#sk-container-id-4 div.sk-toggleable__content {max-height: 0;max-width: 0;overflow: hidden;text-align: left;background-color: #f0f8ff;}#sk-container-id-4 div.sk-toggleable__content pre {margin: 0.2em;color: black;border-radius: 0.25em;background-color: #f0f8ff;}#sk-container-id-4 input.sk-toggleable__control:checked~div.sk-toggleable__content {max-height: 200px;max-width: 100%;overflow: auto;}#sk-container-id-4 input.sk-toggleable__control:checked~label.sk-toggleable__label-arrow:before {content: \"▾\";}#sk-container-id-4 div.sk-estimator input.sk-toggleable__control:checked~label.sk-toggleable__label {background-color: #d4ebff;}#sk-container-id-4 div.sk-label input.sk-toggleable__control:checked~label.sk-toggleable__label {background-color: #d4ebff;}#sk-container-id-4 input.sk-hidden--visually {border: 0;clip: rect(1px 1px 1px 1px);clip: rect(1px, 1px, 1px, 1px);height: 1px;margin: -1px;overflow: hidden;padding: 0;position: absolute;width: 1px;}#sk-container-id-4 div.sk-estimator {font-family: monospace;background-color: #f0f8ff;border: 1px dotted black;border-radius: 0.25em;box-sizing: border-box;margin-bottom: 0.5em;}#sk-container-id-4 div.sk-estimator:hover {background-color: #d4ebff;}#sk-container-id-4 div.sk-parallel-item::after {content: \"\";width: 100%;border-bottom: 1px solid gray;flex-grow: 1;}#sk-container-id-4 div.sk-label:hover label.sk-toggleable__label {background-color: #d4ebff;}#sk-container-id-4 div.sk-serial::before {content: \"\";position: absolute;border-left: 1px solid gray;box-sizing: border-box;top: 0;bottom: 0;left: 50%;z-index: 0;}#sk-container-id-4 div.sk-serial {display: flex;flex-direction: column;align-items: center;background-color: white;padding-right: 0.2em;padding-left: 0.2em;position: relative;}#sk-container-id-4 div.sk-item {position: relative;z-index: 1;}#sk-container-id-4 div.sk-parallel {display: flex;align-items: stretch;justify-content: center;background-color: white;position: relative;}#sk-container-id-4 div.sk-item::before, #sk-container-id-4 div.sk-parallel-item::before {content: \"\";position: absolute;border-left: 1px solid gray;box-sizing: border-box;top: 0;bottom: 0;left: 50%;z-index: -1;}#sk-container-id-4 div.sk-parallel-item {display: flex;flex-direction: column;z-index: 1;position: relative;background-color: white;}#sk-container-id-4 div.sk-parallel-item:first-child::after {align-self: flex-end;width: 50%;}#sk-container-id-4 div.sk-parallel-item:last-child::after {align-self: flex-start;width: 50%;}#sk-container-id-4 div.sk-parallel-item:only-child::after {width: 0;}#sk-container-id-4 div.sk-dashed-wrapped {border: 1px dashed gray;margin: 0 0.4em 0.5em 0.4em;box-sizing: border-box;padding-bottom: 0.4em;background-color: white;}#sk-container-id-4 div.sk-label label {font-family: monospace;font-weight: bold;display: inline-block;line-height: 1.2em;}#sk-container-id-4 div.sk-label-container {text-align: center;}#sk-container-id-4 div.sk-container {/* jupyter's `normalize.less` sets `[hidden] { display: none; }` but bootstrap.min.css set `[hidden] { display: none !important; }` so we also need the `!important` here to be able to override the default hidden behavior on the sphinx rendered scikit-learn.org. See: https://github.com/scikit-learn/scikit-learn/issues/21755 */display: inline-block !important;position: relative;}#sk-container-id-4 div.sk-text-repr-fallback {display: none;}</style><div id=\"sk-container-id-4\" class=\"sk-top-container\"><div class=\"sk-text-repr-fallback\"><pre>Lasso(alpha=1)</pre><b>In a Jupyter environment, please rerun this cell to show the HTML representation or trust the notebook. <br />On GitHub, the HTML representation is unable to render, please try loading this page with nbviewer.org.</b></div><div class=\"sk-container\" hidden><div class=\"sk-item\"><div class=\"sk-estimator sk-toggleable\"><input class=\"sk-toggleable__control sk-hidden--visually\" id=\"sk-estimator-id-4\" type=\"checkbox\" checked><label for=\"sk-estimator-id-4\" class=\"sk-toggleable__label sk-toggleable__label-arrow\">Lasso</label><div class=\"sk-toggleable__content\"><pre>Lasso(alpha=1)</pre></div></div></div></div></div>"
      ],
      "text/plain": [
       "Lasso(alpha=1)"
      ]
     },
     "execution_count": 10,
     "metadata": {},
     "output_type": "execute_result"
    }
   ],
   "source": [
    "## step1 \n",
    "df_train, df_test = sklearn.model_selection.train_test_split(df,test_size=0.3,random_state=42)\n",
    "X = df_train.loc[:,'gpa':'toeic499']\n",
    "y = df_train[['employment_score']]\n",
    "XX = df_test.loc[:,'gpa':'toeic499']\n",
    "yy = df_test[['employment_score']]\n",
    "## step2 \n",
    "predictr = sklearn.linear_model.Lasso(alpha=1)\n",
    "## step3\n",
    "predictr.fit(X,y)\n",
    "## step4 : pass "
   ]
  },
  {
   "cell_type": "markdown",
   "metadata": {},
   "source": [
    "`-` 평가"
   ]
  },
  {
   "cell_type": "code",
   "execution_count": 12,
   "metadata": {},
   "outputs": [
    {
     "name": "stdout",
     "output_type": "stream",
     "text": [
      "train_score:\t 0.8600\n",
      "test_score:\t 0.8306\n"
     ]
    }
   ],
   "source": [
    "print(f'train_score:\\t {predictr.score(X,y):.4f}')\n",
    "print(f'test_score:\\t {predictr.score(XX,yy):.4f}')"
   ]
  },
  {
   "cell_type": "markdown",
   "metadata": {},
   "source": [
    "# 7. Lasso는 왜 결과를 좋게 만들까? "
   ]
  },
  {
   "cell_type": "markdown",
   "metadata": {},
   "source": [
    "## A. 정확한 설명 "
   ]
  },
  {
   "cell_type": "markdown",
   "metadata": {},
   "source": [
    "`-` 어려워요..\n"
   ]
  },
  {
   "cell_type": "markdown",
   "metadata": {},
   "source": [
    "## B.  직관적 설명 (엄밀하지 않은 설명)"
   ]
  },
  {
   "cell_type": "markdown",
   "metadata": {},
   "source": [
    "`-` 느낌: 몇 개의 toeic coef들로 쉽게 0.01을 만들게 해서는 안된다. \n",
    "\n",
    "- 아이디어1: 0.01을 **동일한 값으로 균등하게 배분한다**. -- Ridge, L2-penalty \n",
    "- 아이디어2: 아주 적은숫자의 coef만을 살려두고 나머지 coef값은 0으로 강제한다. -- Lasso, L1-penalty"
   ]
  },
  {
   "cell_type": "markdown",
   "metadata": {},
   "source": [
    "`-` 계수값이 0이라는 의미: 그 변수를 제거한것과 같은 효과 "
   ]
  },
  {
   "cell_type": "markdown",
   "metadata": {},
   "source": [
    "`-` 아이디어2의 기원: `y ~ toeic + gpa` 가 트루이지만, `y ~ toeic0 + gpa` 으로 적합해도 괜찮잖아? "
   ]
  },
  {
   "cell_type": "markdown",
   "metadata": {},
   "source": [
    "`-` 진짜 학습된 계수값이 대부분 0인지 확인해보자."
   ]
  },
  {
   "cell_type": "code",
   "execution_count": 13,
   "metadata": {},
   "outputs": [
    {
     "data": {
      "text/plain": [
       "[<matplotlib.lines.Line2D at 0x7fef9cb26f70>]"
      ]
     },
     "execution_count": 13,
     "metadata": {},
     "output_type": "execute_result"
    },
    {
     "data": {
      "image/png": "[encoded data removed]",
      "text/plain": [
       "<Figure size 432x288 with 1 Axes>"
      ]
     },
     "metadata": {
      "needs_background": "light"
     },
     "output_type": "display_data"
    }
   ],
   "source": [
    "plt.plot(predictr.coef_[1:])"
   ]
  },
  {
   "cell_type": "markdown",
   "metadata": {},
   "source": [
    "## C. $\\alpha$ 에 따른 변화 관찰 "
   ]
  },
  {
   "cell_type": "markdown",
   "metadata": {},
   "source": [
    "`-` 여러개의 predictor 학습 "
   ]
  },
  {
   "cell_type": "code",
   "execution_count": 17,
   "metadata": {},
   "outputs": [],
   "source": [
    "import warnings\n",
    "warnings.filterwarnings('ignore')"
   ]
  },
  {
   "cell_type": "code",
   "execution_count": 18,
   "metadata": {},
   "outputs": [],
   "source": [
    "## step1 \n",
    "df_train, df_test = sklearn.model_selection.train_test_split(df,test_size=0.3,random_state=42)\n",
    "X = df_train.loc[:,'gpa':'toeic499']\n",
    "y = df_train[['employment_score']]\n",
    "XX = df_test.loc[:,'gpa':'toeic499']\n",
    "yy = df_test[['employment_score']]\n",
    "## step2 \n",
    "alphas = np.linspace(0,2,100) # 0부터 2까지 100개 (등간격)\n",
    "predictrs = [sklearn.linear_model.Lasso(alpha=alpha) for alpha in alphas]\n",
    "## step3\n",
    "for predictr in predictrs: \n",
    "    predictr.fit(X,y)\n",
    "## step4 : pass "
   ]
  },
  {
   "cell_type": "code",
   "execution_count": 19,
   "metadata": {},
   "outputs": [
    {
     "data": {
      "text/plain": [
       "<matplotlib.legend.Legend at 0x7fef9c3e4730>"
      ]
     },
     "execution_count": 19,
     "metadata": {},
     "output_type": "execute_result"
    },
    {
     "data": {
      "image/png": "[encoded data removed]",
      "text/plain": [
       "<Figure size 432x288 with 1 Axes>"
      ]
     },
     "metadata": {
      "needs_background": "light"
     },
     "output_type": "display_data"
    }
   ],
   "source": [
    "plt.plot(predictrs[0].coef_[1:],label=r'$\\alpha={}$'.format(predictrs[0].alpha))\n",
    "plt.plot(predictrs[50].coef_[1:],label=r'$\\alpha={}$'.format(predictrs[50].alpha))\n",
    "plt.plot(predictrs[-1].coef_[1:],label=r'$\\alpha={}$'.format(predictrs[-1].alpha))\n",
    "plt.legend()"
   ]
  },
  {
   "cell_type": "markdown",
   "metadata": {},
   "source": [
    "- $\\alpha$가 $0$일때는 모든계수가 살아있음."
   ]
  },
  {
   "cell_type": "markdown",
   "metadata": {},
   "source": [
    "`-` predictor 들의 toeic 계수합은 여전히 0.01 근처"
   ]
  },
  {
   "cell_type": "code",
   "execution_count": 20,
   "metadata": {},
   "outputs": [
    {
     "name": "stdout",
     "output_type": "stream",
     "text": [
      "alpha=0.0000\tsum(toeic_coef)=0.010291301406468494\n",
      "alpha=1.0101\tsum(toeic_coef)=0.009986115762478664\n",
      "alpha=2.0000\tsum(toeic_coef)=0.009864586871194559\n"
     ]
    }
   ],
   "source": [
    "print(f'alpha={predictrs[0].alpha:.4f}\\tsum(toeic_coef)={predictrs[0].coef_[1:].sum()}')\n",
    "print(f'alpha={predictrs[50].alpha:.4f}\\tsum(toeic_coef)={predictrs[50].coef_[1:].sum()}')\n",
    "print(f'alpha={predictrs[-1].alpha:.4f}\\tsum(toeic_coef)={predictrs[-1].coef_[1:].sum()}')"
   ]
  },
  {
   "cell_type": "markdown",
   "metadata": {},
   "source": [
    "`-` number of non-zero coefs 를 시각화 "
   ]
  },
  {
   "cell_type": "code",
   "execution_count": 21,
   "metadata": {},
   "outputs": [],
   "source": [
    "non_zero_coefs = [(abs(predictr.coef_[1:])>0).sum() for predictr in predictrs]"
   ]
  },
  {
   "cell_type": "code",
   "execution_count": 22,
   "metadata": {},
   "outputs": [
    {
     "data": {
      "text/plain": [
       "[<matplotlib.lines.Line2D at 0x7fef9c290f10>]"
      ]
     },
     "execution_count": 22,
     "metadata": {},
     "output_type": "execute_result"
    },
    {
     "data": {
      "image/png": "[encoded data removed]",
      "text/plain": [
       "<Figure size 432x288 with 1 Axes>"
      ]
     },
     "metadata": {
      "needs_background": "light"
     },
     "output_type": "display_data"
    }
   ],
   "source": [
    "plt.plot(alphas, non_zero_coefs)"
   ]
  },
  {
   "cell_type": "markdown",
   "metadata": {},
   "source": [
    "## D. coef를 0으로 만드는 수학적 장치 "
   ]
  },
  {
   "cell_type": "markdown",
   "metadata": {},
   "source": [
    "`-` Ridge(복습): coef의 값들을 엔빵하는 수학적 장치\n",
    "\n",
    "- 패널티: 유사토익들의 계수값을 제곱한뒤 합치고(=L2-norm을 구하고), 그 값이 0에서 떨어져 있을 수록 패널티를 줄꺼야! "
   ]
  },
  {
   "cell_type": "markdown",
   "metadata": {},
   "source": [
    "`-` Lasso: coef의 값들을 대부분 0으로 만드는 수학적 장치\n",
    "\n",
    "- 패널티: 유사토익들의 계수값의 절대값을 구한뒤에 합치고(=L1-norm을 구하고), 그 값이 0에서 떨어져 있을 수록 패널티를 줄꺼야! "
   ]
  },
  {
   "cell_type": "markdown",
   "metadata": {},
   "source": [
    "`-` 사실 L1, L2 패널티에 따라서 이러한 결과가 나오는 것은 이해하기 어렵다. (그래서 취업/대학원 진학시 단골질문중 하나)"
   ]
  },
  {
   "cell_type": "markdown",
   "metadata": {},
   "source": [
    "> **Lasso와 Ridge의 coefficient에 관한 질문은 많이 나온다.**"
   ]
  }
 ],
 "metadata": {
  "kernelspec": {
   "display_name": "Python 3",
   "language": "python",
   "name": "python3"
  },
  "language_info": {
   "codemirror_mode": {
    "name": "ipython",
    "version": 3
   },
   "file_extension": ".py",
   "mimetype": "text/x-python",
   "name": "python",
   "nbconvert_exporter": "python",
   "pygments_lexer": "ipython3",
   "version": "3.8.16"
  }
 },
 "nbformat": 4,
 "nbformat_minor": 4
}
