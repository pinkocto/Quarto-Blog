{
 "cells": [
  {
   "cell_type": "raw",
   "id": "a088ad99-db87-42ec-88f6-d30deb969f2b",
   "metadata": {},
   "source": [
    "---\n",
    "title: \"02wk-005: 타이타닉, Autogluon\"\n",
    "author: \"최규빈\"\n",
    "date: \"09/12/2023\"\n",
    "---"
   ]
  },
  {
   "cell_type": "markdown",
   "id": "09e8e36f-ae89-4436-803a-9733dc77ec3f",
   "metadata": {},
   "source": [
    "# 1. 강의영상\n",
    "\n",
    "<https://youtu.be/playlist?list=PLQqh36zP38-zZrOGpLc8spPa9L39RiNhR&si=TFl5m9-VohYT_47L>\n",
    "\n",
    "# 2. Import"
   ]
  },
  {
   "cell_type": "code",
   "execution_count": 21,
   "id": "08a6729a-55a2-4aa6-8efd-a57232923755",
   "metadata": {},
   "outputs": [],
   "source": [
    "import numpy as np # linear algebra\n",
    "import pandas as pd # data processing, CSV file I/O (e.g. pd.read_csv)"
   ]
  },
  {
   "cell_type": "code",
   "execution_count": 2,
   "id": "438db173-0810-4140-98cd-65314c5695af",
   "metadata": {},
   "outputs": [],
   "source": [
    "# !pip install autogluon"
   ]
  },
  {
   "cell_type": "code",
   "execution_count": 3,
   "id": "77a36c4a-ac65-4270-bb1e-bca688db2eb1",
   "metadata": {},
   "outputs": [],
   "source": [
    "from autogluon.tabular import TabularDataset, TabularPredictor"
   ]
  },
  {
   "cell_type": "markdown",
   "id": "51c00c41-e76b-49d9-b49c-9af1a6240272",
   "metadata": {},
   "source": [
    "# 3. 분석의 절차\n",
    "\n",
    "## A. 데이터\n",
    "\n",
    "`-` 비유: 문제를 받아오는 과정으로 비유할 수 있다."
   ]
  },
  {
   "cell_type": "code",
   "execution_count": 11,
   "id": "d2622720-773a-4a8b-b2bf-dd73ad4eda17",
   "metadata": {},
   "outputs": [],
   "source": [
    "# import os\n",
    "# os.getcwd()"
   ]
  },
  {
   "cell_type": "code",
   "execution_count": 9,
   "id": "7c66df28-7fe6-47de-ba1f-4d1c74976f0f",
   "metadata": {},
   "outputs": [],
   "source": [
    "# tr = TabularDataset(\"/kaggle/input/titanic/train.csv\")\n",
    "# tst = TabularDataset(\"/kaggle/input/titanic/test.csv\")\n",
    "\n",
    "tr = TabularDataset(\"./titanic/train.csv\")\n",
    "tst = TabularDataset(\"./titanic/test.csv\")"
   ]
  },
  {
   "cell_type": "code",
   "execution_count": 15,
   "id": "13773c77-731e-47c5-beca-644ba219d416",
   "metadata": {},
   "outputs": [
    {
     "data": {
      "text/plain": [
       "(autogluon.core.dataset.TabularDataset, autogluon.core.dataset.TabularDataset)"
      ]
     },
     "execution_count": 15,
     "metadata": {},
     "output_type": "execute_result"
    }
   ],
   "source": [
    "type(tr), type(tst)"
   ]
  },
  {
   "cell_type": "markdown",
   "id": "3179b628-c55f-458f-bff0-78ac6ac184b8",
   "metadata": {},
   "source": [
    "## B. Predictor 생성\n",
    "\n",
    "`-` 비유: 문제를 풀 학생을 생성하는 과정으로 비유할 수 있다."
   ]
  },
  {
   "cell_type": "code",
   "execution_count": 12,
   "id": "0ba98784-7f27-48dd-9b7f-6c0a738eb56c",
   "metadata": {},
   "outputs": [
    {
     "name": "stderr",
     "output_type": "stream",
     "text": [
      "No path specified. Models will be saved in: \"AutogluonModels/ag-20230913_055133/\"\n"
     ]
    }
   ],
   "source": [
    "predictr = TabularPredictor(\"Survived\")"
   ]
  },
  {
   "cell_type": "markdown",
   "id": "5986e033-b516-472a-8f6d-094a992b7436",
   "metadata": {},
   "source": [
    "## C. 적합(fit)\n",
    "\n",
    "`-` 비유: 학생이 공부를 하는 과정으로 비유할 수 있다.\n",
    "\n",
    "`-` 학습"
   ]
  },
  {
   "cell_type": "markdown",
   "id": "1d78e177-72c1-481a-80b8-cc415c283bc6",
   "metadata": {},
   "source": [
    "predictr은 인스턴스니까 숨겨진 메소드가 있다."
   ]
  },
  {
   "cell_type": "code",
   "execution_count": 13,
   "id": "2ff440a6-2707-4849-8c16-efb51eb4f3b4",
   "metadata": {},
   "outputs": [
    {
     "name": "stderr",
     "output_type": "stream",
     "text": [
      "Beginning AutoGluon training ...\n",
      "AutoGluon will save models to \"AutogluonModels/ag-20230913_055133/\"\n",
      "AutoGluon Version:  0.8.2\n",
      "Python Version:     3.8.16\n",
      "Operating System:   Linux\n",
      "Platform Machine:   x86_64\n",
      "Platform Version:   #26~22.04.1-Ubuntu SMP PREEMPT_DYNAMIC Thu Jul 13 16:27:29 UTC 2\n",
      "Disk Space Avail:   675.53 GB / 982.82 GB (68.7%)\n",
      "Train Data Rows:    891\n",
      "Train Data Columns: 11\n",
      "Label Column: Survived\n",
      "Preprocessing data ...\n",
      "AutoGluon infers your prediction problem is: 'binary' (because only two unique label-values observed).\n",
      "\t2 unique label values:  [0, 1]\n",
      "\tIf 'binary' is not the correct problem_type, please manually specify the problem_type parameter during predictor init (You may specify problem_type as one of: ['binary', 'multiclass', 'regression'])\n",
      "Selected class <--> label mapping:  class 1 = 1, class 0 = 0\n",
      "Using Feature Generators to preprocess the data ...\n",
      "Fitting AutoMLPipelineFeatureGenerator...\n",
      "\tAvailable Memory:                    37551.07 MB\n",
      "\tTrain Data (Original)  Memory Usage: 0.31 MB (0.0% of available memory)\n",
      "\tInferring data type of each feature based on column values. Set feature_metadata_in to manually specify special dtypes of the features.\n",
      "\tStage 1 Generators:\n",
      "\t\tFitting AsTypeFeatureGenerator...\n",
      "\t\t\tNote: Converting 1 features to boolean dtype as they only contain 2 unique values.\n",
      "\tStage 2 Generators:\n",
      "\t\tFitting FillNaFeatureGenerator...\n",
      "\tStage 3 Generators:\n",
      "\t\tFitting IdentityFeatureGenerator...\n",
      "\t\tFitting CategoryFeatureGenerator...\n",
      "\t\t\tFitting CategoryMemoryMinimizeFeatureGenerator...\n",
      "\t\tFitting TextSpecialFeatureGenerator...\n",
      "\t\t\tFitting BinnedFeatureGenerator...\n",
      "\t\t\tFitting DropDuplicatesFeatureGenerator...\n",
      "\t\tFitting TextNgramFeatureGenerator...\n",
      "\t\t\tFitting CountVectorizer for text features: ['Name']\n",
      "\t\t\tCountVectorizer fit with vocabulary size = 8\n",
      "\tStage 4 Generators:\n",
      "\t\tFitting DropUniqueFeatureGenerator...\n",
      "\tStage 5 Generators:\n",
      "\t\tFitting DropDuplicatesFeatureGenerator...\n",
      "\tTypes of features in original data (raw dtype, special dtypes):\n",
      "\t\t('float', [])        : 2 | ['Age', 'Fare']\n",
      "\t\t('int', [])          : 4 | ['PassengerId', 'Pclass', 'SibSp', 'Parch']\n",
      "\t\t('object', [])       : 4 | ['Sex', 'Ticket', 'Cabin', 'Embarked']\n",
      "\t\t('object', ['text']) : 1 | ['Name']\n",
      "\tTypes of features in processed data (raw dtype, special dtypes):\n",
      "\t\t('category', [])                    : 3 | ['Ticket', 'Cabin', 'Embarked']\n",
      "\t\t('float', [])                       : 2 | ['Age', 'Fare']\n",
      "\t\t('int', [])                         : 4 | ['PassengerId', 'Pclass', 'SibSp', 'Parch']\n",
      "\t\t('int', ['binned', 'text_special']) : 9 | ['Name.char_count', 'Name.word_count', 'Name.capital_ratio', 'Name.lower_ratio', 'Name.special_ratio', ...]\n",
      "\t\t('int', ['bool'])                   : 1 | ['Sex']\n",
      "\t\t('int', ['text_ngram'])             : 9 | ['__nlp__.henry', '__nlp__.john', '__nlp__.master', '__nlp__.miss', '__nlp__.mr', ...]\n",
      "\t0.2s = Fit runtime\n",
      "\t11 features in original data used to generate 28 features in processed data.\n",
      "\tTrain Data (Processed) Memory Usage: 0.07 MB (0.0% of available memory)\n",
      "Data preprocessing and feature engineering runtime = 0.21s ...\n",
      "AutoGluon will gauge predictive performance using evaluation metric: 'accuracy'\n",
      "\tTo change this, specify the eval_metric parameter of Predictor()\n",
      "Automatically generating train/validation split with holdout_frac=0.2, Train Rows: 712, Val Rows: 179\n",
      "User-specified model hyperparameters to be fit:\n",
      "{\n",
      "\t'NN_TORCH': {},\n",
      "\t'GBM': [{'extra_trees': True, 'ag_args': {'name_suffix': 'XT'}}, {}, 'GBMLarge'],\n",
      "\t'CAT': {},\n",
      "\t'XGB': {},\n",
      "\t'FASTAI': {},\n",
      "\t'RF': [{'criterion': 'gini', 'ag_args': {'name_suffix': 'Gini', 'problem_types': ['binary', 'multiclass']}}, {'criterion': 'entropy', 'ag_args': {'name_suffix': 'Entr', 'problem_types': ['binary', 'multiclass']}}, {'criterion': 'squared_error', 'ag_args': {'name_suffix': 'MSE', 'problem_types': ['regression', 'quantile']}}],\n",
      "\t'XT': [{'criterion': 'gini', 'ag_args': {'name_suffix': 'Gini', 'problem_types': ['binary', 'multiclass']}}, {'criterion': 'entropy', 'ag_args': {'name_suffix': 'Entr', 'problem_types': ['binary', 'multiclass']}}, {'criterion': 'squared_error', 'ag_args': {'name_suffix': 'MSE', 'problem_types': ['regression', 'quantile']}}],\n",
      "\t'KNN': [{'weights': 'uniform', 'ag_args': {'name_suffix': 'Unif'}}, {'weights': 'distance', 'ag_args': {'name_suffix': 'Dist'}}],\n",
      "}\n",
      "Fitting 13 L1 models ...\n",
      "Fitting model: KNeighborsUnif ...\n",
      "\t0.6536\t = Validation score   (accuracy)\n",
      "\t0.01s\t = Training   runtime\n",
      "\t0.03s\t = Validation runtime\n",
      "Fitting model: KNeighborsDist ...\n",
      "\t0.6536\t = Validation score   (accuracy)\n",
      "\t0.01s\t = Training   runtime\n",
      "\t0.0s\t = Validation runtime\n",
      "Fitting model: LightGBMXT ...\n",
      "\t0.8156\t = Validation score   (accuracy)\n",
      "\t0.23s\t = Training   runtime\n",
      "\t0.0s\t = Validation runtime\n",
      "Fitting model: LightGBM ...\n",
      "\t0.8212\t = Validation score   (accuracy)\n",
      "\t0.14s\t = Training   runtime\n",
      "\t0.0s\t = Validation runtime\n",
      "Fitting model: RandomForestGini ...\n",
      "\t0.8156\t = Validation score   (accuracy)\n",
      "\t0.29s\t = Training   runtime\n",
      "\t0.02s\t = Validation runtime\n",
      "Fitting model: RandomForestEntr ...\n",
      "\t0.8156\t = Validation score   (accuracy)\n",
      "\t0.25s\t = Training   runtime\n",
      "\t0.02s\t = Validation runtime\n",
      "Fitting model: CatBoost ...\n",
      "\t0.8268\t = Validation score   (accuracy)\n",
      "\t0.38s\t = Training   runtime\n",
      "\t0.0s\t = Validation runtime\n",
      "Fitting model: ExtraTreesGini ...\n",
      "\t0.8156\t = Validation score   (accuracy)\n",
      "\t0.26s\t = Training   runtime\n",
      "\t0.02s\t = Validation runtime\n",
      "Fitting model: ExtraTreesEntr ...\n",
      "\t0.8101\t = Validation score   (accuracy)\n",
      "\t0.26s\t = Training   runtime\n",
      "\t0.02s\t = Validation runtime\n",
      "Fitting model: NeuralNetFastAI ...\n",
      "No improvement since epoch 9: early stopping\n",
      "\t0.8324\t = Validation score   (accuracy)\n",
      "\t1.05s\t = Training   runtime\n",
      "\t0.01s\t = Validation runtime\n",
      "Fitting model: XGBoost ...\n",
      "\t0.8101\t = Validation score   (accuracy)\n",
      "\t0.11s\t = Training   runtime\n",
      "\t0.0s\t = Validation runtime\n",
      "Fitting model: NeuralNetTorch ...\n",
      "\t0.8212\t = Validation score   (accuracy)\n",
      "\t1.18s\t = Training   runtime\n",
      "\t0.01s\t = Validation runtime\n",
      "Fitting model: LightGBMLarge ...\n",
      "\t0.8324\t = Validation score   (accuracy)\n",
      "\t0.35s\t = Training   runtime\n",
      "\t0.0s\t = Validation runtime\n",
      "Fitting model: WeightedEnsemble_L2 ...\n",
      "\t0.8324\t = Validation score   (accuracy)\n",
      "\t0.27s\t = Training   runtime\n",
      "\t0.0s\t = Validation runtime\n",
      "AutoGluon training complete, total runtime = 5.26s ... Best model: \"WeightedEnsemble_L2\"\n",
      "TabularPredictor saved. To load, use: predictor = TabularPredictor.load(\"AutogluonModels/ag-20230913_055133/\")\n"
     ]
    },
    {
     "data": {
      "text/plain": [
       "<autogluon.tabular.predictor.predictor.TabularPredictor at 0x7fb971df4220>"
      ]
     },
     "execution_count": 13,
     "metadata": {},
     "output_type": "execute_result"
    }
   ],
   "source": [
    "predictr.fit(tr) \n",
    "# 학생(predictr)에게 문제(tr)를 줘서 학습을 시킴(predictr.fit())"
   ]
  },
  {
   "cell_type": "markdown",
   "id": "f0f3bcfb-62ac-495e-b400-012214b5f5e2",
   "metadata": {},
   "source": [
    "`-` 리더보드확인 (모의고사 채점)"
   ]
  },
  {
   "cell_type": "code",
   "execution_count": 14,
   "id": "6e513eca-aed5-420d-afca-aca5ce499dc5",
   "metadata": {},
   "outputs": [
    {
     "name": "stdout",
     "output_type": "stream",
     "text": [
      "                  model  score_val  pred_time_val  fit_time  pred_time_val_marginal  fit_time_marginal  stack_level  can_infer  fit_order\n",
      "0         LightGBMLarge   0.832402       0.002752  0.347409                0.002752           0.347409            1       True         13\n",
      "1       NeuralNetFastAI   0.832402       0.007613  1.051858                0.007613           1.051858            1       True         10\n",
      "2   WeightedEnsemble_L2   0.832402       0.008036  1.318412                0.000423           0.266554            2       True         14\n",
      "3              CatBoost   0.826816       0.003309  0.381638                0.003309           0.381638            1       True          7\n",
      "4              LightGBM   0.821229       0.002449  0.144130                0.002449           0.144130            1       True          4\n",
      "5        NeuralNetTorch   0.821229       0.007525  1.182258                0.007525           1.182258            1       True         12\n",
      "6            LightGBMXT   0.815642       0.002653  0.232583                0.002653           0.232583            1       True          3\n",
      "7      RandomForestGini   0.815642       0.021465  0.288951                0.021465           0.288951            1       True          5\n",
      "8      RandomForestEntr   0.815642       0.021691  0.250421                0.021691           0.250421            1       True          6\n",
      "9        ExtraTreesGini   0.815642       0.022456  0.255295                0.022456           0.255295            1       True          8\n",
      "10              XGBoost   0.810056       0.003953  0.111502                0.003953           0.111502            1       True         11\n",
      "11       ExtraTreesEntr   0.810056       0.022516  0.263453                0.022516           0.263453            1       True          9\n",
      "12       KNeighborsDist   0.653631       0.004180  0.007864                0.004180           0.007864            1       True          2\n",
      "13       KNeighborsUnif   0.653631       0.031115  0.007931                0.031115           0.007931            1       True          1\n"
     ]
    },
    {
     "data": {
      "text/html": [
       "<div>\n",
       "<style scoped>\n",
       "    .dataframe tbody tr th:only-of-type {\n",
       "        vertical-align: middle;\n",
       "    }\n",
       "\n",
       "    .dataframe tbody tr th {\n",
       "        vertical-align: top;\n",
       "    }\n",
       "\n",
       "    .dataframe thead th {\n",
       "        text-align: right;\n",
       "    }\n",
       "</style>\n",
       "<table border=\"1\" class=\"dataframe\">\n",
       "  <thead>\n",
       "    <tr style=\"text-align: right;\">\n",
       "      <th></th>\n",
       "      <th>model</th>\n",
       "      <th>score_val</th>\n",
       "      <th>pred_time_val</th>\n",
       "      <th>fit_time</th>\n",
       "      <th>pred_time_val_marginal</th>\n",
       "      <th>fit_time_marginal</th>\n",
       "      <th>stack_level</th>\n",
       "      <th>can_infer</th>\n",
       "      <th>fit_order</th>\n",
       "    </tr>\n",
       "  </thead>\n",
       "  <tbody>\n",
       "    <tr>\n",
       "      <th>0</th>\n",
       "      <td>LightGBMLarge</td>\n",
       "      <td>0.832402</td>\n",
       "      <td>0.002752</td>\n",
       "      <td>0.347409</td>\n",
       "      <td>0.002752</td>\n",
       "      <td>0.347409</td>\n",
       "      <td>1</td>\n",
       "      <td>True</td>\n",
       "      <td>13</td>\n",
       "    </tr>\n",
       "    <tr>\n",
       "      <th>1</th>\n",
       "      <td>NeuralNetFastAI</td>\n",
       "      <td>0.832402</td>\n",
       "      <td>0.007613</td>\n",
       "      <td>1.051858</td>\n",
       "      <td>0.007613</td>\n",
       "      <td>1.051858</td>\n",
       "      <td>1</td>\n",
       "      <td>True</td>\n",
       "      <td>10</td>\n",
       "    </tr>\n",
       "    <tr>\n",
       "      <th>2</th>\n",
       "      <td>WeightedEnsemble_L2</td>\n",
       "      <td>0.832402</td>\n",
       "      <td>0.008036</td>\n",
       "      <td>1.318412</td>\n",
       "      <td>0.000423</td>\n",
       "      <td>0.266554</td>\n",
       "      <td>2</td>\n",
       "      <td>True</td>\n",
       "      <td>14</td>\n",
       "    </tr>\n",
       "    <tr>\n",
       "      <th>3</th>\n",
       "      <td>CatBoost</td>\n",
       "      <td>0.826816</td>\n",
       "      <td>0.003309</td>\n",
       "      <td>0.381638</td>\n",
       "      <td>0.003309</td>\n",
       "      <td>0.381638</td>\n",
       "      <td>1</td>\n",
       "      <td>True</td>\n",
       "      <td>7</td>\n",
       "    </tr>\n",
       "    <tr>\n",
       "      <th>4</th>\n",
       "      <td>LightGBM</td>\n",
       "      <td>0.821229</td>\n",
       "      <td>0.002449</td>\n",
       "      <td>0.144130</td>\n",
       "      <td>0.002449</td>\n",
       "      <td>0.144130</td>\n",
       "      <td>1</td>\n",
       "      <td>True</td>\n",
       "      <td>4</td>\n",
       "    </tr>\n",
       "    <tr>\n",
       "      <th>5</th>\n",
       "      <td>NeuralNetTorch</td>\n",
       "      <td>0.821229</td>\n",
       "      <td>0.007525</td>\n",
       "      <td>1.182258</td>\n",
       "      <td>0.007525</td>\n",
       "      <td>1.182258</td>\n",
       "      <td>1</td>\n",
       "      <td>True</td>\n",
       "      <td>12</td>\n",
       "    </tr>\n",
       "    <tr>\n",
       "      <th>6</th>\n",
       "      <td>LightGBMXT</td>\n",
       "      <td>0.815642</td>\n",
       "      <td>0.002653</td>\n",
       "      <td>0.232583</td>\n",
       "      <td>0.002653</td>\n",
       "      <td>0.232583</td>\n",
       "      <td>1</td>\n",
       "      <td>True</td>\n",
       "      <td>3</td>\n",
       "    </tr>\n",
       "    <tr>\n",
       "      <th>7</th>\n",
       "      <td>RandomForestGini</td>\n",
       "      <td>0.815642</td>\n",
       "      <td>0.021465</td>\n",
       "      <td>0.288951</td>\n",
       "      <td>0.021465</td>\n",
       "      <td>0.288951</td>\n",
       "      <td>1</td>\n",
       "      <td>True</td>\n",
       "      <td>5</td>\n",
       "    </tr>\n",
       "    <tr>\n",
       "      <th>8</th>\n",
       "      <td>RandomForestEntr</td>\n",
       "      <td>0.815642</td>\n",
       "      <td>0.021691</td>\n",
       "      <td>0.250421</td>\n",
       "      <td>0.021691</td>\n",
       "      <td>0.250421</td>\n",
       "      <td>1</td>\n",
       "      <td>True</td>\n",
       "      <td>6</td>\n",
       "    </tr>\n",
       "    <tr>\n",
       "      <th>9</th>\n",
       "      <td>ExtraTreesGini</td>\n",
       "      <td>0.815642</td>\n",
       "      <td>0.022456</td>\n",
       "      <td>0.255295</td>\n",
       "      <td>0.022456</td>\n",
       "      <td>0.255295</td>\n",
       "      <td>1</td>\n",
       "      <td>True</td>\n",
       "      <td>8</td>\n",
       "    </tr>\n",
       "    <tr>\n",
       "      <th>10</th>\n",
       "      <td>XGBoost</td>\n",
       "      <td>0.810056</td>\n",
       "      <td>0.003953</td>\n",
       "      <td>0.111502</td>\n",
       "      <td>0.003953</td>\n",
       "      <td>0.111502</td>\n",
       "      <td>1</td>\n",
       "      <td>True</td>\n",
       "      <td>11</td>\n",
       "    </tr>\n",
       "    <tr>\n",
       "      <th>11</th>\n",
       "      <td>ExtraTreesEntr</td>\n",
       "      <td>0.810056</td>\n",
       "      <td>0.022516</td>\n",
       "      <td>0.263453</td>\n",
       "      <td>0.022516</td>\n",
       "      <td>0.263453</td>\n",
       "      <td>1</td>\n",
       "      <td>True</td>\n",
       "      <td>9</td>\n",
       "    </tr>\n",
       "    <tr>\n",
       "      <th>12</th>\n",
       "      <td>KNeighborsDist</td>\n",
       "      <td>0.653631</td>\n",
       "      <td>0.004180</td>\n",
       "      <td>0.007864</td>\n",
       "      <td>0.004180</td>\n",
       "      <td>0.007864</td>\n",
       "      <td>1</td>\n",
       "      <td>True</td>\n",
       "      <td>2</td>\n",
       "    </tr>\n",
       "    <tr>\n",
       "      <th>13</th>\n",
       "      <td>KNeighborsUnif</td>\n",
       "      <td>0.653631</td>\n",
       "      <td>0.031115</td>\n",
       "      <td>0.007931</td>\n",
       "      <td>0.031115</td>\n",
       "      <td>0.007931</td>\n",
       "      <td>1</td>\n",
       "      <td>True</td>\n",
       "      <td>1</td>\n",
       "    </tr>\n",
       "  </tbody>\n",
       "</table>\n",
       "</div>"
      ],
      "text/plain": [
       "                  model  score_val  pred_time_val  fit_time  \\\n",
       "0         LightGBMLarge   0.832402       0.002752  0.347409   \n",
       "1       NeuralNetFastAI   0.832402       0.007613  1.051858   \n",
       "2   WeightedEnsemble_L2   0.832402       0.008036  1.318412   \n",
       "3              CatBoost   0.826816       0.003309  0.381638   \n",
       "4              LightGBM   0.821229       0.002449  0.144130   \n",
       "5        NeuralNetTorch   0.821229       0.007525  1.182258   \n",
       "6            LightGBMXT   0.815642       0.002653  0.232583   \n",
       "7      RandomForestGini   0.815642       0.021465  0.288951   \n",
       "8      RandomForestEntr   0.815642       0.021691  0.250421   \n",
       "9        ExtraTreesGini   0.815642       0.022456  0.255295   \n",
       "10              XGBoost   0.810056       0.003953  0.111502   \n",
       "11       ExtraTreesEntr   0.810056       0.022516  0.263453   \n",
       "12       KNeighborsDist   0.653631       0.004180  0.007864   \n",
       "13       KNeighborsUnif   0.653631       0.031115  0.007931   \n",
       "\n",
       "    pred_time_val_marginal  fit_time_marginal  stack_level  can_infer  \\\n",
       "0                 0.002752           0.347409            1       True   \n",
       "1                 0.007613           1.051858            1       True   \n",
       "2                 0.000423           0.266554            2       True   \n",
       "3                 0.003309           0.381638            1       True   \n",
       "4                 0.002449           0.144130            1       True   \n",
       "5                 0.007525           1.182258            1       True   \n",
       "6                 0.002653           0.232583            1       True   \n",
       "7                 0.021465           0.288951            1       True   \n",
       "8                 0.021691           0.250421            1       True   \n",
       "9                 0.022456           0.255295            1       True   \n",
       "10                0.003953           0.111502            1       True   \n",
       "11                0.022516           0.263453            1       True   \n",
       "12                0.004180           0.007864            1       True   \n",
       "13                0.031115           0.007931            1       True   \n",
       "\n",
       "    fit_order  \n",
       "0          13  \n",
       "1          10  \n",
       "2          14  \n",
       "3           7  \n",
       "4           4  \n",
       "5          12  \n",
       "6           3  \n",
       "7           5  \n",
       "8           6  \n",
       "9           8  \n",
       "10         11  \n",
       "11          9  \n",
       "12          2  \n",
       "13          1  "
      ]
     },
     "execution_count": 14,
     "metadata": {},
     "output_type": "execute_result"
    }
   ],
   "source": [
    "predictr.leaderboard()"
   ]
  },
  {
   "cell_type": "markdown",
   "id": "c991911b-76e7-4e2d-ae91-164554163c10",
   "metadata": {},
   "source": [
    "- 모형에 대한 accuracy가 나타난다.\n",
    "- validation: 실제 test에서 잘하기 위한 자체적 test라고 보면된다."
   ]
  },
  {
   "cell_type": "markdown",
   "id": "ef74e0e1-0fb8-4cc6-8f56-8717076fca09",
   "metadata": {},
   "source": [
    "## D. 예측 (predict)\n",
    "\n",
    "`-` 비유: 학습이후에 문제를 푸는 과정으로 비유할 수 있다.\n",
    "\n",
    "`-` training set 을 풀어봄 (predict) $\\to$ 점수 확인"
   ]
  },
  {
   "cell_type": "code",
   "execution_count": 16,
   "id": "91daef3c-7a51-48b6-9692-3b68b04df6b9",
   "metadata": {},
   "outputs": [
    {
     "data": {
      "text/plain": [
       "0.8810325476992144"
      ]
     },
     "execution_count": 16,
     "metadata": {},
     "output_type": "execute_result"
    }
   ],
   "source": [
    "(tr.Survived == predictr.predict(tr)).mean()"
   ]
  },
  {
   "cell_type": "code",
   "execution_count": 17,
   "id": "e521d63e-3e90-413b-8b3b-89e27bf38b26",
   "metadata": {},
   "outputs": [
    {
     "data": {
      "text/plain": [
       "0.7867564534231201"
      ]
     },
     "execution_count": 17,
     "metadata": {},
     "output_type": "execute_result"
    }
   ],
   "source": [
    "(tr.Survived == (tr.Sex == \"female\")).mean() # 예전점수와 비교"
   ]
  },
  {
   "cell_type": "markdown",
   "id": "8710c988-83c4-4e38-82d1-985e48dc2bfd",
   "metadata": {},
   "source": [
    "`-` test set 을 풀어봄 (predict) $\\to$ 점수 확인 하러 캐글에 결과제출"
   ]
  },
  {
   "cell_type": "code",
   "execution_count": 19,
   "id": "fb8b17e6-2738-4e8f-a792-e02cfb025ef2",
   "metadata": {},
   "outputs": [],
   "source": [
    "tst.assign(Survived = predictr.predict(tst)).loc[:,['PassengerId','Survived']]\\\n",
    ".to_csv(\"./titanic_sub/autogluon_submission.csv\",index=False)"
   ]
  },
  {
   "cell_type": "code",
   "execution_count": 18,
   "id": "84e86f67-e6e2-4845-a103-d57756644b6b",
   "metadata": {},
   "outputs": [
    {
     "data": {
      "text/html": [
       "<div>\n",
       "<style scoped>\n",
       "    .dataframe tbody tr th:only-of-type {\n",
       "        vertical-align: middle;\n",
       "    }\n",
       "\n",
       "    .dataframe tbody tr th {\n",
       "        vertical-align: top;\n",
       "    }\n",
       "\n",
       "    .dataframe thead th {\n",
       "        text-align: right;\n",
       "    }\n",
       "</style>\n",
       "<table border=\"1\" class=\"dataframe\">\n",
       "  <thead>\n",
       "    <tr style=\"text-align: right;\">\n",
       "      <th></th>\n",
       "      <th>PassengerId</th>\n",
       "      <th>Survived</th>\n",
       "    </tr>\n",
       "  </thead>\n",
       "  <tbody>\n",
       "    <tr>\n",
       "      <th>0</th>\n",
       "      <td>892</td>\n",
       "      <td>0</td>\n",
       "    </tr>\n",
       "    <tr>\n",
       "      <th>1</th>\n",
       "      <td>893</td>\n",
       "      <td>0</td>\n",
       "    </tr>\n",
       "    <tr>\n",
       "      <th>2</th>\n",
       "      <td>894</td>\n",
       "      <td>0</td>\n",
       "    </tr>\n",
       "    <tr>\n",
       "      <th>3</th>\n",
       "      <td>895</td>\n",
       "      <td>0</td>\n",
       "    </tr>\n",
       "    <tr>\n",
       "      <th>4</th>\n",
       "      <td>896</td>\n",
       "      <td>0</td>\n",
       "    </tr>\n",
       "    <tr>\n",
       "      <th>...</th>\n",
       "      <td>...</td>\n",
       "      <td>...</td>\n",
       "    </tr>\n",
       "    <tr>\n",
       "      <th>413</th>\n",
       "      <td>1305</td>\n",
       "      <td>0</td>\n",
       "    </tr>\n",
       "    <tr>\n",
       "      <th>414</th>\n",
       "      <td>1306</td>\n",
       "      <td>1</td>\n",
       "    </tr>\n",
       "    <tr>\n",
       "      <th>415</th>\n",
       "      <td>1307</td>\n",
       "      <td>0</td>\n",
       "    </tr>\n",
       "    <tr>\n",
       "      <th>416</th>\n",
       "      <td>1308</td>\n",
       "      <td>0</td>\n",
       "    </tr>\n",
       "    <tr>\n",
       "      <th>417</th>\n",
       "      <td>1309</td>\n",
       "      <td>0</td>\n",
       "    </tr>\n",
       "  </tbody>\n",
       "</table>\n",
       "<p>418 rows × 2 columns</p>\n",
       "</div>"
      ],
      "text/plain": [
       "     PassengerId  Survived\n",
       "0            892         0\n",
       "1            893         0\n",
       "2            894         0\n",
       "3            895         0\n",
       "4            896         0\n",
       "..           ...       ...\n",
       "413         1305         0\n",
       "414         1306         1\n",
       "415         1307         0\n",
       "416         1308         0\n",
       "417         1309         0\n",
       "\n",
       "[418 rows x 2 columns]"
      ]
     },
     "execution_count": 18,
     "metadata": {},
     "output_type": "execute_result"
    }
   ],
   "source": [
    "tst.assign(Survived = predictr.predict(tst)).loc[:,['PassengerId','Survived']]"
   ]
  },
  {
   "cell_type": "markdown",
   "id": "51efa99b-6102-4d41-9e0d-7ad798aefc0b",
   "metadata": {},
   "source": [
    "`-` TabularDataset?"
   ]
  },
  {
   "cell_type": "code",
   "execution_count": 20,
   "id": "2d6a564a-a77b-45b2-a091-f0b1bb5cb0aa",
   "metadata": {},
   "outputs": [
    {
     "data": {
      "text/plain": [
       "\u001b[0;31mInit signature:\u001b[0m \u001b[0mTabularDataset\u001b[0m\u001b[0;34m(\u001b[0m\u001b[0mdata\u001b[0m\u001b[0;34m,\u001b[0m \u001b[0;34m**\u001b[0m\u001b[0mkwargs\u001b[0m\u001b[0;34m)\u001b[0m\u001b[0;34m\u001b[0m\u001b[0;34m\u001b[0m\u001b[0m\n",
       "\u001b[0;31mSource:\u001b[0m        \n",
       "\u001b[0;32mclass\u001b[0m \u001b[0mTabularDataset\u001b[0m\u001b[0;34m(\u001b[0m\u001b[0mpd\u001b[0m\u001b[0;34m.\u001b[0m\u001b[0mDataFrame\u001b[0m\u001b[0;34m)\u001b[0m\u001b[0;34m:\u001b[0m\u001b[0;34m\u001b[0m\n",
       "\u001b[0;34m\u001b[0m    \u001b[0;34m\"\"\"\u001b[0m\n",
       "\u001b[0;34m    A dataset in tabular format (with rows = samples, columns = features/variables).\u001b[0m\n",
       "\u001b[0;34m    This object is essentially a pandas DataFrame (with some extra attributes) and all existing pandas methods can be applied to it.\u001b[0m\n",
       "\u001b[0;34m    For full list of methods/attributes, see pandas Dataframe documentation: https://pandas.pydata.org/pandas-docs/stable/reference/api/pandas.DataFrame.html\u001b[0m\n",
       "\u001b[0;34m\u001b[0m\n",
       "\u001b[0;34m    Parameters\u001b[0m\n",
       "\u001b[0;34m    ----------\u001b[0m\n",
       "\u001b[0;34m    data : :class:`pd.DataFrame` or str\u001b[0m\n",
       "\u001b[0;34m        If str, path to data file (CSV or Parquet format).\u001b[0m\n",
       "\u001b[0;34m        If you already have your data in a :class:`pd.DataFrame`, you can specify it here.\u001b[0m\n",
       "\u001b[0;34m\u001b[0m\n",
       "\u001b[0;34m    Attributes\u001b[0m\n",
       "\u001b[0;34m    ----------\u001b[0m\n",
       "\u001b[0;34m    file_path: (str)\u001b[0m\n",
       "\u001b[0;34m        Path to data file from which this `TabularDataset` was created.\u001b[0m\n",
       "\u001b[0;34m        None if `data` was a :class:`pd.DataFrame`.\u001b[0m\n",
       "\u001b[0;34m\u001b[0m\n",
       "\u001b[0;34m    Note: In addition to these attributes, `TabularDataset` also shares all the same attributes and methods of a pandas Dataframe.\u001b[0m\n",
       "\u001b[0;34m    For a detailed list, see:  https://pandas.pydata.org/pandas-docs/stable/reference/api/pandas.DataFrame.html\u001b[0m\n",
       "\u001b[0;34m\u001b[0m\n",
       "\u001b[0;34m    Examples\u001b[0m\n",
       "\u001b[0;34m    --------\u001b[0m\n",
       "\u001b[0;34m    >>> from autogluon.core.dataset import TabularDataset\u001b[0m\n",
       "\u001b[0;34m    >>> train_data = TabularDataset('https://autogluon.s3.amazonaws.com/datasets/Inc/train.csv')\u001b[0m\n",
       "\u001b[0;34m    >>> train_data.head(30)\u001b[0m\n",
       "\u001b[0;34m    >>> train_data.columns\u001b[0m\n",
       "\u001b[0;34m    \"\"\"\u001b[0m\u001b[0;34m\u001b[0m\n",
       "\u001b[0;34m\u001b[0m\u001b[0;34m\u001b[0m\n",
       "\u001b[0;34m\u001b[0m    \u001b[0m_metadata\u001b[0m \u001b[0;34m=\u001b[0m \u001b[0;34m[\u001b[0m\u001b[0;34m\"file_path\"\u001b[0m\u001b[0;34m]\u001b[0m  \u001b[0;31m# preserved properties that will be copied to a new instance of TabularDataset\u001b[0m\u001b[0;34m\u001b[0m\n",
       "\u001b[0;34m\u001b[0m\u001b[0;34m\u001b[0m\n",
       "\u001b[0;34m\u001b[0m    \u001b[0;34m@\u001b[0m\u001b[0mproperty\u001b[0m\u001b[0;34m\u001b[0m\n",
       "\u001b[0;34m\u001b[0m    \u001b[0;32mdef\u001b[0m \u001b[0m_constructor\u001b[0m\u001b[0;34m(\u001b[0m\u001b[0mself\u001b[0m\u001b[0;34m)\u001b[0m\u001b[0;34m:\u001b[0m\u001b[0;34m\u001b[0m\n",
       "\u001b[0;34m\u001b[0m        \u001b[0;32mreturn\u001b[0m \u001b[0mTabularDataset\u001b[0m\u001b[0;34m\u001b[0m\n",
       "\u001b[0;34m\u001b[0m\u001b[0;34m\u001b[0m\n",
       "\u001b[0;34m\u001b[0m    \u001b[0;34m@\u001b[0m\u001b[0mproperty\u001b[0m\u001b[0;34m\u001b[0m\n",
       "\u001b[0;34m\u001b[0m    \u001b[0;32mdef\u001b[0m \u001b[0m_constructor_sliced\u001b[0m\u001b[0;34m(\u001b[0m\u001b[0mself\u001b[0m\u001b[0;34m)\u001b[0m\u001b[0;34m:\u001b[0m\u001b[0;34m\u001b[0m\n",
       "\u001b[0;34m\u001b[0m        \u001b[0;32mreturn\u001b[0m \u001b[0mpd\u001b[0m\u001b[0;34m.\u001b[0m\u001b[0mSeries\u001b[0m\u001b[0;34m\u001b[0m\n",
       "\u001b[0;34m\u001b[0m\u001b[0;34m\u001b[0m\n",
       "\u001b[0;34m\u001b[0m    \u001b[0;32mdef\u001b[0m \u001b[0m__init__\u001b[0m\u001b[0;34m(\u001b[0m\u001b[0mself\u001b[0m\u001b[0;34m,\u001b[0m \u001b[0mdata\u001b[0m\u001b[0;34m,\u001b[0m \u001b[0;34m**\u001b[0m\u001b[0mkwargs\u001b[0m\u001b[0;34m)\u001b[0m\u001b[0;34m:\u001b[0m\u001b[0;34m\u001b[0m\n",
       "\u001b[0;34m\u001b[0m        \u001b[0;32mif\u001b[0m \u001b[0misinstance\u001b[0m\u001b[0;34m(\u001b[0m\u001b[0mdata\u001b[0m\u001b[0;34m,\u001b[0m \u001b[0mstr\u001b[0m\u001b[0;34m)\u001b[0m\u001b[0;34m:\u001b[0m\u001b[0;34m\u001b[0m\n",
       "\u001b[0;34m\u001b[0m            \u001b[0mfile_path\u001b[0m \u001b[0;34m=\u001b[0m \u001b[0mdata\u001b[0m\u001b[0;34m\u001b[0m\n",
       "\u001b[0;34m\u001b[0m            \u001b[0mdata\u001b[0m \u001b[0;34m=\u001b[0m \u001b[0mload_pd\u001b[0m\u001b[0;34m.\u001b[0m\u001b[0mload\u001b[0m\u001b[0;34m(\u001b[0m\u001b[0mfile_path\u001b[0m\u001b[0;34m)\u001b[0m\u001b[0;34m\u001b[0m\n",
       "\u001b[0;34m\u001b[0m        \u001b[0;32melse\u001b[0m\u001b[0;34m:\u001b[0m\u001b[0;34m\u001b[0m\n",
       "\u001b[0;34m\u001b[0m            \u001b[0mfile_path\u001b[0m \u001b[0;34m=\u001b[0m \u001b[0;32mNone\u001b[0m\u001b[0;34m\u001b[0m\n",
       "\u001b[0;34m\u001b[0m        \u001b[0msuper\u001b[0m\u001b[0;34m(\u001b[0m\u001b[0;34m)\u001b[0m\u001b[0;34m.\u001b[0m\u001b[0m__init__\u001b[0m\u001b[0;34m(\u001b[0m\u001b[0mdata\u001b[0m\u001b[0;34m,\u001b[0m \u001b[0;34m**\u001b[0m\u001b[0mkwargs\u001b[0m\u001b[0;34m)\u001b[0m\u001b[0;34m\u001b[0m\n",
       "\u001b[0;34m\u001b[0m        \u001b[0mself\u001b[0m\u001b[0;34m.\u001b[0m\u001b[0mfile_path\u001b[0m \u001b[0;34m=\u001b[0m \u001b[0mfile_path\u001b[0m\u001b[0;34m\u001b[0m\u001b[0;34m\u001b[0m\u001b[0m\n",
       "\u001b[0;31mFile:\u001b[0m           ~/anaconda3/envs/torch/lib/python3.8/site-packages/autogluon/core/dataset.py\n",
       "\u001b[0;31mType:\u001b[0m           type\n",
       "\u001b[0;31mSubclasses:\u001b[0m     "
      ]
     },
     "metadata": {},
     "output_type": "display_data"
    }
   ],
   "source": [
    "# pd.DataFrame <-- 클래스\n",
    "TabularDataset?? # 클래스를 상속 --> 상속받은 클래스의 기능을 물려받음."
   ]
  },
  {
   "cell_type": "markdown",
   "id": "d5f091f0-8515-4ecd-bce3-080cc49853ab",
   "metadata": {},
   "source": [
    "## Result\n",
    "\n",
    "- public Score> 0.75358"
   ]
  }
 ],
 "metadata": {
  "kernelspec": {
   "display_name": "Python 3",
   "language": "python",
   "name": "python3"
  },
  "language_info": {
   "codemirror_mode": {
    "name": "ipython",
    "version": 3
   },
   "file_extension": ".py",
   "mimetype": "text/x-python",
   "name": "python",
   "nbconvert_exporter": "python",
   "pygments_lexer": "ipython3",
   "version": "3.8.16"
  }
 },
 "nbformat": 4,
 "nbformat_minor": 5
}
