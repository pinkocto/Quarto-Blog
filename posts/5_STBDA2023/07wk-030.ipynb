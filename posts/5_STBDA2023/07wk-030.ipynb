{
 "cells": [
  {
   "cell_type": "raw",
   "id": "8ad59f44-a6d1-4803-98b5-c0e77b41accb",
   "metadata": {
    "tags": []
   },
   "source": [
    "---\n",
    "title: \"07wk-030: 아이스크림(교호작용) / 선형회귀\"\n",
    "author: \"JiyunLim\"\n",
    "date: \"10/17/2023\"\n",
    "bibliography: ref.bib\n",
    "draft: false\n",
    "---"
   ]
  },
  {
   "cell_type": "markdown",
   "id": "54a4d3df-3b20-42b0-b08c-5dfd98a0246e",
   "metadata": {},
   "source": [
    "# 1. 강의영상 "
   ]
  },
  {
   "cell_type": "markdown",
   "id": "4d3662c7-b5b5-4611-b52e-ca1177bce93e",
   "metadata": {},
   "source": [
    "<https://youtu.be/playlist?list=PLQqh36zP38-zwhGQx-SVKqORNSrWm0TYi&si=igNDnZPiKmBIpvlx>"
   ]
  },
  {
   "cell_type": "markdown",
   "id": "7251395c-8e0f-4020-aedc-76eabd80c206",
   "metadata": {},
   "source": [
    "# 2. Imports "
   ]
  },
  {
   "cell_type": "code",
   "execution_count": 6,
   "id": "183d0665-f3a8-4945-9454-75da15083048",
   "metadata": {
    "tags": []
   },
   "outputs": [],
   "source": [
    "import numpy as np\n",
    "import pandas as pd \n",
    "import matplotlib.pyplot as plt \n",
    "import sklearn.linear_model \n",
    "import sklearn.tree\n",
    "import sklearn.model_selection"
   ]
  },
  {
   "cell_type": "markdown",
   "id": "3b9b6b95-719b-411c-b571-f75d841a31a4",
   "metadata": {},
   "source": [
    "# 3. 예비학습 "
   ]
  },
  {
   "cell_type": "code",
   "execution_count": 7,
   "id": "d6d785a8-3f05-496a-be9e-776f107e3fd6",
   "metadata": {
    "tags": []
   },
   "outputs": [
    {
     "data": {
      "text/html": [
       "<div>\n",
       "<style scoped>\n",
       "    .dataframe tbody tr th:only-of-type {\n",
       "        vertical-align: middle;\n",
       "    }\n",
       "\n",
       "    .dataframe tbody tr th {\n",
       "        vertical-align: top;\n",
       "    }\n",
       "\n",
       "    .dataframe thead th {\n",
       "        text-align: right;\n",
       "    }\n",
       "</style>\n",
       "<table border=\"1\" class=\"dataframe\">\n",
       "  <thead>\n",
       "    <tr style=\"text-align: right;\">\n",
       "      <th></th>\n",
       "      <th>X1</th>\n",
       "      <th>X2</th>\n",
       "    </tr>\n",
       "  </thead>\n",
       "  <tbody>\n",
       "    <tr>\n",
       "      <th>0</th>\n",
       "      <td>2</td>\n",
       "      <td>A</td>\n",
       "    </tr>\n",
       "    <tr>\n",
       "      <th>1</th>\n",
       "      <td>3</td>\n",
       "      <td>B</td>\n",
       "    </tr>\n",
       "    <tr>\n",
       "      <th>2</th>\n",
       "      <td>4</td>\n",
       "      <td>A</td>\n",
       "    </tr>\n",
       "    <tr>\n",
       "      <th>3</th>\n",
       "      <td>1</td>\n",
       "      <td>C</td>\n",
       "    </tr>\n",
       "  </tbody>\n",
       "</table>\n",
       "</div>"
      ],
      "text/plain": [
       "   X1 X2\n",
       "0   2  A\n",
       "1   3  B\n",
       "2   4  A\n",
       "3   1  C"
      ]
     },
     "execution_count": 7,
     "metadata": {},
     "output_type": "execute_result"
    }
   ],
   "source": [
    "df = pd.DataFrame({'X1':[2,3,4,1],'X2':['A','B','A','C']})\n",
    "df "
   ]
  },
  {
   "cell_type": "code",
   "execution_count": 8,
   "id": "748d15ad",
   "metadata": {},
   "outputs": [
    {
     "data": {
      "text/html": [
       "<div>\n",
       "<style scoped>\n",
       "    .dataframe tbody tr th:only-of-type {\n",
       "        vertical-align: middle;\n",
       "    }\n",
       "\n",
       "    .dataframe tbody tr th {\n",
       "        vertical-align: top;\n",
       "    }\n",
       "\n",
       "    .dataframe thead th {\n",
       "        text-align: right;\n",
       "    }\n",
       "</style>\n",
       "<table border=\"1\" class=\"dataframe\">\n",
       "  <thead>\n",
       "    <tr style=\"text-align: right;\">\n",
       "      <th></th>\n",
       "      <th>X1</th>\n",
       "      <th>X2_A</th>\n",
       "      <th>X2_B</th>\n",
       "      <th>X2_C</th>\n",
       "    </tr>\n",
       "  </thead>\n",
       "  <tbody>\n",
       "    <tr>\n",
       "      <th>0</th>\n",
       "      <td>2</td>\n",
       "      <td>True</td>\n",
       "      <td>False</td>\n",
       "      <td>False</td>\n",
       "    </tr>\n",
       "    <tr>\n",
       "      <th>1</th>\n",
       "      <td>3</td>\n",
       "      <td>False</td>\n",
       "      <td>True</td>\n",
       "      <td>False</td>\n",
       "    </tr>\n",
       "    <tr>\n",
       "      <th>2</th>\n",
       "      <td>4</td>\n",
       "      <td>True</td>\n",
       "      <td>False</td>\n",
       "      <td>False</td>\n",
       "    </tr>\n",
       "    <tr>\n",
       "      <th>3</th>\n",
       "      <td>1</td>\n",
       "      <td>False</td>\n",
       "      <td>False</td>\n",
       "      <td>True</td>\n",
       "    </tr>\n",
       "  </tbody>\n",
       "</table>\n",
       "</div>"
      ],
      "text/plain": [
       "   X1   X2_A   X2_B   X2_C\n",
       "0   2   True  False  False\n",
       "1   3  False   True  False\n",
       "2   4   True  False  False\n",
       "3   1  False  False   True"
      ]
     },
     "execution_count": 8,
     "metadata": {},
     "output_type": "execute_result"
    }
   ],
   "source": [
    "pd.get_dummies(df)"
   ]
  },
  {
   "cell_type": "markdown",
   "id": "142c5a1d",
   "metadata": {},
   "source": [
    "- X2_A, X2_B, X2_C는 셋다 있을 필요는 없지 않나? --> 공선성문제가 생길수도 있음. "
   ]
  },
  {
   "cell_type": "code",
   "execution_count": 9,
   "id": "0a8f13c0",
   "metadata": {},
   "outputs": [
    {
     "data": {
      "text/html": [
       "<div>\n",
       "<style scoped>\n",
       "    .dataframe tbody tr th:only-of-type {\n",
       "        vertical-align: middle;\n",
       "    }\n",
       "\n",
       "    .dataframe tbody tr th {\n",
       "        vertical-align: top;\n",
       "    }\n",
       "\n",
       "    .dataframe thead th {\n",
       "        text-align: right;\n",
       "    }\n",
       "</style>\n",
       "<table border=\"1\" class=\"dataframe\">\n",
       "  <thead>\n",
       "    <tr style=\"text-align: right;\">\n",
       "      <th></th>\n",
       "      <th>X1</th>\n",
       "      <th>X2_B</th>\n",
       "      <th>X2_C</th>\n",
       "    </tr>\n",
       "  </thead>\n",
       "  <tbody>\n",
       "    <tr>\n",
       "      <th>0</th>\n",
       "      <td>2</td>\n",
       "      <td>False</td>\n",
       "      <td>False</td>\n",
       "    </tr>\n",
       "    <tr>\n",
       "      <th>1</th>\n",
       "      <td>3</td>\n",
       "      <td>True</td>\n",
       "      <td>False</td>\n",
       "    </tr>\n",
       "    <tr>\n",
       "      <th>2</th>\n",
       "      <td>4</td>\n",
       "      <td>False</td>\n",
       "      <td>False</td>\n",
       "    </tr>\n",
       "    <tr>\n",
       "      <th>3</th>\n",
       "      <td>1</td>\n",
       "      <td>False</td>\n",
       "      <td>True</td>\n",
       "    </tr>\n",
       "  </tbody>\n",
       "</table>\n",
       "</div>"
      ],
      "text/plain": [
       "   X1   X2_B   X2_C\n",
       "0   2  False  False\n",
       "1   3   True  False\n",
       "2   4  False  False\n",
       "3   1  False   True"
      ]
     },
     "execution_count": 9,
     "metadata": {},
     "output_type": "execute_result"
    }
   ],
   "source": [
    "pd.get_dummies(df,drop_first=True)"
   ]
  },
  {
   "cell_type": "markdown",
   "id": "7c1727c0-f3f7-4629-96a2-ebc71f0ec209",
   "metadata": {},
   "source": [
    "# 4. Data "
   ]
  },
  {
   "cell_type": "markdown",
   "id": "5e882e3d",
   "metadata": {},
   "source": [
    "`-` load "
   ]
  },
  {
   "cell_type": "code",
   "execution_count": 13,
   "id": "683edec5-6a74-4085-a650-9764c9aa9b17",
   "metadata": {
    "tags": []
   },
   "outputs": [
    {
     "data": {
      "text/html": [
       "<div>\n",
       "<style scoped>\n",
       "    .dataframe tbody tr th:only-of-type {\n",
       "        vertical-align: middle;\n",
       "    }\n",
       "\n",
       "    .dataframe tbody tr th {\n",
       "        vertical-align: top;\n",
       "    }\n",
       "\n",
       "    .dataframe thead th {\n",
       "        text-align: right;\n",
       "    }\n",
       "</style>\n",
       "<table border=\"1\" class=\"dataframe\">\n",
       "  <thead>\n",
       "    <tr style=\"text-align: right;\">\n",
       "      <th></th>\n",
       "      <th>temp</th>\n",
       "      <th>sales</th>\n",
       "      <th>type</th>\n",
       "    </tr>\n",
       "  </thead>\n",
       "  <tbody>\n",
       "    <tr>\n",
       "      <th>0</th>\n",
       "      <td>-4.1</td>\n",
       "      <td>32.950261</td>\n",
       "      <td>choco</td>\n",
       "    </tr>\n",
       "    <tr>\n",
       "      <th>1</th>\n",
       "      <td>-3.7</td>\n",
       "      <td>35.852524</td>\n",
       "      <td>choco</td>\n",
       "    </tr>\n",
       "    <tr>\n",
       "      <th>2</th>\n",
       "      <td>-3.0</td>\n",
       "      <td>37.428335</td>\n",
       "      <td>choco</td>\n",
       "    </tr>\n",
       "    <tr>\n",
       "      <th>3</th>\n",
       "      <td>-1.3</td>\n",
       "      <td>38.323681</td>\n",
       "      <td>choco</td>\n",
       "    </tr>\n",
       "    <tr>\n",
       "      <th>4</th>\n",
       "      <td>-0.5</td>\n",
       "      <td>39.713362</td>\n",
       "      <td>choco</td>\n",
       "    </tr>\n",
       "    <tr>\n",
       "      <th>...</th>\n",
       "      <td>...</td>\n",
       "      <td>...</td>\n",
       "      <td>...</td>\n",
       "    </tr>\n",
       "    <tr>\n",
       "      <th>95</th>\n",
       "      <td>12.4</td>\n",
       "      <td>119.708075</td>\n",
       "      <td>vanilla</td>\n",
       "    </tr>\n",
       "    <tr>\n",
       "      <th>96</th>\n",
       "      <td>13.4</td>\n",
       "      <td>129.300464</td>\n",
       "      <td>vanilla</td>\n",
       "    </tr>\n",
       "    <tr>\n",
       "      <th>97</th>\n",
       "      <td>14.7</td>\n",
       "      <td>136.596568</td>\n",
       "      <td>vanilla</td>\n",
       "    </tr>\n",
       "    <tr>\n",
       "      <th>98</th>\n",
       "      <td>15.0</td>\n",
       "      <td>136.213140</td>\n",
       "      <td>vanilla</td>\n",
       "    </tr>\n",
       "    <tr>\n",
       "      <th>99</th>\n",
       "      <td>15.2</td>\n",
       "      <td>135.595252</td>\n",
       "      <td>vanilla</td>\n",
       "    </tr>\n",
       "  </tbody>\n",
       "</table>\n",
       "<p>200 rows × 3 columns</p>\n",
       "</div>"
      ],
      "text/plain": [
       "    temp       sales     type\n",
       "0   -4.1   32.950261    choco\n",
       "1   -3.7   35.852524    choco\n",
       "2   -3.0   37.428335    choco\n",
       "3   -1.3   38.323681    choco\n",
       "4   -0.5   39.713362    choco\n",
       "..   ...         ...      ...\n",
       "95  12.4  119.708075  vanilla\n",
       "96  13.4  129.300464  vanilla\n",
       "97  14.7  136.596568  vanilla\n",
       "98  15.0  136.213140  vanilla\n",
       "99  15.2  135.595252  vanilla\n",
       "\n",
       "[200 rows x 3 columns]"
      ]
     },
     "execution_count": 13,
     "metadata": {},
     "output_type": "execute_result"
    }
   ],
   "source": [
    "np.random.seed(43052)\n",
    "temp = pd.read_csv('https://raw.githubusercontent.com/guebin/DV2022/master/posts/temp.csv').iloc[:,3].to_numpy()[:100]\n",
    "temp.sort()\n",
    "choco = 40 + temp * 2.0 + np.random.randn(100)*3\n",
    "vanilla = 60 + temp * 5.0 + np.random.randn(100)*3\n",
    "df1 = pd.DataFrame({'temp':temp,'sales':choco}).assign(type='choco')\n",
    "df2 = pd.DataFrame({'temp':temp,'sales':vanilla}).assign(type='vanilla')\n",
    "df_train = pd.concat([df1,df2])\n",
    "df_train"
   ]
  },
  {
   "cell_type": "markdown",
   "id": "cc5fb37b",
   "metadata": {},
   "source": [
    "`-` 시각화 및 해석 "
   ]
  },
  {
   "cell_type": "code",
   "execution_count": 18,
   "id": "49b5a761",
   "metadata": {},
   "outputs": [
    {
     "data": {
      "text/plain": [
       "<matplotlib.legend.Legend at 0x7fccf21e3460>"
      ]
     },
     "execution_count": 18,
     "metadata": {},
     "output_type": "execute_result"
    },
    {
     "data": {
      "image/png": "[encoded data removed]",
      "text/plain": [
       "<Figure size 640x480 with 1 Axes>"
      ]
     },
     "metadata": {},
     "output_type": "display_data"
    }
   ],
   "source": [
    "plt.plot(df_train[df_train.type=='choco'].temp,df_train[df_train.type=='choco'].sales,'o',label='choco')\n",
    "plt.plot(df_train[df_train.type=='vanilla'].temp,df_train[df_train.type=='vanilla'].sales,'o',label='vanilla')\n",
    "plt.legend()"
   ]
  },
  {
   "cell_type": "markdown",
   "id": "543495ea-7a85-418d-8459-0ab5899ceecd",
   "metadata": {},
   "source": [
    "- 온도에 따른 아이스크림 판매량이 아이스크림의 tpye에 따라 동일하다면 기울기가 동일하고 절편이 다른 두 직선이 나올것임. \n",
    "- 하지만 현재는 초코보다 바닐라맛이 기온의 영향을 많이 받아보임 $\\to$ (바닐라아이스크림,온도)는 (초코아이스크림,온도)보다 궁합이 좋다. $\\to$ 아이스크림 type과 온도사이에는 교호작용이 존재한다. "
   ]
  },
  {
   "cell_type": "markdown",
   "id": "83cb8111-45f3-4567-b322-bfba8404213c",
   "metadata": {},
   "source": [
    "# 5. 분석1"
   ]
  },
  {
   "cell_type": "markdown",
   "id": "20a20bcf-dae5-4ed0-bae4-0ed41dd86386",
   "metadata": {},
   "source": [
    "`-` 분석1: 모형을 아래와 같이 본다. \n",
    "\n",
    "- ${\\bf X}$: `temp`, `type`\n",
    "- ${\\bf y}$: `sales`"
   ]
  },
  {
   "cell_type": "code",
   "execution_count": 20,
   "id": "f4d66a59",
   "metadata": {},
   "outputs": [],
   "source": [
    "# step1 \n",
    "X,y = pd.get_dummies(df_train[['temp','type']],drop_first=True), df_train['sales']\n",
    "# step2\n",
    "predictr = sklearn.linear_model.LinearRegression()\n",
    "# step3\n",
    "predictr.fit(X,y)\n",
    "# step4 \n",
    "df_train['sales_hat'] = predictr.predict(X)"
   ]
  },
  {
   "cell_type": "code",
   "execution_count": 21,
   "id": "9d687b6e",
   "metadata": {},
   "outputs": [
    {
     "data": {
      "text/plain": [
       "0.9249530603100549"
      ]
     },
     "execution_count": 21,
     "metadata": {},
     "output_type": "execute_result"
    }
   ],
   "source": [
    "predictr.score(X,y)"
   ]
  },
  {
   "cell_type": "markdown",
   "id": "598eaa01",
   "metadata": {},
   "source": [
    "- 점수가 잘나왔다고 너무 좋아하지 마세요. \n",
    "- 시각화를 반드시 해보고 더 맞출수 있는 여지가 있는지 항상 확인할 것"
   ]
  },
  {
   "cell_type": "code",
   "execution_count": 24,
   "id": "37ef5b36",
   "metadata": {},
   "outputs": [
    {
     "data": {
      "text/plain": [
       "<matplotlib.legend.Legend at 0x7fcce8687bb0>"
      ]
     },
     "execution_count": 24,
     "metadata": {},
     "output_type": "execute_result"
    },
    {
     "data": {
      "image/png": "[encoded data removed]",
      "text/plain": [
       "<Figure size 640x480 with 1 Axes>"
      ]
     },
     "metadata": {},
     "output_type": "display_data"
    }
   ],
   "source": [
    "plt.plot(df_train[df_train.type=='choco'].temp,df_train[df_train.type=='choco'].sales,'o',label='choco',color='C0',alpha=0.5)\n",
    "plt.plot(df_train[df_train.type=='choco'].temp,df_train[df_train.type=='choco'].sales_hat,'--',color='C0')\n",
    "plt.plot(df_train[df_train.type=='vanilla'].temp,df_train[df_train.type=='vanilla'].sales,'o',label='vanilla',color='C1',alpha=0.5)\n",
    "plt.plot(df_train[df_train.type=='vanilla'].temp,df_train[df_train.type=='vanilla'].sales_hat,'--',color='C1')\n",
    "plt.legend()"
   ]
  },
  {
   "cell_type": "markdown",
   "id": "68fedfa8-3388-4a24-b288-e6ec6d5323c5",
   "metadata": {},
   "source": [
    "> 이 모형은 초코/바닐라에 대한 기울기차이를 \"표현\"할 수 없다. 이러한 상황은 \"모형의 표현력이 약하다\" 혹은 \"언더피팅\"인 상황이라고 한다. "
   ]
  },
  {
   "cell_type": "markdown",
   "id": "50f9ede0-b132-41ee-aba1-c673d768ef66",
   "metadata": {},
   "source": [
    "# 6. 분석2 (교호작용항 추가)"
   ]
  },
  {
   "cell_type": "markdown",
   "id": "dcf7cff5-f782-46ca-9ace-1cc55fb26368",
   "metadata": {},
   "source": [
    "`-` 모형을 아래와 같이 본다. "
   ]
  },
  {
   "cell_type": "markdown",
   "id": "654d7829-5dec-4cc4-8a21-410f30d21d1c",
   "metadata": {},
   "source": [
    "- ${\\bf X}$: `temp`, `type`, `temp` $\\times$ `type`\n",
    "- ${\\bf y}$: `sales`"
   ]
  },
  {
   "cell_type": "code",
   "execution_count": 40,
   "id": "cc83d55b",
   "metadata": {},
   "outputs": [
    {
     "data": {
      "text/html": [
       "<div>\n",
       "<style scoped>\n",
       "    .dataframe tbody tr th:only-of-type {\n",
       "        vertical-align: middle;\n",
       "    }\n",
       "\n",
       "    .dataframe tbody tr th {\n",
       "        vertical-align: top;\n",
       "    }\n",
       "\n",
       "    .dataframe thead th {\n",
       "        text-align: right;\n",
       "    }\n",
       "</style>\n",
       "<table border=\"1\" class=\"dataframe\">\n",
       "  <thead>\n",
       "    <tr style=\"text-align: right;\">\n",
       "      <th></th>\n",
       "      <th>temp</th>\n",
       "      <th>type_vanilla</th>\n",
       "      <th>interaction</th>\n",
       "    </tr>\n",
       "  </thead>\n",
       "  <tbody>\n",
       "    <tr>\n",
       "      <th>0</th>\n",
       "      <td>-4.1</td>\n",
       "      <td>False</td>\n",
       "      <td>-0.0</td>\n",
       "    </tr>\n",
       "    <tr>\n",
       "      <th>1</th>\n",
       "      <td>-3.7</td>\n",
       "      <td>False</td>\n",
       "      <td>-0.0</td>\n",
       "    </tr>\n",
       "    <tr>\n",
       "      <th>2</th>\n",
       "      <td>-3.0</td>\n",
       "      <td>False</td>\n",
       "      <td>-0.0</td>\n",
       "    </tr>\n",
       "    <tr>\n",
       "      <th>3</th>\n",
       "      <td>-1.3</td>\n",
       "      <td>False</td>\n",
       "      <td>-0.0</td>\n",
       "    </tr>\n",
       "    <tr>\n",
       "      <th>4</th>\n",
       "      <td>-0.5</td>\n",
       "      <td>False</td>\n",
       "      <td>-0.0</td>\n",
       "    </tr>\n",
       "    <tr>\n",
       "      <th>...</th>\n",
       "      <td>...</td>\n",
       "      <td>...</td>\n",
       "      <td>...</td>\n",
       "    </tr>\n",
       "    <tr>\n",
       "      <th>95</th>\n",
       "      <td>12.4</td>\n",
       "      <td>True</td>\n",
       "      <td>12.4</td>\n",
       "    </tr>\n",
       "    <tr>\n",
       "      <th>96</th>\n",
       "      <td>13.4</td>\n",
       "      <td>True</td>\n",
       "      <td>13.4</td>\n",
       "    </tr>\n",
       "    <tr>\n",
       "      <th>97</th>\n",
       "      <td>14.7</td>\n",
       "      <td>True</td>\n",
       "      <td>14.7</td>\n",
       "    </tr>\n",
       "    <tr>\n",
       "      <th>98</th>\n",
       "      <td>15.0</td>\n",
       "      <td>True</td>\n",
       "      <td>15.0</td>\n",
       "    </tr>\n",
       "    <tr>\n",
       "      <th>99</th>\n",
       "      <td>15.2</td>\n",
       "      <td>True</td>\n",
       "      <td>15.2</td>\n",
       "    </tr>\n",
       "  </tbody>\n",
       "</table>\n",
       "<p>200 rows × 3 columns</p>\n",
       "</div>"
      ],
      "text/plain": [
       "    temp  type_vanilla  interaction\n",
       "0   -4.1         False         -0.0\n",
       "1   -3.7         False         -0.0\n",
       "2   -3.0         False         -0.0\n",
       "3   -1.3         False         -0.0\n",
       "4   -0.5         False         -0.0\n",
       "..   ...           ...          ...\n",
       "95  12.4          True         12.4\n",
       "96  13.4          True         13.4\n",
       "97  14.7          True         14.7\n",
       "98  15.0          True         15.0\n",
       "99  15.2          True         15.2\n",
       "\n",
       "[200 rows x 3 columns]"
      ]
     },
     "execution_count": 40,
     "metadata": {},
     "output_type": "execute_result"
    }
   ],
   "source": [
    "pd.get_dummies(df_train[['temp','type']],drop_first=True).eval('interaction = temp*type_vanilla')"
   ]
  },
  {
   "cell_type": "code",
   "execution_count": 28,
   "id": "e8700cfd",
   "metadata": {},
   "outputs": [],
   "source": [
    "# step1 \n",
    "X = pd.get_dummies(df_train[['temp','type']],drop_first=True).eval('interaction = temp*type_vanilla')\n",
    "y = df_train['sales']\n",
    "# step2\n",
    "predictr = sklearn.linear_model.LinearRegression()\n",
    "# step3\n",
    "predictr.fit(X,y)\n",
    "# step4 \n",
    "df_train['sales_hat'] = predictr.predict(X)"
   ]
  },
  {
   "cell_type": "code",
   "execution_count": 29,
   "id": "1de44480",
   "metadata": {},
   "outputs": [
    {
     "data": {
      "text/plain": [
       "0.9865793819066231"
      ]
     },
     "execution_count": 29,
     "metadata": {},
     "output_type": "execute_result"
    }
   ],
   "source": [
    "predictr.score(X,y)"
   ]
  },
  {
   "cell_type": "code",
   "execution_count": 32,
   "id": "41f1cb35",
   "metadata": {},
   "outputs": [
    {
     "data": {
      "text/plain": [
       "<matplotlib.legend.Legend at 0x7fcce8019b40>"
      ]
     },
     "execution_count": 32,
     "metadata": {},
     "output_type": "execute_result"
    },
    {
     "data": {
      "image/png": "[encoded data removed]",
      "text/plain": [
       "<Figure size 640x480 with 1 Axes>"
      ]
     },
     "metadata": {},
     "output_type": "display_data"
    }
   ],
   "source": [
    "plt.plot(df_train[df_train.type=='choco'].temp,df_train[df_train.type=='choco'].sales,'o',label='choco',color='C0',alpha=0.5)\n",
    "plt.plot(df_train[df_train.type=='choco'].temp,df_train[df_train.type=='choco'].sales_hat,'--',color='C0')\n",
    "plt.plot(df_train[df_train.type=='vanilla'].temp,df_train[df_train.type=='vanilla'].sales,'o',label='vanilla',color='C1',alpha=0.5)\n",
    "plt.plot(df_train[df_train.type=='vanilla'].temp,df_train[df_train.type=='vanilla'].sales_hat,'--',color='C1')\n",
    "plt.legend()"
   ]
  },
  {
   "cell_type": "markdown",
   "id": "0d067a9c-e863-4b5a-8342-12d10ba4fa12",
   "metadata": {},
   "source": [
    "기울기는 `temp`$\\times$`type`의 인터럭션 텀으로 맞출 수 있게 되었다."
   ]
  },
  {
   "cell_type": "markdown",
   "id": "5b1d8fe2-eafa-4009-851f-efe891aeb4a6",
   "metadata": {},
   "source": [
    "> Note: 초코/바닐라에 대한 절편차이는 `type`로, 초코/바닐라에 대한 기울기 차이는 `temp`$\\times$`type`로 표현한다. "
   ]
  }
 ],
 "metadata": {
  "kernelspec": {
   "display_name": "Python 3 (ipykernel)",
   "language": "python",
   "name": "python3"
  },
  "language_info": {
   "codemirror_mode": {
    "name": "ipython",
    "version": 3
   },
   "file_extension": ".py",
   "mimetype": "text/x-python",
   "name": "python",
   "nbconvert_exporter": "python",
   "pygments_lexer": "ipython3",
   "version": "3.10.13"
  }
 },
 "nbformat": 4,
 "nbformat_minor": 5
}
