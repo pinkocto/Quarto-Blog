{
 "cells": [
  {
   "cell_type": "raw",
   "id": "671defce-ca46-4870-87fd-cffbe63766ac",
   "metadata": {},
   "source": [
    "---\n",
    "title: \"02wk-007: 타이타닉, Autogluon (Fsize,Drop)\"\n",
    "author: \"최규빈\"\n",
    "date: \"09/12/2023\"\n",
    "---"
   ]
  },
  {
   "cell_type": "markdown",
   "id": "8827d24d-9b84-424a-a0ec-2a87e57e204a",
   "metadata": {},
   "source": [
    "# 1. 강의영상\n",
    "\n",
    "<https://youtu.be/playlist?list=PLQqh36zP38-wiSZXhNO5rMncu6h42SNDi&si=fmqkO_EQek1SgbNQ>\n",
    "\n",
    "# 2. Import\n",
    "\n",
    "``` python\n",
    "# This Python 3 environment comes with many helpful analytics libraries installed\n",
    "# It is defined by the kaggle/python Docker image: https://github.com/kaggle/docker-python\n",
    "# For example, here's several helpful packages to load\n",
    "\n",
    "import numpy as np # linear algebra\n",
    "import pandas as pd # data processing, CSV file I/O (e.g. pd.read_csv)\n",
    "\n",
    "# Input data files are available in the read-only \"../input/\" directory\n",
    "# For example, running this (by clicking run or pressing Shift+Enter) will list all files under the input directory\n",
    "\n",
    "import os\n",
    "for dirname, _, filenames in os.walk('/kaggle/input'):\n",
    "    for filename in filenames:\n",
    "        print(os.path.join(dirname, filename))\n",
    "\n",
    "# You can write up to 20GB to the current directory (/kaggle/working/) that gets preserved as output when you create a version using \"Save & Run All\" \n",
    "# You can also write temporary files to /kaggle/temp/, but they won't be saved outside of the current session\n",
    "```\n",
    "\n",
    "    /kaggle/input/titanic/train.csv\n",
    "    /kaggle/input/titanic/test.csv\n",
    "    /kaggle/input/titanic/gender_submission.csv"
   ]
  },
  {
   "cell_type": "code",
   "execution_count": 11,
   "id": "7df920d4-ec5e-4342-b087-fc3c3666c3a5",
   "metadata": {},
   "outputs": [],
   "source": [
    "#pip install autogluon"
   ]
  },
  {
   "cell_type": "code",
   "execution_count": 12,
   "id": "773d010f-fcd9-496e-8706-b9ca032f33c0",
   "metadata": {},
   "outputs": [],
   "source": [
    "from autogluon.tabular import TabularDataset, TabularPredictor"
   ]
  },
  {
   "cell_type": "markdown",
   "id": "c8ec2501-d45e-4bc1-a7d0-8c83450eddf1",
   "metadata": {},
   "source": [
    "# 3. 분석의 절차\n",
    "\n",
    "## A. 데이터\n",
    "\n",
    "`-` 비유: 문제를 받아오는 과정으로 비유할 수 있다."
   ]
  },
  {
   "cell_type": "code",
   "execution_count": 25,
   "id": "561744ad-05bb-48e1-a58d-82429da18171",
   "metadata": {},
   "outputs": [
    {
     "name": "stderr",
     "output_type": "stream",
     "text": [
      "Loaded data from: ./titanic/train.csv | Columns = 12 / 12 | Rows = 891 -> 891\n",
      "Loaded data from: ./titanic/test.csv | Columns = 11 / 11 | Rows = 418 -> 418"
     ]
    }
   ],
   "source": [
    "tr = TabularDataset(\"/kaggle/input/titanic/train.csv\")\n",
    "tst = TabularDataset(\"/kaggle/input/titanic/test.csv\")"
   ]
  },
  {
   "cell_type": "markdown",
   "id": "cb20bcba-2d37-4ccd-904c-08bf59eeb750",
   "metadata": {},
   "source": [
    "`-` 피처엔지니어링"
   ]
  },
  {
   "cell_type": "code",
   "execution_count": 26,
   "id": "13fb6de0-a801-4b0c-a8da-04d4ea5e0537",
   "metadata": {},
   "outputs": [],
   "source": [
    "_tr = tr.eval('Fsize = SibSp + Parch').drop(['SibSp','Parch'],axis=1)\n",
    "_tst = tst.eval('Fsize = SibSp + Parch').drop(['SibSp','Parch'],axis=1)"
   ]
  },
  {
   "cell_type": "markdown",
   "id": "9ebfd8c3-ee76-48bc-9860-ec780b1ef8df",
   "metadata": {},
   "source": [
    "## B. Predictor 생성\n",
    "\n",
    "`-` 비유: 문제를 풀 학생을 생성하는 과정으로 비유할 수 있다."
   ]
  },
  {
   "cell_type": "code",
   "execution_count": 29,
   "id": "e8a5f51d-726c-4059-97e2-c9e81b05d08e",
   "metadata": {},
   "outputs": [
    {
     "name": "stderr",
     "output_type": "stream",
     "text": [
      "No path specified. Models will be saved in: \"AutogluonModels/ag-20230912_120900/\""
     ]
    }
   ],
   "source": [
    "predictr = TabularPredictor(\"Survived\")"
   ]
  },
  {
   "cell_type": "markdown",
   "id": "83daa947-0d65-44da-954a-33ff7798d998",
   "metadata": {},
   "source": [
    "## C. 적합(fit)\n",
    "\n",
    "`-` 비유: 학생이 공부를 하는 과정으로 비유할 수 있다.\n",
    "\n",
    "`-` 학습"
   ]
  },
  {
   "cell_type": "code",
   "execution_count": 30,
   "id": "41979ff5-73f7-458a-9fc7-de56d1690a54",
   "metadata": {},
   "outputs": [
    {
     "name": "stderr",
     "output_type": "stream",
     "text": [
      "Beginning AutoGluon training ...\n",
      "AutoGluon will save models to \"AutogluonModels/ag-20230912_120900/\"\n",
      "AutoGluon Version:  0.8.2\n",
      "Python Version:     3.10.12\n",
      "Operating System:   Linux\n",
      "Platform Machine:   x86_64\n",
      "Platform Version:   #26~22.04.1-Ubuntu SMP PREEMPT_DYNAMIC Thu Jul 13 16:27:29 UTC 2\n",
      "Disk Space Avail:   293.85 GB / 490.57 GB (59.9%)\n",
      "Train Data Rows:    891\n",
      "Train Data Columns: 10\n",
      "Label Column: Survived\n",
      "Preprocessing data ...\n",
      "AutoGluon infers your prediction problem is: 'binary' (because only two unique label-values observed).\n",
      "    2 unique label values:  [0, 1]\n",
      "    If 'binary' is not the correct problem_type, please manually specify the problem_type parameter during predictor init (You may specify problem_type as one of: ['binary', 'multiclass', 'regression'])\n",
      "Selected class <--> label mapping:  class 1 = 1, class 0 = 0\n",
      "Using Feature Generators to preprocess the data ...\n",
      "Fitting AutoMLPipelineFeatureGenerator...\n",
      "    Available Memory:                    124991.67 MB\n",
      "    Train Data (Original)  Memory Usage: 0.31 MB (0.0% of available memory)\n",
      "    Inferring data type of each feature based on column values. Set feature_metadata_in to manually specify special dtypes of the features.\n",
      "/home/cgb2/anaconda3/envs/mp/lib/python3.10/site-packages/autogluon/common/features/infer_types.py:118: UserWarning: Could not infer format, so each element will be parsed individually, falling back to `dateutil`. To ensure parsing is consistent and as-expected, please specify a format.\n",
      "  result = pd.to_datetime(X, errors=\"coerce\")\n",
      "/home/cgb2/anaconda3/envs/mp/lib/python3.10/site-packages/autogluon/common/features/infer_types.py:118: UserWarning: Could not infer format, so each element will be parsed individually, falling back to `dateutil`. To ensure parsing is consistent and as-expected, please specify a format.\n",
      "  result = pd.to_datetime(X, errors=\"coerce\")\n",
      "/home/cgb2/anaconda3/envs/mp/lib/python3.10/site-packages/autogluon/common/features/infer_types.py:118: UserWarning: Could not infer format, so each element will be parsed individually, falling back to `dateutil`. To ensure parsing is consistent and as-expected, please specify a format.\n",
      "  result = pd.to_datetime(X, errors=\"coerce\")\n",
      "/home/cgb2/anaconda3/envs/mp/lib/python3.10/site-packages/autogluon/common/features/infer_types.py:118: UserWarning: Could not infer format, so each element will be parsed individually, falling back to `dateutil`. To ensure parsing is consistent and as-expected, please specify a format.\n",
      "  result = pd.to_datetime(X, errors=\"coerce\")\n",
      "/home/cgb2/anaconda3/envs/mp/lib/python3.10/site-packages/autogluon/common/features/infer_types.py:118: UserWarning: Could not infer format, so each element will be parsed individually, falling back to `dateutil`. To ensure parsing is consistent and as-expected, please specify a format.\n",
      "  result = pd.to_datetime(X, errors=\"coerce\")\n",
      "    Stage 1 Generators:\n",
      "        Fitting AsTypeFeatureGenerator...\n",
      "            Note: Converting 1 features to boolean dtype as they only contain 2 unique values.\n",
      "    Stage 2 Generators:\n",
      "        Fitting FillNaFeatureGenerator...\n",
      "    Stage 3 Generators:\n",
      "        Fitting IdentityFeatureGenerator...\n",
      "        Fitting CategoryFeatureGenerator...\n",
      "            Fitting CategoryMemoryMinimizeFeatureGenerator...\n",
      "        Fitting TextSpecialFeatureGenerator...\n",
      "            Fitting BinnedFeatureGenerator...\n",
      "            Fitting DropDuplicatesFeatureGenerator...\n",
      "        Fitting TextNgramFeatureGenerator...\n",
      "            Fitting CountVectorizer for text features: ['Name']\n",
      "            CountVectorizer fit with vocabulary size = 8\n",
      "    Stage 4 Generators:\n",
      "        Fitting DropUniqueFeatureGenerator...\n",
      "    Stage 5 Generators:\n",
      "        Fitting DropDuplicatesFeatureGenerator...\n",
      "    Types of features in original data (raw dtype, special dtypes):\n",
      "        ('float', [])        : 2 | ['Age', 'Fare']\n",
      "        ('int', [])          : 3 | ['PassengerId', 'Pclass', 'Fsize']\n",
      "        ('object', [])       : 4 | ['Sex', 'Ticket', 'Cabin', 'Embarked']\n",
      "        ('object', ['text']) : 1 | ['Name']\n",
      "    Types of features in processed data (raw dtype, special dtypes):\n",
      "        ('category', [])                    : 3 | ['Ticket', 'Cabin', 'Embarked']\n",
      "        ('float', [])                       : 2 | ['Age', 'Fare']\n",
      "        ('int', [])                         : 3 | ['PassengerId', 'Pclass', 'Fsize']\n",
      "        ('int', ['binned', 'text_special']) : 9 | ['Name.char_count', 'Name.word_count', 'Name.capital_ratio', 'Name.lower_ratio', 'Name.special_ratio', ...]\n",
      "        ('int', ['bool'])                   : 1 | ['Sex']\n",
      "        ('int', ['text_ngram'])             : 9 | ['__nlp__.henry', '__nlp__.john', '__nlp__.master', '__nlp__.miss', '__nlp__.mr', ...]\n",
      "    0.2s = Fit runtime\n",
      "    10 features in original data used to generate 27 features in processed data.\n",
      "    Train Data (Processed) Memory Usage: 0.07 MB (0.0% of available memory)\n",
      "Data preprocessing and feature engineering runtime = 0.19s ...\n",
      "AutoGluon will gauge predictive performance using evaluation metric: 'accuracy'\n",
      "    To change this, specify the eval_metric parameter of Predictor()\n",
      "Automatically generating train/validation split with holdout_frac=0.2, Train Rows: 712, Val Rows: 179\n",
      "User-specified model hyperparameters to be fit:\n",
      "{\n",
      "    'NN_TORCH': {},\n",
      "    'GBM': [{'extra_trees': True, 'ag_args': {'name_suffix': 'XT'}}, {}, 'GBMLarge'],\n",
      "    'CAT': {},\n",
      "    'XGB': {},\n",
      "    'FASTAI': {},\n",
      "    'RF': [{'criterion': 'gini', 'ag_args': {'name_suffix': 'Gini', 'problem_types': ['binary', 'multiclass']}}, {'criterion': 'entropy', 'ag_args': {'name_suffix': 'Entr', 'problem_types': ['binary', 'multiclass']}}, {'criterion': 'squared_error', 'ag_args': {'name_suffix': 'MSE', 'problem_types': ['regression', 'quantile']}}],\n",
      "    'XT': [{'criterion': 'gini', 'ag_args': {'name_suffix': 'Gini', 'problem_types': ['binary', 'multiclass']}}, {'criterion': 'entropy', 'ag_args': {'name_suffix': 'Entr', 'problem_types': ['binary', 'multiclass']}}, {'criterion': 'squared_error', 'ag_args': {'name_suffix': 'MSE', 'problem_types': ['regression', 'quantile']}}],\n",
      "    'KNN': [{'weights': 'uniform', 'ag_args': {'name_suffix': 'Unif'}}, {'weights': 'distance', 'ag_args': {'name_suffix': 'Dist'}}],\n",
      "}\n",
      "Fitting 13 L1 models ...\n",
      "Fitting model: KNeighborsUnif ...\n",
      "    0.6536   = Validation score   (accuracy)\n",
      "    0.01s    = Training   runtime\n",
      "    0.0s     = Validation runtime\n",
      "Fitting model: KNeighborsDist ...\n",
      "    0.6536   = Validation score   (accuracy)\n",
      "    0.01s    = Training   runtime\n",
      "    0.0s     = Validation runtime\n",
      "Fitting model: LightGBMXT ...\n",
      "    0.8101   = Validation score   (accuracy)\n",
      "    0.2s     = Training   runtime\n",
      "    0.0s     = Validation runtime\n",
      "Fitting model: LightGBM ...\n",
      "    0.8268   = Validation score   (accuracy)\n",
      "    0.28s    = Training   runtime\n",
      "    0.0s     = Validation runtime\n",
      "Fitting model: RandomForestGini ...\n",
      "    0.8156   = Validation score   (accuracy)\n",
      "    0.33s    = Training   runtime\n",
      "    0.09s    = Validation runtime\n",
      "Fitting model: RandomForestEntr ...\n",
      "    0.8212   = Validation score   (accuracy)\n",
      "    0.38s    = Training   runtime\n",
      "    0.21s    = Validation runtime\n",
      "Fitting model: CatBoost ...\n",
      "    0.8268   = Validation score   (accuracy)\n",
      "    0.66s    = Training   runtime\n",
      "    0.0s     = Validation runtime\n",
      "Fitting model: ExtraTreesGini ...\n",
      "    0.8045   = Validation score   (accuracy)\n",
      "    0.52s    = Training   runtime\n",
      "    0.18s    = Validation runtime\n",
      "Fitting model: ExtraTreesEntr ...\n",
      "    0.7989   = Validation score   (accuracy)\n",
      "    0.35s    = Training   runtime\n",
      "    0.18s    = Validation runtime\n",
      "Fitting model: NeuralNetFastAI ...\n",
      "    0.8268   = Validation score   (accuracy)\n",
      "    0.46s    = Training   runtime\n",
      "    0.01s    = Validation runtime\n",
      "Fitting model: XGBoost ...\n",
      "    0.8212   = Validation score   (accuracy)\n",
      "    0.15s    = Training   runtime\n",
      "    0.0s     = Validation runtime\n",
      "Fitting model: NeuralNetTorch ...\n",
      "    0.838    = Validation score   (accuracy)\n",
      "    1.55s    = Training   runtime\n",
      "    0.01s    = Validation runtime\n",
      "Fitting model: LightGBMLarge ...\n",
      "    0.8268   = Validation score   (accuracy)\n",
      "    0.44s    = Training   runtime\n",
      "    0.0s     = Validation runtime\n",
      "Fitting model: WeightedEnsemble_L2 ...\n",
      "    0.8603   = Validation score   (accuracy)\n",
      "    0.25s    = Training   runtime\n",
      "    0.0s     = Validation runtime\n",
      "AutoGluon training complete, total runtime = 6.75s ... Best model: \"WeightedEnsemble_L2\"\n",
      "TabularPredictor saved. To load, use: predictor = TabularPredictor.load(\"AutogluonModels/ag-20230912_120900/\")"
     ]
    }
   ],
   "source": [
    "predictr.fit(_tr) # 학생(predictr)에게 문제(tr)를 줘서 학습을 시킴(predictr.fit())"
   ]
  },
  {
   "cell_type": "markdown",
   "id": "fe1b01e4-dc17-42af-9f0b-01ff76f4dace",
   "metadata": {},
   "source": [
    "`-` 리더보드확인 (모의고사 채점)"
   ]
  },
  {
   "cell_type": "code",
   "execution_count": 32,
   "id": "bfacfa9a-7bad-47f9-8cde-29bac3c07f79",
   "metadata": {},
   "outputs": [
    {
     "name": "stdout",
     "output_type": "stream",
     "text": [
      "                  model  score_val  pred_time_val  fit_time  pred_time_val_marginal  fit_time_marginal  stack_level  can_infer  fit_order\n",
      "0   WeightedEnsemble_L2   0.860335       0.210158  3.510778                0.000527           0.246271            2       True         14\n",
      "1        NeuralNetTorch   0.837989       0.008443  1.547239                0.008443           1.547239            1       True         12\n",
      "2         LightGBMLarge   0.826816       0.003162  0.443558                0.003162           0.443558            1       True         13\n",
      "3              CatBoost   0.826816       0.003559  0.661513                0.003559           0.661513            1       True          7\n",
      "4              LightGBM   0.826816       0.003659  0.283715                0.003659           0.283715            1       True          4\n",
      "5       NeuralNetFastAI   0.826816       0.007515  0.462052                0.007515           0.462052            1       True         10\n",
      "6               XGBoost   0.821229       0.004702  0.148207                0.004702           0.148207            1       True         11\n",
      "7      RandomForestEntr   0.821229       0.214481  0.381199                0.214481           0.381199            1       True          6\n",
      "8      RandomForestGini   0.815642       0.091963  0.328555                0.091963           0.328555            1       True          5\n",
      "9            LightGBMXT   0.810056       0.003035  0.204797                0.003035           0.204797            1       True          3\n",
      "10       ExtraTreesGini   0.804469       0.184527  0.518099                0.184527           0.518099            1       True          8\n",
      "11       ExtraTreesEntr   0.798883       0.179535  0.353106                0.179535           0.353106            1       True          9\n",
      "12       KNeighborsUnif   0.653631       0.002189  0.009097                0.002189           0.009097            1       True          1\n",
      "13       KNeighborsDist   0.653631       0.002325  0.009845                0.002325           0.009845            1       True          2"
     ]
    }
   ],
   "source": [
    "predictr.leaderboard()"
   ]
  },
  {
   "cell_type": "markdown",
   "id": "486b3393-3a1a-4948-92d7-50dd88a8e58d",
   "metadata": {},
   "source": [
    "`-` validation set의 의미:\n",
    "\n",
    "## D. 예측 (predict)\n",
    "\n",
    "`-` 비유: 학습이후에 문제를 푸는 과정으로 비유할 수 있다.\n",
    "\n",
    "`-` training set 을 풀어봄 (predict) $\\to$ 점수 확인"
   ]
  },
  {
   "cell_type": "code",
   "execution_count": 33,
   "id": "36e5d9fc-069b-46c8-8c2f-b75c06e9c19a",
   "metadata": {},
   "outputs": [],
   "source": [
    "(tr.Survived == predictr.predict(_tr)).mean()"
   ]
  },
  {
   "cell_type": "markdown",
   "id": "0adb507c-6dd5-4383-b903-e653fff9813d",
   "metadata": {},
   "source": [
    "`-` test set 을 풀어봄 (predict) $\\to$ 점수 확인 하러 캐글에 결과제출"
   ]
  },
  {
   "cell_type": "code",
   "execution_count": 34,
   "id": "a059e8ec-d555-4e8d-aa09-32fd909d497a",
   "metadata": {},
   "outputs": [],
   "source": [
    "tst.assign(Survived = predictr.predict(_tst)).loc[:,['PassengerId','Survived']]\\\n",
    ".to_csv(\"autogluon(Fsize,Drop)_submission.csv\",index=False)"
   ]
  }
 ],
 "metadata": {
  "kernelspec": {
   "display_name": "Python 3",
   "language": "python",
   "name": "python3"
  },
  "language_info": {
   "codemirror_mode": {
    "name": "ipython",
    "version": 3
   },
   "file_extension": ".py",
   "mimetype": "text/x-python",
   "name": "python",
   "nbconvert_exporter": "python",
   "pygments_lexer": "ipython3",
   "version": "3.8.16"
  }
 },
 "nbformat": 4,
 "nbformat_minor": 5
}
