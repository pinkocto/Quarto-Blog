{
 "cells": [
  {
   "cell_type": "raw",
   "id": "671defce-ca46-4870-87fd-cffbe63766ac",
   "metadata": {},
   "source": [
    "---\n",
    "title: \"02wk-007: 타이타닉, Autogluon (Fsize,Drop)\"\n",
    "author: \"최규빈\"\n",
    "date: \"09/12/2023\"\n",
    "---"
   ]
  },
  {
   "cell_type": "markdown",
   "id": "448f0b3c-0970-4931-af1c-1b4d09c48537",
   "metadata": {},
   "source": [
    "> Autogluon (Fsize, Drop SibSp/Parch)"
   ]
  },
  {
   "cell_type": "markdown",
   "id": "8827d24d-9b84-424a-a0ec-2a87e57e204a",
   "metadata": {},
   "source": [
    "# 1. 강의영상\n",
    "\n",
    "<https://youtu.be/playlist?list=PLQqh36zP38-wiSZXhNO5rMncu6h42SNDi&si=fmqkO_EQek1SgbNQ>\n",
    "\n",
    "# 2. Import"
   ]
  },
  {
   "cell_type": "code",
   "execution_count": 1,
   "id": "c1feb252-bc67-47b0-82e3-00e93e54f5c0",
   "metadata": {},
   "outputs": [],
   "source": [
    "import numpy as np # linear algebra\n",
    "import pandas as pd # data processing, CSV file I/O (e.g. pd.read_csv)"
   ]
  },
  {
   "cell_type": "code",
   "execution_count": 11,
   "id": "7df920d4-ec5e-4342-b087-fc3c3666c3a5",
   "metadata": {},
   "outputs": [],
   "source": [
    "#pip install autogluon"
   ]
  },
  {
   "cell_type": "code",
   "execution_count": 2,
   "id": "773d010f-fcd9-496e-8706-b9ca032f33c0",
   "metadata": {},
   "outputs": [],
   "source": [
    "from autogluon.tabular import TabularDataset, TabularPredictor"
   ]
  },
  {
   "cell_type": "markdown",
   "id": "c8ec2501-d45e-4bc1-a7d0-8c83450eddf1",
   "metadata": {},
   "source": [
    "# 3. 분석의 절차\n",
    "\n",
    "## A. 데이터\n",
    "\n",
    "`-` 비유: 문제를 받아오는 과정으로 비유할 수 있다."
   ]
  },
  {
   "cell_type": "code",
   "execution_count": 3,
   "id": "561744ad-05bb-48e1-a58d-82429da18171",
   "metadata": {},
   "outputs": [],
   "source": [
    "tr = TabularDataset(\"./titanic/train.csv\")\n",
    "tst = TabularDataset(\"./titanic/test.csv\")"
   ]
  },
  {
   "cell_type": "markdown",
   "id": "cb20bcba-2d37-4ccd-904c-08bf59eeb750",
   "metadata": {},
   "source": [
    "`-` 피처엔지니어링"
   ]
  },
  {
   "cell_type": "code",
   "execution_count": 4,
   "id": "13fb6de0-a801-4b0c-a8da-04d4ea5e0537",
   "metadata": {},
   "outputs": [],
   "source": [
    "_tr = tr.eval('Fsize = SibSp + Parch').drop(['SibSp','Parch'],axis=1)\n",
    "_tst = tst.eval('Fsize = SibSp + Parch').drop(['SibSp','Parch'],axis=1)"
   ]
  },
  {
   "cell_type": "markdown",
   "id": "9ebfd8c3-ee76-48bc-9860-ec780b1ef8df",
   "metadata": {},
   "source": [
    "## B. Predictor 생성\n",
    "\n",
    "`-` 비유: 문제를 풀 학생을 생성하는 과정으로 비유할 수 있다."
   ]
  },
  {
   "cell_type": "code",
   "execution_count": 5,
   "id": "e8a5f51d-726c-4059-97e2-c9e81b05d08e",
   "metadata": {},
   "outputs": [
    {
     "name": "stderr",
     "output_type": "stream",
     "text": [
      "No path specified. Models will be saved in: \"AutogluonModels/ag-20230913_063109/\"\n"
     ]
    }
   ],
   "source": [
    "predictr = TabularPredictor(\"Survived\")"
   ]
  },
  {
   "cell_type": "markdown",
   "id": "83daa947-0d65-44da-954a-33ff7798d998",
   "metadata": {},
   "source": [
    "## C. 적합(fit)\n",
    "\n",
    "`-` 비유: 학생이 공부를 하는 과정으로 비유할 수 있다.\n",
    "\n",
    "`-` 학습"
   ]
  },
  {
   "cell_type": "code",
   "execution_count": 6,
   "id": "41979ff5-73f7-458a-9fc7-de56d1690a54",
   "metadata": {},
   "outputs": [
    {
     "name": "stderr",
     "output_type": "stream",
     "text": [
      "Beginning AutoGluon training ...\n",
      "AutoGluon will save models to \"AutogluonModels/ag-20230913_063109/\"\n",
      "AutoGluon Version:  0.8.2\n",
      "Python Version:     3.8.16\n",
      "Operating System:   Linux\n",
      "Platform Machine:   x86_64\n",
      "Platform Version:   #26~22.04.1-Ubuntu SMP PREEMPT_DYNAMIC Thu Jul 13 16:27:29 UTC 2\n",
      "Disk Space Avail:   675.47 GB / 982.82 GB (68.7%)\n",
      "Train Data Rows:    891\n",
      "Train Data Columns: 10\n",
      "Label Column: Survived\n",
      "Preprocessing data ...\n",
      "AutoGluon infers your prediction problem is: 'binary' (because only two unique label-values observed).\n",
      "\t2 unique label values:  [0, 1]\n",
      "\tIf 'binary' is not the correct problem_type, please manually specify the problem_type parameter during predictor init (You may specify problem_type as one of: ['binary', 'multiclass', 'regression'])\n",
      "Selected class <--> label mapping:  class 1 = 1, class 0 = 0\n",
      "Using Feature Generators to preprocess the data ...\n",
      "Fitting AutoMLPipelineFeatureGenerator...\n",
      "\tAvailable Memory:                    36873.71 MB\n",
      "\tTrain Data (Original)  Memory Usage: 0.31 MB (0.0% of available memory)\n",
      "\tInferring data type of each feature based on column values. Set feature_metadata_in to manually specify special dtypes of the features.\n",
      "\tStage 1 Generators:\n",
      "\t\tFitting AsTypeFeatureGenerator...\n",
      "\t\t\tNote: Converting 1 features to boolean dtype as they only contain 2 unique values.\n",
      "\tStage 2 Generators:\n",
      "\t\tFitting FillNaFeatureGenerator...\n",
      "\tStage 3 Generators:\n",
      "\t\tFitting IdentityFeatureGenerator...\n",
      "\t\tFitting CategoryFeatureGenerator...\n",
      "\t\t\tFitting CategoryMemoryMinimizeFeatureGenerator...\n",
      "\t\tFitting TextSpecialFeatureGenerator...\n",
      "\t\t\tFitting BinnedFeatureGenerator...\n",
      "\t\t\tFitting DropDuplicatesFeatureGenerator...\n",
      "\t\tFitting TextNgramFeatureGenerator...\n",
      "\t\t\tFitting CountVectorizer for text features: ['Name']\n",
      "\t\t\tCountVectorizer fit with vocabulary size = 8\n",
      "\tStage 4 Generators:\n",
      "\t\tFitting DropUniqueFeatureGenerator...\n",
      "\tStage 5 Generators:\n",
      "\t\tFitting DropDuplicatesFeatureGenerator...\n",
      "\tTypes of features in original data (raw dtype, special dtypes):\n",
      "\t\t('float', [])        : 2 | ['Age', 'Fare']\n",
      "\t\t('int', [])          : 3 | ['PassengerId', 'Pclass', 'Fsize']\n",
      "\t\t('object', [])       : 4 | ['Sex', 'Ticket', 'Cabin', 'Embarked']\n",
      "\t\t('object', ['text']) : 1 | ['Name']\n",
      "\tTypes of features in processed data (raw dtype, special dtypes):\n",
      "\t\t('category', [])                    : 3 | ['Ticket', 'Cabin', 'Embarked']\n",
      "\t\t('float', [])                       : 2 | ['Age', 'Fare']\n",
      "\t\t('int', [])                         : 3 | ['PassengerId', 'Pclass', 'Fsize']\n",
      "\t\t('int', ['binned', 'text_special']) : 9 | ['Name.char_count', 'Name.word_count', 'Name.capital_ratio', 'Name.lower_ratio', 'Name.special_ratio', ...]\n",
      "\t\t('int', ['bool'])                   : 1 | ['Sex']\n",
      "\t\t('int', ['text_ngram'])             : 9 | ['__nlp__.henry', '__nlp__.john', '__nlp__.master', '__nlp__.miss', '__nlp__.mr', ...]\n",
      "\t0.2s = Fit runtime\n",
      "\t10 features in original data used to generate 27 features in processed data.\n",
      "\tTrain Data (Processed) Memory Usage: 0.07 MB (0.0% of available memory)\n",
      "Data preprocessing and feature engineering runtime = 0.2s ...\n",
      "AutoGluon will gauge predictive performance using evaluation metric: 'accuracy'\n",
      "\tTo change this, specify the eval_metric parameter of Predictor()\n",
      "Automatically generating train/validation split with holdout_frac=0.2, Train Rows: 712, Val Rows: 179\n",
      "User-specified model hyperparameters to be fit:\n",
      "{\n",
      "\t'NN_TORCH': {},\n",
      "\t'GBM': [{'extra_trees': True, 'ag_args': {'name_suffix': 'XT'}}, {}, 'GBMLarge'],\n",
      "\t'CAT': {},\n",
      "\t'XGB': {},\n",
      "\t'FASTAI': {},\n",
      "\t'RF': [{'criterion': 'gini', 'ag_args': {'name_suffix': 'Gini', 'problem_types': ['binary', 'multiclass']}}, {'criterion': 'entropy', 'ag_args': {'name_suffix': 'Entr', 'problem_types': ['binary', 'multiclass']}}, {'criterion': 'squared_error', 'ag_args': {'name_suffix': 'MSE', 'problem_types': ['regression', 'quantile']}}],\n",
      "\t'XT': [{'criterion': 'gini', 'ag_args': {'name_suffix': 'Gini', 'problem_types': ['binary', 'multiclass']}}, {'criterion': 'entropy', 'ag_args': {'name_suffix': 'Entr', 'problem_types': ['binary', 'multiclass']}}, {'criterion': 'squared_error', 'ag_args': {'name_suffix': 'MSE', 'problem_types': ['regression', 'quantile']}}],\n",
      "\t'KNN': [{'weights': 'uniform', 'ag_args': {'name_suffix': 'Unif'}}, {'weights': 'distance', 'ag_args': {'name_suffix': 'Dist'}}],\n",
      "}\n",
      "Fitting 13 L1 models ...\n",
      "Fitting model: KNeighborsUnif ...\n",
      "\t0.6536\t = Validation score   (accuracy)\n",
      "\t0.01s\t = Training   runtime\n",
      "\t0.03s\t = Validation runtime\n",
      "Fitting model: KNeighborsDist ...\n",
      "\t0.6536\t = Validation score   (accuracy)\n",
      "\t0.01s\t = Training   runtime\n",
      "\t0.0s\t = Validation runtime\n",
      "Fitting model: LightGBMXT ...\n",
      "\t0.8101\t = Validation score   (accuracy)\n",
      "\t0.2s\t = Training   runtime\n",
      "\t0.0s\t = Validation runtime\n",
      "Fitting model: LightGBM ...\n",
      "\t0.8268\t = Validation score   (accuracy)\n",
      "\t0.18s\t = Training   runtime\n",
      "\t0.0s\t = Validation runtime\n",
      "Fitting model: RandomForestGini ...\n",
      "\t0.8156\t = Validation score   (accuracy)\n",
      "\t0.27s\t = Training   runtime\n",
      "\t0.02s\t = Validation runtime\n",
      "Fitting model: RandomForestEntr ...\n",
      "\t0.8212\t = Validation score   (accuracy)\n",
      "\t0.25s\t = Training   runtime\n",
      "\t0.02s\t = Validation runtime\n",
      "Fitting model: CatBoost ...\n",
      "\t0.8268\t = Validation score   (accuracy)\n",
      "\t0.56s\t = Training   runtime\n",
      "\t0.0s\t = Validation runtime\n",
      "Fitting model: ExtraTreesGini ...\n",
      "\t0.8045\t = Validation score   (accuracy)\n",
      "\t0.28s\t = Training   runtime\n",
      "\t0.02s\t = Validation runtime\n",
      "Fitting model: ExtraTreesEntr ...\n",
      "\t0.7989\t = Validation score   (accuracy)\n",
      "\t0.25s\t = Training   runtime\n",
      "\t0.02s\t = Validation runtime\n",
      "Fitting model: NeuralNetFastAI ...\n",
      "No improvement since epoch 9: early stopping\n",
      "\t0.8268\t = Validation score   (accuracy)\n",
      "\t1.14s\t = Training   runtime\n",
      "\t0.01s\t = Validation runtime\n",
      "Fitting model: XGBoost ...\n",
      "\t0.8212\t = Validation score   (accuracy)\n",
      "\t0.11s\t = Training   runtime\n",
      "\t0.0s\t = Validation runtime\n",
      "Fitting model: NeuralNetTorch ...\n",
      "\t0.838\t = Validation score   (accuracy)\n",
      "\t1.62s\t = Training   runtime\n",
      "\t0.01s\t = Validation runtime\n",
      "Fitting model: LightGBMLarge ...\n",
      "\t0.8268\t = Validation score   (accuracy)\n",
      "\t0.32s\t = Training   runtime\n",
      "\t0.0s\t = Validation runtime\n",
      "Fitting model: WeightedEnsemble_L2 ...\n",
      "\t0.8603\t = Validation score   (accuracy)\n",
      "\t0.28s\t = Training   runtime\n",
      "\t0.0s\t = Validation runtime\n",
      "AutoGluon training complete, total runtime = 5.93s ... Best model: \"WeightedEnsemble_L2\"\n",
      "TabularPredictor saved. To load, use: predictor = TabularPredictor.load(\"AutogluonModels/ag-20230913_063109/\")\n"
     ]
    },
    {
     "data": {
      "text/plain": [
       "<autogluon.tabular.predictor.predictor.TabularPredictor at 0x7fc481da6880>"
      ]
     },
     "execution_count": 6,
     "metadata": {},
     "output_type": "execute_result"
    }
   ],
   "source": [
    "predictr.fit(_tr) # 학생(predictr)에게 문제(tr)를 줘서 학습을 시킴(predictr.fit())"
   ]
  },
  {
   "cell_type": "markdown",
   "id": "fe1b01e4-dc17-42af-9f0b-01ff76f4dace",
   "metadata": {},
   "source": [
    "`-` 리더보드확인 (모의고사 채점)"
   ]
  },
  {
   "cell_type": "code",
   "execution_count": 7,
   "id": "bfacfa9a-7bad-47f9-8cde-29bac3c07f79",
   "metadata": {},
   "outputs": [
    {
     "name": "stdout",
     "output_type": "stream",
     "text": [
      "                  model  score_val  pred_time_val  fit_time  pred_time_val_marginal  fit_time_marginal  stack_level  can_infer  fit_order\n",
      "0   WeightedEnsemble_L2   0.860335       0.036541  2.535042                0.000440           0.277847            2       True         14\n",
      "1        NeuralNetTorch   0.837989       0.007182  1.621377                0.007182           1.621377            1       True         12\n",
      "2         LightGBMLarge   0.826816       0.002590  0.316955                0.002590           0.316955            1       True         13\n",
      "3              LightGBM   0.826816       0.002826  0.182086                0.002826           0.182086            1       True          4\n",
      "4              CatBoost   0.826816       0.003359  0.564035                0.003359           0.564035            1       True          7\n",
      "5       NeuralNetFastAI   0.826816       0.007859  1.137854                0.007859           1.137854            1       True         10\n",
      "6               XGBoost   0.821229       0.003699  0.113863                0.003699           0.113863            1       True         11\n",
      "7      RandomForestEntr   0.821229       0.021228  0.249363                0.021228           0.249363            1       True          6\n",
      "8      RandomForestGini   0.815642       0.021727  0.271968                0.021727           0.271968            1       True          5\n",
      "9            LightGBMXT   0.810056       0.003175  0.201514                0.003175           0.201514            1       True          3\n",
      "10       ExtraTreesGini   0.804469       0.021523  0.275308                0.021523           0.275308            1       True          8\n",
      "11       ExtraTreesEntr   0.798883       0.022917  0.252218                0.022917           0.252218            1       True          9\n",
      "12       KNeighborsDist   0.653631       0.003518  0.007811                0.003518           0.007811            1       True          2\n",
      "13       KNeighborsUnif   0.653631       0.026963  0.007720                0.026963           0.007720            1       True          1\n"
     ]
    },
    {
     "data": {
      "text/html": [
       "<div>\n",
       "<style scoped>\n",
       "    .dataframe tbody tr th:only-of-type {\n",
       "        vertical-align: middle;\n",
       "    }\n",
       "\n",
       "    .dataframe tbody tr th {\n",
       "        vertical-align: top;\n",
       "    }\n",
       "\n",
       "    .dataframe thead th {\n",
       "        text-align: right;\n",
       "    }\n",
       "</style>\n",
       "<table border=\"1\" class=\"dataframe\">\n",
       "  <thead>\n",
       "    <tr style=\"text-align: right;\">\n",
       "      <th></th>\n",
       "      <th>model</th>\n",
       "      <th>score_val</th>\n",
       "      <th>pred_time_val</th>\n",
       "      <th>fit_time</th>\n",
       "      <th>pred_time_val_marginal</th>\n",
       "      <th>fit_time_marginal</th>\n",
       "      <th>stack_level</th>\n",
       "      <th>can_infer</th>\n",
       "      <th>fit_order</th>\n",
       "    </tr>\n",
       "  </thead>\n",
       "  <tbody>\n",
       "    <tr>\n",
       "      <th>0</th>\n",
       "      <td>WeightedEnsemble_L2</td>\n",
       "      <td>0.860335</td>\n",
       "      <td>0.036541</td>\n",
       "      <td>2.535042</td>\n",
       "      <td>0.000440</td>\n",
       "      <td>0.277847</td>\n",
       "      <td>2</td>\n",
       "      <td>True</td>\n",
       "      <td>14</td>\n",
       "    </tr>\n",
       "    <tr>\n",
       "      <th>1</th>\n",
       "      <td>NeuralNetTorch</td>\n",
       "      <td>0.837989</td>\n",
       "      <td>0.007182</td>\n",
       "      <td>1.621377</td>\n",
       "      <td>0.007182</td>\n",
       "      <td>1.621377</td>\n",
       "      <td>1</td>\n",
       "      <td>True</td>\n",
       "      <td>12</td>\n",
       "    </tr>\n",
       "    <tr>\n",
       "      <th>2</th>\n",
       "      <td>LightGBMLarge</td>\n",
       "      <td>0.826816</td>\n",
       "      <td>0.002590</td>\n",
       "      <td>0.316955</td>\n",
       "      <td>0.002590</td>\n",
       "      <td>0.316955</td>\n",
       "      <td>1</td>\n",
       "      <td>True</td>\n",
       "      <td>13</td>\n",
       "    </tr>\n",
       "    <tr>\n",
       "      <th>3</th>\n",
       "      <td>LightGBM</td>\n",
       "      <td>0.826816</td>\n",
       "      <td>0.002826</td>\n",
       "      <td>0.182086</td>\n",
       "      <td>0.002826</td>\n",
       "      <td>0.182086</td>\n",
       "      <td>1</td>\n",
       "      <td>True</td>\n",
       "      <td>4</td>\n",
       "    </tr>\n",
       "    <tr>\n",
       "      <th>4</th>\n",
       "      <td>CatBoost</td>\n",
       "      <td>0.826816</td>\n",
       "      <td>0.003359</td>\n",
       "      <td>0.564035</td>\n",
       "      <td>0.003359</td>\n",
       "      <td>0.564035</td>\n",
       "      <td>1</td>\n",
       "      <td>True</td>\n",
       "      <td>7</td>\n",
       "    </tr>\n",
       "    <tr>\n",
       "      <th>5</th>\n",
       "      <td>NeuralNetFastAI</td>\n",
       "      <td>0.826816</td>\n",
       "      <td>0.007859</td>\n",
       "      <td>1.137854</td>\n",
       "      <td>0.007859</td>\n",
       "      <td>1.137854</td>\n",
       "      <td>1</td>\n",
       "      <td>True</td>\n",
       "      <td>10</td>\n",
       "    </tr>\n",
       "    <tr>\n",
       "      <th>6</th>\n",
       "      <td>XGBoost</td>\n",
       "      <td>0.821229</td>\n",
       "      <td>0.003699</td>\n",
       "      <td>0.113863</td>\n",
       "      <td>0.003699</td>\n",
       "      <td>0.113863</td>\n",
       "      <td>1</td>\n",
       "      <td>True</td>\n",
       "      <td>11</td>\n",
       "    </tr>\n",
       "    <tr>\n",
       "      <th>7</th>\n",
       "      <td>RandomForestEntr</td>\n",
       "      <td>0.821229</td>\n",
       "      <td>0.021228</td>\n",
       "      <td>0.249363</td>\n",
       "      <td>0.021228</td>\n",
       "      <td>0.249363</td>\n",
       "      <td>1</td>\n",
       "      <td>True</td>\n",
       "      <td>6</td>\n",
       "    </tr>\n",
       "    <tr>\n",
       "      <th>8</th>\n",
       "      <td>RandomForestGini</td>\n",
       "      <td>0.815642</td>\n",
       "      <td>0.021727</td>\n",
       "      <td>0.271968</td>\n",
       "      <td>0.021727</td>\n",
       "      <td>0.271968</td>\n",
       "      <td>1</td>\n",
       "      <td>True</td>\n",
       "      <td>5</td>\n",
       "    </tr>\n",
       "    <tr>\n",
       "      <th>9</th>\n",
       "      <td>LightGBMXT</td>\n",
       "      <td>0.810056</td>\n",
       "      <td>0.003175</td>\n",
       "      <td>0.201514</td>\n",
       "      <td>0.003175</td>\n",
       "      <td>0.201514</td>\n",
       "      <td>1</td>\n",
       "      <td>True</td>\n",
       "      <td>3</td>\n",
       "    </tr>\n",
       "    <tr>\n",
       "      <th>10</th>\n",
       "      <td>ExtraTreesGini</td>\n",
       "      <td>0.804469</td>\n",
       "      <td>0.021523</td>\n",
       "      <td>0.275308</td>\n",
       "      <td>0.021523</td>\n",
       "      <td>0.275308</td>\n",
       "      <td>1</td>\n",
       "      <td>True</td>\n",
       "      <td>8</td>\n",
       "    </tr>\n",
       "    <tr>\n",
       "      <th>11</th>\n",
       "      <td>ExtraTreesEntr</td>\n",
       "      <td>0.798883</td>\n",
       "      <td>0.022917</td>\n",
       "      <td>0.252218</td>\n",
       "      <td>0.022917</td>\n",
       "      <td>0.252218</td>\n",
       "      <td>1</td>\n",
       "      <td>True</td>\n",
       "      <td>9</td>\n",
       "    </tr>\n",
       "    <tr>\n",
       "      <th>12</th>\n",
       "      <td>KNeighborsDist</td>\n",
       "      <td>0.653631</td>\n",
       "      <td>0.003518</td>\n",
       "      <td>0.007811</td>\n",
       "      <td>0.003518</td>\n",
       "      <td>0.007811</td>\n",
       "      <td>1</td>\n",
       "      <td>True</td>\n",
       "      <td>2</td>\n",
       "    </tr>\n",
       "    <tr>\n",
       "      <th>13</th>\n",
       "      <td>KNeighborsUnif</td>\n",
       "      <td>0.653631</td>\n",
       "      <td>0.026963</td>\n",
       "      <td>0.007720</td>\n",
       "      <td>0.026963</td>\n",
       "      <td>0.007720</td>\n",
       "      <td>1</td>\n",
       "      <td>True</td>\n",
       "      <td>1</td>\n",
       "    </tr>\n",
       "  </tbody>\n",
       "</table>\n",
       "</div>"
      ],
      "text/plain": [
       "                  model  score_val  pred_time_val  fit_time  \\\n",
       "0   WeightedEnsemble_L2   0.860335       0.036541  2.535042   \n",
       "1        NeuralNetTorch   0.837989       0.007182  1.621377   \n",
       "2         LightGBMLarge   0.826816       0.002590  0.316955   \n",
       "3              LightGBM   0.826816       0.002826  0.182086   \n",
       "4              CatBoost   0.826816       0.003359  0.564035   \n",
       "5       NeuralNetFastAI   0.826816       0.007859  1.137854   \n",
       "6               XGBoost   0.821229       0.003699  0.113863   \n",
       "7      RandomForestEntr   0.821229       0.021228  0.249363   \n",
       "8      RandomForestGini   0.815642       0.021727  0.271968   \n",
       "9            LightGBMXT   0.810056       0.003175  0.201514   \n",
       "10       ExtraTreesGini   0.804469       0.021523  0.275308   \n",
       "11       ExtraTreesEntr   0.798883       0.022917  0.252218   \n",
       "12       KNeighborsDist   0.653631       0.003518  0.007811   \n",
       "13       KNeighborsUnif   0.653631       0.026963  0.007720   \n",
       "\n",
       "    pred_time_val_marginal  fit_time_marginal  stack_level  can_infer  \\\n",
       "0                 0.000440           0.277847            2       True   \n",
       "1                 0.007182           1.621377            1       True   \n",
       "2                 0.002590           0.316955            1       True   \n",
       "3                 0.002826           0.182086            1       True   \n",
       "4                 0.003359           0.564035            1       True   \n",
       "5                 0.007859           1.137854            1       True   \n",
       "6                 0.003699           0.113863            1       True   \n",
       "7                 0.021228           0.249363            1       True   \n",
       "8                 0.021727           0.271968            1       True   \n",
       "9                 0.003175           0.201514            1       True   \n",
       "10                0.021523           0.275308            1       True   \n",
       "11                0.022917           0.252218            1       True   \n",
       "12                0.003518           0.007811            1       True   \n",
       "13                0.026963           0.007720            1       True   \n",
       "\n",
       "    fit_order  \n",
       "0          14  \n",
       "1          12  \n",
       "2          13  \n",
       "3           4  \n",
       "4           7  \n",
       "5          10  \n",
       "6          11  \n",
       "7           6  \n",
       "8           5  \n",
       "9           3  \n",
       "10          8  \n",
       "11          9  \n",
       "12          2  \n",
       "13          1  "
      ]
     },
     "execution_count": 7,
     "metadata": {},
     "output_type": "execute_result"
    }
   ],
   "source": [
    "predictr.leaderboard()"
   ]
  },
  {
   "cell_type": "markdown",
   "id": "486b3393-3a1a-4948-92d7-50dd88a8e58d",
   "metadata": {},
   "source": [
    "`-` validation set의 의미:\n",
    "\n",
    "## D. 예측 (predict)\n",
    "\n",
    "`-` 비유: 학습이후에 문제를 푸는 과정으로 비유할 수 있다.\n",
    "\n",
    "`-` training set 을 풀어봄 (predict) $\\to$ 점수 확인"
   ]
  },
  {
   "cell_type": "code",
   "execution_count": 8,
   "id": "36e5d9fc-069b-46c8-8c2f-b75c06e9c19a",
   "metadata": {},
   "outputs": [
    {
     "data": {
      "text/plain": [
       "0.9438832772166106"
      ]
     },
     "execution_count": 8,
     "metadata": {},
     "output_type": "execute_result"
    }
   ],
   "source": [
    "(tr.Survived == predictr.predict(_tr)).mean()"
   ]
  },
  {
   "cell_type": "markdown",
   "id": "0adb507c-6dd5-4383-b903-e653fff9813d",
   "metadata": {},
   "source": [
    "`-` test set 을 풀어봄 (predict) $\\to$ 점수 확인 하러 캐글에 결과제출"
   ]
  },
  {
   "cell_type": "code",
   "execution_count": 9,
   "id": "a059e8ec-d555-4e8d-aa09-32fd909d497a",
   "metadata": {},
   "outputs": [],
   "source": [
    "tst.assign(Survived = predictr.predict(_tst)).loc[:,['PassengerId','Survived']]\\\n",
    ".to_csv(\"./titanic_sub/autogluon(Fsize,Drop)_submission.csv\",index=False)"
   ]
  },
  {
   "cell_type": "markdown",
   "id": "14ed63af-b491-42b0-ae86-176bfde57262",
   "metadata": {},
   "source": [
    "## Submission Result"
   ]
  },
  {
   "cell_type": "markdown",
   "id": "bc7b7101-c3a3-4b13-82b7-8ba670c28edd",
   "metadata": {},
   "source": [
    "|Sub and Description| Public Score|\n",
    "|-------------------|-------------|\n",
    "|autogulon_sub|0.75358|\n",
    "|autogulon(Fsize)_sub|0.77272|\n",
    "|autogulon(Fsize,Drop)|0.78947|"
   ]
  },
  {
   "cell_type": "markdown",
   "id": "c8b50ded-5628-4c0d-96a1-2e73cbf3ce37",
   "metadata": {},
   "source": [
    "`-` drop 했을 때 성능이 올라가는 이유?\n",
    "\n",
    "- ver2 : autogluon // 그냥\n",
    "- ver3 : autogluon // Fsize X,Y --> X+Y+l = Z\n",
    "- ver4 : autogluon // Fsize, Drop"
   ]
  }
 ],
 "metadata": {
  "kernelspec": {
   "display_name": "Python 3",
   "language": "python",
   "name": "python3"
  },
  "language_info": {
   "codemirror_mode": {
    "name": "ipython",
    "version": 3
   },
   "file_extension": ".py",
   "mimetype": "text/x-python",
   "name": "python",
   "nbconvert_exporter": "python",
   "pygments_lexer": "ipython3",
   "version": "3.8.16"
  }
 },
 "nbformat": 4,
 "nbformat_minor": 5
}
