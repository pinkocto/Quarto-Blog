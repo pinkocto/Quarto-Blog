{
 "cells": [
  {
   "cell_type": "code",
   "execution_count": null,
   "id": "197dd369-0893-4055-a1e4-4bd8efed4726",
   "metadata": {},
   "outputs": [],
   "source": [
    "A --> 6\n",
    "B --> 5\n",
    "A --> 3\n",
    "B --> 10\n",
    "A --> 12"
   ]
  },
  {
   "cell_type": "code",
   "execution_count": 1,
   "id": "9ea36883-a766-4b06-9159-0d610cc28de8",
   "metadata": {},
   "outputs": [
    {
     "data": {
      "text/plain": [
       "21"
      ]
     },
     "execution_count": 1,
     "metadata": {},
     "output_type": "execute_result"
    }
   ],
   "source": [
    "6+3+12"
   ]
  },
  {
   "cell_type": "code",
   "execution_count": null,
   "id": "2f05db8e-3133-415f-84a3-28520aff8502",
   "metadata": {},
   "outputs": [],
   "source": [
    "{9, # 15,#  8,#  4,#  13, # 14, 3, # 16, #  5}"
   ]
  },
  {
   "cell_type": "code",
   "execution_count": null,
   "id": "20e648ab-ad05-46c4-a120-b2f1cc2951b5",
   "metadata": {},
   "outputs": [],
   "source": [
    "A --> 9\n",
    "B --> 15\n",
    "A --> 8\n",
    "B --> 5\n",
    "A --> 16\n",
    "B --> 4\n",
    "A --> 13\n",
    "B --> 14\n",
    "A --> 3"
   ]
  },
  {
   "cell_type": "code",
   "execution_count": 2,
   "id": "cfb24f9f-eeaa-4bbc-a475-dade2017fb34",
   "metadata": {},
   "outputs": [
    {
     "data": {
      "text/plain": [
       "49"
      ]
     },
     "execution_count": 2,
     "metadata": {},
     "output_type": "execute_result"
    }
   ],
   "source": [
    "9+8+16+13+3"
   ]
  },
  {
   "cell_type": "code",
   "execution_count": 8,
   "id": "25533e11-7ed6-458e-8423-1b4743eb5775",
   "metadata": {},
   "outputs": [
    {
     "name": "stdout",
     "output_type": "stream",
     "text": [
      "A가 가져가는 자연수의 총 합: 12\n"
     ]
    }
   ],
   "source": [
    "def maximize_sum(nums):\n",
    "    n = len(nums)\n",
    "\n",
    "    # dp[i][j]: 현재 남아있는 숫자가 nums[i:j+1] 일 때, A가 가져갈 수 있는 최대 합\n",
    "    dp = [[0] * n for _ in range(n)]\n",
    "\n",
    "    for length in range(1, n + 1):\n",
    "        for i in range(n - length + 1):\n",
    "            j = i + length - 1\n",
    "\n",
    "            # A가 왼쪽 끝을 가져갈 경우\n",
    "            pick_left = nums[i] + (dp[i + 1][j] if i + 1 <= j else 0)\n",
    "\n",
    "            # A가 오른쪽 끝을 가져갈 경우\n",
    "            pick_right = nums[j] + (dp[i][j - 1] if i <= j - 1 else 0)\n",
    "\n",
    "            # A가 두 경우 중 더 큰 값을 선택\n",
    "            dp[i][j] = max(pick_left, pick_right)\n",
    "\n",
    "    return dp[0][n - 1]\n",
    "\n",
    "# 예시 입력\n",
    "numbers = [1,2,6,3]\n",
    "result = maximize_sum(numbers)\n",
    "print(\"A가 가져가는 자연수의 총 합:\", result)\n"
   ]
  },
  {
   "cell_type": "code",
   "execution_count": null,
   "id": "dcd6d27a-33fc-4010-b551-1a36180f5350",
   "metadata": {},
   "outputs": [],
   "source": [
    "6, 11,# 12,$ 24,$16, 17, 5, 20, 13, 1, #22, 10"
   ]
  },
  {
   "cell_type": "code",
   "execution_count": 10,
   "id": "dbaf9868-8197-4229-93a2-3f48f2df7dd1",
   "metadata": {},
   "outputs": [
    {
     "data": {
      "text/plain": [
       "78"
      ]
     },
     "execution_count": 10,
     "metadata": {},
     "output_type": "execute_result"
    }
   ],
   "source": [
    "A = [10,22,12,16,5,13]\n",
    "sum(A)"
   ]
  },
  {
   "cell_type": "code",
   "execution_count": 11,
   "id": "791268f4-50cb-4ccc-8148-ecf48e8cbc2c",
   "metadata": {},
   "outputs": [
    {
     "data": {
      "text/plain": [
       "173"
      ]
     },
     "execution_count": 11,
     "metadata": {},
     "output_type": "execute_result"
    }
   ],
   "source": [
    "A = [26,32,18,8,28,12,24,25]\n",
    "# B = [21,27,10,14,4,22,6]\n",
    "sum(A)"
   ]
  },
  {
   "cell_type": "markdown",
   "id": "1845baab-8795-4d6b-86d4-7c552a88b48b",
   "metadata": {},
   "source": [
    "## Q1. 14, 21, 49, 78, 173"
   ]
  },
  {
   "cell_type": "code",
   "execution_count": 16,
   "id": "50845b7e-b08f-4b1f-ade4-fb7c7ea25ab6",
   "metadata": {},
   "outputs": [
    {
     "data": {
      "text/plain": [
       "{2, 4, 5}"
      ]
     },
     "execution_count": 16,
     "metadata": {},
     "output_type": "execute_result"
    }
   ],
   "source": [
    "set([2,4,5])"
   ]
  },
  {
   "cell_type": "code",
   "execution_count": 36,
   "id": "1a9c4442-d4a0-4349-acfa-ffb78041f8cb",
   "metadata": {},
   "outputs": [
    {
     "ename": "TypeError",
     "evalue": "'int' object is not iterable",
     "output_type": "error",
     "traceback": [
      "\u001b[0;31m---------------------------------------------------------------------------\u001b[0m",
      "\u001b[0;31mTypeError\u001b[0m                                 Traceback (most recent call last)",
      "Cell \u001b[0;32mIn[36], line 4\u001b[0m\n\u001b[1;32m      2\u001b[0m \u001b[38;5;28;01mfor\u001b[39;00m j \u001b[38;5;129;01min\u001b[39;00m \u001b[38;5;28mset\u001b[39m([\u001b[38;5;241m2\u001b[39m,\u001b[38;5;241m4\u001b[39m,\u001b[38;5;241m5\u001b[39m]):\n\u001b[1;32m      3\u001b[0m     \u001b[38;5;28;01mif\u001b[39;00m i \u001b[38;5;241m!=\u001b[39m j:\n\u001b[0;32m----> 4\u001b[0m         \u001b[38;5;28mprint\u001b[39m(\u001b[38;5;28mset\u001b[39m([\u001b[38;5;241m2\u001b[39m,\u001b[38;5;241m4\u001b[39m,\u001b[38;5;241m5\u001b[39m])\u001b[38;5;241m.\u001b[39madd(\u001b[38;5;28;43mset\u001b[39;49m\u001b[43m(\u001b[49m\u001b[38;5;28;43mabs\u001b[39;49m\u001b[43m(\u001b[49m\u001b[43mi\u001b[49m\u001b[38;5;241;43m-\u001b[39;49m\u001b[43mj\u001b[49m\u001b[43m)\u001b[49m\u001b[43m)\u001b[49m))\n",
      "\u001b[0;31mTypeError\u001b[0m: 'int' object is not iterable"
     ]
    }
   ],
   "source": [
    "for i in set([2,4,5]):\n",
    "    for j in set([2,4,5]):\n",
    "        if i != j:\n",
    "            print(set([2,4,5]).add(set(abs(i-j))))"
   ]
  },
  {
   "cell_type": "code",
   "execution_count": 40,
   "id": "8d1232f4-c6de-4e6b-a2fb-61b463502e2d",
   "metadata": {},
   "outputs": [
    {
     "name": "stdout",
     "output_type": "stream",
     "text": [
      "{1, 2, 3, 4, 5}\n"
     ]
    }
   ],
   "source": [
    "result_set = set([2,4,5])  # 결과를 저장할 빈 집합\n",
    "\n",
    "for i in set([2, 4, 5]):\n",
    "    for j in set([2, 4, 5]):\n",
    "        if i != j:\n",
    "            result_set.add(abs(i - j))\n",
    "\n",
    "print(result_set)"
   ]
  },
  {
   "cell_type": "code",
   "execution_count": 43,
   "id": "2782e0fb-994d-4325-a356-0e779a550285",
   "metadata": {},
   "outputs": [],
   "source": [
    "def NUMBER_SET(initial_set):\n",
    "    result_set = initial_set.copy()\n",
    "    for i in set(initial_set):\n",
    "        for j in set(initial_set):\n",
    "            if i != j:\n",
    "                print(result_set.add(abs(i - j)))"
   ]
  },
  {
   "cell_type": "code",
   "execution_count": 46,
   "id": "2a0a43ea-b181-4726-bbe2-cbf4cdbe1727",
   "metadata": {},
   "outputs": [
    {
     "name": "stdout",
     "output_type": "stream",
     "text": [
      "None\n",
      "None\n",
      "None\n",
      "None\n",
      "None\n",
      "None\n"
     ]
    }
   ],
   "source": [
    "NUMBER_SET(set([2,4,5]))"
   ]
  },
  {
   "cell_type": "code",
   "execution_count": 54,
   "id": "b8a4c6e3-9cf9-454d-b4d9-5f9c94580ff1",
   "metadata": {},
   "outputs": [
    {
     "name": "stdout",
     "output_type": "stream",
     "text": [
      "15\n",
      "{130, 5, 135, 10, 15, 20, 25, 30, 35, 40, 45, 50, 55, 60, 65, 70, 75, 80, 85, 90, 95, 100, 105, 110, 115, 120, 125}\n",
      "27\n"
     ]
    }
   ],
   "source": [
    "def NUMBER_SET(initial_set):\n",
    "    result_set = initial_set.copy()\n",
    "    for i in set(initial_set):\n",
    "        for j in set(initial_set):\n",
    "            if i != j:\n",
    "                result_set.add(abs(i - j))\n",
    "    return result_set\n",
    "\n",
    "# 예시 사용법\n",
    "# initial_set = {56,24,4,16,76,68,36,60,40,12}\n",
    "initial_set = {125, 120, 135, 20, 95, 90, 80, 85, 25, 100, 65, 130, 55, 75, 15}\n",
    "result = NUMBER_SET(initial_set)\n",
    "print(len(initial_set))\n",
    "print(result)\n",
    "print(len(result))"
   ]
  },
  {
   "cell_type": "markdown",
   "id": "2cb7766d-d7b2-4a1f-8784-4ffc43acec2b",
   "metadata": {},
   "source": [
    "N개의 칸이 있고 각 칸에 있는 공의수가 주어진다. 한번의 작업으로 공을 인접한 칸으로 옮길 수 있다. 모든 칸에 공이 최소 3개가 되도록 하려면 최소 몇번의 작업을 해야 하는지 제시하라. 단, 전체 칸에 있는 공의 개수의 합은 3N+1이다. 예제입력. N=4, Counts={4,2,2,5} "
   ]
  }
 ],
 "metadata": {
  "kernelspec": {
   "display_name": "Python 3 (ipykernel)",
   "language": "python",
   "name": "python3"
  },
  "language_info": {
   "codemirror_mode": {
    "name": "ipython",
    "version": 3
   },
   "file_extension": ".py",
   "mimetype": "text/x-python",
   "name": "python",
   "nbconvert_exporter": "python",
   "pygments_lexer": "ipython3",
   "version": "3.10.13"
  }
 },
 "nbformat": 4,
 "nbformat_minor": 5
}
