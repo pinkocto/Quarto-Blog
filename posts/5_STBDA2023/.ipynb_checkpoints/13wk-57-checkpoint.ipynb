{
 "cells": [
  {
   "cell_type": "raw",
   "id": "f683dc93-25c7-48bf-8bce-fac47ed66dad",
   "metadata": {},
   "source": [
    "---\n",
    "title: \"13wk-57: House Prices / 자료분석(Autogluon)\"\n",
    "author: \"JiyunLim\"\n",
    "date: \"12/01/2023\"\n",
    "---"
   ]
  },
  {
   "cell_type": "markdown",
   "id": "f13538f6-e14f-4f30-9dab-2b72ec80f856",
   "metadata": {},
   "source": [
    "# 1. 강의영상 "
   ]
  },
  {
   "cell_type": "markdown",
   "id": "a2ff6d74-daa1-439a-abfb-8c6e21834cde",
   "metadata": {},
   "source": [
    "{{<video https://youtu.be/playlist?list=PLQqh36zP38-x-PYcds3K7ck8ELQyVlVoN&si=ZCdvUB2r4dQ7cnQx >}}"
   ]
  },
  {
   "cell_type": "markdown",
   "id": "1d9a4ae3-329f-4e97-96f4-9d48ff60037c",
   "metadata": {},
   "source": [
    "# 2. Imports"
   ]
  },
  {
   "cell_type": "code",
   "execution_count": 3,
   "id": "e43b6748-3f6b-4d31-90ba-bd80c3e88cd3",
   "metadata": {
    "tags": []
   },
   "outputs": [],
   "source": [
    "# !pip install autogluon.eda"
   ]
  },
  {
   "cell_type": "code",
   "execution_count": 4,
   "id": "6434b134-a85e-4b1f-9416-1f86bc4c3b49",
   "metadata": {
    "tags": []
   },
   "outputs": [],
   "source": [
    "import numpy as np\n",
    "import pandas as pd\n",
    "import matplotlib.pyplot as plt \n",
    "import seaborn as sns\n",
    "#---#\n",
    "from autogluon.tabular import TabularPredictor\n",
    "import autogluon.eda.auto as auto\n",
    "#---#\n",
    "import warnings\n",
    "warnings.filterwarnings('ignore')"
   ]
  },
  {
   "cell_type": "markdown",
   "id": "10dc6793-44b5-495b-9460-5386a288b47e",
   "metadata": {
    "tags": []
   },
   "source": [
    "# 3. Data"
   ]
  },
  {
   "cell_type": "markdown",
   "id": "c38e7c28-284f-459a-9c63-bbf7671f813c",
   "metadata": {},
   "source": [
    "ref: <https://www.kaggle.com/competitions/house-prices-advanced-regression-techniques/overview>"
   ]
  },
  {
   "cell_type": "code",
   "execution_count": 6,
   "id": "f60f3d30-0f73-4fa2-b55a-96dd2961a3c5",
   "metadata": {
    "tags": []
   },
   "outputs": [
    {
     "name": "stdout",
     "output_type": "stream",
     "text": [
      "Downloading house-prices-advanced-regression-techniques.zip to /home/jy/Dropbox/임지윤/Quarto-Blog/posts/5_STBDA2023\n",
      "100%|█████████████████████████████████████████| 199k/199k [00:00<00:00, 845kB/s]\n",
      "100%|█████████████████████████████████████████| 199k/199k [00:00<00:00, 843kB/s]\n"
     ]
    }
   ],
   "source": [
    "!kaggle competitions download -c house-prices-advanced-regression-techniques"
   ]
  },
  {
   "cell_type": "code",
   "execution_count": 7,
   "id": "1eeb438a-63ee-46c5-875a-2410ccf5fc75",
   "metadata": {
    "tags": []
   },
   "outputs": [
    {
     "name": "stdout",
     "output_type": "stream",
     "text": [
      "Archive:  house-prices-advanced-regression-techniques.zip\n",
      "  inflating: data_description.txt    \n",
      "  inflating: sample_submission.csv   \n",
      "  inflating: test.csv                \n",
      "  inflating: train.csv               \n"
     ]
    }
   ],
   "source": [
    "!unzip house-prices-advanced-regression-techniques.zip"
   ]
  },
  {
   "cell_type": "code",
   "execution_count": 8,
   "id": "9891678c-b22f-48ad-9d2c-29af52095e26",
   "metadata": {
    "tags": []
   },
   "outputs": [],
   "source": [
    "df_submission = pd.read_csv(\"sample_submission.csv\")\n",
    "df_train = pd.read_csv(\"train.csv\")\n",
    "df_test = pd.read_csv(\"test.csv\")"
   ]
  },
  {
   "cell_type": "code",
   "execution_count": 9,
   "id": "bb2a217d-f39a-41a0-ba5d-a14f2e7a9ee6",
   "metadata": {
    "tags": []
   },
   "outputs": [],
   "source": [
    "!rm sample_submission.csv\n",
    "!rm train.csv\n",
    "!rm test.csv\n",
    "!rm data_description.txt\n",
    "!rm house-prices-advanced-regression-techniques.zip"
   ]
  },
  {
   "cell_type": "markdown",
   "id": "a4c67a7f-4c11-4466-bc9f-cd29964474a4",
   "metadata": {},
   "source": [
    "# 4. 적합 "
   ]
  },
  {
   "cell_type": "code",
   "execution_count": 10,
   "id": "c1c50fc1-65bc-4db7-9777-6e451da5fd6e",
   "metadata": {
    "tags": []
   },
   "outputs": [
    {
     "data": {
      "text/plain": [
       "{'SalePrice'}"
      ]
     },
     "execution_count": 10,
     "metadata": {},
     "output_type": "execute_result"
    }
   ],
   "source": [
    "set(df_train.columns) - set(df_test.columns)"
   ]
  },
  {
   "cell_type": "code",
   "execution_count": 12,
   "id": "8a5b7e05-a3c2-494a-a86d-d73e5349f415",
   "metadata": {
    "tags": []
   },
   "outputs": [
    {
     "name": "stderr",
     "output_type": "stream",
     "text": [
      "No path specified. Models will be saved in: \"AutogluonModels/ag-20231211_054948/\"\n",
      "Beginning AutoGluon training ...\n",
      "AutoGluon will save models to \"AutogluonModels/ag-20231211_054948/\"\n",
      "AutoGluon Version:  0.8.1\n",
      "Python Version:     3.10.13\n",
      "Operating System:   Linux\n",
      "Platform Machine:   x86_64\n",
      "Platform Version:   #34~22.04.1-Ubuntu SMP PREEMPT_DYNAMIC Thu Sep  7 13:12:03 UTC 2\n",
      "Disk Space Avail:   441.27 GB / 982.82 GB (44.9%)\n",
      "Train Data Rows:    1460\n",
      "Train Data Columns: 80\n",
      "Label Column: SalePrice\n",
      "Preprocessing data ...\n",
      "AutoGluon infers your prediction problem is: 'regression' (because dtype of label-column == int and many unique label-values observed).\n",
      "\tLabel info (max, min, mean, stddev): (755000, 34900, 180921.19589, 79442.50288)\n",
      "\tIf 'regression' is not the correct problem_type, please manually specify the problem_type parameter during predictor init (You may specify problem_type as one of: ['binary', 'multiclass', 'regression'])\n",
      "Using Feature Generators to preprocess the data ...\n",
      "Fitting AutoMLPipelineFeatureGenerator...\n",
      "\tAvailable Memory:                    119270.29 MB\n",
      "\tTrain Data (Original)  Memory Usage: 4.06 MB (0.0% of available memory)\n",
      "\tInferring data type of each feature based on column values. Set feature_metadata_in to manually specify special dtypes of the features.\n",
      "\tStage 1 Generators:\n",
      "\t\tFitting AsTypeFeatureGenerator...\n",
      "\t\t\tNote: Converting 3 features to boolean dtype as they only contain 2 unique values.\n",
      "\tStage 2 Generators:\n",
      "\t\tFitting FillNaFeatureGenerator...\n",
      "\tStage 3 Generators:\n",
      "\t\tFitting IdentityFeatureGenerator...\n",
      "\t\tFitting CategoryFeatureGenerator...\n",
      "\t\t\tFitting CategoryMemoryMinimizeFeatureGenerator...\n",
      "\tStage 4 Generators:\n",
      "\t\tFitting DropUniqueFeatureGenerator...\n",
      "\tStage 5 Generators:\n",
      "\t\tFitting DropDuplicatesFeatureGenerator...\n",
      "\tTypes of features in original data (raw dtype, special dtypes):\n",
      "\t\t('float', [])  :  3 | ['LotFrontage', 'MasVnrArea', 'GarageYrBlt']\n",
      "\t\t('int', [])    : 34 | ['Id', 'MSSubClass', 'LotArea', 'OverallQual', 'OverallCond', ...]\n",
      "\t\t('object', []) : 43 | ['MSZoning', 'Street', 'Alley', 'LotShape', 'LandContour', ...]\n",
      "\tTypes of features in processed data (raw dtype, special dtypes):\n",
      "\t\t('category', [])  : 40 | ['MSZoning', 'Alley', 'LotShape', 'LandContour', 'LotConfig', ...]\n",
      "\t\t('float', [])     :  3 | ['LotFrontage', 'MasVnrArea', 'GarageYrBlt']\n",
      "\t\t('int', [])       : 34 | ['Id', 'MSSubClass', 'LotArea', 'OverallQual', 'OverallCond', ...]\n",
      "\t\t('int', ['bool']) :  3 | ['Street', 'Utilities', 'CentralAir']\n",
      "\t0.2s = Fit runtime\n",
      "\t80 features in original data used to generate 80 features in processed data.\n",
      "\tTrain Data (Processed) Memory Usage: 0.52 MB (0.0% of available memory)\n",
      "Data preprocessing and feature engineering runtime = 0.19s ...\n",
      "AutoGluon will gauge predictive performance using evaluation metric: 'root_mean_squared_error'\n",
      "\tThis metric's sign has been flipped to adhere to being higher_is_better. The metric score can be multiplied by -1 to get the metric value.\n",
      "\tTo change this, specify the eval_metric parameter of Predictor()\n",
      "Automatically generating train/validation split with holdout_frac=0.2, Train Rows: 1168, Val Rows: 292\n",
      "User-specified model hyperparameters to be fit:\n",
      "{\n",
      "\t'NN_TORCH': {},\n",
      "\t'GBM': [{'extra_trees': True, 'ag_args': {'name_suffix': 'XT'}}, {}, 'GBMLarge'],\n",
      "\t'CAT': {},\n",
      "\t'XGB': {},\n",
      "\t'FASTAI': {},\n",
      "\t'RF': [{'criterion': 'gini', 'ag_args': {'name_suffix': 'Gini', 'problem_types': ['binary', 'multiclass']}}, {'criterion': 'entropy', 'ag_args': {'name_suffix': 'Entr', 'problem_types': ['binary', 'multiclass']}}, {'criterion': 'squared_error', 'ag_args': {'name_suffix': 'MSE', 'problem_types': ['regression', 'quantile']}}],\n",
      "\t'XT': [{'criterion': 'gini', 'ag_args': {'name_suffix': 'Gini', 'problem_types': ['binary', 'multiclass']}}, {'criterion': 'entropy', 'ag_args': {'name_suffix': 'Entr', 'problem_types': ['binary', 'multiclass']}}, {'criterion': 'squared_error', 'ag_args': {'name_suffix': 'MSE', 'problem_types': ['regression', 'quantile']}}],\n",
      "\t'KNN': [{'weights': 'uniform', 'ag_args': {'name_suffix': 'Unif'}}, {'weights': 'distance', 'ag_args': {'name_suffix': 'Dist'}}],\n",
      "}\n",
      "Fitting 11 L1 models ...\n",
      "Fitting model: KNeighborsUnif ...\n",
      "\t-52278.8213\t = Validation score   (-root_mean_squared_error)\n",
      "\t0.01s\t = Training   runtime\n",
      "\t0.09s\t = Validation runtime\n",
      "Fitting model: KNeighborsDist ...\n",
      "\t-51314.2734\t = Validation score   (-root_mean_squared_error)\n",
      "\t0.01s\t = Training   runtime\n",
      "\t0.01s\t = Validation runtime\n",
      "Fitting model: LightGBMXT ...\n"
     ]
    },
    {
     "name": "stdout",
     "output_type": "stream",
     "text": [
      "[1000]\tvalid_set's rmse: 27505.1\n",
      "[2000]\tvalid_set's rmse: 27240.4\n",
      "[3000]\tvalid_set's rmse: 27201.5\n",
      "[4000]\tvalid_set's rmse: 27197.3\n",
      "[5000]\tvalid_set's rmse: 27197.2\n"
     ]
    },
    {
     "name": "stderr",
     "output_type": "stream",
     "text": [
      "\t-27196.7065\t = Validation score   (-root_mean_squared_error)\n",
      "\t2.17s\t = Training   runtime\n",
      "\t0.02s\t = Validation runtime\n",
      "Fitting model: LightGBM ...\n"
     ]
    },
    {
     "name": "stdout",
     "output_type": "stream",
     "text": [
      "[1000]\tvalid_set's rmse: 29499.8\n",
      "[2000]\tvalid_set's rmse: 28896.4\n",
      "[3000]\tvalid_set's rmse: 28752.1\n",
      "[4000]\tvalid_set's rmse: 28705.7\n",
      "[5000]\tvalid_set's rmse: 28695.2\n",
      "[6000]\tvalid_set's rmse: 28693\n",
      "[7000]\tvalid_set's rmse: 28692.5\n",
      "[8000]\tvalid_set's rmse: 28692.3\n",
      "[9000]\tvalid_set's rmse: 28692.3\n",
      "[10000]\tvalid_set's rmse: 28692.3\n"
     ]
    },
    {
     "name": "stderr",
     "output_type": "stream",
     "text": [
      "\t-28692.2871\t = Validation score   (-root_mean_squared_error)\n",
      "\t4.44s\t = Training   runtime\n",
      "\t0.04s\t = Validation runtime\n",
      "Fitting model: RandomForestMSE ...\n",
      "\t-32785.3519\t = Validation score   (-root_mean_squared_error)\n",
      "\t0.35s\t = Training   runtime\n",
      "\t0.03s\t = Validation runtime\n",
      "Fitting model: CatBoost ...\n",
      "\t-28465.6966\t = Validation score   (-root_mean_squared_error)\n",
      "\t42.17s\t = Training   runtime\n",
      "\t0.01s\t = Validation runtime\n",
      "Fitting model: ExtraTreesMSE ...\n",
      "\t-32045.9062\t = Validation score   (-root_mean_squared_error)\n",
      "\t0.25s\t = Training   runtime\n",
      "\t0.03s\t = Validation runtime\n",
      "Fitting model: NeuralNetFastAI ...\n",
      "\t-33846.125\t = Validation score   (-root_mean_squared_error)\n",
      "\t2.3s\t = Training   runtime\n",
      "\t0.02s\t = Validation runtime\n",
      "Fitting model: XGBoost ...\n",
      "\t-27778.2437\t = Validation score   (-root_mean_squared_error)\n",
      "\t0.68s\t = Training   runtime\n",
      "\t0.01s\t = Validation runtime\n",
      "Fitting model: NeuralNetTorch ...\n",
      "\t-36077.4744\t = Validation score   (-root_mean_squared_error)\n",
      "\t2.93s\t = Training   runtime\n",
      "\t0.04s\t = Validation runtime\n",
      "Fitting model: LightGBMLarge ...\n"
     ]
    },
    {
     "name": "stdout",
     "output_type": "stream",
     "text": [
      "[1000]\tvalid_set's rmse: 32134.9\n",
      "[2000]\tvalid_set's rmse: 32087.8\n",
      "[3000]\tvalid_set's rmse: 32084.2\n",
      "[4000]\tvalid_set's rmse: 32084.2\n",
      "[5000]\tvalid_set's rmse: 32084.2\n"
     ]
    },
    {
     "name": "stderr",
     "output_type": "stream",
     "text": [
      "\t-32084.1712\t = Validation score   (-root_mean_squared_error)\n",
      "\t6.83s\t = Training   runtime\n",
      "\t0.04s\t = Validation runtime\n",
      "Fitting model: WeightedEnsemble_L2 ...\n",
      "\t-26322.571\t = Validation score   (-root_mean_squared_error)\n",
      "\t0.15s\t = Training   runtime\n",
      "\t0.0s\t = Validation runtime\n",
      "AutoGluon training complete, total runtime = 63.79s ... Best model: \"WeightedEnsemble_L2\"\n",
      "TabularPredictor saved. To load, use: predictor = TabularPredictor.load(\"AutogluonModels/ag-20231211_054948/\")\n",
      "WARNING: Int features without null values at train time contain null values at inference time! Imputing nulls to 0. To avoid this, pass the features as floats during fit!\n",
      "WARNING: Int features with nulls: ['BsmtFinSF1', 'BsmtFinSF2', 'BsmtUnfSF', 'TotalBsmtSF', 'BsmtFullBath', 'BsmtHalfBath', 'GarageCars', 'GarageArea']\n"
     ]
    }
   ],
   "source": [
    "# step1 -- pass\n",
    "# step2\n",
    "predictr = TabularPredictor(label='SalePrice')\n",
    "# step3\n",
    "predictr.fit(df_train)\n",
    "# step4\n",
    "yhat = predictr.predict(df_train)\n",
    "yyhat = predictr.predict(df_test)"
   ]
  },
  {
   "cell_type": "markdown",
   "id": "826d82d2-1aa4-4163-bc4d-0ed2e00d8ff6",
   "metadata": {
    "tags": []
   },
   "source": [
    "# 5. 제출 "
   ]
  },
  {
   "cell_type": "code",
   "execution_count": 26,
   "id": "74aa4fd9-2f38-4865-b813-5c401cc16e6b",
   "metadata": {
    "tags": []
   },
   "outputs": [],
   "source": [
    "df_submission['SalePrice'] = yyhat \n",
    "df_submission.to_csv(\"submission.csv\",index=False)"
   ]
  },
  {
   "cell_type": "code",
   "execution_count": 27,
   "id": "3ad4fcf6-b49c-4dda-a90a-15172c6efc95",
   "metadata": {
    "tags": []
   },
   "outputs": [
    {
     "name": "stdout",
     "output_type": "stream",
     "text": [
      "  0%|                                               | 0.00/21.1k [00:00<?, ?B/s]2023-12-01 22:35:47,374 WARNING Retrying (Retry(total=9, connect=None, read=None, redirect=None, status=None)) after connection broken by 'NewConnectionError('<urllib3.connection.HTTPSConnection object at 0x7fab8d916500>: Failed to establish a new connection: [Errno -3] Temporary failure in name resolution')': /upload/storage/v1/b/kaggle-competitions-submissions/o?uploadType=resumable&upload_id=ABPtcPrQPMZgrOes6mIirhgo1brnKPVPDPdDAa0UrFknmizjXgeg2BBIaNtyZYx7a5ZMz70lq_iPJQj-hoNcwHQjzA7_ajRVGka6C29N5aBKnRKBGg\n",
      "100%|████████████████████████████████████████| 21.1k/21.1k [00:26<00:00, 821B/s]\n",
      "Successfully submitted to House Prices - Advanced Regression Techniques"
     ]
    }
   ],
   "source": [
    "!kaggle competitions submit -c house-prices-advanced-regression-techniques -f submission.csv -m \"오토글루온을 이용하여 첫제출\"\n",
    "!rm submission.csv"
   ]
  },
  {
   "attachments": {
    "ce6e6cbd-cbf1-41d4-95a6-12fb81274125.png": {
     "image/png": "[encoded data removed]"
    }
   },
   "cell_type": "markdown",
   "id": "b501b297-c2f8-4952-bc9e-7d57dedab895",
   "metadata": {},
   "source": [
    "![](attachment:ce6e6cbd-cbf1-41d4-95a6-12fb81274125.png)"
   ]
  },
  {
   "cell_type": "code",
   "execution_count": 15,
   "id": "6848b86b-afcd-4af5-86a2-21584754ed31",
   "metadata": {
    "tags": []
   },
   "outputs": [
    {
     "data": {
      "text/plain": [
       "0.19334006054490413"
      ]
     },
     "execution_count": 15,
     "metadata": {},
     "output_type": "execute_result"
    }
   ],
   "source": [
    "958/4955"
   ]
  },
  {
   "cell_type": "markdown",
   "id": "722a7306-8862-498c-8cee-6c2fe8feba60",
   "metadata": {},
   "source": [
    "나쁘지 않은 순위.. "
   ]
  },
  {
   "cell_type": "markdown",
   "id": "016f2e15-a9d1-43ab-879f-65ed07914d06",
   "metadata": {},
   "source": [
    "# 6. 해석 및 시각화 (HW)"
   ]
  },
  {
   "cell_type": "markdown",
   "id": "6dd6b985-531c-4c99-843a-bf3d4f5c2a15",
   "metadata": {},
   "source": [
    "`-` 변수들중에서 `SalePrice`를 예측하기에 적절한 변수들을 조사해볼것. "
   ]
  }
 ],
 "metadata": {
  "kernelspec": {
   "display_name": "Python 3 (ipykernel)",
   "language": "python",
   "name": "python3"
  },
  "language_info": {
   "codemirror_mode": {
    "name": "ipython",
    "version": 3
   },
   "file_extension": ".py",
   "mimetype": "text/x-python",
   "name": "python",
   "nbconvert_exporter": "python",
   "pygments_lexer": "ipython3",
   "version": "3.8.18"
  }
 },
 "nbformat": 4,
 "nbformat_minor": 5
}
