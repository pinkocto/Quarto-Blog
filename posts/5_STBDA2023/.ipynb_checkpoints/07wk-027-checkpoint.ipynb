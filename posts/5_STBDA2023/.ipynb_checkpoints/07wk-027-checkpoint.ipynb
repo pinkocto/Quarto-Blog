{
 "cells": [
  {
   "cell_type": "raw",
   "id": "64eb37ca-c9c6-41c1-8c7b-3ec72a1d734e",
   "metadata": {},
   "source": [
    "---\n",
    "title: \"07wk-027: 아이스크림(이상치) / 회귀분석\"\n",
    "author: \"JiyunLim\"\n",
    "date: \"10/17/2023\"\n",
    "bibliography: ref.bib\n",
    "draft: false\n",
    "---"
   ]
  },
  {
   "cell_type": "markdown",
   "id": "e36ea10a-7287-4a08-8a99-488037309976",
   "metadata": {},
   "source": [
    "# 1. 강의영상 "
   ]
  },
  {
   "cell_type": "markdown",
   "id": "3aadc83a-d8b8-4321-8cb1-506f038cc2ed",
   "metadata": {},
   "source": [
    "<https://youtu.be/playlist?list=PLQqh36zP38-yf6Ht2bBpj-mf50aPboSsu&si=6dYX9WfoPmbbbGsG>"
   ]
  },
  {
   "cell_type": "markdown",
   "id": "59a020a0-662e-4876-b435-46e0fc56bf94",
   "metadata": {},
   "source": [
    "# 2. Imports "
   ]
  },
  {
   "cell_type": "code",
   "execution_count": 5,
   "id": "7c609bde-2e0a-4dd6-b155-4516b4a03e95",
   "metadata": {
    "tags": []
   },
   "outputs": [],
   "source": [
    "import numpy as np\n",
    "import pandas as pd\n",
    "import sklearn.linear_model\n",
    "import matplotlib.pyplot as plt"
   ]
  },
  {
   "cell_type": "markdown",
   "id": "cd83c630-583b-4a45-b12c-10954be1a0ca",
   "metadata": {},
   "source": [
    "# 3. Data "
   ]
  },
  {
   "cell_type": "code",
   "execution_count": 2,
   "id": "790d4112-d91e-4e27-a7c8-4d4b1d7df6d4",
   "metadata": {
    "tags": []
   },
   "outputs": [
    {
     "data": {
      "text/html": [
       "<div>\n",
       "<style scoped>\n",
       "    .dataframe tbody tr th:only-of-type {\n",
       "        vertical-align: middle;\n",
       "    }\n",
       "\n",
       "    .dataframe tbody tr th {\n",
       "        vertical-align: top;\n",
       "    }\n",
       "\n",
       "    .dataframe thead th {\n",
       "        text-align: right;\n",
       "    }\n",
       "</style>\n",
       "<table border=\"1\" class=\"dataframe\">\n",
       "  <thead>\n",
       "    <tr style=\"text-align: right;\">\n",
       "      <th></th>\n",
       "      <th>temp</th>\n",
       "      <th>ice_sales</th>\n",
       "    </tr>\n",
       "  </thead>\n",
       "  <tbody>\n",
       "    <tr>\n",
       "      <th>0</th>\n",
       "      <td>-4.1</td>\n",
       "      <td>200.000000</td>\n",
       "    </tr>\n",
       "    <tr>\n",
       "      <th>1</th>\n",
       "      <td>-3.7</td>\n",
       "      <td>9.234175</td>\n",
       "    </tr>\n",
       "    <tr>\n",
       "      <th>2</th>\n",
       "      <td>-3.0</td>\n",
       "      <td>9.642778</td>\n",
       "    </tr>\n",
       "    <tr>\n",
       "      <th>3</th>\n",
       "      <td>-1.3</td>\n",
       "      <td>9.657894</td>\n",
       "    </tr>\n",
       "    <tr>\n",
       "      <th>4</th>\n",
       "      <td>-0.5</td>\n",
       "      <td>9.987787</td>\n",
       "    </tr>\n",
       "    <tr>\n",
       "      <th>...</th>\n",
       "      <td>...</td>\n",
       "      <td>...</td>\n",
       "    </tr>\n",
       "    <tr>\n",
       "      <th>95</th>\n",
       "      <td>12.4</td>\n",
       "      <td>17.508688</td>\n",
       "    </tr>\n",
       "    <tr>\n",
       "      <th>96</th>\n",
       "      <td>13.4</td>\n",
       "      <td>17.105376</td>\n",
       "    </tr>\n",
       "    <tr>\n",
       "      <th>97</th>\n",
       "      <td>14.7</td>\n",
       "      <td>17.164930</td>\n",
       "    </tr>\n",
       "    <tr>\n",
       "      <th>98</th>\n",
       "      <td>15.0</td>\n",
       "      <td>18.555388</td>\n",
       "    </tr>\n",
       "    <tr>\n",
       "      <th>99</th>\n",
       "      <td>15.2</td>\n",
       "      <td>18.787014</td>\n",
       "    </tr>\n",
       "  </tbody>\n",
       "</table>\n",
       "<p>100 rows × 2 columns</p>\n",
       "</div>"
      ],
      "text/plain": [
       "    temp   ice_sales\n",
       "0   -4.1  200.000000\n",
       "1   -3.7    9.234175\n",
       "2   -3.0    9.642778\n",
       "3   -1.3    9.657894\n",
       "4   -0.5    9.987787\n",
       "..   ...         ...\n",
       "95  12.4   17.508688\n",
       "96  13.4   17.105376\n",
       "97  14.7   17.164930\n",
       "98  15.0   18.555388\n",
       "99  15.2   18.787014\n",
       "\n",
       "[100 rows x 2 columns]"
      ]
     },
     "execution_count": 2,
     "metadata": {},
     "output_type": "execute_result"
    }
   ],
   "source": [
    "np.random.seed(43052)\n",
    "temp = pd.read_csv('https://raw.githubusercontent.com/guebin/DV2022/master/posts/temp.csv').iloc[:100,3].to_numpy()\n",
    "temp.sort()\n",
    "ice_sales = 10 + temp * 0.5 + np.random.randn(100)\n",
    "ice_sales[0] = 200\n",
    "df_train = pd.DataFrame({'temp':temp,'ice_sales':ice_sales})\n",
    "df_train"
   ]
  },
  {
   "cell_type": "code",
   "execution_count": 6,
   "id": "70b2b626-48a7-4283-b1a3-df18c635d6b8",
   "metadata": {
    "tags": []
   },
   "outputs": [
    {
     "data": {
      "text/plain": [
       "[<matplotlib.lines.Line2D at 0x7f2fb6765720>]"
      ]
     },
     "execution_count": 6,
     "metadata": {},
     "output_type": "execute_result"
    },
    {
     "data": {
      "image/png": "[encoded data removed]",
      "text/plain": [
       "<Figure size 640x480 with 1 Axes>"
      ]
     },
     "metadata": {},
     "output_type": "display_data"
    }
   ],
   "source": [
    "plt.plot(df_train.temp,df_train.ice_sales,'o')"
   ]
  },
  {
   "cell_type": "markdown",
   "id": "0b5f184a",
   "metadata": {},
   "source": [
    "- 상상: 온도가 -4.1인 지점에서 \"썰매축제\"가 열렸다고 가정하자. 그래서 사람이 갑자기 많이 왔음. 그래서 아이스크림이 많이 팔렸음. "
   ]
  },
  {
   "cell_type": "markdown",
   "id": "523c1e90-e210-4b01-9d57-f84a55682067",
   "metadata": {},
   "source": [
    "# 4. 분석 "
   ]
  },
  {
   "cell_type": "markdown",
   "id": "8eac8364-bf15-46b8-8a1b-2a680ba762ae",
   "metadata": {},
   "source": [
    "`-` 선형회귀로 적합 "
   ]
  },
  {
   "cell_type": "code",
   "execution_count": 7,
   "id": "39ef575f",
   "metadata": {},
   "outputs": [],
   "source": [
    "# step1 \n",
    "X,y = df_train[['temp']], df_train['ice_sales']\n",
    "# step2 \n",
    "predictr = sklearn.linear_model.LinearRegression()\n",
    "# step3 \n",
    "predictr.fit(X,y)\n",
    "# step4 \n",
    "df_train['ice_sales_hat'] = predictr.predict(X)"
   ]
  },
  {
   "cell_type": "code",
   "execution_count": 10,
   "id": "2bd0ff07-b9c6-4ad3-8ccf-2ac4d7902366",
   "metadata": {},
   "outputs": [
    {
     "data": {
      "text/plain": [
       "array([-0.64479089])"
      ]
     },
     "execution_count": 10,
     "metadata": {},
     "output_type": "execute_result"
    }
   ],
   "source": [
    "predictr.coef_"
   ]
  },
  {
   "cell_type": "markdown",
   "id": "4353e726-85db-4bb0-ab72-edb1a724df0e",
   "metadata": {},
   "source": [
    "- 온도가 올라가면 아이스크림 판매량이 증가하는게 상식인데 우리 상식이랑 맞지 않는데? "
   ]
  },
  {
   "cell_type": "markdown",
   "id": "05bf8703-9ee3-4979-b8be-debdcd9e057b",
   "metadata": {},
   "source": [
    "`-` 시각화 "
   ]
  },
  {
   "cell_type": "code",
   "execution_count": 14,
   "id": "47ca9790",
   "metadata": {},
   "outputs": [
    {
     "data": {
      "text/plain": [
       "[<matplotlib.lines.Line2D at 0x7f2fb63c8be0>]"
      ]
     },
     "execution_count": 14,
     "metadata": {},
     "output_type": "execute_result"
    },
    {
     "data": {
      "image/png": "[encoded data removed]",
      "text/plain": [
       "<Figure size 640x480 with 1 Axes>"
      ]
     },
     "metadata": {},
     "output_type": "display_data"
    }
   ],
   "source": [
    "# plt.plot(df_train.temp,df_train.ice_sales,'o')\n",
    "# plt.plot(df_train.temp,df_train.ice_sales_hat,'--')\n",
    "plt.plot(df_train.temp[1:],df_train.ice_sales[1:],'o')\n",
    "plt.plot(df_train.temp[1:],df_train.ice_sales_hat[1:],'--')"
   ]
  },
  {
   "cell_type": "markdown",
   "id": "c741b9e8-509d-4bd9-862a-b8da9d6d0353",
   "metadata": {},
   "source": [
    "- 이상치 하나때문에 결과가 이상해진다. --> Linear model이 가진 약점."
   ]
  },
  {
   "cell_type": "markdown",
   "id": "8836c00d-9227-4b7c-be65-09bf2fd1a767",
   "metadata": {},
   "source": [
    "`-` 새로운 unseen data를 가정, 데이터는 온도가 12.5\\~18 에 걸쳐있다고 가정한다. "
   ]
  },
  {
   "cell_type": "code",
   "execution_count": 15,
   "id": "df894368",
   "metadata": {},
   "outputs": [
    {
     "data": {
      "text/html": [
       "<div>\n",
       "<style scoped>\n",
       "    .dataframe tbody tr th:only-of-type {\n",
       "        vertical-align: middle;\n",
       "    }\n",
       "\n",
       "    .dataframe tbody tr th {\n",
       "        vertical-align: top;\n",
       "    }\n",
       "\n",
       "    .dataframe thead th {\n",
       "        text-align: right;\n",
       "    }\n",
       "</style>\n",
       "<table border=\"1\" class=\"dataframe\">\n",
       "  <thead>\n",
       "    <tr style=\"text-align: right;\">\n",
       "      <th></th>\n",
       "      <th>temp</th>\n",
       "      <th>ice_sales</th>\n",
       "      <th>ice_sales_hat</th>\n",
       "    </tr>\n",
       "  </thead>\n",
       "  <tbody>\n",
       "    <tr>\n",
       "      <th>0</th>\n",
       "      <td>-4.1</td>\n",
       "      <td>200.000000</td>\n",
       "      <td>20.989373</td>\n",
       "    </tr>\n",
       "    <tr>\n",
       "      <th>1</th>\n",
       "      <td>-3.7</td>\n",
       "      <td>9.234175</td>\n",
       "      <td>20.731457</td>\n",
       "    </tr>\n",
       "    <tr>\n",
       "      <th>2</th>\n",
       "      <td>-3.0</td>\n",
       "      <td>9.642778</td>\n",
       "      <td>20.280103</td>\n",
       "    </tr>\n",
       "    <tr>\n",
       "      <th>3</th>\n",
       "      <td>-1.3</td>\n",
       "      <td>9.657894</td>\n",
       "      <td>19.183959</td>\n",
       "    </tr>\n",
       "    <tr>\n",
       "      <th>4</th>\n",
       "      <td>-0.5</td>\n",
       "      <td>9.987787</td>\n",
       "      <td>18.668126</td>\n",
       "    </tr>\n",
       "    <tr>\n",
       "      <th>...</th>\n",
       "      <td>...</td>\n",
       "      <td>...</td>\n",
       "      <td>...</td>\n",
       "    </tr>\n",
       "    <tr>\n",
       "      <th>95</th>\n",
       "      <td>12.4</td>\n",
       "      <td>17.508688</td>\n",
       "      <td>10.350324</td>\n",
       "    </tr>\n",
       "    <tr>\n",
       "      <th>96</th>\n",
       "      <td>13.4</td>\n",
       "      <td>17.105376</td>\n",
       "      <td>9.705533</td>\n",
       "    </tr>\n",
       "    <tr>\n",
       "      <th>97</th>\n",
       "      <td>14.7</td>\n",
       "      <td>17.164930</td>\n",
       "      <td>8.867305</td>\n",
       "    </tr>\n",
       "    <tr>\n",
       "      <th>98</th>\n",
       "      <td>15.0</td>\n",
       "      <td>18.555388</td>\n",
       "      <td>8.673867</td>\n",
       "    </tr>\n",
       "    <tr>\n",
       "      <th>99</th>\n",
       "      <td>15.2</td>\n",
       "      <td>18.787014</td>\n",
       "      <td>8.544909</td>\n",
       "    </tr>\n",
       "  </tbody>\n",
       "</table>\n",
       "<p>100 rows × 3 columns</p>\n",
       "</div>"
      ],
      "text/plain": [
       "    temp   ice_sales  ice_sales_hat\n",
       "0   -4.1  200.000000      20.989373\n",
       "1   -3.7    9.234175      20.731457\n",
       "2   -3.0    9.642778      20.280103\n",
       "3   -1.3    9.657894      19.183959\n",
       "4   -0.5    9.987787      18.668126\n",
       "..   ...         ...            ...\n",
       "95  12.4   17.508688      10.350324\n",
       "96  13.4   17.105376       9.705533\n",
       "97  14.7   17.164930       8.867305\n",
       "98  15.0   18.555388       8.673867\n",
       "99  15.2   18.787014       8.544909\n",
       "\n",
       "[100 rows x 3 columns]"
      ]
     },
     "execution_count": 15,
     "metadata": {},
     "output_type": "execute_result"
    }
   ],
   "source": [
    "df_train"
   ]
  },
  {
   "cell_type": "code",
   "execution_count": 21,
   "id": "1125c38f",
   "metadata": {},
   "outputs": [
    {
     "data": {
      "text/plain": [
       "[<matplotlib.lines.Line2D at 0x7f2fb6310160>]"
      ]
     },
     "execution_count": 21,
     "metadata": {},
     "output_type": "execute_result"
    },
    {
     "data": {
      "image/png": "[encoded data removed]",
      "text/plain": [
       "<Figure size 640x480 with 1 Axes>"
      ]
     },
     "metadata": {},
     "output_type": "display_data"
    }
   ],
   "source": [
    "XX = df_test = pd.DataFrame({'temp':np.linspace(12.5,18,50)})\n",
    "df_test['ice_sales_hat'] = predictr.predict(XX)\n",
    "plt.plot(df_train.temp[1:],df_train.ice_sales[1:],'o')\n",
    "plt.plot(df_train.temp[1:],df_train.ice_sales_hat[1:],'--')\n",
    "plt.plot(df_test.temp,df_test.ice_sales_hat,'--')"
   ]
  },
  {
   "cell_type": "markdown",
   "id": "341d2283",
   "metadata": {},
   "source": [
    "- 온도가 올라갈수록 아이스크림 판매량은 줄어든다는 해석 (더 온도가 올라간다면 판매량이 음수가 나올 수도 있겠음 )\n",
    "- 저 정도의 아웃라이어는 모형에서 제외하는게 타당하지 않나? (하지만 저러한 아웃라이어가 데이터의 가치가 있을 수도 있음. 그런데 또 데이터의 가치가 있는지 없는지는 어떻게 판단하지?)"
   ]
  },
  {
   "cell_type": "markdown",
   "id": "e57e9532-eea3-4262-8cbd-49ca4462fbfc",
   "metadata": {},
   "source": [
    "# 5. Discussion "
   ]
  },
  {
   "cell_type": "markdown",
   "id": "7957b8f4-6074-471b-b518-b2a0bc4ec7b0",
   "metadata": {},
   "source": [
    "`-` 딱히 정답이 없음..  --> 여러가지 방식으로 해결할 수 있다."
   ]
  }
 ],
 "metadata": {
  "kernelspec": {
   "display_name": "Python 3 (ipykernel)",
   "language": "python",
   "name": "python3"
  },
  "language_info": {
   "codemirror_mode": {
    "name": "ipython",
    "version": 3
   },
   "file_extension": ".py",
   "mimetype": "text/x-python",
   "name": "python",
   "nbconvert_exporter": "python",
   "pygments_lexer": "ipython3",
   "version": "3.10.13"
  }
 },
 "nbformat": 4,
 "nbformat_minor": 5
}
