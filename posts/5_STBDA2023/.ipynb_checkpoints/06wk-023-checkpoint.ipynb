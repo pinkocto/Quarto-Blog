{
 "cells": [
  {
   "cell_type": "raw",
   "metadata": {},
   "source": [
    "---\n",
    "title: \"06wk-023: 취업+각종영어점수, Ridge\"\n",
    "author: \"JiyunLim\"\n",
    "date: \"10/05/2023\"\n",
    "bibliography: ref.bib\n",
    "---"
   ]
  },
  {
   "cell_type": "markdown",
   "metadata": {},
   "source": [
    "> 오버피팅을 해결하는 방법 중 하나로 Ridge Regression을 소개한다."
   ]
  },
  {
   "cell_type": "markdown",
   "metadata": {},
   "source": [
    "# 1. 강의영상 "
   ]
  },
  {
   "cell_type": "markdown",
   "metadata": {},
   "source": [
    "{{<video https://youtu.be/playlist?list=PLQqh36zP38-zGKU5F7QCeZKr1JwxH9kaA&si=b3K7BTRNt8xd0olh >}}"
   ]
  },
  {
   "cell_type": "markdown",
   "metadata": {},
   "source": [
    "::: {.callout-note}\n",
    "## 다중공선성을 해결하는 방법?\n",
    "\n",
    "변수선택을 기가막히게 함 --> 이게 현실적으로 불가능한 경우가 많음\n",
    "\n",
    "실제로는 완전히 똑같은 역할을 하는 변수가 있는 경우보다 실제 데이터에는 비슷한 역할을 하는 변수가 많다. \n",
    "예를들어 gpa, toeic, opic이 있다면 toeic과 opic 중 뭘 버려야 할까? (에매함)\n",
    "- toeic: 진짜순수한영어능력(X1) + 비즈니스특화화(X2)\n",
    "- opic: 진짜순수한영어능력(X1) + 말하기특화(X3)\n",
    "\n",
    "토익이랑 오픽점수는 되게 비슷해보임. 왜? X1이 공통으로 있으니까. --> 다중공선성 문제가 발생 --> 그렇지만 한쪽을 선택하기 에매하다.\n",
    "\n",
    "그렇지만 완전히 같지는 않아요. 왜? X2와 X3의 차이때문에.\n",
    "\n",
    ":::"
   ]
  },
  {
   "cell_type": "markdown",
   "metadata": {},
   "source": [
    "다중공선성을 해결하는 방법으로 변수선택이 당연히 들어가지만, 유일한 방법은 아니다."
   ]
  },
  {
   "cell_type": "markdown",
   "metadata": {},
   "source": [
    "# 2. Imports"
   ]
  },
  {
   "cell_type": "code",
   "execution_count": 2,
   "metadata": {},
   "outputs": [],
   "source": [
    "import numpy as np\n",
    "import pandas as pd\n",
    "import matplotlib.pyplot as plt \n",
    "import sklearn.linear_model"
   ]
  },
  {
   "cell_type": "markdown",
   "metadata": {},
   "source": [
    "# 3. Data"
   ]
  },
  {
   "cell_type": "code",
   "execution_count": 3,
   "metadata": {},
   "outputs": [],
   "source": [
    "df = pd.read_csv(\"https://raw.githubusercontent.com/guebin/MP2023/main/posts/employment_multicollinearity.csv\")\n",
    "np.random.seed(43052)\n",
    "df['employment_score'] = df.gpa * 1.0 + df.toeic* 1/100 + np.random.randn(500)"
   ]
  },
  {
   "cell_type": "code",
   "execution_count": 7,
   "metadata": {},
   "outputs": [
    {
     "data": {
      "text/html": [
       "<div>\n",
       "<style scoped>\n",
       "    .dataframe tbody tr th:only-of-type {\n",
       "        vertical-align: middle;\n",
       "    }\n",
       "\n",
       "    .dataframe tbody tr th {\n",
       "        vertical-align: top;\n",
       "    }\n",
       "\n",
       "    .dataframe thead th {\n",
       "        text-align: right;\n",
       "    }\n",
       "</style>\n",
       "<table border=\"1\" class=\"dataframe\">\n",
       "  <thead>\n",
       "    <tr style=\"text-align: right;\">\n",
       "      <th></th>\n",
       "      <th>employment_score</th>\n",
       "      <th>gpa</th>\n",
       "      <th>toeic</th>\n",
       "      <th>toeic0</th>\n",
       "      <th>toeic1</th>\n",
       "      <th>toeic2</th>\n",
       "      <th>toeic3</th>\n",
       "      <th>toeic4</th>\n",
       "      <th>toeic5</th>\n",
       "      <th>toeic6</th>\n",
       "      <th>...</th>\n",
       "      <th>toeic490</th>\n",
       "      <th>toeic491</th>\n",
       "      <th>toeic492</th>\n",
       "      <th>toeic493</th>\n",
       "      <th>toeic494</th>\n",
       "      <th>toeic495</th>\n",
       "      <th>toeic496</th>\n",
       "      <th>toeic497</th>\n",
       "      <th>toeic498</th>\n",
       "      <th>toeic499</th>\n",
       "    </tr>\n",
       "  </thead>\n",
       "  <tbody>\n",
       "    <tr>\n",
       "      <th>0</th>\n",
       "      <td>1.784955</td>\n",
       "      <td>0.051535</td>\n",
       "      <td>135</td>\n",
       "      <td>129.566309</td>\n",
       "      <td>133.078481</td>\n",
       "      <td>121.678398</td>\n",
       "      <td>113.457366</td>\n",
       "      <td>133.564200</td>\n",
       "      <td>136.026566</td>\n",
       "      <td>141.793547</td>\n",
       "      <td>...</td>\n",
       "      <td>132.014696</td>\n",
       "      <td>140.013265</td>\n",
       "      <td>135.575816</td>\n",
       "      <td>143.863346</td>\n",
       "      <td>152.162740</td>\n",
       "      <td>132.850033</td>\n",
       "      <td>115.956496</td>\n",
       "      <td>131.842126</td>\n",
       "      <td>125.090801</td>\n",
       "      <td>143.568527</td>\n",
       "    </tr>\n",
       "    <tr>\n",
       "      <th>1</th>\n",
       "      <td>10.789671</td>\n",
       "      <td>0.355496</td>\n",
       "      <td>935</td>\n",
       "      <td>940.563187</td>\n",
       "      <td>935.723570</td>\n",
       "      <td>939.190519</td>\n",
       "      <td>938.995672</td>\n",
       "      <td>945.376482</td>\n",
       "      <td>927.469901</td>\n",
       "      <td>952.424087</td>\n",
       "      <td>...</td>\n",
       "      <td>942.251184</td>\n",
       "      <td>923.241548</td>\n",
       "      <td>939.924802</td>\n",
       "      <td>921.912261</td>\n",
       "      <td>953.250300</td>\n",
       "      <td>931.743615</td>\n",
       "      <td>940.205853</td>\n",
       "      <td>930.575825</td>\n",
       "      <td>941.530348</td>\n",
       "      <td>934.221055</td>\n",
       "    </tr>\n",
       "    <tr>\n",
       "      <th>2</th>\n",
       "      <td>8.221213</td>\n",
       "      <td>2.228435</td>\n",
       "      <td>485</td>\n",
       "      <td>493.671390</td>\n",
       "      <td>493.909118</td>\n",
       "      <td>475.500970</td>\n",
       "      <td>480.363752</td>\n",
       "      <td>478.868942</td>\n",
       "      <td>493.321602</td>\n",
       "      <td>490.059102</td>\n",
       "      <td>...</td>\n",
       "      <td>484.438233</td>\n",
       "      <td>488.101275</td>\n",
       "      <td>485.626742</td>\n",
       "      <td>475.330715</td>\n",
       "      <td>485.147363</td>\n",
       "      <td>468.553780</td>\n",
       "      <td>486.870976</td>\n",
       "      <td>481.640957</td>\n",
       "      <td>499.340808</td>\n",
       "      <td>488.197332</td>\n",
       "    </tr>\n",
       "    <tr>\n",
       "      <th>3</th>\n",
       "      <td>2.137594</td>\n",
       "      <td>1.179701</td>\n",
       "      <td>65</td>\n",
       "      <td>62.272565</td>\n",
       "      <td>55.957257</td>\n",
       "      <td>68.521468</td>\n",
       "      <td>76.866765</td>\n",
       "      <td>51.436321</td>\n",
       "      <td>57.166824</td>\n",
       "      <td>67.834920</td>\n",
       "      <td>...</td>\n",
       "      <td>67.653225</td>\n",
       "      <td>65.710588</td>\n",
       "      <td>64.146780</td>\n",
       "      <td>76.662194</td>\n",
       "      <td>66.837839</td>\n",
       "      <td>82.379018</td>\n",
       "      <td>69.174745</td>\n",
       "      <td>64.475993</td>\n",
       "      <td>52.647087</td>\n",
       "      <td>59.493275</td>\n",
       "    </tr>\n",
       "    <tr>\n",
       "      <th>4</th>\n",
       "      <td>8.650144</td>\n",
       "      <td>3.962356</td>\n",
       "      <td>445</td>\n",
       "      <td>449.280637</td>\n",
       "      <td>438.895582</td>\n",
       "      <td>433.598274</td>\n",
       "      <td>444.081141</td>\n",
       "      <td>437.005100</td>\n",
       "      <td>434.761142</td>\n",
       "      <td>443.135269</td>\n",
       "      <td>...</td>\n",
       "      <td>455.940348</td>\n",
       "      <td>435.952854</td>\n",
       "      <td>441.521145</td>\n",
       "      <td>443.038886</td>\n",
       "      <td>433.118847</td>\n",
       "      <td>466.103355</td>\n",
       "      <td>430.056944</td>\n",
       "      <td>423.632873</td>\n",
       "      <td>446.973484</td>\n",
       "      <td>442.793633</td>\n",
       "    </tr>\n",
       "    <tr>\n",
       "      <th>...</th>\n",
       "      <td>...</td>\n",
       "      <td>...</td>\n",
       "      <td>...</td>\n",
       "      <td>...</td>\n",
       "      <td>...</td>\n",
       "      <td>...</td>\n",
       "      <td>...</td>\n",
       "      <td>...</td>\n",
       "      <td>...</td>\n",
       "      <td>...</td>\n",
       "      <td>...</td>\n",
       "      <td>...</td>\n",
       "      <td>...</td>\n",
       "      <td>...</td>\n",
       "      <td>...</td>\n",
       "      <td>...</td>\n",
       "      <td>...</td>\n",
       "      <td>...</td>\n",
       "      <td>...</td>\n",
       "      <td>...</td>\n",
       "      <td>...</td>\n",
       "    </tr>\n",
       "    <tr>\n",
       "      <th>495</th>\n",
       "      <td>9.057243</td>\n",
       "      <td>4.288465</td>\n",
       "      <td>280</td>\n",
       "      <td>276.680902</td>\n",
       "      <td>274.502675</td>\n",
       "      <td>277.868536</td>\n",
       "      <td>292.283300</td>\n",
       "      <td>277.476630</td>\n",
       "      <td>281.671647</td>\n",
       "      <td>296.307373</td>\n",
       "      <td>...</td>\n",
       "      <td>269.541846</td>\n",
       "      <td>278.220546</td>\n",
       "      <td>278.484758</td>\n",
       "      <td>284.901284</td>\n",
       "      <td>272.451612</td>\n",
       "      <td>265.784490</td>\n",
       "      <td>275.795948</td>\n",
       "      <td>280.465992</td>\n",
       "      <td>268.528889</td>\n",
       "      <td>283.638470</td>\n",
       "    </tr>\n",
       "    <tr>\n",
       "      <th>496</th>\n",
       "      <td>4.108020</td>\n",
       "      <td>2.601212</td>\n",
       "      <td>310</td>\n",
       "      <td>296.940263</td>\n",
       "      <td>301.545000</td>\n",
       "      <td>306.725610</td>\n",
       "      <td>314.811407</td>\n",
       "      <td>311.935810</td>\n",
       "      <td>309.695838</td>\n",
       "      <td>301.979914</td>\n",
       "      <td>...</td>\n",
       "      <td>304.680578</td>\n",
       "      <td>295.476836</td>\n",
       "      <td>316.582100</td>\n",
       "      <td>319.412132</td>\n",
       "      <td>312.984039</td>\n",
       "      <td>312.372112</td>\n",
       "      <td>312.106944</td>\n",
       "      <td>314.101927</td>\n",
       "      <td>309.409533</td>\n",
       "      <td>297.429968</td>\n",
       "    </tr>\n",
       "    <tr>\n",
       "      <th>497</th>\n",
       "      <td>2.430590</td>\n",
       "      <td>0.042323</td>\n",
       "      <td>225</td>\n",
       "      <td>206.793217</td>\n",
       "      <td>228.335345</td>\n",
       "      <td>222.115146</td>\n",
       "      <td>216.479498</td>\n",
       "      <td>227.469560</td>\n",
       "      <td>238.710310</td>\n",
       "      <td>233.797065</td>\n",
       "      <td>...</td>\n",
       "      <td>233.469238</td>\n",
       "      <td>235.160919</td>\n",
       "      <td>228.517306</td>\n",
       "      <td>228.349646</td>\n",
       "      <td>224.153606</td>\n",
       "      <td>230.860484</td>\n",
       "      <td>218.683195</td>\n",
       "      <td>232.949484</td>\n",
       "      <td>236.951938</td>\n",
       "      <td>227.997629</td>\n",
       "    </tr>\n",
       "    <tr>\n",
       "      <th>498</th>\n",
       "      <td>5.343171</td>\n",
       "      <td>1.041416</td>\n",
       "      <td>320</td>\n",
       "      <td>327.461442</td>\n",
       "      <td>323.019899</td>\n",
       "      <td>329.589337</td>\n",
       "      <td>313.312233</td>\n",
       "      <td>315.645050</td>\n",
       "      <td>324.448247</td>\n",
       "      <td>314.271045</td>\n",
       "      <td>...</td>\n",
       "      <td>326.297700</td>\n",
       "      <td>309.893822</td>\n",
       "      <td>312.873223</td>\n",
       "      <td>322.356584</td>\n",
       "      <td>319.332809</td>\n",
       "      <td>319.405283</td>\n",
       "      <td>324.021917</td>\n",
       "      <td>312.363694</td>\n",
       "      <td>318.493866</td>\n",
       "      <td>310.973930</td>\n",
       "    </tr>\n",
       "    <tr>\n",
       "      <th>499</th>\n",
       "      <td>6.505106</td>\n",
       "      <td>3.626883</td>\n",
       "      <td>375</td>\n",
       "      <td>370.966595</td>\n",
       "      <td>364.668477</td>\n",
       "      <td>371.853566</td>\n",
       "      <td>373.574930</td>\n",
       "      <td>376.701708</td>\n",
       "      <td>356.905085</td>\n",
       "      <td>354.584022</td>\n",
       "      <td>...</td>\n",
       "      <td>382.278782</td>\n",
       "      <td>379.460816</td>\n",
       "      <td>371.031640</td>\n",
       "      <td>370.272639</td>\n",
       "      <td>375.618182</td>\n",
       "      <td>369.252740</td>\n",
       "      <td>376.925543</td>\n",
       "      <td>391.863103</td>\n",
       "      <td>368.735260</td>\n",
       "      <td>368.520844</td>\n",
       "    </tr>\n",
       "  </tbody>\n",
       "</table>\n",
       "<p>500 rows × 503 columns</p>\n",
       "</div>"
      ],
      "text/plain": [
       "     employment_score       gpa  toeic      toeic0      toeic1      toeic2  \\\n",
       "0            1.784955  0.051535    135  129.566309  133.078481  121.678398   \n",
       "1           10.789671  0.355496    935  940.563187  935.723570  939.190519   \n",
       "2            8.221213  2.228435    485  493.671390  493.909118  475.500970   \n",
       "3            2.137594  1.179701     65   62.272565   55.957257   68.521468   \n",
       "4            8.650144  3.962356    445  449.280637  438.895582  433.598274   \n",
       "..                ...       ...    ...         ...         ...         ...   \n",
       "495          9.057243  4.288465    280  276.680902  274.502675  277.868536   \n",
       "496          4.108020  2.601212    310  296.940263  301.545000  306.725610   \n",
       "497          2.430590  0.042323    225  206.793217  228.335345  222.115146   \n",
       "498          5.343171  1.041416    320  327.461442  323.019899  329.589337   \n",
       "499          6.505106  3.626883    375  370.966595  364.668477  371.853566   \n",
       "\n",
       "         toeic3      toeic4      toeic5      toeic6  ...    toeic490  \\\n",
       "0    113.457366  133.564200  136.026566  141.793547  ...  132.014696   \n",
       "1    938.995672  945.376482  927.469901  952.424087  ...  942.251184   \n",
       "2    480.363752  478.868942  493.321602  490.059102  ...  484.438233   \n",
       "3     76.866765   51.436321   57.166824   67.834920  ...   67.653225   \n",
       "4    444.081141  437.005100  434.761142  443.135269  ...  455.940348   \n",
       "..          ...         ...         ...         ...  ...         ...   \n",
       "495  292.283300  277.476630  281.671647  296.307373  ...  269.541846   \n",
       "496  314.811407  311.935810  309.695838  301.979914  ...  304.680578   \n",
       "497  216.479498  227.469560  238.710310  233.797065  ...  233.469238   \n",
       "498  313.312233  315.645050  324.448247  314.271045  ...  326.297700   \n",
       "499  373.574930  376.701708  356.905085  354.584022  ...  382.278782   \n",
       "\n",
       "       toeic491    toeic492    toeic493    toeic494    toeic495    toeic496  \\\n",
       "0    140.013265  135.575816  143.863346  152.162740  132.850033  115.956496   \n",
       "1    923.241548  939.924802  921.912261  953.250300  931.743615  940.205853   \n",
       "2    488.101275  485.626742  475.330715  485.147363  468.553780  486.870976   \n",
       "3     65.710588   64.146780   76.662194   66.837839   82.379018   69.174745   \n",
       "4    435.952854  441.521145  443.038886  433.118847  466.103355  430.056944   \n",
       "..          ...         ...         ...         ...         ...         ...   \n",
       "495  278.220546  278.484758  284.901284  272.451612  265.784490  275.795948   \n",
       "496  295.476836  316.582100  319.412132  312.984039  312.372112  312.106944   \n",
       "497  235.160919  228.517306  228.349646  224.153606  230.860484  218.683195   \n",
       "498  309.893822  312.873223  322.356584  319.332809  319.405283  324.021917   \n",
       "499  379.460816  371.031640  370.272639  375.618182  369.252740  376.925543   \n",
       "\n",
       "       toeic497    toeic498    toeic499  \n",
       "0    131.842126  125.090801  143.568527  \n",
       "1    930.575825  941.530348  934.221055  \n",
       "2    481.640957  499.340808  488.197332  \n",
       "3     64.475993   52.647087   59.493275  \n",
       "4    423.632873  446.973484  442.793633  \n",
       "..          ...         ...         ...  \n",
       "495  280.465992  268.528889  283.638470  \n",
       "496  314.101927  309.409533  297.429968  \n",
       "497  232.949484  236.951938  227.997629  \n",
       "498  312.363694  318.493866  310.973930  \n",
       "499  391.863103  368.735260  368.520844  \n",
       "\n",
       "[500 rows x 503 columns]"
      ]
     },
     "execution_count": 7,
     "metadata": {},
     "output_type": "execute_result"
    }
   ],
   "source": [
    "df"
   ]
  },
  {
   "cell_type": "markdown",
   "metadata": {},
   "source": [
    "# 4. True"
   ]
  },
  {
   "cell_type": "markdown",
   "metadata": {},
   "source": [
    "`-` 신이라면 (=데이터가 만들어진 비밀을 알고 있다면) 아래와 같이 했을 것 "
   ]
  },
  {
   "cell_type": "code",
   "execution_count": 4,
   "metadata": {},
   "outputs": [
    {
     "data": {
      "text/html": [
       "<style>#sk-container-id-1 {color: black;}#sk-container-id-1 pre{padding: 0;}#sk-container-id-1 div.sk-toggleable {background-color: white;}#sk-container-id-1 label.sk-toggleable__label {cursor: pointer;display: block;width: 100%;margin-bottom: 0;padding: 0.3em;box-sizing: border-box;text-align: center;}#sk-container-id-1 label.sk-toggleable__label-arrow:before {content: \"▸\";float: left;margin-right: 0.25em;color: #696969;}#sk-container-id-1 label.sk-toggleable__label-arrow:hover:before {color: black;}#sk-container-id-1 div.sk-estimator:hover label.sk-toggleable__label-arrow:before {color: black;}#sk-container-id-1 div.sk-toggleable__content {max-height: 0;max-width: 0;overflow: hidden;text-align: left;background-color: #f0f8ff;}#sk-container-id-1 div.sk-toggleable__content pre {margin: 0.2em;color: black;border-radius: 0.25em;background-color: #f0f8ff;}#sk-container-id-1 input.sk-toggleable__control:checked~div.sk-toggleable__content {max-height: 200px;max-width: 100%;overflow: auto;}#sk-container-id-1 input.sk-toggleable__control:checked~label.sk-toggleable__label-arrow:before {content: \"▾\";}#sk-container-id-1 div.sk-estimator input.sk-toggleable__control:checked~label.sk-toggleable__label {background-color: #d4ebff;}#sk-container-id-1 div.sk-label input.sk-toggleable__control:checked~label.sk-toggleable__label {background-color: #d4ebff;}#sk-container-id-1 input.sk-hidden--visually {border: 0;clip: rect(1px 1px 1px 1px);clip: rect(1px, 1px, 1px, 1px);height: 1px;margin: -1px;overflow: hidden;padding: 0;position: absolute;width: 1px;}#sk-container-id-1 div.sk-estimator {font-family: monospace;background-color: #f0f8ff;border: 1px dotted black;border-radius: 0.25em;box-sizing: border-box;margin-bottom: 0.5em;}#sk-container-id-1 div.sk-estimator:hover {background-color: #d4ebff;}#sk-container-id-1 div.sk-parallel-item::after {content: \"\";width: 100%;border-bottom: 1px solid gray;flex-grow: 1;}#sk-container-id-1 div.sk-label:hover label.sk-toggleable__label {background-color: #d4ebff;}#sk-container-id-1 div.sk-serial::before {content: \"\";position: absolute;border-left: 1px solid gray;box-sizing: border-box;top: 0;bottom: 0;left: 50%;z-index: 0;}#sk-container-id-1 div.sk-serial {display: flex;flex-direction: column;align-items: center;background-color: white;padding-right: 0.2em;padding-left: 0.2em;position: relative;}#sk-container-id-1 div.sk-item {position: relative;z-index: 1;}#sk-container-id-1 div.sk-parallel {display: flex;align-items: stretch;justify-content: center;background-color: white;position: relative;}#sk-container-id-1 div.sk-item::before, #sk-container-id-1 div.sk-parallel-item::before {content: \"\";position: absolute;border-left: 1px solid gray;box-sizing: border-box;top: 0;bottom: 0;left: 50%;z-index: -1;}#sk-container-id-1 div.sk-parallel-item {display: flex;flex-direction: column;z-index: 1;position: relative;background-color: white;}#sk-container-id-1 div.sk-parallel-item:first-child::after {align-self: flex-end;width: 50%;}#sk-container-id-1 div.sk-parallel-item:last-child::after {align-self: flex-start;width: 50%;}#sk-container-id-1 div.sk-parallel-item:only-child::after {width: 0;}#sk-container-id-1 div.sk-dashed-wrapped {border: 1px dashed gray;margin: 0 0.4em 0.5em 0.4em;box-sizing: border-box;padding-bottom: 0.4em;background-color: white;}#sk-container-id-1 div.sk-label label {font-family: monospace;font-weight: bold;display: inline-block;line-height: 1.2em;}#sk-container-id-1 div.sk-label-container {text-align: center;}#sk-container-id-1 div.sk-container {/* jupyter's `normalize.less` sets `[hidden] { display: none; }` but bootstrap.min.css set `[hidden] { display: none !important; }` so we also need the `!important` here to be able to override the default hidden behavior on the sphinx rendered scikit-learn.org. See: https://github.com/scikit-learn/scikit-learn/issues/21755 */display: inline-block !important;position: relative;}#sk-container-id-1 div.sk-text-repr-fallback {display: none;}</style><div id=\"sk-container-id-1\" class=\"sk-top-container\"><div class=\"sk-text-repr-fallback\"><pre>LinearRegression()</pre><b>In a Jupyter environment, please rerun this cell to show the HTML representation or trust the notebook. <br />On GitHub, the HTML representation is unable to render, please try loading this page with nbviewer.org.</b></div><div class=\"sk-container\" hidden><div class=\"sk-item\"><div class=\"sk-estimator sk-toggleable\"><input class=\"sk-toggleable__control sk-hidden--visually\" id=\"sk-estimator-id-1\" type=\"checkbox\" checked><label for=\"sk-estimator-id-1\" class=\"sk-toggleable__label sk-toggleable__label-arrow\">LinearRegression</label><div class=\"sk-toggleable__content\"><pre>LinearRegression()</pre></div></div></div></div></div>"
      ],
      "text/plain": [
       "LinearRegression()"
      ]
     },
     "execution_count": 4,
     "metadata": {},
     "output_type": "execute_result"
    }
   ],
   "source": [
    "## step1 --- toeic, gpa 만 남기고 나머지 변수를 삭제\n",
    "df_train, df_test = sklearn.model_selection.train_test_split(df,test_size=0.3,random_state=42)\n",
    "X = df_train.loc[:,'gpa':'toeic']\n",
    "y = df_train.loc[:,'employment_score']\n",
    "XX = df_test.loc[:,'gpa':'toeic']\n",
    "yy = df_test.loc[:,'employment_score']\n",
    "## step2\n",
    "predictr = sklearn.linear_model.LinearRegression()\n",
    "## step3 \n",
    "predictr.fit(X,y)\n",
    "## step4 -- pass "
   ]
  },
  {
   "cell_type": "markdown",
   "metadata": {},
   "source": [
    "`-` 평가"
   ]
  },
  {
   "cell_type": "code",
   "execution_count": 6,
   "metadata": {},
   "outputs": [
    {
     "name": "stdout",
     "output_type": "stream",
     "text": [
      "train_score: 0.9133\n",
      "test_score: 0.9127\n"
     ]
    }
   ],
   "source": [
    "print(f'train_score: {predictr.score(X,y):.4f}')\n",
    "print(f'test_score: {predictr.score(XX,yy):.4f}')"
   ]
  },
  {
   "cell_type": "markdown",
   "metadata": {},
   "source": [
    "# 5. Baseline"
   ]
  },
  {
   "cell_type": "markdown",
   "metadata": {},
   "source": [
    "`-` 모든 변수를 활용하여 회귀모형으로 적합 $\\to$ 최악의 결과 "
   ]
  },
  {
   "cell_type": "code",
   "execution_count": 20,
   "metadata": {},
   "outputs": [
    {
     "data": {
      "text/html": [
       "<style>#sk-container-id-2 {color: black;}#sk-container-id-2 pre{padding: 0;}#sk-container-id-2 div.sk-toggleable {background-color: white;}#sk-container-id-2 label.sk-toggleable__label {cursor: pointer;display: block;width: 100%;margin-bottom: 0;padding: 0.3em;box-sizing: border-box;text-align: center;}#sk-container-id-2 label.sk-toggleable__label-arrow:before {content: \"▸\";float: left;margin-right: 0.25em;color: #696969;}#sk-container-id-2 label.sk-toggleable__label-arrow:hover:before {color: black;}#sk-container-id-2 div.sk-estimator:hover label.sk-toggleable__label-arrow:before {color: black;}#sk-container-id-2 div.sk-toggleable__content {max-height: 0;max-width: 0;overflow: hidden;text-align: left;background-color: #f0f8ff;}#sk-container-id-2 div.sk-toggleable__content pre {margin: 0.2em;color: black;border-radius: 0.25em;background-color: #f0f8ff;}#sk-container-id-2 input.sk-toggleable__control:checked~div.sk-toggleable__content {max-height: 200px;max-width: 100%;overflow: auto;}#sk-container-id-2 input.sk-toggleable__control:checked~label.sk-toggleable__label-arrow:before {content: \"▾\";}#sk-container-id-2 div.sk-estimator input.sk-toggleable__control:checked~label.sk-toggleable__label {background-color: #d4ebff;}#sk-container-id-2 div.sk-label input.sk-toggleable__control:checked~label.sk-toggleable__label {background-color: #d4ebff;}#sk-container-id-2 input.sk-hidden--visually {border: 0;clip: rect(1px 1px 1px 1px);clip: rect(1px, 1px, 1px, 1px);height: 1px;margin: -1px;overflow: hidden;padding: 0;position: absolute;width: 1px;}#sk-container-id-2 div.sk-estimator {font-family: monospace;background-color: #f0f8ff;border: 1px dotted black;border-radius: 0.25em;box-sizing: border-box;margin-bottom: 0.5em;}#sk-container-id-2 div.sk-estimator:hover {background-color: #d4ebff;}#sk-container-id-2 div.sk-parallel-item::after {content: \"\";width: 100%;border-bottom: 1px solid gray;flex-grow: 1;}#sk-container-id-2 div.sk-label:hover label.sk-toggleable__label {background-color: #d4ebff;}#sk-container-id-2 div.sk-serial::before {content: \"\";position: absolute;border-left: 1px solid gray;box-sizing: border-box;top: 0;bottom: 0;left: 50%;z-index: 0;}#sk-container-id-2 div.sk-serial {display: flex;flex-direction: column;align-items: center;background-color: white;padding-right: 0.2em;padding-left: 0.2em;position: relative;}#sk-container-id-2 div.sk-item {position: relative;z-index: 1;}#sk-container-id-2 div.sk-parallel {display: flex;align-items: stretch;justify-content: center;background-color: white;position: relative;}#sk-container-id-2 div.sk-item::before, #sk-container-id-2 div.sk-parallel-item::before {content: \"\";position: absolute;border-left: 1px solid gray;box-sizing: border-box;top: 0;bottom: 0;left: 50%;z-index: -1;}#sk-container-id-2 div.sk-parallel-item {display: flex;flex-direction: column;z-index: 1;position: relative;background-color: white;}#sk-container-id-2 div.sk-parallel-item:first-child::after {align-self: flex-end;width: 50%;}#sk-container-id-2 div.sk-parallel-item:last-child::after {align-self: flex-start;width: 50%;}#sk-container-id-2 div.sk-parallel-item:only-child::after {width: 0;}#sk-container-id-2 div.sk-dashed-wrapped {border: 1px dashed gray;margin: 0 0.4em 0.5em 0.4em;box-sizing: border-box;padding-bottom: 0.4em;background-color: white;}#sk-container-id-2 div.sk-label label {font-family: monospace;font-weight: bold;display: inline-block;line-height: 1.2em;}#sk-container-id-2 div.sk-label-container {text-align: center;}#sk-container-id-2 div.sk-container {/* jupyter's `normalize.less` sets `[hidden] { display: none; }` but bootstrap.min.css set `[hidden] { display: none !important; }` so we also need the `!important` here to be able to override the default hidden behavior on the sphinx rendered scikit-learn.org. See: https://github.com/scikit-learn/scikit-learn/issues/21755 */display: inline-block !important;position: relative;}#sk-container-id-2 div.sk-text-repr-fallback {display: none;}</style><div id=\"sk-container-id-2\" class=\"sk-top-container\"><div class=\"sk-text-repr-fallback\"><pre>LinearRegression()</pre><b>In a Jupyter environment, please rerun this cell to show the HTML representation or trust the notebook. <br />On GitHub, the HTML representation is unable to render, please try loading this page with nbviewer.org.</b></div><div class=\"sk-container\" hidden><div class=\"sk-item\"><div class=\"sk-estimator sk-toggleable\"><input class=\"sk-toggleable__control sk-hidden--visually\" id=\"sk-estimator-id-2\" type=\"checkbox\" checked><label for=\"sk-estimator-id-2\" class=\"sk-toggleable__label sk-toggleable__label-arrow\">LinearRegression</label><div class=\"sk-toggleable__content\"><pre>LinearRegression()</pre></div></div></div></div></div>"
      ],
      "text/plain": [
       "LinearRegression()"
      ]
     },
     "execution_count": 20,
     "metadata": {},
     "output_type": "execute_result"
    }
   ],
   "source": [
    "## step1 --- toeic, gpa 만 남기고 나머지 변수를 삭제\n",
    "df_train, df_test = sklearn.model_selection.train_test_split(df,test_size=0.3,random_state=42)\n",
    "X = df_train.loc[:,'gpa':'toeic499']\n",
    "y = df_train.loc[:,'employment_score']\n",
    "XX = df_test.loc[:,'gpa':'toeic499']\n",
    "yy = df_test.loc[:,'employment_score']\n",
    "## step2\n",
    "predictr = sklearn.linear_model.LinearRegression()\n",
    "## step3 \n",
    "predictr.fit(X,y)\n",
    "## step4 -- pass "
   ]
  },
  {
   "cell_type": "markdown",
   "metadata": {},
   "source": [
    "`-` 평가"
   ]
  },
  {
   "cell_type": "code",
   "execution_count": 21,
   "metadata": {},
   "outputs": [
    {
     "name": "stdout",
     "output_type": "stream",
     "text": [
      "train_score: 1.0000\n",
      "test_score: 0.1171\n"
     ]
    }
   ],
   "source": [
    "print(f'train_score: {predictr.score(X,y):.4f}')\n",
    "print(f'test_score: {predictr.score(XX,yy):.4f}')"
   ]
  },
  {
   "cell_type": "markdown",
   "metadata": {},
   "source": [
    "# 6. Ridge"
   ]
  },
  {
   "cell_type": "markdown",
   "metadata": {},
   "source": [
    "`-` 통계학자에게 자문: 이럴 경우 Ridge를 사용하면 됩니다.."
   ]
  },
  {
   "cell_type": "code",
   "execution_count": 7,
   "metadata": {},
   "outputs": [
    {
     "data": {
      "text/html": [
       "<style>#sk-container-id-2 {color: black;}#sk-container-id-2 pre{padding: 0;}#sk-container-id-2 div.sk-toggleable {background-color: white;}#sk-container-id-2 label.sk-toggleable__label {cursor: pointer;display: block;width: 100%;margin-bottom: 0;padding: 0.3em;box-sizing: border-box;text-align: center;}#sk-container-id-2 label.sk-toggleable__label-arrow:before {content: \"▸\";float: left;margin-right: 0.25em;color: #696969;}#sk-container-id-2 label.sk-toggleable__label-arrow:hover:before {color: black;}#sk-container-id-2 div.sk-estimator:hover label.sk-toggleable__label-arrow:before {color: black;}#sk-container-id-2 div.sk-toggleable__content {max-height: 0;max-width: 0;overflow: hidden;text-align: left;background-color: #f0f8ff;}#sk-container-id-2 div.sk-toggleable__content pre {margin: 0.2em;color: black;border-radius: 0.25em;background-color: #f0f8ff;}#sk-container-id-2 input.sk-toggleable__control:checked~div.sk-toggleable__content {max-height: 200px;max-width: 100%;overflow: auto;}#sk-container-id-2 input.sk-toggleable__control:checked~label.sk-toggleable__label-arrow:before {content: \"▾\";}#sk-container-id-2 div.sk-estimator input.sk-toggleable__control:checked~label.sk-toggleable__label {background-color: #d4ebff;}#sk-container-id-2 div.sk-label input.sk-toggleable__control:checked~label.sk-toggleable__label {background-color: #d4ebff;}#sk-container-id-2 input.sk-hidden--visually {border: 0;clip: rect(1px 1px 1px 1px);clip: rect(1px, 1px, 1px, 1px);height: 1px;margin: -1px;overflow: hidden;padding: 0;position: absolute;width: 1px;}#sk-container-id-2 div.sk-estimator {font-family: monospace;background-color: #f0f8ff;border: 1px dotted black;border-radius: 0.25em;box-sizing: border-box;margin-bottom: 0.5em;}#sk-container-id-2 div.sk-estimator:hover {background-color: #d4ebff;}#sk-container-id-2 div.sk-parallel-item::after {content: \"\";width: 100%;border-bottom: 1px solid gray;flex-grow: 1;}#sk-container-id-2 div.sk-label:hover label.sk-toggleable__label {background-color: #d4ebff;}#sk-container-id-2 div.sk-serial::before {content: \"\";position: absolute;border-left: 1px solid gray;box-sizing: border-box;top: 0;bottom: 0;left: 50%;z-index: 0;}#sk-container-id-2 div.sk-serial {display: flex;flex-direction: column;align-items: center;background-color: white;padding-right: 0.2em;padding-left: 0.2em;position: relative;}#sk-container-id-2 div.sk-item {position: relative;z-index: 1;}#sk-container-id-2 div.sk-parallel {display: flex;align-items: stretch;justify-content: center;background-color: white;position: relative;}#sk-container-id-2 div.sk-item::before, #sk-container-id-2 div.sk-parallel-item::before {content: \"\";position: absolute;border-left: 1px solid gray;box-sizing: border-box;top: 0;bottom: 0;left: 50%;z-index: -1;}#sk-container-id-2 div.sk-parallel-item {display: flex;flex-direction: column;z-index: 1;position: relative;background-color: white;}#sk-container-id-2 div.sk-parallel-item:first-child::after {align-self: flex-end;width: 50%;}#sk-container-id-2 div.sk-parallel-item:last-child::after {align-self: flex-start;width: 50%;}#sk-container-id-2 div.sk-parallel-item:only-child::after {width: 0;}#sk-container-id-2 div.sk-dashed-wrapped {border: 1px dashed gray;margin: 0 0.4em 0.5em 0.4em;box-sizing: border-box;padding-bottom: 0.4em;background-color: white;}#sk-container-id-2 div.sk-label label {font-family: monospace;font-weight: bold;display: inline-block;line-height: 1.2em;}#sk-container-id-2 div.sk-label-container {text-align: center;}#sk-container-id-2 div.sk-container {/* jupyter's `normalize.less` sets `[hidden] { display: none; }` but bootstrap.min.css set `[hidden] { display: none !important; }` so we also need the `!important` here to be able to override the default hidden behavior on the sphinx rendered scikit-learn.org. See: https://github.com/scikit-learn/scikit-learn/issues/21755 */display: inline-block !important;position: relative;}#sk-container-id-2 div.sk-text-repr-fallback {display: none;}</style><div id=\"sk-container-id-2\" class=\"sk-top-container\"><div class=\"sk-text-repr-fallback\"><pre>Ridge(alpha=1)</pre><b>In a Jupyter environment, please rerun this cell to show the HTML representation or trust the notebook. <br />On GitHub, the HTML representation is unable to render, please try loading this page with nbviewer.org.</b></div><div class=\"sk-container\" hidden><div class=\"sk-item\"><div class=\"sk-estimator sk-toggleable\"><input class=\"sk-toggleable__control sk-hidden--visually\" id=\"sk-estimator-id-2\" type=\"checkbox\" checked><label for=\"sk-estimator-id-2\" class=\"sk-toggleable__label sk-toggleable__label-arrow\">Ridge</label><div class=\"sk-toggleable__content\"><pre>Ridge(alpha=1)</pre></div></div></div></div></div>"
      ],
      "text/plain": [
       "Ridge(alpha=1)"
      ]
     },
     "execution_count": 7,
     "metadata": {},
     "output_type": "execute_result"
    }
   ],
   "source": [
    "## step1 --- toeic, gpa 만 남기고 나머지 변수를 삭제\n",
    "df_train, df_test = sklearn.model_selection.train_test_split(df,test_size=0.3,random_state=42)\n",
    "X = df_train.loc[:,'gpa':'toeic499']\n",
    "y = df_train.loc[:,'employment_score']\n",
    "XX = df_test.loc[:,'gpa':'toeic499']\n",
    "yy = df_test.loc[:,'employment_score']\n",
    "## step2\n",
    "predictr = sklearn.linear_model.Ridge(alpha=1) # sklearn.linear_model.Ridge()와 같은코드\n",
    "## step3 \n",
    "predictr.fit(X,y)\n",
    "## step4 -- pass "
   ]
  },
  {
   "cell_type": "markdown",
   "metadata": {},
   "source": [
    "`-` 평가: 안되는데요..??"
   ]
  },
  {
   "cell_type": "code",
   "execution_count": 8,
   "metadata": {},
   "outputs": [
    {
     "name": "stdout",
     "output_type": "stream",
     "text": [
      "train_score: 1.0000\n",
      "test_score: 0.1173\n"
     ]
    }
   ],
   "source": [
    "print(f'train_score: {predictr.score(X,y):.4f}')\n",
    "print(f'test_score: {predictr.score(XX,yy):.4f}')"
   ]
  },
  {
   "cell_type": "markdown",
   "metadata": {},
   "source": [
    "`-` 하이퍼 파라메터 튜닝 $\\alpha=1.5$ "
   ]
  },
  {
   "cell_type": "code",
   "execution_count": 9,
   "metadata": {},
   "outputs": [
    {
     "name": "stdout",
     "output_type": "stream",
     "text": [
      "train_score: 1.0000\n",
      "test_score: 0.1174\n"
     ]
    }
   ],
   "source": [
    "## step1 --- toeic, gpa 만 남기고 나머지 변수를 삭제\n",
    "df_train, df_test = sklearn.model_selection.train_test_split(df,test_size=0.3,random_state=42)\n",
    "X = df_train.loc[:,'gpa':'toeic499']\n",
    "y = df_train.loc[:,'employment_score']\n",
    "XX = df_test.loc[:,'gpa':'toeic499']\n",
    "yy = df_test.loc[:,'employment_score']\n",
    "## step2\n",
    "predictr = sklearn.linear_model.Ridge(alpha=1.5)\n",
    "## step3 \n",
    "predictr.fit(X,y)\n",
    "## step4 -- pass \n",
    "#---# \n",
    "print(f'train_score: {predictr.score(X,y):.4f}')\n",
    "print(f'test_score: {predictr.score(XX,yy):.4f}')"
   ]
  },
  {
   "cell_type": "markdown",
   "metadata": {},
   "source": [
    "- 조금 나아진것 같기도?"
   ]
  },
  {
   "cell_type": "markdown",
   "metadata": {},
   "source": [
    "`-` 하이퍼 파라메터 튜닝 $\\alpha=5e8$ "
   ]
  },
  {
   "cell_type": "code",
   "execution_count": 10,
   "metadata": {},
   "outputs": [
    {
     "name": "stdout",
     "output_type": "stream",
     "text": [
      "train_score: 0.7507\n",
      "test_score: 0.7438\n"
     ]
    }
   ],
   "source": [
    "## step1 --- toeic, gpa 만 남기고 나머지 변수를 삭제\n",
    "df_train, df_test = sklearn.model_selection.train_test_split(df,test_size=0.3,random_state=42)\n",
    "X = df_train.loc[:,'gpa':'toeic499']\n",
    "y = df_train.loc[:,'employment_score']\n",
    "XX = df_test.loc[:,'gpa':'toeic499']\n",
    "yy = df_test.loc[:,'employment_score']\n",
    "## step2\n",
    "predictr = sklearn.linear_model.Ridge(alpha=5e8)\n",
    "## step3 \n",
    "predictr.fit(X,y)\n",
    "## step4 -- pass \n",
    "#---# \n",
    "print(f'train_score: {predictr.score(X,y):.4f}')\n",
    "print(f'test_score: {predictr.score(XX,yy):.4f}')"
   ]
  },
  {
   "cell_type": "markdown",
   "metadata": {},
   "source": [
    "`-` 오라클에 비할바는 아니긴한데 공선성이 있는 경우라도 Ridge에서 적절한 alpha를 고른다면 망하는 모형을 만들진 않음 "
   ]
  },
  {
   "cell_type": "markdown",
   "metadata": {},
   "source": [
    "# 7. Ridge는 왜 결과를 좋게 만들까? "
   ]
  },
  {
   "cell_type": "markdown",
   "metadata": {},
   "source": [
    "## A. 정확한 설명 "
   ]
  },
  {
   "cell_type": "markdown",
   "metadata": {},
   "source": [
    "`-` SVD를 이용하여 이론적인 계산하면 `sklearn.linear_model.LinearRegression()`로 적합한 결과보다 `sklearn.linear_model.Ridge()`로 적합한 결과를 더 좋게 만드는 $\\alpha$가 항상 존재함을 증명할 수 있음. \n"
   ]
  },
  {
   "cell_type": "markdown",
   "metadata": {},
   "source": [
    "## B.  직관적 설명 (엄밀하지 않은 설명)"
   ]
  },
  {
   "cell_type": "markdown",
   "metadata": {},
   "source": [
    "### `Step1:` LinearRegression은 왜 망했는가?"
   ]
  },
  {
   "cell_type": "markdown",
   "metadata": {},
   "source": [
    "`-` 토익의 계수는 실제로 $\\frac{1}{100}$이다. 적딩히 \n",
    "\n",
    "- `toeic_coef` + ... + `toeic499_coef` $\\approx$ 0.01 이라면 \n",
    "\n",
    "대충 맞는 답이다. \n"
   ]
  },
  {
   "cell_type": "code",
   "execution_count": 15,
   "metadata": {},
   "outputs": [
    {
     "name": "stdout",
     "output_type": "stream",
     "text": [
      "train_score: 1.0000\n",
      "test_score: 0.1171\n"
     ]
    }
   ],
   "source": [
    "## step1 --- toeic, gpa 만 남기고 나머지 변수를 삭제\n",
    "df_train, df_test = sklearn.model_selection.train_test_split(df,test_size=0.3,random_state=42)\n",
    "X = df_train.loc[:,'gpa':'toeic499']\n",
    "y = df_train.loc[:,'employment_score']\n",
    "XX = df_test.loc[:,'gpa':'toeic499']\n",
    "yy = df_test.loc[:,'employment_score']\n",
    "## step2\n",
    "predictr = sklearn.linear_model.LinearRegression()\n",
    "## step3 \n",
    "predictr.fit(X,y)\n",
    "## step4 -- pass \n",
    "#---# \n",
    "print(f'train_score: {predictr.score(X,y):.4f}')\n",
    "print(f'test_score: {predictr.score(XX,yy):.4f}')"
   ]
  },
  {
   "cell_type": "code",
   "execution_count": 16,
   "metadata": {},
   "outputs": [
    {
     "data": {
      "text/plain": [
       "0.010302732920631844"
      ]
     },
     "execution_count": 16,
     "metadata": {},
     "output_type": "execute_result"
    }
   ],
   "source": [
    "s= pd.Series(predictr.coef_)\n",
    "s.index = X.columns\n",
    "s[1:].sum()"
   ]
  },
  {
   "cell_type": "markdown",
   "metadata": {},
   "source": [
    "`-` 그런데 사실 저 `0.01`이라는 값은 몇개의 계수만 있어도 만들 수 있다. (toeic2와 toeic3에 해당하는 계수)"
   ]
  },
  {
   "cell_type": "code",
   "execution_count": 17,
   "metadata": {},
   "outputs": [
    {
     "data": {
      "text/plain": [
       "0.010142832986793814"
      ]
     },
     "execution_count": 17,
     "metadata": {},
     "output_type": "execute_result"
    }
   ],
   "source": [
    "s['toeic2']+s['toeic3']"
   ]
  },
  {
   "cell_type": "markdown",
   "metadata": {},
   "source": [
    "`-` 이런논리로 치면 `toeic2`, `toeic3`에 해당하는 계수만 있다면 사실 $y$를 설명하는데 충분했고, 나머지는 불필요한 특징이 된다. (그리고 불필요한 특징은 오버피팅을 유발한다)"
   ]
  },
  {
   "cell_type": "markdown",
   "metadata": {},
   "source": [
    "### `Step2:` Ridge의 아이디어"
   ]
  },
  {
   "cell_type": "markdown",
   "metadata": {},
   "source": [
    "`-` Ridge의 아이디어: `toeic2`, `toeic3` 와 같이 몇개의 변수로만 `0.01`이라는 수를 설명할 수 없도록 \"강제\"하자. 즉 몇개의 변수로만 `0.01`이라는 수를 설명할 수 없도록 \"패널티\"를 주자. "
   ]
  },
  {
   "cell_type": "markdown",
   "metadata": {},
   "source": [
    "`-` 패널티: 유사토익들의 계수값을 제곱한뒤 합치고(=L2-norm을 구하고), 그 값이 0에서 떨어져 있을 수록 패널티를 줄꺼야!\n",
    "\n",
    "- 이러한 패널티를 줄 경우 결과적으로 0.01의 값이 \"동일하게 나누어져서\" 나오는 값(=$\\frac{1}{100}\\frac{1}{501}$)이 계수값으로 추정된다. (왜? -- 요건 정확하게 이해하는게 사실 지금은 힘듬)\n",
    "- 패널티를 주는정도? $\\alpha$로 조절함.. $\\alpha$를 크게 할수록 패널티를 많이줌."
   ]
  },
  {
   "cell_type": "markdown",
   "metadata": {},
   "source": [
    "`-` 잘 적용된 Ridge의 결과를 보면 아래와 같이 계수값이 저장되어 있음. "
   ]
  },
  {
   "cell_type": "code",
   "execution_count": 20,
   "metadata": {},
   "outputs": [
    {
     "name": "stdout",
     "output_type": "stream",
     "text": [
      "train_score: 0.7507\n",
      "test_score: 0.7438\n"
     ]
    }
   ],
   "source": [
    "## step1 --- toeic, gpa 만 남기고 나머지 변수를 삭제\n",
    "df_train, df_test = sklearn.model_selection.train_test_split(df,test_size=0.3,random_state=42)\n",
    "X = df_train.loc[:,'gpa':'toeic499']\n",
    "y = df_train.loc[:,'employment_score']\n",
    "XX = df_test.loc[:,'gpa':'toeic499']\n",
    "yy = df_test.loc[:,'employment_score']\n",
    "## step2\n",
    "predictr = sklearn.linear_model.Ridge(alpha=5e8)\n",
    "## step3 \n",
    "predictr.fit(X,y)\n",
    "## step4 -- pass \n",
    "#---# \n",
    "print(f'train_score: {predictr.score(X,y):.4f}')\n",
    "print(f'test_score: {predictr.score(XX,yy):.4f}')"
   ]
  },
  {
   "cell_type": "code",
   "execution_count": 21,
   "metadata": {},
   "outputs": [
    {
     "data": {
      "text/plain": [
       "gpa         0.000001\n",
       "toeic       0.000019\n",
       "toeic0      0.000018\n",
       "toeic1      0.000018\n",
       "toeic2      0.000019\n",
       "              ...   \n",
       "toeic495    0.000018\n",
       "toeic496    0.000019\n",
       "toeic497    0.000019\n",
       "toeic498    0.000019\n",
       "toeic499    0.000019\n",
       "Length: 502, dtype: float64"
      ]
     },
     "execution_count": 21,
     "metadata": {},
     "output_type": "execute_result"
    }
   ],
   "source": [
    "s = pd.Series(predictr.coef_)\n",
    "s.index = X.columns\n",
    "s"
   ]
  },
  {
   "cell_type": "code",
   "execution_count": 25,
   "metadata": {},
   "outputs": [
    {
     "data": {
      "text/plain": [
       "(1.899380907380025e-05, 1.7776834322452106e-05, 1.821183320256662e-05)"
      ]
     },
     "execution_count": 25,
     "metadata": {},
     "output_type": "execute_result"
    }
   ],
   "source": [
    "s[1], s[2], s[3]"
   ]
  },
  {
   "cell_type": "code",
   "execution_count": 22,
   "metadata": {},
   "outputs": [
    {
     "data": {
      "text/plain": [
       "1.9960079840319362e-05"
      ]
     },
     "execution_count": 22,
     "metadata": {},
     "output_type": "execute_result"
    }
   ],
   "source": [
    "0.01/501"
   ]
  },
  {
   "cell_type": "markdown",
   "metadata": {},
   "source": [
    "`-` 결국 Ridge를 사용하면 계수들의 값이 **\"동일하게 나누어지는\"** 효과가 나타남 "
   ]
  },
  {
   "cell_type": "markdown",
   "metadata": {},
   "source": [
    "`-` 패널티를 주는 정도? $\\alpha$로 조절함.. $\\alpha$를 크게 할수록 패널티를 많이줌"
   ]
  },
  {
   "cell_type": "markdown",
   "metadata": {},
   "source": [
    "## C. $\\alpha$에 따른 계수값 변화 "
   ]
  },
  {
   "cell_type": "markdown",
   "metadata": {},
   "source": [
    "`-` 여러개의 predictor 학습 "
   ]
  },
  {
   "cell_type": "code",
   "execution_count": 29,
   "metadata": {},
   "outputs": [],
   "source": [
    "## step1 --- toeic, gpa 만 남기고 나머지 변수를 삭제\n",
    "df_train, df_test = sklearn.model_selection.train_test_split(df,test_size=0.3,random_state=42)\n",
    "X = df_train.loc[:,'gpa':'toeic499']\n",
    "y = df_train.loc[:,'employment_score']\n",
    "XX = df_test.loc[:,'gpa':'toeic499']\n",
    "yy = df_test.loc[:,'employment_score']\n",
    "## step2\n",
    "alphas = [5e2, 5e3, 5e4, 5e5, 5e6, 5e7, 5e8]\n",
    "predictrs = [sklearn.linear_model.Ridge(alpha=alpha) for alpha in alphas]\n",
    "## step3 \n",
    "for predictr in predictrs:\n",
    "    predictr.fit(X,y)\n",
    "## step4 -- pass "
   ]
  },
  {
   "cell_type": "markdown",
   "metadata": {},
   "source": [
    "`-` 계수값 시각화 "
   ]
  },
  {
   "cell_type": "code",
   "execution_count": 30,
   "metadata": {},
   "outputs": [
    {
     "data": {
      "text/plain": [
       "500.0"
      ]
     },
     "execution_count": 30,
     "metadata": {},
     "output_type": "execute_result"
    }
   ],
   "source": [
    "predictrs[0].alpha"
   ]
  },
  {
   "cell_type": "code",
   "execution_count": 38,
   "metadata": {},
   "outputs": [
    {
     "data": {
      "text/plain": [
       "<matplotlib.legend.Legend at 0x7f2e97e7f970>"
      ]
     },
     "execution_count": 38,
     "metadata": {},
     "output_type": "execute_result"
    },
    {
     "data": {
      "image/png": "[encoded data removed]",
      "text/plain": [
       "<Figure size 432x288 with 1 Axes>"
      ]
     },
     "metadata": {
      "needs_background": "light"
     },
     "output_type": "display_data"
    }
   ],
   "source": [
    "# toeic에 해당하는 coef 시각화\n",
    "plt.plot(predictrs[0].coef_[1:],label=r'$\\alpha$={}'.format(predictrs[0].alpha)) \n",
    "plt.plot(predictrs[3].coef_[1:],label=r'$\\alpha$={}'.format(predictrs[3].alpha))\n",
    "plt.legend(loc=1)"
   ]
  },
  {
   "cell_type": "code",
   "execution_count": 39,
   "metadata": {},
   "outputs": [
    {
     "data": {
      "text/plain": [
       "<matplotlib.legend.Legend at 0x7f2e97d1dee0>"
      ]
     },
     "execution_count": 39,
     "metadata": {},
     "output_type": "execute_result"
    },
    {
     "data": {
      "image/png": "[encoded data removed]",
      "text/plain": [
       "<Figure size 432x288 with 1 Axes>"
      ]
     },
     "metadata": {
      "needs_background": "light"
     },
     "output_type": "display_data"
    }
   ],
   "source": [
    "plt.plot(predictrs[3].coef_[1:],label=r'$\\alpha$={}'.format(predictrs[3].alpha))\n",
    "plt.plot(predictrs[5].coef_[1:],label=r'$\\alpha$={}'.format(predictrs[5].alpha))\n",
    "plt.legend()"
   ]
  },
  {
   "cell_type": "code",
   "execution_count": 40,
   "metadata": {},
   "outputs": [
    {
     "data": {
      "text/plain": [
       "<matplotlib.legend.Legend at 0x7f2e97cd7910>"
      ]
     },
     "execution_count": 40,
     "metadata": {},
     "output_type": "execute_result"
    },
    {
     "data": {
      "image/png": "[encoded data removed]",
      "text/plain": [
       "<Figure size 432x288 with 1 Axes>"
      ]
     },
     "metadata": {
      "needs_background": "light"
     },
     "output_type": "display_data"
    }
   ],
   "source": [
    "plt.plot(predictrs[5].coef_[1:],label=r'$\\alpha$={}'.format(predictrs[5].alpha))\n",
    "plt.plot(predictrs[-1].coef_[1:],label=r'$\\alpha$={}'.format(predictrs[-1].alpha))\n",
    "plt.legend()"
   ]
  },
  {
   "cell_type": "markdown",
   "metadata": {},
   "source": [
    "`-` 직관: 마지막 predictor의 계수값을 살펴보자. "
   ]
  },
  {
   "cell_type": "code",
   "execution_count": 105,
   "metadata": {},
   "outputs": [
    {
     "data": {
      "text/plain": [
       "array([1.10421248e-06, 1.89938091e-05, 1.77768343e-05, 1.82118332e-05,\n",
       "       1.90895673e-05, 1.87128138e-05, 1.90343037e-05, 1.82483251e-05,\n",
       "       1.90405022e-05, 1.85802628e-05, 1.90021086e-05, 1.88952130e-05,\n",
       "       1.96003229e-05, 1.89154663e-05, 1.86638217e-05, 1.92666606e-05,\n",
       "       1.97107043e-05, 1.92214868e-05, 1.92961317e-05, 1.93321368e-05,\n",
       "       1.92194541e-05, 1.85663279e-05, 1.86805137e-05, 1.81649873e-05,\n",
       "       1.78656367e-05, 1.83171419e-05, 1.94428947e-05, 1.89710925e-05,\n",
       "       2.00598946e-05, 1.88384883e-05, 1.98903125e-05, 1.81113551e-05,\n",
       "       1.85043847e-05, 1.84424971e-05, 1.91508275e-05, 1.97427867e-05,\n",
       "       1.93598061e-05, 1.98264264e-05, 1.89934042e-05, 1.84770850e-05,\n",
       "       1.83617634e-05, 1.79346774e-05, 1.84943159e-05, 1.89803006e-05,\n",
       "       1.78633749e-05, 1.80073666e-05, 1.85664525e-05, 1.97390143e-05,\n",
       "       1.86574281e-05, 1.92233226e-05, 1.91281904e-05, 1.85617627e-05,\n",
       "       1.83939489e-05, 1.84309427e-05, 1.88142167e-05, 1.84159665e-05,\n",
       "       1.94078579e-05, 1.84515402e-05, 1.88107980e-05, 1.85889903e-05,\n",
       "       1.89357356e-05, 1.88750847e-05, 1.92107444e-05, 1.81799279e-05,\n",
       "       1.92122152e-05, 1.97863670e-05, 1.89851436e-05, 1.88974919e-05,\n",
       "       1.88566578e-05, 1.95841935e-05, 1.86398380e-05, 1.95801159e-05,\n",
       "       1.87550098e-05, 1.87392625e-05, 1.87462595e-05, 1.96056001e-05,\n",
       "       1.80626630e-05, 1.88237701e-05, 1.83108446e-05, 1.88087164e-05,\n",
       "       1.84723703e-05, 1.84767748e-05, 1.89267252e-05, 1.87604297e-05,\n",
       "       1.86945591e-05, 1.92924236e-05, 1.77843453e-05, 1.85415541e-05,\n",
       "       1.91448999e-05, 1.98281375e-05, 1.97994651e-05, 1.86653004e-05,\n",
       "       1.87298830e-05, 1.87474975e-05, 1.90018315e-05, 1.92043808e-05,\n",
       "       1.88941675e-05, 1.81646176e-05, 1.91508494e-05, 2.04322537e-05,\n",
       "       1.92111546e-05, 1.93061022e-05, 1.92088349e-05, 1.80206353e-05,\n",
       "       1.89399818e-05, 1.96895533e-05, 1.94410839e-05, 1.92051217e-05,\n",
       "       1.84961416e-05, 1.89785667e-05, 1.92235780e-05, 1.86729143e-05,\n",
       "       1.88439733e-05, 1.76776615e-05, 1.87493841e-05, 1.86986837e-05,\n",
       "       1.81917859e-05, 1.94657238e-05, 1.82063420e-05, 1.78143049e-05,\n",
       "       1.88432683e-05, 1.90674860e-05, 1.86411824e-05, 1.93286721e-05,\n",
       "       1.75163829e-05, 1.86852659e-05, 2.02343956e-05, 1.82025623e-05,\n",
       "       1.89153395e-05, 1.98862774e-05, 1.94775038e-05, 1.90665531e-05,\n",
       "       1.94170642e-05, 1.88227118e-05, 1.88792179e-05, 1.89712787e-05,\n",
       "       1.87855482e-05, 1.87895464e-05, 2.00798925e-05, 1.97167119e-05,\n",
       "       1.91644137e-05, 1.90990710e-05, 1.85836048e-05, 1.82346595e-05,\n",
       "       1.85731253e-05, 1.84871242e-05, 1.90728256e-05, 1.90277156e-05,\n",
       "       1.93085319e-05, 1.91719254e-05, 1.80097271e-05, 1.82517485e-05,\n",
       "       1.90904218e-05, 1.85232604e-05, 1.88184612e-05, 1.84002976e-05,\n",
       "       2.00337440e-05, 1.86478638e-05, 1.93507546e-05, 1.85547358e-05,\n",
       "       1.97154574e-05, 1.91189346e-05, 1.93320777e-05, 1.85313268e-05,\n",
       "       1.91085306e-05, 1.88406812e-05, 1.87444892e-05, 1.96637559e-05,\n",
       "       1.83552699e-05, 1.80759243e-05, 1.94662845e-05, 1.93761303e-05,\n",
       "       1.98339288e-05, 1.87139235e-05, 1.91131387e-05, 1.85801855e-05,\n",
       "       1.91544816e-05, 1.98413649e-05, 1.84027849e-05, 1.81842651e-05,\n",
       "       1.95888229e-05, 1.80738476e-05, 1.92457286e-05, 1.91474170e-05,\n",
       "       1.88737956e-05, 1.78029998e-05, 1.97734483e-05, 1.92409710e-05,\n",
       "       1.97346045e-05, 1.99425451e-05, 1.89157923e-05, 1.82538525e-05,\n",
       "       1.87475300e-05, 1.79663692e-05, 1.94360535e-05, 1.93333725e-05,\n",
       "       1.81368431e-05, 1.91860664e-05, 2.03648683e-05, 1.92870391e-05,\n",
       "       1.92561212e-05, 1.92408929e-05, 1.77556464e-05, 1.89317813e-05,\n",
       "       1.95230859e-05, 1.91845519e-05, 1.88923023e-05, 1.88368476e-05,\n",
       "       1.89013580e-05, 1.82113056e-05, 1.86295402e-05, 1.92236940e-05,\n",
       "       1.80025543e-05, 1.92322271e-05, 1.80917953e-05, 1.87188051e-05,\n",
       "       1.93772655e-05, 1.87894009e-05, 1.86773984e-05, 1.96830961e-05,\n",
       "       1.94593808e-05, 1.99377297e-05, 1.85707832e-05, 1.88667594e-05,\n",
       "       1.85589760e-05, 1.98498326e-05, 1.88878514e-05, 1.90686529e-05,\n",
       "       1.86868639e-05, 1.90576790e-05, 1.95494214e-05, 1.86567117e-05,\n",
       "       1.85992014e-05, 1.77199587e-05, 1.82193592e-05, 1.90965903e-05,\n",
       "       1.96016869e-05, 1.88116657e-05, 1.81131528e-05, 1.85436209e-05,\n",
       "       1.92951259e-05, 1.92495993e-05, 1.84570073e-05, 1.94529446e-05,\n",
       "       1.92760629e-05, 1.92236816e-05, 1.85750512e-05, 1.95451343e-05,\n",
       "       1.82912208e-05, 1.88851896e-05, 1.86295173e-05, 1.84150640e-05,\n",
       "       1.95101106e-05, 1.98423439e-05, 1.88687440e-05, 1.91657943e-05,\n",
       "       1.89387389e-05, 1.89907539e-05, 1.90653825e-05, 1.80854343e-05,\n",
       "       1.86906336e-05, 1.85793308e-05, 1.84992786e-05, 1.93964742e-05,\n",
       "       1.83344151e-05, 1.89611068e-05, 1.91457644e-05, 1.88755070e-05,\n",
       "       1.98511526e-05, 1.93068196e-05, 1.93316489e-05, 1.89507435e-05,\n",
       "       1.89083004e-05, 1.91358509e-05, 1.87803906e-05, 1.78160168e-05,\n",
       "       1.94603877e-05, 2.02569965e-05, 1.87423291e-05, 1.94609617e-05,\n",
       "       1.91292677e-05, 1.85958571e-05, 1.88629266e-05, 1.90600256e-05,\n",
       "       1.82221314e-05, 1.95093258e-05, 1.89176339e-05, 2.00028045e-05,\n",
       "       1.94052035e-05, 1.86744967e-05, 1.89125601e-05, 2.02089363e-05,\n",
       "       1.80569192e-05, 2.02141130e-05, 1.93147541e-05, 1.89011113e-05,\n",
       "       1.93335891e-05, 1.96767360e-05, 1.90364715e-05, 1.94635849e-05,\n",
       "       1.90397143e-05, 1.91973258e-05, 1.85857694e-05, 1.91487106e-05,\n",
       "       1.92897509e-05, 1.99589223e-05, 1.89690091e-05, 1.90089893e-05,\n",
       "       1.80391078e-05, 1.89867708e-05, 1.91430968e-05, 1.92719424e-05,\n",
       "       1.95648244e-05, 1.85975115e-05, 1.92077870e-05, 1.84415844e-05,\n",
       "       1.88715614e-05, 1.85970322e-05, 1.93261490e-05, 1.86726361e-05,\n",
       "       1.97716032e-05, 1.92749150e-05, 2.00954709e-05, 1.90876286e-05,\n",
       "       1.89190693e-05, 1.98831620e-05, 1.91612367e-05, 1.86269524e-05,\n",
       "       1.89155394e-05, 1.89824518e-05, 1.98347756e-05, 1.86788886e-05,\n",
       "       1.83508292e-05, 1.85069060e-05, 1.86909372e-05, 1.85978543e-05,\n",
       "       1.88150510e-05, 1.89755849e-05, 1.90099289e-05, 1.90515657e-05,\n",
       "       1.93189513e-05, 1.82151178e-05, 1.78471089e-05, 1.91763316e-05,\n",
       "       1.84903926e-05, 1.92863572e-05, 1.90497739e-05, 1.87657428e-05,\n",
       "       1.87801680e-05, 1.85137448e-05, 1.91226761e-05, 1.94084785e-05,\n",
       "       1.81950620e-05, 1.81823646e-05, 1.87513814e-05, 1.97922951e-05,\n",
       "       1.87200102e-05, 1.98409879e-05, 1.85874173e-05, 1.90513332e-05,\n",
       "       1.85234477e-05, 1.81902197e-05, 1.76367508e-05, 1.90389194e-05,\n",
       "       1.85299355e-05, 1.95358518e-05, 1.81772601e-05, 1.93671350e-05,\n",
       "       1.91528856e-05, 1.91322975e-05, 1.85830738e-05, 1.85626882e-05,\n",
       "       1.86250726e-05, 1.84514809e-05, 1.86800234e-05, 1.89256964e-05,\n",
       "       1.90280385e-05, 1.88870537e-05, 1.86929332e-05, 1.95167742e-05,\n",
       "       1.86377119e-05, 1.93693632e-05, 1.94429807e-05, 1.90730542e-05,\n",
       "       1.86276638e-05, 1.86225787e-05, 1.87333026e-05, 1.94293224e-05,\n",
       "       1.87174307e-05, 1.93106731e-05, 1.91898445e-05, 1.91446507e-05,\n",
       "       1.83627209e-05, 1.85185991e-05, 1.90680366e-05, 1.88180597e-05,\n",
       "       1.86586581e-05, 1.80051184e-05, 1.83329730e-05, 1.82088945e-05,\n",
       "       1.87516598e-05, 1.82744310e-05, 1.90219092e-05, 1.89098591e-05,\n",
       "       1.89001214e-05, 1.90959896e-05, 1.77157866e-05, 1.91760361e-05,\n",
       "       1.80496598e-05, 1.85629242e-05, 1.93527162e-05, 1.85046434e-05,\n",
       "       1.97977476e-05, 1.82757747e-05, 1.92849021e-05, 1.86829990e-05,\n",
       "       1.86752898e-05, 1.95540241e-05, 1.92250030e-05, 1.84817730e-05,\n",
       "       1.94636774e-05, 1.86057300e-05, 1.90096458e-05, 1.91037821e-05,\n",
       "       1.98095086e-05, 1.92558748e-05, 1.94175627e-05, 1.86155519e-05,\n",
       "       1.91386204e-05, 1.89659072e-05, 1.89507918e-05, 1.88868989e-05,\n",
       "       1.91223138e-05, 1.81488441e-05, 1.95885497e-05, 1.87850789e-05,\n",
       "       1.90457546e-05, 1.96549561e-05, 1.86983597e-05, 1.89788151e-05,\n",
       "       1.98384237e-05, 1.99479277e-05, 1.91275095e-05, 1.89970341e-05,\n",
       "       1.85749782e-05, 1.91683345e-05, 1.91850806e-05, 1.97386011e-05,\n",
       "       1.93320833e-05, 1.92560345e-05, 1.85426153e-05, 1.85185853e-05,\n",
       "       1.85764448e-05, 1.94279426e-05, 1.97685699e-05, 1.91733090e-05,\n",
       "       1.84972022e-05, 1.89924907e-05, 1.83467563e-05, 1.95149016e-05,\n",
       "       1.84410610e-05, 1.86536281e-05, 1.88181888e-05, 1.85487807e-05,\n",
       "       1.88565643e-05, 1.89056942e-05, 1.95082352e-05, 1.91711709e-05,\n",
       "       1.91422027e-05, 1.91363321e-05, 1.89114818e-05, 1.85390554e-05,\n",
       "       1.92949067e-05, 1.88019353e-05, 1.85332879e-05, 1.86699430e-05,\n",
       "       1.96934870e-05, 2.01293426e-05, 1.81411289e-05, 1.86806981e-05,\n",
       "       1.90987154e-05, 1.85866377e-05, 1.96875267e-05, 1.88785203e-05,\n",
       "       1.94435510e-05, 1.85812461e-05, 1.97178935e-05, 1.90067232e-05,\n",
       "       2.02306858e-05, 1.86213361e-05, 1.94255182e-05, 1.86417320e-05,\n",
       "       1.95689564e-05, 1.97728792e-05, 1.94352125e-05, 1.93768903e-05,\n",
       "       1.90643113e-05, 1.79709383e-05, 1.90573271e-05, 1.85638225e-05,\n",
       "       1.91337229e-05, 1.86437625e-05])"
      ]
     },
     "execution_count": 105,
     "metadata": {},
     "output_type": "execute_result"
    }
   ],
   "source": [
    "predictrs[-1].coef_"
   ]
  },
  {
   "cell_type": "markdown",
   "metadata": {},
   "source": [
    "- 불필요한 변수가 나올 수 없는 구조가 되어버렸음 (한 두개로 0.01을 만들 수 없음)\n",
    "- 모든 변수는 대략 2e-5($\\approx \\frac{1}{100}\\frac{1}{501}$)정도 만큼 똑같이 중요하다고 생각된다. \n",
    "- 고급: **<font color='blue'>살짝 1/(100*501)보다 전체적으로 값이 작아보이는데, 이는 기분탓이 아님 (Ridge 특징)</font>**"
   ]
  },
  {
   "cell_type": "code",
   "execution_count": 41,
   "metadata": {},
   "outputs": [
    {
     "data": {
      "text/plain": [
       "1.9960079840319362e-05"
      ]
     },
     "execution_count": 41,
     "metadata": {},
     "output_type": "execute_result"
    }
   ],
   "source": [
    "1/100*1/501"
   ]
  },
  {
   "cell_type": "code",
   "execution_count": 48,
   "metadata": {},
   "outputs": [
    {
     "data": {
      "text/plain": [
       "(0.010274546089649755, 0.010157633994737944, 0.009948779293135868)"
      ]
     },
     "execution_count": 48,
     "metadata": {},
     "output_type": "execute_result"
    }
   ],
   "source": [
    "predictrs[0].coef_[1:].sum(), predictrs[1].coef_[1:].sum(), predictrs[2].coef_[1:].sum() # 점점 작아진다.."
   ]
  },
  {
   "cell_type": "markdown",
   "metadata": {},
   "source": [
    "::: {.callout-note}\n",
    "## Linear Regression시 문제가 되었던 부분\n",
    "\n",
    "Linear Regression을 할 때 toeic2 + toeic3 $\\approx 0.01$ 이 되었다. 즉, 두 개의 변수만 가지고도 계수의 합이 $0.01$ 되어 다른 변수들이 필요가 없었다. \n",
    "\n",
    "Ridge의 경우 구조상 toeic ~ toeic499의 계수에 거의 똑같은 값이 들어있다. 이러한 구조라면 2,3개를 더해서 0.01을 만들 수가 없다.\n",
    "\n",
    "결국 필요없는 변수가 만들어지지 않도록 강제가 된다.\n",
    ":::"
   ]
  },
  {
   "cell_type": "markdown",
   "metadata": {},
   "source": [
    "## D. $\\alpha$에 따른 실험내용 정리 "
   ]
  },
  {
   "cell_type": "markdown",
   "metadata": {},
   "source": [
    "`-` 예비개념: L2-penalty는 그냥 대충 분산같은것.."
   ]
  },
  {
   "cell_type": "code",
   "execution_count": 278,
   "metadata": {},
   "outputs": [
    {
     "data": {
      "text/plain": [
       "(7.084638326878741, 7.084638326878739)"
      ]
     },
     "execution_count": 278,
     "metadata": {},
     "output_type": "execute_result"
    }
   ],
   "source": [
    "x = np.random.randn(5)\n",
    "l2_penalty = (x**2).sum()\n",
    "l2_penalty, 5*(x.var()+(x.mean()**2))"
   ]
  },
  {
   "cell_type": "markdown",
   "metadata": {},
   "source": [
    "`-` $\\alpha$가 커질수록 생기는 일 \n",
    "\n",
    "- 크게 느낀것: 계수들의 값이 점점 비슷해짐 --> 계수들의 값들을 모아서 분산을 구하면 작아진다는 의미 --> L2-penalty 가 작아진다는 의미\n",
    "- 미묘하게 느껴지는 점: `toeic`, 그리고 `toeic0~toeic499` 까지의 계수총합은 0.01이 되어야 하는데, 그 총합이 미묘하게 작어지는 느낌. "
   ]
  },
  {
   "cell_type": "code",
   "execution_count": 49,
   "metadata": {},
   "outputs": [
    {
     "name": "stdout",
     "output_type": "stream",
     "text": [
      "alpha=5.00e+02\tl2_penalty=0.046715\tsum(toeic_coefs)=0.0103\ttest_score=0.2026\n",
      "alpha=5.00e+03\tl2_penalty=0.021683\tsum(toeic_coefs)=0.0102\ttest_score=0.4638\n",
      "alpha=5.00e+04\tl2_penalty=0.003263\tsum(toeic_coefs)=0.0099\ttest_score=0.6889\n",
      "alpha=5.00e+05\tl2_penalty=0.000109\tsum(toeic_coefs)=0.0099\ttest_score=0.7407\n",
      "alpha=5.00e+06\tl2_penalty=0.000002\tsum(toeic_coefs)=0.0099\ttest_score=0.7447\n",
      "alpha=5.00e+07\tl2_penalty=0.000000\tsum(toeic_coefs)=0.0098\ttest_score=0.7450\n",
      "alpha=5.00e+08\tl2_penalty=0.000000\tsum(toeic_coefs)=0.0095\ttest_score=0.7438\n"
     ]
    }
   ],
   "source": [
    "for predictr in predictrs: \n",
    "    print(\n",
    "        f'alpha={predictr.alpha:.2e}\\t'\n",
    "        f'l2_penalty={((predictr.coef_)**2).sum():.6f}\\t'\n",
    "        f'sum(toeic_coefs)={((predictr.coef_[1:])).sum():.4f}\\t'\n",
    "        f'test_score={predictr.score(XX,yy):.4f}'\n",
    "    )"
   ]
  },
  {
   "cell_type": "markdown",
   "metadata": {},
   "source": [
    "`-` L2-penalty의 느낌은 대충 아래와 같이 분산으로 이해해도 무방 "
   ]
  },
  {
   "cell_type": "code",
   "execution_count": 65,
   "metadata": {},
   "outputs": [
    {
     "name": "stdout",
     "output_type": "stream",
     "text": [
      "alpha=5.00e+02\tvar(coefs)=0.046618\tl2_penalty=0.046622\tsum(toeic_coefs)=0.0103\ttest_score=0.2026\n",
      "alpha=5.00e+03\tvar(coefs)=0.021638\tl2_penalty=0.021640\tsum(toeic_coefs)=0.0102\ttest_score=0.4638\n",
      "alpha=5.00e+04\tvar(coefs)=0.003256\tl2_penalty=0.003256\tsum(toeic_coefs)=0.0099\ttest_score=0.6889\n",
      "alpha=5.00e+05\tvar(coefs)=0.000109\tl2_penalty=0.000109\tsum(toeic_coefs)=0.0099\ttest_score=0.7407\n",
      "alpha=5.00e+06\tvar(coefs)=0.000001\tl2_penalty=0.000002\tsum(toeic_coefs)=0.0099\ttest_score=0.7447\n",
      "alpha=5.00e+07\tvar(coefs)=0.000000\tl2_penalty=0.000000\tsum(toeic_coefs)=0.0098\ttest_score=0.7450\n",
      "alpha=5.00e+08\tvar(coefs)=0.000000\tl2_penalty=0.000000\tsum(toeic_coefs)=0.0095\ttest_score=0.7438\n"
     ]
    }
   ],
   "source": [
    "for predictr in predictrs: \n",
    "    print(\n",
    "        f'alpha={predictr.alpha:.2e}\\t'\n",
    "        f'var(coefs)={(predictr.coef_).var()*501:.6f}\\t'\n",
    "        f'l2_penalty={(predictr.coef_).var()*501 + ((predictr.coef_).mean())**2*501:.6f}\\t'\n",
    "        f'sum(toeic_coefs)={((predictr.coef_[1:])).sum():.4f}\\t'\n",
    "        f'test_score={predictr.score(XX,yy):.4f}'\n",
    "    )"
   ]
  },
  {
   "cell_type": "markdown",
   "metadata": {},
   "source": [
    "- L2 penalty와 var(coefs) 거의 비슷하다. (완전 같지는 않음.)"
   ]
  },
  {
   "cell_type": "markdown",
   "metadata": {},
   "source": [
    "## E. $\\alpha$가 크다고 무조건 좋은건 아니다. "
   ]
  },
  {
   "cell_type": "code",
   "execution_count": 60,
   "metadata": {},
   "outputs": [
    {
     "data": {
      "text/html": [
       "<style>#sk-container-id-6 {color: black;}#sk-container-id-6 pre{padding: 0;}#sk-container-id-6 div.sk-toggleable {background-color: white;}#sk-container-id-6 label.sk-toggleable__label {cursor: pointer;display: block;width: 100%;margin-bottom: 0;padding: 0.3em;box-sizing: border-box;text-align: center;}#sk-container-id-6 label.sk-toggleable__label-arrow:before {content: \"▸\";float: left;margin-right: 0.25em;color: #696969;}#sk-container-id-6 label.sk-toggleable__label-arrow:hover:before {color: black;}#sk-container-id-6 div.sk-estimator:hover label.sk-toggleable__label-arrow:before {color: black;}#sk-container-id-6 div.sk-toggleable__content {max-height: 0;max-width: 0;overflow: hidden;text-align: left;background-color: #f0f8ff;}#sk-container-id-6 div.sk-toggleable__content pre {margin: 0.2em;color: black;border-radius: 0.25em;background-color: #f0f8ff;}#sk-container-id-6 input.sk-toggleable__control:checked~div.sk-toggleable__content {max-height: 200px;max-width: 100%;overflow: auto;}#sk-container-id-6 input.sk-toggleable__control:checked~label.sk-toggleable__label-arrow:before {content: \"▾\";}#sk-container-id-6 div.sk-estimator input.sk-toggleable__control:checked~label.sk-toggleable__label {background-color: #d4ebff;}#sk-container-id-6 div.sk-label input.sk-toggleable__control:checked~label.sk-toggleable__label {background-color: #d4ebff;}#sk-container-id-6 input.sk-hidden--visually {border: 0;clip: rect(1px 1px 1px 1px);clip: rect(1px, 1px, 1px, 1px);height: 1px;margin: -1px;overflow: hidden;padding: 0;position: absolute;width: 1px;}#sk-container-id-6 div.sk-estimator {font-family: monospace;background-color: #f0f8ff;border: 1px dotted black;border-radius: 0.25em;box-sizing: border-box;margin-bottom: 0.5em;}#sk-container-id-6 div.sk-estimator:hover {background-color: #d4ebff;}#sk-container-id-6 div.sk-parallel-item::after {content: \"\";width: 100%;border-bottom: 1px solid gray;flex-grow: 1;}#sk-container-id-6 div.sk-label:hover label.sk-toggleable__label {background-color: #d4ebff;}#sk-container-id-6 div.sk-serial::before {content: \"\";position: absolute;border-left: 1px solid gray;box-sizing: border-box;top: 0;bottom: 0;left: 50%;z-index: 0;}#sk-container-id-6 div.sk-serial {display: flex;flex-direction: column;align-items: center;background-color: white;padding-right: 0.2em;padding-left: 0.2em;position: relative;}#sk-container-id-6 div.sk-item {position: relative;z-index: 1;}#sk-container-id-6 div.sk-parallel {display: flex;align-items: stretch;justify-content: center;background-color: white;position: relative;}#sk-container-id-6 div.sk-item::before, #sk-container-id-6 div.sk-parallel-item::before {content: \"\";position: absolute;border-left: 1px solid gray;box-sizing: border-box;top: 0;bottom: 0;left: 50%;z-index: -1;}#sk-container-id-6 div.sk-parallel-item {display: flex;flex-direction: column;z-index: 1;position: relative;background-color: white;}#sk-container-id-6 div.sk-parallel-item:first-child::after {align-self: flex-end;width: 50%;}#sk-container-id-6 div.sk-parallel-item:last-child::after {align-self: flex-start;width: 50%;}#sk-container-id-6 div.sk-parallel-item:only-child::after {width: 0;}#sk-container-id-6 div.sk-dashed-wrapped {border: 1px dashed gray;margin: 0 0.4em 0.5em 0.4em;box-sizing: border-box;padding-bottom: 0.4em;background-color: white;}#sk-container-id-6 div.sk-label label {font-family: monospace;font-weight: bold;display: inline-block;line-height: 1.2em;}#sk-container-id-6 div.sk-label-container {text-align: center;}#sk-container-id-6 div.sk-container {/* jupyter's `normalize.less` sets `[hidden] { display: none; }` but bootstrap.min.css set `[hidden] { display: none !important; }` so we also need the `!important` here to be able to override the default hidden behavior on the sphinx rendered scikit-learn.org. See: https://github.com/scikit-learn/scikit-learn/issues/21755 */display: inline-block !important;position: relative;}#sk-container-id-6 div.sk-text-repr-fallback {display: none;}</style><div id=\"sk-container-id-6\" class=\"sk-top-container\"><div class=\"sk-text-repr-fallback\"><pre>Ridge(alpha=1000000000000.0)</pre><b>In a Jupyter environment, please rerun this cell to show the HTML representation or trust the notebook. <br />On GitHub, the HTML representation is unable to render, please try loading this page with nbviewer.org.</b></div><div class=\"sk-container\" hidden><div class=\"sk-item\"><div class=\"sk-estimator sk-toggleable\"><input class=\"sk-toggleable__control sk-hidden--visually\" id=\"sk-estimator-id-6\" type=\"checkbox\" checked><label for=\"sk-estimator-id-6\" class=\"sk-toggleable__label sk-toggleable__label-arrow\">Ridge</label><div class=\"sk-toggleable__content\"><pre>Ridge(alpha=1000000000000.0)</pre></div></div></div></div></div>"
      ],
      "text/plain": [
       "Ridge(alpha=1000000000000.0)"
      ]
     },
     "execution_count": 60,
     "metadata": {},
     "output_type": "execute_result"
    }
   ],
   "source": [
    "## step1 --- toeic, gpa 만 남기고 나머지 변수를 삭제\n",
    "df_train, df_test = sklearn.model_selection.train_test_split(df,test_size=0.3,random_state=42)\n",
    "X = df_train.loc[:,'gpa':'toeic499']\n",
    "y = df_train.loc[:,'employment_score']\n",
    "XX = df_test.loc[:,'gpa':'toeic499']\n",
    "yy = df_test.loc[:,'employment_score']\n",
    "## step2\n",
    "predictr = sklearn.linear_model.Ridge(alpha=1e12) # alpha를 매우 큰 값으로.\n",
    "## step3 \n",
    "predictr.fit(X,y)\n",
    "## step4 -- pass "
   ]
  },
  {
   "cell_type": "code",
   "execution_count": 61,
   "metadata": {},
   "outputs": [
    {
     "name": "stdout",
     "output_type": "stream",
     "text": [
      "train_score=0.0191\n",
      "test_score=0.0140\n"
     ]
    }
   ],
   "source": [
    "print(f'train_score={predictr.score(X,y):.4f}')\n",
    "print(f'test_score={predictr.score(XX,yy):.4f}')"
   ]
  },
  {
   "cell_type": "code",
   "execution_count": 62,
   "metadata": {},
   "outputs": [
    {
     "data": {
      "text/plain": [
       "0.0001258531920489157"
      ]
     },
     "execution_count": 62,
     "metadata": {},
     "output_type": "execute_result"
    }
   ],
   "source": [
    "predictr.coef_[1:].sum() # 이 값이 0.01이어야 하는데, 많이 작아짐"
   ]
  },
  {
   "cell_type": "markdown",
   "metadata": {},
   "source": [
    "toeic coefficients의 합이 0.01근처로 나오지 않으면, 모형자체가 적합이 잘 안되기 때문에 각각의 계수들의 값이 똑같아질 수는 있지만, 전체적으로 0에 가까워짐. --> 즉, 알파값이 적당해야한다."
   ]
  }
 ],
 "metadata": {
  "kernelspec": {
   "display_name": "Python 3",
   "language": "python",
   "name": "python3"
  },
  "language_info": {
   "codemirror_mode": {
    "name": "ipython",
    "version": 3
   },
   "file_extension": ".py",
   "mimetype": "text/x-python",
   "name": "python",
   "nbconvert_exporter": "python",
   "pygments_lexer": "ipython3",
   "version": "3.8.16"
  }
 },
 "nbformat": 4,
 "nbformat_minor": 4
}
