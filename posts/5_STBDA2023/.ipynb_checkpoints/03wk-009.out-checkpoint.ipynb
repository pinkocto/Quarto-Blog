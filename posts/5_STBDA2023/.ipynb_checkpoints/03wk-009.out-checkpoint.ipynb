{
 "cells": [
  {
   "cell_type": "raw",
   "id": "f1bad972-0f9e-44fe-b05b-33d8cb629abf",
   "metadata": {},
   "source": [
    "---\n",
    "title: \"03wk-009: 아이스크림, 회귀분석\"\n",
    "author: \"JiyunLim\"\n",
    "date: \"09/21/2023\"\n",
    "bibliography: ref.bib\n",
    "---"
   ]
  },
  {
   "cell_type": "markdown",
   "id": "78b128e1-dcb3-4753-ae40-0458c7151508",
   "metadata": {},
   "source": [
    "\n",
    "# 1. 강의영상\n",
    "\n",
    "<https://youtu.be/playlist?list=PLQqh36zP38-zXz97SY6e8rSowprIvDS2a&si=Y8pI1Dyw2VaYeayc>\n",
    "\n",
    "# 2. Imports"
   ]
  },
  {
   "cell_type": "code",
   "execution_count": 1,
   "id": "070c4459-073e-4ba2-843b-976dd4d99ab2",
   "metadata": {},
   "outputs": [],
   "source": [
    "import numpy as np\n",
    "import pandas as pd\n",
    "import matplotlib.pyplot as plt\n",
    "import sklearn.linear_model"
   ]
  },
  {
   "cell_type": "markdown",
   "id": "93262ebc-119f-4b2f-8d95-b73f1f8842f4",
   "metadata": {},
   "source": [
    "# 3. Data\n",
    "\n",
    "`-` 전주시의 기온 불러오기"
   ]
  },
  {
   "cell_type": "code",
   "execution_count": 16,
   "id": "2fd1991f-ce75-455f-9bca-23e5b3085335",
   "metadata": {},
   "outputs": [
    {
     "data": {
      "text/html": [
       "<div>\n",
       "<style scoped>\n",
       "    .dataframe tbody tr th:only-of-type {\n",
       "        vertical-align: middle;\n",
       "    }\n",
       "\n",
       "    .dataframe tbody tr th {\n",
       "        vertical-align: top;\n",
       "    }\n",
       "\n",
       "    .dataframe thead th {\n",
       "        text-align: right;\n",
       "    }\n",
       "</style>\n",
       "<table border=\"1\" class=\"dataframe\">\n",
       "  <thead>\n",
       "    <tr style=\"text-align: right;\">\n",
       "      <th></th>\n",
       "      <th>지점번호</th>\n",
       "      <th>지점명</th>\n",
       "      <th>일시</th>\n",
       "      <th>평균기온(℃)</th>\n",
       "      <th>최고기온(℃)</th>\n",
       "      <th>최고기온시각</th>\n",
       "      <th>최저기온(℃)</th>\n",
       "    </tr>\n",
       "  </thead>\n",
       "  <tbody>\n",
       "    <tr>\n",
       "      <th>0</th>\n",
       "      <td>146</td>\n",
       "      <td>전주</td>\n",
       "      <td>2020-01-01</td>\n",
       "      <td>-0.5</td>\n",
       "      <td>4.3</td>\n",
       "      <td>15:09</td>\n",
       "      <td>-6.4</td>\n",
       "    </tr>\n",
       "    <tr>\n",
       "      <th>1</th>\n",
       "      <td>146</td>\n",
       "      <td>전주</td>\n",
       "      <td>2020-01-02</td>\n",
       "      <td>1.4</td>\n",
       "      <td>6.5</td>\n",
       "      <td>14:12</td>\n",
       "      <td>-3.0</td>\n",
       "    </tr>\n",
       "    <tr>\n",
       "      <th>2</th>\n",
       "      <td>146</td>\n",
       "      <td>전주</td>\n",
       "      <td>2020-01-03</td>\n",
       "      <td>2.6</td>\n",
       "      <td>7.6</td>\n",
       "      <td>13:32</td>\n",
       "      <td>-0.5</td>\n",
       "    </tr>\n",
       "    <tr>\n",
       "      <th>3</th>\n",
       "      <td>146</td>\n",
       "      <td>전주</td>\n",
       "      <td>2020-01-04</td>\n",
       "      <td>2.0</td>\n",
       "      <td>7.7</td>\n",
       "      <td>13:51</td>\n",
       "      <td>-2.6</td>\n",
       "    </tr>\n",
       "    <tr>\n",
       "      <th>4</th>\n",
       "      <td>146</td>\n",
       "      <td>전주</td>\n",
       "      <td>2020-01-05</td>\n",
       "      <td>2.5</td>\n",
       "      <td>8.6</td>\n",
       "      <td>14:05</td>\n",
       "      <td>-3.2</td>\n",
       "    </tr>\n",
       "  </tbody>\n",
       "</table>\n",
       "</div>"
      ],
      "text/plain": [
       "   지점번호 지점명          일시  평균기온(℃)  최고기온(℃) 최고기온시각  최저기온(℃)\n",
       "0   146  전주  2020-01-01     -0.5      4.3  15:09     -6.4\n",
       "1   146  전주  2020-01-02      1.4      6.5  14:12     -3.0\n",
       "2   146  전주  2020-01-03      2.6      7.6  13:32     -0.5\n",
       "3   146  전주  2020-01-04      2.0      7.7  13:51     -2.6\n",
       "4   146  전주  2020-01-05      2.5      8.6  14:05     -3.2"
      ]
     },
     "execution_count": 16,
     "metadata": {},
     "output_type": "execute_result"
    }
   ],
   "source": [
    "raw = pd.read_csv('https://raw.githubusercontent.com/guebin/DV2022/master/posts/temp.csv')\n",
    "raw.head()"
   ]
  },
  {
   "cell_type": "code",
   "execution_count": 17,
   "id": "e972d778-739b-417f-a6ab-7465486eaff0",
   "metadata": {},
   "outputs": [],
   "source": [
    "temp = pd.read_csv('https://raw.githubusercontent.com/guebin/DV2022/master/posts/temp.csv').iloc[:,3].to_numpy()[:100]\n",
    "temp.sort() # 가장 낮은기온 순으로 정렬."
   ]
  },
  {
   "cell_type": "code",
   "execution_count": 18,
   "id": "89c53a10-080e-4aab-918e-787f9ad05b4c",
   "metadata": {},
   "outputs": [
    {
     "data": {
      "text/plain": [
       "array([-4.1, -3.7, -3. , -1.3, -0.5, -0.3,  0.3,  0.4,  0.4,  0.7,  0.7,\n",
       "        0.9,  0.9,  1. ,  1.2,  1.4,  1.4,  1.5,  1.5,  2. ,  2. ,  2. ,\n",
       "        2.3,  2.5,  2.5,  2.5,  2.6,  2.6,  2.9,  3.2,  3.5,  3.5,  3.6,\n",
       "        3.7,  3.8,  4.2,  4.4,  4.5,  4.5,  4.6,  4.9,  4.9,  4.9,  5. ,\n",
       "        5. ,  5.1,  5.6,  5.9,  5.9,  6. ,  6. ,  6.1,  6.1,  6.3,  6.3,\n",
       "        6.4,  6.4,  6.5,  6.7,  6.8,  6.8,  7. ,  7. ,  7.1,  7.2,  7.4,\n",
       "        7.7,  8. ,  8.1,  8.1,  8.3,  8.4,  8.4,  8.4,  8.5,  8.8,  8.9,\n",
       "        9.1,  9.2,  9.3,  9.4,  9.4,  9.5,  9.6,  9.6,  9.7,  9.8,  9.9,\n",
       "       10.2, 10.3, 10.6, 10.6, 10.8, 11.2, 12.1, 12.4, 13.4, 14.7, 15. ,\n",
       "       15.2])"
      ]
     },
     "execution_count": 18,
     "metadata": {},
     "output_type": "execute_result"
    }
   ],
   "source": [
    "temp # 전주시의 기온, 100개"
   ]
  },
  {
   "cell_type": "markdown",
   "id": "d03a8915-642e-4c8e-b402-a9755c160a7a",
   "metadata": {},
   "source": [
    "`-` 아래와 같은 모형을 가정하자.\n",
    "\n",
    "$$\\textup{아이스크림 판매량} = 20 + \\textup{온도} \\times 2.5 + \\textup{오차(운)}$$"
   ]
  },
  {
   "cell_type": "code",
   "execution_count": 19,
   "id": "5f88b358-4a42-4cfb-851d-84c716681a96",
   "metadata": {},
   "outputs": [],
   "source": [
    "np.random.seed(43052)\n",
    "eps = np.random.randn(100)*3 # 오차\n",
    "icecream_sales = 20 + temp * 2.5 + eps "
   ]
  },
  {
   "cell_type": "code",
   "execution_count": 6,
   "id": "a5048834-319d-402a-b497-bee57547c6e7",
   "metadata": {},
   "outputs": [
    {
     "data": {
      "text/plain": [
       "[<matplotlib.lines.Line2D at 0x7f94d42628b0>]"
      ]
     },
     "execution_count": 6,
     "metadata": {},
     "output_type": "execute_result"
    },
    {
     "data": {
      "image/png": "[encoded data removed]",
      "text/plain": [
       "<Figure size 432x288 with 1 Axes>"
      ]
     },
     "metadata": {
      "needs_background": "light"
     },
     "output_type": "display_data"
    }
   ],
   "source": [
    "plt.plot(temp,icecream_sales,'o')"
   ]
  },
  {
   "cell_type": "markdown",
   "id": "768d95f8-26da-40d3-b02f-fdad1e45c28d",
   "metadata": {},
   "source": [
    "> 실제로 저런 모형이 맞느냐? 모름.. (실제모형은 알게뭐임? 그렇게\n",
    "> 가정하면 된다.)\n",
    "\n",
    "`-` 주어진 자료: 우리는 아래를 관측했다고 생각하자."
   ]
  },
  {
   "cell_type": "code",
   "execution_count": 24,
   "id": "0ecedd6e-680f-4c48-8243-c5b1cf16a307",
   "metadata": {},
   "outputs": [
    {
     "data": {
      "text/html": [
       "<div>\n",
       "<style scoped>\n",
       "    .dataframe tbody tr th:only-of-type {\n",
       "        vertical-align: middle;\n",
       "    }\n",
       "\n",
       "    .dataframe tbody tr th {\n",
       "        vertical-align: top;\n",
       "    }\n",
       "\n",
       "    .dataframe thead th {\n",
       "        text-align: right;\n",
       "    }\n",
       "</style>\n",
       "<table border=\"1\" class=\"dataframe\">\n",
       "  <thead>\n",
       "    <tr style=\"text-align: right;\">\n",
       "      <th></th>\n",
       "      <th>temp</th>\n",
       "      <th>sales</th>\n",
       "    </tr>\n",
       "  </thead>\n",
       "  <tbody>\n",
       "    <tr>\n",
       "      <th>0</th>\n",
       "      <td>-4.1</td>\n",
       "      <td>10.900261</td>\n",
       "    </tr>\n",
       "    <tr>\n",
       "      <th>1</th>\n",
       "      <td>-3.7</td>\n",
       "      <td>14.002524</td>\n",
       "    </tr>\n",
       "    <tr>\n",
       "      <th>2</th>\n",
       "      <td>-3.0</td>\n",
       "      <td>15.928335</td>\n",
       "    </tr>\n",
       "    <tr>\n",
       "      <th>3</th>\n",
       "      <td>-1.3</td>\n",
       "      <td>17.673681</td>\n",
       "    </tr>\n",
       "    <tr>\n",
       "      <th>4</th>\n",
       "      <td>-0.5</td>\n",
       "      <td>19.463362</td>\n",
       "    </tr>\n",
       "    <tr>\n",
       "      <th>...</th>\n",
       "      <td>...</td>\n",
       "      <td>...</td>\n",
       "    </tr>\n",
       "    <tr>\n",
       "      <th>95</th>\n",
       "      <td>12.4</td>\n",
       "      <td>54.926065</td>\n",
       "    </tr>\n",
       "    <tr>\n",
       "      <th>96</th>\n",
       "      <td>13.4</td>\n",
       "      <td>54.716129</td>\n",
       "    </tr>\n",
       "    <tr>\n",
       "      <th>97</th>\n",
       "      <td>14.7</td>\n",
       "      <td>56.194791</td>\n",
       "    </tr>\n",
       "    <tr>\n",
       "      <th>98</th>\n",
       "      <td>15.0</td>\n",
       "      <td>60.666163</td>\n",
       "    </tr>\n",
       "    <tr>\n",
       "      <th>99</th>\n",
       "      <td>15.2</td>\n",
       "      <td>61.561043</td>\n",
       "    </tr>\n",
       "  </tbody>\n",
       "</table>\n",
       "<p>100 rows × 2 columns</p>\n",
       "</div>"
      ],
      "text/plain": [
       "    temp      sales\n",
       "0   -4.1  10.900261\n",
       "1   -3.7  14.002524\n",
       "2   -3.0  15.928335\n",
       "3   -1.3  17.673681\n",
       "4   -0.5  19.463362\n",
       "..   ...        ...\n",
       "95  12.4  54.926065\n",
       "96  13.4  54.716129\n",
       "97  14.7  56.194791\n",
       "98  15.0  60.666163\n",
       "99  15.2  61.561043\n",
       "\n",
       "[100 rows x 2 columns]"
      ]
     },
     "execution_count": 24,
     "metadata": {},
     "output_type": "execute_result"
    }
   ],
   "source": [
    "df = pd.DataFrame({'temp':temp,'sales':icecream_sales})\n",
    "df"
   ]
  },
  {
   "cell_type": "markdown",
   "id": "4147ef0b-d396-4e8c-95d6-08169e1c8aae",
   "metadata": {},
   "source": [
    "# 4. 게임셋팅\n",
    "\n",
    "`-` 주어진 자료는 아래와 같다."
   ]
  },
  {
   "cell_type": "code",
   "execution_count": 25,
   "id": "b1bf0e44-5ba6-49ae-91b3-898ee1106bcf",
   "metadata": {},
   "outputs": [
    {
     "data": {
      "text/html": [
       "<div>\n",
       "<style scoped>\n",
       "    .dataframe tbody tr th:only-of-type {\n",
       "        vertical-align: middle;\n",
       "    }\n",
       "\n",
       "    .dataframe tbody tr th {\n",
       "        vertical-align: top;\n",
       "    }\n",
       "\n",
       "    .dataframe thead th {\n",
       "        text-align: right;\n",
       "    }\n",
       "</style>\n",
       "<table border=\"1\" class=\"dataframe\">\n",
       "  <thead>\n",
       "    <tr style=\"text-align: right;\">\n",
       "      <th></th>\n",
       "      <th>temp</th>\n",
       "      <th>sales</th>\n",
       "    </tr>\n",
       "  </thead>\n",
       "  <tbody>\n",
       "    <tr>\n",
       "      <th>0</th>\n",
       "      <td>-4.1</td>\n",
       "      <td>10.900261</td>\n",
       "    </tr>\n",
       "    <tr>\n",
       "      <th>1</th>\n",
       "      <td>-3.7</td>\n",
       "      <td>14.002524</td>\n",
       "    </tr>\n",
       "    <tr>\n",
       "      <th>2</th>\n",
       "      <td>-3.0</td>\n",
       "      <td>15.928335</td>\n",
       "    </tr>\n",
       "    <tr>\n",
       "      <th>3</th>\n",
       "      <td>-1.3</td>\n",
       "      <td>17.673681</td>\n",
       "    </tr>\n",
       "    <tr>\n",
       "      <th>4</th>\n",
       "      <td>-0.5</td>\n",
       "      <td>19.463362</td>\n",
       "    </tr>\n",
       "    <tr>\n",
       "      <th>...</th>\n",
       "      <td>...</td>\n",
       "      <td>...</td>\n",
       "    </tr>\n",
       "    <tr>\n",
       "      <th>95</th>\n",
       "      <td>12.4</td>\n",
       "      <td>54.926065</td>\n",
       "    </tr>\n",
       "    <tr>\n",
       "      <th>96</th>\n",
       "      <td>13.4</td>\n",
       "      <td>54.716129</td>\n",
       "    </tr>\n",
       "    <tr>\n",
       "      <th>97</th>\n",
       "      <td>14.7</td>\n",
       "      <td>56.194791</td>\n",
       "    </tr>\n",
       "    <tr>\n",
       "      <th>98</th>\n",
       "      <td>15.0</td>\n",
       "      <td>60.666163</td>\n",
       "    </tr>\n",
       "    <tr>\n",
       "      <th>99</th>\n",
       "      <td>15.2</td>\n",
       "      <td>61.561043</td>\n",
       "    </tr>\n",
       "  </tbody>\n",
       "</table>\n",
       "<p>100 rows × 2 columns</p>\n",
       "</div>"
      ],
      "text/plain": [
       "    temp      sales\n",
       "0   -4.1  10.900261\n",
       "1   -3.7  14.002524\n",
       "2   -3.0  15.928335\n",
       "3   -1.3  17.673681\n",
       "4   -0.5  19.463362\n",
       "..   ...        ...\n",
       "95  12.4  54.926065\n",
       "96  13.4  54.716129\n",
       "97  14.7  56.194791\n",
       "98  15.0  60.666163\n",
       "99  15.2  61.561043\n",
       "\n",
       "[100 rows x 2 columns]"
      ]
     },
     "execution_count": 25,
     "metadata": {},
     "output_type": "execute_result"
    }
   ],
   "source": [
    "df"
   ]
  },
  {
   "cell_type": "markdown",
   "id": "795ea803-7968-4f18-8480-b255fecaa210",
   "metadata": {},
   "source": [
    "`-` 편의상 아래와 같은 기호를 도입하자.\n",
    "\n",
    "-   (`df.temp[0]`, `df.temp[1]`, … , `df.temp[99]`) =\n",
    "    $(x_1,x_2,\\dots,x_{100})=(-4.1,-3.7,\\dots,15.2)$\n",
    "-   (`df.sales[0]`, `df.sales[1]`, … , `df.sales[99]`) =\n",
    "    $(y_1,y_2,\\dots,y_{100})=(10.90,14.00, \\dots,61.56)$\n",
    "\n",
    "`-` 우리는 이 자료 $\\big\\{(x_i,y_i)\\big\\}_{i=1}^{100}$ 를 바탕으로\n",
    "어떠한 “패턴”을 발견하여 새로운 $x$에 대한 예측값을 알고 싶다.\n",
    "\n",
    "## A. 질문\n",
    "\n",
    "`-` 질문: 기온이 $x=-2.0$ 일 때 아이스크림을 얼마정도 판다고 보는게\n",
    "타당할까?\n",
    "\n",
    "## B. 답1\n",
    "\n",
    "`-` $x=-2.0$ 근처의 데이터를 살펴보자."
   ]
  },
  {
   "cell_type": "code",
   "execution_count": 30,
   "id": "aeb5adad-3d17-4b57-8058-68e19abc0acc",
   "metadata": {},
   "outputs": [
    {
     "data": {
      "text/html": [
       "<div>\n",
       "<style scoped>\n",
       "    .dataframe tbody tr th:only-of-type {\n",
       "        vertical-align: middle;\n",
       "    }\n",
       "\n",
       "    .dataframe tbody tr th {\n",
       "        vertical-align: top;\n",
       "    }\n",
       "\n",
       "    .dataframe thead th {\n",
       "        text-align: right;\n",
       "    }\n",
       "</style>\n",
       "<table border=\"1\" class=\"dataframe\">\n",
       "  <thead>\n",
       "    <tr style=\"text-align: right;\">\n",
       "      <th></th>\n",
       "      <th>temp</th>\n",
       "      <th>sales</th>\n",
       "    </tr>\n",
       "  </thead>\n",
       "  <tbody>\n",
       "    <tr>\n",
       "      <th>3</th>\n",
       "      <td>-1.3</td>\n",
       "      <td>17.673681</td>\n",
       "    </tr>\n",
       "  </tbody>\n",
       "</table>\n",
       "</div>"
      ],
      "text/plain": [
       "   temp      sales\n",
       "3  -1.3  17.673681"
      ]
     },
     "execution_count": 30,
     "metadata": {},
     "output_type": "execute_result"
    }
   ],
   "source": [
    "df[(-3.0 < df.temp) & (df.temp < -1.0)]"
   ]
  },
  {
   "cell_type": "markdown",
   "id": "00a38ece-641c-4488-864f-94101ae1dd12",
   "metadata": {},
   "source": [
    "대충 17.67 근처이지 않을까?..\n",
    "\n",
    "## C. 답2\n",
    "\n",
    "`-` 자료를 바탕으로 그림을 그려보자."
   ]
  },
  {
   "cell_type": "code",
   "execution_count": 34,
   "id": "d2e84aae-6d17-4dcd-8251-65e5d192ae96",
   "metadata": {},
   "outputs": [
    {
     "data": {
      "text/plain": [
       "[<matplotlib.lines.Line2D at 0x7f94d31fb8e0>]"
      ]
     },
     "execution_count": 34,
     "metadata": {},
     "output_type": "execute_result"
    },
    {
     "data": {
      "image/png": "[encoded data removed]",
      "text/plain": [
       "<Figure size 432x288 with 1 Axes>"
      ]
     },
     "metadata": {
      "needs_background": "light"
     },
     "output_type": "display_data"
    }
   ],
   "source": [
    "plt.plot(df.temp,df.sales,'o')\n",
    "plt.plot([-2.0],[17.67],'x')"
   ]
  },
  {
   "cell_type": "markdown",
   "id": "f66c042d-fe85-4a5d-b3ba-99672e584d1e",
   "metadata": {},
   "source": [
    "-   저거 보다 못팔 것 같은데?"
   ]
  },
  {
   "cell_type": "markdown",
   "id": "a9768d22-5c3d-4e29-88eb-dcd80c06d2ba",
   "metadata": {},
   "source": [
    "## D. 아이디어\n",
    "\n",
    "`-` 선을 기가 막히게 그어서 추세선을 만들고, 그 추세선 위의 점으로\n",
    "예측하자.\n",
    "\n",
    "`-` 속마음: 사실 추세선을 알고 있긴함"
   ]
  },
  {
   "cell_type": "code",
   "execution_count": 37,
   "id": "f1074b95-71d1-466a-bbdd-55540c12beb5",
   "metadata": {},
   "outputs": [
    {
     "data": {
      "text/plain": [
       "[<matplotlib.lines.Line2D at 0x7f94d3086b80>]"
      ]
     },
     "execution_count": 37,
     "metadata": {},
     "output_type": "execute_result"
    },
    {
     "data": {
      "image/png": "[encoded data removed]",
      "text/plain": [
       "<Figure size 432x288 with 1 Axes>"
      ]
     },
     "metadata": {
      "needs_background": "light"
     },
     "output_type": "display_data"
    }
   ],
   "source": [
    "plt.plot(df.temp,df.sales,'o')\n",
    "plt.plot(df.temp,20+df.temp*2.5,'--')"
   ]
  },
  {
   "cell_type": "markdown",
   "id": "ce5de5fe-e566-4245-8711-6ab3341f235e",
   "metadata": {},
   "source": [
    "`-` 사실 $y=20+2.5x$ 라는 추세선을 그으면 된다는 것을 알고 있다.\n",
    "\n",
    "`-` 그래서 $x=-2$ 이라면 $y=20-2.5\\times 2=15$ 라고 보는게 합리적임.\n",
    "(물론 오차가 있을 수 있지만 그건 운이므로 어쩔수 없는것임, 랜덤으로 뭐가\n",
    "나올지까지 맞출 수는 없음[1])\n",
    "\n",
    "`-` 그렇지만 우리는 사실 $20, 2.5$ 라는 숫자를 모른다. (이 숫자만 안다면\n",
    "임의의 $x$에 대한 $y$값을 알 수 있을 텐데…)\n",
    "\n",
    "`-` 게임셋팅\n",
    "\n",
    "-   원래게임: 임의의 $x$에 대하여 합리적인 $y$를 잘 찾는 게임\n",
    "-   변형된게임: $20,2.5$ 라는 숫자를 잘 찾는 게임, 즉 데이터를 보고\n",
    "    최대한 $y_i \\approx ax_i+b$ 이 되도록 $a,b$를 잘 선택하는 게임\n"
   ]
  },
  {
   "cell_type": "markdown",
   "id": "90288f3f-590e-4015-bc2b-8e8d6364c719",
   "metadata": {},
   "source": [
    "# 5. 분석"
   ]
  },
  {
   "cell_type": "markdown",
   "id": "aefbbddf-187b-4edb-bca9-27e9432cecfd",
   "metadata": {},
   "source": [
    "## A. 데이터\n",
    "\n",
    "`-` 변수 설정\n",
    "\n",
    "[1] 만약 그렇다면 랜덤이 아니겠지?"
   ]
  },
  {
   "cell_type": "code",
   "execution_count": 61,
   "id": "2db86951-040c-40b3-bcc0-9bc6ae3a971f",
   "metadata": {},
   "outputs": [],
   "source": [
    "X = df[['temp']] # 독립변수, 설명변수, 피쳐\n",
    "y = df[['sales']] # 종속변수, 반응변수, 타겟 "
   ]
  },
  {
   "cell_type": "code",
   "execution_count": 62,
   "id": "2ee009bc-977b-473d-8a80-4c35c31c3143",
   "metadata": {},
   "outputs": [
    {
     "data": {
      "text/plain": [
       "[<matplotlib.lines.Line2D at 0x7f94af977e80>]"
      ]
     },
     "execution_count": 62,
     "metadata": {},
     "output_type": "execute_result"
    },
    {
     "data": {
      "image/png": "[encoded data removed]",
      "text/plain": [
       "<Figure size 432x288 with 1 Axes>"
      ]
     },
     "metadata": {
      "needs_background": "light"
     },
     "output_type": "display_data"
    }
   ],
   "source": [
    "plt.plot(X,y,'o')"
   ]
  },
  {
   "cell_type": "markdown",
   "id": "eb768070-f765-4752-892c-9d8c7cb14d4b",
   "metadata": {},
   "source": [
    "`-` 질문: 기온이 $x=-2.0$ 일 때 아이스크림을 얼마정도 판다고 보는게\n",
    "타당할까?"
   ]
  },
  {
   "cell_type": "code",
   "execution_count": 63,
   "id": "78e043c1-173a-47a5-afb3-56a43bee8d4a",
   "metadata": {},
   "outputs": [
    {
     "data": {
      "text/html": [
       "<div>\n",
       "<style scoped>\n",
       "    .dataframe tbody tr th:only-of-type {\n",
       "        vertical-align: middle;\n",
       "    }\n",
       "\n",
       "    .dataframe tbody tr th {\n",
       "        vertical-align: top;\n",
       "    }\n",
       "\n",
       "    .dataframe thead th {\n",
       "        text-align: right;\n",
       "    }\n",
       "</style>\n",
       "<table border=\"1\" class=\"dataframe\">\n",
       "  <thead>\n",
       "    <tr style=\"text-align: right;\">\n",
       "      <th></th>\n",
       "      <th>temp</th>\n",
       "      <th>sales</th>\n",
       "    </tr>\n",
       "  </thead>\n",
       "  <tbody>\n",
       "    <tr>\n",
       "      <th>3</th>\n",
       "      <td>-1.3</td>\n",
       "      <td>17.673681</td>\n",
       "    </tr>\n",
       "  </tbody>\n",
       "</table>\n",
       "</div>"
      ],
      "text/plain": [
       "   temp      sales\n",
       "3  -1.3  17.673681"
      ]
     },
     "execution_count": 63,
     "metadata": {},
     "output_type": "execute_result"
    }
   ],
   "source": [
    "df[(-3.0 < df.temp) & (df.temp < -1.0)]"
   ]
  },
  {
   "cell_type": "markdown",
   "id": "9f43c186-e5ee-44a1-a816-4e30773fcd25",
   "metadata": {},
   "source": [
    "`-` 답1: 대충 17.67 근처이지 않을까?..\n",
    "\n",
    "`-` 답2: 17.67 보다 작지 않을까?\n",
    "\n",
    "`-` 아이디어: 추세선을 그리고 거기서 예측해보면 어떨까?\n",
    "\n",
    "`-` 데이터를 학습하여 추세선을 적절히 그릴 수 있고, 그려진 추세선으로\n",
    "예측까지 해줄수 있는 아이(predictor)를 만들자."
   ]
  },
  {
   "cell_type": "markdown",
   "id": "5b0f6a3c-ea4a-45dc-aa31-1e7d87fd298b",
   "metadata": {},
   "source": [
    "## B. Predictor 생성"
   ]
  },
  {
   "cell_type": "code",
   "execution_count": 45,
   "id": "cd5b823f-9387-49ef-aac0-869e80292e9c",
   "metadata": {},
   "outputs": [
    {
     "data": {
      "text/html": [
       "<style>#sk-container-id-3 {color: black;background-color: white;}#sk-container-id-3 pre{padding: 0;}#sk-container-id-3 div.sk-toggleable {background-color: white;}#sk-container-id-3 label.sk-toggleable__label {cursor: pointer;display: block;width: 100%;margin-bottom: 0;padding: 0.3em;box-sizing: border-box;text-align: center;}#sk-container-id-3 label.sk-toggleable__label-arrow:before {content: \"▸\";float: left;margin-right: 0.25em;color: #696969;}#sk-container-id-3 label.sk-toggleable__label-arrow:hover:before {color: black;}#sk-container-id-3 div.sk-estimator:hover label.sk-toggleable__label-arrow:before {color: black;}#sk-container-id-3 div.sk-toggleable__content {max-height: 0;max-width: 0;overflow: hidden;text-align: left;background-color: #f0f8ff;}#sk-container-id-3 div.sk-toggleable__content pre {margin: 0.2em;color: black;border-radius: 0.25em;background-color: #f0f8ff;}#sk-container-id-3 input.sk-toggleable__control:checked~div.sk-toggleable__content {max-height: 200px;max-width: 100%;overflow: auto;}#sk-container-id-3 input.sk-toggleable__control:checked~label.sk-toggleable__label-arrow:before {content: \"▾\";}#sk-container-id-3 div.sk-estimator input.sk-toggleable__control:checked~label.sk-toggleable__label {background-color: #d4ebff;}#sk-container-id-3 div.sk-label input.sk-toggleable__control:checked~label.sk-toggleable__label {background-color: #d4ebff;}#sk-container-id-3 input.sk-hidden--visually {border: 0;clip: rect(1px 1px 1px 1px);clip: rect(1px, 1px, 1px, 1px);height: 1px;margin: -1px;overflow: hidden;padding: 0;position: absolute;width: 1px;}#sk-container-id-3 div.sk-estimator {font-family: monospace;background-color: #f0f8ff;border: 1px dotted black;border-radius: 0.25em;box-sizing: border-box;margin-bottom: 0.5em;}#sk-container-id-3 div.sk-estimator:hover {background-color: #d4ebff;}#sk-container-id-3 div.sk-parallel-item::after {content: \"\";width: 100%;border-bottom: 1px solid gray;flex-grow: 1;}#sk-container-id-3 div.sk-label:hover label.sk-toggleable__label {background-color: #d4ebff;}#sk-container-id-3 div.sk-serial::before {content: \"\";position: absolute;border-left: 1px solid gray;box-sizing: border-box;top: 0;bottom: 0;left: 50%;z-index: 0;}#sk-container-id-3 div.sk-serial {display: flex;flex-direction: column;align-items: center;background-color: white;padding-right: 0.2em;padding-left: 0.2em;position: relative;}#sk-container-id-3 div.sk-item {position: relative;z-index: 1;}#sk-container-id-3 div.sk-parallel {display: flex;align-items: stretch;justify-content: center;background-color: white;position: relative;}#sk-container-id-3 div.sk-item::before, #sk-container-id-3 div.sk-parallel-item::before {content: \"\";position: absolute;border-left: 1px solid gray;box-sizing: border-box;top: 0;bottom: 0;left: 50%;z-index: -1;}#sk-container-id-3 div.sk-parallel-item {display: flex;flex-direction: column;z-index: 1;position: relative;background-color: white;}#sk-container-id-3 div.sk-parallel-item:first-child::after {align-self: flex-end;width: 50%;}#sk-container-id-3 div.sk-parallel-item:last-child::after {align-self: flex-start;width: 50%;}#sk-container-id-3 div.sk-parallel-item:only-child::after {width: 0;}#sk-container-id-3 div.sk-dashed-wrapped {border: 1px dashed gray;margin: 0 0.4em 0.5em 0.4em;box-sizing: border-box;padding-bottom: 0.4em;background-color: white;}#sk-container-id-3 div.sk-label label {font-family: monospace;font-weight: bold;display: inline-block;line-height: 1.2em;}#sk-container-id-3 div.sk-label-container {text-align: center;}#sk-container-id-3 div.sk-container {/* jupyter's `normalize.less` sets `[hidden] { display: none; }` but bootstrap.min.css set `[hidden] { display: none !important; }` so we also need the `!important` here to be able to override the default hidden behavior on the sphinx rendered scikit-learn.org. See: https://github.com/scikit-learn/scikit-learn/issues/21755 */display: inline-block !important;position: relative;}#sk-container-id-3 div.sk-text-repr-fallback {display: none;}</style><div id=\"sk-container-id-3\" class=\"sk-top-container\"><div class=\"sk-text-repr-fallback\"><pre>LinearRegression()</pre><b>In a Jupyter environment, please rerun this cell to show the HTML representation or trust the notebook. <br />On GitHub, the HTML representation is unable to render, please try loading this page with nbviewer.org.</b></div><div class=\"sk-container\" hidden><div class=\"sk-item\"><div class=\"sk-estimator sk-toggleable\"><input class=\"sk-toggleable__control sk-hidden--visually\" id=\"sk-estimator-id-3\" type=\"checkbox\" checked><label for=\"sk-estimator-id-3\" class=\"sk-toggleable__label sk-toggleable__label-arrow\">LinearRegression</label><div class=\"sk-toggleable__content\"><pre>LinearRegression()</pre></div></div></div></div></div>"
      ],
      "text/plain": [
       "LinearRegression()"
      ]
     },
     "execution_count": 45,
     "metadata": {},
     "output_type": "execute_result"
    }
   ],
   "source": [
    "predictr = sklearn.linear_model.LinearRegression() \n",
    "predictr "
   ]
  },
  {
   "cell_type": "markdown",
   "id": "1fb30583-3a91-4be5-8c67-697108963457",
   "metadata": {},
   "source": [
    "-   linear regression 이라는 방법으로 추세선을 만들고 예측하는\n",
    "    아이(predictor)를 만드는 코드\n",
    "\n",
    "## C. 학습 (fit, learn)"
   ]
  },
  {
   "cell_type": "code",
   "execution_count": 66,
   "id": "f57be0b0-fb06-4314-bfff-4610586408fb",
   "metadata": {},
   "outputs": [
    {
     "data": {
      "text/html": [
       "<style>#sk-container-id-7 {color: black;background-color: white;}#sk-container-id-7 pre{padding: 0;}#sk-container-id-7 div.sk-toggleable {background-color: white;}#sk-container-id-7 label.sk-toggleable__label {cursor: pointer;display: block;width: 100%;margin-bottom: 0;padding: 0.3em;box-sizing: border-box;text-align: center;}#sk-container-id-7 label.sk-toggleable__label-arrow:before {content: \"▸\";float: left;margin-right: 0.25em;color: #696969;}#sk-container-id-7 label.sk-toggleable__label-arrow:hover:before {color: black;}#sk-container-id-7 div.sk-estimator:hover label.sk-toggleable__label-arrow:before {color: black;}#sk-container-id-7 div.sk-toggleable__content {max-height: 0;max-width: 0;overflow: hidden;text-align: left;background-color: #f0f8ff;}#sk-container-id-7 div.sk-toggleable__content pre {margin: 0.2em;color: black;border-radius: 0.25em;background-color: #f0f8ff;}#sk-container-id-7 input.sk-toggleable__control:checked~div.sk-toggleable__content {max-height: 200px;max-width: 100%;overflow: auto;}#sk-container-id-7 input.sk-toggleable__control:checked~label.sk-toggleable__label-arrow:before {content: \"▾\";}#sk-container-id-7 div.sk-estimator input.sk-toggleable__control:checked~label.sk-toggleable__label {background-color: #d4ebff;}#sk-container-id-7 div.sk-label input.sk-toggleable__control:checked~label.sk-toggleable__label {background-color: #d4ebff;}#sk-container-id-7 input.sk-hidden--visually {border: 0;clip: rect(1px 1px 1px 1px);clip: rect(1px, 1px, 1px, 1px);height: 1px;margin: -1px;overflow: hidden;padding: 0;position: absolute;width: 1px;}#sk-container-id-7 div.sk-estimator {font-family: monospace;background-color: #f0f8ff;border: 1px dotted black;border-radius: 0.25em;box-sizing: border-box;margin-bottom: 0.5em;}#sk-container-id-7 div.sk-estimator:hover {background-color: #d4ebff;}#sk-container-id-7 div.sk-parallel-item::after {content: \"\";width: 100%;border-bottom: 1px solid gray;flex-grow: 1;}#sk-container-id-7 div.sk-label:hover label.sk-toggleable__label {background-color: #d4ebff;}#sk-container-id-7 div.sk-serial::before {content: \"\";position: absolute;border-left: 1px solid gray;box-sizing: border-box;top: 0;bottom: 0;left: 50%;z-index: 0;}#sk-container-id-7 div.sk-serial {display: flex;flex-direction: column;align-items: center;background-color: white;padding-right: 0.2em;padding-left: 0.2em;position: relative;}#sk-container-id-7 div.sk-item {position: relative;z-index: 1;}#sk-container-id-7 div.sk-parallel {display: flex;align-items: stretch;justify-content: center;background-color: white;position: relative;}#sk-container-id-7 div.sk-item::before, #sk-container-id-7 div.sk-parallel-item::before {content: \"\";position: absolute;border-left: 1px solid gray;box-sizing: border-box;top: 0;bottom: 0;left: 50%;z-index: -1;}#sk-container-id-7 div.sk-parallel-item {display: flex;flex-direction: column;z-index: 1;position: relative;background-color: white;}#sk-container-id-7 div.sk-parallel-item:first-child::after {align-self: flex-end;width: 50%;}#sk-container-id-7 div.sk-parallel-item:last-child::after {align-self: flex-start;width: 50%;}#sk-container-id-7 div.sk-parallel-item:only-child::after {width: 0;}#sk-container-id-7 div.sk-dashed-wrapped {border: 1px dashed gray;margin: 0 0.4em 0.5em 0.4em;box-sizing: border-box;padding-bottom: 0.4em;background-color: white;}#sk-container-id-7 div.sk-label label {font-family: monospace;font-weight: bold;display: inline-block;line-height: 1.2em;}#sk-container-id-7 div.sk-label-container {text-align: center;}#sk-container-id-7 div.sk-container {/* jupyter's `normalize.less` sets `[hidden] { display: none; }` but bootstrap.min.css set `[hidden] { display: none !important; }` so we also need the `!important` here to be able to override the default hidden behavior on the sphinx rendered scikit-learn.org. See: https://github.com/scikit-learn/scikit-learn/issues/21755 */display: inline-block !important;position: relative;}#sk-container-id-7 div.sk-text-repr-fallback {display: none;}</style><div id=\"sk-container-id-7\" class=\"sk-top-container\"><div class=\"sk-text-repr-fallback\"><pre>LinearRegression()</pre><b>In a Jupyter environment, please rerun this cell to show the HTML representation or trust the notebook. <br />On GitHub, the HTML representation is unable to render, please try loading this page with nbviewer.org.</b></div><div class=\"sk-container\" hidden><div class=\"sk-item\"><div class=\"sk-estimator sk-toggleable\"><input class=\"sk-toggleable__control sk-hidden--visually\" id=\"sk-estimator-id-7\" type=\"checkbox\" checked><label for=\"sk-estimator-id-7\" class=\"sk-toggleable__label sk-toggleable__label-arrow\">LinearRegression</label><div class=\"sk-toggleable__content\"><pre>LinearRegression()</pre></div></div></div></div></div>"
      ],
      "text/plain": [
       "LinearRegression()"
      ]
     },
     "execution_count": 66,
     "metadata": {},
     "output_type": "execute_result"
    }
   ],
   "source": [
    "predictr.fit(X,y)"
   ]
  },
  {
   "cell_type": "markdown",
   "id": "f39c38b3-446d-491b-b419-0df8dd632639",
   "metadata": {},
   "source": [
    "## D. 예측 (predict)\n",
    "\n",
    "`-` Predictor: 데이터를 살펴보니 원래 true는 이럴것 같아요"
   ]
  },
  {
   "cell_type": "code",
   "execution_count": 67,
   "id": "7bfc77e2-2061-405c-92b6-69bcd309ddc1",
   "metadata": {},
   "outputs": [],
   "source": [
    "yhat = predictr.predict(X)"
   ]
  },
  {
   "cell_type": "code",
   "execution_count": 68,
   "id": "3433b0f2-b5cf-493c-bbdc-d0eb73fb368a",
   "metadata": {},
   "outputs": [
    {
     "data": {
      "text/plain": [
       "[<matplotlib.lines.Line2D at 0x7f94afcd09a0>]"
      ]
     },
     "execution_count": 68,
     "metadata": {},
     "output_type": "execute_result"
    },
    {
     "data": {
      "image/png": "[encoded data removed]",
      "text/plain": [
       "<Figure size 432x288 with 1 Axes>"
      ]
     },
     "metadata": {
      "needs_background": "light"
     },
     "output_type": "display_data"
    }
   ],
   "source": [
    "plt.plot(X,y,'o',alpha=0.5)\n",
    "plt.plot(X,yhat, 'o--',alpha=0.5)"
   ]
  },
  {
   "cell_type": "markdown",
   "id": "ea4b085c-0e58-4833-8f37-3c33d1ad9587",
   "metadata": {},
   "source": [
    "`-` 최규빈: 저런 추세선을 그었다면, $y=ax+b$ 꼴의 식에서 $a$, $b$를\n",
    "적당한 값으로 찾았다는 의미인데, 그 값은 어디있지?\n",
    "\n",
    "`-` Predictor: 아래에 있어요"
   ]
  },
  {
   "cell_type": "code",
   "execution_count": 69,
   "id": "08e9a4c2-8404-4207-8d1c-5d9ba7d84716",
   "metadata": {},
   "outputs": [],
   "source": [
    "a = predictr.coef_,\n",
    "b = predictr.intercept_"
   ]
  },
  {
   "cell_type": "code",
   "execution_count": 70,
   "id": "cfc0eab4-bbd5-46a5-ad23-c056a44a9de6",
   "metadata": {},
   "outputs": [
    {
     "data": {
      "text/plain": [
       "((array([[2.51561216]]),), array([19.66713127]))"
      ]
     },
     "execution_count": 70,
     "metadata": {},
     "output_type": "execute_result"
    }
   ],
   "source": [
    "a,b"
   ]
  },
  {
   "cell_type": "markdown",
   "id": "f65e0270-bd13-45c2-83fe-df73b366f800",
   "metadata": {},
   "source": [
    "`-` 최규빈: 확인해보자.."
   ]
  },
  {
   "cell_type": "code",
   "execution_count": 71,
   "id": "254520a2-25c2-4374-93cd-6f91231d33b7",
   "metadata": {},
   "outputs": [
    {
     "data": {
      "text/plain": [
       "(0     9.353121\n",
       " 1    10.359366\n",
       " 2    12.120295\n",
       " 3    16.396835\n",
       " 4    18.409325\n",
       " Name: temp, dtype: float64,\n",
       " array([[ 9.35312141],\n",
       "        [10.35936628],\n",
       "        [12.12029479],\n",
       "        [16.39683546],\n",
       "        [18.40932519]]))"
      ]
     },
     "execution_count": 71,
     "metadata": {},
     "output_type": "execute_result"
    }
   ],
   "source": [
    "(df.temp * 2.51561216 + 19.66713127)[:5], yhat[:5]"
   ]
  },
  {
   "cell_type": "markdown",
   "id": "6b3a142a-1685-405d-bbbe-b5346965f3b3",
   "metadata": {},
   "source": [
    "`-` 새로운 데이터 $x=-2$ 에 대한 예측 (1) – 수식위주로"
   ]
  },
  {
   "cell_type": "code",
   "execution_count": 72,
   "id": "eee59833-cc97-4fd1-99b6-79cca720a67a",
   "metadata": {},
   "outputs": [
    {
     "data": {
      "text/plain": [
       "14.635906949999999"
      ]
     },
     "execution_count": 72,
     "metadata": {},
     "output_type": "execute_result"
    }
   ],
   "source": [
    "2.51561216*(-2) + 19.66713127"
   ]
  },
  {
   "cell_type": "code",
   "execution_count": 73,
   "id": "65ab5173-e47a-4e0d-a790-7add0a11027f",
   "metadata": {},
   "outputs": [
    {
     "data": {
      "text/plain": [
       "[<matplotlib.lines.Line2D at 0x7f94c9e6d640>]"
      ]
     },
     "execution_count": 73,
     "metadata": {},
     "output_type": "execute_result"
    },
    {
     "data": {
      "image/png": "[encoded data removed]",
      "text/plain": [
       "<Figure size 432x288 with 1 Axes>"
      ]
     },
     "metadata": {
      "needs_background": "light"
     },
     "output_type": "display_data"
    }
   ],
   "source": [
    "plt.plot(X,y,'o',alpha=0.5)\n",
    "plt.plot(X,yhat,'--',alpha=0.5)\n",
    "plt.plot([-2],[14.635906949999999],'xr') # -2에 대한 예측"
   ]
  },
  {
   "cell_type": "markdown",
   "id": "7eee181c-d12c-4f0f-9a4f-632dfadb9dfd",
   "metadata": {},
   "source": [
    "`-` 새로운 데이터 $x=-2$ 에 대한 예측 (2) – 코드위주로 ($\\star$)"
   ]
  },
  {
   "cell_type": "code",
   "execution_count": 74,
   "id": "3887c058-d300-4742-8b6c-b757bf248c91",
   "metadata": {},
   "outputs": [
    {
     "data": {
      "text/html": [
       "<div>\n",
       "<style scoped>\n",
       "    .dataframe tbody tr th:only-of-type {\n",
       "        vertical-align: middle;\n",
       "    }\n",
       "\n",
       "    .dataframe tbody tr th {\n",
       "        vertical-align: top;\n",
       "    }\n",
       "\n",
       "    .dataframe thead th {\n",
       "        text-align: right;\n",
       "    }\n",
       "</style>\n",
       "<table border=\"1\" class=\"dataframe\">\n",
       "  <thead>\n",
       "    <tr style=\"text-align: right;\">\n",
       "      <th></th>\n",
       "      <th>temp</th>\n",
       "    </tr>\n",
       "  </thead>\n",
       "  <tbody>\n",
       "    <tr>\n",
       "      <th>0</th>\n",
       "      <td>-2.0</td>\n",
       "    </tr>\n",
       "  </tbody>\n",
       "</table>\n",
       "</div>"
      ],
      "text/plain": [
       "   temp\n",
       "0  -2.0"
      ]
     },
     "execution_count": 74,
     "metadata": {},
     "output_type": "execute_result"
    }
   ],
   "source": [
    "Xnew = pd.DataFrame({'temp':[-2.0]})\n",
    "Xnew"
   ]
  },
  {
   "cell_type": "code",
   "execution_count": 75,
   "id": "73b2c1bc-9ddd-4f35-aa18-31d7217935db",
   "metadata": {},
   "outputs": [
    {
     "data": {
      "text/plain": [
       "array([[14.63590695]])"
      ]
     },
     "execution_count": 75,
     "metadata": {},
     "output_type": "execute_result"
    }
   ],
   "source": [
    "predictr.predict(Xnew)"
   ]
  },
  {
   "cell_type": "code",
   "execution_count": 76,
   "id": "1c4aebb0-9914-428f-af50-81b410da31dd",
   "metadata": {},
   "outputs": [
    {
     "data": {
      "text/plain": [
       "[<matplotlib.lines.Line2D at 0x7f94ca0c4040>]"
      ]
     },
     "execution_count": 76,
     "metadata": {},
     "output_type": "execute_result"
    },
    {
     "data": {
      "image/png": "[encoded data removed]",
      "text/plain": [
       "<Figure size 432x288 with 1 Axes>"
      ]
     },
     "metadata": {
      "needs_background": "light"
     },
     "output_type": "display_data"
    }
   ],
   "source": [
    "plt.plot(X,y,'o',alpha=0.5)\n",
    "plt.plot(X,yhat,'--',alpha=0.5)\n",
    "plt.plot(Xnew, predictr.predict(Xnew),'xr')"
   ]
  }
 ],
 "metadata": {
  "kernelspec": {
   "display_name": "Python 3",
   "language": "python",
   "name": "python3"
  },
  "language_info": {
   "codemirror_mode": {
    "name": "ipython",
    "version": 3
   },
   "file_extension": ".py",
   "mimetype": "text/x-python",
   "name": "python",
   "nbconvert_exporter": "python",
   "pygments_lexer": "ipython3",
   "version": "3.8.16"
  }
 },
 "nbformat": 4,
 "nbformat_minor": 5
}
