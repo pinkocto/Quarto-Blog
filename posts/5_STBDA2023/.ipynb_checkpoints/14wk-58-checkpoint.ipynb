{
 "cells": [
  {
   "cell_type": "raw",
   "id": "fc0ca40e-2cc8-4cf7-bc10-133a090d8046",
   "metadata": {},
   "source": [
    "---\n",
    "title: \"14wk-58: 전주시기온 / 시계열자료분석\"\n",
    "author: \"최규빈\"\n",
    "date: \"12/01/2023\"\n",
    "bibliography: ref.bib\n",
    "draft: false\n",
    "---"
   ]
  },
  {
   "cell_type": "markdown",
   "id": "8e6023b3-1c21-427f-a301-093da8ee5375",
   "metadata": {},
   "source": [
    "# 1. 강의영상 "
   ]
  },
  {
   "cell_type": "markdown",
   "id": "9c44d893-5c07-4292-9974-d32f7aa46dcd",
   "metadata": {},
   "source": [
    "{{<video https://youtu.be/playlist?list=PLQqh36zP38-yixln2XzbeNxBzE2ikvG_X&si=1Cuilc0uG53am6Cr >}}"
   ]
  },
  {
   "cell_type": "markdown",
   "id": "3548f66a-f0ac-43c6-a69d-cc7ec1befad2",
   "metadata": {},
   "source": [
    "# 2. Imports"
   ]
  },
  {
   "cell_type": "code",
   "execution_count": 1,
   "id": "80713e7c-c091-4a30-98eb-fd39569caa42",
   "metadata": {
    "tags": []
   },
   "outputs": [],
   "source": [
    "# !pip install autogluon.multimodal "
   ]
  },
  {
   "cell_type": "code",
   "execution_count": 2,
   "id": "ccbd6cdf-ad80-47c9-94ea-faac6aad8d4f",
   "metadata": {
    "tags": []
   },
   "outputs": [],
   "source": [
    "import numpy as np\n",
    "import pandas as pd\n",
    "import matplotlib.pyplot as plt\n",
    "#---#\n",
    "from autogluon.timeseries import TimeSeriesDataFrame, TimeSeriesPredictor\n",
    "#---#\n",
    "import os\n",
    "import warnings\n",
    "warnings.filterwarnings('ignore')"
   ]
  },
  {
   "cell_type": "markdown",
   "id": "d79195f8-3e6d-4737-8d33-8bd0c7844a5f",
   "metadata": {},
   "source": [
    "# 3. Data "
   ]
  },
  {
   "cell_type": "code",
   "execution_count": 3,
   "id": "f7f745a6-0c73-4260-b48a-1c546c8a28c5",
   "metadata": {
    "tags": []
   },
   "outputs": [],
   "source": [
    "df = pd.read_csv('https://raw.githubusercontent.com/guebin/DV2022/master/posts/temp.csv').iloc[:,2:4].set_axis(['date','temp'],axis=1).assign(date= lambda df: df.date.apply(pd.to_datetime))\n",
    "df_train = df[:580].assign(item_id = '평균기온')\n",
    "df_test = df[580:].assign(item_id = '평균기온')"
   ]
  },
  {
   "cell_type": "code",
   "execution_count": 4,
   "id": "e1d6d73f-6d9e-4ab8-88f0-2ffe7eb43f1e",
   "metadata": {
    "tags": []
   },
   "outputs": [
    {
     "data": {
      "text/html": [
       "<div>\n",
       "<style scoped>\n",
       "    .dataframe tbody tr th:only-of-type {\n",
       "        vertical-align: middle;\n",
       "    }\n",
       "\n",
       "    .dataframe tbody tr th {\n",
       "        vertical-align: top;\n",
       "    }\n",
       "\n",
       "    .dataframe thead th {\n",
       "        text-align: right;\n",
       "    }\n",
       "</style>\n",
       "<table border=\"1\" class=\"dataframe\">\n",
       "  <thead>\n",
       "    <tr style=\"text-align: right;\">\n",
       "      <th></th>\n",
       "      <th>date</th>\n",
       "      <th>temp</th>\n",
       "      <th>item_id</th>\n",
       "    </tr>\n",
       "  </thead>\n",
       "  <tbody>\n",
       "    <tr>\n",
       "      <th>0</th>\n",
       "      <td>2020-01-01</td>\n",
       "      <td>-0.5</td>\n",
       "      <td>평균기온</td>\n",
       "    </tr>\n",
       "    <tr>\n",
       "      <th>1</th>\n",
       "      <td>2020-01-02</td>\n",
       "      <td>1.4</td>\n",
       "      <td>평균기온</td>\n",
       "    </tr>\n",
       "    <tr>\n",
       "      <th>2</th>\n",
       "      <td>2020-01-03</td>\n",
       "      <td>2.6</td>\n",
       "      <td>평균기온</td>\n",
       "    </tr>\n",
       "    <tr>\n",
       "      <th>3</th>\n",
       "      <td>2020-01-04</td>\n",
       "      <td>2.0</td>\n",
       "      <td>평균기온</td>\n",
       "    </tr>\n",
       "    <tr>\n",
       "      <th>4</th>\n",
       "      <td>2020-01-05</td>\n",
       "      <td>2.5</td>\n",
       "      <td>평균기온</td>\n",
       "    </tr>\n",
       "  </tbody>\n",
       "</table>\n",
       "</div>"
      ],
      "text/plain": [
       "        date  temp item_id\n",
       "0 2020-01-01  -0.5    평균기온\n",
       "1 2020-01-02   1.4    평균기온\n",
       "2 2020-01-03   2.6    평균기온\n",
       "3 2020-01-04   2.0    평균기온\n",
       "4 2020-01-05   2.5    평균기온"
      ]
     },
     "metadata": {},
     "output_type": "display_data"
    },
    {
     "data": {
      "text/html": [
       "<div>\n",
       "<style scoped>\n",
       "    .dataframe tbody tr th:only-of-type {\n",
       "        vertical-align: middle;\n",
       "    }\n",
       "\n",
       "    .dataframe tbody tr th {\n",
       "        vertical-align: top;\n",
       "    }\n",
       "\n",
       "    .dataframe thead th {\n",
       "        text-align: right;\n",
       "    }\n",
       "</style>\n",
       "<table border=\"1\" class=\"dataframe\">\n",
       "  <thead>\n",
       "    <tr style=\"text-align: right;\">\n",
       "      <th></th>\n",
       "      <th>date</th>\n",
       "      <th>temp</th>\n",
       "      <th>item_id</th>\n",
       "    </tr>\n",
       "  </thead>\n",
       "  <tbody>\n",
       "    <tr>\n",
       "      <th>580</th>\n",
       "      <td>2021-08-03</td>\n",
       "      <td>27.5</td>\n",
       "      <td>평균기온</td>\n",
       "    </tr>\n",
       "    <tr>\n",
       "      <th>581</th>\n",
       "      <td>2021-08-04</td>\n",
       "      <td>28.7</td>\n",
       "      <td>평균기온</td>\n",
       "    </tr>\n",
       "    <tr>\n",
       "      <th>582</th>\n",
       "      <td>2021-08-05</td>\n",
       "      <td>28.6</td>\n",
       "      <td>평균기온</td>\n",
       "    </tr>\n",
       "    <tr>\n",
       "      <th>583</th>\n",
       "      <td>2021-08-06</td>\n",
       "      <td>28.1</td>\n",
       "      <td>평균기온</td>\n",
       "    </tr>\n",
       "    <tr>\n",
       "      <th>584</th>\n",
       "      <td>2021-08-07</td>\n",
       "      <td>27.6</td>\n",
       "      <td>평균기온</td>\n",
       "    </tr>\n",
       "  </tbody>\n",
       "</table>\n",
       "</div>"
      ],
      "text/plain": [
       "          date  temp item_id\n",
       "580 2021-08-03  27.5    평균기온\n",
       "581 2021-08-04  28.7    평균기온\n",
       "582 2021-08-05  28.6    평균기온\n",
       "583 2021-08-06  28.1    평균기온\n",
       "584 2021-08-07  27.6    평균기온"
      ]
     },
     "metadata": {},
     "output_type": "display_data"
    }
   ],
   "source": [
    "display(df_train.head())\n",
    "display(df_test.head())"
   ]
  },
  {
   "cell_type": "markdown",
   "id": "60d03277-196c-49f4-9e58-6f718e329c45",
   "metadata": {},
   "source": [
    "여기에서 세번째 칼럼은 오토글루온으로 시계열을 적합하기 위한 인덱스 역할을 함. "
   ]
  },
  {
   "cell_type": "code",
   "execution_count": 5,
   "id": "898aa826-a286-47ce-a5b0-f619b424df82",
   "metadata": {},
   "outputs": [
    {
     "data": {
      "text/plain": [
       "[<matplotlib.lines.Line2D at 0x7f4962b0e750>]"
      ]
     },
     "execution_count": 5,
     "metadata": {},
     "output_type": "execute_result"
    },
    {
     "data": {
      "image/png": "[encoded data removed]",
      "text/plain": [
       "<Figure size 640x480 with 1 Axes>"
      ]
     },
     "metadata": {},
     "output_type": "display_data"
    }
   ],
   "source": [
    "plt.plot(df_train.date,df_train.temp)\n",
    "plt.plot(df_test.date,df_test.temp)"
   ]
  },
  {
   "cell_type": "markdown",
   "id": "402fc1db-814a-4926-981f-52555e6b28ff",
   "metadata": {},
   "source": [
    "- Tabular 형태의 자료분석이 맵핑 \"X -> y\" 를 배우는 것이라면, 시계열(timeseries)형태의 자료분석은 맵핑 \"y과거 -> y미래\" 를 배우는 것이다. "
   ]
  },
  {
   "cell_type": "markdown",
   "id": "810fbb48-9ddf-432e-a47d-616bc37643b4",
   "metadata": {},
   "source": [
    "# 4. 시계열분석의 이해 "
   ]
  },
  {
   "cell_type": "markdown",
   "id": "399393f6-8c94-4d53-bb83-06cb8035e634",
   "metadata": {
    "tags": []
   },
   "source": [
    "`-` 개요: 오토글루온에서 tabular 자료의 분석과 timeseries 분석을 비교하면? \n",
    "\n",
    "- Tabular: `predictr.fit(df_trian)` / `predictr.predict(df_test)`\n",
    "- TimeSeries: `predictr.fit(ts_train)` / `predictr.predict(ts_train)` "
   ]
  },
  {
   "cell_type": "markdown",
   "id": "d7f2e2ca-7469-4986-9cc9-9e262c56812c",
   "metadata": {},
   "source": [
    "> 실제로 시계열자료에서 `df_test`는 주어지지 않음. "
   ]
  },
  {
   "cell_type": "markdown",
   "id": "472f0b5e-aef1-43a9-8c53-5b7578bcab95",
   "metadata": {},
   "source": [
    "`-` 오토글루온에서 분석가능한 시계열 자료의 형태 "
   ]
  },
  {
   "cell_type": "markdown",
   "id": "1ab0573b-5ae1-4677-a95a-0bde67a7a4be",
   "metadata": {},
   "source": [
    "**1. 하나의 시계열**"
   ]
  },
  {
   "cell_type": "code",
   "execution_count": 6,
   "id": "17276da8-2f1e-495a-93ed-2e9476cd42d9",
   "metadata": {
    "tags": []
   },
   "outputs": [
    {
     "data": {
      "text/html": [
       "<div>\n",
       "<style scoped>\n",
       "    .dataframe tbody tr th:only-of-type {\n",
       "        vertical-align: middle;\n",
       "    }\n",
       "\n",
       "    .dataframe tbody tr th {\n",
       "        vertical-align: top;\n",
       "    }\n",
       "\n",
       "    .dataframe thead th {\n",
       "        text-align: right;\n",
       "    }\n",
       "</style>\n",
       "<table border=\"1\" class=\"dataframe\">\n",
       "  <thead>\n",
       "    <tr style=\"text-align: right;\">\n",
       "      <th></th>\n",
       "      <th>시간</th>\n",
       "      <th>종목</th>\n",
       "      <th>주가</th>\n",
       "    </tr>\n",
       "  </thead>\n",
       "  <tbody>\n",
       "    <tr>\n",
       "      <th>0</th>\n",
       "      <td>2023-12-07</td>\n",
       "      <td>삼성전자</td>\n",
       "      <td>72600</td>\n",
       "    </tr>\n",
       "    <tr>\n",
       "      <th>1</th>\n",
       "      <td>2023-12-08</td>\n",
       "      <td>삼성전자</td>\n",
       "      <td>72800</td>\n",
       "    </tr>\n",
       "  </tbody>\n",
       "</table>\n",
       "</div>"
      ],
      "text/plain": [
       "           시간    종목     주가\n",
       "0  2023-12-07  삼성전자  72600\n",
       "1  2023-12-08  삼성전자  72800"
      ]
     },
     "execution_count": 6,
     "metadata": {},
     "output_type": "execute_result"
    }
   ],
   "source": [
    "df1 = pd.DataFrame({'시간':['2023-12-07','2023-12-08'], '종목':['삼성전자']*2, '주가':[72600, 72800]})\n",
    "df1"
   ]
  },
  {
   "cell_type": "code",
   "execution_count": 7,
   "id": "3276c22f-1ef2-4cf2-9eca-ab4bf0e32cac",
   "metadata": {
    "tags": []
   },
   "outputs": [
    {
     "data": {
      "text/html": [
       "<div>\n",
       "<style scoped>\n",
       "    .dataframe tbody tr th:only-of-type {\n",
       "        vertical-align: middle;\n",
       "    }\n",
       "\n",
       "    .dataframe tbody tr th {\n",
       "        vertical-align: top;\n",
       "    }\n",
       "\n",
       "    .dataframe thead th {\n",
       "        text-align: right;\n",
       "    }\n",
       "</style>\n",
       "<table border=\"1\" class=\"dataframe\">\n",
       "  <thead>\n",
       "    <tr style=\"text-align: right;\">\n",
       "      <th></th>\n",
       "      <th></th>\n",
       "      <th>주가</th>\n",
       "    </tr>\n",
       "    <tr>\n",
       "      <th>item_id</th>\n",
       "      <th>timestamp</th>\n",
       "      <th></th>\n",
       "    </tr>\n",
       "  </thead>\n",
       "  <tbody>\n",
       "    <tr>\n",
       "      <th rowspan=\"2\" valign=\"top\">삼성전자</th>\n",
       "      <th>2023-12-07</th>\n",
       "      <td>72600</td>\n",
       "    </tr>\n",
       "    <tr>\n",
       "      <th>2023-12-08</th>\n",
       "      <td>72800</td>\n",
       "    </tr>\n",
       "  </tbody>\n",
       "</table>\n",
       "</div>"
      ],
      "text/plain": [
       "                       주가\n",
       "item_id timestamp        \n",
       "삼성전자    2023-12-07  72600\n",
       "        2023-12-08  72800"
      ]
     },
     "execution_count": 7,
     "metadata": {},
     "output_type": "execute_result"
    }
   ],
   "source": [
    "ts1 = TimeSeriesDataFrame(\n",
    "    data = df1,\n",
    "    static_features = None, \n",
    "    id_column = '종목',\n",
    "    timestamp_column = '시간'\n",
    ")\n",
    "ts1"
   ]
  },
  {
   "cell_type": "markdown",
   "id": "e7b146dc-7450-4a1c-9591-195ec99268b1",
   "metadata": {},
   "source": [
    "**2. 여러개의 시계열**"
   ]
  },
  {
   "cell_type": "code",
   "execution_count": 8,
   "id": "f9c10671-65b7-4a9e-b0b8-d5197cbbf38e",
   "metadata": {
    "tags": []
   },
   "outputs": [
    {
     "data": {
      "text/html": [
       "<div>\n",
       "<style scoped>\n",
       "    .dataframe tbody tr th:only-of-type {\n",
       "        vertical-align: middle;\n",
       "    }\n",
       "\n",
       "    .dataframe tbody tr th {\n",
       "        vertical-align: top;\n",
       "    }\n",
       "\n",
       "    .dataframe thead th {\n",
       "        text-align: right;\n",
       "    }\n",
       "</style>\n",
       "<table border=\"1\" class=\"dataframe\">\n",
       "  <thead>\n",
       "    <tr style=\"text-align: right;\">\n",
       "      <th></th>\n",
       "      <th>시간</th>\n",
       "      <th>종목</th>\n",
       "      <th>주가</th>\n",
       "    </tr>\n",
       "  </thead>\n",
       "  <tbody>\n",
       "    <tr>\n",
       "      <th>0</th>\n",
       "      <td>2023-12-07</td>\n",
       "      <td>삼성전자</td>\n",
       "      <td>72600</td>\n",
       "    </tr>\n",
       "    <tr>\n",
       "      <th>1</th>\n",
       "      <td>2023-12-08</td>\n",
       "      <td>삼성전자</td>\n",
       "      <td>72800</td>\n",
       "    </tr>\n",
       "    <tr>\n",
       "      <th>2</th>\n",
       "      <td>2023-12-07</td>\n",
       "      <td>카카오</td>\n",
       "      <td>51700</td>\n",
       "    </tr>\n",
       "    <tr>\n",
       "      <th>3</th>\n",
       "      <td>2023-12-08</td>\n",
       "      <td>카카오</td>\n",
       "      <td>51600</td>\n",
       "    </tr>\n",
       "  </tbody>\n",
       "</table>\n",
       "</div>"
      ],
      "text/plain": [
       "           시간    종목     주가\n",
       "0  2023-12-07  삼성전자  72600\n",
       "1  2023-12-08  삼성전자  72800\n",
       "2  2023-12-07   카카오  51700\n",
       "3  2023-12-08   카카오  51600"
      ]
     },
     "execution_count": 8,
     "metadata": {},
     "output_type": "execute_result"
    }
   ],
   "source": [
    "df2 = pd.DataFrame({'시간':['2023-12-07','2023-12-08']*2, '종목':['삼성전자']*2+['카카오']*2, '주가':[72600, 72800, 51700, 51600]})\n",
    "df2"
   ]
  },
  {
   "cell_type": "code",
   "execution_count": 9,
   "id": "402e5ef8-5beb-4cd9-a6cc-120b0862d346",
   "metadata": {
    "tags": []
   },
   "outputs": [
    {
     "data": {
      "text/html": [
       "<div>\n",
       "<style scoped>\n",
       "    .dataframe tbody tr th:only-of-type {\n",
       "        vertical-align: middle;\n",
       "    }\n",
       "\n",
       "    .dataframe tbody tr th {\n",
       "        vertical-align: top;\n",
       "    }\n",
       "\n",
       "    .dataframe thead th {\n",
       "        text-align: right;\n",
       "    }\n",
       "</style>\n",
       "<table border=\"1\" class=\"dataframe\">\n",
       "  <thead>\n",
       "    <tr style=\"text-align: right;\">\n",
       "      <th></th>\n",
       "      <th></th>\n",
       "      <th>주가</th>\n",
       "    </tr>\n",
       "    <tr>\n",
       "      <th>item_id</th>\n",
       "      <th>timestamp</th>\n",
       "      <th></th>\n",
       "    </tr>\n",
       "  </thead>\n",
       "  <tbody>\n",
       "    <tr>\n",
       "      <th rowspan=\"2\" valign=\"top\">삼성전자</th>\n",
       "      <th>2023-12-07</th>\n",
       "      <td>72600</td>\n",
       "    </tr>\n",
       "    <tr>\n",
       "      <th>2023-12-08</th>\n",
       "      <td>72800</td>\n",
       "    </tr>\n",
       "    <tr>\n",
       "      <th rowspan=\"2\" valign=\"top\">카카오</th>\n",
       "      <th>2023-12-07</th>\n",
       "      <td>51700</td>\n",
       "    </tr>\n",
       "    <tr>\n",
       "      <th>2023-12-08</th>\n",
       "      <td>51600</td>\n",
       "    </tr>\n",
       "  </tbody>\n",
       "</table>\n",
       "</div>"
      ],
      "text/plain": [
       "                       주가\n",
       "item_id timestamp        \n",
       "삼성전자    2023-12-07  72600\n",
       "        2023-12-08  72800\n",
       "카카오     2023-12-07  51700\n",
       "        2023-12-08  51600"
      ]
     },
     "execution_count": 9,
     "metadata": {},
     "output_type": "execute_result"
    }
   ],
   "source": [
    "ts2 = TimeSeriesDataFrame(\n",
    "    data = df2,\n",
    "    static_features = None, \n",
    "    id_column = '종목',\n",
    "    timestamp_column = '시간'\n",
    ")\n",
    "ts2"
   ]
  },
  {
   "cell_type": "markdown",
   "id": "88085fc4-c0a9-44be-8d2f-7cd028be561a",
   "metadata": {},
   "source": [
    "**3. 여러개의 시계열 + static_feature**"
   ]
  },
  {
   "cell_type": "code",
   "execution_count": 10,
   "id": "0e35f598-1556-4204-8718-be05420c6944",
   "metadata": {
    "tags": []
   },
   "outputs": [
    {
     "data": {
      "text/html": [
       "<div>\n",
       "<style scoped>\n",
       "    .dataframe tbody tr th:only-of-type {\n",
       "        vertical-align: middle;\n",
       "    }\n",
       "\n",
       "    .dataframe tbody tr th {\n",
       "        vertical-align: top;\n",
       "    }\n",
       "\n",
       "    .dataframe thead th {\n",
       "        text-align: right;\n",
       "    }\n",
       "</style>\n",
       "<table border=\"1\" class=\"dataframe\">\n",
       "  <thead>\n",
       "    <tr style=\"text-align: right;\">\n",
       "      <th></th>\n",
       "      <th>시간</th>\n",
       "      <th>종목</th>\n",
       "      <th>주가</th>\n",
       "    </tr>\n",
       "  </thead>\n",
       "  <tbody>\n",
       "    <tr>\n",
       "      <th>0</th>\n",
       "      <td>2023-12-07</td>\n",
       "      <td>삼성전자</td>\n",
       "      <td>72600</td>\n",
       "    </tr>\n",
       "    <tr>\n",
       "      <th>1</th>\n",
       "      <td>2023-12-08</td>\n",
       "      <td>삼성전자</td>\n",
       "      <td>72800</td>\n",
       "    </tr>\n",
       "    <tr>\n",
       "      <th>2</th>\n",
       "      <td>2023-12-07</td>\n",
       "      <td>카카오</td>\n",
       "      <td>51700</td>\n",
       "    </tr>\n",
       "    <tr>\n",
       "      <th>3</th>\n",
       "      <td>2023-12-08</td>\n",
       "      <td>카카오</td>\n",
       "      <td>51600</td>\n",
       "    </tr>\n",
       "  </tbody>\n",
       "</table>\n",
       "</div>"
      ],
      "text/plain": [
       "           시간    종목     주가\n",
       "0  2023-12-07  삼성전자  72600\n",
       "1  2023-12-08  삼성전자  72800\n",
       "2  2023-12-07   카카오  51700\n",
       "3  2023-12-08   카카오  51600"
      ]
     },
     "metadata": {},
     "output_type": "display_data"
    },
    {
     "data": {
      "text/html": [
       "<div>\n",
       "<style scoped>\n",
       "    .dataframe tbody tr th:only-of-type {\n",
       "        vertical-align: middle;\n",
       "    }\n",
       "\n",
       "    .dataframe tbody tr th {\n",
       "        vertical-align: top;\n",
       "    }\n",
       "\n",
       "    .dataframe thead th {\n",
       "        text-align: right;\n",
       "    }\n",
       "</style>\n",
       "<table border=\"1\" class=\"dataframe\">\n",
       "  <thead>\n",
       "    <tr style=\"text-align: right;\">\n",
       "      <th></th>\n",
       "      <th>종목</th>\n",
       "      <th>특징1(기업성격)</th>\n",
       "      <th>특징2(사원수)</th>\n",
       "    </tr>\n",
       "  </thead>\n",
       "  <tbody>\n",
       "    <tr>\n",
       "      <th>0</th>\n",
       "      <td>삼성전자</td>\n",
       "      <td>제조</td>\n",
       "      <td>500</td>\n",
       "    </tr>\n",
       "    <tr>\n",
       "      <th>1</th>\n",
       "      <td>카카오</td>\n",
       "      <td>IT</td>\n",
       "      <td>25</td>\n",
       "    </tr>\n",
       "  </tbody>\n",
       "</table>\n",
       "</div>"
      ],
      "text/plain": [
       "     종목 특징1(기업성격)  특징2(사원수)\n",
       "0  삼성전자        제조       500\n",
       "1   카카오        IT        25"
      ]
     },
     "metadata": {},
     "output_type": "display_data"
    },
    {
     "data": {
      "text/html": [
       "<div>\n",
       "<style scoped>\n",
       "    .dataframe tbody tr th:only-of-type {\n",
       "        vertical-align: middle;\n",
       "    }\n",
       "\n",
       "    .dataframe tbody tr th {\n",
       "        vertical-align: top;\n",
       "    }\n",
       "\n",
       "    .dataframe thead th {\n",
       "        text-align: right;\n",
       "    }\n",
       "</style>\n",
       "<table border=\"1\" class=\"dataframe\">\n",
       "  <thead>\n",
       "    <tr style=\"text-align: right;\">\n",
       "      <th></th>\n",
       "      <th></th>\n",
       "      <th>주가</th>\n",
       "    </tr>\n",
       "    <tr>\n",
       "      <th>item_id</th>\n",
       "      <th>timestamp</th>\n",
       "      <th></th>\n",
       "    </tr>\n",
       "  </thead>\n",
       "  <tbody>\n",
       "    <tr>\n",
       "      <th rowspan=\"2\" valign=\"top\">삼성전자</th>\n",
       "      <th>2023-12-07</th>\n",
       "      <td>72600</td>\n",
       "    </tr>\n",
       "    <tr>\n",
       "      <th>2023-12-08</th>\n",
       "      <td>72800</td>\n",
       "    </tr>\n",
       "    <tr>\n",
       "      <th rowspan=\"2\" valign=\"top\">카카오</th>\n",
       "      <th>2023-12-07</th>\n",
       "      <td>51700</td>\n",
       "    </tr>\n",
       "    <tr>\n",
       "      <th>2023-12-08</th>\n",
       "      <td>51600</td>\n",
       "    </tr>\n",
       "  </tbody>\n",
       "</table>\n",
       "</div>"
      ],
      "text/plain": [
       "                       주가\n",
       "item_id timestamp        \n",
       "삼성전자    2023-12-07  72600\n",
       "        2023-12-08  72800\n",
       "카카오     2023-12-07  51700\n",
       "        2023-12-08  51600"
      ]
     },
     "execution_count": 10,
     "metadata": {},
     "output_type": "execute_result"
    }
   ],
   "source": [
    "df2 = pd.DataFrame({'시간':['2023-12-07','2023-12-08']*2, '종목':['삼성전자']*2+['카카오']*2, '주가':[72600, 72800, 51700, 51600]})\n",
    "df3 = pd.DataFrame({'종목':['삼성전자','카카오'],'특징1(기업성격)':['제조','IT'],'특징2(사원수)':[500,25]})\n",
    "display(df2,df3)\n",
    "#---#\n",
    "ts23 = TimeSeriesDataFrame(\n",
    "    data = df2,\n",
    "    static_features = df3, \n",
    "    id_column = '종목',\n",
    "    timestamp_column = '시간'\n",
    ")\n",
    "ts23"
   ]
  },
  {
   "cell_type": "markdown",
   "id": "82d6eddd-5dc1-46f0-8370-05b83dc5932f",
   "metadata": {},
   "source": [
    "# 5. 적합 "
   ]
  },
  {
   "cell_type": "markdown",
   "id": "8905a433-d5c9-4c76-a2ef-39fd2d3f70ed",
   "metadata": {},
   "source": [
    "## A. Step1: 데이터의 정리 "
   ]
  },
  {
   "cell_type": "code",
   "execution_count": 11,
   "id": "916faf4a-1355-44b0-9256-5979fd3f4c4b",
   "metadata": {
    "tags": []
   },
   "outputs": [],
   "source": [
    "ts_train = TimeSeriesDataFrame(\n",
    "    data = df_train,\n",
    "    static_features = None, \n",
    "    id_column = 'item_id',\n",
    "    timestamp_column = 'date'\n",
    ")"
   ]
  },
  {
   "cell_type": "markdown",
   "id": "89a30c36-34de-4ecd-892b-4531ba8f3cdd",
   "metadata": {
    "tags": []
   },
   "source": [
    "## B. Step2: `TimeSeriesPredictor` 생성"
   ]
  },
  {
   "cell_type": "code",
   "execution_count": 12,
   "id": "cd7030bd-a3be-4df6-b7f7-e732762824c0",
   "metadata": {
    "tags": []
   },
   "outputs": [],
   "source": [
    "predictr = TimeSeriesPredictor(\n",
    "    target = 'temp', # 예측하고 싶은것 \n",
    "    known_covariates_names = None, # 온도를 예측할때 쓸 수 있는 다른 시계열 자료 \n",
    "    prediction_length = len(df_test), # 예측하고 싶은 자료의 길이\n",
    "    freq = 'D' # 주기 (보통은 'D', 'H'를 씀, 일반적으로 명시하지 않아도 오토글루온이 알아서 찾아줌) \n",
    ")"
   ]
  },
  {
   "cell_type": "markdown",
   "id": "65fc3347-4781-4d39-8288-12e437d4345c",
   "metadata": {},
   "source": [
    "## C. Step3: 학습"
   ]
  },
  {
   "cell_type": "code",
   "execution_count": 13,
   "id": "936ae122-9181-4766-99a0-e07af80ca045",
   "metadata": {
    "tags": []
   },
   "outputs": [
    {
     "name": "stderr",
     "output_type": "stream",
     "text": [
      "Beginning AutoGluon training...\n",
      "AutoGluon will save models to 'AutogluonModels/ag-20231210_101358'\n",
      "=================== System Info ===================\n",
      "AutoGluon Version:  1.0.0\n",
      "Python Version:     3.11.6\n",
      "Operating System:   Linux\n",
      "Platform Machine:   x86_64\n",
      "Platform Version:   #26~22.04.1-Ubuntu SMP PREEMPT_DYNAMIC Thu Jul 13 16:27:29 UTC 2\n",
      "CPU Count:          16\n",
      "GPU Count:          1\n",
      "Memory Avail:       117.48 GB / 125.71 GB (93.5%)\n",
      "Disk Space Avail:   198.80 GB / 456.88 GB (43.5%)\n",
      "===================================================\n",
      "Setting presets to: medium_quality\n",
      "\n",
      "Fitting with arguments:\n",
      "{'enable_ensemble': True,\n",
      " 'eval_metric': WQL,\n",
      " 'freq': 'D',\n",
      " 'hyperparameters': 'light',\n",
      " 'known_covariates_names': [],\n",
      " 'num_val_windows': 1,\n",
      " 'prediction_length': 76,\n",
      " 'quantile_levels': [0.1, 0.2, 0.3, 0.4, 0.5, 0.6, 0.7, 0.8, 0.9],\n",
      " 'random_seed': 123,\n",
      " 'refit_every_n_windows': 1,\n",
      " 'refit_full': False,\n",
      " 'target': 'temp',\n",
      " 'verbosity': 2}\n",
      "\n",
      "Provided train_data has 580 rows, 1 time series. Median time series length is 580 (min=580, max=580). \n",
      "\n",
      "Provided dataset contains following columns:\n",
      "\ttarget:           'temp'\n",
      "\n",
      "AutoGluon will gauge predictive performance using evaluation metric: 'WQL'\n",
      "\tThis metric's sign has been flipped to adhere to being higher_is_better. The metric score can be multiplied by -1 to get the metric value.\n",
      "===================================================\n",
      "\n",
      "Starting training. Start time is 2023-12-10 19:14:00\n",
      "Models that will be trained: ['Naive', 'SeasonalNaive', 'ETS', 'Theta', 'RecursiveTabular', 'DirectTabular', 'TemporalFusionTransformer']\n",
      "Training timeseries model Naive. \n",
      "\t-0.2088       = Validation score (-WQL)\n",
      "\t0.00    s     = Training runtime\n",
      "\t0.78    s     = Validation (prediction) runtime\n",
      "Training timeseries model SeasonalNaive. \n",
      "\t-0.1648       = Validation score (-WQL)\n",
      "\t0.01    s     = Training runtime\n",
      "\t0.61    s     = Validation (prediction) runtime\n",
      "Training timeseries model ETS. \n",
      "\t-0.2091       = Validation score (-WQL)\n",
      "\t0.01    s     = Training runtime\n",
      "\t11.22   s     = Validation (prediction) runtime\n",
      "Training timeseries model Theta. \n",
      "\t-0.2281       = Validation score (-WQL)\n",
      "\t0.00    s     = Training runtime\n",
      "\t12.67   s     = Validation (prediction) runtime\n",
      "Training timeseries model RecursiveTabular. \n",
      "\t-0.2031       = Validation score (-WQL)\n",
      "\t1.43    s     = Training runtime\n",
      "\t0.82    s     = Validation (prediction) runtime\n",
      "Training timeseries model DirectTabular. \n",
      "\t-0.0976       = Validation score (-WQL)\n",
      "\t1.19    s     = Training runtime\n",
      "\t0.05    s     = Validation (prediction) runtime\n",
      "Training timeseries model TemporalFusionTransformer. \n",
      "\t-0.0613       = Validation score (-WQL)\n",
      "\t51.25   s     = Training runtime\n",
      "\t0.02    s     = Validation (prediction) runtime\n",
      "Fitting simple weighted ensemble.\n",
      "\tEnsemble weights: {'RecursiveTabular': 0.04, 'TemporalFusionTransformer': 0.96}\n",
      "\t-0.0602       = Validation score (-WQL)\n",
      "\t0.44    s     = Training runtime\n",
      "\t0.84    s     = Validation (prediction) runtime\n",
      "Training complete. Models trained: ['Naive', 'SeasonalNaive', 'ETS', 'Theta', 'RecursiveTabular', 'DirectTabular', 'TemporalFusionTransformer', 'WeightedEnsemble']\n",
      "Total runtime: 80.66 s\n",
      "Best model: WeightedEnsemble\n",
      "Best model score: -0.0602\n"
     ]
    },
    {
     "data": {
      "text/plain": [
       "<autogluon.timeseries.predictor.TimeSeriesPredictor at 0x7f49628f3010>"
      ]
     },
     "execution_count": 13,
     "metadata": {},
     "output_type": "execute_result"
    }
   ],
   "source": [
    "predictr.fit(ts_train,presets='medium_quality')"
   ]
  },
  {
   "cell_type": "code",
   "execution_count": 14,
   "id": "99baa21c-2170-4522-822f-dca52f85b7e1",
   "metadata": {},
   "outputs": [
    {
     "data": {
      "text/html": [
       "<div>\n",
       "<style scoped>\n",
       "    .dataframe tbody tr th:only-of-type {\n",
       "        vertical-align: middle;\n",
       "    }\n",
       "\n",
       "    .dataframe tbody tr th {\n",
       "        vertical-align: top;\n",
       "    }\n",
       "\n",
       "    .dataframe thead th {\n",
       "        text-align: right;\n",
       "    }\n",
       "</style>\n",
       "<table border=\"1\" class=\"dataframe\">\n",
       "  <thead>\n",
       "    <tr style=\"text-align: right;\">\n",
       "      <th></th>\n",
       "      <th>model</th>\n",
       "      <th>score_val</th>\n",
       "      <th>pred_time_val</th>\n",
       "      <th>fit_time_marginal</th>\n",
       "      <th>fit_order</th>\n",
       "    </tr>\n",
       "  </thead>\n",
       "  <tbody>\n",
       "    <tr>\n",
       "      <th>0</th>\n",
       "      <td>WeightedEnsemble</td>\n",
       "      <td>-0.060161</td>\n",
       "      <td>0.837295</td>\n",
       "      <td>0.436255</td>\n",
       "      <td>8</td>\n",
       "    </tr>\n",
       "    <tr>\n",
       "      <th>1</th>\n",
       "      <td>TemporalFusionTransformer</td>\n",
       "      <td>-0.061296</td>\n",
       "      <td>0.015947</td>\n",
       "      <td>51.248755</td>\n",
       "      <td>7</td>\n",
       "    </tr>\n",
       "    <tr>\n",
       "      <th>2</th>\n",
       "      <td>DirectTabular</td>\n",
       "      <td>-0.097625</td>\n",
       "      <td>0.053171</td>\n",
       "      <td>1.194808</td>\n",
       "      <td>6</td>\n",
       "    </tr>\n",
       "    <tr>\n",
       "      <th>3</th>\n",
       "      <td>SeasonalNaive</td>\n",
       "      <td>-0.164817</td>\n",
       "      <td>0.608853</td>\n",
       "      <td>0.006057</td>\n",
       "      <td>2</td>\n",
       "    </tr>\n",
       "    <tr>\n",
       "      <th>4</th>\n",
       "      <td>RecursiveTabular</td>\n",
       "      <td>-0.203124</td>\n",
       "      <td>0.821348</td>\n",
       "      <td>1.425918</td>\n",
       "      <td>5</td>\n",
       "    </tr>\n",
       "    <tr>\n",
       "      <th>5</th>\n",
       "      <td>Naive</td>\n",
       "      <td>-0.208796</td>\n",
       "      <td>0.779727</td>\n",
       "      <td>0.004866</td>\n",
       "      <td>1</td>\n",
       "    </tr>\n",
       "    <tr>\n",
       "      <th>6</th>\n",
       "      <td>ETS</td>\n",
       "      <td>-0.209098</td>\n",
       "      <td>11.216964</td>\n",
       "      <td>0.005571</td>\n",
       "      <td>3</td>\n",
       "    </tr>\n",
       "    <tr>\n",
       "      <th>7</th>\n",
       "      <td>Theta</td>\n",
       "      <td>-0.228130</td>\n",
       "      <td>12.673510</td>\n",
       "      <td>0.004869</td>\n",
       "      <td>4</td>\n",
       "    </tr>\n",
       "  </tbody>\n",
       "</table>\n",
       "</div>"
      ],
      "text/plain": [
       "                       model  score_val  pred_time_val  fit_time_marginal  \\\n",
       "0           WeightedEnsemble  -0.060161       0.837295           0.436255   \n",
       "1  TemporalFusionTransformer  -0.061296       0.015947          51.248755   \n",
       "2              DirectTabular  -0.097625       0.053171           1.194808   \n",
       "3              SeasonalNaive  -0.164817       0.608853           0.006057   \n",
       "4           RecursiveTabular  -0.203124       0.821348           1.425918   \n",
       "5                      Naive  -0.208796       0.779727           0.004866   \n",
       "6                        ETS  -0.209098      11.216964           0.005571   \n",
       "7                      Theta  -0.228130      12.673510           0.004869   \n",
       "\n",
       "   fit_order  \n",
       "0          8  \n",
       "1          7  \n",
       "2          6  \n",
       "3          2  \n",
       "4          5  \n",
       "5          1  \n",
       "6          3  \n",
       "7          4  "
      ]
     },
     "execution_count": 14,
     "metadata": {},
     "output_type": "execute_result"
    }
   ],
   "source": [
    "predictr.leaderboard()"
   ]
  },
  {
   "cell_type": "markdown",
   "id": "20155392-63d6-4076-a860-169f3754a547",
   "metadata": {},
   "source": [
    "## D. Step4: 예측 "
   ]
  },
  {
   "cell_type": "code",
   "execution_count": 118,
   "id": "6f0c8160-9a9c-4903-b48b-01a703e75e66",
   "metadata": {
    "tags": []
   },
   "outputs": [
    {
     "name": "stderr",
     "output_type": "stream",
     "text": [
      "Model not specified in predict, will default to the model with the best validation score: WeightedEnsemble\n"
     ]
    },
    {
     "data": {
      "text/html": [
       "<div>\n",
       "<style scoped>\n",
       "    .dataframe tbody tr th:only-of-type {\n",
       "        vertical-align: middle;\n",
       "    }\n",
       "\n",
       "    .dataframe tbody tr th {\n",
       "        vertical-align: top;\n",
       "    }\n",
       "\n",
       "    .dataframe thead th {\n",
       "        text-align: right;\n",
       "    }\n",
       "</style>\n",
       "<table border=\"1\" class=\"dataframe\">\n",
       "  <thead>\n",
       "    <tr style=\"text-align: right;\">\n",
       "      <th></th>\n",
       "      <th></th>\n",
       "      <th>mean</th>\n",
       "      <th>0.1</th>\n",
       "      <th>0.2</th>\n",
       "      <th>0.3</th>\n",
       "      <th>0.4</th>\n",
       "      <th>0.5</th>\n",
       "      <th>0.6</th>\n",
       "      <th>0.7</th>\n",
       "      <th>0.8</th>\n",
       "      <th>0.9</th>\n",
       "    </tr>\n",
       "    <tr>\n",
       "      <th>item_id</th>\n",
       "      <th>timestamp</th>\n",
       "      <th></th>\n",
       "      <th></th>\n",
       "      <th></th>\n",
       "      <th></th>\n",
       "      <th></th>\n",
       "      <th></th>\n",
       "      <th></th>\n",
       "      <th></th>\n",
       "      <th></th>\n",
       "      <th></th>\n",
       "    </tr>\n",
       "  </thead>\n",
       "  <tbody>\n",
       "    <tr>\n",
       "      <th rowspan=\"11\" valign=\"top\">평균기온</th>\n",
       "      <th>2021-08-03</th>\n",
       "      <td>28.914501</td>\n",
       "      <td>24.795792</td>\n",
       "      <td>26.168787</td>\n",
       "      <td>27.809203</td>\n",
       "      <td>29.570845</td>\n",
       "      <td>28.914501</td>\n",
       "      <td>29.099419</td>\n",
       "      <td>30.381727</td>\n",
       "      <td>31.509549</td>\n",
       "      <td>32.979891</td>\n",
       "    </tr>\n",
       "    <tr>\n",
       "      <th>2021-08-04</th>\n",
       "      <td>29.011972</td>\n",
       "      <td>25.224210</td>\n",
       "      <td>26.569047</td>\n",
       "      <td>27.891114</td>\n",
       "      <td>29.409711</td>\n",
       "      <td>29.011973</td>\n",
       "      <td>29.539519</td>\n",
       "      <td>30.630746</td>\n",
       "      <td>31.646940</td>\n",
       "      <td>32.617147</td>\n",
       "    </tr>\n",
       "    <tr>\n",
       "      <th>2021-08-05</th>\n",
       "      <td>28.963903</td>\n",
       "      <td>25.303622</td>\n",
       "      <td>26.652311</td>\n",
       "      <td>27.791000</td>\n",
       "      <td>28.911906</td>\n",
       "      <td>28.963904</td>\n",
       "      <td>29.627844</td>\n",
       "      <td>30.573073</td>\n",
       "      <td>31.487950</td>\n",
       "      <td>32.178999</td>\n",
       "    </tr>\n",
       "    <tr>\n",
       "      <th>2021-08-06</th>\n",
       "      <td>28.879606</td>\n",
       "      <td>25.321959</td>\n",
       "      <td>26.679040</td>\n",
       "      <td>27.704727</td>\n",
       "      <td>28.464277</td>\n",
       "      <td>28.879606</td>\n",
       "      <td>29.533904</td>\n",
       "      <td>30.426272</td>\n",
       "      <td>31.194846</td>\n",
       "      <td>31.836305</td>\n",
       "    </tr>\n",
       "    <tr>\n",
       "      <th>2021-08-07</th>\n",
       "      <td>28.848444</td>\n",
       "      <td>25.428517</td>\n",
       "      <td>26.768485</td>\n",
       "      <td>27.721187</td>\n",
       "      <td>28.241648</td>\n",
       "      <td>28.848443</td>\n",
       "      <td>29.432855</td>\n",
       "      <td>30.302661</td>\n",
       "      <td>30.940070</td>\n",
       "      <td>31.615334</td>\n",
       "    </tr>\n",
       "    <tr>\n",
       "      <th>...</th>\n",
       "      <td>...</td>\n",
       "      <td>...</td>\n",
       "      <td>...</td>\n",
       "      <td>...</td>\n",
       "      <td>...</td>\n",
       "      <td>...</td>\n",
       "      <td>...</td>\n",
       "      <td>...</td>\n",
       "      <td>...</td>\n",
       "      <td>...</td>\n",
       "    </tr>\n",
       "    <tr>\n",
       "      <th>2021-10-13</th>\n",
       "      <td>17.223763</td>\n",
       "      <td>14.030822</td>\n",
       "      <td>14.937548</td>\n",
       "      <td>15.708939</td>\n",
       "      <td>16.554551</td>\n",
       "      <td>17.223762</td>\n",
       "      <td>17.925664</td>\n",
       "      <td>18.405870</td>\n",
       "      <td>19.422831</td>\n",
       "      <td>20.733676</td>\n",
       "    </tr>\n",
       "    <tr>\n",
       "      <th>2021-10-14</th>\n",
       "      <td>16.985195</td>\n",
       "      <td>13.724998</td>\n",
       "      <td>14.696005</td>\n",
       "      <td>15.360775</td>\n",
       "      <td>16.284362</td>\n",
       "      <td>16.985195</td>\n",
       "      <td>17.686742</td>\n",
       "      <td>18.160193</td>\n",
       "      <td>19.193498</td>\n",
       "      <td>20.484604</td>\n",
       "    </tr>\n",
       "    <tr>\n",
       "      <th>2021-10-15</th>\n",
       "      <td>16.801191</td>\n",
       "      <td>13.507242</td>\n",
       "      <td>14.529965</td>\n",
       "      <td>15.083086</td>\n",
       "      <td>16.092644</td>\n",
       "      <td>16.801192</td>\n",
       "      <td>17.514405</td>\n",
       "      <td>17.965267</td>\n",
       "      <td>19.019064</td>\n",
       "      <td>20.290269</td>\n",
       "    </tr>\n",
       "    <tr>\n",
       "      <th>2021-10-16</th>\n",
       "      <td>16.448746</td>\n",
       "      <td>13.160046</td>\n",
       "      <td>14.224872</td>\n",
       "      <td>14.662191</td>\n",
       "      <td>15.767436</td>\n",
       "      <td>16.448745</td>\n",
       "      <td>17.196025</td>\n",
       "      <td>17.600139</td>\n",
       "      <td>18.683899</td>\n",
       "      <td>19.935804</td>\n",
       "    </tr>\n",
       "    <tr>\n",
       "      <th>2021-10-17</th>\n",
       "      <td>15.980749</td>\n",
       "      <td>12.734847</td>\n",
       "      <td>13.844127</td>\n",
       "      <td>14.156934</td>\n",
       "      <td>15.373598</td>\n",
       "      <td>15.980749</td>\n",
       "      <td>16.800518</td>\n",
       "      <td>17.121816</td>\n",
       "      <td>18.252594</td>\n",
       "      <td>19.484188</td>\n",
       "    </tr>\n",
       "  </tbody>\n",
       "</table>\n",
       "<p>76 rows × 10 columns</p>\n",
       "</div>"
      ],
      "text/plain": [
       "                         mean        0.1        0.2        0.3        0.4  \\\n",
       "item_id timestamp                                                           \n",
       "평균기온    2021-08-03  28.914501  24.795792  26.168787  27.809203  29.570845   \n",
       "        2021-08-04  29.011972  25.224210  26.569047  27.891114  29.409711   \n",
       "        2021-08-05  28.963903  25.303622  26.652311  27.791000  28.911906   \n",
       "        2021-08-06  28.879606  25.321959  26.679040  27.704727  28.464277   \n",
       "        2021-08-07  28.848444  25.428517  26.768485  27.721187  28.241648   \n",
       "...                       ...        ...        ...        ...        ...   \n",
       "        2021-10-13  17.223763  14.030822  14.937548  15.708939  16.554551   \n",
       "        2021-10-14  16.985195  13.724998  14.696005  15.360775  16.284362   \n",
       "        2021-10-15  16.801191  13.507242  14.529965  15.083086  16.092644   \n",
       "        2021-10-16  16.448746  13.160046  14.224872  14.662191  15.767436   \n",
       "        2021-10-17  15.980749  12.734847  13.844127  14.156934  15.373598   \n",
       "\n",
       "                          0.5        0.6        0.7        0.8        0.9  \n",
       "item_id timestamp                                                          \n",
       "평균기온    2021-08-03  28.914501  29.099419  30.381727  31.509549  32.979891  \n",
       "        2021-08-04  29.011973  29.539519  30.630746  31.646940  32.617147  \n",
       "        2021-08-05  28.963904  29.627844  30.573073  31.487950  32.178999  \n",
       "        2021-08-06  28.879606  29.533904  30.426272  31.194846  31.836305  \n",
       "        2021-08-07  28.848443  29.432855  30.302661  30.940070  31.615334  \n",
       "...                       ...        ...        ...        ...        ...  \n",
       "        2021-10-13  17.223762  17.925664  18.405870  19.422831  20.733676  \n",
       "        2021-10-14  16.985195  17.686742  18.160193  19.193498  20.484604  \n",
       "        2021-10-15  16.801192  17.514405  17.965267  19.019064  20.290269  \n",
       "        2021-10-16  16.448745  17.196025  17.600139  18.683899  19.935804  \n",
       "        2021-10-17  15.980749  16.800518  17.121816  18.252594  19.484188  \n",
       "\n",
       "[76 rows x 10 columns]"
      ]
     },
     "execution_count": 118,
     "metadata": {},
     "output_type": "execute_result"
    }
   ],
   "source": [
    "predictr.predict(ts_train)"
   ]
  },
  {
   "cell_type": "markdown",
   "id": "5ebc879f-c759-475b-aefc-59acd7ff9e41",
   "metadata": {},
   "source": [
    "## E. 시각화"
   ]
  },
  {
   "cell_type": "code",
   "execution_count": 119,
   "id": "5f884908-d6f1-45a1-b554-6d20e06b229c",
   "metadata": {
    "tags": []
   },
   "outputs": [
    {
     "name": "stderr",
     "output_type": "stream",
     "text": [
      "Model not specified in predict, will default to the model with the best validation score: WeightedEnsemble\n"
     ]
    },
    {
     "data": {
      "text/html": [
       "<div>\n",
       "<style scoped>\n",
       "    .dataframe tbody tr th:only-of-type {\n",
       "        vertical-align: middle;\n",
       "    }\n",
       "\n",
       "    .dataframe tbody tr th {\n",
       "        vertical-align: top;\n",
       "    }\n",
       "\n",
       "    .dataframe thead th {\n",
       "        text-align: right;\n",
       "    }\n",
       "</style>\n",
       "<table border=\"1\" class=\"dataframe\">\n",
       "  <thead>\n",
       "    <tr style=\"text-align: right;\">\n",
       "      <th></th>\n",
       "      <th></th>\n",
       "      <th>mean</th>\n",
       "      <th>0.1</th>\n",
       "      <th>0.2</th>\n",
       "      <th>0.3</th>\n",
       "      <th>0.4</th>\n",
       "      <th>0.5</th>\n",
       "      <th>0.6</th>\n",
       "      <th>0.7</th>\n",
       "      <th>0.8</th>\n",
       "      <th>0.9</th>\n",
       "    </tr>\n",
       "    <tr>\n",
       "      <th>item_id</th>\n",
       "      <th>timestamp</th>\n",
       "      <th></th>\n",
       "      <th></th>\n",
       "      <th></th>\n",
       "      <th></th>\n",
       "      <th></th>\n",
       "      <th></th>\n",
       "      <th></th>\n",
       "      <th></th>\n",
       "      <th></th>\n",
       "      <th></th>\n",
       "    </tr>\n",
       "  </thead>\n",
       "  <tbody>\n",
       "    <tr>\n",
       "      <th rowspan=\"11\" valign=\"top\">평균기온</th>\n",
       "      <th>2021-08-03</th>\n",
       "      <td>28.914501</td>\n",
       "      <td>24.795792</td>\n",
       "      <td>26.168787</td>\n",
       "      <td>27.809203</td>\n",
       "      <td>29.570845</td>\n",
       "      <td>28.914501</td>\n",
       "      <td>29.099419</td>\n",
       "      <td>30.381727</td>\n",
       "      <td>31.509549</td>\n",
       "      <td>32.979891</td>\n",
       "    </tr>\n",
       "    <tr>\n",
       "      <th>2021-08-04</th>\n",
       "      <td>29.011972</td>\n",
       "      <td>25.224210</td>\n",
       "      <td>26.569047</td>\n",
       "      <td>27.891114</td>\n",
       "      <td>29.409711</td>\n",
       "      <td>29.011973</td>\n",
       "      <td>29.539519</td>\n",
       "      <td>30.630746</td>\n",
       "      <td>31.646940</td>\n",
       "      <td>32.617147</td>\n",
       "    </tr>\n",
       "    <tr>\n",
       "      <th>2021-08-05</th>\n",
       "      <td>28.963903</td>\n",
       "      <td>25.303622</td>\n",
       "      <td>26.652311</td>\n",
       "      <td>27.791000</td>\n",
       "      <td>28.911906</td>\n",
       "      <td>28.963904</td>\n",
       "      <td>29.627844</td>\n",
       "      <td>30.573073</td>\n",
       "      <td>31.487950</td>\n",
       "      <td>32.178999</td>\n",
       "    </tr>\n",
       "    <tr>\n",
       "      <th>2021-08-06</th>\n",
       "      <td>28.879606</td>\n",
       "      <td>25.321959</td>\n",
       "      <td>26.679040</td>\n",
       "      <td>27.704727</td>\n",
       "      <td>28.464277</td>\n",
       "      <td>28.879606</td>\n",
       "      <td>29.533904</td>\n",
       "      <td>30.426272</td>\n",
       "      <td>31.194846</td>\n",
       "      <td>31.836305</td>\n",
       "    </tr>\n",
       "    <tr>\n",
       "      <th>2021-08-07</th>\n",
       "      <td>28.848444</td>\n",
       "      <td>25.428517</td>\n",
       "      <td>26.768485</td>\n",
       "      <td>27.721187</td>\n",
       "      <td>28.241648</td>\n",
       "      <td>28.848443</td>\n",
       "      <td>29.432855</td>\n",
       "      <td>30.302661</td>\n",
       "      <td>30.940070</td>\n",
       "      <td>31.615334</td>\n",
       "    </tr>\n",
       "    <tr>\n",
       "      <th>...</th>\n",
       "      <td>...</td>\n",
       "      <td>...</td>\n",
       "      <td>...</td>\n",
       "      <td>...</td>\n",
       "      <td>...</td>\n",
       "      <td>...</td>\n",
       "      <td>...</td>\n",
       "      <td>...</td>\n",
       "      <td>...</td>\n",
       "      <td>...</td>\n",
       "    </tr>\n",
       "    <tr>\n",
       "      <th>2021-10-13</th>\n",
       "      <td>17.223763</td>\n",
       "      <td>14.030822</td>\n",
       "      <td>14.937548</td>\n",
       "      <td>15.708939</td>\n",
       "      <td>16.554551</td>\n",
       "      <td>17.223762</td>\n",
       "      <td>17.925664</td>\n",
       "      <td>18.405870</td>\n",
       "      <td>19.422831</td>\n",
       "      <td>20.733676</td>\n",
       "    </tr>\n",
       "    <tr>\n",
       "      <th>2021-10-14</th>\n",
       "      <td>16.985195</td>\n",
       "      <td>13.724998</td>\n",
       "      <td>14.696005</td>\n",
       "      <td>15.360775</td>\n",
       "      <td>16.284362</td>\n",
       "      <td>16.985195</td>\n",
       "      <td>17.686742</td>\n",
       "      <td>18.160193</td>\n",
       "      <td>19.193498</td>\n",
       "      <td>20.484604</td>\n",
       "    </tr>\n",
       "    <tr>\n",
       "      <th>2021-10-15</th>\n",
       "      <td>16.801191</td>\n",
       "      <td>13.507242</td>\n",
       "      <td>14.529965</td>\n",
       "      <td>15.083086</td>\n",
       "      <td>16.092644</td>\n",
       "      <td>16.801192</td>\n",
       "      <td>17.514405</td>\n",
       "      <td>17.965267</td>\n",
       "      <td>19.019064</td>\n",
       "      <td>20.290269</td>\n",
       "    </tr>\n",
       "    <tr>\n",
       "      <th>2021-10-16</th>\n",
       "      <td>16.448746</td>\n",
       "      <td>13.160046</td>\n",
       "      <td>14.224872</td>\n",
       "      <td>14.662191</td>\n",
       "      <td>15.767436</td>\n",
       "      <td>16.448745</td>\n",
       "      <td>17.196025</td>\n",
       "      <td>17.600139</td>\n",
       "      <td>18.683899</td>\n",
       "      <td>19.935804</td>\n",
       "    </tr>\n",
       "    <tr>\n",
       "      <th>2021-10-17</th>\n",
       "      <td>15.980749</td>\n",
       "      <td>12.734847</td>\n",
       "      <td>13.844127</td>\n",
       "      <td>14.156934</td>\n",
       "      <td>15.373598</td>\n",
       "      <td>15.980749</td>\n",
       "      <td>16.800518</td>\n",
       "      <td>17.121816</td>\n",
       "      <td>18.252594</td>\n",
       "      <td>19.484188</td>\n",
       "    </tr>\n",
       "  </tbody>\n",
       "</table>\n",
       "<p>76 rows × 10 columns</p>\n",
       "</div>"
      ],
      "text/plain": [
       "                         mean        0.1        0.2        0.3        0.4  \\\n",
       "item_id timestamp                                                           \n",
       "평균기온    2021-08-03  28.914501  24.795792  26.168787  27.809203  29.570845   \n",
       "        2021-08-04  29.011972  25.224210  26.569047  27.891114  29.409711   \n",
       "        2021-08-05  28.963903  25.303622  26.652311  27.791000  28.911906   \n",
       "        2021-08-06  28.879606  25.321959  26.679040  27.704727  28.464277   \n",
       "        2021-08-07  28.848444  25.428517  26.768485  27.721187  28.241648   \n",
       "...                       ...        ...        ...        ...        ...   \n",
       "        2021-10-13  17.223763  14.030822  14.937548  15.708939  16.554551   \n",
       "        2021-10-14  16.985195  13.724998  14.696005  15.360775  16.284362   \n",
       "        2021-10-15  16.801191  13.507242  14.529965  15.083086  16.092644   \n",
       "        2021-10-16  16.448746  13.160046  14.224872  14.662191  15.767436   \n",
       "        2021-10-17  15.980749  12.734847  13.844127  14.156934  15.373598   \n",
       "\n",
       "                          0.5        0.6        0.7        0.8        0.9  \n",
       "item_id timestamp                                                          \n",
       "평균기온    2021-08-03  28.914501  29.099419  30.381727  31.509549  32.979891  \n",
       "        2021-08-04  29.011973  29.539519  30.630746  31.646940  32.617147  \n",
       "        2021-08-05  28.963904  29.627844  30.573073  31.487950  32.178999  \n",
       "        2021-08-06  28.879606  29.533904  30.426272  31.194846  31.836305  \n",
       "        2021-08-07  28.848443  29.432855  30.302661  30.940070  31.615334  \n",
       "...                       ...        ...        ...        ...        ...  \n",
       "        2021-10-13  17.223762  17.925664  18.405870  19.422831  20.733676  \n",
       "        2021-10-14  16.985195  17.686742  18.160193  19.193498  20.484604  \n",
       "        2021-10-15  16.801192  17.514405  17.965267  19.019064  20.290269  \n",
       "        2021-10-16  16.448745  17.196025  17.600139  18.683899  19.935804  \n",
       "        2021-10-17  15.980749  16.800518  17.121816  18.252594  19.484188  \n",
       "\n",
       "[76 rows x 10 columns]"
      ]
     },
     "execution_count": 119,
     "metadata": {},
     "output_type": "execute_result"
    }
   ],
   "source": [
    "predictions = predictr.predict(ts_train)\n",
    "predictions"
   ]
  },
  {
   "cell_type": "code",
   "execution_count": 120,
   "id": "9182322e-e543-481e-9cb0-35d98780155a",
   "metadata": {
    "tags": []
   },
   "outputs": [
    {
     "data": {
      "text/plain": [
       "<matplotlib.legend.Legend at 0x7f1fa2b32c50>"
      ]
     },
     "execution_count": 120,
     "metadata": {},
     "output_type": "execute_result"
    },
    {
     "data": {
      "image/png": "[encoded data removed]",
      "text/plain": [
       "<Figure size 640x480 with 1 Axes>"
      ]
     },
     "metadata": {},
     "output_type": "display_data"
    }
   ],
   "source": [
    "plt.plot(df_train.date,df_train.temp,label='observed')\n",
    "plt.plot(df_test.date,df_test.temp,color='gray',alpha=0.5,label='future value')\n",
    "plt.plot(df_test.date,predictions['mean'],color='C1',label='estimated')\n",
    "plt.fill_between(df_test.date, predictions['0.1'], predictions['0.9'],color='C1',alpha=0.2)\n",
    "plt.legend()"
   ]
  },
  {
   "cell_type": "markdown",
   "id": "a745764f-3836-447b-b294-ce07f1e8797d",
   "metadata": {},
   "source": [
    "- 이정도 결과는 합리적으로 보임 "
   ]
  },
  {
   "cell_type": "markdown",
   "id": "1ea3ce1c-5b89-4fcf-932a-68fbb83bba00",
   "metadata": {},
   "source": [
    "# 5. 연구 및 토의"
   ]
  },
  {
   "cell_type": "markdown",
   "id": "c860f2ee-52dc-4008-833c-6bda8892bd31",
   "metadata": {},
   "source": [
    "## A. `static_feature` vs `known_covariates` "
   ]
  },
  {
   "cell_type": "markdown",
   "id": "c4974868-41f5-4693-9c6b-0cce656722b6",
   "metadata": {},
   "source": [
    "`-` static은 시점에 따라 변화하지 않는 정보, known_covariates는 시점에 따라 변화하지만 이미 알고있는 미래시계열 \n",
    "\n",
    "- 분석타입1: fit(target의 현재까지자료) / forecast(target의 현재까지자료) = target의 미래\n",
    "- 분석타입2: fit(target의 현재까지자료,static_feature) -> forecast(target의 현재까지자료,static_feature) = target의 미래 \n",
    "- 분석타입3: fit(target의 현재까지자료,known_covariates의 현재까지자료) -> forecast(target의 현재까지자료,known_covariates의 미래) = target의 미래 \n"
   ]
  },
  {
   "cell_type": "markdown",
   "id": "ff84e21c-6715-457f-a16f-c14b9d6a224a",
   "metadata": {},
   "source": [
    "## B. 장기예측 "
   ]
  },
  {
   "cell_type": "code",
   "execution_count": 102,
   "id": "02fd47a0-d680-4b18-913a-2fddecada23b",
   "metadata": {
    "tags": []
   },
   "outputs": [
    {
     "name": "stderr",
     "output_type": "stream",
     "text": [
      "No path specified. Models will be saved in: \"AutogluonModels/ag-20231209_020014\"\n",
      "Beginning AutoGluon training...\n",
      "AutoGluon will save models to 'AutogluonModels/ag-20231209_020014'\n",
      "=================== System Info ===================\n",
      "AutoGluon Version:  1.0.0\n",
      "Python Version:     3.11.6\n",
      "Operating System:   Linux\n",
      "Platform Machine:   x86_64\n",
      "Platform Version:   #140-Ubuntu SMP Thu Aug 4 02:23:37 UTC 2022\n",
      "CPU Count:          128\n",
      "GPU Count:          1\n",
      "Memory Avail:       403.68 GB / 503.74 GB (80.1%)\n",
      "Disk Space Avail:   1159.48 GB / 1757.88 GB (66.0%)\n",
      "===================================================\n",
      "\n",
      "Fitting with arguments:\n",
      "{'enable_ensemble': True,\n",
      " 'eval_metric': WQL,\n",
      " 'freq': 'D',\n",
      " 'hyperparameters': 'default',\n",
      " 'known_covariates_names': [],\n",
      " 'num_val_windows': 1,\n",
      " 'prediction_length': 143,\n",
      " 'quantile_levels': [0.1, 0.2, 0.3, 0.4, 0.5, 0.6, 0.7, 0.8, 0.9],\n",
      " 'random_seed': 123,\n",
      " 'refit_every_n_windows': 1,\n",
      " 'refit_full': False,\n",
      " 'target': 'temp',\n",
      " 'verbosity': 2}\n",
      "\n",
      "Provided train_data has 513 rows, 1 time series. Median time series length is 513 (min=513, max=513). \n",
      "\n",
      "Provided dataset contains following columns:\n",
      "\ttarget:           'temp'\n",
      "\n",
      "AutoGluon will gauge predictive performance using evaluation metric: 'WQL'\n",
      "\tThis metric's sign has been flipped to adhere to being higher_is_better. The metric score can be multiplied by -1 to get the metric value.\n",
      "===================================================\n",
      "\n",
      "Starting training. Start time is 2023-12-09 02:00:14\n",
      "Models that will be trained: ['SeasonalNaive', 'CrostonSBA', 'NPTS', 'AutoETS', 'DynamicOptimizedTheta', 'AutoARIMA', 'RecursiveTabular', 'DirectTabular', 'DeepAR', 'TemporalFusionTransformer', 'PatchTST']\n",
      "Training timeseries model SeasonalNaive. \n",
      "\t-0.8225       = Validation score (-WQL)\n",
      "\t0.00    s     = Training runtime\n",
      "\t5.26    s     = Validation (prediction) runtime\n",
      "Training timeseries model CrostonSBA. \n",
      "\t-0.5749       = Validation score (-WQL)\n",
      "\t0.00    s     = Training runtime\n",
      "\t5.96    s     = Validation (prediction) runtime\n",
      "Training timeseries model NPTS. \n",
      "\t-0.5393       = Validation score (-WQL)\n",
      "\t0.00    s     = Training runtime\n",
      "\t1.33    s     = Validation (prediction) runtime\n",
      "Training timeseries model AutoETS. \n",
      "\t-0.7227       = Validation score (-WQL)\n",
      "\t0.00    s     = Training runtime\n",
      "\t14.14   s     = Validation (prediction) runtime\n",
      "Training timeseries model DynamicOptimizedTheta. \n",
      "\t-0.7426       = Validation score (-WQL)\n",
      "\t0.00    s     = Training runtime\n",
      "\t16.03   s     = Validation (prediction) runtime\n",
      "Training timeseries model AutoARIMA. \n",
      "\t-0.7599       = Validation score (-WQL)\n",
      "\t0.00    s     = Training runtime\n",
      "\t9.52    s     = Validation (prediction) runtime\n",
      "Training timeseries model RecursiveTabular. \n",
      "\t-0.8312       = Validation score (-WQL)\n",
      "\t1.45    s     = Training runtime\n",
      "\t0.76    s     = Validation (prediction) runtime\n",
      "Training timeseries model DirectTabular. \n",
      "\t-0.4099       = Validation score (-WQL)\n",
      "\t1.56    s     = Training runtime\n",
      "\t0.06    s     = Validation (prediction) runtime\n",
      "Training timeseries model DeepAR. \n",
      "\t-0.4404       = Validation score (-WQL)\n",
      "\t21.42   s     = Training runtime\n",
      "\t0.44    s     = Validation (prediction) runtime\n",
      "Training timeseries model TemporalFusionTransformer. \n",
      "\t-1.9696       = Validation score (-WQL)\n",
      "\t36.18   s     = Training runtime\n",
      "\t0.03    s     = Validation (prediction) runtime\n",
      "Training timeseries model PatchTST. \n",
      "\t-0.4265       = Validation score (-WQL)\n",
      "\t11.90   s     = Training runtime\n",
      "\t0.02    s     = Validation (prediction) runtime\n",
      "Fitting simple weighted ensemble.\n",
      "\tEnsemble weights: {'DeepAR': 0.26, 'DirectTabular': 0.18, 'PatchTST': 0.52, 'TemporalFusionTransformer': 0.04}\n",
      "\t-0.3698       = Validation score (-WQL)\n",
      "\t0.82    s     = Training runtime\n",
      "\t0.55    s     = Validation (prediction) runtime\n",
      "Training complete. Models trained: ['SeasonalNaive', 'CrostonSBA', 'NPTS', 'AutoETS', 'DynamicOptimizedTheta', 'AutoARIMA', 'RecursiveTabular', 'DirectTabular', 'DeepAR', 'TemporalFusionTransformer', 'PatchTST', 'WeightedEnsemble']\n",
      "Total runtime: 126.97 s\n",
      "Best model: WeightedEnsemble\n",
      "Best model score: -0.3698\n",
      "Model not specified in predict, will default to the model with the best validation score: WeightedEnsemble\n",
      "Model not specified in predict, will default to the model with the best validation score: WeightedEnsemble\n"
     ]
    },
    {
     "data": {
      "text/plain": [
       "<matplotlib.legend.Legend at 0x7f1fa295ac50>"
      ]
     },
     "execution_count": 102,
     "metadata": {},
     "output_type": "execute_result"
    },
    {
     "data": {
      "image/png": "[encoded data removed]",
      "text/plain": [
       "<Figure size 640x480 with 1 Axes>"
      ]
     },
     "metadata": {},
     "output_type": "display_data"
    }
   ],
   "source": [
    "df = pd.read_csv('https://raw.githubusercontent.com/guebin/DV2022/master/posts/temp.csv').iloc[:,2:4].set_axis(['date','temp'],axis=1).assign(date= lambda df: df.date.apply(pd.to_datetime))\n",
    "df_train = df[:513].assign(item_id = '평균기온')\n",
    "df_test = df[513:].assign(item_id = '평균기온')\n",
    "#---#\n",
    "## step1 \n",
    "ts_train = TimeSeriesDataFrame(\n",
    "    data = df_train,\n",
    "    static_features = None, \n",
    "    id_column = 'item_id',\n",
    "    timestamp_column = 'date'\n",
    ")\n",
    "## step2 \n",
    "predictr = TimeSeriesPredictor(\n",
    "    target = 'temp', # 예측하고 싶은것 \n",
    "    known_covariates_names = None, # 온도를 예측할때 쓸 수 있는 다른 시계열 자료 \n",
    "    prediction_length = len(df_test), # 예측하고 싶은 자료의 길이\n",
    "    freq = 'D' # 주기 (보통은 'D', 'H'를 씀, 일반적으로 명시하지 않아도 오토글루온이 알아서 찾아줌) \n",
    ")\n",
    "## step3 \n",
    "predictr.fit(ts_train)\n",
    "## step4 \n",
    "predictr.predict(ts_train)\n",
    "#---# \n",
    "predictions = predictr.predict(ts_train)\n",
    "plt.plot(df_train.date,df_train.temp,label='observed')\n",
    "plt.plot(df_test.date,df_test.temp,color='gray',alpha=0.5,label='future value')\n",
    "plt.plot(df_test.date,predictions['mean'],color='C1',label='estimated')\n",
    "plt.fill_between(df_test.date, predictions['0.1'], predictions['0.9'],color='C1',alpha=0.2)\n",
    "plt.legend()"
   ]
  },
  {
   "cell_type": "markdown",
   "id": "883268a4-e252-449d-9719-97f42bc368c0",
   "metadata": {},
   "source": [
    "- 장기예측은 그럴듯하지 않아보임 -- 장기예측은 (좁은의미의)시계열분석의 범위를 벗어남 "
   ]
  },
  {
   "cell_type": "markdown",
   "id": "f4e1326c-e1b4-48b9-be72-fc26ce4edb21",
   "metadata": {},
   "source": [
    "`-` 통계학과에서 배우는 시계열분석 \n",
    "\n",
    "- 주식시계열: 독립인듯 하지만, 사실은 독립이 아닌자료. 즉 \"관측자료 = 정보 + 오차\" 인데, 오차항이 독립이 아닐 경우. \n",
    "- 오차항이 독립이 아니라는 의미: 주식시계열이 비합리적인 관측자료라는 의미임. (사실 오차항은 독립이어야 하지 않냐?)\n",
    "- 주식시계열자료의 새로운해석: 원래 우리가 통계에서 다루는 셋팅은 \"관측자료 = 정보 + 오차\"이다.^[참고로 기존에 우리가 다루었던 자료는 엄밀하게 쓰면 \"관측자료 = 정보 + 독립오차\" 임]. 이를 시계열로 바꿔서 표현하면 \"주식시계열자료 = 합리적정보 + 오차 = 합리적정보 + (기세 + 독립오차)\" \n",
    "- 시계열분석: 통계학과에서 배우는 시계열모형들은 \"기세\"를 모델링하는 것임. 즉 비합리적인 오차항을 모델링 하는 것! \n",
    "    - 1시점 전의 기세의 영향을 얼만큼 강하게 볼지 결정하는 일은, AR(1)의 계수값을 결정하는 일과 같은 일이다. \n",
    "    - 몇 시점까지의 기세를 봐야할지 결정하는 일은 AR(p)모형에서 p의 값을 결정하는 일과 같은 일이다. \n",
    "    - 100시점 전까지의 기세를 보고싶다면, 원칙적으로는 AR(100)을 적합해야하지만 그렇다면 너무 학습할 파라메터가 많을 것임. 하지만 이론에 따라서 AR(100)과 비슷한 효과를 주고 파라메터를 더 적게 가지는 MA(q), ARMA(p,q) 와 같은 모형이 존재함이 밝혀짐. 그래서 아주 먼 시점의 기세까지 파악하여 분석해야 한다면 ARMA(p,q)를 적합하는 것이 유리함. \n",
    "    - 트렌드와 계절성을 가지는 시계열 자료는 기세를 모델링하기 어려운데 어쩌지? 제거하고 분석 (ARIMA, SARIMA 등의 개발) \n",
    "    - 기세의 변동성이 시간에 따라 달라진다면 어쩌지? ARCH, GARCH 의 개발 \n",
    "    \n",
    "- 평균정보: 시계열분석에서 합리적정보(평균정보)는 `static_feature`, `known_covariates` 에 포함되어있다.\n",
    "- 장기예측: 장기예측은 평균정보를 잘 추정하는것이 중요하며, 이는 기세를 모델링하는 것과는 별 상관이 없다. (즉 \"좁은\"의미의 시계열분석과 상관이 없다) \n",
    "- 파업선언: 시계열로 장기예측을 해라? 저는 그냥 다른 방법을 썼어요.. "
   ]
  }
 ],
 "metadata": {
  "kernelspec": {
   "display_name": "Python 3 (ipykernel)",
   "language": "python",
   "name": "python3"
  },
  "language_info": {
   "codemirror_mode": {
    "name": "ipython",
    "version": 3
   },
   "file_extension": ".py",
   "mimetype": "text/x-python",
   "name": "python",
   "nbconvert_exporter": "python",
   "pygments_lexer": "ipython3",
   "version": "3.11.6"
  }
 },
 "nbformat": 4,
 "nbformat_minor": 5
}
