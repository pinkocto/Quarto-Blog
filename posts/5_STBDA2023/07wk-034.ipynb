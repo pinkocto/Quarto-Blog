{
 "cells": [
  {
   "cell_type": "raw",
   "id": "49bed5b7-057c-4b2f-b7db-9a6e6ed40cc9",
   "metadata": {
    "tags": []
   },
   "source": [
    "---\n",
    "title: \"07wk-034: 취업(오버피팅) / 의사결정나무\"\n",
    "author: \"JiyunLim\"\n",
    "date: \"10/16/2023\"\n",
    "bibliography: ref.bib\n",
    "draft: false\n",
    "---"
   ]
  },
  {
   "cell_type": "markdown",
   "id": "15314ac9-fb02-4521-bced-e437142e57d7",
   "metadata": {},
   "source": [
    "# 1. 강의영상 "
   ]
  },
  {
   "cell_type": "markdown",
   "id": "191a26b5-e960-47df-ad6f-d854fadceb98",
   "metadata": {},
   "source": [
    "<https://youtu.be/playlist?list=PLQqh36zP38-xYMQe_6GKus4q8E6c5RNIS&si=QtTWrQUAXDgwhxBp>"
   ]
  },
  {
   "cell_type": "markdown",
   "id": "593ebc08-b10c-425a-9834-d0c117e81e11",
   "metadata": {},
   "source": [
    "# 2. Imports "
   ]
  },
  {
   "cell_type": "code",
   "execution_count": 10,
   "id": "e31daebb-7610-4fdc-9875-984095a5e200",
   "metadata": {
    "tags": []
   },
   "outputs": [],
   "source": [
    "import numpy as np\n",
    "import pandas as pd\n",
    "import sklearn.model_selection\n",
    "import sklearn.linear_model\n",
    "import sklearn.tree\n",
    "import matplotlib.pyplot as plt \n",
    "import seaborn as sns"
   ]
  },
  {
   "cell_type": "code",
   "execution_count": 11,
   "id": "242ead66",
   "metadata": {},
   "outputs": [],
   "source": [
    "import warnings\n",
    "warnings.filterwarnings(\"ignore\")"
   ]
  },
  {
   "cell_type": "markdown",
   "id": "b46064ba-d079-4e06-9021-5e6665675659",
   "metadata": {},
   "source": [
    "# 3. Data"
   ]
  },
  {
   "cell_type": "code",
   "execution_count": 12,
   "id": "bd396092-9e0a-4b46-aac2-24d4cc95177f",
   "metadata": {
    "tags": []
   },
   "outputs": [],
   "source": [
    "def generating_df(n_balance):\n",
    "    df = pd.read_csv('https://raw.githubusercontent.com/guebin/MP2023/main/posts/employment.csv')\n",
    "    df_balance = pd.DataFrame((np.random.randn(500,n_balance)).reshape(500,n_balance)*1,columns = ['balance'+str(i) for i in range(n_balance)])\n",
    "    return pd.concat([df,df_balance],axis=1)"
   ]
  },
  {
   "cell_type": "code",
   "execution_count": 13,
   "id": "0caff3dc-6f9a-45e9-8a32-0bdad88de6ee",
   "metadata": {
    "tags": []
   },
   "outputs": [
    {
     "data": {
      "text/html": [
       "<div>\n",
       "<style scoped>\n",
       "    .dataframe tbody tr th:only-of-type {\n",
       "        vertical-align: middle;\n",
       "    }\n",
       "\n",
       "    .dataframe tbody tr th {\n",
       "        vertical-align: top;\n",
       "    }\n",
       "\n",
       "    .dataframe thead th {\n",
       "        text-align: right;\n",
       "    }\n",
       "</style>\n",
       "<table border=\"1\" class=\"dataframe\">\n",
       "  <thead>\n",
       "    <tr style=\"text-align: right;\">\n",
       "      <th></th>\n",
       "      <th>toeic</th>\n",
       "      <th>gpa</th>\n",
       "      <th>employment</th>\n",
       "      <th>balance0</th>\n",
       "      <th>balance1</th>\n",
       "      <th>balance2</th>\n",
       "      <th>balance3</th>\n",
       "      <th>balance4</th>\n",
       "      <th>balance5</th>\n",
       "      <th>balance6</th>\n",
       "      <th>balance7</th>\n",
       "      <th>balance8</th>\n",
       "      <th>balance9</th>\n",
       "    </tr>\n",
       "  </thead>\n",
       "  <tbody>\n",
       "    <tr>\n",
       "      <th>0</th>\n",
       "      <td>135</td>\n",
       "      <td>0.051535</td>\n",
       "      <td>0</td>\n",
       "      <td>0.201954</td>\n",
       "      <td>0.913711</td>\n",
       "      <td>-0.589805</td>\n",
       "      <td>0.316196</td>\n",
       "      <td>1.285975</td>\n",
       "      <td>0.094634</td>\n",
       "      <td>1.781618</td>\n",
       "      <td>-0.810583</td>\n",
       "      <td>1.784278</td>\n",
       "      <td>-0.604258</td>\n",
       "    </tr>\n",
       "    <tr>\n",
       "      <th>1</th>\n",
       "      <td>935</td>\n",
       "      <td>0.355496</td>\n",
       "      <td>0</td>\n",
       "      <td>-0.290880</td>\n",
       "      <td>-0.073337</td>\n",
       "      <td>-0.570444</td>\n",
       "      <td>-1.390016</td>\n",
       "      <td>0.144310</td>\n",
       "      <td>-0.247668</td>\n",
       "      <td>1.736824</td>\n",
       "      <td>-0.766542</td>\n",
       "      <td>-0.279784</td>\n",
       "      <td>-1.525845</td>\n",
       "    </tr>\n",
       "    <tr>\n",
       "      <th>2</th>\n",
       "      <td>485</td>\n",
       "      <td>2.228435</td>\n",
       "      <td>0</td>\n",
       "      <td>1.333870</td>\n",
       "      <td>0.997310</td>\n",
       "      <td>1.500856</td>\n",
       "      <td>0.774262</td>\n",
       "      <td>-0.919978</td>\n",
       "      <td>-0.202276</td>\n",
       "      <td>1.419562</td>\n",
       "      <td>-0.185264</td>\n",
       "      <td>-0.782524</td>\n",
       "      <td>1.766982</td>\n",
       "    </tr>\n",
       "    <tr>\n",
       "      <th>3</th>\n",
       "      <td>65</td>\n",
       "      <td>1.179701</td>\n",
       "      <td>0</td>\n",
       "      <td>1.764506</td>\n",
       "      <td>1.164117</td>\n",
       "      <td>-0.967719</td>\n",
       "      <td>-2.201651</td>\n",
       "      <td>0.655650</td>\n",
       "      <td>0.655106</td>\n",
       "      <td>-1.416480</td>\n",
       "      <td>-0.927737</td>\n",
       "      <td>0.247814</td>\n",
       "      <td>-1.238919</td>\n",
       "    </tr>\n",
       "    <tr>\n",
       "      <th>4</th>\n",
       "      <td>445</td>\n",
       "      <td>3.962356</td>\n",
       "      <td>1</td>\n",
       "      <td>-0.413176</td>\n",
       "      <td>0.988229</td>\n",
       "      <td>0.564624</td>\n",
       "      <td>0.885567</td>\n",
       "      <td>0.560682</td>\n",
       "      <td>-2.880517</td>\n",
       "      <td>0.714108</td>\n",
       "      <td>0.522645</td>\n",
       "      <td>-1.822700</td>\n",
       "      <td>0.794012</td>\n",
       "    </tr>\n",
       "    <tr>\n",
       "      <th>...</th>\n",
       "      <td>...</td>\n",
       "      <td>...</td>\n",
       "      <td>...</td>\n",
       "      <td>...</td>\n",
       "      <td>...</td>\n",
       "      <td>...</td>\n",
       "      <td>...</td>\n",
       "      <td>...</td>\n",
       "      <td>...</td>\n",
       "      <td>...</td>\n",
       "      <td>...</td>\n",
       "      <td>...</td>\n",
       "      <td>...</td>\n",
       "    </tr>\n",
       "    <tr>\n",
       "      <th>495</th>\n",
       "      <td>280</td>\n",
       "      <td>4.288465</td>\n",
       "      <td>1</td>\n",
       "      <td>0.431759</td>\n",
       "      <td>2.153168</td>\n",
       "      <td>1.579232</td>\n",
       "      <td>-1.154426</td>\n",
       "      <td>0.208956</td>\n",
       "      <td>-0.549120</td>\n",
       "      <td>1.676330</td>\n",
       "      <td>-0.015323</td>\n",
       "      <td>1.859426</td>\n",
       "      <td>-0.918818</td>\n",
       "    </tr>\n",
       "    <tr>\n",
       "      <th>496</th>\n",
       "      <td>310</td>\n",
       "      <td>2.601212</td>\n",
       "      <td>1</td>\n",
       "      <td>0.716791</td>\n",
       "      <td>-0.428856</td>\n",
       "      <td>-0.770143</td>\n",
       "      <td>-0.362971</td>\n",
       "      <td>1.191776</td>\n",
       "      <td>-0.763958</td>\n",
       "      <td>-0.071902</td>\n",
       "      <td>1.107869</td>\n",
       "      <td>0.963393</td>\n",
       "      <td>-0.996926</td>\n",
       "    </tr>\n",
       "    <tr>\n",
       "      <th>497</th>\n",
       "      <td>225</td>\n",
       "      <td>0.042323</td>\n",
       "      <td>0</td>\n",
       "      <td>1.019516</td>\n",
       "      <td>-0.765429</td>\n",
       "      <td>1.868903</td>\n",
       "      <td>-0.285379</td>\n",
       "      <td>0.080620</td>\n",
       "      <td>2.006618</td>\n",
       "      <td>-1.155571</td>\n",
       "      <td>-0.395149</td>\n",
       "      <td>-0.430279</td>\n",
       "      <td>0.712161</td>\n",
       "    </tr>\n",
       "    <tr>\n",
       "      <th>498</th>\n",
       "      <td>320</td>\n",
       "      <td>1.041416</td>\n",
       "      <td>0</td>\n",
       "      <td>-1.195398</td>\n",
       "      <td>0.470352</td>\n",
       "      <td>-0.374949</td>\n",
       "      <td>-0.397581</td>\n",
       "      <td>1.556866</td>\n",
       "      <td>0.281161</td>\n",
       "      <td>-0.217248</td>\n",
       "      <td>-1.649043</td>\n",
       "      <td>0.252582</td>\n",
       "      <td>0.817852</td>\n",
       "    </tr>\n",
       "    <tr>\n",
       "      <th>499</th>\n",
       "      <td>375</td>\n",
       "      <td>3.626883</td>\n",
       "      <td>1</td>\n",
       "      <td>-0.445898</td>\n",
       "      <td>0.390302</td>\n",
       "      <td>-0.403406</td>\n",
       "      <td>-0.528904</td>\n",
       "      <td>1.745216</td>\n",
       "      <td>1.194092</td>\n",
       "      <td>0.627451</td>\n",
       "      <td>0.583121</td>\n",
       "      <td>1.058502</td>\n",
       "      <td>-1.095658</td>\n",
       "    </tr>\n",
       "  </tbody>\n",
       "</table>\n",
       "<p>500 rows × 13 columns</p>\n",
       "</div>"
      ],
      "text/plain": [
       "     toeic       gpa  employment  balance0  balance1  balance2  balance3  \\\n",
       "0      135  0.051535           0  0.201954  0.913711 -0.589805  0.316196   \n",
       "1      935  0.355496           0 -0.290880 -0.073337 -0.570444 -1.390016   \n",
       "2      485  2.228435           0  1.333870  0.997310  1.500856  0.774262   \n",
       "3       65  1.179701           0  1.764506  1.164117 -0.967719 -2.201651   \n",
       "4      445  3.962356           1 -0.413176  0.988229  0.564624  0.885567   \n",
       "..     ...       ...         ...       ...       ...       ...       ...   \n",
       "495    280  4.288465           1  0.431759  2.153168  1.579232 -1.154426   \n",
       "496    310  2.601212           1  0.716791 -0.428856 -0.770143 -0.362971   \n",
       "497    225  0.042323           0  1.019516 -0.765429  1.868903 -0.285379   \n",
       "498    320  1.041416           0 -1.195398  0.470352 -0.374949 -0.397581   \n",
       "499    375  3.626883           1 -0.445898  0.390302 -0.403406 -0.528904   \n",
       "\n",
       "     balance4  balance5  balance6  balance7  balance8  balance9  \n",
       "0    1.285975  0.094634  1.781618 -0.810583  1.784278 -0.604258  \n",
       "1    0.144310 -0.247668  1.736824 -0.766542 -0.279784 -1.525845  \n",
       "2   -0.919978 -0.202276  1.419562 -0.185264 -0.782524  1.766982  \n",
       "3    0.655650  0.655106 -1.416480 -0.927737  0.247814 -1.238919  \n",
       "4    0.560682 -2.880517  0.714108  0.522645 -1.822700  0.794012  \n",
       "..        ...       ...       ...       ...       ...       ...  \n",
       "495  0.208956 -0.549120  1.676330 -0.015323  1.859426 -0.918818  \n",
       "496  1.191776 -0.763958 -0.071902  1.107869  0.963393 -0.996926  \n",
       "497  0.080620  2.006618 -1.155571 -0.395149 -0.430279  0.712161  \n",
       "498  1.556866  0.281161 -0.217248 -1.649043  0.252582  0.817852  \n",
       "499  1.745216  1.194092  0.627451  0.583121  1.058502 -1.095658  \n",
       "\n",
       "[500 rows x 13 columns]"
      ]
     },
     "execution_count": 13,
     "metadata": {},
     "output_type": "execute_result"
    }
   ],
   "source": [
    "df = generating_df(10)\n",
    "df"
   ]
  },
  {
   "cell_type": "code",
   "execution_count": 15,
   "id": "a05e2d1c-4876-40f4-a9ac-214c6e6315c6",
   "metadata": {
    "tags": []
   },
   "outputs": [],
   "source": [
    "df_train, df_test = sklearn.model_selection.train_test_split(df, test_size=0.7, random_state=42)"
   ]
  },
  {
   "cell_type": "code",
   "execution_count": 16,
   "id": "5b46810c-d9e0-4468-8fe3-9f39d22f44b1",
   "metadata": {
    "tags": []
   },
   "outputs": [],
   "source": [
    "X,y = df_train.drop(['employment'],axis=1), df_train['employment']\n",
    "XX,yy = df_test.drop(['employment'],axis=1), df_test['employment']"
   ]
  },
  {
   "cell_type": "markdown",
   "id": "0c6badd6-f784-4768-8a95-21d1a0190b18",
   "metadata": {},
   "source": [
    "# 4. 분석"
   ]
  },
  {
   "cell_type": "markdown",
   "id": "1589ea6d-eddd-421c-abf4-b5a6c1f66bab",
   "metadata": {},
   "source": [
    "`-` 분석1: 의사결정나무"
   ]
  },
  {
   "cell_type": "code",
   "execution_count": 17,
   "id": "b6f31e67-cfdd-4ca2-84c1-3e0f57c9db11",
   "metadata": {
    "tags": []
   },
   "outputs": [
    {
     "name": "stdout",
     "output_type": "stream",
     "text": [
      "train_score = 1.0000\n",
      "test_score = 0.7057\n"
     ]
    }
   ],
   "source": [
    "## step1 -- pass\n",
    "## step2 \n",
    "predictr = sklearn.tree.DecisionTreeClassifier(random_state=42)\n",
    "## step3 \n",
    "predictr.fit(X,y)\n",
    "## step4\n",
    "df_train['employment'] = predictr.predict(X)\n",
    "df_test['employment'] = predictr.predict(XX)\n",
    "#--#\n",
    "print(f'train_score = {predictr.score(X,y):.4f}')\n",
    "print(f'test_score = {predictr.score(XX,yy):.4f}')"
   ]
  },
  {
   "cell_type": "markdown",
   "id": "0085d7a3-4869-4028-bee8-76d98874a111",
   "metadata": {},
   "source": [
    "`-` 분석2: 로지스틱 + Ridge"
   ]
  },
  {
   "cell_type": "markdown",
   "id": "67b4517a-8ac4-49f1-938a-60281f2ce772",
   "metadata": {},
   "source": [
    ":::{.callout-note}\n",
    "## LogisticRegressionCV()에서 solver 선택하는 법\n",
    "\n",
    "Warning The choice of the algorithm depends on the penalty chosen. Supported penalties by solver:\n",
    "\r",
    "- `lbfgs` : ['l2']\n",
    "\n",
    "- `liblinear` : ['l1', 'l2']\n",
    "\n",
    "- `newton-cg` : ['l2']\n",
    "\n",
    "- `newton-cholesky` : ['l2']\n",
    "\n",
    "- `sag` : ['l2']\n",
    "\n",
    "- `saga` : ['elasticnet', 'l1', 'l2']\n",
    "\n",
    "- ref: <https://scikit-learn.org/stable/modules/generated/sklearn.linear_model.LogisticRegressionCV.html>\n",
    ":::‘l1’, ‘l2’]"
   ]
  },
  {
   "cell_type": "code",
   "execution_count": 18,
   "id": "e3c6d4c8-ddeb-484e-a538-df40ea845158",
   "metadata": {
    "tags": []
   },
   "outputs": [
    {
     "name": "stdout",
     "output_type": "stream",
     "text": [
      "train_score = 0.8733\n",
      "test_score = 0.8743\n"
     ]
    }
   ],
   "source": [
    "## step1 -- pass\n",
    "## step2 \n",
    "predictr = sklearn.linear_model.LogisticRegressionCV(penalty='l2') ## logistic + Ridge\n",
    "## step3 \n",
    "predictr.fit(X,y)\n",
    "## step4\n",
    "df_train['employment'] = predictr.predict(X)\n",
    "df_test['employment'] = predictr.predict(XX)\n",
    "#--#\n",
    "print(f'train_score = {predictr.score(X,y):.4f}')\n",
    "print(f'test_score = {predictr.score(XX,yy):.4f}')"
   ]
  },
  {
   "cell_type": "markdown",
   "id": "9649c841-f526-412a-8561-a937a201432f",
   "metadata": {},
   "source": [
    "`-` 분석3: 로지스틱 + Lasso "
   ]
  },
  {
   "cell_type": "code",
   "execution_count": 21,
   "id": "9df0e379-661f-43e8-a80f-88dea71be763",
   "metadata": {
    "tags": []
   },
   "outputs": [
    {
     "name": "stdout",
     "output_type": "stream",
     "text": [
      "train_score = 0.8800\n",
      "test_score = 0.8686\n"
     ]
    }
   ],
   "source": [
    "## step1 -- pass\n",
    "## step2 \n",
    "predictr = sklearn.linear_model.LogisticRegressionCV(penalty='l1', solver='liblinear')\n",
    "## step3 \n",
    "predictr.fit(X,y)\n",
    "## step4\n",
    "df_train['employment'] = predictr.predict(X)\n",
    "df_test['employment'] = predictr.predict(XX)\n",
    "#--#\n",
    "print(f'train_score = {predictr.score(X,y):.4f}')\n",
    "print(f'test_score = {predictr.score(XX,yy):.4f}')"
   ]
  },
  {
   "cell_type": "markdown",
   "id": "a2c08e11-aefd-4e2b-a9ee-d0a218114c2b",
   "metadata": {},
   "source": [
    "# 5. 연구"
   ]
  },
  {
   "cell_type": "markdown",
   "id": "7fd81584-ca5e-42c6-b7d9-6647ffa0a3fe",
   "metadata": {},
   "source": [
    "`-` Balance 변수들의 수가 커짐에 따라서 각 방법들(의사결정나무, 로지스틱+Ridge, 로지스틱+Lasso)의 train/test score는 어떻게 변화할까? "
   ]
  },
  {
   "cell_type": "markdown",
   "id": "08356f77-cd32-420c-ae4d-1b01c84ee7c9",
   "metadata": {},
   "source": [
    "`-` df, predictor -> train_score, test_score 와 같은 함수를 만들자. "
   ]
  },
  {
   "cell_type": "code",
   "execution_count": 22,
   "id": "3cde92aa",
   "metadata": {},
   "outputs": [],
   "source": [
    "def anal(df,predictr):\n",
    "    df_train, df_test = sklearn.model_selection.train_test_split(df, test_size=0.7, random_state=42)\n",
    "    X,y = df_train.drop(['employment'],axis=1), df_train['employment']\n",
    "    XX,yy = df_test.drop(['employment'],axis=1), df_test['employment']\n",
    "    ## step1 -- pass\n",
    "    ## step2 -- pass \n",
    "    ## step3 \n",
    "    predictr.fit(X,y)\n",
    "    ## step4 -- pass \n",
    "    #--#\n",
    "    return predictr.score(X,y),predictr.score(XX,yy)"
   ]
  },
  {
   "cell_type": "code",
   "execution_count": 23,
   "id": "bb905a9a",
   "metadata": {},
   "outputs": [],
   "source": [
    "predictr = sklearn.tree.DecisionTreeClassifier()"
   ]
  },
  {
   "cell_type": "code",
   "execution_count": 24,
   "id": "034081dc",
   "metadata": {},
   "outputs": [
    {
     "data": {
      "text/plain": [
       "(1.0, 0.7085714285714285)"
      ]
     },
     "execution_count": 24,
     "metadata": {},
     "output_type": "execute_result"
    }
   ],
   "source": [
    "anal(df,predictr)"
   ]
  },
  {
   "cell_type": "markdown",
   "id": "b374f1ff-11e0-4371-b5dd-c6e51090f96a",
   "metadata": {},
   "source": [
    "`-` 실험해보자. "
   ]
  },
  {
   "cell_type": "code",
   "execution_count": 25,
   "id": "2a9812c5",
   "metadata": {},
   "outputs": [],
   "source": [
    "n_balance_lst = range(0,5000,50)"
   ]
  },
  {
   "cell_type": "code",
   "execution_count": 28,
   "id": "73cabaf2",
   "metadata": {},
   "outputs": [],
   "source": [
    "predictrs = [sklearn.tree.DecisionTreeClassifier(random_state=42), # dt\n",
    "             sklearn.linear_model.LogisticRegressionCV(penalty='l2'), # logitstic + ridge\n",
    "             sklearn.linear_model.LogisticRegressionCV(penalty='l1', solver='liblinear')] # logistic + lasso"
   ]
  },
  {
   "cell_type": "code",
   "execution_count": 32,
   "id": "03bcd0d5",
   "metadata": {},
   "outputs": [],
   "source": [
    "# 4분 ~ 5분정도 걸림.\n",
    "lst = [[anal(generating_df(n_balance),predictr) for predictr in predictrs] for n_balance in n_balance_lst]"
   ]
  },
  {
   "cell_type": "code",
   "execution_count": 65,
   "id": "486f86f2-8ad9-4f54-bcaf-ca641afd3bb0",
   "metadata": {},
   "outputs": [
    {
     "data": {
      "text/plain": [
       "(100, 3, 2)"
      ]
     },
     "execution_count": 65,
     "metadata": {},
     "output_type": "execute_result"
    }
   ],
   "source": [
    "np.array(lst).shape # 데이터셋의 개수 x 모델종류 x score(train / test)"
   ]
  },
  {
   "cell_type": "markdown",
   "id": "268e4cce",
   "metadata": {},
   "source": [
    "`-` 실험결과 정리 "
   ]
  },
  {
   "cell_type": "code",
   "execution_count": 67,
   "id": "3b270864",
   "metadata": {},
   "outputs": [],
   "source": [
    "arr = np.array(lst)\n",
    "tr = arr[:,:,0] # train score\n",
    "tst = arr[:,:,1] # test score"
   ]
  },
  {
   "cell_type": "code",
   "execution_count": 76,
   "id": "299d428d-ff0f-4202-a2f9-df1fe2be6561",
   "metadata": {},
   "outputs": [
    {
     "data": {
      "text/html": [
       "<div>\n",
       "<style scoped>\n",
       "    .dataframe tbody tr th:only-of-type {\n",
       "        vertical-align: middle;\n",
       "    }\n",
       "\n",
       "    .dataframe tbody tr th {\n",
       "        vertical-align: top;\n",
       "    }\n",
       "\n",
       "    .dataframe thead th {\n",
       "        text-align: right;\n",
       "    }\n",
       "</style>\n",
       "<table border=\"1\" class=\"dataframe\">\n",
       "  <thead>\n",
       "    <tr style=\"text-align: right;\">\n",
       "      <th></th>\n",
       "      <th>tree</th>\n",
       "      <th>ridge</th>\n",
       "      <th>lasso</th>\n",
       "      <th>dataset</th>\n",
       "      <th>n_balance</th>\n",
       "    </tr>\n",
       "  </thead>\n",
       "  <tbody>\n",
       "    <tr>\n",
       "      <th>0</th>\n",
       "      <td>1.0</td>\n",
       "      <td>0.866667</td>\n",
       "      <td>0.853333</td>\n",
       "      <td>train</td>\n",
       "      <td>0</td>\n",
       "    </tr>\n",
       "    <tr>\n",
       "      <th>1</th>\n",
       "      <td>1.0</td>\n",
       "      <td>0.773333</td>\n",
       "      <td>0.940000</td>\n",
       "      <td>train</td>\n",
       "      <td>50</td>\n",
       "    </tr>\n",
       "    <tr>\n",
       "      <th>2</th>\n",
       "      <td>1.0</td>\n",
       "      <td>0.980000</td>\n",
       "      <td>0.933333</td>\n",
       "      <td>train</td>\n",
       "      <td>100</td>\n",
       "    </tr>\n",
       "    <tr>\n",
       "      <th>3</th>\n",
       "      <td>1.0</td>\n",
       "      <td>0.986667</td>\n",
       "      <td>1.000000</td>\n",
       "      <td>train</td>\n",
       "      <td>150</td>\n",
       "    </tr>\n",
       "    <tr>\n",
       "      <th>4</th>\n",
       "      <td>1.0</td>\n",
       "      <td>0.886667</td>\n",
       "      <td>1.000000</td>\n",
       "      <td>train</td>\n",
       "      <td>200</td>\n",
       "    </tr>\n",
       "    <tr>\n",
       "      <th>...</th>\n",
       "      <td>...</td>\n",
       "      <td>...</td>\n",
       "      <td>...</td>\n",
       "      <td>...</td>\n",
       "      <td>...</td>\n",
       "    </tr>\n",
       "    <tr>\n",
       "      <th>95</th>\n",
       "      <td>1.0</td>\n",
       "      <td>1.000000</td>\n",
       "      <td>1.000000</td>\n",
       "      <td>train</td>\n",
       "      <td>4750</td>\n",
       "    </tr>\n",
       "    <tr>\n",
       "      <th>96</th>\n",
       "      <td>1.0</td>\n",
       "      <td>1.000000</td>\n",
       "      <td>1.000000</td>\n",
       "      <td>train</td>\n",
       "      <td>4800</td>\n",
       "    </tr>\n",
       "    <tr>\n",
       "      <th>97</th>\n",
       "      <td>1.0</td>\n",
       "      <td>1.000000</td>\n",
       "      <td>0.526667</td>\n",
       "      <td>train</td>\n",
       "      <td>4850</td>\n",
       "    </tr>\n",
       "    <tr>\n",
       "      <th>98</th>\n",
       "      <td>1.0</td>\n",
       "      <td>1.000000</td>\n",
       "      <td>1.000000</td>\n",
       "      <td>train</td>\n",
       "      <td>4900</td>\n",
       "    </tr>\n",
       "    <tr>\n",
       "      <th>99</th>\n",
       "      <td>1.0</td>\n",
       "      <td>1.000000</td>\n",
       "      <td>0.526667</td>\n",
       "      <td>train</td>\n",
       "      <td>4950</td>\n",
       "    </tr>\n",
       "  </tbody>\n",
       "</table>\n",
       "<p>100 rows × 5 columns</p>\n",
       "</div>"
      ],
      "text/plain": [
       "    tree     ridge     lasso dataset  n_balance\n",
       "0    1.0  0.866667  0.853333   train          0\n",
       "1    1.0  0.773333  0.940000   train         50\n",
       "2    1.0  0.980000  0.933333   train        100\n",
       "3    1.0  0.986667  1.000000   train        150\n",
       "4    1.0  0.886667  1.000000   train        200\n",
       "..   ...       ...       ...     ...        ...\n",
       "95   1.0  1.000000  1.000000   train       4750\n",
       "96   1.0  1.000000  1.000000   train       4800\n",
       "97   1.0  1.000000  0.526667   train       4850\n",
       "98   1.0  1.000000  1.000000   train       4900\n",
       "99   1.0  1.000000  0.526667   train       4950\n",
       "\n",
       "[100 rows x 5 columns]"
      ]
     },
     "execution_count": 76,
     "metadata": {},
     "output_type": "execute_result"
    }
   ],
   "source": [
    "df1 = pd.DataFrame(tr, columns = ['tree','ridge','lasso']).eval('dataset = \"train\"').eval('n_balance=@n_balance_lst')\n",
    "df1"
   ]
  },
  {
   "cell_type": "code",
   "execution_count": 77,
   "id": "aee1b1e0-7982-4f82-9bc0-1e2836a4ed35",
   "metadata": {},
   "outputs": [
    {
     "data": {
      "text/html": [
       "<div>\n",
       "<style scoped>\n",
       "    .dataframe tbody tr th:only-of-type {\n",
       "        vertical-align: middle;\n",
       "    }\n",
       "\n",
       "    .dataframe tbody tr th {\n",
       "        vertical-align: top;\n",
       "    }\n",
       "\n",
       "    .dataframe thead th {\n",
       "        text-align: right;\n",
       "    }\n",
       "</style>\n",
       "<table border=\"1\" class=\"dataframe\">\n",
       "  <thead>\n",
       "    <tr style=\"text-align: right;\">\n",
       "      <th></th>\n",
       "      <th>tree</th>\n",
       "      <th>ridge</th>\n",
       "      <th>lasso</th>\n",
       "      <th>dataset</th>\n",
       "      <th>n_balance</th>\n",
       "    </tr>\n",
       "  </thead>\n",
       "  <tbody>\n",
       "    <tr>\n",
       "      <th>0</th>\n",
       "      <td>0.754286</td>\n",
       "      <td>0.877143</td>\n",
       "      <td>0.868571</td>\n",
       "      <td>test</td>\n",
       "      <td>0</td>\n",
       "    </tr>\n",
       "    <tr>\n",
       "      <th>1</th>\n",
       "      <td>0.762857</td>\n",
       "      <td>0.725714</td>\n",
       "      <td>0.857143</td>\n",
       "      <td>test</td>\n",
       "      <td>50</td>\n",
       "    </tr>\n",
       "    <tr>\n",
       "      <th>2</th>\n",
       "      <td>0.754286</td>\n",
       "      <td>0.805714</td>\n",
       "      <td>0.825714</td>\n",
       "      <td>test</td>\n",
       "      <td>100</td>\n",
       "    </tr>\n",
       "    <tr>\n",
       "      <th>3</th>\n",
       "      <td>0.720000</td>\n",
       "      <td>0.748571</td>\n",
       "      <td>0.831429</td>\n",
       "      <td>test</td>\n",
       "      <td>150</td>\n",
       "    </tr>\n",
       "    <tr>\n",
       "      <th>4</th>\n",
       "      <td>0.731429</td>\n",
       "      <td>0.714286</td>\n",
       "      <td>0.748571</td>\n",
       "      <td>test</td>\n",
       "      <td>200</td>\n",
       "    </tr>\n",
       "    <tr>\n",
       "      <th>...</th>\n",
       "      <td>...</td>\n",
       "      <td>...</td>\n",
       "      <td>...</td>\n",
       "      <td>...</td>\n",
       "      <td>...</td>\n",
       "    </tr>\n",
       "    <tr>\n",
       "      <th>95</th>\n",
       "      <td>0.674286</td>\n",
       "      <td>0.640000</td>\n",
       "      <td>0.622857</td>\n",
       "      <td>test</td>\n",
       "      <td>4750</td>\n",
       "    </tr>\n",
       "    <tr>\n",
       "      <th>96</th>\n",
       "      <td>0.714286</td>\n",
       "      <td>0.597143</td>\n",
       "      <td>0.591429</td>\n",
       "      <td>test</td>\n",
       "      <td>4800</td>\n",
       "    </tr>\n",
       "    <tr>\n",
       "      <th>97</th>\n",
       "      <td>0.637143</td>\n",
       "      <td>0.602857</td>\n",
       "      <td>0.505714</td>\n",
       "      <td>test</td>\n",
       "      <td>4850</td>\n",
       "    </tr>\n",
       "    <tr>\n",
       "      <th>98</th>\n",
       "      <td>0.694286</td>\n",
       "      <td>0.591429</td>\n",
       "      <td>0.631429</td>\n",
       "      <td>test</td>\n",
       "      <td>4900</td>\n",
       "    </tr>\n",
       "    <tr>\n",
       "      <th>99</th>\n",
       "      <td>0.705714</td>\n",
       "      <td>0.608571</td>\n",
       "      <td>0.505714</td>\n",
       "      <td>test</td>\n",
       "      <td>4950</td>\n",
       "    </tr>\n",
       "  </tbody>\n",
       "</table>\n",
       "<p>100 rows × 5 columns</p>\n",
       "</div>"
      ],
      "text/plain": [
       "        tree     ridge     lasso dataset  n_balance\n",
       "0   0.754286  0.877143  0.868571    test          0\n",
       "1   0.762857  0.725714  0.857143    test         50\n",
       "2   0.754286  0.805714  0.825714    test        100\n",
       "3   0.720000  0.748571  0.831429    test        150\n",
       "4   0.731429  0.714286  0.748571    test        200\n",
       "..       ...       ...       ...     ...        ...\n",
       "95  0.674286  0.640000  0.622857    test       4750\n",
       "96  0.714286  0.597143  0.591429    test       4800\n",
       "97  0.637143  0.602857  0.505714    test       4850\n",
       "98  0.694286  0.591429  0.631429    test       4900\n",
       "99  0.705714  0.608571  0.505714    test       4950\n",
       "\n",
       "[100 rows x 5 columns]"
      ]
     },
     "execution_count": 77,
     "metadata": {},
     "output_type": "execute_result"
    }
   ],
   "source": [
    "df2 = pd.DataFrame(tst, columns = ['tree','ridge','lasso']).eval('dataset = \"test\"').eval('n_balance = @n_balance_lst')\n",
    "df2"
   ]
  },
  {
   "cell_type": "markdown",
   "id": "42cfdf9d-2fc7-4aa3-8933-b51d67b7d040",
   "metadata": {},
   "source": [
    "- ridge랑 lasso는 score가 갈수록 현저히 떨어진다."
   ]
  },
  {
   "cell_type": "code",
   "execution_count": 89,
   "id": "ce30806e-055e-4163-9453-4864d416ff55",
   "metadata": {},
   "outputs": [
    {
     "data": {
      "text/html": [
       "<div>\n",
       "<style scoped>\n",
       "    .dataframe tbody tr th:only-of-type {\n",
       "        vertical-align: middle;\n",
       "    }\n",
       "\n",
       "    .dataframe tbody tr th {\n",
       "        vertical-align: top;\n",
       "    }\n",
       "\n",
       "    .dataframe thead th {\n",
       "        text-align: right;\n",
       "    }\n",
       "</style>\n",
       "<table border=\"1\" class=\"dataframe\">\n",
       "  <thead>\n",
       "    <tr style=\"text-align: right;\">\n",
       "      <th></th>\n",
       "      <th>dataset</th>\n",
       "      <th>n_balance</th>\n",
       "      <th>method</th>\n",
       "      <th>score</th>\n",
       "    </tr>\n",
       "  </thead>\n",
       "  <tbody>\n",
       "    <tr>\n",
       "      <th>0</th>\n",
       "      <td>train</td>\n",
       "      <td>0</td>\n",
       "      <td>tree</td>\n",
       "      <td>1.000000</td>\n",
       "    </tr>\n",
       "    <tr>\n",
       "      <th>1</th>\n",
       "      <td>train</td>\n",
       "      <td>0</td>\n",
       "      <td>ridge</td>\n",
       "      <td>0.866667</td>\n",
       "    </tr>\n",
       "    <tr>\n",
       "      <th>2</th>\n",
       "      <td>train</td>\n",
       "      <td>0</td>\n",
       "      <td>lasso</td>\n",
       "      <td>0.853333</td>\n",
       "    </tr>\n",
       "    <tr>\n",
       "      <th>3</th>\n",
       "      <td>train</td>\n",
       "      <td>50</td>\n",
       "      <td>tree</td>\n",
       "      <td>1.000000</td>\n",
       "    </tr>\n",
       "    <tr>\n",
       "      <th>4</th>\n",
       "      <td>train</td>\n",
       "      <td>50</td>\n",
       "      <td>ridge</td>\n",
       "      <td>0.773333</td>\n",
       "    </tr>\n",
       "    <tr>\n",
       "      <th>...</th>\n",
       "      <td>...</td>\n",
       "      <td>...</td>\n",
       "      <td>...</td>\n",
       "      <td>...</td>\n",
       "    </tr>\n",
       "    <tr>\n",
       "      <th>595</th>\n",
       "      <td>test</td>\n",
       "      <td>4900</td>\n",
       "      <td>ridge</td>\n",
       "      <td>0.591429</td>\n",
       "    </tr>\n",
       "    <tr>\n",
       "      <th>596</th>\n",
       "      <td>test</td>\n",
       "      <td>4900</td>\n",
       "      <td>lasso</td>\n",
       "      <td>0.631429</td>\n",
       "    </tr>\n",
       "    <tr>\n",
       "      <th>597</th>\n",
       "      <td>test</td>\n",
       "      <td>4950</td>\n",
       "      <td>tree</td>\n",
       "      <td>0.705714</td>\n",
       "    </tr>\n",
       "    <tr>\n",
       "      <th>598</th>\n",
       "      <td>test</td>\n",
       "      <td>4950</td>\n",
       "      <td>ridge</td>\n",
       "      <td>0.608571</td>\n",
       "    </tr>\n",
       "    <tr>\n",
       "      <th>599</th>\n",
       "      <td>test</td>\n",
       "      <td>4950</td>\n",
       "      <td>lasso</td>\n",
       "      <td>0.505714</td>\n",
       "    </tr>\n",
       "  </tbody>\n",
       "</table>\n",
       "<p>600 rows × 4 columns</p>\n",
       "</div>"
      ],
      "text/plain": [
       "    dataset  n_balance method     score\n",
       "0     train          0   tree  1.000000\n",
       "1     train          0  ridge  0.866667\n",
       "2     train          0  lasso  0.853333\n",
       "3     train         50   tree  1.000000\n",
       "4     train         50  ridge  0.773333\n",
       "..      ...        ...    ...       ...\n",
       "595    test       4900  ridge  0.591429\n",
       "596    test       4900  lasso  0.631429\n",
       "597    test       4950   tree  0.705714\n",
       "598    test       4950  ridge  0.608571\n",
       "599    test       4950  lasso  0.505714\n",
       "\n",
       "[600 rows x 4 columns]"
      ]
     },
     "execution_count": 89,
     "metadata": {},
     "output_type": "execute_result"
    }
   ],
   "source": [
    "pd.concat([df1, df2]).set_index(['dataset','n_balance']).stack().reset_index().set_axis(['dataset','n_balance','method','score'], axis=1)"
   ]
  },
  {
   "cell_type": "code",
   "execution_count": 90,
   "id": "4c6764ee",
   "metadata": {},
   "outputs": [],
   "source": [
    "df1= pd.DataFrame(tr,columns=['tree','ridge','lasso']).eval('dataset = \"train\"').eval('n_balance = @n_balance_lst')\n",
    "df2= pd.DataFrame(tst,columns=['tree','ridge','lasso']).eval('dataset = \"test\"').eval('n_balance = @n_balance_lst')\n",
    "result_df = pd.concat([df1,df2]).set_index(['dataset','n_balance']).stack().reset_index().set_axis(['dataset','n_balance','method','score'],axis=1)"
   ]
  },
  {
   "cell_type": "code",
   "execution_count": 153,
   "id": "10595149",
   "metadata": {},
   "outputs": [
    {
     "data": {
      "text/plain": [
       "<Axes: xlabel='n_balance', ylabel='score'>"
      ]
     },
     "execution_count": 153,
     "metadata": {},
     "output_type": "execute_result"
    },
    {
     "data": {
      "image/png": "[encoded data removed]",
      "text/plain": [
       "<Figure size 640x480 with 1 Axes>"
      ]
     },
     "metadata": {},
     "output_type": "display_data"
    }
   ],
   "source": [
    "sns.lineplot(result_df.query('dataset==\"test\"'),x='n_balance',y='score',hue='method')"
   ]
  },
  {
   "cell_type": "code",
   "execution_count": 94,
   "id": "5a4883db-fc0b-4946-a0f8-fa21a58e510b",
   "metadata": {},
   "outputs": [
    {
     "data": {
      "text/html": [
       "<div>\n",
       "<style scoped>\n",
       "    .dataframe tbody tr th:only-of-type {\n",
       "        vertical-align: middle;\n",
       "    }\n",
       "\n",
       "    .dataframe tbody tr th {\n",
       "        vertical-align: top;\n",
       "    }\n",
       "\n",
       "    .dataframe thead th {\n",
       "        text-align: right;\n",
       "    }\n",
       "</style>\n",
       "<table border=\"1\" class=\"dataframe\">\n",
       "  <thead>\n",
       "    <tr style=\"text-align: right;\">\n",
       "      <th></th>\n",
       "      <th>dataset</th>\n",
       "      <th>n_balance</th>\n",
       "      <th>method</th>\n",
       "      <th>score</th>\n",
       "    </tr>\n",
       "  </thead>\n",
       "  <tbody>\n",
       "    <tr>\n",
       "      <th>300</th>\n",
       "      <td>test</td>\n",
       "      <td>0</td>\n",
       "      <td>tree</td>\n",
       "      <td>0.754286</td>\n",
       "    </tr>\n",
       "    <tr>\n",
       "      <th>301</th>\n",
       "      <td>test</td>\n",
       "      <td>0</td>\n",
       "      <td>ridge</td>\n",
       "      <td>0.877143</td>\n",
       "    </tr>\n",
       "    <tr>\n",
       "      <th>302</th>\n",
       "      <td>test</td>\n",
       "      <td>0</td>\n",
       "      <td>lasso</td>\n",
       "      <td>0.868571</td>\n",
       "    </tr>\n",
       "    <tr>\n",
       "      <th>303</th>\n",
       "      <td>test</td>\n",
       "      <td>50</td>\n",
       "      <td>tree</td>\n",
       "      <td>0.762857</td>\n",
       "    </tr>\n",
       "    <tr>\n",
       "      <th>304</th>\n",
       "      <td>test</td>\n",
       "      <td>50</td>\n",
       "      <td>ridge</td>\n",
       "      <td>0.725714</td>\n",
       "    </tr>\n",
       "    <tr>\n",
       "      <th>...</th>\n",
       "      <td>...</td>\n",
       "      <td>...</td>\n",
       "      <td>...</td>\n",
       "      <td>...</td>\n",
       "    </tr>\n",
       "    <tr>\n",
       "      <th>595</th>\n",
       "      <td>test</td>\n",
       "      <td>4900</td>\n",
       "      <td>ridge</td>\n",
       "      <td>0.591429</td>\n",
       "    </tr>\n",
       "    <tr>\n",
       "      <th>596</th>\n",
       "      <td>test</td>\n",
       "      <td>4900</td>\n",
       "      <td>lasso</td>\n",
       "      <td>0.631429</td>\n",
       "    </tr>\n",
       "    <tr>\n",
       "      <th>597</th>\n",
       "      <td>test</td>\n",
       "      <td>4950</td>\n",
       "      <td>tree</td>\n",
       "      <td>0.705714</td>\n",
       "    </tr>\n",
       "    <tr>\n",
       "      <th>598</th>\n",
       "      <td>test</td>\n",
       "      <td>4950</td>\n",
       "      <td>ridge</td>\n",
       "      <td>0.608571</td>\n",
       "    </tr>\n",
       "    <tr>\n",
       "      <th>599</th>\n",
       "      <td>test</td>\n",
       "      <td>4950</td>\n",
       "      <td>lasso</td>\n",
       "      <td>0.505714</td>\n",
       "    </tr>\n",
       "  </tbody>\n",
       "</table>\n",
       "<p>300 rows × 4 columns</p>\n",
       "</div>"
      ],
      "text/plain": [
       "    dataset  n_balance method     score\n",
       "300    test          0   tree  0.754286\n",
       "301    test          0  ridge  0.877143\n",
       "302    test          0  lasso  0.868571\n",
       "303    test         50   tree  0.762857\n",
       "304    test         50  ridge  0.725714\n",
       "..      ...        ...    ...       ...\n",
       "595    test       4900  ridge  0.591429\n",
       "596    test       4900  lasso  0.631429\n",
       "597    test       4950   tree  0.705714\n",
       "598    test       4950  ridge  0.608571\n",
       "599    test       4950  lasso  0.505714\n",
       "\n",
       "[300 rows x 4 columns]"
      ]
     },
     "execution_count": 94,
     "metadata": {},
     "output_type": "execute_result"
    }
   ],
   "source": [
    "result_df.query('dataset==\"test\"')"
   ]
  },
  {
   "cell_type": "markdown",
   "id": "f72a5224-0269-462b-8003-c812f20b1849",
   "metadata": {},
   "source": [
    "---"
   ]
  },
  {
   "cell_type": "code",
   "execution_count": 50,
   "id": "85140de0-6d6e-4f4a-b3c5-6983ca16b147",
   "metadata": {},
   "outputs": [
    {
     "data": {
      "text/plain": [
       "100.0"
      ]
     },
     "execution_count": 50,
     "metadata": {},
     "output_type": "execute_result"
    }
   ],
   "source": [
    "5000/50"
   ]
  },
  {
   "cell_type": "code",
   "execution_count": 57,
   "id": "1feff9eb-ac03-4dbf-a2cb-96de3282654e",
   "metadata": {},
   "outputs": [
    {
     "data": {
      "text/plain": [
       "array([[[1.        , 0.75428571],\n",
       "        [0.86666667, 0.87714286],\n",
       "        [0.85333333, 0.87142857]],\n",
       "\n",
       "       [[1.        , 0.74285714],\n",
       "        [0.93333333, 0.83142857],\n",
       "        [0.87333333, 0.87142857]]])"
      ]
     },
     "execution_count": 57,
     "metadata": {},
     "output_type": "execute_result"
    }
   ],
   "source": [
    "df_ = np.array([[anal(generating_df(b),predictr) for predictr in predictrs] for b in range(0,100,50)])\n",
    "df_"
   ]
  },
  {
   "cell_type": "code",
   "execution_count": 58,
   "id": "0bdfc91e-9c4b-455d-8cc3-1ed6bdec3165",
   "metadata": {},
   "outputs": [
    {
     "data": {
      "text/plain": [
       "array([[1.        , 0.86666667, 0.85333333],\n",
       "       [1.        , 0.93333333, 0.87333333]])"
      ]
     },
     "execution_count": 58,
     "metadata": {},
     "output_type": "execute_result"
    }
   ],
   "source": [
    "df_[:,:,0]"
   ]
  },
  {
   "cell_type": "code",
   "execution_count": 59,
   "id": "8c343f3d-687b-4b5d-abb7-12ac17020d1b",
   "metadata": {},
   "outputs": [
    {
     "data": {
      "text/plain": [
       "array([[0.75428571, 0.87714286, 0.87142857],\n",
       "       [0.74285714, 0.83142857, 0.87142857]])"
      ]
     },
     "execution_count": 59,
     "metadata": {},
     "output_type": "execute_result"
    }
   ],
   "source": [
    "df_[:,:,1]"
   ]
  },
  {
   "cell_type": "code",
   "execution_count": 43,
   "id": "5d3aaf35-b5d3-4b62-8e3f-f3376f8aadbd",
   "metadata": {},
   "outputs": [
    {
     "data": {
      "text/html": [
       "<div>\n",
       "<style scoped>\n",
       "    .dataframe tbody tr th:only-of-type {\n",
       "        vertical-align: middle;\n",
       "    }\n",
       "\n",
       "    .dataframe tbody tr th {\n",
       "        vertical-align: top;\n",
       "    }\n",
       "\n",
       "    .dataframe thead th {\n",
       "        text-align: right;\n",
       "    }\n",
       "</style>\n",
       "<table border=\"1\" class=\"dataframe\">\n",
       "  <thead>\n",
       "    <tr style=\"text-align: right;\">\n",
       "      <th></th>\n",
       "      <th>toeic</th>\n",
       "      <th>gpa</th>\n",
       "      <th>employment</th>\n",
       "      <th>balance0</th>\n",
       "      <th>balance1</th>\n",
       "    </tr>\n",
       "  </thead>\n",
       "  <tbody>\n",
       "    <tr>\n",
       "      <th>0</th>\n",
       "      <td>135</td>\n",
       "      <td>0.051535</td>\n",
       "      <td>0</td>\n",
       "      <td>-1.007441</td>\n",
       "      <td>-0.522833</td>\n",
       "    </tr>\n",
       "    <tr>\n",
       "      <th>1</th>\n",
       "      <td>935</td>\n",
       "      <td>0.355496</td>\n",
       "      <td>0</td>\n",
       "      <td>-0.441027</td>\n",
       "      <td>0.367165</td>\n",
       "    </tr>\n",
       "    <tr>\n",
       "      <th>2</th>\n",
       "      <td>485</td>\n",
       "      <td>2.228435</td>\n",
       "      <td>0</td>\n",
       "      <td>0.793840</td>\n",
       "      <td>-1.796588</td>\n",
       "    </tr>\n",
       "    <tr>\n",
       "      <th>3</th>\n",
       "      <td>65</td>\n",
       "      <td>1.179701</td>\n",
       "      <td>0</td>\n",
       "      <td>-0.023520</td>\n",
       "      <td>-0.074258</td>\n",
       "    </tr>\n",
       "    <tr>\n",
       "      <th>4</th>\n",
       "      <td>445</td>\n",
       "      <td>3.962356</td>\n",
       "      <td>1</td>\n",
       "      <td>-0.802179</td>\n",
       "      <td>0.669743</td>\n",
       "    </tr>\n",
       "    <tr>\n",
       "      <th>...</th>\n",
       "      <td>...</td>\n",
       "      <td>...</td>\n",
       "      <td>...</td>\n",
       "      <td>...</td>\n",
       "      <td>...</td>\n",
       "    </tr>\n",
       "    <tr>\n",
       "      <th>495</th>\n",
       "      <td>280</td>\n",
       "      <td>4.288465</td>\n",
       "      <td>1</td>\n",
       "      <td>1.048698</td>\n",
       "      <td>0.464401</td>\n",
       "    </tr>\n",
       "    <tr>\n",
       "      <th>496</th>\n",
       "      <td>310</td>\n",
       "      <td>2.601212</td>\n",
       "      <td>1</td>\n",
       "      <td>0.464867</td>\n",
       "      <td>-0.826916</td>\n",
       "    </tr>\n",
       "    <tr>\n",
       "      <th>497</th>\n",
       "      <td>225</td>\n",
       "      <td>0.042323</td>\n",
       "      <td>0</td>\n",
       "      <td>0.095497</td>\n",
       "      <td>-0.008625</td>\n",
       "    </tr>\n",
       "    <tr>\n",
       "      <th>498</th>\n",
       "      <td>320</td>\n",
       "      <td>1.041416</td>\n",
       "      <td>0</td>\n",
       "      <td>0.452554</td>\n",
       "      <td>-0.639249</td>\n",
       "    </tr>\n",
       "    <tr>\n",
       "      <th>499</th>\n",
       "      <td>375</td>\n",
       "      <td>3.626883</td>\n",
       "      <td>1</td>\n",
       "      <td>-0.998647</td>\n",
       "      <td>-1.187848</td>\n",
       "    </tr>\n",
       "  </tbody>\n",
       "</table>\n",
       "<p>500 rows × 5 columns</p>\n",
       "</div>"
      ],
      "text/plain": [
       "     toeic       gpa  employment  balance0  balance1\n",
       "0      135  0.051535           0 -1.007441 -0.522833\n",
       "1      935  0.355496           0 -0.441027  0.367165\n",
       "2      485  2.228435           0  0.793840 -1.796588\n",
       "3       65  1.179701           0 -0.023520 -0.074258\n",
       "4      445  3.962356           1 -0.802179  0.669743\n",
       "..     ...       ...         ...       ...       ...\n",
       "495    280  4.288465           1  1.048698  0.464401\n",
       "496    310  2.601212           1  0.464867 -0.826916\n",
       "497    225  0.042323           0  0.095497 -0.008625\n",
       "498    320  1.041416           0  0.452554 -0.639249\n",
       "499    375  3.626883           1 -0.998647 -1.187848\n",
       "\n",
       "[500 rows x 5 columns]"
      ]
     },
     "execution_count": 43,
     "metadata": {},
     "output_type": "execute_result"
    }
   ],
   "source": [
    "generating_df(2)"
   ]
  },
  {
   "cell_type": "code",
   "execution_count": 39,
   "id": "0c897bf1-1db8-4b93-9acf-a39044abe7d4",
   "metadata": {},
   "outputs": [
    {
     "data": {
      "text/plain": [
       "((100, 3), (100, 3))"
      ]
     },
     "execution_count": 39,
     "metadata": {},
     "output_type": "execute_result"
    }
   ],
   "source": [
    "# arr = np.array(lst)\n",
    "arr[:,:,0].shape, arr[:,:,1].shape"
   ]
  }
 ],
 "metadata": {
  "kernelspec": {
   "display_name": "Python 3 (ipykernel)",
   "language": "python",
   "name": "python3"
  },
  "language_info": {
   "codemirror_mode": {
    "name": "ipython",
    "version": 3
   },
   "file_extension": ".py",
   "mimetype": "text/x-python",
   "name": "python",
   "nbconvert_exporter": "python",
   "pygments_lexer": "ipython3",
   "version": "3.10.13"
  }
 },
 "nbformat": 4,
 "nbformat_minor": 5
}
