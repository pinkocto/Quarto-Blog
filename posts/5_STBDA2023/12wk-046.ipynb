{
 "cells": [
  {
   "cell_type": "raw",
   "id": "614c4913-0fa3-4b3a-b4fa-38c55293201a",
   "metadata": {
    "id": "7d723e7d-4484-4bb4-b97b-8a9f3493e23c"
   },
   "source": [
    "---\n",
    "title: \"12wk-046: 평가지표의 이해\"\n",
    "author: \"JiyunLim\"\n",
    "date: \"11/21/2023\"\n",
    "bibliography: ref.bib\n",
    "draft: false\n",
    "---"
   ]
  },
  {
   "cell_type": "markdown",
   "id": "05b86108-4a4a-43e8-ac75-ddc699424d5f",
   "metadata": {},
   "source": [
    "# 1. 강의영상 "
   ]
  },
  {
   "cell_type": "markdown",
   "id": "dc26d6ab-58f7-4cef-90f2-2ba9a95302b5",
   "metadata": {},
   "source": [
    "- https://youtu.be/playlist?list=PLQqh36zP38-zhlDK0V5Zdk3H30SE8kN5D&si=gfxmoP14Cs7KFFtl>"
   ]
  },
  {
   "cell_type": "markdown",
   "id": "44e1103c-8fb4-4cc4-9d83-323ff5761536",
   "metadata": {
    "id": "44e1103c-8fb4-4cc4-9d83-323ff5761536"
   },
   "source": [
    "# 2. 다양한 평가지표들"
   ]
  },
  {
   "cell_type": "markdown",
   "id": "0aeca2c1-d5b0-4760-8dfc-1d980bbe501e",
   "metadata": {
    "id": "0aeca2c1-d5b0-4760-8dfc-1d980bbe501e"
   },
   "source": [
    "`-` 의문: 왜 다양한 평가지표가 필요한가? (그냥 accuray면 끝나는거 아닌가? 더 이상 뭐가 필요해?)"
   ]
  },
  {
   "cell_type": "markdown",
   "id": "8b7f2f2f-c498-43da-8160-14fda54d4101",
   "metadata": {
    "id": "8b7f2f2f-c498-43da-8160-14fda54d4101"
   },
   "source": [
    "`-` 여러가지 평가지표들: <https://en.wikipedia.org/wiki/Positive_and_negative_predictive_values>\n",
    "\n",
    "- 이걸 다 암기하는건 불가능함.\n",
    "- 몇 개만 뽑아서 암기하고 왜 쓰는지만 생각해보고 넘어가자!"
   ]
  },
  {
   "cell_type": "markdown",
   "id": "3b177c93-1d52-4c48-bdb3-b063cae18903",
   "metadata": {
    "id": "3b177c93-1d52-4c48-bdb3-b063cae18903"
   },
   "source": [
    "# 3. Confusion Matrix의 이해"
   ]
  },
  {
   "cell_type": "markdown",
   "id": "3f08dbd0-8e0d-4e15-9434-ca4fd1a81e60",
   "metadata": {
    "id": "3f08dbd0-8e0d-4e15-9434-ca4fd1a81e60"
   },
   "source": [
    "`-` 표1"
   ]
  },
  {
   "cell_type": "markdown",
   "id": "e134e892-e919-461e-bbdd-1220b1a2ede1",
   "metadata": {
    "id": "e134e892-e919-461e-bbdd-1220b1a2ede1"
   },
   "source": [
    "| |퇴사(예측)|안나감(예측)|\n",
    "|:-:|:-:|:-:|\n",
    "|퇴사(실제)|TP|FN|\n",
    "|안나감(실제)| FP| TN|"
   ]
  },
  {
   "cell_type": "markdown",
   "id": "20973ab7-3221-46d9-a29b-1309fc03c416",
   "metadata": {
    "id": "20973ab7-3221-46d9-a29b-1309fc03c416"
   },
   "source": [
    "`-` 표2 (책에없음)"
   ]
  },
  {
   "cell_type": "markdown",
   "id": "9b61a75a-ce73-4c57-8fbb-d4845b697583",
   "metadata": {
    "id": "9b61a75a-ce73-4c57-8fbb-d4845b697583"
   },
   "source": [
    "| |퇴사(예측)|안나감(예측)|\n",
    "|:-:|:-:|:-:|\n",
    "|퇴사(실제)|$(y,\\hat{y})=$ (O,O)|$(y,\\hat{y})=$(O,X)|\n",
    "|안나감(실제)| $(y,\\hat{y})=$(X,O)| $(y,\\hat{y})=$(X,X)|"
   ]
  },
  {
   "cell_type": "markdown",
   "id": "901d550c-6ef2-4904-a6e3-005195092cc7",
   "metadata": {
    "id": "901d550c-6ef2-4904-a6e3-005195092cc7"
   },
   "source": [
    "`-` 표3 (책에없음)"
   ]
  },
  {
   "cell_type": "markdown",
   "id": "6d57f627-4707-4fc7-a37d-9ed2d1a1e046",
   "metadata": {
    "id": "6d57f627-4707-4fc7-a37d-9ed2d1a1e046"
   },
   "source": [
    "| |퇴사(예측)|안나감(예측)|\n",
    "|:-:|:-:|:-:|\n",
    "|퇴사(실제)|TP, $\\# O/O$ |FN, $\\#O/X$|\n",
    "|안나감(실제)| FP, $\\#X/O$| TN, $\\#X/X$|"
   ]
  },
  {
   "cell_type": "markdown",
   "id": "b2c32968-6720-4a44-abb0-ac984ce02fdc",
   "metadata": {
    "id": "b2c32968-6720-4a44-abb0-ac984ce02fdc"
   },
   "source": [
    "- 암기법, (1) 두번째 글자를 그대로 쓴다 (2) 첫글자가 T이면 분류를 제대로한것, 첫글자가 F이면 분류를 잘못한것"
   ]
  },
  {
   "cell_type": "markdown",
   "id": "d6790646-6489-41d5-a55a-19b53714b68c",
   "metadata": {
    "id": "d6790646-6489-41d5-a55a-19b53714b68c"
   },
   "source": [
    "# 4. 암기를 위한 상황극"
   ]
  },
  {
   "cell_type": "markdown",
   "id": "d8f8fefe-653b-4fac-8a5b-4685bbf1e91f",
   "metadata": {
    "id": "d8f8fefe-653b-4fac-8a5b-4685bbf1e91f"
   },
   "source": [
    "`-` 통계학과를 졸업한 최규빈은 입사하여 \"퇴사자 예측시스템\"의 개발에 들어갔다."
   ]
  },
  {
   "cell_type": "markdown",
   "id": "d186fefe-7229-4c1d-908d-f41012e62bdb",
   "metadata": {
    "id": "d186fefe-7229-4c1d-908d-f41012e62bdb"
   },
   "source": [
    "`-` 자료의 특성상 대부분의 사람이 퇴사하지 않고 회사에 잘 다닌다. 즉 1000명이 있으면 10명정도 퇴사한다."
   ]
  },
  {
   "cell_type": "markdown",
   "id": "315b79c7-9c45-4c6d-bbe0-02630068db97",
   "metadata": {
    "id": "315b79c7-9c45-4c6d-bbe0-02630068db97"
   },
   "source": [
    "## A. Accuracy"
   ]
  },
  {
   "cell_type": "markdown",
   "id": "3dfce0dd-0b81-4794-a8c7-040b7b41c036",
   "metadata": {},
   "source": [
    "`-` 느낌: 정답율"
   ]
  },
  {
   "cell_type": "markdown",
   "id": "4c3fb5c4-d1e2-48cb-9aea-82f7afc0b33a",
   "metadata": {
    "id": "4c3fb5c4-d1e2-48cb-9aea-82f7afc0b33a"
   },
   "source": [
    "`-` 정의: $\\text{accuracy}=\\frac{TP+TN}{total}=\\frac{\\#O/O+ \\#X/X}{total}$\n",
    "\n",
    "- 한국말로는 정확도, 정분류율이라고 한다.\n",
    "- 한국말이 헷갈리므로 그냥 영어를 외우는게 좋다."
   ]
  },
  {
   "cell_type": "markdown",
   "id": "0f113d5d-4523-488c-ae19-58168a0e7708",
   "metadata": {
    "id": "0f113d5d-4523-488c-ae19-58168a0e7708"
   },
   "source": [
    "`-` (상확극 시점1) 왜 애큐러시는 불충분한가?\n",
    "\n",
    "- 회사: 퇴사자예측프로그램 개발해. 잘 맞출수록 좋고, 계산에 많은 시간이 걸리지 않는 가벼운 `predictor`일수록 좋아. \n",
    "- 최규빈: 귀찮은데 다 안나간다고 하자! -> 99퍼의 accuracy\n",
    "\n",
    "> 모델에 사용한 파라메터 = 0. 그런데 애큐러시 = 99! 이거 엄청 좋은 모형이다?\n"
   ]
  },
  {
   "cell_type": "markdown",
   "id": "da1af1f5-7fd0-4985-a21b-4bb78b1b1b0c",
   "metadata": {
    "id": "da1af1f5-7fd0-4985-a21b-4bb78b1b1b0c"
   },
   "source": [
    "## B. TPR (=Recall=Sensitivity)"
   ]
  },
  {
   "cell_type": "markdown",
   "id": "67e2e073-545d-41cf-9bbe-5a91cf045667",
   "metadata": {},
   "source": [
    "`-` 느낌: 이상상황 감지율! "
   ]
  },
  {
   "cell_type": "markdown",
   "id": "af74cefd-38de-4d46-bcf5-45dc840442da",
   "metadata": {
    "id": "af74cefd-38de-4d46-bcf5-45dc840442da"
   },
   "source": [
    "`-` 정의: $\\text{recall}=\\text{sensitivity}=\\text{TPR}=\\frac{TP}{TP+FN}=\\frac{\\# O/O}{\\# O/O+\\# O/X}$\n",
    "\n",
    "- 분모: 실제 O인 관측치 수\n",
    "- 분자: 실제 O를 O라고 예측한 관측치 수\n",
    "- 뜻: 실제 O를 O라고 예측한 비율"
   ]
  },
  {
   "cell_type": "markdown",
   "id": "442fb6c1-9f7f-41e1-9c8c-a12632947ab9",
   "metadata": {
    "id": "9750589e-07b1-48a8-a682-4a203075173a"
   },
   "source": [
    "`-` (상황극 시점2) 우리가 recall을 봐야하는 이유\n",
    "\n",
    "- 인사팀: 실제 퇴사자를 퇴사자로 예측해야 의미가 있음! 우리는 퇴사할것 같은 10명을 찍어달란 의미였어요! (그래야 면담을 하든 할거아냐!)\n",
    "- 최규빈: 계산빠르고 잘 맞추는 `predictor` 만들어 달라면서요? 제 `predictor`는 계산시간은 0이고, accuracy는 0.99에요. \n",
    "- 인사팀: (고민중..) 사실 생각해보니까 이 경우는 accuracy는 의미가 없네. 실제 나간 사람 중 최규빈이 나간다고 한 사람이 몇인지 카운트 하는게 더 의미가 있겠다. 우리는 앞으로 **recall**을 보겠다!\n",
    "\n",
    "> 예시1: 실제로 퇴사한 10명중 최규빈이 나간다고 찍은 사람이 5명이면 `recall=0.5`.\n",
    "\n",
    "> 예시2: 최규빈이 아무도 나가지 않는다고 예측해버린다? 실제 10명중에서 최규빈이 나간다고 적중시킨사람은 0명이므로 이 경우는 `recall=0`."
   ]
  },
  {
   "cell_type": "markdown",
   "id": "1bc361ae-c0c0-4946-a75f-6bb3127374f4",
   "metadata": {
    "id": "1bc361ae-c0c0-4946-a75f-6bb3127374f4"
   },
   "source": [
    "- 인사팀 결론: 우리가 필요한건 **recall** 이니까 앞으로 **recall**을 가져와! accuracy는 큰 의미없어. (그래도 명색이 모델인데 accuracy가 90은 되면 좋겠다.)"
   ]
  },
  {
   "cell_type": "markdown",
   "id": "c363653f-3754-45c2-ad44-dcd2dac77ddd",
   "metadata": {
    "id": "c363653f-3754-45c2-ad44-dcd2dac77ddd"
   },
   "source": [
    "## C. Precision"
   ]
  },
  {
   "cell_type": "markdown",
   "id": "ae95f53e-65c9-42c5-9da2-b84d60753872",
   "metadata": {},
   "source": [
    "`-` 느낌: 적중률.. "
   ]
  },
  {
   "cell_type": "markdown",
   "id": "4c860208-82fe-4ef0-8501-f523df342349",
   "metadata": {
    "id": "4c860208-82fe-4ef0-8501-f523df342349"
   },
   "source": [
    "`-` 정의: $\\text{precision}=\\frac{TP}{TP+FP}=\\frac{\\# O/O}{\\# O/O+\\# X/O}$\n",
    "\n",
    "- 분모: O라고 예측한 관측치\n",
    "- 분자: O라고 예측한 관측치중 진짜 O인 관측치\n",
    "- 뜻: O라고 예측한 관측치중 진짜 O인 비율"
   ]
  },
  {
   "cell_type": "markdown",
   "id": "921094c0-0baa-4123-9fdb-825940d47a7f",
   "metadata": {
    "id": "921094c0-0baa-4123-9fdb-825940d47a7f"
   },
   "source": [
    "`-` (상황극 시점3) Recall 만으로 불충분한 이유\n",
    "\n",
    "- 최규빈: 에휴.. 귀찮은데 그냥 좀 만 수틀리면 다 나갈것 같다고 해야겠다. -> 한 100명 나간다고 했음 -> 실제로 최규빈이 찍은 100명중에 10명이 다 나감!"
   ]
  },
  {
   "cell_type": "markdown",
   "id": "62337a64-6c48-4c1e-b7d1-935b308702c4",
   "metadata": {
    "id": "62337a64-6c48-4c1e-b7d1-935b308702c4"
   },
   "source": [
    "> 이 경우 accuracy는 91%, recall은 100% (퇴사자 10명을 일단은 다 맞췄으므로)."
   ]
  },
  {
   "cell_type": "markdown",
   "id": "b8fbe912-be4c-4e45-b4d7-73f0a268e92d",
   "metadata": {
    "id": "854eb2a6-07c4-4509-baaa-1715ea98289e"
   },
   "source": [
    "- 인사팀: (화가 많이 남) 멀쩡한 사람까지 다 퇴사할 것 같다고 하면 어떡해요? 최규빈 연구원이 나간다고 한 100명중에 실제로 10명만 나갔어요.\n",
    "\n",
    "- 인사팀: 마치 총으로 과녁중앙에 맞춰 달라고 했더니 기관총을 가져와서 한번 긁은것이랑 뭐가 달라요? 맞추는게 문제가 아니고 **precision**이 너무 낮아요.\n",
    "\n",
    "- 최규빈: 저번 요청사항이 accuracy 90% 이상, recall은 높을수록 좋다는게 주문 아니었나요? 제 `predictor`는 accuracy가 91% 그리고 recall은 100% 입니다. \n",
    "\n",
    "- 인사팀: (고민중..) 앞으로는 recall과 함께 precision도 같이 제출하세요. 여기에서 precision은 당신이 나간다고 한 사람중에 실제 나간사람의 비율을 의미해요. 이 경우는 $\\frac{10}{100}$이니까 precision이 10%입니다.\n",
    "\n",
    "- 인사팀 속마음: Recall 올리겠다고 무작정 너무 많이 예측하지 말란 말이야!"
   ]
  },
  {
   "cell_type": "markdown",
   "id": "c7c84d80-ac8d-43c4-9ead-6270d14ba9e6",
   "metadata": {
    "id": "c7c84d80-ac8d-43c4-9ead-6270d14ba9e6"
   },
   "source": [
    "## D. F1-score"
   ]
  },
  {
   "cell_type": "markdown",
   "id": "da00da80-9886-4540-9c5c-b4d4844f611a",
   "metadata": {},
   "source": [
    "`-` 느낌: 적중률과 민감도의 균형 "
   ]
  },
  {
   "cell_type": "markdown",
   "id": "21bf3b4c-56ee-45ec-9eab-b86bad04c16b",
   "metadata": {
    "id": "21bf3b4c-56ee-45ec-9eab-b86bad04c16b"
   },
   "source": [
    "`-` 정의: Recall과 precision의 조화평균"
   ]
  },
  {
   "cell_type": "markdown",
   "id": "6c1d9e51-51a0-4574-ab82-085f59f3baec",
   "metadata": {
    "id": "6c1d9e51-51a0-4574-ab82-085f59f3baec"
   },
   "source": [
    "`-` (상황극 시점4) recall, precision을 모두 고려"
   ]
  },
  {
   "cell_type": "markdown",
   "id": "f83353a9-e550-496d-9177-ec22ccf92f55",
   "metadata": {
    "id": "21d8c192-4831-472b-8e1e-03117d13e6dc"
   },
   "source": [
    "- 최규빈: 그런데 recall/precision을 같이 내는건 좋은데요, 둘은 trade off의 관계에 있습니다. 물론 둘다 올리는 모형이 있다면 좋지만 그게 쉽지는 않아요. 보통은 precision을 올리려면 recall이 희생되는 면이 있고요, recall을 올리려고 하면 precision이 다소 떨어집니다.\n",
    "\n",
    "- 최규빈: 평가기준이 애매하다는 의미입니다. 모형1,2가 있는데 모형1은 모형2보다 precision이 약간 좋고 대신 recall이 떨어진다면 모형1이 좋은것입니까? 아니면 모형2가 좋은것입니까?\n",
    "\n",
    "- 인사팀: 그렇다면 둘을 평균내서 F1-score를 계산해서 제출해주세요."
   ]
  },
  {
   "cell_type": "markdown",
   "id": "3a79bc59-ae1f-4b1c-be89-424723b6d7dd",
   "metadata": {},
   "source": [
    "> 속마음: AUC 쓰면 더 좋은뎅.."
   ]
  },
  {
   "cell_type": "markdown",
   "id": "abddc004-4230-4d33-907f-31d651d29a5c",
   "metadata": {},
   "source": [
    "## E. Specificity "
   ]
  },
  {
   "cell_type": "markdown",
   "id": "64b0296f-e759-4a19-833a-ccf27d707e34",
   "metadata": {},
   "source": [
    "`-` 느낌: 안나갈 사람을 안나갔다고 찾아낸 비율 "
   ]
  },
  {
   "cell_type": "markdown",
   "id": "1a5967e2-b28e-4e89-8273-69dc55098035",
   "metadata": {},
   "source": [
    "`-` 정의: $\\text{specificity}=\\frac{TN}{FP+TN}=\\frac{\\# X/X}{\\# X/O+\\# X/X}$"
   ]
  },
  {
   "cell_type": "markdown",
   "id": "2289fc5b-20c7-4dc8-8148-5d6a09736b72",
   "metadata": {},
   "source": [
    "`-` 안중요함 "
   ]
  },
  {
   "cell_type": "markdown",
   "id": "e1ebff1a-cea1-4bd5-8014-c6709924042d",
   "metadata": {
    "id": "e1ebff1a-cea1-4bd5-8014-c6709924042d"
   },
   "source": [
    "## F. FPR "
   ]
  },
  {
   "cell_type": "markdown",
   "id": "dcc20730-f634-4bdc-a756-3ae409115c48",
   "metadata": {},
   "source": [
    "`-` 느낌: 생사람 잡은 사람의 비율 (오해해서 미안하다, TPR올릴려다 보니까 어쩔수 없었네)"
   ]
  },
  {
   "cell_type": "markdown",
   "id": "94668749-12ea-40a9-b578-5f98d7922438",
   "metadata": {},
   "source": [
    "> TPR(=recall)을 올리는 가장 편한방법은, 조금만 이상한 징조가 있어도 \"너 나갈것 같은데?\"라고 몰아가는 것이다. 하지만 이러한 방식은 적중률의 문제가 있다. 또한 멀쩡히 잘 다니고 있는 사람을 생트집 잡아 몰아간다는 문제도 있다. "
   ]
  },
  {
   "cell_type": "markdown",
   "id": "ce0e8e51-43af-4a32-8a50-5e6b6d53e83e",
   "metadata": {
    "id": "ce0e8e51-43af-4a32-8a50-5e6b6d53e83e"
   },
   "source": [
    "`-` 정의: $\\text{FPR}=1-\\text{specificity}=\\frac{FP}{FP+TN}$=$\\frac{\\# X/O}{\\# X/O+\\# X/X}$"
   ]
  },
  {
   "cell_type": "markdown",
   "id": "2bb4ffce-2cd3-459b-b018-fd77b5cae678",
   "metadata": {},
   "source": [
    "`-` 예시: 아래의 상황을 고려하자. \n",
    "\n",
    "- 총 회사원 1000명. \n",
    "- 최규빈 연구원이 \"퇴사할것 같은 사람\"으로 찍은 직원은 100명.\n",
    "- 실제 퇴사자 10명, 실제퇴사자 10중 최규빈 연구원이 나간다고 한 사람은 8명.\n",
    "- 실제 퇴사자중 최규빈 연구원이 눈치채지 못한 사람은 2명. \n",
    "- 최규빈은 92명의 생사람을 잡음.."
   ]
  },
  {
   "cell_type": "markdown",
   "id": "7a1f109a-3765-46de-afaa-031c06aaff59",
   "metadata": {},
   "source": [
    "정리하면 \n",
    "\n",
    "- O/O = 8\n",
    "- O/X = 2\n",
    "- X/O = 92\n",
    "- X/X = 898"
   ]
  },
  {
   "cell_type": "code",
   "execution_count": 9,
   "id": "3941aea7-0e48-4e06-af6a-df27ec623a0d",
   "metadata": {
    "tags": []
   },
   "outputs": [],
   "source": [
    "recall = TPR = 8/10 # OO/(OO+OX)"
   ]
  },
  {
   "cell_type": "code",
   "execution_count": 10,
   "id": "9bea16ff-cadc-4397-9a09-8c0a1e785e96",
   "metadata": {
    "tags": []
   },
   "outputs": [],
   "source": [
    "precision = 8/100 # OO/(OO+XO)"
   ]
  },
  {
   "cell_type": "code",
   "execution_count": 20,
   "id": "ba649b45-de3b-4255-99a1-d2922272ce13",
   "metadata": {
    "tags": []
   },
   "outputs": [],
   "source": [
    "FPR = 92/990 # XO/(XO+XX) # 분모의미: 억울한사람이 되려면 일단 열시미 다니고 있어야함"
   ]
  },
  {
   "cell_type": "code",
   "execution_count": 18,
   "id": "fa9b1125-7fb8-45cf-aa05-36ac6916ba68",
   "metadata": {
    "tags": []
   },
   "outputs": [
    {
     "data": {
      "text/plain": [
       "(0.08, 0.09292929292929293)"
      ]
     },
     "execution_count": 18,
     "metadata": {},
     "output_type": "execute_result"
    }
   ],
   "source": [
    "precision, FPR # 비슷해보이는데 좀 다르죠?"
   ]
  },
  {
   "cell_type": "markdown",
   "id": "f1353132-53d5-43ee-a056-1a6eaae00a60",
   "metadata": {
    "id": "f1353132-53d5-43ee-a056-1a6eaae00a60"
   },
   "source": [
    "## F. ROC curve"
   ]
  },
  {
   "cell_type": "markdown",
   "id": "511e508b-306c-4d28-892b-2b73df502658",
   "metadata": {},
   "source": [
    "`-` 휴식: 무빙.. (이영미 교수님^[봄날의 햇살]이 재밋다해서..)"
   ]
  },
  {
   "cell_type": "markdown",
   "id": "0fa42b0e-6099-4fec-8552-ad5c302233d2",
   "metadata": {},
   "source": [
    "{{<video https://youtu.be/iV6x1HbwU00?si=G93t_vAuMWyJWPGA >}}"
   ]
  },
  {
   "cell_type": "markdown",
   "id": "302e7049-394a-4658-be44-a8c365078694",
   "metadata": {},
   "source": [
    "- `predictor`: 박병은\n",
    "- 박과장!! 약속과 다르지 않소!! --> 사살 --> 진짜 간첩이었으므로 사살하는 순간 precision/recall 동시에 상승 \n",
    "- 동해물과 백두산이... --> 사살 --> 이 사람은 진짜 간첩인지 아닌지 확실하지 않음. 그렇지만 사살함. 따라서 recall은 올라갈 수는 있겠으나 precision 하락 및 FPR 상승의 위험이 있음. \n",
    "- 이런 미친새끼.. 여기서 억울한 휴민트들이 얼마나.. --> 너처럼 계속 classification하면 FPR이 너무 높아진다는 의미\n",
    "- 괜찮아.. 내가 알아서 할게 --> 난 FPR 높아도 괜찮아, 위험감수하고 TPR 올리고 싶어. 이런 내 결정은 내가 알아서 책임질게 "
   ]
  },
  {
   "cell_type": "markdown",
   "id": "29d6da21-8ce6-496c-82bc-9c7174fbe811",
   "metadata": {},
   "source": [
    "`-` 소감: 총을 얼마나 민감하게 당길지를 결정함에 따라서 FPR과 TRP의 값이 수시로 달라진다. "
   ]
  },
  {
   "cell_type": "markdown",
   "id": "ec1813b5-402b-403e-b164-6c77ddbf7292",
   "metadata": {
    "id": "ec1813b5-402b-403e-b164-6c77ddbf7292"
   },
   "source": [
    "`-` 정의: $x$축=FPR, $y$축=TPR 을 그린 커브"
   ]
  },
  {
   "cell_type": "markdown",
   "id": "39139e17-7ff1-406d-a885-3a142d097fc1",
   "metadata": {
    "id": "39139e17-7ff1-406d-a885-3a142d097fc1"
   },
   "source": [
    "`-` 의미:\n",
    "\n",
    "- \"x=생사람잡은비율\" vs \"y=이상상황감지율=recall\"을 그린 곡선이 ROC커브이다.\n",
    "- 생각해보면 생사람을 잡을 수록 (=$x$값이 커질수록) 감지율이 높아진다 (=$y$값도 커진다). \n",
    "- 생사람 잡은 비율이 매우 적은데 (=$x$값이 작은데) 감지율이 높으면 매우 우수한 `predictor` 이다. \n",
    "- 따라서 초반부터 ROC curve가 급격하게 상승하면 좋은 predictor 이다. "
   ]
  },
  {
   "cell_type": "markdown",
   "id": "f547e5e9-1159-4aaf-9f54-0c98343307a2",
   "metadata": {},
   "source": [
    "## G. AUC"
   ]
  },
  {
   "cell_type": "markdown",
   "id": "5719941d-0389-4e70-ba0f-ba78d628211c",
   "metadata": {},
   "source": [
    "`-` 정의: ROC curve의 밑면적 "
   ]
  },
  {
   "cell_type": "markdown",
   "id": "5180f1f1-dacb-42ec-b197-ee9e77bd8ca6",
   "metadata": {},
   "source": [
    "# 5. HW "
   ]
  },
  {
   "cell_type": "markdown",
   "id": "98f0fe8c-08a7-4aca-afa3-f9f0cea1e670",
   "metadata": {},
   "source": [
    "밀실안에 100명의 사람이 있다고 하자. 이중 이중휴민트는 2명이 있다고 하자. 이중휴민트를 잡기위해서 3명을 사살했다고 하자. 사살된 사람중 실제 이중휴민트는 1명이었다고 하자. 이 경우 \n",
    "\n",
    "- accurary\n",
    "- TPR(=recall)\n",
    "- precision \n",
    "- FPR\n",
    "\n",
    "값을 계산하라. "
   ]
  },
  {
   "cell_type": "markdown",
   "id": "1da7aaf8-a8f6-4bca-abef-db1f25171b1a",
   "metadata": {},
   "source": [
    "| |이중휴민트(예측)|이중휴민트X(예측)|\n",
    "|:-:|:-:|:-:|\n",
    "|이중휴민트(실제)|TP, $\\# O/O$ |FN, $\\#O/X$|\n",
    "|이중휴민트X(실제)| FP, $\\#X/O$| TN, $\\#X/X$|"
   ]
  },
  {
   "cell_type": "markdown",
   "id": "b3122490-48a8-4c5d-aa91-d15778e7720d",
   "metadata": {},
   "source": [
    "| |이중휴민트(예측)|이중휴민트X(예측)|\n",
    "|:-:|:-:|:-:|\n",
    "|이중휴민트(실제)| $1$  |$1$|\n",
    "|이중휴민트X(실제)| $2$ | $96$ |"
   ]
  },
  {
   "cell_type": "markdown",
   "id": "11d857b4-1b24-4404-b1ae-715fc6f8202a",
   "metadata": {},
   "source": [
    "`-`  $\\text{accuracy}=\\frac{TP+TN}{total}=\\frac{\\#O/O+ \\#X/X}{total}=\\frac{1+96}{100}=\\frac{97}{100}$"
   ]
  },
  {
   "cell_type": "markdown",
   "id": "915268de-0369-4666-8cea-7d58ad18f9cc",
   "metadata": {},
   "source": [
    "`-`  $\\text{recall}=\\text{sensitivity}=\\text{TPR}=\\frac{TP}{TP+FN}=\\frac{\\# O/O}{\\# O/O+\\# O/X}=\\frac{1}{2}$"
   ]
  },
  {
   "cell_type": "markdown",
   "id": "53e0d92b-5d81-42a8-8b40-4f0f524cb8c3",
   "metadata": {},
   "source": [
    "`-` $\\text{precision}=\\frac{TP}{TP+FP}=\\frac{\\# O/O}{\\# O/O+\\# X/O}=\\frac{1}{3}$"
   ]
  },
  {
   "cell_type": "markdown",
   "id": "e43c47fc-a3c1-4e78-9579-e9f989942433",
   "metadata": {},
   "source": [
    "`-` $\\text{FPR}=1-\\text{specificity}=\\frac{FP}{FP+TN}$=$\\frac{\\# X/O}{\\# X/O+\\# X/X}=\\frac{2}{2+96}=\\frac{2}{98}$"
   ]
  },
  {
   "cell_type": "code",
   "execution_count": 2,
   "id": "26679035-18a0-430d-915c-1cd02adab867",
   "metadata": {},
   "outputs": [
    {
     "data": {
      "text/plain": [
       "0.97"
      ]
     },
     "execution_count": 2,
     "metadata": {},
     "output_type": "execute_result"
    }
   ],
   "source": [
    "accuracy = (1+96)/100\n",
    "accuracy"
   ]
  },
  {
   "cell_type": "code",
   "execution_count": 3,
   "id": "09b5f75c-7e06-4caa-97b0-a284121f0bfc",
   "metadata": {
    "tags": []
   },
   "outputs": [
    {
     "data": {
      "text/plain": [
       "0.5"
      ]
     },
     "execution_count": 3,
     "metadata": {},
     "output_type": "execute_result"
    }
   ],
   "source": [
    "recall = TPR = 1/2 # OO/(OO+OX)\n",
    "recall"
   ]
  },
  {
   "cell_type": "code",
   "execution_count": 5,
   "id": "11897cc8-28ad-44af-975c-f5a836d892a8",
   "metadata": {
    "tags": []
   },
   "outputs": [
    {
     "data": {
      "text/plain": [
       "0.3333333333333333"
      ]
     },
     "execution_count": 5,
     "metadata": {},
     "output_type": "execute_result"
    }
   ],
   "source": [
    "precision = 1/3 # OO/(OO+XO)\n",
    "precision"
   ]
  },
  {
   "cell_type": "code",
   "execution_count": 7,
   "id": "43bcde3b-44fb-453a-8613-4cf804d261f9",
   "metadata": {
    "tags": []
   },
   "outputs": [
    {
     "data": {
      "text/plain": [
       "0.02040816326530612"
      ]
     },
     "execution_count": 7,
     "metadata": {},
     "output_type": "execute_result"
    }
   ],
   "source": [
    "FPR = 2/(2+96) # XO/(XO+XX) # 분모의미: 억울한사람이 되려면 일단 열시미 다니고 있어야함\n",
    "FPR"
   ]
  },
  {
   "cell_type": "code",
   "execution_count": 8,
   "id": "cd3d6271-de3c-49d5-abb9-414d9dc53169",
   "metadata": {
    "tags": []
   },
   "outputs": [
    {
     "data": {
      "text/plain": [
       "(0.3333333333333333, 0.02040816326530612)"
      ]
     },
     "execution_count": 8,
     "metadata": {},
     "output_type": "execute_result"
    }
   ],
   "source": [
    "precision, FPR # 비슷해보이는데 좀 다르죠?"
   ]
  }
 ],
 "metadata": {
  "celltoolbar": "Slideshow",
  "colab": {
   "provenance": []
  },
  "kernelspec": {
   "display_name": "Python 3 (ipykernel)",
   "language": "python",
   "name": "python3"
  },
  "language_info": {
   "codemirror_mode": {
    "name": "ipython",
    "version": 3
   },
   "file_extension": ".py",
   "mimetype": "text/x-python",
   "name": "python",
   "nbconvert_exporter": "python",
   "pygments_lexer": "ipython3",
   "version": "3.10.13"
  }
 },
 "nbformat": 4,
 "nbformat_minor": 5
}
