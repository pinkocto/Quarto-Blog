{
 "cells": [
  {
   "cell_type": "raw",
   "id": "e12bcd43-ffe1-4726-adcc-2475d746c3d3",
   "metadata": {},
   "source": [
    "---\n",
    "title: \"02wk-008: 타이타닉, Autogluon (best_quality)\"\n",
    "author: \"최규빈\"\n",
    "date: \"09/12/2023\"\n",
    "---"
   ]
  },
  {
   "cell_type": "markdown",
   "id": "a5354421-f0bf-4054-b8bd-a1c138e812b4",
   "metadata": {},
   "source": [
    "\n",
    "\n",
    "# 1. 강의영상\n",
    "\n",
    "<https://youtu.be/playlist?list=PLQqh36zP38-x6USW3HM9Lm-B19o9qrm19&si=EFy8hdlgDJ-LUFHi>\n",
    "\n",
    "# 2. Import"
   ]
  },
  {
   "cell_type": "code",
   "execution_count": 1,
   "id": "e5ed7226-0d55-4953-b9ee-7dfb687328e2",
   "metadata": {},
   "outputs": [],
   "source": [
    "import numpy as np # linear algebra\n",
    "import pandas as pd # data processing, CSV file I/O (e.g. pd.read_csv)"
   ]
  },
  {
   "cell_type": "code",
   "execution_count": 2,
   "id": "5ee63a9f-4df2-46eb-b255-633ad13ef668",
   "metadata": {},
   "outputs": [],
   "source": [
    "#pip install autogluon"
   ]
  },
  {
   "cell_type": "code",
   "execution_count": 3,
   "id": "4fb9404e-25d7-4a80-8709-69221a7fbc3a",
   "metadata": {},
   "outputs": [],
   "source": [
    "from autogluon.tabular import TabularDataset, TabularPredictor"
   ]
  },
  {
   "cell_type": "markdown",
   "id": "68129b28-d677-47b3-9610-113789fea8ec",
   "metadata": {},
   "source": [
    "# 3. 분석의 절차\n",
    "\n",
    "## A. 데이터\n",
    "\n",
    "`-` 비유: 문제를 받아오는 과정으로 비유할 수 있다."
   ]
  },
  {
   "cell_type": "code",
   "execution_count": 4,
   "id": "5ac6c193-2953-419d-ac23-d3d9ea3f40c8",
   "metadata": {},
   "outputs": [],
   "source": [
    "tr = TabularDataset(\"titanic/train.csv\")\n",
    "tst = TabularDataset(\"titanic/test.csv\")"
   ]
  },
  {
   "cell_type": "markdown",
   "id": "6404d28b-627d-4ce0-9562-b513d702d936",
   "metadata": {},
   "source": [
    "`-` 피처엔지니어링"
   ]
  },
  {
   "cell_type": "code",
   "execution_count": 5,
   "id": "d4c9110f-3319-4f67-b129-6147f8a1e574",
   "metadata": {},
   "outputs": [],
   "source": [
    "_tr = tr.eval('Fsize = SibSp + Parch').drop(['SibSp','Parch'],axis=1)\n",
    "_tst = tst.eval('Fsize = SibSp + Parch').drop(['SibSp','Parch'],axis=1)"
   ]
  },
  {
   "cell_type": "markdown",
   "id": "a6dd093d-da4a-462f-8662-42ba960ff118",
   "metadata": {},
   "source": [
    "## B. Predictor 생성\n",
    "\n",
    "`-` 비유: 문제를 풀 학생을 생성하는 과정으로 비유할 수 있다."
   ]
  },
  {
   "cell_type": "code",
   "execution_count": 6,
   "id": "d14af837-2d5e-4dd3-9348-ade59683b80d",
   "metadata": {},
   "outputs": [
    {
     "name": "stderr",
     "output_type": "stream",
     "text": [
      "No path specified. Models will be saved in: \"AutogluonModels/ag-20230913_070925/\"\n"
     ]
    }
   ],
   "source": [
    "predictr = TabularPredictor(\"Survived\")"
   ]
  },
  {
   "cell_type": "markdown",
   "id": "c6545e52-c791-4ab0-806a-238da582b346",
   "metadata": {},
   "source": [
    "## C. 적합(fit)\n",
    "\n",
    "`-` 비유: 학생이 공부를 하는 과정으로 비유할 수 있다.\n",
    "\n",
    "`-` 학습"
   ]
  },
  {
   "cell_type": "code",
   "execution_count": 7,
   "id": "d487d466-82e6-4b71-b6c5-037ae26df37e",
   "metadata": {},
   "outputs": [
    {
     "name": "stderr",
     "output_type": "stream",
     "text": [
      "Presets specified: ['best_quality']\n",
      "Stack configuration (auto_stack=True): num_stack_levels=0, num_bag_folds=8, num_bag_sets=1\n",
      "Beginning AutoGluon training ...\n",
      "AutoGluon will save models to \"AutogluonModels/ag-20230913_070925/\"\n",
      "AutoGluon Version:  0.8.2\n",
      "Python Version:     3.8.16\n",
      "Operating System:   Linux\n",
      "Platform Machine:   x86_64\n",
      "Platform Version:   #26~22.04.1-Ubuntu SMP PREEMPT_DYNAMIC Thu Jul 13 16:27:29 UTC 2\n",
      "Disk Space Avail:   675.38 GB / 982.82 GB (68.7%)\n",
      "Train Data Rows:    891\n",
      "Train Data Columns: 10\n",
      "Label Column: Survived\n",
      "Preprocessing data ...\n",
      "AutoGluon infers your prediction problem is: 'binary' (because only two unique label-values observed).\n",
      "\t2 unique label values:  [0, 1]\n",
      "\tIf 'binary' is not the correct problem_type, please manually specify the problem_type parameter during predictor init (You may specify problem_type as one of: ['binary', 'multiclass', 'regression'])\n",
      "Selected class <--> label mapping:  class 1 = 1, class 0 = 0\n",
      "Using Feature Generators to preprocess the data ...\n",
      "Fitting AutoMLPipelineFeatureGenerator...\n",
      "\tAvailable Memory:                    35836.53 MB\n",
      "\tTrain Data (Original)  Memory Usage: 0.31 MB (0.0% of available memory)\n",
      "\tInferring data type of each feature based on column values. Set feature_metadata_in to manually specify special dtypes of the features.\n",
      "\tStage 1 Generators:\n",
      "\t\tFitting AsTypeFeatureGenerator...\n",
      "\t\t\tNote: Converting 1 features to boolean dtype as they only contain 2 unique values.\n",
      "\tStage 2 Generators:\n",
      "\t\tFitting FillNaFeatureGenerator...\n",
      "\tStage 3 Generators:\n",
      "\t\tFitting IdentityFeatureGenerator...\n",
      "\t\tFitting CategoryFeatureGenerator...\n",
      "\t\t\tFitting CategoryMemoryMinimizeFeatureGenerator...\n",
      "\t\tFitting TextSpecialFeatureGenerator...\n",
      "\t\t\tFitting BinnedFeatureGenerator...\n",
      "\t\t\tFitting DropDuplicatesFeatureGenerator...\n",
      "\t\tFitting TextNgramFeatureGenerator...\n",
      "\t\t\tFitting CountVectorizer for text features: ['Name']\n",
      "\t\t\tCountVectorizer fit with vocabulary size = 8\n",
      "\tStage 4 Generators:\n",
      "\t\tFitting DropUniqueFeatureGenerator...\n",
      "\tStage 5 Generators:\n",
      "\t\tFitting DropDuplicatesFeatureGenerator...\n",
      "\tTypes of features in original data (raw dtype, special dtypes):\n",
      "\t\t('float', [])        : 2 | ['Age', 'Fare']\n",
      "\t\t('int', [])          : 3 | ['PassengerId', 'Pclass', 'Fsize']\n",
      "\t\t('object', [])       : 4 | ['Sex', 'Ticket', 'Cabin', 'Embarked']\n",
      "\t\t('object', ['text']) : 1 | ['Name']\n",
      "\tTypes of features in processed data (raw dtype, special dtypes):\n",
      "\t\t('category', [])                    : 3 | ['Ticket', 'Cabin', 'Embarked']\n",
      "\t\t('float', [])                       : 2 | ['Age', 'Fare']\n",
      "\t\t('int', [])                         : 3 | ['PassengerId', 'Pclass', 'Fsize']\n",
      "\t\t('int', ['binned', 'text_special']) : 9 | ['Name.char_count', 'Name.word_count', 'Name.capital_ratio', 'Name.lower_ratio', 'Name.special_ratio', ...]\n",
      "\t\t('int', ['bool'])                   : 1 | ['Sex']\n",
      "\t\t('int', ['text_ngram'])             : 9 | ['__nlp__.henry', '__nlp__.john', '__nlp__.master', '__nlp__.miss', '__nlp__.mr', ...]\n",
      "\t0.1s = Fit runtime\n",
      "\t10 features in original data used to generate 27 features in processed data.\n",
      "\tTrain Data (Processed) Memory Usage: 0.07 MB (0.0% of available memory)\n",
      "Data preprocessing and feature engineering runtime = 0.15s ...\n",
      "AutoGluon will gauge predictive performance using evaluation metric: 'accuracy'\n",
      "\tTo change this, specify the eval_metric parameter of Predictor()\n",
      "User-specified model hyperparameters to be fit:\n",
      "{\n",
      "\t'NN_TORCH': {},\n",
      "\t'GBM': [{'extra_trees': True, 'ag_args': {'name_suffix': 'XT'}}, {}, 'GBMLarge'],\n",
      "\t'CAT': {},\n",
      "\t'XGB': {},\n",
      "\t'FASTAI': {},\n",
      "\t'RF': [{'criterion': 'gini', 'ag_args': {'name_suffix': 'Gini', 'problem_types': ['binary', 'multiclass']}}, {'criterion': 'entropy', 'ag_args': {'name_suffix': 'Entr', 'problem_types': ['binary', 'multiclass']}}, {'criterion': 'squared_error', 'ag_args': {'name_suffix': 'MSE', 'problem_types': ['regression', 'quantile']}}],\n",
      "\t'XT': [{'criterion': 'gini', 'ag_args': {'name_suffix': 'Gini', 'problem_types': ['binary', 'multiclass']}}, {'criterion': 'entropy', 'ag_args': {'name_suffix': 'Entr', 'problem_types': ['binary', 'multiclass']}}, {'criterion': 'squared_error', 'ag_args': {'name_suffix': 'MSE', 'problem_types': ['regression', 'quantile']}}],\n",
      "\t'KNN': [{'weights': 'uniform', 'ag_args': {'name_suffix': 'Unif'}}, {'weights': 'distance', 'ag_args': {'name_suffix': 'Dist'}}],\n",
      "}\n",
      "Fitting 13 L1 models ...\n",
      "Fitting model: KNeighborsUnif_BAG_L1 ...\n",
      "\t0.6308\t = Validation score   (accuracy)\n",
      "\t0.0s\t = Training   runtime\n",
      "\t0.03s\t = Validation runtime\n",
      "Fitting model: KNeighborsDist_BAG_L1 ...\n",
      "\t0.6364\t = Validation score   (accuracy)\n",
      "\t0.0s\t = Training   runtime\n",
      "\t0.0s\t = Validation runtime\n",
      "Fitting model: LightGBMXT_BAG_L1 ...\n",
      "\tFitting 8 child models (S1F1 - S1F8) | Fitting with ParallelLocalFoldFittingStrategy\n",
      "\t0.8418\t = Validation score   (accuracy)\n",
      "\t0.38s\t = Training   runtime\n",
      "\t0.02s\t = Validation runtime\n",
      "Fitting model: LightGBM_BAG_L1 ...\n",
      "\tFitting 8 child models (S1F1 - S1F8) | Fitting with ParallelLocalFoldFittingStrategy\n",
      "\t0.8496\t = Validation score   (accuracy)\n",
      "\t0.44s\t = Training   runtime\n",
      "\t0.02s\t = Validation runtime\n",
      "Fitting model: RandomForestGini_BAG_L1 ...\n",
      "\t0.8384\t = Validation score   (accuracy)\n",
      "\t0.36s\t = Training   runtime\n",
      "\t0.05s\t = Validation runtime\n",
      "Fitting model: RandomForestEntr_BAG_L1 ...\n",
      "\t0.8238\t = Validation score   (accuracy)\n",
      "\t0.31s\t = Training   runtime\n",
      "\t0.06s\t = Validation runtime\n",
      "Fitting model: CatBoost_BAG_L1 ...\n",
      "\tFitting 8 child models (S1F1 - S1F8) | Fitting with ParallelLocalFoldFittingStrategy\n",
      "\t0.853\t = Validation score   (accuracy)\n",
      "\t1.42s\t = Training   runtime\n",
      "\t0.03s\t = Validation runtime\n",
      "Fitting model: ExtraTreesGini_BAG_L1 ...\n",
      "\t0.8227\t = Validation score   (accuracy)\n",
      "\t0.27s\t = Training   runtime\n",
      "\t0.06s\t = Validation runtime\n",
      "Fitting model: ExtraTreesEntr_BAG_L1 ...\n",
      "\t0.826\t = Validation score   (accuracy)\n",
      "\t0.25s\t = Training   runtime\n",
      "\t0.06s\t = Validation runtime\n",
      "Fitting model: NeuralNetFastAI_BAG_L1 ...\n",
      "\tFitting 8 child models (S1F1 - S1F8) | Fitting with ParallelLocalFoldFittingStrategy\n",
      "\t0.8519\t = Validation score   (accuracy)\n",
      "\t2.25s\t = Training   runtime\n",
      "\t0.06s\t = Validation runtime\n",
      "Fitting model: XGBoost_BAG_L1 ...\n",
      "\tFitting 8 child models (S1F1 - S1F8) | Fitting with ParallelLocalFoldFittingStrategy\n",
      "\t0.844\t = Validation score   (accuracy)\n",
      "\t0.68s\t = Training   runtime\n",
      "\t0.03s\t = Validation runtime\n",
      "Fitting model: NeuralNetTorch_BAG_L1 ...\n",
      "\tFitting 8 child models (S1F1 - S1F8) | Fitting with ParallelLocalFoldFittingStrategy\n",
      "\t0.8418\t = Validation score   (accuracy)\n",
      "\t3.75s\t = Training   runtime\n",
      "\t0.08s\t = Validation runtime\n",
      "Fitting model: LightGBMLarge_BAG_L1 ...\n",
      "\tFitting 8 child models (S1F1 - S1F8) | Fitting with ParallelLocalFoldFittingStrategy\n",
      "\t0.844\t = Validation score   (accuracy)\n",
      "\t1.0s\t = Training   runtime\n",
      "\t0.03s\t = Validation runtime\n",
      "Fitting model: WeightedEnsemble_L2 ...\n",
      "\t0.853\t = Validation score   (accuracy)\n",
      "\t0.41s\t = Training   runtime\n",
      "\t0.0s\t = Validation runtime\n",
      "AutoGluon training complete, total runtime = 19.83s ... Best model: \"WeightedEnsemble_L2\"\n",
      "TabularPredictor saved. To load, use: predictor = TabularPredictor.load(\"AutogluonModels/ag-20230913_070925/\")\n"
     ]
    },
    {
     "data": {
      "text/plain": [
       "<autogluon.tabular.predictor.predictor.TabularPredictor at 0x7f0c4def4ee0>"
      ]
     },
     "execution_count": 7,
     "metadata": {},
     "output_type": "execute_result"
    }
   ],
   "source": [
    "predictr.fit(_tr,presets='best_quality') # 학생(predictr)에게 문제(tr)를 줘서 학습을 시킴(predictr.fit())"
   ]
  },
  {
   "cell_type": "markdown",
   "id": "b266c149-cce5-443c-a310-942e8f86030d",
   "metadata": {},
   "source": [
    "`-` 리더보드확인 (모의고사채점)"
   ]
  },
  {
   "cell_type": "code",
   "execution_count": 8,
   "id": "174c297f-09ab-4fab-8b6a-c1b5f5cc5244",
   "metadata": {},
   "outputs": [
    {
     "name": "stdout",
     "output_type": "stream",
     "text": [
      "                      model  score_val  pred_time_val  fit_time  pred_time_val_marginal  fit_time_marginal  stack_level  can_infer  fit_order\n",
      "0           CatBoost_BAG_L1   0.852974       0.031577  1.419052                0.031577           1.419052            1       True          7\n",
      "1       WeightedEnsemble_L2   0.852974       0.032645  1.832624                0.001068           0.413572            2       True         14\n",
      "2    NeuralNetFastAI_BAG_L1   0.851852       0.063553  2.253746                0.063553           2.253746            1       True         10\n",
      "3           LightGBM_BAG_L1   0.849607       0.023809  0.435157                0.023809           0.435157            1       True          4\n",
      "4      LightGBMLarge_BAG_L1   0.843996       0.026434  1.002698                0.026434           1.002698            1       True         13\n",
      "5            XGBoost_BAG_L1   0.843996       0.033381  0.684330                0.033381           0.684330            1       True         11\n",
      "6         LightGBMXT_BAG_L1   0.841751       0.024597  0.384963                0.024597           0.384963            1       True          3\n",
      "7     NeuralNetTorch_BAG_L1   0.841751       0.077535  3.745817                0.077535           3.745817            1       True         12\n",
      "8   RandomForestGini_BAG_L1   0.838384       0.054624  0.364527                0.054624           0.364527            1       True          5\n",
      "9     ExtraTreesEntr_BAG_L1   0.826038       0.055092  0.248551                0.055092           0.248551            1       True          9\n",
      "10  RandomForestEntr_BAG_L1   0.823793       0.062297  0.314906                0.062297           0.314906            1       True          6\n",
      "11    ExtraTreesGini_BAG_L1   0.822671       0.056287  0.271098                0.056287           0.271098            1       True          8\n",
      "12    KNeighborsDist_BAG_L1   0.636364       0.004575  0.002916                0.004575           0.002916            1       True          2\n",
      "13    KNeighborsUnif_BAG_L1   0.630752       0.027986  0.002342                0.027986           0.002342            1       True          1\n"
     ]
    },
    {
     "data": {
      "text/html": [
       "<div>\n",
       "<style scoped>\n",
       "    .dataframe tbody tr th:only-of-type {\n",
       "        vertical-align: middle;\n",
       "    }\n",
       "\n",
       "    .dataframe tbody tr th {\n",
       "        vertical-align: top;\n",
       "    }\n",
       "\n",
       "    .dataframe thead th {\n",
       "        text-align: right;\n",
       "    }\n",
       "</style>\n",
       "<table border=\"1\" class=\"dataframe\">\n",
       "  <thead>\n",
       "    <tr style=\"text-align: right;\">\n",
       "      <th></th>\n",
       "      <th>model</th>\n",
       "      <th>score_val</th>\n",
       "      <th>pred_time_val</th>\n",
       "      <th>fit_time</th>\n",
       "      <th>pred_time_val_marginal</th>\n",
       "      <th>fit_time_marginal</th>\n",
       "      <th>stack_level</th>\n",
       "      <th>can_infer</th>\n",
       "      <th>fit_order</th>\n",
       "    </tr>\n",
       "  </thead>\n",
       "  <tbody>\n",
       "    <tr>\n",
       "      <th>0</th>\n",
       "      <td>CatBoost_BAG_L1</td>\n",
       "      <td>0.852974</td>\n",
       "      <td>0.031577</td>\n",
       "      <td>1.419052</td>\n",
       "      <td>0.031577</td>\n",
       "      <td>1.419052</td>\n",
       "      <td>1</td>\n",
       "      <td>True</td>\n",
       "      <td>7</td>\n",
       "    </tr>\n",
       "    <tr>\n",
       "      <th>1</th>\n",
       "      <td>WeightedEnsemble_L2</td>\n",
       "      <td>0.852974</td>\n",
       "      <td>0.032645</td>\n",
       "      <td>1.832624</td>\n",
       "      <td>0.001068</td>\n",
       "      <td>0.413572</td>\n",
       "      <td>2</td>\n",
       "      <td>True</td>\n",
       "      <td>14</td>\n",
       "    </tr>\n",
       "    <tr>\n",
       "      <th>2</th>\n",
       "      <td>NeuralNetFastAI_BAG_L1</td>\n",
       "      <td>0.851852</td>\n",
       "      <td>0.063553</td>\n",
       "      <td>2.253746</td>\n",
       "      <td>0.063553</td>\n",
       "      <td>2.253746</td>\n",
       "      <td>1</td>\n",
       "      <td>True</td>\n",
       "      <td>10</td>\n",
       "    </tr>\n",
       "    <tr>\n",
       "      <th>3</th>\n",
       "      <td>LightGBM_BAG_L1</td>\n",
       "      <td>0.849607</td>\n",
       "      <td>0.023809</td>\n",
       "      <td>0.435157</td>\n",
       "      <td>0.023809</td>\n",
       "      <td>0.435157</td>\n",
       "      <td>1</td>\n",
       "      <td>True</td>\n",
       "      <td>4</td>\n",
       "    </tr>\n",
       "    <tr>\n",
       "      <th>4</th>\n",
       "      <td>LightGBMLarge_BAG_L1</td>\n",
       "      <td>0.843996</td>\n",
       "      <td>0.026434</td>\n",
       "      <td>1.002698</td>\n",
       "      <td>0.026434</td>\n",
       "      <td>1.002698</td>\n",
       "      <td>1</td>\n",
       "      <td>True</td>\n",
       "      <td>13</td>\n",
       "    </tr>\n",
       "    <tr>\n",
       "      <th>5</th>\n",
       "      <td>XGBoost_BAG_L1</td>\n",
       "      <td>0.843996</td>\n",
       "      <td>0.033381</td>\n",
       "      <td>0.684330</td>\n",
       "      <td>0.033381</td>\n",
       "      <td>0.684330</td>\n",
       "      <td>1</td>\n",
       "      <td>True</td>\n",
       "      <td>11</td>\n",
       "    </tr>\n",
       "    <tr>\n",
       "      <th>6</th>\n",
       "      <td>LightGBMXT_BAG_L1</td>\n",
       "      <td>0.841751</td>\n",
       "      <td>0.024597</td>\n",
       "      <td>0.384963</td>\n",
       "      <td>0.024597</td>\n",
       "      <td>0.384963</td>\n",
       "      <td>1</td>\n",
       "      <td>True</td>\n",
       "      <td>3</td>\n",
       "    </tr>\n",
       "    <tr>\n",
       "      <th>7</th>\n",
       "      <td>NeuralNetTorch_BAG_L1</td>\n",
       "      <td>0.841751</td>\n",
       "      <td>0.077535</td>\n",
       "      <td>3.745817</td>\n",
       "      <td>0.077535</td>\n",
       "      <td>3.745817</td>\n",
       "      <td>1</td>\n",
       "      <td>True</td>\n",
       "      <td>12</td>\n",
       "    </tr>\n",
       "    <tr>\n",
       "      <th>8</th>\n",
       "      <td>RandomForestGini_BAG_L1</td>\n",
       "      <td>0.838384</td>\n",
       "      <td>0.054624</td>\n",
       "      <td>0.364527</td>\n",
       "      <td>0.054624</td>\n",
       "      <td>0.364527</td>\n",
       "      <td>1</td>\n",
       "      <td>True</td>\n",
       "      <td>5</td>\n",
       "    </tr>\n",
       "    <tr>\n",
       "      <th>9</th>\n",
       "      <td>ExtraTreesEntr_BAG_L1</td>\n",
       "      <td>0.826038</td>\n",
       "      <td>0.055092</td>\n",
       "      <td>0.248551</td>\n",
       "      <td>0.055092</td>\n",
       "      <td>0.248551</td>\n",
       "      <td>1</td>\n",
       "      <td>True</td>\n",
       "      <td>9</td>\n",
       "    </tr>\n",
       "    <tr>\n",
       "      <th>10</th>\n",
       "      <td>RandomForestEntr_BAG_L1</td>\n",
       "      <td>0.823793</td>\n",
       "      <td>0.062297</td>\n",
       "      <td>0.314906</td>\n",
       "      <td>0.062297</td>\n",
       "      <td>0.314906</td>\n",
       "      <td>1</td>\n",
       "      <td>True</td>\n",
       "      <td>6</td>\n",
       "    </tr>\n",
       "    <tr>\n",
       "      <th>11</th>\n",
       "      <td>ExtraTreesGini_BAG_L1</td>\n",
       "      <td>0.822671</td>\n",
       "      <td>0.056287</td>\n",
       "      <td>0.271098</td>\n",
       "      <td>0.056287</td>\n",
       "      <td>0.271098</td>\n",
       "      <td>1</td>\n",
       "      <td>True</td>\n",
       "      <td>8</td>\n",
       "    </tr>\n",
       "    <tr>\n",
       "      <th>12</th>\n",
       "      <td>KNeighborsDist_BAG_L1</td>\n",
       "      <td>0.636364</td>\n",
       "      <td>0.004575</td>\n",
       "      <td>0.002916</td>\n",
       "      <td>0.004575</td>\n",
       "      <td>0.002916</td>\n",
       "      <td>1</td>\n",
       "      <td>True</td>\n",
       "      <td>2</td>\n",
       "    </tr>\n",
       "    <tr>\n",
       "      <th>13</th>\n",
       "      <td>KNeighborsUnif_BAG_L1</td>\n",
       "      <td>0.630752</td>\n",
       "      <td>0.027986</td>\n",
       "      <td>0.002342</td>\n",
       "      <td>0.027986</td>\n",
       "      <td>0.002342</td>\n",
       "      <td>1</td>\n",
       "      <td>True</td>\n",
       "      <td>1</td>\n",
       "    </tr>\n",
       "  </tbody>\n",
       "</table>\n",
       "</div>"
      ],
      "text/plain": [
       "                      model  score_val  pred_time_val  fit_time  \\\n",
       "0           CatBoost_BAG_L1   0.852974       0.031577  1.419052   \n",
       "1       WeightedEnsemble_L2   0.852974       0.032645  1.832624   \n",
       "2    NeuralNetFastAI_BAG_L1   0.851852       0.063553  2.253746   \n",
       "3           LightGBM_BAG_L1   0.849607       0.023809  0.435157   \n",
       "4      LightGBMLarge_BAG_L1   0.843996       0.026434  1.002698   \n",
       "5            XGBoost_BAG_L1   0.843996       0.033381  0.684330   \n",
       "6         LightGBMXT_BAG_L1   0.841751       0.024597  0.384963   \n",
       "7     NeuralNetTorch_BAG_L1   0.841751       0.077535  3.745817   \n",
       "8   RandomForestGini_BAG_L1   0.838384       0.054624  0.364527   \n",
       "9     ExtraTreesEntr_BAG_L1   0.826038       0.055092  0.248551   \n",
       "10  RandomForestEntr_BAG_L1   0.823793       0.062297  0.314906   \n",
       "11    ExtraTreesGini_BAG_L1   0.822671       0.056287  0.271098   \n",
       "12    KNeighborsDist_BAG_L1   0.636364       0.004575  0.002916   \n",
       "13    KNeighborsUnif_BAG_L1   0.630752       0.027986  0.002342   \n",
       "\n",
       "    pred_time_val_marginal  fit_time_marginal  stack_level  can_infer  \\\n",
       "0                 0.031577           1.419052            1       True   \n",
       "1                 0.001068           0.413572            2       True   \n",
       "2                 0.063553           2.253746            1       True   \n",
       "3                 0.023809           0.435157            1       True   \n",
       "4                 0.026434           1.002698            1       True   \n",
       "5                 0.033381           0.684330            1       True   \n",
       "6                 0.024597           0.384963            1       True   \n",
       "7                 0.077535           3.745817            1       True   \n",
       "8                 0.054624           0.364527            1       True   \n",
       "9                 0.055092           0.248551            1       True   \n",
       "10                0.062297           0.314906            1       True   \n",
       "11                0.056287           0.271098            1       True   \n",
       "12                0.004575           0.002916            1       True   \n",
       "13                0.027986           0.002342            1       True   \n",
       "\n",
       "    fit_order  \n",
       "0           7  \n",
       "1          14  \n",
       "2          10  \n",
       "3           4  \n",
       "4          13  \n",
       "5          11  \n",
       "6           3  \n",
       "7          12  \n",
       "8           5  \n",
       "9           9  \n",
       "10          6  \n",
       "11          8  \n",
       "12          2  \n",
       "13          1  "
      ]
     },
     "execution_count": 8,
     "metadata": {},
     "output_type": "execute_result"
    }
   ],
   "source": [
    "predictr.leaderboard()"
   ]
  },
  {
   "cell_type": "markdown",
   "id": "9185a6dc-88d0-4253-8ff9-03334539049d",
   "metadata": {},
   "source": [
    "- CatBoost_BAG_L1"
   ]
  },
  {
   "cell_type": "markdown",
   "id": "1faecf94-0951-4983-b851-277dd30bc8bf",
   "metadata": {},
   "source": [
    "## D. 예측 (predict)\n",
    "\n",
    "`-` 비유: 학습이후에 문제를 푸는 과정으로 비유할 수 있다.\n",
    "\n",
    "`-` training set 을 풀어봄 (predict) $\\to$ 점수 확인"
   ]
  },
  {
   "cell_type": "code",
   "execution_count": 11,
   "id": "63dde064-62d6-4b36-bade-c3826d031584",
   "metadata": {},
   "outputs": [
    {
     "data": {
      "text/plain": [
       "0.9113355780022446"
      ]
     },
     "execution_count": 11,
     "metadata": {},
     "output_type": "execute_result"
    }
   ],
   "source": [
    "(tr.Survived == predictr.predict(_tr)).mean()"
   ]
  },
  {
   "cell_type": "markdown",
   "id": "de67c122-e2a7-4cd9-bbc8-16f4ce6c8f22",
   "metadata": {},
   "source": [
    "`-` test set 을 풀어봄 (predict) $\\to$ 점수 확인 하러 캐글에 결과제출"
   ]
  },
  {
   "cell_type": "code",
   "execution_count": 12,
   "id": "767c5239-4ba5-4a43-873b-dd1575ef8954",
   "metadata": {},
   "outputs": [],
   "source": [
    "tst.assign(Survived = predictr.predict(_tst)).loc[:,['PassengerId','Survived']]\\\n",
    ".to_csv(\"./titanic_sub/autogluon(Fsize,Drop,best_quality)_submission.csv\",index=False)"
   ]
  },
  {
   "cell_type": "markdown",
   "id": "d5e72bda-71b3-43f3-9ab3-1d250dc37db6",
   "metadata": {},
   "source": [
    "## Submission Result"
   ]
  },
  {
   "cell_type": "markdown",
   "id": "736a13fc-4e4e-4591-9276-d508db88aa13",
   "metadata": {},
   "source": [
    "|Sub and Description| Public Score|\n",
    "|-------------------|-------------|\n",
    "|autogulon_sub|0.75358|\n",
    "|autogulon(Fsize)_sub|0.77272|\n",
    "|autogulon(Fsize,Drop)|0.78947|\n",
    "|autogulon(best_quality)|0.80143|"
   ]
  },
  {
   "cell_type": "markdown",
   "id": "8be087d1-e140-47ae-bd97-0579ab1b73b8",
   "metadata": {},
   "source": [
    "# 3. 숙제\n",
    "\n",
    "`-` 캐글에 제출한 결과를 캡쳐하여 LMS에 제출"
   ]
  }
 ],
 "metadata": {
  "kernelspec": {
   "display_name": "Python 3",
   "language": "python",
   "name": "python3"
  },
  "language_info": {
   "codemirror_mode": {
    "name": "ipython",
    "version": 3
   },
   "file_extension": ".py",
   "mimetype": "text/x-python",
   "name": "python",
   "nbconvert_exporter": "python",
   "pygments_lexer": "ipython3",
   "version": "3.8.16"
  }
 },
 "nbformat": 4,
 "nbformat_minor": 5
}
