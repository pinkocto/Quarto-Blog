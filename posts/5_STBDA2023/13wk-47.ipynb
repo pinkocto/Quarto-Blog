{
 "cells": [
  {
   "cell_type": "raw",
   "id": "9eb0c58e-c52f-4edd-96e7-8c6242802d3a",
   "metadata": {},
   "source": [
    "---\n",
    "title: \"13wk-47: 평가지표의 계산\"\n",
    "author: \"JiyunLim\"\n",
    "date: \"12/01/2023\"\n",
    "---"
   ]
  },
  {
   "cell_type": "markdown",
   "id": "583842d3-1cba-410e-9df5-dcc71af75e0e",
   "metadata": {},
   "source": [
    "# 1. 강의영상 "
   ]
  },
  {
   "cell_type": "markdown",
   "id": "5a7ba7ec-7f9d-4e0f-9c6c-91e2f7d21296",
   "metadata": {},
   "source": [
    "{{<video https://youtu.be/playlist?list=PLQqh36zP38-zr8gM9nYpQ_0Q_OKIqeU0d&si=lX6pDp3cV_fME8mg >}}"
   ]
  },
  {
   "cell_type": "markdown",
   "id": "0662f8c4-d5bc-4ff1-add0-e12a58fd6550",
   "metadata": {},
   "source": [
    "# 2. Imports"
   ]
  },
  {
   "cell_type": "code",
   "execution_count": 1,
   "id": "a1fe4893-6304-42fd-9c53-7e5684def4a7",
   "metadata": {
    "tags": []
   },
   "outputs": [],
   "source": [
    "import numpy as np\n",
    "import sklearn.metrics"
   ]
  },
  {
   "cell_type": "markdown",
   "id": "0d2aaf4f-56f5-4090-9e51-7d1a8625edbd",
   "metadata": {},
   "source": [
    "# 3. 12wk-46 숙제풀이"
   ]
  },
  {
   "cell_type": "markdown",
   "id": "6d5ab1ed-e99c-4209-9a94-c0c75b598815",
   "metadata": {},
   "source": [
    "밀실안에 100명의 사람이 있다고 하자. 이중 이중휴민트는 2명이 있다고 하자. 이중휴민트를 잡기위해서 3명을 사살했다고 하자. 사살된 사람중 실제 이중휴민트는 1명이었다고 하자. 이 경우\n",
    "\n",
    "- accurary\n",
    "- TPR(=recall)\n",
    "- precision\n",
    "- FPR\n",
    "\n",
    "값을 계산하라."
   ]
  },
  {
   "cell_type": "markdown",
   "id": "bc3fb6ae-7220-43af-9fe4-3de23b89f6af",
   "metadata": {},
   "source": [
    "`-` `y`, `yhat` "
   ]
  },
  {
   "cell_type": "code",
   "execution_count": 4,
   "id": "be6bfeed-e917-4e5f-9f75-2e2eeb042da6",
   "metadata": {
    "tags": []
   },
   "outputs": [
    {
     "data": {
      "text/plain": [
       "array([1, 1, 0, 0, 0, 0, 0, 0, 0, 0, 0, 0, 0, 0, 0, 0, 0, 0, 0, 0, 0, 0,\n",
       "       0, 0, 0, 0, 0, 0, 0, 0, 0, 0, 0, 0, 0, 0, 0, 0, 0, 0, 0, 0, 0, 0,\n",
       "       0, 0, 0, 0, 0, 0, 0, 0, 0, 0, 0, 0, 0, 0, 0, 0, 0, 0, 0, 0, 0, 0,\n",
       "       0, 0, 0, 0, 0, 0, 0, 0, 0, 0, 0, 0, 0, 0, 0, 0, 0, 0, 0, 0, 0, 0,\n",
       "       0, 0, 0, 0, 0, 0, 0, 0, 0, 0, 0, 0])"
      ]
     },
     "execution_count": 4,
     "metadata": {},
     "output_type": "execute_result"
    }
   ],
   "source": [
    "y = np.array([1]*2 + [0]*98)\n",
    "y"
   ]
  },
  {
   "cell_type": "code",
   "execution_count": 5,
   "id": "729ae415-f978-42cd-beb0-513b0083b7bc",
   "metadata": {
    "tags": []
   },
   "outputs": [
    {
     "data": {
      "text/plain": [
       "array([0, 1, 1, 1, 0, 0, 0, 0, 0, 0, 0, 0, 0, 0, 0, 0, 0, 0, 0, 0, 0, 0,\n",
       "       0, 0, 0, 0, 0, 0, 0, 0, 0, 0, 0, 0, 0, 0, 0, 0, 0, 0, 0, 0, 0, 0,\n",
       "       0, 0, 0, 0, 0, 0, 0, 0, 0, 0, 0, 0, 0, 0, 0, 0, 0, 0, 0, 0, 0, 0,\n",
       "       0, 0, 0, 0, 0, 0, 0, 0, 0, 0, 0, 0, 0, 0, 0, 0, 0, 0, 0, 0, 0, 0,\n",
       "       0, 0, 0, 0, 0, 0, 0, 0, 0, 0, 0, 0])"
      ]
     },
     "execution_count": 5,
     "metadata": {},
     "output_type": "execute_result"
    }
   ],
   "source": [
    "yhat = np.array([0,1,1,1]+[0]*96)\n",
    "yhat"
   ]
  },
  {
   "cell_type": "markdown",
   "id": "8466dfad-d254-43a9-9ebb-6c5d47e5ea8c",
   "metadata": {},
   "source": [
    "`-` 혼동행렬(=confusion matrix) 만들기 "
   ]
  },
  {
   "cell_type": "code",
   "execution_count": 6,
   "id": "79f094f1-dc7a-4f76-b029-af85a5c3ef63",
   "metadata": {
    "tags": []
   },
   "outputs": [
    {
     "data": {
      "text/plain": [
       "array([[96,  2],\n",
       "       [ 1,  1]])"
      ]
     },
     "execution_count": 6,
     "metadata": {},
     "output_type": "execute_result"
    }
   ],
   "source": [
    "sklearn.metrics.confusion_matrix(y,yhat)"
   ]
  },
  {
   "cell_type": "code",
   "execution_count": 11,
   "id": "491c2ea9-2658-4546-9e7f-48c06c4c899b",
   "metadata": {
    "tags": []
   },
   "outputs": [],
   "source": [
    "(tn,fp),(fn,tp) = sklearn.metrics.confusion_matrix(y,yhat)"
   ]
  },
  {
   "cell_type": "markdown",
   "id": "d54078c2-5827-4114-8bdc-866fe3120b1b",
   "metadata": {
    "tags": []
   },
   "source": [
    "`-` accuracy "
   ]
  },
  {
   "cell_type": "code",
   "execution_count": 20,
   "id": "7fd7d079-757f-4975-a72a-b84e846fd1f4",
   "metadata": {
    "tags": []
   },
   "outputs": [
    {
     "data": {
      "text/plain": [
       "0.97"
      ]
     },
     "execution_count": 20,
     "metadata": {},
     "output_type": "execute_result"
    }
   ],
   "source": [
    "(tp+tn)/(tn+fp+fn+tp) # accuracy "
   ]
  },
  {
   "cell_type": "code",
   "execution_count": 21,
   "id": "59c5fef6-84a7-4769-b2bd-2718a5cc621f",
   "metadata": {
    "tags": []
   },
   "outputs": [
    {
     "data": {
      "text/plain": [
       "0.97"
      ]
     },
     "execution_count": 21,
     "metadata": {},
     "output_type": "execute_result"
    }
   ],
   "source": [
    "sklearn.metrics.accuracy_score(y,yhat)"
   ]
  },
  {
   "cell_type": "markdown",
   "id": "e237dc41-ac9e-4804-b33f-a231aec59f83",
   "metadata": {},
   "source": [
    "`-` recall "
   ]
  },
  {
   "cell_type": "code",
   "execution_count": 22,
   "id": "693b1344-5c28-4ecc-891f-ae56f79f5c25",
   "metadata": {
    "tags": []
   },
   "outputs": [
    {
     "data": {
      "text/plain": [
       "0.5"
      ]
     },
     "execution_count": 22,
     "metadata": {},
     "output_type": "execute_result"
    }
   ],
   "source": [
    "tp/(tp+fn)"
   ]
  },
  {
   "cell_type": "code",
   "execution_count": 23,
   "id": "93910b7a-1796-49cf-947c-6db3e4083e6f",
   "metadata": {
    "tags": []
   },
   "outputs": [
    {
     "data": {
      "text/plain": [
       "0.5"
      ]
     },
     "execution_count": 23,
     "metadata": {},
     "output_type": "execute_result"
    }
   ],
   "source": [
    "sklearn.metrics.recall_score(y,yhat)"
   ]
  },
  {
   "cell_type": "markdown",
   "id": "e38dfc2d-0a16-440b-be76-1909eb3726d4",
   "metadata": {},
   "source": [
    "`-` precision"
   ]
  },
  {
   "cell_type": "code",
   "execution_count": 24,
   "id": "7a485b27-dce0-4dfa-8bb0-3424bfb53be5",
   "metadata": {
    "tags": []
   },
   "outputs": [
    {
     "data": {
      "text/plain": [
       "0.3333333333333333"
      ]
     },
     "execution_count": 24,
     "metadata": {},
     "output_type": "execute_result"
    }
   ],
   "source": [
    "tp/(tp+fp)"
   ]
  },
  {
   "cell_type": "code",
   "execution_count": 25,
   "id": "e4bfdce7-1bc6-4652-aec9-674149407c5d",
   "metadata": {
    "tags": []
   },
   "outputs": [
    {
     "data": {
      "text/plain": [
       "0.3333333333333333"
      ]
     },
     "execution_count": 25,
     "metadata": {},
     "output_type": "execute_result"
    }
   ],
   "source": [
    "sklearn.metrics.precision_score(y,yhat)"
   ]
  },
  {
   "cell_type": "markdown",
   "id": "1838439d-2554-45e1-b49b-24fb4b1972e8",
   "metadata": {},
   "source": [
    "`-` FPR "
   ]
  },
  {
   "cell_type": "code",
   "execution_count": 26,
   "id": "cbd8d265-9a0a-4a14-8f10-280524ea239e",
   "metadata": {
    "tags": []
   },
   "outputs": [
    {
     "data": {
      "text/plain": [
       "0.02040816326530612"
      ]
     },
     "execution_count": 26,
     "metadata": {},
     "output_type": "execute_result"
    }
   ],
   "source": [
    "fp / (fp+tn)"
   ]
  }
 ],
 "metadata": {
  "kernelspec": {
   "display_name": "Python 3 (ipykernel)",
   "language": "python",
   "name": "python3"
  },
  "language_info": {
   "codemirror_mode": {
    "name": "ipython",
    "version": 3
   },
   "file_extension": ".py",
   "mimetype": "text/x-python",
   "name": "python",
   "nbconvert_exporter": "python",
   "pygments_lexer": "ipython3",
   "version": "3.10.13"
  }
 },
 "nbformat": 4,
 "nbformat_minor": 5
}
