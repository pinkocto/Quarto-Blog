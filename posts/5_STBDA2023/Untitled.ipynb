{
 "cells": [
  {
   "cell_type": "code",
   "execution_count": 1,
   "id": "930867a5-90e3-4226-93c5-2761cee09645",
   "metadata": {},
   "outputs": [
    {
     "name": "stdout",
     "output_type": "stream",
     "text": [
      "Weight의 최솟값과 최댓값: (60, 80)\n",
      "최적의 c: 66\n",
      "최적의 R-squared: 0.8313226094727435\n"
     ]
    }
   ],
   "source": [
    "import pandas as pd\n",
    "\n",
    "# 예시 데이터 생성\n",
    "data = {'sex': [1, 0, 1, 0, 1],\n",
    "        'weight': [70, 65, 80, 60, 75],\n",
    "        'height': [175, 170, 180, 165, 178]}\n",
    "\n",
    "df_train = pd.DataFrame(data)\n",
    "\n",
    "# yhat 계산 (이전 단계에서의 평균값 활용)\n",
    "yhat = df_train['height'].mean()\n",
    "\n",
    "# r 계산\n",
    "r = df_train['height'] - yhat\n",
    "\n",
    "# Weight의 최솟값과 최댓값 출력\n",
    "weight_range = (df_train['weight'].min(), df_train['weight'].max())\n",
    "print(\"Weight의 최솟값과 최댓값:\", weight_range)\n",
    "\n",
    "# 의사결정나무를 수동으로 구현하여 최적의 c와 R-squared 값 찾기\n",
    "best_c = None\n",
    "best_r2_score = -1\n",
    "\n",
    "for c in range(int(weight_range[0]), int(weight_range[1]) + 1):\n",
    "    # 분할 조건 설정\n",
    "    df_train['weight_split'] = df_train['weight'] < c\n",
    "\n",
    "    # 각 분할에 대한 평균값 계산\n",
    "    mean_left = df_train.loc[df_train['weight_split'], 'height'].mean()\n",
    "    mean_right = df_train.loc[~df_train['weight_split'], 'height'].mean()\n",
    "\n",
    "    # 예측값 계산\n",
    "    y_pred = df_train['weight_split'].map({True: mean_left, False: mean_right})\n",
    "\n",
    "    # R-squared 계산\n",
    "    ss_total = ((df_train['height'] - yhat) ** 2).sum()\n",
    "    ss_residual = ((df_train['height'] - y_pred) ** 2).sum()\n",
    "    current_r2_score = 1 - (ss_residual / ss_total)\n",
    "\n",
    "    # 최적의 c 및 R-squared 값 갱신\n",
    "    if current_r2_score > best_r2_score:\n",
    "        best_r2_score = current_r2_score\n",
    "        best_c = c\n",
    "\n",
    "# 결과 출력\n",
    "print(\"최적의 c:\", best_c)\n",
    "print(\"최적의 R-squared:\", best_r2_score)\n"
   ]
  },
  {
   "cell_type": "code",
   "execution_count": null,
   "id": "9342d159-5858-457c-89ca-db0dd00e4f5d",
   "metadata": {},
   "outputs": [],
   "source": []
  }
 ],
 "metadata": {
  "kernelspec": {
   "display_name": "Python 3 (ipykernel)",
   "language": "python",
   "name": "python3"
  },
  "language_info": {
   "codemirror_mode": {
    "name": "ipython",
    "version": 3
   },
   "file_extension": ".py",
   "mimetype": "text/x-python",
   "name": "python",
   "nbconvert_exporter": "python",
   "pygments_lexer": "ipython3",
   "version": "3.10.13"
  }
 },
 "nbformat": 4,
 "nbformat_minor": 5
}
