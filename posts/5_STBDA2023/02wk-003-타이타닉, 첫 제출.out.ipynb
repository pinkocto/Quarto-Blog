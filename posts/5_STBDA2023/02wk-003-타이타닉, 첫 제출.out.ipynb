{
 "cells": [
  {
   "cell_type": "raw",
   "id": "37580e43-5cc9-4989-9562-3284d32c883e",
   "metadata": {},
   "source": [
    "---\n",
    "title: \"02wk-003: 타이타닉, 첫 제출\"\n",
    "author: \"최규빈\"\n",
    "date: \"09/12/2023\"\n",
    "---"
   ]
  },
  {
   "cell_type": "markdown",
   "id": "8ba7b5a8-f79f-43cc-b50a-8a78edc3cd64",
   "metadata": {},
   "source": [
    "# 1. 강의영상\n",
    "\n",
    "<https://youtu.be/playlist?list=PLQqh36zP38-zw88937ohvzYyltCjK-_mg&si=gQE8ICf9c9TvFaxy>\n",
    "\n",
    "# 2. 제출방법\n",
    "\n",
    "`-` 제출: Submit Predictions\n",
    "\n",
    "`-` 결과확인: Leaderboard\n",
    "\n",
    "# 3. 결과확인\n",
    "\n",
    "## A. test – 답을 모름, 제출해야 알 수 있음\n",
    "\n",
    "`-` 제출결과는 리더보드에서 확인할 수 있음.\n",
    "\n",
    "## B. train – 스스로 풀어보고 채점할 수 있음\n",
    "\n",
    "`-` 캐글에서 code $\\to$ New Notebook 클릭\n",
    "\n",
    "``` python\n",
    "# This Python 3 environment comes with many helpful analytics libraries installed\n",
    "# It is defined by the kaggle/python Docker image: https://github.com/kaggle/docker-python\n",
    "# For example, here's several helpful packages to load\n",
    "\n",
    "import numpy as np # linear algebra\n",
    "import pandas as pd # data processing, CSV file I/O (e.g. pd.read_csv)\n",
    "\n",
    "# Input data files are available in the read-only \"../input/\" directory\n",
    "# For example, running this (by clicking run or pressing Shift+Enter) will list all files under the input directory\n",
    "\n",
    "import os\n",
    "for dirname, _, filenames in os.walk('/kaggle/input'):\n",
    "    for filename in filenames:\n",
    "        print(os.path.join(dirname, filename))\n",
    "\n",
    "# You can write up to 20GB to the current directory (/kaggle/working/) that gets preserved as output when you create a version using \"Save & Run All\" \n",
    "# You can also write temporary files to /kaggle/temp/, but they won't be saved outside of the current session\n",
    "```\n",
    "\n",
    "    /kaggle/input/titanic/train.csv\n",
    "    /kaggle/input/titanic/test.csv\n",
    "    /kaggle/input/titanic/gender_submission.csv"
   ]
  },
  {
   "cell_type": "code",
   "execution_count": 1,
   "id": "6f152d78-905c-473f-8bca-9b9e20ca8de5",
   "metadata": {},
   "outputs": [],
   "source": [
    "import pandas as pd"
   ]
  },
  {
   "cell_type": "code",
   "execution_count": 2,
   "id": "d8ce487b-aad1-4ec5-bc90-bc254a0425f4",
   "metadata": {},
   "outputs": [],
   "source": [
    "# tr=pd.read_csv(\"/kaggle/input/titanic/train.csv\")\n",
    "# tst=pd.read_csv(\"/kaggle/input/titanic/test.csv\")\n",
    "tr = pd.read_csv('./titanic/train.csv')\n",
    "tst = pd.read_csv('./titanic/test.csv')"
   ]
  },
  {
   "cell_type": "markdown",
   "id": "7b7d75b3-0f34-4a85-b11f-08e3d8fb00a3",
   "metadata": {},
   "source": [
    "`#` 예비학습 – accuracy의 계산"
   ]
  },
  {
   "cell_type": "code",
   "execution_count": 3,
   "id": "4d2cee85-51bc-446a-8a03-644913818b62",
   "metadata": {},
   "outputs": [],
   "source": [
    "df = pd.DataFrame({'Surv':[1,0,1,1,0],'Sex':['f','m','f','m','m']})"
   ]
  },
  {
   "cell_type": "code",
   "execution_count": 4,
   "id": "e34ed443-d90a-4a22-921f-6086c9db744e",
   "metadata": {},
   "outputs": [
    {
     "data": {
      "text/html": [
       "<div>\n",
       "<style scoped>\n",
       "    .dataframe tbody tr th:only-of-type {\n",
       "        vertical-align: middle;\n",
       "    }\n",
       "\n",
       "    .dataframe tbody tr th {\n",
       "        vertical-align: top;\n",
       "    }\n",
       "\n",
       "    .dataframe thead th {\n",
       "        text-align: right;\n",
       "    }\n",
       "</style>\n",
       "<table border=\"1\" class=\"dataframe\">\n",
       "  <thead>\n",
       "    <tr style=\"text-align: right;\">\n",
       "      <th></th>\n",
       "      <th>Surv</th>\n",
       "      <th>Sex</th>\n",
       "    </tr>\n",
       "  </thead>\n",
       "  <tbody>\n",
       "    <tr>\n",
       "      <th>0</th>\n",
       "      <td>1</td>\n",
       "      <td>f</td>\n",
       "    </tr>\n",
       "    <tr>\n",
       "      <th>1</th>\n",
       "      <td>0</td>\n",
       "      <td>m</td>\n",
       "    </tr>\n",
       "    <tr>\n",
       "      <th>2</th>\n",
       "      <td>1</td>\n",
       "      <td>f</td>\n",
       "    </tr>\n",
       "    <tr>\n",
       "      <th>3</th>\n",
       "      <td>1</td>\n",
       "      <td>m</td>\n",
       "    </tr>\n",
       "    <tr>\n",
       "      <th>4</th>\n",
       "      <td>0</td>\n",
       "      <td>m</td>\n",
       "    </tr>\n",
       "  </tbody>\n",
       "</table>\n",
       "</div>"
      ],
      "text/plain": [
       "   Surv Sex\n",
       "0     1   f\n",
       "1     0   m\n",
       "2     1   f\n",
       "3     1   m\n",
       "4     0   m"
      ]
     },
     "execution_count": 4,
     "metadata": {},
     "output_type": "execute_result"
    }
   ],
   "source": [
    "df"
   ]
  },
  {
   "cell_type": "markdown",
   "id": "e1f10eef-82b0-49d1-87fd-45b6c3254cd4",
   "metadata": {},
   "source": [
    "`-` Surv 열의 선택"
   ]
  },
  {
   "cell_type": "code",
   "execution_count": 5,
   "id": "6536357c-2939-4f15-822a-e3e4bb9f0cda",
   "metadata": {},
   "outputs": [
    {
     "data": {
      "text/plain": [
       "0    1\n",
       "1    0\n",
       "2    1\n",
       "3    1\n",
       "4    0\n",
       "Name: Surv, dtype: int64"
      ]
     },
     "execution_count": 5,
     "metadata": {},
     "output_type": "execute_result"
    }
   ],
   "source": [
    "df.Surv"
   ]
  },
  {
   "cell_type": "markdown",
   "id": "df29c5bf-ba12-44d8-ae64-a8ff986adc49",
   "metadata": {},
   "source": [
    "`-` Sex 열의 선택"
   ]
  },
  {
   "cell_type": "code",
   "execution_count": 6,
   "id": "9f72546b-14c7-4dbf-ac49-642dc103666a",
   "metadata": {},
   "outputs": [
    {
     "data": {
      "text/plain": [
       "0    f\n",
       "1    m\n",
       "2    f\n",
       "3    m\n",
       "4    m\n",
       "Name: Sex, dtype: object"
      ]
     },
     "execution_count": 6,
     "metadata": {},
     "output_type": "execute_result"
    }
   ],
   "source": [
    "df.Sex"
   ]
  },
  {
   "cell_type": "markdown",
   "id": "b3aed9a5-a5e0-4b09-916f-3c631c07f0ab",
   "metadata": {},
   "source": [
    "`-` `Sex == f`이면 생존(1), 그렇지 않으면 사망(0)이라고 예측"
   ]
  },
  {
   "cell_type": "code",
   "execution_count": 7,
   "id": "8ca835df-a89e-4372-9b36-0d4ec6a18d04",
   "metadata": {},
   "outputs": [
    {
     "data": {
      "text/plain": [
       "0    1\n",
       "1    0\n",
       "2    1\n",
       "3    0\n",
       "4    0\n",
       "Name: Sex, dtype: int64"
      ]
     },
     "execution_count": 7,
     "metadata": {},
     "output_type": "execute_result"
    }
   ],
   "source": [
    "(df.Sex == 'f')*1"
   ]
  },
  {
   "cell_type": "markdown",
   "id": "cd1d0916-c020-423e-a718-da96bd396865",
   "metadata": {},
   "source": [
    "`-` 결과를 정리하면 아래와 같음"
   ]
  },
  {
   "cell_type": "code",
   "execution_count": 8,
   "id": "6b7f721d-454c-4be7-8a2f-35cafefa72e6",
   "metadata": {},
   "outputs": [
    {
     "data": {
      "text/html": [
       "<div>\n",
       "<style scoped>\n",
       "    .dataframe tbody tr th:only-of-type {\n",
       "        vertical-align: middle;\n",
       "    }\n",
       "\n",
       "    .dataframe tbody tr th {\n",
       "        vertical-align: top;\n",
       "    }\n",
       "\n",
       "    .dataframe thead th {\n",
       "        text-align: right;\n",
       "    }\n",
       "</style>\n",
       "<table border=\"1\" class=\"dataframe\">\n",
       "  <thead>\n",
       "    <tr style=\"text-align: right;\">\n",
       "      <th></th>\n",
       "      <th>real</th>\n",
       "      <th>estimate</th>\n",
       "    </tr>\n",
       "  </thead>\n",
       "  <tbody>\n",
       "    <tr>\n",
       "      <th>0</th>\n",
       "      <td>1</td>\n",
       "      <td>1</td>\n",
       "    </tr>\n",
       "    <tr>\n",
       "      <th>1</th>\n",
       "      <td>0</td>\n",
       "      <td>0</td>\n",
       "    </tr>\n",
       "    <tr>\n",
       "      <th>2</th>\n",
       "      <td>1</td>\n",
       "      <td>1</td>\n",
       "    </tr>\n",
       "    <tr>\n",
       "      <th>3</th>\n",
       "      <td>1</td>\n",
       "      <td>0</td>\n",
       "    </tr>\n",
       "    <tr>\n",
       "      <th>4</th>\n",
       "      <td>0</td>\n",
       "      <td>0</td>\n",
       "    </tr>\n",
       "  </tbody>\n",
       "</table>\n",
       "</div>"
      ],
      "text/plain": [
       "   real  estimate\n",
       "0     1         1\n",
       "1     0         0\n",
       "2     1         1\n",
       "3     1         0\n",
       "4     0         0"
      ]
     },
     "execution_count": 8,
     "metadata": {},
     "output_type": "execute_result"
    }
   ],
   "source": [
    "pd.DataFrame({'real': df.Surv, 'estimate': (df.Sex == 'f')*1})"
   ]
  },
  {
   "cell_type": "markdown",
   "id": "282c153e-937b-4fb6-a712-4f20eaa25951",
   "metadata": {},
   "source": [
    "`-` accuracy를 손으로 계산하면 $\\frac{4}{5}=0.8$.\n",
    "\n",
    "`-` 컴퓨터로 accuracy를 계산한다면"
   ]
  },
  {
   "cell_type": "code",
   "execution_count": 9,
   "id": "c54e275e-6260-4e74-9b47-7c1f33ef4b66",
   "metadata": {},
   "outputs": [
    {
     "data": {
      "text/plain": [
       "0.8"
      ]
     },
     "execution_count": 9,
     "metadata": {},
     "output_type": "execute_result"
    }
   ],
   "source": [
    "(df.Surv == (df.Sex == 'f')*1).sum()/5 # 방법1"
   ]
  },
  {
   "cell_type": "code",
   "execution_count": 10,
   "id": "c888d597-ab06-4056-a5ef-4dbcee789563",
   "metadata": {},
   "outputs": [
    {
     "data": {
      "text/plain": [
       "0.8"
      ]
     },
     "execution_count": 10,
     "metadata": {},
     "output_type": "execute_result"
    }
   ],
   "source": [
    "(df.Surv == (df.Sex == 'f')*1).mean() # 방법2"
   ]
  },
  {
   "cell_type": "markdown",
   "id": "5c32f75e-1c77-4a0f-9f75-dfca16fbc1d4",
   "metadata": {},
   "source": [
    "`#`\n",
    "\n",
    "`-` 실제자료의 accuracy를 구해보자."
   ]
  },
  {
   "cell_type": "code",
   "execution_count": 11,
   "id": "7b6eee3f-d94c-4912-bef1-4ca0db980cf1",
   "metadata": {},
   "outputs": [],
   "source": [
    "tr = pd.read_csv('./titanic/train.csv')"
   ]
  },
  {
   "cell_type": "code",
   "execution_count": 12,
   "id": "712c3e52-fb01-4a19-8a61-a18965e551c7",
   "metadata": {},
   "outputs": [
    {
     "data": {
      "text/plain": [
       "0.7867564534231201"
      ]
     },
     "execution_count": 12,
     "metadata": {},
     "output_type": "execute_result"
    }
   ],
   "source": [
    "(tr.Survived == (tr.Sex == 'female')).mean()"
   ]
  },
  {
   "cell_type": "markdown",
   "id": "3515943d-e435-4dc4-898f-92856abc63e7",
   "metadata": {},
   "source": [
    "# 4. 개념\n",
    "\n",
    "`-` 캐글대회는 시험과 비슷하다.\n",
    "\n",
    "-   캐글대회를 여는 사람은 보통 (1) 모의고사문제+답 (training set) (2)\n",
    "    실제시험문제 (test set)를 준다.[1]\n",
    "-   (1)의 자료에서는 문제(X,독립변수,설명변수)와\n",
    "    답(y,종속변수,반응변수)이 함께 주어진다.\n",
    "-   (2)의 자료에서는 문제(X,독립변수,설명변수)만 주어진다.\n",
    "-   우리는 (1)을 이용하여 문제(X,독립변수,설명변수)와\n",
    "    답(y,종속변수,반응변수)사이의 관계를 찾아내는 훈련을 한다.\n",
    "-   그리고 그 훈련이 잘 되었는지를 평가하기 위해서 (2)를 풀어보고 그\n",
    "    결과를 제출한다.\n",
    "\n",
    "`-` 타이타닉의 training set\n",
    "\n",
    "[1] 물론 모든 대회가 이런건 아님, 시험도 수능같은 시험만 있는게 아닌\n",
    "실기같은것도 있잖아요?"
   ]
  },
  {
   "cell_type": "code",
   "execution_count": 13,
   "id": "a6dc0209-e416-47c5-a4db-aa9153ab1af8",
   "metadata": {},
   "outputs": [
    {
     "data": {
      "text/plain": [
       "PassengerId                          1\n",
       "Survived                             0\n",
       "Pclass                               3\n",
       "Name           Braund, Mr. Owen Harris\n",
       "Sex                               male\n",
       "Age                               22.0\n",
       "SibSp                                1\n",
       "Parch                                0\n",
       "Ticket                       A/5 21171\n",
       "Fare                              7.25\n",
       "Cabin                              NaN\n",
       "Embarked                             S\n",
       "Name: 0, dtype: object"
      ]
     },
     "execution_count": 13,
     "metadata": {},
     "output_type": "execute_result"
    }
   ],
   "source": [
    "tr.iloc[0]"
   ]
  },
  {
   "cell_type": "markdown",
   "id": "f948da9b-dc80-448a-b125-c9a1194f6570",
   "metadata": {},
   "source": [
    "-   모의고사문제1: Pclass는 3이에요, 그리고 이름은 ‘Braund, Mr. Owen\n",
    "    Harris’ 입니다. 성별은 ‘male’ 입니다. 그리고 …. 입니다. 이 사람은\n",
    "    죽었을까요? 살았을까요?\n",
    "\n",
    "-   답1: 죽었습니다."
   ]
  },
  {
   "cell_type": "code",
   "execution_count": 14,
   "id": "83d4b234-bec6-42c4-8c6a-65300ffee511",
   "metadata": {},
   "outputs": [
    {
     "data": {
      "text/plain": [
       "PassengerId                                                    2\n",
       "Survived                                                       1\n",
       "Pclass                                                         1\n",
       "Name           Cumings, Mrs. John Bradley (Florence Briggs Th...\n",
       "Sex                                                       female\n",
       "Age                                                         38.0\n",
       "SibSp                                                          1\n",
       "Parch                                                          0\n",
       "Ticket                                                  PC 17599\n",
       "Fare                                                     71.2833\n",
       "Cabin                                                        C85\n",
       "Embarked                                                       C\n",
       "Name: 1, dtype: object"
      ]
     },
     "execution_count": 14,
     "metadata": {},
     "output_type": "execute_result"
    }
   ],
   "source": [
    "tr.iloc[1]"
   ]
  },
  {
   "cell_type": "markdown",
   "id": "109f0a40-81ae-4ba6-ba4c-34ba8d963ddd",
   "metadata": {},
   "source": [
    "-   모의고사문제2: Pclass는 1이에요, 그리고 이름은 ‘Cumings, Mrs. John\n",
    "    Bradley (Florence Briggs Thayer)’ 입니다. 성별은 ‘female’ 입니다.\n",
    "    그리고 …. 입니다. 이 사람은 죽었을까요? 살았을까요?\n",
    "\n",
    "-   답2: 살았습니다.\n",
    "\n",
    "`-` 타이타닉의 test set"
   ]
  },
  {
   "cell_type": "code",
   "execution_count": 15,
   "id": "51c4c3d6-b7b3-4fcb-acfb-3795719654a2",
   "metadata": {},
   "outputs": [],
   "source": [
    "tst = pd.read_csv('./titanic/test.csv')"
   ]
  },
  {
   "cell_type": "code",
   "execution_count": 16,
   "id": "c5233522-3740-4dfd-8038-ed1cc151fe3b",
   "metadata": {},
   "outputs": [
    {
     "data": {
      "text/plain": [
       "PassengerId                 892\n",
       "Pclass                        3\n",
       "Name           Kelly, Mr. James\n",
       "Sex                        male\n",
       "Age                        34.5\n",
       "SibSp                         0\n",
       "Parch                         0\n",
       "Ticket                   330911\n",
       "Fare                     7.8292\n",
       "Cabin                       NaN\n",
       "Embarked                      Q\n",
       "Name: 0, dtype: object"
      ]
     },
     "execution_count": 16,
     "metadata": {},
     "output_type": "execute_result"
    }
   ],
   "source": [
    "tst.iloc[0]"
   ]
  },
  {
   "cell_type": "markdown",
   "id": "041f4019-9ede-4515-a641-63720592147a",
   "metadata": {},
   "source": [
    "-   실전문제1: Pclass는 3이에요, 그리고 이름은 ‘Kelly, Mr. James’\n",
    "    입니다. 성별은 ‘male’ 입니다. 그리고 …. 입니다. 이 사람은\n",
    "    죽었을까요? 살았을까요?\n",
    "\n",
    "-   답1: (속마음: 훈련집합에서 대부분 남자는 죽고 여자는 살았다고 푸니까\n",
    "    대충 78점 정도는 맞던데? 이 사람도 남자니까 죽었다고 하자) 죽었다고\n",
    "    예측하겠습니다."
   ]
  },
  {
   "cell_type": "code",
   "execution_count": 17,
   "id": "025663b9-d3ba-419f-ab84-c6dc0af8709b",
   "metadata": {},
   "outputs": [],
   "source": [
    "import pandas as pd"
   ]
  },
  {
   "cell_type": "code",
   "execution_count": 18,
   "id": "95965748-b4de-4b10-a11a-6ee45035be3c",
   "metadata": {},
   "outputs": [],
   "source": [
    "predictions = (tst.Sex == 'female')*1"
   ]
  },
  {
   "cell_type": "code",
   "execution_count": 19,
   "id": "93018b44-a8a0-4811-b0df-a36c409bbc09",
   "metadata": {},
   "outputs": [],
   "source": [
    "pd.read_csv(\"titanic/gender_submission.csv\")\\\n",
    ".assign(Survived=predictions)\\\n",
    ".to_csv(\"titanic_sub/first_submission.csv\",index=False)"
   ]
  }
 ],
 "metadata": {
  "kernelspec": {
   "display_name": "Python 3",
   "language": "python",
   "name": "python3"
  },
  "language_info": {
   "codemirror_mode": {
    "name": "ipython",
    "version": 3
   },
   "file_extension": ".py",
   "mimetype": "text/x-python",
   "name": "python",
   "nbconvert_exporter": "python",
   "pygments_lexer": "ipython3",
   "version": "3.8.16"
  }
 },
 "nbformat": 4,
 "nbformat_minor": 5
}
