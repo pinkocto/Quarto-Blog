{
 "cells": [
  {
   "cell_type": "raw",
   "id": "96afd3f0-c057-498c-8b1c-ec684464ac89",
   "metadata": {},
   "source": [
    "---\n",
    "title: \"04wk-015: 결측치 처리, `sklearn.impute`\"\n",
    "author: \"JiyunLim\"\n",
    "date: \"09/26/2023\"\n",
    "bibliography: ref.bib\n",
    "---"
   ]
  },
  {
   "cell_type": "markdown",
   "id": "d405a6ce-5d0a-4c80-96fd-88e6f93ee6bb",
   "metadata": {},
   "source": [
    "# 1. 강의영상"
   ]
  },
  {
   "cell_type": "markdown",
   "id": "e35f69ce-7c15-4857-8252-1feacacee5cc",
   "metadata": {},
   "source": [
    "{{<video https://youtu.be/playlist?list=PLQqh36zP38-xoMM63o6AOYEePSFHrVsv9&si=DMXAb7dsADV4BG7C >}}"
   ]
  },
  {
   "cell_type": "markdown",
   "id": "e11d3aab-38e5-455b-a8c8-a1e567b7702f",
   "metadata": {},
   "source": [
    "# 2. Import "
   ]
  },
  {
   "cell_type": "code",
   "execution_count": 27,
   "id": "e6f62597-d477-4ecb-95d8-15201acdfd65",
   "metadata": {},
   "outputs": [],
   "source": [
    "import numpy as np\n",
    "import pandas as pd \n",
    "import sklearn.impute\n",
    "\n",
    "# import warnings filter\n",
    "from warnings import simplefilter\n",
    "# ignore all future warnings\n",
    "simplefilter(action='ignore', category=FutureWarning)"
   ]
  },
  {
   "cell_type": "markdown",
   "id": "cb2032bf-4d21-4d70-a664-d78760e29a08",
   "metadata": {},
   "source": [
    "# 3. `sklearn.impute`"
   ]
  },
  {
   "cell_type": "markdown",
   "id": "3220adc4-88b3-40da-8776-4aed2a227749",
   "metadata": {},
   "source": [
    "## A. 숫자형자료의 impute"
   ]
  },
  {
   "cell_type": "markdown",
   "id": "026f851f-098d-4ad2-a276-c326ccea9cd2",
   "metadata": {},
   "source": [
    "`-` 주어진자료 "
   ]
  },
  {
   "cell_type": "code",
   "execution_count": 2,
   "id": "42aca123-1988-459d-9417-88b2865e201f",
   "metadata": {},
   "outputs": [
    {
     "data": {
      "text/html": [
       "<div>\n",
       "<style scoped>\n",
       "    .dataframe tbody tr th:only-of-type {\n",
       "        vertical-align: middle;\n",
       "    }\n",
       "\n",
       "    .dataframe tbody tr th {\n",
       "        vertical-align: top;\n",
       "    }\n",
       "\n",
       "    .dataframe thead th {\n",
       "        text-align: right;\n",
       "    }\n",
       "</style>\n",
       "<table border=\"1\" class=\"dataframe\">\n",
       "  <thead>\n",
       "    <tr style=\"text-align: right;\">\n",
       "      <th></th>\n",
       "      <th>A</th>\n",
       "      <th>B</th>\n",
       "    </tr>\n",
       "  </thead>\n",
       "  <tbody>\n",
       "    <tr>\n",
       "      <th>0</th>\n",
       "      <td>2.1</td>\n",
       "      <td>0.0</td>\n",
       "    </tr>\n",
       "    <tr>\n",
       "      <th>1</th>\n",
       "      <td>1.9</td>\n",
       "      <td>0.0</td>\n",
       "    </tr>\n",
       "    <tr>\n",
       "      <th>2</th>\n",
       "      <td>2.2</td>\n",
       "      <td>NaN</td>\n",
       "    </tr>\n",
       "    <tr>\n",
       "      <th>3</th>\n",
       "      <td>NaN</td>\n",
       "      <td>0.0</td>\n",
       "    </tr>\n",
       "    <tr>\n",
       "      <th>4</th>\n",
       "      <td>1.9</td>\n",
       "      <td>0.0</td>\n",
       "    </tr>\n",
       "  </tbody>\n",
       "</table>\n",
       "</div>"
      ],
      "text/plain": [
       "     A    B\n",
       "0  2.1  0.0\n",
       "1  1.9  0.0\n",
       "2  2.2  NaN\n",
       "3  NaN  0.0\n",
       "4  1.9  0.0"
      ]
     },
     "execution_count": 2,
     "metadata": {},
     "output_type": "execute_result"
    }
   ],
   "source": [
    "df = pd.DataFrame({'A':[2.1,1.9,2.2,np.nan,1.9], 'B':[0,0,np.nan,0,0]})\n",
    "df"
   ]
  },
  {
   "cell_type": "markdown",
   "id": "4934f1e3-4d67-4b71-a288-9e3c4676a92d",
   "metadata": {},
   "source": [
    "`-` 빈칸은 대충 아래와 같이 추정하면 되지 않을까? "
   ]
  },
  {
   "cell_type": "code",
   "execution_count": 4,
   "id": "fbdcc7f9-e88d-42de-abfb-f4ec9158ffca",
   "metadata": {},
   "outputs": [
    {
     "data": {
      "text/plain": [
       "(nan, nan)"
      ]
     },
     "execution_count": 4,
     "metadata": {},
     "output_type": "execute_result"
    }
   ],
   "source": [
    "df.loc[3, 'A'], df.loc[2, 'B']"
   ]
  },
  {
   "cell_type": "code",
   "execution_count": 7,
   "id": "b8560511-594f-4394-9e09-94a1f8921e81",
   "metadata": {},
   "outputs": [],
   "source": [
    "df.loc[3,'A'] = df.A.mean()\n",
    "df.loc[2,'B'] = df.B.mean()"
   ]
  },
  {
   "cell_type": "code",
   "execution_count": 8,
   "id": "3847b75d-247f-400f-9a14-037a6d95880e",
   "metadata": {},
   "outputs": [
    {
     "data": {
      "text/html": [
       "<div>\n",
       "<style scoped>\n",
       "    .dataframe tbody tr th:only-of-type {\n",
       "        vertical-align: middle;\n",
       "    }\n",
       "\n",
       "    .dataframe tbody tr th {\n",
       "        vertical-align: top;\n",
       "    }\n",
       "\n",
       "    .dataframe thead th {\n",
       "        text-align: right;\n",
       "    }\n",
       "</style>\n",
       "<table border=\"1\" class=\"dataframe\">\n",
       "  <thead>\n",
       "    <tr style=\"text-align: right;\">\n",
       "      <th></th>\n",
       "      <th>A</th>\n",
       "      <th>B</th>\n",
       "    </tr>\n",
       "  </thead>\n",
       "  <tbody>\n",
       "    <tr>\n",
       "      <th>0</th>\n",
       "      <td>2.100</td>\n",
       "      <td>0.0</td>\n",
       "    </tr>\n",
       "    <tr>\n",
       "      <th>1</th>\n",
       "      <td>1.900</td>\n",
       "      <td>0.0</td>\n",
       "    </tr>\n",
       "    <tr>\n",
       "      <th>2</th>\n",
       "      <td>2.200</td>\n",
       "      <td>0.0</td>\n",
       "    </tr>\n",
       "    <tr>\n",
       "      <th>3</th>\n",
       "      <td>2.025</td>\n",
       "      <td>0.0</td>\n",
       "    </tr>\n",
       "    <tr>\n",
       "      <th>4</th>\n",
       "      <td>1.900</td>\n",
       "      <td>0.0</td>\n",
       "    </tr>\n",
       "  </tbody>\n",
       "</table>\n",
       "</div>"
      ],
      "text/plain": [
       "       A    B\n",
       "0  2.100  0.0\n",
       "1  1.900  0.0\n",
       "2  2.200  0.0\n",
       "3  2.025  0.0\n",
       "4  1.900  0.0"
      ]
     },
     "execution_count": 8,
     "metadata": {},
     "output_type": "execute_result"
    }
   ],
   "source": [
    "df"
   ]
  },
  {
   "cell_type": "markdown",
   "id": "664b5c59-a131-4816-b1b3-d4e4ae451444",
   "metadata": {},
   "source": [
    "`-` 자동으로 하려면? "
   ]
  },
  {
   "cell_type": "code",
   "execution_count": 28,
   "id": "86e575a4-26ea-4307-bd8d-718d9e6ebc02",
   "metadata": {},
   "outputs": [
    {
     "data": {
      "text/html": [
       "<div>\n",
       "<style scoped>\n",
       "    .dataframe tbody tr th:only-of-type {\n",
       "        vertical-align: middle;\n",
       "    }\n",
       "\n",
       "    .dataframe tbody tr th {\n",
       "        vertical-align: top;\n",
       "    }\n",
       "\n",
       "    .dataframe thead th {\n",
       "        text-align: right;\n",
       "    }\n",
       "</style>\n",
       "<table border=\"1\" class=\"dataframe\">\n",
       "  <thead>\n",
       "    <tr style=\"text-align: right;\">\n",
       "      <th></th>\n",
       "      <th>A</th>\n",
       "      <th>B</th>\n",
       "    </tr>\n",
       "  </thead>\n",
       "  <tbody>\n",
       "    <tr>\n",
       "      <th>0</th>\n",
       "      <td>2.1</td>\n",
       "      <td>0.0</td>\n",
       "    </tr>\n",
       "    <tr>\n",
       "      <th>1</th>\n",
       "      <td>1.9</td>\n",
       "      <td>0.0</td>\n",
       "    </tr>\n",
       "    <tr>\n",
       "      <th>2</th>\n",
       "      <td>2.2</td>\n",
       "      <td>NaN</td>\n",
       "    </tr>\n",
       "    <tr>\n",
       "      <th>3</th>\n",
       "      <td>NaN</td>\n",
       "      <td>0.0</td>\n",
       "    </tr>\n",
       "    <tr>\n",
       "      <th>4</th>\n",
       "      <td>1.9</td>\n",
       "      <td>0.0</td>\n",
       "    </tr>\n",
       "  </tbody>\n",
       "</table>\n",
       "</div>"
      ],
      "text/plain": [
       "     A    B\n",
       "0  2.1  0.0\n",
       "1  1.9  0.0\n",
       "2  2.2  NaN\n",
       "3  NaN  0.0\n",
       "4  1.9  0.0"
      ]
     },
     "execution_count": 28,
     "metadata": {},
     "output_type": "execute_result"
    }
   ],
   "source": [
    "df = pd.DataFrame({'A':[2.1,1.9,2.2,np.nan,1.9], 'B':[0,0,np.nan,0,0]})\n",
    "df"
   ]
  },
  {
   "cell_type": "markdown",
   "id": "e724340c-f296-44b3-b477-d92129527a91",
   "metadata": {},
   "source": [
    "(방법1)"
   ]
  },
  {
   "cell_type": "code",
   "execution_count": 29,
   "id": "73853388-4d11-4840-9760-401cc38ea139",
   "metadata": {},
   "outputs": [
    {
     "data": {
      "text/plain": [
       "array([[2.1  , 0.   ],\n",
       "       [1.9  , 0.   ],\n",
       "       [2.2  , 0.   ],\n",
       "       [2.025, 0.   ],\n",
       "       [1.9  , 0.   ]])"
      ]
     },
     "execution_count": 29,
     "metadata": {},
     "output_type": "execute_result"
    }
   ],
   "source": [
    "imputer = sklearn.impute.SimpleImputer()  # 인스턴스생성하고 imputer로 받아줌.\n",
    "imputer.fit(df)\n",
    "imputer.transform(df)"
   ]
  },
  {
   "cell_type": "markdown",
   "id": "131b9920-eb4a-4776-949b-1d6b7648cfc1",
   "metadata": {},
   "source": [
    "(방법2)"
   ]
  },
  {
   "cell_type": "code",
   "execution_count": 30,
   "id": "d640dd4a-51ca-4c1f-a6d3-afd9827e7e3c",
   "metadata": {},
   "outputs": [
    {
     "data": {
      "text/plain": [
       "array([[2.1  , 0.   ],\n",
       "       [1.9  , 0.   ],\n",
       "       [2.2  , 0.   ],\n",
       "       [2.025, 0.   ],\n",
       "       [1.9  , 0.   ]])"
      ]
     },
     "execution_count": 30,
     "metadata": {},
     "output_type": "execute_result"
    }
   ],
   "source": [
    "imputer = sklearn.impute.SimpleImputer()\n",
    "imputer.fit_transform(df)"
   ]
  },
  {
   "cell_type": "markdown",
   "id": "46477ef1-d58f-4ba2-b01c-8f08201128e6",
   "metadata": {},
   "source": [
    "`-` 다른방식으로 결측값 대체"
   ]
  },
  {
   "cell_type": "markdown",
   "id": "a1ad0f15-e9ea-4224-9559-b8272ef1fac1",
   "metadata": {},
   "source": [
    "(방법1) -- 평균으로 대체"
   ]
  },
  {
   "cell_type": "code",
   "execution_count": 31,
   "id": "b968cead-4852-48e0-ad46-6507357b8702",
   "metadata": {},
   "outputs": [
    {
     "data": {
      "text/plain": [
       "array([[2.1  , 0.   ],\n",
       "       [1.9  , 0.   ],\n",
       "       [2.2  , 0.   ],\n",
       "       [2.025, 0.   ],\n",
       "       [1.9  , 0.   ]])"
      ]
     },
     "execution_count": 31,
     "metadata": {},
     "output_type": "execute_result"
    }
   ],
   "source": [
    "imputer = sklearn.impute.SimpleImputer(strategy='mean')\n",
    "imputer.fit_transform(df)"
   ]
  },
  {
   "cell_type": "markdown",
   "id": "64e52520-bbec-4331-bf3b-f8d8a40ec093",
   "metadata": {},
   "source": [
    "(방법2) -- 중앙값으로 대체"
   ]
  },
  {
   "cell_type": "code",
   "execution_count": 32,
   "id": "4a894761-644c-4373-92fe-7d7a3653c899",
   "metadata": {},
   "outputs": [
    {
     "data": {
      "text/plain": [
       "array([[2.1, 0. ],\n",
       "       [1.9, 0. ],\n",
       "       [2.2, 0. ],\n",
       "       [2. , 0. ],\n",
       "       [1.9, 0. ]])"
      ]
     },
     "execution_count": 32,
     "metadata": {},
     "output_type": "execute_result"
    }
   ],
   "source": [
    "imputer = sklearn.impute.SimpleImputer(strategy='median')\n",
    "imputer.fit_transform(df)"
   ]
  },
  {
   "cell_type": "markdown",
   "id": "79b418aa-b8f4-430c-9874-3a056264ab84",
   "metadata": {},
   "source": [
    "(방법3) -- 최빈값으로 대체"
   ]
  },
  {
   "cell_type": "code",
   "execution_count": 33,
   "id": "1a4c3a82-0acf-4dae-aa83-dd92e45df875",
   "metadata": {},
   "outputs": [
    {
     "data": {
      "text/plain": [
       "array([[2.1, 0. ],\n",
       "       [1.9, 0. ],\n",
       "       [2.2, 0. ],\n",
       "       [1.9, 0. ],\n",
       "       [1.9, 0. ]])"
      ]
     },
     "execution_count": 33,
     "metadata": {},
     "output_type": "execute_result"
    }
   ],
   "source": [
    "imputer = sklearn.impute.SimpleImputer(strategy='most_frequent')\n",
    "imputer.fit_transform(df)"
   ]
  },
  {
   "cell_type": "markdown",
   "id": "39e19c48-02f0-4805-864a-d715921a41b2",
   "metadata": {},
   "source": [
    "(방법4) -- 상수대체"
   ]
  },
  {
   "cell_type": "code",
   "execution_count": 34,
   "id": "a6b9f114-5cbd-44d1-8e38-0535567155a3",
   "metadata": {},
   "outputs": [
    {
     "data": {
      "text/plain": [
       "array([[   2.1,    0. ],\n",
       "       [   1.9,    0. ],\n",
       "       [   2.2, -999. ],\n",
       "       [-999. ,    0. ],\n",
       "       [   1.9,    0. ]])"
      ]
     },
     "execution_count": 34,
     "metadata": {},
     "output_type": "execute_result"
    }
   ],
   "source": [
    "imputer = sklearn.impute.SimpleImputer(strategy='constant',fill_value=-999)\n",
    "imputer.fit_transform(df)"
   ]
  },
  {
   "cell_type": "markdown",
   "id": "4d803a49-082f-4711-9ad9-a89d118fe747",
   "metadata": {},
   "source": [
    "## B. 범주형자료의 impute"
   ]
  },
  {
   "cell_type": "markdown",
   "id": "91914a30-8cf2-457e-b63f-8133ca2f9489",
   "metadata": {},
   "source": [
    "`-` 자료"
   ]
  },
  {
   "cell_type": "code",
   "execution_count": 43,
   "id": "10cb2b46-52de-4a4f-96fd-8e238abbfc1f",
   "metadata": {},
   "outputs": [
    {
     "data": {
      "text/html": [
       "<div>\n",
       "<style scoped>\n",
       "    .dataframe tbody tr th:only-of-type {\n",
       "        vertical-align: middle;\n",
       "    }\n",
       "\n",
       "    .dataframe tbody tr th {\n",
       "        vertical-align: top;\n",
       "    }\n",
       "\n",
       "    .dataframe thead th {\n",
       "        text-align: right;\n",
       "    }\n",
       "</style>\n",
       "<table border=\"1\" class=\"dataframe\">\n",
       "  <thead>\n",
       "    <tr style=\"text-align: right;\">\n",
       "      <th></th>\n",
       "      <th>A</th>\n",
       "      <th>B</th>\n",
       "    </tr>\n",
       "  </thead>\n",
       "  <tbody>\n",
       "    <tr>\n",
       "      <th>0</th>\n",
       "      <td>Y</td>\n",
       "      <td>stat</td>\n",
       "    </tr>\n",
       "    <tr>\n",
       "      <th>1</th>\n",
       "      <td>N</td>\n",
       "      <td>math</td>\n",
       "    </tr>\n",
       "    <tr>\n",
       "      <th>2</th>\n",
       "      <td>Y</td>\n",
       "      <td>NaN</td>\n",
       "    </tr>\n",
       "    <tr>\n",
       "      <th>3</th>\n",
       "      <td>Y</td>\n",
       "      <td>stat</td>\n",
       "    </tr>\n",
       "    <tr>\n",
       "      <th>4</th>\n",
       "      <td>NaN</td>\n",
       "      <td>bio</td>\n",
       "    </tr>\n",
       "  </tbody>\n",
       "</table>\n",
       "</div>"
      ],
      "text/plain": [
       "     A     B\n",
       "0    Y  stat\n",
       "1    N  math\n",
       "2    Y   NaN\n",
       "3    Y  stat\n",
       "4  NaN   bio"
      ]
     },
     "execution_count": 43,
     "metadata": {},
     "output_type": "execute_result"
    }
   ],
   "source": [
    "df = pd.DataFrame({'A':['Y','N','Y','Y',np.nan], 'B':['stat','math',np.nan,'stat','bio']})\n",
    "df"
   ]
  },
  {
   "cell_type": "markdown",
   "id": "89607b81-95f6-4f4a-9838-47e512022fcc",
   "metadata": {},
   "source": [
    "`-` 최빈값 혹은 상수대체만 가능 "
   ]
  },
  {
   "cell_type": "markdown",
   "id": "e504aa9e-ab26-43cb-887c-e2f62b67f852",
   "metadata": {},
   "source": [
    "(방법1) -- 최빈값을 이용"
   ]
  },
  {
   "cell_type": "code",
   "execution_count": 44,
   "id": "9e537444-a7a4-4395-b3fd-dd094c8bbbac",
   "metadata": {},
   "outputs": [
    {
     "data": {
      "text/plain": [
       "array([['Y', 'stat'],\n",
       "       ['N', 'math'],\n",
       "       ['Y', 'stat'],\n",
       "       ['Y', 'stat'],\n",
       "       ['Y', 'bio']], dtype=object)"
      ]
     },
     "execution_count": 44,
     "metadata": {},
     "output_type": "execute_result"
    }
   ],
   "source": [
    "imptr = sklearn.impute.SimpleImputer(strategy='most_frequent')\n",
    "imptr.fit_transform(df)"
   ]
  },
  {
   "cell_type": "markdown",
   "id": "e8b20ccb-bc8d-4765-bb5c-3caee35c988e",
   "metadata": {},
   "source": [
    "(방법2) -- 상수로 대체함"
   ]
  },
  {
   "cell_type": "code",
   "execution_count": 46,
   "id": "ef4fc6c9-b06f-440b-b88f-1b5f86625cde",
   "metadata": {},
   "outputs": [
    {
     "data": {
      "text/plain": [
       "array([['stat'],\n",
       "       ['math'],\n",
       "       ['math'],\n",
       "       ['stat'],\n",
       "       ['bio']], dtype=object)"
      ]
     },
     "execution_count": 46,
     "metadata": {},
     "output_type": "execute_result"
    }
   ],
   "source": [
    "imptr1 = sklearn.impute.SimpleImputer(strategy='constant',fill_value='Y')\n",
    "imptr1.fit_transform(df[['A']])\n",
    "imptr2 = sklearn.impute.SimpleImputer(strategy='constant',fill_value='math')\n",
    "imptr2.fit_transform(df[['B']])"
   ]
  },
  {
   "cell_type": "code",
   "execution_count": 47,
   "id": "af303ecb-5344-4c3a-8616-d9c66901a6ef",
   "metadata": {},
   "outputs": [
    {
     "data": {
      "text/plain": [
       "array([['Y', 'stat'],\n",
       "       ['N', 'math'],\n",
       "       ['Y', 'math'],\n",
       "       ['Y', 'stat'],\n",
       "       ['Y', 'bio']], dtype=object)"
      ]
     },
     "execution_count": 47,
     "metadata": {},
     "output_type": "execute_result"
    }
   ],
   "source": [
    "np.concatenate([imptr1.fit_transform(df[['A']]),imptr2.fit_transform(df[['B']])],axis=1)"
   ]
  },
  {
   "cell_type": "markdown",
   "id": "81526023-266b-4712-99af-9b57c883dd6e",
   "metadata": {},
   "source": [
    "## C. 혼합형자료의 impute -- (1) 모두 최빈값으로 impute"
   ]
  },
  {
   "cell_type": "markdown",
   "id": "6885c367-8977-413e-b86e-baff42ef81d7",
   "metadata": {},
   "source": [
    "`# 예제`: 아래의 df에서 결측치를 모두 최빈값으로 impute하라. "
   ]
  },
  {
   "cell_type": "code",
   "execution_count": 53,
   "id": "e43e0196-35ae-449f-8263-da41ecf5d95f",
   "metadata": {},
   "outputs": [
    {
     "data": {
      "text/html": [
       "<div>\n",
       "<style scoped>\n",
       "    .dataframe tbody tr th:only-of-type {\n",
       "        vertical-align: middle;\n",
       "    }\n",
       "\n",
       "    .dataframe tbody tr th {\n",
       "        vertical-align: top;\n",
       "    }\n",
       "\n",
       "    .dataframe thead th {\n",
       "        text-align: right;\n",
       "    }\n",
       "</style>\n",
       "<table border=\"1\" class=\"dataframe\">\n",
       "  <thead>\n",
       "    <tr style=\"text-align: right;\">\n",
       "      <th></th>\n",
       "      <th>A</th>\n",
       "      <th>B</th>\n",
       "      <th>C</th>\n",
       "      <th>D</th>\n",
       "    </tr>\n",
       "  </thead>\n",
       "  <tbody>\n",
       "    <tr>\n",
       "      <th>0</th>\n",
       "      <td>2.1</td>\n",
       "      <td>0.0</td>\n",
       "      <td>Y</td>\n",
       "      <td>stat</td>\n",
       "    </tr>\n",
       "    <tr>\n",
       "      <th>1</th>\n",
       "      <td>1.9</td>\n",
       "      <td>0.0</td>\n",
       "      <td>N</td>\n",
       "      <td>math</td>\n",
       "    </tr>\n",
       "    <tr>\n",
       "      <th>2</th>\n",
       "      <td>2.2</td>\n",
       "      <td>NaN</td>\n",
       "      <td>Y</td>\n",
       "      <td>NaN</td>\n",
       "    </tr>\n",
       "    <tr>\n",
       "      <th>3</th>\n",
       "      <td>NaN</td>\n",
       "      <td>0.0</td>\n",
       "      <td>Y</td>\n",
       "      <td>stat</td>\n",
       "    </tr>\n",
       "    <tr>\n",
       "      <th>4</th>\n",
       "      <td>1.9</td>\n",
       "      <td>0.0</td>\n",
       "      <td>NaN</td>\n",
       "      <td>bio</td>\n",
       "    </tr>\n",
       "  </tbody>\n",
       "</table>\n",
       "</div>"
      ],
      "text/plain": [
       "     A    B    C     D\n",
       "0  2.1  0.0    Y  stat\n",
       "1  1.9  0.0    N  math\n",
       "2  2.2  NaN    Y   NaN\n",
       "3  NaN  0.0    Y  stat\n",
       "4  1.9  0.0  NaN   bio"
      ]
     },
     "execution_count": 53,
     "metadata": {},
     "output_type": "execute_result"
    }
   ],
   "source": [
    "df = pd.DataFrame(\n",
    "    {'A':[2.1,1.9,2.2,np.nan,1.9],\n",
    "     'B':[0,0,np.nan,0,0],\n",
    "     'C':['Y','N','Y','Y',np.nan], \n",
    "     'D':['stat','math',np.nan,'stat','bio']}\n",
    ")\n",
    "df"
   ]
  },
  {
   "cell_type": "markdown",
   "id": "e7ce3e78-3491-4143-8fee-17fd17bf8e3f",
   "metadata": {},
   "source": [
    "(풀이)"
   ]
  },
  {
   "cell_type": "code",
   "execution_count": 54,
   "id": "a70bb6bd-db29-497c-be44-e0fdade57273",
   "metadata": {},
   "outputs": [
    {
     "data": {
      "text/plain": [
       "array([[2.1, 0.0, 'Y', 'stat'],\n",
       "       [1.9, 0.0, 'N', 'math'],\n",
       "       [2.2, 0.0, 'Y', 'stat'],\n",
       "       [1.9, 0.0, 'Y', 'stat'],\n",
       "       [1.9, 0.0, 'Y', 'bio']], dtype=object)"
      ]
     },
     "execution_count": 54,
     "metadata": {},
     "output_type": "execute_result"
    }
   ],
   "source": [
    "imptr = sklearn.impute.SimpleImputer(strategy='most_frequent')\n",
    "imptr.fit_transform(df)"
   ]
  },
  {
   "cell_type": "markdown",
   "id": "97693b13-29ee-4d36-b054-73a584fc8485",
   "metadata": {},
   "source": [
    "## D. 혼합형자료의 impute -- (2) 숫자형은 평균값으로, 범주는 최빈값으로 impute"
   ]
  },
  {
   "cell_type": "markdown",
   "id": "b7227e06-6181-4f6e-ba43-24bafdff7497",
   "metadata": {},
   "source": [
    "`# 예제`: 아래의 df를 숫자형일 경우는 평균대치, 문자형일 경우는 최빈값으로 대치하라."
   ]
  },
  {
   "cell_type": "code",
   "execution_count": 55,
   "id": "d5df4a1f-75cb-4570-a99d-89826bdac68a",
   "metadata": {},
   "outputs": [
    {
     "data": {
      "text/html": [
       "<div>\n",
       "<style scoped>\n",
       "    .dataframe tbody tr th:only-of-type {\n",
       "        vertical-align: middle;\n",
       "    }\n",
       "\n",
       "    .dataframe tbody tr th {\n",
       "        vertical-align: top;\n",
       "    }\n",
       "\n",
       "    .dataframe thead th {\n",
       "        text-align: right;\n",
       "    }\n",
       "</style>\n",
       "<table border=\"1\" class=\"dataframe\">\n",
       "  <thead>\n",
       "    <tr style=\"text-align: right;\">\n",
       "      <th></th>\n",
       "      <th>A</th>\n",
       "      <th>B</th>\n",
       "      <th>C</th>\n",
       "      <th>D</th>\n",
       "    </tr>\n",
       "  </thead>\n",
       "  <tbody>\n",
       "    <tr>\n",
       "      <th>0</th>\n",
       "      <td>2.1</td>\n",
       "      <td>0.0</td>\n",
       "      <td>Y</td>\n",
       "      <td>stat</td>\n",
       "    </tr>\n",
       "    <tr>\n",
       "      <th>1</th>\n",
       "      <td>1.9</td>\n",
       "      <td>0.0</td>\n",
       "      <td>N</td>\n",
       "      <td>math</td>\n",
       "    </tr>\n",
       "    <tr>\n",
       "      <th>2</th>\n",
       "      <td>2.2</td>\n",
       "      <td>NaN</td>\n",
       "      <td>Y</td>\n",
       "      <td>NaN</td>\n",
       "    </tr>\n",
       "    <tr>\n",
       "      <th>3</th>\n",
       "      <td>NaN</td>\n",
       "      <td>0.0</td>\n",
       "      <td>Y</td>\n",
       "      <td>stat</td>\n",
       "    </tr>\n",
       "    <tr>\n",
       "      <th>4</th>\n",
       "      <td>1.9</td>\n",
       "      <td>0.0</td>\n",
       "      <td>NaN</td>\n",
       "      <td>bio</td>\n",
       "    </tr>\n",
       "  </tbody>\n",
       "</table>\n",
       "</div>"
      ],
      "text/plain": [
       "     A    B    C     D\n",
       "0  2.1  0.0    Y  stat\n",
       "1  1.9  0.0    N  math\n",
       "2  2.2  NaN    Y   NaN\n",
       "3  NaN  0.0    Y  stat\n",
       "4  1.9  0.0  NaN   bio"
      ]
     },
     "execution_count": 55,
     "metadata": {},
     "output_type": "execute_result"
    }
   ],
   "source": [
    "df = pd.DataFrame(\n",
    "    {'A':[2.1,1.9,2.2,np.nan,1.9],\n",
    "     'B':[0,0,np.nan,0,0],\n",
    "     'C':['Y','N','Y','Y',np.nan], \n",
    "     'D':['stat','math',np.nan,'stat','bio']}\n",
    ")\n",
    "df"
   ]
  },
  {
   "cell_type": "markdown",
   "id": "9e504738-bd59-4397-a176-203822f3e635",
   "metadata": {},
   "source": [
    "(풀이)"
   ]
  },
  {
   "cell_type": "markdown",
   "id": "9c14d65e-6524-4cc3-923d-e356929fcbdb",
   "metadata": {},
   "source": [
    "`-` step1: 복사본 생성 "
   ]
  },
  {
   "cell_type": "code",
   "execution_count": 56,
   "id": "eca5d372-6024-4c9e-827f-0222d9b0a7ad",
   "metadata": {},
   "outputs": [
    {
     "data": {
      "text/html": [
       "<div>\n",
       "<style scoped>\n",
       "    .dataframe tbody tr th:only-of-type {\n",
       "        vertical-align: middle;\n",
       "    }\n",
       "\n",
       "    .dataframe tbody tr th {\n",
       "        vertical-align: top;\n",
       "    }\n",
       "\n",
       "    .dataframe thead th {\n",
       "        text-align: right;\n",
       "    }\n",
       "</style>\n",
       "<table border=\"1\" class=\"dataframe\">\n",
       "  <thead>\n",
       "    <tr style=\"text-align: right;\">\n",
       "      <th></th>\n",
       "      <th>A</th>\n",
       "      <th>B</th>\n",
       "      <th>C</th>\n",
       "      <th>D</th>\n",
       "    </tr>\n",
       "  </thead>\n",
       "  <tbody>\n",
       "    <tr>\n",
       "      <th>0</th>\n",
       "      <td>2.1</td>\n",
       "      <td>0.0</td>\n",
       "      <td>Y</td>\n",
       "      <td>stat</td>\n",
       "    </tr>\n",
       "    <tr>\n",
       "      <th>1</th>\n",
       "      <td>1.9</td>\n",
       "      <td>0.0</td>\n",
       "      <td>N</td>\n",
       "      <td>math</td>\n",
       "    </tr>\n",
       "    <tr>\n",
       "      <th>2</th>\n",
       "      <td>2.2</td>\n",
       "      <td>NaN</td>\n",
       "      <td>Y</td>\n",
       "      <td>NaN</td>\n",
       "    </tr>\n",
       "    <tr>\n",
       "      <th>3</th>\n",
       "      <td>NaN</td>\n",
       "      <td>0.0</td>\n",
       "      <td>Y</td>\n",
       "      <td>stat</td>\n",
       "    </tr>\n",
       "    <tr>\n",
       "      <th>4</th>\n",
       "      <td>1.9</td>\n",
       "      <td>0.0</td>\n",
       "      <td>NaN</td>\n",
       "      <td>bio</td>\n",
       "    </tr>\n",
       "  </tbody>\n",
       "</table>\n",
       "</div>"
      ],
      "text/plain": [
       "     A    B    C     D\n",
       "0  2.1  0.0    Y  stat\n",
       "1  1.9  0.0    N  math\n",
       "2  2.2  NaN    Y   NaN\n",
       "3  NaN  0.0    Y  stat\n",
       "4  1.9  0.0  NaN   bio"
      ]
     },
     "execution_count": 56,
     "metadata": {},
     "output_type": "execute_result"
    }
   ],
   "source": [
    "df_imputed = df.copy()\n",
    "df_imputed"
   ]
  },
  {
   "cell_type": "markdown",
   "id": "8e9dd98e-5f07-4eb6-80d9-3baadffd0243",
   "metadata": {},
   "source": [
    "`-` step2: 데이터프레임 분리 "
   ]
  },
  {
   "cell_type": "markdown",
   "id": "709f1b12-d688-4f49-8fa2-1f3a0cc720f3",
   "metadata": {},
   "source": [
    "`select_dtypes` 메소드 이용"
   ]
  },
  {
   "cell_type": "code",
   "execution_count": 59,
   "id": "ea80139e-124a-4418-8ac0-cc8b1d416604",
   "metadata": {},
   "outputs": [
    {
     "data": {
      "text/html": [
       "<div>\n",
       "<style scoped>\n",
       "    .dataframe tbody tr th:only-of-type {\n",
       "        vertical-align: middle;\n",
       "    }\n",
       "\n",
       "    .dataframe tbody tr th {\n",
       "        vertical-align: top;\n",
       "    }\n",
       "\n",
       "    .dataframe thead th {\n",
       "        text-align: right;\n",
       "    }\n",
       "</style>\n",
       "<table border=\"1\" class=\"dataframe\">\n",
       "  <thead>\n",
       "    <tr style=\"text-align: right;\">\n",
       "      <th></th>\n",
       "      <th>A</th>\n",
       "      <th>B</th>\n",
       "    </tr>\n",
       "  </thead>\n",
       "  <tbody>\n",
       "    <tr>\n",
       "      <th>0</th>\n",
       "      <td>2.1</td>\n",
       "      <td>0.0</td>\n",
       "    </tr>\n",
       "    <tr>\n",
       "      <th>1</th>\n",
       "      <td>1.9</td>\n",
       "      <td>0.0</td>\n",
       "    </tr>\n",
       "    <tr>\n",
       "      <th>2</th>\n",
       "      <td>2.2</td>\n",
       "      <td>NaN</td>\n",
       "    </tr>\n",
       "    <tr>\n",
       "      <th>3</th>\n",
       "      <td>NaN</td>\n",
       "      <td>0.0</td>\n",
       "    </tr>\n",
       "    <tr>\n",
       "      <th>4</th>\n",
       "      <td>1.9</td>\n",
       "      <td>0.0</td>\n",
       "    </tr>\n",
       "  </tbody>\n",
       "</table>\n",
       "</div>"
      ],
      "text/plain": [
       "     A    B\n",
       "0  2.1  0.0\n",
       "1  1.9  0.0\n",
       "2  2.2  NaN\n",
       "3  NaN  0.0\n",
       "4  1.9  0.0"
      ]
     },
     "execution_count": 59,
     "metadata": {},
     "output_type": "execute_result"
    }
   ],
   "source": [
    "df_num = df.select_dtypes(include=\"number\")\n",
    "df_num"
   ]
  },
  {
   "cell_type": "code",
   "execution_count": 61,
   "id": "9a543015-13be-4c46-a51d-20ca4b8460c0",
   "metadata": {},
   "outputs": [
    {
     "data": {
      "text/html": [
       "<div>\n",
       "<style scoped>\n",
       "    .dataframe tbody tr th:only-of-type {\n",
       "        vertical-align: middle;\n",
       "    }\n",
       "\n",
       "    .dataframe tbody tr th {\n",
       "        vertical-align: top;\n",
       "    }\n",
       "\n",
       "    .dataframe thead th {\n",
       "        text-align: right;\n",
       "    }\n",
       "</style>\n",
       "<table border=\"1\" class=\"dataframe\">\n",
       "  <thead>\n",
       "    <tr style=\"text-align: right;\">\n",
       "      <th></th>\n",
       "      <th>C</th>\n",
       "      <th>D</th>\n",
       "    </tr>\n",
       "  </thead>\n",
       "  <tbody>\n",
       "    <tr>\n",
       "      <th>0</th>\n",
       "      <td>Y</td>\n",
       "      <td>stat</td>\n",
       "    </tr>\n",
       "    <tr>\n",
       "      <th>1</th>\n",
       "      <td>N</td>\n",
       "      <td>math</td>\n",
       "    </tr>\n",
       "    <tr>\n",
       "      <th>2</th>\n",
       "      <td>Y</td>\n",
       "      <td>NaN</td>\n",
       "    </tr>\n",
       "    <tr>\n",
       "      <th>3</th>\n",
       "      <td>Y</td>\n",
       "      <td>stat</td>\n",
       "    </tr>\n",
       "    <tr>\n",
       "      <th>4</th>\n",
       "      <td>NaN</td>\n",
       "      <td>bio</td>\n",
       "    </tr>\n",
       "  </tbody>\n",
       "</table>\n",
       "</div>"
      ],
      "text/plain": [
       "     C     D\n",
       "0    Y  stat\n",
       "1    N  math\n",
       "2    Y   NaN\n",
       "3    Y  stat\n",
       "4  NaN   bio"
      ]
     },
     "execution_count": 61,
     "metadata": {},
     "output_type": "execute_result"
    }
   ],
   "source": [
    "df_cat = df.select_dtypes(exclude=\"number\")\n",
    "df_cat "
   ]
  },
  {
   "cell_type": "markdown",
   "id": "d0679545-534b-4c3e-8a87-1b8a5a04d788",
   "metadata": {},
   "source": [
    "`-` step3: impute"
   ]
  },
  {
   "cell_type": "code",
   "execution_count": 64,
   "id": "f8190463-2588-4485-9859-36c61b9e0ff6",
   "metadata": {},
   "outputs": [],
   "source": [
    "df_imputed[df_num.columns] = sklearn.impute.SimpleImputer(strategy='mean').fit_transform(df_num)\n",
    "df_imputed[df_cat.columns] = sklearn.impute.SimpleImputer(strategy='most_frequent').fit_transform(df_cat)"
   ]
  },
  {
   "cell_type": "code",
   "execution_count": 65,
   "id": "9c80f369-2290-492e-ae54-ba07bdecdb0e",
   "metadata": {},
   "outputs": [
    {
     "data": {
      "text/html": [
       "<div>\n",
       "<style scoped>\n",
       "    .dataframe tbody tr th:only-of-type {\n",
       "        vertical-align: middle;\n",
       "    }\n",
       "\n",
       "    .dataframe tbody tr th {\n",
       "        vertical-align: top;\n",
       "    }\n",
       "\n",
       "    .dataframe thead th {\n",
       "        text-align: right;\n",
       "    }\n",
       "</style>\n",
       "<table border=\"1\" class=\"dataframe\">\n",
       "  <thead>\n",
       "    <tr style=\"text-align: right;\">\n",
       "      <th></th>\n",
       "      <th>A</th>\n",
       "      <th>B</th>\n",
       "      <th>C</th>\n",
       "      <th>D</th>\n",
       "    </tr>\n",
       "  </thead>\n",
       "  <tbody>\n",
       "    <tr>\n",
       "      <th>0</th>\n",
       "      <td>2.100</td>\n",
       "      <td>0.0</td>\n",
       "      <td>Y</td>\n",
       "      <td>stat</td>\n",
       "    </tr>\n",
       "    <tr>\n",
       "      <th>1</th>\n",
       "      <td>1.900</td>\n",
       "      <td>0.0</td>\n",
       "      <td>N</td>\n",
       "      <td>math</td>\n",
       "    </tr>\n",
       "    <tr>\n",
       "      <th>2</th>\n",
       "      <td>2.200</td>\n",
       "      <td>0.0</td>\n",
       "      <td>Y</td>\n",
       "      <td>stat</td>\n",
       "    </tr>\n",
       "    <tr>\n",
       "      <th>3</th>\n",
       "      <td>2.025</td>\n",
       "      <td>0.0</td>\n",
       "      <td>Y</td>\n",
       "      <td>stat</td>\n",
       "    </tr>\n",
       "    <tr>\n",
       "      <th>4</th>\n",
       "      <td>1.900</td>\n",
       "      <td>0.0</td>\n",
       "      <td>Y</td>\n",
       "      <td>bio</td>\n",
       "    </tr>\n",
       "  </tbody>\n",
       "</table>\n",
       "</div>"
      ],
      "text/plain": [
       "       A    B  C     D\n",
       "0  2.100  0.0  Y  stat\n",
       "1  1.900  0.0  N  math\n",
       "2  2.200  0.0  Y  stat\n",
       "3  2.025  0.0  Y  stat\n",
       "4  1.900  0.0  Y   bio"
      ]
     },
     "execution_count": 65,
     "metadata": {},
     "output_type": "execute_result"
    }
   ],
   "source": [
    "df_imputed"
   ]
  }
 ],
 "metadata": {
  "kernelspec": {
   "display_name": "Python 3",
   "language": "python",
   "name": "python3"
  },
  "language_info": {
   "codemirror_mode": {
    "name": "ipython",
    "version": 3
   },
   "file_extension": ".py",
   "mimetype": "text/x-python",
   "name": "python",
   "nbconvert_exporter": "python",
   "pygments_lexer": "ipython3",
   "version": "3.8.16"
  }
 },
 "nbformat": 4,
 "nbformat_minor": 5
}
