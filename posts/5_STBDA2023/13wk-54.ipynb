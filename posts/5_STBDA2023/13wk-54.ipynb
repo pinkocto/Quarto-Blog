{
 "cells": [
  {
   "cell_type": "raw",
   "id": "3cf0aad8-871e-4659-910b-153bf279227d",
   "metadata": {},
   "source": [
    "---\n",
    "title: \"13wk-54: 체중감량(교호작용) / 자료분석(Autogluon)\"\n",
    "author: \"최규빈\"\n",
    "date: \"12/01/2023\"\n",
    "bibliography: ref.bib\n",
    "draft: false\n",
    "---"
   ]
  },
  {
   "cell_type": "markdown",
   "id": "71e4f906-c4e5-4c5a-9715-9dd2a0f04fe4",
   "metadata": {},
   "source": [
    "# 1. 강의영상 "
   ]
  },
  {
   "cell_type": "markdown",
   "id": "bf9e7d5d-273d-4e8c-a5ad-f016181e215b",
   "metadata": {},
   "source": [
    "{{<video https://youtu.be/playlist?list=PLQqh36zP38-wZhtZDo138uLCeMS-lpdIs&si=eivrWDCk28v-KCXN >}}"
   ]
  },
  {
   "cell_type": "markdown",
   "id": "c1e02bc4-0d33-47ba-a166-e4d9ee51a734",
   "metadata": {},
   "source": [
    "# 2. Imports"
   ]
  },
  {
   "cell_type": "code",
   "execution_count": 5,
   "id": "6504ebfc-899c-4df0-9613-6a9306e056fe",
   "metadata": {
    "tags": []
   },
   "outputs": [],
   "source": [
    "#!pip install autogluon.eda"
   ]
  },
  {
   "cell_type": "code",
   "execution_count": 6,
   "id": "d7c5a19b-7ec3-4ac1-8f8e-dd8a7495e93c",
   "metadata": {
    "tags": []
   },
   "outputs": [],
   "source": [
    "import numpy as np\n",
    "import pandas as pd\n",
    "import matplotlib.pyplot as plt \n",
    "import seaborn as sns\n",
    "#---#\n",
    "from autogluon.tabular import TabularPredictor\n",
    "import autogluon.eda.auto as auto\n",
    "#---#\n",
    "import warnings\n",
    "warnings.filterwarnings('ignore')"
   ]
  },
  {
   "cell_type": "markdown",
   "id": "50d5eab1-39bf-4572-944c-2fcac26c9f48",
   "metadata": {},
   "source": [
    "# 3. Data"
   ]
  },
  {
   "cell_type": "code",
   "execution_count": 7,
   "id": "802ede7c-2818-42ef-8a46-af912951c1f8",
   "metadata": {
    "tags": []
   },
   "outputs": [
    {
     "data": {
      "text/html": [
       "<div>\n",
       "<style scoped>\n",
       "    .dataframe tbody tr th:only-of-type {\n",
       "        vertical-align: middle;\n",
       "    }\n",
       "\n",
       "    .dataframe tbody tr th {\n",
       "        vertical-align: top;\n",
       "    }\n",
       "\n",
       "    .dataframe thead th {\n",
       "        text-align: right;\n",
       "    }\n",
       "</style>\n",
       "<table border=\"1\" class=\"dataframe\">\n",
       "  <thead>\n",
       "    <tr style=\"text-align: right;\">\n",
       "      <th></th>\n",
       "      <th>Supplement</th>\n",
       "      <th>Exercise</th>\n",
       "      <th>Weight_Loss</th>\n",
       "    </tr>\n",
       "  </thead>\n",
       "  <tbody>\n",
       "    <tr>\n",
       "      <th>0</th>\n",
       "      <td>False</td>\n",
       "      <td>False</td>\n",
       "      <td>-0.877103</td>\n",
       "    </tr>\n",
       "    <tr>\n",
       "      <th>1</th>\n",
       "      <td>True</td>\n",
       "      <td>False</td>\n",
       "      <td>1.604542</td>\n",
       "    </tr>\n",
       "    <tr>\n",
       "      <th>2</th>\n",
       "      <td>True</td>\n",
       "      <td>True</td>\n",
       "      <td>13.824148</td>\n",
       "    </tr>\n",
       "    <tr>\n",
       "      <th>3</th>\n",
       "      <td>True</td>\n",
       "      <td>True</td>\n",
       "      <td>13.004505</td>\n",
       "    </tr>\n",
       "    <tr>\n",
       "      <th>4</th>\n",
       "      <td>True</td>\n",
       "      <td>True</td>\n",
       "      <td>13.701128</td>\n",
       "    </tr>\n",
       "    <tr>\n",
       "      <th>...</th>\n",
       "      <td>...</td>\n",
       "      <td>...</td>\n",
       "      <td>...</td>\n",
       "    </tr>\n",
       "    <tr>\n",
       "      <th>9995</th>\n",
       "      <td>True</td>\n",
       "      <td>False</td>\n",
       "      <td>1.558841</td>\n",
       "    </tr>\n",
       "    <tr>\n",
       "      <th>9996</th>\n",
       "      <td>False</td>\n",
       "      <td>False</td>\n",
       "      <td>-0.217816</td>\n",
       "    </tr>\n",
       "    <tr>\n",
       "      <th>9997</th>\n",
       "      <td>False</td>\n",
       "      <td>True</td>\n",
       "      <td>4.072701</td>\n",
       "    </tr>\n",
       "    <tr>\n",
       "      <th>9998</th>\n",
       "      <td>True</td>\n",
       "      <td>False</td>\n",
       "      <td>-0.253796</td>\n",
       "    </tr>\n",
       "    <tr>\n",
       "      <th>9999</th>\n",
       "      <td>False</td>\n",
       "      <td>False</td>\n",
       "      <td>-1.399092</td>\n",
       "    </tr>\n",
       "  </tbody>\n",
       "</table>\n",
       "<p>10000 rows × 3 columns</p>\n",
       "</div>"
      ],
      "text/plain": [
       "      Supplement  Exercise  Weight_Loss\n",
       "0          False     False    -0.877103\n",
       "1           True     False     1.604542\n",
       "2           True      True    13.824148\n",
       "3           True      True    13.004505\n",
       "4           True      True    13.701128\n",
       "...          ...       ...          ...\n",
       "9995        True     False     1.558841\n",
       "9996       False     False    -0.217816\n",
       "9997       False      True     4.072701\n",
       "9998        True     False    -0.253796\n",
       "9999       False     False    -1.399092\n",
       "\n",
       "[10000 rows x 3 columns]"
      ]
     },
     "execution_count": 7,
     "metadata": {},
     "output_type": "execute_result"
    }
   ],
   "source": [
    "df_train = pd.read_csv('https://raw.githubusercontent.com/guebin/MP2023/main/posts/weightloss.csv')\n",
    "df_train"
   ]
  },
  {
   "cell_type": "markdown",
   "id": "57367363-176a-44ed-b3f9-425ca680d4c2",
   "metadata": {},
   "source": [
    "# 4. 적합 "
   ]
  },
  {
   "cell_type": "code",
   "execution_count": 8,
   "id": "e4068612-2d42-4295-aa4f-72361d47b53c",
   "metadata": {
    "tags": []
   },
   "outputs": [
    {
     "name": "stderr",
     "output_type": "stream",
     "text": [
      "No path specified. Models will be saved in: \"AutogluonModels/ag-20231201_113248/\"\n",
      "Beginning AutoGluon training ...\n",
      "AutoGluon will save models to \"AutogluonModels/ag-20231201_113248/\"\n",
      "AutoGluon Version:  0.8.2\n",
      "Python Version:     3.10.13\n",
      "Operating System:   Linux\n",
      "Platform Machine:   x86_64\n",
      "Platform Version:   #26~22.04.1-Ubuntu SMP PREEMPT_DYNAMIC Thu Jul 13 16:27:29 UTC 2\n",
      "Disk Space Avail:   248.33 GB / 490.57 GB (50.6%)\n",
      "Train Data Rows:    10000\n",
      "Train Data Columns: 2\n",
      "Label Column: Weight_Loss\n",
      "Preprocessing data ...\n",
      "AutoGluon infers your prediction problem is: 'regression' (because dtype of label-column == float and many unique label-values observed).\n",
      "\tLabel info (max, min, mean, stddev): (18.725299456466026, -3.4848875790233675, 5.11908, 6.09267)\n",
      "\tIf 'regression' is not the correct problem_type, please manually specify the problem_type parameter during predictor init (You may specify problem_type as one of: ['binary', 'multiclass', 'regression'])\n",
      "Using Feature Generators to preprocess the data ...\n",
      "Fitting AutoMLPipelineFeatureGenerator...\n",
      "\tAvailable Memory:                    125414.99 MB\n",
      "\tTrain Data (Original)  Memory Usage: 0.02 MB (0.0% of available memory)\n",
      "\tInferring data type of each feature based on column values. Set feature_metadata_in to manually specify special dtypes of the features.\n",
      "\tStage 1 Generators:\n",
      "\t\tFitting AsTypeFeatureGenerator...\n",
      "\t\t\tNote: Converting 2 features to boolean dtype as they only contain 2 unique values.\n",
      "\tStage 2 Generators:\n",
      "\t\tFitting FillNaFeatureGenerator...\n",
      "\tStage 3 Generators:\n",
      "\t\tFitting IdentityFeatureGenerator...\n",
      "\tStage 4 Generators:\n",
      "\t\tFitting DropUniqueFeatureGenerator...\n",
      "\tStage 5 Generators:\n",
      "\t\tFitting DropDuplicatesFeatureGenerator...\n",
      "\tTypes of features in original data (raw dtype, special dtypes):\n",
      "\t\t('bool', []) : 2 | ['Supplement', 'Exercise']\n",
      "\tTypes of features in processed data (raw dtype, special dtypes):\n",
      "\t\t('int', ['bool']) : 2 | ['Supplement', 'Exercise']\n",
      "\t0.0s = Fit runtime\n",
      "\t2 features in original data used to generate 2 features in processed data.\n",
      "\tTrain Data (Processed) Memory Usage: 0.02 MB (0.0% of available memory)\n",
      "Data preprocessing and feature engineering runtime = 0.03s ...\n",
      "AutoGluon will gauge predictive performance using evaluation metric: 'root_mean_squared_error'\n",
      "\tThis metric's sign has been flipped to adhere to being higher_is_better. The metric score can be multiplied by -1 to get the metric value.\n",
      "\tTo change this, specify the eval_metric parameter of Predictor()\n",
      "Automatically generating train/validation split with holdout_frac=0.1, Train Rows: 9000, Val Rows: 1000\n",
      "User-specified model hyperparameters to be fit:\n",
      "{\n",
      "\t'NN_TORCH': {},\n",
      "\t'GBM': [{'extra_trees': True, 'ag_args': {'name_suffix': 'XT'}}, {}, 'GBMLarge'],\n",
      "\t'CAT': {},\n",
      "\t'XGB': {},\n",
      "\t'FASTAI': {},\n",
      "\t'RF': [{'criterion': 'gini', 'ag_args': {'name_suffix': 'Gini', 'problem_types': ['binary', 'multiclass']}}, {'criterion': 'entropy', 'ag_args': {'name_suffix': 'Entr', 'problem_types': ['binary', 'multiclass']}}, {'criterion': 'squared_error', 'ag_args': {'name_suffix': 'MSE', 'problem_types': ['regression', 'quantile']}}],\n",
      "\t'XT': [{'criterion': 'gini', 'ag_args': {'name_suffix': 'Gini', 'problem_types': ['binary', 'multiclass']}}, {'criterion': 'entropy', 'ag_args': {'name_suffix': 'Entr', 'problem_types': ['binary', 'multiclass']}}, {'criterion': 'squared_error', 'ag_args': {'name_suffix': 'MSE', 'problem_types': ['regression', 'quantile']}}],\n",
      "\t'KNN': [{'weights': 'uniform', 'ag_args': {'name_suffix': 'Unif'}}, {'weights': 'distance', 'ag_args': {'name_suffix': 'Dist'}}],\n",
      "}\n",
      "Fitting 11 L1 models ...\n",
      "Fitting model: KNeighborsUnif ...\n",
      "\tNo valid features to train KNeighborsUnif... Skipping this model.\n",
      "Fitting model: KNeighborsDist ...\n",
      "\tNo valid features to train KNeighborsDist... Skipping this model.\n",
      "Fitting model: LightGBMXT ...\n",
      "\t-1.0098\t = Validation score   (-root_mean_squared_error)\n",
      "\t0.49s\t = Training   runtime\n",
      "\t0.0s\t = Validation runtime\n",
      "Fitting model: LightGBM ...\n",
      "\t-1.0098\t = Validation score   (-root_mean_squared_error)\n",
      "\t0.24s\t = Training   runtime\n",
      "\t0.0s\t = Validation runtime\n",
      "Fitting model: RandomForestMSE ...\n",
      "\t-1.0098\t = Validation score   (-root_mean_squared_error)\n",
      "\t0.33s\t = Training   runtime\n",
      "\t0.12s\t = Validation runtime\n",
      "Fitting model: CatBoost ...\n",
      "\t-1.0098\t = Validation score   (-root_mean_squared_error)\n",
      "\t0.36s\t = Training   runtime\n",
      "\t0.0s\t = Validation runtime\n",
      "Fitting model: ExtraTreesMSE ...\n",
      "\t-1.0098\t = Validation score   (-root_mean_squared_error)\n",
      "\t0.33s\t = Training   runtime\n",
      "\t0.02s\t = Validation runtime\n",
      "Fitting model: NeuralNetFastAI ...\n",
      "\t-1.0087\t = Validation score   (-root_mean_squared_error)\n",
      "\t10.49s\t = Training   runtime\n",
      "\t0.02s\t = Validation runtime\n",
      "Fitting model: XGBoost ...\n",
      "\t-1.0098\t = Validation score   (-root_mean_squared_error)\n",
      "\t0.14s\t = Training   runtime\n",
      "\t0.0s\t = Validation runtime\n",
      "Fitting model: NeuralNetTorch ...\n",
      "\t-1.01\t = Validation score   (-root_mean_squared_error)\n",
      "\t26.12s\t = Training   runtime\n",
      "\t0.0s\t = Validation runtime\n",
      "Fitting model: LightGBMLarge ...\n",
      "\t-1.0098\t = Validation score   (-root_mean_squared_error)\n",
      "\t0.26s\t = Training   runtime\n",
      "\t0.0s\t = Validation runtime\n",
      "Fitting model: WeightedEnsemble_L2 ...\n",
      "\t-1.0085\t = Validation score   (-root_mean_squared_error)\n",
      "\t0.19s\t = Training   runtime\n",
      "\t0.0s\t = Validation runtime\n",
      "AutoGluon training complete, total runtime = 39.3s ... Best model: \"WeightedEnsemble_L2\"\n",
      "TabularPredictor saved. To load, use: predictor = TabularPredictor.load(\"AutogluonModels/ag-20231201_113248/\")\n"
     ]
    }
   ],
   "source": [
    "# step1 -- pass\n",
    "# step2\n",
    "predictr = TabularPredictor(label='Weight_Loss')\n",
    "# step3\n",
    "predictr.fit(df_train)\n",
    "# step4\n",
    "yhat = predictr.predict(df_train)"
   ]
  },
  {
   "cell_type": "markdown",
   "id": "a212425d-5da9-4c03-b5ff-063332eeb3d4",
   "metadata": {},
   "source": [
    "# 5. 해석 및 시각화 "
   ]
  },
  {
   "cell_type": "markdown",
   "id": "5e602792-8a3c-41b0-8aad-d86b06c0d1fd",
   "metadata": {},
   "source": [
    "## A. y의 분포, (X,y)의 관계 시각화 "
   ]
  },
  {
   "cell_type": "code",
   "execution_count": 12,
   "id": "81654e3d-2fa2-474f-84ec-7c1a32673009",
   "metadata": {
    "tags": []
   },
   "outputs": [
    {
     "data": {
      "text/markdown": [
       "## Target variable analysis"
      ],
      "text/plain": [
       "<IPython.core.display.Markdown object>"
      ]
     },
     "metadata": {},
     "output_type": "display_data"
    },
    {
     "data": {
      "text/html": [
       "<div>\n",
       "<style scoped>\n",
       "    .dataframe tbody tr th:only-of-type {\n",
       "        vertical-align: middle;\n",
       "    }\n",
       "\n",
       "    .dataframe tbody tr th {\n",
       "        vertical-align: top;\n",
       "    }\n",
       "\n",
       "    .dataframe thead th {\n",
       "        text-align: right;\n",
       "    }\n",
       "</style>\n",
       "<table border=\"1\" class=\"dataframe\">\n",
       "  <thead>\n",
       "    <tr style=\"text-align: right;\">\n",
       "      <th></th>\n",
       "      <th>count</th>\n",
       "      <th>mean</th>\n",
       "      <th>std</th>\n",
       "      <th>min</th>\n",
       "      <th>25%</th>\n",
       "      <th>50%</th>\n",
       "      <th>75%</th>\n",
       "      <th>max</th>\n",
       "      <th>dtypes</th>\n",
       "      <th>unique</th>\n",
       "      <th>missing_count</th>\n",
       "      <th>missing_ratio</th>\n",
       "      <th>raw_type</th>\n",
       "      <th>special_types</th>\n",
       "    </tr>\n",
       "  </thead>\n",
       "  <tbody>\n",
       "    <tr>\n",
       "      <th>Weight_Loss</th>\n",
       "      <td>10000</td>\n",
       "      <td>5.11908</td>\n",
       "      <td>6.092669</td>\n",
       "      <td>-3.484888</td>\n",
       "      <td>0.277797</td>\n",
       "      <td>2.683447</td>\n",
       "      <td>12.075458</td>\n",
       "      <td>18.725299</td>\n",
       "      <td>float64</td>\n",
       "      <td>10000</td>\n",
       "      <td></td>\n",
       "      <td></td>\n",
       "      <td>float</td>\n",
       "      <td></td>\n",
       "    </tr>\n",
       "  </tbody>\n",
       "</table>\n",
       "</div>"
      ],
      "text/plain": [
       "             count     mean       std       min       25%       50%  \\\n",
       "Weight_Loss  10000  5.11908  6.092669 -3.484888  0.277797  2.683447   \n",
       "\n",
       "                   75%        max   dtypes  unique missing_count  \\\n",
       "Weight_Loss  12.075458  18.725299  float64   10000                 \n",
       "\n",
       "            missing_ratio raw_type special_types  \n",
       "Weight_Loss                  float                "
      ]
     },
     "metadata": {},
     "output_type": "display_data"
    },
    {
     "data": {
      "image/png": "[encoded data removed]",
      "text/plain": [
       "<Figure size 1200x600 with 1 Axes>"
      ]
     },
     "metadata": {},
     "output_type": "display_data"
    },
    {
     "data": {
      "text/markdown": [
       "### Target variable correlations"
      ],
      "text/plain": [
       "<IPython.core.display.Markdown object>"
      ]
     },
     "metadata": {},
     "output_type": "display_data"
    },
    {
     "data": {
      "text/markdown": [
       "**`train_data` - `spearman` correlation matrix; focus: absolute correlation for `Weight_Loss` >= `0.5`**"
      ],
      "text/plain": [
       "<IPython.core.display.Markdown object>"
      ]
     },
     "metadata": {},
     "output_type": "display_data"
    },
    {
     "data": {
      "image/png": "[encoded data removed]",
      "text/plain": [
       "<Figure size 200x200 with 2 Axes>"
      ]
     },
     "metadata": {},
     "output_type": "display_data"
    },
    {
     "data": {
      "text/markdown": [
       "**Feature interaction between `Exercise`/`Weight_Loss` in `train_data`**"
      ],
      "text/plain": [
       "<IPython.core.display.Markdown object>"
      ]
     },
     "metadata": {},
     "output_type": "display_data"
    },
    {
     "data": {
      "image/png": "[encoded data removed]",
      "text/plain": [
       "<Figure size 1200x600 with 1 Axes>"
      ]
     },
     "metadata": {},
     "output_type": "display_data"
    }
   ],
   "source": [
    "auto.target_analysis(\n",
    "    train_data=df_train,\n",
    "    label='Weight_Loss',\n",
    "    fit_distributions=False\n",
    ")"
   ]
  },
  {
   "cell_type": "markdown",
   "id": "62c54796-581e-4840-a28a-13f7adbeeb94",
   "metadata": {},
   "source": [
    "## B. 중요한 설명변수"
   ]
  },
  {
   "cell_type": "code",
   "execution_count": 14,
   "id": "29775031-a71a-49d0-975f-0c8911da1b36",
   "metadata": {
    "tags": []
   },
   "outputs": [
    {
     "name": "stderr",
     "output_type": "stream",
     "text": [
      "No path specified. Models will be saved in: \"AutogluonModels/ag-20231201_113551/\"\n"
     ]
    },
    {
     "data": {
      "text/markdown": [
       "### Model Prediction for Weight_Loss"
      ],
      "text/plain": [
       "<IPython.core.display.Markdown object>"
      ]
     },
     "metadata": {},
     "output_type": "display_data"
    },
    {
     "data": {
      "text/markdown": [
       "Using validation data for `Test` points"
      ],
      "text/plain": [
       "<IPython.core.display.Markdown object>"
      ]
     },
     "metadata": {},
     "output_type": "display_data"
    },
    {
     "data": {
      "image/png": "[encoded data removed]",
      "text/plain": [
       "<Figure size 1200x600 with 2 Axes>"
      ]
     },
     "metadata": {},
     "output_type": "display_data"
    },
    {
     "data": {
      "text/markdown": [
       "### Model Leaderboard"
      ],
      "text/plain": [
       "<IPython.core.display.Markdown object>"
      ]
     },
     "metadata": {},
     "output_type": "display_data"
    },
    {
     "data": {
      "text/html": [
       "<div>\n",
       "<style scoped>\n",
       "    .dataframe tbody tr th:only-of-type {\n",
       "        vertical-align: middle;\n",
       "    }\n",
       "\n",
       "    .dataframe tbody tr th {\n",
       "        vertical-align: top;\n",
       "    }\n",
       "\n",
       "    .dataframe thead th {\n",
       "        text-align: right;\n",
       "    }\n",
       "</style>\n",
       "<table border=\"1\" class=\"dataframe\">\n",
       "  <thead>\n",
       "    <tr style=\"text-align: right;\">\n",
       "      <th></th>\n",
       "      <th>model</th>\n",
       "      <th>score_test</th>\n",
       "      <th>score_val</th>\n",
       "      <th>pred_time_test</th>\n",
       "      <th>pred_time_val</th>\n",
       "      <th>fit_time</th>\n",
       "      <th>pred_time_test_marginal</th>\n",
       "      <th>pred_time_val_marginal</th>\n",
       "      <th>fit_time_marginal</th>\n",
       "      <th>stack_level</th>\n",
       "      <th>can_infer</th>\n",
       "      <th>fit_order</th>\n",
       "    </tr>\n",
       "  </thead>\n",
       "  <tbody>\n",
       "    <tr>\n",
       "      <th>0</th>\n",
       "      <td>LightGBMXT</td>\n",
       "      <td>-1.013205</td>\n",
       "      <td>-0.973093</td>\n",
       "      <td>0.011518</td>\n",
       "      <td>0.002616</td>\n",
       "      <td>0.246242</td>\n",
       "      <td>0.011518</td>\n",
       "      <td>0.002616</td>\n",
       "      <td>0.246242</td>\n",
       "      <td>1</td>\n",
       "      <td>True</td>\n",
       "      <td>1</td>\n",
       "    </tr>\n",
       "  </tbody>\n",
       "</table>\n",
       "</div>"
      ],
      "text/plain": [
       "        model  score_test  score_val  pred_time_test  pred_time_val  fit_time  \\\n",
       "0  LightGBMXT   -1.013205  -0.973093        0.011518       0.002616  0.246242   \n",
       "\n",
       "   pred_time_test_marginal  pred_time_val_marginal  fit_time_marginal  \\\n",
       "0                 0.011518                0.002616           0.246242   \n",
       "\n",
       "   stack_level  can_infer  fit_order  \n",
       "0            1       True          1  "
      ]
     },
     "metadata": {},
     "output_type": "display_data"
    },
    {
     "data": {
      "text/markdown": [
       "### Feature Importance for Trained Model"
      ],
      "text/plain": [
       "<IPython.core.display.Markdown object>"
      ]
     },
     "metadata": {},
     "output_type": "display_data"
    },
    {
     "data": {
      "text/html": [
       "<div>\n",
       "<style scoped>\n",
       "    .dataframe tbody tr th:only-of-type {\n",
       "        vertical-align: middle;\n",
       "    }\n",
       "\n",
       "    .dataframe tbody tr th {\n",
       "        vertical-align: top;\n",
       "    }\n",
       "\n",
       "    .dataframe thead th {\n",
       "        text-align: right;\n",
       "    }\n",
       "</style>\n",
       "<table border=\"1\" class=\"dataframe\">\n",
       "  <thead>\n",
       "    <tr style=\"text-align: right;\">\n",
       "      <th></th>\n",
       "      <th>importance</th>\n",
       "      <th>stddev</th>\n",
       "      <th>p_value</th>\n",
       "      <th>n</th>\n",
       "      <th>p99_high</th>\n",
       "      <th>p99_low</th>\n",
       "    </tr>\n",
       "  </thead>\n",
       "  <tbody>\n",
       "    <tr>\n",
       "      <th>Exercise</th>\n",
       "      <td>6.735479</td>\n",
       "      <td>0.105037</td>\n",
       "      <td>7.094759e-09</td>\n",
       "      <td>5</td>\n",
       "      <td>6.951752</td>\n",
       "      <td>6.519206</td>\n",
       "    </tr>\n",
       "    <tr>\n",
       "      <th>Supplement</th>\n",
       "      <td>4.018616</td>\n",
       "      <td>0.073537</td>\n",
       "      <td>1.344948e-08</td>\n",
       "      <td>5</td>\n",
       "      <td>4.170030</td>\n",
       "      <td>3.867202</td>\n",
       "    </tr>\n",
       "  </tbody>\n",
       "</table>\n",
       "</div>"
      ],
      "text/plain": [
       "            importance    stddev       p_value  n  p99_high   p99_low\n",
       "Exercise      6.735479  0.105037  7.094759e-09  5  6.951752  6.519206\n",
       "Supplement    4.018616  0.073537  1.344948e-08  5  4.170030  3.867202"
      ]
     },
     "metadata": {},
     "output_type": "display_data"
    },
    {
     "data": {
      "image/png": "[encoded data removed]",
      "text/plain": [
       "<Figure size 1200x50 with 1 Axes>"
      ]
     },
     "metadata": {},
     "output_type": "display_data"
    },
    {
     "data": {
      "text/markdown": [
       "### Rows with the highest prediction error"
      ],
      "text/plain": [
       "<IPython.core.display.Markdown object>"
      ]
     },
     "metadata": {},
     "output_type": "display_data"
    },
    {
     "data": {
      "text/markdown": [
       "Rows in this category worth inspecting for the causes of the error"
      ],
      "text/plain": [
       "<IPython.core.display.Markdown object>"
      ]
     },
     "metadata": {},
     "output_type": "display_data"
    },
    {
     "data": {
      "text/html": [
       "<div>\n",
       "<style scoped>\n",
       "    .dataframe tbody tr th:only-of-type {\n",
       "        vertical-align: middle;\n",
       "    }\n",
       "\n",
       "    .dataframe tbody tr th {\n",
       "        vertical-align: top;\n",
       "    }\n",
       "\n",
       "    .dataframe thead th {\n",
       "        text-align: right;\n",
       "    }\n",
       "</style>\n",
       "<table border=\"1\" class=\"dataframe\">\n",
       "  <thead>\n",
       "    <tr style=\"text-align: right;\">\n",
       "      <th></th>\n",
       "      <th>Supplement</th>\n",
       "      <th>Exercise</th>\n",
       "      <th>Weight_Loss</th>\n",
       "      <th>Weight_Loss_pred</th>\n",
       "      <th>error</th>\n",
       "    </tr>\n",
       "  </thead>\n",
       "  <tbody>\n",
       "    <tr>\n",
       "      <th>4639</th>\n",
       "      <td>True</td>\n",
       "      <td>False</td>\n",
       "      <td>4.358143</td>\n",
       "      <td>0.484748</td>\n",
       "      <td>3.873395</td>\n",
       "    </tr>\n",
       "    <tr>\n",
       "      <th>1683</th>\n",
       "      <td>True</td>\n",
       "      <td>True</td>\n",
       "      <td>18.432093</td>\n",
       "      <td>14.966088</td>\n",
       "      <td>3.466005</td>\n",
       "    </tr>\n",
       "    <tr>\n",
       "      <th>1275</th>\n",
       "      <td>False</td>\n",
       "      <td>True</td>\n",
       "      <td>1.693150</td>\n",
       "      <td>5.012056</td>\n",
       "      <td>3.318906</td>\n",
       "    </tr>\n",
       "    <tr>\n",
       "      <th>2631</th>\n",
       "      <td>False</td>\n",
       "      <td>True</td>\n",
       "      <td>8.328789</td>\n",
       "      <td>5.012056</td>\n",
       "      <td>3.316733</td>\n",
       "    </tr>\n",
       "    <tr>\n",
       "      <th>5334</th>\n",
       "      <td>True</td>\n",
       "      <td>False</td>\n",
       "      <td>3.769029</td>\n",
       "      <td>0.484748</td>\n",
       "      <td>3.284281</td>\n",
       "    </tr>\n",
       "    <tr>\n",
       "      <th>3437</th>\n",
       "      <td>False</td>\n",
       "      <td>False</td>\n",
       "      <td>-3.205225</td>\n",
       "      <td>0.039978</td>\n",
       "      <td>3.245204</td>\n",
       "    </tr>\n",
       "    <tr>\n",
       "      <th>2761</th>\n",
       "      <td>False</td>\n",
       "      <td>True</td>\n",
       "      <td>1.853100</td>\n",
       "      <td>5.012056</td>\n",
       "      <td>3.158956</td>\n",
       "    </tr>\n",
       "    <tr>\n",
       "      <th>9675</th>\n",
       "      <td>True</td>\n",
       "      <td>True</td>\n",
       "      <td>18.070419</td>\n",
       "      <td>14.966088</td>\n",
       "      <td>3.104331</td>\n",
       "    </tr>\n",
       "    <tr>\n",
       "      <th>3161</th>\n",
       "      <td>False</td>\n",
       "      <td>False</td>\n",
       "      <td>-3.020254</td>\n",
       "      <td>0.039978</td>\n",
       "      <td>3.060232</td>\n",
       "    </tr>\n",
       "    <tr>\n",
       "      <th>4637</th>\n",
       "      <td>False</td>\n",
       "      <td>True</td>\n",
       "      <td>2.077349</td>\n",
       "      <td>5.012056</td>\n",
       "      <td>2.934706</td>\n",
       "    </tr>\n",
       "  </tbody>\n",
       "</table>\n",
       "</div>"
      ],
      "text/plain": [
       "      Supplement  Exercise  Weight_Loss  Weight_Loss_pred     error\n",
       "4639        True     False     4.358143          0.484748  3.873395\n",
       "1683        True      True    18.432093         14.966088  3.466005\n",
       "1275       False      True     1.693150          5.012056  3.318906\n",
       "2631       False      True     8.328789          5.012056  3.316733\n",
       "5334        True     False     3.769029          0.484748  3.284281\n",
       "3437       False     False    -3.205225          0.039978  3.245204\n",
       "2761       False      True     1.853100          5.012056  3.158956\n",
       "9675        True      True    18.070419         14.966088  3.104331\n",
       "3161       False     False    -3.020254          0.039978  3.060232\n",
       "4637       False      True     2.077349          5.012056  2.934706"
      ]
     },
     "metadata": {},
     "output_type": "display_data"
    }
   ],
   "source": [
    "auto.quick_fit(\n",
    "    train_data=df_train,\n",
    "    label='Weight_Loss',\n",
    "    show_feature_importance_barplots=True\n",
    ")"
   ]
  },
  {
   "cell_type": "markdown",
   "id": "bad4b02b-e203-4089-bc67-f51e5042bf84",
   "metadata": {},
   "source": [
    "## C. 관측치별 해석 "
   ]
  },
  {
   "cell_type": "markdown",
   "id": "0ba20454-e590-4f3f-8edc-2b008c16162d",
   "metadata": {},
   "source": [
    "`-` 2번관측치 "
   ]
  },
  {
   "cell_type": "code",
   "execution_count": 25,
   "id": "a3675355-711d-434b-911a-3bdec12c1bef",
   "metadata": {
    "tags": []
   },
   "outputs": [
    {
     "data": {
      "text/html": [
       "<div>\n",
       "<style scoped>\n",
       "    .dataframe tbody tr th:only-of-type {\n",
       "        vertical-align: middle;\n",
       "    }\n",
       "\n",
       "    .dataframe tbody tr th {\n",
       "        vertical-align: top;\n",
       "    }\n",
       "\n",
       "    .dataframe thead th {\n",
       "        text-align: right;\n",
       "    }\n",
       "</style>\n",
       "<table border=\"1\" class=\"dataframe\">\n",
       "  <thead>\n",
       "    <tr style=\"text-align: right;\">\n",
       "      <th></th>\n",
       "      <th>Supplement</th>\n",
       "      <th>Exercise</th>\n",
       "      <th>Weight_Loss</th>\n",
       "    </tr>\n",
       "  </thead>\n",
       "  <tbody>\n",
       "    <tr>\n",
       "      <th>5</th>\n",
       "      <td>True</td>\n",
       "      <td>False</td>\n",
       "      <td>-0.379401</td>\n",
       "    </tr>\n",
       "  </tbody>\n",
       "</table>\n",
       "</div>"
      ],
      "text/plain": [
       "   Supplement  Exercise  Weight_Loss\n",
       "5        True     False    -0.379401"
      ]
     },
     "execution_count": 25,
     "metadata": {},
     "output_type": "execute_result"
    }
   ],
   "source": [
    "df_train.iloc[[2]]"
   ]
  },
  {
   "cell_type": "code",
   "execution_count": 19,
   "id": "9bc49f4a-5a89-4da3-9aa9-ec4eba7e6b6a",
   "metadata": {
    "tags": []
   },
   "outputs": [
    {
     "data": {
      "text/plain": [
       "2    15.005399\n",
       "Name: Weight_Loss, dtype: float32"
      ]
     },
     "execution_count": 19,
     "metadata": {},
     "output_type": "execute_result"
    }
   ],
   "source": [
    "predictr.predict(df_train.iloc[[2]])"
   ]
  },
  {
   "cell_type": "code",
   "execution_count": 22,
   "id": "e4299f75-5637-48e2-bd37-9adf36d10bdc",
   "metadata": {
    "tags": []
   },
   "outputs": [
    {
     "data": {
      "text/html": [
       "<div>\n",
       "<style scoped>\n",
       "    .dataframe tbody tr th:only-of-type {\n",
       "        vertical-align: middle;\n",
       "    }\n",
       "\n",
       "    .dataframe tbody tr th {\n",
       "        vertical-align: top;\n",
       "    }\n",
       "\n",
       "    .dataframe thead th {\n",
       "        text-align: right;\n",
       "    }\n",
       "</style>\n",
       "<table border=\"1\" class=\"dataframe\">\n",
       "  <thead>\n",
       "    <tr style=\"text-align: right;\">\n",
       "      <th></th>\n",
       "      <th>Supplement</th>\n",
       "      <th>Exercise</th>\n",
       "      <th>Weight_Loss</th>\n",
       "    </tr>\n",
       "  </thead>\n",
       "  <tbody>\n",
       "    <tr>\n",
       "      <th>2</th>\n",
       "      <td>1.0</td>\n",
       "      <td>1.0</td>\n",
       "      <td>13.824148</td>\n",
       "    </tr>\n",
       "  </tbody>\n",
       "</table>\n",
       "</div>"
      ],
      "text/plain": [
       "   Supplement  Exercise  Weight_Loss\n",
       "2         1.0       1.0    13.824148"
      ]
     },
     "metadata": {},
     "output_type": "display_data"
    },
    {
     "data": {
      "image/png": "[encoded data removed]",
      "text/plain": [
       "<Figure size 800x250 with 3 Axes>"
      ]
     },
     "metadata": {},
     "output_type": "display_data"
    }
   ],
   "source": [
    "auto.explain_rows(\n",
    "    train_data=df_train,\n",
    "    model=predictr,\n",
    "    rows=df_train.iloc[[2]]*1,\n",
    "    display_rows=True,\n",
    "    plot='waterfall'\n",
    ")"
   ]
  },
  {
   "cell_type": "markdown",
   "id": "fdb85876-fdd8-4fd9-90a7-753e791fc035",
   "metadata": {},
   "source": [
    "`-` 5번관측치 "
   ]
  },
  {
   "cell_type": "code",
   "execution_count": 27,
   "id": "2f972b04-d86c-4d0b-9f16-8cea6bbb62fe",
   "metadata": {
    "tags": []
   },
   "outputs": [
    {
     "data": {
      "text/html": [
       "<div>\n",
       "<style scoped>\n",
       "    .dataframe tbody tr th:only-of-type {\n",
       "        vertical-align: middle;\n",
       "    }\n",
       "\n",
       "    .dataframe tbody tr th {\n",
       "        vertical-align: top;\n",
       "    }\n",
       "\n",
       "    .dataframe thead th {\n",
       "        text-align: right;\n",
       "    }\n",
       "</style>\n",
       "<table border=\"1\" class=\"dataframe\">\n",
       "  <thead>\n",
       "    <tr style=\"text-align: right;\">\n",
       "      <th></th>\n",
       "      <th>Supplement</th>\n",
       "      <th>Exercise</th>\n",
       "      <th>Weight_Loss</th>\n",
       "    </tr>\n",
       "  </thead>\n",
       "  <tbody>\n",
       "    <tr>\n",
       "      <th>5</th>\n",
       "      <td>True</td>\n",
       "      <td>False</td>\n",
       "      <td>-0.379401</td>\n",
       "    </tr>\n",
       "  </tbody>\n",
       "</table>\n",
       "</div>"
      ],
      "text/plain": [
       "   Supplement  Exercise  Weight_Loss\n",
       "5        True     False    -0.379401"
      ]
     },
     "execution_count": 27,
     "metadata": {},
     "output_type": "execute_result"
    }
   ],
   "source": [
    "df_train.iloc[[5]]"
   ]
  },
  {
   "cell_type": "code",
   "execution_count": 28,
   "id": "d2d955d5-967c-4338-8b30-361179a5fde8",
   "metadata": {
    "tags": []
   },
   "outputs": [
    {
     "data": {
      "text/plain": [
       "5    0.583611\n",
       "Name: Weight_Loss, dtype: float32"
      ]
     },
     "execution_count": 28,
     "metadata": {},
     "output_type": "execute_result"
    }
   ],
   "source": [
    "predictr.predict(df_train.iloc[[5]])"
   ]
  },
  {
   "cell_type": "code",
   "execution_count": 29,
   "id": "d4515481-48be-45df-8a17-b429b4af80d7",
   "metadata": {
    "tags": []
   },
   "outputs": [
    {
     "data": {
      "text/html": [
       "<div>\n",
       "<style scoped>\n",
       "    .dataframe tbody tr th:only-of-type {\n",
       "        vertical-align: middle;\n",
       "    }\n",
       "\n",
       "    .dataframe tbody tr th {\n",
       "        vertical-align: top;\n",
       "    }\n",
       "\n",
       "    .dataframe thead th {\n",
       "        text-align: right;\n",
       "    }\n",
       "</style>\n",
       "<table border=\"1\" class=\"dataframe\">\n",
       "  <thead>\n",
       "    <tr style=\"text-align: right;\">\n",
       "      <th></th>\n",
       "      <th>Supplement</th>\n",
       "      <th>Exercise</th>\n",
       "      <th>Weight_Loss</th>\n",
       "    </tr>\n",
       "  </thead>\n",
       "  <tbody>\n",
       "    <tr>\n",
       "      <th>5</th>\n",
       "      <td>1.0</td>\n",
       "      <td>0.0</td>\n",
       "      <td>-0.379401</td>\n",
       "    </tr>\n",
       "  </tbody>\n",
       "</table>\n",
       "</div>"
      ],
      "text/plain": [
       "   Supplement  Exercise  Weight_Loss\n",
       "5         1.0       0.0    -0.379401"
      ]
     },
     "metadata": {},
     "output_type": "display_data"
    },
    {
     "data": {
      "image/png": "[encoded data removed]",
      "text/plain": [
       "<Figure size 800x250 with 3 Axes>"
      ]
     },
     "metadata": {},
     "output_type": "display_data"
    }
   ],
   "source": [
    "auto.explain_rows(\n",
    "    train_data=df_train,\n",
    "    model=predictr,\n",
    "    rows=df_train.iloc[[5]]*1,\n",
    "    display_rows=True,\n",
    "    plot='waterfall'\n",
    ")"
   ]
  },
  {
   "cell_type": "markdown",
   "id": "94ce7e3e-e686-4f40-a890-02e7f012f8d9",
   "metadata": {},
   "source": [
    "`-` 10번관측치 "
   ]
  },
  {
   "cell_type": "code",
   "execution_count": 34,
   "id": "cd3c0ff9-1e5d-40d5-bbc8-b9476fbdec9f",
   "metadata": {
    "tags": []
   },
   "outputs": [
    {
     "data": {
      "text/html": [
       "<div>\n",
       "<style scoped>\n",
       "    .dataframe tbody tr th:only-of-type {\n",
       "        vertical-align: middle;\n",
       "    }\n",
       "\n",
       "    .dataframe tbody tr th {\n",
       "        vertical-align: top;\n",
       "    }\n",
       "\n",
       "    .dataframe thead th {\n",
       "        text-align: right;\n",
       "    }\n",
       "</style>\n",
       "<table border=\"1\" class=\"dataframe\">\n",
       "  <thead>\n",
       "    <tr style=\"text-align: right;\">\n",
       "      <th></th>\n",
       "      <th>Supplement</th>\n",
       "      <th>Exercise</th>\n",
       "      <th>Weight_Loss</th>\n",
       "    </tr>\n",
       "  </thead>\n",
       "  <tbody>\n",
       "    <tr>\n",
       "      <th>10</th>\n",
       "      <td>False</td>\n",
       "      <td>True</td>\n",
       "      <td>4.356397</td>\n",
       "    </tr>\n",
       "  </tbody>\n",
       "</table>\n",
       "</div>"
      ],
      "text/plain": [
       "    Supplement  Exercise  Weight_Loss\n",
       "10       False      True     4.356397"
      ]
     },
     "execution_count": 34,
     "metadata": {},
     "output_type": "execute_result"
    }
   ],
   "source": [
    "df_train.iloc[[10]]"
   ]
  },
  {
   "cell_type": "code",
   "execution_count": 36,
   "id": "9368d93a-3d9d-491c-9aad-c4ef85dcc589",
   "metadata": {
    "tags": []
   },
   "outputs": [
    {
     "data": {
      "text/plain": [
       "10    4.998917\n",
       "Name: Weight_Loss, dtype: float32"
      ]
     },
     "execution_count": 36,
     "metadata": {},
     "output_type": "execute_result"
    }
   ],
   "source": [
    "predictr.predict(df_train.iloc[[10]])"
   ]
  },
  {
   "cell_type": "code",
   "execution_count": 37,
   "id": "a90b16fb-e18d-4367-8e2f-10c5debcbc87",
   "metadata": {
    "tags": []
   },
   "outputs": [
    {
     "data": {
      "text/html": [
       "<div>\n",
       "<style scoped>\n",
       "    .dataframe tbody tr th:only-of-type {\n",
       "        vertical-align: middle;\n",
       "    }\n",
       "\n",
       "    .dataframe tbody tr th {\n",
       "        vertical-align: top;\n",
       "    }\n",
       "\n",
       "    .dataframe thead th {\n",
       "        text-align: right;\n",
       "    }\n",
       "</style>\n",
       "<table border=\"1\" class=\"dataframe\">\n",
       "  <thead>\n",
       "    <tr style=\"text-align: right;\">\n",
       "      <th></th>\n",
       "      <th>Supplement</th>\n",
       "      <th>Exercise</th>\n",
       "      <th>Weight_Loss</th>\n",
       "    </tr>\n",
       "  </thead>\n",
       "  <tbody>\n",
       "    <tr>\n",
       "      <th>10</th>\n",
       "      <td>0.0</td>\n",
       "      <td>1.0</td>\n",
       "      <td>4.356397</td>\n",
       "    </tr>\n",
       "  </tbody>\n",
       "</table>\n",
       "</div>"
      ],
      "text/plain": [
       "    Supplement  Exercise  Weight_Loss\n",
       "10         0.0       1.0     4.356397"
      ]
     },
     "metadata": {},
     "output_type": "display_data"
    },
    {
     "data": {
      "image/png": "[encoded data removed]",
      "text/plain": [
       "<Figure size 800x250 with 3 Axes>"
      ]
     },
     "metadata": {},
     "output_type": "display_data"
    }
   ],
   "source": [
    "auto.explain_rows(\n",
    "    train_data=df_train,\n",
    "    model=predictr,\n",
    "    rows=df_train.iloc[[10]]*1,\n",
    "    display_rows=True,\n",
    "    plot='waterfall'\n",
    ")"
   ]
  }
 ],
 "metadata": {
  "kernelspec": {
   "display_name": "Python 3 (ipykernel)",
   "language": "python",
   "name": "python3"
  },
  "language_info": {
   "codemirror_mode": {
    "name": "ipython",
    "version": 3
   },
   "file_extension": ".py",
   "mimetype": "text/x-python",
   "name": "python",
   "nbconvert_exporter": "python",
   "pygments_lexer": "ipython3",
   "version": "3.10.13"
  }
 },
 "nbformat": 4,
 "nbformat_minor": 5
}
