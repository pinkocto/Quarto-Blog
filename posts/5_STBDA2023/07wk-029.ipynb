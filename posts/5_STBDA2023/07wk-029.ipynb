{
 "cells": [
  {
   "cell_type": "raw",
   "id": "8ad59f44-a6d1-4803-98b5-c0e77b41accb",
   "metadata": {
    "tags": []
   },
   "source": [
    "---\n",
    "title: \"07wk-029: 체중감량(교호작용) / 회귀분석\"\n",
    "author: \"JiyunLim\"\n",
    "date: \"10/17/2023\"\n",
    "bibliography: ref.bib\n",
    "draft: false\n",
    "---"
   ]
  },
  {
   "cell_type": "markdown",
   "id": "54a4d3df-3b20-42b0-b08c-5dfd98a0246e",
   "metadata": {},
   "source": [
    "# 1. 강의영상 "
   ]
  },
  {
   "cell_type": "markdown",
   "id": "4d3662c7-b5b5-4611-b52e-ca1177bce93e",
   "metadata": {},
   "source": [
    "<https://youtu.be/playlist?list=PLQqh36zP38-y6dmKt32J5hobALnT8wigT&si=ScK7ryQpemMS4cJd>"
   ]
  },
  {
   "cell_type": "markdown",
   "id": "7251395c-8e0f-4020-aedc-76eabd80c206",
   "metadata": {},
   "source": [
    "# 2. Imports "
   ]
  },
  {
   "cell_type": "code",
   "execution_count": 2,
   "id": "183d0665-f3a8-4945-9454-75da15083048",
   "metadata": {
    "tags": []
   },
   "outputs": [],
   "source": [
    "import numpy as np\n",
    "import pandas as pd \n",
    "import matplotlib.pyplot as plt \n",
    "import sklearn.linear_model \n",
    "import sklearn.tree\n",
    "import sklearn.model_selection"
   ]
  },
  {
   "cell_type": "markdown",
   "id": "7c1727c0-f3f7-4629-96a2-ebc71f0ec209",
   "metadata": {},
   "source": [
    "# 3. Data "
   ]
  },
  {
   "cell_type": "code",
   "execution_count": 3,
   "id": "683edec5-6a74-4085-a650-9764c9aa9b17",
   "metadata": {
    "tags": []
   },
   "outputs": [],
   "source": [
    "# n = 10000\n",
    "# Supplement = np.random.choice([True, False], n)\n",
    "# Exercise = np.random.choice([False, True], n)\n",
    "# Weight_Loss = np.where(\n",
    "#     (~Supplement & (~Exercise)),\n",
    "#     np.random.normal(loc=0, scale=1, size=n),  \n",
    "#     np.where(\n",
    "#         (Supplement & (Exercise)),\n",
    "#         np.random.normal(loc=15.00, scale=1, size=n),\n",
    "#         np.where(\n",
    "#             (~Supplement & (Exercise)),\n",
    "#             np.random.normal(loc=5.00, scale=1, size=n),\n",
    "#             np.random.normal(loc=0.5, scale=1, size=n)\n",
    "#         )\n",
    "#     )\n",
    "# )\n",
    "# df = pd.DataFrame({\n",
    "#     'Supplement': Supplement,\n",
    "#     'Exercise': Exercise,\n",
    "#     'Weight_Loss': Weight_Loss\n",
    "# })\n",
    "df_train = pd.read_csv('https://raw.githubusercontent.com/guebin/MP2023/main/posts/weightloss.csv')"
   ]
  },
  {
   "cell_type": "code",
   "execution_count": 4,
   "id": "c66adefb-e333-4863-bde1-daeb72b165e4",
   "metadata": {
    "tags": []
   },
   "outputs": [
    {
     "data": {
      "text/html": [
       "<div>\n",
       "<style scoped>\n",
       "    .dataframe tbody tr th:only-of-type {\n",
       "        vertical-align: middle;\n",
       "    }\n",
       "\n",
       "    .dataframe tbody tr th {\n",
       "        vertical-align: top;\n",
       "    }\n",
       "\n",
       "    .dataframe thead th {\n",
       "        text-align: right;\n",
       "    }\n",
       "</style>\n",
       "<table border=\"1\" class=\"dataframe\">\n",
       "  <thead>\n",
       "    <tr style=\"text-align: right;\">\n",
       "      <th></th>\n",
       "      <th>Supplement</th>\n",
       "      <th>Exercise</th>\n",
       "      <th>Weight_Loss</th>\n",
       "    </tr>\n",
       "  </thead>\n",
       "  <tbody>\n",
       "    <tr>\n",
       "      <th>0</th>\n",
       "      <td>False</td>\n",
       "      <td>False</td>\n",
       "      <td>-0.877103</td>\n",
       "    </tr>\n",
       "    <tr>\n",
       "      <th>1</th>\n",
       "      <td>True</td>\n",
       "      <td>False</td>\n",
       "      <td>1.604542</td>\n",
       "    </tr>\n",
       "    <tr>\n",
       "      <th>2</th>\n",
       "      <td>True</td>\n",
       "      <td>True</td>\n",
       "      <td>13.824148</td>\n",
       "    </tr>\n",
       "    <tr>\n",
       "      <th>3</th>\n",
       "      <td>True</td>\n",
       "      <td>True</td>\n",
       "      <td>13.004505</td>\n",
       "    </tr>\n",
       "    <tr>\n",
       "      <th>4</th>\n",
       "      <td>True</td>\n",
       "      <td>True</td>\n",
       "      <td>13.701128</td>\n",
       "    </tr>\n",
       "    <tr>\n",
       "      <th>...</th>\n",
       "      <td>...</td>\n",
       "      <td>...</td>\n",
       "      <td>...</td>\n",
       "    </tr>\n",
       "    <tr>\n",
       "      <th>9995</th>\n",
       "      <td>True</td>\n",
       "      <td>False</td>\n",
       "      <td>1.558841</td>\n",
       "    </tr>\n",
       "    <tr>\n",
       "      <th>9996</th>\n",
       "      <td>False</td>\n",
       "      <td>False</td>\n",
       "      <td>-0.217816</td>\n",
       "    </tr>\n",
       "    <tr>\n",
       "      <th>9997</th>\n",
       "      <td>False</td>\n",
       "      <td>True</td>\n",
       "      <td>4.072701</td>\n",
       "    </tr>\n",
       "    <tr>\n",
       "      <th>9998</th>\n",
       "      <td>True</td>\n",
       "      <td>False</td>\n",
       "      <td>-0.253796</td>\n",
       "    </tr>\n",
       "    <tr>\n",
       "      <th>9999</th>\n",
       "      <td>False</td>\n",
       "      <td>False</td>\n",
       "      <td>-1.399092</td>\n",
       "    </tr>\n",
       "  </tbody>\n",
       "</table>\n",
       "<p>10000 rows × 3 columns</p>\n",
       "</div>"
      ],
      "text/plain": [
       "      Supplement  Exercise  Weight_Loss\n",
       "0          False     False    -0.877103\n",
       "1           True     False     1.604542\n",
       "2           True      True    13.824148\n",
       "3           True      True    13.004505\n",
       "4           True      True    13.701128\n",
       "...          ...       ...          ...\n",
       "9995        True     False     1.558841\n",
       "9996       False     False    -0.217816\n",
       "9997       False      True     4.072701\n",
       "9998        True     False    -0.253796\n",
       "9999       False     False    -1.399092\n",
       "\n",
       "[10000 rows x 3 columns]"
      ]
     },
     "execution_count": 4,
     "metadata": {},
     "output_type": "execute_result"
    }
   ],
   "source": [
    "df_train"
   ]
  },
  {
   "cell_type": "code",
   "execution_count": 5,
   "id": "5dff8ead-e270-4c83-8429-3ca06296f184",
   "metadata": {
    "tags": []
   },
   "outputs": [
    {
     "data": {
      "text/html": [
       "<div>\n",
       "<style scoped>\n",
       "    .dataframe tbody tr th:only-of-type {\n",
       "        vertical-align: middle;\n",
       "    }\n",
       "\n",
       "    .dataframe tbody tr th {\n",
       "        vertical-align: top;\n",
       "    }\n",
       "\n",
       "    .dataframe thead th {\n",
       "        text-align: right;\n",
       "    }\n",
       "</style>\n",
       "<table border=\"1\" class=\"dataframe\">\n",
       "  <thead>\n",
       "    <tr style=\"text-align: right;\">\n",
       "      <th>Exercise</th>\n",
       "      <th>False</th>\n",
       "      <th>True</th>\n",
       "    </tr>\n",
       "    <tr>\n",
       "      <th>Supplement</th>\n",
       "      <th></th>\n",
       "      <th></th>\n",
       "    </tr>\n",
       "  </thead>\n",
       "  <tbody>\n",
       "    <tr>\n",
       "      <th>False</th>\n",
       "      <td>0.021673</td>\n",
       "      <td>4.991314</td>\n",
       "    </tr>\n",
       "    <tr>\n",
       "      <th>True</th>\n",
       "      <td>0.497573</td>\n",
       "      <td>14.966363</td>\n",
       "    </tr>\n",
       "  </tbody>\n",
       "</table>\n",
       "</div>"
      ],
      "text/plain": [
       "Exercise       False      True \n",
       "Supplement                     \n",
       "False       0.021673   4.991314\n",
       "True        0.497573  14.966363"
      ]
     },
     "execution_count": 5,
     "metadata": {},
     "output_type": "execute_result"
    }
   ],
   "source": [
    "df_train.pivot_table(index='Supplement',columns='Exercise',values='Weight_Loss')"
   ]
  },
  {
   "cell_type": "markdown",
   "id": "eb85675a-d1aa-41dc-868d-f50693896ad0",
   "metadata": {},
   "source": [
    "`-` 운동과 체중감량보조제를 병행하면 시너지가 나는 것 같음 "
   ]
  },
  {
   "cell_type": "markdown",
   "id": "e22cdfa2-59f4-4a71-98c7-a3cd848e985b",
   "metadata": {},
   "source": [
    "- 운동만 하면 --> 5kg빠짐\n",
    "- 약만 먹으면 -->  0.5정도 빠짐\n",
    "- 운동 + 약 --> 15kg정도 빠짐"
   ]
  },
  {
   "cell_type": "markdown",
   "id": "83cb8111-45f3-4567-b322-bfba8404213c",
   "metadata": {},
   "source": [
    "# 4. 분석"
   ]
  },
  {
   "cell_type": "markdown",
   "id": "20a20bcf-dae5-4ed0-bae4-0ed41dd86386",
   "metadata": {},
   "source": [
    "`-` 분석1: 모형을 아래와 같이 본다. -- 언더피팅\n",
    "\n",
    "- ${\\bf X}$: `Supplement`, `Exercise`\n",
    "- ${\\bf y}$: `Weight_Loss`"
   ]
  },
  {
   "cell_type": "code",
   "execution_count": 8,
   "id": "20f4811e-feaa-423d-a936-3de0e8df88fe",
   "metadata": {
    "tags": []
   },
   "outputs": [
    {
     "name": "stdout",
     "output_type": "stream",
     "text": [
      "train score = 0.8208\n"
     ]
    }
   ],
   "source": [
    "# step1\n",
    "X = df_train[['Supplement','Exercise']]\n",
    "y = df_train['Weight_Loss']\n",
    "# step2 \n",
    "predictr = sklearn.linear_model.LinearRegression()\n",
    "# step3\n",
    "predictr.fit(X,y)\n",
    "# step4 \n",
    "df_train['Weight_Loss_hat'] = predictr.predict(X)\n",
    "#---#\n",
    "print(f'train score = {predictr.score(X,y):.4f}')"
   ]
  },
  {
   "cell_type": "code",
   "execution_count": 10,
   "id": "53ed806b-20e6-4d05-a0f3-3f08efc38b53",
   "metadata": {
    "tags": []
   },
   "outputs": [
    {
     "data": {
      "text/html": [
       "<div>\n",
       "<style scoped>\n",
       "    .dataframe tbody tr th:only-of-type {\n",
       "        vertical-align: middle;\n",
       "    }\n",
       "\n",
       "    .dataframe tbody tr th {\n",
       "        vertical-align: top;\n",
       "    }\n",
       "\n",
       "    .dataframe thead th {\n",
       "        text-align: right;\n",
       "    }\n",
       "</style>\n",
       "<table border=\"1\" class=\"dataframe\">\n",
       "  <thead>\n",
       "    <tr style=\"text-align: right;\">\n",
       "      <th>Exercise</th>\n",
       "      <th>False</th>\n",
       "      <th>True</th>\n",
       "    </tr>\n",
       "    <tr>\n",
       "      <th>Supplement</th>\n",
       "      <th></th>\n",
       "      <th></th>\n",
       "    </tr>\n",
       "  </thead>\n",
       "  <tbody>\n",
       "    <tr>\n",
       "      <th>False</th>\n",
       "      <td>0.021673</td>\n",
       "      <td>4.991314</td>\n",
       "    </tr>\n",
       "    <tr>\n",
       "      <th>True</th>\n",
       "      <td>0.497573</td>\n",
       "      <td>14.966363</td>\n",
       "    </tr>\n",
       "  </tbody>\n",
       "</table>\n",
       "</div>"
      ],
      "text/plain": [
       "Exercise       False      True \n",
       "Supplement                     \n",
       "False       0.021673   4.991314\n",
       "True        0.497573  14.966363"
      ]
     },
     "execution_count": 10,
     "metadata": {},
     "output_type": "execute_result"
    }
   ],
   "source": [
    "df_train.pivot_table(index='Supplement',columns='Exercise',values='Weight_Loss')"
   ]
  },
  {
   "cell_type": "code",
   "execution_count": 11,
   "id": "5f4348bb-f3b3-4f4a-a973-f3b0b2e34efd",
   "metadata": {
    "tags": []
   },
   "outputs": [
    {
     "data": {
      "text/html": [
       "<div>\n",
       "<style scoped>\n",
       "    .dataframe tbody tr th:only-of-type {\n",
       "        vertical-align: middle;\n",
       "    }\n",
       "\n",
       "    .dataframe tbody tr th {\n",
       "        vertical-align: top;\n",
       "    }\n",
       "\n",
       "    .dataframe thead th {\n",
       "        text-align: right;\n",
       "    }\n",
       "</style>\n",
       "<table border=\"1\" class=\"dataframe\">\n",
       "  <thead>\n",
       "    <tr style=\"text-align: right;\">\n",
       "      <th>Exercise</th>\n",
       "      <th>False</th>\n",
       "      <th>True</th>\n",
       "    </tr>\n",
       "    <tr>\n",
       "      <th>Supplement</th>\n",
       "      <th></th>\n",
       "      <th></th>\n",
       "    </tr>\n",
       "  </thead>\n",
       "  <tbody>\n",
       "    <tr>\n",
       "      <th>False</th>\n",
       "      <td>-2.373106</td>\n",
       "      <td>7.374557</td>\n",
       "    </tr>\n",
       "    <tr>\n",
       "      <th>True</th>\n",
       "      <td>2.845934</td>\n",
       "      <td>12.593598</td>\n",
       "    </tr>\n",
       "  </tbody>\n",
       "</table>\n",
       "</div>"
      ],
      "text/plain": [
       "Exercise       False      True \n",
       "Supplement                     \n",
       "False      -2.373106   7.374557\n",
       "True        2.845934  12.593598"
      ]
     },
     "execution_count": 11,
     "metadata": {},
     "output_type": "execute_result"
    }
   ],
   "source": [
    "df_train.pivot_table(index='Supplement',columns='Exercise',values='Weight_Loss_hat')"
   ]
  },
  {
   "cell_type": "markdown",
   "id": "b7a51573-5dd8-41ba-b2f1-70e84e44383b",
   "metadata": {},
   "source": [
    "- 운동을 하면 10키로 감량효과가 있다고 추정하고 있음. \n",
    "- 보충제를 먹으면 5키로 감량효과가 있다고 추정하고 있음. \n",
    "- 대충 (10,5)의 숫자를 바꿔가면서 적합해봤는데 이게 최선이라는 의미임 "
   ]
  },
  {
   "cell_type": "code",
   "execution_count": 13,
   "id": "c753ae3a-e5b2-4cee-85c1-77f6a1302bda",
   "metadata": {},
   "outputs": [
    {
     "data": {
      "text/html": [
       "<div>\n",
       "<style scoped>\n",
       "    .dataframe tbody tr th:only-of-type {\n",
       "        vertical-align: middle;\n",
       "    }\n",
       "\n",
       "    .dataframe tbody tr th {\n",
       "        vertical-align: top;\n",
       "    }\n",
       "\n",
       "    .dataframe thead th {\n",
       "        text-align: right;\n",
       "    }\n",
       "</style>\n",
       "<table border=\"1\" class=\"dataframe\">\n",
       "  <thead>\n",
       "    <tr style=\"text-align: right;\">\n",
       "      <th></th>\n",
       "      <th>Supplement</th>\n",
       "      <th>Exercise</th>\n",
       "      <th>Weight_Loss</th>\n",
       "      <th>Weight_Loss_hat</th>\n",
       "    </tr>\n",
       "  </thead>\n",
       "  <tbody>\n",
       "    <tr>\n",
       "      <th>0</th>\n",
       "      <td>False</td>\n",
       "      <td>False</td>\n",
       "      <td>-0.877103</td>\n",
       "      <td>-2.373106</td>\n",
       "    </tr>\n",
       "    <tr>\n",
       "      <th>1</th>\n",
       "      <td>True</td>\n",
       "      <td>False</td>\n",
       "      <td>1.604542</td>\n",
       "      <td>2.845934</td>\n",
       "    </tr>\n",
       "    <tr>\n",
       "      <th>2</th>\n",
       "      <td>True</td>\n",
       "      <td>True</td>\n",
       "      <td>13.824148</td>\n",
       "      <td>12.593598</td>\n",
       "    </tr>\n",
       "    <tr>\n",
       "      <th>3</th>\n",
       "      <td>True</td>\n",
       "      <td>True</td>\n",
       "      <td>13.004505</td>\n",
       "      <td>12.593598</td>\n",
       "    </tr>\n",
       "    <tr>\n",
       "      <th>4</th>\n",
       "      <td>True</td>\n",
       "      <td>True</td>\n",
       "      <td>13.701128</td>\n",
       "      <td>12.593598</td>\n",
       "    </tr>\n",
       "  </tbody>\n",
       "</table>\n",
       "</div>"
      ],
      "text/plain": [
       "   Supplement  Exercise  Weight_Loss  Weight_Loss_hat\n",
       "0       False     False    -0.877103        -2.373106\n",
       "1        True     False     1.604542         2.845934\n",
       "2        True      True    13.824148        12.593598\n",
       "3        True      True    13.004505        12.593598\n",
       "4        True      True    13.701128        12.593598"
      ]
     },
     "execution_count": 13,
     "metadata": {},
     "output_type": "execute_result"
    }
   ],
   "source": [
    "df_train.head()"
   ]
  },
  {
   "cell_type": "markdown",
   "id": "2e749935-37ca-43ef-b604-df36f58f0e49",
   "metadata": {},
   "source": [
    "`-` 추가효과가 있는지 조사."
   ]
  },
  {
   "cell_type": "markdown",
   "id": "5168a879-6fbd-430a-9c48-9733bca57d30",
   "metadata": {},
   "source": [
    "|index|약의효과|운동의효과|추가효과|\n",
    "|:-----:|:----------:|:-------:|:--------:|\n",
    "|$0$|$0$|$0$|$0$|\n",
    "|$1$|$1$|$0$|$0$|\n",
    "|$2$|$1$|$1$|$1$|\n",
    "|$3$|$1$|$1$|$1$|"
   ]
  },
  {
   "cell_type": "markdown",
   "id": "dcf7cff5-f782-46ca-9ace-1cc55fb26368",
   "metadata": {},
   "source": [
    "`-` 분석2: 모형을 아래와 같이 본다. -- 딱 맞아요"
   ]
  },
  {
   "cell_type": "markdown",
   "id": "654d7829-5dec-4cc4-8a21-410f30d21d1c",
   "metadata": {},
   "source": [
    "- ${\\bf X}$: `Supplement`, `Exercise`, `Supplement` $\\times$ `Exercise`\n",
    "- ${\\bf y}$: `Weight_Loss`"
   ]
  },
  {
   "cell_type": "markdown",
   "id": "5b1d8fe2-eafa-4009-851f-efe891aeb4a6",
   "metadata": {},
   "source": [
    "> Note: 기본적인 운동의 효과 및 보조제의 효과는 각각 `Supplement`, `Exercise` 로 적합하고 운동과 보조제의 시너지는 `Supplement`$\\times$`Exercise` 로 적합한다. "
   ]
  },
  {
   "cell_type": "code",
   "execution_count": 14,
   "id": "05bd377e-7ff4-4069-8993-2b667e12b157",
   "metadata": {
    "tags": []
   },
   "outputs": [
    {
     "name": "stdout",
     "output_type": "stream",
     "text": [
      "train score = 0.9728\n"
     ]
    }
   ],
   "source": [
    "# step1 \n",
    "X = df_train.eval('Interaction = Supplement * Exercise')[['Supplement','Exercise','Interaction']]\n",
    "y = df_train['Weight_Loss']\n",
    "# step2 \n",
    "predictr = sklearn.linear_model.LinearRegression()\n",
    "# step3 \n",
    "predictr.fit(X,y)\n",
    "# step4 -- pass \n",
    "df_train['Weight_Loss_hat'] = predictr.predict(X)\n",
    "#---#\n",
    "print(f'train score = {predictr.score(X,y):.4f}')"
   ]
  },
  {
   "cell_type": "code",
   "execution_count": 19,
   "id": "82465f9c-db32-434a-9007-f2f3ade98c8c",
   "metadata": {
    "tags": []
   },
   "outputs": [
    {
     "data": {
      "text/html": [
       "<div>\n",
       "<style scoped>\n",
       "    .dataframe tbody tr th:only-of-type {\n",
       "        vertical-align: middle;\n",
       "    }\n",
       "\n",
       "    .dataframe tbody tr th {\n",
       "        vertical-align: top;\n",
       "    }\n",
       "\n",
       "    .dataframe thead th {\n",
       "        text-align: right;\n",
       "    }\n",
       "</style>\n",
       "<table border=\"1\" class=\"dataframe\">\n",
       "  <thead>\n",
       "    <tr style=\"text-align: right;\">\n",
       "      <th>Exercise</th>\n",
       "      <th>False</th>\n",
       "      <th>True</th>\n",
       "    </tr>\n",
       "    <tr>\n",
       "      <th>Supplement</th>\n",
       "      <th></th>\n",
       "      <th></th>\n",
       "    </tr>\n",
       "  </thead>\n",
       "  <tbody>\n",
       "    <tr>\n",
       "      <th>False</th>\n",
       "      <td>0.021673</td>\n",
       "      <td>4.991314</td>\n",
       "    </tr>\n",
       "    <tr>\n",
       "      <th>True</th>\n",
       "      <td>0.497573</td>\n",
       "      <td>14.966363</td>\n",
       "    </tr>\n",
       "  </tbody>\n",
       "</table>\n",
       "</div>"
      ],
      "text/plain": [
       "Exercise       False      True \n",
       "Supplement                     \n",
       "False       0.021673   4.991314\n",
       "True        0.497573  14.966363"
      ]
     },
     "execution_count": 19,
     "metadata": {},
     "output_type": "execute_result"
    }
   ],
   "source": [
    "df_train.pivot_table(index='Supplement',columns='Exercise',values='Weight_Loss')"
   ]
  },
  {
   "cell_type": "code",
   "execution_count": 20,
   "id": "4f5b54bf-356e-45e2-947e-0154c95a5007",
   "metadata": {
    "tags": []
   },
   "outputs": [
    {
     "data": {
      "text/html": [
       "<div>\n",
       "<style scoped>\n",
       "    .dataframe tbody tr th:only-of-type {\n",
       "        vertical-align: middle;\n",
       "    }\n",
       "\n",
       "    .dataframe tbody tr th {\n",
       "        vertical-align: top;\n",
       "    }\n",
       "\n",
       "    .dataframe thead th {\n",
       "        text-align: right;\n",
       "    }\n",
       "</style>\n",
       "<table border=\"1\" class=\"dataframe\">\n",
       "  <thead>\n",
       "    <tr style=\"text-align: right;\">\n",
       "      <th>Exercise</th>\n",
       "      <th>False</th>\n",
       "      <th>True</th>\n",
       "    </tr>\n",
       "    <tr>\n",
       "      <th>Supplement</th>\n",
       "      <th></th>\n",
       "      <th></th>\n",
       "    </tr>\n",
       "  </thead>\n",
       "  <tbody>\n",
       "    <tr>\n",
       "      <th>False</th>\n",
       "      <td>0.021673</td>\n",
       "      <td>4.991314</td>\n",
       "    </tr>\n",
       "    <tr>\n",
       "      <th>True</th>\n",
       "      <td>0.497573</td>\n",
       "      <td>14.966363</td>\n",
       "    </tr>\n",
       "  </tbody>\n",
       "</table>\n",
       "</div>"
      ],
      "text/plain": [
       "Exercise       False      True \n",
       "Supplement                     \n",
       "False       0.021673   4.991314\n",
       "True        0.497573  14.966363"
      ]
     },
     "execution_count": 20,
     "metadata": {},
     "output_type": "execute_result"
    }
   ],
   "source": [
    "df_train.pivot_table(index='Supplement',columns='Exercise',values='Weight_Loss_hat')"
   ]
  },
  {
   "cell_type": "markdown",
   "id": "d0ac760e-062f-4b8c-abfb-60da895d8835",
   "metadata": {},
   "source": [
    "- 운동의 효과는 5정도 감량효과가 있다고 추정함. \n",
    "- 보충제를 먹으면 0.5키로 감량효과가 있다고 추정함.\n",
    "- 다만 운동을 하면서 보충제를 함께 먹을 경우 발생하는 추가적인 시너지효과가 9.5정도라고 추정하는 것임. "
   ]
  }
 ],
 "metadata": {
  "kernelspec": {
   "display_name": "Python 3 (ipykernel)",
   "language": "python",
   "name": "python3"
  },
  "language_info": {
   "codemirror_mode": {
    "name": "ipython",
    "version": 3
   },
   "file_extension": ".py",
   "mimetype": "text/x-python",
   "name": "python",
   "nbconvert_exporter": "python",
   "pygments_lexer": "ipython3",
   "version": "3.10.13"
  }
 },
 "nbformat": 4,
 "nbformat_minor": 5
}
