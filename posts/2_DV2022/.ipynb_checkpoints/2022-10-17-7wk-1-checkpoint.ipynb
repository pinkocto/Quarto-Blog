{
 "cells": [
  {
   "cell_type": "raw",
   "id": "055d4f23-20e5-4fa9-bb63-ce50232dc03e",
   "metadata": {},
   "source": [
    "---\n",
    "title: \"07wk-1 [Pandas] 새로운 열 할당, 아이스크림을 많이 먹으면 걸리는 병(1)\"\n",
    "author: \"JiyunLim\"\n",
    "date: \"04/02/2022\"\n",
    "categories:\n",
    "  - pandas\n",
    "  - 통계와 시각화\n",
    "  - 아이스크림을 많이 먹으면 걸리는 병\n",
    "---"
   ]
  },
  {
   "cell_type": "markdown",
   "id": "16cb12fd-640c-40fc-aa6c-7adc66b8dee1",
   "metadata": {},
   "source": [
    "# 7wk-1"
   ]
  },
  {
   "cell_type": "markdown",
   "id": "5b8df867-a826-4d91-8b74-5e973e0da735",
   "metadata": {
    "tags": []
   },
   "source": [
    "> 판다스-- 인덱싱(2), 판다스--새로운열의할당(1), 아이스크림을 많이 먹으면 걸리는 병(1) "
   ]
  },
  {
   "cell_type": "markdown",
   "id": "525e610d-1fcd-404c-9487-1897fb244612",
   "metadata": {},
   "source": [
    "# 강의영상 "
   ]
  },
  {
   "cell_type": "markdown",
   "id": "37c1e353-6ba8-4998-903e-babfff97bbb1",
   "metadata": {},
   "source": [
    "<https://youtube.com/playlist?list=PLQqh36zP38-yjgL4NsZ1NVQm_xXrrZzBA>"
   ]
  },
  {
   "cell_type": "markdown",
   "id": "3c3601b0-9fce-4076-9256-b4fe71ed74fb",
   "metadata": {},
   "source": [
    "# imports"
   ]
  },
  {
   "cell_type": "code",
   "execution_count": 1,
   "id": "bced11ae-41b1-4149-816f-cb2b443b50b6",
   "metadata": {},
   "outputs": [],
   "source": [
    "import numpy as np\n",
    "import pandas as pd\n",
    "import matplotlib.pyplot as plt "
   ]
  },
  {
   "cell_type": "markdown",
   "id": "09ff60b8-37c7-4879-ab73-8961b1266d4f",
   "metadata": {},
   "source": [
    "# 판다스: 인덱싱 3단계-- column의 선택 (with 실전예제)"
   ]
  },
  {
   "cell_type": "markdown",
   "id": "d31204ba-b7bf-4e68-a75a-34ca498da86f",
   "metadata": {},
   "source": [
    "`-` 지금까지 정리 "
   ]
  },
  {
   "cell_type": "markdown",
   "id": "a698097b-157e-451e-820f-37537218e55e",
   "metadata": {},
   "source": [
    "||`.`| `[]` | `.iloc` | `.loc`| \n",
    "|:-:|:-:|:-:|:-:|:-:|\n",
    "|row/단일레이블|X|X|O|O|\n",
    "|col/단일레이블|O|O|O|O|\n",
    "|row/레이블리스트|X|X|O|O|\n",
    "|col/레이블리스트|X|O|O|O|\n",
    "|row/슬라이싱|X|O|O|O|\n",
    "|col/슬라이싱|X|X|O|O|\n",
    "|row/bool,list|X|O|O|O|\n",
    "|row/bool,ser|X|O|X|O|\n",
    "|row/bool,map|X|X|O|O|\n",
    "|col/bool,list|X|?|?|?|\n",
    "|col/bool,ser|X|?|?|?|\n",
    "|col/bool,map|X|?|?|?|"
   ]
  },
  {
   "cell_type": "markdown",
   "id": "740fc4b2-a8d9-4d30-84ca-b2006ecb8c83",
   "metadata": {},
   "source": [
    "`-` 채워보세요 (숙제입니다) --> 그냥 제가 채웠어요"
   ]
  },
  {
   "cell_type": "markdown",
   "id": "29e82f9e-800e-4fa8-b3d1-25777080203b",
   "metadata": {},
   "source": [
    "||`.`| `[]` | `.iloc` | `.loc`|commnets|\n",
    "|:-:|:-:|:-:|:-:|:-:|:-:|\n",
    "|row/단일레이블|X|X|O|O||\n",
    "|col/단일레이블|O|O|O|O||\n",
    "|row/레이블리스트|X|X|O|O||\n",
    "|col/레이블리스트|X|O|O|O||\n",
    "|row/슬라이싱|X|O|O|O||\n",
    "|col/슬라이싱|X|X|O|O||\n",
    "|row/bool,list|X|O|O|O||\n",
    "|row/bool,ser|X|O|X|O||\n",
    "|row/bool,map|X|X|O|O||\n",
    "|col/bool,list|X|X|O|O||\n",
    "|col/bool,ser|X|X|X|X|쓸일이없음|\n",
    "|col/bool,map|X|X|O|O||"
   ]
  },
  {
   "cell_type": "markdown",
   "id": "dda93ca7-1a82-432e-a9a9-c936f9526f2c",
   "metadata": {},
   "source": [
    "## [데이터](https://github.com/PacktPublishing/Pandas-Cookbook)"
   ]
  },
  {
   "cell_type": "code",
   "execution_count": 3,
   "id": "ddaf5ca2-8ca8-4b89-b1d7-d98810791407",
   "metadata": {},
   "outputs": [
    {
     "data": {
      "text/html": [
       "<div>\n",
       "<style scoped>\n",
       "    .dataframe tbody tr th:only-of-type {\n",
       "        vertical-align: middle;\n",
       "    }\n",
       "\n",
       "    .dataframe tbody tr th {\n",
       "        vertical-align: top;\n",
       "    }\n",
       "\n",
       "    .dataframe thead th {\n",
       "        text-align: right;\n",
       "    }\n",
       "</style>\n",
       "<table border=\"1\" class=\"dataframe\">\n",
       "  <thead>\n",
       "    <tr style=\"text-align: right;\">\n",
       "      <th></th>\n",
       "      <th>color</th>\n",
       "      <th>director_name</th>\n",
       "      <th>num_critic_for_reviews</th>\n",
       "      <th>duration</th>\n",
       "      <th>director_facebook_likes</th>\n",
       "      <th>actor_3_facebook_likes</th>\n",
       "      <th>actor_2_name</th>\n",
       "      <th>actor_1_facebook_likes</th>\n",
       "      <th>gross</th>\n",
       "      <th>genres</th>\n",
       "      <th>...</th>\n",
       "      <th>num_user_for_reviews</th>\n",
       "      <th>language</th>\n",
       "      <th>country</th>\n",
       "      <th>content_rating</th>\n",
       "      <th>budget</th>\n",
       "      <th>title_year</th>\n",
       "      <th>actor_2_facebook_likes</th>\n",
       "      <th>imdb_score</th>\n",
       "      <th>aspect_ratio</th>\n",
       "      <th>movie_facebook_likes</th>\n",
       "    </tr>\n",
       "  </thead>\n",
       "  <tbody>\n",
       "    <tr>\n",
       "      <th>0</th>\n",
       "      <td>Color</td>\n",
       "      <td>James Cameron</td>\n",
       "      <td>723.0</td>\n",
       "      <td>178.0</td>\n",
       "      <td>0.0</td>\n",
       "      <td>855.0</td>\n",
       "      <td>Joel David Moore</td>\n",
       "      <td>1000.0</td>\n",
       "      <td>760505847.0</td>\n",
       "      <td>Action|Adventure|Fantasy|Sci-Fi</td>\n",
       "      <td>...</td>\n",
       "      <td>3054.0</td>\n",
       "      <td>English</td>\n",
       "      <td>USA</td>\n",
       "      <td>PG-13</td>\n",
       "      <td>237000000.0</td>\n",
       "      <td>2009.0</td>\n",
       "      <td>936.0</td>\n",
       "      <td>7.9</td>\n",
       "      <td>1.78</td>\n",
       "      <td>33000</td>\n",
       "    </tr>\n",
       "    <tr>\n",
       "      <th>1</th>\n",
       "      <td>Color</td>\n",
       "      <td>Gore Verbinski</td>\n",
       "      <td>302.0</td>\n",
       "      <td>169.0</td>\n",
       "      <td>563.0</td>\n",
       "      <td>1000.0</td>\n",
       "      <td>Orlando Bloom</td>\n",
       "      <td>40000.0</td>\n",
       "      <td>309404152.0</td>\n",
       "      <td>Action|Adventure|Fantasy</td>\n",
       "      <td>...</td>\n",
       "      <td>1238.0</td>\n",
       "      <td>English</td>\n",
       "      <td>USA</td>\n",
       "      <td>PG-13</td>\n",
       "      <td>300000000.0</td>\n",
       "      <td>2007.0</td>\n",
       "      <td>5000.0</td>\n",
       "      <td>7.1</td>\n",
       "      <td>2.35</td>\n",
       "      <td>0</td>\n",
       "    </tr>\n",
       "    <tr>\n",
       "      <th>2</th>\n",
       "      <td>Color</td>\n",
       "      <td>Sam Mendes</td>\n",
       "      <td>602.0</td>\n",
       "      <td>148.0</td>\n",
       "      <td>0.0</td>\n",
       "      <td>161.0</td>\n",
       "      <td>Rory Kinnear</td>\n",
       "      <td>11000.0</td>\n",
       "      <td>200074175.0</td>\n",
       "      <td>Action|Adventure|Thriller</td>\n",
       "      <td>...</td>\n",
       "      <td>994.0</td>\n",
       "      <td>English</td>\n",
       "      <td>UK</td>\n",
       "      <td>PG-13</td>\n",
       "      <td>245000000.0</td>\n",
       "      <td>2015.0</td>\n",
       "      <td>393.0</td>\n",
       "      <td>6.8</td>\n",
       "      <td>2.35</td>\n",
       "      <td>85000</td>\n",
       "    </tr>\n",
       "    <tr>\n",
       "      <th>3</th>\n",
       "      <td>Color</td>\n",
       "      <td>Christopher Nolan</td>\n",
       "      <td>813.0</td>\n",
       "      <td>164.0</td>\n",
       "      <td>22000.0</td>\n",
       "      <td>23000.0</td>\n",
       "      <td>Christian Bale</td>\n",
       "      <td>27000.0</td>\n",
       "      <td>448130642.0</td>\n",
       "      <td>Action|Thriller</td>\n",
       "      <td>...</td>\n",
       "      <td>2701.0</td>\n",
       "      <td>English</td>\n",
       "      <td>USA</td>\n",
       "      <td>PG-13</td>\n",
       "      <td>250000000.0</td>\n",
       "      <td>2012.0</td>\n",
       "      <td>23000.0</td>\n",
       "      <td>8.5</td>\n",
       "      <td>2.35</td>\n",
       "      <td>164000</td>\n",
       "    </tr>\n",
       "    <tr>\n",
       "      <th>4</th>\n",
       "      <td>NaN</td>\n",
       "      <td>Doug Walker</td>\n",
       "      <td>NaN</td>\n",
       "      <td>NaN</td>\n",
       "      <td>131.0</td>\n",
       "      <td>NaN</td>\n",
       "      <td>Rob Walker</td>\n",
       "      <td>131.0</td>\n",
       "      <td>NaN</td>\n",
       "      <td>Documentary</td>\n",
       "      <td>...</td>\n",
       "      <td>NaN</td>\n",
       "      <td>NaN</td>\n",
       "      <td>NaN</td>\n",
       "      <td>NaN</td>\n",
       "      <td>NaN</td>\n",
       "      <td>NaN</td>\n",
       "      <td>12.0</td>\n",
       "      <td>7.1</td>\n",
       "      <td>NaN</td>\n",
       "      <td>0</td>\n",
       "    </tr>\n",
       "    <tr>\n",
       "      <th>...</th>\n",
       "      <td>...</td>\n",
       "      <td>...</td>\n",
       "      <td>...</td>\n",
       "      <td>...</td>\n",
       "      <td>...</td>\n",
       "      <td>...</td>\n",
       "      <td>...</td>\n",
       "      <td>...</td>\n",
       "      <td>...</td>\n",
       "      <td>...</td>\n",
       "      <td>...</td>\n",
       "      <td>...</td>\n",
       "      <td>...</td>\n",
       "      <td>...</td>\n",
       "      <td>...</td>\n",
       "      <td>...</td>\n",
       "      <td>...</td>\n",
       "      <td>...</td>\n",
       "      <td>...</td>\n",
       "      <td>...</td>\n",
       "      <td>...</td>\n",
       "    </tr>\n",
       "    <tr>\n",
       "      <th>4911</th>\n",
       "      <td>Color</td>\n",
       "      <td>Scott Smith</td>\n",
       "      <td>1.0</td>\n",
       "      <td>87.0</td>\n",
       "      <td>2.0</td>\n",
       "      <td>318.0</td>\n",
       "      <td>Daphne Zuniga</td>\n",
       "      <td>637.0</td>\n",
       "      <td>NaN</td>\n",
       "      <td>Comedy|Drama</td>\n",
       "      <td>...</td>\n",
       "      <td>6.0</td>\n",
       "      <td>English</td>\n",
       "      <td>Canada</td>\n",
       "      <td>NaN</td>\n",
       "      <td>NaN</td>\n",
       "      <td>2013.0</td>\n",
       "      <td>470.0</td>\n",
       "      <td>7.7</td>\n",
       "      <td>NaN</td>\n",
       "      <td>84</td>\n",
       "    </tr>\n",
       "    <tr>\n",
       "      <th>4912</th>\n",
       "      <td>Color</td>\n",
       "      <td>NaN</td>\n",
       "      <td>43.0</td>\n",
       "      <td>43.0</td>\n",
       "      <td>NaN</td>\n",
       "      <td>319.0</td>\n",
       "      <td>Valorie Curry</td>\n",
       "      <td>841.0</td>\n",
       "      <td>NaN</td>\n",
       "      <td>Crime|Drama|Mystery|Thriller</td>\n",
       "      <td>...</td>\n",
       "      <td>359.0</td>\n",
       "      <td>English</td>\n",
       "      <td>USA</td>\n",
       "      <td>TV-14</td>\n",
       "      <td>NaN</td>\n",
       "      <td>NaN</td>\n",
       "      <td>593.0</td>\n",
       "      <td>7.5</td>\n",
       "      <td>16.00</td>\n",
       "      <td>32000</td>\n",
       "    </tr>\n",
       "    <tr>\n",
       "      <th>4913</th>\n",
       "      <td>Color</td>\n",
       "      <td>Benjamin Roberds</td>\n",
       "      <td>13.0</td>\n",
       "      <td>76.0</td>\n",
       "      <td>0.0</td>\n",
       "      <td>0.0</td>\n",
       "      <td>Maxwell Moody</td>\n",
       "      <td>0.0</td>\n",
       "      <td>NaN</td>\n",
       "      <td>Drama|Horror|Thriller</td>\n",
       "      <td>...</td>\n",
       "      <td>3.0</td>\n",
       "      <td>English</td>\n",
       "      <td>USA</td>\n",
       "      <td>NaN</td>\n",
       "      <td>1400.0</td>\n",
       "      <td>2013.0</td>\n",
       "      <td>0.0</td>\n",
       "      <td>6.3</td>\n",
       "      <td>NaN</td>\n",
       "      <td>16</td>\n",
       "    </tr>\n",
       "    <tr>\n",
       "      <th>4914</th>\n",
       "      <td>Color</td>\n",
       "      <td>Daniel Hsia</td>\n",
       "      <td>14.0</td>\n",
       "      <td>100.0</td>\n",
       "      <td>0.0</td>\n",
       "      <td>489.0</td>\n",
       "      <td>Daniel Henney</td>\n",
       "      <td>946.0</td>\n",
       "      <td>10443.0</td>\n",
       "      <td>Comedy|Drama|Romance</td>\n",
       "      <td>...</td>\n",
       "      <td>9.0</td>\n",
       "      <td>English</td>\n",
       "      <td>USA</td>\n",
       "      <td>PG-13</td>\n",
       "      <td>NaN</td>\n",
       "      <td>2012.0</td>\n",
       "      <td>719.0</td>\n",
       "      <td>6.3</td>\n",
       "      <td>2.35</td>\n",
       "      <td>660</td>\n",
       "    </tr>\n",
       "    <tr>\n",
       "      <th>4915</th>\n",
       "      <td>Color</td>\n",
       "      <td>Jon Gunn</td>\n",
       "      <td>43.0</td>\n",
       "      <td>90.0</td>\n",
       "      <td>16.0</td>\n",
       "      <td>16.0</td>\n",
       "      <td>Brian Herzlinger</td>\n",
       "      <td>86.0</td>\n",
       "      <td>85222.0</td>\n",
       "      <td>Documentary</td>\n",
       "      <td>...</td>\n",
       "      <td>84.0</td>\n",
       "      <td>English</td>\n",
       "      <td>USA</td>\n",
       "      <td>PG</td>\n",
       "      <td>1100.0</td>\n",
       "      <td>2004.0</td>\n",
       "      <td>23.0</td>\n",
       "      <td>6.6</td>\n",
       "      <td>1.85</td>\n",
       "      <td>456</td>\n",
       "    </tr>\n",
       "  </tbody>\n",
       "</table>\n",
       "<p>4916 rows × 28 columns</p>\n",
       "</div>"
      ],
      "text/plain": [
       "      color      director_name  num_critic_for_reviews  duration  \\\n",
       "0     Color      James Cameron                   723.0     178.0   \n",
       "1     Color     Gore Verbinski                   302.0     169.0   \n",
       "2     Color         Sam Mendes                   602.0     148.0   \n",
       "3     Color  Christopher Nolan                   813.0     164.0   \n",
       "4       NaN        Doug Walker                     NaN       NaN   \n",
       "...     ...                ...                     ...       ...   \n",
       "4911  Color        Scott Smith                     1.0      87.0   \n",
       "4912  Color                NaN                    43.0      43.0   \n",
       "4913  Color   Benjamin Roberds                    13.0      76.0   \n",
       "4914  Color        Daniel Hsia                    14.0     100.0   \n",
       "4915  Color           Jon Gunn                    43.0      90.0   \n",
       "\n",
       "      director_facebook_likes  actor_3_facebook_likes      actor_2_name  \\\n",
       "0                         0.0                   855.0  Joel David Moore   \n",
       "1                       563.0                  1000.0     Orlando Bloom   \n",
       "2                         0.0                   161.0      Rory Kinnear   \n",
       "3                     22000.0                 23000.0    Christian Bale   \n",
       "4                       131.0                     NaN        Rob Walker   \n",
       "...                       ...                     ...               ...   \n",
       "4911                      2.0                   318.0     Daphne Zuniga   \n",
       "4912                      NaN                   319.0     Valorie Curry   \n",
       "4913                      0.0                     0.0     Maxwell Moody   \n",
       "4914                      0.0                   489.0     Daniel Henney   \n",
       "4915                     16.0                    16.0  Brian Herzlinger   \n",
       "\n",
       "      actor_1_facebook_likes        gross                           genres  \\\n",
       "0                     1000.0  760505847.0  Action|Adventure|Fantasy|Sci-Fi   \n",
       "1                    40000.0  309404152.0         Action|Adventure|Fantasy   \n",
       "2                    11000.0  200074175.0        Action|Adventure|Thriller   \n",
       "3                    27000.0  448130642.0                  Action|Thriller   \n",
       "4                      131.0          NaN                      Documentary   \n",
       "...                      ...          ...                              ...   \n",
       "4911                   637.0          NaN                     Comedy|Drama   \n",
       "4912                   841.0          NaN     Crime|Drama|Mystery|Thriller   \n",
       "4913                     0.0          NaN            Drama|Horror|Thriller   \n",
       "4914                   946.0      10443.0             Comedy|Drama|Romance   \n",
       "4915                    86.0      85222.0                      Documentary   \n",
       "\n",
       "      ... num_user_for_reviews language  country  content_rating       budget  \\\n",
       "0     ...               3054.0  English      USA           PG-13  237000000.0   \n",
       "1     ...               1238.0  English      USA           PG-13  300000000.0   \n",
       "2     ...                994.0  English       UK           PG-13  245000000.0   \n",
       "3     ...               2701.0  English      USA           PG-13  250000000.0   \n",
       "4     ...                  NaN      NaN      NaN             NaN          NaN   \n",
       "...   ...                  ...      ...      ...             ...          ...   \n",
       "4911  ...                  6.0  English   Canada             NaN          NaN   \n",
       "4912  ...                359.0  English      USA           TV-14          NaN   \n",
       "4913  ...                  3.0  English      USA             NaN       1400.0   \n",
       "4914  ...                  9.0  English      USA           PG-13          NaN   \n",
       "4915  ...                 84.0  English      USA              PG       1100.0   \n",
       "\n",
       "      title_year actor_2_facebook_likes imdb_score  aspect_ratio  \\\n",
       "0         2009.0                  936.0        7.9          1.78   \n",
       "1         2007.0                 5000.0        7.1          2.35   \n",
       "2         2015.0                  393.0        6.8          2.35   \n",
       "3         2012.0                23000.0        8.5          2.35   \n",
       "4            NaN                   12.0        7.1           NaN   \n",
       "...          ...                    ...        ...           ...   \n",
       "4911      2013.0                  470.0        7.7           NaN   \n",
       "4912         NaN                  593.0        7.5         16.00   \n",
       "4913      2013.0                    0.0        6.3           NaN   \n",
       "4914      2012.0                  719.0        6.3          2.35   \n",
       "4915      2004.0                   23.0        6.6          1.85   \n",
       "\n",
       "     movie_facebook_likes  \n",
       "0                   33000  \n",
       "1                       0  \n",
       "2                   85000  \n",
       "3                  164000  \n",
       "4                       0  \n",
       "...                   ...  \n",
       "4911                   84  \n",
       "4912                32000  \n",
       "4913                   16  \n",
       "4914                  660  \n",
       "4915                  456  \n",
       "\n",
       "[4916 rows x 28 columns]"
      ]
     },
     "execution_count": 3,
     "metadata": {},
     "output_type": "execute_result"
    }
   ],
   "source": [
    "df=pd.read_csv('https://raw.githubusercontent.com/PacktPublishing/Pandas-Cookbook/master/data/movie.csv')\n",
    "df"
   ]
  },
  {
   "cell_type": "markdown",
   "id": "e8e710c2-317d-4f2e-af14-d0405acbd99d",
   "metadata": {},
   "source": [
    "`-` 열의 이름을 출력하여 보자. "
   ]
  },
  {
   "cell_type": "code",
   "execution_count": 4,
   "id": "b256efea-c83f-45ad-8abb-c0364ea91d01",
   "metadata": {},
   "outputs": [
    {
     "data": {
      "text/plain": [
       "Index(['color', 'director_name', 'num_critic_for_reviews', 'duration',\n",
       "       'director_facebook_likes', 'actor_3_facebook_likes', 'actor_2_name',\n",
       "       'actor_1_facebook_likes', 'gross', 'genres', 'actor_1_name',\n",
       "       'movie_title', 'num_voted_users', 'cast_total_facebook_likes',\n",
       "       'actor_3_name', 'facenumber_in_poster', 'plot_keywords',\n",
       "       'movie_imdb_link', 'num_user_for_reviews', 'language', 'country',\n",
       "       'content_rating', 'budget', 'title_year', 'actor_2_facebook_likes',\n",
       "       'imdb_score', 'aspect_ratio', 'movie_facebook_likes'],\n",
       "      dtype='object')"
      ]
     },
     "execution_count": 4,
     "metadata": {},
     "output_type": "execute_result"
    }
   ],
   "source": [
    "df.columns"
   ]
  },
  {
   "cell_type": "code",
   "execution_count": 6,
   "id": "ec1d8fc1-c390-49a1-8766-97f5b24d13b4",
   "metadata": {},
   "outputs": [
    {
     "data": {
      "text/plain": [
       "Index(['color', 'director_name', 'num_critic_for_reviews', 'duration',\n",
       "       'director_facebook_likes', 'actor_3_facebook_likes', 'actor_2_name',\n",
       "       'actor_1_facebook_likes', 'gross', 'genres', 'actor_1_name',\n",
       "       'movie_title', 'num_voted_users', 'cast_total_facebook_likes',\n",
       "       'actor_3_name', 'facenumber_in_poster', 'plot_keywords',\n",
       "       'movie_imdb_link', 'num_user_for_reviews', 'language', 'country',\n",
       "       'content_rating', 'budget', 'title_year', 'actor_2_facebook_likes',\n",
       "       'imdb_score', 'aspect_ratio', 'movie_facebook_likes'],\n",
       "      dtype='object')"
      ]
     },
     "execution_count": 6,
     "metadata": {},
     "output_type": "execute_result"
    }
   ],
   "source": [
    "df.keys()"
   ]
  },
  {
   "cell_type": "markdown",
   "id": "ed4f0031-0def-4f09-a124-ce8f3f9932da",
   "metadata": {},
   "source": [
    "## 기본인덱싱 (df 인덱싱공부 1단계 내용)"
   ]
  },
  {
   "cell_type": "markdown",
   "id": "561afd43-8f26-4a50-a99f-2f82167b83b5",
   "metadata": {},
   "source": [
    "`-` color ~ num_voted_user 를 뽑고 + aspect_ratio 도 추가적으로 뽑고싶다. -> loc으로는 못하겠어요.."
   ]
  },
  {
   "cell_type": "code",
   "execution_count": 7,
   "id": "a590168b-cd6a-4d69-a73e-9ca7ed4a7cda",
   "metadata": {},
   "outputs": [
    {
     "ename": "SyntaxError",
     "evalue": "invalid syntax (<ipython-input-7-0b4cb2e2977c>, line 1)",
     "output_type": "error",
     "traceback": [
      "\u001b[0;36m  Cell \u001b[0;32mIn[7], line 1\u001b[0;36m\u001b[0m\n\u001b[0;31m    df.loc[:,['color':'num_voted_users','aspect_ratio']]\u001b[0m\n\u001b[0m                     ^\u001b[0m\n\u001b[0;31mSyntaxError\u001b[0m\u001b[0;31m:\u001b[0m invalid syntax\n"
     ]
    }
   ],
   "source": [
    "df.loc[:,['color':'num_voted_users','aspect_ratio']] # 이건 안됨."
   ]
  },
  {
   "cell_type": "code",
   "execution_count": 10,
   "id": "f6e85cfc-e0d2-4be5-a3b0-cfa6eebc49f7",
   "metadata": {},
   "outputs": [
    {
     "data": {
      "text/html": [
       "<div>\n",
       "<style scoped>\n",
       "    .dataframe tbody tr th:only-of-type {\n",
       "        vertical-align: middle;\n",
       "    }\n",
       "\n",
       "    .dataframe tbody tr th {\n",
       "        vertical-align: top;\n",
       "    }\n",
       "\n",
       "    .dataframe thead th {\n",
       "        text-align: right;\n",
       "    }\n",
       "</style>\n",
       "<table border=\"1\" class=\"dataframe\">\n",
       "  <thead>\n",
       "    <tr style=\"text-align: right;\">\n",
       "      <th></th>\n",
       "      <th>color</th>\n",
       "      <th>director_name</th>\n",
       "      <th>num_critic_for_reviews</th>\n",
       "      <th>duration</th>\n",
       "      <th>director_facebook_likes</th>\n",
       "      <th>actor_3_facebook_likes</th>\n",
       "      <th>actor_2_name</th>\n",
       "      <th>actor_1_facebook_likes</th>\n",
       "      <th>gross</th>\n",
       "      <th>genres</th>\n",
       "      <th>actor_1_name</th>\n",
       "      <th>movie_title</th>\n",
       "      <th>num_voted_users</th>\n",
       "    </tr>\n",
       "  </thead>\n",
       "  <tbody>\n",
       "    <tr>\n",
       "      <th>0</th>\n",
       "      <td>Color</td>\n",
       "      <td>James Cameron</td>\n",
       "      <td>723.0</td>\n",
       "      <td>178.0</td>\n",
       "      <td>0.0</td>\n",
       "      <td>855.0</td>\n",
       "      <td>Joel David Moore</td>\n",
       "      <td>1000.0</td>\n",
       "      <td>760505847.0</td>\n",
       "      <td>Action|Adventure|Fantasy|Sci-Fi</td>\n",
       "      <td>CCH Pounder</td>\n",
       "      <td>Avatar</td>\n",
       "      <td>886204</td>\n",
       "    </tr>\n",
       "    <tr>\n",
       "      <th>1</th>\n",
       "      <td>Color</td>\n",
       "      <td>Gore Verbinski</td>\n",
       "      <td>302.0</td>\n",
       "      <td>169.0</td>\n",
       "      <td>563.0</td>\n",
       "      <td>1000.0</td>\n",
       "      <td>Orlando Bloom</td>\n",
       "      <td>40000.0</td>\n",
       "      <td>309404152.0</td>\n",
       "      <td>Action|Adventure|Fantasy</td>\n",
       "      <td>Johnny Depp</td>\n",
       "      <td>Pirates of the Caribbean: At World's End</td>\n",
       "      <td>471220</td>\n",
       "    </tr>\n",
       "  </tbody>\n",
       "</table>\n",
       "</div>"
      ],
      "text/plain": [
       "   color   director_name  num_critic_for_reviews  duration  \\\n",
       "0  Color   James Cameron                   723.0     178.0   \n",
       "1  Color  Gore Verbinski                   302.0     169.0   \n",
       "\n",
       "   director_facebook_likes  actor_3_facebook_likes      actor_2_name  \\\n",
       "0                      0.0                   855.0  Joel David Moore   \n",
       "1                    563.0                  1000.0     Orlando Bloom   \n",
       "\n",
       "   actor_1_facebook_likes        gross                           genres  \\\n",
       "0                  1000.0  760505847.0  Action|Adventure|Fantasy|Sci-Fi   \n",
       "1                 40000.0  309404152.0         Action|Adventure|Fantasy   \n",
       "\n",
       "  actor_1_name                               movie_title  num_voted_users  \n",
       "0  CCH Pounder                                    Avatar           886204  \n",
       "1  Johnny Depp  Pirates of the Caribbean: At World's End           471220  "
      ]
     },
     "execution_count": 10,
     "metadata": {},
     "output_type": "execute_result"
    }
   ],
   "source": [
    "df.loc[:,'color':'num_voted_users'].head(2) # 이건 잘 됨."
   ]
  },
  {
   "cell_type": "markdown",
   "id": "6a523ca8-8f02-4a8f-bbed-44afcc0c5cd5",
   "metadata": {},
   "source": [
    "`-` ***(팁)*** 복잡한 조건은 iloc으로 쓰는게 편할때가 있다. $\\to$ 그런데 `df.columns` 변수들이 몇번인지 알아보기 힘듬 $\\to$ 아래와 같이 하면 열의 이름을 인덱스와 함께 출력할 수 있음 "
   ]
  },
  {
   "cell_type": "code",
   "execution_count": 18,
   "id": "19b9502b-b82f-49d8-961c-9bd8df5cc982",
   "metadata": {},
   "outputs": [
    {
     "data": {
      "text/plain": [
       "0                         color\n",
       "1                 director_name\n",
       "2        num_critic_for_reviews\n",
       "3                      duration\n",
       "4       director_facebook_likes\n",
       "5        actor_3_facebook_likes\n",
       "6                  actor_2_name\n",
       "7        actor_1_facebook_likes\n",
       "8                         gross\n",
       "9                        genres\n",
       "10                 actor_1_name\n",
       "11                  movie_title\n",
       "12              num_voted_users\n",
       "13    cast_total_facebook_likes\n",
       "14                 actor_3_name\n",
       "15         facenumber_in_poster\n",
       "16                plot_keywords\n",
       "17              movie_imdb_link\n",
       "18         num_user_for_reviews\n",
       "19                     language\n",
       "20                      country\n",
       "21               content_rating\n",
       "22                       budget\n",
       "23                   title_year\n",
       "24       actor_2_facebook_likes\n",
       "25                   imdb_score\n",
       "26                 aspect_ratio\n",
       "27         movie_facebook_likes\n",
       "dtype: object"
      ]
     },
     "execution_count": 18,
     "metadata": {},
     "output_type": "execute_result"
    }
   ],
   "source": [
    "pd.Series(df.columns) ## 제일 편함."
   ]
  },
  {
   "cell_type": "code",
   "execution_count": 12,
   "id": "20a5daa2-ec9e-4e24-baf9-552f0fd84933",
   "metadata": {},
   "outputs": [
    {
     "data": {
      "text/plain": [
       "[0, 1, 2, 3, 4, 5, 6, 7, 8, 9, 10, 11, 12, 26]"
      ]
     },
     "execution_count": 12,
     "metadata": {},
     "output_type": "execute_result"
    }
   ],
   "source": [
    "list(range(13))+[26]"
   ]
  },
  {
   "cell_type": "code",
   "execution_count": 17,
   "id": "7998a44e-2e06-4178-92b0-044a106fe0e0",
   "metadata": {},
   "outputs": [
    {
     "data": {
      "text/html": [
       "<div>\n",
       "<style scoped>\n",
       "    .dataframe tbody tr th:only-of-type {\n",
       "        vertical-align: middle;\n",
       "    }\n",
       "\n",
       "    .dataframe tbody tr th {\n",
       "        vertical-align: top;\n",
       "    }\n",
       "\n",
       "    .dataframe thead th {\n",
       "        text-align: right;\n",
       "    }\n",
       "</style>\n",
       "<table border=\"1\" class=\"dataframe\">\n",
       "  <thead>\n",
       "    <tr style=\"text-align: right;\">\n",
       "      <th></th>\n",
       "      <th>color</th>\n",
       "      <th>director_name</th>\n",
       "      <th>num_critic_for_reviews</th>\n",
       "      <th>duration</th>\n",
       "      <th>director_facebook_likes</th>\n",
       "      <th>actor_3_facebook_likes</th>\n",
       "      <th>actor_2_name</th>\n",
       "      <th>actor_1_facebook_likes</th>\n",
       "      <th>gross</th>\n",
       "      <th>genres</th>\n",
       "      <th>actor_1_name</th>\n",
       "      <th>movie_title</th>\n",
       "      <th>num_voted_users</th>\n",
       "      <th>aspect_ratio</th>\n",
       "    </tr>\n",
       "  </thead>\n",
       "  <tbody>\n",
       "    <tr>\n",
       "      <th>0</th>\n",
       "      <td>Color</td>\n",
       "      <td>James Cameron</td>\n",
       "      <td>723.0</td>\n",
       "      <td>178.0</td>\n",
       "      <td>0.0</td>\n",
       "      <td>855.0</td>\n",
       "      <td>Joel David Moore</td>\n",
       "      <td>1000.0</td>\n",
       "      <td>760505847.0</td>\n",
       "      <td>Action|Adventure|Fantasy|Sci-Fi</td>\n",
       "      <td>CCH Pounder</td>\n",
       "      <td>Avatar</td>\n",
       "      <td>886204</td>\n",
       "      <td>1.78</td>\n",
       "    </tr>\n",
       "    <tr>\n",
       "      <th>1</th>\n",
       "      <td>Color</td>\n",
       "      <td>Gore Verbinski</td>\n",
       "      <td>302.0</td>\n",
       "      <td>169.0</td>\n",
       "      <td>563.0</td>\n",
       "      <td>1000.0</td>\n",
       "      <td>Orlando Bloom</td>\n",
       "      <td>40000.0</td>\n",
       "      <td>309404152.0</td>\n",
       "      <td>Action|Adventure|Fantasy</td>\n",
       "      <td>Johnny Depp</td>\n",
       "      <td>Pirates of the Caribbean: At World's End</td>\n",
       "      <td>471220</td>\n",
       "      <td>2.35</td>\n",
       "    </tr>\n",
       "  </tbody>\n",
       "</table>\n",
       "</div>"
      ],
      "text/plain": [
       "   color   director_name  num_critic_for_reviews  duration  \\\n",
       "0  Color   James Cameron                   723.0     178.0   \n",
       "1  Color  Gore Verbinski                   302.0     169.0   \n",
       "\n",
       "   director_facebook_likes  actor_3_facebook_likes      actor_2_name  \\\n",
       "0                      0.0                   855.0  Joel David Moore   \n",
       "1                    563.0                  1000.0     Orlando Bloom   \n",
       "\n",
       "   actor_1_facebook_likes        gross                           genres  \\\n",
       "0                  1000.0  760505847.0  Action|Adventure|Fantasy|Sci-Fi   \n",
       "1                 40000.0  309404152.0         Action|Adventure|Fantasy   \n",
       "\n",
       "  actor_1_name                               movie_title  num_voted_users  \\\n",
       "0  CCH Pounder                                    Avatar           886204   \n",
       "1  Johnny Depp  Pirates of the Caribbean: At World's End           471220   \n",
       "\n",
       "   aspect_ratio  \n",
       "0          1.78  \n",
       "1          2.35  "
      ]
     },
     "execution_count": 17,
     "metadata": {},
     "output_type": "execute_result"
    }
   ],
   "source": [
    "df.iloc[:,list(range(13))+[26]].head(2)"
   ]
  },
  {
   "cell_type": "markdown",
   "id": "0db962b5-1638-41ea-b5b2-e2b77e36b1aa",
   "metadata": {
    "tags": []
   },
   "source": [
    "## actor라는 단어가 포함된 column 선택 "
   ]
  },
  {
   "cell_type": "markdown",
   "id": "8cdc7ea3-c57c-472e-9754-a416193352e3",
   "metadata": {},
   "source": [
    "`-` 다시 열의 이름들을 확인 "
   ]
  },
  {
   "cell_type": "code",
   "execution_count": 9,
   "id": "b840d0b5-a13d-43f8-8c18-190d3ebd5b1f",
   "metadata": {},
   "outputs": [
    {
     "data": {
      "text/plain": [
       "Index(['color', 'director_name', 'num_critic_for_reviews', 'duration',\n",
       "       'director_facebook_likes', 'actor_3_facebook_likes', 'actor_2_name',\n",
       "       'actor_1_facebook_likes', 'gross', 'genres', 'actor_1_name',\n",
       "       'movie_title', 'num_voted_users', 'cast_total_facebook_likes',\n",
       "       'actor_3_name', 'facenumber_in_poster', 'plot_keywords',\n",
       "       'movie_imdb_link', 'num_user_for_reviews', 'language', 'country',\n",
       "       'content_rating', 'budget', 'title_year', 'actor_2_facebook_likes',\n",
       "       'imdb_score', 'aspect_ratio', 'movie_facebook_likes'],\n",
       "      dtype='object')"
      ]
     },
     "execution_count": 9,
     "metadata": {},
     "output_type": "execute_result"
    }
   ],
   "source": [
    "df.columns"
   ]
  },
  {
   "cell_type": "markdown",
   "id": "7afc31fb-6d43-49c6-a23d-4ff67aa55358",
   "metadata": {},
   "source": [
    "### `-` 방법1"
   ]
  },
  {
   "cell_type": "code",
   "execution_count": 19,
   "id": "668af306-6a80-4ed2-a313-779fdd23de40",
   "metadata": {},
   "outputs": [
    {
     "data": {
      "text/plain": [
       "True"
      ]
     },
     "execution_count": 19,
     "metadata": {},
     "output_type": "execute_result"
    }
   ],
   "source": [
    "'actor' in 'actor_1_facebook_likes'"
   ]
  },
  {
   "cell_type": "code",
   "execution_count": 32,
   "id": "a8b85f6d-7007-4db8-9ce2-fdae05511413",
   "metadata": {},
   "outputs": [],
   "source": [
    "# list(map(lambda x: 'actor' in x, df.columns))"
   ]
  },
  {
   "cell_type": "code",
   "execution_count": 31,
   "id": "39244ffd-dc8b-4015-ba5f-1f62ac66b310",
   "metadata": {},
   "outputs": [
    {
     "data": {
      "text/plain": [
       "Index(['actor_3_facebook_likes', 'actor_2_name', 'actor_1_facebook_likes',\n",
       "       'actor_1_name', 'actor_3_name', 'actor_2_facebook_likes'],\n",
       "      dtype='object')"
      ]
     },
     "execution_count": 31,
     "metadata": {},
     "output_type": "execute_result"
    }
   ],
   "source": [
    "df.columns[list(map(lambda x: 'actor' in x, df.columns))]"
   ]
  },
  {
   "cell_type": "code",
   "execution_count": 27,
   "id": "b4fba079-cd25-4021-af85-70c08c362e35",
   "metadata": {},
   "outputs": [
    {
     "data": {
      "text/html": [
       "<div>\n",
       "<style scoped>\n",
       "    .dataframe tbody tr th:only-of-type {\n",
       "        vertical-align: middle;\n",
       "    }\n",
       "\n",
       "    .dataframe tbody tr th {\n",
       "        vertical-align: top;\n",
       "    }\n",
       "\n",
       "    .dataframe thead th {\n",
       "        text-align: right;\n",
       "    }\n",
       "</style>\n",
       "<table border=\"1\" class=\"dataframe\">\n",
       "  <thead>\n",
       "    <tr style=\"text-align: right;\">\n",
       "      <th></th>\n",
       "      <th>actor_3_facebook_likes</th>\n",
       "      <th>actor_2_name</th>\n",
       "      <th>actor_1_facebook_likes</th>\n",
       "      <th>actor_1_name</th>\n",
       "      <th>actor_3_name</th>\n",
       "      <th>actor_2_facebook_likes</th>\n",
       "    </tr>\n",
       "  </thead>\n",
       "  <tbody>\n",
       "    <tr>\n",
       "      <th>0</th>\n",
       "      <td>855.0</td>\n",
       "      <td>Joel David Moore</td>\n",
       "      <td>1000.0</td>\n",
       "      <td>CCH Pounder</td>\n",
       "      <td>Wes Studi</td>\n",
       "      <td>936.0</td>\n",
       "    </tr>\n",
       "    <tr>\n",
       "      <th>1</th>\n",
       "      <td>1000.0</td>\n",
       "      <td>Orlando Bloom</td>\n",
       "      <td>40000.0</td>\n",
       "      <td>Johnny Depp</td>\n",
       "      <td>Jack Davenport</td>\n",
       "      <td>5000.0</td>\n",
       "    </tr>\n",
       "    <tr>\n",
       "      <th>2</th>\n",
       "      <td>161.0</td>\n",
       "      <td>Rory Kinnear</td>\n",
       "      <td>11000.0</td>\n",
       "      <td>Christoph Waltz</td>\n",
       "      <td>Stephanie Sigman</td>\n",
       "      <td>393.0</td>\n",
       "    </tr>\n",
       "    <tr>\n",
       "      <th>3</th>\n",
       "      <td>23000.0</td>\n",
       "      <td>Christian Bale</td>\n",
       "      <td>27000.0</td>\n",
       "      <td>Tom Hardy</td>\n",
       "      <td>Joseph Gordon-Levitt</td>\n",
       "      <td>23000.0</td>\n",
       "    </tr>\n",
       "    <tr>\n",
       "      <th>4</th>\n",
       "      <td>NaN</td>\n",
       "      <td>Rob Walker</td>\n",
       "      <td>131.0</td>\n",
       "      <td>Doug Walker</td>\n",
       "      <td>NaN</td>\n",
       "      <td>12.0</td>\n",
       "    </tr>\n",
       "    <tr>\n",
       "      <th>...</th>\n",
       "      <td>...</td>\n",
       "      <td>...</td>\n",
       "      <td>...</td>\n",
       "      <td>...</td>\n",
       "      <td>...</td>\n",
       "      <td>...</td>\n",
       "    </tr>\n",
       "    <tr>\n",
       "      <th>4911</th>\n",
       "      <td>318.0</td>\n",
       "      <td>Daphne Zuniga</td>\n",
       "      <td>637.0</td>\n",
       "      <td>Eric Mabius</td>\n",
       "      <td>Crystal Lowe</td>\n",
       "      <td>470.0</td>\n",
       "    </tr>\n",
       "    <tr>\n",
       "      <th>4912</th>\n",
       "      <td>319.0</td>\n",
       "      <td>Valorie Curry</td>\n",
       "      <td>841.0</td>\n",
       "      <td>Natalie Zea</td>\n",
       "      <td>Sam Underwood</td>\n",
       "      <td>593.0</td>\n",
       "    </tr>\n",
       "    <tr>\n",
       "      <th>4913</th>\n",
       "      <td>0.0</td>\n",
       "      <td>Maxwell Moody</td>\n",
       "      <td>0.0</td>\n",
       "      <td>Eva Boehnke</td>\n",
       "      <td>David Chandler</td>\n",
       "      <td>0.0</td>\n",
       "    </tr>\n",
       "    <tr>\n",
       "      <th>4914</th>\n",
       "      <td>489.0</td>\n",
       "      <td>Daniel Henney</td>\n",
       "      <td>946.0</td>\n",
       "      <td>Alan Ruck</td>\n",
       "      <td>Eliza Coupe</td>\n",
       "      <td>719.0</td>\n",
       "    </tr>\n",
       "    <tr>\n",
       "      <th>4915</th>\n",
       "      <td>16.0</td>\n",
       "      <td>Brian Herzlinger</td>\n",
       "      <td>86.0</td>\n",
       "      <td>John August</td>\n",
       "      <td>Jon Gunn</td>\n",
       "      <td>23.0</td>\n",
       "    </tr>\n",
       "  </tbody>\n",
       "</table>\n",
       "<p>4916 rows × 6 columns</p>\n",
       "</div>"
      ],
      "text/plain": [
       "      actor_3_facebook_likes      actor_2_name  actor_1_facebook_likes  \\\n",
       "0                      855.0  Joel David Moore                  1000.0   \n",
       "1                     1000.0     Orlando Bloom                 40000.0   \n",
       "2                      161.0      Rory Kinnear                 11000.0   \n",
       "3                    23000.0    Christian Bale                 27000.0   \n",
       "4                        NaN        Rob Walker                   131.0   \n",
       "...                      ...               ...                     ...   \n",
       "4911                   318.0     Daphne Zuniga                   637.0   \n",
       "4912                   319.0     Valorie Curry                   841.0   \n",
       "4913                     0.0     Maxwell Moody                     0.0   \n",
       "4914                   489.0     Daniel Henney                   946.0   \n",
       "4915                    16.0  Brian Herzlinger                    86.0   \n",
       "\n",
       "         actor_1_name          actor_3_name  actor_2_facebook_likes  \n",
       "0         CCH Pounder             Wes Studi                   936.0  \n",
       "1         Johnny Depp        Jack Davenport                  5000.0  \n",
       "2     Christoph Waltz      Stephanie Sigman                   393.0  \n",
       "3           Tom Hardy  Joseph Gordon-Levitt                 23000.0  \n",
       "4         Doug Walker                   NaN                    12.0  \n",
       "...               ...                   ...                     ...  \n",
       "4911      Eric Mabius          Crystal Lowe                   470.0  \n",
       "4912      Natalie Zea         Sam Underwood                   593.0  \n",
       "4913      Eva Boehnke        David Chandler                     0.0  \n",
       "4914        Alan Ruck           Eliza Coupe                   719.0  \n",
       "4915      John August              Jon Gunn                    23.0  \n",
       "\n",
       "[4916 rows x 6 columns]"
      ]
     },
     "execution_count": 27,
     "metadata": {},
     "output_type": "execute_result"
    }
   ],
   "source": [
    "df.iloc[:,list(map(lambda x : 'actor' in x, df.columns) )]"
   ]
  },
  {
   "cell_type": "markdown",
   "id": "0d0124de-dbdd-4c37-b641-297de1bd61f5",
   "metadata": {},
   "source": [
    "### `-` 방법2"
   ]
  },
  {
   "cell_type": "code",
   "execution_count": 33,
   "id": "c5df58fc-5b3f-4ab3-ad1a-bd5019038651",
   "metadata": {},
   "outputs": [
    {
     "data": {
      "text/html": [
       "<div>\n",
       "<style scoped>\n",
       "    .dataframe tbody tr th:only-of-type {\n",
       "        vertical-align: middle;\n",
       "    }\n",
       "\n",
       "    .dataframe tbody tr th {\n",
       "        vertical-align: top;\n",
       "    }\n",
       "\n",
       "    .dataframe thead th {\n",
       "        text-align: right;\n",
       "    }\n",
       "</style>\n",
       "<table border=\"1\" class=\"dataframe\">\n",
       "  <thead>\n",
       "    <tr style=\"text-align: right;\">\n",
       "      <th></th>\n",
       "      <th>actor_3_facebook_likes</th>\n",
       "      <th>actor_2_name</th>\n",
       "      <th>actor_1_facebook_likes</th>\n",
       "      <th>actor_1_name</th>\n",
       "      <th>actor_3_name</th>\n",
       "      <th>actor_2_facebook_likes</th>\n",
       "    </tr>\n",
       "  </thead>\n",
       "  <tbody>\n",
       "    <tr>\n",
       "      <th>0</th>\n",
       "      <td>855.0</td>\n",
       "      <td>Joel David Moore</td>\n",
       "      <td>1000.0</td>\n",
       "      <td>CCH Pounder</td>\n",
       "      <td>Wes Studi</td>\n",
       "      <td>936.0</td>\n",
       "    </tr>\n",
       "    <tr>\n",
       "      <th>1</th>\n",
       "      <td>1000.0</td>\n",
       "      <td>Orlando Bloom</td>\n",
       "      <td>40000.0</td>\n",
       "      <td>Johnny Depp</td>\n",
       "      <td>Jack Davenport</td>\n",
       "      <td>5000.0</td>\n",
       "    </tr>\n",
       "    <tr>\n",
       "      <th>2</th>\n",
       "      <td>161.0</td>\n",
       "      <td>Rory Kinnear</td>\n",
       "      <td>11000.0</td>\n",
       "      <td>Christoph Waltz</td>\n",
       "      <td>Stephanie Sigman</td>\n",
       "      <td>393.0</td>\n",
       "    </tr>\n",
       "    <tr>\n",
       "      <th>3</th>\n",
       "      <td>23000.0</td>\n",
       "      <td>Christian Bale</td>\n",
       "      <td>27000.0</td>\n",
       "      <td>Tom Hardy</td>\n",
       "      <td>Joseph Gordon-Levitt</td>\n",
       "      <td>23000.0</td>\n",
       "    </tr>\n",
       "    <tr>\n",
       "      <th>4</th>\n",
       "      <td>NaN</td>\n",
       "      <td>Rob Walker</td>\n",
       "      <td>131.0</td>\n",
       "      <td>Doug Walker</td>\n",
       "      <td>NaN</td>\n",
       "      <td>12.0</td>\n",
       "    </tr>\n",
       "    <tr>\n",
       "      <th>...</th>\n",
       "      <td>...</td>\n",
       "      <td>...</td>\n",
       "      <td>...</td>\n",
       "      <td>...</td>\n",
       "      <td>...</td>\n",
       "      <td>...</td>\n",
       "    </tr>\n",
       "    <tr>\n",
       "      <th>4911</th>\n",
       "      <td>318.0</td>\n",
       "      <td>Daphne Zuniga</td>\n",
       "      <td>637.0</td>\n",
       "      <td>Eric Mabius</td>\n",
       "      <td>Crystal Lowe</td>\n",
       "      <td>470.0</td>\n",
       "    </tr>\n",
       "    <tr>\n",
       "      <th>4912</th>\n",
       "      <td>319.0</td>\n",
       "      <td>Valorie Curry</td>\n",
       "      <td>841.0</td>\n",
       "      <td>Natalie Zea</td>\n",
       "      <td>Sam Underwood</td>\n",
       "      <td>593.0</td>\n",
       "    </tr>\n",
       "    <tr>\n",
       "      <th>4913</th>\n",
       "      <td>0.0</td>\n",
       "      <td>Maxwell Moody</td>\n",
       "      <td>0.0</td>\n",
       "      <td>Eva Boehnke</td>\n",
       "      <td>David Chandler</td>\n",
       "      <td>0.0</td>\n",
       "    </tr>\n",
       "    <tr>\n",
       "      <th>4914</th>\n",
       "      <td>489.0</td>\n",
       "      <td>Daniel Henney</td>\n",
       "      <td>946.0</td>\n",
       "      <td>Alan Ruck</td>\n",
       "      <td>Eliza Coupe</td>\n",
       "      <td>719.0</td>\n",
       "    </tr>\n",
       "    <tr>\n",
       "      <th>4915</th>\n",
       "      <td>16.0</td>\n",
       "      <td>Brian Herzlinger</td>\n",
       "      <td>86.0</td>\n",
       "      <td>John August</td>\n",
       "      <td>Jon Gunn</td>\n",
       "      <td>23.0</td>\n",
       "    </tr>\n",
       "  </tbody>\n",
       "</table>\n",
       "<p>4916 rows × 6 columns</p>\n",
       "</div>"
      ],
      "text/plain": [
       "      actor_3_facebook_likes      actor_2_name  actor_1_facebook_likes  \\\n",
       "0                      855.0  Joel David Moore                  1000.0   \n",
       "1                     1000.0     Orlando Bloom                 40000.0   \n",
       "2                      161.0      Rory Kinnear                 11000.0   \n",
       "3                    23000.0    Christian Bale                 27000.0   \n",
       "4                        NaN        Rob Walker                   131.0   \n",
       "...                      ...               ...                     ...   \n",
       "4911                   318.0     Daphne Zuniga                   637.0   \n",
       "4912                   319.0     Valorie Curry                   841.0   \n",
       "4913                     0.0     Maxwell Moody                     0.0   \n",
       "4914                   489.0     Daniel Henney                   946.0   \n",
       "4915                    16.0  Brian Herzlinger                    86.0   \n",
       "\n",
       "         actor_1_name          actor_3_name  actor_2_facebook_likes  \n",
       "0         CCH Pounder             Wes Studi                   936.0  \n",
       "1         Johnny Depp        Jack Davenport                  5000.0  \n",
       "2     Christoph Waltz      Stephanie Sigman                   393.0  \n",
       "3           Tom Hardy  Joseph Gordon-Levitt                 23000.0  \n",
       "4         Doug Walker                   NaN                    12.0  \n",
       "...               ...                   ...                     ...  \n",
       "4911      Eric Mabius          Crystal Lowe                   470.0  \n",
       "4912      Natalie Zea         Sam Underwood                   593.0  \n",
       "4913      Eva Boehnke        David Chandler                     0.0  \n",
       "4914        Alan Ruck           Eliza Coupe                   719.0  \n",
       "4915      John August              Jon Gunn                    23.0  \n",
       "\n",
       "[4916 rows x 6 columns]"
      ]
     },
     "execution_count": 33,
     "metadata": {},
     "output_type": "execute_result"
    }
   ],
   "source": [
    "df.loc[:,list(map(lambda x : 'actor' in x, df.columns) )]"
   ]
  },
  {
   "cell_type": "markdown",
   "id": "9cc780e9-b405-4c05-b801-bfe5890891e7",
   "metadata": {},
   "source": [
    "### `-` 방법3"
   ]
  },
  {
   "cell_type": "code",
   "execution_count": 12,
   "id": "3d89a022-027e-4e3b-9ba3-4872cf1f26ff",
   "metadata": {},
   "outputs": [
    {
     "data": {
      "text/html": [
       "<div>\n",
       "<style scoped>\n",
       "    .dataframe tbody tr th:only-of-type {\n",
       "        vertical-align: middle;\n",
       "    }\n",
       "\n",
       "    .dataframe tbody tr th {\n",
       "        vertical-align: top;\n",
       "    }\n",
       "\n",
       "    .dataframe thead th {\n",
       "        text-align: right;\n",
       "    }\n",
       "</style>\n",
       "<table border=\"1\" class=\"dataframe\">\n",
       "  <thead>\n",
       "    <tr style=\"text-align: right;\">\n",
       "      <th></th>\n",
       "      <th>actor_3_facebook_likes</th>\n",
       "      <th>actor_2_name</th>\n",
       "      <th>actor_1_facebook_likes</th>\n",
       "      <th>actor_1_name</th>\n",
       "      <th>actor_3_name</th>\n",
       "      <th>actor_2_facebook_likes</th>\n",
       "    </tr>\n",
       "  </thead>\n",
       "  <tbody>\n",
       "    <tr>\n",
       "      <th>0</th>\n",
       "      <td>855.0</td>\n",
       "      <td>Joel David Moore</td>\n",
       "      <td>1000.0</td>\n",
       "      <td>CCH Pounder</td>\n",
       "      <td>Wes Studi</td>\n",
       "      <td>936.0</td>\n",
       "    </tr>\n",
       "    <tr>\n",
       "      <th>1</th>\n",
       "      <td>1000.0</td>\n",
       "      <td>Orlando Bloom</td>\n",
       "      <td>40000.0</td>\n",
       "      <td>Johnny Depp</td>\n",
       "      <td>Jack Davenport</td>\n",
       "      <td>5000.0</td>\n",
       "    </tr>\n",
       "    <tr>\n",
       "      <th>2</th>\n",
       "      <td>161.0</td>\n",
       "      <td>Rory Kinnear</td>\n",
       "      <td>11000.0</td>\n",
       "      <td>Christoph Waltz</td>\n",
       "      <td>Stephanie Sigman</td>\n",
       "      <td>393.0</td>\n",
       "    </tr>\n",
       "    <tr>\n",
       "      <th>3</th>\n",
       "      <td>23000.0</td>\n",
       "      <td>Christian Bale</td>\n",
       "      <td>27000.0</td>\n",
       "      <td>Tom Hardy</td>\n",
       "      <td>Joseph Gordon-Levitt</td>\n",
       "      <td>23000.0</td>\n",
       "    </tr>\n",
       "    <tr>\n",
       "      <th>4</th>\n",
       "      <td>NaN</td>\n",
       "      <td>Rob Walker</td>\n",
       "      <td>131.0</td>\n",
       "      <td>Doug Walker</td>\n",
       "      <td>NaN</td>\n",
       "      <td>12.0</td>\n",
       "    </tr>\n",
       "    <tr>\n",
       "      <th>...</th>\n",
       "      <td>...</td>\n",
       "      <td>...</td>\n",
       "      <td>...</td>\n",
       "      <td>...</td>\n",
       "      <td>...</td>\n",
       "      <td>...</td>\n",
       "    </tr>\n",
       "    <tr>\n",
       "      <th>4911</th>\n",
       "      <td>318.0</td>\n",
       "      <td>Daphne Zuniga</td>\n",
       "      <td>637.0</td>\n",
       "      <td>Eric Mabius</td>\n",
       "      <td>Crystal Lowe</td>\n",
       "      <td>470.0</td>\n",
       "    </tr>\n",
       "    <tr>\n",
       "      <th>4912</th>\n",
       "      <td>319.0</td>\n",
       "      <td>Valorie Curry</td>\n",
       "      <td>841.0</td>\n",
       "      <td>Natalie Zea</td>\n",
       "      <td>Sam Underwood</td>\n",
       "      <td>593.0</td>\n",
       "    </tr>\n",
       "    <tr>\n",
       "      <th>4913</th>\n",
       "      <td>0.0</td>\n",
       "      <td>Maxwell Moody</td>\n",
       "      <td>0.0</td>\n",
       "      <td>Eva Boehnke</td>\n",
       "      <td>David Chandler</td>\n",
       "      <td>0.0</td>\n",
       "    </tr>\n",
       "    <tr>\n",
       "      <th>4914</th>\n",
       "      <td>489.0</td>\n",
       "      <td>Daniel Henney</td>\n",
       "      <td>946.0</td>\n",
       "      <td>Alan Ruck</td>\n",
       "      <td>Eliza Coupe</td>\n",
       "      <td>719.0</td>\n",
       "    </tr>\n",
       "    <tr>\n",
       "      <th>4915</th>\n",
       "      <td>16.0</td>\n",
       "      <td>Brian Herzlinger</td>\n",
       "      <td>86.0</td>\n",
       "      <td>John August</td>\n",
       "      <td>Jon Gunn</td>\n",
       "      <td>23.0</td>\n",
       "    </tr>\n",
       "  </tbody>\n",
       "</table>\n",
       "<p>4916 rows × 6 columns</p>\n",
       "</div>"
      ],
      "text/plain": [
       "      actor_3_facebook_likes      actor_2_name  actor_1_facebook_likes  \\\n",
       "0                      855.0  Joel David Moore                  1000.0   \n",
       "1                     1000.0     Orlando Bloom                 40000.0   \n",
       "2                      161.0      Rory Kinnear                 11000.0   \n",
       "3                    23000.0    Christian Bale                 27000.0   \n",
       "4                        NaN        Rob Walker                   131.0   \n",
       "...                      ...               ...                     ...   \n",
       "4911                   318.0     Daphne Zuniga                   637.0   \n",
       "4912                   319.0     Valorie Curry                   841.0   \n",
       "4913                     0.0     Maxwell Moody                     0.0   \n",
       "4914                   489.0     Daniel Henney                   946.0   \n",
       "4915                    16.0  Brian Herzlinger                    86.0   \n",
       "\n",
       "         actor_1_name          actor_3_name  actor_2_facebook_likes  \n",
       "0         CCH Pounder             Wes Studi                   936.0  \n",
       "1         Johnny Depp        Jack Davenport                  5000.0  \n",
       "2     Christoph Waltz      Stephanie Sigman                   393.0  \n",
       "3           Tom Hardy  Joseph Gordon-Levitt                 23000.0  \n",
       "4         Doug Walker                   NaN                    12.0  \n",
       "...               ...                   ...                     ...  \n",
       "4911      Eric Mabius          Crystal Lowe                   470.0  \n",
       "4912      Natalie Zea         Sam Underwood                   593.0  \n",
       "4913      Eva Boehnke        David Chandler                     0.0  \n",
       "4914        Alan Ruck           Eliza Coupe                   719.0  \n",
       "4915      John August              Jon Gunn                    23.0  \n",
       "\n",
       "[4916 rows x 6 columns]"
      ]
     },
     "execution_count": 12,
     "metadata": {},
     "output_type": "execute_result"
    }
   ],
   "source": [
    "df.iloc[:,map(lambda x : 'actor' in x, df.columns)]"
   ]
  },
  {
   "cell_type": "markdown",
   "id": "60a155f4-aeda-49ec-92d3-58ffb7601b9f",
   "metadata": {},
   "source": [
    "### `-` 방법4"
   ]
  },
  {
   "cell_type": "code",
   "execution_count": 13,
   "id": "1e9eb5c3-6bd2-459b-84eb-6a5c5cbd299e",
   "metadata": {},
   "outputs": [
    {
     "data": {
      "text/html": [
       "<div>\n",
       "<style scoped>\n",
       "    .dataframe tbody tr th:only-of-type {\n",
       "        vertical-align: middle;\n",
       "    }\n",
       "\n",
       "    .dataframe tbody tr th {\n",
       "        vertical-align: top;\n",
       "    }\n",
       "\n",
       "    .dataframe thead th {\n",
       "        text-align: right;\n",
       "    }\n",
       "</style>\n",
       "<table border=\"1\" class=\"dataframe\">\n",
       "  <thead>\n",
       "    <tr style=\"text-align: right;\">\n",
       "      <th></th>\n",
       "      <th>actor_3_facebook_likes</th>\n",
       "      <th>actor_2_name</th>\n",
       "      <th>actor_1_facebook_likes</th>\n",
       "      <th>actor_1_name</th>\n",
       "      <th>actor_3_name</th>\n",
       "      <th>actor_2_facebook_likes</th>\n",
       "    </tr>\n",
       "  </thead>\n",
       "  <tbody>\n",
       "    <tr>\n",
       "      <th>0</th>\n",
       "      <td>855.0</td>\n",
       "      <td>Joel David Moore</td>\n",
       "      <td>1000.0</td>\n",
       "      <td>CCH Pounder</td>\n",
       "      <td>Wes Studi</td>\n",
       "      <td>936.0</td>\n",
       "    </tr>\n",
       "    <tr>\n",
       "      <th>1</th>\n",
       "      <td>1000.0</td>\n",
       "      <td>Orlando Bloom</td>\n",
       "      <td>40000.0</td>\n",
       "      <td>Johnny Depp</td>\n",
       "      <td>Jack Davenport</td>\n",
       "      <td>5000.0</td>\n",
       "    </tr>\n",
       "    <tr>\n",
       "      <th>2</th>\n",
       "      <td>161.0</td>\n",
       "      <td>Rory Kinnear</td>\n",
       "      <td>11000.0</td>\n",
       "      <td>Christoph Waltz</td>\n",
       "      <td>Stephanie Sigman</td>\n",
       "      <td>393.0</td>\n",
       "    </tr>\n",
       "    <tr>\n",
       "      <th>3</th>\n",
       "      <td>23000.0</td>\n",
       "      <td>Christian Bale</td>\n",
       "      <td>27000.0</td>\n",
       "      <td>Tom Hardy</td>\n",
       "      <td>Joseph Gordon-Levitt</td>\n",
       "      <td>23000.0</td>\n",
       "    </tr>\n",
       "    <tr>\n",
       "      <th>4</th>\n",
       "      <td>NaN</td>\n",
       "      <td>Rob Walker</td>\n",
       "      <td>131.0</td>\n",
       "      <td>Doug Walker</td>\n",
       "      <td>NaN</td>\n",
       "      <td>12.0</td>\n",
       "    </tr>\n",
       "    <tr>\n",
       "      <th>...</th>\n",
       "      <td>...</td>\n",
       "      <td>...</td>\n",
       "      <td>...</td>\n",
       "      <td>...</td>\n",
       "      <td>...</td>\n",
       "      <td>...</td>\n",
       "    </tr>\n",
       "    <tr>\n",
       "      <th>4911</th>\n",
       "      <td>318.0</td>\n",
       "      <td>Daphne Zuniga</td>\n",
       "      <td>637.0</td>\n",
       "      <td>Eric Mabius</td>\n",
       "      <td>Crystal Lowe</td>\n",
       "      <td>470.0</td>\n",
       "    </tr>\n",
       "    <tr>\n",
       "      <th>4912</th>\n",
       "      <td>319.0</td>\n",
       "      <td>Valorie Curry</td>\n",
       "      <td>841.0</td>\n",
       "      <td>Natalie Zea</td>\n",
       "      <td>Sam Underwood</td>\n",
       "      <td>593.0</td>\n",
       "    </tr>\n",
       "    <tr>\n",
       "      <th>4913</th>\n",
       "      <td>0.0</td>\n",
       "      <td>Maxwell Moody</td>\n",
       "      <td>0.0</td>\n",
       "      <td>Eva Boehnke</td>\n",
       "      <td>David Chandler</td>\n",
       "      <td>0.0</td>\n",
       "    </tr>\n",
       "    <tr>\n",
       "      <th>4914</th>\n",
       "      <td>489.0</td>\n",
       "      <td>Daniel Henney</td>\n",
       "      <td>946.0</td>\n",
       "      <td>Alan Ruck</td>\n",
       "      <td>Eliza Coupe</td>\n",
       "      <td>719.0</td>\n",
       "    </tr>\n",
       "    <tr>\n",
       "      <th>4915</th>\n",
       "      <td>16.0</td>\n",
       "      <td>Brian Herzlinger</td>\n",
       "      <td>86.0</td>\n",
       "      <td>John August</td>\n",
       "      <td>Jon Gunn</td>\n",
       "      <td>23.0</td>\n",
       "    </tr>\n",
       "  </tbody>\n",
       "</table>\n",
       "<p>4916 rows × 6 columns</p>\n",
       "</div>"
      ],
      "text/plain": [
       "      actor_3_facebook_likes      actor_2_name  actor_1_facebook_likes  \\\n",
       "0                      855.0  Joel David Moore                  1000.0   \n",
       "1                     1000.0     Orlando Bloom                 40000.0   \n",
       "2                      161.0      Rory Kinnear                 11000.0   \n",
       "3                    23000.0    Christian Bale                 27000.0   \n",
       "4                        NaN        Rob Walker                   131.0   \n",
       "...                      ...               ...                     ...   \n",
       "4911                   318.0     Daphne Zuniga                   637.0   \n",
       "4912                   319.0     Valorie Curry                   841.0   \n",
       "4913                     0.0     Maxwell Moody                     0.0   \n",
       "4914                   489.0     Daniel Henney                   946.0   \n",
       "4915                    16.0  Brian Herzlinger                    86.0   \n",
       "\n",
       "         actor_1_name          actor_3_name  actor_2_facebook_likes  \n",
       "0         CCH Pounder             Wes Studi                   936.0  \n",
       "1         Johnny Depp        Jack Davenport                  5000.0  \n",
       "2     Christoph Waltz      Stephanie Sigman                   393.0  \n",
       "3           Tom Hardy  Joseph Gordon-Levitt                 23000.0  \n",
       "4         Doug Walker                   NaN                    12.0  \n",
       "...               ...                   ...                     ...  \n",
       "4911      Eric Mabius          Crystal Lowe                   470.0  \n",
       "4912      Natalie Zea         Sam Underwood                   593.0  \n",
       "4913      Eva Boehnke        David Chandler                     0.0  \n",
       "4914        Alan Ruck           Eliza Coupe                   719.0  \n",
       "4915      John August              Jon Gunn                    23.0  \n",
       "\n",
       "[4916 rows x 6 columns]"
      ]
     },
     "execution_count": 13,
     "metadata": {},
     "output_type": "execute_result"
    }
   ],
   "source": [
    "df.loc[:,map(lambda x : 'actor' in x, df.columns)]"
   ]
  },
  {
   "cell_type": "markdown",
   "id": "245bd483-cda5-49c1-93a8-5ed30865e3f8",
   "metadata": {
    "tags": []
   },
   "source": [
    "## s로 끝나는 column 선택 "
   ]
  },
  {
   "cell_type": "code",
   "execution_count": 37,
   "id": "88504ac0-0d3e-48d3-a426-a546bcedc55a",
   "metadata": {},
   "outputs": [
    {
     "data": {
      "text/plain": [
       "{'__iter__'}"
      ]
     },
     "execution_count": 37,
     "metadata": {},
     "output_type": "execute_result"
    }
   ],
   "source": [
    "## 참고 (iterable object -> for문 안에 넣어서 돌릴 수 있다.)\n",
    "_map = df.loc[:,map(lambda x: x[-1] == 's', df.columns)]\n",
    "set(dir(_map)) & {'__iter__'}"
   ]
  },
  {
   "cell_type": "code",
   "execution_count": 40,
   "id": "b0950e85-56c4-456c-8286-0435f17625d9",
   "metadata": {},
   "outputs": [],
   "source": [
    "_gen = iter(_map)"
   ]
  },
  {
   "cell_type": "code",
   "execution_count": 41,
   "id": "100acfd4-0fa4-4b4b-a476-1e4bc113ac43",
   "metadata": {},
   "outputs": [
    {
     "data": {
      "text/plain": [
       "'num_critic_for_reviews'"
      ]
     },
     "execution_count": 41,
     "metadata": {},
     "output_type": "execute_result"
    }
   ],
   "source": [
    "_gen.__next__()"
   ]
  },
  {
   "cell_type": "code",
   "execution_count": 42,
   "id": "1111956b-20fa-47d6-878f-3a5a51517f62",
   "metadata": {},
   "outputs": [
    {
     "data": {
      "text/plain": [
       "'director_facebook_likes'"
      ]
     },
     "execution_count": 42,
     "metadata": {},
     "output_type": "execute_result"
    }
   ],
   "source": [
    "_gen.__next__()"
   ]
  },
  {
   "cell_type": "markdown",
   "id": "d3a60ba5-4b9d-467e-a7d6-976cadd8ad56",
   "metadata": {},
   "source": [
    "`-` 방법1"
   ]
  },
  {
   "cell_type": "code",
   "execution_count": 14,
   "id": "a762280d-1907-489f-a6a5-2503dde4758d",
   "metadata": {},
   "outputs": [
    {
     "data": {
      "text/html": [
       "<div>\n",
       "<style scoped>\n",
       "    .dataframe tbody tr th:only-of-type {\n",
       "        vertical-align: middle;\n",
       "    }\n",
       "\n",
       "    .dataframe tbody tr th {\n",
       "        vertical-align: top;\n",
       "    }\n",
       "\n",
       "    .dataframe thead th {\n",
       "        text-align: right;\n",
       "    }\n",
       "</style>\n",
       "<table border=\"1\" class=\"dataframe\">\n",
       "  <thead>\n",
       "    <tr style=\"text-align: right;\">\n",
       "      <th></th>\n",
       "      <th>num_critic_for_reviews</th>\n",
       "      <th>director_facebook_likes</th>\n",
       "      <th>actor_3_facebook_likes</th>\n",
       "      <th>actor_1_facebook_likes</th>\n",
       "      <th>gross</th>\n",
       "      <th>genres</th>\n",
       "      <th>num_voted_users</th>\n",
       "      <th>cast_total_facebook_likes</th>\n",
       "      <th>plot_keywords</th>\n",
       "      <th>num_user_for_reviews</th>\n",
       "      <th>actor_2_facebook_likes</th>\n",
       "      <th>movie_facebook_likes</th>\n",
       "    </tr>\n",
       "  </thead>\n",
       "  <tbody>\n",
       "    <tr>\n",
       "      <th>0</th>\n",
       "      <td>723.0</td>\n",
       "      <td>0.0</td>\n",
       "      <td>855.0</td>\n",
       "      <td>1000.0</td>\n",
       "      <td>760505847.0</td>\n",
       "      <td>Action|Adventure|Fantasy|Sci-Fi</td>\n",
       "      <td>886204</td>\n",
       "      <td>4834</td>\n",
       "      <td>avatar|future|marine|native|paraplegic</td>\n",
       "      <td>3054.0</td>\n",
       "      <td>936.0</td>\n",
       "      <td>33000</td>\n",
       "    </tr>\n",
       "    <tr>\n",
       "      <th>1</th>\n",
       "      <td>302.0</td>\n",
       "      <td>563.0</td>\n",
       "      <td>1000.0</td>\n",
       "      <td>40000.0</td>\n",
       "      <td>309404152.0</td>\n",
       "      <td>Action|Adventure|Fantasy</td>\n",
       "      <td>471220</td>\n",
       "      <td>48350</td>\n",
       "      <td>goddess|marriage ceremony|marriage proposal|pi...</td>\n",
       "      <td>1238.0</td>\n",
       "      <td>5000.0</td>\n",
       "      <td>0</td>\n",
       "    </tr>\n",
       "    <tr>\n",
       "      <th>2</th>\n",
       "      <td>602.0</td>\n",
       "      <td>0.0</td>\n",
       "      <td>161.0</td>\n",
       "      <td>11000.0</td>\n",
       "      <td>200074175.0</td>\n",
       "      <td>Action|Adventure|Thriller</td>\n",
       "      <td>275868</td>\n",
       "      <td>11700</td>\n",
       "      <td>bomb|espionage|sequel|spy|terrorist</td>\n",
       "      <td>994.0</td>\n",
       "      <td>393.0</td>\n",
       "      <td>85000</td>\n",
       "    </tr>\n",
       "    <tr>\n",
       "      <th>3</th>\n",
       "      <td>813.0</td>\n",
       "      <td>22000.0</td>\n",
       "      <td>23000.0</td>\n",
       "      <td>27000.0</td>\n",
       "      <td>448130642.0</td>\n",
       "      <td>Action|Thriller</td>\n",
       "      <td>1144337</td>\n",
       "      <td>106759</td>\n",
       "      <td>deception|imprisonment|lawlessness|police offi...</td>\n",
       "      <td>2701.0</td>\n",
       "      <td>23000.0</td>\n",
       "      <td>164000</td>\n",
       "    </tr>\n",
       "    <tr>\n",
       "      <th>4</th>\n",
       "      <td>NaN</td>\n",
       "      <td>131.0</td>\n",
       "      <td>NaN</td>\n",
       "      <td>131.0</td>\n",
       "      <td>NaN</td>\n",
       "      <td>Documentary</td>\n",
       "      <td>8</td>\n",
       "      <td>143</td>\n",
       "      <td>NaN</td>\n",
       "      <td>NaN</td>\n",
       "      <td>12.0</td>\n",
       "      <td>0</td>\n",
       "    </tr>\n",
       "    <tr>\n",
       "      <th>...</th>\n",
       "      <td>...</td>\n",
       "      <td>...</td>\n",
       "      <td>...</td>\n",
       "      <td>...</td>\n",
       "      <td>...</td>\n",
       "      <td>...</td>\n",
       "      <td>...</td>\n",
       "      <td>...</td>\n",
       "      <td>...</td>\n",
       "      <td>...</td>\n",
       "      <td>...</td>\n",
       "      <td>...</td>\n",
       "    </tr>\n",
       "    <tr>\n",
       "      <th>4911</th>\n",
       "      <td>1.0</td>\n",
       "      <td>2.0</td>\n",
       "      <td>318.0</td>\n",
       "      <td>637.0</td>\n",
       "      <td>NaN</td>\n",
       "      <td>Comedy|Drama</td>\n",
       "      <td>629</td>\n",
       "      <td>2283</td>\n",
       "      <td>fraud|postal worker|prison|theft|trial</td>\n",
       "      <td>6.0</td>\n",
       "      <td>470.0</td>\n",
       "      <td>84</td>\n",
       "    </tr>\n",
       "    <tr>\n",
       "      <th>4912</th>\n",
       "      <td>43.0</td>\n",
       "      <td>NaN</td>\n",
       "      <td>319.0</td>\n",
       "      <td>841.0</td>\n",
       "      <td>NaN</td>\n",
       "      <td>Crime|Drama|Mystery|Thriller</td>\n",
       "      <td>73839</td>\n",
       "      <td>1753</td>\n",
       "      <td>cult|fbi|hideout|prison escape|serial killer</td>\n",
       "      <td>359.0</td>\n",
       "      <td>593.0</td>\n",
       "      <td>32000</td>\n",
       "    </tr>\n",
       "    <tr>\n",
       "      <th>4913</th>\n",
       "      <td>13.0</td>\n",
       "      <td>0.0</td>\n",
       "      <td>0.0</td>\n",
       "      <td>0.0</td>\n",
       "      <td>NaN</td>\n",
       "      <td>Drama|Horror|Thriller</td>\n",
       "      <td>38</td>\n",
       "      <td>0</td>\n",
       "      <td>NaN</td>\n",
       "      <td>3.0</td>\n",
       "      <td>0.0</td>\n",
       "      <td>16</td>\n",
       "    </tr>\n",
       "    <tr>\n",
       "      <th>4914</th>\n",
       "      <td>14.0</td>\n",
       "      <td>0.0</td>\n",
       "      <td>489.0</td>\n",
       "      <td>946.0</td>\n",
       "      <td>10443.0</td>\n",
       "      <td>Comedy|Drama|Romance</td>\n",
       "      <td>1255</td>\n",
       "      <td>2386</td>\n",
       "      <td>NaN</td>\n",
       "      <td>9.0</td>\n",
       "      <td>719.0</td>\n",
       "      <td>660</td>\n",
       "    </tr>\n",
       "    <tr>\n",
       "      <th>4915</th>\n",
       "      <td>43.0</td>\n",
       "      <td>16.0</td>\n",
       "      <td>16.0</td>\n",
       "      <td>86.0</td>\n",
       "      <td>85222.0</td>\n",
       "      <td>Documentary</td>\n",
       "      <td>4285</td>\n",
       "      <td>163</td>\n",
       "      <td>actress name in title|crush|date|four word tit...</td>\n",
       "      <td>84.0</td>\n",
       "      <td>23.0</td>\n",
       "      <td>456</td>\n",
       "    </tr>\n",
       "  </tbody>\n",
       "</table>\n",
       "<p>4916 rows × 12 columns</p>\n",
       "</div>"
      ],
      "text/plain": [
       "      num_critic_for_reviews  director_facebook_likes  actor_3_facebook_likes  \\\n",
       "0                      723.0                      0.0                   855.0   \n",
       "1                      302.0                    563.0                  1000.0   \n",
       "2                      602.0                      0.0                   161.0   \n",
       "3                      813.0                  22000.0                 23000.0   \n",
       "4                        NaN                    131.0                     NaN   \n",
       "...                      ...                      ...                     ...   \n",
       "4911                     1.0                      2.0                   318.0   \n",
       "4912                    43.0                      NaN                   319.0   \n",
       "4913                    13.0                      0.0                     0.0   \n",
       "4914                    14.0                      0.0                   489.0   \n",
       "4915                    43.0                     16.0                    16.0   \n",
       "\n",
       "      actor_1_facebook_likes        gross                           genres  \\\n",
       "0                     1000.0  760505847.0  Action|Adventure|Fantasy|Sci-Fi   \n",
       "1                    40000.0  309404152.0         Action|Adventure|Fantasy   \n",
       "2                    11000.0  200074175.0        Action|Adventure|Thriller   \n",
       "3                    27000.0  448130642.0                  Action|Thriller   \n",
       "4                      131.0          NaN                      Documentary   \n",
       "...                      ...          ...                              ...   \n",
       "4911                   637.0          NaN                     Comedy|Drama   \n",
       "4912                   841.0          NaN     Crime|Drama|Mystery|Thriller   \n",
       "4913                     0.0          NaN            Drama|Horror|Thriller   \n",
       "4914                   946.0      10443.0             Comedy|Drama|Romance   \n",
       "4915                    86.0      85222.0                      Documentary   \n",
       "\n",
       "      num_voted_users  cast_total_facebook_likes  \\\n",
       "0              886204                       4834   \n",
       "1              471220                      48350   \n",
       "2              275868                      11700   \n",
       "3             1144337                     106759   \n",
       "4                   8                        143   \n",
       "...               ...                        ...   \n",
       "4911              629                       2283   \n",
       "4912            73839                       1753   \n",
       "4913               38                          0   \n",
       "4914             1255                       2386   \n",
       "4915             4285                        163   \n",
       "\n",
       "                                          plot_keywords  num_user_for_reviews  \\\n",
       "0                avatar|future|marine|native|paraplegic                3054.0   \n",
       "1     goddess|marriage ceremony|marriage proposal|pi...                1238.0   \n",
       "2                   bomb|espionage|sequel|spy|terrorist                 994.0   \n",
       "3     deception|imprisonment|lawlessness|police offi...                2701.0   \n",
       "4                                                   NaN                   NaN   \n",
       "...                                                 ...                   ...   \n",
       "4911             fraud|postal worker|prison|theft|trial                   6.0   \n",
       "4912       cult|fbi|hideout|prison escape|serial killer                 359.0   \n",
       "4913                                                NaN                   3.0   \n",
       "4914                                                NaN                   9.0   \n",
       "4915  actress name in title|crush|date|four word tit...                  84.0   \n",
       "\n",
       "      actor_2_facebook_likes  movie_facebook_likes  \n",
       "0                      936.0                 33000  \n",
       "1                     5000.0                     0  \n",
       "2                      393.0                 85000  \n",
       "3                    23000.0                164000  \n",
       "4                       12.0                     0  \n",
       "...                      ...                   ...  \n",
       "4911                   470.0                    84  \n",
       "4912                   593.0                 32000  \n",
       "4913                     0.0                    16  \n",
       "4914                   719.0                   660  \n",
       "4915                    23.0                   456  \n",
       "\n",
       "[4916 rows x 12 columns]"
      ]
     },
     "execution_count": 14,
     "metadata": {},
     "output_type": "execute_result"
    }
   ],
   "source": [
    "df.iloc[:,map(lambda x: 's' == x[-1],df.columns )]"
   ]
  },
  {
   "cell_type": "markdown",
   "id": "d6556583-5c6a-4bbd-8f49-879e5ac51aa0",
   "metadata": {},
   "source": [
    "`-` 방법2"
   ]
  },
  {
   "cell_type": "code",
   "execution_count": 15,
   "id": "3e331c09-cc24-46e2-b859-fd273eae0659",
   "metadata": {},
   "outputs": [
    {
     "data": {
      "text/html": [
       "<div>\n",
       "<style scoped>\n",
       "    .dataframe tbody tr th:only-of-type {\n",
       "        vertical-align: middle;\n",
       "    }\n",
       "\n",
       "    .dataframe tbody tr th {\n",
       "        vertical-align: top;\n",
       "    }\n",
       "\n",
       "    .dataframe thead th {\n",
       "        text-align: right;\n",
       "    }\n",
       "</style>\n",
       "<table border=\"1\" class=\"dataframe\">\n",
       "  <thead>\n",
       "    <tr style=\"text-align: right;\">\n",
       "      <th></th>\n",
       "      <th>num_critic_for_reviews</th>\n",
       "      <th>director_facebook_likes</th>\n",
       "      <th>actor_3_facebook_likes</th>\n",
       "      <th>actor_1_facebook_likes</th>\n",
       "      <th>gross</th>\n",
       "      <th>genres</th>\n",
       "      <th>num_voted_users</th>\n",
       "      <th>cast_total_facebook_likes</th>\n",
       "      <th>plot_keywords</th>\n",
       "      <th>num_user_for_reviews</th>\n",
       "      <th>actor_2_facebook_likes</th>\n",
       "      <th>movie_facebook_likes</th>\n",
       "    </tr>\n",
       "  </thead>\n",
       "  <tbody>\n",
       "    <tr>\n",
       "      <th>0</th>\n",
       "      <td>723.0</td>\n",
       "      <td>0.0</td>\n",
       "      <td>855.0</td>\n",
       "      <td>1000.0</td>\n",
       "      <td>760505847.0</td>\n",
       "      <td>Action|Adventure|Fantasy|Sci-Fi</td>\n",
       "      <td>886204</td>\n",
       "      <td>4834</td>\n",
       "      <td>avatar|future|marine|native|paraplegic</td>\n",
       "      <td>3054.0</td>\n",
       "      <td>936.0</td>\n",
       "      <td>33000</td>\n",
       "    </tr>\n",
       "    <tr>\n",
       "      <th>1</th>\n",
       "      <td>302.0</td>\n",
       "      <td>563.0</td>\n",
       "      <td>1000.0</td>\n",
       "      <td>40000.0</td>\n",
       "      <td>309404152.0</td>\n",
       "      <td>Action|Adventure|Fantasy</td>\n",
       "      <td>471220</td>\n",
       "      <td>48350</td>\n",
       "      <td>goddess|marriage ceremony|marriage proposal|pi...</td>\n",
       "      <td>1238.0</td>\n",
       "      <td>5000.0</td>\n",
       "      <td>0</td>\n",
       "    </tr>\n",
       "    <tr>\n",
       "      <th>2</th>\n",
       "      <td>602.0</td>\n",
       "      <td>0.0</td>\n",
       "      <td>161.0</td>\n",
       "      <td>11000.0</td>\n",
       "      <td>200074175.0</td>\n",
       "      <td>Action|Adventure|Thriller</td>\n",
       "      <td>275868</td>\n",
       "      <td>11700</td>\n",
       "      <td>bomb|espionage|sequel|spy|terrorist</td>\n",
       "      <td>994.0</td>\n",
       "      <td>393.0</td>\n",
       "      <td>85000</td>\n",
       "    </tr>\n",
       "    <tr>\n",
       "      <th>3</th>\n",
       "      <td>813.0</td>\n",
       "      <td>22000.0</td>\n",
       "      <td>23000.0</td>\n",
       "      <td>27000.0</td>\n",
       "      <td>448130642.0</td>\n",
       "      <td>Action|Thriller</td>\n",
       "      <td>1144337</td>\n",
       "      <td>106759</td>\n",
       "      <td>deception|imprisonment|lawlessness|police offi...</td>\n",
       "      <td>2701.0</td>\n",
       "      <td>23000.0</td>\n",
       "      <td>164000</td>\n",
       "    </tr>\n",
       "    <tr>\n",
       "      <th>4</th>\n",
       "      <td>NaN</td>\n",
       "      <td>131.0</td>\n",
       "      <td>NaN</td>\n",
       "      <td>131.0</td>\n",
       "      <td>NaN</td>\n",
       "      <td>Documentary</td>\n",
       "      <td>8</td>\n",
       "      <td>143</td>\n",
       "      <td>NaN</td>\n",
       "      <td>NaN</td>\n",
       "      <td>12.0</td>\n",
       "      <td>0</td>\n",
       "    </tr>\n",
       "    <tr>\n",
       "      <th>...</th>\n",
       "      <td>...</td>\n",
       "      <td>...</td>\n",
       "      <td>...</td>\n",
       "      <td>...</td>\n",
       "      <td>...</td>\n",
       "      <td>...</td>\n",
       "      <td>...</td>\n",
       "      <td>...</td>\n",
       "      <td>...</td>\n",
       "      <td>...</td>\n",
       "      <td>...</td>\n",
       "      <td>...</td>\n",
       "    </tr>\n",
       "    <tr>\n",
       "      <th>4911</th>\n",
       "      <td>1.0</td>\n",
       "      <td>2.0</td>\n",
       "      <td>318.0</td>\n",
       "      <td>637.0</td>\n",
       "      <td>NaN</td>\n",
       "      <td>Comedy|Drama</td>\n",
       "      <td>629</td>\n",
       "      <td>2283</td>\n",
       "      <td>fraud|postal worker|prison|theft|trial</td>\n",
       "      <td>6.0</td>\n",
       "      <td>470.0</td>\n",
       "      <td>84</td>\n",
       "    </tr>\n",
       "    <tr>\n",
       "      <th>4912</th>\n",
       "      <td>43.0</td>\n",
       "      <td>NaN</td>\n",
       "      <td>319.0</td>\n",
       "      <td>841.0</td>\n",
       "      <td>NaN</td>\n",
       "      <td>Crime|Drama|Mystery|Thriller</td>\n",
       "      <td>73839</td>\n",
       "      <td>1753</td>\n",
       "      <td>cult|fbi|hideout|prison escape|serial killer</td>\n",
       "      <td>359.0</td>\n",
       "      <td>593.0</td>\n",
       "      <td>32000</td>\n",
       "    </tr>\n",
       "    <tr>\n",
       "      <th>4913</th>\n",
       "      <td>13.0</td>\n",
       "      <td>0.0</td>\n",
       "      <td>0.0</td>\n",
       "      <td>0.0</td>\n",
       "      <td>NaN</td>\n",
       "      <td>Drama|Horror|Thriller</td>\n",
       "      <td>38</td>\n",
       "      <td>0</td>\n",
       "      <td>NaN</td>\n",
       "      <td>3.0</td>\n",
       "      <td>0.0</td>\n",
       "      <td>16</td>\n",
       "    </tr>\n",
       "    <tr>\n",
       "      <th>4914</th>\n",
       "      <td>14.0</td>\n",
       "      <td>0.0</td>\n",
       "      <td>489.0</td>\n",
       "      <td>946.0</td>\n",
       "      <td>10443.0</td>\n",
       "      <td>Comedy|Drama|Romance</td>\n",
       "      <td>1255</td>\n",
       "      <td>2386</td>\n",
       "      <td>NaN</td>\n",
       "      <td>9.0</td>\n",
       "      <td>719.0</td>\n",
       "      <td>660</td>\n",
       "    </tr>\n",
       "    <tr>\n",
       "      <th>4915</th>\n",
       "      <td>43.0</td>\n",
       "      <td>16.0</td>\n",
       "      <td>16.0</td>\n",
       "      <td>86.0</td>\n",
       "      <td>85222.0</td>\n",
       "      <td>Documentary</td>\n",
       "      <td>4285</td>\n",
       "      <td>163</td>\n",
       "      <td>actress name in title|crush|date|four word tit...</td>\n",
       "      <td>84.0</td>\n",
       "      <td>23.0</td>\n",
       "      <td>456</td>\n",
       "    </tr>\n",
       "  </tbody>\n",
       "</table>\n",
       "<p>4916 rows × 12 columns</p>\n",
       "</div>"
      ],
      "text/plain": [
       "      num_critic_for_reviews  director_facebook_likes  actor_3_facebook_likes  \\\n",
       "0                      723.0                      0.0                   855.0   \n",
       "1                      302.0                    563.0                  1000.0   \n",
       "2                      602.0                      0.0                   161.0   \n",
       "3                      813.0                  22000.0                 23000.0   \n",
       "4                        NaN                    131.0                     NaN   \n",
       "...                      ...                      ...                     ...   \n",
       "4911                     1.0                      2.0                   318.0   \n",
       "4912                    43.0                      NaN                   319.0   \n",
       "4913                    13.0                      0.0                     0.0   \n",
       "4914                    14.0                      0.0                   489.0   \n",
       "4915                    43.0                     16.0                    16.0   \n",
       "\n",
       "      actor_1_facebook_likes        gross                           genres  \\\n",
       "0                     1000.0  760505847.0  Action|Adventure|Fantasy|Sci-Fi   \n",
       "1                    40000.0  309404152.0         Action|Adventure|Fantasy   \n",
       "2                    11000.0  200074175.0        Action|Adventure|Thriller   \n",
       "3                    27000.0  448130642.0                  Action|Thriller   \n",
       "4                      131.0          NaN                      Documentary   \n",
       "...                      ...          ...                              ...   \n",
       "4911                   637.0          NaN                     Comedy|Drama   \n",
       "4912                   841.0          NaN     Crime|Drama|Mystery|Thriller   \n",
       "4913                     0.0          NaN            Drama|Horror|Thriller   \n",
       "4914                   946.0      10443.0             Comedy|Drama|Romance   \n",
       "4915                    86.0      85222.0                      Documentary   \n",
       "\n",
       "      num_voted_users  cast_total_facebook_likes  \\\n",
       "0              886204                       4834   \n",
       "1              471220                      48350   \n",
       "2              275868                      11700   \n",
       "3             1144337                     106759   \n",
       "4                   8                        143   \n",
       "...               ...                        ...   \n",
       "4911              629                       2283   \n",
       "4912            73839                       1753   \n",
       "4913               38                          0   \n",
       "4914             1255                       2386   \n",
       "4915             4285                        163   \n",
       "\n",
       "                                          plot_keywords  num_user_for_reviews  \\\n",
       "0                avatar|future|marine|native|paraplegic                3054.0   \n",
       "1     goddess|marriage ceremony|marriage proposal|pi...                1238.0   \n",
       "2                   bomb|espionage|sequel|spy|terrorist                 994.0   \n",
       "3     deception|imprisonment|lawlessness|police offi...                2701.0   \n",
       "4                                                   NaN                   NaN   \n",
       "...                                                 ...                   ...   \n",
       "4911             fraud|postal worker|prison|theft|trial                   6.0   \n",
       "4912       cult|fbi|hideout|prison escape|serial killer                 359.0   \n",
       "4913                                                NaN                   3.0   \n",
       "4914                                                NaN                   9.0   \n",
       "4915  actress name in title|crush|date|four word tit...                  84.0   \n",
       "\n",
       "      actor_2_facebook_likes  movie_facebook_likes  \n",
       "0                      936.0                 33000  \n",
       "1                     5000.0                     0  \n",
       "2                      393.0                 85000  \n",
       "3                    23000.0                164000  \n",
       "4                       12.0                     0  \n",
       "...                      ...                   ...  \n",
       "4911                   470.0                    84  \n",
       "4912                   593.0                 32000  \n",
       "4913                     0.0                    16  \n",
       "4914                   719.0                   660  \n",
       "4915                    23.0                   456  \n",
       "\n",
       "[4916 rows x 12 columns]"
      ]
     },
     "execution_count": 15,
     "metadata": {},
     "output_type": "execute_result"
    }
   ],
   "source": [
    "df.loc[:,map(lambda x: 's' == x[-1],df.columns )]"
   ]
  },
  {
   "cell_type": "markdown",
   "id": "6202993f-7da0-4627-b2d6-dc0c32d6823a",
   "metadata": {
    "tags": []
   },
   "source": [
    "## c 혹은 d로 시작하는 column 선택"
   ]
  },
  {
   "cell_type": "code",
   "execution_count": 43,
   "id": "d6c7f88c-d6e7-4b32-af84-fc1664ea636b",
   "metadata": {},
   "outputs": [
    {
     "data": {
      "text/plain": [
       "Index(['color', 'director_name', 'num_critic_for_reviews', 'duration',\n",
       "       'director_facebook_likes', 'actor_3_facebook_likes', 'actor_2_name',\n",
       "       'actor_1_facebook_likes', 'gross', 'genres', 'actor_1_name',\n",
       "       'movie_title', 'num_voted_users', 'cast_total_facebook_likes',\n",
       "       'actor_3_name', 'facenumber_in_poster', 'plot_keywords',\n",
       "       'movie_imdb_link', 'num_user_for_reviews', 'language', 'country',\n",
       "       'content_rating', 'budget', 'title_year', 'actor_2_facebook_likes',\n",
       "       'imdb_score', 'aspect_ratio', 'movie_facebook_likes'],\n",
       "      dtype='object')"
      ]
     },
     "execution_count": 43,
     "metadata": {},
     "output_type": "execute_result"
    }
   ],
   "source": [
    "df.columns"
   ]
  },
  {
   "cell_type": "code",
   "execution_count": 44,
   "id": "759da931-32ac-41b6-9c11-516f81db165f",
   "metadata": {},
   "outputs": [
    {
     "data": {
      "text/plain": [
       "True"
      ]
     },
     "execution_count": 44,
     "metadata": {},
     "output_type": "execute_result"
    }
   ],
   "source": [
    "_str = 'color'\n",
    "(_str[0] == 'c') or (_str[0] =='d')"
   ]
  },
  {
   "cell_type": "code",
   "execution_count": 47,
   "id": "93dd5be4-39aa-4f2e-9cef-9c9efc4a1210",
   "metadata": {},
   "outputs": [
    {
     "data": {
      "text/plain": [
       "[True,\n",
       " True,\n",
       " False,\n",
       " True,\n",
       " True,\n",
       " False,\n",
       " False,\n",
       " False,\n",
       " False,\n",
       " False,\n",
       " False,\n",
       " False,\n",
       " False,\n",
       " True,\n",
       " False,\n",
       " False,\n",
       " False,\n",
       " False,\n",
       " False,\n",
       " False,\n",
       " True,\n",
       " True,\n",
       " False,\n",
       " False,\n",
       " False,\n",
       " False,\n",
       " False,\n",
       " False]"
      ]
     },
     "execution_count": 47,
     "metadata": {},
     "output_type": "execute_result"
    }
   ],
   "source": [
    "list(map(lambda x: (x[0] == 'c') or (x[0] =='d'), df.columns)) # list안해도 이미 iterable object."
   ]
  },
  {
   "cell_type": "markdown",
   "id": "feab6a7c-9e53-4b8c-b561-9d6c2ceb1f4e",
   "metadata": {},
   "source": [
    "`-` 방법1"
   ]
  },
  {
   "cell_type": "code",
   "execution_count": 48,
   "id": "a47b2f3b-cf45-4c92-999b-36676579d03a",
   "metadata": {},
   "outputs": [
    {
     "data": {
      "text/html": [
       "<div>\n",
       "<style scoped>\n",
       "    .dataframe tbody tr th:only-of-type {\n",
       "        vertical-align: middle;\n",
       "    }\n",
       "\n",
       "    .dataframe tbody tr th {\n",
       "        vertical-align: top;\n",
       "    }\n",
       "\n",
       "    .dataframe thead th {\n",
       "        text-align: right;\n",
       "    }\n",
       "</style>\n",
       "<table border=\"1\" class=\"dataframe\">\n",
       "  <thead>\n",
       "    <tr style=\"text-align: right;\">\n",
       "      <th></th>\n",
       "      <th>color</th>\n",
       "      <th>director_name</th>\n",
       "      <th>duration</th>\n",
       "      <th>director_facebook_likes</th>\n",
       "      <th>cast_total_facebook_likes</th>\n",
       "      <th>country</th>\n",
       "      <th>content_rating</th>\n",
       "    </tr>\n",
       "  </thead>\n",
       "  <tbody>\n",
       "    <tr>\n",
       "      <th>0</th>\n",
       "      <td>Color</td>\n",
       "      <td>James Cameron</td>\n",
       "      <td>178.0</td>\n",
       "      <td>0.0</td>\n",
       "      <td>4834</td>\n",
       "      <td>USA</td>\n",
       "      <td>PG-13</td>\n",
       "    </tr>\n",
       "    <tr>\n",
       "      <th>1</th>\n",
       "      <td>Color</td>\n",
       "      <td>Gore Verbinski</td>\n",
       "      <td>169.0</td>\n",
       "      <td>563.0</td>\n",
       "      <td>48350</td>\n",
       "      <td>USA</td>\n",
       "      <td>PG-13</td>\n",
       "    </tr>\n",
       "    <tr>\n",
       "      <th>2</th>\n",
       "      <td>Color</td>\n",
       "      <td>Sam Mendes</td>\n",
       "      <td>148.0</td>\n",
       "      <td>0.0</td>\n",
       "      <td>11700</td>\n",
       "      <td>UK</td>\n",
       "      <td>PG-13</td>\n",
       "    </tr>\n",
       "    <tr>\n",
       "      <th>3</th>\n",
       "      <td>Color</td>\n",
       "      <td>Christopher Nolan</td>\n",
       "      <td>164.0</td>\n",
       "      <td>22000.0</td>\n",
       "      <td>106759</td>\n",
       "      <td>USA</td>\n",
       "      <td>PG-13</td>\n",
       "    </tr>\n",
       "    <tr>\n",
       "      <th>4</th>\n",
       "      <td>NaN</td>\n",
       "      <td>Doug Walker</td>\n",
       "      <td>NaN</td>\n",
       "      <td>131.0</td>\n",
       "      <td>143</td>\n",
       "      <td>NaN</td>\n",
       "      <td>NaN</td>\n",
       "    </tr>\n",
       "    <tr>\n",
       "      <th>...</th>\n",
       "      <td>...</td>\n",
       "      <td>...</td>\n",
       "      <td>...</td>\n",
       "      <td>...</td>\n",
       "      <td>...</td>\n",
       "      <td>...</td>\n",
       "      <td>...</td>\n",
       "    </tr>\n",
       "    <tr>\n",
       "      <th>4911</th>\n",
       "      <td>Color</td>\n",
       "      <td>Scott Smith</td>\n",
       "      <td>87.0</td>\n",
       "      <td>2.0</td>\n",
       "      <td>2283</td>\n",
       "      <td>Canada</td>\n",
       "      <td>NaN</td>\n",
       "    </tr>\n",
       "    <tr>\n",
       "      <th>4912</th>\n",
       "      <td>Color</td>\n",
       "      <td>NaN</td>\n",
       "      <td>43.0</td>\n",
       "      <td>NaN</td>\n",
       "      <td>1753</td>\n",
       "      <td>USA</td>\n",
       "      <td>TV-14</td>\n",
       "    </tr>\n",
       "    <tr>\n",
       "      <th>4913</th>\n",
       "      <td>Color</td>\n",
       "      <td>Benjamin Roberds</td>\n",
       "      <td>76.0</td>\n",
       "      <td>0.0</td>\n",
       "      <td>0</td>\n",
       "      <td>USA</td>\n",
       "      <td>NaN</td>\n",
       "    </tr>\n",
       "    <tr>\n",
       "      <th>4914</th>\n",
       "      <td>Color</td>\n",
       "      <td>Daniel Hsia</td>\n",
       "      <td>100.0</td>\n",
       "      <td>0.0</td>\n",
       "      <td>2386</td>\n",
       "      <td>USA</td>\n",
       "      <td>PG-13</td>\n",
       "    </tr>\n",
       "    <tr>\n",
       "      <th>4915</th>\n",
       "      <td>Color</td>\n",
       "      <td>Jon Gunn</td>\n",
       "      <td>90.0</td>\n",
       "      <td>16.0</td>\n",
       "      <td>163</td>\n",
       "      <td>USA</td>\n",
       "      <td>PG</td>\n",
       "    </tr>\n",
       "  </tbody>\n",
       "</table>\n",
       "<p>4916 rows × 7 columns</p>\n",
       "</div>"
      ],
      "text/plain": [
       "      color      director_name  duration  director_facebook_likes  \\\n",
       "0     Color      James Cameron     178.0                      0.0   \n",
       "1     Color     Gore Verbinski     169.0                    563.0   \n",
       "2     Color         Sam Mendes     148.0                      0.0   \n",
       "3     Color  Christopher Nolan     164.0                  22000.0   \n",
       "4       NaN        Doug Walker       NaN                    131.0   \n",
       "...     ...                ...       ...                      ...   \n",
       "4911  Color        Scott Smith      87.0                      2.0   \n",
       "4912  Color                NaN      43.0                      NaN   \n",
       "4913  Color   Benjamin Roberds      76.0                      0.0   \n",
       "4914  Color        Daniel Hsia     100.0                      0.0   \n",
       "4915  Color           Jon Gunn      90.0                     16.0   \n",
       "\n",
       "      cast_total_facebook_likes country content_rating  \n",
       "0                          4834     USA          PG-13  \n",
       "1                         48350     USA          PG-13  \n",
       "2                         11700      UK          PG-13  \n",
       "3                        106759     USA          PG-13  \n",
       "4                           143     NaN            NaN  \n",
       "...                         ...     ...            ...  \n",
       "4911                       2283  Canada            NaN  \n",
       "4912                       1753     USA          TV-14  \n",
       "4913                          0     USA            NaN  \n",
       "4914                       2386     USA          PG-13  \n",
       "4915                        163     USA             PG  \n",
       "\n",
       "[4916 rows x 7 columns]"
      ]
     },
     "execution_count": 48,
     "metadata": {},
     "output_type": "execute_result"
    }
   ],
   "source": [
    "df.iloc[:,map(lambda x: 'c' == x[0] or 'd' == x[0] ,df.columns )]"
   ]
  },
  {
   "cell_type": "markdown",
   "id": "684ea34c-8623-4c6d-90ee-347985456703",
   "metadata": {},
   "source": [
    "`-` 방법2"
   ]
  },
  {
   "cell_type": "code",
   "execution_count": 49,
   "id": "7896f787-498b-499f-91eb-bca5d89dbf62",
   "metadata": {},
   "outputs": [
    {
     "data": {
      "text/html": [
       "<div>\n",
       "<style scoped>\n",
       "    .dataframe tbody tr th:only-of-type {\n",
       "        vertical-align: middle;\n",
       "    }\n",
       "\n",
       "    .dataframe tbody tr th {\n",
       "        vertical-align: top;\n",
       "    }\n",
       "\n",
       "    .dataframe thead th {\n",
       "        text-align: right;\n",
       "    }\n",
       "</style>\n",
       "<table border=\"1\" class=\"dataframe\">\n",
       "  <thead>\n",
       "    <tr style=\"text-align: right;\">\n",
       "      <th></th>\n",
       "      <th>color</th>\n",
       "      <th>director_name</th>\n",
       "      <th>duration</th>\n",
       "      <th>director_facebook_likes</th>\n",
       "      <th>cast_total_facebook_likes</th>\n",
       "      <th>country</th>\n",
       "      <th>content_rating</th>\n",
       "    </tr>\n",
       "  </thead>\n",
       "  <tbody>\n",
       "    <tr>\n",
       "      <th>0</th>\n",
       "      <td>Color</td>\n",
       "      <td>James Cameron</td>\n",
       "      <td>178.0</td>\n",
       "      <td>0.0</td>\n",
       "      <td>4834</td>\n",
       "      <td>USA</td>\n",
       "      <td>PG-13</td>\n",
       "    </tr>\n",
       "    <tr>\n",
       "      <th>1</th>\n",
       "      <td>Color</td>\n",
       "      <td>Gore Verbinski</td>\n",
       "      <td>169.0</td>\n",
       "      <td>563.0</td>\n",
       "      <td>48350</td>\n",
       "      <td>USA</td>\n",
       "      <td>PG-13</td>\n",
       "    </tr>\n",
       "    <tr>\n",
       "      <th>2</th>\n",
       "      <td>Color</td>\n",
       "      <td>Sam Mendes</td>\n",
       "      <td>148.0</td>\n",
       "      <td>0.0</td>\n",
       "      <td>11700</td>\n",
       "      <td>UK</td>\n",
       "      <td>PG-13</td>\n",
       "    </tr>\n",
       "    <tr>\n",
       "      <th>3</th>\n",
       "      <td>Color</td>\n",
       "      <td>Christopher Nolan</td>\n",
       "      <td>164.0</td>\n",
       "      <td>22000.0</td>\n",
       "      <td>106759</td>\n",
       "      <td>USA</td>\n",
       "      <td>PG-13</td>\n",
       "    </tr>\n",
       "    <tr>\n",
       "      <th>4</th>\n",
       "      <td>NaN</td>\n",
       "      <td>Doug Walker</td>\n",
       "      <td>NaN</td>\n",
       "      <td>131.0</td>\n",
       "      <td>143</td>\n",
       "      <td>NaN</td>\n",
       "      <td>NaN</td>\n",
       "    </tr>\n",
       "    <tr>\n",
       "      <th>...</th>\n",
       "      <td>...</td>\n",
       "      <td>...</td>\n",
       "      <td>...</td>\n",
       "      <td>...</td>\n",
       "      <td>...</td>\n",
       "      <td>...</td>\n",
       "      <td>...</td>\n",
       "    </tr>\n",
       "    <tr>\n",
       "      <th>4911</th>\n",
       "      <td>Color</td>\n",
       "      <td>Scott Smith</td>\n",
       "      <td>87.0</td>\n",
       "      <td>2.0</td>\n",
       "      <td>2283</td>\n",
       "      <td>Canada</td>\n",
       "      <td>NaN</td>\n",
       "    </tr>\n",
       "    <tr>\n",
       "      <th>4912</th>\n",
       "      <td>Color</td>\n",
       "      <td>NaN</td>\n",
       "      <td>43.0</td>\n",
       "      <td>NaN</td>\n",
       "      <td>1753</td>\n",
       "      <td>USA</td>\n",
       "      <td>TV-14</td>\n",
       "    </tr>\n",
       "    <tr>\n",
       "      <th>4913</th>\n",
       "      <td>Color</td>\n",
       "      <td>Benjamin Roberds</td>\n",
       "      <td>76.0</td>\n",
       "      <td>0.0</td>\n",
       "      <td>0</td>\n",
       "      <td>USA</td>\n",
       "      <td>NaN</td>\n",
       "    </tr>\n",
       "    <tr>\n",
       "      <th>4914</th>\n",
       "      <td>Color</td>\n",
       "      <td>Daniel Hsia</td>\n",
       "      <td>100.0</td>\n",
       "      <td>0.0</td>\n",
       "      <td>2386</td>\n",
       "      <td>USA</td>\n",
       "      <td>PG-13</td>\n",
       "    </tr>\n",
       "    <tr>\n",
       "      <th>4915</th>\n",
       "      <td>Color</td>\n",
       "      <td>Jon Gunn</td>\n",
       "      <td>90.0</td>\n",
       "      <td>16.0</td>\n",
       "      <td>163</td>\n",
       "      <td>USA</td>\n",
       "      <td>PG</td>\n",
       "    </tr>\n",
       "  </tbody>\n",
       "</table>\n",
       "<p>4916 rows × 7 columns</p>\n",
       "</div>"
      ],
      "text/plain": [
       "      color      director_name  duration  director_facebook_likes  \\\n",
       "0     Color      James Cameron     178.0                      0.0   \n",
       "1     Color     Gore Verbinski     169.0                    563.0   \n",
       "2     Color         Sam Mendes     148.0                      0.0   \n",
       "3     Color  Christopher Nolan     164.0                  22000.0   \n",
       "4       NaN        Doug Walker       NaN                    131.0   \n",
       "...     ...                ...       ...                      ...   \n",
       "4911  Color        Scott Smith      87.0                      2.0   \n",
       "4912  Color                NaN      43.0                      NaN   \n",
       "4913  Color   Benjamin Roberds      76.0                      0.0   \n",
       "4914  Color        Daniel Hsia     100.0                      0.0   \n",
       "4915  Color           Jon Gunn      90.0                     16.0   \n",
       "\n",
       "      cast_total_facebook_likes country content_rating  \n",
       "0                          4834     USA          PG-13  \n",
       "1                         48350     USA          PG-13  \n",
       "2                         11700      UK          PG-13  \n",
       "3                        106759     USA          PG-13  \n",
       "4                           143     NaN            NaN  \n",
       "...                         ...     ...            ...  \n",
       "4911                       2283  Canada            NaN  \n",
       "4912                       1753     USA          TV-14  \n",
       "4913                          0     USA            NaN  \n",
       "4914                       2386     USA          PG-13  \n",
       "4915                        163     USA             PG  \n",
       "\n",
       "[4916 rows x 7 columns]"
      ]
     },
     "execution_count": 49,
     "metadata": {},
     "output_type": "execute_result"
    }
   ],
   "source": [
    "df.loc[:,map(lambda x: 'c' == x[0] or 'd' == x[0] ,df.columns )]"
   ]
  },
  {
   "cell_type": "markdown",
   "id": "f926559a-b7d8-4846-b219-3aa33e5e9d9a",
   "metadata": {},
   "source": [
    "# 판다스: 새로운 열의 할당 1단계"
   ]
  },
  {
   "cell_type": "markdown",
   "id": "3a99cb71-52a1-435e-a377-b61520d9961a",
   "metadata": {},
   "source": [
    "## 방법1: concat"
   ]
  },
  {
   "cell_type": "code",
   "execution_count": 50,
   "id": "ffaa59f5-3bf8-49fa-a9a2-bcdabcf7b455",
   "metadata": {},
   "outputs": [
    {
     "data": {
      "text/html": [
       "<div>\n",
       "<style scoped>\n",
       "    .dataframe tbody tr th:only-of-type {\n",
       "        vertical-align: middle;\n",
       "    }\n",
       "\n",
       "    .dataframe tbody tr th {\n",
       "        vertical-align: top;\n",
       "    }\n",
       "\n",
       "    .dataframe thead th {\n",
       "        text-align: right;\n",
       "    }\n",
       "</style>\n",
       "<table border=\"1\" class=\"dataframe\">\n",
       "  <thead>\n",
       "    <tr style=\"text-align: right;\">\n",
       "      <th></th>\n",
       "      <th>a</th>\n",
       "      <th>b</th>\n",
       "    </tr>\n",
       "  </thead>\n",
       "  <tbody>\n",
       "    <tr>\n",
       "      <th>0</th>\n",
       "      <td>1</td>\n",
       "      <td>2</td>\n",
       "    </tr>\n",
       "    <tr>\n",
       "      <th>1</th>\n",
       "      <td>2</td>\n",
       "      <td>3</td>\n",
       "    </tr>\n",
       "    <tr>\n",
       "      <th>2</th>\n",
       "      <td>3</td>\n",
       "      <td>4</td>\n",
       "    </tr>\n",
       "  </tbody>\n",
       "</table>\n",
       "</div>"
      ],
      "text/plain": [
       "   a  b\n",
       "0  1  2\n",
       "1  2  3\n",
       "2  3  4"
      ]
     },
     "execution_count": 50,
     "metadata": {},
     "output_type": "execute_result"
    }
   ],
   "source": [
    "df = pd.DataFrame({'a':[1,2,3],'b':[2,3,4]})\n",
    "df"
   ]
  },
  {
   "cell_type": "code",
   "execution_count": 51,
   "id": "b13a33e3-6153-4e35-9625-4611e0bfc3c3",
   "metadata": {},
   "outputs": [
    {
     "data": {
      "text/html": [
       "<div>\n",
       "<style scoped>\n",
       "    .dataframe tbody tr th:only-of-type {\n",
       "        vertical-align: middle;\n",
       "    }\n",
       "\n",
       "    .dataframe tbody tr th {\n",
       "        vertical-align: top;\n",
       "    }\n",
       "\n",
       "    .dataframe thead th {\n",
       "        text-align: right;\n",
       "    }\n",
       "</style>\n",
       "<table border=\"1\" class=\"dataframe\">\n",
       "  <thead>\n",
       "    <tr style=\"text-align: right;\">\n",
       "      <th></th>\n",
       "      <th>c</th>\n",
       "    </tr>\n",
       "  </thead>\n",
       "  <tbody>\n",
       "    <tr>\n",
       "      <th>0</th>\n",
       "      <td>3</td>\n",
       "    </tr>\n",
       "    <tr>\n",
       "      <th>1</th>\n",
       "      <td>4</td>\n",
       "    </tr>\n",
       "    <tr>\n",
       "      <th>2</th>\n",
       "      <td>5</td>\n",
       "    </tr>\n",
       "  </tbody>\n",
       "</table>\n",
       "</div>"
      ],
      "text/plain": [
       "   c\n",
       "0  3\n",
       "1  4\n",
       "2  5"
      ]
     },
     "execution_count": 51,
     "metadata": {},
     "output_type": "execute_result"
    }
   ],
   "source": [
    "_df = pd.DataFrame({'c':[3,4,5]}) \n",
    "_df"
   ]
  },
  {
   "cell_type": "code",
   "execution_count": 52,
   "id": "b311eb58-9f71-4b72-acd6-96dc04bd8112",
   "metadata": {},
   "outputs": [
    {
     "data": {
      "text/html": [
       "<div>\n",
       "<style scoped>\n",
       "    .dataframe tbody tr th:only-of-type {\n",
       "        vertical-align: middle;\n",
       "    }\n",
       "\n",
       "    .dataframe tbody tr th {\n",
       "        vertical-align: top;\n",
       "    }\n",
       "\n",
       "    .dataframe thead th {\n",
       "        text-align: right;\n",
       "    }\n",
       "</style>\n",
       "<table border=\"1\" class=\"dataframe\">\n",
       "  <thead>\n",
       "    <tr style=\"text-align: right;\">\n",
       "      <th></th>\n",
       "      <th>a</th>\n",
       "      <th>b</th>\n",
       "      <th>c</th>\n",
       "    </tr>\n",
       "  </thead>\n",
       "  <tbody>\n",
       "    <tr>\n",
       "      <th>0</th>\n",
       "      <td>1</td>\n",
       "      <td>2</td>\n",
       "      <td>3</td>\n",
       "    </tr>\n",
       "    <tr>\n",
       "      <th>1</th>\n",
       "      <td>2</td>\n",
       "      <td>3</td>\n",
       "      <td>4</td>\n",
       "    </tr>\n",
       "    <tr>\n",
       "      <th>2</th>\n",
       "      <td>3</td>\n",
       "      <td>4</td>\n",
       "      <td>5</td>\n",
       "    </tr>\n",
       "  </tbody>\n",
       "</table>\n",
       "</div>"
      ],
      "text/plain": [
       "   a  b  c\n",
       "0  1  2  3\n",
       "1  2  3  4\n",
       "2  3  4  5"
      ]
     },
     "execution_count": 52,
     "metadata": {},
     "output_type": "execute_result"
    }
   ],
   "source": [
    "pd.concat([df,_df],axis=1)"
   ]
  },
  {
   "cell_type": "markdown",
   "id": "efa1d7b8-101c-496d-9e24-259e9c77377a",
   "metadata": {},
   "source": [
    "## 방법2: 4가지 컨셉에 따른 할당 "
   ]
  },
  {
   "cell_type": "markdown",
   "id": "9a2dcd91-d1ad-420a-9773-2e8e13e3705f",
   "metadata": {},
   "source": [
    "### `#` 컨셉1: 불가능 "
   ]
  },
  {
   "cell_type": "code",
   "execution_count": 21,
   "id": "a202d0e7-8f4b-483f-8561-a17616323b23",
   "metadata": {},
   "outputs": [
    {
     "data": {
      "text/html": [
       "<div>\n",
       "<style scoped>\n",
       "    .dataframe tbody tr th:only-of-type {\n",
       "        vertical-align: middle;\n",
       "    }\n",
       "\n",
       "    .dataframe tbody tr th {\n",
       "        vertical-align: top;\n",
       "    }\n",
       "\n",
       "    .dataframe thead th {\n",
       "        text-align: right;\n",
       "    }\n",
       "</style>\n",
       "<table border=\"1\" class=\"dataframe\">\n",
       "  <thead>\n",
       "    <tr style=\"text-align: right;\">\n",
       "      <th></th>\n",
       "      <th>a</th>\n",
       "      <th>b</th>\n",
       "    </tr>\n",
       "  </thead>\n",
       "  <tbody>\n",
       "    <tr>\n",
       "      <th>0</th>\n",
       "      <td>1</td>\n",
       "      <td>2</td>\n",
       "    </tr>\n",
       "    <tr>\n",
       "      <th>1</th>\n",
       "      <td>2</td>\n",
       "      <td>3</td>\n",
       "    </tr>\n",
       "    <tr>\n",
       "      <th>2</th>\n",
       "      <td>3</td>\n",
       "      <td>4</td>\n",
       "    </tr>\n",
       "  </tbody>\n",
       "</table>\n",
       "</div>"
      ],
      "text/plain": [
       "   a  b\n",
       "0  1  2\n",
       "1  2  3\n",
       "2  3  4"
      ]
     },
     "execution_count": 21,
     "metadata": {},
     "output_type": "execute_result"
    }
   ],
   "source": [
    "df = pd.DataFrame({'a':[1,2,3],'b':[2,3,4]})\n",
    "df"
   ]
  },
  {
   "cell_type": "code",
   "execution_count": 22,
   "id": "b69a1b4c-fd49-40ff-bfa7-c963397614ce",
   "metadata": {},
   "outputs": [
    {
     "name": "stderr",
     "output_type": "stream",
     "text": [
      "/home/cgb4/anaconda3/envs/py37/lib/python3.7/site-packages/ipykernel_launcher.py:1: UserWarning: Pandas doesn't allow columns to be created via a new attribute name - see https://pandas.pydata.org/pandas-docs/stable/indexing.html#attribute-access\n",
      "  \"\"\"Entry point for launching an IPython kernel.\n"
     ]
    },
    {
     "data": {
      "text/html": [
       "<div>\n",
       "<style scoped>\n",
       "    .dataframe tbody tr th:only-of-type {\n",
       "        vertical-align: middle;\n",
       "    }\n",
       "\n",
       "    .dataframe tbody tr th {\n",
       "        vertical-align: top;\n",
       "    }\n",
       "\n",
       "    .dataframe thead th {\n",
       "        text-align: right;\n",
       "    }\n",
       "</style>\n",
       "<table border=\"1\" class=\"dataframe\">\n",
       "  <thead>\n",
       "    <tr style=\"text-align: right;\">\n",
       "      <th></th>\n",
       "      <th>a</th>\n",
       "      <th>b</th>\n",
       "    </tr>\n",
       "  </thead>\n",
       "  <tbody>\n",
       "    <tr>\n",
       "      <th>0</th>\n",
       "      <td>1</td>\n",
       "      <td>2</td>\n",
       "    </tr>\n",
       "    <tr>\n",
       "      <th>1</th>\n",
       "      <td>2</td>\n",
       "      <td>3</td>\n",
       "    </tr>\n",
       "    <tr>\n",
       "      <th>2</th>\n",
       "      <td>3</td>\n",
       "      <td>4</td>\n",
       "    </tr>\n",
       "  </tbody>\n",
       "</table>\n",
       "</div>"
      ],
      "text/plain": [
       "   a  b\n",
       "0  1  2\n",
       "1  2  3\n",
       "2  3  4"
      ]
     },
     "execution_count": 22,
     "metadata": {},
     "output_type": "execute_result"
    }
   ],
   "source": [
    "df.c = pd.Series([1,2,3]) \n",
    "df"
   ]
  },
  {
   "cell_type": "markdown",
   "id": "44dbf6f4-decd-436f-8f26-3ef86ea0960c",
   "metadata": {},
   "source": [
    "### `#` 컨셉2: 가능"
   ]
  },
  {
   "cell_type": "markdown",
   "id": "6f400440-4427-422d-ade6-fbdaffead96b",
   "metadata": {},
   "source": [
    "`(예시1)` -- 사실상 이렇게 해야함."
   ]
  },
  {
   "cell_type": "code",
   "execution_count": 23,
   "id": "fda2afd9-73ed-490b-a918-cc4120c20b0b",
   "metadata": {},
   "outputs": [
    {
     "data": {
      "text/html": [
       "<div>\n",
       "<style scoped>\n",
       "    .dataframe tbody tr th:only-of-type {\n",
       "        vertical-align: middle;\n",
       "    }\n",
       "\n",
       "    .dataframe tbody tr th {\n",
       "        vertical-align: top;\n",
       "    }\n",
       "\n",
       "    .dataframe thead th {\n",
       "        text-align: right;\n",
       "    }\n",
       "</style>\n",
       "<table border=\"1\" class=\"dataframe\">\n",
       "  <thead>\n",
       "    <tr style=\"text-align: right;\">\n",
       "      <th></th>\n",
       "      <th>a</th>\n",
       "      <th>b</th>\n",
       "    </tr>\n",
       "  </thead>\n",
       "  <tbody>\n",
       "    <tr>\n",
       "      <th>0</th>\n",
       "      <td>1</td>\n",
       "      <td>2</td>\n",
       "    </tr>\n",
       "    <tr>\n",
       "      <th>1</th>\n",
       "      <td>2</td>\n",
       "      <td>3</td>\n",
       "    </tr>\n",
       "    <tr>\n",
       "      <th>2</th>\n",
       "      <td>3</td>\n",
       "      <td>4</td>\n",
       "    </tr>\n",
       "  </tbody>\n",
       "</table>\n",
       "</div>"
      ],
      "text/plain": [
       "   a  b\n",
       "0  1  2\n",
       "1  2  3\n",
       "2  3  4"
      ]
     },
     "execution_count": 23,
     "metadata": {},
     "output_type": "execute_result"
    }
   ],
   "source": [
    "df = pd.DataFrame({'a':[1,2,3],'b':[2,3,4]})\n",
    "df"
   ]
  },
  {
   "cell_type": "code",
   "execution_count": 24,
   "id": "eefe6304-3b97-4b0f-86f7-1d02cd5d3b90",
   "metadata": {},
   "outputs": [
    {
     "data": {
      "text/html": [
       "<div>\n",
       "<style scoped>\n",
       "    .dataframe tbody tr th:only-of-type {\n",
       "        vertical-align: middle;\n",
       "    }\n",
       "\n",
       "    .dataframe tbody tr th {\n",
       "        vertical-align: top;\n",
       "    }\n",
       "\n",
       "    .dataframe thead th {\n",
       "        text-align: right;\n",
       "    }\n",
       "</style>\n",
       "<table border=\"1\" class=\"dataframe\">\n",
       "  <thead>\n",
       "    <tr style=\"text-align: right;\">\n",
       "      <th></th>\n",
       "      <th>a</th>\n",
       "      <th>b</th>\n",
       "      <th>c</th>\n",
       "    </tr>\n",
       "  </thead>\n",
       "  <tbody>\n",
       "    <tr>\n",
       "      <th>0</th>\n",
       "      <td>1</td>\n",
       "      <td>2</td>\n",
       "      <td>3</td>\n",
       "    </tr>\n",
       "    <tr>\n",
       "      <th>1</th>\n",
       "      <td>2</td>\n",
       "      <td>3</td>\n",
       "      <td>4</td>\n",
       "    </tr>\n",
       "    <tr>\n",
       "      <th>2</th>\n",
       "      <td>3</td>\n",
       "      <td>4</td>\n",
       "      <td>5</td>\n",
       "    </tr>\n",
       "  </tbody>\n",
       "</table>\n",
       "</div>"
      ],
      "text/plain": [
       "   a  b  c\n",
       "0  1  2  3\n",
       "1  2  3  4\n",
       "2  3  4  5"
      ]
     },
     "execution_count": 24,
     "metadata": {},
     "output_type": "execute_result"
    }
   ],
   "source": [
    "df['c']=[3,4,5]\n",
    "df"
   ]
  },
  {
   "cell_type": "markdown",
   "id": "5e9c4e5b-f9de-4d02-984e-7d35eb6a6d24",
   "metadata": {},
   "source": [
    "`(예시2)` - 굳이 이렇게까지 할필요는 없음."
   ]
  },
  {
   "cell_type": "code",
   "execution_count": 25,
   "id": "ce222c94-669b-4696-804c-91ea19c7479c",
   "metadata": {},
   "outputs": [
    {
     "data": {
      "text/html": [
       "<div>\n",
       "<style scoped>\n",
       "    .dataframe tbody tr th:only-of-type {\n",
       "        vertical-align: middle;\n",
       "    }\n",
       "\n",
       "    .dataframe tbody tr th {\n",
       "        vertical-align: top;\n",
       "    }\n",
       "\n",
       "    .dataframe thead th {\n",
       "        text-align: right;\n",
       "    }\n",
       "</style>\n",
       "<table border=\"1\" class=\"dataframe\">\n",
       "  <thead>\n",
       "    <tr style=\"text-align: right;\">\n",
       "      <th></th>\n",
       "      <th>a</th>\n",
       "      <th>b</th>\n",
       "    </tr>\n",
       "  </thead>\n",
       "  <tbody>\n",
       "    <tr>\n",
       "      <th>0</th>\n",
       "      <td>1</td>\n",
       "      <td>2</td>\n",
       "    </tr>\n",
       "    <tr>\n",
       "      <th>1</th>\n",
       "      <td>2</td>\n",
       "      <td>3</td>\n",
       "    </tr>\n",
       "    <tr>\n",
       "      <th>2</th>\n",
       "      <td>3</td>\n",
       "      <td>4</td>\n",
       "    </tr>\n",
       "  </tbody>\n",
       "</table>\n",
       "</div>"
      ],
      "text/plain": [
       "   a  b\n",
       "0  1  2\n",
       "1  2  3\n",
       "2  3  4"
      ]
     },
     "execution_count": 25,
     "metadata": {},
     "output_type": "execute_result"
    }
   ],
   "source": [
    "df = pd.DataFrame({'a':[1,2,3],'b':[2,3,4]})\n",
    "df"
   ]
  },
  {
   "cell_type": "code",
   "execution_count": 26,
   "id": "8febad42-06fc-4969-8f56-91b803c0b79f",
   "metadata": {},
   "outputs": [
    {
     "data": {
      "text/html": [
       "<div>\n",
       "<style scoped>\n",
       "    .dataframe tbody tr th:only-of-type {\n",
       "        vertical-align: middle;\n",
       "    }\n",
       "\n",
       "    .dataframe tbody tr th {\n",
       "        vertical-align: top;\n",
       "    }\n",
       "\n",
       "    .dataframe thead th {\n",
       "        text-align: right;\n",
       "    }\n",
       "</style>\n",
       "<table border=\"1\" class=\"dataframe\">\n",
       "  <thead>\n",
       "    <tr style=\"text-align: right;\">\n",
       "      <th></th>\n",
       "      <th>a</th>\n",
       "      <th>b</th>\n",
       "      <th>c</th>\n",
       "      <th>d</th>\n",
       "    </tr>\n",
       "  </thead>\n",
       "  <tbody>\n",
       "    <tr>\n",
       "      <th>0</th>\n",
       "      <td>1</td>\n",
       "      <td>2</td>\n",
       "      <td>3</td>\n",
       "      <td>4</td>\n",
       "    </tr>\n",
       "    <tr>\n",
       "      <th>1</th>\n",
       "      <td>2</td>\n",
       "      <td>3</td>\n",
       "      <td>4</td>\n",
       "      <td>5</td>\n",
       "    </tr>\n",
       "    <tr>\n",
       "      <th>2</th>\n",
       "      <td>3</td>\n",
       "      <td>4</td>\n",
       "      <td>5</td>\n",
       "      <td>6</td>\n",
       "    </tr>\n",
       "  </tbody>\n",
       "</table>\n",
       "</div>"
      ],
      "text/plain": [
       "   a  b  c  d\n",
       "0  1  2  3  4\n",
       "1  2  3  4  5\n",
       "2  3  4  5  6"
      ]
     },
     "execution_count": 26,
     "metadata": {},
     "output_type": "execute_result"
    }
   ],
   "source": [
    "df[['c','d']]=np.array([[3,4,5],[4,5,6]]).T # 굳이.. \n",
    "df"
   ]
  },
  {
   "cell_type": "markdown",
   "id": "bad0d370-3686-4680-bb43-d6e49afff9a3",
   "metadata": {},
   "source": [
    "`(예시3)`"
   ]
  },
  {
   "cell_type": "code",
   "execution_count": 27,
   "id": "8a2ff6b6-f1fd-40e8-b194-a4f0cdee2a71",
   "metadata": {},
   "outputs": [
    {
     "data": {
      "text/html": [
       "<div>\n",
       "<style scoped>\n",
       "    .dataframe tbody tr th:only-of-type {\n",
       "        vertical-align: middle;\n",
       "    }\n",
       "\n",
       "    .dataframe tbody tr th {\n",
       "        vertical-align: top;\n",
       "    }\n",
       "\n",
       "    .dataframe thead th {\n",
       "        text-align: right;\n",
       "    }\n",
       "</style>\n",
       "<table border=\"1\" class=\"dataframe\">\n",
       "  <thead>\n",
       "    <tr style=\"text-align: right;\">\n",
       "      <th></th>\n",
       "      <th>a</th>\n",
       "      <th>b</th>\n",
       "    </tr>\n",
       "  </thead>\n",
       "  <tbody>\n",
       "    <tr>\n",
       "      <th>0</th>\n",
       "      <td>1</td>\n",
       "      <td>2</td>\n",
       "    </tr>\n",
       "    <tr>\n",
       "      <th>1</th>\n",
       "      <td>2</td>\n",
       "      <td>3</td>\n",
       "    </tr>\n",
       "    <tr>\n",
       "      <th>2</th>\n",
       "      <td>3</td>\n",
       "      <td>4</td>\n",
       "    </tr>\n",
       "  </tbody>\n",
       "</table>\n",
       "</div>"
      ],
      "text/plain": [
       "   a  b\n",
       "0  1  2\n",
       "1  2  3\n",
       "2  3  4"
      ]
     },
     "execution_count": 27,
     "metadata": {},
     "output_type": "execute_result"
    }
   ],
   "source": [
    "df = pd.DataFrame({'a':[1,2,3],'b':[2,3,4]})\n",
    "df"
   ]
  },
  {
   "cell_type": "code",
   "execution_count": 28,
   "id": "5baf165b-cfbf-41f8-b6ee-e8d347b6732a",
   "metadata": {},
   "outputs": [
    {
     "data": {
      "text/html": [
       "<div>\n",
       "<style scoped>\n",
       "    .dataframe tbody tr th:only-of-type {\n",
       "        vertical-align: middle;\n",
       "    }\n",
       "\n",
       "    .dataframe tbody tr th {\n",
       "        vertical-align: top;\n",
       "    }\n",
       "\n",
       "    .dataframe thead th {\n",
       "        text-align: right;\n",
       "    }\n",
       "</style>\n",
       "<table border=\"1\" class=\"dataframe\">\n",
       "  <thead>\n",
       "    <tr style=\"text-align: right;\">\n",
       "      <th></th>\n",
       "      <th>a</th>\n",
       "      <th>b</th>\n",
       "      <th>c</th>\n",
       "      <th>d</th>\n",
       "    </tr>\n",
       "  </thead>\n",
       "  <tbody>\n",
       "    <tr>\n",
       "      <th>0</th>\n",
       "      <td>1</td>\n",
       "      <td>2</td>\n",
       "      <td>3</td>\n",
       "      <td>4</td>\n",
       "    </tr>\n",
       "    <tr>\n",
       "      <th>1</th>\n",
       "      <td>2</td>\n",
       "      <td>3</td>\n",
       "      <td>4</td>\n",
       "      <td>5</td>\n",
       "    </tr>\n",
       "    <tr>\n",
       "      <th>2</th>\n",
       "      <td>3</td>\n",
       "      <td>4</td>\n",
       "      <td>5</td>\n",
       "      <td>6</td>\n",
       "    </tr>\n",
       "  </tbody>\n",
       "</table>\n",
       "</div>"
      ],
      "text/plain": [
       "   a  b  c  d\n",
       "0  1  2  3  4\n",
       "1  2  3  4  5\n",
       "2  3  4  5  6"
      ]
     },
     "execution_count": 28,
     "metadata": {},
     "output_type": "execute_result"
    }
   ],
   "source": [
    "df['c'],df['d']=[3,4,5],[4,5,6]\n",
    "df"
   ]
  },
  {
   "cell_type": "markdown",
   "id": "418abd2d-1a91-48b1-9173-c100275b18ae",
   "metadata": {},
   "source": [
    "### `#` 컨셉3: 불가능"
   ]
  },
  {
   "cell_type": "markdown",
   "id": "e91b83c4-17ab-443c-a8f2-6d39f7858742",
   "metadata": {},
   "source": [
    "(예시1)"
   ]
  },
  {
   "cell_type": "code",
   "execution_count": 29,
   "id": "1bdc2090-156d-4a42-9793-b4ef2b6881ca",
   "metadata": {},
   "outputs": [
    {
     "data": {
      "text/html": [
       "<div>\n",
       "<style scoped>\n",
       "    .dataframe tbody tr th:only-of-type {\n",
       "        vertical-align: middle;\n",
       "    }\n",
       "\n",
       "    .dataframe tbody tr th {\n",
       "        vertical-align: top;\n",
       "    }\n",
       "\n",
       "    .dataframe thead th {\n",
       "        text-align: right;\n",
       "    }\n",
       "</style>\n",
       "<table border=\"1\" class=\"dataframe\">\n",
       "  <thead>\n",
       "    <tr style=\"text-align: right;\">\n",
       "      <th></th>\n",
       "      <th>a</th>\n",
       "      <th>b</th>\n",
       "    </tr>\n",
       "  </thead>\n",
       "  <tbody>\n",
       "    <tr>\n",
       "      <th>0</th>\n",
       "      <td>1</td>\n",
       "      <td>2</td>\n",
       "    </tr>\n",
       "    <tr>\n",
       "      <th>1</th>\n",
       "      <td>2</td>\n",
       "      <td>3</td>\n",
       "    </tr>\n",
       "    <tr>\n",
       "      <th>2</th>\n",
       "      <td>3</td>\n",
       "      <td>4</td>\n",
       "    </tr>\n",
       "  </tbody>\n",
       "</table>\n",
       "</div>"
      ],
      "text/plain": [
       "   a  b\n",
       "0  1  2\n",
       "1  2  3\n",
       "2  3  4"
      ]
     },
     "execution_count": 29,
     "metadata": {},
     "output_type": "execute_result"
    }
   ],
   "source": [
    "ame({'a':[1,2,3],'b':[2,3,4]})\n",
    "dfdf = pd.DataFr"
   ]
  },
  {
   "cell_type": "code",
   "execution_count": 30,
   "id": "3d113666-d342-4933-a309-46b89b93dac3",
   "metadata": {},
   "outputs": [
    {
     "ename": "IndexError",
     "evalue": "iloc cannot enlarge its target object",
     "output_type": "error",
     "traceback": [
      "\u001b[0;31m---------------------------------------------------------------------------\u001b[0m",
      "\u001b[0;31mIndexError\u001b[0m                                Traceback (most recent call last)",
      "\u001b[0;32m/tmp/ipykernel_1491369/2293349637.py\u001b[0m in \u001b[0;36m<module>\u001b[0;34m\u001b[0m\n\u001b[0;32m----> 1\u001b[0;31m \u001b[0mdf\u001b[0m\u001b[0;34m.\u001b[0m\u001b[0miloc\u001b[0m\u001b[0;34m[\u001b[0m\u001b[0;34m:\u001b[0m\u001b[0;34m,\u001b[0m\u001b[0;36m2\u001b[0m\u001b[0;34m]\u001b[0m \u001b[0;34m=\u001b[0m \u001b[0;34m[\u001b[0m\u001b[0;36m3\u001b[0m\u001b[0;34m,\u001b[0m\u001b[0;36m4\u001b[0m\u001b[0;34m,\u001b[0m\u001b[0;36m5\u001b[0m\u001b[0;34m]\u001b[0m\u001b[0;34m\u001b[0m\u001b[0;34m\u001b[0m\u001b[0m\n\u001b[0m\u001b[1;32m      2\u001b[0m \u001b[0mdf\u001b[0m\u001b[0;34m\u001b[0m\u001b[0;34m\u001b[0m\u001b[0m\n",
      "\u001b[0;32m~/anaconda3/envs/py37/lib/python3.7/site-packages/pandas/core/indexing.py\u001b[0m in \u001b[0;36m__setitem__\u001b[0;34m(self, key, value)\u001b[0m\n\u001b[1;32m    718\u001b[0m             \u001b[0mkey\u001b[0m \u001b[0;34m=\u001b[0m \u001b[0mcom\u001b[0m\u001b[0;34m.\u001b[0m\u001b[0mapply_if_callable\u001b[0m\u001b[0;34m(\u001b[0m\u001b[0mkey\u001b[0m\u001b[0;34m,\u001b[0m \u001b[0mself\u001b[0m\u001b[0;34m.\u001b[0m\u001b[0mobj\u001b[0m\u001b[0;34m)\u001b[0m\u001b[0;34m\u001b[0m\u001b[0;34m\u001b[0m\u001b[0m\n\u001b[1;32m    719\u001b[0m         \u001b[0mindexer\u001b[0m \u001b[0;34m=\u001b[0m \u001b[0mself\u001b[0m\u001b[0;34m.\u001b[0m\u001b[0m_get_setitem_indexer\u001b[0m\u001b[0;34m(\u001b[0m\u001b[0mkey\u001b[0m\u001b[0;34m)\u001b[0m\u001b[0;34m\u001b[0m\u001b[0;34m\u001b[0m\u001b[0m\n\u001b[0;32m--> 720\u001b[0;31m         \u001b[0mself\u001b[0m\u001b[0;34m.\u001b[0m\u001b[0m_has_valid_setitem_indexer\u001b[0m\u001b[0;34m(\u001b[0m\u001b[0mkey\u001b[0m\u001b[0;34m)\u001b[0m\u001b[0;34m\u001b[0m\u001b[0;34m\u001b[0m\u001b[0m\n\u001b[0m\u001b[1;32m    721\u001b[0m \u001b[0;34m\u001b[0m\u001b[0m\n\u001b[1;32m    722\u001b[0m         \u001b[0miloc\u001b[0m \u001b[0;34m=\u001b[0m \u001b[0mself\u001b[0m \u001b[0;32mif\u001b[0m \u001b[0mself\u001b[0m\u001b[0;34m.\u001b[0m\u001b[0mname\u001b[0m \u001b[0;34m==\u001b[0m \u001b[0;34m\"iloc\"\u001b[0m \u001b[0;32melse\u001b[0m \u001b[0mself\u001b[0m\u001b[0;34m.\u001b[0m\u001b[0mobj\u001b[0m\u001b[0;34m.\u001b[0m\u001b[0miloc\u001b[0m\u001b[0;34m\u001b[0m\u001b[0;34m\u001b[0m\u001b[0m\n",
      "\u001b[0;32m~/anaconda3/envs/py37/lib/python3.7/site-packages/pandas/core/indexing.py\u001b[0m in \u001b[0;36m_has_valid_setitem_indexer\u001b[0;34m(self, indexer)\u001b[0m\n\u001b[1;32m   1459\u001b[0m             \u001b[0;32melif\u001b[0m \u001b[0mis_integer\u001b[0m\u001b[0;34m(\u001b[0m\u001b[0mi\u001b[0m\u001b[0;34m)\u001b[0m\u001b[0;34m:\u001b[0m\u001b[0;34m\u001b[0m\u001b[0;34m\u001b[0m\u001b[0m\n\u001b[1;32m   1460\u001b[0m                 \u001b[0;32mif\u001b[0m \u001b[0mi\u001b[0m \u001b[0;34m>=\u001b[0m \u001b[0mlen\u001b[0m\u001b[0;34m(\u001b[0m\u001b[0max\u001b[0m\u001b[0;34m)\u001b[0m\u001b[0;34m:\u001b[0m\u001b[0;34m\u001b[0m\u001b[0;34m\u001b[0m\u001b[0m\n\u001b[0;32m-> 1461\u001b[0;31m                     \u001b[0;32mraise\u001b[0m \u001b[0mIndexError\u001b[0m\u001b[0;34m(\u001b[0m\u001b[0;34m\"iloc cannot enlarge its target object\"\u001b[0m\u001b[0;34m)\u001b[0m\u001b[0;34m\u001b[0m\u001b[0;34m\u001b[0m\u001b[0m\n\u001b[0m\u001b[1;32m   1462\u001b[0m             \u001b[0;32melif\u001b[0m \u001b[0misinstance\u001b[0m\u001b[0;34m(\u001b[0m\u001b[0mi\u001b[0m\u001b[0;34m,\u001b[0m \u001b[0mdict\u001b[0m\u001b[0;34m)\u001b[0m\u001b[0;34m:\u001b[0m\u001b[0;34m\u001b[0m\u001b[0;34m\u001b[0m\u001b[0m\n\u001b[1;32m   1463\u001b[0m                 \u001b[0;32mraise\u001b[0m \u001b[0mIndexError\u001b[0m\u001b[0;34m(\u001b[0m\u001b[0;34m\"iloc cannot enlarge its target object\"\u001b[0m\u001b[0;34m)\u001b[0m\u001b[0;34m\u001b[0m\u001b[0;34m\u001b[0m\u001b[0m\n",
      "\u001b[0;31mIndexError\u001b[0m: iloc cannot enlarge its target object"
     ]
    }
   ],
   "source": [
    "df.iloc[:,2] = [3,4,5] \n",
    "df"
   ]
  },
  {
   "cell_type": "markdown",
   "id": "35d7e01e-78ca-48e4-81c8-c7c3eb5404f7",
   "metadata": {},
   "source": [
    "### `#` 컨셉4: 가능"
   ]
  },
  {
   "cell_type": "markdown",
   "id": "c617977b-84dc-4da5-8f9f-8bfa1703fd0d",
   "metadata": {},
   "source": [
    "(예시1)"
   ]
  },
  {
   "cell_type": "code",
   "execution_count": 31,
   "id": "25eeff73-8c4f-49bc-98f1-27f9da6a020a",
   "metadata": {},
   "outputs": [
    {
     "data": {
      "text/html": [
       "<div>\n",
       "<style scoped>\n",
       "    .dataframe tbody tr th:only-of-type {\n",
       "        vertical-align: middle;\n",
       "    }\n",
       "\n",
       "    .dataframe tbody tr th {\n",
       "        vertical-align: top;\n",
       "    }\n",
       "\n",
       "    .dataframe thead th {\n",
       "        text-align: right;\n",
       "    }\n",
       "</style>\n",
       "<table border=\"1\" class=\"dataframe\">\n",
       "  <thead>\n",
       "    <tr style=\"text-align: right;\">\n",
       "      <th></th>\n",
       "      <th>a</th>\n",
       "      <th>b</th>\n",
       "    </tr>\n",
       "  </thead>\n",
       "  <tbody>\n",
       "    <tr>\n",
       "      <th>0</th>\n",
       "      <td>1</td>\n",
       "      <td>2</td>\n",
       "    </tr>\n",
       "    <tr>\n",
       "      <th>1</th>\n",
       "      <td>2</td>\n",
       "      <td>3</td>\n",
       "    </tr>\n",
       "    <tr>\n",
       "      <th>2</th>\n",
       "      <td>3</td>\n",
       "      <td>4</td>\n",
       "    </tr>\n",
       "  </tbody>\n",
       "</table>\n",
       "</div>"
      ],
      "text/plain": [
       "   a  b\n",
       "0  1  2\n",
       "1  2  3\n",
       "2  3  4"
      ]
     },
     "execution_count": 31,
     "metadata": {},
     "output_type": "execute_result"
    }
   ],
   "source": [
    "df = pd.DataFrame({'a':[1,2,3],'b':[2,3,4]})\n",
    "df"
   ]
  },
  {
   "cell_type": "code",
   "execution_count": 32,
   "id": "5230c0c0-5d4f-4b04-a98d-9d9a191891f1",
   "metadata": {},
   "outputs": [
    {
     "data": {
      "text/html": [
       "<div>\n",
       "<style scoped>\n",
       "    .dataframe tbody tr th:only-of-type {\n",
       "        vertical-align: middle;\n",
       "    }\n",
       "\n",
       "    .dataframe tbody tr th {\n",
       "        vertical-align: top;\n",
       "    }\n",
       "\n",
       "    .dataframe thead th {\n",
       "        text-align: right;\n",
       "    }\n",
       "</style>\n",
       "<table border=\"1\" class=\"dataframe\">\n",
       "  <thead>\n",
       "    <tr style=\"text-align: right;\">\n",
       "      <th></th>\n",
       "      <th>a</th>\n",
       "      <th>b</th>\n",
       "      <th>c</th>\n",
       "    </tr>\n",
       "  </thead>\n",
       "  <tbody>\n",
       "    <tr>\n",
       "      <th>0</th>\n",
       "      <td>1</td>\n",
       "      <td>2</td>\n",
       "      <td>3</td>\n",
       "    </tr>\n",
       "    <tr>\n",
       "      <th>1</th>\n",
       "      <td>2</td>\n",
       "      <td>3</td>\n",
       "      <td>4</td>\n",
       "    </tr>\n",
       "    <tr>\n",
       "      <th>2</th>\n",
       "      <td>3</td>\n",
       "      <td>4</td>\n",
       "      <td>5</td>\n",
       "    </tr>\n",
       "  </tbody>\n",
       "</table>\n",
       "</div>"
      ],
      "text/plain": [
       "   a  b  c\n",
       "0  1  2  3\n",
       "1  2  3  4\n",
       "2  3  4  5"
      ]
     },
     "execution_count": 32,
     "metadata": {},
     "output_type": "execute_result"
    }
   ],
   "source": [
    "df.loc[:,'c'] = [3,4,5] \n",
    "df"
   ]
  },
  {
   "cell_type": "markdown",
   "id": "b646bb2e-f4a1-431a-969a-bea23ab1becd",
   "metadata": {},
   "source": [
    "(예시2) -- 굳이 쓸 필요가 없다."
   ]
  },
  {
   "cell_type": "code",
   "execution_count": 33,
   "id": "3c20f40b-ed00-43e7-9f2d-699f04c54019",
   "metadata": {},
   "outputs": [
    {
     "data": {
      "text/html": [
       "<div>\n",
       "<style scoped>\n",
       "    .dataframe tbody tr th:only-of-type {\n",
       "        vertical-align: middle;\n",
       "    }\n",
       "\n",
       "    .dataframe tbody tr th {\n",
       "        vertical-align: top;\n",
       "    }\n",
       "\n",
       "    .dataframe thead th {\n",
       "        text-align: right;\n",
       "    }\n",
       "</style>\n",
       "<table border=\"1\" class=\"dataframe\">\n",
       "  <thead>\n",
       "    <tr style=\"text-align: right;\">\n",
       "      <th></th>\n",
       "      <th>a</th>\n",
       "      <th>b</th>\n",
       "    </tr>\n",
       "  </thead>\n",
       "  <tbody>\n",
       "    <tr>\n",
       "      <th>0</th>\n",
       "      <td>1</td>\n",
       "      <td>2</td>\n",
       "    </tr>\n",
       "    <tr>\n",
       "      <th>1</th>\n",
       "      <td>2</td>\n",
       "      <td>3</td>\n",
       "    </tr>\n",
       "    <tr>\n",
       "      <th>2</th>\n",
       "      <td>3</td>\n",
       "      <td>4</td>\n",
       "    </tr>\n",
       "  </tbody>\n",
       "</table>\n",
       "</div>"
      ],
      "text/plain": [
       "   a  b\n",
       "0  1  2\n",
       "1  2  3\n",
       "2  3  4"
      ]
     },
     "execution_count": 33,
     "metadata": {},
     "output_type": "execute_result"
    }
   ],
   "source": [
    "df = pd.DataFrame({'a':[1,2,3],'b':[2,3,4]})\n",
    "df"
   ]
  },
  {
   "cell_type": "code",
   "execution_count": 34,
   "id": "601de30d-4090-4353-9582-8d1c9cc360ae",
   "metadata": {},
   "outputs": [
    {
     "data": {
      "text/html": [
       "<div>\n",
       "<style scoped>\n",
       "    .dataframe tbody tr th:only-of-type {\n",
       "        vertical-align: middle;\n",
       "    }\n",
       "\n",
       "    .dataframe tbody tr th {\n",
       "        vertical-align: top;\n",
       "    }\n",
       "\n",
       "    .dataframe thead th {\n",
       "        text-align: right;\n",
       "    }\n",
       "</style>\n",
       "<table border=\"1\" class=\"dataframe\">\n",
       "  <thead>\n",
       "    <tr style=\"text-align: right;\">\n",
       "      <th></th>\n",
       "      <th>a</th>\n",
       "      <th>b</th>\n",
       "      <th>c</th>\n",
       "      <th>d</th>\n",
       "    </tr>\n",
       "  </thead>\n",
       "  <tbody>\n",
       "    <tr>\n",
       "      <th>0</th>\n",
       "      <td>1</td>\n",
       "      <td>2</td>\n",
       "      <td>3</td>\n",
       "      <td>4</td>\n",
       "    </tr>\n",
       "    <tr>\n",
       "      <th>1</th>\n",
       "      <td>2</td>\n",
       "      <td>3</td>\n",
       "      <td>4</td>\n",
       "      <td>5</td>\n",
       "    </tr>\n",
       "    <tr>\n",
       "      <th>2</th>\n",
       "      <td>3</td>\n",
       "      <td>4</td>\n",
       "      <td>5</td>\n",
       "      <td>6</td>\n",
       "    </tr>\n",
       "  </tbody>\n",
       "</table>\n",
       "</div>"
      ],
      "text/plain": [
       "   a  b  c  d\n",
       "0  1  2  3  4\n",
       "1  2  3  4  5\n",
       "2  3  4  5  6"
      ]
     },
     "execution_count": 34,
     "metadata": {},
     "output_type": "execute_result"
    }
   ],
   "source": [
    "df.loc[:,['c','d']] = np.array([[3,4,5],[4,5,6]]).T # 이거 솔직히 되는지 몰랐어요.. \n",
    "df"
   ]
  },
  {
   "cell_type": "markdown",
   "id": "ed0bde06-a0cc-41e1-afeb-1627231c36ec",
   "metadata": {},
   "source": [
    "(예시3)"
   ]
  },
  {
   "cell_type": "code",
   "execution_count": 35,
   "id": "ef24c086-009c-43fe-ad18-5ace6b5220ae",
   "metadata": {},
   "outputs": [
    {
     "data": {
      "text/html": [
       "<div>\n",
       "<style scoped>\n",
       "    .dataframe tbody tr th:only-of-type {\n",
       "        vertical-align: middle;\n",
       "    }\n",
       "\n",
       "    .dataframe tbody tr th {\n",
       "        vertical-align: top;\n",
       "    }\n",
       "\n",
       "    .dataframe thead th {\n",
       "        text-align: right;\n",
       "    }\n",
       "</style>\n",
       "<table border=\"1\" class=\"dataframe\">\n",
       "  <thead>\n",
       "    <tr style=\"text-align: right;\">\n",
       "      <th></th>\n",
       "      <th>a</th>\n",
       "      <th>b</th>\n",
       "    </tr>\n",
       "  </thead>\n",
       "  <tbody>\n",
       "    <tr>\n",
       "      <th>0</th>\n",
       "      <td>1</td>\n",
       "      <td>2</td>\n",
       "    </tr>\n",
       "    <tr>\n",
       "      <th>1</th>\n",
       "      <td>2</td>\n",
       "      <td>3</td>\n",
       "    </tr>\n",
       "    <tr>\n",
       "      <th>2</th>\n",
       "      <td>3</td>\n",
       "      <td>4</td>\n",
       "    </tr>\n",
       "  </tbody>\n",
       "</table>\n",
       "</div>"
      ],
      "text/plain": [
       "   a  b\n",
       "0  1  2\n",
       "1  2  3\n",
       "2  3  4"
      ]
     },
     "execution_count": 35,
     "metadata": {},
     "output_type": "execute_result"
    }
   ],
   "source": [
    "df = pd.DataFrame({'a':[1,2,3],'b':[2,3,4]})\n",
    "df"
   ]
  },
  {
   "cell_type": "code",
   "execution_count": 36,
   "id": "f17cddae-a4f7-4cf1-9a87-3951ac3bba3f",
   "metadata": {},
   "outputs": [
    {
     "data": {
      "text/html": [
       "<div>\n",
       "<style scoped>\n",
       "    .dataframe tbody tr th:only-of-type {\n",
       "        vertical-align: middle;\n",
       "    }\n",
       "\n",
       "    .dataframe tbody tr th {\n",
       "        vertical-align: top;\n",
       "    }\n",
       "\n",
       "    .dataframe thead th {\n",
       "        text-align: right;\n",
       "    }\n",
       "</style>\n",
       "<table border=\"1\" class=\"dataframe\">\n",
       "  <thead>\n",
       "    <tr style=\"text-align: right;\">\n",
       "      <th></th>\n",
       "      <th>a</th>\n",
       "      <th>b</th>\n",
       "      <th>c</th>\n",
       "      <th>d</th>\n",
       "    </tr>\n",
       "  </thead>\n",
       "  <tbody>\n",
       "    <tr>\n",
       "      <th>0</th>\n",
       "      <td>1</td>\n",
       "      <td>2</td>\n",
       "      <td>3</td>\n",
       "      <td>4</td>\n",
       "    </tr>\n",
       "    <tr>\n",
       "      <th>1</th>\n",
       "      <td>2</td>\n",
       "      <td>3</td>\n",
       "      <td>4</td>\n",
       "      <td>5</td>\n",
       "    </tr>\n",
       "    <tr>\n",
       "      <th>2</th>\n",
       "      <td>3</td>\n",
       "      <td>4</td>\n",
       "      <td>5</td>\n",
       "      <td>6</td>\n",
       "    </tr>\n",
       "  </tbody>\n",
       "</table>\n",
       "</div>"
      ],
      "text/plain": [
       "   a  b  c  d\n",
       "0  1  2  3  4\n",
       "1  2  3  4  5\n",
       "2  3  4  5  6"
      ]
     },
     "execution_count": 36,
     "metadata": {},
     "output_type": "execute_result"
    }
   ],
   "source": [
    "df.loc[:,'c'],df.loc[:,'d'] = [3,4,5],[4,5,6] \n",
    "df"
   ]
  },
  {
   "cell_type": "markdown",
   "id": "f8c64bc6-d48e-47cb-b18a-73397768b16d",
   "metadata": {},
   "source": [
    "## 방법3: `.assign`으로 할당 ($\\star$) -- 제 최애 \n",
    "\n",
    "> 확장성이 있고 다양한 상황에 사용하기 좋음."
   ]
  },
  {
   "cell_type": "code",
   "execution_count": 53,
   "id": "6c5edbf8-040a-4c66-9668-2042bad400ff",
   "metadata": {},
   "outputs": [
    {
     "data": {
      "text/html": [
       "<div>\n",
       "<style scoped>\n",
       "    .dataframe tbody tr th:only-of-type {\n",
       "        vertical-align: middle;\n",
       "    }\n",
       "\n",
       "    .dataframe tbody tr th {\n",
       "        vertical-align: top;\n",
       "    }\n",
       "\n",
       "    .dataframe thead th {\n",
       "        text-align: right;\n",
       "    }\n",
       "</style>\n",
       "<table border=\"1\" class=\"dataframe\">\n",
       "  <thead>\n",
       "    <tr style=\"text-align: right;\">\n",
       "      <th></th>\n",
       "      <th>a</th>\n",
       "      <th>b</th>\n",
       "    </tr>\n",
       "  </thead>\n",
       "  <tbody>\n",
       "    <tr>\n",
       "      <th>0</th>\n",
       "      <td>1</td>\n",
       "      <td>2</td>\n",
       "    </tr>\n",
       "    <tr>\n",
       "      <th>1</th>\n",
       "      <td>2</td>\n",
       "      <td>3</td>\n",
       "    </tr>\n",
       "    <tr>\n",
       "      <th>2</th>\n",
       "      <td>3</td>\n",
       "      <td>4</td>\n",
       "    </tr>\n",
       "  </tbody>\n",
       "</table>\n",
       "</div>"
      ],
      "text/plain": [
       "   a  b\n",
       "0  1  2\n",
       "1  2  3\n",
       "2  3  4"
      ]
     },
     "execution_count": 53,
     "metadata": {},
     "output_type": "execute_result"
    }
   ],
   "source": [
    "df = pd.DataFrame({'a':[1,2,3],'b':[2,3,4]})\n",
    "df"
   ]
  },
  {
   "cell_type": "code",
   "execution_count": 38,
   "id": "6675b36c-5c63-4109-a5ef-7a7f4d2fe0ad",
   "metadata": {},
   "outputs": [
    {
     "data": {
      "text/html": [
       "<div>\n",
       "<style scoped>\n",
       "    .dataframe tbody tr th:only-of-type {\n",
       "        vertical-align: middle;\n",
       "    }\n",
       "\n",
       "    .dataframe tbody tr th {\n",
       "        vertical-align: top;\n",
       "    }\n",
       "\n",
       "    .dataframe thead th {\n",
       "        text-align: right;\n",
       "    }\n",
       "</style>\n",
       "<table border=\"1\" class=\"dataframe\">\n",
       "  <thead>\n",
       "    <tr style=\"text-align: right;\">\n",
       "      <th></th>\n",
       "      <th>a</th>\n",
       "      <th>b</th>\n",
       "      <th>c</th>\n",
       "    </tr>\n",
       "  </thead>\n",
       "  <tbody>\n",
       "    <tr>\n",
       "      <th>0</th>\n",
       "      <td>1</td>\n",
       "      <td>2</td>\n",
       "      <td>3</td>\n",
       "    </tr>\n",
       "    <tr>\n",
       "      <th>1</th>\n",
       "      <td>2</td>\n",
       "      <td>3</td>\n",
       "      <td>4</td>\n",
       "    </tr>\n",
       "    <tr>\n",
       "      <th>2</th>\n",
       "      <td>3</td>\n",
       "      <td>4</td>\n",
       "      <td>5</td>\n",
       "    </tr>\n",
       "  </tbody>\n",
       "</table>\n",
       "</div>"
      ],
      "text/plain": [
       "   a  b  c\n",
       "0  1  2  3\n",
       "1  2  3  4\n",
       "2  3  4  5"
      ]
     },
     "execution_count": 38,
     "metadata": {},
     "output_type": "execute_result"
    }
   ],
   "source": [
    "df.assign(c=[3,4,5]) "
   ]
  },
  {
   "cell_type": "code",
   "execution_count": 39,
   "id": "3ad7f325-25e6-46de-81a8-7be85c0c7568",
   "metadata": {},
   "outputs": [
    {
     "data": {
      "text/html": [
       "<div>\n",
       "<style scoped>\n",
       "    .dataframe tbody tr th:only-of-type {\n",
       "        vertical-align: middle;\n",
       "    }\n",
       "\n",
       "    .dataframe tbody tr th {\n",
       "        vertical-align: top;\n",
       "    }\n",
       "\n",
       "    .dataframe thead th {\n",
       "        text-align: right;\n",
       "    }\n",
       "</style>\n",
       "<table border=\"1\" class=\"dataframe\">\n",
       "  <thead>\n",
       "    <tr style=\"text-align: right;\">\n",
       "      <th></th>\n",
       "      <th>a</th>\n",
       "      <th>b</th>\n",
       "      <th>c</th>\n",
       "      <th>d</th>\n",
       "    </tr>\n",
       "  </thead>\n",
       "  <tbody>\n",
       "    <tr>\n",
       "      <th>0</th>\n",
       "      <td>1</td>\n",
       "      <td>2</td>\n",
       "      <td>3</td>\n",
       "      <td>4</td>\n",
       "    </tr>\n",
       "    <tr>\n",
       "      <th>1</th>\n",
       "      <td>2</td>\n",
       "      <td>3</td>\n",
       "      <td>4</td>\n",
       "      <td>5</td>\n",
       "    </tr>\n",
       "    <tr>\n",
       "      <th>2</th>\n",
       "      <td>3</td>\n",
       "      <td>4</td>\n",
       "      <td>5</td>\n",
       "      <td>6</td>\n",
       "    </tr>\n",
       "  </tbody>\n",
       "</table>\n",
       "</div>"
      ],
      "text/plain": [
       "   a  b  c  d\n",
       "0  1  2  3  4\n",
       "1  2  3  4  5\n",
       "2  3  4  5  6"
      ]
     },
     "execution_count": 39,
     "metadata": {},
     "output_type": "execute_result"
    }
   ],
   "source": [
    "df.assign(c=[3,4,5],d=[4,5,6]) "
   ]
  },
  {
   "cell_type": "code",
   "execution_count": 57,
   "id": "23da9e30-283a-4c7b-977c-c8326b2fd993",
   "metadata": {},
   "outputs": [
    {
     "data": {
      "text/html": [
       "<div>\n",
       "<style scoped>\n",
       "    .dataframe tbody tr th:only-of-type {\n",
       "        vertical-align: middle;\n",
       "    }\n",
       "\n",
       "    .dataframe tbody tr th {\n",
       "        vertical-align: top;\n",
       "    }\n",
       "\n",
       "    .dataframe thead th {\n",
       "        text-align: right;\n",
       "    }\n",
       "</style>\n",
       "<table border=\"1\" class=\"dataframe\">\n",
       "  <thead>\n",
       "    <tr style=\"text-align: right;\">\n",
       "      <th></th>\n",
       "      <th>a</th>\n",
       "      <th>b</th>\n",
       "      <th>c</th>\n",
       "      <th>d</th>\n",
       "    </tr>\n",
       "  </thead>\n",
       "  <tbody>\n",
       "    <tr>\n",
       "      <th>0</th>\n",
       "      <td>1</td>\n",
       "      <td>2</td>\n",
       "      <td>3</td>\n",
       "      <td>4</td>\n",
       "    </tr>\n",
       "    <tr>\n",
       "      <th>1</th>\n",
       "      <td>2</td>\n",
       "      <td>3</td>\n",
       "      <td>4</td>\n",
       "      <td>5</td>\n",
       "    </tr>\n",
       "    <tr>\n",
       "      <th>2</th>\n",
       "      <td>3</td>\n",
       "      <td>4</td>\n",
       "      <td>5</td>\n",
       "      <td>6</td>\n",
       "    </tr>\n",
       "  </tbody>\n",
       "</table>\n",
       "</div>"
      ],
      "text/plain": [
       "   a  b  c  d\n",
       "0  1  2  3  4\n",
       "1  2  3  4  5\n",
       "2  3  4  5  6"
      ]
     },
     "execution_count": 57,
     "metadata": {},
     "output_type": "execute_result"
    }
   ],
   "source": [
    "df.assign(c=[3,4,5]).assign(d=[4,5,6]) # 1->2, 2->3 으로 가는 과정이 메모리 공간안에 모두 저장되어 있다."
   ]
  },
  {
   "cell_type": "code",
   "execution_count": 58,
   "id": "fcbf561b-79da-4547-b286-81d27e6932b8",
   "metadata": {},
   "outputs": [
    {
     "data": {
      "text/html": [
       "<div>\n",
       "<style scoped>\n",
       "    .dataframe tbody tr th:only-of-type {\n",
       "        vertical-align: middle;\n",
       "    }\n",
       "\n",
       "    .dataframe tbody tr th {\n",
       "        vertical-align: top;\n",
       "    }\n",
       "\n",
       "    .dataframe thead th {\n",
       "        text-align: right;\n",
       "    }\n",
       "</style>\n",
       "<table border=\"1\" class=\"dataframe\">\n",
       "  <thead>\n",
       "    <tr style=\"text-align: right;\">\n",
       "      <th></th>\n",
       "      <th>a</th>\n",
       "      <th>b</th>\n",
       "    </tr>\n",
       "  </thead>\n",
       "  <tbody>\n",
       "    <tr>\n",
       "      <th>0</th>\n",
       "      <td>1</td>\n",
       "      <td>2</td>\n",
       "    </tr>\n",
       "    <tr>\n",
       "      <th>1</th>\n",
       "      <td>2</td>\n",
       "      <td>3</td>\n",
       "    </tr>\n",
       "    <tr>\n",
       "      <th>2</th>\n",
       "      <td>3</td>\n",
       "      <td>4</td>\n",
       "    </tr>\n",
       "  </tbody>\n",
       "</table>\n",
       "</div>"
      ],
      "text/plain": [
       "   a  b\n",
       "0  1  2\n",
       "1  2  3\n",
       "2  3  4"
      ]
     },
     "execution_count": 58,
     "metadata": {},
     "output_type": "execute_result"
    }
   ],
   "source": [
    "df"
   ]
  },
  {
   "cell_type": "markdown",
   "id": "dcd6fbc4-85b7-4a0a-a956-022a4c15718b",
   "metadata": {},
   "source": [
    "- 오오오오 원래 df가 살아있음."
   ]
  },
  {
   "cell_type": "markdown",
   "id": "727b10b4-b2b6-45a2-b0c0-043ffb798b7b",
   "metadata": {
    "tags": []
   },
   "source": [
    "## 방법4: `.eval`을 이용한 할당 "
   ]
  },
  {
   "cell_type": "code",
   "execution_count": 59,
   "id": "8e70779b-bae0-429f-8b6c-08b4bd14ee24",
   "metadata": {},
   "outputs": [
    {
     "data": {
      "text/html": [
       "<div>\n",
       "<style scoped>\n",
       "    .dataframe tbody tr th:only-of-type {\n",
       "        vertical-align: middle;\n",
       "    }\n",
       "\n",
       "    .dataframe tbody tr th {\n",
       "        vertical-align: top;\n",
       "    }\n",
       "\n",
       "    .dataframe thead th {\n",
       "        text-align: right;\n",
       "    }\n",
       "</style>\n",
       "<table border=\"1\" class=\"dataframe\">\n",
       "  <thead>\n",
       "    <tr style=\"text-align: right;\">\n",
       "      <th></th>\n",
       "      <th>a</th>\n",
       "      <th>b</th>\n",
       "    </tr>\n",
       "  </thead>\n",
       "  <tbody>\n",
       "    <tr>\n",
       "      <th>0</th>\n",
       "      <td>1</td>\n",
       "      <td>2</td>\n",
       "    </tr>\n",
       "    <tr>\n",
       "      <th>1</th>\n",
       "      <td>2</td>\n",
       "      <td>3</td>\n",
       "    </tr>\n",
       "    <tr>\n",
       "      <th>2</th>\n",
       "      <td>3</td>\n",
       "      <td>4</td>\n",
       "    </tr>\n",
       "  </tbody>\n",
       "</table>\n",
       "</div>"
      ],
      "text/plain": [
       "   a  b\n",
       "0  1  2\n",
       "1  2  3\n",
       "2  3  4"
      ]
     },
     "execution_count": 59,
     "metadata": {},
     "output_type": "execute_result"
    }
   ],
   "source": [
    "df = pd.DataFrame({'a':[1,2,3],'b':[2,3,4]})\n",
    "df"
   ]
  },
  {
   "cell_type": "code",
   "execution_count": 60,
   "id": "9e4f119b-1859-4b65-8b2f-22c1df321750",
   "metadata": {},
   "outputs": [
    {
     "data": {
      "text/html": [
       "<div>\n",
       "<style scoped>\n",
       "    .dataframe tbody tr th:only-of-type {\n",
       "        vertical-align: middle;\n",
       "    }\n",
       "\n",
       "    .dataframe tbody tr th {\n",
       "        vertical-align: top;\n",
       "    }\n",
       "\n",
       "    .dataframe thead th {\n",
       "        text-align: right;\n",
       "    }\n",
       "</style>\n",
       "<table border=\"1\" class=\"dataframe\">\n",
       "  <thead>\n",
       "    <tr style=\"text-align: right;\">\n",
       "      <th></th>\n",
       "      <th>a</th>\n",
       "      <th>b</th>\n",
       "      <th>c</th>\n",
       "    </tr>\n",
       "  </thead>\n",
       "  <tbody>\n",
       "    <tr>\n",
       "      <th>0</th>\n",
       "      <td>1</td>\n",
       "      <td>2</td>\n",
       "      <td>3</td>\n",
       "    </tr>\n",
       "    <tr>\n",
       "      <th>1</th>\n",
       "      <td>2</td>\n",
       "      <td>3</td>\n",
       "      <td>4</td>\n",
       "    </tr>\n",
       "    <tr>\n",
       "      <th>2</th>\n",
       "      <td>3</td>\n",
       "      <td>4</td>\n",
       "      <td>5</td>\n",
       "    </tr>\n",
       "  </tbody>\n",
       "</table>\n",
       "</div>"
      ],
      "text/plain": [
       "   a  b  c\n",
       "0  1  2  3\n",
       "1  2  3  4\n",
       "2  3  4  5"
      ]
     },
     "execution_count": 60,
     "metadata": {},
     "output_type": "execute_result"
    }
   ],
   "source": [
    "df.eval('c=[3,4,5]')"
   ]
  },
  {
   "cell_type": "code",
   "execution_count": 61,
   "id": "b4732ba5-5231-4b92-86de-b52f26615bd4",
   "metadata": {},
   "outputs": [
    {
     "data": {
      "text/html": [
       "<div>\n",
       "<style scoped>\n",
       "    .dataframe tbody tr th:only-of-type {\n",
       "        vertical-align: middle;\n",
       "    }\n",
       "\n",
       "    .dataframe tbody tr th {\n",
       "        vertical-align: top;\n",
       "    }\n",
       "\n",
       "    .dataframe thead th {\n",
       "        text-align: right;\n",
       "    }\n",
       "</style>\n",
       "<table border=\"1\" class=\"dataframe\">\n",
       "  <thead>\n",
       "    <tr style=\"text-align: right;\">\n",
       "      <th></th>\n",
       "      <th>a</th>\n",
       "      <th>b</th>\n",
       "      <th>c</th>\n",
       "      <th>d</th>\n",
       "    </tr>\n",
       "  </thead>\n",
       "  <tbody>\n",
       "    <tr>\n",
       "      <th>0</th>\n",
       "      <td>1</td>\n",
       "      <td>2</td>\n",
       "      <td>3</td>\n",
       "      <td>4</td>\n",
       "    </tr>\n",
       "    <tr>\n",
       "      <th>1</th>\n",
       "      <td>2</td>\n",
       "      <td>3</td>\n",
       "      <td>4</td>\n",
       "      <td>5</td>\n",
       "    </tr>\n",
       "    <tr>\n",
       "      <th>2</th>\n",
       "      <td>3</td>\n",
       "      <td>4</td>\n",
       "      <td>5</td>\n",
       "      <td>6</td>\n",
       "    </tr>\n",
       "  </tbody>\n",
       "</table>\n",
       "</div>"
      ],
      "text/plain": [
       "   a  b  c  d\n",
       "0  1  2  3  4\n",
       "1  2  3  4  5\n",
       "2  3  4  5  6"
      ]
     },
     "execution_count": 61,
     "metadata": {},
     "output_type": "execute_result"
    }
   ],
   "source": [
    "df.eval('c=[3,4,5]').eval('d=[4,5,6]')"
   ]
  },
  {
   "cell_type": "markdown",
   "id": "5182e3a9-fe44-4a4e-b324-73c87218a550",
   "metadata": {},
   "source": [
    "- 이 방법은 좀 꺼려하는데 아래의 예제를 통해 이유를 알아보자."
   ]
  },
  {
   "cell_type": "markdown",
   "id": "06244263-37e5-4827-8c5a-4079f9b876d5",
   "metadata": {},
   "source": [
    "## 연습해보기 "
   ]
  },
  {
   "cell_type": "markdown",
   "id": "d9494090-f36f-4e0d-abe5-4ea8d0277864",
   "metadata": {},
   "source": [
    "### `#` 데이터프레임 생성 "
   ]
  },
  {
   "cell_type": "code",
   "execution_count": 62,
   "id": "a52c099c-3e80-4dac-a317-b113f54166b9",
   "metadata": {},
   "outputs": [
    {
     "data": {
      "text/html": [
       "<div>\n",
       "<style scoped>\n",
       "    .dataframe tbody tr th:only-of-type {\n",
       "        vertical-align: middle;\n",
       "    }\n",
       "\n",
       "    .dataframe tbody tr th {\n",
       "        vertical-align: top;\n",
       "    }\n",
       "\n",
       "    .dataframe thead th {\n",
       "        text-align: right;\n",
       "    }\n",
       "</style>\n",
       "<table border=\"1\" class=\"dataframe\">\n",
       "  <thead>\n",
       "    <tr style=\"text-align: right;\">\n",
       "      <th></th>\n",
       "      <th>x</th>\n",
       "      <th>y</th>\n",
       "    </tr>\n",
       "  </thead>\n",
       "  <tbody>\n",
       "    <tr>\n",
       "      <th>0</th>\n",
       "      <td>-0.528686</td>\n",
       "      <td>-0.822504</td>\n",
       "    </tr>\n",
       "    <tr>\n",
       "      <th>1</th>\n",
       "      <td>-0.570925</td>\n",
       "      <td>0.177597</td>\n",
       "    </tr>\n",
       "    <tr>\n",
       "      <th>2</th>\n",
       "      <td>-2.095003</td>\n",
       "      <td>0.334422</td>\n",
       "    </tr>\n",
       "    <tr>\n",
       "      <th>3</th>\n",
       "      <td>-0.382900</td>\n",
       "      <td>0.573522</td>\n",
       "    </tr>\n",
       "    <tr>\n",
       "      <th>4</th>\n",
       "      <td>-0.971033</td>\n",
       "      <td>-1.840163</td>\n",
       "    </tr>\n",
       "    <tr>\n",
       "      <th>...</th>\n",
       "      <td>...</td>\n",
       "      <td>...</td>\n",
       "    </tr>\n",
       "    <tr>\n",
       "      <th>995</th>\n",
       "      <td>0.172025</td>\n",
       "      <td>-0.770867</td>\n",
       "    </tr>\n",
       "    <tr>\n",
       "      <th>996</th>\n",
       "      <td>-0.086068</td>\n",
       "      <td>-0.087574</td>\n",
       "    </tr>\n",
       "    <tr>\n",
       "      <th>997</th>\n",
       "      <td>0.691668</td>\n",
       "      <td>0.850134</td>\n",
       "    </tr>\n",
       "    <tr>\n",
       "      <th>998</th>\n",
       "      <td>-0.359600</td>\n",
       "      <td>0.913740</td>\n",
       "    </tr>\n",
       "    <tr>\n",
       "      <th>999</th>\n",
       "      <td>0.568702</td>\n",
       "      <td>-0.808420</td>\n",
       "    </tr>\n",
       "  </tbody>\n",
       "</table>\n",
       "<p>1000 rows × 2 columns</p>\n",
       "</div>"
      ],
      "text/plain": [
       "            x         y\n",
       "0   -0.528686 -0.822504\n",
       "1   -0.570925  0.177597\n",
       "2   -2.095003  0.334422\n",
       "3   -0.382900  0.573522\n",
       "4   -0.971033 -1.840163\n",
       "..        ...       ...\n",
       "995  0.172025 -0.770867\n",
       "996 -0.086068 -0.087574\n",
       "997  0.691668  0.850134\n",
       "998 -0.359600  0.913740\n",
       "999  0.568702 -0.808420\n",
       "\n",
       "[1000 rows x 2 columns]"
      ]
     },
     "execution_count": 62,
     "metadata": {},
     "output_type": "execute_result"
    }
   ],
   "source": [
    "df=pd.DataFrame({'x':np.random.randn(1000),'y':np.random.randn(1000)})\n",
    "df"
   ]
  },
  {
   "cell_type": "markdown",
   "id": "46891420-a0b0-4cb6-b695-e6def2eaec56",
   "metadata": {},
   "source": [
    "### `#` 새로운열 `r`을 생성하고 $r=\\sqrt{x^2 + y^2}$를 계산"
   ]
  },
  {
   "cell_type": "markdown",
   "id": "524daae7-c5ad-4861-b762-abc4e9213f4e",
   "metadata": {},
   "source": [
    "`-` 방법1: 브로드캐스팅"
   ]
  },
  {
   "cell_type": "code",
   "execution_count": 45,
   "id": "d7d2172a-8ef2-4119-8df7-336d0e401478",
   "metadata": {},
   "outputs": [
    {
     "data": {
      "text/html": [
       "<div>\n",
       "<style scoped>\n",
       "    .dataframe tbody tr th:only-of-type {\n",
       "        vertical-align: middle;\n",
       "    }\n",
       "\n",
       "    .dataframe tbody tr th {\n",
       "        vertical-align: top;\n",
       "    }\n",
       "\n",
       "    .dataframe thead th {\n",
       "        text-align: right;\n",
       "    }\n",
       "</style>\n",
       "<table border=\"1\" class=\"dataframe\">\n",
       "  <thead>\n",
       "    <tr style=\"text-align: right;\">\n",
       "      <th></th>\n",
       "      <th>x</th>\n",
       "      <th>y</th>\n",
       "      <th>r</th>\n",
       "    </tr>\n",
       "  </thead>\n",
       "  <tbody>\n",
       "    <tr>\n",
       "      <th>0</th>\n",
       "      <td>1.085469</td>\n",
       "      <td>-1.427839</td>\n",
       "      <td>1.793590</td>\n",
       "    </tr>\n",
       "    <tr>\n",
       "      <th>1</th>\n",
       "      <td>-1.473272</td>\n",
       "      <td>-1.527442</td>\n",
       "      <td>2.122171</td>\n",
       "    </tr>\n",
       "    <tr>\n",
       "      <th>2</th>\n",
       "      <td>-1.007274</td>\n",
       "      <td>-1.312202</td>\n",
       "      <td>1.654229</td>\n",
       "    </tr>\n",
       "    <tr>\n",
       "      <th>3</th>\n",
       "      <td>1.220634</td>\n",
       "      <td>-0.474995</td>\n",
       "      <td>1.309796</td>\n",
       "    </tr>\n",
       "    <tr>\n",
       "      <th>4</th>\n",
       "      <td>-0.101496</td>\n",
       "      <td>1.636326</td>\n",
       "      <td>1.639470</td>\n",
       "    </tr>\n",
       "    <tr>\n",
       "      <th>...</th>\n",
       "      <td>...</td>\n",
       "      <td>...</td>\n",
       "      <td>...</td>\n",
       "    </tr>\n",
       "    <tr>\n",
       "      <th>995</th>\n",
       "      <td>-0.668557</td>\n",
       "      <td>-0.435391</td>\n",
       "      <td>0.797831</td>\n",
       "    </tr>\n",
       "    <tr>\n",
       "      <th>996</th>\n",
       "      <td>0.455894</td>\n",
       "      <td>0.796826</td>\n",
       "      <td>0.918026</td>\n",
       "    </tr>\n",
       "    <tr>\n",
       "      <th>997</th>\n",
       "      <td>-1.004412</td>\n",
       "      <td>1.843344</td>\n",
       "      <td>2.099229</td>\n",
       "    </tr>\n",
       "    <tr>\n",
       "      <th>998</th>\n",
       "      <td>-2.115145</td>\n",
       "      <td>-1.971965</td>\n",
       "      <td>2.891796</td>\n",
       "    </tr>\n",
       "    <tr>\n",
       "      <th>999</th>\n",
       "      <td>0.861141</td>\n",
       "      <td>-0.193742</td>\n",
       "      <td>0.882667</td>\n",
       "    </tr>\n",
       "  </tbody>\n",
       "</table>\n",
       "<p>1000 rows × 3 columns</p>\n",
       "</div>"
      ],
      "text/plain": [
       "            x         y         r\n",
       "0    1.085469 -1.427839  1.793590\n",
       "1   -1.473272 -1.527442  2.122171\n",
       "2   -1.007274 -1.312202  1.654229\n",
       "3    1.220634 -0.474995  1.309796\n",
       "4   -0.101496  1.636326  1.639470\n",
       "..        ...       ...       ...\n",
       "995 -0.668557 -0.435391  0.797831\n",
       "996  0.455894  0.796826  0.918026\n",
       "997 -1.004412  1.843344  2.099229\n",
       "998 -2.115145 -1.971965  2.891796\n",
       "999  0.861141 -0.193742  0.882667\n",
       "\n",
       "[1000 rows x 3 columns]"
      ]
     },
     "execution_count": 45,
     "metadata": {},
     "output_type": "execute_result"
    }
   ],
   "source": [
    "df.assign(r=np.sqrt(df.x**2 + df.y**2))"
   ]
  },
  {
   "cell_type": "markdown",
   "id": "aacfbe99-0c75-442a-a315-921ed251eda4",
   "metadata": {},
   "source": [
    "`-` 방법2: lambda + map을 이용한 개별원소 계산"
   ]
  },
  {
   "cell_type": "code",
   "execution_count": 46,
   "id": "c79df94e-d802-40ea-8c23-1c62bee0d2b9",
   "metadata": {},
   "outputs": [
    {
     "data": {
      "text/html": [
       "<div>\n",
       "<style scoped>\n",
       "    .dataframe tbody tr th:only-of-type {\n",
       "        vertical-align: middle;\n",
       "    }\n",
       "\n",
       "    .dataframe tbody tr th {\n",
       "        vertical-align: top;\n",
       "    }\n",
       "\n",
       "    .dataframe thead th {\n",
       "        text-align: right;\n",
       "    }\n",
       "</style>\n",
       "<table border=\"1\" class=\"dataframe\">\n",
       "  <thead>\n",
       "    <tr style=\"text-align: right;\">\n",
       "      <th></th>\n",
       "      <th>x</th>\n",
       "      <th>y</th>\n",
       "      <th>r</th>\n",
       "    </tr>\n",
       "  </thead>\n",
       "  <tbody>\n",
       "    <tr>\n",
       "      <th>0</th>\n",
       "      <td>1.085469</td>\n",
       "      <td>-1.427839</td>\n",
       "      <td>1.793590</td>\n",
       "    </tr>\n",
       "    <tr>\n",
       "      <th>1</th>\n",
       "      <td>-1.473272</td>\n",
       "      <td>-1.527442</td>\n",
       "      <td>2.122171</td>\n",
       "    </tr>\n",
       "    <tr>\n",
       "      <th>2</th>\n",
       "      <td>-1.007274</td>\n",
       "      <td>-1.312202</td>\n",
       "      <td>1.654229</td>\n",
       "    </tr>\n",
       "    <tr>\n",
       "      <th>3</th>\n",
       "      <td>1.220634</td>\n",
       "      <td>-0.474995</td>\n",
       "      <td>1.309796</td>\n",
       "    </tr>\n",
       "    <tr>\n",
       "      <th>4</th>\n",
       "      <td>-0.101496</td>\n",
       "      <td>1.636326</td>\n",
       "      <td>1.639470</td>\n",
       "    </tr>\n",
       "    <tr>\n",
       "      <th>...</th>\n",
       "      <td>...</td>\n",
       "      <td>...</td>\n",
       "      <td>...</td>\n",
       "    </tr>\n",
       "    <tr>\n",
       "      <th>995</th>\n",
       "      <td>-0.668557</td>\n",
       "      <td>-0.435391</td>\n",
       "      <td>0.797831</td>\n",
       "    </tr>\n",
       "    <tr>\n",
       "      <th>996</th>\n",
       "      <td>0.455894</td>\n",
       "      <td>0.796826</td>\n",
       "      <td>0.918026</td>\n",
       "    </tr>\n",
       "    <tr>\n",
       "      <th>997</th>\n",
       "      <td>-1.004412</td>\n",
       "      <td>1.843344</td>\n",
       "      <td>2.099229</td>\n",
       "    </tr>\n",
       "    <tr>\n",
       "      <th>998</th>\n",
       "      <td>-2.115145</td>\n",
       "      <td>-1.971965</td>\n",
       "      <td>2.891796</td>\n",
       "    </tr>\n",
       "    <tr>\n",
       "      <th>999</th>\n",
       "      <td>0.861141</td>\n",
       "      <td>-0.193742</td>\n",
       "      <td>0.882667</td>\n",
       "    </tr>\n",
       "  </tbody>\n",
       "</table>\n",
       "<p>1000 rows × 3 columns</p>\n",
       "</div>"
      ],
      "text/plain": [
       "            x         y         r\n",
       "0    1.085469 -1.427839  1.793590\n",
       "1   -1.473272 -1.527442  2.122171\n",
       "2   -1.007274 -1.312202  1.654229\n",
       "3    1.220634 -0.474995  1.309796\n",
       "4   -0.101496  1.636326  1.639470\n",
       "..        ...       ...       ...\n",
       "995 -0.668557 -0.435391  0.797831\n",
       "996  0.455894  0.796826  0.918026\n",
       "997 -1.004412  1.843344  2.099229\n",
       "998 -2.115145 -1.971965  2.891796\n",
       "999  0.861141 -0.193742  0.882667\n",
       "\n",
       "[1000 rows x 3 columns]"
      ]
     },
     "execution_count": 46,
     "metadata": {},
     "output_type": "execute_result"
    }
   ],
   "source": [
    "df.assign(r=list(map(lambda x,y: np.sqrt(x**2+y**2), df.x,df.y)))"
   ]
  },
  {
   "cell_type": "markdown",
   "id": "5d484bc8-7703-4959-bbd3-ed21634216c4",
   "metadata": {},
   "source": [
    "`-` 방법3: eval "
   ]
  },
  {
   "cell_type": "code",
   "execution_count": 67,
   "id": "7aa627e2-a8b0-465a-a74e-e160c8f6a3a9",
   "metadata": {},
   "outputs": [
    {
     "data": {
      "text/html": [
       "<div>\n",
       "<style scoped>\n",
       "    .dataframe tbody tr th:only-of-type {\n",
       "        vertical-align: middle;\n",
       "    }\n",
       "\n",
       "    .dataframe tbody tr th {\n",
       "        vertical-align: top;\n",
       "    }\n",
       "\n",
       "    .dataframe thead th {\n",
       "        text-align: right;\n",
       "    }\n",
       "</style>\n",
       "<table border=\"1\" class=\"dataframe\">\n",
       "  <thead>\n",
       "    <tr style=\"text-align: right;\">\n",
       "      <th></th>\n",
       "      <th>x</th>\n",
       "      <th>y</th>\n",
       "      <th>r</th>\n",
       "    </tr>\n",
       "  </thead>\n",
       "  <tbody>\n",
       "    <tr>\n",
       "      <th>0</th>\n",
       "      <td>-0.528686</td>\n",
       "      <td>-0.822504</td>\n",
       "      <td>0.977764</td>\n",
       "    </tr>\n",
       "    <tr>\n",
       "      <th>1</th>\n",
       "      <td>-0.570925</td>\n",
       "      <td>0.177597</td>\n",
       "      <td>0.597910</td>\n",
       "    </tr>\n",
       "    <tr>\n",
       "      <th>2</th>\n",
       "      <td>-2.095003</td>\n",
       "      <td>0.334422</td>\n",
       "      <td>2.121527</td>\n",
       "    </tr>\n",
       "    <tr>\n",
       "      <th>3</th>\n",
       "      <td>-0.382900</td>\n",
       "      <td>0.573522</td>\n",
       "      <td>0.689594</td>\n",
       "    </tr>\n",
       "    <tr>\n",
       "      <th>4</th>\n",
       "      <td>-0.971033</td>\n",
       "      <td>-1.840163</td>\n",
       "      <td>2.080650</td>\n",
       "    </tr>\n",
       "    <tr>\n",
       "      <th>...</th>\n",
       "      <td>...</td>\n",
       "      <td>...</td>\n",
       "      <td>...</td>\n",
       "    </tr>\n",
       "    <tr>\n",
       "      <th>995</th>\n",
       "      <td>0.172025</td>\n",
       "      <td>-0.770867</td>\n",
       "      <td>0.789828</td>\n",
       "    </tr>\n",
       "    <tr>\n",
       "      <th>996</th>\n",
       "      <td>-0.086068</td>\n",
       "      <td>-0.087574</td>\n",
       "      <td>0.122788</td>\n",
       "    </tr>\n",
       "    <tr>\n",
       "      <th>997</th>\n",
       "      <td>0.691668</td>\n",
       "      <td>0.850134</td>\n",
       "      <td>1.095962</td>\n",
       "    </tr>\n",
       "    <tr>\n",
       "      <th>998</th>\n",
       "      <td>-0.359600</td>\n",
       "      <td>0.913740</td>\n",
       "      <td>0.981954</td>\n",
       "    </tr>\n",
       "    <tr>\n",
       "      <th>999</th>\n",
       "      <td>0.568702</td>\n",
       "      <td>-0.808420</td>\n",
       "      <td>0.988415</td>\n",
       "    </tr>\n",
       "  </tbody>\n",
       "</table>\n",
       "<p>1000 rows × 3 columns</p>\n",
       "</div>"
      ],
      "text/plain": [
       "            x         y         r\n",
       "0   -0.528686 -0.822504  0.977764\n",
       "1   -0.570925  0.177597  0.597910\n",
       "2   -2.095003  0.334422  2.121527\n",
       "3   -0.382900  0.573522  0.689594\n",
       "4   -0.971033 -1.840163  2.080650\n",
       "..        ...       ...       ...\n",
       "995  0.172025 -0.770867  0.789828\n",
       "996 -0.086068 -0.087574  0.122788\n",
       "997  0.691668  0.850134  1.095962\n",
       "998 -0.359600  0.913740  0.981954\n",
       "999  0.568702 -0.808420  0.988415\n",
       "\n",
       "[1000 rows x 3 columns]"
      ]
     },
     "execution_count": 67,
     "metadata": {},
     "output_type": "execute_result"
    }
   ],
   "source": [
    "df.eval('r=sqrt(x**2+y**2)')"
   ]
  },
  {
   "cell_type": "markdown",
   "id": "05361d51-dbd4-4682-a20e-ae0df2933b78",
   "metadata": {
    "tags": []
   },
   "source": [
    "# 아이스크림을 많이 먹으면 걸리는 병 (1)"
   ]
  },
  {
   "cell_type": "markdown",
   "id": "8de2e7ee-7530-4ed8-b998-e6ebd894e0ee",
   "metadata": {},
   "source": [
    "`-` ref- [데이터 과학자의 사고법: 더 나은 선택을 위한 통계학적 통찰의 힘](https://github.com/pinkocto/Quarto-Blog/blob/main/posts/DV/ds.pdf)\n",
    "\n",
    "- 구매할만한 책입니다"
   ]
  },
  {
   "cell_type": "markdown",
   "id": "098400e7-d733-446f-bf2f-7eff6379c32d",
   "metadata": {},
   "source": [
    "`-` 내용요약 \n",
    "\n",
    "- 여름 $\\to$ 수영장 $\\to$ 소아마비\n",
    "- 여름 $\\to$ 아이스크림 \n",
    "- 아이스크림과 소아마비는 상관관계가 높다: 아이스크림 성분중에서 소아마비를 유발하는 유해물질이 있을 것이다 (?) "
   ]
  },
  {
   "cell_type": "markdown",
   "id": "e1663593-db1e-4d54-9135-a5ad26987b38",
   "metadata": {},
   "source": [
    "`-` 아래와 같이 모형을 간단하게 하자. \n",
    "\n",
    "- 온도 $\\to$ 소아마비 \n",
    "- 온도 $\\to$ 아이스크림 "
   ]
  },
  {
   "cell_type": "markdown",
   "id": "0137c5d3-7592-48fb-b33f-0d195f18e5d6",
   "metadata": {},
   "source": [
    "## Toy exam "
   ]
  },
  {
   "cell_type": "markdown",
   "id": "426ce756-b83d-4c71-b3bb-023a704b099b",
   "metadata": {},
   "source": [
    "`-` 교재의 예제상황은 예를들면 아래와 같다. "
   ]
  },
  {
   "cell_type": "markdown",
   "id": "b38da11d-a92a-4e62-a09c-b84bcba71d15",
   "metadata": {},
   "source": [
    "(숨은진짜상황1)"
   ]
  },
  {
   "cell_type": "markdown",
   "id": "16c543c5-a4e5-45ea-b2fe-6e8198e9a280",
   "metadata": {},
   "source": [
    "$$\\text{아이스크림 판매량} = 20 + 2 \\times \\text{온도} + \\epsilon$$"
   ]
  },
  {
   "cell_type": "code",
   "execution_count": 71,
   "id": "5112aca6-f643-47a8-a762-68163e8628d5",
   "metadata": {},
   "outputs": [],
   "source": [
    "np.random.seed(1) \n",
    "temp= np.array([-10.2, -5.2, 0.1, 10.1, 12.2, 14.7, \n",
    "                25.4, 26.8, 28.9, 35.1, 32.2, 34.6])\n",
    "eps= np.random.normal(size=12,scale=5)\n",
    "icecream= 20 + temp * 2 + eps"
   ]
  },
  {
   "cell_type": "code",
   "execution_count": 72,
   "id": "c1ebdc6d-866d-4448-a05d-8f7712b08b89",
   "metadata": {},
   "outputs": [
    {
     "data": {
      "text/plain": [
       "[<matplotlib.lines.Line2D at 0x7f4e800c0f40>]"
      ]
     },
     "execution_count": 72,
     "metadata": {},
     "output_type": "execute_result"
    },
    {
     "data": {
      "image/png": "[encoded data removed]",
      "text/plain": [
       "<Figure size 432x288 with 1 Axes>"
      ]
     },
     "metadata": {
      "needs_background": "light"
     },
     "output_type": "display_data"
    }
   ],
   "source": [
    "plt.plot(temp,icecream,'.')"
   ]
  },
  {
   "cell_type": "markdown",
   "id": "6e110c98-a7f9-4fb6-9615-c2c201da239b",
   "metadata": {},
   "source": [
    "- 온도와 아이스크림 판매량의 산점도 "
   ]
  },
  {
   "cell_type": "markdown",
   "id": "f2dfff9a-0c41-46cd-8edd-7cce8b9b554e",
   "metadata": {},
   "source": [
    "(숨은진짜상황2)"
   ]
  },
  {
   "cell_type": "markdown",
   "id": "29a04a04-9424-4db6-9c5b-c54f1a448c7a",
   "metadata": {},
   "source": [
    "$$\\text{소아마비 반응수치} = 30 + 0.5 \\times \\text{온도} + \\epsilon$$\n",
    "- 좌변은 소아마비임을 나타내는 어떠한 반응수치라고 생각하자. "
   ]
  },
  {
   "cell_type": "code",
   "execution_count": 73,
   "id": "8a73ec32-c2fa-442c-a942-52d599119f28",
   "metadata": {},
   "outputs": [],
   "source": [
    "np.random.seed(2) \n",
    "eps = np.random.normal(size=12,scale=5) \n",
    "disease = 30+ temp* 0.5 + eps"
   ]
  },
  {
   "cell_type": "code",
   "execution_count": 74,
   "id": "a7acb2ef-971c-43e3-b641-2c1924f6e233",
   "metadata": {},
   "outputs": [
    {
     "data": {
      "text/plain": [
       "[<matplotlib.lines.Line2D at 0x7f4e7ff0ee80>]"
      ]
     },
     "execution_count": 74,
     "metadata": {},
     "output_type": "execute_result"
    },
    {
     "data": {
      "image/png": "[encoded data removed]",
      "text/plain": [
       "<Figure size 432x288 with 1 Axes>"
      ]
     },
     "metadata": {
      "needs_background": "light"
     },
     "output_type": "display_data"
    }
   ],
   "source": [
    "plt.plot(temp,disease,'.')"
   ]
  },
  {
   "cell_type": "markdown",
   "id": "745d65e3-5e55-409f-922c-c91afcdd74c8",
   "metadata": {},
   "source": [
    "- 온도와 소아마비의 산점도 "
   ]
  },
  {
   "cell_type": "markdown",
   "id": "a4a9c651-5490-46d2-8870-45561a1dcb59",
   "metadata": {},
   "source": [
    "**(우리가 데이터로부터 관측한 상황)**"
   ]
  },
  {
   "cell_type": "markdown",
   "id": "466bd034-ece1-477c-a04e-a14f6c11d9cf",
   "metadata": {},
   "source": [
    "`-` 아이스크림과 질병의 산점도를 그려보자. "
   ]
  },
  {
   "cell_type": "code",
   "execution_count": 52,
   "id": "dc73256e-94ec-4789-bdb5-74445db6f99f",
   "metadata": {},
   "outputs": [
    {
     "data": {
      "text/plain": [
       "[<matplotlib.lines.Line2D at 0x7f92e9849990>]"
      ]
     },
     "execution_count": 52,
     "metadata": {},
     "output_type": "execute_result"
    },
    {
     "data": {
      "image/png": "[encoded data removed]",
      "text/plain": [
       "<Figure size 432x288 with 1 Axes>"
      ]
     },
     "metadata": {
      "needs_background": "light"
     },
     "output_type": "display_data"
    }
   ],
   "source": [
    "plt.plot(icecream,disease,'.')"
   ]
  },
  {
   "cell_type": "markdown",
   "id": "7f102928-041a-4ed3-b4f2-825d8924a58b",
   "metadata": {},
   "source": [
    "- 양의 상관관계에 있다. "
   ]
  },
  {
   "cell_type": "markdown",
   "id": "c1e0c0e6-570c-4d84-892f-07579ecff320",
   "metadata": {},
   "source": [
    "`-` 아이스크림 중 어떠한 물질이 소아마비를 일으키는것이 분명하므로 (인과성이 분명해보이니까) 아래와 같은 모형을 세우자. <-- 여기서부터 틀렸음 "
   ]
  },
  {
   "cell_type": "markdown",
   "id": "2fd8fcbe-6e7c-4866-984a-4e69b2d4eecd",
   "metadata": {},
   "source": [
    "$${\\tt disease}_i =\\beta_0 +\\beta_1 {\\tt icecream}_i +\\epsilon_i,\\quad \\textbf{for} ~~ i=1,2,\\dots, 12$$"
   ]
  },
  {
   "cell_type": "markdown",
   "id": "3f89979c-4067-4732-9ac4-a8348ba7569c",
   "metadata": {},
   "source": [
    "`-` 적절한 $\\beta_0$와 $\\beta_1$을 추정하면 우리는 아이스크림과 소아마비의 관계를 알 수 있다. <-- 틀린주장 \n",
    "\n",
    "- 틀린 모형 \n",
    "- 도데체 우리가 뭘 잘못했는가? "
   ]
  },
  {
   "cell_type": "markdown",
   "id": "33718174-a147-4134-943b-ccfaafe8072d",
   "metadata": {},
   "source": [
    "`-` 두 변수 사이에 상관관계가 있어도 실제 원인은 다른 변수에 숨겨져 있는 경우가 많다. "
   ]
  },
  {
   "cell_type": "markdown",
   "id": "468f5828-b766-4a0f-a9bc-c046a3962f5b",
   "metadata": {},
   "source": [
    "(ex1) \n",
    "\n",
    "- 온도 $\\to$ 익사\n",
    "- 온도 $\\to$ 아이스크림 \n",
    "- 아이스크림과 익사자도 양의 상관관계에 있을것이다. \n",
    "- 아이스크림을 먹이면 물에 빠져 죽는다 $\\to$ 틀린주장 \n",
    "- 사실 기온이 숨겨진 원인이다. 기온이 증가하면 아이스크림 판매량도 증가하고 폭염때문에 익사사고율도 높아지는 구조이다. "
   ]
  },
  {
   "cell_type": "markdown",
   "id": "0b6a17a7-483d-46e3-8dcd-0392f2d4fc86",
   "metadata": {},
   "source": [
    "(ex2) \n",
    "\n",
    "- 인구수 $\\to$ 교회 \n",
    "- 인구수 $\\to$ 범죄건수 \n",
    "- 지역별 교회와 범죄건수를 살펴보면 상관관계가 높게 나올것임 \n",
    "- 교회를 지으면 범죄건수도 증가한다? $\\to$ 틀린주장 \n",
    "- 사실 인구가 숨겨진 요인임 "
   ]
  },
  {
   "cell_type": "markdown",
   "id": "828f86e8-94fa-46b6-b8f4-b496cb326694",
   "metadata": {},
   "source": [
    "`-` ex2, ex1에 대하여 바른 분석을 하려면? \n",
    "\n",
    "- ex2: 인구가 비슷한 도시끼리 묶어서 비교해보면 교회와 범죄의 건수는 양의 상관관계에 있지 않을것임 \n",
    "- ex1: 온도가 비슷한 그룹끼리 묶어보자. "
   ]
  },
  {
   "cell_type": "markdown",
   "id": "ff70f6af-49fc-42f3-a02e-b00e6c36e3b3",
   "metadata": {},
   "source": [
    "`-` 올바른 분석: 온도가 비슷한 그룹끼리 묶어서 그려보자. $\\to$ 상관계수가 줄어들 것이다. "
   ]
  },
  {
   "cell_type": "code",
   "execution_count": 53,
   "id": "50ed3e57-6cd2-4763-8cbc-c3c681170560",
   "metadata": {},
   "outputs": [
    {
     "data": {
      "text/plain": [
       "[<matplotlib.lines.Line2D at 0x7f92e97c91d0>]"
      ]
     },
     "execution_count": 53,
     "metadata": {},
     "output_type": "execute_result"
    },
    {
     "data": {
      "image/png": "[encoded data removed]",
      "text/plain": [
       "<Figure size 432x288 with 1 Axes>"
      ]
     },
     "metadata": {
      "needs_background": "light"
     },
     "output_type": "display_data"
    }
   ],
   "source": [
    "plt.plot(icecream[:6],disease[:6],'.')"
   ]
  },
  {
   "cell_type": "code",
   "execution_count": 54,
   "id": "abe87f56-ec56-4dbc-8a23-e6f46e1517c3",
   "metadata": {},
   "outputs": [
    {
     "data": {
      "text/plain": [
       "[<matplotlib.lines.Line2D at 0x7f92e973f5d0>]"
      ]
     },
     "execution_count": 54,
     "metadata": {},
     "output_type": "execute_result"
    },
    {
     "data": {
      "image/png": "[encoded data removed]",
      "text/plain": [
       "<Figure size 432x288 with 1 Axes>"
      ]
     },
     "metadata": {
      "needs_background": "light"
     },
     "output_type": "display_data"
    }
   ],
   "source": [
    "plt.plot(icecream[6:],disease[6:],'.')"
   ]
  },
  {
   "cell_type": "markdown",
   "id": "b218fdcf-e728-4b02-a1c6-57283cbd431a",
   "metadata": {},
   "source": [
    "- 진짜로 선형관계가 약해졌다.. "
   ]
  },
  {
   "cell_type": "markdown",
   "id": "ebe833c5-7426-4846-af2e-858409cd5fb5",
   "metadata": {},
   "source": [
    "# 숙제 (수업시간에 한 내용 X)"
   ]
  },
  {
   "cell_type": "code",
   "execution_count": 75,
   "id": "c4954199-345d-4555-8623-d7fdf6853298",
   "metadata": {},
   "outputs": [
    {
     "data": {
      "text/html": [
       "<div>\n",
       "<style scoped>\n",
       "    .dataframe tbody tr th:only-of-type {\n",
       "        vertical-align: middle;\n",
       "    }\n",
       "\n",
       "    .dataframe tbody tr th {\n",
       "        vertical-align: top;\n",
       "    }\n",
       "\n",
       "    .dataframe thead th {\n",
       "        text-align: right;\n",
       "    }\n",
       "</style>\n",
       "<table border=\"1\" class=\"dataframe\">\n",
       "  <thead>\n",
       "    <tr style=\"text-align: right;\">\n",
       "      <th></th>\n",
       "      <th>a</th>\n",
       "      <th>b</th>\n",
       "      <th>c</th>\n",
       "      <th>d</th>\n",
       "    </tr>\n",
       "  </thead>\n",
       "  <tbody>\n",
       "    <tr>\n",
       "      <th>0</th>\n",
       "      <td>1</td>\n",
       "      <td>2</td>\n",
       "      <td>3</td>\n",
       "      <td>4</td>\n",
       "    </tr>\n",
       "    <tr>\n",
       "      <th>1</th>\n",
       "      <td>2</td>\n",
       "      <td>3</td>\n",
       "      <td>4</td>\n",
       "      <td>5</td>\n",
       "    </tr>\n",
       "    <tr>\n",
       "      <th>2</th>\n",
       "      <td>3</td>\n",
       "      <td>4</td>\n",
       "      <td>5</td>\n",
       "      <td>6</td>\n",
       "    </tr>\n",
       "    <tr>\n",
       "      <th>3</th>\n",
       "      <td>4</td>\n",
       "      <td>5</td>\n",
       "      <td>6</td>\n",
       "      <td>7</td>\n",
       "    </tr>\n",
       "  </tbody>\n",
       "</table>\n",
       "</div>"
      ],
      "text/plain": [
       "   a  b  c  d\n",
       "0  1  2  3  4\n",
       "1  2  3  4  5\n",
       "2  3  4  5  6\n",
       "3  4  5  6  7"
      ]
     },
     "execution_count": 75,
     "metadata": {},
     "output_type": "execute_result"
    }
   ],
   "source": [
    "df = pd.DataFrame({'a':[1,2,3,4],'b':[2,3,4,5],'c':[3,4,5,6],'d':[4,5,6,7]})\n",
    "df"
   ]
  },
  {
   "cell_type": "markdown",
   "id": "6310fa17-b907-448c-a2c1-5b0ed39e4adb",
   "metadata": {},
   "source": [
    "아래의 결과를 관찰하고 drop의 기능을 유추하라. "
   ]
  },
  {
   "cell_type": "markdown",
   "id": "28f09c2a-c784-45d2-9558-f04aaaa4949e",
   "metadata": {},
   "source": [
    "(예시1)"
   ]
  },
  {
   "cell_type": "code",
   "execution_count": 76,
   "id": "aa431f5f-a12a-44e3-b255-2c1935a88e99",
   "metadata": {},
   "outputs": [
    {
     "data": {
      "text/html": [
       "<div>\n",
       "<style scoped>\n",
       "    .dataframe tbody tr th:only-of-type {\n",
       "        vertical-align: middle;\n",
       "    }\n",
       "\n",
       "    .dataframe tbody tr th {\n",
       "        vertical-align: top;\n",
       "    }\n",
       "\n",
       "    .dataframe thead th {\n",
       "        text-align: right;\n",
       "    }\n",
       "</style>\n",
       "<table border=\"1\" class=\"dataframe\">\n",
       "  <thead>\n",
       "    <tr style=\"text-align: right;\">\n",
       "      <th></th>\n",
       "      <th>b</th>\n",
       "      <th>c</th>\n",
       "      <th>d</th>\n",
       "    </tr>\n",
       "  </thead>\n",
       "  <tbody>\n",
       "    <tr>\n",
       "      <th>0</th>\n",
       "      <td>2</td>\n",
       "      <td>3</td>\n",
       "      <td>4</td>\n",
       "    </tr>\n",
       "    <tr>\n",
       "      <th>1</th>\n",
       "      <td>3</td>\n",
       "      <td>4</td>\n",
       "      <td>5</td>\n",
       "    </tr>\n",
       "    <tr>\n",
       "      <th>2</th>\n",
       "      <td>4</td>\n",
       "      <td>5</td>\n",
       "      <td>6</td>\n",
       "    </tr>\n",
       "    <tr>\n",
       "      <th>3</th>\n",
       "      <td>5</td>\n",
       "      <td>6</td>\n",
       "      <td>7</td>\n",
       "    </tr>\n",
       "  </tbody>\n",
       "</table>\n",
       "</div>"
      ],
      "text/plain": [
       "   b  c  d\n",
       "0  2  3  4\n",
       "1  3  4  5\n",
       "2  4  5  6\n",
       "3  5  6  7"
      ]
     },
     "execution_count": 76,
     "metadata": {},
     "output_type": "execute_result"
    }
   ],
   "source": [
    "df.drop(columns='a')"
   ]
  },
  {
   "cell_type": "markdown",
   "id": "6a5d536d-6fda-4532-9d90-a7dd54a90cd1",
   "metadata": {},
   "source": [
    "- `a` 컬럼 삭제"
   ]
  },
  {
   "cell_type": "markdown",
   "id": "3d6d18f9-ec9e-4ffa-933f-8472dc6a9266",
   "metadata": {},
   "source": [
    "(예시2)"
   ]
  },
  {
   "cell_type": "code",
   "execution_count": 77,
   "id": "4d7b050d-3585-4be1-aefd-3fc339a88fdf",
   "metadata": {},
   "outputs": [
    {
     "data": {
      "text/html": [
       "<div>\n",
       "<style scoped>\n",
       "    .dataframe tbody tr th:only-of-type {\n",
       "        vertical-align: middle;\n",
       "    }\n",
       "\n",
       "    .dataframe tbody tr th {\n",
       "        vertical-align: top;\n",
       "    }\n",
       "\n",
       "    .dataframe thead th {\n",
       "        text-align: right;\n",
       "    }\n",
       "</style>\n",
       "<table border=\"1\" class=\"dataframe\">\n",
       "  <thead>\n",
       "    <tr style=\"text-align: right;\">\n",
       "      <th></th>\n",
       "      <th>c</th>\n",
       "      <th>d</th>\n",
       "    </tr>\n",
       "  </thead>\n",
       "  <tbody>\n",
       "    <tr>\n",
       "      <th>0</th>\n",
       "      <td>3</td>\n",
       "      <td>4</td>\n",
       "    </tr>\n",
       "    <tr>\n",
       "      <th>1</th>\n",
       "      <td>4</td>\n",
       "      <td>5</td>\n",
       "    </tr>\n",
       "    <tr>\n",
       "      <th>2</th>\n",
       "      <td>5</td>\n",
       "      <td>6</td>\n",
       "    </tr>\n",
       "    <tr>\n",
       "      <th>3</th>\n",
       "      <td>6</td>\n",
       "      <td>7</td>\n",
       "    </tr>\n",
       "  </tbody>\n",
       "</table>\n",
       "</div>"
      ],
      "text/plain": [
       "   c  d\n",
       "0  3  4\n",
       "1  4  5\n",
       "2  5  6\n",
       "3  6  7"
      ]
     },
     "execution_count": 77,
     "metadata": {},
     "output_type": "execute_result"
    }
   ],
   "source": [
    "df.drop(columns=['a','b'])"
   ]
  },
  {
   "cell_type": "markdown",
   "id": "b6c98c79-ce43-4a7b-8120-88cbc2966433",
   "metadata": {},
   "source": [
    "- `a`, `b` 컬럼 삭제"
   ]
  },
  {
   "cell_type": "markdown",
   "id": "f320188c-b088-4509-8143-d407d8bbbb1a",
   "metadata": {},
   "source": [
    "(예시3)"
   ]
  },
  {
   "cell_type": "code",
   "execution_count": 78,
   "id": "610b31c6-79ce-407b-b117-f26fac987d77",
   "metadata": {},
   "outputs": [
    {
     "data": {
      "text/html": [
       "<div>\n",
       "<style scoped>\n",
       "    .dataframe tbody tr th:only-of-type {\n",
       "        vertical-align: middle;\n",
       "    }\n",
       "\n",
       "    .dataframe tbody tr th {\n",
       "        vertical-align: top;\n",
       "    }\n",
       "\n",
       "    .dataframe thead th {\n",
       "        text-align: right;\n",
       "    }\n",
       "</style>\n",
       "<table border=\"1\" class=\"dataframe\">\n",
       "  <thead>\n",
       "    <tr style=\"text-align: right;\">\n",
       "      <th></th>\n",
       "      <th>a</th>\n",
       "      <th>b</th>\n",
       "      <th>c</th>\n",
       "      <th>d</th>\n",
       "    </tr>\n",
       "  </thead>\n",
       "  <tbody>\n",
       "    <tr>\n",
       "      <th>0</th>\n",
       "      <td>1</td>\n",
       "      <td>2</td>\n",
       "      <td>3</td>\n",
       "      <td>4</td>\n",
       "    </tr>\n",
       "    <tr>\n",
       "      <th>1</th>\n",
       "      <td>2</td>\n",
       "      <td>3</td>\n",
       "      <td>4</td>\n",
       "      <td>5</td>\n",
       "    </tr>\n",
       "    <tr>\n",
       "      <th>2</th>\n",
       "      <td>3</td>\n",
       "      <td>4</td>\n",
       "      <td>5</td>\n",
       "      <td>6</td>\n",
       "    </tr>\n",
       "    <tr>\n",
       "      <th>3</th>\n",
       "      <td>4</td>\n",
       "      <td>5</td>\n",
       "      <td>6</td>\n",
       "      <td>7</td>\n",
       "    </tr>\n",
       "  </tbody>\n",
       "</table>\n",
       "</div>"
      ],
      "text/plain": [
       "   a  b  c  d\n",
       "0  1  2  3  4\n",
       "1  2  3  4  5\n",
       "2  3  4  5  6\n",
       "3  4  5  6  7"
      ]
     },
     "execution_count": 78,
     "metadata": {},
     "output_type": "execute_result"
    }
   ],
   "source": [
    "df"
   ]
  },
  {
   "cell_type": "code",
   "execution_count": 67,
   "id": "3f14b54d-6895-4fbf-a010-1f74e5db84d6",
   "metadata": {},
   "outputs": [
    {
     "data": {
      "text/html": [
       "<div>\n",
       "<style scoped>\n",
       "    .dataframe tbody tr th:only-of-type {\n",
       "        vertical-align: middle;\n",
       "    }\n",
       "\n",
       "    .dataframe tbody tr th {\n",
       "        vertical-align: top;\n",
       "    }\n",
       "\n",
       "    .dataframe thead th {\n",
       "        text-align: right;\n",
       "    }\n",
       "</style>\n",
       "<table border=\"1\" class=\"dataframe\">\n",
       "  <thead>\n",
       "    <tr style=\"text-align: right;\">\n",
       "      <th></th>\n",
       "      <th>a</th>\n",
       "      <th>b</th>\n",
       "      <th>c</th>\n",
       "      <th>d</th>\n",
       "    </tr>\n",
       "  </thead>\n",
       "  <tbody>\n",
       "    <tr>\n",
       "      <th>1</th>\n",
       "      <td>2</td>\n",
       "      <td>3</td>\n",
       "      <td>4</td>\n",
       "      <td>5</td>\n",
       "    </tr>\n",
       "    <tr>\n",
       "      <th>2</th>\n",
       "      <td>3</td>\n",
       "      <td>4</td>\n",
       "      <td>5</td>\n",
       "      <td>6</td>\n",
       "    </tr>\n",
       "    <tr>\n",
       "      <th>3</th>\n",
       "      <td>4</td>\n",
       "      <td>5</td>\n",
       "      <td>6</td>\n",
       "      <td>7</td>\n",
       "    </tr>\n",
       "  </tbody>\n",
       "</table>\n",
       "</div>"
      ],
      "text/plain": [
       "   a  b  c  d\n",
       "1  2  3  4  5\n",
       "2  3  4  5  6\n",
       "3  4  5  6  7"
      ]
     },
     "execution_count": 67,
     "metadata": {},
     "output_type": "execute_result"
    }
   ],
   "source": [
    "df.drop(index=0)"
   ]
  },
  {
   "cell_type": "markdown",
   "id": "d3d943aa-aa35-44cd-8380-6cf2f52bc9bf",
   "metadata": {},
   "source": [
    "- 첫번째 행 삭제"
   ]
  },
  {
   "cell_type": "markdown",
   "id": "0176b007-b486-4e87-8f44-3c771c0598b2",
   "metadata": {},
   "source": [
    "(예시4)"
   ]
  },
  {
   "cell_type": "code",
   "execution_count": 79,
   "id": "80942cfe-225f-498d-ab8b-c870c56319e2",
   "metadata": {},
   "outputs": [
    {
     "data": {
      "text/html": [
       "<div>\n",
       "<style scoped>\n",
       "    .dataframe tbody tr th:only-of-type {\n",
       "        vertical-align: middle;\n",
       "    }\n",
       "\n",
       "    .dataframe tbody tr th {\n",
       "        vertical-align: top;\n",
       "    }\n",
       "\n",
       "    .dataframe thead th {\n",
       "        text-align: right;\n",
       "    }\n",
       "</style>\n",
       "<table border=\"1\" class=\"dataframe\">\n",
       "  <thead>\n",
       "    <tr style=\"text-align: right;\">\n",
       "      <th></th>\n",
       "      <th>a</th>\n",
       "      <th>b</th>\n",
       "      <th>c</th>\n",
       "      <th>d</th>\n",
       "    </tr>\n",
       "  </thead>\n",
       "  <tbody>\n",
       "    <tr>\n",
       "      <th>0</th>\n",
       "      <td>1</td>\n",
       "      <td>2</td>\n",
       "      <td>3</td>\n",
       "      <td>4</td>\n",
       "    </tr>\n",
       "    <tr>\n",
       "      <th>1</th>\n",
       "      <td>2</td>\n",
       "      <td>3</td>\n",
       "      <td>4</td>\n",
       "      <td>5</td>\n",
       "    </tr>\n",
       "  </tbody>\n",
       "</table>\n",
       "</div>"
      ],
      "text/plain": [
       "   a  b  c  d\n",
       "0  1  2  3  4\n",
       "1  2  3  4  5"
      ]
     },
     "execution_count": 79,
     "metadata": {},
     "output_type": "execute_result"
    }
   ],
   "source": [
    "df.drop(index=range(2,4))"
   ]
  },
  {
   "cell_type": "markdown",
   "id": "ccdff50c-c4f8-450a-bcfc-962d2127b68c",
   "metadata": {},
   "source": [
    "행 인덱스 2,3 (3번째, 4번째 행)에 해당하는 행 삭제"
   ]
  },
  {
   "cell_type": "markdown",
   "id": "f5bea663-aea4-4d40-b24b-026b128c372d",
   "metadata": {},
   "source": [
    "문제: `df` 에서 a,c열을 삭제하고 첫행을 삭제하라. "
   ]
  },
  {
   "cell_type": "code",
   "execution_count": 78,
   "id": "2b2e27f5-ed9d-4e58-bbdf-c18c3f4dbdad",
   "metadata": {},
   "outputs": [
    {
     "data": {
      "text/html": [
       "<div>\n",
       "<style scoped>\n",
       "    .dataframe tbody tr th:only-of-type {\n",
       "        vertical-align: middle;\n",
       "    }\n",
       "\n",
       "    .dataframe tbody tr th {\n",
       "        vertical-align: top;\n",
       "    }\n",
       "\n",
       "    .dataframe thead th {\n",
       "        text-align: right;\n",
       "    }\n",
       "</style>\n",
       "<table border=\"1\" class=\"dataframe\">\n",
       "  <thead>\n",
       "    <tr style=\"text-align: right;\">\n",
       "      <th></th>\n",
       "      <th>b</th>\n",
       "      <th>d</th>\n",
       "    </tr>\n",
       "  </thead>\n",
       "  <tbody>\n",
       "    <tr>\n",
       "      <th>1</th>\n",
       "      <td>3</td>\n",
       "      <td>5</td>\n",
       "    </tr>\n",
       "    <tr>\n",
       "      <th>2</th>\n",
       "      <td>4</td>\n",
       "      <td>6</td>\n",
       "    </tr>\n",
       "    <tr>\n",
       "      <th>3</th>\n",
       "      <td>5</td>\n",
       "      <td>7</td>\n",
       "    </tr>\n",
       "  </tbody>\n",
       "</table>\n",
       "</div>"
      ],
      "text/plain": [
       "   b  d\n",
       "1  3  5\n",
       "2  4  6\n",
       "3  5  7"
      ]
     },
     "execution_count": 78,
     "metadata": {},
     "output_type": "execute_result"
    }
   ],
   "source": [
    "#출력결과는 아래와 같아야 한다. "
   ]
  },
  {
   "cell_type": "code",
   "execution_count": 85,
   "id": "b492e366-53b0-491f-9779-577497ee3e66",
   "metadata": {},
   "outputs": [
    {
     "data": {
      "text/html": [
       "<div>\n",
       "<style scoped>\n",
       "    .dataframe tbody tr th:only-of-type {\n",
       "        vertical-align: middle;\n",
       "    }\n",
       "\n",
       "    .dataframe tbody tr th {\n",
       "        vertical-align: top;\n",
       "    }\n",
       "\n",
       "    .dataframe thead th {\n",
       "        text-align: right;\n",
       "    }\n",
       "</style>\n",
       "<table border=\"1\" class=\"dataframe\">\n",
       "  <thead>\n",
       "    <tr style=\"text-align: right;\">\n",
       "      <th></th>\n",
       "      <th>b</th>\n",
       "      <th>d</th>\n",
       "    </tr>\n",
       "  </thead>\n",
       "  <tbody>\n",
       "    <tr>\n",
       "      <th>1</th>\n",
       "      <td>3</td>\n",
       "      <td>5</td>\n",
       "    </tr>\n",
       "    <tr>\n",
       "      <th>2</th>\n",
       "      <td>4</td>\n",
       "      <td>6</td>\n",
       "    </tr>\n",
       "    <tr>\n",
       "      <th>3</th>\n",
       "      <td>5</td>\n",
       "      <td>7</td>\n",
       "    </tr>\n",
       "  </tbody>\n",
       "</table>\n",
       "</div>"
      ],
      "text/plain": [
       "   b  d\n",
       "1  3  5\n",
       "2  4  6\n",
       "3  5  7"
      ]
     },
     "execution_count": 85,
     "metadata": {},
     "output_type": "execute_result"
    }
   ],
   "source": [
    "df.drop(columns = ['a','c'], index=0)"
   ]
  }
 ],
 "metadata": {
  "kernelspec": {
   "display_name": "Python 3",
   "language": "python",
   "name": "python3"
  },
  "language_info": {
   "codemirror_mode": {
    "name": "ipython",
    "version": 3
   },
   "file_extension": ".py",
   "mimetype": "text/x-python",
   "name": "python",
   "nbconvert_exporter": "python",
   "pygments_lexer": "ipython3",
   "version": "3.8.16"
  }
 },
 "nbformat": 4,
 "nbformat_minor": 5
}
