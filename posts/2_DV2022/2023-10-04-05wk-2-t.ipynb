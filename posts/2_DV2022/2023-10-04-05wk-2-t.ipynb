{
 "cells": [
  {
   "cell_type": "raw",
   "id": "05af55b4-4340-4861-91f9-5dd61990c78c",
   "metadata": {},
   "source": [
    "---\n",
    "title: \"**[DV2023]** 05wk-2: Pandas – transform column (꿀팁)\"\n",
    "author: \"JiyunLim\"\n",
    "date: \"10/04/2023\"\n",
    "categories:\n",
    "  - Pandas\n",
    "---"
   ]
  },
  {
   "cell_type": "markdown",
   "id": "e80d5f27-0b18-489f-bfbd-dbf4c8653595",
   "metadata": {},
   "source": [
    "# 1. 강의영상\n",
    "\n",
    "<https://youtu.be/playlist?list=PLQqh36zP38-wVp_fe2YXiERTc0ZEh9Li_&si=rr31LPWCeN_negav>\n",
    "\n",
    "# 2. Imports"
   ]
  },
  {
   "cell_type": "code",
   "execution_count": 12,
   "id": "fe18b411-466d-4db9-a900-638ea382a801",
   "metadata": {
    "tags": []
   },
   "outputs": [],
   "source": [
    "import pandas as pd\n",
    "import numpy as np"
   ]
  },
  {
   "cell_type": "markdown",
   "id": "50af2db4-7f1e-420e-ae1e-fede5ec31e12",
   "metadata": {},
   "source": [
    "# 3. Pandas: transform column (꿀팁)\n",
    "\n",
    "## A. `lambda`\n",
    "\n",
    "저번시간에 했음\n",
    "\n",
    "## B. `map`\n",
    "\n",
    "저번시간에 했음"
   ]
  },
  {
   "cell_type": "markdown",
   "id": "4a3c948c-f7ba-4157-83a2-8296497f1ed0",
   "metadata": {},
   "source": [
    "## C. `s.apply(변환함수)`"
   ]
  },
  {
   "cell_type": "markdown",
   "id": "02af138f-d0ff-4dc1-8d4e-53cbe0d97d48",
   "metadata": {},
   "source": [
    "- 변환함수: 스칼라 $\\to$ 스칼라 // 벡터 $\\to$ 벡터 // 매트릭스 $\\to$ 매트릭스 (예: x$\\to x+1$: [1,2] $\\to$ [2,3])\n",
    "- 집계함수: 벡터 $\\to$ 스칼라 (예: 평균 [1,2,3,4] $\\to$ 2.5)"
   ]
  },
  {
   "cell_type": "markdown",
   "id": "107f4b64-8c7b-4d67-9885-7ec4550ea1cb",
   "metadata": {},
   "source": [
    "`-` 예시1: 원소별로 처음3개의 숫자만 출력"
   ]
  },
  {
   "cell_type": "code",
   "execution_count": 3,
   "id": "99418b4d",
   "metadata": {
    "tags": []
   },
   "outputs": [],
   "source": [
    "df = pd.read_csv('https://raw.githubusercontent.com/guebin/DV2022/master/posts/FIFA23_official_data.csv')\n",
    "s = df.Height # pandas series"
   ]
  },
  {
   "cell_type": "code",
   "execution_count": 4,
   "id": "639bc30b-3e6a-4df8-86c4-745f8e03f086",
   "metadata": {},
   "outputs": [
    {
     "data": {
      "text/plain": [
       "0        189cm\n",
       "1        179cm\n",
       "2        172cm\n",
       "3        181cm\n",
       "4        172cm\n",
       "         ...  \n",
       "17655    190cm\n",
       "17656    195cm\n",
       "17657    190cm\n",
       "17658    187cm\n",
       "17659    186cm\n",
       "Name: Height, Length: 17660, dtype: object"
      ]
     },
     "execution_count": 4,
     "metadata": {},
     "output_type": "execute_result"
    }
   ],
   "source": [
    "s"
   ]
  },
  {
   "cell_type": "code",
   "execution_count": 18,
   "id": "42001aec-2d5b-4ee5-9a83-cbf41277b07d",
   "metadata": {},
   "outputs": [
    {
     "data": {
      "text/plain": [
       "0        189\n",
       "1        179\n",
       "2        172\n",
       "3        181\n",
       "4        172\n",
       "        ... \n",
       "17655    190\n",
       "17656    195\n",
       "17657    190\n",
       "17658    187\n",
       "17659    186\n",
       "Name: Height, Length: 17660, dtype: object"
      ]
     },
     "execution_count": 18,
     "metadata": {},
     "output_type": "execute_result"
    }
   ],
   "source": [
    "s.apply(lambda x: x[:3])"
   ]
  },
  {
   "cell_type": "markdown",
   "id": "357f2b5a-b8e1-407c-b9e5-01eac09f27f8",
   "metadata": {},
   "source": [
    "- 숫자가 아닌 오브젝트형!"
   ]
  },
  {
   "cell_type": "code",
   "execution_count": 16,
   "id": "f716f1a4",
   "metadata": {
    "tags": []
   },
   "outputs": [
    {
     "data": {
      "text/plain": [
       "0    1.0\n",
       "1    2.0\n",
       "2    3.0\n",
       "dtype: float64"
      ]
     },
     "execution_count": 16,
     "metadata": {},
     "output_type": "execute_result"
    }
   ],
   "source": [
    "s_ = pd.Series([1,2,3])\n",
    "s_.apply(lambda x: np.mean(x)) # 우리가 원하는 [1,2,3]의 평균인 2가 나오지 않음!"
   ]
  },
  {
   "cell_type": "markdown",
   "id": "f99bcdfd-63b3-44d3-8b39-cb65e0cee71b",
   "metadata": {},
   "source": [
    " ::: {.callout-note}\n",
    " \n",
    "series의 apply함수에 집계함수를 쓰면 우리가 생각하는 대로 동작하지 않는다.\n",
    " (후에 데이터프레임과 혼용하여 쓸 때 헷갈림 주의)\n",
    ":::"
   ]
  },
  {
   "cell_type": "markdown",
   "id": "056803a7-2820-4f33-95c7-cf63ff6d75ac",
   "metadata": {},
   "source": [
    "`-` 예시2: 원소별로 처음3개의 문자만 출력 $\\to$ `str`자료형을\n",
    "`int`자료형으로 변환"
   ]
  },
  {
   "cell_type": "code",
   "execution_count": 19,
   "id": "2ca16fd8",
   "metadata": {
    "tags": []
   },
   "outputs": [],
   "source": [
    "df = pd.read_csv('https://raw.githubusercontent.com/guebin/DV2022/master/posts/FIFA23_official_data.csv')\n",
    "s = df.Height"
   ]
  },
  {
   "cell_type": "markdown",
   "id": "d3f1fcc6-3a94-4a05-bc23-5d21dbebdaf4",
   "metadata": {},
   "source": [
    "(방법1) – 한번에"
   ]
  },
  {
   "cell_type": "code",
   "execution_count": 21,
   "id": "09158410-b4ae-48ca-ac2b-7a5b742bb913",
   "metadata": {
    "tags": []
   },
   "outputs": [
    {
     "data": {
      "text/plain": [
       "0        189\n",
       "1        179\n",
       "2        172\n",
       "3        181\n",
       "4        172\n",
       "        ... \n",
       "17655    190\n",
       "17656    195\n",
       "17657    190\n",
       "17658    187\n",
       "17659    186\n",
       "Name: Height, Length: 17660, dtype: int64"
      ]
     },
     "execution_count": 21,
     "metadata": {},
     "output_type": "execute_result"
    }
   ],
   "source": [
    "s.apply(lambda x: int(x[:3])) # 타입이 int로 잘 바뀜"
   ]
  },
  {
   "cell_type": "markdown",
   "id": "1bfeced8-ccae-47fa-9dc5-dab036a3aeec",
   "metadata": {},
   "source": [
    "(방법2) – 연쇄적으로.."
   ]
  },
  {
   "cell_type": "code",
   "execution_count": 106,
   "id": "b7169559-d4e8-49f0-9bc0-ebaf8157c08d",
   "metadata": {
    "tags": []
   },
   "outputs": [],
   "source": [
    "s.apply(lambda x: x[:3]).apply(int)"
   ]
  },
  {
   "cell_type": "markdown",
   "id": "4566c5b5-9a9b-4dbe-8a67-6abbc80747a3",
   "metadata": {},
   "source": [
    "## D. `s.str`, `idx.str`\n",
    "\n",
    "`-` 예시1: 원소별로 처음 3개의 숫자만 출력"
   ]
  },
  {
   "cell_type": "code",
   "execution_count": 107,
   "id": "f7f63076",
   "metadata": {
    "tags": []
   },
   "outputs": [],
   "source": [
    "df = pd.read_csv('https://raw.githubusercontent.com/guebin/DV2022/master/posts/FIFA23_official_data.csv')\n",
    "s = df.Height"
   ]
  },
  {
   "cell_type": "code",
   "execution_count": 24,
   "id": "7eeb26dc-ef70-4b4c-9a97-1e153cb1a6d6",
   "metadata": {},
   "outputs": [
    {
     "data": {
      "text/plain": [
       "'190'"
      ]
     },
     "execution_count": 24,
     "metadata": {},
     "output_type": "execute_result"
    }
   ],
   "source": [
    "'190cm'[:3] # 브로드 캐스팅이 됐으면 좋을 것 같은데?"
   ]
  },
  {
   "cell_type": "code",
   "execution_count": 25,
   "id": "93627f9e-d69e-4b5b-81b6-cd56143d2f3d",
   "metadata": {},
   "outputs": [
    {
     "data": {
      "text/plain": [
       "<pandas.core.strings.accessor.StringMethods at 0x7fcfb304a310>"
      ]
     },
     "execution_count": 25,
     "metadata": {},
     "output_type": "execute_result"
    }
   ],
   "source": [
    "s.str"
   ]
  },
  {
   "cell_type": "code",
   "execution_count": 23,
   "id": "9f46cea8-c672-4371-bb0b-0656be640d99",
   "metadata": {
    "tags": []
   },
   "outputs": [
    {
     "data": {
      "text/plain": [
       "0        189\n",
       "1        179\n",
       "2        172\n",
       "3        181\n",
       "4        172\n",
       "        ... \n",
       "17655    190\n",
       "17656    195\n",
       "17657    190\n",
       "17658    187\n",
       "17659    186\n",
       "Name: Height, Length: 17660, dtype: object"
      ]
     },
     "execution_count": 23,
     "metadata": {},
     "output_type": "execute_result"
    }
   ],
   "source": [
    "s.str[:3] # 문자열들의 수열버전"
   ]
  },
  {
   "cell_type": "code",
   "execution_count": 26,
   "id": "39afb36c-4eec-4450-9802-48cdbd8789ea",
   "metadata": {},
   "outputs": [
    {
     "data": {
      "text/plain": [
       "0        189\n",
       "1        179\n",
       "2        172\n",
       "3        181\n",
       "4        172\n",
       "        ... \n",
       "17655    190\n",
       "17656    195\n",
       "17657    190\n",
       "17658    187\n",
       "17659    186\n",
       "Name: Height, Length: 17660, dtype: object"
      ]
     },
     "execution_count": 26,
     "metadata": {},
     "output_type": "execute_result"
    }
   ],
   "source": [
    "s.str.replace('cm','') #  이것도 이제 잘됨."
   ]
  },
  {
   "cell_type": "markdown",
   "id": "f964d2b0-d41f-41b4-821f-e7020d7c30c9",
   "metadata": {},
   "source": [
    "`-` 예시2: 원소별로 isupper를 수행"
   ]
  },
  {
   "cell_type": "code",
   "execution_count": 27,
   "id": "8e1843d3",
   "metadata": {
    "tags": []
   },
   "outputs": [
    {
     "data": {
      "text/plain": [
       "0    A\n",
       "1    B\n",
       "2    C\n",
       "3    d\n",
       "4    e\n",
       "5    F\n",
       "dtype: object"
      ]
     },
     "execution_count": 27,
     "metadata": {},
     "output_type": "execute_result"
    }
   ],
   "source": [
    "s = pd.Series(['A','B','C','d','e','F'])\n",
    "s"
   ]
  },
  {
   "cell_type": "code",
   "execution_count": 28,
   "id": "ab7093ee-4b38-4130-a603-9b1a084bf806",
   "metadata": {},
   "outputs": [
    {
     "ename": "AttributeError",
     "evalue": "'Series' object has no attribute 'isupper'",
     "output_type": "error",
     "traceback": [
      "\u001b[0;31m---------------------------------------------------------------------------\u001b[0m",
      "\u001b[0;31mAttributeError\u001b[0m                            Traceback (most recent call last)",
      "Cell \u001b[0;32mIn[28], line 1\u001b[0m\n\u001b[0;32m----> 1\u001b[0m \u001b[43ms\u001b[49m\u001b[38;5;241;43m.\u001b[39;49m\u001b[43misupper\u001b[49m()\n",
      "File \u001b[0;32m~/anaconda3/envs/torch/lib/python3.8/site-packages/pandas/core/generic.py:5989\u001b[0m, in \u001b[0;36mNDFrame.__getattr__\u001b[0;34m(self, name)\u001b[0m\n\u001b[1;32m   5982\u001b[0m \u001b[38;5;28;01mif\u001b[39;00m (\n\u001b[1;32m   5983\u001b[0m     name \u001b[38;5;129;01mnot\u001b[39;00m \u001b[38;5;129;01min\u001b[39;00m \u001b[38;5;28mself\u001b[39m\u001b[38;5;241m.\u001b[39m_internal_names_set\n\u001b[1;32m   5984\u001b[0m     \u001b[38;5;129;01mand\u001b[39;00m name \u001b[38;5;129;01mnot\u001b[39;00m \u001b[38;5;129;01min\u001b[39;00m \u001b[38;5;28mself\u001b[39m\u001b[38;5;241m.\u001b[39m_metadata\n\u001b[1;32m   5985\u001b[0m     \u001b[38;5;129;01mand\u001b[39;00m name \u001b[38;5;129;01mnot\u001b[39;00m \u001b[38;5;129;01min\u001b[39;00m \u001b[38;5;28mself\u001b[39m\u001b[38;5;241m.\u001b[39m_accessors\n\u001b[1;32m   5986\u001b[0m     \u001b[38;5;129;01mand\u001b[39;00m \u001b[38;5;28mself\u001b[39m\u001b[38;5;241m.\u001b[39m_info_axis\u001b[38;5;241m.\u001b[39m_can_hold_identifiers_and_holds_name(name)\n\u001b[1;32m   5987\u001b[0m ):\n\u001b[1;32m   5988\u001b[0m     \u001b[38;5;28;01mreturn\u001b[39;00m \u001b[38;5;28mself\u001b[39m[name]\n\u001b[0;32m-> 5989\u001b[0m \u001b[38;5;28;01mreturn\u001b[39;00m \u001b[38;5;28;43mobject\u001b[39;49m\u001b[38;5;241;43m.\u001b[39;49m\u001b[38;5;21;43m__getattribute__\u001b[39;49m\u001b[43m(\u001b[49m\u001b[38;5;28;43mself\u001b[39;49m\u001b[43m,\u001b[49m\u001b[43m \u001b[49m\u001b[43mname\u001b[49m\u001b[43m)\u001b[49m\n",
      "\u001b[0;31mAttributeError\u001b[0m: 'Series' object has no attribute 'isupper'"
     ]
    }
   ],
   "source": [
    "s.isupper() # 이렇게 하면 오류남!"
   ]
  },
  {
   "cell_type": "code",
   "execution_count": 29,
   "id": "eeb6d9fb-a378-4c93-8f19-a40df8692cbc",
   "metadata": {
    "tags": []
   },
   "outputs": [
    {
     "data": {
      "text/plain": [
       "0     True\n",
       "1     True\n",
       "2     True\n",
       "3    False\n",
       "4    False\n",
       "5     True\n",
       "dtype: bool"
      ]
     },
     "execution_count": 29,
     "metadata": {},
     "output_type": "execute_result"
    }
   ],
   "source": [
    "s.str.isupper() "
   ]
  },
  {
   "cell_type": "markdown",
   "id": "63d85dbf-cdd0-455e-a87a-cdb62cbfeab8",
   "metadata": {},
   "source": [
    "`-` 예시3: 원소별로 공백제거 (pd.Series 뿐만 아니라 pd.Index 자료형에도\n",
    "사용가능)"
   ]
  },
  {
   "cell_type": "code",
   "execution_count": 30,
   "id": "ad2ac0e6",
   "metadata": {
    "tags": []
   },
   "outputs": [],
   "source": [
    "df = pd.read_csv('https://raw.githubusercontent.com/guebin/DV2022/master/posts/FIFA23_official_data.csv')\n",
    "idx = df.columns"
   ]
  },
  {
   "cell_type": "code",
   "execution_count": 31,
   "id": "f35a974d-b8ca-4380-bca3-124e8015d759",
   "metadata": {},
   "outputs": [
    {
     "data": {
      "text/plain": [
       "Index(['ID', 'Name', 'Age', 'Photo', 'Nationality', 'Flag', 'Overall',\n",
       "       'Potential', 'Club', 'Club Logo', 'Value', 'Wage', 'Special',\n",
       "       'Preferred Foot', 'International Reputation', 'Weak Foot',\n",
       "       'Skill Moves', 'Work Rate', 'Body Type', 'Real Face', 'Position',\n",
       "       'Joined', 'Loaned From', 'Contract Valid Until', 'Height', 'Weight',\n",
       "       'Release Clause', 'Kit Number', 'Best Overall Rating'],\n",
       "      dtype='object')"
      ]
     },
     "execution_count": 31,
     "metadata": {},
     "output_type": "execute_result"
    }
   ],
   "source": [
    "idx"
   ]
  },
  {
   "cell_type": "code",
   "execution_count": 32,
   "id": "cdb2b909-acb7-48cd-9363-4e3da38e28a2",
   "metadata": {},
   "outputs": [
    {
     "data": {
      "text/plain": [
       "Index(['ID', 'Name', 'Age', 'Photo', 'Nationality', 'Flag', 'Overall',\n",
       "       'Potential', 'Club', 'ClubLogo', 'Value', 'Wage', 'Special',\n",
       "       'PreferredFoot', 'InternationalReputation', 'WeakFoot', 'SkillMoves',\n",
       "       'WorkRate', 'BodyType', 'RealFace', 'Position', 'Joined', 'LoanedFrom',\n",
       "       'ContractValidUntil', 'Height', 'Weight', 'ReleaseClause', 'KitNumber',\n",
       "       'BestOverallRating'],\n",
       "      dtype='object')"
      ]
     },
     "execution_count": 32,
     "metadata": {},
     "output_type": "execute_result"
    }
   ],
   "source": [
    "# 공백삭제\n",
    "idx.str.replace(' ', '')"
   ]
  },
  {
   "cell_type": "code",
   "execution_count": 33,
   "id": "40f4b31b-b496-49b2-99c5-3f5d5e4cc287",
   "metadata": {},
   "outputs": [
    {
     "data": {
      "text/plain": [
       "Index(['ID', 'Name', 'Age', 'Photo', 'Nationality', 'Flag', 'Overall',\n",
       "       'Potential', 'Club', 'Club_Logo', 'Value', 'Wage', 'Special',\n",
       "       'Preferred_Foot', 'International_Reputation', 'Weak_Foot',\n",
       "       'Skill_Moves', 'Work_Rate', 'Body_Type', 'Real_Face', 'Position',\n",
       "       'Joined', 'Loaned_From', 'Contract_Valid_Until', 'Height', 'Weight',\n",
       "       'Release_Clause', 'Kit_Number', 'Best_Overall_Rating'],\n",
       "      dtype='object')"
      ]
     },
     "execution_count": 33,
     "metadata": {},
     "output_type": "execute_result"
    }
   ],
   "source": [
    "# 공백 언더바\n",
    "idx.str.replace(' ', '_')"
   ]
  },
  {
   "cell_type": "markdown",
   "id": "915c9541-00f4-4ad5-9847-817f4b43b1fc",
   "metadata": {},
   "source": [
    "- `.str` 을 이용하면, 문자열을 편하게 쓸 수 있다."
   ]
  },
  {
   "cell_type": "markdown",
   "id": "aacb3a10-1c81-4490-8192-3bc03ec1e117",
   "metadata": {},
   "source": [
    "## E. `s.astype()`\n",
    "\n",
    "`-` 예시1: 원소의 타입을 모두 `int`형으로 변경"
   ]
  },
  {
   "cell_type": "code",
   "execution_count": 34,
   "id": "f97e2a97",
   "metadata": {
    "tags": []
   },
   "outputs": [
    {
     "data": {
      "text/plain": [
       "0    1\n",
       "1    2\n",
       "2    3\n",
       "3    4\n",
       "4    5\n",
       "dtype: object"
      ]
     },
     "execution_count": 34,
     "metadata": {},
     "output_type": "execute_result"
    }
   ],
   "source": [
    "s = pd.Series(list('12345'))\n",
    "s"
   ]
  },
  {
   "cell_type": "code",
   "execution_count": 36,
   "id": "d73c624b-12a4-424d-9052-96c535675fa2",
   "metadata": {},
   "outputs": [
    {
     "ename": "TypeError",
     "evalue": "cannot convert the series to <class 'int'>",
     "output_type": "error",
     "traceback": [
      "\u001b[0;31m---------------------------------------------------------------------------\u001b[0m",
      "\u001b[0;31mTypeError\u001b[0m                                 Traceback (most recent call last)",
      "Cell \u001b[0;32mIn[36], line 1\u001b[0m\n\u001b[0;32m----> 1\u001b[0m \u001b[38;5;28;43mint\u001b[39;49m\u001b[43m(\u001b[49m\u001b[43ms\u001b[49m\u001b[43m)\u001b[49m\n",
      "File \u001b[0;32m~/anaconda3/envs/torch/lib/python3.8/site-packages/pandas/core/series.py:230\u001b[0m, in \u001b[0;36m_coerce_method.<locals>.wrapper\u001b[0;34m(self)\u001b[0m\n\u001b[1;32m    222\u001b[0m     warnings\u001b[38;5;241m.\u001b[39mwarn(\n\u001b[1;32m    223\u001b[0m         \u001b[38;5;124mf\u001b[39m\u001b[38;5;124m\"\u001b[39m\u001b[38;5;124mCalling \u001b[39m\u001b[38;5;132;01m{\u001b[39;00mconverter\u001b[38;5;241m.\u001b[39m\u001b[38;5;18m__name__\u001b[39m\u001b[38;5;132;01m}\u001b[39;00m\u001b[38;5;124m on a single element Series is \u001b[39m\u001b[38;5;124m\"\u001b[39m\n\u001b[1;32m    224\u001b[0m         \u001b[38;5;124m\"\u001b[39m\u001b[38;5;124mdeprecated and will raise a TypeError in the future. \u001b[39m\u001b[38;5;124m\"\u001b[39m\n\u001b[0;32m   (...)\u001b[0m\n\u001b[1;32m    227\u001b[0m         stacklevel\u001b[38;5;241m=\u001b[39mfind_stack_level(),\n\u001b[1;32m    228\u001b[0m     )\n\u001b[1;32m    229\u001b[0m     \u001b[38;5;28;01mreturn\u001b[39;00m converter(\u001b[38;5;28mself\u001b[39m\u001b[38;5;241m.\u001b[39miloc[\u001b[38;5;241m0\u001b[39m])\n\u001b[0;32m--> 230\u001b[0m \u001b[38;5;28;01mraise\u001b[39;00m \u001b[38;5;167;01mTypeError\u001b[39;00m(\u001b[38;5;124mf\u001b[39m\u001b[38;5;124m\"\u001b[39m\u001b[38;5;124mcannot convert the series to \u001b[39m\u001b[38;5;132;01m{\u001b[39;00mconverter\u001b[38;5;132;01m}\u001b[39;00m\u001b[38;5;124m\"\u001b[39m)\n",
      "\u001b[0;31mTypeError\u001b[0m: cannot convert the series to <class 'int'>"
     ]
    }
   ],
   "source": [
    "int(s)"
   ]
  },
  {
   "cell_type": "code",
   "execution_count": 35,
   "id": "e312ccbe-1a2f-4110-8a71-67ec16140d3f",
   "metadata": {
    "tags": []
   },
   "outputs": [
    {
     "data": {
      "text/plain": [
       "0    1\n",
       "1    2\n",
       "2    3\n",
       "3    4\n",
       "4    5\n",
       "dtype: int64"
      ]
     },
     "execution_count": 35,
     "metadata": {},
     "output_type": "execute_result"
    }
   ],
   "source": [
    "s.astype(int) # 이게 더 좋은 방법.."
   ]
  },
  {
   "cell_type": "code",
   "execution_count": 38,
   "id": "e12531be-2fae-486e-8810-8ae85a29a012",
   "metadata": {},
   "outputs": [
    {
     "data": {
      "text/plain": [
       "0    1\n",
       "1    2\n",
       "2    3\n",
       "3    4\n",
       "4    5\n",
       "dtype: int64"
      ]
     },
     "execution_count": 38,
     "metadata": {},
     "output_type": "execute_result"
    }
   ],
   "source": [
    "s.apply(int) # 이렇게 해도 됨. (코드가 직관적이지 않음)"
   ]
  },
  {
   "cell_type": "markdown",
   "id": "7f8605bd-ec68-40d9-899f-67c4f26067ef",
   "metadata": {},
   "source": [
    "`-` 예시2: 원소의 타입을 변환한 이후 브로드캐스팅 (int)"
   ]
  },
  {
   "cell_type": "code",
   "execution_count": 42,
   "id": "4b9cf43a-49c9-45cf-a95f-aa269faaf085",
   "metadata": {
    "tags": []
   },
   "outputs": [],
   "source": [
    "s1 = pd.Series(list('12345')) # object type\n",
    "s2 = pd.Series([-1,-2,-3,-4,-5]) # int type"
   ]
  },
  {
   "cell_type": "code",
   "execution_count": 93,
   "id": "466eec22-ad2e-4a79-9148-7909859eb0f5",
   "metadata": {},
   "outputs": [],
   "source": [
    "# s1 + s2 ## 에러"
   ]
  },
  {
   "cell_type": "code",
   "execution_count": 46,
   "id": "c95a5d37-3b83-4e1b-8560-693e3be36678",
   "metadata": {
    "tags": []
   },
   "outputs": [
    {
     "data": {
      "text/plain": [
       "0    0\n",
       "1    0\n",
       "2    0\n",
       "3    0\n",
       "4    0\n",
       "dtype: int64"
      ]
     },
     "execution_count": 46,
     "metadata": {},
     "output_type": "execute_result"
    }
   ],
   "source": [
    "s1.astype(int)+s2"
   ]
  },
  {
   "cell_type": "markdown",
   "id": "74cccac2-7476-4c90-958c-bcec135e4531",
   "metadata": {},
   "source": [
    "`# 예시3`: 원소의 타입을 변환한 이후 브로드캐스팅 (str)"
   ]
  },
  {
   "cell_type": "code",
   "execution_count": 47,
   "id": "2190ec83-1649-4b17-885c-03b338e10af2",
   "metadata": {
    "tags": []
   },
   "outputs": [
    {
     "data": {
      "text/html": [
       "<div>\n",
       "<style scoped>\n",
       "    .dataframe tbody tr th:only-of-type {\n",
       "        vertical-align: middle;\n",
       "    }\n",
       "\n",
       "    .dataframe tbody tr th {\n",
       "        vertical-align: top;\n",
       "    }\n",
       "\n",
       "    .dataframe thead th {\n",
       "        text-align: right;\n",
       "    }\n",
       "</style>\n",
       "<table border=\"1\" class=\"dataframe\">\n",
       "  <thead>\n",
       "    <tr style=\"text-align: right;\">\n",
       "      <th></th>\n",
       "      <th>PassengerId</th>\n",
       "      <th>Survived</th>\n",
       "      <th>Pclass</th>\n",
       "      <th>Name</th>\n",
       "      <th>Sex</th>\n",
       "      <th>Age</th>\n",
       "      <th>SibSp</th>\n",
       "      <th>Parch</th>\n",
       "      <th>Ticket</th>\n",
       "      <th>Fare</th>\n",
       "      <th>Cabin</th>\n",
       "      <th>Embarked</th>\n",
       "      <th>logFare</th>\n",
       "    </tr>\n",
       "  </thead>\n",
       "  <tbody>\n",
       "    <tr>\n",
       "      <th>0</th>\n",
       "      <td>1</td>\n",
       "      <td>0</td>\n",
       "      <td>3</td>\n",
       "      <td>Braund, Mr. Owen Harris</td>\n",
       "      <td>male</td>\n",
       "      <td>22.0</td>\n",
       "      <td>1</td>\n",
       "      <td>0</td>\n",
       "      <td>A/5 21171</td>\n",
       "      <td>7.2500</td>\n",
       "      <td>NaN</td>\n",
       "      <td>S</td>\n",
       "      <td>1.981001</td>\n",
       "    </tr>\n",
       "    <tr>\n",
       "      <th>1</th>\n",
       "      <td>2</td>\n",
       "      <td>1</td>\n",
       "      <td>1</td>\n",
       "      <td>Cumings, Mrs. John Bradley (Florence Briggs Th...</td>\n",
       "      <td>female</td>\n",
       "      <td>38.0</td>\n",
       "      <td>1</td>\n",
       "      <td>0</td>\n",
       "      <td>PC 17599</td>\n",
       "      <td>71.2833</td>\n",
       "      <td>C85</td>\n",
       "      <td>C</td>\n",
       "      <td>4.266662</td>\n",
       "    </tr>\n",
       "    <tr>\n",
       "      <th>2</th>\n",
       "      <td>3</td>\n",
       "      <td>1</td>\n",
       "      <td>3</td>\n",
       "      <td>Heikkinen, Miss. Laina</td>\n",
       "      <td>female</td>\n",
       "      <td>26.0</td>\n",
       "      <td>0</td>\n",
       "      <td>0</td>\n",
       "      <td>STON/O2. 3101282</td>\n",
       "      <td>7.9250</td>\n",
       "      <td>NaN</td>\n",
       "      <td>S</td>\n",
       "      <td>2.070022</td>\n",
       "    </tr>\n",
       "    <tr>\n",
       "      <th>3</th>\n",
       "      <td>4</td>\n",
       "      <td>1</td>\n",
       "      <td>1</td>\n",
       "      <td>Futrelle, Mrs. Jacques Heath (Lily May Peel)</td>\n",
       "      <td>female</td>\n",
       "      <td>35.0</td>\n",
       "      <td>1</td>\n",
       "      <td>0</td>\n",
       "      <td>113803</td>\n",
       "      <td>53.1000</td>\n",
       "      <td>C123</td>\n",
       "      <td>S</td>\n",
       "      <td>3.972177</td>\n",
       "    </tr>\n",
       "    <tr>\n",
       "      <th>4</th>\n",
       "      <td>5</td>\n",
       "      <td>0</td>\n",
       "      <td>3</td>\n",
       "      <td>Allen, Mr. William Henry</td>\n",
       "      <td>male</td>\n",
       "      <td>35.0</td>\n",
       "      <td>0</td>\n",
       "      <td>0</td>\n",
       "      <td>373450</td>\n",
       "      <td>8.0500</td>\n",
       "      <td>NaN</td>\n",
       "      <td>S</td>\n",
       "      <td>2.085672</td>\n",
       "    </tr>\n",
       "  </tbody>\n",
       "</table>\n",
       "</div>"
      ],
      "text/plain": [
       "   PassengerId  Survived  Pclass  \\\n",
       "0            1         0       3   \n",
       "1            2         1       1   \n",
       "2            3         1       3   \n",
       "3            4         1       1   \n",
       "4            5         0       3   \n",
       "\n",
       "                                                Name     Sex   Age  SibSp  \\\n",
       "0                            Braund, Mr. Owen Harris    male  22.0      1   \n",
       "1  Cumings, Mrs. John Bradley (Florence Briggs Th...  female  38.0      1   \n",
       "2                             Heikkinen, Miss. Laina  female  26.0      0   \n",
       "3       Futrelle, Mrs. Jacques Heath (Lily May Peel)  female  35.0      1   \n",
       "4                           Allen, Mr. William Henry    male  35.0      0   \n",
       "\n",
       "   Parch            Ticket     Fare Cabin Embarked   logFare  \n",
       "0      0         A/5 21171   7.2500   NaN        S  1.981001  \n",
       "1      0          PC 17599  71.2833   C85        C  4.266662  \n",
       "2      0  STON/O2. 3101282   7.9250   NaN        S  2.070022  \n",
       "3      0            113803  53.1000  C123        S  3.972177  \n",
       "4      0            373450   8.0500   NaN        S  2.085672  "
      ]
     },
     "execution_count": 47,
     "metadata": {},
     "output_type": "execute_result"
    }
   ],
   "source": [
    "df = pd.read_csv(\"https://raw.githubusercontent.com/guebin/DV2023/main/posts/titanic.csv\")[:5]\n",
    "df"
   ]
  },
  {
   "cell_type": "markdown",
   "id": "cd28959b-35a9-46fd-9121-1c0fdaf0df34",
   "metadata": {},
   "source": [
    "위의 자료에서 `Embarked` 열과 `Pclass`열을 이용하여 아래와 같은\n",
    "`New Feature`를 만들어라.\n",
    "\n",
    "| Embarked | Pclass | New Feature |\n",
    "|:--------:|:------:|:-----------:|\n",
    "|   ‘S’    |   3    |    ‘S3’     |\n",
    "|   ‘C’    |   1    |    ‘C1’     |\n",
    "|   ‘S’    |   3    |    ‘S3’     |\n",
    "|   ‘S’    |   1    |    ‘S1’     |\n",
    "|   ‘S’    |   3    |    ‘S3’     |\n",
    "\n",
    "(풀이)"
   ]
  },
  {
   "cell_type": "code",
   "execution_count": 53,
   "id": "a664c670-c379-40d5-a148-0ca2698bb40b",
   "metadata": {},
   "outputs": [],
   "source": [
    "# df.Embarked + df.Pclass ## 에러남"
   ]
  },
  {
   "cell_type": "code",
   "execution_count": 54,
   "id": "f69cb71f-754c-46cb-a873-abee1adb82d0",
   "metadata": {
    "tags": []
   },
   "outputs": [
    {
     "data": {
      "text/plain": [
       "0    S3\n",
       "1    C1\n",
       "2    S3\n",
       "3    S1\n",
       "4    S3\n",
       "dtype: object"
      ]
     },
     "execution_count": 54,
     "metadata": {},
     "output_type": "execute_result"
    }
   ],
   "source": [
    "df.Embarked + df.Pclass.astype(str)"
   ]
  },
  {
   "cell_type": "markdown",
   "id": "a1a8a8b5-122a-4975-9681-031ca05440b5",
   "metadata": {},
   "source": [
    "`#`\n",
    "\n",
    "## F. 컴프리헨션, `lambda+map`을 무시하지 말 것\n",
    "\n",
    "`# 예시1`"
   ]
  },
  {
   "cell_type": "code",
   "execution_count": 55,
   "id": "fd886315-8a17-4c70-8ecc-7b7a6ded5801",
   "metadata": {},
   "outputs": [
    {
     "data": {
      "text/html": [
       "<div>\n",
       "<style scoped>\n",
       "    .dataframe tbody tr th:only-of-type {\n",
       "        vertical-align: middle;\n",
       "    }\n",
       "\n",
       "    .dataframe tbody tr th {\n",
       "        vertical-align: top;\n",
       "    }\n",
       "\n",
       "    .dataframe thead th {\n",
       "        text-align: right;\n",
       "    }\n",
       "</style>\n",
       "<table border=\"1\" class=\"dataframe\">\n",
       "  <thead>\n",
       "    <tr style=\"text-align: right;\">\n",
       "      <th></th>\n",
       "      <th>PassengerId</th>\n",
       "      <th>Survived</th>\n",
       "      <th>Pclass</th>\n",
       "      <th>Name</th>\n",
       "      <th>Sex</th>\n",
       "      <th>Age</th>\n",
       "      <th>SibSp</th>\n",
       "      <th>Parch</th>\n",
       "      <th>Ticket</th>\n",
       "      <th>Fare</th>\n",
       "      <th>Cabin</th>\n",
       "      <th>Embarked</th>\n",
       "      <th>logFare</th>\n",
       "    </tr>\n",
       "  </thead>\n",
       "  <tbody>\n",
       "    <tr>\n",
       "      <th>0</th>\n",
       "      <td>1</td>\n",
       "      <td>0</td>\n",
       "      <td>3</td>\n",
       "      <td>Braund, Mr. Owen Harris</td>\n",
       "      <td>male</td>\n",
       "      <td>22.0</td>\n",
       "      <td>1</td>\n",
       "      <td>0</td>\n",
       "      <td>A/5 21171</td>\n",
       "      <td>7.2500</td>\n",
       "      <td>NaN</td>\n",
       "      <td>S</td>\n",
       "      <td>1.981001</td>\n",
       "    </tr>\n",
       "    <tr>\n",
       "      <th>1</th>\n",
       "      <td>2</td>\n",
       "      <td>1</td>\n",
       "      <td>1</td>\n",
       "      <td>Cumings, Mrs. John Bradley (Florence Briggs Th...</td>\n",
       "      <td>female</td>\n",
       "      <td>38.0</td>\n",
       "      <td>1</td>\n",
       "      <td>0</td>\n",
       "      <td>PC 17599</td>\n",
       "      <td>71.2833</td>\n",
       "      <td>C85</td>\n",
       "      <td>C</td>\n",
       "      <td>4.266662</td>\n",
       "    </tr>\n",
       "    <tr>\n",
       "      <th>2</th>\n",
       "      <td>3</td>\n",
       "      <td>1</td>\n",
       "      <td>3</td>\n",
       "      <td>Heikkinen, Miss. Laina</td>\n",
       "      <td>female</td>\n",
       "      <td>26.0</td>\n",
       "      <td>0</td>\n",
       "      <td>0</td>\n",
       "      <td>STON/O2. 3101282</td>\n",
       "      <td>7.9250</td>\n",
       "      <td>NaN</td>\n",
       "      <td>S</td>\n",
       "      <td>2.070022</td>\n",
       "    </tr>\n",
       "    <tr>\n",
       "      <th>3</th>\n",
       "      <td>4</td>\n",
       "      <td>1</td>\n",
       "      <td>1</td>\n",
       "      <td>Futrelle, Mrs. Jacques Heath (Lily May Peel)</td>\n",
       "      <td>female</td>\n",
       "      <td>35.0</td>\n",
       "      <td>1</td>\n",
       "      <td>0</td>\n",
       "      <td>113803</td>\n",
       "      <td>53.1000</td>\n",
       "      <td>C123</td>\n",
       "      <td>S</td>\n",
       "      <td>3.972177</td>\n",
       "    </tr>\n",
       "    <tr>\n",
       "      <th>4</th>\n",
       "      <td>5</td>\n",
       "      <td>0</td>\n",
       "      <td>3</td>\n",
       "      <td>Allen, Mr. William Henry</td>\n",
       "      <td>male</td>\n",
       "      <td>35.0</td>\n",
       "      <td>0</td>\n",
       "      <td>0</td>\n",
       "      <td>373450</td>\n",
       "      <td>8.0500</td>\n",
       "      <td>NaN</td>\n",
       "      <td>S</td>\n",
       "      <td>2.085672</td>\n",
       "    </tr>\n",
       "  </tbody>\n",
       "</table>\n",
       "</div>"
      ],
      "text/plain": [
       "   PassengerId  Survived  Pclass  \\\n",
       "0            1         0       3   \n",
       "1            2         1       1   \n",
       "2            3         1       3   \n",
       "3            4         1       1   \n",
       "4            5         0       3   \n",
       "\n",
       "                                                Name     Sex   Age  SibSp  \\\n",
       "0                            Braund, Mr. Owen Harris    male  22.0      1   \n",
       "1  Cumings, Mrs. John Bradley (Florence Briggs Th...  female  38.0      1   \n",
       "2                             Heikkinen, Miss. Laina  female  26.0      0   \n",
       "3       Futrelle, Mrs. Jacques Heath (Lily May Peel)  female  35.0      1   \n",
       "4                           Allen, Mr. William Henry    male  35.0      0   \n",
       "\n",
       "   Parch            Ticket     Fare Cabin Embarked   logFare  \n",
       "0      0         A/5 21171   7.2500   NaN        S  1.981001  \n",
       "1      0          PC 17599  71.2833   C85        C  4.266662  \n",
       "2      0  STON/O2. 3101282   7.9250   NaN        S  2.070022  \n",
       "3      0            113803  53.1000  C123        S  3.972177  \n",
       "4      0            373450   8.0500   NaN        S  2.085672  "
      ]
     },
     "execution_count": 55,
     "metadata": {},
     "output_type": "execute_result"
    }
   ],
   "source": [
    "df = pd.read_csv(\"https://raw.githubusercontent.com/guebin/DV2023/main/posts/titanic.csv\")[:5]\n",
    "df"
   ]
  },
  {
   "cell_type": "markdown",
   "id": "0bb3f8a7-b7b7-4a77-8e3c-9a48089bcc4c",
   "metadata": {},
   "source": [
    "위의 자료에서 아래와 같은 변환을 하고 싶다면?\n",
    "\n",
    "$$\n",
    "f(\\text{sex}, \\text{sibsp}) = \n",
    "\\begin{cases} \n",
    "0.7 + 0.25 \\times \\text{sibsp} & \\text{if } \\text{sex} = \\text{'female'} \\\\\n",
    "0.1 + 0.15 \\times \\text{sibsp} & \\text{otherwise}\n",
    "\\end{cases}\n",
    "$$"
   ]
  },
  {
   "cell_type": "markdown",
   "id": "10eca9f8-5046-4eec-8f01-386e2b136708",
   "metadata": {},
   "source": [
    "> **`map(입력이2개인 함수, 입력1의 리스트, 입력2의 리스트)`**"
   ]
  },
  {
   "cell_type": "code",
   "execution_count": 58,
   "id": "5fd1d918-86c2-43cb-be0b-ece8a75cc4b3",
   "metadata": {},
   "outputs": [
    {
     "data": {
      "text/html": [
       "<div>\n",
       "<style scoped>\n",
       "    .dataframe tbody tr th:only-of-type {\n",
       "        vertical-align: middle;\n",
       "    }\n",
       "\n",
       "    .dataframe tbody tr th {\n",
       "        vertical-align: top;\n",
       "    }\n",
       "\n",
       "    .dataframe thead th {\n",
       "        text-align: right;\n",
       "    }\n",
       "</style>\n",
       "<table border=\"1\" class=\"dataframe\">\n",
       "  <thead>\n",
       "    <tr style=\"text-align: right;\">\n",
       "      <th></th>\n",
       "      <th>PassengerId</th>\n",
       "      <th>Survived</th>\n",
       "      <th>Pclass</th>\n",
       "      <th>Name</th>\n",
       "      <th>Sex</th>\n",
       "      <th>Age</th>\n",
       "      <th>SibSp</th>\n",
       "      <th>Parch</th>\n",
       "      <th>Ticket</th>\n",
       "      <th>Fare</th>\n",
       "      <th>Cabin</th>\n",
       "      <th>Embarked</th>\n",
       "      <th>logFare</th>\n",
       "      <th>Prob</th>\n",
       "    </tr>\n",
       "  </thead>\n",
       "  <tbody>\n",
       "    <tr>\n",
       "      <th>0</th>\n",
       "      <td>1</td>\n",
       "      <td>0</td>\n",
       "      <td>3</td>\n",
       "      <td>Braund, Mr. Owen Harris</td>\n",
       "      <td>male</td>\n",
       "      <td>22.0</td>\n",
       "      <td>1</td>\n",
       "      <td>0</td>\n",
       "      <td>A/5 21171</td>\n",
       "      <td>7.2500</td>\n",
       "      <td>NaN</td>\n",
       "      <td>S</td>\n",
       "      <td>1.981001</td>\n",
       "      <td>0.35</td>\n",
       "    </tr>\n",
       "    <tr>\n",
       "      <th>1</th>\n",
       "      <td>2</td>\n",
       "      <td>1</td>\n",
       "      <td>1</td>\n",
       "      <td>Cumings, Mrs. John Bradley (Florence Briggs Th...</td>\n",
       "      <td>female</td>\n",
       "      <td>38.0</td>\n",
       "      <td>1</td>\n",
       "      <td>0</td>\n",
       "      <td>PC 17599</td>\n",
       "      <td>71.2833</td>\n",
       "      <td>C85</td>\n",
       "      <td>C</td>\n",
       "      <td>4.266662</td>\n",
       "      <td>0.95</td>\n",
       "    </tr>\n",
       "    <tr>\n",
       "      <th>2</th>\n",
       "      <td>3</td>\n",
       "      <td>1</td>\n",
       "      <td>3</td>\n",
       "      <td>Heikkinen, Miss. Laina</td>\n",
       "      <td>female</td>\n",
       "      <td>26.0</td>\n",
       "      <td>0</td>\n",
       "      <td>0</td>\n",
       "      <td>STON/O2. 3101282</td>\n",
       "      <td>7.9250</td>\n",
       "      <td>NaN</td>\n",
       "      <td>S</td>\n",
       "      <td>2.070022</td>\n",
       "      <td>0.70</td>\n",
       "    </tr>\n",
       "    <tr>\n",
       "      <th>3</th>\n",
       "      <td>4</td>\n",
       "      <td>1</td>\n",
       "      <td>1</td>\n",
       "      <td>Futrelle, Mrs. Jacques Heath (Lily May Peel)</td>\n",
       "      <td>female</td>\n",
       "      <td>35.0</td>\n",
       "      <td>1</td>\n",
       "      <td>0</td>\n",
       "      <td>113803</td>\n",
       "      <td>53.1000</td>\n",
       "      <td>C123</td>\n",
       "      <td>S</td>\n",
       "      <td>3.972177</td>\n",
       "      <td>0.95</td>\n",
       "    </tr>\n",
       "    <tr>\n",
       "      <th>4</th>\n",
       "      <td>5</td>\n",
       "      <td>0</td>\n",
       "      <td>3</td>\n",
       "      <td>Allen, Mr. William Henry</td>\n",
       "      <td>male</td>\n",
       "      <td>35.0</td>\n",
       "      <td>0</td>\n",
       "      <td>0</td>\n",
       "      <td>373450</td>\n",
       "      <td>8.0500</td>\n",
       "      <td>NaN</td>\n",
       "      <td>S</td>\n",
       "      <td>2.085672</td>\n",
       "      <td>0.20</td>\n",
       "    </tr>\n",
       "  </tbody>\n",
       "</table>\n",
       "</div>"
      ],
      "text/plain": [
       "   PassengerId  Survived  Pclass  \\\n",
       "0            1         0       3   \n",
       "1            2         1       1   \n",
       "2            3         1       3   \n",
       "3            4         1       1   \n",
       "4            5         0       3   \n",
       "\n",
       "                                                Name     Sex   Age  SibSp  \\\n",
       "0                            Braund, Mr. Owen Harris    male  22.0      1   \n",
       "1  Cumings, Mrs. John Bradley (Florence Briggs Th...  female  38.0      1   \n",
       "2                             Heikkinen, Miss. Laina  female  26.0      0   \n",
       "3       Futrelle, Mrs. Jacques Heath (Lily May Peel)  female  35.0      1   \n",
       "4                           Allen, Mr. William Henry    male  35.0      0   \n",
       "\n",
       "   Parch            Ticket     Fare Cabin Embarked   logFare  Prob  \n",
       "0      0         A/5 21171   7.2500   NaN        S  1.981001  0.35  \n",
       "1      0          PC 17599  71.2833   C85        C  4.266662  0.95  \n",
       "2      0  STON/O2. 3101282   7.9250   NaN        S  2.070022  0.70  \n",
       "3      0            113803  53.1000  C123        S  3.972177  0.95  \n",
       "4      0            373450   8.0500   NaN        S  2.085672  0.20  "
      ]
     },
     "execution_count": 58,
     "metadata": {},
     "output_type": "execute_result"
    }
   ],
   "source": [
    "df.assign(Prob= list(map(lambda sex,sibsp: 0.7 + sibsp*0.25 if sex=='female' else 0.2 + sibsp*0.15, df.Sex, df.SibSp)))"
   ]
  },
  {
   "cell_type": "markdown",
   "id": "ab185ae6-3c3f-48da-b720-239805ac89d1",
   "metadata": {},
   "source": [
    "`# 예시2`"
   ]
  },
  {
   "cell_type": "code",
   "execution_count": 59,
   "id": "51c1ff25-b34c-41d1-9d6c-9719aecf94ea",
   "metadata": {
    "tags": []
   },
   "outputs": [
    {
     "data": {
      "text/html": [
       "<div>\n",
       "<style scoped>\n",
       "    .dataframe tbody tr th:only-of-type {\n",
       "        vertical-align: middle;\n",
       "    }\n",
       "\n",
       "    .dataframe tbody tr th {\n",
       "        vertical-align: top;\n",
       "    }\n",
       "\n",
       "    .dataframe thead th {\n",
       "        text-align: right;\n",
       "    }\n",
       "</style>\n",
       "<table border=\"1\" class=\"dataframe\">\n",
       "  <thead>\n",
       "    <tr style=\"text-align: right;\">\n",
       "      <th></th>\n",
       "      <th>PassengerId</th>\n",
       "      <th>Survived</th>\n",
       "      <th>Pclass</th>\n",
       "      <th>Name</th>\n",
       "      <th>Sex</th>\n",
       "      <th>Age</th>\n",
       "      <th>SibSp</th>\n",
       "      <th>Parch</th>\n",
       "      <th>Ticket</th>\n",
       "      <th>Fare</th>\n",
       "      <th>Cabin</th>\n",
       "      <th>Embarked</th>\n",
       "      <th>logFare</th>\n",
       "    </tr>\n",
       "  </thead>\n",
       "  <tbody>\n",
       "    <tr>\n",
       "      <th>0</th>\n",
       "      <td>1</td>\n",
       "      <td>0</td>\n",
       "      <td>3</td>\n",
       "      <td>Braund, Mr. Owen Harris</td>\n",
       "      <td>male</td>\n",
       "      <td>22.0</td>\n",
       "      <td>1</td>\n",
       "      <td>0</td>\n",
       "      <td>A/5 21171</td>\n",
       "      <td>7.2500</td>\n",
       "      <td>NaN</td>\n",
       "      <td>S</td>\n",
       "      <td>1.981001</td>\n",
       "    </tr>\n",
       "    <tr>\n",
       "      <th>1</th>\n",
       "      <td>2</td>\n",
       "      <td>1</td>\n",
       "      <td>1</td>\n",
       "      <td>Cumings, Mrs. John Bradley (Florence Briggs Th...</td>\n",
       "      <td>female</td>\n",
       "      <td>38.0</td>\n",
       "      <td>1</td>\n",
       "      <td>0</td>\n",
       "      <td>PC 17599</td>\n",
       "      <td>71.2833</td>\n",
       "      <td>C85</td>\n",
       "      <td>C</td>\n",
       "      <td>4.266662</td>\n",
       "    </tr>\n",
       "    <tr>\n",
       "      <th>2</th>\n",
       "      <td>3</td>\n",
       "      <td>1</td>\n",
       "      <td>3</td>\n",
       "      <td>Heikkinen, Miss. Laina</td>\n",
       "      <td>female</td>\n",
       "      <td>26.0</td>\n",
       "      <td>0</td>\n",
       "      <td>0</td>\n",
       "      <td>STON/O2. 3101282</td>\n",
       "      <td>7.9250</td>\n",
       "      <td>NaN</td>\n",
       "      <td>S</td>\n",
       "      <td>2.070022</td>\n",
       "    </tr>\n",
       "    <tr>\n",
       "      <th>3</th>\n",
       "      <td>4</td>\n",
       "      <td>1</td>\n",
       "      <td>1</td>\n",
       "      <td>Futrelle, Mrs. Jacques Heath (Lily May Peel)</td>\n",
       "      <td>female</td>\n",
       "      <td>35.0</td>\n",
       "      <td>1</td>\n",
       "      <td>0</td>\n",
       "      <td>113803</td>\n",
       "      <td>53.1000</td>\n",
       "      <td>C123</td>\n",
       "      <td>S</td>\n",
       "      <td>3.972177</td>\n",
       "    </tr>\n",
       "    <tr>\n",
       "      <th>4</th>\n",
       "      <td>5</td>\n",
       "      <td>0</td>\n",
       "      <td>3</td>\n",
       "      <td>Allen, Mr. William Henry</td>\n",
       "      <td>male</td>\n",
       "      <td>35.0</td>\n",
       "      <td>0</td>\n",
       "      <td>0</td>\n",
       "      <td>373450</td>\n",
       "      <td>8.0500</td>\n",
       "      <td>NaN</td>\n",
       "      <td>S</td>\n",
       "      <td>2.085672</td>\n",
       "    </tr>\n",
       "  </tbody>\n",
       "</table>\n",
       "</div>"
      ],
      "text/plain": [
       "   PassengerId  Survived  Pclass  \\\n",
       "0            1         0       3   \n",
       "1            2         1       1   \n",
       "2            3         1       3   \n",
       "3            4         1       1   \n",
       "4            5         0       3   \n",
       "\n",
       "                                                Name     Sex   Age  SibSp  \\\n",
       "0                            Braund, Mr. Owen Harris    male  22.0      1   \n",
       "1  Cumings, Mrs. John Bradley (Florence Briggs Th...  female  38.0      1   \n",
       "2                             Heikkinen, Miss. Laina  female  26.0      0   \n",
       "3       Futrelle, Mrs. Jacques Heath (Lily May Peel)  female  35.0      1   \n",
       "4                           Allen, Mr. William Henry    male  35.0      0   \n",
       "\n",
       "   Parch            Ticket     Fare Cabin Embarked   logFare  \n",
       "0      0         A/5 21171   7.2500   NaN        S  1.981001  \n",
       "1      0          PC 17599  71.2833   C85        C  4.266662  \n",
       "2      0  STON/O2. 3101282   7.9250   NaN        S  2.070022  \n",
       "3      0            113803  53.1000  C123        S  3.972177  \n",
       "4      0            373450   8.0500   NaN        S  2.085672  "
      ]
     },
     "execution_count": 59,
     "metadata": {},
     "output_type": "execute_result"
    }
   ],
   "source": [
    "df = pd.read_csv(\"https://raw.githubusercontent.com/guebin/DV2023/main/posts/titanic.csv\")[:5]\n",
    "df"
   ]
  },
  {
   "cell_type": "markdown",
   "id": "189794c5-7f77-4a5f-aedf-72e00f7f6298",
   "metadata": {},
   "source": [
    "위의 자료에서 Name열을 아래와 같이 분리하는 작업을 수행하라.\n",
    "\n",
    "|     | title | Name                                          |\n",
    "|-----|-------|-----------------------------------------------|\n",
    "| 0   | Mr    | Owen Harris Braund                            |\n",
    "| 1   | Mrs   | John Bradley (Florence Briggs Thayer) Cumings |\n",
    "| 2   | Miss  | Laina Heikkinen                               |\n",
    "| 3   | Mrs   | Jacques Heath (Lily May Peel) Futrelle        |\n",
    "| 4   | Mr    | William Henry Allen                           |\n"
   ]
  },
  {
   "cell_type": "code",
   "execution_count": 60,
   "id": "a30af12a-57a4-43f1-bf10-a05d321027fa",
   "metadata": {},
   "outputs": [
    {
     "data": {
      "text/plain": [
       "0                              Braund, Mr. Owen Harris\n",
       "1    Cumings, Mrs. John Bradley (Florence Briggs Th...\n",
       "2                               Heikkinen, Miss. Laina\n",
       "3         Futrelle, Mrs. Jacques Heath (Lily May Peel)\n",
       "4                             Allen, Mr. William Henry\n",
       "Name: Name, dtype: object"
      ]
     },
     "execution_count": 60,
     "metadata": {},
     "output_type": "execute_result"
    }
   ],
   "source": [
    "df.Name"
   ]
  },
  {
   "cell_type": "code",
   "execution_count": 72,
   "id": "ef7fc5c4-4927-4145-80ac-d0e5106fd138",
   "metadata": {},
   "outputs": [
    {
     "data": {
      "text/plain": [
       "[['Braund', 'Mr', 'Owen Harris'],\n",
       " ['Cumings', 'Mrs', 'John Bradley (Florence Briggs Thayer)'],\n",
       " ['Heikkinen', 'Miss', 'Laina'],\n",
       " ['Futrelle', 'Mrs', 'Jacques Heath (Lily May Peel)'],\n",
       " ['Allen', 'Mr', 'William Henry']]"
      ]
     },
     "execution_count": 72,
     "metadata": {},
     "output_type": "execute_result"
    }
   ],
   "source": [
    "[i for i in df.Name.str.replace(', ','/').str.replace('. ','/').str.split('/')]"
   ]
  },
  {
   "cell_type": "code",
   "execution_count": 74,
   "id": "edbed19e-b15d-4844-a213-79ca5614dda8",
   "metadata": {},
   "outputs": [
    {
     "data": {
      "text/plain": [
       "[['Braund', 'Mr', 'Owen Harris'],\n",
       " ['Cumings', 'Mrs', 'John Bradley (Florence Briggs Thayer)'],\n",
       " ['Heikkinen', 'Miss', 'Laina'],\n",
       " ['Futrelle', 'Mrs', 'Jacques Heath (Lily May Peel)'],\n",
       " ['Allen', 'Mr', 'William Henry']]"
      ]
     },
     "execution_count": 74,
     "metadata": {},
     "output_type": "execute_result"
    }
   ],
   "source": [
    "[[last_name,title,first_name] for last_name,title,first_name in df.Name.str.replace(', ','/').str.replace('. ','/').str.split('/')]"
   ]
  },
  {
   "cell_type": "code",
   "execution_count": 77,
   "id": "91b68ecc-9228-4d7e-92d6-4463b214cbc2",
   "metadata": {},
   "outputs": [
    {
     "data": {
      "text/plain": [
       "[['Mr', 'Owen Harris Braund'],\n",
       " ['Mrs', 'John Bradley (Florence Briggs Thayer) Cumings'],\n",
       " ['Miss', 'Laina Heikkinen'],\n",
       " ['Mrs', 'Jacques Heath (Lily May Peel) Futrelle'],\n",
       " ['Mr', 'William Henry Allen']]"
      ]
     },
     "execution_count": 77,
     "metadata": {},
     "output_type": "execute_result"
    }
   ],
   "source": [
    "# title, 이름+성\n",
    "[[title,first_name+ ' ' + last_name] for last_name,title,first_name in df.Name.str.replace(', ','/').str.replace('. ','/').str.split('/')]"
   ]
  },
  {
   "cell_type": "code",
   "execution_count": 79,
   "id": "597db249-6eff-4dd4-92ea-8279a03f579c",
   "metadata": {},
   "outputs": [
    {
     "data": {
      "text/plain": [
       "[['Mr', 'Owen Harris Braund'],\n",
       " ['Mrs', 'John Bradley (Florence Briggs Thayer) Cumings'],\n",
       " ['Miss', 'Laina Heikkinen'],\n",
       " ['Mrs', 'Jacques Heath (Lily May Peel) Futrelle'],\n",
       " ['Mr', 'William Henry Allen']]"
      ]
     },
     "execution_count": 79,
     "metadata": {},
     "output_type": "execute_result"
    }
   ],
   "source": [
    "# fstring 이용\n",
    "[[title,f'{first_name} {last_name}'] for last_name,title,first_name in df.Name.str.replace(', ','/').str.replace('. ','/').str.split('/')]"
   ]
  },
  {
   "cell_type": "markdown",
   "id": "507133fa-2513-4cec-a737-7a1064b550cd",
   "metadata": {},
   "source": [
    "(풀이)"
   ]
  },
  {
   "cell_type": "code",
   "execution_count": 80,
   "id": "bf7d9f68-9e5a-4cef-be79-454180deab90",
   "metadata": {},
   "outputs": [
    {
     "data": {
      "text/html": [
       "<div>\n",
       "<style scoped>\n",
       "    .dataframe tbody tr th:only-of-type {\n",
       "        vertical-align: middle;\n",
       "    }\n",
       "\n",
       "    .dataframe tbody tr th {\n",
       "        vertical-align: top;\n",
       "    }\n",
       "\n",
       "    .dataframe thead th {\n",
       "        text-align: right;\n",
       "    }\n",
       "</style>\n",
       "<table border=\"1\" class=\"dataframe\">\n",
       "  <thead>\n",
       "    <tr style=\"text-align: right;\">\n",
       "      <th></th>\n",
       "      <th>title</th>\n",
       "      <th>Name2</th>\n",
       "    </tr>\n",
       "  </thead>\n",
       "  <tbody>\n",
       "    <tr>\n",
       "      <th>0</th>\n",
       "      <td>Mr</td>\n",
       "      <td>Owen Harris Braund</td>\n",
       "    </tr>\n",
       "    <tr>\n",
       "      <th>1</th>\n",
       "      <td>Mrs</td>\n",
       "      <td>John Bradley (Florence Briggs Thayer) Cumings</td>\n",
       "    </tr>\n",
       "    <tr>\n",
       "      <th>2</th>\n",
       "      <td>Miss</td>\n",
       "      <td>Laina Heikkinen</td>\n",
       "    </tr>\n",
       "    <tr>\n",
       "      <th>3</th>\n",
       "      <td>Mrs</td>\n",
       "      <td>Jacques Heath (Lily May Peel) Futrelle</td>\n",
       "    </tr>\n",
       "    <tr>\n",
       "      <th>4</th>\n",
       "      <td>Mr</td>\n",
       "      <td>William Henry Allen</td>\n",
       "    </tr>\n",
       "  </tbody>\n",
       "</table>\n",
       "</div>"
      ],
      "text/plain": [
       "  title                                          Name2\n",
       "0    Mr                             Owen Harris Braund\n",
       "1   Mrs  John Bradley (Florence Briggs Thayer) Cumings\n",
       "2  Miss                                Laina Heikkinen\n",
       "3   Mrs         Jacques Heath (Lily May Peel) Futrelle\n",
       "4    Mr                            William Henry Allen"
      ]
     },
     "execution_count": 80,
     "metadata": {},
     "output_type": "execute_result"
    }
   ],
   "source": [
    "_lst = [[title,f'{first_name} {last_name}'] for last_name, title, first_name in df.Name.str.replace(', ','/').str.replace('. ','/').str.split('/')]\n",
    "pd.DataFrame(_lst, columns=['title','Name2'])"
   ]
  },
  {
   "cell_type": "markdown",
   "id": "e26f31ad-056f-40f4-bde7-0c1b282963ea",
   "metadata": {},
   "source": [
    "참고: “Mr,Mrs,Miss” 만 뽑아내는 코드 (대면수업에서 하려다가 실패한 코드)"
   ]
  },
  {
   "cell_type": "code",
   "execution_count": 86,
   "id": "e85cc2cd-777e-4cc5-873d-4a0aa34f1ee9",
   "metadata": {
    "tags": []
   },
   "outputs": [
    {
     "data": {
      "text/plain": [
       "0      Mr\n",
       "1     Mrs\n",
       "2    Miss\n",
       "3     Mrs\n",
       "4      Mr\n",
       "Name: Name, dtype: object"
      ]
     },
     "execution_count": 86,
     "metadata": {},
     "output_type": "execute_result"
    }
   ],
   "source": [
    "df.Name.str.split(', ').str[-1].str.split('. ').str[0]"
   ]
  },
  {
   "cell_type": "markdown",
   "id": "c6bf13ed-2250-4f4b-ac8c-26041a742c85",
   "metadata": {},
   "source": [
    "# 4. 숙제\n",
    "\n",
    "아래와 같은 데이터프레임이 있다고 하자."
   ]
  },
  {
   "cell_type": "code",
   "execution_count": 87,
   "id": "b05a84a9-2b1c-406c-9d32-b54e94a143bb",
   "metadata": {
    "tags": []
   },
   "outputs": [
    {
     "data": {
      "text/html": [
       "<div>\n",
       "<style scoped>\n",
       "    .dataframe tbody tr th:only-of-type {\n",
       "        vertical-align: middle;\n",
       "    }\n",
       "\n",
       "    .dataframe tbody tr th {\n",
       "        vertical-align: top;\n",
       "    }\n",
       "\n",
       "    .dataframe thead th {\n",
       "        text-align: right;\n",
       "    }\n",
       "</style>\n",
       "<table border=\"1\" class=\"dataframe\">\n",
       "  <thead>\n",
       "    <tr style=\"text-align: right;\">\n",
       "      <th></th>\n",
       "      <th>A</th>\n",
       "    </tr>\n",
       "  </thead>\n",
       "  <tbody>\n",
       "    <tr>\n",
       "      <th>0</th>\n",
       "      <td>1</td>\n",
       "    </tr>\n",
       "    <tr>\n",
       "      <th>1</th>\n",
       "      <td>2</td>\n",
       "    </tr>\n",
       "    <tr>\n",
       "      <th>2</th>\n",
       "      <td>3</td>\n",
       "    </tr>\n",
       "    <tr>\n",
       "      <th>3</th>\n",
       "      <td>4</td>\n",
       "    </tr>\n",
       "  </tbody>\n",
       "</table>\n",
       "</div>"
      ],
      "text/plain": [
       "   A\n",
       "0  1\n",
       "1  2\n",
       "2  3\n",
       "3  4"
      ]
     },
     "execution_count": 87,
     "metadata": {},
     "output_type": "execute_result"
    }
   ],
   "source": [
    "df = pd.DataFrame({'A':[1,2,3,4]})\n",
    "df"
   ]
  },
  {
   "cell_type": "markdown",
   "id": "aaa22b09-49f5-4a7f-9adf-2544de8198ca",
   "metadata": {},
   "source": [
    "아래의 결과를 관찰하고 이러한 결과가 나오는 이유를 정리하여 제출하라."
   ]
  },
  {
   "cell_type": "code",
   "execution_count": 88,
   "id": "6c7bcc98-ec87-40bd-8f24-f18563aa0790",
   "metadata": {
    "tags": []
   },
   "outputs": [
    {
     "data": {
      "text/plain": [
       "A    2.5\n",
       "dtype: float64"
      ]
     },
     "execution_count": 88,
     "metadata": {},
     "output_type": "execute_result"
    }
   ],
   "source": [
    "df[['A']].apply(np.mean) # df[['A']]는 데이터프레임 (집계함수O)"
   ]
  },
  {
   "cell_type": "code",
   "execution_count": 94,
   "id": "02b0bf91-41f6-4941-9437-a0ad17e1394f",
   "metadata": {},
   "outputs": [
    {
     "data": {
      "text/plain": [
       "(pandas.core.frame.DataFrame, pandas.core.series.Series)"
      ]
     },
     "execution_count": 94,
     "metadata": {},
     "output_type": "execute_result"
    }
   ],
   "source": [
    "type(df[['A']]), type(df['A']) # df['A'] 판다스 시리즈 (집계함수X, 변환함수O)"
   ]
  },
  {
   "cell_type": "code",
   "execution_count": 89,
   "id": "f0c2f5f1-883f-4fa0-9929-89ed7d776c10",
   "metadata": {
    "tags": []
   },
   "outputs": [
    {
     "data": {
      "text/plain": [
       "0    1.0\n",
       "1    2.0\n",
       "2    3.0\n",
       "3    4.0\n",
       "Name: A, dtype: float64"
      ]
     },
     "execution_count": 89,
     "metadata": {},
     "output_type": "execute_result"
    }
   ],
   "source": [
    "df['A'].apply(np.mean)"
   ]
  }
 ],
 "metadata": {
  "kernelspec": {
   "display_name": "Python 3",
   "language": "python",
   "name": "python3"
  },
  "language_info": {
   "codemirror_mode": {
    "name": "ipython",
    "version": 3
   },
   "file_extension": ".py",
   "mimetype": "text/x-python",
   "name": "python",
   "nbconvert_exporter": "python",
   "pygments_lexer": "ipython3",
   "version": "3.8.16"
  }
 },
 "nbformat": 4,
 "nbformat_minor": 5
}
