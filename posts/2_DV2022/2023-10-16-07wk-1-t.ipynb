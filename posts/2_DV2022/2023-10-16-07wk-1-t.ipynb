{
 "cells": [
  {
   "cell_type": "raw",
   "id": "77551835-2aac-4ca2-9950-9e149380f44f",
   "metadata": {},
   "source": [
    "---\n",
    "title: \"**[DV2023]** 07wk-1: Pandas -- `lambda df:`의 활용, MultiIndex의 이해, tidydata의 이해, `melt`/`stack`\"\n",
    "author: \"JiyunLim\"\n",
    "date: \"10/16/2023\"\n",
    "draft: false\n",
    "categories:\n",
    "  - pandas\n",
    "---"
   ]
  },
  {
   "cell_type": "markdown",
   "id": "2f48bb66-21f7-4c9b-81c5-0df9547c2ce8",
   "metadata": {},
   "source": [
    "# 1. 강의영상 "
   ]
  },
  {
   "cell_type": "markdown",
   "id": "9a59a2c0-fec2-44d7-9f47-b7cbd77ba4e9",
   "metadata": {},
   "source": [
    "- <https://youtu.be/playlist?list=PLQqh36zP38-yK6NIOpCR3OtlDVgglrzTE&si=v3TcGhzIZv7CGC6x>"
   ]
  },
  {
   "cell_type": "markdown",
   "id": "bdf13958-8e09-4342-beaa-0d808ca0b0e5",
   "metadata": {},
   "source": [
    "# 2. Imports"
   ]
  },
  {
   "cell_type": "code",
   "execution_count": 1,
   "id": "f4734f21-7690-4703-a1a9-8639e2fc3555",
   "metadata": {
    "tags": []
   },
   "outputs": [],
   "source": [
    "import numpy as np\n",
    "import pandas as pd\n",
    "from plotnine import *"
   ]
  },
  {
   "cell_type": "markdown",
   "id": "c16f8244-fcff-451a-9bc4-04a6e89c754e",
   "metadata": {},
   "source": [
    "# 3. Pandas -- `lambda df:`의 활용"
   ]
  },
  {
   "cell_type": "markdown",
   "id": "649b1819-77f9-4ca6-b83a-a0c5558b4225",
   "metadata": {},
   "source": [
    "## A. `lambda df:` with indexer"
   ]
  },
  {
   "cell_type": "markdown",
   "id": "097a59f5-bf56-484b-b6b4-e891504a5eff",
   "metadata": {},
   "source": [
    "`-` ref: <https://pandas.pydata.org/docs/user_guide/indexing.html#indexing-callable>"
   ]
  },
  {
   "cell_type": "markdown",
   "id": "95f0327b-6cd0-43b5-a279-9151f1df5c58",
   "metadata": {
    "tags": []
   },
   "source": [
    "`예시1` : 아래는 같은 문법이다. "
   ]
  },
  {
   "cell_type": "code",
   "execution_count": 2,
   "id": "43394d03-4bac-4494-8dc9-2886368337b6",
   "metadata": {
    "tags": []
   },
   "outputs": [
    {
     "data": {
      "text/html": [
       "<div>\n",
       "<style scoped>\n",
       "    .dataframe tbody tr th:only-of-type {\n",
       "        vertical-align: middle;\n",
       "    }\n",
       "\n",
       "    .dataframe tbody tr th {\n",
       "        vertical-align: top;\n",
       "    }\n",
       "\n",
       "    .dataframe thead th {\n",
       "        text-align: right;\n",
       "    }\n",
       "</style>\n",
       "<table border=\"1\" class=\"dataframe\">\n",
       "  <thead>\n",
       "    <tr style=\"text-align: right;\">\n",
       "      <th></th>\n",
       "      <th>A</th>\n",
       "      <th>B</th>\n",
       "      <th>C</th>\n",
       "    </tr>\n",
       "  </thead>\n",
       "  <tbody>\n",
       "    <tr>\n",
       "      <th>0</th>\n",
       "      <td>-1.0</td>\n",
       "      <td>2.0</td>\n",
       "      <td>NaN</td>\n",
       "    </tr>\n",
       "    <tr>\n",
       "      <th>1</th>\n",
       "      <td>NaN</td>\n",
       "      <td>3.0</td>\n",
       "      <td>4.0</td>\n",
       "    </tr>\n",
       "    <tr>\n",
       "      <th>2</th>\n",
       "      <td>1.0</td>\n",
       "      <td>NaN</td>\n",
       "      <td>5.0</td>\n",
       "    </tr>\n",
       "    <tr>\n",
       "      <th>3</th>\n",
       "      <td>1.0</td>\n",
       "      <td>4.0</td>\n",
       "      <td>6.0</td>\n",
       "    </tr>\n",
       "  </tbody>\n",
       "</table>\n",
       "</div>"
      ],
      "text/plain": [
       "     A    B    C\n",
       "0 -1.0  2.0  NaN\n",
       "1  NaN  3.0  4.0\n",
       "2  1.0  NaN  5.0\n",
       "3  1.0  4.0  6.0"
      ]
     },
     "execution_count": 2,
     "metadata": {},
     "output_type": "execute_result"
    }
   ],
   "source": [
    "df = pd.DataFrame({'A':[-1,np.nan,1,1],'B':[2,3,np.nan,4],'C':[np.nan,4,5,6]})\n",
    "df"
   ]
  },
  {
   "cell_type": "markdown",
   "id": "49e8098a-4971-4534-8bb4-6891cf392d40",
   "metadata": {},
   "source": [
    "(표현1)"
   ]
  },
  {
   "cell_type": "code",
   "execution_count": 3,
   "id": "2cd5f366-5ece-4f42-9659-554666273873",
   "metadata": {
    "tags": []
   },
   "outputs": [
    {
     "data": {
      "text/html": [
       "<div>\n",
       "<style scoped>\n",
       "    .dataframe tbody tr th:only-of-type {\n",
       "        vertical-align: middle;\n",
       "    }\n",
       "\n",
       "    .dataframe tbody tr th {\n",
       "        vertical-align: top;\n",
       "    }\n",
       "\n",
       "    .dataframe thead th {\n",
       "        text-align: right;\n",
       "    }\n",
       "</style>\n",
       "<table border=\"1\" class=\"dataframe\">\n",
       "  <thead>\n",
       "    <tr style=\"text-align: right;\">\n",
       "      <th></th>\n",
       "      <th>A</th>\n",
       "      <th>B</th>\n",
       "      <th>C</th>\n",
       "    </tr>\n",
       "  </thead>\n",
       "  <tbody>\n",
       "    <tr>\n",
       "      <th>1</th>\n",
       "      <td>NaN</td>\n",
       "      <td>3.0</td>\n",
       "      <td>4.0</td>\n",
       "    </tr>\n",
       "  </tbody>\n",
       "</table>\n",
       "</div>"
      ],
      "text/plain": [
       "    A    B    C\n",
       "1 NaN  3.0  4.0"
      ]
     },
     "execution_count": 3,
     "metadata": {},
     "output_type": "execute_result"
    }
   ],
   "source": [
    "df[df.A.isna()] # A컬럼에 접근해서 NAN이 있는지?"
   ]
  },
  {
   "cell_type": "code",
   "execution_count": 7,
   "id": "587a27be-a84a-4546-943b-ec981a8556c8",
   "metadata": {},
   "outputs": [
    {
     "data": {
      "text/plain": [
       "0    False\n",
       "1     True\n",
       "2    False\n",
       "3    False\n",
       "Name: A, dtype: bool"
      ]
     },
     "execution_count": 7,
     "metadata": {},
     "output_type": "execute_result"
    }
   ],
   "source": [
    "df.A.isna()"
   ]
  },
  {
   "cell_type": "code",
   "execution_count": 10,
   "id": "0024d529-2816-4a3c-ab5f-2a20554a9d73",
   "metadata": {},
   "outputs": [
    {
     "data": {
      "text/plain": [
       "0    False\n",
       "1     True\n",
       "2    False\n",
       "3    False\n",
       "dtype: bool"
      ]
     },
     "execution_count": 10,
     "metadata": {},
     "output_type": "execute_result"
    }
   ],
   "source": [
    "(lambda df: pd.Series([False, True, False, False]))('a') # 뭘 넣어도 F,T,F,F"
   ]
  },
  {
   "cell_type": "markdown",
   "id": "30fc3da6-a844-4fbd-877c-82d4fe75dada",
   "metadata": {},
   "source": [
    "(표현2)"
   ]
  },
  {
   "cell_type": "code",
   "execution_count": 15,
   "id": "80320074-1ae5-4067-905e-c89a4e8aad8d",
   "metadata": {
    "tags": []
   },
   "outputs": [
    {
     "data": {
      "text/html": [
       "<div>\n",
       "<style scoped>\n",
       "    .dataframe tbody tr th:only-of-type {\n",
       "        vertical-align: middle;\n",
       "    }\n",
       "\n",
       "    .dataframe tbody tr th {\n",
       "        vertical-align: top;\n",
       "    }\n",
       "\n",
       "    .dataframe thead th {\n",
       "        text-align: right;\n",
       "    }\n",
       "</style>\n",
       "<table border=\"1\" class=\"dataframe\">\n",
       "  <thead>\n",
       "    <tr style=\"text-align: right;\">\n",
       "      <th></th>\n",
       "      <th>A</th>\n",
       "      <th>B</th>\n",
       "      <th>C</th>\n",
       "    </tr>\n",
       "  </thead>\n",
       "  <tbody>\n",
       "    <tr>\n",
       "      <th>1</th>\n",
       "      <td>NaN</td>\n",
       "      <td>3.0</td>\n",
       "      <td>4.0</td>\n",
       "    </tr>\n",
       "  </tbody>\n",
       "</table>\n",
       "</div>"
      ],
      "text/plain": [
       "    A    B    C\n",
       "1 NaN  3.0  4.0"
      ]
     },
     "execution_count": 15,
     "metadata": {},
     "output_type": "execute_result"
    }
   ],
   "source": [
    "df[(lambda _df: _df.A.isna())(df)]"
   ]
  },
  {
   "cell_type": "markdown",
   "id": "3cf422b1-bf77-4086-8592-62accd869a29",
   "metadata": {},
   "source": [
    "(표현3)"
   ]
  },
  {
   "cell_type": "code",
   "execution_count": 17,
   "id": "2cc16b26-5c19-4d7b-941a-b271883ff872",
   "metadata": {
    "tags": []
   },
   "outputs": [
    {
     "data": {
      "text/html": [
       "<div>\n",
       "<style scoped>\n",
       "    .dataframe tbody tr th:only-of-type {\n",
       "        vertical-align: middle;\n",
       "    }\n",
       "\n",
       "    .dataframe tbody tr th {\n",
       "        vertical-align: top;\n",
       "    }\n",
       "\n",
       "    .dataframe thead th {\n",
       "        text-align: right;\n",
       "    }\n",
       "</style>\n",
       "<table border=\"1\" class=\"dataframe\">\n",
       "  <thead>\n",
       "    <tr style=\"text-align: right;\">\n",
       "      <th></th>\n",
       "      <th>A</th>\n",
       "      <th>B</th>\n",
       "      <th>C</th>\n",
       "    </tr>\n",
       "  </thead>\n",
       "  <tbody>\n",
       "    <tr>\n",
       "      <th>1</th>\n",
       "      <td>NaN</td>\n",
       "      <td>3.0</td>\n",
       "      <td>4.0</td>\n",
       "    </tr>\n",
       "  </tbody>\n",
       "</table>\n",
       "</div>"
      ],
      "text/plain": [
       "    A    B    C\n",
       "1 NaN  3.0  4.0"
      ]
     },
     "execution_count": 17,
     "metadata": {},
     "output_type": "execute_result"
    }
   ],
   "source": [
    "df[lambda _df: _df.A.isna()] "
   ]
  },
  {
   "cell_type": "markdown",
   "id": "220149f3-c578-4b9a-a804-c1012c61b91b",
   "metadata": {},
   "source": [
    "- 하나의 아규먼트 라는 것은 하나의 입력이라는 뜻.\n",
    "\n",
    "- `df.loc[함수비슷한것:]` , `df.loc[:,함수비슷한것]` , `df.iloc[:, 함수비슷한것]`, `df.iloc[함수비슷한것,:]` 모두 가능하다."
   ]
  },
  {
   "cell_type": "markdown",
   "id": "7646ba3e-c82f-4923-b1a6-2999b06a3f7c",
   "metadata": {},
   "source": [
    "`#`"
   ]
  },
  {
   "cell_type": "markdown",
   "id": "c3edac14-d695-4703-b1e1-aad4ef412472",
   "metadata": {},
   "source": [
    "`-` 예시2: loc, iloc 에서도 가능함 "
   ]
  },
  {
   "cell_type": "code",
   "execution_count": 19,
   "id": "48d01ead-859e-4761-8139-932f5e41f1ee",
   "metadata": {
    "tags": []
   },
   "outputs": [
    {
     "data": {
      "text/html": [
       "<div>\n",
       "<style scoped>\n",
       "    .dataframe tbody tr th:only-of-type {\n",
       "        vertical-align: middle;\n",
       "    }\n",
       "\n",
       "    .dataframe tbody tr th {\n",
       "        vertical-align: top;\n",
       "    }\n",
       "\n",
       "    .dataframe thead th {\n",
       "        text-align: right;\n",
       "    }\n",
       "</style>\n",
       "<table border=\"1\" class=\"dataframe\">\n",
       "  <thead>\n",
       "    <tr style=\"text-align: right;\">\n",
       "      <th></th>\n",
       "      <th>A</th>\n",
       "      <th>B</th>\n",
       "      <th>C</th>\n",
       "    </tr>\n",
       "  </thead>\n",
       "  <tbody>\n",
       "    <tr>\n",
       "      <th>0</th>\n",
       "      <td>-1.0</td>\n",
       "      <td>2.0</td>\n",
       "      <td>NaN</td>\n",
       "    </tr>\n",
       "    <tr>\n",
       "      <th>1</th>\n",
       "      <td>NaN</td>\n",
       "      <td>3.0</td>\n",
       "      <td>4.0</td>\n",
       "    </tr>\n",
       "    <tr>\n",
       "      <th>2</th>\n",
       "      <td>1.0</td>\n",
       "      <td>NaN</td>\n",
       "      <td>5.0</td>\n",
       "    </tr>\n",
       "    <tr>\n",
       "      <th>3</th>\n",
       "      <td>1.0</td>\n",
       "      <td>4.0</td>\n",
       "      <td>6.0</td>\n",
       "    </tr>\n",
       "  </tbody>\n",
       "</table>\n",
       "</div>"
      ],
      "text/plain": [
       "     A    B    C\n",
       "0 -1.0  2.0  NaN\n",
       "1  NaN  3.0  4.0\n",
       "2  1.0  NaN  5.0\n",
       "3  1.0  4.0  6.0"
      ]
     },
     "execution_count": 19,
     "metadata": {},
     "output_type": "execute_result"
    }
   ],
   "source": [
    "df = pd.DataFrame({'A':[-1,np.nan,1,1],'B':[2,3,np.nan,4],'C':[np.nan,4,5,6]})\n",
    "df"
   ]
  },
  {
   "cell_type": "code",
   "execution_count": 20,
   "id": "7398e93e-befd-42f5-83ce-cf0b71607159",
   "metadata": {
    "tags": []
   },
   "outputs": [
    {
     "data": {
      "text/html": [
       "<div>\n",
       "<style scoped>\n",
       "    .dataframe tbody tr th:only-of-type {\n",
       "        vertical-align: middle;\n",
       "    }\n",
       "\n",
       "    .dataframe tbody tr th {\n",
       "        vertical-align: top;\n",
       "    }\n",
       "\n",
       "    .dataframe thead th {\n",
       "        text-align: right;\n",
       "    }\n",
       "</style>\n",
       "<table border=\"1\" class=\"dataframe\">\n",
       "  <thead>\n",
       "    <tr style=\"text-align: right;\">\n",
       "      <th></th>\n",
       "      <th>A</th>\n",
       "      <th>B</th>\n",
       "      <th>C</th>\n",
       "    </tr>\n",
       "  </thead>\n",
       "  <tbody>\n",
       "    <tr>\n",
       "      <th>1</th>\n",
       "      <td>NaN</td>\n",
       "      <td>3.0</td>\n",
       "      <td>4.0</td>\n",
       "    </tr>\n",
       "  </tbody>\n",
       "</table>\n",
       "</div>"
      ],
      "text/plain": [
       "    A    B    C\n",
       "1 NaN  3.0  4.0"
      ]
     },
     "execution_count": 20,
     "metadata": {},
     "output_type": "execute_result"
    }
   ],
   "source": [
    "df.loc[lambda _df: _df.A.isna(), :]"
   ]
  },
  {
   "cell_type": "code",
   "execution_count": 21,
   "id": "5951b35c-070b-42fb-8fb0-48012618bdb1",
   "metadata": {
    "tags": []
   },
   "outputs": [
    {
     "data": {
      "text/html": [
       "<div>\n",
       "<style scoped>\n",
       "    .dataframe tbody tr th:only-of-type {\n",
       "        vertical-align: middle;\n",
       "    }\n",
       "\n",
       "    .dataframe tbody tr th {\n",
       "        vertical-align: top;\n",
       "    }\n",
       "\n",
       "    .dataframe thead th {\n",
       "        text-align: right;\n",
       "    }\n",
       "</style>\n",
       "<table border=\"1\" class=\"dataframe\">\n",
       "  <thead>\n",
       "    <tr style=\"text-align: right;\">\n",
       "      <th></th>\n",
       "      <th>A</th>\n",
       "      <th>B</th>\n",
       "      <th>C</th>\n",
       "    </tr>\n",
       "  </thead>\n",
       "  <tbody>\n",
       "    <tr>\n",
       "      <th>1</th>\n",
       "      <td>NaN</td>\n",
       "      <td>3.0</td>\n",
       "      <td>4.0</td>\n",
       "    </tr>\n",
       "  </tbody>\n",
       "</table>\n",
       "</div>"
      ],
      "text/plain": [
       "    A    B    C\n",
       "1 NaN  3.0  4.0"
      ]
     },
     "execution_count": 21,
     "metadata": {},
     "output_type": "execute_result"
    }
   ],
   "source": [
    "df.iloc[lambda _df: list(_df.A.isna()), :]"
   ]
  },
  {
   "cell_type": "code",
   "execution_count": 23,
   "id": "89263ccb-f30b-4678-8f7e-2ac7017d8497",
   "metadata": {},
   "outputs": [
    {
     "data": {
      "text/plain": [
       "0    False\n",
       "1     True\n",
       "2    False\n",
       "3    False\n",
       "dtype: bool"
      ]
     },
     "execution_count": 23,
     "metadata": {},
     "output_type": "execute_result"
    }
   ],
   "source": [
    "f = lambda _df: _df.A.isna()\n",
    "# f(df)\n",
    "pd.Series([False, True, False, False])"
   ]
  },
  {
   "cell_type": "code",
   "execution_count": 24,
   "id": "c5957350-ddac-46a2-970a-02be254f965f",
   "metadata": {},
   "outputs": [
    {
     "ename": "AttributeError",
     "evalue": "module 'pandas' has no attribute 'iloc'",
     "output_type": "error",
     "traceback": [
      "\u001b[0;31m---------------------------------------------------------------------------\u001b[0m",
      "\u001b[0;31mAttributeError\u001b[0m                            Traceback (most recent call last)",
      "Cell \u001b[0;32mIn[24], line 1\u001b[0m\n\u001b[0;32m----> 1\u001b[0m \u001b[43mpd\u001b[49m\u001b[38;5;241;43m.\u001b[39;49m\u001b[43miloc\u001b[49m[pd\u001b[38;5;241m.\u001b[39mSeries([\u001b[38;5;28;01mFalse\u001b[39;00m, \u001b[38;5;28;01mTrue\u001b[39;00m, \u001b[38;5;28;01mFalse\u001b[39;00m, \u001b[38;5;28;01mFalse\u001b[39;00m]),:]\n",
      "File \u001b[0;32m~/anaconda3/envs/py38/lib/python3.8/site-packages/pandas/__init__.py:264\u001b[0m, in \u001b[0;36m__getattr__\u001b[0;34m(name)\u001b[0m\n\u001b[1;32m    260\u001b[0m     \u001b[38;5;28;01mfrom\u001b[39;00m \u001b[38;5;21;01mpandas\u001b[39;00m\u001b[38;5;21;01m.\u001b[39;00m\u001b[38;5;21;01mcore\u001b[39;00m\u001b[38;5;21;01m.\u001b[39;00m\u001b[38;5;21;01marrays\u001b[39;00m\u001b[38;5;21;01m.\u001b[39;00m\u001b[38;5;21;01msparse\u001b[39;00m \u001b[38;5;28;01mimport\u001b[39;00m SparseArray \u001b[38;5;28;01mas\u001b[39;00m _SparseArray\n\u001b[1;32m    262\u001b[0m     \u001b[38;5;28;01mreturn\u001b[39;00m _SparseArray\n\u001b[0;32m--> 264\u001b[0m \u001b[38;5;28;01mraise\u001b[39;00m \u001b[38;5;167;01mAttributeError\u001b[39;00m(\u001b[38;5;124mf\u001b[39m\u001b[38;5;124m\"\u001b[39m\u001b[38;5;124mmodule \u001b[39m\u001b[38;5;124m'\u001b[39m\u001b[38;5;124mpandas\u001b[39m\u001b[38;5;124m'\u001b[39m\u001b[38;5;124m has no attribute \u001b[39m\u001b[38;5;124m'\u001b[39m\u001b[38;5;132;01m{\u001b[39;00mname\u001b[38;5;132;01m}\u001b[39;00m\u001b[38;5;124m'\u001b[39m\u001b[38;5;124m\"\u001b[39m)\n",
      "\u001b[0;31mAttributeError\u001b[0m: module 'pandas' has no attribute 'iloc'"
     ]
    }
   ],
   "source": [
    "pd.iloc[pd.Series([False, True, False, False]),:] # 에러가나네?"
   ]
  },
  {
   "cell_type": "code",
   "execution_count": 29,
   "id": "8c2d8d61-1ed5-4565-b13e-f1fdfe4f424e",
   "metadata": {},
   "outputs": [
    {
     "data": {
      "text/html": [
       "<div>\n",
       "<style scoped>\n",
       "    .dataframe tbody tr th:only-of-type {\n",
       "        vertical-align: middle;\n",
       "    }\n",
       "\n",
       "    .dataframe tbody tr th {\n",
       "        vertical-align: top;\n",
       "    }\n",
       "\n",
       "    .dataframe thead th {\n",
       "        text-align: right;\n",
       "    }\n",
       "</style>\n",
       "<table border=\"1\" class=\"dataframe\">\n",
       "  <thead>\n",
       "    <tr style=\"text-align: right;\">\n",
       "      <th></th>\n",
       "      <th>A</th>\n",
       "      <th>B</th>\n",
       "      <th>C</th>\n",
       "    </tr>\n",
       "  </thead>\n",
       "  <tbody>\n",
       "    <tr>\n",
       "      <th>1</th>\n",
       "      <td>NaN</td>\n",
       "      <td>3.0</td>\n",
       "      <td>4.0</td>\n",
       "    </tr>\n",
       "  </tbody>\n",
       "</table>\n",
       "</div>"
      ],
      "text/plain": [
       "    A    B    C\n",
       "1 NaN  3.0  4.0"
      ]
     },
     "execution_count": 29,
     "metadata": {},
     "output_type": "execute_result"
    }
   ],
   "source": [
    "df.iloc[list(pd.Series([False, True, False, False])),:] # iloc을 쓰려면 리스트로 만들어주면된다. (pandas Series는 에러가 남)"
   ]
  },
  {
   "cell_type": "markdown",
   "id": "e3cc6f80-32ce-452e-a3e7-05c44849ed8b",
   "metadata": {},
   "source": [
    "- iloc은 True, False 형태로 이루어진 pd.Series가 들어올 경우 인덱싱이 불가능하므로 리스트로 바꿔줘야했었음.. "
   ]
  },
  {
   "cell_type": "markdown",
   "id": "97a289f6-702b-422a-b910-fd6dd203f37c",
   "metadata": {},
   "source": [
    "`예시3`: 왜 이런 문법이 있을까? 연속적으로 dataFrame을 변화시킬 경우 유리한 테크닉 "
   ]
  },
  {
   "cell_type": "code",
   "execution_count": 30,
   "id": "6072c4b3-4a55-4611-9cc5-be69c88134c5",
   "metadata": {
    "tags": []
   },
   "outputs": [
    {
     "data": {
      "text/html": [
       "<div>\n",
       "<style scoped>\n",
       "    .dataframe tbody tr th:only-of-type {\n",
       "        vertical-align: middle;\n",
       "    }\n",
       "\n",
       "    .dataframe tbody tr th {\n",
       "        vertical-align: top;\n",
       "    }\n",
       "\n",
       "    .dataframe thead th {\n",
       "        text-align: right;\n",
       "    }\n",
       "</style>\n",
       "<table border=\"1\" class=\"dataframe\">\n",
       "  <thead>\n",
       "    <tr style=\"text-align: right;\">\n",
       "      <th></th>\n",
       "      <th>A</th>\n",
       "      <th>B</th>\n",
       "      <th>C</th>\n",
       "    </tr>\n",
       "  </thead>\n",
       "  <tbody>\n",
       "    <tr>\n",
       "      <th>0</th>\n",
       "      <td>-1.0</td>\n",
       "      <td>2.0</td>\n",
       "      <td>NaN</td>\n",
       "    </tr>\n",
       "    <tr>\n",
       "      <th>1</th>\n",
       "      <td>NaN</td>\n",
       "      <td>3.0</td>\n",
       "      <td>4.0</td>\n",
       "    </tr>\n",
       "    <tr>\n",
       "      <th>2</th>\n",
       "      <td>1.0</td>\n",
       "      <td>NaN</td>\n",
       "      <td>5.0</td>\n",
       "    </tr>\n",
       "    <tr>\n",
       "      <th>3</th>\n",
       "      <td>1.0</td>\n",
       "      <td>4.0</td>\n",
       "      <td>6.0</td>\n",
       "    </tr>\n",
       "  </tbody>\n",
       "</table>\n",
       "</div>"
      ],
      "text/plain": [
       "     A    B    C\n",
       "0 -1.0  2.0  NaN\n",
       "1  NaN  3.0  4.0\n",
       "2  1.0  NaN  5.0\n",
       "3  1.0  4.0  6.0"
      ]
     },
     "execution_count": 30,
     "metadata": {},
     "output_type": "execute_result"
    }
   ],
   "source": [
    "df = pd.DataFrame({'A':[-1,np.nan,1,1],'B':[2,3,np.nan,4],'C':[np.nan,4,5,6]})\n",
    "df"
   ]
  },
  {
   "cell_type": "markdown",
   "id": "06fa6049-a4c6-4595-961c-ff9c0c804310",
   "metadata": {},
   "source": [
    "step1: D=A+B+C를 계산"
   ]
  },
  {
   "cell_type": "code",
   "execution_count": 35,
   "id": "153e0269-a2ff-4e09-9b69-532967ba7425",
   "metadata": {},
   "outputs": [
    {
     "data": {
      "text/html": [
       "<div>\n",
       "<style scoped>\n",
       "    .dataframe tbody tr th:only-of-type {\n",
       "        vertical-align: middle;\n",
       "    }\n",
       "\n",
       "    .dataframe tbody tr th {\n",
       "        vertical-align: top;\n",
       "    }\n",
       "\n",
       "    .dataframe thead th {\n",
       "        text-align: right;\n",
       "    }\n",
       "</style>\n",
       "<table border=\"1\" class=\"dataframe\">\n",
       "  <thead>\n",
       "    <tr style=\"text-align: right;\">\n",
       "      <th></th>\n",
       "      <th>A</th>\n",
       "      <th>B</th>\n",
       "      <th>C</th>\n",
       "      <th>D</th>\n",
       "    </tr>\n",
       "  </thead>\n",
       "  <tbody>\n",
       "    <tr>\n",
       "      <th>0</th>\n",
       "      <td>-1.0</td>\n",
       "      <td>2.0</td>\n",
       "      <td>NaN</td>\n",
       "      <td>NaN</td>\n",
       "    </tr>\n",
       "    <tr>\n",
       "      <th>1</th>\n",
       "      <td>NaN</td>\n",
       "      <td>3.0</td>\n",
       "      <td>4.0</td>\n",
       "      <td>NaN</td>\n",
       "    </tr>\n",
       "    <tr>\n",
       "      <th>2</th>\n",
       "      <td>1.0</td>\n",
       "      <td>NaN</td>\n",
       "      <td>5.0</td>\n",
       "      <td>NaN</td>\n",
       "    </tr>\n",
       "    <tr>\n",
       "      <th>3</th>\n",
       "      <td>1.0</td>\n",
       "      <td>4.0</td>\n",
       "      <td>6.0</td>\n",
       "      <td>11.0</td>\n",
       "    </tr>\n",
       "  </tbody>\n",
       "</table>\n",
       "</div>"
      ],
      "text/plain": [
       "     A    B    C     D\n",
       "0 -1.0  2.0  NaN   NaN\n",
       "1  NaN  3.0  4.0   NaN\n",
       "2  1.0  NaN  5.0   NaN\n",
       "3  1.0  4.0  6.0  11.0"
      ]
     },
     "execution_count": 35,
     "metadata": {},
     "output_type": "execute_result"
    }
   ],
   "source": [
    "_df = df.assign(D = df.A+df.B+df.C)\n",
    "_df"
   ]
  },
  {
   "cell_type": "code",
   "execution_count": 31,
   "id": "1ce2b056-211d-4ca5-bb07-d107909c8cb0",
   "metadata": {
    "tags": []
   },
   "outputs": [
    {
     "data": {
      "text/html": [
       "<div>\n",
       "<style scoped>\n",
       "    .dataframe tbody tr th:only-of-type {\n",
       "        vertical-align: middle;\n",
       "    }\n",
       "\n",
       "    .dataframe tbody tr th {\n",
       "        vertical-align: top;\n",
       "    }\n",
       "\n",
       "    .dataframe thead th {\n",
       "        text-align: right;\n",
       "    }\n",
       "</style>\n",
       "<table border=\"1\" class=\"dataframe\">\n",
       "  <thead>\n",
       "    <tr style=\"text-align: right;\">\n",
       "      <th></th>\n",
       "      <th>A</th>\n",
       "      <th>B</th>\n",
       "      <th>C</th>\n",
       "      <th>D</th>\n",
       "    </tr>\n",
       "  </thead>\n",
       "  <tbody>\n",
       "    <tr>\n",
       "      <th>0</th>\n",
       "      <td>-1.0</td>\n",
       "      <td>2.0</td>\n",
       "      <td>NaN</td>\n",
       "      <td>NaN</td>\n",
       "    </tr>\n",
       "    <tr>\n",
       "      <th>1</th>\n",
       "      <td>NaN</td>\n",
       "      <td>3.0</td>\n",
       "      <td>4.0</td>\n",
       "      <td>NaN</td>\n",
       "    </tr>\n",
       "    <tr>\n",
       "      <th>2</th>\n",
       "      <td>1.0</td>\n",
       "      <td>NaN</td>\n",
       "      <td>5.0</td>\n",
       "      <td>NaN</td>\n",
       "    </tr>\n",
       "    <tr>\n",
       "      <th>3</th>\n",
       "      <td>1.0</td>\n",
       "      <td>4.0</td>\n",
       "      <td>6.0</td>\n",
       "      <td>11.0</td>\n",
       "    </tr>\n",
       "  </tbody>\n",
       "</table>\n",
       "</div>"
      ],
      "text/plain": [
       "     A    B    C     D\n",
       "0 -1.0  2.0  NaN   NaN\n",
       "1  NaN  3.0  4.0   NaN\n",
       "2  1.0  NaN  5.0   NaN\n",
       "3  1.0  4.0  6.0  11.0"
      ]
     },
     "execution_count": 31,
     "metadata": {},
     "output_type": "execute_result"
    }
   ],
   "source": [
    "df.eval('D=A+B+C')"
   ]
  },
  {
   "cell_type": "markdown",
   "id": "2380bd9a-d2c0-4931-b454-cd5d2834542c",
   "metadata": {},
   "source": [
    "`-` row별로 결측값 개수를 세서 E라는 변수를 만들자.\n",
    "\n",
    "1번 row에서는 결측치 2개, 2번 row에서는 결측치가 2개, 3번 row에서는 결측치가 2개, 4번 row에는 결측치가 0개..."
   ]
  },
  {
   "cell_type": "code",
   "execution_count": 45,
   "id": "3e61320a-01f5-496b-9d03-e8455101f0d6",
   "metadata": {},
   "outputs": [
    {
     "data": {
      "text/plain": [
       "0    1\n",
       "1    1\n",
       "2    1\n",
       "3    0\n",
       "dtype: int64"
      ]
     },
     "execution_count": 45,
     "metadata": {},
     "output_type": "execute_result"
    }
   ],
   "source": [
    "df.isna().sum(axis=1)"
   ]
  },
  {
   "cell_type": "code",
   "execution_count": 48,
   "id": "77c6c16e-74eb-44cd-b799-e7d38d9346e6",
   "metadata": {},
   "outputs": [
    {
     "data": {
      "text/html": [
       "<div>\n",
       "<style scoped>\n",
       "    .dataframe tbody tr th:only-of-type {\n",
       "        vertical-align: middle;\n",
       "    }\n",
       "\n",
       "    .dataframe tbody tr th {\n",
       "        vertical-align: top;\n",
       "    }\n",
       "\n",
       "    .dataframe thead th {\n",
       "        text-align: right;\n",
       "    }\n",
       "</style>\n",
       "<table border=\"1\" class=\"dataframe\">\n",
       "  <thead>\n",
       "    <tr style=\"text-align: right;\">\n",
       "      <th></th>\n",
       "      <th>A</th>\n",
       "      <th>B</th>\n",
       "      <th>C</th>\n",
       "      <th>D</th>\n",
       "      <th>E</th>\n",
       "    </tr>\n",
       "  </thead>\n",
       "  <tbody>\n",
       "    <tr>\n",
       "      <th>0</th>\n",
       "      <td>-1.0</td>\n",
       "      <td>2.0</td>\n",
       "      <td>NaN</td>\n",
       "      <td>NaN</td>\n",
       "      <td>1</td>\n",
       "    </tr>\n",
       "    <tr>\n",
       "      <th>1</th>\n",
       "      <td>NaN</td>\n",
       "      <td>3.0</td>\n",
       "      <td>4.0</td>\n",
       "      <td>NaN</td>\n",
       "      <td>1</td>\n",
       "    </tr>\n",
       "    <tr>\n",
       "      <th>2</th>\n",
       "      <td>1.0</td>\n",
       "      <td>NaN</td>\n",
       "      <td>5.0</td>\n",
       "      <td>NaN</td>\n",
       "      <td>1</td>\n",
       "    </tr>\n",
       "    <tr>\n",
       "      <th>3</th>\n",
       "      <td>1.0</td>\n",
       "      <td>4.0</td>\n",
       "      <td>6.0</td>\n",
       "      <td>11.0</td>\n",
       "      <td>0</td>\n",
       "    </tr>\n",
       "  </tbody>\n",
       "</table>\n",
       "</div>"
      ],
      "text/plain": [
       "     A    B    C     D  E\n",
       "0 -1.0  2.0  NaN   NaN  1\n",
       "1  NaN  3.0  4.0   NaN  1\n",
       "2  1.0  NaN  5.0   NaN  1\n",
       "3  1.0  4.0  6.0  11.0  0"
      ]
     },
     "execution_count": 48,
     "metadata": {},
     "output_type": "execute_result"
    }
   ],
   "source": [
    "df.eval('D=A+B+C').assign(E = df.isna().sum(axis=1)) # 이건 df에 연산을 건 것."
   ]
  },
  {
   "cell_type": "code",
   "execution_count": 47,
   "id": "f696e72b-4a9e-49fe-965e-77f50e022ceb",
   "metadata": {},
   "outputs": [
    {
     "data": {
      "text/html": [
       "<div>\n",
       "<style scoped>\n",
       "    .dataframe tbody tr th:only-of-type {\n",
       "        vertical-align: middle;\n",
       "    }\n",
       "\n",
       "    .dataframe tbody tr th {\n",
       "        vertical-align: top;\n",
       "    }\n",
       "\n",
       "    .dataframe thead th {\n",
       "        text-align: right;\n",
       "    }\n",
       "</style>\n",
       "<table border=\"1\" class=\"dataframe\">\n",
       "  <thead>\n",
       "    <tr style=\"text-align: right;\">\n",
       "      <th></th>\n",
       "      <th>A</th>\n",
       "      <th>B</th>\n",
       "      <th>C</th>\n",
       "      <th>D</th>\n",
       "      <th>E</th>\n",
       "    </tr>\n",
       "  </thead>\n",
       "  <tbody>\n",
       "    <tr>\n",
       "      <th>0</th>\n",
       "      <td>-1.0</td>\n",
       "      <td>2.0</td>\n",
       "      <td>NaN</td>\n",
       "      <td>NaN</td>\n",
       "      <td>2</td>\n",
       "    </tr>\n",
       "    <tr>\n",
       "      <th>1</th>\n",
       "      <td>NaN</td>\n",
       "      <td>3.0</td>\n",
       "      <td>4.0</td>\n",
       "      <td>NaN</td>\n",
       "      <td>2</td>\n",
       "    </tr>\n",
       "    <tr>\n",
       "      <th>2</th>\n",
       "      <td>1.0</td>\n",
       "      <td>NaN</td>\n",
       "      <td>5.0</td>\n",
       "      <td>NaN</td>\n",
       "      <td>2</td>\n",
       "    </tr>\n",
       "    <tr>\n",
       "      <th>3</th>\n",
       "      <td>1.0</td>\n",
       "      <td>4.0</td>\n",
       "      <td>6.0</td>\n",
       "      <td>11.0</td>\n",
       "      <td>0</td>\n",
       "    </tr>\n",
       "  </tbody>\n",
       "</table>\n",
       "</div>"
      ],
      "text/plain": [
       "     A    B    C     D  E\n",
       "0 -1.0  2.0  NaN   NaN  2\n",
       "1  NaN  3.0  4.0   NaN  2\n",
       "2  1.0  NaN  5.0   NaN  2\n",
       "3  1.0  4.0  6.0  11.0  0"
      ]
     },
     "execution_count": 47,
     "metadata": {},
     "output_type": "execute_result"
    }
   ],
   "source": [
    "df.eval('D=A+B+C').assign(E = lambda _df : _df.isna().sum(axis=1)) # lamba df"
   ]
  },
  {
   "cell_type": "markdown",
   "id": "edbbf624-e82c-45c1-a2af-59a0a2652101",
   "metadata": {},
   "source": [
    "step2: 여기에서 결측치의 값이 50%가 넘는 열만 고르고 싶다면? "
   ]
  },
  {
   "cell_type": "code",
   "execution_count": 38,
   "id": "efc1950e-cf35-47ad-b6c3-4f6084b6e54e",
   "metadata": {},
   "outputs": [
    {
     "data": {
      "text/html": [
       "<div>\n",
       "<style scoped>\n",
       "    .dataframe tbody tr th:only-of-type {\n",
       "        vertical-align: middle;\n",
       "    }\n",
       "\n",
       "    .dataframe tbody tr th {\n",
       "        vertical-align: top;\n",
       "    }\n",
       "\n",
       "    .dataframe thead th {\n",
       "        text-align: right;\n",
       "    }\n",
       "</style>\n",
       "<table border=\"1\" class=\"dataframe\">\n",
       "  <thead>\n",
       "    <tr style=\"text-align: right;\">\n",
       "      <th></th>\n",
       "      <th>D</th>\n",
       "    </tr>\n",
       "  </thead>\n",
       "  <tbody>\n",
       "    <tr>\n",
       "      <th>0</th>\n",
       "      <td>NaN</td>\n",
       "    </tr>\n",
       "    <tr>\n",
       "      <th>1</th>\n",
       "      <td>NaN</td>\n",
       "    </tr>\n",
       "    <tr>\n",
       "      <th>2</th>\n",
       "      <td>NaN</td>\n",
       "    </tr>\n",
       "    <tr>\n",
       "      <th>3</th>\n",
       "      <td>11.0</td>\n",
       "    </tr>\n",
       "  </tbody>\n",
       "</table>\n",
       "</div>"
      ],
      "text/plain": [
       "      D\n",
       "0   NaN\n",
       "1   NaN\n",
       "2   NaN\n",
       "3  11.0"
      ]
     },
     "execution_count": 38,
     "metadata": {},
     "output_type": "execute_result"
    }
   ],
   "source": [
    "_df.loc[:,_df.isna().mean() > 0.5] # D열만 뽑히게 됨."
   ]
  },
  {
   "cell_type": "code",
   "execution_count": 41,
   "id": "6bafefe4-ad49-4969-80c4-26d7a73b8cb1",
   "metadata": {},
   "outputs": [
    {
     "data": {
      "text/html": [
       "<div>\n",
       "<style scoped>\n",
       "    .dataframe tbody tr th:only-of-type {\n",
       "        vertical-align: middle;\n",
       "    }\n",
       "\n",
       "    .dataframe tbody tr th {\n",
       "        vertical-align: top;\n",
       "    }\n",
       "\n",
       "    .dataframe thead th {\n",
       "        text-align: right;\n",
       "    }\n",
       "</style>\n",
       "<table border=\"1\" class=\"dataframe\">\n",
       "  <thead>\n",
       "    <tr style=\"text-align: right;\">\n",
       "      <th></th>\n",
       "      <th>D</th>\n",
       "    </tr>\n",
       "  </thead>\n",
       "  <tbody>\n",
       "    <tr>\n",
       "      <th>0</th>\n",
       "      <td>NaN</td>\n",
       "    </tr>\n",
       "    <tr>\n",
       "      <th>1</th>\n",
       "      <td>NaN</td>\n",
       "    </tr>\n",
       "    <tr>\n",
       "      <th>2</th>\n",
       "      <td>NaN</td>\n",
       "    </tr>\n",
       "    <tr>\n",
       "      <th>3</th>\n",
       "      <td>11.0</td>\n",
       "    </tr>\n",
       "  </tbody>\n",
       "</table>\n",
       "</div>"
      ],
      "text/plain": [
       "      D\n",
       "0   NaN\n",
       "1   NaN\n",
       "2   NaN\n",
       "3  11.0"
      ]
     },
     "execution_count": 41,
     "metadata": {},
     "output_type": "execute_result"
    }
   ],
   "source": [
    "df.assign(D=df.A+df.B+df.C).loc[:,lambda _df: _df.isna().mean()>0.5]"
   ]
  },
  {
   "cell_type": "code",
   "execution_count": 42,
   "id": "c42961eb-3ec4-4be4-b1bb-2ec3328022c1",
   "metadata": {
    "tags": []
   },
   "outputs": [
    {
     "data": {
      "text/plain": [
       "A    0.25\n",
       "B    0.25\n",
       "C    0.25\n",
       "D    0.75\n",
       "dtype: float64"
      ]
     },
     "execution_count": 42,
     "metadata": {},
     "output_type": "execute_result"
    }
   ],
   "source": [
    "df.eval('D=A+B+C').isna().mean()"
   ]
  },
  {
   "cell_type": "code",
   "execution_count": 43,
   "id": "6286af0a-af5b-4be5-b09c-4dfb84fba7a7",
   "metadata": {
    "tags": []
   },
   "outputs": [
    {
     "data": {
      "text/html": [
       "<div>\n",
       "<style scoped>\n",
       "    .dataframe tbody tr th:only-of-type {\n",
       "        vertical-align: middle;\n",
       "    }\n",
       "\n",
       "    .dataframe tbody tr th {\n",
       "        vertical-align: top;\n",
       "    }\n",
       "\n",
       "    .dataframe thead th {\n",
       "        text-align: right;\n",
       "    }\n",
       "</style>\n",
       "<table border=\"1\" class=\"dataframe\">\n",
       "  <thead>\n",
       "    <tr style=\"text-align: right;\">\n",
       "      <th></th>\n",
       "      <th>D</th>\n",
       "    </tr>\n",
       "  </thead>\n",
       "  <tbody>\n",
       "    <tr>\n",
       "      <th>0</th>\n",
       "      <td>NaN</td>\n",
       "    </tr>\n",
       "    <tr>\n",
       "      <th>1</th>\n",
       "      <td>NaN</td>\n",
       "    </tr>\n",
       "    <tr>\n",
       "      <th>2</th>\n",
       "      <td>NaN</td>\n",
       "    </tr>\n",
       "    <tr>\n",
       "      <th>3</th>\n",
       "      <td>11.0</td>\n",
       "    </tr>\n",
       "  </tbody>\n",
       "</table>\n",
       "</div>"
      ],
      "text/plain": [
       "      D\n",
       "0   NaN\n",
       "1   NaN\n",
       "2   NaN\n",
       "3  11.0"
      ]
     },
     "execution_count": 43,
     "metadata": {},
     "output_type": "execute_result"
    }
   ],
   "source": [
    "df.eval('D=A+B+C').loc[:,lambda _df: _df.isna().mean()>0.5]"
   ]
  },
  {
   "cell_type": "markdown",
   "id": "62fd7804-8b4c-400c-9db4-59d03355af09",
   "metadata": {},
   "source": [
    "`#`"
   ]
  },
  {
   "cell_type": "markdown",
   "id": "6b09a692-e7fe-4ff4-bde0-31bda2e10f29",
   "metadata": {},
   "source": [
    "## B. `lambda df:` with assign"
   ]
  },
  {
   "cell_type": "markdown",
   "id": "8c8dcddc-cd43-484e-b8bf-5a34e05233ff",
   "metadata": {},
   "source": [
    "`예시1`"
   ]
  },
  {
   "cell_type": "code",
   "execution_count": 49,
   "id": "f7cadc76-a0ff-49d8-86e5-538ca15bb9d1",
   "metadata": {
    "tags": []
   },
   "outputs": [
    {
     "data": {
      "text/html": [
       "<div>\n",
       "<style scoped>\n",
       "    .dataframe tbody tr th:only-of-type {\n",
       "        vertical-align: middle;\n",
       "    }\n",
       "\n",
       "    .dataframe tbody tr th {\n",
       "        vertical-align: top;\n",
       "    }\n",
       "\n",
       "    .dataframe thead th {\n",
       "        text-align: right;\n",
       "    }\n",
       "</style>\n",
       "<table border=\"1\" class=\"dataframe\">\n",
       "  <thead>\n",
       "    <tr style=\"text-align: right;\">\n",
       "      <th></th>\n",
       "      <th>A</th>\n",
       "      <th>B</th>\n",
       "      <th>C</th>\n",
       "    </tr>\n",
       "  </thead>\n",
       "  <tbody>\n",
       "    <tr>\n",
       "      <th>0</th>\n",
       "      <td>-1.0</td>\n",
       "      <td>2.0</td>\n",
       "      <td>NaN</td>\n",
       "    </tr>\n",
       "    <tr>\n",
       "      <th>1</th>\n",
       "      <td>NaN</td>\n",
       "      <td>3.0</td>\n",
       "      <td>4.0</td>\n",
       "    </tr>\n",
       "    <tr>\n",
       "      <th>2</th>\n",
       "      <td>1.0</td>\n",
       "      <td>NaN</td>\n",
       "      <td>5.0</td>\n",
       "    </tr>\n",
       "    <tr>\n",
       "      <th>3</th>\n",
       "      <td>1.0</td>\n",
       "      <td>4.0</td>\n",
       "      <td>6.0</td>\n",
       "    </tr>\n",
       "  </tbody>\n",
       "</table>\n",
       "</div>"
      ],
      "text/plain": [
       "     A    B    C\n",
       "0 -1.0  2.0  NaN\n",
       "1  NaN  3.0  4.0\n",
       "2  1.0  NaN  5.0\n",
       "3  1.0  4.0  6.0"
      ]
     },
     "execution_count": 49,
     "metadata": {},
     "output_type": "execute_result"
    }
   ],
   "source": [
    "df = pd.DataFrame({'A':[-1,np.nan,1,1],'B':[2,3,np.nan,4],'C':[np.nan,4,5,6]})\n",
    "df"
   ]
  },
  {
   "cell_type": "code",
   "execution_count": 50,
   "id": "a806aaea-5459-48c7-9853-0ddc6f227ebf",
   "metadata": {
    "tags": []
   },
   "outputs": [
    {
     "data": {
      "text/html": [
       "<div>\n",
       "<style scoped>\n",
       "    .dataframe tbody tr th:only-of-type {\n",
       "        vertical-align: middle;\n",
       "    }\n",
       "\n",
       "    .dataframe tbody tr th {\n",
       "        vertical-align: top;\n",
       "    }\n",
       "\n",
       "    .dataframe thead th {\n",
       "        text-align: right;\n",
       "    }\n",
       "</style>\n",
       "<table border=\"1\" class=\"dataframe\">\n",
       "  <thead>\n",
       "    <tr style=\"text-align: right;\">\n",
       "      <th></th>\n",
       "      <th>A</th>\n",
       "      <th>B</th>\n",
       "      <th>C</th>\n",
       "      <th>D</th>\n",
       "    </tr>\n",
       "  </thead>\n",
       "  <tbody>\n",
       "    <tr>\n",
       "      <th>0</th>\n",
       "      <td>-1.0</td>\n",
       "      <td>2.0</td>\n",
       "      <td>NaN</td>\n",
       "      <td>NaN</td>\n",
       "    </tr>\n",
       "    <tr>\n",
       "      <th>1</th>\n",
       "      <td>NaN</td>\n",
       "      <td>3.0</td>\n",
       "      <td>4.0</td>\n",
       "      <td>NaN</td>\n",
       "    </tr>\n",
       "    <tr>\n",
       "      <th>2</th>\n",
       "      <td>1.0</td>\n",
       "      <td>NaN</td>\n",
       "      <td>5.0</td>\n",
       "      <td>NaN</td>\n",
       "    </tr>\n",
       "    <tr>\n",
       "      <th>3</th>\n",
       "      <td>1.0</td>\n",
       "      <td>4.0</td>\n",
       "      <td>6.0</td>\n",
       "      <td>11.0</td>\n",
       "    </tr>\n",
       "  </tbody>\n",
       "</table>\n",
       "</div>"
      ],
      "text/plain": [
       "     A    B    C     D\n",
       "0 -1.0  2.0  NaN   NaN\n",
       "1  NaN  3.0  4.0   NaN\n",
       "2  1.0  NaN  5.0   NaN\n",
       "3  1.0  4.0  6.0  11.0"
      ]
     },
     "execution_count": 50,
     "metadata": {},
     "output_type": "execute_result"
    }
   ],
   "source": [
    "df.eval('D=A+B+C')"
   ]
  },
  {
   "cell_type": "markdown",
   "id": "38b52508-668f-4ca9-91b0-da6a9af1a51b",
   "metadata": {},
   "source": [
    "여기에서 결측치의 값을 row-wise하게 count하여 새로운열 `E`에 할당하고 싶다면? "
   ]
  },
  {
   "cell_type": "markdown",
   "id": "e4844f52-d680-41a0-a79e-a7bcd4dc50a6",
   "metadata": {},
   "source": [
    "> 1번 row에서는 결측치 2개, 2번 row에서는 결측칠가 2개, 3번 row에서는 결측치가 2개, 4번 row에는 결측치가 0개..."
   ]
  },
  {
   "cell_type": "code",
   "execution_count": 51,
   "id": "b44d0a1b-beb2-4ffa-9830-352d079b21cb",
   "metadata": {
    "tags": []
   },
   "outputs": [
    {
     "data": {
      "text/plain": [
       "0    2\n",
       "1    2\n",
       "2    2\n",
       "3    0\n",
       "dtype: int64"
      ]
     },
     "execution_count": 51,
     "metadata": {},
     "output_type": "execute_result"
    }
   ],
   "source": [
    "df.eval('D=A+B+C').isna().sum(axis=1)\n",
    "# _df = df.eval('D=A+B+C')\n",
    "# _df.isna().sum(axis=1)"
   ]
  },
  {
   "cell_type": "code",
   "execution_count": 52,
   "id": "b53672ec-8a74-4ac4-8dea-38d05abccb8a",
   "metadata": {
    "tags": []
   },
   "outputs": [
    {
     "data": {
      "text/html": [
       "<div>\n",
       "<style scoped>\n",
       "    .dataframe tbody tr th:only-of-type {\n",
       "        vertical-align: middle;\n",
       "    }\n",
       "\n",
       "    .dataframe tbody tr th {\n",
       "        vertical-align: top;\n",
       "    }\n",
       "\n",
       "    .dataframe thead th {\n",
       "        text-align: right;\n",
       "    }\n",
       "</style>\n",
       "<table border=\"1\" class=\"dataframe\">\n",
       "  <thead>\n",
       "    <tr style=\"text-align: right;\">\n",
       "      <th></th>\n",
       "      <th>A</th>\n",
       "      <th>B</th>\n",
       "      <th>C</th>\n",
       "      <th>D</th>\n",
       "      <th>E</th>\n",
       "    </tr>\n",
       "  </thead>\n",
       "  <tbody>\n",
       "    <tr>\n",
       "      <th>0</th>\n",
       "      <td>-1.0</td>\n",
       "      <td>2.0</td>\n",
       "      <td>NaN</td>\n",
       "      <td>NaN</td>\n",
       "      <td>2</td>\n",
       "    </tr>\n",
       "    <tr>\n",
       "      <th>1</th>\n",
       "      <td>NaN</td>\n",
       "      <td>3.0</td>\n",
       "      <td>4.0</td>\n",
       "      <td>NaN</td>\n",
       "      <td>2</td>\n",
       "    </tr>\n",
       "    <tr>\n",
       "      <th>2</th>\n",
       "      <td>1.0</td>\n",
       "      <td>NaN</td>\n",
       "      <td>5.0</td>\n",
       "      <td>NaN</td>\n",
       "      <td>2</td>\n",
       "    </tr>\n",
       "    <tr>\n",
       "      <th>3</th>\n",
       "      <td>1.0</td>\n",
       "      <td>4.0</td>\n",
       "      <td>6.0</td>\n",
       "      <td>11.0</td>\n",
       "      <td>0</td>\n",
       "    </tr>\n",
       "  </tbody>\n",
       "</table>\n",
       "</div>"
      ],
      "text/plain": [
       "     A    B    C     D  E\n",
       "0 -1.0  2.0  NaN   NaN  2\n",
       "1  NaN  3.0  4.0   NaN  2\n",
       "2  1.0  NaN  5.0   NaN  2\n",
       "3  1.0  4.0  6.0  11.0  0"
      ]
     },
     "execution_count": 52,
     "metadata": {},
     "output_type": "execute_result"
    }
   ],
   "source": [
    "df.eval('D=A+B+C').assign(E=lambda _df: _df.isna().sum(axis=1))"
   ]
  },
  {
   "cell_type": "markdown",
   "id": "a18582a6-5a52-4a3b-9357-e378e8b7c8e8",
   "metadata": {},
   "source": [
    "`#`"
   ]
  },
  {
   "cell_type": "markdown",
   "id": "047d7f8f-dd47-465e-a85a-b033733ff2c1",
   "metadata": {},
   "source": [
    "`예시2` -- 원본데이터를 손상시키지 않으며 데이터를 변형하고 싶을때.. "
   ]
  },
  {
   "cell_type": "code",
   "execution_count": 53,
   "id": "2e16ea9f-01ff-4045-a4a0-f29cadadd60a",
   "metadata": {
    "tags": []
   },
   "outputs": [
    {
     "data": {
      "text/html": [
       "<div>\n",
       "<style scoped>\n",
       "    .dataframe tbody tr th:only-of-type {\n",
       "        vertical-align: middle;\n",
       "    }\n",
       "\n",
       "    .dataframe tbody tr th {\n",
       "        vertical-align: top;\n",
       "    }\n",
       "\n",
       "    .dataframe thead th {\n",
       "        text-align: right;\n",
       "    }\n",
       "</style>\n",
       "<table border=\"1\" class=\"dataframe\">\n",
       "  <thead>\n",
       "    <tr style=\"text-align: right;\">\n",
       "      <th></th>\n",
       "      <th>A</th>\n",
       "    </tr>\n",
       "  </thead>\n",
       "  <tbody>\n",
       "    <tr>\n",
       "      <th>0</th>\n",
       "      <td>12</td>\n",
       "    </tr>\n",
       "    <tr>\n",
       "      <th>1</th>\n",
       "      <td>234</td>\n",
       "    </tr>\n",
       "    <tr>\n",
       "      <th>2</th>\n",
       "      <td>3456</td>\n",
       "    </tr>\n",
       "    <tr>\n",
       "      <th>3</th>\n",
       "      <td>12345</td>\n",
       "    </tr>\n",
       "    <tr>\n",
       "      <th>4</th>\n",
       "      <td>654222</td>\n",
       "    </tr>\n",
       "  </tbody>\n",
       "</table>\n",
       "</div>"
      ],
      "text/plain": [
       "        A\n",
       "0      12\n",
       "1     234\n",
       "2    3456\n",
       "3   12345\n",
       "4  654222"
      ]
     },
     "execution_count": 53,
     "metadata": {},
     "output_type": "execute_result"
    }
   ],
   "source": [
    "np.random.seed(43052)\n",
    "df = pd.DataFrame({'A':[12,234,3456,12345,654222]})\n",
    "df"
   ]
  },
  {
   "cell_type": "markdown",
   "id": "7e54bd70-19db-4ed2-b5f2-f27a240c9432",
   "metadata": {},
   "source": [
    "(풀이1) -- 복사본생성 (실패)"
   ]
  },
  {
   "cell_type": "code",
   "execution_count": 54,
   "id": "ebd4ea96-4b24-46d0-8ce8-3a3587fe9b45",
   "metadata": {
    "tags": []
   },
   "outputs": [
    {
     "data": {
      "text/html": [
       "<div>\n",
       "<style scoped>\n",
       "    .dataframe tbody tr th:only-of-type {\n",
       "        vertical-align: middle;\n",
       "    }\n",
       "\n",
       "    .dataframe tbody tr th {\n",
       "        vertical-align: top;\n",
       "    }\n",
       "\n",
       "    .dataframe thead th {\n",
       "        text-align: right;\n",
       "    }\n",
       "</style>\n",
       "<table border=\"1\" class=\"dataframe\">\n",
       "  <thead>\n",
       "    <tr style=\"text-align: right;\">\n",
       "      <th></th>\n",
       "      <th>A</th>\n",
       "    </tr>\n",
       "  </thead>\n",
       "  <tbody>\n",
       "    <tr>\n",
       "      <th>0</th>\n",
       "      <td>12</td>\n",
       "    </tr>\n",
       "    <tr>\n",
       "      <th>1</th>\n",
       "      <td>234</td>\n",
       "    </tr>\n",
       "    <tr>\n",
       "      <th>2</th>\n",
       "      <td>3456</td>\n",
       "    </tr>\n",
       "    <tr>\n",
       "      <th>3</th>\n",
       "      <td>12345</td>\n",
       "    </tr>\n",
       "    <tr>\n",
       "      <th>4</th>\n",
       "      <td>654222</td>\n",
       "    </tr>\n",
       "  </tbody>\n",
       "</table>\n",
       "</div>"
      ],
      "text/plain": [
       "        A\n",
       "0      12\n",
       "1     234\n",
       "2    3456\n",
       "3   12345\n",
       "4  654222"
      ]
     },
     "execution_count": 54,
     "metadata": {},
     "output_type": "execute_result"
    }
   ],
   "source": [
    "df2 = df \n",
    "df2"
   ]
  },
  {
   "cell_type": "code",
   "execution_count": 55,
   "id": "eae70579-67ce-4366-ac85-98357863a0f1",
   "metadata": {
    "tags": []
   },
   "outputs": [],
   "source": [
    "df2['B'] = np.log(df.A)\n",
    "df2['C'] = (df2.B - df2.B.mean())/df2.B.std()"
   ]
  },
  {
   "cell_type": "code",
   "execution_count": 56,
   "id": "781ccf5b-723b-443b-9f02-5ca8a4e56a44",
   "metadata": {
    "tags": []
   },
   "outputs": [
    {
     "data": {
      "text/html": [
       "<div>\n",
       "<style scoped>\n",
       "    .dataframe tbody tr th:only-of-type {\n",
       "        vertical-align: middle;\n",
       "    }\n",
       "\n",
       "    .dataframe tbody tr th {\n",
       "        vertical-align: top;\n",
       "    }\n",
       "\n",
       "    .dataframe thead th {\n",
       "        text-align: right;\n",
       "    }\n",
       "</style>\n",
       "<table border=\"1\" class=\"dataframe\">\n",
       "  <thead>\n",
       "    <tr style=\"text-align: right;\">\n",
       "      <th></th>\n",
       "      <th>A</th>\n",
       "      <th>B</th>\n",
       "      <th>C</th>\n",
       "    </tr>\n",
       "  </thead>\n",
       "  <tbody>\n",
       "    <tr>\n",
       "      <th>0</th>\n",
       "      <td>12</td>\n",
       "      <td>2.484907</td>\n",
       "      <td>-1.286574</td>\n",
       "    </tr>\n",
       "    <tr>\n",
       "      <th>1</th>\n",
       "      <td>234</td>\n",
       "      <td>5.455321</td>\n",
       "      <td>-0.564847</td>\n",
       "    </tr>\n",
       "    <tr>\n",
       "      <th>2</th>\n",
       "      <td>3456</td>\n",
       "      <td>8.147867</td>\n",
       "      <td>0.089367</td>\n",
       "    </tr>\n",
       "    <tr>\n",
       "      <th>3</th>\n",
       "      <td>12345</td>\n",
       "      <td>9.421006</td>\n",
       "      <td>0.398704</td>\n",
       "    </tr>\n",
       "    <tr>\n",
       "      <th>4</th>\n",
       "      <td>654222</td>\n",
       "      <td>13.391202</td>\n",
       "      <td>1.363350</td>\n",
       "    </tr>\n",
       "  </tbody>\n",
       "</table>\n",
       "</div>"
      ],
      "text/plain": [
       "        A          B         C\n",
       "0      12   2.484907 -1.286574\n",
       "1     234   5.455321 -0.564847\n",
       "2    3456   8.147867  0.089367\n",
       "3   12345   9.421006  0.398704\n",
       "4  654222  13.391202  1.363350"
      ]
     },
     "execution_count": 56,
     "metadata": {},
     "output_type": "execute_result"
    }
   ],
   "source": [
    "df2"
   ]
  },
  {
   "cell_type": "code",
   "execution_count": 57,
   "id": "b2b008b4-c86f-46ce-83ea-abcd2ca6a610",
   "metadata": {
    "tags": []
   },
   "outputs": [
    {
     "data": {
      "text/html": [
       "<div>\n",
       "<style scoped>\n",
       "    .dataframe tbody tr th:only-of-type {\n",
       "        vertical-align: middle;\n",
       "    }\n",
       "\n",
       "    .dataframe tbody tr th {\n",
       "        vertical-align: top;\n",
       "    }\n",
       "\n",
       "    .dataframe thead th {\n",
       "        text-align: right;\n",
       "    }\n",
       "</style>\n",
       "<table border=\"1\" class=\"dataframe\">\n",
       "  <thead>\n",
       "    <tr style=\"text-align: right;\">\n",
       "      <th></th>\n",
       "      <th>A</th>\n",
       "      <th>B</th>\n",
       "      <th>C</th>\n",
       "    </tr>\n",
       "  </thead>\n",
       "  <tbody>\n",
       "    <tr>\n",
       "      <th>0</th>\n",
       "      <td>12</td>\n",
       "      <td>2.484907</td>\n",
       "      <td>-1.286574</td>\n",
       "    </tr>\n",
       "    <tr>\n",
       "      <th>1</th>\n",
       "      <td>234</td>\n",
       "      <td>5.455321</td>\n",
       "      <td>-0.564847</td>\n",
       "    </tr>\n",
       "    <tr>\n",
       "      <th>2</th>\n",
       "      <td>3456</td>\n",
       "      <td>8.147867</td>\n",
       "      <td>0.089367</td>\n",
       "    </tr>\n",
       "    <tr>\n",
       "      <th>3</th>\n",
       "      <td>12345</td>\n",
       "      <td>9.421006</td>\n",
       "      <td>0.398704</td>\n",
       "    </tr>\n",
       "    <tr>\n",
       "      <th>4</th>\n",
       "      <td>654222</td>\n",
       "      <td>13.391202</td>\n",
       "      <td>1.363350</td>\n",
       "    </tr>\n",
       "  </tbody>\n",
       "</table>\n",
       "</div>"
      ],
      "text/plain": [
       "        A          B         C\n",
       "0      12   2.484907 -1.286574\n",
       "1     234   5.455321 -0.564847\n",
       "2    3456   8.147867  0.089367\n",
       "3   12345   9.421006  0.398704\n",
       "4  654222  13.391202  1.363350"
      ]
     },
     "execution_count": 57,
     "metadata": {},
     "output_type": "execute_result"
    }
   ],
   "source": [
    "df # 니가 왜 여기서 나와?"
   ]
  },
  {
   "cell_type": "markdown",
   "id": "f5455656-f768-47bf-9f15-646dd6f489ee",
   "metadata": {},
   "source": [
    "- 이게 아닌데???\n",
    "- 이게 이렇게 되는 이유는 깊은복사 얕은복사 강의 참고."
   ]
  },
  {
   "cell_type": "markdown",
   "id": "1a764117-1c14-4fcc-a4f0-8092b72d169e",
   "metadata": {},
   "source": [
    "(풀이2) -- 복사본생성 (성공)"
   ]
  },
  {
   "cell_type": "code",
   "execution_count": 59,
   "id": "7c22f700-47a0-49e3-84d2-5f58fc251e8f",
   "metadata": {
    "tags": []
   },
   "outputs": [
    {
     "data": {
      "text/html": [
       "<div>\n",
       "<style scoped>\n",
       "    .dataframe tbody tr th:only-of-type {\n",
       "        vertical-align: middle;\n",
       "    }\n",
       "\n",
       "    .dataframe tbody tr th {\n",
       "        vertical-align: top;\n",
       "    }\n",
       "\n",
       "    .dataframe thead th {\n",
       "        text-align: right;\n",
       "    }\n",
       "</style>\n",
       "<table border=\"1\" class=\"dataframe\">\n",
       "  <thead>\n",
       "    <tr style=\"text-align: right;\">\n",
       "      <th></th>\n",
       "      <th>A</th>\n",
       "    </tr>\n",
       "  </thead>\n",
       "  <tbody>\n",
       "    <tr>\n",
       "      <th>0</th>\n",
       "      <td>12</td>\n",
       "    </tr>\n",
       "    <tr>\n",
       "      <th>1</th>\n",
       "      <td>234</td>\n",
       "    </tr>\n",
       "    <tr>\n",
       "      <th>2</th>\n",
       "      <td>3456</td>\n",
       "    </tr>\n",
       "    <tr>\n",
       "      <th>3</th>\n",
       "      <td>12345</td>\n",
       "    </tr>\n",
       "    <tr>\n",
       "      <th>4</th>\n",
       "      <td>654222</td>\n",
       "    </tr>\n",
       "  </tbody>\n",
       "</table>\n",
       "</div>"
      ],
      "text/plain": [
       "        A\n",
       "0      12\n",
       "1     234\n",
       "2    3456\n",
       "3   12345\n",
       "4  654222"
      ]
     },
     "execution_count": 59,
     "metadata": {},
     "output_type": "execute_result"
    }
   ],
   "source": [
    "np.random.seed(43052)\n",
    "df = pd.DataFrame({'A':[12,234,3456,12345,654222]})\n",
    "df"
   ]
  },
  {
   "cell_type": "code",
   "execution_count": 60,
   "id": "6c3ee112-c837-43f0-9f19-5be6bb2c770d",
   "metadata": {},
   "outputs": [],
   "source": [
    "df2 = df.copy()"
   ]
  },
  {
   "cell_type": "code",
   "execution_count": 61,
   "id": "2a27b0e4-bdd9-4261-bddc-822e32a9b927",
   "metadata": {
    "tags": []
   },
   "outputs": [],
   "source": [
    "df2['B'] = np.log(df.A)\n",
    "df2['C'] = (df2.B - df2.B.mean())/df2.B.std()"
   ]
  },
  {
   "cell_type": "code",
   "execution_count": 62,
   "id": "a4ff134b-7f17-4b01-bade-f872b8a1bf4f",
   "metadata": {
    "tags": []
   },
   "outputs": [
    {
     "data": {
      "text/html": [
       "<div>\n",
       "<style scoped>\n",
       "    .dataframe tbody tr th:only-of-type {\n",
       "        vertical-align: middle;\n",
       "    }\n",
       "\n",
       "    .dataframe tbody tr th {\n",
       "        vertical-align: top;\n",
       "    }\n",
       "\n",
       "    .dataframe thead th {\n",
       "        text-align: right;\n",
       "    }\n",
       "</style>\n",
       "<table border=\"1\" class=\"dataframe\">\n",
       "  <thead>\n",
       "    <tr style=\"text-align: right;\">\n",
       "      <th></th>\n",
       "      <th>A</th>\n",
       "      <th>B</th>\n",
       "      <th>C</th>\n",
       "    </tr>\n",
       "  </thead>\n",
       "  <tbody>\n",
       "    <tr>\n",
       "      <th>0</th>\n",
       "      <td>12</td>\n",
       "      <td>2.484907</td>\n",
       "      <td>-1.286574</td>\n",
       "    </tr>\n",
       "    <tr>\n",
       "      <th>1</th>\n",
       "      <td>234</td>\n",
       "      <td>5.455321</td>\n",
       "      <td>-0.564847</td>\n",
       "    </tr>\n",
       "    <tr>\n",
       "      <th>2</th>\n",
       "      <td>3456</td>\n",
       "      <td>8.147867</td>\n",
       "      <td>0.089367</td>\n",
       "    </tr>\n",
       "    <tr>\n",
       "      <th>3</th>\n",
       "      <td>12345</td>\n",
       "      <td>9.421006</td>\n",
       "      <td>0.398704</td>\n",
       "    </tr>\n",
       "    <tr>\n",
       "      <th>4</th>\n",
       "      <td>654222</td>\n",
       "      <td>13.391202</td>\n",
       "      <td>1.363350</td>\n",
       "    </tr>\n",
       "  </tbody>\n",
       "</table>\n",
       "</div>"
      ],
      "text/plain": [
       "        A          B         C\n",
       "0      12   2.484907 -1.286574\n",
       "1     234   5.455321 -0.564847\n",
       "2    3456   8.147867  0.089367\n",
       "3   12345   9.421006  0.398704\n",
       "4  654222  13.391202  1.363350"
      ]
     },
     "execution_count": 62,
     "metadata": {},
     "output_type": "execute_result"
    }
   ],
   "source": [
    "df2"
   ]
  },
  {
   "cell_type": "code",
   "execution_count": 63,
   "id": "17ce03c6-00d3-47ab-93df-03ff1a957801",
   "metadata": {
    "tags": []
   },
   "outputs": [
    {
     "data": {
      "text/html": [
       "<div>\n",
       "<style scoped>\n",
       "    .dataframe tbody tr th:only-of-type {\n",
       "        vertical-align: middle;\n",
       "    }\n",
       "\n",
       "    .dataframe tbody tr th {\n",
       "        vertical-align: top;\n",
       "    }\n",
       "\n",
       "    .dataframe thead th {\n",
       "        text-align: right;\n",
       "    }\n",
       "</style>\n",
       "<table border=\"1\" class=\"dataframe\">\n",
       "  <thead>\n",
       "    <tr style=\"text-align: right;\">\n",
       "      <th></th>\n",
       "      <th>A</th>\n",
       "    </tr>\n",
       "  </thead>\n",
       "  <tbody>\n",
       "    <tr>\n",
       "      <th>0</th>\n",
       "      <td>12</td>\n",
       "    </tr>\n",
       "    <tr>\n",
       "      <th>1</th>\n",
       "      <td>234</td>\n",
       "    </tr>\n",
       "    <tr>\n",
       "      <th>2</th>\n",
       "      <td>3456</td>\n",
       "    </tr>\n",
       "    <tr>\n",
       "      <th>3</th>\n",
       "      <td>12345</td>\n",
       "    </tr>\n",
       "    <tr>\n",
       "      <th>4</th>\n",
       "      <td>654222</td>\n",
       "    </tr>\n",
       "  </tbody>\n",
       "</table>\n",
       "</div>"
      ],
      "text/plain": [
       "        A\n",
       "0      12\n",
       "1     234\n",
       "2    3456\n",
       "3   12345\n",
       "4  654222"
      ]
     },
     "execution_count": 63,
     "metadata": {},
     "output_type": "execute_result"
    }
   ],
   "source": [
    "df"
   ]
  },
  {
   "cell_type": "markdown",
   "id": "d5f9fbb6-fc19-4128-9e16-c4479d0cc034",
   "metadata": {},
   "source": [
    "(풀이3) -- `assign` + `lambda df:` 이용"
   ]
  },
  {
   "cell_type": "code",
   "execution_count": 67,
   "id": "9635d994-8b67-43ef-bf8a-8869ae2c9626",
   "metadata": {
    "tags": []
   },
   "outputs": [
    {
     "data": {
      "text/html": [
       "<div>\n",
       "<style scoped>\n",
       "    .dataframe tbody tr th:only-of-type {\n",
       "        vertical-align: middle;\n",
       "    }\n",
       "\n",
       "    .dataframe tbody tr th {\n",
       "        vertical-align: top;\n",
       "    }\n",
       "\n",
       "    .dataframe thead th {\n",
       "        text-align: right;\n",
       "    }\n",
       "</style>\n",
       "<table border=\"1\" class=\"dataframe\">\n",
       "  <thead>\n",
       "    <tr style=\"text-align: right;\">\n",
       "      <th></th>\n",
       "      <th>A</th>\n",
       "      <th>B</th>\n",
       "      <th>C</th>\n",
       "    </tr>\n",
       "  </thead>\n",
       "  <tbody>\n",
       "    <tr>\n",
       "      <th>0</th>\n",
       "      <td>12</td>\n",
       "      <td>2.484907</td>\n",
       "      <td>-1.286574</td>\n",
       "    </tr>\n",
       "    <tr>\n",
       "      <th>1</th>\n",
       "      <td>234</td>\n",
       "      <td>5.455321</td>\n",
       "      <td>-0.564847</td>\n",
       "    </tr>\n",
       "    <tr>\n",
       "      <th>2</th>\n",
       "      <td>3456</td>\n",
       "      <td>8.147867</td>\n",
       "      <td>0.089367</td>\n",
       "    </tr>\n",
       "    <tr>\n",
       "      <th>3</th>\n",
       "      <td>12345</td>\n",
       "      <td>9.421006</td>\n",
       "      <td>0.398704</td>\n",
       "    </tr>\n",
       "    <tr>\n",
       "      <th>4</th>\n",
       "      <td>654222</td>\n",
       "      <td>13.391202</td>\n",
       "      <td>1.363350</td>\n",
       "    </tr>\n",
       "  </tbody>\n",
       "</table>\n",
       "</div>"
      ],
      "text/plain": [
       "        A          B         C\n",
       "0      12   2.484907 -1.286574\n",
       "1     234   5.455321 -0.564847\n",
       "2    3456   8.147867  0.089367\n",
       "3   12345   9.421006  0.398704\n",
       "4  654222  13.391202  1.363350"
      ]
     },
     "execution_count": 67,
     "metadata": {},
     "output_type": "execute_result"
    }
   ],
   "source": [
    "df.assign(B = lambda df: np.log(df.A)).assign(C = lambda df: (df.B - df.B.mean())/df.B.std())"
   ]
  },
  {
   "cell_type": "markdown",
   "id": "6859facb-a55f-473f-a54c-745309ef8a17",
   "metadata": {},
   "source": [
    "(풀이4) -- `eval` 이용"
   ]
  },
  {
   "cell_type": "code",
   "execution_count": 70,
   "id": "7245b4c6-28b3-4af3-a187-55d2f6680c75",
   "metadata": {
    "tags": []
   },
   "outputs": [
    {
     "data": {
      "text/html": [
       "<div>\n",
       "<style scoped>\n",
       "    .dataframe tbody tr th:only-of-type {\n",
       "        vertical-align: middle;\n",
       "    }\n",
       "\n",
       "    .dataframe tbody tr th {\n",
       "        vertical-align: top;\n",
       "    }\n",
       "\n",
       "    .dataframe thead th {\n",
       "        text-align: right;\n",
       "    }\n",
       "</style>\n",
       "<table border=\"1\" class=\"dataframe\">\n",
       "  <thead>\n",
       "    <tr style=\"text-align: right;\">\n",
       "      <th></th>\n",
       "      <th>A</th>\n",
       "      <th>B</th>\n",
       "      <th>C</th>\n",
       "    </tr>\n",
       "  </thead>\n",
       "  <tbody>\n",
       "    <tr>\n",
       "      <th>0</th>\n",
       "      <td>12</td>\n",
       "      <td>2.484907</td>\n",
       "      <td>-1.286574</td>\n",
       "    </tr>\n",
       "    <tr>\n",
       "      <th>1</th>\n",
       "      <td>234</td>\n",
       "      <td>5.455321</td>\n",
       "      <td>-0.564847</td>\n",
       "    </tr>\n",
       "    <tr>\n",
       "      <th>2</th>\n",
       "      <td>3456</td>\n",
       "      <td>8.147867</td>\n",
       "      <td>0.089367</td>\n",
       "    </tr>\n",
       "    <tr>\n",
       "      <th>3</th>\n",
       "      <td>12345</td>\n",
       "      <td>9.421006</td>\n",
       "      <td>0.398704</td>\n",
       "    </tr>\n",
       "    <tr>\n",
       "      <th>4</th>\n",
       "      <td>654222</td>\n",
       "      <td>13.391202</td>\n",
       "      <td>1.363350</td>\n",
       "    </tr>\n",
       "  </tbody>\n",
       "</table>\n",
       "</div>"
      ],
      "text/plain": [
       "        A          B         C\n",
       "0      12   2.484907 -1.286574\n",
       "1     234   5.455321 -0.564847\n",
       "2    3456   8.147867  0.089367\n",
       "3   12345   9.421006  0.398704\n",
       "4  654222  13.391202  1.363350"
      ]
     },
     "execution_count": 70,
     "metadata": {},
     "output_type": "execute_result"
    }
   ],
   "source": [
    "df.eval('B=log(A)').eval('C=(B-B.mean())/B.std()') # 오? lambda df 안해도 되네?"
   ]
  },
  {
   "cell_type": "markdown",
   "id": "defaf5ef-2add-498f-b0f6-5d866212e880",
   "metadata": {},
   "source": [
    "그렇지만 eval expression에 지원하는 함수는 한계가 있다. ($\\sin$,$\\cos$은 지원되는데 $\\tan$은 안된다든가..)"
   ]
  },
  {
   "cell_type": "markdown",
   "id": "1b8334f2-387d-4c6b-b78d-7b54e3768b2b",
   "metadata": {},
   "source": [
    "뭐가 될지 안될지 모름..."
   ]
  },
  {
   "cell_type": "code",
   "execution_count": 71,
   "id": "f6d64f34-db03-4491-9223-189f094fdbb5",
   "metadata": {
    "tags": []
   },
   "outputs": [
    {
     "data": {
      "text/html": [
       "<div>\n",
       "<style scoped>\n",
       "    .dataframe tbody tr th:only-of-type {\n",
       "        vertical-align: middle;\n",
       "    }\n",
       "\n",
       "    .dataframe tbody tr th {\n",
       "        vertical-align: top;\n",
       "    }\n",
       "\n",
       "    .dataframe thead th {\n",
       "        text-align: right;\n",
       "    }\n",
       "</style>\n",
       "<table border=\"1\" class=\"dataframe\">\n",
       "  <thead>\n",
       "    <tr style=\"text-align: right;\">\n",
       "      <th></th>\n",
       "      <th>A</th>\n",
       "    </tr>\n",
       "  </thead>\n",
       "  <tbody>\n",
       "    <tr>\n",
       "      <th>0</th>\n",
       "      <td>-1.500000</td>\n",
       "    </tr>\n",
       "    <tr>\n",
       "      <th>1</th>\n",
       "      <td>-1.469697</td>\n",
       "    </tr>\n",
       "    <tr>\n",
       "      <th>2</th>\n",
       "      <td>-1.439394</td>\n",
       "    </tr>\n",
       "    <tr>\n",
       "      <th>3</th>\n",
       "      <td>-1.409091</td>\n",
       "    </tr>\n",
       "    <tr>\n",
       "      <th>4</th>\n",
       "      <td>-1.378788</td>\n",
       "    </tr>\n",
       "    <tr>\n",
       "      <th>...</th>\n",
       "      <td>...</td>\n",
       "    </tr>\n",
       "    <tr>\n",
       "      <th>95</th>\n",
       "      <td>1.378788</td>\n",
       "    </tr>\n",
       "    <tr>\n",
       "      <th>96</th>\n",
       "      <td>1.409091</td>\n",
       "    </tr>\n",
       "    <tr>\n",
       "      <th>97</th>\n",
       "      <td>1.439394</td>\n",
       "    </tr>\n",
       "    <tr>\n",
       "      <th>98</th>\n",
       "      <td>1.469697</td>\n",
       "    </tr>\n",
       "    <tr>\n",
       "      <th>99</th>\n",
       "      <td>1.500000</td>\n",
       "    </tr>\n",
       "  </tbody>\n",
       "</table>\n",
       "<p>100 rows × 1 columns</p>\n",
       "</div>"
      ],
      "text/plain": [
       "           A\n",
       "0  -1.500000\n",
       "1  -1.469697\n",
       "2  -1.439394\n",
       "3  -1.409091\n",
       "4  -1.378788\n",
       "..       ...\n",
       "95  1.378788\n",
       "96  1.409091\n",
       "97  1.439394\n",
       "98  1.469697\n",
       "99  1.500000\n",
       "\n",
       "[100 rows x 1 columns]"
      ]
     },
     "execution_count": 71,
     "metadata": {},
     "output_type": "execute_result"
    }
   ],
   "source": [
    "_df = pd.DataFrame({'A':np.linspace(-1.5,1.5,100)})\n",
    "_df"
   ]
  },
  {
   "cell_type": "code",
   "execution_count": 74,
   "id": "b3ca203d-b9b6-48b4-8eb0-d037bd511c5f",
   "metadata": {},
   "outputs": [
    {
     "data": {
      "text/plain": [
       "<AxesSubplot: >"
      ]
     },
     "execution_count": 74,
     "metadata": {},
     "output_type": "execute_result"
    },
    {
     "data": {
      "image/png": "[encoded data removed]",
      "text/plain": [
       "<Figure size 432x288 with 1 Axes>"
      ]
     },
     "metadata": {
      "needs_background": "light"
     },
     "output_type": "display_data"
    }
   ],
   "source": [
    "_df.eval('B=sin(A)').plot(y='B')"
   ]
  },
  {
   "cell_type": "code",
   "execution_count": 75,
   "id": "e2b541fc-f885-4fc9-80ad-ddde3e61df43",
   "metadata": {},
   "outputs": [
    {
     "ename": "ValueError",
     "evalue": "\"tan\" is not a supported function",
     "output_type": "error",
     "traceback": [
      "\u001b[0;31m---------------------------------------------------------------------------\u001b[0m",
      "\u001b[0;31mKeyError\u001b[0m                                  Traceback (most recent call last)",
      "File \u001b[0;32m~/anaconda3/envs/py38/lib/python3.8/site-packages/pandas/core/computation/scope.py:198\u001b[0m, in \u001b[0;36mScope.resolve\u001b[0;34m(self, key, is_local)\u001b[0m\n\u001b[1;32m    197\u001b[0m \u001b[38;5;28;01mif\u001b[39;00m \u001b[38;5;28mself\u001b[39m\u001b[38;5;241m.\u001b[39mhas_resolvers:\n\u001b[0;32m--> 198\u001b[0m     \u001b[38;5;28;01mreturn\u001b[39;00m \u001b[38;5;28;43mself\u001b[39;49m\u001b[38;5;241;43m.\u001b[39;49m\u001b[43mresolvers\u001b[49m\u001b[43m[\u001b[49m\u001b[43mkey\u001b[49m\u001b[43m]\u001b[49m\n\u001b[1;32m    200\u001b[0m \u001b[38;5;66;03m# if we're here that means that we have no locals and we also have\u001b[39;00m\n\u001b[1;32m    201\u001b[0m \u001b[38;5;66;03m# no resolvers\u001b[39;00m\n",
      "File \u001b[0;32m~/anaconda3/envs/py38/lib/python3.8/collections/__init__.py:898\u001b[0m, in \u001b[0;36mChainMap.__getitem__\u001b[0;34m(self, key)\u001b[0m\n\u001b[1;32m    897\u001b[0m         \u001b[38;5;28;01mpass\u001b[39;00m\n\u001b[0;32m--> 898\u001b[0m \u001b[38;5;28;01mreturn\u001b[39;00m \u001b[38;5;28;43mself\u001b[39;49m\u001b[38;5;241;43m.\u001b[39;49m\u001b[38;5;21;43m__missing__\u001b[39;49m\u001b[43m(\u001b[49m\u001b[43mkey\u001b[49m\u001b[43m)\u001b[49m\n",
      "File \u001b[0;32m~/anaconda3/envs/py38/lib/python3.8/collections/__init__.py:890\u001b[0m, in \u001b[0;36mChainMap.__missing__\u001b[0;34m(self, key)\u001b[0m\n\u001b[1;32m    889\u001b[0m \u001b[38;5;28;01mdef\u001b[39;00m \u001b[38;5;21m__missing__\u001b[39m(\u001b[38;5;28mself\u001b[39m, key):\n\u001b[0;32m--> 890\u001b[0m     \u001b[38;5;28;01mraise\u001b[39;00m \u001b[38;5;167;01mKeyError\u001b[39;00m(key)\n",
      "\u001b[0;31mKeyError\u001b[0m: 'tan'",
      "\nDuring handling of the above exception, another exception occurred:\n",
      "\u001b[0;31mKeyError\u001b[0m                                  Traceback (most recent call last)",
      "File \u001b[0;32m~/anaconda3/envs/py38/lib/python3.8/site-packages/pandas/core/computation/scope.py:209\u001b[0m, in \u001b[0;36mScope.resolve\u001b[0;34m(self, key, is_local)\u001b[0m\n\u001b[1;32m    205\u001b[0m \u001b[38;5;28;01mtry\u001b[39;00m:\n\u001b[1;32m    206\u001b[0m     \u001b[38;5;66;03m# last ditch effort we look in temporaries\u001b[39;00m\n\u001b[1;32m    207\u001b[0m     \u001b[38;5;66;03m# these are created when parsing indexing expressions\u001b[39;00m\n\u001b[1;32m    208\u001b[0m     \u001b[38;5;66;03m# e.g., df[df > 0]\u001b[39;00m\n\u001b[0;32m--> 209\u001b[0m     \u001b[38;5;28;01mreturn\u001b[39;00m \u001b[38;5;28;43mself\u001b[39;49m\u001b[38;5;241;43m.\u001b[39;49m\u001b[43mtemps\u001b[49m\u001b[43m[\u001b[49m\u001b[43mkey\u001b[49m\u001b[43m]\u001b[49m\n\u001b[1;32m    210\u001b[0m \u001b[38;5;28;01mexcept\u001b[39;00m \u001b[38;5;167;01mKeyError\u001b[39;00m \u001b[38;5;28;01mas\u001b[39;00m err:\n",
      "\u001b[0;31mKeyError\u001b[0m: 'tan'",
      "\nThe above exception was the direct cause of the following exception:\n",
      "\u001b[0;31mUndefinedVariableError\u001b[0m                    Traceback (most recent call last)",
      "File \u001b[0;32m~/anaconda3/envs/py38/lib/python3.8/site-packages/pandas/core/computation/expr.py:666\u001b[0m, in \u001b[0;36mBaseExprVisitor.visit_Call\u001b[0;34m(self, node, side, **kwargs)\u001b[0m\n\u001b[1;32m    665\u001b[0m \u001b[38;5;28;01mtry\u001b[39;00m:\n\u001b[0;32m--> 666\u001b[0m     res \u001b[38;5;241m=\u001b[39m \u001b[38;5;28;43mself\u001b[39;49m\u001b[38;5;241;43m.\u001b[39;49m\u001b[43mvisit\u001b[49m\u001b[43m(\u001b[49m\u001b[43mnode\u001b[49m\u001b[38;5;241;43m.\u001b[39;49m\u001b[43mfunc\u001b[49m\u001b[43m)\u001b[49m\n\u001b[1;32m    667\u001b[0m \u001b[38;5;28;01mexcept\u001b[39;00m UndefinedVariableError:\n\u001b[1;32m    668\u001b[0m     \u001b[38;5;66;03m# Check if this is a supported function name\u001b[39;00m\n",
      "File \u001b[0;32m~/anaconda3/envs/py38/lib/python3.8/site-packages/pandas/core/computation/expr.py:415\u001b[0m, in \u001b[0;36mBaseExprVisitor.visit\u001b[0;34m(self, node, **kwargs)\u001b[0m\n\u001b[1;32m    414\u001b[0m visitor \u001b[38;5;241m=\u001b[39m \u001b[38;5;28mgetattr\u001b[39m(\u001b[38;5;28mself\u001b[39m, method)\n\u001b[0;32m--> 415\u001b[0m \u001b[38;5;28;01mreturn\u001b[39;00m \u001b[43mvisitor\u001b[49m\u001b[43m(\u001b[49m\u001b[43mnode\u001b[49m\u001b[43m,\u001b[49m\u001b[43m \u001b[49m\u001b[38;5;241;43m*\u001b[39;49m\u001b[38;5;241;43m*\u001b[39;49m\u001b[43mkwargs\u001b[49m\u001b[43m)\u001b[49m\n",
      "File \u001b[0;32m~/anaconda3/envs/py38/lib/python3.8/site-packages/pandas/core/computation/expr.py:549\u001b[0m, in \u001b[0;36mBaseExprVisitor.visit_Name\u001b[0;34m(self, node, **kwargs)\u001b[0m\n\u001b[1;32m    548\u001b[0m \u001b[38;5;28;01mdef\u001b[39;00m \u001b[38;5;21mvisit_Name\u001b[39m(\u001b[38;5;28mself\u001b[39m, node, \u001b[38;5;241m*\u001b[39m\u001b[38;5;241m*\u001b[39mkwargs):\n\u001b[0;32m--> 549\u001b[0m     \u001b[38;5;28;01mreturn\u001b[39;00m \u001b[38;5;28;43mself\u001b[39;49m\u001b[38;5;241;43m.\u001b[39;49m\u001b[43mterm_type\u001b[49m\u001b[43m(\u001b[49m\u001b[43mnode\u001b[49m\u001b[38;5;241;43m.\u001b[39;49m\u001b[43mid\u001b[49m\u001b[43m,\u001b[49m\u001b[43m \u001b[49m\u001b[38;5;28;43mself\u001b[39;49m\u001b[38;5;241;43m.\u001b[39;49m\u001b[43menv\u001b[49m\u001b[43m,\u001b[49m\u001b[43m \u001b[49m\u001b[38;5;241;43m*\u001b[39;49m\u001b[38;5;241;43m*\u001b[39;49m\u001b[43mkwargs\u001b[49m\u001b[43m)\u001b[49m\n",
      "File \u001b[0;32m~/anaconda3/envs/py38/lib/python3.8/site-packages/pandas/core/computation/ops.py:85\u001b[0m, in \u001b[0;36mTerm.__init__\u001b[0;34m(self, name, env, side, encoding)\u001b[0m\n\u001b[1;32m     84\u001b[0m \u001b[38;5;28mself\u001b[39m\u001b[38;5;241m.\u001b[39mis_local \u001b[38;5;241m=\u001b[39m tname\u001b[38;5;241m.\u001b[39mstartswith(LOCAL_TAG) \u001b[38;5;129;01mor\u001b[39;00m tname \u001b[38;5;129;01min\u001b[39;00m DEFAULT_GLOBALS\n\u001b[0;32m---> 85\u001b[0m \u001b[38;5;28mself\u001b[39m\u001b[38;5;241m.\u001b[39m_value \u001b[38;5;241m=\u001b[39m \u001b[38;5;28;43mself\u001b[39;49m\u001b[38;5;241;43m.\u001b[39;49m\u001b[43m_resolve_name\u001b[49m\u001b[43m(\u001b[49m\u001b[43m)\u001b[49m\n\u001b[1;32m     86\u001b[0m \u001b[38;5;28mself\u001b[39m\u001b[38;5;241m.\u001b[39mencoding \u001b[38;5;241m=\u001b[39m encoding\n",
      "File \u001b[0;32m~/anaconda3/envs/py38/lib/python3.8/site-packages/pandas/core/computation/ops.py:109\u001b[0m, in \u001b[0;36mTerm._resolve_name\u001b[0;34m(self)\u001b[0m\n\u001b[1;32m    107\u001b[0m     is_local \u001b[38;5;241m=\u001b[39m \u001b[38;5;28;01mFalse\u001b[39;00m\n\u001b[0;32m--> 109\u001b[0m res \u001b[38;5;241m=\u001b[39m \u001b[38;5;28;43mself\u001b[39;49m\u001b[38;5;241;43m.\u001b[39;49m\u001b[43menv\u001b[49m\u001b[38;5;241;43m.\u001b[39;49m\u001b[43mresolve\u001b[49m\u001b[43m(\u001b[49m\u001b[43mlocal_name\u001b[49m\u001b[43m,\u001b[49m\u001b[43m \u001b[49m\u001b[43mis_local\u001b[49m\u001b[38;5;241;43m=\u001b[39;49m\u001b[43mis_local\u001b[49m\u001b[43m)\u001b[49m\n\u001b[1;32m    110\u001b[0m \u001b[38;5;28mself\u001b[39m\u001b[38;5;241m.\u001b[39mupdate(res)\n",
      "File \u001b[0;32m~/anaconda3/envs/py38/lib/python3.8/site-packages/pandas/core/computation/scope.py:211\u001b[0m, in \u001b[0;36mScope.resolve\u001b[0;34m(self, key, is_local)\u001b[0m\n\u001b[1;32m    210\u001b[0m \u001b[38;5;28;01mexcept\u001b[39;00m \u001b[38;5;167;01mKeyError\u001b[39;00m \u001b[38;5;28;01mas\u001b[39;00m err:\n\u001b[0;32m--> 211\u001b[0m     \u001b[38;5;28;01mraise\u001b[39;00m UndefinedVariableError(key, is_local) \u001b[38;5;28;01mfrom\u001b[39;00m \u001b[38;5;21;01merr\u001b[39;00m\n",
      "\u001b[0;31mUndefinedVariableError\u001b[0m: name 'tan' is not defined",
      "\nDuring handling of the above exception, another exception occurred:\n",
      "\u001b[0;31mValueError\u001b[0m                                Traceback (most recent call last)",
      "Cell \u001b[0;32mIn[75], line 1\u001b[0m\n\u001b[0;32m----> 1\u001b[0m \u001b[43m_df\u001b[49m\u001b[38;5;241;43m.\u001b[39;49m\u001b[43meval\u001b[49m\u001b[43m(\u001b[49m\u001b[38;5;124;43m'\u001b[39;49m\u001b[38;5;124;43mB=tan(A)\u001b[39;49m\u001b[38;5;124;43m'\u001b[39;49m\u001b[43m)\u001b[49m\u001b[38;5;241m.\u001b[39mplot(y\u001b[38;5;241m=\u001b[39m\u001b[38;5;124m'\u001b[39m\u001b[38;5;124mB\u001b[39m\u001b[38;5;124m'\u001b[39m)\n",
      "File \u001b[0;32m~/anaconda3/envs/py38/lib/python3.8/site-packages/pandas/util/_decorators.py:331\u001b[0m, in \u001b[0;36mdeprecate_nonkeyword_arguments.<locals>.decorate.<locals>.wrapper\u001b[0;34m(*args, **kwargs)\u001b[0m\n\u001b[1;32m    325\u001b[0m \u001b[38;5;28;01mif\u001b[39;00m \u001b[38;5;28mlen\u001b[39m(args) \u001b[38;5;241m>\u001b[39m num_allow_args:\n\u001b[1;32m    326\u001b[0m     warnings\u001b[38;5;241m.\u001b[39mwarn(\n\u001b[1;32m    327\u001b[0m         msg\u001b[38;5;241m.\u001b[39mformat(arguments\u001b[38;5;241m=\u001b[39m_format_argument_list(allow_args)),\n\u001b[1;32m    328\u001b[0m         \u001b[38;5;167;01mFutureWarning\u001b[39;00m,\n\u001b[1;32m    329\u001b[0m         stacklevel\u001b[38;5;241m=\u001b[39mfind_stack_level(),\n\u001b[1;32m    330\u001b[0m     )\n\u001b[0;32m--> 331\u001b[0m \u001b[38;5;28;01mreturn\u001b[39;00m \u001b[43mfunc\u001b[49m\u001b[43m(\u001b[49m\u001b[38;5;241;43m*\u001b[39;49m\u001b[43margs\u001b[49m\u001b[43m,\u001b[49m\u001b[43m \u001b[49m\u001b[38;5;241;43m*\u001b[39;49m\u001b[38;5;241;43m*\u001b[39;49m\u001b[43mkwargs\u001b[49m\u001b[43m)\u001b[49m\n",
      "File \u001b[0;32m~/anaconda3/envs/py38/lib/python3.8/site-packages/pandas/core/frame.py:4612\u001b[0m, in \u001b[0;36mDataFrame.eval\u001b[0;34m(self, expr, inplace, **kwargs)\u001b[0m\n\u001b[1;32m   4609\u001b[0m     kwargs[\u001b[38;5;124m\"\u001b[39m\u001b[38;5;124mtarget\u001b[39m\u001b[38;5;124m\"\u001b[39m] \u001b[38;5;241m=\u001b[39m \u001b[38;5;28mself\u001b[39m\n\u001b[1;32m   4610\u001b[0m kwargs[\u001b[38;5;124m\"\u001b[39m\u001b[38;5;124mresolvers\u001b[39m\u001b[38;5;124m\"\u001b[39m] \u001b[38;5;241m=\u001b[39m \u001b[38;5;28mtuple\u001b[39m(kwargs\u001b[38;5;241m.\u001b[39mget(\u001b[38;5;124m\"\u001b[39m\u001b[38;5;124mresolvers\u001b[39m\u001b[38;5;124m\"\u001b[39m, ())) \u001b[38;5;241m+\u001b[39m resolvers\n\u001b[0;32m-> 4612\u001b[0m \u001b[38;5;28;01mreturn\u001b[39;00m \u001b[43m_eval\u001b[49m\u001b[43m(\u001b[49m\u001b[43mexpr\u001b[49m\u001b[43m,\u001b[49m\u001b[43m \u001b[49m\u001b[43minplace\u001b[49m\u001b[38;5;241;43m=\u001b[39;49m\u001b[43minplace\u001b[49m\u001b[43m,\u001b[49m\u001b[43m \u001b[49m\u001b[38;5;241;43m*\u001b[39;49m\u001b[38;5;241;43m*\u001b[39;49m\u001b[43mkwargs\u001b[49m\u001b[43m)\u001b[49m\n",
      "File \u001b[0;32m~/anaconda3/envs/py38/lib/python3.8/site-packages/pandas/core/computation/eval.py:353\u001b[0m, in \u001b[0;36meval\u001b[0;34m(expr, parser, engine, truediv, local_dict, global_dict, resolvers, level, target, inplace)\u001b[0m\n\u001b[1;32m    344\u001b[0m \u001b[38;5;66;03m# get our (possibly passed-in) scope\u001b[39;00m\n\u001b[1;32m    345\u001b[0m env \u001b[38;5;241m=\u001b[39m ensure_scope(\n\u001b[1;32m    346\u001b[0m     level \u001b[38;5;241m+\u001b[39m \u001b[38;5;241m1\u001b[39m,\n\u001b[1;32m    347\u001b[0m     global_dict\u001b[38;5;241m=\u001b[39mglobal_dict,\n\u001b[0;32m   (...)\u001b[0m\n\u001b[1;32m    350\u001b[0m     target\u001b[38;5;241m=\u001b[39mtarget,\n\u001b[1;32m    351\u001b[0m )\n\u001b[0;32m--> 353\u001b[0m parsed_expr \u001b[38;5;241m=\u001b[39m \u001b[43mExpr\u001b[49m\u001b[43m(\u001b[49m\u001b[43mexpr\u001b[49m\u001b[43m,\u001b[49m\u001b[43m \u001b[49m\u001b[43mengine\u001b[49m\u001b[38;5;241;43m=\u001b[39;49m\u001b[43mengine\u001b[49m\u001b[43m,\u001b[49m\u001b[43m \u001b[49m\u001b[43mparser\u001b[49m\u001b[38;5;241;43m=\u001b[39;49m\u001b[43mparser\u001b[49m\u001b[43m,\u001b[49m\u001b[43m \u001b[49m\u001b[43menv\u001b[49m\u001b[38;5;241;43m=\u001b[39;49m\u001b[43menv\u001b[49m\u001b[43m)\u001b[49m\n\u001b[1;32m    355\u001b[0m \u001b[38;5;66;03m# construct the engine and evaluate the parsed expression\u001b[39;00m\n\u001b[1;32m    356\u001b[0m eng \u001b[38;5;241m=\u001b[39m ENGINES[engine]\n",
      "File \u001b[0;32m~/anaconda3/envs/py38/lib/python3.8/site-packages/pandas/core/computation/expr.py:813\u001b[0m, in \u001b[0;36mExpr.__init__\u001b[0;34m(self, expr, engine, parser, env, level)\u001b[0m\n\u001b[1;32m    811\u001b[0m \u001b[38;5;28mself\u001b[39m\u001b[38;5;241m.\u001b[39mparser \u001b[38;5;241m=\u001b[39m parser\n\u001b[1;32m    812\u001b[0m \u001b[38;5;28mself\u001b[39m\u001b[38;5;241m.\u001b[39m_visitor \u001b[38;5;241m=\u001b[39m PARSERS[parser](\u001b[38;5;28mself\u001b[39m\u001b[38;5;241m.\u001b[39menv, \u001b[38;5;28mself\u001b[39m\u001b[38;5;241m.\u001b[39mengine, \u001b[38;5;28mself\u001b[39m\u001b[38;5;241m.\u001b[39mparser)\n\u001b[0;32m--> 813\u001b[0m \u001b[38;5;28mself\u001b[39m\u001b[38;5;241m.\u001b[39mterms \u001b[38;5;241m=\u001b[39m \u001b[38;5;28;43mself\u001b[39;49m\u001b[38;5;241;43m.\u001b[39;49m\u001b[43mparse\u001b[49m\u001b[43m(\u001b[49m\u001b[43m)\u001b[49m\n",
      "File \u001b[0;32m~/anaconda3/envs/py38/lib/python3.8/site-packages/pandas/core/computation/expr.py:832\u001b[0m, in \u001b[0;36mExpr.parse\u001b[0;34m(self)\u001b[0m\n\u001b[1;32m    828\u001b[0m \u001b[38;5;28;01mdef\u001b[39;00m \u001b[38;5;21mparse\u001b[39m(\u001b[38;5;28mself\u001b[39m):\n\u001b[1;32m    829\u001b[0m \u001b[38;5;250m    \u001b[39m\u001b[38;5;124;03m\"\"\"\u001b[39;00m\n\u001b[1;32m    830\u001b[0m \u001b[38;5;124;03m    Parse an expression.\u001b[39;00m\n\u001b[1;32m    831\u001b[0m \u001b[38;5;124;03m    \"\"\"\u001b[39;00m\n\u001b[0;32m--> 832\u001b[0m     \u001b[38;5;28;01mreturn\u001b[39;00m \u001b[38;5;28;43mself\u001b[39;49m\u001b[38;5;241;43m.\u001b[39;49m\u001b[43m_visitor\u001b[49m\u001b[38;5;241;43m.\u001b[39;49m\u001b[43mvisit\u001b[49m\u001b[43m(\u001b[49m\u001b[38;5;28;43mself\u001b[39;49m\u001b[38;5;241;43m.\u001b[39;49m\u001b[43mexpr\u001b[49m\u001b[43m)\u001b[49m\n",
      "File \u001b[0;32m~/anaconda3/envs/py38/lib/python3.8/site-packages/pandas/core/computation/expr.py:415\u001b[0m, in \u001b[0;36mBaseExprVisitor.visit\u001b[0;34m(self, node, **kwargs)\u001b[0m\n\u001b[1;32m    413\u001b[0m method \u001b[38;5;241m=\u001b[39m \u001b[38;5;124m\"\u001b[39m\u001b[38;5;124mvisit_\u001b[39m\u001b[38;5;124m\"\u001b[39m \u001b[38;5;241m+\u001b[39m \u001b[38;5;28mtype\u001b[39m(node)\u001b[38;5;241m.\u001b[39m\u001b[38;5;18m__name__\u001b[39m\n\u001b[1;32m    414\u001b[0m visitor \u001b[38;5;241m=\u001b[39m \u001b[38;5;28mgetattr\u001b[39m(\u001b[38;5;28mself\u001b[39m, method)\n\u001b[0;32m--> 415\u001b[0m \u001b[38;5;28;01mreturn\u001b[39;00m \u001b[43mvisitor\u001b[49m\u001b[43m(\u001b[49m\u001b[43mnode\u001b[49m\u001b[43m,\u001b[49m\u001b[43m \u001b[49m\u001b[38;5;241;43m*\u001b[39;49m\u001b[38;5;241;43m*\u001b[39;49m\u001b[43mkwargs\u001b[49m\u001b[43m)\u001b[49m\n",
      "File \u001b[0;32m~/anaconda3/envs/py38/lib/python3.8/site-packages/pandas/core/computation/expr.py:421\u001b[0m, in \u001b[0;36mBaseExprVisitor.visit_Module\u001b[0;34m(self, node, **kwargs)\u001b[0m\n\u001b[1;32m    419\u001b[0m     \u001b[38;5;28;01mraise\u001b[39;00m \u001b[38;5;167;01mSyntaxError\u001b[39;00m(\u001b[38;5;124m\"\u001b[39m\u001b[38;5;124monly a single expression is allowed\u001b[39m\u001b[38;5;124m\"\u001b[39m)\n\u001b[1;32m    420\u001b[0m expr \u001b[38;5;241m=\u001b[39m node\u001b[38;5;241m.\u001b[39mbody[\u001b[38;5;241m0\u001b[39m]\n\u001b[0;32m--> 421\u001b[0m \u001b[38;5;28;01mreturn\u001b[39;00m \u001b[38;5;28;43mself\u001b[39;49m\u001b[38;5;241;43m.\u001b[39;49m\u001b[43mvisit\u001b[49m\u001b[43m(\u001b[49m\u001b[43mexpr\u001b[49m\u001b[43m,\u001b[49m\u001b[43m \u001b[49m\u001b[38;5;241;43m*\u001b[39;49m\u001b[38;5;241;43m*\u001b[39;49m\u001b[43mkwargs\u001b[49m\u001b[43m)\u001b[49m\n",
      "File \u001b[0;32m~/anaconda3/envs/py38/lib/python3.8/site-packages/pandas/core/computation/expr.py:415\u001b[0m, in \u001b[0;36mBaseExprVisitor.visit\u001b[0;34m(self, node, **kwargs)\u001b[0m\n\u001b[1;32m    413\u001b[0m method \u001b[38;5;241m=\u001b[39m \u001b[38;5;124m\"\u001b[39m\u001b[38;5;124mvisit_\u001b[39m\u001b[38;5;124m\"\u001b[39m \u001b[38;5;241m+\u001b[39m \u001b[38;5;28mtype\u001b[39m(node)\u001b[38;5;241m.\u001b[39m\u001b[38;5;18m__name__\u001b[39m\n\u001b[1;32m    414\u001b[0m visitor \u001b[38;5;241m=\u001b[39m \u001b[38;5;28mgetattr\u001b[39m(\u001b[38;5;28mself\u001b[39m, method)\n\u001b[0;32m--> 415\u001b[0m \u001b[38;5;28;01mreturn\u001b[39;00m \u001b[43mvisitor\u001b[49m\u001b[43m(\u001b[49m\u001b[43mnode\u001b[49m\u001b[43m,\u001b[49m\u001b[43m \u001b[49m\u001b[38;5;241;43m*\u001b[39;49m\u001b[38;5;241;43m*\u001b[39;49m\u001b[43mkwargs\u001b[49m\u001b[43m)\u001b[49m\n",
      "File \u001b[0;32m~/anaconda3/envs/py38/lib/python3.8/site-packages/pandas/core/computation/expr.py:636\u001b[0m, in \u001b[0;36mBaseExprVisitor.visit_Assign\u001b[0;34m(self, node, **kwargs)\u001b[0m\n\u001b[1;32m    631\u001b[0m \u001b[38;5;28;01mif\u001b[39;00m \u001b[38;5;28mself\u001b[39m\u001b[38;5;241m.\u001b[39massigner \u001b[38;5;129;01mis\u001b[39;00m \u001b[38;5;28;01mNone\u001b[39;00m:\n\u001b[1;32m    632\u001b[0m     \u001b[38;5;28;01mraise\u001b[39;00m \u001b[38;5;167;01mSyntaxError\u001b[39;00m(\n\u001b[1;32m    633\u001b[0m         \u001b[38;5;124m\"\u001b[39m\u001b[38;5;124mleft hand side of an assignment must be a single resolvable name\u001b[39m\u001b[38;5;124m\"\u001b[39m\n\u001b[1;32m    634\u001b[0m     )\n\u001b[0;32m--> 636\u001b[0m \u001b[38;5;28;01mreturn\u001b[39;00m \u001b[38;5;28;43mself\u001b[39;49m\u001b[38;5;241;43m.\u001b[39;49m\u001b[43mvisit\u001b[49m\u001b[43m(\u001b[49m\u001b[43mnode\u001b[49m\u001b[38;5;241;43m.\u001b[39;49m\u001b[43mvalue\u001b[49m\u001b[43m,\u001b[49m\u001b[43m \u001b[49m\u001b[38;5;241;43m*\u001b[39;49m\u001b[38;5;241;43m*\u001b[39;49m\u001b[43mkwargs\u001b[49m\u001b[43m)\u001b[49m\n",
      "File \u001b[0;32m~/anaconda3/envs/py38/lib/python3.8/site-packages/pandas/core/computation/expr.py:415\u001b[0m, in \u001b[0;36mBaseExprVisitor.visit\u001b[0;34m(self, node, **kwargs)\u001b[0m\n\u001b[1;32m    413\u001b[0m method \u001b[38;5;241m=\u001b[39m \u001b[38;5;124m\"\u001b[39m\u001b[38;5;124mvisit_\u001b[39m\u001b[38;5;124m\"\u001b[39m \u001b[38;5;241m+\u001b[39m \u001b[38;5;28mtype\u001b[39m(node)\u001b[38;5;241m.\u001b[39m\u001b[38;5;18m__name__\u001b[39m\n\u001b[1;32m    414\u001b[0m visitor \u001b[38;5;241m=\u001b[39m \u001b[38;5;28mgetattr\u001b[39m(\u001b[38;5;28mself\u001b[39m, method)\n\u001b[0;32m--> 415\u001b[0m \u001b[38;5;28;01mreturn\u001b[39;00m \u001b[43mvisitor\u001b[49m\u001b[43m(\u001b[49m\u001b[43mnode\u001b[49m\u001b[43m,\u001b[49m\u001b[43m \u001b[49m\u001b[38;5;241;43m*\u001b[39;49m\u001b[38;5;241;43m*\u001b[39;49m\u001b[43mkwargs\u001b[49m\u001b[43m)\u001b[49m\n",
      "File \u001b[0;32m~/anaconda3/envs/py38/lib/python3.8/site-packages/pandas/core/computation/expr.py:670\u001b[0m, in \u001b[0;36mBaseExprVisitor.visit_Call\u001b[0;34m(self, node, side, **kwargs)\u001b[0m\n\u001b[1;32m    667\u001b[0m \u001b[38;5;28;01mexcept\u001b[39;00m UndefinedVariableError:\n\u001b[1;32m    668\u001b[0m     \u001b[38;5;66;03m# Check if this is a supported function name\u001b[39;00m\n\u001b[1;32m    669\u001b[0m     \u001b[38;5;28;01mtry\u001b[39;00m:\n\u001b[0;32m--> 670\u001b[0m         res \u001b[38;5;241m=\u001b[39m \u001b[43mFuncNode\u001b[49m\u001b[43m(\u001b[49m\u001b[43mnode\u001b[49m\u001b[38;5;241;43m.\u001b[39;49m\u001b[43mfunc\u001b[49m\u001b[38;5;241;43m.\u001b[39;49m\u001b[43mid\u001b[49m\u001b[43m)\u001b[49m\n\u001b[1;32m    671\u001b[0m     \u001b[38;5;28;01mexcept\u001b[39;00m \u001b[38;5;167;01mValueError\u001b[39;00m:\n\u001b[1;32m    672\u001b[0m         \u001b[38;5;66;03m# Raise original error\u001b[39;00m\n\u001b[1;32m    673\u001b[0m         \u001b[38;5;28;01mraise\u001b[39;00m\n",
      "File \u001b[0;32m~/anaconda3/envs/py38/lib/python3.8/site-packages/pandas/core/computation/ops.py:614\u001b[0m, in \u001b[0;36mFuncNode.__init__\u001b[0;34m(self, name)\u001b[0m\n\u001b[1;32m    612\u001b[0m \u001b[38;5;28;01mdef\u001b[39;00m \u001b[38;5;21m__init__\u001b[39m(\u001b[38;5;28mself\u001b[39m, name: \u001b[38;5;28mstr\u001b[39m) \u001b[38;5;241m-\u001b[39m\u001b[38;5;241m>\u001b[39m \u001b[38;5;28;01mNone\u001b[39;00m:\n\u001b[1;32m    613\u001b[0m     \u001b[38;5;28;01mif\u001b[39;00m name \u001b[38;5;129;01mnot\u001b[39;00m \u001b[38;5;129;01min\u001b[39;00m MATHOPS:\n\u001b[0;32m--> 614\u001b[0m         \u001b[38;5;28;01mraise\u001b[39;00m \u001b[38;5;167;01mValueError\u001b[39;00m(\u001b[38;5;124mf\u001b[39m\u001b[38;5;124m'\u001b[39m\u001b[38;5;124m\"\u001b[39m\u001b[38;5;132;01m{\u001b[39;00mname\u001b[38;5;132;01m}\u001b[39;00m\u001b[38;5;124m\"\u001b[39m\u001b[38;5;124m is not a supported function\u001b[39m\u001b[38;5;124m'\u001b[39m)\n\u001b[1;32m    615\u001b[0m     \u001b[38;5;28mself\u001b[39m\u001b[38;5;241m.\u001b[39mname \u001b[38;5;241m=\u001b[39m name\n\u001b[1;32m    616\u001b[0m     \u001b[38;5;28mself\u001b[39m\u001b[38;5;241m.\u001b[39mfunc \u001b[38;5;241m=\u001b[39m \u001b[38;5;28mgetattr\u001b[39m(np, name)\n",
      "\u001b[0;31mValueError\u001b[0m: \"tan\" is not a supported function"
     ]
    }
   ],
   "source": [
    "_df.eval('B=tan(A)').plot(y='B') # tan는 안되네?"
   ]
  },
  {
   "cell_type": "markdown",
   "id": "3eebcfa9-8672-4f19-8175-9e864f43597f",
   "metadata": {},
   "source": [
    "- 안정성이 떨어진다..."
   ]
  },
  {
   "cell_type": "markdown",
   "id": "5cf90a31-0a95-4e77-bff9-46a6e686a17f",
   "metadata": {},
   "source": [
    "`-` tan함수를 외부에 선언하는 방법이 있긴 함."
   ]
  },
  {
   "cell_type": "code",
   "execution_count": 72,
   "id": "19139d05-1d5b-462c-8ae6-17d13d63ed9d",
   "metadata": {
    "tags": []
   },
   "outputs": [
    {
     "data": {
      "text/plain": [
       "<AxesSubplot: >"
      ]
     },
     "execution_count": 72,
     "metadata": {},
     "output_type": "execute_result"
    },
    {
     "data": {
      "image/png": "[encoded data removed]",
      "text/plain": [
       "<Figure size 432x288 with 1 Axes>"
      ]
     },
     "metadata": {
      "needs_background": "light"
     },
     "output_type": "display_data"
    }
   ],
   "source": [
    "f = np.tan \n",
    "_df.eval('B=@f(A)').plot(y='B') # 그래서 이게 정석임.."
   ]
  },
  {
   "cell_type": "markdown",
   "id": "43f35690-d701-476a-9ae9-f5b3984c5025",
   "metadata": {},
   "source": [
    "- 이것보다는 assign이나 lambda를 쓰는 것을 추천한다."
   ]
  },
  {
   "cell_type": "markdown",
   "id": "ab1fb4f7-2d4d-4870-8e25-5e8b84b56b16",
   "metadata": {},
   "source": [
    "# 4. Pandas -- Multi-Index의 이해 "
   ]
  },
  {
   "cell_type": "markdown",
   "id": "8e005a3c-de10-4755-9e36-a0e6f3837b2a",
   "metadata": {},
   "source": [
    "## A. 원래 `df`, `s`는 딕셔너리 계열임 "
   ]
  },
  {
   "cell_type": "markdown",
   "id": "4a7b1f30-86c0-4592-a0dd-cc95e15d9d37",
   "metadata": {},
   "source": [
    "`-` 예시1: df는 dct에서 만들수 있음"
   ]
  },
  {
   "cell_type": "code",
   "execution_count": 76,
   "id": "ae81e456-dcf0-4d1d-adf7-ea72df657b1c",
   "metadata": {
    "tags": []
   },
   "outputs": [
    {
     "data": {
      "text/html": [
       "<div>\n",
       "<style scoped>\n",
       "    .dataframe tbody tr th:only-of-type {\n",
       "        vertical-align: middle;\n",
       "    }\n",
       "\n",
       "    .dataframe tbody tr th {\n",
       "        vertical-align: top;\n",
       "    }\n",
       "\n",
       "    .dataframe thead th {\n",
       "        text-align: right;\n",
       "    }\n",
       "</style>\n",
       "<table border=\"1\" class=\"dataframe\">\n",
       "  <thead>\n",
       "    <tr style=\"text-align: right;\">\n",
       "      <th></th>\n",
       "      <th>A</th>\n",
       "      <th>B</th>\n",
       "    </tr>\n",
       "  </thead>\n",
       "  <tbody>\n",
       "    <tr>\n",
       "      <th>0</th>\n",
       "      <td>1</td>\n",
       "      <td>2</td>\n",
       "    </tr>\n",
       "    <tr>\n",
       "      <th>1</th>\n",
       "      <td>2</td>\n",
       "      <td>3</td>\n",
       "    </tr>\n",
       "    <tr>\n",
       "      <th>2</th>\n",
       "      <td>3</td>\n",
       "      <td>4</td>\n",
       "    </tr>\n",
       "  </tbody>\n",
       "</table>\n",
       "</div>"
      ],
      "text/plain": [
       "   A  B\n",
       "0  1  2\n",
       "1  2  3\n",
       "2  3  4"
      ]
     },
     "execution_count": 76,
     "metadata": {},
     "output_type": "execute_result"
    }
   ],
   "source": [
    "dct = {'A': [1,2,3],'B': [2,3,4]}  # 딕셔너리\n",
    "df = pd.DataFrame(dct) # 데이터프레임으로 변신\n",
    "df"
   ]
  },
  {
   "cell_type": "markdown",
   "id": "097f2ef4-2e12-4b45-8654-add677d36eb7",
   "metadata": {},
   "source": [
    "- 사실 판다스 데이터프레임이 딕셔너리로부터 나온거야... 이걸 알면 편함."
   ]
  },
  {
   "cell_type": "code",
   "execution_count": 79,
   "id": "1c406664-ab48-4eb0-a769-cab0a8490666",
   "metadata": {
    "tags": []
   },
   "outputs": [
    {
     "data": {
      "text/plain": [
       "0    1\n",
       "1    2\n",
       "2    3\n",
       "Name: A, dtype: int64"
      ]
     },
     "execution_count": 79,
     "metadata": {},
     "output_type": "execute_result"
    }
   ],
   "source": [
    "df['A'] # 딕셔너리에서 key로 value에 접근하듯이..."
   ]
  },
  {
   "cell_type": "markdown",
   "id": "96d2d3b2-651b-4fe8-8a84-34b0a3ffdaf9",
   "metadata": {},
   "source": [
    "`-` 예시2: s도 dct에서 만들수 있음"
   ]
  },
  {
   "cell_type": "code",
   "execution_count": 80,
   "id": "ada99f8e-75f2-404a-92d1-d58e939d77e9",
   "metadata": {
    "tags": []
   },
   "outputs": [
    {
     "data": {
      "text/plain": [
       "43052    80\n",
       "43053    90\n",
       "43054    50\n",
       "dtype: int64"
      ]
     },
     "execution_count": 80,
     "metadata": {},
     "output_type": "execute_result"
    }
   ],
   "source": [
    "dct = {'43052': 80, '43053': 90, '43054': 50}\n",
    "s = pd.Series(dct)\n",
    "s"
   ]
  },
  {
   "cell_type": "code",
   "execution_count": 81,
   "id": "739eca30-40db-40a7-976c-f34db610db46",
   "metadata": {
    "tags": []
   },
   "outputs": [
    {
     "data": {
      "text/plain": [
       "80"
      ]
     },
     "execution_count": 81,
     "metadata": {},
     "output_type": "execute_result"
    }
   ],
   "source": [
    "s['43052']"
   ]
  },
  {
   "cell_type": "markdown",
   "id": "be8e0216-1dce-4512-9284-a2d87accbc00",
   "metadata": {},
   "source": [
    "`-` 예시3: dict의 키로 올수 있는것들? "
   ]
  },
  {
   "cell_type": "markdown",
   "id": "7d27b578-b70d-4b07-8de7-1c7786a4b009",
   "metadata": {},
   "source": [
    "- ref: <https://guebin.github.io/PP2023/posts/01_PythonBasic/2023-03-29-4wk-2.html>"
   ]
  },
  {
   "cell_type": "markdown",
   "id": "29f2dd85-43e1-41a8-a8b9-cffe7d420b32",
   "metadata": {},
   "source": [
    "튜플로 dct를 만든다면? (key가 튜플로 옴)"
   ]
  },
  {
   "cell_type": "code",
   "execution_count": 82,
   "id": "5160cd03-1e71-418f-8856-9edacf2b56ea",
   "metadata": {
    "tags": []
   },
   "outputs": [
    {
     "data": {
      "text/plain": [
       "43052  4    80\n",
       "43053  1    90\n",
       "43054  2    50\n",
       "dtype: int64"
      ]
     },
     "execution_count": 82,
     "metadata": {},
     "output_type": "execute_result"
    }
   ],
   "source": [
    "dct = {('43052',4): 80, ('43053',1): 90, ('43054',2): 50} # (학번,학년)\n",
    "s = pd.Series(dct)\n",
    "s"
   ]
  },
  {
   "cell_type": "code",
   "execution_count": 87,
   "id": "e190fc4b-8eb8-4c66-a1bf-f95b588e80c1",
   "metadata": {},
   "outputs": [
    {
     "data": {
      "text/plain": [
       "{('43052', 4): 80, ('43053', 1): 90, ('43054', 2): 50}"
      ]
     },
     "execution_count": 87,
     "metadata": {},
     "output_type": "execute_result"
    }
   ],
   "source": [
    "dct"
   ]
  },
  {
   "cell_type": "code",
   "execution_count": 88,
   "id": "25239cd3-fca8-43ad-9f23-1bacc8a3dc86",
   "metadata": {
    "tags": []
   },
   "outputs": [
    {
     "data": {
      "text/plain": [
       "80"
      ]
     },
     "execution_count": 88,
     "metadata": {},
     "output_type": "execute_result"
    }
   ],
   "source": [
    "# dict\n",
    "dct[('43052',4)]"
   ]
  },
  {
   "cell_type": "code",
   "execution_count": 90,
   "id": "7cbc5d1e-065e-465b-a264-1dfc606c76ac",
   "metadata": {
    "tags": []
   },
   "outputs": [
    {
     "data": {
      "text/plain": [
       "80"
      ]
     },
     "execution_count": 90,
     "metadata": {},
     "output_type": "execute_result"
    }
   ],
   "source": [
    "# series\n",
    "s[('43052',4)]"
   ]
  },
  {
   "cell_type": "code",
   "execution_count": 96,
   "id": "a636c68c-c7a8-4805-8727-3a5d80cccd3e",
   "metadata": {},
   "outputs": [
    {
     "data": {
      "text/plain": [
       "90"
      ]
     },
     "execution_count": 96,
     "metadata": {},
     "output_type": "execute_result"
    }
   ],
   "source": [
    "# series\n",
    "s[('43053',1)]"
   ]
  },
  {
   "cell_type": "code",
   "execution_count": 97,
   "id": "7a17c526-b035-4ad6-a6c8-200437ca3ef4",
   "metadata": {
    "tags": []
   },
   "outputs": [
    {
     "data": {
      "text/plain": [
       "MultiIndex([('43052', 4),\n",
       "            ('43053', 1),\n",
       "            ('43054', 2)],\n",
       "           )"
      ]
     },
     "execution_count": 97,
     "metadata": {},
     "output_type": "execute_result"
    }
   ],
   "source": [
    "s.index"
   ]
  },
  {
   "cell_type": "markdown",
   "id": "5d5e7e36-1182-4f2b-a8ff-e50e1a3cb81a",
   "metadata": {},
   "source": [
    "## B. `.index` 혹은 `.columns`에 `name`이 있는 경우 "
   ]
  },
  {
   "cell_type": "markdown",
   "id": "d183b81c-1a19-4df0-b4ee-0caab7fac45e",
   "metadata": {},
   "source": [
    "`예시1`: index에 이름이 있는 경우 `['id']`"
   ]
  },
  {
   "cell_type": "code",
   "execution_count": 99,
   "id": "cd72c7ac-7a3b-4409-954b-14f774063cba",
   "metadata": {
    "tags": []
   },
   "outputs": [
    {
     "data": {
      "text/plain": [
       "43052    80\n",
       "43053    90\n",
       "43054    50\n",
       "dtype: int64"
      ]
     },
     "execution_count": 99,
     "metadata": {},
     "output_type": "execute_result"
    }
   ],
   "source": [
    "dct = {'43052': 80, '43053': 90, '43054': 50}\n",
    "s = pd.Series(dct)\n",
    "s"
   ]
  },
  {
   "cell_type": "code",
   "execution_count": 100,
   "id": "3378e8a3-7e1e-45a4-8b35-7ff0a38ab050",
   "metadata": {
    "tags": []
   },
   "outputs": [
    {
     "data": {
      "text/plain": [
       "id\n",
       "43052    80\n",
       "43053    90\n",
       "43054    50\n",
       "dtype: int64"
      ]
     },
     "execution_count": 100,
     "metadata": {},
     "output_type": "execute_result"
    }
   ],
   "source": [
    "s.rename_axis(['id'])"
   ]
  },
  {
   "cell_type": "code",
   "execution_count": 101,
   "id": "e28759eb-ad44-48fa-bbe4-bdf3d9590e0d",
   "metadata": {
    "tags": []
   },
   "outputs": [
    {
     "data": {
      "text/plain": [
       "(Index(['43052', '43053', '43054'], dtype='object'),\n",
       " Index(['43052', '43053', '43054'], dtype='object', name='id'))"
      ]
     },
     "execution_count": 101,
     "metadata": {},
     "output_type": "execute_result"
    }
   ],
   "source": [
    "s.index, s.rename_axis(['id']).index,"
   ]
  },
  {
   "cell_type": "code",
   "execution_count": 102,
   "id": "373a9ecc-17ce-4dee-a42f-0e8b4c21b51a",
   "metadata": {},
   "outputs": [
    {
     "data": {
      "text/plain": [
       "Index(['43052', '43053', '43054'], dtype='object')"
      ]
     },
     "execution_count": 102,
     "metadata": {},
     "output_type": "execute_result"
    }
   ],
   "source": [
    "s.index"
   ]
  },
  {
   "cell_type": "code",
   "execution_count": 103,
   "id": "6af98ace-99d3-424d-bc1c-836ac25ba0d7",
   "metadata": {},
   "outputs": [
    {
     "data": {
      "text/plain": [
       "Index(['43052', '43053', '43054'], dtype='object', name='id')"
      ]
     },
     "execution_count": 103,
     "metadata": {},
     "output_type": "execute_result"
    }
   ],
   "source": [
    "s.rename_axis(['id']).index"
   ]
  },
  {
   "cell_type": "markdown",
   "id": "ccba5ff5-f402-470f-8c0f-f7297d2dba98",
   "metadata": {},
   "source": [
    "- 인덱스를 뽑을 때 인덱스를 통칭하는 타이틀을 설정할 수도 있다. (ex.  name='id')"
   ]
  },
  {
   "cell_type": "markdown",
   "id": "ad1dea30-ac74-4f80-a6f1-664fe30c988b",
   "metadata": {
    "tags": []
   },
   "source": [
    "`#`"
   ]
  },
  {
   "cell_type": "markdown",
   "id": "69bc0523-dae0-4009-a5f6-9f212f10f80d",
   "metadata": {},
   "source": [
    "`예시2`: index에 이름이 있는 경우 `['id','year']`"
   ]
  },
  {
   "cell_type": "code",
   "execution_count": 104,
   "id": "48fd2092-c764-4b01-aa94-25b83dc0acb1",
   "metadata": {
    "tags": []
   },
   "outputs": [
    {
     "data": {
      "text/plain": [
       "id     year\n",
       "43052  4       80\n",
       "43053  1       90\n",
       "43054  2       50\n",
       "dtype: int64"
      ]
     },
     "execution_count": 104,
     "metadata": {},
     "output_type": "execute_result"
    }
   ],
   "source": [
    "dct = {('43052',4): 80, ('43053',1): 90, ('43054',2): 50} # (학번,학년)\n",
    "s = pd.Series(dct)\n",
    "s.rename_axis(['id','year'])"
   ]
  },
  {
   "cell_type": "code",
   "execution_count": 106,
   "id": "345ca93e-8d51-4acc-b0c7-fa09d2cb67c3",
   "metadata": {
    "tags": []
   },
   "outputs": [
    {
     "data": {
      "text/plain": [
       "MultiIndex([('43052', 4),\n",
       "            ('43053', 1),\n",
       "            ('43054', 2)],\n",
       "           names=['id', 'year'])"
      ]
     },
     "execution_count": 106,
     "metadata": {},
     "output_type": "execute_result"
    }
   ],
   "source": [
    "s.rename_axis(['id','year']).index # 리스트형태로 인덱스의 타이틀이 설정되어 있다."
   ]
  },
  {
   "cell_type": "markdown",
   "id": "7ed16302-199b-49fc-a977-7c8e26bedafa",
   "metadata": {},
   "source": [
    "`#`"
   ]
  },
  {
   "cell_type": "markdown",
   "id": "a42d210f-2108-4d86-9818-4d40aa9912e5",
   "metadata": {},
   "source": [
    "`예시3`: 예시2가 데이터프레임이라면 이렇게 보인다"
   ]
  },
  {
   "cell_type": "code",
   "execution_count": 107,
   "id": "77302d04-2dc7-4a1d-85d5-b96d8554879a",
   "metadata": {
    "tags": []
   },
   "outputs": [
    {
     "data": {
      "text/html": [
       "<div>\n",
       "<style scoped>\n",
       "    .dataframe tbody tr th:only-of-type {\n",
       "        vertical-align: middle;\n",
       "    }\n",
       "\n",
       "    .dataframe tbody tr th {\n",
       "        vertical-align: top;\n",
       "    }\n",
       "\n",
       "    .dataframe thead th {\n",
       "        text-align: right;\n",
       "    }\n",
       "</style>\n",
       "<table border=\"1\" class=\"dataframe\">\n",
       "  <thead>\n",
       "    <tr style=\"text-align: right;\">\n",
       "      <th></th>\n",
       "      <th></th>\n",
       "      <th>0</th>\n",
       "    </tr>\n",
       "    <tr>\n",
       "      <th>id</th>\n",
       "      <th>year</th>\n",
       "      <th></th>\n",
       "    </tr>\n",
       "  </thead>\n",
       "  <tbody>\n",
       "    <tr>\n",
       "      <th>43052</th>\n",
       "      <th>4</th>\n",
       "      <td>80</td>\n",
       "    </tr>\n",
       "    <tr>\n",
       "      <th>43053</th>\n",
       "      <th>1</th>\n",
       "      <td>90</td>\n",
       "    </tr>\n",
       "    <tr>\n",
       "      <th>43054</th>\n",
       "      <th>2</th>\n",
       "      <td>50</td>\n",
       "    </tr>\n",
       "  </tbody>\n",
       "</table>\n",
       "</div>"
      ],
      "text/plain": [
       "             0\n",
       "id    year    \n",
       "43052 4     80\n",
       "43053 1     90\n",
       "43054 2     50"
      ]
     },
     "execution_count": 107,
     "metadata": {},
     "output_type": "execute_result"
    }
   ],
   "source": [
    "dct = {('43052',4): 80, ('43053',1): 90, ('43054',2): 50} # (학번,학년)\n",
    "s = pd.Series(dct)\n",
    "df = pd.DataFrame(s.rename_axis(['id','year']))\n",
    "df"
   ]
  },
  {
   "cell_type": "code",
   "execution_count": 112,
   "id": "0ba55bfe-fc19-4c91-ae66-aaf477845b5e",
   "metadata": {
    "tags": []
   },
   "outputs": [
    {
     "data": {
      "text/plain": [
       "[0]"
      ]
     },
     "execution_count": 112,
     "metadata": {},
     "output_type": "execute_result"
    }
   ],
   "source": [
    "list(df.columns)  # column name"
   ]
  },
  {
   "cell_type": "code",
   "execution_count": 114,
   "id": "22a95cbc-4a99-4a37-8e0b-44af295825c4",
   "metadata": {
    "tags": []
   },
   "outputs": [
    {
     "data": {
      "text/plain": [
       "MultiIndex([('43052', 4),\n",
       "            ('43053', 1),\n",
       "            ('43054', 2)],\n",
       "           names=['id', 'year'])"
      ]
     },
     "execution_count": 114,
     "metadata": {},
     "output_type": "execute_result"
    }
   ],
   "source": [
    "df.index # row에 대한 각각 인덱스 값, 각 인덱스의 이름."
   ]
  },
  {
   "cell_type": "markdown",
   "id": "d41a9a76-a92f-4e6f-abab-fc23ac3cb375",
   "metadata": {},
   "source": [
    "- 2개의 중첩되어있는 인덱스를 가지고 있구나!"
   ]
  },
  {
   "cell_type": "code",
   "execution_count": 118,
   "id": "852be6e6-4b0c-426e-bed0-b9abaf01d961",
   "metadata": {},
   "outputs": [
    {
     "data": {
      "text/html": [
       "<div>\n",
       "<style scoped>\n",
       "    .dataframe tbody tr th:only-of-type {\n",
       "        vertical-align: middle;\n",
       "    }\n",
       "\n",
       "    .dataframe tbody tr th {\n",
       "        vertical-align: top;\n",
       "    }\n",
       "\n",
       "    .dataframe thead th {\n",
       "        text-align: right;\n",
       "    }\n",
       "</style>\n",
       "<table border=\"1\" class=\"dataframe\">\n",
       "  <thead>\n",
       "    <tr style=\"text-align: right;\">\n",
       "      <th></th>\n",
       "      <th></th>\n",
       "      <th>0</th>\n",
       "    </tr>\n",
       "  </thead>\n",
       "  <tbody>\n",
       "    <tr>\n",
       "      <th>43052</th>\n",
       "      <th>4</th>\n",
       "      <td>80</td>\n",
       "    </tr>\n",
       "    <tr>\n",
       "      <th>43053</th>\n",
       "      <th>1</th>\n",
       "      <td>90</td>\n",
       "    </tr>\n",
       "    <tr>\n",
       "      <th>43054</th>\n",
       "      <th>2</th>\n",
       "      <td>50</td>\n",
       "    </tr>\n",
       "  </tbody>\n",
       "</table>\n",
       "</div>"
      ],
      "text/plain": [
       "          0\n",
       "43052 4  80\n",
       "43053 1  90\n",
       "43054 2  50"
      ]
     },
     "execution_count": 118,
     "metadata": {},
     "output_type": "execute_result"
    }
   ],
   "source": [
    "pd.DataFrame(s) # 볼드체는 인덱스, 인덱스의 타이틀은 없는 상태, 컬럼이름은 0"
   ]
  },
  {
   "cell_type": "markdown",
   "id": "2e39c172-fda9-4336-af56-dfa6aec70bd3",
   "metadata": {},
   "source": [
    "`#`"
   ]
  },
  {
   "cell_type": "markdown",
   "id": "fcda5b6b-d47e-418a-995c-975376d941c2",
   "metadata": {
    "tags": []
   },
   "source": [
    "`예시4`: 심슨의 역설 -- 전체"
   ]
  },
  {
   "cell_type": "code",
   "execution_count": 119,
   "id": "14c7f48e-08da-4df1-8697-db81dd2cb3bc",
   "metadata": {
    "tags": []
   },
   "outputs": [
    {
     "data": {
      "text/html": [
       "<div>\n",
       "<style scoped>\n",
       "    .dataframe tbody tr th:only-of-type {\n",
       "        vertical-align: middle;\n",
       "    }\n",
       "\n",
       "    .dataframe tbody tr th {\n",
       "        vertical-align: top;\n",
       "    }\n",
       "\n",
       "    .dataframe thead th {\n",
       "        text-align: right;\n",
       "    }\n",
       "</style>\n",
       "<table border=\"1\" class=\"dataframe\">\n",
       "  <thead>\n",
       "    <tr style=\"text-align: right;\">\n",
       "      <th>result</th>\n",
       "      <th>fail</th>\n",
       "      <th>pass</th>\n",
       "    </tr>\n",
       "    <tr>\n",
       "      <th>gender</th>\n",
       "      <th></th>\n",
       "      <th></th>\n",
       "    </tr>\n",
       "  </thead>\n",
       "  <tbody>\n",
       "    <tr>\n",
       "      <th>female</th>\n",
       "      <td>1063</td>\n",
       "      <td>772</td>\n",
       "    </tr>\n",
       "    <tr>\n",
       "      <th>male</th>\n",
       "      <td>1291</td>\n",
       "      <td>1400</td>\n",
       "    </tr>\n",
       "  </tbody>\n",
       "</table>\n",
       "</div>"
      ],
      "text/plain": [
       "result  fail  pass\n",
       "gender            \n",
       "female  1063   772\n",
       "male    1291  1400"
      ]
     },
     "execution_count": 119,
     "metadata": {},
     "output_type": "execute_result"
    }
   ],
   "source": [
    "df=pd.read_csv(\"https://raw.githubusercontent.com/guebin/DV2022/master/posts/Simpson.csv\",index_col=0,header=[0,1])\\\n",
    ".stack().stack().reset_index()\\\n",
    ".rename({'level_0':'department','level_1':'result','level_2':'gender',0:'count'},axis=1).pivot_table(index='gender', columns='result', values='count', aggfunc=sum)\n",
    "df"
   ]
  },
  {
   "cell_type": "markdown",
   "id": "a40db2bb-4a04-4fb8-a26d-fc288ed9b025",
   "metadata": {},
   "source": [
    "- female, male은 인덱스, gender는 인덱스의 타이틀, fail, pass는 컬럼이름. result는 컬럼 이름에 대한 타이틀."
   ]
  },
  {
   "cell_type": "code",
   "execution_count": 120,
   "id": "681d0f2d-511d-410e-a3d4-e9fcfa5b9ec8",
   "metadata": {
    "tags": []
   },
   "outputs": [
    {
     "data": {
      "text/plain": [
       "(Index(['female', 'male'], dtype='object', name='gender'),\n",
       " Index(['fail', 'pass'], dtype='object', name='result'))"
      ]
     },
     "execution_count": 120,
     "metadata": {},
     "output_type": "execute_result"
    }
   ],
   "source": [
    "df.index,df.columns"
   ]
  },
  {
   "cell_type": "markdown",
   "id": "8725b86c-f5fe-45f2-bb7e-dfe627ebcf58",
   "metadata": {},
   "source": [
    "1열과 2열을 더하고 싶다면? 단순히 아래와 같이 하면 된다. (여기에서 `gender`,`result`는 각각 index 의 이름, columns의 이름일 뿐이므로 신경쓸 필요 없음)"
   ]
  },
  {
   "cell_type": "code",
   "execution_count": 121,
   "id": "70915cc4-66f7-482f-a15a-3b26054c740e",
   "metadata": {
    "tags": []
   },
   "outputs": [
    {
     "data": {
      "text/plain": [
       "gender\n",
       "female    1835\n",
       "male      2691\n",
       "dtype: int64"
      ]
     },
     "execution_count": 121,
     "metadata": {},
     "output_type": "execute_result"
    }
   ],
   "source": [
    "df['fail']+df['pass']"
   ]
  },
  {
   "cell_type": "code",
   "execution_count": 123,
   "id": "9357fcdf-de15-4608-b2f1-3fdf5a3b6661",
   "metadata": {},
   "outputs": [
    {
     "data": {
      "text/plain": [
       "gender\n",
       "female    1835\n",
       "male      2691\n",
       "dtype: int64"
      ]
     },
     "execution_count": 123,
     "metadata": {},
     "output_type": "execute_result"
    }
   ],
   "source": [
    "df.sum(axis=1)"
   ]
  },
  {
   "cell_type": "code",
   "execution_count": 124,
   "id": "512e4010-e082-4076-ade3-6173c2503903",
   "metadata": {},
   "outputs": [
    {
     "data": {
      "text/html": [
       "<div>\n",
       "<style scoped>\n",
       "    .dataframe tbody tr th:only-of-type {\n",
       "        vertical-align: middle;\n",
       "    }\n",
       "\n",
       "    .dataframe tbody tr th {\n",
       "        vertical-align: top;\n",
       "    }\n",
       "\n",
       "    .dataframe thead th {\n",
       "        text-align: right;\n",
       "    }\n",
       "</style>\n",
       "<table border=\"1\" class=\"dataframe\">\n",
       "  <thead>\n",
       "    <tr style=\"text-align: right;\">\n",
       "      <th>result</th>\n",
       "      <th>fail</th>\n",
       "      <th>pass</th>\n",
       "    </tr>\n",
       "    <tr>\n",
       "      <th>gender</th>\n",
       "      <th></th>\n",
       "      <th></th>\n",
       "    </tr>\n",
       "  </thead>\n",
       "  <tbody>\n",
       "    <tr>\n",
       "      <th>female</th>\n",
       "      <td>1063</td>\n",
       "      <td>772</td>\n",
       "    </tr>\n",
       "    <tr>\n",
       "      <th>male</th>\n",
       "      <td>1291</td>\n",
       "      <td>1400</td>\n",
       "    </tr>\n",
       "  </tbody>\n",
       "</table>\n",
       "</div>"
      ],
      "text/plain": [
       "result  fail  pass\n",
       "gender            \n",
       "female  1063   772\n",
       "male    1291  1400"
      ]
     },
     "execution_count": 124,
     "metadata": {},
     "output_type": "execute_result"
    }
   ],
   "source": [
    "df"
   ]
  },
  {
   "cell_type": "code",
   "execution_count": 126,
   "id": "fa5b7cba-9b09-4563-b6a3-6071b7cdfff6",
   "metadata": {},
   "outputs": [
    {
     "data": {
      "text/html": [
       "<div>\n",
       "<style scoped>\n",
       "    .dataframe tbody tr th:only-of-type {\n",
       "        vertical-align: middle;\n",
       "    }\n",
       "\n",
       "    .dataframe tbody tr th {\n",
       "        vertical-align: top;\n",
       "    }\n",
       "\n",
       "    .dataframe thead th {\n",
       "        text-align: right;\n",
       "    }\n",
       "</style>\n",
       "<table border=\"1\" class=\"dataframe\">\n",
       "  <thead>\n",
       "    <tr style=\"text-align: right;\">\n",
       "      <th></th>\n",
       "      <th>fail</th>\n",
       "      <th>pass</th>\n",
       "    </tr>\n",
       "  </thead>\n",
       "  <tbody>\n",
       "    <tr>\n",
       "      <th>0</th>\n",
       "      <td>1063</td>\n",
       "      <td>772</td>\n",
       "    </tr>\n",
       "    <tr>\n",
       "      <th>1</th>\n",
       "      <td>1291</td>\n",
       "      <td>1400</td>\n",
       "    </tr>\n",
       "  </tbody>\n",
       "</table>\n",
       "</div>"
      ],
      "text/plain": [
       "   fail  pass\n",
       "0  1063   772\n",
       "1  1291  1400"
      ]
     },
     "execution_count": 126,
     "metadata": {},
     "output_type": "execute_result"
    }
   ],
   "source": [
    "pd.DataFrame({'fail':[1063, 1291 ], 'pass':[772, 1400]})"
   ]
  },
  {
   "cell_type": "markdown",
   "id": "dce0ae62-3499-4963-a728-8a60d8641e88",
   "metadata": {},
   "source": [
    "- 그냥 이거임."
   ]
  },
  {
   "cell_type": "markdown",
   "id": "3f7b3a34-74f7-4d55-aba7-1b6eccc6caea",
   "metadata": {},
   "source": [
    "`#`"
   ]
  },
  {
   "cell_type": "markdown",
   "id": "c67632fa-81c1-4e51-8a76-d8ad27c03e13",
   "metadata": {
    "tags": []
   },
   "source": [
    "`예시5`: 심슨의 역설 -- 학과별"
   ]
  },
  {
   "cell_type": "code",
   "execution_count": 127,
   "id": "73a37fa6-083e-433c-943d-909d4e26f75c",
   "metadata": {
    "tags": []
   },
   "outputs": [
    {
     "data": {
      "text/html": [
       "<div>\n",
       "<style scoped>\n",
       "    .dataframe tbody tr th:only-of-type {\n",
       "        vertical-align: middle;\n",
       "    }\n",
       "\n",
       "    .dataframe tbody tr th {\n",
       "        vertical-align: top;\n",
       "    }\n",
       "\n",
       "    .dataframe thead th {\n",
       "        text-align: right;\n",
       "    }\n",
       "</style>\n",
       "<table border=\"1\" class=\"dataframe\">\n",
       "  <thead>\n",
       "    <tr style=\"text-align: right;\">\n",
       "      <th></th>\n",
       "      <th>result</th>\n",
       "      <th>fail</th>\n",
       "      <th>pass</th>\n",
       "    </tr>\n",
       "    <tr>\n",
       "      <th>gender</th>\n",
       "      <th>department</th>\n",
       "      <th></th>\n",
       "      <th></th>\n",
       "    </tr>\n",
       "  </thead>\n",
       "  <tbody>\n",
       "    <tr>\n",
       "      <th rowspan=\"6\" valign=\"top\">female</th>\n",
       "      <th>A</th>\n",
       "      <td>19</td>\n",
       "      <td>89</td>\n",
       "    </tr>\n",
       "    <tr>\n",
       "      <th>B</th>\n",
       "      <td>7</td>\n",
       "      <td>18</td>\n",
       "    </tr>\n",
       "    <tr>\n",
       "      <th>C</th>\n",
       "      <td>391</td>\n",
       "      <td>202</td>\n",
       "    </tr>\n",
       "    <tr>\n",
       "      <th>D</th>\n",
       "      <td>244</td>\n",
       "      <td>131</td>\n",
       "    </tr>\n",
       "    <tr>\n",
       "      <th>E</th>\n",
       "      <td>299</td>\n",
       "      <td>94</td>\n",
       "    </tr>\n",
       "    <tr>\n",
       "      <th>F</th>\n",
       "      <td>103</td>\n",
       "      <td>238</td>\n",
       "    </tr>\n",
       "    <tr>\n",
       "      <th rowspan=\"6\" valign=\"top\">male</th>\n",
       "      <th>A</th>\n",
       "      <td>314</td>\n",
       "      <td>511</td>\n",
       "    </tr>\n",
       "    <tr>\n",
       "      <th>B</th>\n",
       "      <td>208</td>\n",
       "      <td>352</td>\n",
       "    </tr>\n",
       "    <tr>\n",
       "      <th>C</th>\n",
       "      <td>204</td>\n",
       "      <td>121</td>\n",
       "    </tr>\n",
       "    <tr>\n",
       "      <th>D</th>\n",
       "      <td>279</td>\n",
       "      <td>138</td>\n",
       "    </tr>\n",
       "    <tr>\n",
       "      <th>E</th>\n",
       "      <td>137</td>\n",
       "      <td>54</td>\n",
       "    </tr>\n",
       "    <tr>\n",
       "      <th>F</th>\n",
       "      <td>149</td>\n",
       "      <td>224</td>\n",
       "    </tr>\n",
       "  </tbody>\n",
       "</table>\n",
       "</div>"
      ],
      "text/plain": [
       "result             fail  pass\n",
       "gender department            \n",
       "female A             19    89\n",
       "       B              7    18\n",
       "       C            391   202\n",
       "       D            244   131\n",
       "       E            299    94\n",
       "       F            103   238\n",
       "male   A            314   511\n",
       "       B            208   352\n",
       "       C            204   121\n",
       "       D            279   138\n",
       "       E            137    54\n",
       "       F            149   224"
      ]
     },
     "execution_count": 127,
     "metadata": {},
     "output_type": "execute_result"
    }
   ],
   "source": [
    "df = pd.read_csv(\"https://raw.githubusercontent.com/guebin/DV2022/master/posts/Simpson.csv\",index_col=0,header=[0,1])\\\n",
    ".stack().stack().reset_index()\\\n",
    ".rename({'level_0':'department','level_1':'result','level_2':'gender',0:'count'},axis=1).pivot_table(index=['gender','department'], columns='result',values='count',aggfunc=sum)\n",
    "df "
   ]
  },
  {
   "cell_type": "code",
   "execution_count": 128,
   "id": "7f45aa97-3898-463e-a1f1-cfaf35d0ff26",
   "metadata": {
    "tags": []
   },
   "outputs": [
    {
     "data": {
      "text/plain": [
       "(MultiIndex([('female', 'A'),\n",
       "             ('female', 'B'),\n",
       "             ('female', 'C'),\n",
       "             ('female', 'D'),\n",
       "             ('female', 'E'),\n",
       "             ('female', 'F'),\n",
       "             (  'male', 'A'),\n",
       "             (  'male', 'B'),\n",
       "             (  'male', 'C'),\n",
       "             (  'male', 'D'),\n",
       "             (  'male', 'E'),\n",
       "             (  'male', 'F')],\n",
       "            names=['gender', 'department']),\n",
       " Index(['fail', 'pass'], dtype='object', name='result'))"
      ]
     },
     "execution_count": 128,
     "metadata": {},
     "output_type": "execute_result"
    }
   ],
   "source": [
    "df.index, df.columns"
   ]
  },
  {
   "cell_type": "markdown",
   "id": "a7ddc4da-69bf-49fe-a6cd-3a5d4cb0dd84",
   "metadata": {},
   "source": [
    "학과별 합격률을 알고 싶다면? "
   ]
  },
  {
   "cell_type": "code",
   "execution_count": 132,
   "id": "b5788946-512c-4a8c-af29-e05b908a7eb3",
   "metadata": {
    "tags": []
   },
   "outputs": [
    {
     "data": {
      "text/html": [
       "<div>\n",
       "<style scoped>\n",
       "    .dataframe tbody tr th:only-of-type {\n",
       "        vertical-align: middle;\n",
       "    }\n",
       "\n",
       "    .dataframe tbody tr th {\n",
       "        vertical-align: top;\n",
       "    }\n",
       "\n",
       "    .dataframe thead th {\n",
       "        text-align: right;\n",
       "    }\n",
       "</style>\n",
       "<table border=\"1\" class=\"dataframe\">\n",
       "  <thead>\n",
       "    <tr style=\"text-align: right;\">\n",
       "      <th></th>\n",
       "      <th>result</th>\n",
       "      <th>fail</th>\n",
       "      <th>pass</th>\n",
       "      <th>rate</th>\n",
       "    </tr>\n",
       "    <tr>\n",
       "      <th>gender</th>\n",
       "      <th>department</th>\n",
       "      <th></th>\n",
       "      <th></th>\n",
       "      <th></th>\n",
       "    </tr>\n",
       "  </thead>\n",
       "  <tbody>\n",
       "    <tr>\n",
       "      <th rowspan=\"6\" valign=\"top\">female</th>\n",
       "      <th>A</th>\n",
       "      <td>19</td>\n",
       "      <td>89</td>\n",
       "      <td>0.824074</td>\n",
       "    </tr>\n",
       "    <tr>\n",
       "      <th>B</th>\n",
       "      <td>7</td>\n",
       "      <td>18</td>\n",
       "      <td>0.720000</td>\n",
       "    </tr>\n",
       "    <tr>\n",
       "      <th>C</th>\n",
       "      <td>391</td>\n",
       "      <td>202</td>\n",
       "      <td>0.340641</td>\n",
       "    </tr>\n",
       "    <tr>\n",
       "      <th>D</th>\n",
       "      <td>244</td>\n",
       "      <td>131</td>\n",
       "      <td>0.349333</td>\n",
       "    </tr>\n",
       "    <tr>\n",
       "      <th>E</th>\n",
       "      <td>299</td>\n",
       "      <td>94</td>\n",
       "      <td>0.239186</td>\n",
       "    </tr>\n",
       "    <tr>\n",
       "      <th>F</th>\n",
       "      <td>103</td>\n",
       "      <td>238</td>\n",
       "      <td>0.697947</td>\n",
       "    </tr>\n",
       "    <tr>\n",
       "      <th rowspan=\"6\" valign=\"top\">male</th>\n",
       "      <th>A</th>\n",
       "      <td>314</td>\n",
       "      <td>511</td>\n",
       "      <td>0.619394</td>\n",
       "    </tr>\n",
       "    <tr>\n",
       "      <th>B</th>\n",
       "      <td>208</td>\n",
       "      <td>352</td>\n",
       "      <td>0.628571</td>\n",
       "    </tr>\n",
       "    <tr>\n",
       "      <th>C</th>\n",
       "      <td>204</td>\n",
       "      <td>121</td>\n",
       "      <td>0.372308</td>\n",
       "    </tr>\n",
       "    <tr>\n",
       "      <th>D</th>\n",
       "      <td>279</td>\n",
       "      <td>138</td>\n",
       "      <td>0.330935</td>\n",
       "    </tr>\n",
       "    <tr>\n",
       "      <th>E</th>\n",
       "      <td>137</td>\n",
       "      <td>54</td>\n",
       "      <td>0.282723</td>\n",
       "    </tr>\n",
       "    <tr>\n",
       "      <th>F</th>\n",
       "      <td>149</td>\n",
       "      <td>224</td>\n",
       "      <td>0.600536</td>\n",
       "    </tr>\n",
       "  </tbody>\n",
       "</table>\n",
       "</div>"
      ],
      "text/plain": [
       "result             fail  pass      rate\n",
       "gender department                      \n",
       "female A             19    89  0.824074\n",
       "       B              7    18  0.720000\n",
       "       C            391   202  0.340641\n",
       "       D            244   131  0.349333\n",
       "       E            299    94  0.239186\n",
       "       F            103   238  0.697947\n",
       "male   A            314   511  0.619394\n",
       "       B            208   352  0.628571\n",
       "       C            204   121  0.372308\n",
       "       D            279   138  0.330935\n",
       "       E            137    54  0.282723\n",
       "       F            149   224  0.600536"
      ]
     },
     "execution_count": 132,
     "metadata": {},
     "output_type": "execute_result"
    }
   ],
   "source": [
    "df.assign(rate = df['pass']/df.sum(axis=1))"
   ]
  },
  {
   "cell_type": "code",
   "execution_count": 133,
   "id": "8aa9c5df-0ff1-4964-8ced-fbd8097ef706",
   "metadata": {},
   "outputs": [
    {
     "data": {
      "text/plain": [
       "gender  department\n",
       "female  A             108\n",
       "        B              25\n",
       "        C             593\n",
       "        D             375\n",
       "        E             393\n",
       "        F             341\n",
       "male    A             825\n",
       "        B             560\n",
       "        C             325\n",
       "        D             417\n",
       "        E             191\n",
       "        F             373\n",
       "dtype: int64"
      ]
     },
     "execution_count": 133,
     "metadata": {},
     "output_type": "execute_result"
    }
   ],
   "source": [
    "df.sum(axis=1)"
   ]
  },
  {
   "cell_type": "markdown",
   "id": "4172c7d5-e5ad-4211-b6a6-246dfba01db9",
   "metadata": {},
   "source": [
    "`#`"
   ]
  },
  {
   "cell_type": "markdown",
   "id": "335eabd4-c3dc-4a6a-affd-45a27392d626",
   "metadata": {},
   "source": [
    "# 5. Pandas -- tidydata "
   ]
  },
  {
   "cell_type": "markdown",
   "id": "f9badb7f-8575-4a73-b67a-466bb405f301",
   "metadata": {},
   "source": [
    "## A. tidydata의 개념 "
   ]
  },
  {
   "cell_type": "markdown",
   "id": "a2990b63-30fc-47e2-8fdc-0f4eb932cc58",
   "metadata": {},
   "source": [
    "`-` 아래의 자료는 불리하다. (뭐가??)"
   ]
  },
  {
   "cell_type": "code",
   "execution_count": 137,
   "id": "ebef4734-7600-442d-9d3e-44d3d1207012",
   "metadata": {
    "tags": []
   },
   "outputs": [
    {
     "data": {
      "text/html": [
       "<div>\n",
       "<style scoped>\n",
       "    .dataframe tbody tr th:only-of-type {\n",
       "        vertical-align: middle;\n",
       "    }\n",
       "\n",
       "    .dataframe tbody tr th {\n",
       "        vertical-align: top;\n",
       "    }\n",
       "\n",
       "    .dataframe thead th {\n",
       "        text-align: right;\n",
       "    }\n",
       "</style>\n",
       "<table border=\"1\" class=\"dataframe\">\n",
       "  <thead>\n",
       "    <tr style=\"text-align: right;\">\n",
       "      <th></th>\n",
       "      <th>result</th>\n",
       "      <th>fail</th>\n",
       "      <th>pass</th>\n",
       "    </tr>\n",
       "    <tr>\n",
       "      <th>gender</th>\n",
       "      <th>department</th>\n",
       "      <th></th>\n",
       "      <th></th>\n",
       "    </tr>\n",
       "  </thead>\n",
       "  <tbody>\n",
       "    <tr>\n",
       "      <th rowspan=\"6\" valign=\"top\">female</th>\n",
       "      <th>A</th>\n",
       "      <td>19</td>\n",
       "      <td>89</td>\n",
       "    </tr>\n",
       "    <tr>\n",
       "      <th>B</th>\n",
       "      <td>7</td>\n",
       "      <td>18</td>\n",
       "    </tr>\n",
       "    <tr>\n",
       "      <th>C</th>\n",
       "      <td>391</td>\n",
       "      <td>202</td>\n",
       "    </tr>\n",
       "    <tr>\n",
       "      <th>D</th>\n",
       "      <td>244</td>\n",
       "      <td>131</td>\n",
       "    </tr>\n",
       "    <tr>\n",
       "      <th>E</th>\n",
       "      <td>299</td>\n",
       "      <td>94</td>\n",
       "    </tr>\n",
       "    <tr>\n",
       "      <th>F</th>\n",
       "      <td>103</td>\n",
       "      <td>238</td>\n",
       "    </tr>\n",
       "    <tr>\n",
       "      <th rowspan=\"6\" valign=\"top\">male</th>\n",
       "      <th>A</th>\n",
       "      <td>314</td>\n",
       "      <td>511</td>\n",
       "    </tr>\n",
       "    <tr>\n",
       "      <th>B</th>\n",
       "      <td>208</td>\n",
       "      <td>352</td>\n",
       "    </tr>\n",
       "    <tr>\n",
       "      <th>C</th>\n",
       "      <td>204</td>\n",
       "      <td>121</td>\n",
       "    </tr>\n",
       "    <tr>\n",
       "      <th>D</th>\n",
       "      <td>279</td>\n",
       "      <td>138</td>\n",
       "    </tr>\n",
       "    <tr>\n",
       "      <th>E</th>\n",
       "      <td>137</td>\n",
       "      <td>54</td>\n",
       "    </tr>\n",
       "    <tr>\n",
       "      <th>F</th>\n",
       "      <td>149</td>\n",
       "      <td>224</td>\n",
       "    </tr>\n",
       "  </tbody>\n",
       "</table>\n",
       "</div>"
      ],
      "text/plain": [
       "result             fail  pass\n",
       "gender department            \n",
       "female A             19    89\n",
       "       B              7    18\n",
       "       C            391   202\n",
       "       D            244   131\n",
       "       E            299    94\n",
       "       F            103   238\n",
       "male   A            314   511\n",
       "       B            208   352\n",
       "       C            204   121\n",
       "       D            279   138\n",
       "       E            137    54\n",
       "       F            149   224"
      ]
     },
     "execution_count": 137,
     "metadata": {},
     "output_type": "execute_result"
    }
   ],
   "source": [
    "df = pd.read_csv(\"https://raw.githubusercontent.com/guebin/DV2022/master/posts/Simpson.csv\",index_col=0,header=[0,1])\\\n",
    ".stack().stack().reset_index()\\\n",
    ".rename({'level_0':'department','level_1':'result','level_2':'gender',0:'count'},axis=1).pivot_table(index=['gender','department'], columns='result',values='count',aggfunc=sum)\n",
    "df "
   ]
  },
  {
   "cell_type": "markdown",
   "id": "de305f74-2caa-408e-b348-903ac10b5c5f",
   "metadata": {},
   "source": [
    "- 이건 다루기 쉬운 형태의 데이터가 아니다."
   ]
  },
  {
   "cell_type": "code",
   "execution_count": 141,
   "id": "302f3a4a-10b7-4f57-97b4-23e2dcdfa7ca",
   "metadata": {},
   "outputs": [
    {
     "data": {
      "text/html": [
       "<div>\n",
       "<style scoped>\n",
       "    .dataframe tbody tr th:only-of-type {\n",
       "        vertical-align: middle;\n",
       "    }\n",
       "\n",
       "    .dataframe tbody tr th {\n",
       "        vertical-align: top;\n",
       "    }\n",
       "\n",
       "    .dataframe thead th {\n",
       "        text-align: right;\n",
       "    }\n",
       "</style>\n",
       "<table border=\"1\" class=\"dataframe\">\n",
       "  <thead>\n",
       "    <tr style=\"text-align: right;\">\n",
       "      <th></th>\n",
       "      <th>gender</th>\n",
       "      <th>department</th>\n",
       "      <th>result</th>\n",
       "      <th>0</th>\n",
       "    </tr>\n",
       "  </thead>\n",
       "  <tbody>\n",
       "    <tr>\n",
       "      <th>0</th>\n",
       "      <td>female</td>\n",
       "      <td>A</td>\n",
       "      <td>fail</td>\n",
       "      <td>19</td>\n",
       "    </tr>\n",
       "    <tr>\n",
       "      <th>1</th>\n",
       "      <td>female</td>\n",
       "      <td>A</td>\n",
       "      <td>pass</td>\n",
       "      <td>89</td>\n",
       "    </tr>\n",
       "    <tr>\n",
       "      <th>12</th>\n",
       "      <td>male</td>\n",
       "      <td>A</td>\n",
       "      <td>fail</td>\n",
       "      <td>314</td>\n",
       "    </tr>\n",
       "    <tr>\n",
       "      <th>13</th>\n",
       "      <td>male</td>\n",
       "      <td>A</td>\n",
       "      <td>pass</td>\n",
       "      <td>511</td>\n",
       "    </tr>\n",
       "  </tbody>\n",
       "</table>\n",
       "</div>"
      ],
      "text/plain": [
       "    gender department result    0\n",
       "0   female          A   fail   19\n",
       "1   female          A   pass   89\n",
       "12    male          A   fail  314\n",
       "13    male          A   pass  511"
      ]
     },
     "execution_count": 141,
     "metadata": {},
     "output_type": "execute_result"
    }
   ],
   "source": [
    "df.stack().reset_index().query('department==\"A\"')"
   ]
  },
  {
   "cell_type": "markdown",
   "id": "c0ab6d3e-b674-4ea2-b0ac-80e172c7d010",
   "metadata": {},
   "source": [
    "`-` 가정1: 만약에 A학과에 해당하는 결과만 뽑고 싶다면? --> departmet가 column으로 있어야함.. "
   ]
  },
  {
   "cell_type": "markdown",
   "id": "dcf4f06b-287f-4cee-b5af-19b6522ef168",
   "metadata": {},
   "source": [
    "`-` 가정2: 이 데이터를 바탕으로 합격한사람만 bar plot을 그리고 싶다면? --> department, gender, pass 가 column으로 있어야함.. "
   ]
  },
  {
   "cell_type": "code",
   "execution_count": null,
   "id": "2e407786-9c89-4da5-9070-30d0b19b719a",
   "metadata": {
    "tags": []
   },
   "outputs": [],
   "source": [
    "#"
   ]
  },
  {
   "cell_type": "markdown",
   "id": "75a6b54d-cbfb-4277-9f0d-00dfff484eda",
   "metadata": {},
   "source": [
    "`-` tidydata 정의: <https://r4ds.had.co.nz/tidy-data.html>\n",
    "\n",
    "1. Each variable must have its own column.\n",
    "2. Each observation must have its own row.\n",
    "3. Each value must have its own cell.\n"
   ]
  },
  {
   "cell_type": "markdown",
   "id": "5a518286-29c3-4f9c-bd93-099686f82426",
   "metadata": {},
   "source": [
    "multi-index가 있으면 무조건 tidydata가 아니다."
   ]
  },
  {
   "cell_type": "markdown",
   "id": "578a659a-644b-47ac-903f-72c679d4bd81",
   "metadata": {},
   "source": [
    "## B. tidydata가 아닌 예시"
   ]
  },
  {
   "cell_type": "markdown",
   "id": "adff3451-9a5d-4299-b983-8aef773e4e13",
   "metadata": {
    "tags": []
   },
   "source": [
    "`예시1` -- MultiIndex 구조를 가지면 무조건 tidydata가 아니다."
   ]
  },
  {
   "cell_type": "code",
   "execution_count": 135,
   "id": "324c03e9-7f74-472c-8244-493a80ea3f1e",
   "metadata": {
    "tags": []
   },
   "outputs": [
    {
     "data": {
      "text/html": [
       "<div>\n",
       "<style scoped>\n",
       "    .dataframe tbody tr th:only-of-type {\n",
       "        vertical-align: middle;\n",
       "    }\n",
       "\n",
       "    .dataframe tbody tr th {\n",
       "        vertical-align: top;\n",
       "    }\n",
       "\n",
       "    .dataframe thead th {\n",
       "        text-align: right;\n",
       "    }\n",
       "</style>\n",
       "<table border=\"1\" class=\"dataframe\">\n",
       "  <thead>\n",
       "    <tr style=\"text-align: right;\">\n",
       "      <th></th>\n",
       "      <th>result</th>\n",
       "      <th>fail</th>\n",
       "      <th>pass</th>\n",
       "    </tr>\n",
       "    <tr>\n",
       "      <th>gender</th>\n",
       "      <th>department</th>\n",
       "      <th></th>\n",
       "      <th></th>\n",
       "    </tr>\n",
       "  </thead>\n",
       "  <tbody>\n",
       "    <tr>\n",
       "      <th rowspan=\"6\" valign=\"top\">female</th>\n",
       "      <th>A</th>\n",
       "      <td>19</td>\n",
       "      <td>89</td>\n",
       "    </tr>\n",
       "    <tr>\n",
       "      <th>B</th>\n",
       "      <td>7</td>\n",
       "      <td>18</td>\n",
       "    </tr>\n",
       "    <tr>\n",
       "      <th>C</th>\n",
       "      <td>391</td>\n",
       "      <td>202</td>\n",
       "    </tr>\n",
       "    <tr>\n",
       "      <th>D</th>\n",
       "      <td>244</td>\n",
       "      <td>131</td>\n",
       "    </tr>\n",
       "    <tr>\n",
       "      <th>E</th>\n",
       "      <td>299</td>\n",
       "      <td>94</td>\n",
       "    </tr>\n",
       "    <tr>\n",
       "      <th>F</th>\n",
       "      <td>103</td>\n",
       "      <td>238</td>\n",
       "    </tr>\n",
       "    <tr>\n",
       "      <th rowspan=\"6\" valign=\"top\">male</th>\n",
       "      <th>A</th>\n",
       "      <td>314</td>\n",
       "      <td>511</td>\n",
       "    </tr>\n",
       "    <tr>\n",
       "      <th>B</th>\n",
       "      <td>208</td>\n",
       "      <td>352</td>\n",
       "    </tr>\n",
       "    <tr>\n",
       "      <th>C</th>\n",
       "      <td>204</td>\n",
       "      <td>121</td>\n",
       "    </tr>\n",
       "    <tr>\n",
       "      <th>D</th>\n",
       "      <td>279</td>\n",
       "      <td>138</td>\n",
       "    </tr>\n",
       "    <tr>\n",
       "      <th>E</th>\n",
       "      <td>137</td>\n",
       "      <td>54</td>\n",
       "    </tr>\n",
       "    <tr>\n",
       "      <th>F</th>\n",
       "      <td>149</td>\n",
       "      <td>224</td>\n",
       "    </tr>\n",
       "  </tbody>\n",
       "</table>\n",
       "</div>"
      ],
      "text/plain": [
       "result             fail  pass\n",
       "gender department            \n",
       "female A             19    89\n",
       "       B              7    18\n",
       "       C            391   202\n",
       "       D            244   131\n",
       "       E            299    94\n",
       "       F            103   238\n",
       "male   A            314   511\n",
       "       B            208   352\n",
       "       C            204   121\n",
       "       D            279   138\n",
       "       E            137    54\n",
       "       F            149   224"
      ]
     },
     "execution_count": 135,
     "metadata": {},
     "output_type": "execute_result"
    }
   ],
   "source": [
    "df = pd.read_csv(\"https://raw.githubusercontent.com/guebin/DV2022/master/posts/Simpson.csv\",index_col=0,header=[0,1])\\\n",
    ".stack().stack().reset_index()\\\n",
    ".rename({'level_0':'department','level_1':'result','level_2':'gender',0:'count'},axis=1).pivot_table(index=['gender','department'], columns='result',values='count',aggfunc=sum)\n",
    "df"
   ]
  },
  {
   "cell_type": "markdown",
   "id": "b58cddd3-4a4c-44c5-93b9-0a43e3cba0cb",
   "metadata": {},
   "source": [
    "- 이건 tidydata가 아니고  // 단순하게 생각하면, 멀티인덱스가 있으니까 tidydata가 아니야. "
   ]
  },
  {
   "cell_type": "code",
   "execution_count": 136,
   "id": "96b99dec-5eb0-4e2d-8a77-bc439e473822",
   "metadata": {
    "tags": []
   },
   "outputs": [
    {
     "data": {
      "text/html": [
       "<div>\n",
       "<style scoped>\n",
       "    .dataframe tbody tr th:only-of-type {\n",
       "        vertical-align: middle;\n",
       "    }\n",
       "\n",
       "    .dataframe tbody tr th {\n",
       "        vertical-align: top;\n",
       "    }\n",
       "\n",
       "    .dataframe thead th {\n",
       "        text-align: right;\n",
       "    }\n",
       "</style>\n",
       "<table border=\"1\" class=\"dataframe\">\n",
       "  <thead>\n",
       "    <tr style=\"text-align: right;\">\n",
       "      <th></th>\n",
       "      <th>gender</th>\n",
       "      <th>department</th>\n",
       "      <th>result</th>\n",
       "      <th>applicant_count</th>\n",
       "    </tr>\n",
       "  </thead>\n",
       "  <tbody>\n",
       "    <tr>\n",
       "      <th>0</th>\n",
       "      <td>female</td>\n",
       "      <td>A</td>\n",
       "      <td>fail</td>\n",
       "      <td>19</td>\n",
       "    </tr>\n",
       "    <tr>\n",
       "      <th>1</th>\n",
       "      <td>female</td>\n",
       "      <td>A</td>\n",
       "      <td>pass</td>\n",
       "      <td>89</td>\n",
       "    </tr>\n",
       "    <tr>\n",
       "      <th>2</th>\n",
       "      <td>female</td>\n",
       "      <td>B</td>\n",
       "      <td>fail</td>\n",
       "      <td>7</td>\n",
       "    </tr>\n",
       "    <tr>\n",
       "      <th>3</th>\n",
       "      <td>female</td>\n",
       "      <td>B</td>\n",
       "      <td>pass</td>\n",
       "      <td>18</td>\n",
       "    </tr>\n",
       "    <tr>\n",
       "      <th>4</th>\n",
       "      <td>female</td>\n",
       "      <td>C</td>\n",
       "      <td>fail</td>\n",
       "      <td>391</td>\n",
       "    </tr>\n",
       "    <tr>\n",
       "      <th>5</th>\n",
       "      <td>female</td>\n",
       "      <td>C</td>\n",
       "      <td>pass</td>\n",
       "      <td>202</td>\n",
       "    </tr>\n",
       "    <tr>\n",
       "      <th>6</th>\n",
       "      <td>female</td>\n",
       "      <td>D</td>\n",
       "      <td>fail</td>\n",
       "      <td>244</td>\n",
       "    </tr>\n",
       "    <tr>\n",
       "      <th>7</th>\n",
       "      <td>female</td>\n",
       "      <td>D</td>\n",
       "      <td>pass</td>\n",
       "      <td>131</td>\n",
       "    </tr>\n",
       "    <tr>\n",
       "      <th>8</th>\n",
       "      <td>female</td>\n",
       "      <td>E</td>\n",
       "      <td>fail</td>\n",
       "      <td>299</td>\n",
       "    </tr>\n",
       "    <tr>\n",
       "      <th>9</th>\n",
       "      <td>female</td>\n",
       "      <td>E</td>\n",
       "      <td>pass</td>\n",
       "      <td>94</td>\n",
       "    </tr>\n",
       "    <tr>\n",
       "      <th>10</th>\n",
       "      <td>female</td>\n",
       "      <td>F</td>\n",
       "      <td>fail</td>\n",
       "      <td>103</td>\n",
       "    </tr>\n",
       "    <tr>\n",
       "      <th>11</th>\n",
       "      <td>female</td>\n",
       "      <td>F</td>\n",
       "      <td>pass</td>\n",
       "      <td>238</td>\n",
       "    </tr>\n",
       "    <tr>\n",
       "      <th>12</th>\n",
       "      <td>male</td>\n",
       "      <td>A</td>\n",
       "      <td>fail</td>\n",
       "      <td>314</td>\n",
       "    </tr>\n",
       "    <tr>\n",
       "      <th>13</th>\n",
       "      <td>male</td>\n",
       "      <td>A</td>\n",
       "      <td>pass</td>\n",
       "      <td>511</td>\n",
       "    </tr>\n",
       "    <tr>\n",
       "      <th>14</th>\n",
       "      <td>male</td>\n",
       "      <td>B</td>\n",
       "      <td>fail</td>\n",
       "      <td>208</td>\n",
       "    </tr>\n",
       "    <tr>\n",
       "      <th>15</th>\n",
       "      <td>male</td>\n",
       "      <td>B</td>\n",
       "      <td>pass</td>\n",
       "      <td>352</td>\n",
       "    </tr>\n",
       "    <tr>\n",
       "      <th>16</th>\n",
       "      <td>male</td>\n",
       "      <td>C</td>\n",
       "      <td>fail</td>\n",
       "      <td>204</td>\n",
       "    </tr>\n",
       "    <tr>\n",
       "      <th>17</th>\n",
       "      <td>male</td>\n",
       "      <td>C</td>\n",
       "      <td>pass</td>\n",
       "      <td>121</td>\n",
       "    </tr>\n",
       "    <tr>\n",
       "      <th>18</th>\n",
       "      <td>male</td>\n",
       "      <td>D</td>\n",
       "      <td>fail</td>\n",
       "      <td>279</td>\n",
       "    </tr>\n",
       "    <tr>\n",
       "      <th>19</th>\n",
       "      <td>male</td>\n",
       "      <td>D</td>\n",
       "      <td>pass</td>\n",
       "      <td>138</td>\n",
       "    </tr>\n",
       "    <tr>\n",
       "      <th>20</th>\n",
       "      <td>male</td>\n",
       "      <td>E</td>\n",
       "      <td>fail</td>\n",
       "      <td>137</td>\n",
       "    </tr>\n",
       "    <tr>\n",
       "      <th>21</th>\n",
       "      <td>male</td>\n",
       "      <td>E</td>\n",
       "      <td>pass</td>\n",
       "      <td>54</td>\n",
       "    </tr>\n",
       "    <tr>\n",
       "      <th>22</th>\n",
       "      <td>male</td>\n",
       "      <td>F</td>\n",
       "      <td>fail</td>\n",
       "      <td>149</td>\n",
       "    </tr>\n",
       "    <tr>\n",
       "      <th>23</th>\n",
       "      <td>male</td>\n",
       "      <td>F</td>\n",
       "      <td>pass</td>\n",
       "      <td>224</td>\n",
       "    </tr>\n",
       "  </tbody>\n",
       "</table>\n",
       "</div>"
      ],
      "text/plain": [
       "    gender department result  applicant_count\n",
       "0   female          A   fail               19\n",
       "1   female          A   pass               89\n",
       "2   female          B   fail                7\n",
       "3   female          B   pass               18\n",
       "4   female          C   fail              391\n",
       "5   female          C   pass              202\n",
       "6   female          D   fail              244\n",
       "7   female          D   pass              131\n",
       "8   female          E   fail              299\n",
       "9   female          E   pass               94\n",
       "10  female          F   fail              103\n",
       "11  female          F   pass              238\n",
       "12    male          A   fail              314\n",
       "13    male          A   pass              511\n",
       "14    male          B   fail              208\n",
       "15    male          B   pass              352\n",
       "16    male          C   fail              204\n",
       "17    male          C   pass              121\n",
       "18    male          D   fail              279\n",
       "19    male          D   pass              138\n",
       "20    male          E   fail              137\n",
       "21    male          E   pass               54\n",
       "22    male          F   fail              149\n",
       "23    male          F   pass              224"
      ]
     },
     "execution_count": 136,
     "metadata": {},
     "output_type": "execute_result"
    }
   ],
   "source": [
    "tidydata = df.stack().reset_index().rename({0:'applicant_count'},axis=1)\n",
    "tidydata"
   ]
  },
  {
   "cell_type": "code",
   "execution_count": 144,
   "id": "d493b919-d99d-4de5-8c30-86c28c56cfc5",
   "metadata": {},
   "outputs": [
    {
     "data": {
      "text/plain": [
       "Index(['gender', 'department', 'result', 'applicant_count'], dtype='object')"
      ]
     },
     "execution_count": 144,
     "metadata": {},
     "output_type": "execute_result"
    }
   ],
   "source": [
    "tidydata.columns"
   ]
  },
  {
   "cell_type": "markdown",
   "id": "266b3a0e-c215-4f07-9bf2-ffa3bb6d676b",
   "metadata": {},
   "source": [
    "- 이것이 tidydata "
   ]
  },
  {
   "cell_type": "markdown",
   "id": "88373c1b-8218-4f1a-9db8-75a455a284bd",
   "metadata": {},
   "source": [
    "`-` 구분하는 방법1: 직관에 의한 설명\n",
    "\n",
    "- query쓰기 불편: 남성지원자만 뽑고 싶다면?, 학과A만 뽑고싶다면? 탈락한지원자만 뽑고싶다면? 학과A에서 탈락한 지원자만 뽑고싶다면??\n",
    "- 시각화하기 불편: \n",
    "- 하여튼 다루기 불편해.. "
   ]
  },
  {
   "cell_type": "markdown",
   "id": "b2a002ae-b272-4fdb-8153-df4282ca33d3",
   "metadata": {},
   "source": [
    "`-` 구분하는 방법2: 정의에 의한 설명 \n",
    "\n",
    "- `df`는 원칙 1에 위배된다. (왜냐하면 `gender`, `department`,`result`,`applicant_count`에 해당하는 변수는 하나의 컬럼을 차지하지 못함)\n",
    "- `df`는 원칙 2에 위배된다. (왜냐하면 하나의 행에 2개의 `applicant_count` observation이 존재함)"
   ]
  },
  {
   "cell_type": "markdown",
   "id": "78c7ae69-669b-46e4-a8ff-f27f9862aa83",
   "metadata": {},
   "source": [
    "`#` 우리가 다루기 편리한  자료의 형태를 tidydata라고 생각하자. (query를 쓰기 편하고, 시각화하기 편한 데이터...)"
   ]
  },
  {
   "cell_type": "markdown",
   "id": "84e4acdf-b6a2-4d20-abb7-4ab2a6daf500",
   "metadata": {},
   "source": [
    "`예시2` -- 아래의 자료는 tidydata가 아니다. "
   ]
  },
  {
   "cell_type": "code",
   "execution_count": 145,
   "id": "bd6e4f58-ab5f-40bd-b98a-6ee0290087f5",
   "metadata": {
    "tags": []
   },
   "outputs": [
    {
     "data": {
      "text/html": [
       "<div>\n",
       "<style scoped>\n",
       "    .dataframe tbody tr th:only-of-type {\n",
       "        vertical-align: middle;\n",
       "    }\n",
       "\n",
       "    .dataframe tbody tr th {\n",
       "        vertical-align: top;\n",
       "    }\n",
       "\n",
       "    .dataframe thead th {\n",
       "        text-align: right;\n",
       "    }\n",
       "</style>\n",
       "<table border=\"1\" class=\"dataframe\">\n",
       "  <thead>\n",
       "    <tr style=\"text-align: right;\">\n",
       "      <th>result</th>\n",
       "      <th>gender</th>\n",
       "      <th>pass_fail</th>\n",
       "    </tr>\n",
       "  </thead>\n",
       "  <tbody>\n",
       "    <tr>\n",
       "      <th>0</th>\n",
       "      <td>female</td>\n",
       "      <td>(772, 1063)</td>\n",
       "    </tr>\n",
       "    <tr>\n",
       "      <th>1</th>\n",
       "      <td>male</td>\n",
       "      <td>(1400, 1291)</td>\n",
       "    </tr>\n",
       "  </tbody>\n",
       "</table>\n",
       "</div>"
      ],
      "text/plain": [
       "result  gender     pass_fail\n",
       "0       female   (772, 1063)\n",
       "1         male  (1400, 1291)"
      ]
     },
     "execution_count": 145,
     "metadata": {},
     "output_type": "execute_result"
    }
   ],
   "source": [
    "df=pd.read_csv(\"https://raw.githubusercontent.com/guebin/DV2022/master/posts/Simpson.csv\",index_col=0,header=[0,1])\\\n",
    ".stack().stack().reset_index()\\\n",
    ".rename({'level_0':'department','level_1':'result','level_2':'gender',0:'count'},axis=1).pivot_table(index='gender', columns='result', values='count', aggfunc=sum)\\\n",
    ".assign(pass_fail = lambda df: list(map(lambda x,y: (y,x),df['fail'],df['pass']))).drop(['fail','pass'],axis=1).reset_index()\n",
    "df"
   ]
  },
  {
   "cell_type": "markdown",
   "id": "02df8d45-40ae-4973-9b6e-a97c90f144da",
   "metadata": {},
   "source": [
    "- 이 `df`는 원칙 3에 위배된다. "
   ]
  },
  {
   "cell_type": "markdown",
   "id": "185ab719-4c9b-48bd-b6f2-bcd6f3d2678f",
   "metadata": {},
   "source": [
    "`#`"
   ]
  },
  {
   "cell_type": "markdown",
   "id": "cd837403-1dd2-4278-b755-0878a870c805",
   "metadata": {},
   "source": [
    "`# 예시3` -- wide df (넓은형태의 df)"
   ]
  },
  {
   "cell_type": "code",
   "execution_count": 146,
   "id": "8a259164-c226-4cda-b865-f17a750860f3",
   "metadata": {
    "tags": []
   },
   "outputs": [
    {
     "data": {
      "text/html": [
       "<div>\n",
       "<style scoped>\n",
       "    .dataframe tbody tr th:only-of-type {\n",
       "        vertical-align: middle;\n",
       "    }\n",
       "\n",
       "    .dataframe tbody tr th {\n",
       "        vertical-align: top;\n",
       "    }\n",
       "\n",
       "    .dataframe thead th {\n",
       "        text-align: right;\n",
       "    }\n",
       "</style>\n",
       "<table border=\"1\" class=\"dataframe\">\n",
       "  <thead>\n",
       "    <tr style=\"text-align: right;\">\n",
       "      <th></th>\n",
       "      <th>Date</th>\n",
       "      <th>Samsung</th>\n",
       "      <th>Apple</th>\n",
       "      <th>Huawei</th>\n",
       "      <th>Xiaomi</th>\n",
       "      <th>Oppo</th>\n",
       "      <th>Mobicel</th>\n",
       "      <th>Motorola</th>\n",
       "      <th>LG</th>\n",
       "      <th>Others</th>\n",
       "      <th>Realme</th>\n",
       "      <th>Google</th>\n",
       "      <th>Nokia</th>\n",
       "      <th>Lenovo</th>\n",
       "      <th>OnePlus</th>\n",
       "      <th>Sony</th>\n",
       "      <th>Asus</th>\n",
       "    </tr>\n",
       "  </thead>\n",
       "  <tbody>\n",
       "    <tr>\n",
       "      <th>0</th>\n",
       "      <td>2019-10</td>\n",
       "      <td>461</td>\n",
       "      <td>324</td>\n",
       "      <td>136</td>\n",
       "      <td>109</td>\n",
       "      <td>76</td>\n",
       "      <td>81</td>\n",
       "      <td>43</td>\n",
       "      <td>37</td>\n",
       "      <td>135</td>\n",
       "      <td>28</td>\n",
       "      <td>39</td>\n",
       "      <td>14</td>\n",
       "      <td>22</td>\n",
       "      <td>17</td>\n",
       "      <td>20</td>\n",
       "      <td>17</td>\n",
       "    </tr>\n",
       "    <tr>\n",
       "      <th>1</th>\n",
       "      <td>2019-11</td>\n",
       "      <td>461</td>\n",
       "      <td>358</td>\n",
       "      <td>167</td>\n",
       "      <td>141</td>\n",
       "      <td>86</td>\n",
       "      <td>61</td>\n",
       "      <td>29</td>\n",
       "      <td>36</td>\n",
       "      <td>141</td>\n",
       "      <td>27</td>\n",
       "      <td>29</td>\n",
       "      <td>20</td>\n",
       "      <td>23</td>\n",
       "      <td>10</td>\n",
       "      <td>19</td>\n",
       "      <td>27</td>\n",
       "    </tr>\n",
       "    <tr>\n",
       "      <th>2</th>\n",
       "      <td>2019-12</td>\n",
       "      <td>426</td>\n",
       "      <td>383</td>\n",
       "      <td>143</td>\n",
       "      <td>105</td>\n",
       "      <td>53</td>\n",
       "      <td>45</td>\n",
       "      <td>51</td>\n",
       "      <td>48</td>\n",
       "      <td>129</td>\n",
       "      <td>30</td>\n",
       "      <td>20</td>\n",
       "      <td>26</td>\n",
       "      <td>28</td>\n",
       "      <td>18</td>\n",
       "      <td>18</td>\n",
       "      <td>19</td>\n",
       "    </tr>\n",
       "    <tr>\n",
       "      <th>3</th>\n",
       "      <td>2020-01</td>\n",
       "      <td>677</td>\n",
       "      <td>494</td>\n",
       "      <td>212</td>\n",
       "      <td>187</td>\n",
       "      <td>110</td>\n",
       "      <td>79</td>\n",
       "      <td>65</td>\n",
       "      <td>49</td>\n",
       "      <td>158</td>\n",
       "      <td>23</td>\n",
       "      <td>13</td>\n",
       "      <td>19</td>\n",
       "      <td>19</td>\n",
       "      <td>22</td>\n",
       "      <td>27</td>\n",
       "      <td>22</td>\n",
       "    </tr>\n",
       "    <tr>\n",
       "      <th>4</th>\n",
       "      <td>2020-02</td>\n",
       "      <td>593</td>\n",
       "      <td>520</td>\n",
       "      <td>217</td>\n",
       "      <td>195</td>\n",
       "      <td>112</td>\n",
       "      <td>67</td>\n",
       "      <td>62</td>\n",
       "      <td>71</td>\n",
       "      <td>157</td>\n",
       "      <td>25</td>\n",
       "      <td>18</td>\n",
       "      <td>16</td>\n",
       "      <td>24</td>\n",
       "      <td>18</td>\n",
       "      <td>23</td>\n",
       "      <td>20</td>\n",
       "    </tr>\n",
       "    <tr>\n",
       "      <th>5</th>\n",
       "      <td>2020-03</td>\n",
       "      <td>637</td>\n",
       "      <td>537</td>\n",
       "      <td>246</td>\n",
       "      <td>187</td>\n",
       "      <td>92</td>\n",
       "      <td>66</td>\n",
       "      <td>59</td>\n",
       "      <td>67</td>\n",
       "      <td>145</td>\n",
       "      <td>21</td>\n",
       "      <td>16</td>\n",
       "      <td>24</td>\n",
       "      <td>18</td>\n",
       "      <td>31</td>\n",
       "      <td>22</td>\n",
       "      <td>14</td>\n",
       "    </tr>\n",
       "    <tr>\n",
       "      <th>6</th>\n",
       "      <td>2020-04</td>\n",
       "      <td>647</td>\n",
       "      <td>583</td>\n",
       "      <td>222</td>\n",
       "      <td>154</td>\n",
       "      <td>98</td>\n",
       "      <td>59</td>\n",
       "      <td>48</td>\n",
       "      <td>64</td>\n",
       "      <td>113</td>\n",
       "      <td>20</td>\n",
       "      <td>23</td>\n",
       "      <td>25</td>\n",
       "      <td>19</td>\n",
       "      <td>19</td>\n",
       "      <td>23</td>\n",
       "      <td>21</td>\n",
       "    </tr>\n",
       "    <tr>\n",
       "      <th>7</th>\n",
       "      <td>2020-05</td>\n",
       "      <td>629</td>\n",
       "      <td>518</td>\n",
       "      <td>192</td>\n",
       "      <td>176</td>\n",
       "      <td>91</td>\n",
       "      <td>87</td>\n",
       "      <td>50</td>\n",
       "      <td>66</td>\n",
       "      <td>150</td>\n",
       "      <td>43</td>\n",
       "      <td>27</td>\n",
       "      <td>15</td>\n",
       "      <td>18</td>\n",
       "      <td>19</td>\n",
       "      <td>19</td>\n",
       "      <td>13</td>\n",
       "    </tr>\n",
       "    <tr>\n",
       "      <th>8</th>\n",
       "      <td>2020-06</td>\n",
       "      <td>663</td>\n",
       "      <td>552</td>\n",
       "      <td>209</td>\n",
       "      <td>185</td>\n",
       "      <td>93</td>\n",
       "      <td>69</td>\n",
       "      <td>54</td>\n",
       "      <td>60</td>\n",
       "      <td>140</td>\n",
       "      <td>39</td>\n",
       "      <td>16</td>\n",
       "      <td>16</td>\n",
       "      <td>17</td>\n",
       "      <td>29</td>\n",
       "      <td>25</td>\n",
       "      <td>16</td>\n",
       "    </tr>\n",
       "    <tr>\n",
       "      <th>9</th>\n",
       "      <td>2020-07</td>\n",
       "      <td>599</td>\n",
       "      <td>471</td>\n",
       "      <td>214</td>\n",
       "      <td>193</td>\n",
       "      <td>89</td>\n",
       "      <td>78</td>\n",
       "      <td>65</td>\n",
       "      <td>59</td>\n",
       "      <td>130</td>\n",
       "      <td>40</td>\n",
       "      <td>27</td>\n",
       "      <td>25</td>\n",
       "      <td>21</td>\n",
       "      <td>18</td>\n",
       "      <td>18</td>\n",
       "      <td>12</td>\n",
       "    </tr>\n",
       "    <tr>\n",
       "      <th>10</th>\n",
       "      <td>2020-08</td>\n",
       "      <td>615</td>\n",
       "      <td>567</td>\n",
       "      <td>204</td>\n",
       "      <td>182</td>\n",
       "      <td>105</td>\n",
       "      <td>82</td>\n",
       "      <td>62</td>\n",
       "      <td>42</td>\n",
       "      <td>129</td>\n",
       "      <td>47</td>\n",
       "      <td>16</td>\n",
       "      <td>23</td>\n",
       "      <td>21</td>\n",
       "      <td>27</td>\n",
       "      <td>23</td>\n",
       "      <td>20</td>\n",
       "    </tr>\n",
       "    <tr>\n",
       "      <th>11</th>\n",
       "      <td>2020-09</td>\n",
       "      <td>621</td>\n",
       "      <td>481</td>\n",
       "      <td>230</td>\n",
       "      <td>220</td>\n",
       "      <td>102</td>\n",
       "      <td>88</td>\n",
       "      <td>56</td>\n",
       "      <td>49</td>\n",
       "      <td>143</td>\n",
       "      <td>54</td>\n",
       "      <td>14</td>\n",
       "      <td>15</td>\n",
       "      <td>17</td>\n",
       "      <td>15</td>\n",
       "      <td>19</td>\n",
       "      <td>15</td>\n",
       "    </tr>\n",
       "    <tr>\n",
       "      <th>12</th>\n",
       "      <td>2020-10</td>\n",
       "      <td>637</td>\n",
       "      <td>555</td>\n",
       "      <td>232</td>\n",
       "      <td>203</td>\n",
       "      <td>90</td>\n",
       "      <td>52</td>\n",
       "      <td>63</td>\n",
       "      <td>49</td>\n",
       "      <td>140</td>\n",
       "      <td>33</td>\n",
       "      <td>17</td>\n",
       "      <td>20</td>\n",
       "      <td>22</td>\n",
       "      <td>9</td>\n",
       "      <td>22</td>\n",
       "      <td>21</td>\n",
       "    </tr>\n",
       "  </tbody>\n",
       "</table>\n",
       "</div>"
      ],
      "text/plain": [
       "       Date  Samsung  Apple  Huawei  Xiaomi  Oppo  Mobicel  Motorola  LG  \\\n",
       "0   2019-10      461    324     136     109    76       81        43  37   \n",
       "1   2019-11      461    358     167     141    86       61        29  36   \n",
       "2   2019-12      426    383     143     105    53       45        51  48   \n",
       "3   2020-01      677    494     212     187   110       79        65  49   \n",
       "4   2020-02      593    520     217     195   112       67        62  71   \n",
       "5   2020-03      637    537     246     187    92       66        59  67   \n",
       "6   2020-04      647    583     222     154    98       59        48  64   \n",
       "7   2020-05      629    518     192     176    91       87        50  66   \n",
       "8   2020-06      663    552     209     185    93       69        54  60   \n",
       "9   2020-07      599    471     214     193    89       78        65  59   \n",
       "10  2020-08      615    567     204     182   105       82        62  42   \n",
       "11  2020-09      621    481     230     220   102       88        56  49   \n",
       "12  2020-10      637    555     232     203    90       52        63  49   \n",
       "\n",
       "    Others  Realme  Google  Nokia  Lenovo  OnePlus  Sony  Asus  \n",
       "0      135      28      39     14      22       17    20    17  \n",
       "1      141      27      29     20      23       10    19    27  \n",
       "2      129      30      20     26      28       18    18    19  \n",
       "3      158      23      13     19      19       22    27    22  \n",
       "4      157      25      18     16      24       18    23    20  \n",
       "5      145      21      16     24      18       31    22    14  \n",
       "6      113      20      23     25      19       19    23    21  \n",
       "7      150      43      27     15      18       19    19    13  \n",
       "8      140      39      16     16      17       29    25    16  \n",
       "9      130      40      27     25      21       18    18    12  \n",
       "10     129      47      16     23      21       27    23    20  \n",
       "11     143      54      14     15      17       15    19    15  \n",
       "12     140      33      17     20      22        9    22    21  "
      ]
     },
     "execution_count": 146,
     "metadata": {},
     "output_type": "execute_result"
    }
   ],
   "source": [
    "df=pd.read_csv('https://raw.githubusercontent.com/guebin/2021DV/master/_notebooks/phone.csv')\n",
    "df"
   ]
  },
  {
   "cell_type": "markdown",
   "id": "b88b49cf-9286-4cba-b7c0-2087ed205c03",
   "metadata": {},
   "source": [
    "- 이건 tidydata 가 아니고"
   ]
  },
  {
   "cell_type": "markdown",
   "id": "6aca8db5-4114-4d04-98f3-86cc3cbc5890",
   "metadata": {},
   "source": [
    "`-` long form"
   ]
  },
  {
   "cell_type": "code",
   "execution_count": 147,
   "id": "f9957371-280b-4ae3-a124-31c9b3a1cb5e",
   "metadata": {
    "tags": []
   },
   "outputs": [
    {
     "data": {
      "text/html": [
       "<div>\n",
       "<style scoped>\n",
       "    .dataframe tbody tr th:only-of-type {\n",
       "        vertical-align: middle;\n",
       "    }\n",
       "\n",
       "    .dataframe tbody tr th {\n",
       "        vertical-align: top;\n",
       "    }\n",
       "\n",
       "    .dataframe thead th {\n",
       "        text-align: right;\n",
       "    }\n",
       "</style>\n",
       "<table border=\"1\" class=\"dataframe\">\n",
       "  <thead>\n",
       "    <tr style=\"text-align: right;\">\n",
       "      <th></th>\n",
       "      <th>Date</th>\n",
       "      <th>variable</th>\n",
       "      <th>value</th>\n",
       "    </tr>\n",
       "  </thead>\n",
       "  <tbody>\n",
       "    <tr>\n",
       "      <th>0</th>\n",
       "      <td>2019-10-01</td>\n",
       "      <td>Samsung</td>\n",
       "      <td>461</td>\n",
       "    </tr>\n",
       "    <tr>\n",
       "      <th>1</th>\n",
       "      <td>2019-11-01</td>\n",
       "      <td>Samsung</td>\n",
       "      <td>461</td>\n",
       "    </tr>\n",
       "    <tr>\n",
       "      <th>2</th>\n",
       "      <td>2019-12-01</td>\n",
       "      <td>Samsung</td>\n",
       "      <td>426</td>\n",
       "    </tr>\n",
       "    <tr>\n",
       "      <th>3</th>\n",
       "      <td>2020-01-01</td>\n",
       "      <td>Samsung</td>\n",
       "      <td>677</td>\n",
       "    </tr>\n",
       "    <tr>\n",
       "      <th>4</th>\n",
       "      <td>2020-02-01</td>\n",
       "      <td>Samsung</td>\n",
       "      <td>593</td>\n",
       "    </tr>\n",
       "    <tr>\n",
       "      <th>...</th>\n",
       "      <td>...</td>\n",
       "      <td>...</td>\n",
       "      <td>...</td>\n",
       "    </tr>\n",
       "    <tr>\n",
       "      <th>203</th>\n",
       "      <td>2020-06-01</td>\n",
       "      <td>Asus</td>\n",
       "      <td>16</td>\n",
       "    </tr>\n",
       "    <tr>\n",
       "      <th>204</th>\n",
       "      <td>2020-07-01</td>\n",
       "      <td>Asus</td>\n",
       "      <td>12</td>\n",
       "    </tr>\n",
       "    <tr>\n",
       "      <th>205</th>\n",
       "      <td>2020-08-01</td>\n",
       "      <td>Asus</td>\n",
       "      <td>20</td>\n",
       "    </tr>\n",
       "    <tr>\n",
       "      <th>206</th>\n",
       "      <td>2020-09-01</td>\n",
       "      <td>Asus</td>\n",
       "      <td>15</td>\n",
       "    </tr>\n",
       "    <tr>\n",
       "      <th>207</th>\n",
       "      <td>2020-10-01</td>\n",
       "      <td>Asus</td>\n",
       "      <td>21</td>\n",
       "    </tr>\n",
       "  </tbody>\n",
       "</table>\n",
       "<p>208 rows × 3 columns</p>\n",
       "</div>"
      ],
      "text/plain": [
       "          Date variable  value\n",
       "0   2019-10-01  Samsung    461\n",
       "1   2019-11-01  Samsung    461\n",
       "2   2019-12-01  Samsung    426\n",
       "3   2020-01-01  Samsung    677\n",
       "4   2020-02-01  Samsung    593\n",
       "..         ...      ...    ...\n",
       "203 2020-06-01     Asus     16\n",
       "204 2020-07-01     Asus     12\n",
       "205 2020-08-01     Asus     20\n",
       "206 2020-09-01     Asus     15\n",
       "207 2020-10-01     Asus     21\n",
       "\n",
       "[208 rows x 3 columns]"
      ]
     },
     "execution_count": 147,
     "metadata": {},
     "output_type": "execute_result"
    }
   ],
   "source": [
    "tidydata = df.melt(id_vars='Date').assign(Date = lambda _df: _df.Date.apply(pd.to_datetime))\n",
    "tidydata"
   ]
  },
  {
   "cell_type": "markdown",
   "id": "a87d4554-319a-4f17-af4f-7746668631ed",
   "metadata": {},
   "source": [
    "- 이건 tidydata 이다. "
   ]
  },
  {
   "cell_type": "markdown",
   "id": "67814e5a-ab24-4524-9dbc-37ea541e24e2",
   "metadata": {},
   "source": [
    "`-` df를 가지고 아래와 같은 그림을 그릴 수 있겠어? "
   ]
  },
  {
   "cell_type": "code",
   "execution_count": null,
   "id": "8c5ac34f-bd80-45f3-9a8e-9aa60de6e30b",
   "metadata": {
    "tags": []
   },
   "outputs": [],
   "source": [
    "#"
   ]
  },
  {
   "cell_type": "markdown",
   "id": "c03cf5de-916b-439a-ab1c-e73ac80b5758",
   "metadata": {},
   "source": [
    "--> 그럼 멀티인덱스가 있으면 멀티인덱스를 깨야하고, 와이드폼으로 되어있으면 롱 폼으로 바꿔야겠지?"
   ]
  },
  {
   "cell_type": "markdown",
   "id": "dd926471-d98b-4cea-85e8-2b800128e63c",
   "metadata": {},
   "source": [
    "# 6. Pandas -- `melt`/`stack`"
   ]
  },
  {
   "cell_type": "markdown",
   "id": "a10ab26c-52a4-4819-997c-83df5d738588",
   "metadata": {},
   "source": [
    "## A. `reset_index()`"
   ]
  },
  {
   "cell_type": "markdown",
   "id": "d45340db-5bbb-48b8-808f-57743a0c098a",
   "metadata": {},
   "source": [
    "> 중첩구조를 가지는 series일 경우 `.reset_index()`를 사용하면 쉽게 tidydata를 얻을 수 있다. "
   ]
  },
  {
   "cell_type": "markdown",
   "id": "69f9fa08-afeb-4fe3-9698-f53a448190e4",
   "metadata": {},
   "source": [
    "`-` 예시1"
   ]
  },
  {
   "cell_type": "code",
   "execution_count": 148,
   "id": "cc673e4b-7998-41e8-a101-f7fb58bf1ee5",
   "metadata": {
    "tags": []
   },
   "outputs": [
    {
     "data": {
      "text/plain": [
       "43052    80\n",
       "43053    90\n",
       "43054    50\n",
       "dtype: int64"
      ]
     },
     "execution_count": 148,
     "metadata": {},
     "output_type": "execute_result"
    }
   ],
   "source": [
    "dct = {'43052': 80, '43053': 90, '43054': 50}\n",
    "s = pd.Series(dct)\n",
    "s"
   ]
  },
  {
   "cell_type": "code",
   "execution_count": 151,
   "id": "0a8cccff-f71e-41ef-8f48-64d83ec587db",
   "metadata": {
    "tags": []
   },
   "outputs": [
    {
     "data": {
      "text/html": [
       "<div>\n",
       "<style scoped>\n",
       "    .dataframe tbody tr th:only-of-type {\n",
       "        vertical-align: middle;\n",
       "    }\n",
       "\n",
       "    .dataframe tbody tr th {\n",
       "        vertical-align: top;\n",
       "    }\n",
       "\n",
       "    .dataframe thead th {\n",
       "        text-align: right;\n",
       "    }\n",
       "</style>\n",
       "<table border=\"1\" class=\"dataframe\">\n",
       "  <thead>\n",
       "    <tr style=\"text-align: right;\">\n",
       "      <th></th>\n",
       "      <th>index</th>\n",
       "      <th>0</th>\n",
       "    </tr>\n",
       "  </thead>\n",
       "  <tbody>\n",
       "    <tr>\n",
       "      <th>0</th>\n",
       "      <td>43052</td>\n",
       "      <td>80</td>\n",
       "    </tr>\n",
       "    <tr>\n",
       "      <th>1</th>\n",
       "      <td>43053</td>\n",
       "      <td>90</td>\n",
       "    </tr>\n",
       "    <tr>\n",
       "      <th>2</th>\n",
       "      <td>43054</td>\n",
       "      <td>50</td>\n",
       "    </tr>\n",
       "  </tbody>\n",
       "</table>\n",
       "</div>"
      ],
      "text/plain": [
       "   index   0\n",
       "0  43052  80\n",
       "1  43053  90\n",
       "2  43054  50"
      ]
     },
     "execution_count": 151,
     "metadata": {},
     "output_type": "execute_result"
    }
   ],
   "source": [
    "s.reset_index() # reset_index() : 인덱스를 깨라!"
   ]
  },
  {
   "cell_type": "markdown",
   "id": "33b61845-7268-4dd5-8782-eb4e17022ecc",
   "metadata": {},
   "source": [
    "`-` 예시2"
   ]
  },
  {
   "cell_type": "code",
   "execution_count": 152,
   "id": "b4d772a7-267f-48f1-99fb-234e99ef0c8a",
   "metadata": {
    "tags": []
   },
   "outputs": [
    {
     "data": {
      "text/plain": [
       "43052  4    80\n",
       "43053  1    90\n",
       "43054  2    50\n",
       "dtype: int64"
      ]
     },
     "execution_count": 152,
     "metadata": {},
     "output_type": "execute_result"
    }
   ],
   "source": [
    "dct = {('43052',4): 80, ('43053',1): 90, ('43054',2): 50} # (학번,학년)\n",
    "s = pd.Series(dct)\n",
    "s"
   ]
  },
  {
   "cell_type": "code",
   "execution_count": 153,
   "id": "4dd9ba04-e74f-4807-89d4-e70680cfdc44",
   "metadata": {
    "tags": []
   },
   "outputs": [
    {
     "data": {
      "text/html": [
       "<div>\n",
       "<style scoped>\n",
       "    .dataframe tbody tr th:only-of-type {\n",
       "        vertical-align: middle;\n",
       "    }\n",
       "\n",
       "    .dataframe tbody tr th {\n",
       "        vertical-align: top;\n",
       "    }\n",
       "\n",
       "    .dataframe thead th {\n",
       "        text-align: right;\n",
       "    }\n",
       "</style>\n",
       "<table border=\"1\" class=\"dataframe\">\n",
       "  <thead>\n",
       "    <tr style=\"text-align: right;\">\n",
       "      <th></th>\n",
       "      <th>level_0</th>\n",
       "      <th>level_1</th>\n",
       "      <th>0</th>\n",
       "    </tr>\n",
       "  </thead>\n",
       "  <tbody>\n",
       "    <tr>\n",
       "      <th>0</th>\n",
       "      <td>43052</td>\n",
       "      <td>4</td>\n",
       "      <td>80</td>\n",
       "    </tr>\n",
       "    <tr>\n",
       "      <th>1</th>\n",
       "      <td>43053</td>\n",
       "      <td>1</td>\n",
       "      <td>90</td>\n",
       "    </tr>\n",
       "    <tr>\n",
       "      <th>2</th>\n",
       "      <td>43054</td>\n",
       "      <td>2</td>\n",
       "      <td>50</td>\n",
       "    </tr>\n",
       "  </tbody>\n",
       "</table>\n",
       "</div>"
      ],
      "text/plain": [
       "  level_0  level_1   0\n",
       "0   43052        4  80\n",
       "1   43053        1  90\n",
       "2   43054        2  50"
      ]
     },
     "execution_count": 153,
     "metadata": {},
     "output_type": "execute_result"
    }
   ],
   "source": [
    "s.reset_index()"
   ]
  },
  {
   "cell_type": "markdown",
   "id": "cd3981d9-8174-4a98-ba45-a622d40d90b4",
   "metadata": {},
   "source": [
    "`-` 예시3"
   ]
  },
  {
   "cell_type": "code",
   "execution_count": 154,
   "id": "02dcd5dd-4461-4c10-b8a6-713544c53b30",
   "metadata": {
    "tags": []
   },
   "outputs": [
    {
     "data": {
      "text/plain": [
       "A  fail  female     19\n",
       "         male      314\n",
       "   pass  female     89\n",
       "         male      511\n",
       "B  fail  female      7\n",
       "         male      208\n",
       "   pass  female     18\n",
       "         male      352\n",
       "C  fail  female    391\n",
       "         male      204\n",
       "   pass  female    202\n",
       "         male      121\n",
       "D  fail  female    244\n",
       "         male      279\n",
       "   pass  female    131\n",
       "         male      138\n",
       "E  fail  female    299\n",
       "         male      137\n",
       "   pass  female     94\n",
       "         male       54\n",
       "F  fail  female    103\n",
       "         male      149\n",
       "   pass  female    238\n",
       "         male      224\n",
       "dtype: int64"
      ]
     },
     "execution_count": 154,
     "metadata": {},
     "output_type": "execute_result"
    }
   ],
   "source": [
    "df=pd.read_csv(\"https://raw.githubusercontent.com/guebin/DV2022/master/posts/Simpson.csv\",index_col=0,header=[0,1]).stack().stack()\n",
    "df"
   ]
  },
  {
   "cell_type": "markdown",
   "id": "65744f19-28df-4c14-bfc6-b05af3d09368",
   "metadata": {},
   "source": [
    "- 인덱스가 3개가 중첩된 멀티인덱스"
   ]
  },
  {
   "cell_type": "code",
   "execution_count": 157,
   "id": "9ad48001-6a3e-4cb7-bb67-132ca658c2f6",
   "metadata": {
    "tags": []
   },
   "outputs": [
    {
     "data": {
      "text/html": [
       "<div>\n",
       "<style scoped>\n",
       "    .dataframe tbody tr th:only-of-type {\n",
       "        vertical-align: middle;\n",
       "    }\n",
       "\n",
       "    .dataframe tbody tr th {\n",
       "        vertical-align: top;\n",
       "    }\n",
       "\n",
       "    .dataframe thead th {\n",
       "        text-align: right;\n",
       "    }\n",
       "</style>\n",
       "<table border=\"1\" class=\"dataframe\">\n",
       "  <thead>\n",
       "    <tr style=\"text-align: right;\">\n",
       "      <th></th>\n",
       "      <th>level_0</th>\n",
       "      <th>level_1</th>\n",
       "      <th>level_2</th>\n",
       "      <th>0</th>\n",
       "    </tr>\n",
       "  </thead>\n",
       "  <tbody>\n",
       "    <tr>\n",
       "      <th>0</th>\n",
       "      <td>A</td>\n",
       "      <td>fail</td>\n",
       "      <td>female</td>\n",
       "      <td>19</td>\n",
       "    </tr>\n",
       "    <tr>\n",
       "      <th>1</th>\n",
       "      <td>A</td>\n",
       "      <td>fail</td>\n",
       "      <td>male</td>\n",
       "      <td>314</td>\n",
       "    </tr>\n",
       "    <tr>\n",
       "      <th>2</th>\n",
       "      <td>A</td>\n",
       "      <td>pass</td>\n",
       "      <td>female</td>\n",
       "      <td>89</td>\n",
       "    </tr>\n",
       "    <tr>\n",
       "      <th>3</th>\n",
       "      <td>A</td>\n",
       "      <td>pass</td>\n",
       "      <td>male</td>\n",
       "      <td>511</td>\n",
       "    </tr>\n",
       "    <tr>\n",
       "      <th>4</th>\n",
       "      <td>B</td>\n",
       "      <td>fail</td>\n",
       "      <td>female</td>\n",
       "      <td>7</td>\n",
       "    </tr>\n",
       "    <tr>\n",
       "      <th>5</th>\n",
       "      <td>B</td>\n",
       "      <td>fail</td>\n",
       "      <td>male</td>\n",
       "      <td>208</td>\n",
       "    </tr>\n",
       "    <tr>\n",
       "      <th>6</th>\n",
       "      <td>B</td>\n",
       "      <td>pass</td>\n",
       "      <td>female</td>\n",
       "      <td>18</td>\n",
       "    </tr>\n",
       "    <tr>\n",
       "      <th>7</th>\n",
       "      <td>B</td>\n",
       "      <td>pass</td>\n",
       "      <td>male</td>\n",
       "      <td>352</td>\n",
       "    </tr>\n",
       "    <tr>\n",
       "      <th>8</th>\n",
       "      <td>C</td>\n",
       "      <td>fail</td>\n",
       "      <td>female</td>\n",
       "      <td>391</td>\n",
       "    </tr>\n",
       "    <tr>\n",
       "      <th>9</th>\n",
       "      <td>C</td>\n",
       "      <td>fail</td>\n",
       "      <td>male</td>\n",
       "      <td>204</td>\n",
       "    </tr>\n",
       "    <tr>\n",
       "      <th>10</th>\n",
       "      <td>C</td>\n",
       "      <td>pass</td>\n",
       "      <td>female</td>\n",
       "      <td>202</td>\n",
       "    </tr>\n",
       "    <tr>\n",
       "      <th>11</th>\n",
       "      <td>C</td>\n",
       "      <td>pass</td>\n",
       "      <td>male</td>\n",
       "      <td>121</td>\n",
       "    </tr>\n",
       "    <tr>\n",
       "      <th>12</th>\n",
       "      <td>D</td>\n",
       "      <td>fail</td>\n",
       "      <td>female</td>\n",
       "      <td>244</td>\n",
       "    </tr>\n",
       "    <tr>\n",
       "      <th>13</th>\n",
       "      <td>D</td>\n",
       "      <td>fail</td>\n",
       "      <td>male</td>\n",
       "      <td>279</td>\n",
       "    </tr>\n",
       "    <tr>\n",
       "      <th>14</th>\n",
       "      <td>D</td>\n",
       "      <td>pass</td>\n",
       "      <td>female</td>\n",
       "      <td>131</td>\n",
       "    </tr>\n",
       "    <tr>\n",
       "      <th>15</th>\n",
       "      <td>D</td>\n",
       "      <td>pass</td>\n",
       "      <td>male</td>\n",
       "      <td>138</td>\n",
       "    </tr>\n",
       "    <tr>\n",
       "      <th>16</th>\n",
       "      <td>E</td>\n",
       "      <td>fail</td>\n",
       "      <td>female</td>\n",
       "      <td>299</td>\n",
       "    </tr>\n",
       "    <tr>\n",
       "      <th>17</th>\n",
       "      <td>E</td>\n",
       "      <td>fail</td>\n",
       "      <td>male</td>\n",
       "      <td>137</td>\n",
       "    </tr>\n",
       "    <tr>\n",
       "      <th>18</th>\n",
       "      <td>E</td>\n",
       "      <td>pass</td>\n",
       "      <td>female</td>\n",
       "      <td>94</td>\n",
       "    </tr>\n",
       "    <tr>\n",
       "      <th>19</th>\n",
       "      <td>E</td>\n",
       "      <td>pass</td>\n",
       "      <td>male</td>\n",
       "      <td>54</td>\n",
       "    </tr>\n",
       "    <tr>\n",
       "      <th>20</th>\n",
       "      <td>F</td>\n",
       "      <td>fail</td>\n",
       "      <td>female</td>\n",
       "      <td>103</td>\n",
       "    </tr>\n",
       "    <tr>\n",
       "      <th>21</th>\n",
       "      <td>F</td>\n",
       "      <td>fail</td>\n",
       "      <td>male</td>\n",
       "      <td>149</td>\n",
       "    </tr>\n",
       "    <tr>\n",
       "      <th>22</th>\n",
       "      <td>F</td>\n",
       "      <td>pass</td>\n",
       "      <td>female</td>\n",
       "      <td>238</td>\n",
       "    </tr>\n",
       "    <tr>\n",
       "      <th>23</th>\n",
       "      <td>F</td>\n",
       "      <td>pass</td>\n",
       "      <td>male</td>\n",
       "      <td>224</td>\n",
       "    </tr>\n",
       "  </tbody>\n",
       "</table>\n",
       "</div>"
      ],
      "text/plain": [
       "   level_0 level_1 level_2    0\n",
       "0        A    fail  female   19\n",
       "1        A    fail    male  314\n",
       "2        A    pass  female   89\n",
       "3        A    pass    male  511\n",
       "4        B    fail  female    7\n",
       "5        B    fail    male  208\n",
       "6        B    pass  female   18\n",
       "7        B    pass    male  352\n",
       "8        C    fail  female  391\n",
       "9        C    fail    male  204\n",
       "10       C    pass  female  202\n",
       "11       C    pass    male  121\n",
       "12       D    fail  female  244\n",
       "13       D    fail    male  279\n",
       "14       D    pass  female  131\n",
       "15       D    pass    male  138\n",
       "16       E    fail  female  299\n",
       "17       E    fail    male  137\n",
       "18       E    pass  female   94\n",
       "19       E    pass    male   54\n",
       "20       F    fail  female  103\n",
       "21       F    fail    male  149\n",
       "22       F    pass  female  238\n",
       "23       F    pass    male  224"
      ]
     },
     "execution_count": 157,
     "metadata": {},
     "output_type": "execute_result"
    }
   ],
   "source": [
    "df.reset_index()"
   ]
  },
  {
   "cell_type": "markdown",
   "id": "7fcf2950-5e0d-46c0-a653-b9ec721c3b1b",
   "metadata": {},
   "source": [
    "`-` 예시4 -- `.reset_index()` 는 말그대로 index를 reset 하는 명령어, 꼭 `pd.Series`에만 쓰는건 아니다. "
   ]
  },
  {
   "cell_type": "code",
   "execution_count": 159,
   "id": "91120356-4a21-43c1-964f-c6147eb7ccc0",
   "metadata": {
    "tags": []
   },
   "outputs": [
    {
     "data": {
      "text/html": [
       "<div>\n",
       "<style scoped>\n",
       "    .dataframe tbody tr th:only-of-type {\n",
       "        vertical-align: middle;\n",
       "    }\n",
       "\n",
       "    .dataframe tbody tr th {\n",
       "        vertical-align: top;\n",
       "    }\n",
       "\n",
       "    .dataframe thead th {\n",
       "        text-align: right;\n",
       "    }\n",
       "</style>\n",
       "<table border=\"1\" class=\"dataframe\">\n",
       "  <thead>\n",
       "    <tr style=\"text-align: right;\">\n",
       "      <th></th>\n",
       "      <th></th>\n",
       "      <th>female</th>\n",
       "      <th>male</th>\n",
       "    </tr>\n",
       "  </thead>\n",
       "  <tbody>\n",
       "    <tr>\n",
       "      <th rowspan=\"2\" valign=\"top\">A</th>\n",
       "      <th>fail</th>\n",
       "      <td>19</td>\n",
       "      <td>314</td>\n",
       "    </tr>\n",
       "    <tr>\n",
       "      <th>pass</th>\n",
       "      <td>89</td>\n",
       "      <td>511</td>\n",
       "    </tr>\n",
       "    <tr>\n",
       "      <th rowspan=\"2\" valign=\"top\">B</th>\n",
       "      <th>fail</th>\n",
       "      <td>7</td>\n",
       "      <td>208</td>\n",
       "    </tr>\n",
       "    <tr>\n",
       "      <th>pass</th>\n",
       "      <td>18</td>\n",
       "      <td>352</td>\n",
       "    </tr>\n",
       "    <tr>\n",
       "      <th rowspan=\"2\" valign=\"top\">C</th>\n",
       "      <th>fail</th>\n",
       "      <td>391</td>\n",
       "      <td>204</td>\n",
       "    </tr>\n",
       "    <tr>\n",
       "      <th>pass</th>\n",
       "      <td>202</td>\n",
       "      <td>121</td>\n",
       "    </tr>\n",
       "    <tr>\n",
       "      <th rowspan=\"2\" valign=\"top\">D</th>\n",
       "      <th>fail</th>\n",
       "      <td>244</td>\n",
       "      <td>279</td>\n",
       "    </tr>\n",
       "    <tr>\n",
       "      <th>pass</th>\n",
       "      <td>131</td>\n",
       "      <td>138</td>\n",
       "    </tr>\n",
       "    <tr>\n",
       "      <th rowspan=\"2\" valign=\"top\">E</th>\n",
       "      <th>fail</th>\n",
       "      <td>299</td>\n",
       "      <td>137</td>\n",
       "    </tr>\n",
       "    <tr>\n",
       "      <th>pass</th>\n",
       "      <td>94</td>\n",
       "      <td>54</td>\n",
       "    </tr>\n",
       "    <tr>\n",
       "      <th rowspan=\"2\" valign=\"top\">F</th>\n",
       "      <th>fail</th>\n",
       "      <td>103</td>\n",
       "      <td>149</td>\n",
       "    </tr>\n",
       "    <tr>\n",
       "      <th>pass</th>\n",
       "      <td>238</td>\n",
       "      <td>224</td>\n",
       "    </tr>\n",
       "  </tbody>\n",
       "</table>\n",
       "</div>"
      ],
      "text/plain": [
       "        female  male\n",
       "A fail      19   314\n",
       "  pass      89   511\n",
       "B fail       7   208\n",
       "  pass      18   352\n",
       "C fail     391   204\n",
       "  pass     202   121\n",
       "D fail     244   279\n",
       "  pass     131   138\n",
       "E fail     299   137\n",
       "  pass      94    54\n",
       "F fail     103   149\n",
       "  pass     238   224"
      ]
     },
     "execution_count": 159,
     "metadata": {},
     "output_type": "execute_result"
    }
   ],
   "source": [
    "df=pd.read_csv(\"https://raw.githubusercontent.com/guebin/DV2022/master/posts/Simpson.csv\",index_col=0,header=[0,1]).stack()\n",
    "df"
   ]
  },
  {
   "cell_type": "code",
   "execution_count": 160,
   "id": "677b3903-f260-4b5c-82e0-f28d9fd1ff4c",
   "metadata": {
    "tags": []
   },
   "outputs": [
    {
     "data": {
      "text/html": [
       "<div>\n",
       "<style scoped>\n",
       "    .dataframe tbody tr th:only-of-type {\n",
       "        vertical-align: middle;\n",
       "    }\n",
       "\n",
       "    .dataframe tbody tr th {\n",
       "        vertical-align: top;\n",
       "    }\n",
       "\n",
       "    .dataframe thead th {\n",
       "        text-align: right;\n",
       "    }\n",
       "</style>\n",
       "<table border=\"1\" class=\"dataframe\">\n",
       "  <thead>\n",
       "    <tr style=\"text-align: right;\">\n",
       "      <th></th>\n",
       "      <th>level_0</th>\n",
       "      <th>level_1</th>\n",
       "      <th>female</th>\n",
       "      <th>male</th>\n",
       "    </tr>\n",
       "  </thead>\n",
       "  <tbody>\n",
       "    <tr>\n",
       "      <th>0</th>\n",
       "      <td>A</td>\n",
       "      <td>fail</td>\n",
       "      <td>19</td>\n",
       "      <td>314</td>\n",
       "    </tr>\n",
       "    <tr>\n",
       "      <th>1</th>\n",
       "      <td>A</td>\n",
       "      <td>pass</td>\n",
       "      <td>89</td>\n",
       "      <td>511</td>\n",
       "    </tr>\n",
       "    <tr>\n",
       "      <th>2</th>\n",
       "      <td>B</td>\n",
       "      <td>fail</td>\n",
       "      <td>7</td>\n",
       "      <td>208</td>\n",
       "    </tr>\n",
       "    <tr>\n",
       "      <th>3</th>\n",
       "      <td>B</td>\n",
       "      <td>pass</td>\n",
       "      <td>18</td>\n",
       "      <td>352</td>\n",
       "    </tr>\n",
       "    <tr>\n",
       "      <th>4</th>\n",
       "      <td>C</td>\n",
       "      <td>fail</td>\n",
       "      <td>391</td>\n",
       "      <td>204</td>\n",
       "    </tr>\n",
       "    <tr>\n",
       "      <th>5</th>\n",
       "      <td>C</td>\n",
       "      <td>pass</td>\n",
       "      <td>202</td>\n",
       "      <td>121</td>\n",
       "    </tr>\n",
       "    <tr>\n",
       "      <th>6</th>\n",
       "      <td>D</td>\n",
       "      <td>fail</td>\n",
       "      <td>244</td>\n",
       "      <td>279</td>\n",
       "    </tr>\n",
       "    <tr>\n",
       "      <th>7</th>\n",
       "      <td>D</td>\n",
       "      <td>pass</td>\n",
       "      <td>131</td>\n",
       "      <td>138</td>\n",
       "    </tr>\n",
       "    <tr>\n",
       "      <th>8</th>\n",
       "      <td>E</td>\n",
       "      <td>fail</td>\n",
       "      <td>299</td>\n",
       "      <td>137</td>\n",
       "    </tr>\n",
       "    <tr>\n",
       "      <th>9</th>\n",
       "      <td>E</td>\n",
       "      <td>pass</td>\n",
       "      <td>94</td>\n",
       "      <td>54</td>\n",
       "    </tr>\n",
       "    <tr>\n",
       "      <th>10</th>\n",
       "      <td>F</td>\n",
       "      <td>fail</td>\n",
       "      <td>103</td>\n",
       "      <td>149</td>\n",
       "    </tr>\n",
       "    <tr>\n",
       "      <th>11</th>\n",
       "      <td>F</td>\n",
       "      <td>pass</td>\n",
       "      <td>238</td>\n",
       "      <td>224</td>\n",
       "    </tr>\n",
       "  </tbody>\n",
       "</table>\n",
       "</div>"
      ],
      "text/plain": [
       "   level_0 level_1  female  male\n",
       "0        A    fail      19   314\n",
       "1        A    pass      89   511\n",
       "2        B    fail       7   208\n",
       "3        B    pass      18   352\n",
       "4        C    fail     391   204\n",
       "5        C    pass     202   121\n",
       "6        D    fail     244   279\n",
       "7        D    pass     131   138\n",
       "8        E    fail     299   137\n",
       "9        E    pass      94    54\n",
       "10       F    fail     103   149\n",
       "11       F    pass     238   224"
      ]
     },
     "execution_count": 160,
     "metadata": {},
     "output_type": "execute_result"
    }
   ],
   "source": [
    "df.reset_index()"
   ]
  },
  {
   "cell_type": "markdown",
   "id": "069e950c-6c2c-45c6-90ad-71b4bd2d29a6",
   "metadata": {},
   "source": [
    "- 어떤 시리즈나 데이터프레임에 `reset_index()`를 취하면 이런식으로 된다."
   ]
  },
  {
   "cell_type": "markdown",
   "id": "261467ab-74b4-4d8e-9c55-3a41a08d5d65",
   "metadata": {},
   "source": [
    "## B. `melt()`"
   ]
  },
  {
   "cell_type": "markdown",
   "id": "70c77117-4960-4dd1-b14c-fa199083efae",
   "metadata": {},
   "source": [
    "wide data를 다루는 데 원툴."
   ]
  },
  {
   "cell_type": "markdown",
   "id": "cbbb778b-4cd7-418f-8918-4f58b71ec980",
   "metadata": {},
   "source": [
    "`# 예시1`: 아래의 자료(wide form)를 tidydata로 만들라. "
   ]
  },
  {
   "cell_type": "code",
   "execution_count": 162,
   "id": "ed79cd80-27d8-4297-9571-a8d7c5b62083",
   "metadata": {
    "tags": []
   },
   "outputs": [
    {
     "data": {
      "text/html": [
       "<div>\n",
       "<style scoped>\n",
       "    .dataframe tbody tr th:only-of-type {\n",
       "        vertical-align: middle;\n",
       "    }\n",
       "\n",
       "    .dataframe tbody tr th {\n",
       "        vertical-align: top;\n",
       "    }\n",
       "\n",
       "    .dataframe thead th {\n",
       "        text-align: right;\n",
       "    }\n",
       "</style>\n",
       "<table border=\"1\" class=\"dataframe\">\n",
       "  <thead>\n",
       "    <tr style=\"text-align: right;\">\n",
       "      <th></th>\n",
       "      <th>Date</th>\n",
       "      <th>Samsung</th>\n",
       "      <th>Apple</th>\n",
       "      <th>Huawei</th>\n",
       "      <th>Xiaomi</th>\n",
       "      <th>Oppo</th>\n",
       "      <th>Mobicel</th>\n",
       "      <th>Motorola</th>\n",
       "      <th>LG</th>\n",
       "      <th>Others</th>\n",
       "      <th>Realme</th>\n",
       "      <th>Google</th>\n",
       "      <th>Nokia</th>\n",
       "      <th>Lenovo</th>\n",
       "      <th>OnePlus</th>\n",
       "      <th>Sony</th>\n",
       "      <th>Asus</th>\n",
       "    </tr>\n",
       "  </thead>\n",
       "  <tbody>\n",
       "    <tr>\n",
       "      <th>0</th>\n",
       "      <td>2019-10</td>\n",
       "      <td>461</td>\n",
       "      <td>324</td>\n",
       "      <td>136</td>\n",
       "      <td>109</td>\n",
       "      <td>76</td>\n",
       "      <td>81</td>\n",
       "      <td>43</td>\n",
       "      <td>37</td>\n",
       "      <td>135</td>\n",
       "      <td>28</td>\n",
       "      <td>39</td>\n",
       "      <td>14</td>\n",
       "      <td>22</td>\n",
       "      <td>17</td>\n",
       "      <td>20</td>\n",
       "      <td>17</td>\n",
       "    </tr>\n",
       "    <tr>\n",
       "      <th>1</th>\n",
       "      <td>2019-11</td>\n",
       "      <td>461</td>\n",
       "      <td>358</td>\n",
       "      <td>167</td>\n",
       "      <td>141</td>\n",
       "      <td>86</td>\n",
       "      <td>61</td>\n",
       "      <td>29</td>\n",
       "      <td>36</td>\n",
       "      <td>141</td>\n",
       "      <td>27</td>\n",
       "      <td>29</td>\n",
       "      <td>20</td>\n",
       "      <td>23</td>\n",
       "      <td>10</td>\n",
       "      <td>19</td>\n",
       "      <td>27</td>\n",
       "    </tr>\n",
       "    <tr>\n",
       "      <th>2</th>\n",
       "      <td>2019-12</td>\n",
       "      <td>426</td>\n",
       "      <td>383</td>\n",
       "      <td>143</td>\n",
       "      <td>105</td>\n",
       "      <td>53</td>\n",
       "      <td>45</td>\n",
       "      <td>51</td>\n",
       "      <td>48</td>\n",
       "      <td>129</td>\n",
       "      <td>30</td>\n",
       "      <td>20</td>\n",
       "      <td>26</td>\n",
       "      <td>28</td>\n",
       "      <td>18</td>\n",
       "      <td>18</td>\n",
       "      <td>19</td>\n",
       "    </tr>\n",
       "    <tr>\n",
       "      <th>3</th>\n",
       "      <td>2020-01</td>\n",
       "      <td>677</td>\n",
       "      <td>494</td>\n",
       "      <td>212</td>\n",
       "      <td>187</td>\n",
       "      <td>110</td>\n",
       "      <td>79</td>\n",
       "      <td>65</td>\n",
       "      <td>49</td>\n",
       "      <td>158</td>\n",
       "      <td>23</td>\n",
       "      <td>13</td>\n",
       "      <td>19</td>\n",
       "      <td>19</td>\n",
       "      <td>22</td>\n",
       "      <td>27</td>\n",
       "      <td>22</td>\n",
       "    </tr>\n",
       "    <tr>\n",
       "      <th>4</th>\n",
       "      <td>2020-02</td>\n",
       "      <td>593</td>\n",
       "      <td>520</td>\n",
       "      <td>217</td>\n",
       "      <td>195</td>\n",
       "      <td>112</td>\n",
       "      <td>67</td>\n",
       "      <td>62</td>\n",
       "      <td>71</td>\n",
       "      <td>157</td>\n",
       "      <td>25</td>\n",
       "      <td>18</td>\n",
       "      <td>16</td>\n",
       "      <td>24</td>\n",
       "      <td>18</td>\n",
       "      <td>23</td>\n",
       "      <td>20</td>\n",
       "    </tr>\n",
       "    <tr>\n",
       "      <th>5</th>\n",
       "      <td>2020-03</td>\n",
       "      <td>637</td>\n",
       "      <td>537</td>\n",
       "      <td>246</td>\n",
       "      <td>187</td>\n",
       "      <td>92</td>\n",
       "      <td>66</td>\n",
       "      <td>59</td>\n",
       "      <td>67</td>\n",
       "      <td>145</td>\n",
       "      <td>21</td>\n",
       "      <td>16</td>\n",
       "      <td>24</td>\n",
       "      <td>18</td>\n",
       "      <td>31</td>\n",
       "      <td>22</td>\n",
       "      <td>14</td>\n",
       "    </tr>\n",
       "    <tr>\n",
       "      <th>6</th>\n",
       "      <td>2020-04</td>\n",
       "      <td>647</td>\n",
       "      <td>583</td>\n",
       "      <td>222</td>\n",
       "      <td>154</td>\n",
       "      <td>98</td>\n",
       "      <td>59</td>\n",
       "      <td>48</td>\n",
       "      <td>64</td>\n",
       "      <td>113</td>\n",
       "      <td>20</td>\n",
       "      <td>23</td>\n",
       "      <td>25</td>\n",
       "      <td>19</td>\n",
       "      <td>19</td>\n",
       "      <td>23</td>\n",
       "      <td>21</td>\n",
       "    </tr>\n",
       "    <tr>\n",
       "      <th>7</th>\n",
       "      <td>2020-05</td>\n",
       "      <td>629</td>\n",
       "      <td>518</td>\n",
       "      <td>192</td>\n",
       "      <td>176</td>\n",
       "      <td>91</td>\n",
       "      <td>87</td>\n",
       "      <td>50</td>\n",
       "      <td>66</td>\n",
       "      <td>150</td>\n",
       "      <td>43</td>\n",
       "      <td>27</td>\n",
       "      <td>15</td>\n",
       "      <td>18</td>\n",
       "      <td>19</td>\n",
       "      <td>19</td>\n",
       "      <td>13</td>\n",
       "    </tr>\n",
       "    <tr>\n",
       "      <th>8</th>\n",
       "      <td>2020-06</td>\n",
       "      <td>663</td>\n",
       "      <td>552</td>\n",
       "      <td>209</td>\n",
       "      <td>185</td>\n",
       "      <td>93</td>\n",
       "      <td>69</td>\n",
       "      <td>54</td>\n",
       "      <td>60</td>\n",
       "      <td>140</td>\n",
       "      <td>39</td>\n",
       "      <td>16</td>\n",
       "      <td>16</td>\n",
       "      <td>17</td>\n",
       "      <td>29</td>\n",
       "      <td>25</td>\n",
       "      <td>16</td>\n",
       "    </tr>\n",
       "    <tr>\n",
       "      <th>9</th>\n",
       "      <td>2020-07</td>\n",
       "      <td>599</td>\n",
       "      <td>471</td>\n",
       "      <td>214</td>\n",
       "      <td>193</td>\n",
       "      <td>89</td>\n",
       "      <td>78</td>\n",
       "      <td>65</td>\n",
       "      <td>59</td>\n",
       "      <td>130</td>\n",
       "      <td>40</td>\n",
       "      <td>27</td>\n",
       "      <td>25</td>\n",
       "      <td>21</td>\n",
       "      <td>18</td>\n",
       "      <td>18</td>\n",
       "      <td>12</td>\n",
       "    </tr>\n",
       "    <tr>\n",
       "      <th>10</th>\n",
       "      <td>2020-08</td>\n",
       "      <td>615</td>\n",
       "      <td>567</td>\n",
       "      <td>204</td>\n",
       "      <td>182</td>\n",
       "      <td>105</td>\n",
       "      <td>82</td>\n",
       "      <td>62</td>\n",
       "      <td>42</td>\n",
       "      <td>129</td>\n",
       "      <td>47</td>\n",
       "      <td>16</td>\n",
       "      <td>23</td>\n",
       "      <td>21</td>\n",
       "      <td>27</td>\n",
       "      <td>23</td>\n",
       "      <td>20</td>\n",
       "    </tr>\n",
       "    <tr>\n",
       "      <th>11</th>\n",
       "      <td>2020-09</td>\n",
       "      <td>621</td>\n",
       "      <td>481</td>\n",
       "      <td>230</td>\n",
       "      <td>220</td>\n",
       "      <td>102</td>\n",
       "      <td>88</td>\n",
       "      <td>56</td>\n",
       "      <td>49</td>\n",
       "      <td>143</td>\n",
       "      <td>54</td>\n",
       "      <td>14</td>\n",
       "      <td>15</td>\n",
       "      <td>17</td>\n",
       "      <td>15</td>\n",
       "      <td>19</td>\n",
       "      <td>15</td>\n",
       "    </tr>\n",
       "    <tr>\n",
       "      <th>12</th>\n",
       "      <td>2020-10</td>\n",
       "      <td>637</td>\n",
       "      <td>555</td>\n",
       "      <td>232</td>\n",
       "      <td>203</td>\n",
       "      <td>90</td>\n",
       "      <td>52</td>\n",
       "      <td>63</td>\n",
       "      <td>49</td>\n",
       "      <td>140</td>\n",
       "      <td>33</td>\n",
       "      <td>17</td>\n",
       "      <td>20</td>\n",
       "      <td>22</td>\n",
       "      <td>9</td>\n",
       "      <td>22</td>\n",
       "      <td>21</td>\n",
       "    </tr>\n",
       "  </tbody>\n",
       "</table>\n",
       "</div>"
      ],
      "text/plain": [
       "       Date  Samsung  Apple  Huawei  Xiaomi  Oppo  Mobicel  Motorola  LG  \\\n",
       "0   2019-10      461    324     136     109    76       81        43  37   \n",
       "1   2019-11      461    358     167     141    86       61        29  36   \n",
       "2   2019-12      426    383     143     105    53       45        51  48   \n",
       "3   2020-01      677    494     212     187   110       79        65  49   \n",
       "4   2020-02      593    520     217     195   112       67        62  71   \n",
       "5   2020-03      637    537     246     187    92       66        59  67   \n",
       "6   2020-04      647    583     222     154    98       59        48  64   \n",
       "7   2020-05      629    518     192     176    91       87        50  66   \n",
       "8   2020-06      663    552     209     185    93       69        54  60   \n",
       "9   2020-07      599    471     214     193    89       78        65  59   \n",
       "10  2020-08      615    567     204     182   105       82        62  42   \n",
       "11  2020-09      621    481     230     220   102       88        56  49   \n",
       "12  2020-10      637    555     232     203    90       52        63  49   \n",
       "\n",
       "    Others  Realme  Google  Nokia  Lenovo  OnePlus  Sony  Asus  \n",
       "0      135      28      39     14      22       17    20    17  \n",
       "1      141      27      29     20      23       10    19    27  \n",
       "2      129      30      20     26      28       18    18    19  \n",
       "3      158      23      13     19      19       22    27    22  \n",
       "4      157      25      18     16      24       18    23    20  \n",
       "5      145      21      16     24      18       31    22    14  \n",
       "6      113      20      23     25      19       19    23    21  \n",
       "7      150      43      27     15      18       19    19    13  \n",
       "8      140      39      16     16      17       29    25    16  \n",
       "9      130      40      27     25      21       18    18    12  \n",
       "10     129      47      16     23      21       27    23    20  \n",
       "11     143      54      14     15      17       15    19    15  \n",
       "12     140      33      17     20      22        9    22    21  "
      ]
     },
     "execution_count": 162,
     "metadata": {},
     "output_type": "execute_result"
    }
   ],
   "source": [
    "df = pd.read_csv('https://raw.githubusercontent.com/guebin/2021DV/master/_notebooks/phone.csv')\n",
    "df"
   ]
  },
  {
   "cell_type": "markdown",
   "id": "7a10a60c-0acc-4df1-8316-b9afeb1aa78e",
   "metadata": {},
   "source": [
    "(풀이1) `.melt()` -- 실패"
   ]
  },
  {
   "cell_type": "code",
   "execution_count": 163,
   "id": "9ed3a918-dab3-4148-8290-928794d81e95",
   "metadata": {
    "tags": []
   },
   "outputs": [
    {
     "data": {
      "text/html": [
       "<div>\n",
       "<style scoped>\n",
       "    .dataframe tbody tr th:only-of-type {\n",
       "        vertical-align: middle;\n",
       "    }\n",
       "\n",
       "    .dataframe tbody tr th {\n",
       "        vertical-align: top;\n",
       "    }\n",
       "\n",
       "    .dataframe thead th {\n",
       "        text-align: right;\n",
       "    }\n",
       "</style>\n",
       "<table border=\"1\" class=\"dataframe\">\n",
       "  <thead>\n",
       "    <tr style=\"text-align: right;\">\n",
       "      <th></th>\n",
       "      <th>variable</th>\n",
       "      <th>value</th>\n",
       "    </tr>\n",
       "  </thead>\n",
       "  <tbody>\n",
       "    <tr>\n",
       "      <th>0</th>\n",
       "      <td>Date</td>\n",
       "      <td>2019-10</td>\n",
       "    </tr>\n",
       "    <tr>\n",
       "      <th>1</th>\n",
       "      <td>Date</td>\n",
       "      <td>2019-11</td>\n",
       "    </tr>\n",
       "    <tr>\n",
       "      <th>2</th>\n",
       "      <td>Date</td>\n",
       "      <td>2019-12</td>\n",
       "    </tr>\n",
       "    <tr>\n",
       "      <th>3</th>\n",
       "      <td>Date</td>\n",
       "      <td>2020-01</td>\n",
       "    </tr>\n",
       "    <tr>\n",
       "      <th>4</th>\n",
       "      <td>Date</td>\n",
       "      <td>2020-02</td>\n",
       "    </tr>\n",
       "    <tr>\n",
       "      <th>...</th>\n",
       "      <td>...</td>\n",
       "      <td>...</td>\n",
       "    </tr>\n",
       "    <tr>\n",
       "      <th>216</th>\n",
       "      <td>Asus</td>\n",
       "      <td>16</td>\n",
       "    </tr>\n",
       "    <tr>\n",
       "      <th>217</th>\n",
       "      <td>Asus</td>\n",
       "      <td>12</td>\n",
       "    </tr>\n",
       "    <tr>\n",
       "      <th>218</th>\n",
       "      <td>Asus</td>\n",
       "      <td>20</td>\n",
       "    </tr>\n",
       "    <tr>\n",
       "      <th>219</th>\n",
       "      <td>Asus</td>\n",
       "      <td>15</td>\n",
       "    </tr>\n",
       "    <tr>\n",
       "      <th>220</th>\n",
       "      <td>Asus</td>\n",
       "      <td>21</td>\n",
       "    </tr>\n",
       "  </tbody>\n",
       "</table>\n",
       "<p>221 rows × 2 columns</p>\n",
       "</div>"
      ],
      "text/plain": [
       "    variable    value\n",
       "0       Date  2019-10\n",
       "1       Date  2019-11\n",
       "2       Date  2019-12\n",
       "3       Date  2020-01\n",
       "4       Date  2020-02\n",
       "..       ...      ...\n",
       "216     Asus       16\n",
       "217     Asus       12\n",
       "218     Asus       20\n",
       "219     Asus       15\n",
       "220     Asus       21\n",
       "\n",
       "[221 rows x 2 columns]"
      ]
     },
     "execution_count": 163,
     "metadata": {},
     "output_type": "execute_result"
    }
   ],
   "source": [
    "df.melt() # 실패"
   ]
  },
  {
   "cell_type": "markdown",
   "id": "128cd223-f7a2-464b-be30-2905f45902d4",
   "metadata": {},
   "source": [
    "(풀이2) `.melt(id_vars=)` -- 성공"
   ]
  },
  {
   "cell_type": "code",
   "execution_count": 164,
   "id": "b7944bf6-c381-4f22-9a06-62051e2f5e90",
   "metadata": {
    "tags": []
   },
   "outputs": [
    {
     "data": {
      "text/html": [
       "<div>\n",
       "<style scoped>\n",
       "    .dataframe tbody tr th:only-of-type {\n",
       "        vertical-align: middle;\n",
       "    }\n",
       "\n",
       "    .dataframe tbody tr th {\n",
       "        vertical-align: top;\n",
       "    }\n",
       "\n",
       "    .dataframe thead th {\n",
       "        text-align: right;\n",
       "    }\n",
       "</style>\n",
       "<table border=\"1\" class=\"dataframe\">\n",
       "  <thead>\n",
       "    <tr style=\"text-align: right;\">\n",
       "      <th></th>\n",
       "      <th>Date</th>\n",
       "      <th>variable</th>\n",
       "      <th>value</th>\n",
       "    </tr>\n",
       "  </thead>\n",
       "  <tbody>\n",
       "    <tr>\n",
       "      <th>0</th>\n",
       "      <td>2019-10</td>\n",
       "      <td>Samsung</td>\n",
       "      <td>461</td>\n",
       "    </tr>\n",
       "    <tr>\n",
       "      <th>1</th>\n",
       "      <td>2019-11</td>\n",
       "      <td>Samsung</td>\n",
       "      <td>461</td>\n",
       "    </tr>\n",
       "    <tr>\n",
       "      <th>2</th>\n",
       "      <td>2019-12</td>\n",
       "      <td>Samsung</td>\n",
       "      <td>426</td>\n",
       "    </tr>\n",
       "    <tr>\n",
       "      <th>3</th>\n",
       "      <td>2020-01</td>\n",
       "      <td>Samsung</td>\n",
       "      <td>677</td>\n",
       "    </tr>\n",
       "    <tr>\n",
       "      <th>4</th>\n",
       "      <td>2020-02</td>\n",
       "      <td>Samsung</td>\n",
       "      <td>593</td>\n",
       "    </tr>\n",
       "    <tr>\n",
       "      <th>...</th>\n",
       "      <td>...</td>\n",
       "      <td>...</td>\n",
       "      <td>...</td>\n",
       "    </tr>\n",
       "    <tr>\n",
       "      <th>203</th>\n",
       "      <td>2020-06</td>\n",
       "      <td>Asus</td>\n",
       "      <td>16</td>\n",
       "    </tr>\n",
       "    <tr>\n",
       "      <th>204</th>\n",
       "      <td>2020-07</td>\n",
       "      <td>Asus</td>\n",
       "      <td>12</td>\n",
       "    </tr>\n",
       "    <tr>\n",
       "      <th>205</th>\n",
       "      <td>2020-08</td>\n",
       "      <td>Asus</td>\n",
       "      <td>20</td>\n",
       "    </tr>\n",
       "    <tr>\n",
       "      <th>206</th>\n",
       "      <td>2020-09</td>\n",
       "      <td>Asus</td>\n",
       "      <td>15</td>\n",
       "    </tr>\n",
       "    <tr>\n",
       "      <th>207</th>\n",
       "      <td>2020-10</td>\n",
       "      <td>Asus</td>\n",
       "      <td>21</td>\n",
       "    </tr>\n",
       "  </tbody>\n",
       "</table>\n",
       "<p>208 rows × 3 columns</p>\n",
       "</div>"
      ],
      "text/plain": [
       "        Date variable  value\n",
       "0    2019-10  Samsung    461\n",
       "1    2019-11  Samsung    461\n",
       "2    2019-12  Samsung    426\n",
       "3    2020-01  Samsung    677\n",
       "4    2020-02  Samsung    593\n",
       "..       ...      ...    ...\n",
       "203  2020-06     Asus     16\n",
       "204  2020-07     Asus     12\n",
       "205  2020-08     Asus     20\n",
       "206  2020-09     Asus     15\n",
       "207  2020-10     Asus     21\n",
       "\n",
       "[208 rows x 3 columns]"
      ]
     },
     "execution_count": 164,
     "metadata": {},
     "output_type": "execute_result"
    }
   ],
   "source": [
    "df.melt(id_vars='Date') # 성공"
   ]
  },
  {
   "cell_type": "markdown",
   "id": "5f027083-b9ef-4344-aa8d-c17a6667a21d",
   "metadata": {},
   "source": [
    "- 컬럼들을 녹여서 밑으로 쫙 흘러내리게!"
   ]
  },
  {
   "cell_type": "markdown",
   "id": "74fd86e1-339b-4f50-863f-9de4f68bcc88",
   "metadata": {},
   "source": [
    "`#`"
   ]
  },
  {
   "cell_type": "markdown",
   "id": "890f2036-c091-44ff-9b9b-e18e1871a0c1",
   "metadata": {},
   "source": [
    "## C. `stack()` + `reset_index()`"
   ]
  },
  {
   "cell_type": "markdown",
   "id": "e38e9e47-a27d-436c-a08a-c92b91563397",
   "metadata": {},
   "source": [
    "> 제 최애테크닉: DataFrame을 MultiIndex를 가지는 Series로 \"일부러\" 변환하고 reset_index()를 시킴"
   ]
  },
  {
   "cell_type": "markdown",
   "id": "75126077-a767-4a7a-99c8-17d9f6d75821",
   "metadata": {},
   "source": [
    "`# 예시1`: 아래의 자료를 tidydata로 만들라. "
   ]
  },
  {
   "cell_type": "code",
   "execution_count": 165,
   "id": "cf7995cc-9c58-4def-882d-d2b9582ba065",
   "metadata": {
    "tags": []
   },
   "outputs": [
    {
     "data": {
      "text/html": [
       "<div>\n",
       "<style scoped>\n",
       "    .dataframe tbody tr th:only-of-type {\n",
       "        vertical-align: middle;\n",
       "    }\n",
       "\n",
       "    .dataframe tbody tr th {\n",
       "        vertical-align: top;\n",
       "    }\n",
       "\n",
       "    .dataframe thead th {\n",
       "        text-align: right;\n",
       "    }\n",
       "</style>\n",
       "<table border=\"1\" class=\"dataframe\">\n",
       "  <thead>\n",
       "    <tr style=\"text-align: right;\">\n",
       "      <th></th>\n",
       "      <th>Date</th>\n",
       "      <th>Samsung</th>\n",
       "      <th>Apple</th>\n",
       "      <th>Huawei</th>\n",
       "      <th>Xiaomi</th>\n",
       "      <th>Oppo</th>\n",
       "      <th>Mobicel</th>\n",
       "      <th>Motorola</th>\n",
       "      <th>LG</th>\n",
       "      <th>Others</th>\n",
       "      <th>Realme</th>\n",
       "      <th>Google</th>\n",
       "      <th>Nokia</th>\n",
       "      <th>Lenovo</th>\n",
       "      <th>OnePlus</th>\n",
       "      <th>Sony</th>\n",
       "      <th>Asus</th>\n",
       "    </tr>\n",
       "  </thead>\n",
       "  <tbody>\n",
       "    <tr>\n",
       "      <th>0</th>\n",
       "      <td>2019-10</td>\n",
       "      <td>461</td>\n",
       "      <td>324</td>\n",
       "      <td>136</td>\n",
       "      <td>109</td>\n",
       "      <td>76</td>\n",
       "      <td>81</td>\n",
       "      <td>43</td>\n",
       "      <td>37</td>\n",
       "      <td>135</td>\n",
       "      <td>28</td>\n",
       "      <td>39</td>\n",
       "      <td>14</td>\n",
       "      <td>22</td>\n",
       "      <td>17</td>\n",
       "      <td>20</td>\n",
       "      <td>17</td>\n",
       "    </tr>\n",
       "    <tr>\n",
       "      <th>1</th>\n",
       "      <td>2019-11</td>\n",
       "      <td>461</td>\n",
       "      <td>358</td>\n",
       "      <td>167</td>\n",
       "      <td>141</td>\n",
       "      <td>86</td>\n",
       "      <td>61</td>\n",
       "      <td>29</td>\n",
       "      <td>36</td>\n",
       "      <td>141</td>\n",
       "      <td>27</td>\n",
       "      <td>29</td>\n",
       "      <td>20</td>\n",
       "      <td>23</td>\n",
       "      <td>10</td>\n",
       "      <td>19</td>\n",
       "      <td>27</td>\n",
       "    </tr>\n",
       "    <tr>\n",
       "      <th>2</th>\n",
       "      <td>2019-12</td>\n",
       "      <td>426</td>\n",
       "      <td>383</td>\n",
       "      <td>143</td>\n",
       "      <td>105</td>\n",
       "      <td>53</td>\n",
       "      <td>45</td>\n",
       "      <td>51</td>\n",
       "      <td>48</td>\n",
       "      <td>129</td>\n",
       "      <td>30</td>\n",
       "      <td>20</td>\n",
       "      <td>26</td>\n",
       "      <td>28</td>\n",
       "      <td>18</td>\n",
       "      <td>18</td>\n",
       "      <td>19</td>\n",
       "    </tr>\n",
       "    <tr>\n",
       "      <th>3</th>\n",
       "      <td>2020-01</td>\n",
       "      <td>677</td>\n",
       "      <td>494</td>\n",
       "      <td>212</td>\n",
       "      <td>187</td>\n",
       "      <td>110</td>\n",
       "      <td>79</td>\n",
       "      <td>65</td>\n",
       "      <td>49</td>\n",
       "      <td>158</td>\n",
       "      <td>23</td>\n",
       "      <td>13</td>\n",
       "      <td>19</td>\n",
       "      <td>19</td>\n",
       "      <td>22</td>\n",
       "      <td>27</td>\n",
       "      <td>22</td>\n",
       "    </tr>\n",
       "    <tr>\n",
       "      <th>4</th>\n",
       "      <td>2020-02</td>\n",
       "      <td>593</td>\n",
       "      <td>520</td>\n",
       "      <td>217</td>\n",
       "      <td>195</td>\n",
       "      <td>112</td>\n",
       "      <td>67</td>\n",
       "      <td>62</td>\n",
       "      <td>71</td>\n",
       "      <td>157</td>\n",
       "      <td>25</td>\n",
       "      <td>18</td>\n",
       "      <td>16</td>\n",
       "      <td>24</td>\n",
       "      <td>18</td>\n",
       "      <td>23</td>\n",
       "      <td>20</td>\n",
       "    </tr>\n",
       "    <tr>\n",
       "      <th>5</th>\n",
       "      <td>2020-03</td>\n",
       "      <td>637</td>\n",
       "      <td>537</td>\n",
       "      <td>246</td>\n",
       "      <td>187</td>\n",
       "      <td>92</td>\n",
       "      <td>66</td>\n",
       "      <td>59</td>\n",
       "      <td>67</td>\n",
       "      <td>145</td>\n",
       "      <td>21</td>\n",
       "      <td>16</td>\n",
       "      <td>24</td>\n",
       "      <td>18</td>\n",
       "      <td>31</td>\n",
       "      <td>22</td>\n",
       "      <td>14</td>\n",
       "    </tr>\n",
       "    <tr>\n",
       "      <th>6</th>\n",
       "      <td>2020-04</td>\n",
       "      <td>647</td>\n",
       "      <td>583</td>\n",
       "      <td>222</td>\n",
       "      <td>154</td>\n",
       "      <td>98</td>\n",
       "      <td>59</td>\n",
       "      <td>48</td>\n",
       "      <td>64</td>\n",
       "      <td>113</td>\n",
       "      <td>20</td>\n",
       "      <td>23</td>\n",
       "      <td>25</td>\n",
       "      <td>19</td>\n",
       "      <td>19</td>\n",
       "      <td>23</td>\n",
       "      <td>21</td>\n",
       "    </tr>\n",
       "    <tr>\n",
       "      <th>7</th>\n",
       "      <td>2020-05</td>\n",
       "      <td>629</td>\n",
       "      <td>518</td>\n",
       "      <td>192</td>\n",
       "      <td>176</td>\n",
       "      <td>91</td>\n",
       "      <td>87</td>\n",
       "      <td>50</td>\n",
       "      <td>66</td>\n",
       "      <td>150</td>\n",
       "      <td>43</td>\n",
       "      <td>27</td>\n",
       "      <td>15</td>\n",
       "      <td>18</td>\n",
       "      <td>19</td>\n",
       "      <td>19</td>\n",
       "      <td>13</td>\n",
       "    </tr>\n",
       "    <tr>\n",
       "      <th>8</th>\n",
       "      <td>2020-06</td>\n",
       "      <td>663</td>\n",
       "      <td>552</td>\n",
       "      <td>209</td>\n",
       "      <td>185</td>\n",
       "      <td>93</td>\n",
       "      <td>69</td>\n",
       "      <td>54</td>\n",
       "      <td>60</td>\n",
       "      <td>140</td>\n",
       "      <td>39</td>\n",
       "      <td>16</td>\n",
       "      <td>16</td>\n",
       "      <td>17</td>\n",
       "      <td>29</td>\n",
       "      <td>25</td>\n",
       "      <td>16</td>\n",
       "    </tr>\n",
       "    <tr>\n",
       "      <th>9</th>\n",
       "      <td>2020-07</td>\n",
       "      <td>599</td>\n",
       "      <td>471</td>\n",
       "      <td>214</td>\n",
       "      <td>193</td>\n",
       "      <td>89</td>\n",
       "      <td>78</td>\n",
       "      <td>65</td>\n",
       "      <td>59</td>\n",
       "      <td>130</td>\n",
       "      <td>40</td>\n",
       "      <td>27</td>\n",
       "      <td>25</td>\n",
       "      <td>21</td>\n",
       "      <td>18</td>\n",
       "      <td>18</td>\n",
       "      <td>12</td>\n",
       "    </tr>\n",
       "    <tr>\n",
       "      <th>10</th>\n",
       "      <td>2020-08</td>\n",
       "      <td>615</td>\n",
       "      <td>567</td>\n",
       "      <td>204</td>\n",
       "      <td>182</td>\n",
       "      <td>105</td>\n",
       "      <td>82</td>\n",
       "      <td>62</td>\n",
       "      <td>42</td>\n",
       "      <td>129</td>\n",
       "      <td>47</td>\n",
       "      <td>16</td>\n",
       "      <td>23</td>\n",
       "      <td>21</td>\n",
       "      <td>27</td>\n",
       "      <td>23</td>\n",
       "      <td>20</td>\n",
       "    </tr>\n",
       "    <tr>\n",
       "      <th>11</th>\n",
       "      <td>2020-09</td>\n",
       "      <td>621</td>\n",
       "      <td>481</td>\n",
       "      <td>230</td>\n",
       "      <td>220</td>\n",
       "      <td>102</td>\n",
       "      <td>88</td>\n",
       "      <td>56</td>\n",
       "      <td>49</td>\n",
       "      <td>143</td>\n",
       "      <td>54</td>\n",
       "      <td>14</td>\n",
       "      <td>15</td>\n",
       "      <td>17</td>\n",
       "      <td>15</td>\n",
       "      <td>19</td>\n",
       "      <td>15</td>\n",
       "    </tr>\n",
       "    <tr>\n",
       "      <th>12</th>\n",
       "      <td>2020-10</td>\n",
       "      <td>637</td>\n",
       "      <td>555</td>\n",
       "      <td>232</td>\n",
       "      <td>203</td>\n",
       "      <td>90</td>\n",
       "      <td>52</td>\n",
       "      <td>63</td>\n",
       "      <td>49</td>\n",
       "      <td>140</td>\n",
       "      <td>33</td>\n",
       "      <td>17</td>\n",
       "      <td>20</td>\n",
       "      <td>22</td>\n",
       "      <td>9</td>\n",
       "      <td>22</td>\n",
       "      <td>21</td>\n",
       "    </tr>\n",
       "  </tbody>\n",
       "</table>\n",
       "</div>"
      ],
      "text/plain": [
       "       Date  Samsung  Apple  Huawei  Xiaomi  Oppo  Mobicel  Motorola  LG  \\\n",
       "0   2019-10      461    324     136     109    76       81        43  37   \n",
       "1   2019-11      461    358     167     141    86       61        29  36   \n",
       "2   2019-12      426    383     143     105    53       45        51  48   \n",
       "3   2020-01      677    494     212     187   110       79        65  49   \n",
       "4   2020-02      593    520     217     195   112       67        62  71   \n",
       "5   2020-03      637    537     246     187    92       66        59  67   \n",
       "6   2020-04      647    583     222     154    98       59        48  64   \n",
       "7   2020-05      629    518     192     176    91       87        50  66   \n",
       "8   2020-06      663    552     209     185    93       69        54  60   \n",
       "9   2020-07      599    471     214     193    89       78        65  59   \n",
       "10  2020-08      615    567     204     182   105       82        62  42   \n",
       "11  2020-09      621    481     230     220   102       88        56  49   \n",
       "12  2020-10      637    555     232     203    90       52        63  49   \n",
       "\n",
       "    Others  Realme  Google  Nokia  Lenovo  OnePlus  Sony  Asus  \n",
       "0      135      28      39     14      22       17    20    17  \n",
       "1      141      27      29     20      23       10    19    27  \n",
       "2      129      30      20     26      28       18    18    19  \n",
       "3      158      23      13     19      19       22    27    22  \n",
       "4      157      25      18     16      24       18    23    20  \n",
       "5      145      21      16     24      18       31    22    14  \n",
       "6      113      20      23     25      19       19    23    21  \n",
       "7      150      43      27     15      18       19    19    13  \n",
       "8      140      39      16     16      17       29    25    16  \n",
       "9      130      40      27     25      21       18    18    12  \n",
       "10     129      47      16     23      21       27    23    20  \n",
       "11     143      54      14     15      17       15    19    15  \n",
       "12     140      33      17     20      22        9    22    21  "
      ]
     },
     "execution_count": 165,
     "metadata": {},
     "output_type": "execute_result"
    }
   ],
   "source": [
    "df = pd.read_csv('https://raw.githubusercontent.com/guebin/2021DV/master/_notebooks/phone.csv')\n",
    "df"
   ]
  },
  {
   "cell_type": "code",
   "execution_count": 166,
   "id": "f89ad8de-5990-4bcf-9531-df39b0b6f03e",
   "metadata": {
    "tags": []
   },
   "outputs": [
    {
     "data": {
      "text/plain": [
       "Date            \n",
       "2019-10  Samsung    461\n",
       "         Apple      324\n",
       "         Huawei     136\n",
       "         Xiaomi     109\n",
       "         Oppo        76\n",
       "                   ... \n",
       "2020-10  Nokia       20\n",
       "         Lenovo      22\n",
       "         OnePlus      9\n",
       "         Sony        22\n",
       "         Asus        21\n",
       "Length: 208, dtype: int64"
      ]
     },
     "execution_count": 166,
     "metadata": {},
     "output_type": "execute_result"
    }
   ],
   "source": [
    "# 중첩된 구조로 내려오는데? \n",
    "# 첫번째 인덱스에는 Data라는 이름이 있고, 두번쨰 인덱스에는 이름은 없네?\n",
    "df.set_index('Date').stack() "
   ]
  },
  {
   "cell_type": "code",
   "execution_count": 168,
   "id": "fda73053-c2c2-4391-980f-a832277b78d7",
   "metadata": {
    "tags": []
   },
   "outputs": [
    {
     "data": {
      "text/html": [
       "<div>\n",
       "<style scoped>\n",
       "    .dataframe tbody tr th:only-of-type {\n",
       "        vertical-align: middle;\n",
       "    }\n",
       "\n",
       "    .dataframe tbody tr th {\n",
       "        vertical-align: top;\n",
       "    }\n",
       "\n",
       "    .dataframe thead th {\n",
       "        text-align: right;\n",
       "    }\n",
       "</style>\n",
       "<table border=\"1\" class=\"dataframe\">\n",
       "  <thead>\n",
       "    <tr style=\"text-align: right;\">\n",
       "      <th></th>\n",
       "      <th>Date</th>\n",
       "      <th>level_1</th>\n",
       "      <th>0</th>\n",
       "    </tr>\n",
       "  </thead>\n",
       "  <tbody>\n",
       "    <tr>\n",
       "      <th>0</th>\n",
       "      <td>2019-10</td>\n",
       "      <td>Samsung</td>\n",
       "      <td>461</td>\n",
       "    </tr>\n",
       "    <tr>\n",
       "      <th>1</th>\n",
       "      <td>2019-10</td>\n",
       "      <td>Apple</td>\n",
       "      <td>324</td>\n",
       "    </tr>\n",
       "    <tr>\n",
       "      <th>2</th>\n",
       "      <td>2019-10</td>\n",
       "      <td>Huawei</td>\n",
       "      <td>136</td>\n",
       "    </tr>\n",
       "    <tr>\n",
       "      <th>3</th>\n",
       "      <td>2019-10</td>\n",
       "      <td>Xiaomi</td>\n",
       "      <td>109</td>\n",
       "    </tr>\n",
       "    <tr>\n",
       "      <th>4</th>\n",
       "      <td>2019-10</td>\n",
       "      <td>Oppo</td>\n",
       "      <td>76</td>\n",
       "    </tr>\n",
       "    <tr>\n",
       "      <th>...</th>\n",
       "      <td>...</td>\n",
       "      <td>...</td>\n",
       "      <td>...</td>\n",
       "    </tr>\n",
       "    <tr>\n",
       "      <th>203</th>\n",
       "      <td>2020-10</td>\n",
       "      <td>Nokia</td>\n",
       "      <td>20</td>\n",
       "    </tr>\n",
       "    <tr>\n",
       "      <th>204</th>\n",
       "      <td>2020-10</td>\n",
       "      <td>Lenovo</td>\n",
       "      <td>22</td>\n",
       "    </tr>\n",
       "    <tr>\n",
       "      <th>205</th>\n",
       "      <td>2020-10</td>\n",
       "      <td>OnePlus</td>\n",
       "      <td>9</td>\n",
       "    </tr>\n",
       "    <tr>\n",
       "      <th>206</th>\n",
       "      <td>2020-10</td>\n",
       "      <td>Sony</td>\n",
       "      <td>22</td>\n",
       "    </tr>\n",
       "    <tr>\n",
       "      <th>207</th>\n",
       "      <td>2020-10</td>\n",
       "      <td>Asus</td>\n",
       "      <td>21</td>\n",
       "    </tr>\n",
       "  </tbody>\n",
       "</table>\n",
       "<p>208 rows × 3 columns</p>\n",
       "</div>"
      ],
      "text/plain": [
       "        Date  level_1    0\n",
       "0    2019-10  Samsung  461\n",
       "1    2019-10    Apple  324\n",
       "2    2019-10   Huawei  136\n",
       "3    2019-10   Xiaomi  109\n",
       "4    2019-10     Oppo   76\n",
       "..       ...      ...  ...\n",
       "203  2020-10    Nokia   20\n",
       "204  2020-10   Lenovo   22\n",
       "205  2020-10  OnePlus    9\n",
       "206  2020-10     Sony   22\n",
       "207  2020-10     Asus   21\n",
       "\n",
       "[208 rows x 3 columns]"
      ]
     },
     "execution_count": 168,
     "metadata": {},
     "output_type": "execute_result"
    }
   ],
   "source": [
    "df.set_index('Date').stack().reset_index()"
   ]
  },
  {
   "cell_type": "markdown",
   "id": "73306c9b-1d04-4fb9-90ed-c0610a760fbb",
   "metadata": {},
   "source": [
    "`#`"
   ]
  },
  {
   "cell_type": "markdown",
   "id": "a15cd816-0acc-4b0a-b3c4-463ec5fbc659",
   "metadata": {},
   "source": [
    "`# 예시2`: 아래의 자료를 tidydata로 만들어라. "
   ]
  },
  {
   "cell_type": "code",
   "execution_count": 183,
   "id": "c43c113a-6687-42af-a42e-35e2943291c2",
   "metadata": {
    "tags": []
   },
   "outputs": [
    {
     "data": {
      "text/html": [
       "<div>\n",
       "<style scoped>\n",
       "    .dataframe tbody tr th:only-of-type {\n",
       "        vertical-align: middle;\n",
       "    }\n",
       "\n",
       "    .dataframe tbody tr th {\n",
       "        vertical-align: top;\n",
       "    }\n",
       "\n",
       "    .dataframe thead tr th {\n",
       "        text-align: left;\n",
       "    }\n",
       "</style>\n",
       "<table border=\"1\" class=\"dataframe\">\n",
       "  <thead>\n",
       "    <tr>\n",
       "      <th></th>\n",
       "      <th colspan=\"2\" halign=\"left\">male</th>\n",
       "      <th colspan=\"2\" halign=\"left\">female</th>\n",
       "    </tr>\n",
       "    <tr>\n",
       "      <th></th>\n",
       "      <th>fail</th>\n",
       "      <th>pass</th>\n",
       "      <th>fail</th>\n",
       "      <th>pass</th>\n",
       "    </tr>\n",
       "  </thead>\n",
       "  <tbody>\n",
       "    <tr>\n",
       "      <th>A</th>\n",
       "      <td>314</td>\n",
       "      <td>511</td>\n",
       "      <td>19</td>\n",
       "      <td>89</td>\n",
       "    </tr>\n",
       "    <tr>\n",
       "      <th>B</th>\n",
       "      <td>208</td>\n",
       "      <td>352</td>\n",
       "      <td>7</td>\n",
       "      <td>18</td>\n",
       "    </tr>\n",
       "    <tr>\n",
       "      <th>C</th>\n",
       "      <td>204</td>\n",
       "      <td>121</td>\n",
       "      <td>391</td>\n",
       "      <td>202</td>\n",
       "    </tr>\n",
       "    <tr>\n",
       "      <th>D</th>\n",
       "      <td>279</td>\n",
       "      <td>138</td>\n",
       "      <td>244</td>\n",
       "      <td>131</td>\n",
       "    </tr>\n",
       "    <tr>\n",
       "      <th>E</th>\n",
       "      <td>137</td>\n",
       "      <td>54</td>\n",
       "      <td>299</td>\n",
       "      <td>94</td>\n",
       "    </tr>\n",
       "    <tr>\n",
       "      <th>F</th>\n",
       "      <td>149</td>\n",
       "      <td>224</td>\n",
       "      <td>103</td>\n",
       "      <td>238</td>\n",
       "    </tr>\n",
       "  </tbody>\n",
       "</table>\n",
       "</div>"
      ],
      "text/plain": [
       "  male      female     \n",
       "  fail pass   fail pass\n",
       "A  314  511     19   89\n",
       "B  208  352      7   18\n",
       "C  204  121    391  202\n",
       "D  279  138    244  131\n",
       "E  137   54    299   94\n",
       "F  149  224    103  238"
      ]
     },
     "execution_count": 183,
     "metadata": {},
     "output_type": "execute_result"
    }
   ],
   "source": [
    "df = pd.read_csv(\"https://raw.githubusercontent.com/guebin/DV2022/master/posts/Simpson.csv\",index_col=0,header=[0,1])\n",
    "df"
   ]
  },
  {
   "cell_type": "markdown",
   "id": "581b0a0e-f212-43e5-b5ab-6d995b327c38",
   "metadata": {},
   "source": [
    "- A,B,C,D,E,F가 인덱스, 컬럼이 중첩구조로 되어있따."
   ]
  },
  {
   "cell_type": "code",
   "execution_count": 173,
   "id": "491c6304-2601-42b0-94be-a19f8d222054",
   "metadata": {},
   "outputs": [
    {
     "data": {
      "text/plain": [
       "MultiIndex([(  'male', 'fail'),\n",
       "            (  'male', 'pass'),\n",
       "            ('female', 'fail'),\n",
       "            ('female', 'pass')],\n",
       "           )"
      ]
     },
     "execution_count": 173,
     "metadata": {},
     "output_type": "execute_result"
    }
   ],
   "source": [
    "df.columns # 남자+떨어진사람, 남자+붙은사람, 여자+떨어진사람, 여자+붙은사람 (2겹)"
   ]
  },
  {
   "cell_type": "code",
   "execution_count": 175,
   "id": "c00a861d-f1b3-4c43-a9a7-5bc651991da5",
   "metadata": {},
   "outputs": [
    {
     "data": {
      "text/plain": [
       "Index(['A', 'B', 'C', 'D', 'E', 'F'], dtype='object')"
      ]
     },
     "execution_count": 175,
     "metadata": {},
     "output_type": "execute_result"
    }
   ],
   "source": [
    "df.index # (1겹)"
   ]
  },
  {
   "cell_type": "code",
   "execution_count": 177,
   "id": "4eee89ee-b4fc-4bf4-811c-28b81618b3dc",
   "metadata": {},
   "outputs": [
    {
     "data": {
      "text/html": [
       "<div>\n",
       "<style scoped>\n",
       "    .dataframe tbody tr th:only-of-type {\n",
       "        vertical-align: middle;\n",
       "    }\n",
       "\n",
       "    .dataframe tbody tr th {\n",
       "        vertical-align: top;\n",
       "    }\n",
       "\n",
       "    .dataframe thead th {\n",
       "        text-align: right;\n",
       "    }\n",
       "</style>\n",
       "<table border=\"1\" class=\"dataframe\">\n",
       "  <thead>\n",
       "    <tr style=\"text-align: right;\">\n",
       "      <th></th>\n",
       "      <th></th>\n",
       "      <th>female</th>\n",
       "      <th>male</th>\n",
       "    </tr>\n",
       "  </thead>\n",
       "  <tbody>\n",
       "    <tr>\n",
       "      <th rowspan=\"2\" valign=\"top\">A</th>\n",
       "      <th>fail</th>\n",
       "      <td>19</td>\n",
       "      <td>314</td>\n",
       "    </tr>\n",
       "    <tr>\n",
       "      <th>pass</th>\n",
       "      <td>89</td>\n",
       "      <td>511</td>\n",
       "    </tr>\n",
       "    <tr>\n",
       "      <th rowspan=\"2\" valign=\"top\">B</th>\n",
       "      <th>fail</th>\n",
       "      <td>7</td>\n",
       "      <td>208</td>\n",
       "    </tr>\n",
       "    <tr>\n",
       "      <th>pass</th>\n",
       "      <td>18</td>\n",
       "      <td>352</td>\n",
       "    </tr>\n",
       "    <tr>\n",
       "      <th rowspan=\"2\" valign=\"top\">C</th>\n",
       "      <th>fail</th>\n",
       "      <td>391</td>\n",
       "      <td>204</td>\n",
       "    </tr>\n",
       "    <tr>\n",
       "      <th>pass</th>\n",
       "      <td>202</td>\n",
       "      <td>121</td>\n",
       "    </tr>\n",
       "    <tr>\n",
       "      <th rowspan=\"2\" valign=\"top\">D</th>\n",
       "      <th>fail</th>\n",
       "      <td>244</td>\n",
       "      <td>279</td>\n",
       "    </tr>\n",
       "    <tr>\n",
       "      <th>pass</th>\n",
       "      <td>131</td>\n",
       "      <td>138</td>\n",
       "    </tr>\n",
       "    <tr>\n",
       "      <th rowspan=\"2\" valign=\"top\">E</th>\n",
       "      <th>fail</th>\n",
       "      <td>299</td>\n",
       "      <td>137</td>\n",
       "    </tr>\n",
       "    <tr>\n",
       "      <th>pass</th>\n",
       "      <td>94</td>\n",
       "      <td>54</td>\n",
       "    </tr>\n",
       "    <tr>\n",
       "      <th rowspan=\"2\" valign=\"top\">F</th>\n",
       "      <th>fail</th>\n",
       "      <td>103</td>\n",
       "      <td>149</td>\n",
       "    </tr>\n",
       "    <tr>\n",
       "      <th>pass</th>\n",
       "      <td>238</td>\n",
       "      <td>224</td>\n",
       "    </tr>\n",
       "  </tbody>\n",
       "</table>\n",
       "</div>"
      ],
      "text/plain": [
       "        female  male\n",
       "A fail      19   314\n",
       "  pass      89   511\n",
       "B fail       7   208\n",
       "  pass      18   352\n",
       "C fail     391   204\n",
       "  pass     202   121\n",
       "D fail     244   279\n",
       "  pass     131   138\n",
       "E fail     299   137\n",
       "  pass      94    54\n",
       "F fail     103   149\n",
       "  pass     238   224"
      ]
     },
     "execution_count": 177,
     "metadata": {},
     "output_type": "execute_result"
    }
   ],
   "source": [
    "df.stack() # 인덱스 2겹, 컬럼 1겹"
   ]
  },
  {
   "cell_type": "code",
   "execution_count": 179,
   "id": "6b34f4eb-df43-4a5f-a9c7-5efed25aea35",
   "metadata": {},
   "outputs": [
    {
     "data": {
      "text/plain": [
       "A  fail  female     19\n",
       "         male      314\n",
       "   pass  female     89\n",
       "         male      511\n",
       "B  fail  female      7\n",
       "         male      208\n",
       "   pass  female     18\n",
       "         male      352\n",
       "C  fail  female    391\n",
       "         male      204\n",
       "   pass  female    202\n",
       "         male      121\n",
       "D  fail  female    244\n",
       "         male      279\n",
       "   pass  female    131\n",
       "         male      138\n",
       "E  fail  female    299\n",
       "         male      137\n",
       "   pass  female     94\n",
       "         male       54\n",
       "F  fail  female    103\n",
       "         male      149\n",
       "   pass  female    238\n",
       "         male      224\n",
       "dtype: int64"
      ]
     },
     "execution_count": 179,
     "metadata": {},
     "output_type": "execute_result"
    }
   ],
   "source": [
    "df.stack().stack() # 인덱스 중첩3겹, 컬럼 중첩 0겹 // pandas series"
   ]
  },
  {
   "cell_type": "code",
   "execution_count": 180,
   "id": "0010c9a0-972f-4f46-942d-9e0952deade9",
   "metadata": {
    "tags": []
   },
   "outputs": [
    {
     "data": {
      "text/html": [
       "<div>\n",
       "<style scoped>\n",
       "    .dataframe tbody tr th:only-of-type {\n",
       "        vertical-align: middle;\n",
       "    }\n",
       "\n",
       "    .dataframe tbody tr th {\n",
       "        vertical-align: top;\n",
       "    }\n",
       "\n",
       "    .dataframe thead th {\n",
       "        text-align: right;\n",
       "    }\n",
       "</style>\n",
       "<table border=\"1\" class=\"dataframe\">\n",
       "  <thead>\n",
       "    <tr style=\"text-align: right;\">\n",
       "      <th></th>\n",
       "      <th>level_0</th>\n",
       "      <th>level_1</th>\n",
       "      <th>level_2</th>\n",
       "      <th>0</th>\n",
       "    </tr>\n",
       "  </thead>\n",
       "  <tbody>\n",
       "    <tr>\n",
       "      <th>0</th>\n",
       "      <td>A</td>\n",
       "      <td>fail</td>\n",
       "      <td>female</td>\n",
       "      <td>19</td>\n",
       "    </tr>\n",
       "    <tr>\n",
       "      <th>1</th>\n",
       "      <td>A</td>\n",
       "      <td>fail</td>\n",
       "      <td>male</td>\n",
       "      <td>314</td>\n",
       "    </tr>\n",
       "    <tr>\n",
       "      <th>2</th>\n",
       "      <td>A</td>\n",
       "      <td>pass</td>\n",
       "      <td>female</td>\n",
       "      <td>89</td>\n",
       "    </tr>\n",
       "    <tr>\n",
       "      <th>3</th>\n",
       "      <td>A</td>\n",
       "      <td>pass</td>\n",
       "      <td>male</td>\n",
       "      <td>511</td>\n",
       "    </tr>\n",
       "    <tr>\n",
       "      <th>4</th>\n",
       "      <td>B</td>\n",
       "      <td>fail</td>\n",
       "      <td>female</td>\n",
       "      <td>7</td>\n",
       "    </tr>\n",
       "    <tr>\n",
       "      <th>5</th>\n",
       "      <td>B</td>\n",
       "      <td>fail</td>\n",
       "      <td>male</td>\n",
       "      <td>208</td>\n",
       "    </tr>\n",
       "    <tr>\n",
       "      <th>6</th>\n",
       "      <td>B</td>\n",
       "      <td>pass</td>\n",
       "      <td>female</td>\n",
       "      <td>18</td>\n",
       "    </tr>\n",
       "    <tr>\n",
       "      <th>7</th>\n",
       "      <td>B</td>\n",
       "      <td>pass</td>\n",
       "      <td>male</td>\n",
       "      <td>352</td>\n",
       "    </tr>\n",
       "    <tr>\n",
       "      <th>8</th>\n",
       "      <td>C</td>\n",
       "      <td>fail</td>\n",
       "      <td>female</td>\n",
       "      <td>391</td>\n",
       "    </tr>\n",
       "    <tr>\n",
       "      <th>9</th>\n",
       "      <td>C</td>\n",
       "      <td>fail</td>\n",
       "      <td>male</td>\n",
       "      <td>204</td>\n",
       "    </tr>\n",
       "    <tr>\n",
       "      <th>10</th>\n",
       "      <td>C</td>\n",
       "      <td>pass</td>\n",
       "      <td>female</td>\n",
       "      <td>202</td>\n",
       "    </tr>\n",
       "    <tr>\n",
       "      <th>11</th>\n",
       "      <td>C</td>\n",
       "      <td>pass</td>\n",
       "      <td>male</td>\n",
       "      <td>121</td>\n",
       "    </tr>\n",
       "    <tr>\n",
       "      <th>12</th>\n",
       "      <td>D</td>\n",
       "      <td>fail</td>\n",
       "      <td>female</td>\n",
       "      <td>244</td>\n",
       "    </tr>\n",
       "    <tr>\n",
       "      <th>13</th>\n",
       "      <td>D</td>\n",
       "      <td>fail</td>\n",
       "      <td>male</td>\n",
       "      <td>279</td>\n",
       "    </tr>\n",
       "    <tr>\n",
       "      <th>14</th>\n",
       "      <td>D</td>\n",
       "      <td>pass</td>\n",
       "      <td>female</td>\n",
       "      <td>131</td>\n",
       "    </tr>\n",
       "    <tr>\n",
       "      <th>15</th>\n",
       "      <td>D</td>\n",
       "      <td>pass</td>\n",
       "      <td>male</td>\n",
       "      <td>138</td>\n",
       "    </tr>\n",
       "    <tr>\n",
       "      <th>16</th>\n",
       "      <td>E</td>\n",
       "      <td>fail</td>\n",
       "      <td>female</td>\n",
       "      <td>299</td>\n",
       "    </tr>\n",
       "    <tr>\n",
       "      <th>17</th>\n",
       "      <td>E</td>\n",
       "      <td>fail</td>\n",
       "      <td>male</td>\n",
       "      <td>137</td>\n",
       "    </tr>\n",
       "    <tr>\n",
       "      <th>18</th>\n",
       "      <td>E</td>\n",
       "      <td>pass</td>\n",
       "      <td>female</td>\n",
       "      <td>94</td>\n",
       "    </tr>\n",
       "    <tr>\n",
       "      <th>19</th>\n",
       "      <td>E</td>\n",
       "      <td>pass</td>\n",
       "      <td>male</td>\n",
       "      <td>54</td>\n",
       "    </tr>\n",
       "    <tr>\n",
       "      <th>20</th>\n",
       "      <td>F</td>\n",
       "      <td>fail</td>\n",
       "      <td>female</td>\n",
       "      <td>103</td>\n",
       "    </tr>\n",
       "    <tr>\n",
       "      <th>21</th>\n",
       "      <td>F</td>\n",
       "      <td>fail</td>\n",
       "      <td>male</td>\n",
       "      <td>149</td>\n",
       "    </tr>\n",
       "    <tr>\n",
       "      <th>22</th>\n",
       "      <td>F</td>\n",
       "      <td>pass</td>\n",
       "      <td>female</td>\n",
       "      <td>238</td>\n",
       "    </tr>\n",
       "    <tr>\n",
       "      <th>23</th>\n",
       "      <td>F</td>\n",
       "      <td>pass</td>\n",
       "      <td>male</td>\n",
       "      <td>224</td>\n",
       "    </tr>\n",
       "  </tbody>\n",
       "</table>\n",
       "</div>"
      ],
      "text/plain": [
       "   level_0 level_1 level_2    0\n",
       "0        A    fail  female   19\n",
       "1        A    fail    male  314\n",
       "2        A    pass  female   89\n",
       "3        A    pass    male  511\n",
       "4        B    fail  female    7\n",
       "5        B    fail    male  208\n",
       "6        B    pass  female   18\n",
       "7        B    pass    male  352\n",
       "8        C    fail  female  391\n",
       "9        C    fail    male  204\n",
       "10       C    pass  female  202\n",
       "11       C    pass    male  121\n",
       "12       D    fail  female  244\n",
       "13       D    fail    male  279\n",
       "14       D    pass  female  131\n",
       "15       D    pass    male  138\n",
       "16       E    fail  female  299\n",
       "17       E    fail    male  137\n",
       "18       E    pass  female   94\n",
       "19       E    pass    male   54\n",
       "20       F    fail  female  103\n",
       "21       F    fail    male  149\n",
       "22       F    pass  female  238\n",
       "23       F    pass    male  224"
      ]
     },
     "execution_count": 180,
     "metadata": {},
     "output_type": "execute_result"
    }
   ],
   "source": [
    "df.stack().stack().reset_index()"
   ]
  },
  {
   "cell_type": "markdown",
   "id": "ea44edf6-32f9-42be-b4b6-c088b66aa6f6",
   "metadata": {},
   "source": [
    "- 컬럼이름만 바꿔주면 되겠는데?"
   ]
  },
  {
   "cell_type": "markdown",
   "id": "2e064934-5ea1-422b-ab5b-b5bb33c9c641",
   "metadata": {},
   "source": [
    "`#`"
   ]
  },
  {
   "cell_type": "markdown",
   "id": "7c41d14e-f7c1-47ea-98c4-6230d2e3b3e9",
   "metadata": {
    "tags": []
   },
   "source": [
    "## D. `unstack() + reset_index()`"
   ]
  },
  {
   "cell_type": "code",
   "execution_count": 187,
   "id": "c164b590-31bc-4048-b301-b2f97521b285",
   "metadata": {},
   "outputs": [
    {
     "data": {
      "text/plain": [
       "female  fail  A     19\n",
       "              B      7\n",
       "              C    391\n",
       "              D    244\n",
       "              E    299\n",
       "              F    103\n",
       "        pass  A     89\n",
       "              B     18\n",
       "              C    202\n",
       "              D    131\n",
       "              E     94\n",
       "              F    238\n",
       "male    fail  A    314\n",
       "              B    208\n",
       "              C    204\n",
       "              D    279\n",
       "              E    137\n",
       "              F    149\n",
       "        pass  A    511\n",
       "              B    352\n",
       "              C    121\n",
       "              D    138\n",
       "              E     54\n",
       "              F    224\n",
       "dtype: int64"
      ]
     },
     "execution_count": 187,
     "metadata": {},
     "output_type": "execute_result"
    }
   ],
   "source": [
    "df.stack().unstack().unstack() # 인덱스에 있는 중첩구조를 컬럼으로 옮긴다. (인덱스 중첩 0겹, 컬럼3겹의 시리즈 리턴)"
   ]
  },
  {
   "cell_type": "markdown",
   "id": "bfb35a60-7cb2-4041-a423-24f5b5a99128",
   "metadata": {},
   "source": [
    "`# 예시1` -- `.stack()`과 `.unstack()`은 반대연산 "
   ]
  },
  {
   "cell_type": "code",
   "execution_count": 189,
   "id": "336b4dba-10dd-41c8-8faa-9f228e35f084",
   "metadata": {
    "tags": []
   },
   "outputs": [
    {
     "data": {
      "text/html": [
       "<div>\n",
       "<style scoped>\n",
       "    .dataframe tbody tr th:only-of-type {\n",
       "        vertical-align: middle;\n",
       "    }\n",
       "\n",
       "    .dataframe tbody tr th {\n",
       "        vertical-align: top;\n",
       "    }\n",
       "\n",
       "    .dataframe thead tr th {\n",
       "        text-align: left;\n",
       "    }\n",
       "\n",
       "    .dataframe thead tr:last-of-type th {\n",
       "        text-align: right;\n",
       "    }\n",
       "</style>\n",
       "<table border=\"1\" class=\"dataframe\">\n",
       "  <thead>\n",
       "    <tr>\n",
       "      <th></th>\n",
       "      <th></th>\n",
       "      <th colspan=\"2\" halign=\"left\">CANCELLED</th>\n",
       "      <th colspan=\"2\" halign=\"left\">DIVERTED</th>\n",
       "    </tr>\n",
       "    <tr>\n",
       "      <th></th>\n",
       "      <th></th>\n",
       "      <th>mean</th>\n",
       "      <th>count</th>\n",
       "      <th>mean</th>\n",
       "      <th>count</th>\n",
       "    </tr>\n",
       "    <tr>\n",
       "      <th>AIRLINE</th>\n",
       "      <th>WEEKDAY</th>\n",
       "      <th></th>\n",
       "      <th></th>\n",
       "      <th></th>\n",
       "      <th></th>\n",
       "    </tr>\n",
       "  </thead>\n",
       "  <tbody>\n",
       "    <tr>\n",
       "      <th rowspan=\"5\" valign=\"top\">AA</th>\n",
       "      <th>1</th>\n",
       "      <td>0.032106</td>\n",
       "      <td>1277</td>\n",
       "      <td>0.004699</td>\n",
       "      <td>1277</td>\n",
       "    </tr>\n",
       "    <tr>\n",
       "      <th>2</th>\n",
       "      <td>0.007341</td>\n",
       "      <td>1226</td>\n",
       "      <td>0.001631</td>\n",
       "      <td>1226</td>\n",
       "    </tr>\n",
       "    <tr>\n",
       "      <th>3</th>\n",
       "      <td>0.011949</td>\n",
       "      <td>1339</td>\n",
       "      <td>0.001494</td>\n",
       "      <td>1339</td>\n",
       "    </tr>\n",
       "    <tr>\n",
       "      <th>4</th>\n",
       "      <td>0.015004</td>\n",
       "      <td>1333</td>\n",
       "      <td>0.003751</td>\n",
       "      <td>1333</td>\n",
       "    </tr>\n",
       "    <tr>\n",
       "      <th>5</th>\n",
       "      <td>0.014151</td>\n",
       "      <td>1272</td>\n",
       "      <td>0.000786</td>\n",
       "      <td>1272</td>\n",
       "    </tr>\n",
       "    <tr>\n",
       "      <th>...</th>\n",
       "      <th>...</th>\n",
       "      <td>...</td>\n",
       "      <td>...</td>\n",
       "      <td>...</td>\n",
       "      <td>...</td>\n",
       "    </tr>\n",
       "    <tr>\n",
       "      <th rowspan=\"5\" valign=\"top\">WN</th>\n",
       "      <th>3</th>\n",
       "      <td>0.014118</td>\n",
       "      <td>1275</td>\n",
       "      <td>0.001569</td>\n",
       "      <td>1275</td>\n",
       "    </tr>\n",
       "    <tr>\n",
       "      <th>4</th>\n",
       "      <td>0.007911</td>\n",
       "      <td>1264</td>\n",
       "      <td>0.003165</td>\n",
       "      <td>1264</td>\n",
       "    </tr>\n",
       "    <tr>\n",
       "      <th>5</th>\n",
       "      <td>0.005828</td>\n",
       "      <td>1201</td>\n",
       "      <td>0.000000</td>\n",
       "      <td>1201</td>\n",
       "    </tr>\n",
       "    <tr>\n",
       "      <th>6</th>\n",
       "      <td>0.010132</td>\n",
       "      <td>987</td>\n",
       "      <td>0.003040</td>\n",
       "      <td>987</td>\n",
       "    </tr>\n",
       "    <tr>\n",
       "      <th>7</th>\n",
       "      <td>0.006066</td>\n",
       "      <td>1154</td>\n",
       "      <td>0.002600</td>\n",
       "      <td>1154</td>\n",
       "    </tr>\n",
       "  </tbody>\n",
       "</table>\n",
       "<p>98 rows × 4 columns</p>\n",
       "</div>"
      ],
      "text/plain": [
       "                CANCELLED        DIVERTED      \n",
       "                     mean count      mean count\n",
       "AIRLINE WEEKDAY                                \n",
       "AA      1        0.032106  1277  0.004699  1277\n",
       "        2        0.007341  1226  0.001631  1226\n",
       "        3        0.011949  1339  0.001494  1339\n",
       "        4        0.015004  1333  0.003751  1333\n",
       "        5        0.014151  1272  0.000786  1272\n",
       "...                   ...   ...       ...   ...\n",
       "WN      3        0.014118  1275  0.001569  1275\n",
       "        4        0.007911  1264  0.003165  1264\n",
       "        5        0.005828  1201  0.000000  1201\n",
       "        6        0.010132   987  0.003040   987\n",
       "        7        0.006066  1154  0.002600  1154\n",
       "\n",
       "[98 rows x 4 columns]"
      ]
     },
     "execution_count": 189,
     "metadata": {},
     "output_type": "execute_result"
    }
   ],
   "source": [
    "df=pd.read_csv('https://raw.githubusercontent.com/PacktPublishing/Pandas-Cookbook/master/data/flights.csv')\\\n",
    ".groupby([\"AIRLINE\",\"WEEKDAY\"]).agg({\"CANCELLED\":[np.mean,\"count\"],\"DIVERTED\":[np.mean,\"count\"]})\n",
    "df"
   ]
  },
  {
   "cell_type": "code",
   "execution_count": 190,
   "id": "bafbaa54-ec6a-4cd5-87f1-f417f8b6778f",
   "metadata": {
    "tags": []
   },
   "outputs": [
    {
     "data": {
      "text/html": [
       "<div>\n",
       "<style scoped>\n",
       "    .dataframe tbody tr th:only-of-type {\n",
       "        vertical-align: middle;\n",
       "    }\n",
       "\n",
       "    .dataframe tbody tr th {\n",
       "        vertical-align: top;\n",
       "    }\n",
       "\n",
       "    .dataframe thead th {\n",
       "        text-align: right;\n",
       "    }\n",
       "</style>\n",
       "<table border=\"1\" class=\"dataframe\">\n",
       "  <thead>\n",
       "    <tr style=\"text-align: right;\">\n",
       "      <th></th>\n",
       "      <th></th>\n",
       "      <th></th>\n",
       "      <th>CANCELLED</th>\n",
       "      <th>DIVERTED</th>\n",
       "    </tr>\n",
       "    <tr>\n",
       "      <th>AIRLINE</th>\n",
       "      <th>WEEKDAY</th>\n",
       "      <th></th>\n",
       "      <th></th>\n",
       "      <th></th>\n",
       "    </tr>\n",
       "  </thead>\n",
       "  <tbody>\n",
       "    <tr>\n",
       "      <th rowspan=\"5\" valign=\"top\">AA</th>\n",
       "      <th rowspan=\"2\" valign=\"top\">1</th>\n",
       "      <th>mean</th>\n",
       "      <td>0.032106</td>\n",
       "      <td>0.004699</td>\n",
       "    </tr>\n",
       "    <tr>\n",
       "      <th>count</th>\n",
       "      <td>1277.000000</td>\n",
       "      <td>1277.000000</td>\n",
       "    </tr>\n",
       "    <tr>\n",
       "      <th rowspan=\"2\" valign=\"top\">2</th>\n",
       "      <th>mean</th>\n",
       "      <td>0.007341</td>\n",
       "      <td>0.001631</td>\n",
       "    </tr>\n",
       "    <tr>\n",
       "      <th>count</th>\n",
       "      <td>1226.000000</td>\n",
       "      <td>1226.000000</td>\n",
       "    </tr>\n",
       "    <tr>\n",
       "      <th>3</th>\n",
       "      <th>mean</th>\n",
       "      <td>0.011949</td>\n",
       "      <td>0.001494</td>\n",
       "    </tr>\n",
       "    <tr>\n",
       "      <th>...</th>\n",
       "      <th>...</th>\n",
       "      <th>...</th>\n",
       "      <td>...</td>\n",
       "      <td>...</td>\n",
       "    </tr>\n",
       "    <tr>\n",
       "      <th rowspan=\"5\" valign=\"top\">WN</th>\n",
       "      <th>5</th>\n",
       "      <th>count</th>\n",
       "      <td>1201.000000</td>\n",
       "      <td>1201.000000</td>\n",
       "    </tr>\n",
       "    <tr>\n",
       "      <th rowspan=\"2\" valign=\"top\">6</th>\n",
       "      <th>mean</th>\n",
       "      <td>0.010132</td>\n",
       "      <td>0.003040</td>\n",
       "    </tr>\n",
       "    <tr>\n",
       "      <th>count</th>\n",
       "      <td>987.000000</td>\n",
       "      <td>987.000000</td>\n",
       "    </tr>\n",
       "    <tr>\n",
       "      <th rowspan=\"2\" valign=\"top\">7</th>\n",
       "      <th>mean</th>\n",
       "      <td>0.006066</td>\n",
       "      <td>0.002600</td>\n",
       "    </tr>\n",
       "    <tr>\n",
       "      <th>count</th>\n",
       "      <td>1154.000000</td>\n",
       "      <td>1154.000000</td>\n",
       "    </tr>\n",
       "  </tbody>\n",
       "</table>\n",
       "<p>196 rows × 2 columns</p>\n",
       "</div>"
      ],
      "text/plain": [
       "                         CANCELLED     DIVERTED\n",
       "AIRLINE WEEKDAY                                \n",
       "AA      1       mean      0.032106     0.004699\n",
       "                count  1277.000000  1277.000000\n",
       "        2       mean      0.007341     0.001631\n",
       "                count  1226.000000  1226.000000\n",
       "        3       mean      0.011949     0.001494\n",
       "...                            ...          ...\n",
       "WN      5       count  1201.000000  1201.000000\n",
       "        6       mean      0.010132     0.003040\n",
       "                count   987.000000   987.000000\n",
       "        7       mean      0.006066     0.002600\n",
       "                count  1154.000000  1154.000000\n",
       "\n",
       "[196 rows x 2 columns]"
      ]
     },
     "execution_count": 190,
     "metadata": {},
     "output_type": "execute_result"
    }
   ],
   "source": [
    "df.stack()"
   ]
  },
  {
   "cell_type": "code",
   "execution_count": 191,
   "id": "a7b73a0a-8877-40c4-932f-48b2feab0b75",
   "metadata": {
    "tags": []
   },
   "outputs": [
    {
     "data": {
      "text/html": [
       "<div>\n",
       "<style scoped>\n",
       "    .dataframe tbody tr th:only-of-type {\n",
       "        vertical-align: middle;\n",
       "    }\n",
       "\n",
       "    .dataframe tbody tr th {\n",
       "        vertical-align: top;\n",
       "    }\n",
       "\n",
       "    .dataframe thead tr th {\n",
       "        text-align: left;\n",
       "    }\n",
       "\n",
       "    .dataframe thead tr:last-of-type th {\n",
       "        text-align: right;\n",
       "    }\n",
       "</style>\n",
       "<table border=\"1\" class=\"dataframe\">\n",
       "  <thead>\n",
       "    <tr>\n",
       "      <th></th>\n",
       "      <th colspan=\"10\" halign=\"left\">CANCELLED</th>\n",
       "      <th>...</th>\n",
       "      <th colspan=\"10\" halign=\"left\">DIVERTED</th>\n",
       "    </tr>\n",
       "    <tr>\n",
       "      <th></th>\n",
       "      <th colspan=\"7\" halign=\"left\">mean</th>\n",
       "      <th colspan=\"3\" halign=\"left\">count</th>\n",
       "      <th>...</th>\n",
       "      <th colspan=\"3\" halign=\"left\">mean</th>\n",
       "      <th colspan=\"7\" halign=\"left\">count</th>\n",
       "    </tr>\n",
       "    <tr>\n",
       "      <th>WEEKDAY</th>\n",
       "      <th>1</th>\n",
       "      <th>2</th>\n",
       "      <th>3</th>\n",
       "      <th>4</th>\n",
       "      <th>5</th>\n",
       "      <th>6</th>\n",
       "      <th>7</th>\n",
       "      <th>1</th>\n",
       "      <th>2</th>\n",
       "      <th>3</th>\n",
       "      <th>...</th>\n",
       "      <th>5</th>\n",
       "      <th>6</th>\n",
       "      <th>7</th>\n",
       "      <th>1</th>\n",
       "      <th>2</th>\n",
       "      <th>3</th>\n",
       "      <th>4</th>\n",
       "      <th>5</th>\n",
       "      <th>6</th>\n",
       "      <th>7</th>\n",
       "    </tr>\n",
       "    <tr>\n",
       "      <th>AIRLINE</th>\n",
       "      <th></th>\n",
       "      <th></th>\n",
       "      <th></th>\n",
       "      <th></th>\n",
       "      <th></th>\n",
       "      <th></th>\n",
       "      <th></th>\n",
       "      <th></th>\n",
       "      <th></th>\n",
       "      <th></th>\n",
       "      <th></th>\n",
       "      <th></th>\n",
       "      <th></th>\n",
       "      <th></th>\n",
       "      <th></th>\n",
       "      <th></th>\n",
       "      <th></th>\n",
       "      <th></th>\n",
       "      <th></th>\n",
       "      <th></th>\n",
       "      <th></th>\n",
       "    </tr>\n",
       "  </thead>\n",
       "  <tbody>\n",
       "    <tr>\n",
       "      <th>AA</th>\n",
       "      <td>0.032106</td>\n",
       "      <td>0.007341</td>\n",
       "      <td>0.011949</td>\n",
       "      <td>0.015004</td>\n",
       "      <td>0.014151</td>\n",
       "      <td>0.018667</td>\n",
       "      <td>0.021837</td>\n",
       "      <td>1277</td>\n",
       "      <td>1226</td>\n",
       "      <td>1339</td>\n",
       "      <td>...</td>\n",
       "      <td>0.000786</td>\n",
       "      <td>0.008000</td>\n",
       "      <td>0.000753</td>\n",
       "      <td>1277</td>\n",
       "      <td>1226</td>\n",
       "      <td>1339</td>\n",
       "      <td>1333</td>\n",
       "      <td>1272</td>\n",
       "      <td>1125</td>\n",
       "      <td>1328</td>\n",
       "    </tr>\n",
       "    <tr>\n",
       "      <th>AS</th>\n",
       "      <td>0.000000</td>\n",
       "      <td>0.000000</td>\n",
       "      <td>0.000000</td>\n",
       "      <td>0.000000</td>\n",
       "      <td>0.000000</td>\n",
       "      <td>0.000000</td>\n",
       "      <td>0.000000</td>\n",
       "      <td>118</td>\n",
       "      <td>106</td>\n",
       "      <td>115</td>\n",
       "      <td>...</td>\n",
       "      <td>0.000000</td>\n",
       "      <td>0.000000</td>\n",
       "      <td>0.000000</td>\n",
       "      <td>118</td>\n",
       "      <td>106</td>\n",
       "      <td>115</td>\n",
       "      <td>110</td>\n",
       "      <td>109</td>\n",
       "      <td>103</td>\n",
       "      <td>107</td>\n",
       "    </tr>\n",
       "    <tr>\n",
       "      <th>B6</th>\n",
       "      <td>0.000000</td>\n",
       "      <td>0.012658</td>\n",
       "      <td>0.000000</td>\n",
       "      <td>0.000000</td>\n",
       "      <td>0.000000</td>\n",
       "      <td>0.000000</td>\n",
       "      <td>0.000000</td>\n",
       "      <td>70</td>\n",
       "      <td>79</td>\n",
       "      <td>78</td>\n",
       "      <td>...</td>\n",
       "      <td>0.000000</td>\n",
       "      <td>0.016667</td>\n",
       "      <td>0.011364</td>\n",
       "      <td>70</td>\n",
       "      <td>79</td>\n",
       "      <td>78</td>\n",
       "      <td>84</td>\n",
       "      <td>84</td>\n",
       "      <td>60</td>\n",
       "      <td>88</td>\n",
       "    </tr>\n",
       "    <tr>\n",
       "      <th>DL</th>\n",
       "      <td>0.006068</td>\n",
       "      <td>0.005208</td>\n",
       "      <td>0.005131</td>\n",
       "      <td>0.001940</td>\n",
       "      <td>0.001982</td>\n",
       "      <td>0.003195</td>\n",
       "      <td>0.001294</td>\n",
       "      <td>1648</td>\n",
       "      <td>1536</td>\n",
       "      <td>1559</td>\n",
       "      <td>...</td>\n",
       "      <td>0.001982</td>\n",
       "      <td>0.003195</td>\n",
       "      <td>0.002587</td>\n",
       "      <td>1648</td>\n",
       "      <td>1536</td>\n",
       "      <td>1559</td>\n",
       "      <td>1546</td>\n",
       "      <td>1514</td>\n",
       "      <td>1252</td>\n",
       "      <td>1546</td>\n",
       "    </tr>\n",
       "    <tr>\n",
       "      <th>EV</th>\n",
       "      <td>0.034130</td>\n",
       "      <td>0.023918</td>\n",
       "      <td>0.022910</td>\n",
       "      <td>0.026895</td>\n",
       "      <td>0.013111</td>\n",
       "      <td>0.022504</td>\n",
       "      <td>0.030233</td>\n",
       "      <td>879</td>\n",
       "      <td>878</td>\n",
       "      <td>873</td>\n",
       "      <td>...</td>\n",
       "      <td>0.002384</td>\n",
       "      <td>0.001406</td>\n",
       "      <td>0.002326</td>\n",
       "      <td>879</td>\n",
       "      <td>878</td>\n",
       "      <td>873</td>\n",
       "      <td>818</td>\n",
       "      <td>839</td>\n",
       "      <td>711</td>\n",
       "      <td>860</td>\n",
       "    </tr>\n",
       "    <tr>\n",
       "      <th>F9</th>\n",
       "      <td>0.016129</td>\n",
       "      <td>0.005376</td>\n",
       "      <td>0.000000</td>\n",
       "      <td>0.000000</td>\n",
       "      <td>0.005155</td>\n",
       "      <td>0.011050</td>\n",
       "      <td>0.015625</td>\n",
       "      <td>186</td>\n",
       "      <td>186</td>\n",
       "      <td>192</td>\n",
       "      <td>...</td>\n",
       "      <td>0.000000</td>\n",
       "      <td>0.000000</td>\n",
       "      <td>0.005208</td>\n",
       "      <td>186</td>\n",
       "      <td>186</td>\n",
       "      <td>192</td>\n",
       "      <td>186</td>\n",
       "      <td>194</td>\n",
       "      <td>181</td>\n",
       "      <td>192</td>\n",
       "    </tr>\n",
       "    <tr>\n",
       "      <th>HA</th>\n",
       "      <td>0.000000</td>\n",
       "      <td>0.000000</td>\n",
       "      <td>0.000000</td>\n",
       "      <td>0.000000</td>\n",
       "      <td>0.000000</td>\n",
       "      <td>0.000000</td>\n",
       "      <td>0.000000</td>\n",
       "      <td>19</td>\n",
       "      <td>19</td>\n",
       "      <td>19</td>\n",
       "      <td>...</td>\n",
       "      <td>0.000000</td>\n",
       "      <td>0.000000</td>\n",
       "      <td>0.000000</td>\n",
       "      <td>19</td>\n",
       "      <td>19</td>\n",
       "      <td>19</td>\n",
       "      <td>15</td>\n",
       "      <td>11</td>\n",
       "      <td>12</td>\n",
       "      <td>17</td>\n",
       "    </tr>\n",
       "    <tr>\n",
       "      <th>MQ</th>\n",
       "      <td>0.086785</td>\n",
       "      <td>0.032819</td>\n",
       "      <td>0.025145</td>\n",
       "      <td>0.039146</td>\n",
       "      <td>0.028000</td>\n",
       "      <td>0.038356</td>\n",
       "      <td>0.055777</td>\n",
       "      <td>507</td>\n",
       "      <td>518</td>\n",
       "      <td>517</td>\n",
       "      <td>...</td>\n",
       "      <td>0.000000</td>\n",
       "      <td>0.000000</td>\n",
       "      <td>0.000000</td>\n",
       "      <td>507</td>\n",
       "      <td>518</td>\n",
       "      <td>517</td>\n",
       "      <td>562</td>\n",
       "      <td>500</td>\n",
       "      <td>365</td>\n",
       "      <td>502</td>\n",
       "    </tr>\n",
       "    <tr>\n",
       "      <th>NK</th>\n",
       "      <td>0.035354</td>\n",
       "      <td>0.013158</td>\n",
       "      <td>0.013953</td>\n",
       "      <td>0.013216</td>\n",
       "      <td>0.012821</td>\n",
       "      <td>0.019900</td>\n",
       "      <td>0.009390</td>\n",
       "      <td>198</td>\n",
       "      <td>228</td>\n",
       "      <td>215</td>\n",
       "      <td>...</td>\n",
       "      <td>0.000000</td>\n",
       "      <td>0.004975</td>\n",
       "      <td>0.004695</td>\n",
       "      <td>198</td>\n",
       "      <td>228</td>\n",
       "      <td>215</td>\n",
       "      <td>227</td>\n",
       "      <td>234</td>\n",
       "      <td>201</td>\n",
       "      <td>213</td>\n",
       "    </tr>\n",
       "    <tr>\n",
       "      <th>OO</th>\n",
       "      <td>0.030581</td>\n",
       "      <td>0.011156</td>\n",
       "      <td>0.014478</td>\n",
       "      <td>0.013627</td>\n",
       "      <td>0.026399</td>\n",
       "      <td>0.024125</td>\n",
       "      <td>0.031385</td>\n",
       "      <td>981</td>\n",
       "      <td>986</td>\n",
       "      <td>967</td>\n",
       "      <td>...</td>\n",
       "      <td>0.004224</td>\n",
       "      <td>0.002413</td>\n",
       "      <td>0.003247</td>\n",
       "      <td>981</td>\n",
       "      <td>986</td>\n",
       "      <td>967</td>\n",
       "      <td>954</td>\n",
       "      <td>947</td>\n",
       "      <td>829</td>\n",
       "      <td>924</td>\n",
       "    </tr>\n",
       "    <tr>\n",
       "      <th>UA</th>\n",
       "      <td>0.018914</td>\n",
       "      <td>0.017498</td>\n",
       "      <td>0.007799</td>\n",
       "      <td>0.007719</td>\n",
       "      <td>0.010195</td>\n",
       "      <td>0.006682</td>\n",
       "      <td>0.013487</td>\n",
       "      <td>1216</td>\n",
       "      <td>1143</td>\n",
       "      <td>1154</td>\n",
       "      <td>...</td>\n",
       "      <td>0.001699</td>\n",
       "      <td>0.002227</td>\n",
       "      <td>0.003854</td>\n",
       "      <td>1216</td>\n",
       "      <td>1143</td>\n",
       "      <td>1154</td>\n",
       "      <td>1166</td>\n",
       "      <td>1177</td>\n",
       "      <td>898</td>\n",
       "      <td>1038</td>\n",
       "    </tr>\n",
       "    <tr>\n",
       "      <th>US</th>\n",
       "      <td>0.026906</td>\n",
       "      <td>0.018018</td>\n",
       "      <td>0.004545</td>\n",
       "      <td>0.003953</td>\n",
       "      <td>0.009050</td>\n",
       "      <td>0.004695</td>\n",
       "      <td>0.022814</td>\n",
       "      <td>223</td>\n",
       "      <td>222</td>\n",
       "      <td>220</td>\n",
       "      <td>...</td>\n",
       "      <td>0.000000</td>\n",
       "      <td>0.000000</td>\n",
       "      <td>0.000000</td>\n",
       "      <td>223</td>\n",
       "      <td>222</td>\n",
       "      <td>220</td>\n",
       "      <td>253</td>\n",
       "      <td>221</td>\n",
       "      <td>213</td>\n",
       "      <td>263</td>\n",
       "    </tr>\n",
       "    <tr>\n",
       "      <th>VX</th>\n",
       "      <td>0.007194</td>\n",
       "      <td>0.000000</td>\n",
       "      <td>0.000000</td>\n",
       "      <td>0.014184</td>\n",
       "      <td>0.006667</td>\n",
       "      <td>0.000000</td>\n",
       "      <td>0.014815</td>\n",
       "      <td>139</td>\n",
       "      <td>130</td>\n",
       "      <td>183</td>\n",
       "      <td>...</td>\n",
       "      <td>0.000000</td>\n",
       "      <td>0.000000</td>\n",
       "      <td>0.007407</td>\n",
       "      <td>139</td>\n",
       "      <td>130</td>\n",
       "      <td>183</td>\n",
       "      <td>141</td>\n",
       "      <td>150</td>\n",
       "      <td>115</td>\n",
       "      <td>135</td>\n",
       "    </tr>\n",
       "    <tr>\n",
       "      <th>WN</th>\n",
       "      <td>0.012708</td>\n",
       "      <td>0.019562</td>\n",
       "      <td>0.014118</td>\n",
       "      <td>0.007911</td>\n",
       "      <td>0.005828</td>\n",
       "      <td>0.010132</td>\n",
       "      <td>0.006066</td>\n",
       "      <td>1259</td>\n",
       "      <td>1278</td>\n",
       "      <td>1275</td>\n",
       "      <td>...</td>\n",
       "      <td>0.000000</td>\n",
       "      <td>0.003040</td>\n",
       "      <td>0.002600</td>\n",
       "      <td>1259</td>\n",
       "      <td>1278</td>\n",
       "      <td>1275</td>\n",
       "      <td>1264</td>\n",
       "      <td>1201</td>\n",
       "      <td>987</td>\n",
       "      <td>1154</td>\n",
       "    </tr>\n",
       "  </tbody>\n",
       "</table>\n",
       "<p>14 rows × 28 columns</p>\n",
       "</div>"
      ],
      "text/plain": [
       "        CANCELLED                                                              \\\n",
       "             mean                                                               \n",
       "WEEKDAY         1         2         3         4         5         6         7   \n",
       "AIRLINE                                                                         \n",
       "AA       0.032106  0.007341  0.011949  0.015004  0.014151  0.018667  0.021837   \n",
       "AS       0.000000  0.000000  0.000000  0.000000  0.000000  0.000000  0.000000   \n",
       "B6       0.000000  0.012658  0.000000  0.000000  0.000000  0.000000  0.000000   \n",
       "DL       0.006068  0.005208  0.005131  0.001940  0.001982  0.003195  0.001294   \n",
       "EV       0.034130  0.023918  0.022910  0.026895  0.013111  0.022504  0.030233   \n",
       "F9       0.016129  0.005376  0.000000  0.000000  0.005155  0.011050  0.015625   \n",
       "HA       0.000000  0.000000  0.000000  0.000000  0.000000  0.000000  0.000000   \n",
       "MQ       0.086785  0.032819  0.025145  0.039146  0.028000  0.038356  0.055777   \n",
       "NK       0.035354  0.013158  0.013953  0.013216  0.012821  0.019900  0.009390   \n",
       "OO       0.030581  0.011156  0.014478  0.013627  0.026399  0.024125  0.031385   \n",
       "UA       0.018914  0.017498  0.007799  0.007719  0.010195  0.006682  0.013487   \n",
       "US       0.026906  0.018018  0.004545  0.003953  0.009050  0.004695  0.022814   \n",
       "VX       0.007194  0.000000  0.000000  0.014184  0.006667  0.000000  0.014815   \n",
       "WN       0.012708  0.019562  0.014118  0.007911  0.005828  0.010132  0.006066   \n",
       "\n",
       "                           ...  DIVERTED                                  \\\n",
       "        count              ...      mean                     count         \n",
       "WEEKDAY     1     2     3  ...         5         6         7     1     2   \n",
       "AIRLINE                    ...                                             \n",
       "AA       1277  1226  1339  ...  0.000786  0.008000  0.000753  1277  1226   \n",
       "AS        118   106   115  ...  0.000000  0.000000  0.000000   118   106   \n",
       "B6         70    79    78  ...  0.000000  0.016667  0.011364    70    79   \n",
       "DL       1648  1536  1559  ...  0.001982  0.003195  0.002587  1648  1536   \n",
       "EV        879   878   873  ...  0.002384  0.001406  0.002326   879   878   \n",
       "F9        186   186   192  ...  0.000000  0.000000  0.005208   186   186   \n",
       "HA         19    19    19  ...  0.000000  0.000000  0.000000    19    19   \n",
       "MQ        507   518   517  ...  0.000000  0.000000  0.000000   507   518   \n",
       "NK        198   228   215  ...  0.000000  0.004975  0.004695   198   228   \n",
       "OO        981   986   967  ...  0.004224  0.002413  0.003247   981   986   \n",
       "UA       1216  1143  1154  ...  0.001699  0.002227  0.003854  1216  1143   \n",
       "US        223   222   220  ...  0.000000  0.000000  0.000000   223   222   \n",
       "VX        139   130   183  ...  0.000000  0.000000  0.007407   139   130   \n",
       "WN       1259  1278  1275  ...  0.000000  0.003040  0.002600  1259  1278   \n",
       "\n",
       "                                       \n",
       "                                       \n",
       "WEEKDAY     3     4     5     6     7  \n",
       "AIRLINE                                \n",
       "AA       1339  1333  1272  1125  1328  \n",
       "AS        115   110   109   103   107  \n",
       "B6         78    84    84    60    88  \n",
       "DL       1559  1546  1514  1252  1546  \n",
       "EV        873   818   839   711   860  \n",
       "F9        192   186   194   181   192  \n",
       "HA         19    15    11    12    17  \n",
       "MQ        517   562   500   365   502  \n",
       "NK        215   227   234   201   213  \n",
       "OO        967   954   947   829   924  \n",
       "UA       1154  1166  1177   898  1038  \n",
       "US        220   253   221   213   263  \n",
       "VX        183   141   150   115   135  \n",
       "WN       1275  1264  1201   987  1154  \n",
       "\n",
       "[14 rows x 28 columns]"
      ]
     },
     "execution_count": 191,
     "metadata": {},
     "output_type": "execute_result"
    }
   ],
   "source": [
    "df.unstack()"
   ]
  },
  {
   "cell_type": "code",
   "execution_count": 192,
   "id": "a48b9d0d-17fd-44e8-ace6-4e1d836c2585",
   "metadata": {
    "tags": []
   },
   "outputs": [
    {
     "data": {
      "text/html": [
       "<div>\n",
       "<style scoped>\n",
       "    .dataframe tbody tr th:only-of-type {\n",
       "        vertical-align: middle;\n",
       "    }\n",
       "\n",
       "    .dataframe tbody tr th {\n",
       "        vertical-align: top;\n",
       "    }\n",
       "\n",
       "    .dataframe thead tr th {\n",
       "        text-align: left;\n",
       "    }\n",
       "\n",
       "    .dataframe thead tr:last-of-type th {\n",
       "        text-align: right;\n",
       "    }\n",
       "</style>\n",
       "<table border=\"1\" class=\"dataframe\">\n",
       "  <thead>\n",
       "    <tr>\n",
       "      <th></th>\n",
       "      <th></th>\n",
       "      <th colspan=\"2\" halign=\"left\">CANCELLED</th>\n",
       "      <th colspan=\"2\" halign=\"left\">DIVERTED</th>\n",
       "    </tr>\n",
       "    <tr>\n",
       "      <th></th>\n",
       "      <th></th>\n",
       "      <th>mean</th>\n",
       "      <th>count</th>\n",
       "      <th>mean</th>\n",
       "      <th>count</th>\n",
       "    </tr>\n",
       "    <tr>\n",
       "      <th>AIRLINE</th>\n",
       "      <th>WEEKDAY</th>\n",
       "      <th></th>\n",
       "      <th></th>\n",
       "      <th></th>\n",
       "      <th></th>\n",
       "    </tr>\n",
       "  </thead>\n",
       "  <tbody>\n",
       "    <tr>\n",
       "      <th rowspan=\"5\" valign=\"top\">AA</th>\n",
       "      <th>1</th>\n",
       "      <td>0.032106</td>\n",
       "      <td>1277</td>\n",
       "      <td>0.004699</td>\n",
       "      <td>1277</td>\n",
       "    </tr>\n",
       "    <tr>\n",
       "      <th>2</th>\n",
       "      <td>0.007341</td>\n",
       "      <td>1226</td>\n",
       "      <td>0.001631</td>\n",
       "      <td>1226</td>\n",
       "    </tr>\n",
       "    <tr>\n",
       "      <th>3</th>\n",
       "      <td>0.011949</td>\n",
       "      <td>1339</td>\n",
       "      <td>0.001494</td>\n",
       "      <td>1339</td>\n",
       "    </tr>\n",
       "    <tr>\n",
       "      <th>4</th>\n",
       "      <td>0.015004</td>\n",
       "      <td>1333</td>\n",
       "      <td>0.003751</td>\n",
       "      <td>1333</td>\n",
       "    </tr>\n",
       "    <tr>\n",
       "      <th>5</th>\n",
       "      <td>0.014151</td>\n",
       "      <td>1272</td>\n",
       "      <td>0.000786</td>\n",
       "      <td>1272</td>\n",
       "    </tr>\n",
       "    <tr>\n",
       "      <th>...</th>\n",
       "      <th>...</th>\n",
       "      <td>...</td>\n",
       "      <td>...</td>\n",
       "      <td>...</td>\n",
       "      <td>...</td>\n",
       "    </tr>\n",
       "    <tr>\n",
       "      <th rowspan=\"5\" valign=\"top\">WN</th>\n",
       "      <th>3</th>\n",
       "      <td>0.014118</td>\n",
       "      <td>1275</td>\n",
       "      <td>0.001569</td>\n",
       "      <td>1275</td>\n",
       "    </tr>\n",
       "    <tr>\n",
       "      <th>4</th>\n",
       "      <td>0.007911</td>\n",
       "      <td>1264</td>\n",
       "      <td>0.003165</td>\n",
       "      <td>1264</td>\n",
       "    </tr>\n",
       "    <tr>\n",
       "      <th>5</th>\n",
       "      <td>0.005828</td>\n",
       "      <td>1201</td>\n",
       "      <td>0.000000</td>\n",
       "      <td>1201</td>\n",
       "    </tr>\n",
       "    <tr>\n",
       "      <th>6</th>\n",
       "      <td>0.010132</td>\n",
       "      <td>987</td>\n",
       "      <td>0.003040</td>\n",
       "      <td>987</td>\n",
       "    </tr>\n",
       "    <tr>\n",
       "      <th>7</th>\n",
       "      <td>0.006066</td>\n",
       "      <td>1154</td>\n",
       "      <td>0.002600</td>\n",
       "      <td>1154</td>\n",
       "    </tr>\n",
       "  </tbody>\n",
       "</table>\n",
       "<p>98 rows × 4 columns</p>\n",
       "</div>"
      ],
      "text/plain": [
       "                CANCELLED        DIVERTED      \n",
       "                     mean count      mean count\n",
       "AIRLINE WEEKDAY                                \n",
       "AA      1        0.032106  1277  0.004699  1277\n",
       "        2        0.007341  1226  0.001631  1226\n",
       "        3        0.011949  1339  0.001494  1339\n",
       "        4        0.015004  1333  0.003751  1333\n",
       "        5        0.014151  1272  0.000786  1272\n",
       "...                   ...   ...       ...   ...\n",
       "WN      3        0.014118  1275  0.001569  1275\n",
       "        4        0.007911  1264  0.003165  1264\n",
       "        5        0.005828  1201  0.000000  1201\n",
       "        6        0.010132   987  0.003040   987\n",
       "        7        0.006066  1154  0.002600  1154\n",
       "\n",
       "[98 rows x 4 columns]"
      ]
     },
     "execution_count": 192,
     "metadata": {},
     "output_type": "execute_result"
    }
   ],
   "source": [
    "df.unstack().stack()"
   ]
  },
  {
   "cell_type": "code",
   "execution_count": 193,
   "id": "040ddc63-8140-4ca3-bbc9-b92fe058976f",
   "metadata": {
    "tags": []
   },
   "outputs": [
    {
     "data": {
      "text/html": [
       "<div>\n",
       "<style scoped>\n",
       "    .dataframe tbody tr th:only-of-type {\n",
       "        vertical-align: middle;\n",
       "    }\n",
       "\n",
       "    .dataframe tbody tr th {\n",
       "        vertical-align: top;\n",
       "    }\n",
       "\n",
       "    .dataframe thead tr th {\n",
       "        text-align: left;\n",
       "    }\n",
       "\n",
       "    .dataframe thead tr:last-of-type th {\n",
       "        text-align: right;\n",
       "    }\n",
       "</style>\n",
       "<table border=\"1\" class=\"dataframe\">\n",
       "  <thead>\n",
       "    <tr>\n",
       "      <th></th>\n",
       "      <th></th>\n",
       "      <th colspan=\"2\" halign=\"left\">CANCELLED</th>\n",
       "      <th colspan=\"2\" halign=\"left\">DIVERTED</th>\n",
       "    </tr>\n",
       "    <tr>\n",
       "      <th></th>\n",
       "      <th></th>\n",
       "      <th>mean</th>\n",
       "      <th>count</th>\n",
       "      <th>mean</th>\n",
       "      <th>count</th>\n",
       "    </tr>\n",
       "    <tr>\n",
       "      <th>AIRLINE</th>\n",
       "      <th>WEEKDAY</th>\n",
       "      <th></th>\n",
       "      <th></th>\n",
       "      <th></th>\n",
       "      <th></th>\n",
       "    </tr>\n",
       "  </thead>\n",
       "  <tbody>\n",
       "    <tr>\n",
       "      <th rowspan=\"5\" valign=\"top\">AA</th>\n",
       "      <th>1</th>\n",
       "      <td>0.032106</td>\n",
       "      <td>1277.0</td>\n",
       "      <td>0.004699</td>\n",
       "      <td>1277.0</td>\n",
       "    </tr>\n",
       "    <tr>\n",
       "      <th>2</th>\n",
       "      <td>0.007341</td>\n",
       "      <td>1226.0</td>\n",
       "      <td>0.001631</td>\n",
       "      <td>1226.0</td>\n",
       "    </tr>\n",
       "    <tr>\n",
       "      <th>3</th>\n",
       "      <td>0.011949</td>\n",
       "      <td>1339.0</td>\n",
       "      <td>0.001494</td>\n",
       "      <td>1339.0</td>\n",
       "    </tr>\n",
       "    <tr>\n",
       "      <th>4</th>\n",
       "      <td>0.015004</td>\n",
       "      <td>1333.0</td>\n",
       "      <td>0.003751</td>\n",
       "      <td>1333.0</td>\n",
       "    </tr>\n",
       "    <tr>\n",
       "      <th>5</th>\n",
       "      <td>0.014151</td>\n",
       "      <td>1272.0</td>\n",
       "      <td>0.000786</td>\n",
       "      <td>1272.0</td>\n",
       "    </tr>\n",
       "    <tr>\n",
       "      <th>...</th>\n",
       "      <th>...</th>\n",
       "      <td>...</td>\n",
       "      <td>...</td>\n",
       "      <td>...</td>\n",
       "      <td>...</td>\n",
       "    </tr>\n",
       "    <tr>\n",
       "      <th rowspan=\"5\" valign=\"top\">WN</th>\n",
       "      <th>3</th>\n",
       "      <td>0.014118</td>\n",
       "      <td>1275.0</td>\n",
       "      <td>0.001569</td>\n",
       "      <td>1275.0</td>\n",
       "    </tr>\n",
       "    <tr>\n",
       "      <th>4</th>\n",
       "      <td>0.007911</td>\n",
       "      <td>1264.0</td>\n",
       "      <td>0.003165</td>\n",
       "      <td>1264.0</td>\n",
       "    </tr>\n",
       "    <tr>\n",
       "      <th>5</th>\n",
       "      <td>0.005828</td>\n",
       "      <td>1201.0</td>\n",
       "      <td>0.000000</td>\n",
       "      <td>1201.0</td>\n",
       "    </tr>\n",
       "    <tr>\n",
       "      <th>6</th>\n",
       "      <td>0.010132</td>\n",
       "      <td>987.0</td>\n",
       "      <td>0.003040</td>\n",
       "      <td>987.0</td>\n",
       "    </tr>\n",
       "    <tr>\n",
       "      <th>7</th>\n",
       "      <td>0.006066</td>\n",
       "      <td>1154.0</td>\n",
       "      <td>0.002600</td>\n",
       "      <td>1154.0</td>\n",
       "    </tr>\n",
       "  </tbody>\n",
       "</table>\n",
       "<p>98 rows × 4 columns</p>\n",
       "</div>"
      ],
      "text/plain": [
       "                CANCELLED          DIVERTED        \n",
       "                     mean   count      mean   count\n",
       "AIRLINE WEEKDAY                                    \n",
       "AA      1        0.032106  1277.0  0.004699  1277.0\n",
       "        2        0.007341  1226.0  0.001631  1226.0\n",
       "        3        0.011949  1339.0  0.001494  1339.0\n",
       "        4        0.015004  1333.0  0.003751  1333.0\n",
       "        5        0.014151  1272.0  0.000786  1272.0\n",
       "...                   ...     ...       ...     ...\n",
       "WN      3        0.014118  1275.0  0.001569  1275.0\n",
       "        4        0.007911  1264.0  0.003165  1264.0\n",
       "        5        0.005828  1201.0  0.000000  1201.0\n",
       "        6        0.010132   987.0  0.003040   987.0\n",
       "        7        0.006066  1154.0  0.002600  1154.0\n",
       "\n",
       "[98 rows x 4 columns]"
      ]
     },
     "execution_count": 193,
     "metadata": {},
     "output_type": "execute_result"
    }
   ],
   "source": [
    "df.stack().unstack()"
   ]
  },
  {
   "cell_type": "markdown",
   "id": "308bf7c4-113d-4b4f-b713-0411be78c408",
   "metadata": {},
   "source": [
    "`#`"
   ]
  },
  {
   "cell_type": "markdown",
   "id": "213e488e-f7da-49de-93aa-1c6088c739bb",
   "metadata": {},
   "source": [
    "`# 예시2` -- 아래의 자료를 tidydata로 만들라. "
   ]
  },
  {
   "cell_type": "code",
   "execution_count": 194,
   "id": "379b6ffc-3e02-4bcd-9e51-c118b1185666",
   "metadata": {
    "tags": []
   },
   "outputs": [
    {
     "data": {
      "text/html": [
       "<div>\n",
       "<style scoped>\n",
       "    .dataframe tbody tr th:only-of-type {\n",
       "        vertical-align: middle;\n",
       "    }\n",
       "\n",
       "    .dataframe tbody tr th {\n",
       "        vertical-align: top;\n",
       "    }\n",
       "\n",
       "    .dataframe thead tr th {\n",
       "        text-align: left;\n",
       "    }\n",
       "\n",
       "    .dataframe thead tr:last-of-type th {\n",
       "        text-align: right;\n",
       "    }\n",
       "</style>\n",
       "<table border=\"1\" class=\"dataframe\">\n",
       "  <thead>\n",
       "    <tr>\n",
       "      <th></th>\n",
       "      <th></th>\n",
       "      <th colspan=\"2\" halign=\"left\">CANCELLED</th>\n",
       "      <th colspan=\"2\" halign=\"left\">DIVERTED</th>\n",
       "    </tr>\n",
       "    <tr>\n",
       "      <th></th>\n",
       "      <th></th>\n",
       "      <th>mean</th>\n",
       "      <th>count</th>\n",
       "      <th>mean</th>\n",
       "      <th>count</th>\n",
       "    </tr>\n",
       "    <tr>\n",
       "      <th>AIRLINE</th>\n",
       "      <th>WEEKDAY</th>\n",
       "      <th></th>\n",
       "      <th></th>\n",
       "      <th></th>\n",
       "      <th></th>\n",
       "    </tr>\n",
       "  </thead>\n",
       "  <tbody>\n",
       "    <tr>\n",
       "      <th rowspan=\"5\" valign=\"top\">AA</th>\n",
       "      <th>1</th>\n",
       "      <td>0.032106</td>\n",
       "      <td>1277</td>\n",
       "      <td>0.004699</td>\n",
       "      <td>1277</td>\n",
       "    </tr>\n",
       "    <tr>\n",
       "      <th>2</th>\n",
       "      <td>0.007341</td>\n",
       "      <td>1226</td>\n",
       "      <td>0.001631</td>\n",
       "      <td>1226</td>\n",
       "    </tr>\n",
       "    <tr>\n",
       "      <th>3</th>\n",
       "      <td>0.011949</td>\n",
       "      <td>1339</td>\n",
       "      <td>0.001494</td>\n",
       "      <td>1339</td>\n",
       "    </tr>\n",
       "    <tr>\n",
       "      <th>4</th>\n",
       "      <td>0.015004</td>\n",
       "      <td>1333</td>\n",
       "      <td>0.003751</td>\n",
       "      <td>1333</td>\n",
       "    </tr>\n",
       "    <tr>\n",
       "      <th>5</th>\n",
       "      <td>0.014151</td>\n",
       "      <td>1272</td>\n",
       "      <td>0.000786</td>\n",
       "      <td>1272</td>\n",
       "    </tr>\n",
       "    <tr>\n",
       "      <th>...</th>\n",
       "      <th>...</th>\n",
       "      <td>...</td>\n",
       "      <td>...</td>\n",
       "      <td>...</td>\n",
       "      <td>...</td>\n",
       "    </tr>\n",
       "    <tr>\n",
       "      <th rowspan=\"5\" valign=\"top\">WN</th>\n",
       "      <th>3</th>\n",
       "      <td>0.014118</td>\n",
       "      <td>1275</td>\n",
       "      <td>0.001569</td>\n",
       "      <td>1275</td>\n",
       "    </tr>\n",
       "    <tr>\n",
       "      <th>4</th>\n",
       "      <td>0.007911</td>\n",
       "      <td>1264</td>\n",
       "      <td>0.003165</td>\n",
       "      <td>1264</td>\n",
       "    </tr>\n",
       "    <tr>\n",
       "      <th>5</th>\n",
       "      <td>0.005828</td>\n",
       "      <td>1201</td>\n",
       "      <td>0.000000</td>\n",
       "      <td>1201</td>\n",
       "    </tr>\n",
       "    <tr>\n",
       "      <th>6</th>\n",
       "      <td>0.010132</td>\n",
       "      <td>987</td>\n",
       "      <td>0.003040</td>\n",
       "      <td>987</td>\n",
       "    </tr>\n",
       "    <tr>\n",
       "      <th>7</th>\n",
       "      <td>0.006066</td>\n",
       "      <td>1154</td>\n",
       "      <td>0.002600</td>\n",
       "      <td>1154</td>\n",
       "    </tr>\n",
       "  </tbody>\n",
       "</table>\n",
       "<p>98 rows × 4 columns</p>\n",
       "</div>"
      ],
      "text/plain": [
       "                CANCELLED        DIVERTED      \n",
       "                     mean count      mean count\n",
       "AIRLINE WEEKDAY                                \n",
       "AA      1        0.032106  1277  0.004699  1277\n",
       "        2        0.007341  1226  0.001631  1226\n",
       "        3        0.011949  1339  0.001494  1339\n",
       "        4        0.015004  1333  0.003751  1333\n",
       "        5        0.014151  1272  0.000786  1272\n",
       "...                   ...   ...       ...   ...\n",
       "WN      3        0.014118  1275  0.001569  1275\n",
       "        4        0.007911  1264  0.003165  1264\n",
       "        5        0.005828  1201  0.000000  1201\n",
       "        6        0.010132   987  0.003040   987\n",
       "        7        0.006066  1154  0.002600  1154\n",
       "\n",
       "[98 rows x 4 columns]"
      ]
     },
     "execution_count": 194,
     "metadata": {},
     "output_type": "execute_result"
    }
   ],
   "source": [
    "df=pd.read_csv('https://raw.githubusercontent.com/PacktPublishing/Pandas-Cookbook/master/data/flights.csv')\\\n",
    ".groupby([\"AIRLINE\",\"WEEKDAY\"]).agg({\"CANCELLED\":[np.mean,\"count\"],\"DIVERTED\":[np.mean,\"count\"]})\n",
    "df"
   ]
  },
  {
   "cell_type": "markdown",
   "id": "e308bdd7-88d9-46d2-a6f8-5f62415f1947",
   "metadata": {},
   "source": [
    "(풀이1)"
   ]
  },
  {
   "cell_type": "code",
   "execution_count": 195,
   "id": "07ef45a6-4972-4d61-aa14-9bf36c96b6d0",
   "metadata": {
    "tags": []
   },
   "outputs": [
    {
     "data": {
      "text/html": [
       "<div>\n",
       "<style scoped>\n",
       "    .dataframe tbody tr th:only-of-type {\n",
       "        vertical-align: middle;\n",
       "    }\n",
       "\n",
       "    .dataframe tbody tr th {\n",
       "        vertical-align: top;\n",
       "    }\n",
       "\n",
       "    .dataframe thead th {\n",
       "        text-align: right;\n",
       "    }\n",
       "</style>\n",
       "<table border=\"1\" class=\"dataframe\">\n",
       "  <thead>\n",
       "    <tr style=\"text-align: right;\">\n",
       "      <th></th>\n",
       "      <th>AIRLINE</th>\n",
       "      <th>WEEKDAY</th>\n",
       "      <th>level_2</th>\n",
       "      <th>level_3</th>\n",
       "      <th>0</th>\n",
       "    </tr>\n",
       "  </thead>\n",
       "  <tbody>\n",
       "    <tr>\n",
       "      <th>0</th>\n",
       "      <td>AA</td>\n",
       "      <td>1</td>\n",
       "      <td>mean</td>\n",
       "      <td>CANCELLED</td>\n",
       "      <td>0.032106</td>\n",
       "    </tr>\n",
       "    <tr>\n",
       "      <th>1</th>\n",
       "      <td>AA</td>\n",
       "      <td>1</td>\n",
       "      <td>mean</td>\n",
       "      <td>DIVERTED</td>\n",
       "      <td>0.004699</td>\n",
       "    </tr>\n",
       "    <tr>\n",
       "      <th>2</th>\n",
       "      <td>AA</td>\n",
       "      <td>1</td>\n",
       "      <td>count</td>\n",
       "      <td>CANCELLED</td>\n",
       "      <td>1277.000000</td>\n",
       "    </tr>\n",
       "    <tr>\n",
       "      <th>3</th>\n",
       "      <td>AA</td>\n",
       "      <td>1</td>\n",
       "      <td>count</td>\n",
       "      <td>DIVERTED</td>\n",
       "      <td>1277.000000</td>\n",
       "    </tr>\n",
       "    <tr>\n",
       "      <th>4</th>\n",
       "      <td>AA</td>\n",
       "      <td>2</td>\n",
       "      <td>mean</td>\n",
       "      <td>CANCELLED</td>\n",
       "      <td>0.007341</td>\n",
       "    </tr>\n",
       "    <tr>\n",
       "      <th>...</th>\n",
       "      <td>...</td>\n",
       "      <td>...</td>\n",
       "      <td>...</td>\n",
       "      <td>...</td>\n",
       "      <td>...</td>\n",
       "    </tr>\n",
       "    <tr>\n",
       "      <th>387</th>\n",
       "      <td>WN</td>\n",
       "      <td>6</td>\n",
       "      <td>count</td>\n",
       "      <td>DIVERTED</td>\n",
       "      <td>987.000000</td>\n",
       "    </tr>\n",
       "    <tr>\n",
       "      <th>388</th>\n",
       "      <td>WN</td>\n",
       "      <td>7</td>\n",
       "      <td>mean</td>\n",
       "      <td>CANCELLED</td>\n",
       "      <td>0.006066</td>\n",
       "    </tr>\n",
       "    <tr>\n",
       "      <th>389</th>\n",
       "      <td>WN</td>\n",
       "      <td>7</td>\n",
       "      <td>mean</td>\n",
       "      <td>DIVERTED</td>\n",
       "      <td>0.002600</td>\n",
       "    </tr>\n",
       "    <tr>\n",
       "      <th>390</th>\n",
       "      <td>WN</td>\n",
       "      <td>7</td>\n",
       "      <td>count</td>\n",
       "      <td>CANCELLED</td>\n",
       "      <td>1154.000000</td>\n",
       "    </tr>\n",
       "    <tr>\n",
       "      <th>391</th>\n",
       "      <td>WN</td>\n",
       "      <td>7</td>\n",
       "      <td>count</td>\n",
       "      <td>DIVERTED</td>\n",
       "      <td>1154.000000</td>\n",
       "    </tr>\n",
       "  </tbody>\n",
       "</table>\n",
       "<p>392 rows × 5 columns</p>\n",
       "</div>"
      ],
      "text/plain": [
       "    AIRLINE  WEEKDAY level_2    level_3            0\n",
       "0        AA        1    mean  CANCELLED     0.032106\n",
       "1        AA        1    mean   DIVERTED     0.004699\n",
       "2        AA        1   count  CANCELLED  1277.000000\n",
       "3        AA        1   count   DIVERTED  1277.000000\n",
       "4        AA        2    mean  CANCELLED     0.007341\n",
       "..      ...      ...     ...        ...          ...\n",
       "387      WN        6   count   DIVERTED   987.000000\n",
       "388      WN        7    mean  CANCELLED     0.006066\n",
       "389      WN        7    mean   DIVERTED     0.002600\n",
       "390      WN        7   count  CANCELLED  1154.000000\n",
       "391      WN        7   count   DIVERTED  1154.000000\n",
       "\n",
       "[392 rows x 5 columns]"
      ]
     },
     "execution_count": 195,
     "metadata": {},
     "output_type": "execute_result"
    }
   ],
   "source": [
    "df.stack().stack().reset_index()"
   ]
  },
  {
   "cell_type": "markdown",
   "id": "74248552-0757-48e9-bcae-3464d210a0bb",
   "metadata": {},
   "source": [
    "(풀이2)"
   ]
  },
  {
   "cell_type": "code",
   "execution_count": 196,
   "id": "a0669523-a8ed-45b2-a902-192ada3d1018",
   "metadata": {
    "tags": []
   },
   "outputs": [
    {
     "data": {
      "text/html": [
       "<div>\n",
       "<style scoped>\n",
       "    .dataframe tbody tr th:only-of-type {\n",
       "        vertical-align: middle;\n",
       "    }\n",
       "\n",
       "    .dataframe tbody tr th {\n",
       "        vertical-align: top;\n",
       "    }\n",
       "\n",
       "    .dataframe thead th {\n",
       "        text-align: right;\n",
       "    }\n",
       "</style>\n",
       "<table border=\"1\" class=\"dataframe\">\n",
       "  <thead>\n",
       "    <tr style=\"text-align: right;\">\n",
       "      <th></th>\n",
       "      <th>level_0</th>\n",
       "      <th>level_1</th>\n",
       "      <th>WEEKDAY</th>\n",
       "      <th>AIRLINE</th>\n",
       "      <th>0</th>\n",
       "    </tr>\n",
       "  </thead>\n",
       "  <tbody>\n",
       "    <tr>\n",
       "      <th>0</th>\n",
       "      <td>CANCELLED</td>\n",
       "      <td>mean</td>\n",
       "      <td>1</td>\n",
       "      <td>AA</td>\n",
       "      <td>0.032106</td>\n",
       "    </tr>\n",
       "    <tr>\n",
       "      <th>1</th>\n",
       "      <td>CANCELLED</td>\n",
       "      <td>mean</td>\n",
       "      <td>1</td>\n",
       "      <td>AS</td>\n",
       "      <td>0.000000</td>\n",
       "    </tr>\n",
       "    <tr>\n",
       "      <th>2</th>\n",
       "      <td>CANCELLED</td>\n",
       "      <td>mean</td>\n",
       "      <td>1</td>\n",
       "      <td>B6</td>\n",
       "      <td>0.000000</td>\n",
       "    </tr>\n",
       "    <tr>\n",
       "      <th>3</th>\n",
       "      <td>CANCELLED</td>\n",
       "      <td>mean</td>\n",
       "      <td>1</td>\n",
       "      <td>DL</td>\n",
       "      <td>0.006068</td>\n",
       "    </tr>\n",
       "    <tr>\n",
       "      <th>4</th>\n",
       "      <td>CANCELLED</td>\n",
       "      <td>mean</td>\n",
       "      <td>1</td>\n",
       "      <td>EV</td>\n",
       "      <td>0.034130</td>\n",
       "    </tr>\n",
       "    <tr>\n",
       "      <th>...</th>\n",
       "      <td>...</td>\n",
       "      <td>...</td>\n",
       "      <td>...</td>\n",
       "      <td>...</td>\n",
       "      <td>...</td>\n",
       "    </tr>\n",
       "    <tr>\n",
       "      <th>387</th>\n",
       "      <td>DIVERTED</td>\n",
       "      <td>count</td>\n",
       "      <td>7</td>\n",
       "      <td>OO</td>\n",
       "      <td>924.000000</td>\n",
       "    </tr>\n",
       "    <tr>\n",
       "      <th>388</th>\n",
       "      <td>DIVERTED</td>\n",
       "      <td>count</td>\n",
       "      <td>7</td>\n",
       "      <td>UA</td>\n",
       "      <td>1038.000000</td>\n",
       "    </tr>\n",
       "    <tr>\n",
       "      <th>389</th>\n",
       "      <td>DIVERTED</td>\n",
       "      <td>count</td>\n",
       "      <td>7</td>\n",
       "      <td>US</td>\n",
       "      <td>263.000000</td>\n",
       "    </tr>\n",
       "    <tr>\n",
       "      <th>390</th>\n",
       "      <td>DIVERTED</td>\n",
       "      <td>count</td>\n",
       "      <td>7</td>\n",
       "      <td>VX</td>\n",
       "      <td>135.000000</td>\n",
       "    </tr>\n",
       "    <tr>\n",
       "      <th>391</th>\n",
       "      <td>DIVERTED</td>\n",
       "      <td>count</td>\n",
       "      <td>7</td>\n",
       "      <td>WN</td>\n",
       "      <td>1154.000000</td>\n",
       "    </tr>\n",
       "  </tbody>\n",
       "</table>\n",
       "<p>392 rows × 5 columns</p>\n",
       "</div>"
      ],
      "text/plain": [
       "       level_0 level_1  WEEKDAY AIRLINE            0\n",
       "0    CANCELLED    mean        1      AA     0.032106\n",
       "1    CANCELLED    mean        1      AS     0.000000\n",
       "2    CANCELLED    mean        1      B6     0.000000\n",
       "3    CANCELLED    mean        1      DL     0.006068\n",
       "4    CANCELLED    mean        1      EV     0.034130\n",
       "..         ...     ...      ...     ...          ...\n",
       "387   DIVERTED   count        7      OO   924.000000\n",
       "388   DIVERTED   count        7      UA  1038.000000\n",
       "389   DIVERTED   count        7      US   263.000000\n",
       "390   DIVERTED   count        7      VX   135.000000\n",
       "391   DIVERTED   count        7      WN  1154.000000\n",
       "\n",
       "[392 rows x 5 columns]"
      ]
     },
     "execution_count": 196,
     "metadata": {},
     "output_type": "execute_result"
    }
   ],
   "source": [
    "df.unstack().unstack().reset_index()"
   ]
  },
  {
   "cell_type": "markdown",
   "id": "e0f5cb45-56b0-46a9-96bf-ca23b4ac5fec",
   "metadata": {},
   "source": [
    "`예시3` -- 아래의 자료를 tidydata로 만들어라. "
   ]
  },
  {
   "cell_type": "code",
   "execution_count": 197,
   "id": "e86fc5ce-155f-43c0-98d2-28f25eb8604b",
   "metadata": {
    "tags": []
   },
   "outputs": [
    {
     "data": {
      "text/html": [
       "<div>\n",
       "<style scoped>\n",
       "    .dataframe tbody tr th:only-of-type {\n",
       "        vertical-align: middle;\n",
       "    }\n",
       "\n",
       "    .dataframe tbody tr th {\n",
       "        vertical-align: top;\n",
       "    }\n",
       "\n",
       "    .dataframe thead tr th {\n",
       "        text-align: left;\n",
       "    }\n",
       "</style>\n",
       "<table border=\"1\" class=\"dataframe\">\n",
       "  <thead>\n",
       "    <tr>\n",
       "      <th></th>\n",
       "      <th colspan=\"2\" halign=\"left\">male</th>\n",
       "      <th colspan=\"2\" halign=\"left\">female</th>\n",
       "    </tr>\n",
       "    <tr>\n",
       "      <th></th>\n",
       "      <th>fail</th>\n",
       "      <th>pass</th>\n",
       "      <th>fail</th>\n",
       "      <th>pass</th>\n",
       "    </tr>\n",
       "  </thead>\n",
       "  <tbody>\n",
       "    <tr>\n",
       "      <th>A</th>\n",
       "      <td>314</td>\n",
       "      <td>511</td>\n",
       "      <td>19</td>\n",
       "      <td>89</td>\n",
       "    </tr>\n",
       "    <tr>\n",
       "      <th>B</th>\n",
       "      <td>208</td>\n",
       "      <td>352</td>\n",
       "      <td>7</td>\n",
       "      <td>18</td>\n",
       "    </tr>\n",
       "    <tr>\n",
       "      <th>C</th>\n",
       "      <td>204</td>\n",
       "      <td>121</td>\n",
       "      <td>391</td>\n",
       "      <td>202</td>\n",
       "    </tr>\n",
       "    <tr>\n",
       "      <th>D</th>\n",
       "      <td>279</td>\n",
       "      <td>138</td>\n",
       "      <td>244</td>\n",
       "      <td>131</td>\n",
       "    </tr>\n",
       "    <tr>\n",
       "      <th>E</th>\n",
       "      <td>137</td>\n",
       "      <td>54</td>\n",
       "      <td>299</td>\n",
       "      <td>94</td>\n",
       "    </tr>\n",
       "    <tr>\n",
       "      <th>F</th>\n",
       "      <td>149</td>\n",
       "      <td>224</td>\n",
       "      <td>103</td>\n",
       "      <td>238</td>\n",
       "    </tr>\n",
       "  </tbody>\n",
       "</table>\n",
       "</div>"
      ],
      "text/plain": [
       "  male      female     \n",
       "  fail pass   fail pass\n",
       "A  314  511     19   89\n",
       "B  208  352      7   18\n",
       "C  204  121    391  202\n",
       "D  279  138    244  131\n",
       "E  137   54    299   94\n",
       "F  149  224    103  238"
      ]
     },
     "execution_count": 197,
     "metadata": {},
     "output_type": "execute_result"
    }
   ],
   "source": [
    "df=pd.read_csv(\"https://raw.githubusercontent.com/guebin/DV2022/master/posts/Simpson.csv\",index_col=0,header=[0,1])\n",
    "df"
   ]
  },
  {
   "cell_type": "markdown",
   "id": "1f37dbef-2672-4c3a-9410-b54ce330b681",
   "metadata": {},
   "source": [
    "(풀이1)"
   ]
  },
  {
   "cell_type": "code",
   "execution_count": 198,
   "id": "eda22341-c52d-4f02-b8c2-08b1bcc91c35",
   "metadata": {
    "tags": []
   },
   "outputs": [
    {
     "data": {
      "text/html": [
       "<div>\n",
       "<style scoped>\n",
       "    .dataframe tbody tr th:only-of-type {\n",
       "        vertical-align: middle;\n",
       "    }\n",
       "\n",
       "    .dataframe tbody tr th {\n",
       "        vertical-align: top;\n",
       "    }\n",
       "\n",
       "    .dataframe thead th {\n",
       "        text-align: right;\n",
       "    }\n",
       "</style>\n",
       "<table border=\"1\" class=\"dataframe\">\n",
       "  <thead>\n",
       "    <tr style=\"text-align: right;\">\n",
       "      <th></th>\n",
       "      <th>level_0</th>\n",
       "      <th>level_1</th>\n",
       "      <th>level_2</th>\n",
       "      <th>0</th>\n",
       "    </tr>\n",
       "  </thead>\n",
       "  <tbody>\n",
       "    <tr>\n",
       "      <th>0</th>\n",
       "      <td>A</td>\n",
       "      <td>fail</td>\n",
       "      <td>female</td>\n",
       "      <td>19</td>\n",
       "    </tr>\n",
       "    <tr>\n",
       "      <th>1</th>\n",
       "      <td>A</td>\n",
       "      <td>fail</td>\n",
       "      <td>male</td>\n",
       "      <td>314</td>\n",
       "    </tr>\n",
       "    <tr>\n",
       "      <th>2</th>\n",
       "      <td>A</td>\n",
       "      <td>pass</td>\n",
       "      <td>female</td>\n",
       "      <td>89</td>\n",
       "    </tr>\n",
       "    <tr>\n",
       "      <th>3</th>\n",
       "      <td>A</td>\n",
       "      <td>pass</td>\n",
       "      <td>male</td>\n",
       "      <td>511</td>\n",
       "    </tr>\n",
       "    <tr>\n",
       "      <th>4</th>\n",
       "      <td>B</td>\n",
       "      <td>fail</td>\n",
       "      <td>female</td>\n",
       "      <td>7</td>\n",
       "    </tr>\n",
       "    <tr>\n",
       "      <th>5</th>\n",
       "      <td>B</td>\n",
       "      <td>fail</td>\n",
       "      <td>male</td>\n",
       "      <td>208</td>\n",
       "    </tr>\n",
       "    <tr>\n",
       "      <th>6</th>\n",
       "      <td>B</td>\n",
       "      <td>pass</td>\n",
       "      <td>female</td>\n",
       "      <td>18</td>\n",
       "    </tr>\n",
       "    <tr>\n",
       "      <th>7</th>\n",
       "      <td>B</td>\n",
       "      <td>pass</td>\n",
       "      <td>male</td>\n",
       "      <td>352</td>\n",
       "    </tr>\n",
       "    <tr>\n",
       "      <th>8</th>\n",
       "      <td>C</td>\n",
       "      <td>fail</td>\n",
       "      <td>female</td>\n",
       "      <td>391</td>\n",
       "    </tr>\n",
       "    <tr>\n",
       "      <th>9</th>\n",
       "      <td>C</td>\n",
       "      <td>fail</td>\n",
       "      <td>male</td>\n",
       "      <td>204</td>\n",
       "    </tr>\n",
       "    <tr>\n",
       "      <th>10</th>\n",
       "      <td>C</td>\n",
       "      <td>pass</td>\n",
       "      <td>female</td>\n",
       "      <td>202</td>\n",
       "    </tr>\n",
       "    <tr>\n",
       "      <th>11</th>\n",
       "      <td>C</td>\n",
       "      <td>pass</td>\n",
       "      <td>male</td>\n",
       "      <td>121</td>\n",
       "    </tr>\n",
       "    <tr>\n",
       "      <th>12</th>\n",
       "      <td>D</td>\n",
       "      <td>fail</td>\n",
       "      <td>female</td>\n",
       "      <td>244</td>\n",
       "    </tr>\n",
       "    <tr>\n",
       "      <th>13</th>\n",
       "      <td>D</td>\n",
       "      <td>fail</td>\n",
       "      <td>male</td>\n",
       "      <td>279</td>\n",
       "    </tr>\n",
       "    <tr>\n",
       "      <th>14</th>\n",
       "      <td>D</td>\n",
       "      <td>pass</td>\n",
       "      <td>female</td>\n",
       "      <td>131</td>\n",
       "    </tr>\n",
       "    <tr>\n",
       "      <th>15</th>\n",
       "      <td>D</td>\n",
       "      <td>pass</td>\n",
       "      <td>male</td>\n",
       "      <td>138</td>\n",
       "    </tr>\n",
       "    <tr>\n",
       "      <th>16</th>\n",
       "      <td>E</td>\n",
       "      <td>fail</td>\n",
       "      <td>female</td>\n",
       "      <td>299</td>\n",
       "    </tr>\n",
       "    <tr>\n",
       "      <th>17</th>\n",
       "      <td>E</td>\n",
       "      <td>fail</td>\n",
       "      <td>male</td>\n",
       "      <td>137</td>\n",
       "    </tr>\n",
       "    <tr>\n",
       "      <th>18</th>\n",
       "      <td>E</td>\n",
       "      <td>pass</td>\n",
       "      <td>female</td>\n",
       "      <td>94</td>\n",
       "    </tr>\n",
       "    <tr>\n",
       "      <th>19</th>\n",
       "      <td>E</td>\n",
       "      <td>pass</td>\n",
       "      <td>male</td>\n",
       "      <td>54</td>\n",
       "    </tr>\n",
       "    <tr>\n",
       "      <th>20</th>\n",
       "      <td>F</td>\n",
       "      <td>fail</td>\n",
       "      <td>female</td>\n",
       "      <td>103</td>\n",
       "    </tr>\n",
       "    <tr>\n",
       "      <th>21</th>\n",
       "      <td>F</td>\n",
       "      <td>fail</td>\n",
       "      <td>male</td>\n",
       "      <td>149</td>\n",
       "    </tr>\n",
       "    <tr>\n",
       "      <th>22</th>\n",
       "      <td>F</td>\n",
       "      <td>pass</td>\n",
       "      <td>female</td>\n",
       "      <td>238</td>\n",
       "    </tr>\n",
       "    <tr>\n",
       "      <th>23</th>\n",
       "      <td>F</td>\n",
       "      <td>pass</td>\n",
       "      <td>male</td>\n",
       "      <td>224</td>\n",
       "    </tr>\n",
       "  </tbody>\n",
       "</table>\n",
       "</div>"
      ],
      "text/plain": [
       "   level_0 level_1 level_2    0\n",
       "0        A    fail  female   19\n",
       "1        A    fail    male  314\n",
       "2        A    pass  female   89\n",
       "3        A    pass    male  511\n",
       "4        B    fail  female    7\n",
       "5        B    fail    male  208\n",
       "6        B    pass  female   18\n",
       "7        B    pass    male  352\n",
       "8        C    fail  female  391\n",
       "9        C    fail    male  204\n",
       "10       C    pass  female  202\n",
       "11       C    pass    male  121\n",
       "12       D    fail  female  244\n",
       "13       D    fail    male  279\n",
       "14       D    pass  female  131\n",
       "15       D    pass    male  138\n",
       "16       E    fail  female  299\n",
       "17       E    fail    male  137\n",
       "18       E    pass  female   94\n",
       "19       E    pass    male   54\n",
       "20       F    fail  female  103\n",
       "21       F    fail    male  149\n",
       "22       F    pass  female  238\n",
       "23       F    pass    male  224"
      ]
     },
     "execution_count": 198,
     "metadata": {},
     "output_type": "execute_result"
    }
   ],
   "source": [
    "df.stack().stack().reset_index()"
   ]
  },
  {
   "cell_type": "markdown",
   "id": "36c8a45b-8d57-4d92-9c88-f90ce22921f3",
   "metadata": {},
   "source": [
    "(풀이2)"
   ]
  },
  {
   "cell_type": "code",
   "execution_count": 199,
   "id": "b06bfdfc-d79e-4bfd-b955-5bd4e722dbde",
   "metadata": {
    "tags": []
   },
   "outputs": [
    {
     "data": {
      "text/html": [
       "<div>\n",
       "<style scoped>\n",
       "    .dataframe tbody tr th:only-of-type {\n",
       "        vertical-align: middle;\n",
       "    }\n",
       "\n",
       "    .dataframe tbody tr th {\n",
       "        vertical-align: top;\n",
       "    }\n",
       "\n",
       "    .dataframe thead th {\n",
       "        text-align: right;\n",
       "    }\n",
       "</style>\n",
       "<table border=\"1\" class=\"dataframe\">\n",
       "  <thead>\n",
       "    <tr style=\"text-align: right;\">\n",
       "      <th></th>\n",
       "      <th>level_0</th>\n",
       "      <th>level_1</th>\n",
       "      <th>level_2</th>\n",
       "      <th>0</th>\n",
       "    </tr>\n",
       "  </thead>\n",
       "  <tbody>\n",
       "    <tr>\n",
       "      <th>0</th>\n",
       "      <td>male</td>\n",
       "      <td>fail</td>\n",
       "      <td>A</td>\n",
       "      <td>314</td>\n",
       "    </tr>\n",
       "    <tr>\n",
       "      <th>1</th>\n",
       "      <td>male</td>\n",
       "      <td>fail</td>\n",
       "      <td>B</td>\n",
       "      <td>208</td>\n",
       "    </tr>\n",
       "    <tr>\n",
       "      <th>2</th>\n",
       "      <td>male</td>\n",
       "      <td>fail</td>\n",
       "      <td>C</td>\n",
       "      <td>204</td>\n",
       "    </tr>\n",
       "    <tr>\n",
       "      <th>3</th>\n",
       "      <td>male</td>\n",
       "      <td>fail</td>\n",
       "      <td>D</td>\n",
       "      <td>279</td>\n",
       "    </tr>\n",
       "    <tr>\n",
       "      <th>4</th>\n",
       "      <td>male</td>\n",
       "      <td>fail</td>\n",
       "      <td>E</td>\n",
       "      <td>137</td>\n",
       "    </tr>\n",
       "    <tr>\n",
       "      <th>5</th>\n",
       "      <td>male</td>\n",
       "      <td>fail</td>\n",
       "      <td>F</td>\n",
       "      <td>149</td>\n",
       "    </tr>\n",
       "    <tr>\n",
       "      <th>6</th>\n",
       "      <td>male</td>\n",
       "      <td>pass</td>\n",
       "      <td>A</td>\n",
       "      <td>511</td>\n",
       "    </tr>\n",
       "    <tr>\n",
       "      <th>7</th>\n",
       "      <td>male</td>\n",
       "      <td>pass</td>\n",
       "      <td>B</td>\n",
       "      <td>352</td>\n",
       "    </tr>\n",
       "    <tr>\n",
       "      <th>8</th>\n",
       "      <td>male</td>\n",
       "      <td>pass</td>\n",
       "      <td>C</td>\n",
       "      <td>121</td>\n",
       "    </tr>\n",
       "    <tr>\n",
       "      <th>9</th>\n",
       "      <td>male</td>\n",
       "      <td>pass</td>\n",
       "      <td>D</td>\n",
       "      <td>138</td>\n",
       "    </tr>\n",
       "    <tr>\n",
       "      <th>10</th>\n",
       "      <td>male</td>\n",
       "      <td>pass</td>\n",
       "      <td>E</td>\n",
       "      <td>54</td>\n",
       "    </tr>\n",
       "    <tr>\n",
       "      <th>11</th>\n",
       "      <td>male</td>\n",
       "      <td>pass</td>\n",
       "      <td>F</td>\n",
       "      <td>224</td>\n",
       "    </tr>\n",
       "    <tr>\n",
       "      <th>12</th>\n",
       "      <td>female</td>\n",
       "      <td>fail</td>\n",
       "      <td>A</td>\n",
       "      <td>19</td>\n",
       "    </tr>\n",
       "    <tr>\n",
       "      <th>13</th>\n",
       "      <td>female</td>\n",
       "      <td>fail</td>\n",
       "      <td>B</td>\n",
       "      <td>7</td>\n",
       "    </tr>\n",
       "    <tr>\n",
       "      <th>14</th>\n",
       "      <td>female</td>\n",
       "      <td>fail</td>\n",
       "      <td>C</td>\n",
       "      <td>391</td>\n",
       "    </tr>\n",
       "    <tr>\n",
       "      <th>15</th>\n",
       "      <td>female</td>\n",
       "      <td>fail</td>\n",
       "      <td>D</td>\n",
       "      <td>244</td>\n",
       "    </tr>\n",
       "    <tr>\n",
       "      <th>16</th>\n",
       "      <td>female</td>\n",
       "      <td>fail</td>\n",
       "      <td>E</td>\n",
       "      <td>299</td>\n",
       "    </tr>\n",
       "    <tr>\n",
       "      <th>17</th>\n",
       "      <td>female</td>\n",
       "      <td>fail</td>\n",
       "      <td>F</td>\n",
       "      <td>103</td>\n",
       "    </tr>\n",
       "    <tr>\n",
       "      <th>18</th>\n",
       "      <td>female</td>\n",
       "      <td>pass</td>\n",
       "      <td>A</td>\n",
       "      <td>89</td>\n",
       "    </tr>\n",
       "    <tr>\n",
       "      <th>19</th>\n",
       "      <td>female</td>\n",
       "      <td>pass</td>\n",
       "      <td>B</td>\n",
       "      <td>18</td>\n",
       "    </tr>\n",
       "    <tr>\n",
       "      <th>20</th>\n",
       "      <td>female</td>\n",
       "      <td>pass</td>\n",
       "      <td>C</td>\n",
       "      <td>202</td>\n",
       "    </tr>\n",
       "    <tr>\n",
       "      <th>21</th>\n",
       "      <td>female</td>\n",
       "      <td>pass</td>\n",
       "      <td>D</td>\n",
       "      <td>131</td>\n",
       "    </tr>\n",
       "    <tr>\n",
       "      <th>22</th>\n",
       "      <td>female</td>\n",
       "      <td>pass</td>\n",
       "      <td>E</td>\n",
       "      <td>94</td>\n",
       "    </tr>\n",
       "    <tr>\n",
       "      <th>23</th>\n",
       "      <td>female</td>\n",
       "      <td>pass</td>\n",
       "      <td>F</td>\n",
       "      <td>238</td>\n",
       "    </tr>\n",
       "  </tbody>\n",
       "</table>\n",
       "</div>"
      ],
      "text/plain": [
       "   level_0 level_1 level_2    0\n",
       "0     male    fail       A  314\n",
       "1     male    fail       B  208\n",
       "2     male    fail       C  204\n",
       "3     male    fail       D  279\n",
       "4     male    fail       E  137\n",
       "5     male    fail       F  149\n",
       "6     male    pass       A  511\n",
       "7     male    pass       B  352\n",
       "8     male    pass       C  121\n",
       "9     male    pass       D  138\n",
       "10    male    pass       E   54\n",
       "11    male    pass       F  224\n",
       "12  female    fail       A   19\n",
       "13  female    fail       B    7\n",
       "14  female    fail       C  391\n",
       "15  female    fail       D  244\n",
       "16  female    fail       E  299\n",
       "17  female    fail       F  103\n",
       "18  female    pass       A   89\n",
       "19  female    pass       B   18\n",
       "20  female    pass       C  202\n",
       "21  female    pass       D  131\n",
       "22  female    pass       E   94\n",
       "23  female    pass       F  238"
      ]
     },
     "execution_count": 199,
     "metadata": {},
     "output_type": "execute_result"
    }
   ],
   "source": [
    "df.unstack().reset_index()"
   ]
  },
  {
   "cell_type": "markdown",
   "id": "7ad063c7-3591-48cb-8bee-a207f2ff6c4b",
   "metadata": {},
   "source": [
    "# 7. HW"
   ]
  },
  {
   "cell_type": "markdown",
   "id": "3180ce07-55aa-4816-9e11-216637316060",
   "metadata": {},
   "source": [
    "아래의 자료를 tidydata로 변환하라."
   ]
  },
  {
   "cell_type": "code",
   "execution_count": 206,
   "id": "109d5112-567d-4b69-8df6-f816affc61cb",
   "metadata": {},
   "outputs": [
    {
     "data": {
      "text/plain": [
       "female  A    0.5\n",
       "        B    0.2\n",
       "male    A    0.3\n",
       "        B    0.7\n",
       "dtype: float64"
      ]
     },
     "execution_count": 206,
     "metadata": {},
     "output_type": "execute_result"
    }
   ],
   "source": [
    "s = pd.Series({\n",
    "    ('female','A'):0.5,\n",
    "    ('female','B'):0.2,\n",
    "    ('male','A'):0.3,\n",
    "    ('male','B'):0.7\n",
    "})\n",
    "s"
   ]
  },
  {
   "cell_type": "code",
   "execution_count": 211,
   "id": "b2fcc3e6-799d-412f-9d5b-813f2d6c5bae",
   "metadata": {},
   "outputs": [
    {
     "data": {
      "text/plain": [
       "MultiIndex([('female', 'A'),\n",
       "            ('female', 'B'),\n",
       "            (  'male', 'A'),\n",
       "            (  'male', 'B')],\n",
       "           )"
      ]
     },
     "execution_count": 211,
     "metadata": {},
     "output_type": "execute_result"
    }
   ],
   "source": [
    "s.index"
   ]
  },
  {
   "cell_type": "code",
   "execution_count": 212,
   "id": "533e08c9-f52e-4800-839d-51cff1ce3806",
   "metadata": {},
   "outputs": [
    {
     "data": {
      "text/html": [
       "<div>\n",
       "<style scoped>\n",
       "    .dataframe tbody tr th:only-of-type {\n",
       "        vertical-align: middle;\n",
       "    }\n",
       "\n",
       "    .dataframe tbody tr th {\n",
       "        vertical-align: top;\n",
       "    }\n",
       "\n",
       "    .dataframe thead th {\n",
       "        text-align: right;\n",
       "    }\n",
       "</style>\n",
       "<table border=\"1\" class=\"dataframe\">\n",
       "  <thead>\n",
       "    <tr style=\"text-align: right;\">\n",
       "      <th></th>\n",
       "      <th>level_0</th>\n",
       "      <th>level_1</th>\n",
       "      <th>0</th>\n",
       "    </tr>\n",
       "  </thead>\n",
       "  <tbody>\n",
       "    <tr>\n",
       "      <th>0</th>\n",
       "      <td>female</td>\n",
       "      <td>A</td>\n",
       "      <td>0.5</td>\n",
       "    </tr>\n",
       "    <tr>\n",
       "      <th>1</th>\n",
       "      <td>female</td>\n",
       "      <td>B</td>\n",
       "      <td>0.2</td>\n",
       "    </tr>\n",
       "    <tr>\n",
       "      <th>2</th>\n",
       "      <td>male</td>\n",
       "      <td>A</td>\n",
       "      <td>0.3</td>\n",
       "    </tr>\n",
       "    <tr>\n",
       "      <th>3</th>\n",
       "      <td>male</td>\n",
       "      <td>B</td>\n",
       "      <td>0.7</td>\n",
       "    </tr>\n",
       "  </tbody>\n",
       "</table>\n",
       "</div>"
      ],
      "text/plain": [
       "  level_0 level_1    0\n",
       "0  female       A  0.5\n",
       "1  female       B  0.2\n",
       "2    male       A  0.3\n",
       "3    male       B  0.7"
      ]
     },
     "execution_count": 212,
     "metadata": {},
     "output_type": "execute_result"
    }
   ],
   "source": [
    "s.reset_index()"
   ]
  },
  {
   "cell_type": "code",
   "execution_count": 200,
   "id": "769fbd15-48da-4cbe-88da-70bc19ce4ddd",
   "metadata": {},
   "outputs": [],
   "source": [
    "# 출력결과는 아래와 같아야 한다."
   ]
  },
  {
   "attachments": {
    "01835bc2-9673-4471-90f7-fa5674df840d.png": {
     "image/png": "[encoded data removed]"
    }
   },
   "cell_type": "markdown",
   "id": "5b046dba-f472-4a03-971c-3aeb56caf7ab",
   "metadata": {},
   "source": [
    "![](attachment:01835bc2-9673-4471-90f7-fa5674df840d.png)"
   ]
  }
 ],
 "metadata": {
  "kernelspec": {
   "display_name": "Python 3 (ipykernel)",
   "language": "python",
   "name": "python3"
  },
  "language_info": {
   "codemirror_mode": {
    "name": "ipython",
    "version": 3
   },
   "file_extension": ".py",
   "mimetype": "text/x-python",
   "name": "python",
   "nbconvert_exporter": "python",
   "pygments_lexer": "ipython3",
   "version": "3.10.13"
  }
 },
 "nbformat": 4,
 "nbformat_minor": 5
}
