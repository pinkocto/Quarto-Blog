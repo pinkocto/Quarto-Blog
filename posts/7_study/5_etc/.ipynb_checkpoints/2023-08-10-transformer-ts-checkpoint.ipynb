{
 "cells": [
  {
   "cell_type": "raw",
   "id": "3004defa-29e5-4dfe-8a6d-32252abc271d",
   "metadata": {},
   "source": [
    "---\n",
    "title: \"Time Series Transformere (Stock Price)\"\n",
    "author: \"JiyunLim\"\n",
    "date: \"08/10/2023\"\n",
    "---"
   ]
  },
  {
   "cell_type": "markdown",
   "id": "01a8d6e9-6014-492d-ba51-febcd34bba85",
   "metadata": {},
   "source": [
    "# Transformer Model"
   ]
  },
  {
   "cell_type": "markdown",
   "id": "65ae1d10-46c4-463e-ab24-a15d989a495c",
   "metadata": {},
   "source": [
    "Training a transformer model to forecast time series sequence of stock closing price Using 10 timesteps to forecast 1 forward timestep"
   ]
  },
  {
   "cell_type": "markdown",
   "id": "a697d22e-e95c-4b76-881b-e92d49544dfe",
   "metadata": {},
   "source": [
    "## Import"
   ]
  },
  {
   "cell_type": "code",
   "execution_count": 1,
   "id": "201b848d-efb0-4f94-8548-4ebdaecdcf3d",
   "metadata": {},
   "outputs": [],
   "source": [
    "import torch\n",
    "import torch.nn as nn\n",
    "import numpy as np\n",
    "import pandas as pd\n",
    "import time\n",
    "import math\n",
    "import matplotlib.pyplot as plt"
   ]
  },
  {
   "cell_type": "markdown",
   "id": "bbcaf3c4-24a4-4284-b2b1-1b69d1af937a",
   "metadata": {},
   "source": [
    "## Load Data"
   ]
  },
  {
   "cell_type": "code",
   "execution_count": 2,
   "id": "485e944f-da91-4b97-ac76-10c9d3bf3fba",
   "metadata": {},
   "outputs": [
    {
     "data": {
      "text/html": [
       "<div>\n",
       "<style scoped>\n",
       "    .dataframe tbody tr th:only-of-type {\n",
       "        vertical-align: middle;\n",
       "    }\n",
       "\n",
       "    .dataframe tbody tr th {\n",
       "        vertical-align: top;\n",
       "    }\n",
       "\n",
       "    .dataframe thead th {\n",
       "        text-align: right;\n",
       "    }\n",
       "</style>\n",
       "<table border=\"1\" class=\"dataframe\">\n",
       "  <thead>\n",
       "    <tr style=\"text-align: right;\">\n",
       "      <th></th>\n",
       "      <th>date</th>\n",
       "      <th>minute</th>\n",
       "      <th>label</th>\n",
       "      <th>high</th>\n",
       "      <th>low</th>\n",
       "      <th>open</th>\n",
       "      <th>close</th>\n",
       "      <th>average</th>\n",
       "      <th>volume</th>\n",
       "      <th>notional</th>\n",
       "      <th>...</th>\n",
       "      <th>rsi</th>\n",
       "      <th>long</th>\n",
       "      <th>exit_long</th>\n",
       "      <th>short</th>\n",
       "      <th>exit_short</th>\n",
       "      <th>long_pnl</th>\n",
       "      <th>short_pnl</th>\n",
       "      <th>total_pnl</th>\n",
       "      <th>long_labels</th>\n",
       "      <th>short_labels</th>\n",
       "    </tr>\n",
       "  </thead>\n",
       "  <tbody>\n",
       "    <tr>\n",
       "      <th>0</th>\n",
       "      <td>2019-04-01</td>\n",
       "      <td>09:30</td>\n",
       "      <td>09:30 AM</td>\n",
       "      <td>168.000</td>\n",
       "      <td>167.52</td>\n",
       "      <td>167.925</td>\n",
       "      <td>167.82</td>\n",
       "      <td>167.775</td>\n",
       "      <td>9294.0</td>\n",
       "      <td>1559300.720</td>\n",
       "      <td>...</td>\n",
       "      <td>NaN</td>\n",
       "      <td>NaN</td>\n",
       "      <td>167.925</td>\n",
       "      <td>NaN</td>\n",
       "      <td>167.805</td>\n",
       "      <td>NaN</td>\n",
       "      <td>NaN</td>\n",
       "      <td>0.0</td>\n",
       "      <td>NaN</td>\n",
       "      <td>NaN</td>\n",
       "    </tr>\n",
       "    <tr>\n",
       "      <th>1</th>\n",
       "      <td>2019-04-01</td>\n",
       "      <td>09:31</td>\n",
       "      <td>09:31 AM</td>\n",
       "      <td>168.190</td>\n",
       "      <td>167.76</td>\n",
       "      <td>167.760</td>\n",
       "      <td>168.19</td>\n",
       "      <td>167.908</td>\n",
       "      <td>863.0</td>\n",
       "      <td>144904.500</td>\n",
       "      <td>...</td>\n",
       "      <td>100.000000</td>\n",
       "      <td>NaN</td>\n",
       "      <td>167.925</td>\n",
       "      <td>NaN</td>\n",
       "      <td>167.805</td>\n",
       "      <td>NaN</td>\n",
       "      <td>NaN</td>\n",
       "      <td>0.0</td>\n",
       "      <td>NaN</td>\n",
       "      <td>NaN</td>\n",
       "    </tr>\n",
       "    <tr>\n",
       "      <th>2</th>\n",
       "      <td>2019-04-01</td>\n",
       "      <td>09:32</td>\n",
       "      <td>09:32 AM</td>\n",
       "      <td>168.630</td>\n",
       "      <td>168.36</td>\n",
       "      <td>168.390</td>\n",
       "      <td>168.36</td>\n",
       "      <td>168.490</td>\n",
       "      <td>2707.0</td>\n",
       "      <td>456101.680</td>\n",
       "      <td>...</td>\n",
       "      <td>100.000000</td>\n",
       "      <td>NaN</td>\n",
       "      <td>167.925</td>\n",
       "      <td>NaN</td>\n",
       "      <td>167.805</td>\n",
       "      <td>NaN</td>\n",
       "      <td>NaN</td>\n",
       "      <td>0.0</td>\n",
       "      <td>NaN</td>\n",
       "      <td>NaN</td>\n",
       "    </tr>\n",
       "    <tr>\n",
       "      <th>3</th>\n",
       "      <td>2019-04-01</td>\n",
       "      <td>09:33</td>\n",
       "      <td>09:33 AM</td>\n",
       "      <td>168.135</td>\n",
       "      <td>167.94</td>\n",
       "      <td>168.135</td>\n",
       "      <td>168.04</td>\n",
       "      <td>168.132</td>\n",
       "      <td>5503.0</td>\n",
       "      <td>925229.920</td>\n",
       "      <td>...</td>\n",
       "      <td>46.468401</td>\n",
       "      <td>NaN</td>\n",
       "      <td>167.925</td>\n",
       "      <td>NaN</td>\n",
       "      <td>167.805</td>\n",
       "      <td>NaN</td>\n",
       "      <td>NaN</td>\n",
       "      <td>0.0</td>\n",
       "      <td>NaN</td>\n",
       "      <td>NaN</td>\n",
       "    </tr>\n",
       "    <tr>\n",
       "      <th>4</th>\n",
       "      <td>2019-04-01</td>\n",
       "      <td>09:34</td>\n",
       "      <td>09:34 AM</td>\n",
       "      <td>168.200</td>\n",
       "      <td>168.00</td>\n",
       "      <td>168.045</td>\n",
       "      <td>168.01</td>\n",
       "      <td>168.189</td>\n",
       "      <td>15236.0</td>\n",
       "      <td>2562520.845</td>\n",
       "      <td>...</td>\n",
       "      <td>43.215212</td>\n",
       "      <td>NaN</td>\n",
       "      <td>167.925</td>\n",
       "      <td>NaN</td>\n",
       "      <td>167.805</td>\n",
       "      <td>NaN</td>\n",
       "      <td>NaN</td>\n",
       "      <td>0.0</td>\n",
       "      <td>NaN</td>\n",
       "      <td>NaN</td>\n",
       "    </tr>\n",
       "  </tbody>\n",
       "</table>\n",
       "<p>5 rows × 21 columns</p>\n",
       "</div>"
      ],
      "text/plain": [
       "         date minute     label     high     low     open   close  average  \\\n",
       "0  2019-04-01  09:30  09:30 AM  168.000  167.52  167.925  167.82  167.775   \n",
       "1  2019-04-01  09:31  09:31 AM  168.190  167.76  167.760  168.19  167.908   \n",
       "2  2019-04-01  09:32  09:32 AM  168.630  168.36  168.390  168.36  168.490   \n",
       "3  2019-04-01  09:33  09:33 AM  168.135  167.94  168.135  168.04  168.132   \n",
       "4  2019-04-01  09:34  09:34 AM  168.200  168.00  168.045  168.01  168.189   \n",
       "\n",
       "    volume     notional  ...         rsi  long  exit_long  short  exit_short  \\\n",
       "0   9294.0  1559300.720  ...         NaN   NaN    167.925    NaN     167.805   \n",
       "1    863.0   144904.500  ...  100.000000   NaN    167.925    NaN     167.805   \n",
       "2   2707.0   456101.680  ...  100.000000   NaN    167.925    NaN     167.805   \n",
       "3   5503.0   925229.920  ...   46.468401   NaN    167.925    NaN     167.805   \n",
       "4  15236.0  2562520.845  ...   43.215212   NaN    167.925    NaN     167.805   \n",
       "\n",
       "   long_pnl  short_pnl  total_pnl  long_labels  short_labels  \n",
       "0       NaN        NaN        0.0          NaN           NaN  \n",
       "1       NaN        NaN        0.0          NaN           NaN  \n",
       "2       NaN        NaN        0.0          NaN           NaN  \n",
       "3       NaN        NaN        0.0          NaN           NaN  \n",
       "4       NaN        NaN        0.0          NaN           NaN  \n",
       "\n",
       "[5 rows x 21 columns]"
      ]
     },
     "execution_count": 2,
     "metadata": {},
     "output_type": "execute_result"
    }
   ],
   "source": [
    "df = pd.read_csv('https://raw.githubusercontent.com/ctxj/Time-Series-Transformer-Pytorch/main/FB_raw.csv')\n",
    "df.head()"
   ]
  },
  {
   "cell_type": "markdown",
   "id": "2bf64efb-9dd5-4e47-8ce8-874424fa9bdd",
   "metadata": {},
   "source": [
    "`-` global variables"
   ]
  },
  {
   "cell_type": "code",
   "execution_count": 18,
   "id": "41cf6501-07fb-42a6-a6e1-a73420b50245",
   "metadata": {},
   "outputs": [],
   "source": [
    "input_window = 10 # number of input steps\n",
    "output_window = 1 # number of prediction steps // 여기서는 1로 고정\n",
    "batch_size = 250\n",
    "# device = torch.device('cuda' if torch.cuda.is_available() else 'cpu')\n",
    "device = torch.device('cpu')"
   ]
  },
  {
   "cell_type": "code",
   "execution_count": 4,
   "id": "f2cb3916-2b1f-4c6e-a1e4-18829cfbd2e7",
   "metadata": {},
   "outputs": [],
   "source": [
    "close = np.array(df['close'])\n",
    "logreturn = np.diff(np.log(close)) # transform closing price to log returns\n",
    "csum_logreturn = logreturn.cumsum() # cumulative sum of log returns"
   ]
  },
  {
   "cell_type": "markdown",
   "id": "304ed6ab-04b3-4063-a581-8a5e30f33dba",
   "metadata": {},
   "source": [
    "`-` plot"
   ]
  },
  {
   "cell_type": "code",
   "execution_count": 7,
   "id": "78a3cf4b-24a4-4513-ab6b-69e053ddf10c",
   "metadata": {},
   "outputs": [
    {
     "data": {
      "image/png": "[encoded data removed]",
      "text/plain": [
       "<Figure size 432x288 with 2 Axes>"
      ]
     },
     "metadata": {
      "needs_background": "light"
     },
     "output_type": "display_data"
    }
   ],
   "source": [
    "fig, axes = plt.subplots(2,1)\n",
    "axes[0].plot(close, color='red')\n",
    "axes[0].set_title('Closing Price')\n",
    "axes[0].set_ylabel('Close Price')\n",
    "axes[0].set_xlabel('Time Steps')\n",
    "\n",
    "axes[1].plot(csum_logreturn, color='green')\n",
    "axes[1].set_title('Cumulative Sum of Log Returns')\n",
    "axes[1].set_xlabel('Time Steps')\n",
    "\n",
    "fig.tight_layout()\n",
    "plt.show()"
   ]
  },
  {
   "cell_type": "markdown",
   "id": "222e8366-2ebb-4304-98c3-cf6779295f0d",
   "metadata": {},
   "source": [
    "### Positional Encoder"
   ]
  },
  {
   "cell_type": "code",
   "execution_count": 8,
   "id": "85445363-76e1-4b9f-a3cd-002bdc991aff",
   "metadata": {},
   "outputs": [],
   "source": [
    "class PositionalEncoding(nn.Module):\n",
    "\n",
    "    def __init__(self, d_model, max_len=5000):\n",
    "        super(PositionalEncoding, self).__init__()       \n",
    "        pe = torch.zeros(max_len, d_model)\n",
    "        position = torch.arange(0, max_len, dtype=torch.float).unsqueeze(1)\n",
    "        div_term = torch.exp(torch.arange(0, d_model, 2).float() * (-math.log(10000.0) / d_model))\n",
    "        pe[:, 0::2] = torch.sin(position * div_term)\n",
    "        pe[:, 1::2] = torch.cos(position * div_term)\n",
    "        pe = pe.unsqueeze(0).transpose(0, 1)\n",
    "        self.register_buffer('pe', pe)\n",
    "\n",
    "    def forward(self, x):\n",
    "        return x + self.pe[:x.size(0), :]                          "
   ]
  },
  {
   "cell_type": "markdown",
   "id": "5e821ef7-dfb6-4fef-8e43-71fe778eef5c",
   "metadata": {},
   "source": [
    "### Transformer Model"
   ]
  },
  {
   "cell_type": "code",
   "execution_count": 9,
   "id": "99757d15-41fa-4b21-a2ab-2fd5850c5c3d",
   "metadata": {},
   "outputs": [],
   "source": [
    "class TransAm(nn.Module):\n",
    "    def __init__(self, feature_size=250, num_layers=1, dropout=0.1):\n",
    "        super(TransAm, self).__init__()\n",
    "        self.model_type = 'Transformer'\n",
    "        \n",
    "        self.src_mask = None\n",
    "        self.pos_encoder = PositionalEncoding(feature_size)\n",
    "        self.encoder_layer = nn.TransformerEncoderLayer(d_model=feature_size, nhead=10, dropout=dropout)\n",
    "        self.transformer_encoder = nn.TransformerEncoder(self.encoder_layer, num_layers=num_layers)        \n",
    "        self.decoder = nn.Linear(feature_size,1)\n",
    "        self.init_weights()\n",
    "\n",
    "    def init_weights(self):\n",
    "        initrange = 0.1    \n",
    "        self.decoder.bias.data.zero_()\n",
    "        self.decoder.weight.data.uniform_(-initrange, initrange)\n",
    "\n",
    "    def forward(self,src):\n",
    "        if self.src_mask is None or self.src_mask.size(0) != len(src):\n",
    "            device = src.device\n",
    "            mask = self._generate_square_subsequent_mask(len(src)).to(device)\n",
    "            self.src_mask = mask\n",
    "\n",
    "        src = self.pos_encoder(src)\n",
    "        output = self.transformer_encoder(src,self.src_mask)\n",
    "        output = self.decoder(output)\n",
    "        return output\n",
    "\n",
    "    def _generate_square_subsequent_mask(self, sz):\n",
    "        mask = (torch.triu(torch.ones(sz, sz)) == 1).transpose(0, 1)\n",
    "        mask = mask.float().masked_fill(mask == 0, float('-inf')).masked_fill(mask == 1, float(0.0))\n",
    "        return mask"
   ]
  },
  {
   "cell_type": "markdown",
   "id": "815f05f2-bc80-4496-96d9-417bc04bfc32",
   "metadata": {},
   "source": [
    "`-` Window function"
   ]
  },
  {
   "cell_type": "markdown",
   "id": "822b7d08-4604-4e13-82a9-dc3b22c999b3",
   "metadata": {},
   "source": [
    "split data into sequence window"
   ]
  },
  {
   "cell_type": "code",
   "execution_count": 10,
   "id": "760c2868-5e68-424a-aa65-763571ce0248",
   "metadata": {},
   "outputs": [],
   "source": [
    "def create_inout_sequences(input_data, tw):\n",
    "    inout_seq = []\n",
    "    L = len(input_data)\n",
    "    for i in range(L-tw):\n",
    "        train_seq = input_data[i:i+tw]\n",
    "        train_label = input_data[i+output_window:i+tw+output_window]\n",
    "        inout_seq.append((train_seq ,train_label))\n",
    "    return torch.FloatTensor(inout_seq)"
   ]
  },
  {
   "cell_type": "markdown",
   "id": "095bcce4-9116-4ec1-9e5e-e05bbff4e929",
   "metadata": {},
   "source": [
    "Split data in training and testing, prepared in windowed sequences and pass through GPU"
   ]
  },
  {
   "cell_type": "code",
   "execution_count": 11,
   "id": "bc2dde33-4c58-4a5b-8c5c-96cc96c953a8",
   "metadata": {},
   "outputs": [],
   "source": [
    "def get_data(data, split):\n",
    "    \"\"\"Split ratio of training data\"\"\"\n",
    "\n",
    "    series = data\n",
    "    \n",
    "    split = round(split*len(series))\n",
    "    train_data = series[:split]\n",
    "    test_data = series[split:]\n",
    "\n",
    "    train_data = train_data.cumsum()\n",
    "    train_data = 2*train_data # Training data augmentation, increase amplitude for the model to better generalize.(Scaling by 2 is aribitrary)\n",
    "                              # Similar to image transformation to allow model to train on wider data sets\n",
    "\n",
    "    test_data = test_data.cumsum()\n",
    "\n",
    "    train_sequence = create_inout_sequences(train_data,input_window)\n",
    "    train_sequence = train_sequence[:-output_window]\n",
    "\n",
    "    test_data = create_inout_sequences(test_data,input_window)\n",
    "    test_data = test_data[:-output_window]\n",
    "\n",
    "    return train_sequence.to(device), test_data.to(device)"
   ]
  },
  {
   "cell_type": "markdown",
   "id": "c3aa7f6c-e1d7-461c-9f71-e1ad6bfdf34d",
   "metadata": {},
   "source": [
    "Split into training batches"
   ]
  },
  {
   "cell_type": "code",
   "execution_count": 12,
   "id": "5cb44466-5d37-411c-9c5e-1ef652f6cc0e",
   "metadata": {},
   "outputs": [],
   "source": [
    "def get_batch(source, i, batch_size):\n",
    "    seq_len = min(batch_size, len(source) - 1 - i)\n",
    "    data = source[i:i+seq_len]    \n",
    "    input = torch.stack(torch.stack([item[0] for item in data]).chunk(input_window, 1))\n",
    "    target = torch.stack(torch.stack([item[1] for item in data]).chunk(input_window, 1))\n",
    "    return input, target"
   ]
  },
  {
   "cell_type": "markdown",
   "id": "a8a970d5-baf4-4d84-b722-259f65ba2bc2",
   "metadata": {},
   "source": [
    "Training function"
   ]
  },
  {
   "cell_type": "code",
   "execution_count": 13,
   "id": "ea632da7-ed15-4869-aefd-3624154128f6",
   "metadata": {},
   "outputs": [],
   "source": [
    "def train(train_data):\n",
    "    model.train() # Turn on the evaluation mode\n",
    "    total_loss = 0.\n",
    "    start_time = time.time()\n",
    "\n",
    "    for batch, i in enumerate(range(0, len(train_data) - 1, batch_size)):\n",
    "        data, targets = get_batch(train_data, i,batch_size)\n",
    "        optimizer.zero_grad()\n",
    "        output = model(data)\n",
    "        loss = criterion(output, targets)\n",
    "        loss.backward()\n",
    "        torch.nn.utils.clip_grad_norm_(model.parameters(), 0.7)\n",
    "        optimizer.step()\n",
    "\n",
    "        total_loss += loss.item()\n",
    "        log_interval = int(len(train_data) / batch_size / 5)\n",
    "        if batch % log_interval == 0 and batch > 0:\n",
    "            cur_loss = total_loss / log_interval\n",
    "            elapsed = time.time() - start_time\n",
    "            print('| epoch {:3d} | {:5d}/{:5d} batches | '\n",
    "                  'lr {:02.10f} | {:5.2f} ms | '\n",
    "                  'loss {:5.7f}'.format(\n",
    "                    epoch, batch, len(train_data) // batch_size, scheduler.get_lr()[0],\n",
    "                    elapsed * 1000 / log_interval,\n",
    "                    cur_loss))\n",
    "            total_loss = 0\n",
    "            start_time = time.time()"
   ]
  },
  {
   "cell_type": "markdown",
   "id": "074cdfd5-9daa-4a68-93f6-4e4a49e1b30b",
   "metadata": {},
   "source": [
    "Evaluation function for model after training"
   ]
  },
  {
   "cell_type": "code",
   "execution_count": 14,
   "id": "4d87006e-d81d-4c41-a9b5-532bc13d15ca",
   "metadata": {},
   "outputs": [],
   "source": [
    "def evaluate(eval_model, data_source):\n",
    "    eval_model.eval() # Turn on the evaluation mode\n",
    "    total_loss = 0.\n",
    "    eval_batch_size = 1000\n",
    "    with torch.no_grad():\n",
    "        for i in range(0, len(data_source) - 1, eval_batch_size):\n",
    "            data, targets = get_batch(data_source, i, eval_batch_size)\n",
    "            output = eval_model(data)            \n",
    "            total_loss += len(data[0])* criterion(output, targets).cpu().item()\n",
    "    return total_loss / len(data_source)"
   ]
  },
  {
   "cell_type": "markdown",
   "id": "421d3e3d-d0d3-4103-beeb-9ebd5a0add93",
   "metadata": {},
   "source": [
    "Function to forecast 1 time step from window sequence"
   ]
  },
  {
   "cell_type": "code",
   "execution_count": 15,
   "id": "61eff585-9589-4095-b2af-e81fc4bb478f",
   "metadata": {},
   "outputs": [],
   "source": [
    "def model_forecast(model, seqence):\n",
    "    model.eval() \n",
    "    total_loss = 0.\n",
    "    test_result = torch.Tensor(0)    \n",
    "    truth = torch.Tensor(0)\n",
    "\n",
    "    seq = np.pad(seqence, (0, 3), mode='constant', constant_values=(0, 0))\n",
    "    seq = create_inout_sequences(seq, input_window)\n",
    "    seq = seq[:-output_window].to(device)\n",
    "\n",
    "    seq, _ = get_batch(seq, 0, 1)\n",
    "    with torch.no_grad():\n",
    "        for i in range(0, output_window):            \n",
    "            output = model(seq[-output_window:])                        \n",
    "            seq = torch.cat((seq, output[-1:]))\n",
    "\n",
    "    seq = seq.cpu().view(-1).numpy()\n",
    "\n",
    "    return seq"
   ]
  },
  {
   "cell_type": "markdown",
   "id": "ed0aca04-b2f8-4f3a-88ac-8417b3a76244",
   "metadata": {},
   "source": [
    "Function to forecast entire sequence"
   ]
  },
  {
   "cell_type": "code",
   "execution_count": 16,
   "id": "9071ea52-9e71-4644-9d21-a9c169aa9434",
   "metadata": {},
   "outputs": [],
   "source": [
    "def forecast_seq(model, sequences):\n",
    "    \"\"\"Sequences data has to been windowed and passed through device\"\"\"\n",
    "    start_timer = time.time()\n",
    "    model.eval() \n",
    "    forecast_seq = torch.Tensor(0)    \n",
    "    actual = torch.Tensor(0)\n",
    "    with torch.no_grad():\n",
    "        for i in range(0, len(sequences) - 1):\n",
    "            data, target = get_batch(sequences, i, 1)\n",
    "            output = model(data)            \n",
    "            forecast_seq = torch.cat((forecast_seq, output[-1].view(-1).cpu()), 0)\n",
    "            actual = torch.cat((actual, target[-1].view(-1).cpu()), 0)\n",
    "    timed = time.time()-start_timer\n",
    "    print(f\"{timed} sec\")\n",
    "\n",
    "    return forecast_seq, actual"
   ]
  },
  {
   "cell_type": "markdown",
   "id": "afe591ba-6d34-4e58-95ed-6ed93284de5e",
   "metadata": {},
   "source": [
    "Prepare data for training model"
   ]
  },
  {
   "cell_type": "code",
   "execution_count": 19,
   "id": "910711b3-e088-44ce-a730-d241c4005eb5",
   "metadata": {},
   "outputs": [],
   "source": [
    "train_data, val_data = get_data(logreturn, 0.6) # 60% train, 40% test split\n",
    "model = TransAm().to(device)"
   ]
  },
  {
   "cell_type": "code",
   "execution_count": 22,
   "id": "f36d26f1-c004-4527-bb01-edd9ed471902",
   "metadata": {},
   "outputs": [],
   "source": [
    "criterion = nn.MSELoss() # Loss function\n",
    "lr = 0.00005 # learning rate\n",
    "\n",
    "optimizer = torch.optim.AdamW(model.parameters(), lr=lr)\n",
    "scheduler = torch.optim.lr_scheduler.StepLR(optimizer, 1.0, gamma=0.95)\n",
    "\n",
    "epochs =  10 # Number of epochs 150"
   ]
  },
  {
   "cell_type": "code",
   "execution_count": 23,
   "id": "7bb5c9c3-4bc9-4343-a51d-b602b8caff84",
   "metadata": {},
   "outputs": [
    {
     "name": "stdout",
     "output_type": "stream",
     "text": [
      "| epoch   1 |    77/  385 batches | lr 0.0000500000 | 57.22 ms | loss 0.0136349\n",
      "| epoch   1 |   154/  385 batches | lr 0.0000500000 | 56.69 ms | loss 0.0101929\n",
      "| epoch   1 |   231/  385 batches | lr 0.0000500000 | 56.71 ms | loss 0.0057727\n",
      "| epoch   1 |   308/  385 batches | lr 0.0000500000 | 56.94 ms | loss 0.0042714\n",
      "| epoch   1 |   385/  385 batches | lr 0.0000500000 | 56.60 ms | loss 0.0135543\n",
      "--------------------------------------------------------------------------------\n",
      "| end of epoch   1 | time: 21.88s\n",
      "--------------------------------------------------------------------------------\n",
      "| epoch   2 |    77/  385 batches | lr 0.0000451250 | 57.75 ms | loss 0.0058133\n",
      "| epoch   2 |   154/  385 batches | lr 0.0000451250 | 57.89 ms | loss 0.0048406\n",
      "| epoch   2 |   231/  385 batches | lr 0.0000451250 | 56.89 ms | loss 0.0023565\n",
      "| epoch   2 |   308/  385 batches | lr 0.0000451250 | 57.11 ms | loss 0.0025112\n",
      "| epoch   2 |   385/  385 batches | lr 0.0000451250 | 56.61 ms | loss 0.0074962\n",
      "--------------------------------------------------------------------------------\n",
      "| end of epoch   2 | time: 22.04s\n",
      "--------------------------------------------------------------------------------\n",
      "| epoch   3 |    77/  385 batches | lr 0.0000428687 | 57.97 ms | loss 0.0040375\n",
      "| epoch   3 |   154/  385 batches | lr 0.0000428687 | 57.34 ms | loss 0.0036393\n",
      "| epoch   3 |   231/  385 batches | lr 0.0000428687 | 57.57 ms | loss 0.0015818\n",
      "| epoch   3 |   308/  385 batches | lr 0.0000428687 | 57.03 ms | loss 0.0035247\n",
      "| epoch   3 |   385/  385 batches | lr 0.0000428687 | 56.50 ms | loss 0.0056444\n",
      "--------------------------------------------------------------------------------\n",
      "| end of epoch   3 | time: 22.05s\n",
      "--------------------------------------------------------------------------------\n",
      "| epoch   4 |    77/  385 batches | lr 0.0000407253 | 57.57 ms | loss 0.0046868\n",
      "| epoch   4 |   154/  385 batches | lr 0.0000407253 | 56.73 ms | loss 0.0026414\n",
      "| epoch   4 |   231/  385 batches | lr 0.0000407253 | 56.21 ms | loss 0.0018956\n",
      "| epoch   4 |   308/  385 batches | lr 0.0000407253 | 58.26 ms | loss 0.0027017\n",
      "| epoch   4 |   385/  385 batches | lr 0.0000407253 | 56.28 ms | loss 0.0050008\n",
      "--------------------------------------------------------------------------------\n",
      "| end of epoch   4 | time: 21.95s\n",
      "--------------------------------------------------------------------------------\n",
      "| epoch   5 |    77/  385 batches | lr 0.0000386890 | 57.32 ms | loss 0.0052833\n",
      "| epoch   5 |   154/  385 batches | lr 0.0000386890 | 56.76 ms | loss 0.0036348\n",
      "| epoch   5 |   231/  385 batches | lr 0.0000386890 | 57.19 ms | loss 0.0021735\n",
      "| epoch   5 |   308/  385 batches | lr 0.0000386890 | 57.64 ms | loss 0.0020005\n",
      "| epoch   5 |   385/  385 batches | lr 0.0000386890 | 56.69 ms | loss 0.0055897\n",
      "--------------------------------------------------------------------------------\n",
      "| end of epoch   5 | time: 21.99s\n",
      "--------------------------------------------------------------------------------\n",
      "| epoch   6 |    77/  385 batches | lr 0.0000367546 | 57.75 ms | loss 0.0070904\n",
      "| epoch   6 |   154/  385 batches | lr 0.0000367546 | 56.02 ms | loss 0.0022925\n",
      "| epoch   6 |   231/  385 batches | lr 0.0000367546 | 56.53 ms | loss 0.0018821\n",
      "| epoch   6 |   308/  385 batches | lr 0.0000367546 | 57.27 ms | loss 0.0022888\n",
      "| epoch   6 |   385/  385 batches | lr 0.0000367546 | 56.54 ms | loss 0.0090193\n",
      "--------------------------------------------------------------------------------\n",
      "| end of epoch   6 | time: 21.88s\n",
      "--------------------------------------------------------------------------------\n",
      "| epoch   7 |    77/  385 batches | lr 0.0000349169 | 57.88 ms | loss 0.0068115\n",
      "| epoch   7 |   154/  385 batches | lr 0.0000349169 | 57.39 ms | loss 0.0021631\n",
      "| epoch   7 |   231/  385 batches | lr 0.0000349169 | 58.06 ms | loss 0.0018259\n",
      "| epoch   7 |   308/  385 batches | lr 0.0000349169 | 57.22 ms | loss 0.0022266\n",
      "| epoch   7 |   385/  385 batches | lr 0.0000349169 | 56.09 ms | loss 0.0118806\n",
      "--------------------------------------------------------------------------------\n",
      "| end of epoch   7 | time: 22.07s\n",
      "--------------------------------------------------------------------------------\n",
      "| epoch   8 |    77/  385 batches | lr 0.0000331710 | 58.05 ms | loss 0.0077954\n",
      "| epoch   8 |   154/  385 batches | lr 0.0000331710 | 56.74 ms | loss 0.0031891\n",
      "| epoch   8 |   231/  385 batches | lr 0.0000331710 | 56.75 ms | loss 0.0040912\n",
      "| epoch   8 |   308/  385 batches | lr 0.0000331710 | 56.93 ms | loss 0.0023997\n",
      "| epoch   8 |   385/  385 batches | lr 0.0000331710 | 56.25 ms | loss 0.0081000\n",
      "--------------------------------------------------------------------------------\n",
      "| end of epoch   8 | time: 21.92s\n",
      "--------------------------------------------------------------------------------\n",
      "| epoch   9 |    77/  385 batches | lr 0.0000315125 | 57.79 ms | loss 0.0066046\n",
      "| epoch   9 |   154/  385 batches | lr 0.0000315125 | 56.83 ms | loss 0.0039425\n",
      "| epoch   9 |   231/  385 batches | lr 0.0000315125 | 56.75 ms | loss 0.0037167\n",
      "| epoch   9 |   308/  385 batches | lr 0.0000315125 | 57.20 ms | loss 0.0019323\n",
      "| epoch   9 |   385/  385 batches | lr 0.0000315125 | 57.33 ms | loss 0.0132667\n",
      "--------------------------------------------------------------------------------\n",
      "| end of epoch   9 | time: 22.02s\n",
      "--------------------------------------------------------------------------------\n",
      "| epoch  10 |    77/  385 batches | lr 0.0000299368 | 58.24 ms | loss 0.0085330\n",
      "| epoch  10 |   154/  385 batches | lr 0.0000299368 | 57.27 ms | loss 0.0032725\n",
      "| epoch  10 |   231/  385 batches | lr 0.0000299368 | 70.65 ms | loss 0.0034041\n",
      "| epoch  10 |   308/  385 batches | lr 0.0000299368 | 70.60 ms | loss 0.0015592\n",
      "| epoch  10 |   385/  385 batches | lr 0.0000299368 | 68.78 ms | loss 0.0146613\n",
      "--------------------------------------------------------------------------------\n",
      "| end of epoch  10 | time: 38.02s | valid loss: 0.2860207\n",
      "--------------------------------------------------------------------------------\n"
     ]
    }
   ],
   "source": [
    "for epoch in range(1, epochs + 1):\n",
    "    epoch_start_time = time.time()\n",
    "    train(train_data)\n",
    "    \n",
    "    if(epoch % epochs == 0): # Valid model after last training epoch\n",
    "        val_loss = evaluate(model, val_data)\n",
    "        print('-' * 80)\n",
    "        print('| end of epoch {:3d} | time: {:5.2f}s | valid loss: {:5.7f}'.format(epoch, (time.time() - epoch_start_time), val_loss))\n",
    "        print('-' * 80)\n",
    "\n",
    "    else:   \n",
    "        print('-' * 80)\n",
    "        print('| end of epoch {:3d} | time: {:5.2f}s'.format(epoch, (time.time() - epoch_start_time)))\n",
    "        print('-' * 80)\n",
    "\n",
    "    scheduler.step() "
   ]
  },
  {
   "cell_type": "code",
   "execution_count": 31,
   "id": "c160a7d7-fab2-4d28-bb4e-c1b232187053",
   "metadata": {},
   "outputs": [
    {
     "data": {
      "text/plain": [
       "TransAm(\n",
       "  (pos_encoder): PositionalEncoding()\n",
       "  (encoder_layer): TransformerEncoderLayer(\n",
       "    (self_attn): MultiheadAttention(\n",
       "      (out_proj): NonDynamicallyQuantizableLinear(in_features=250, out_features=250, bias=True)\n",
       "    )\n",
       "    (linear1): Linear(in_features=250, out_features=2048, bias=True)\n",
       "    (dropout): Dropout(p=0.1, inplace=False)\n",
       "    (linear2): Linear(in_features=2048, out_features=250, bias=True)\n",
       "    (norm1): LayerNorm((250,), eps=1e-05, elementwise_affine=True)\n",
       "    (norm2): LayerNorm((250,), eps=1e-05, elementwise_affine=True)\n",
       "    (dropout1): Dropout(p=0.1, inplace=False)\n",
       "    (dropout2): Dropout(p=0.1, inplace=False)\n",
       "  )\n",
       "  (transformer_encoder): TransformerEncoder(\n",
       "    (layers): ModuleList(\n",
       "      (0): TransformerEncoderLayer(\n",
       "        (self_attn): MultiheadAttention(\n",
       "          (out_proj): NonDynamicallyQuantizableLinear(in_features=250, out_features=250, bias=True)\n",
       "        )\n",
       "        (linear1): Linear(in_features=250, out_features=2048, bias=True)\n",
       "        (dropout): Dropout(p=0.1, inplace=False)\n",
       "        (linear2): Linear(in_features=2048, out_features=250, bias=True)\n",
       "        (norm1): LayerNorm((250,), eps=1e-05, elementwise_affine=True)\n",
       "        (norm2): LayerNorm((250,), eps=1e-05, elementwise_affine=True)\n",
       "        (dropout1): Dropout(p=0.1, inplace=False)\n",
       "        (dropout2): Dropout(p=0.1, inplace=False)\n",
       "      )\n",
       "    )\n",
       "  )\n",
       "  (decoder): Linear(in_features=250, out_features=1, bias=True)\n",
       ")"
      ]
     },
     "execution_count": 31,
     "metadata": {},
     "output_type": "execute_result"
    }
   ],
   "source": [
    "model"
   ]
  },
  {
   "cell_type": "code",
   "execution_count": 33,
   "id": "bf3d3e86-979f-4889-858d-16f8eb8f4125",
   "metadata": {},
   "outputs": [
    {
     "name": "stdout",
     "output_type": "stream",
     "text": [
      "1600.3889005184174 sec\n"
     ]
    }
   ],
   "source": [
    "test_result, truth = forecast_seq(model, val_data)"
   ]
  },
  {
   "cell_type": "markdown",
   "id": "036b920d-a25f-4314-9ec0-a0d34fa0c468",
   "metadata": {},
   "source": [
    "`-` Plot forecasted sequence vs. actual"
   ]
  },
  {
   "cell_type": "code",
   "execution_count": 34,
   "id": "7c109ac1-82a2-459c-bc88-8b938b42880a",
   "metadata": {},
   "outputs": [
    {
     "data": {
      "image/png": "[encoded data removed]",
      "text/plain": [
       "<Figure size 432x288 with 1 Axes>"
      ]
     },
     "metadata": {
      "needs_background": "light"
     },
     "output_type": "display_data"
    }
   ],
   "source": [
    "plt.plot(truth, color='red', alpha=0.7)\n",
    "plt.plot(test_result, color='blue', linewidth=0.7)\n",
    "plt.title('Actual vs Forecast')\n",
    "plt.legend(['Actual', 'Forecast'])\n",
    "plt.xlabel('Time Steps')\n",
    "plt.show()"
   ]
  },
  {
   "cell_type": "markdown",
   "id": "a50f0f2c-e526-46b6-9a7a-3d5a767d8ba0",
   "metadata": {},
   "source": [
    "- 에폭 수가 너무 적어서 학습이 잘 안된 듯.."
   ]
  },
  {
   "cell_type": "markdown",
   "id": "5b55e0ab-b100-4947-a6bf-e846823c21e4",
   "metadata": {},
   "source": [
    "`-` Test random sequence"
   ]
  },
  {
   "cell_type": "code",
   "execution_count": 35,
   "id": "460568ae-2f91-4170-9ea3-01b809142525",
   "metadata": {},
   "outputs": [
    {
     "name": "stdout",
     "output_type": "stream",
     "text": [
      "forecast sequence: [ 0.45956996  0.45955116  0.45804468  0.45834616  0.46043515  0.45947587\n",
      "  0.45996502  0.45966405  0.46049154  0.45876053 -0.08363973]\n",
      "Actual sequence: [0.45956996 0.45955115 0.45804467 0.45834615 0.46043515 0.45947588\n",
      " 0.45996503 0.45966404 0.46049154 0.45876053 0.45747915]\n"
     ]
    }
   ],
   "source": [
    "r = np.random.randint(100000, 160000)\n",
    "test_forecast = model_forecast(model, csum_logreturn[r: r+10]) # random 10 sequence length\n",
    "\n",
    "print(f\"forecast sequence: {test_forecast}\")\n",
    "print(f\"Actual sequence: {csum_logreturn[r: r+11]}\")"
   ]
  },
  {
   "cell_type": "markdown",
   "id": "c6cfa88e-e8fe-4b22-8fd5-428bbc0ae8c4",
   "metadata": {},
   "source": [
    "- ref: <https://github.com/ctxj/Time-Series-Transformer-Pytorch/tree/main>"
   ]
  }
 ],
 "metadata": {
  "kernelspec": {
   "display_name": "Python 3",
   "language": "python",
   "name": "python3"
  },
  "language_info": {
   "codemirror_mode": {
    "name": "ipython",
    "version": 3
   },
   "file_extension": ".py",
   "mimetype": "text/x-python",
   "name": "python",
   "nbconvert_exporter": "python",
   "pygments_lexer": "ipython3",
   "version": "3.8.16"
  }
 },
 "nbformat": 4,
 "nbformat_minor": 5
}
