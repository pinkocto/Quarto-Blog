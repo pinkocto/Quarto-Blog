{
 "cells": [
  {
   "cell_type": "raw",
   "id": "4f026632-7c4d-4e00-aa24-1a7180a2ed68",
   "metadata": {},
   "source": [
    "---\n",
    "title: \"3wk-1 \"\n",
    "author: \"JiyunLim\"\n",
    "date: \"09/13/2023\"\n",
    "---"
   ]
  },
  {
   "cell_type": "markdown",
   "id": "c861ee9c-372e-4e77-8574-31d29754f4bb",
   "metadata": {},
   "source": [
    "```python\n",
    "@app.route('/<city_name>')\n",
    "def show_detail(city_name):\n",
    "    city_info = {\n",
    "        \"jeongeup\" : {\"name\":\"전라북도 정읍시\",\\\n",
    "                      \"img_url\": \"https://\"}\n",
    "        \"Hampeong\": {\"name\":\"전라북도 함평군\",\\\n",
    "                     \"img_url\": \"https://\"}\n",
    "        \n",
    "    }\n",
    "    \n",
    "    # return f\"<h2>{city_info}{city_name}[\"name\"]\n",
    "```"
   ]
  },
  {
   "cell_type": "markdown",
   "id": "07b8f177-dcd2-41f7-9d04-9770ebbc7804",
   "metadata": {},
   "source": [
    "## HTML"
   ]
  },
  {
   "cell_type": "markdown",
   "id": "73267515-1269-472a-a22b-ccf3863f0abe",
   "metadata": {},
   "source": [
    "입력하세요~ 페이지"
   ]
  },
  {
   "cell_type": "markdown",
   "id": "8f4296b1-5989-4e10-8a43-c80b69223ad8",
   "metadata": {},
   "source": [
    "주소를 만들어준다."
   ]
  },
  {
   "cell_type": "markdown",
   "id": "c2186d90-4b7a-4a89-a42d-ba57141ea19f",
   "metadata": {},
   "source": [
    "http://127.0.0.1/dan/7"
   ]
  },
  {
   "cell_type": "markdown",
   "id": "37964d78-380c-4eb6-ae6b-05c149671c24",
   "metadata": {},
   "source": [
    "HTML"
   ]
  },
  {
   "cell_type": "markdown",
   "id": "96983f09-1d8a-4155-94af-f622b8830104",
   "metadata": {},
   "source": [
    "브라우저 상에도 똑같이 보이게!!"
   ]
  },
  {
   "cell_type": "markdown",
   "id": "ce9ddba5-2643-4386-b465-2eab99a75c0a",
   "metadata": {},
   "source": [
    "자바스크립트에서 import"
   ]
  },
  {
   "cell_type": "markdown",
   "id": "c1e7ed9c-2ff2-4102-94f4-abb041f5c1d3",
   "metadata": {},
   "source": [
    "jquery"
   ]
  },
  {
   "cell_type": "markdown",
   "id": "bb8f560f-9d29-4667-b7b8-a79038788352",
   "metadata": {},
   "source": [
    "하나는 버튼클릭했을 때  //   "
   ]
  }
 ],
 "metadata": {
  "kernelspec": {
   "display_name": "Python 3",
   "language": "python",
   "name": "python3"
  },
  "language_info": {
   "codemirror_mode": {
    "name": "ipython",
    "version": 3
   },
   "file_extension": ".py",
   "mimetype": "text/x-python",
   "name": "python",
   "nbconvert_exporter": "python",
   "pygments_lexer": "ipython3",
   "version": "3.8.16"
  }
 },
 "nbformat": 4,
 "nbformat_minor": 5
}
