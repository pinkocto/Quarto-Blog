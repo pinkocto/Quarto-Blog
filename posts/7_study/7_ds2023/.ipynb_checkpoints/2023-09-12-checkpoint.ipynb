{
 "cells": [
  {
   "cell_type": "raw",
   "id": "b2bd6f2d-9af5-4a24-ae72-abd8032e3217",
   "metadata": {},
   "source": [
    "---\n",
    "title: \"2wk\"\n",
    "author: \"JiyunLim\"\n",
    "date: \"09/12/2023\"\n",
    "---b"
   ]
  },
  {
   "cell_type": "markdown",
   "id": "d4ead5ef-6015-4324-875f-a773217026f1",
   "metadata": {},
   "source": [
    "## The Zen of Python"
   ]
  },
  {
   "cell_type": "code",
   "execution_count": 1,
   "id": "6988fd0e-89c1-4f33-9bd0-b99a080b1542",
   "metadata": {},
   "outputs": [
    {
     "name": "stdout",
     "output_type": "stream",
     "text": [
      "The Zen of Python, by Tim Peters\n",
      "\n",
      "Beautiful is better than ugly.\n",
      "Explicit is better than implicit.\n",
      "Simple is better than complex.\n",
      "Complex is better than complicated.\n",
      "Flat is better than nested.\n",
      "Sparse is better than dense.\n",
      "Readability counts.\n",
      "Special cases aren't special enough to break the rules.\n",
      "Although practicality beats purity.\n",
      "Errors should never pass silently.\n",
      "Unless explicitly silenced.\n",
      "In the face of ambiguity, refuse the temptation to guess.\n",
      "There should be one-- and preferably only one --obvious way to do it.\n",
      "Although that way may not be obvious at first unless you're Dutch.\n",
      "Now is better than never.\n",
      "Although never is often better than *right* now.\n",
      "If the implementation is hard to explain, it's a bad idea.\n",
      "If the implementation is easy to explain, it may be a good idea.\n",
      "Namespaces are one honking great idea -- let's do more of those!\n"
     ]
    }
   ],
   "source": [
    "import this"
   ]
  },
  {
   "cell_type": "markdown",
   "id": "f4258823-bbc2-467d-92b6-a949f110b23e",
   "metadata": {},
   "source": [
    "- 파이썬은 명확하고 쉽게 표현하기 위한 언어."
   ]
  },
  {
   "cell_type": "markdown",
   "id": "0a39bf14-d64e-40e3-b64b-159f988ad3a0",
   "metadata": {},
   "source": [
    "## 가상환경"
   ]
  },
  {
   "cell_type": "markdown",
   "id": "c973a86c-0494-401e-b083-58cf2833ec4c",
   "metadata": {},
   "source": [
    "> `!`는 시스템 쉘에서 쓰는 명령어. (컴퓨터 자체한테 일을 시키는 것.)"
   ]
  },
  {
   "cell_type": "code",
   "execution_count": 2,
   "id": "ad436200-3679-4823-ab51-dc75c8d4dfec",
   "metadata": {},
   "outputs": [
    {
     "name": "stdout",
     "output_type": "stream",
     "text": [
      "pandas==1.3.5\n"
     ]
    }
   ],
   "source": [
    "# 현재 환경에 설치된 패키지 리스트 출력\n",
    "!pip freeze | grep pandas"
   ]
  },
  {
   "cell_type": "markdown",
   "id": "db4ce138-4dae-4148-8155-7840c9d3ac11",
   "metadata": {},
   "source": [
    "- `freeze`는 깔려있는 패키지를 동결시킨다. (동결시킨 패키지 목록을 필요에 따라 복붙하면 됨.)"
   ]
  },
  {
   "cell_type": "code",
   "execution_count": 3,
   "id": "78dce6c8-0fb6-4c02-a353-f9583106ffe0",
   "metadata": {},
   "outputs": [
    {
     "name": "stdout",
     "output_type": "stream",
     "text": [
      "Python 3.8.16\n"
     ]
    }
   ],
   "source": [
    "# 파이썬 버전 확인\n",
    "!python --version"
   ]
  },
  {
   "cell_type": "markdown",
   "id": "351f75be-bc5e-4dbd-b665-f99e737badf4",
   "metadata": {},
   "source": [
    "- 3번째 버전은 신경안써도 됨. 중간 숫자는 1년에 한번씩 업데이트 된다고 보면 됨."
   ]
  },
  {
   "cell_type": "code",
   "execution_count": 4,
   "id": "33444da9-1e7e-4e23-9bd4-37fa812303fc",
   "metadata": {},
   "outputs": [
    {
     "name": "stdout",
     "output_type": "stream",
     "text": [
      "Tue Sep 12 17:28:14 2023       \n",
      "+-----------------------------------------------------------------------------+\n",
      "| NVIDIA-SMI 525.89.02    Driver Version: 525.89.02    CUDA Version: 12.0     |\n",
      "|-------------------------------+----------------------+----------------------+\n",
      "| GPU  Name        Persistence-M| Bus-Id        Disp.A | Volatile Uncorr. ECC |\n",
      "| Fan  Temp  Perf  Pwr:Usage/Cap|         Memory-Usage | GPU-Util  Compute M. |\n",
      "|                               |                      |               MIG M. |\n",
      "|===============================+======================+======================|\n",
      "|   0  NVIDIA GeForce ...  Off  | 00000000:09:00.0 Off |                  N/A |\n",
      "|  0%   33C    P8    31W / 420W |      2MiB / 24576MiB |      0%      Default |\n",
      "|                               |                      |                  N/A |\n",
      "+-------------------------------+----------------------+----------------------+\n",
      "                                                                               \n",
      "+-----------------------------------------------------------------------------+\n",
      "| Processes:                                                                  |\n",
      "|  GPU   GI   CI        PID   Type   Process name                  GPU Memory |\n",
      "|        ID   ID                                                   Usage      |\n",
      "|=============================================================================|\n",
      "|  No running processes found                                                 |\n",
      "+-----------------------------------------------------------------------------+\n"
     ]
    }
   ],
   "source": [
    "# 사용중인 GPU / 드라이브 버전 / CUDA 버전 등 GPU 상태 확인\n",
    "!nvidia-smi"
   ]
  },
  {
   "cell_type": "code",
   "execution_count": 5,
   "id": "7dbe45f3-6623-4b38-83ef-03765ac46d58",
   "metadata": {},
   "outputs": [
    {
     "data": {
      "text/plain": [
       "'Linux-6.2.0-26-generic-x86_64-with-glibc2.17'"
      ]
     },
     "execution_count": 5,
     "metadata": {},
     "output_type": "execute_result"
    }
   ],
   "source": [
    "# 플랫폼 사양 확인\n",
    "import platform as p\n",
    "p.platform()"
   ]
  },
  {
   "cell_type": "code",
   "execution_count": 6,
   "id": "a1567523-b7e5-40e4-9c58-87c62e8850ca",
   "metadata": {},
   "outputs": [
    {
     "name": "stdout",
     "output_type": "stream",
     "text": [
      "Ubuntu 22.04.2 LTS\n"
     ]
    }
   ],
   "source": [
    "# 리눅스 종류 확인\n",
    "!cat /etc/issue.net"
   ]
  },
  {
   "cell_type": "code",
   "execution_count": 8,
   "id": "b3a9de49-6d00-4336-b3b6-2baf049d177e",
   "metadata": {},
   "outputs": [],
   "source": [
    "# CPU 정보 확인\n",
    "# !cat /proc/cpuinfo"
   ]
  },
  {
   "cell_type": "code",
   "execution_count": 9,
   "id": "46208cd1-7a4c-4f19-9d73-7172c34837fd",
   "metadata": {},
   "outputs": [
    {
     "name": "stdout",
     "output_type": "stream",
     "text": [
      "MemTotal:       131818196 kB\n",
      "MemFree:        15323916 kB\n",
      "MemAvailable:   37475372 kB\n",
      "Buffers:          407604 kB\n",
      "Cached:         22186364 kB\n",
      "SwapCached:            0 kB\n",
      "Active:         11569860 kB\n",
      "Inactive:       103288084 kB\n",
      "Active(anon):       6120 kB\n",
      "Inactive(anon): 92263696 kB\n",
      "Active(file):   11563740 kB\n",
      "Inactive(file): 11024388 kB\n",
      "Unevictable:           0 kB\n",
      "Mlocked:               0 kB\n",
      "SwapTotal:       2097148 kB\n",
      "SwapFree:        2097148 kB\n",
      "Zswap:                 0 kB\n",
      "Zswapped:              0 kB\n",
      "Dirty:                64 kB\n",
      "Writeback:             0 kB\n",
      "AnonPages:      92263116 kB\n",
      "Mapped:          1037044 kB\n",
      "Shmem:              5832 kB\n",
      "KReclaimable:     810380 kB\n",
      "Slab:            1055988 kB\n",
      "SReclaimable:     810380 kB\n",
      "SUnreclaim:       245608 kB\n",
      "KernelStack:       28640 kB\n",
      "PageTables:       246096 kB\n",
      "SecPageTables:         0 kB\n",
      "NFS_Unstable:          0 kB\n",
      "Bounce:                0 kB\n",
      "WritebackTmp:          0 kB\n",
      "CommitLimit:    68006244 kB\n",
      "Committed_AS:   116634948 kB\n",
      "VmallocTotal:   34359738367 kB\n",
      "VmallocUsed:      129356 kB\n",
      "VmallocChunk:          0 kB\n",
      "Percpu:            29696 kB\n",
      "HardwareCorrupted:     0 kB\n",
      "AnonHugePages:   6203392 kB\n",
      "ShmemHugePages:        0 kB\n",
      "ShmemPmdMapped:        0 kB\n",
      "FileHugePages:         0 kB\n",
      "FilePmdMapped:         0 kB\n",
      "HugePages_Total:       0\n",
      "HugePages_Free:        0\n",
      "HugePages_Rsvd:        0\n",
      "HugePages_Surp:        0\n",
      "Hugepagesize:       2048 kB\n",
      "Hugetlb:               0 kB\n",
      "DirectMap4k:      881700 kB\n",
      "DirectMap2M:    39938048 kB\n",
      "DirectMap1G:    93323264 kB\n"
     ]
    }
   ],
   "source": [
    "# Memory 확인\n",
    "!cat /proc/meminfo"
   ]
  },
  {
   "cell_type": "code",
   "execution_count": 10,
   "id": "64a31bab-d213-44bd-9861-b6ba0aaf136b",
   "metadata": {},
   "outputs": [
    {
     "name": "stdout",
     "output_type": "stream",
     "text": [
      "14.612 \n"
     ]
    }
   ],
   "source": [
    "# KB -> GB\n",
    "!awk '/MemFree/ { printf \"%.3f \\n\", $2/1024/1024 }' /proc/meminfo"
   ]
  },
  {
   "cell_type": "code",
   "execution_count": 11,
   "id": "0e12d582-4291-435e-8bf1-bc2ebfa4b6c5",
   "metadata": {},
   "outputs": [
    {
     "name": "stdout",
     "output_type": "stream",
     "text": [
      "Filesystem      Size  Used Avail Use% Mounted on\n",
      "tmpfs            13G  2.0M   13G   1% /run\n",
      "/dev/nvme0n1p3  916G  234G  635G  27% /\n",
      "tmpfs            63G  1.6M   63G   1% /dev/shm\n",
      "tmpfs           5.0M  4.0K  5.0M   1% /run/lock\n",
      "/dev/nvme0n1p2  512M  6.1M  506M   2% /boot/efi\n",
      "tmpfs            13G   80K   13G   1% /run/user/127\n",
      "tmpfs            13G   68K   13G   1% /run/user/1000\n"
     ]
    }
   ],
   "source": [
    "# 디스크 사용량 확인\n",
    "!df -h"
   ]
  },
  {
   "cell_type": "markdown",
   "id": "1edaf306-09b2-4a9c-ab21-3c81f0a66e24",
   "metadata": {},
   "source": [
    "## Modules"
   ]
  },
  {
   "cell_type": "markdown",
   "id": "0f5d635b-51cb-45e9-bd48-fb726dd35750",
   "metadata": {},
   "source": [
    "모듈/패키지/프레임워크"
   ]
  },
  {
   "cell_type": "code",
   "execution_count": 12,
   "id": "77c974c1-f3ac-439f-8028-4db4114cedbc",
   "metadata": {},
   "outputs": [
    {
     "data": {
      "text/plain": [
       "['010', '1234', '5678', '23']"
      ]
     },
     "execution_count": 12,
     "metadata": {},
     "output_type": "execute_result"
    }
   ],
   "source": [
    "import re\n",
    "my_regex = re.compile(\"[0-9]+\", re.I)\n",
    "my_regex.findall(\"010-1234-5678abd 23af\")"
   ]
  },
  {
   "cell_type": "code",
   "execution_count": 13,
   "id": "05a6cccf-fa9c-49fb-825b-55303251ad69",
   "metadata": {},
   "outputs": [],
   "source": [
    "from collections import defaultdict, Counter\n",
    "lookup = defaultdict(int)\n",
    "my_counter = Counter()"
   ]
  },
  {
   "cell_type": "code",
   "execution_count": 14,
   "id": "26d7f449-d86c-4747-9442-0310bde461c2",
   "metadata": {},
   "outputs": [
    {
     "name": "stdout",
     "output_type": "stream",
     "text": [
      "<function match at 0x7f83e4b4be50>\n"
     ]
    }
   ],
   "source": [
    "match = 30\n",
    "from re import *\n",
    "print(match)"
   ]
  },
  {
   "cell_type": "code",
   "execution_count": 24,
   "id": "39c0e98e-1f9c-4d03-8f35-65a9768eb8de",
   "metadata": {},
   "outputs": [
    {
     "data": {
      "text/plain": [
       "55"
      ]
     },
     "execution_count": 24,
     "metadata": {},
     "output_type": "execute_result"
    }
   ],
   "source": [
    "sum([x for x in range(1,11)])"
   ]
  },
  {
   "cell_type": "code",
   "execution_count": 25,
   "id": "57050fdd-1863-47d1-824f-b2338395c2a9",
   "metadata": {},
   "outputs": [
    {
     "name": "stdout",
     "output_type": "stream",
     "text": [
      "55\n"
     ]
    }
   ],
   "source": [
    "sum = 0\n",
    "for i in range(1, 10+1):\n",
    "    sum += i\n",
    "print(sum)"
   ]
  },
  {
   "cell_type": "code",
   "execution_count": 27,
   "id": "812fc749-f63d-4cce-a63d-29a2285bd802",
   "metadata": {},
   "outputs": [
    {
     "data": {
      "text/plain": [
       "55"
      ]
     },
     "execution_count": 27,
     "metadata": {},
     "output_type": "execute_result"
    }
   ],
   "source": [
    "sum # 지금 sum에는 55가 저장되어 있음."
   ]
  },
  {
   "cell_type": "code",
   "execution_count": 26,
   "id": "a0b6d0cf-efd3-4500-8ccd-d3cabf328584",
   "metadata": {},
   "outputs": [
    {
     "ename": "TypeError",
     "evalue": "'int' object is not callable",
     "output_type": "error",
     "traceback": [
      "\u001b[0;31m---------------------------------------------------------------------------\u001b[0m",
      "\u001b[0;31mTypeError\u001b[0m                                 Traceback (most recent call last)",
      "Cell \u001b[0;32mIn[26], line 1\u001b[0m\n\u001b[0;32m----> 1\u001b[0m \u001b[38;5;28;43msum\u001b[39;49m\u001b[43m(\u001b[49m\u001b[43m[\u001b[49m\u001b[43mx\u001b[49m\u001b[43m \u001b[49m\u001b[38;5;28;43;01mfor\u001b[39;49;00m\u001b[43m \u001b[49m\u001b[43mx\u001b[49m\u001b[43m \u001b[49m\u001b[38;5;129;43;01min\u001b[39;49;00m\u001b[43m \u001b[49m\u001b[38;5;28;43mrange\u001b[39;49m\u001b[43m(\u001b[49m\u001b[38;5;241;43m1\u001b[39;49m\u001b[43m,\u001b[49m\u001b[38;5;241;43m11\u001b[39;49m\u001b[43m)\u001b[49m\u001b[43m]\u001b[49m\u001b[43m)\u001b[49m\n",
      "\u001b[0;31mTypeError\u001b[0m: 'int' object is not callable"
     ]
    }
   ],
   "source": [
    "sum([x for x in range(1,11)]) # 따라서 함수는 작동하지 X"
   ]
  },
  {
   "cell_type": "markdown",
   "id": "33404a94-bb2f-4cab-a27f-d8609c9afcec",
   "metadata": {},
   "source": [
    "- import해서 가져오면 변수이름과 동일할 경우 변수 이름이 덮어씌워진다."
   ]
  },
  {
   "cell_type": "markdown",
   "id": "981ce0e3-9aaf-4002-8862-6b35a3528c85",
   "metadata": {},
   "source": [
    "## Functions"
   ]
  },
  {
   "cell_type": "code",
   "execution_count": 15,
   "id": "faf47443-6b3b-488b-b205-15e65affed2c",
   "metadata": {},
   "outputs": [],
   "source": [
    "def double(x):\n",
    "  \"\"\"주어진 값을 두배로 만들어서 돌려줍니다.\"\"\"\n",
    "  return x*2"
   ]
  },
  {
   "cell_type": "markdown",
   "id": "df6f6866-0eb3-4cac-b71c-b8308ba5d5a5",
   "metadata": {},
   "source": [
    "- 따옴표 3개쓰는 이유? 여러 줄 쓰기 위해.. \n",
    "- 함수 선언은 메모리에만 올라가는 것이고 실행되지는 않는다."
   ]
  },
  {
   "cell_type": "code",
   "execution_count": 16,
   "id": "4431145c-6086-4be1-a7ce-d01061002879",
   "metadata": {},
   "outputs": [
    {
     "data": {
      "text/plain": [
       "\u001b[0;31mSignature:\u001b[0m \u001b[0mdouble\u001b[0m\u001b[0;34m(\u001b[0m\u001b[0mx\u001b[0m\u001b[0;34m)\u001b[0m\u001b[0;34m\u001b[0m\u001b[0;34m\u001b[0m\u001b[0m\n",
       "\u001b[0;31mDocstring:\u001b[0m 주어진 값을 두배로 만들어서 돌려줍니다.\n",
       "\u001b[0;31mFile:\u001b[0m      ~/Dropbox/임지윤/Quarto-Blog/posts/5_study/7_ds2023/<ipython-input-15-7ee74bb62645>\n",
       "\u001b[0;31mType:\u001b[0m      function"
      ]
     },
     "metadata": {},
     "output_type": "display_data"
    }
   ],
   "source": [
    "double?"
   ]
  },
  {
   "cell_type": "code",
   "execution_count": 20,
   "id": "28112301-adee-4fe5-9a1a-efe62fc7aea4",
   "metadata": {},
   "outputs": [],
   "source": [
    "def apply_to_one(f): # sinx, cosx 이든 어떤 식이 와도 1을 집어넣는 함수.\n",
    "  \"\"\"주어진 함수에 1을 적용합니다.\"\"\"\n",
    "  return f(1)"
   ]
  },
  {
   "cell_type": "code",
   "execution_count": 21,
   "id": "73d91cb4-158b-413f-83c8-d76530156bcb",
   "metadata": {},
   "outputs": [
    {
     "data": {
      "text/plain": [
       "2"
      ]
     },
     "execution_count": 21,
     "metadata": {},
     "output_type": "execute_result"
    }
   ],
   "source": [
    "apply_to_one(double)"
   ]
  },
  {
   "cell_type": "code",
   "execution_count": 22,
   "id": "23d62109-ec31-4d2b-88d2-1b59682d26f4",
   "metadata": {},
   "outputs": [
    {
     "data": {
      "text/plain": [
       "6"
      ]
     },
     "execution_count": 22,
     "metadata": {},
     "output_type": "execute_result"
    }
   ],
   "source": [
    "apply_to_one(lambda x: x + 5)"
   ]
  },
  {
   "cell_type": "code",
   "execution_count": 23,
   "id": "e4acc53f-99ce-4507-ab9d-387df3ce5bcf",
   "metadata": {},
   "outputs": [],
   "source": [
    "add_five = lambda x: x + 5     # 이런형태로는 람다를 쓰지마세요.\n",
    "\n",
    "def add_five(n):               # 차라리 이렇게 쓰는 게 낫습니다.\n",
    "  \"\"\"주어진 숫자에 5를 더합니다.\"\"\"\n",
    "  return n + 5"
   ]
  },
  {
   "cell_type": "code",
   "execution_count": 28,
   "id": "636e859d-6d39-4bf6-be4a-bea127c0d5a1",
   "metadata": {},
   "outputs": [],
   "source": [
    "def hello(name=\"고객\"): # default값을 줄 수 있음.\n",
    "  print(f\"안녕하세요. {name}님\")"
   ]
  },
  {
   "cell_type": "code",
   "execution_count": 33,
   "id": "68996318-fe3a-41fb-90e5-d8625aa9dfbd",
   "metadata": {},
   "outputs": [
    {
     "name": "stdout",
     "output_type": "stream",
     "text": [
      "안녕하세요. 고객님\n",
      "안녕하세요. 개굴님\n"
     ]
    }
   ],
   "source": [
    "hello() # 덮어씌워 줄 게 없으니까 디폴트값.\n",
    "hello('개굴') # 개굴을 덮어씌워 줌."
   ]
  },
  {
   "cell_type": "markdown",
   "id": "15f0aeb2-bb54-4d28-9f89-1bd9871da092",
   "metadata": {},
   "source": [
    "## Strings"
   ]
  },
  {
   "cell_type": "code",
   "execution_count": 34,
   "id": "f0e21f95-f86d-44fa-bf57-d3827829dbff",
   "metadata": {},
   "outputs": [],
   "source": [
    "single_quoted_string = 'data science'\n",
    "double_quoted_string = \"data science\""
   ]
  },
  {
   "cell_type": "code",
   "execution_count": 35,
   "id": "b30c7985-71b2-4572-a582-f28de48a74fa",
   "metadata": {},
   "outputs": [
    {
     "data": {
      "text/plain": [
       "1"
      ]
     },
     "execution_count": 35,
     "metadata": {},
     "output_type": "execute_result"
    }
   ],
   "source": [
    "tab_string = \"\\t\"\n",
    "len(tab_string)"
   ]
  },
  {
   "cell_type": "code",
   "execution_count": 37,
   "id": "ceac322b-983c-4aec-a212-0a4516d1ee11",
   "metadata": {},
   "outputs": [
    {
     "data": {
      "text/plain": [
       "2"
      ]
     },
     "execution_count": 37,
     "metadata": {},
     "output_type": "execute_result"
    }
   ],
   "source": [
    "not_tab_string = r\"\\t\"      # raw string, 역슬래시 자체를 써야 하는 경우. 정규표현식.\n",
    "len(not_tab_string)"
   ]
  },
  {
   "cell_type": "markdown",
   "id": "837ed237-dd61-487f-b07f-34afe25ecf2a",
   "metadata": {},
   "source": [
    "## Exceptions"
   ]
  },
  {
   "cell_type": "code",
   "execution_count": 36,
   "id": "b6165274-1f04-46f2-8b28-557a802b77f3",
   "metadata": {},
   "outputs": [
    {
     "name": "stdout",
     "output_type": "stream",
     "text": [
      "0으로 나눌 수 없습니다.\n"
     ]
    }
   ],
   "source": [
    "try:\n",
    "  print(0 / 0)\n",
    "except ZeroDivisionError:\n",
    "  print(\"0으로 나눌 수 없습니다.\")"
   ]
  },
  {
   "cell_type": "markdown",
   "id": "a687e49b-ede5-4aa8-9195-fcab309a405d",
   "metadata": {},
   "source": [
    "## Lists"
   ]
  },
  {
   "cell_type": "code",
   "execution_count": 38,
   "id": "70a2c2f6-2f51-43ed-a4a6-451c1d005900",
   "metadata": {},
   "outputs": [],
   "source": [
    "integer_list = [1, 2, 3]\n",
    "heterogeneous_list = [\"string\", 0.1, True]\n",
    "list_of_lists = [integer_list, heterogeneous_list, []]"
   ]
  },
  {
   "cell_type": "code",
   "execution_count": 39,
   "id": "6ebf53aa-8438-45dc-b00d-3d9c96c099a4",
   "metadata": {},
   "outputs": [
    {
     "data": {
      "text/plain": [
       "[[1, 2, 3], ['string', 0.1, True], []]"
      ]
     },
     "execution_count": 39,
     "metadata": {},
     "output_type": "execute_result"
    }
   ],
   "source": [
    "list_of_lists"
   ]
  },
  {
   "cell_type": "code",
   "execution_count": 51,
   "id": "93f5a223-7de4-4139-88a0-0feeb6168306",
   "metadata": {},
   "outputs": [
    {
     "name": "stdout",
     "output_type": "stream",
     "text": [
      "integet_list의 길이?: 3\n",
      "integer_list 안 모든 값의 합은?: 6\n"
     ]
    }
   ],
   "source": [
    "# integer_list 리스트의 길이(갯수)는?\n",
    "print('integet_list의 길이?:', len(integer_list))\n",
    "\n",
    "# integer_list 리스트 안 모든 값의 합은?\n",
    "sum_ = 0\n",
    "for i in range(len(integer_list)):\n",
    "    sum_ += integer_list[i]\n",
    "print('integer_list 안 모든 값의 합은?:', sum_)"
   ]
  },
  {
   "cell_type": "code",
   "execution_count": 52,
   "id": "58e715d1-6016-4296-ad39-a31974fbb1ae",
   "metadata": {},
   "outputs": [
    {
     "data": {
      "text/plain": [
       "[0, 1, 2, 3, 4, 5, 6, 7, 8, 9]"
      ]
     },
     "execution_count": 52,
     "metadata": {},
     "output_type": "execute_result"
    }
   ],
   "source": [
    "x = [x for x in range(10)]\n",
    "x"
   ]
  },
  {
   "cell_type": "code",
   "execution_count": 53,
   "id": "6038e9d6-65ca-4346-a31e-d2b509c18128",
   "metadata": {},
   "outputs": [],
   "source": [
    "zero = x[0]\n",
    "nine = x[-1]\n",
    "x[0] = -1"
   ]
  },
  {
   "cell_type": "code",
   "execution_count": 55,
   "id": "e6f80c85-2f6f-43f8-a8a8-78e4be6897af",
   "metadata": {},
   "outputs": [
    {
     "data": {
      "text/plain": [
       "[-1, 1, 2, 3, 4, 5, 6, 7, 8, 9]"
      ]
     },
     "execution_count": 55,
     "metadata": {},
     "output_type": "execute_result"
    }
   ],
   "source": [
    "x"
   ]
  },
  {
   "cell_type": "code",
   "execution_count": 64,
   "id": "36e90413-d728-4ce0-a548-1c5631b1af6d",
   "metadata": {},
   "outputs": [],
   "source": [
    "first_three = x[:3]    # 첫 3개 항목\n",
    "three_to_end = x[3:]   # 숫자 3부터 끝까지\n",
    "one_to_four = x[1:5]    # 숫자 1부터 4까지\n",
    "last_three = x[-3:]     # 마지막 3개 항목\n",
    "without_first_and_last =  x[1:-1]    # 첫항목과 끝항목 빼고 나머지\n",
    "copy_of_x =  x[:]     # 리스트를 복사"
   ]
  },
  {
   "cell_type": "code",
   "execution_count": 65,
   "id": "edbd7ab7-26a1-4f0e-8b05-52a94b9b1726",
   "metadata": {},
   "outputs": [
    {
     "data": {
      "text/plain": [
       "([-1, 1, 2],\n",
       " [3, 4, 5, 6, 7, 8, 9],\n",
       " [1, 2, 3, 4],\n",
       " [7, 8, 9],\n",
       " [1, 2, 3, 4, 5, 6, 7, 8],\n",
       " [-1, 1, 2, 3, 4, 5, 6, 7, 8, 9])"
      ]
     },
     "execution_count": 65,
     "metadata": {},
     "output_type": "execute_result"
    }
   ],
   "source": [
    "first_three, three_to_end, one_to_four, last_three, without_first_and_last, copy_of_x"
   ]
  },
  {
   "cell_type": "code",
   "execution_count": 66,
   "id": "e8353162-e041-430a-9c7c-69dfd0d4d4b6",
   "metadata": {},
   "outputs": [],
   "source": [
    "every_third = x[::3]\n",
    "five_to_three = x[5:2:-1]"
   ]
  },
  {
   "cell_type": "code",
   "execution_count": 68,
   "id": "21ce00e3-9272-42fe-8807-b747630be984",
   "metadata": {},
   "outputs": [
    {
     "data": {
      "text/plain": [
       "([-1, 3, 6, 9], [5, 4, 3])"
      ]
     },
     "execution_count": 68,
     "metadata": {},
     "output_type": "execute_result"
    }
   ],
   "source": [
    "every_third, five_to_three"
   ]
  },
  {
   "cell_type": "code",
   "execution_count": 70,
   "id": "6fe43e5b-8ffe-41a6-b95f-de066b10a88a",
   "metadata": {},
   "outputs": [
    {
     "name": "stdout",
     "output_type": "stream",
     "text": [
      "True\n",
      "False\n"
     ]
    }
   ],
   "source": [
    "print(1 in [1, 2, 3])\n",
    "print(0 in [1, 2, 3])"
   ]
  },
  {
   "cell_type": "code",
   "execution_count": 93,
   "id": "74cd07f3-efd2-48cc-adb8-8207aef11135",
   "metadata": {},
   "outputs": [],
   "source": [
    "x = [1,2,3]"
   ]
  },
  {
   "cell_type": "code",
   "execution_count": 94,
   "id": "ee55955d-718c-4a0c-bc33-dde468ca6fba",
   "metadata": {},
   "outputs": [],
   "source": [
    "x.append(4)\n",
    "# x.append(5)\n",
    "# x.append(6)"
   ]
  },
  {
   "cell_type": "code",
   "execution_count": 95,
   "id": "4878646c-8f1d-4022-82f6-8dfa887f2447",
   "metadata": {},
   "outputs": [
    {
     "data": {
      "text/plain": [
       "[1, 2, 3, 4]"
      ]
     },
     "execution_count": 95,
     "metadata": {},
     "output_type": "execute_result"
    }
   ],
   "source": [
    "x"
   ]
  },
  {
   "cell_type": "code",
   "execution_count": 96,
   "id": "73e50005-a414-40f2-9bdb-9be91459eede",
   "metadata": {},
   "outputs": [
    {
     "data": {
      "text/plain": [
       "[1, 2, 3, 4, 5]"
      ]
     },
     "execution_count": 96,
     "metadata": {},
     "output_type": "execute_result"
    }
   ],
   "source": [
    "x.append(5)\n",
    "x"
   ]
  },
  {
   "cell_type": "code",
   "execution_count": 97,
   "id": "45a1cfc8-ae50-470d-a87c-e5df7603681d",
   "metadata": {},
   "outputs": [
    {
     "data": {
      "text/plain": [
       "[1, 2, 3, 4, 5, 6]"
      ]
     },
     "execution_count": 97,
     "metadata": {},
     "output_type": "execute_result"
    }
   ],
   "source": [
    "x.append(6)\n",
    "x"
   ]
  },
  {
   "cell_type": "code",
   "execution_count": 107,
   "id": "39fa9b31-10d6-46b8-a547-3694eded722e",
   "metadata": {},
   "outputs": [
    {
     "ename": "AttributeError",
     "evalue": "'int' object has no attribute 'append'",
     "output_type": "error",
     "traceback": [
      "\u001b[0;31m---------------------------------------------------------------------------\u001b[0m",
      "\u001b[0;31mAttributeError\u001b[0m                            Traceback (most recent call last)",
      "Cell \u001b[0;32mIn[107], line 1\u001b[0m\n\u001b[0;32m----> 1\u001b[0m \u001b[43mx\u001b[49m\u001b[38;5;241;43m.\u001b[39;49m\u001b[43mappend\u001b[49m(\u001b[38;5;241m4\u001b[39m,\u001b[38;5;241m5\u001b[39m,\u001b[38;5;241m6\u001b[39m)\n",
      "\u001b[0;31mAttributeError\u001b[0m: 'int' object has no attribute 'append'"
     ]
    }
   ],
   "source": [
    "x.append(4,5,6) # append는 하나만 들어간다."
   ]
  },
  {
   "cell_type": "code",
   "execution_count": 80,
   "id": "1b3d2919-8aae-4dbe-857b-1168d637c179",
   "metadata": {},
   "outputs": [
    {
     "data": {
      "text/plain": [
       "[1, 2, 3, [4, 5, 6]]"
      ]
     },
     "execution_count": 80,
     "metadata": {},
     "output_type": "execute_result"
    }
   ],
   "source": [
    "x = [1, 2, 3]\n",
    "x.append([4, 5, 6]) # 리스트를 한 덩어리로 취급.\n",
    "x"
   ]
  },
  {
   "cell_type": "code",
   "execution_count": 79,
   "id": "74fd522f-52cc-48ec-9c7a-2a7ca1a999eb",
   "metadata": {},
   "outputs": [
    {
     "data": {
      "text/plain": [
       "[1, 2, 3, 4, 5, 6]"
      ]
     },
     "execution_count": 79,
     "metadata": {},
     "output_type": "execute_result"
    }
   ],
   "source": [
    "x = [1,2,3]\n",
    "x.extend([4,5,6])\n",
    "x"
   ]
  },
  {
   "cell_type": "code",
   "execution_count": 81,
   "id": "59777168-cc6d-4991-83a2-3fcd68d4ab65",
   "metadata": {},
   "outputs": [
    {
     "data": {
      "text/plain": [
       "[1, 2, 3, 4, 5, 6]"
      ]
     },
     "execution_count": 81,
     "metadata": {},
     "output_type": "execute_result"
    }
   ],
   "source": [
    "x = [1, 2, 3]\n",
    "y = x + [4,5,6]\n",
    "y"
   ]
  },
  {
   "cell_type": "code",
   "execution_count": 82,
   "id": "bdcd24bf-4bd4-4d55-8f0a-8b0db06f15a6",
   "metadata": {},
   "outputs": [],
   "source": [
    "x, y = [1, 2]"
   ]
  },
  {
   "cell_type": "code",
   "execution_count": 83,
   "id": "d9b93768-2629-4ed5-a6e6-8537ec3c8d16",
   "metadata": {},
   "outputs": [],
   "source": [
    "_, y = [1, 2]"
   ]
  },
  {
   "cell_type": "code",
   "execution_count": 116,
   "id": "91f14c80-6c8e-413d-9913-71350097db0c",
   "metadata": {},
   "outputs": [],
   "source": [
    "_, y, _ = [1, 2, 3]"
   ]
  },
  {
   "cell_type": "markdown",
   "id": "af08ea1c-31a7-4854-86f8-2f379118f0b8",
   "metadata": {},
   "source": [
    "## Tuples"
   ]
  },
  {
   "cell_type": "code",
   "execution_count": 99,
   "id": "1bc608dd-0e3f-42d8-a94f-fadee331b66d",
   "metadata": {},
   "outputs": [],
   "source": [
    "my_list = [1, 2]\n",
    "my_tuple = (1, 2)\n",
    "other_tuple = 3, 4"
   ]
  },
  {
   "cell_type": "code",
   "execution_count": 119,
   "id": "9d9ffe98-fd6f-4960-86c6-c5e924c5a8fe",
   "metadata": {},
   "outputs": [
    {
     "data": {
      "text/plain": [
       "(3, 4)"
      ]
     },
     "execution_count": 119,
     "metadata": {},
     "output_type": "execute_result"
    }
   ],
   "source": [
    "other_tuple"
   ]
  },
  {
   "cell_type": "code",
   "execution_count": 100,
   "id": "1a35544e-6996-429f-8c7a-1a0e5c63f756",
   "metadata": {},
   "outputs": [],
   "source": [
    "x, y = 1, 2"
   ]
  },
  {
   "cell_type": "code",
   "execution_count": 101,
   "id": "439c279e-d17e-4f50-bb92-886da3138510",
   "metadata": {},
   "outputs": [],
   "source": [
    "x, y = y, x # swap x, y. 다른 언어에서는 지원하지 않음. 주의."
   ]
  },
  {
   "cell_type": "code",
   "execution_count": 114,
   "id": "ec587e74-5d04-43a8-b8e7-da031b33f87d",
   "metadata": {},
   "outputs": [
    {
     "name": "stdout",
     "output_type": "stream",
     "text": [
      "2\n",
      "1\n"
     ]
    }
   ],
   "source": [
    "print(x)\n",
    "print(y)"
   ]
  },
  {
   "cell_type": "code",
   "execution_count": 121,
   "id": "42f45544-0ba6-4a16-9b57-a15a3c1b4f15",
   "metadata": {},
   "outputs": [
    {
     "data": {
      "text/plain": [
       "[5, 2]"
      ]
     },
     "execution_count": 121,
     "metadata": {},
     "output_type": "execute_result"
    }
   ],
   "source": [
    "my_list[0] = 5\n",
    "my_list"
   ]
  },
  {
   "cell_type": "code",
   "execution_count": 120,
   "id": "e8bd8cb8-7a87-4b0b-9ebd-a2c753573a3c",
   "metadata": {},
   "outputs": [
    {
     "ename": "TypeError",
     "evalue": "'tuple' object does not support item assignment",
     "output_type": "error",
     "traceback": [
      "\u001b[0;31m---------------------------------------------------------------------------\u001b[0m",
      "\u001b[0;31mTypeError\u001b[0m                                 Traceback (most recent call last)",
      "Cell \u001b[0;32mIn[120], line 1\u001b[0m\n\u001b[0;32m----> 1\u001b[0m \u001b[43mmy_tuple\u001b[49m\u001b[43m[\u001b[49m\u001b[38;5;241;43m0\u001b[39;49m\u001b[43m]\u001b[49m \u001b[38;5;241m=\u001b[39m \u001b[38;5;241m5\u001b[39m\n\u001b[1;32m      2\u001b[0m my_tuple\n",
      "\u001b[0;31mTypeError\u001b[0m: 'tuple' object does not support item assignment"
     ]
    }
   ],
   "source": [
    "my_tuple[0] = 5\n",
    "my_tuple"
   ]
  },
  {
   "cell_type": "markdown",
   "id": "2fca8bf7-2d77-4e88-ab2c-4dbba3bf8381",
   "metadata": {},
   "source": [
    "- 프로그램을 만들 때 tuple을 많이 사용한다. (누군가 맘대로 못바꾸게)"
   ]
  },
  {
   "cell_type": "markdown",
   "id": "aabb461d-4523-4581-95d6-db3dc416a604",
   "metadata": {},
   "source": [
    "## Dictionaries"
   ]
  },
  {
   "cell_type": "code",
   "execution_count": 103,
   "id": "c9b3fcb3-3e0c-4b26-874a-1d74bb952da9",
   "metadata": {},
   "outputs": [],
   "source": [
    "empty_dict = {}\n",
    "empty_dict2 = dict()\n",
    "grades = {'홍길동': 80, \"임꺽정\": 95}"
   ]
  },
  {
   "cell_type": "code",
   "execution_count": 104,
   "id": "0981d15e-b9b7-47b0-9f30-e7c5afa544d9",
   "metadata": {},
   "outputs": [],
   "source": [
    "hong_grade = grades['홍길동']"
   ]
  },
  {
   "cell_type": "code",
   "execution_count": 105,
   "id": "fe141a37-6282-4d19-a3dd-45cc90786915",
   "metadata": {},
   "outputs": [
    {
     "data": {
      "text/plain": [
       "80"
      ]
     },
     "execution_count": 105,
     "metadata": {},
     "output_type": "execute_result"
    }
   ],
   "source": [
    "hong_grade"
   ]
  },
  {
   "cell_type": "code",
   "execution_count": 106,
   "id": "0be484e2-c861-4628-8310-30f61a7be339",
   "metadata": {},
   "outputs": [
    {
     "ename": "KeyError",
     "evalue": "'김철수'",
     "output_type": "error",
     "traceback": [
      "\u001b[0;31m---------------------------------------------------------------------------\u001b[0m",
      "\u001b[0;31mKeyError\u001b[0m                                  Traceback (most recent call last)",
      "Cell \u001b[0;32mIn[106], line 1\u001b[0m\n\u001b[0;32m----> 1\u001b[0m kim_grade \u001b[38;5;241m=\u001b[39m \u001b[43mgrades\u001b[49m\u001b[43m[\u001b[49m\u001b[38;5;124;43m\"\u001b[39;49m\u001b[38;5;124;43m김철수\u001b[39;49m\u001b[38;5;124;43m\"\u001b[39;49m\u001b[43m]\u001b[49m\n",
      "\u001b[0;31mKeyError\u001b[0m: '김철수'"
     ]
    }
   ],
   "source": [
    "kim_grade = grades[\"김철수\"]"
   ]
  },
  {
   "cell_type": "code",
   "execution_count": 108,
   "id": "bc4d47e7-1aca-4867-a4e1-266db648118b",
   "metadata": {},
   "outputs": [
    {
     "data": {
      "text/plain": [
       "0"
      ]
     },
     "execution_count": 108,
     "metadata": {},
     "output_type": "execute_result"
    }
   ],
   "source": [
    "kim_grade = grades.get('김철수',0)\n",
    "kim_grade"
   ]
  },
  {
   "cell_type": "code",
   "execution_count": 109,
   "id": "72b626a9-d912-44a1-87b0-b5a7dcb78aa7",
   "metadata": {},
   "outputs": [],
   "source": [
    "kim_grade = grades.get('김철수')"
   ]
  },
  {
   "cell_type": "code",
   "execution_count": 112,
   "id": "3665c448-7db8-45a1-b3ba-b4e69731ac38",
   "metadata": {},
   "outputs": [],
   "source": [
    "kim_grade"
   ]
  },
  {
   "cell_type": "code",
   "execution_count": 113,
   "id": "fc8e9e77-b7e2-4e62-bc09-d889c7657c1e",
   "metadata": {},
   "outputs": [
    {
     "data": {
      "text/plain": [
       "(dict_keys(['홍길동', '임꺽정']),\n",
       " dict_values([80, 95]),\n",
       " dict_items([('홍길동', 80), ('임꺽정', 95)]))"
      ]
     },
     "execution_count": 113,
     "metadata": {},
     "output_type": "execute_result"
    }
   ],
   "source": [
    "grades.keys(), grades.values(), grades.items()"
   ]
  },
  {
   "cell_type": "markdown",
   "id": "06adcfed-b47f-47da-9456-bd8965d3e1c6",
   "metadata": {},
   "source": [
    "- 18일"
   ]
  }
 ],
 "metadata": {
  "kernelspec": {
   "display_name": "Python 3",
   "language": "python",
   "name": "python3"
  },
  "language_info": {
   "codemirror_mode": {
    "name": "ipython",
    "version": 3
   },
   "file_extension": ".py",
   "mimetype": "text/x-python",
   "name": "python",
   "nbconvert_exporter": "python",
   "pygments_lexer": "ipython3",
   "version": "3.8.16"
  }
 },
 "nbformat": 4,
 "nbformat_minor": 5
}
