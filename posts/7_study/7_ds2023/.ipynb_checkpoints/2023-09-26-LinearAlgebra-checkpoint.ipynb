{
 "cells": [
  {
   "cell_type": "raw",
   "id": "b0d57722-dfeb-41bf-92c1-ee57abafdded",
   "metadata": {},
   "source": [
    "---\n",
    "title: \"4wk-1 선형대수\"\n",
    "author: \"JiyunLim\"\n",
    "date: \"09/26/2023\"\n",
    "---"
   ]
  },
  {
   "cell_type": "markdown",
   "id": "41bb2a0f-0bff-40c3-b659-3a96e53b7faa",
   "metadata": {},
   "source": [
    "## 데이터의 유형"
   ]
  },
  {
   "cell_type": "markdown",
   "id": "cb05fd2b-74a5-4347-aecd-09bae4b8661c",
   "metadata": {},
   "source": [
    "선형대수에서 다루는 데이터는 개수나 형태에 따라 크게 **스칼라(scalar), 벡터(vector), 행렬(matrix), 텐서(tensor)** 유형으로 나뉜다. 스칼라는 숫자 하나로 이루어진 데이터이고, 벡터는 여러 숫자로 이루어진 데이터 레코드(data record)이며, 행렬은 이러한 벡터, 즉 데이터 레코드가 여럿인 데이터 집합이라고 볼 수 있다. 텐서는 같은 크기의 행렬이 여러 개 있는 것이라고 생각하면 된다."
   ]
  },
  {
   "cell_type": "code",
   "execution_count": 3,
   "id": "08576c9a-1cf6-44d9-865f-a301516c2281",
   "metadata": {},
   "outputs": [],
   "source": [
    "import numpy as np"
   ]
  },
  {
   "cell_type": "code",
   "execution_count": 9,
   "id": "0bc25901-570a-4f64-9768-fd47527a4e38",
   "metadata": {},
   "outputs": [
    {
     "name": "stdout",
     "output_type": "stream",
     "text": [
      "[[5.1]\n",
      " [3.5]\n",
      " [1.4]\n",
      " [0.2]]\n",
      "(4, 1)\n"
     ]
    }
   ],
   "source": [
    "# 열 벡터\n",
    "x1 = np.array([[5.1], [3.5], [1.4], [0.2]])\n",
    "print(x1)\n",
    "print(x1.shape)"
   ]
  },
  {
   "cell_type": "code",
   "execution_count": 8,
   "id": "815e6a9c-6945-4a26-a06e-ff318be2f354",
   "metadata": {},
   "outputs": [
    {
     "name": "stdout",
     "output_type": "stream",
     "text": [
      "[5.1 3.5 1.4 0.2]\n",
      "(4,)\n"
     ]
    }
   ],
   "source": [
    "# 행 벡터\n",
    "x2 = np.array([5.1, 3.5, 1.4, 0.2])\n",
    "print(x2)\n",
    "print(x2.shape)"
   ]
  },
  {
   "cell_type": "code",
   "execution_count": 12,
   "id": "2a466814-8f84-4709-9c9b-3b335e5a737a",
   "metadata": {},
   "outputs": [
    {
     "data": {
      "text/plain": [
       "array([[11, 12, 13],\n",
       "       [14, 15, 16]])"
      ]
     },
     "execution_count": 12,
     "metadata": {},
     "output_type": "execute_result"
    }
   ],
   "source": [
    "# 행렬\n",
    "A = np.array([[11,12,13],[14,15,16]])\n",
    "A"
   ]
  },
  {
   "cell_type": "code",
   "execution_count": 13,
   "id": "5be83410-b7a3-498b-9086-888fa5b3e2c2",
   "metadata": {},
   "outputs": [
    {
     "data": {
      "text/plain": [
       "(2, 3)"
      ]
     },
     "execution_count": 13,
     "metadata": {},
     "output_type": "execute_result"
    }
   ],
   "source": [
    "A.shape"
   ]
  },
  {
   "cell_type": "code",
   "execution_count": 15,
   "id": "a2c44120-ea84-45f1-a334-742779969281",
   "metadata": {},
   "outputs": [
    {
     "name": "stdout",
     "output_type": "stream",
     "text": [
      "[[11 14]\n",
      " [12 15]\n",
      " [13 16]]\n"
     ]
    }
   ],
   "source": [
    "# 전치행렬\n",
    "print(A.T)"
   ]
  },
  {
   "cell_type": "code",
   "execution_count": 16,
   "id": "96d28c78-8c36-4628-b3c4-a0c36bd18af7",
   "metadata": {},
   "outputs": [
    {
     "name": "stdout",
     "output_type": "stream",
     "text": [
      "x1=\n",
      "[[5.1 3.5 1.4 0.2]]\n",
      "(1, 4)\n"
     ]
    }
   ],
   "source": [
    "# 벡터의 전치는?\n",
    "print(\"x1=\")\n",
    "print(x1.T)\n",
    "print(x1.T.shape)"
   ]
  },
  {
   "cell_type": "markdown",
   "id": "db29adcc-d7b4-4934-a17a-1e5d038bd9c8",
   "metadata": {},
   "source": [
    "## 행렬의 역행렬"
   ]
  },
  {
   "cell_type": "code",
   "execution_count": 28,
   "id": "714a634f-8484-46fa-98d1-41747727287b",
   "metadata": {},
   "outputs": [],
   "source": [
    "A = np.array([[1, 1, 0], [0, 1, 1], [1, 1, 1]])"
   ]
  },
  {
   "cell_type": "code",
   "execution_count": 29,
   "id": "7bc4c218-1ef6-45dd-bfb6-7203f4b1276e",
   "metadata": {},
   "outputs": [
    {
     "data": {
      "text/plain": [
       "array([[ 0., -1.,  1.],\n",
       "       [ 1.,  1., -1.],\n",
       "       [-1.,  0.,  1.]])"
      ]
     },
     "execution_count": 29,
     "metadata": {},
     "output_type": "execute_result"
    }
   ],
   "source": [
    "Ainv = np.linalg.inv(A)\n",
    "Ainv"
   ]
  },
  {
   "cell_type": "markdown",
   "id": "1d92a6fd-1d1d-4e8a-ad08-f367cba081a0",
   "metadata": {},
   "source": [
    "## 행렬의 활용 (연립방정식 풀이)"
   ]
  },
  {
   "cell_type": "markdown",
   "id": "6c49dfb9-e0e6-4bcb-bb2d-13129f5e8ae0",
   "metadata": {},
   "source": [
    "$\\begin{cases} 2x + 3y = 1 \\\\ x-2y = 4 \\end{cases}$"
   ]
  },
  {
   "cell_type": "code",
   "execution_count": 17,
   "id": "8fdc0b61-673e-4c45-a835-a82a7071d0eb",
   "metadata": {},
   "outputs": [],
   "source": [
    "A = np.array([[2,3], [1,-2]])\n",
    "b = np.array([[1], [4]])"
   ]
  },
  {
   "cell_type": "code",
   "execution_count": 22,
   "id": "fe5f3a05-db73-4394-898a-2d3f80e05db6",
   "metadata": {},
   "outputs": [
    {
     "data": {
      "text/plain": [
       "((2, 2), (2, 1))"
      ]
     },
     "execution_count": 22,
     "metadata": {},
     "output_type": "execute_result"
    }
   ],
   "source": [
    "A.shape, b.shape"
   ]
  },
  {
   "cell_type": "code",
   "execution_count": 23,
   "id": "cead0da4-7e37-4121-ac45-9707e40e7824",
   "metadata": {},
   "outputs": [
    {
     "name": "stdout",
     "output_type": "stream",
     "text": [
      "[[ 2  3]\n",
      " [ 1 -2]]\n"
     ]
    }
   ],
   "source": [
    "print(A)"
   ]
  },
  {
   "cell_type": "code",
   "execution_count": 25,
   "id": "c4f9cf53-6667-4578-a7a5-a87f3a7f6353",
   "metadata": {},
   "outputs": [
    {
     "name": "stdout",
     "output_type": "stream",
     "text": [
      "[[1]\n",
      " [4]]\n"
     ]
    }
   ],
   "source": [
    "print(b)"
   ]
  },
  {
   "cell_type": "code",
   "execution_count": 27,
   "id": "11c1f7db-0b2e-42a7-be35-7a7d27ab0933",
   "metadata": {},
   "outputs": [
    {
     "data": {
      "text/plain": [
       "array([[ 2.],\n",
       "       [-1.]])"
      ]
     },
     "execution_count": 27,
     "metadata": {},
     "output_type": "execute_result"
    }
   ],
   "source": [
    "x = np.linalg.inv(A) @ b\n",
    "x"
   ]
  },
  {
   "cell_type": "markdown",
   "id": "8a0c2d0c-7316-4b44-9625-edfe7358ba55",
   "metadata": {},
   "source": [
    "FHD: 3 x 1080 x 1920"
   ]
  }
 ],
 "metadata": {
  "kernelspec": {
   "display_name": "Python 3",
   "language": "python",
   "name": "python3"
  },
  "language_info": {
   "codemirror_mode": {
    "name": "ipython",
    "version": 3
   },
   "file_extension": ".py",
   "mimetype": "text/x-python",
   "name": "python",
   "nbconvert_exporter": "python",
   "pygments_lexer": "ipython3",
   "version": "3.8.16"
  }
 },
 "nbformat": 4,
 "nbformat_minor": 5
}
