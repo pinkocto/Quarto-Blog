{
 "cells": [
  {
   "cell_type": "raw",
   "id": "c5ff6d9e-c805-4745-9607-3853127cc005",
   "metadata": {},
   "source": [
    "---\n",
    "title: 'class 4단계'\n",
    "author: '임지윤'\n",
    "date: '02/15/2023'\n",
    "categories:\n",
    "  - class\n",
    "---"
   ]
  },
  {
   "cell_type": "markdown",
   "id": "158a288a-b39a-4200-a7f8-abd14079248d",
   "metadata": {},
   "source": [
    "# 클래스 공부 4단계\n",
    "> 이 단계에서는 클래스 오브젝트에 소속된 변수와 인스턴스 오브젝트에 소속된 변수를 설명한다."
   ]
  },
  {
   "cell_type": "markdown",
   "id": "c08ee073-d463-4bd8-9fd5-5127a98f944f",
   "metadata": {},
   "source": [
    "## Contents\n",
    "> 1. motivating example\n",
    "> 2. `__str__`, 파이썬의 비밀2\n",
    "> 3. `__repr__`, 파이썬의 비밀3\n",
    "> 4. 주피터 노트북의 비밀 (`_repr_html_`), `__repr__`와 `__str__`의 우선적용 순위"
   ]
  },
  {
   "cell_type": "markdown",
   "id": "f8c00d9f-6522-49ba-ac9c-1b26c28011e4",
   "metadata": {},
   "source": [
    "## imports"
   ]
  },
  {
   "cell_type": "code",
   "execution_count": 1,
   "id": "5f09a394-996e-490d-b6fb-f5a2ff5c1c9d",
   "metadata": {},
   "outputs": [],
   "source": [
    "import numpy as np"
   ]
  },
  {
   "cell_type": "markdown",
   "id": "178a41c0-eda7-4ba0-aa83-f2b5eed0fe0e",
   "metadata": {},
   "source": [
    "## Motivating Example"
   ]
  },
  {
   "cell_type": "markdown",
   "id": "94808509-f194-423d-847e-e9da034c7a77",
   "metadata": {},
   "source": [
    "### `-` 가위바위보"
   ]
  },
  {
   "cell_type": "code",
   "execution_count": 2,
   "id": "c21fd624-3ee5-493d-a0bf-34aecef78097",
   "metadata": {},
   "outputs": [],
   "source": [
    "class RPS:\n",
    "    def __init__(self, candidate = ['가위', '바위', '보']):\n",
    "        self.candidate = candidate\n",
    "    def throw(self):\n",
    "        print(np.random.choice(self.candidate))"
   ]
  },
  {
   "cell_type": "code",
   "execution_count": 3,
   "id": "a75bcffd-a674-457f-a900-db2505461173",
   "metadata": {},
   "outputs": [],
   "source": [
    "a = RPS() # __init__ 는 암묵적으로 실행"
   ]
  },
  {
   "cell_type": "code",
   "execution_count": 5,
   "id": "c804c872-5886-4d9d-b173-f7d306a01d54",
   "metadata": {},
   "outputs": [
    {
     "name": "stdout",
     "output_type": "stream",
     "text": [
      "보\n"
     ]
    }
   ],
   "source": [
    "a.throw()"
   ]
  },
  {
   "cell_type": "markdown",
   "id": "e6c12d33-f750-4c20-ae23-79a8ccde51a8",
   "metadata": {},
   "source": [
    "생각해보니까 throw는 choose + show의 결합인 것 같다."
   ]
  },
  {
   "cell_type": "code",
   "execution_count": 6,
   "id": "491ec3fb-7c89-44c5-80a8-f72ecbfdc40b",
   "metadata": {},
   "outputs": [],
   "source": [
    "class RPS: ## 시점1\n",
    "    def __init__(self, candidate = ['가위', '바위', '보']):\n",
    "        self.candidate = candidate\n",
    "    def choose(self):\n",
    "        self.actions = np.random.choice(self.candidate)\n",
    "    def show(self):\n",
    "        print(self.actions)"
   ]
  },
  {
   "cell_type": "code",
   "execution_count": 9,
   "id": "71c348cf-1e97-4336-a0f3-7717cffcdf8b",
   "metadata": {},
   "outputs": [],
   "source": [
    "a = RPS()  ## 시점2"
   ]
  },
  {
   "cell_type": "code",
   "execution_count": 10,
   "id": "d995a559-b8a3-4aa6-9e25-3eaa848e73a3",
   "metadata": {},
   "outputs": [
    {
     "ename": "AttributeError",
     "evalue": "'RPS' object has no attribute 'actions'",
     "output_type": "error",
     "traceback": [
      "\u001b[0;31m---------------------------------------------------------------------------\u001b[0m",
      "\u001b[0;31mAttributeError\u001b[0m                            Traceback (most recent call last)",
      "Cell \u001b[0;32mIn[10], line 1\u001b[0m\n\u001b[0;32m----> 1\u001b[0m \u001b[43ma\u001b[49m\u001b[38;5;241;43m.\u001b[39;49m\u001b[43mactions\u001b[49m \u001b[38;5;66;03m## 시점3\u001b[39;00m\n",
      "\u001b[0;31mAttributeError\u001b[0m: 'RPS' object has no attribute 'actions'"
     ]
    }
   ],
   "source": [
    "a.actions ## 시점3"
   ]
  },
  {
   "cell_type": "markdown",
   "id": "8b393521-65e8-4879-87d6-65880b8ecfe8",
   "metadata": {},
   "source": [
    "### 예제1"
   ]
  },
  {
   "cell_type": "code",
   "execution_count": null,
   "id": "ca6a5ede-4b79-4753-b8f6-12cb57f3050b",
   "metadata": {},
   "outputs": [],
   "source": []
  },
  {
   "cell_type": "code",
   "execution_count": null,
   "id": "5dadfaf2-2b60-47ee-adfb-b2f8b9e2a91e",
   "metadata": {},
   "outputs": [],
   "source": []
  }
 ],
 "metadata": {
  "kernelspec": {
   "display_name": "Python 3",
   "language": "python",
   "name": "python3"
  },
  "language_info": {
   "codemirror_mode": {
    "name": "ipython",
    "version": 3
   },
   "file_extension": ".py",
   "mimetype": "text/x-python",
   "name": "python",
   "nbconvert_exporter": "python",
   "pygments_lexer": "ipython3",
   "version": "3.8.16"
  }
 },
 "nbformat": 4,
 "nbformat_minor": 5
}
