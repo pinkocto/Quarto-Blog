{
 "cells": [
  {
   "cell_type": "raw",
   "id": "c5ff6d9e-c805-4745-9607-3853127cc005",
   "metadata": {},
   "source": [
    "---\n",
    "title: 'class 3단계'\n",
    "author: '임지윤'\n",
    "date: '02/15/2023'\n",
    "categories:\n",
    "  - class\n",
    "---"
   ]
  },
  {
   "cell_type": "markdown",
   "id": "158a288a-b39a-4200-a7f8-abd14079248d",
   "metadata": {},
   "source": [
    "# 클래스 공부 3단계\n",
    "> 이 단계에서는 클래스오브젝트에 소속된 변수와 인스턴스오브젝트에 소속된 변수를 설명한다."
   ]
  },
  {
   "cell_type": "markdown",
   "id": "f8c00d9f-6522-49ba-ac9c-1b26c28011e4",
   "metadata": {},
   "source": [
    "## 오브젝트의 개념\n",
    "\n",
    "`-` 파이썬은 모든 것이 오브젝트로 이루어져 있따. $\\leftarrow$ 우선 그냥 외우기!\n",
    "\n",
    "`-` 오브젝트는 메모리 주소에 저장되는 모든 것을 의미한다."
   ]
  },
  {
   "cell_type": "code",
   "execution_count": 1,
   "id": "5f09a394-996e-490d-b6fb-f5a2ff5c1c9d",
   "metadata": {},
   "outputs": [
    {
     "data": {
      "text/plain": [
       "7618240"
      ]
     },
     "execution_count": 1,
     "metadata": {},
     "output_type": "execute_result"
    }
   ],
   "source": [
    "a = 1\n",
    "id(a) # 메모리주소를 보는 명령어"
   ]
  },
  {
   "cell_type": "code",
   "execution_count": 2,
   "id": "9e95bc6a-082d-4da3-8a77-81dea792d237",
   "metadata": {},
   "outputs": [
    {
     "data": {
      "text/plain": [
       "140366991918512"
      ]
     },
     "execution_count": 2,
     "metadata": {},
     "output_type": "execute_result"
    }
   ],
   "source": [
    "a = 'asdf'\n",
    "id(a)"
   ]
  },
  {
   "cell_type": "code",
   "execution_count": 3,
   "id": "28ab379e-cb55-4347-b3c7-47b795a35898",
   "metadata": {},
   "outputs": [
    {
     "data": {
      "text/plain": [
       "140366923845376"
      ]
     },
     "execution_count": 3,
     "metadata": {},
     "output_type": "execute_result"
    }
   ],
   "source": [
    "a = [1,2,3]\n",
    "id(a)"
   ]
  },
  {
   "cell_type": "markdown",
   "id": "ea4122ab-4214-406c-8f69-56b1b2b815f1",
   "metadata": {},
   "source": [
    "`-` 클래스와 인스턴스도 오브젝트다."
   ]
  },
  {
   "cell_type": "code",
   "execution_count": 4,
   "id": "c21fd624-3ee5-493d-a0bf-34aecef78097",
   "metadata": {},
   "outputs": [],
   "source": [
    "class A:\n",
    "    x = 0\n",
    "    def f(self):\n",
    "        print(self.x)"
   ]
  },
  {
   "cell_type": "code",
   "execution_count": 5,
   "id": "a75bcffd-a674-457f-a900-db2505461173",
   "metadata": {},
   "outputs": [
    {
     "data": {
      "text/plain": [
       "39987760"
      ]
     },
     "execution_count": 5,
     "metadata": {},
     "output_type": "execute_result"
    }
   ],
   "source": [
    "id(A)"
   ]
  },
  {
   "cell_type": "markdown",
   "id": "442e815a-a59e-45c5-8baf-ec8ce0b040e0",
   "metadata": {},
   "source": [
    "- A는 오브젝트"
   ]
  },
  {
   "cell_type": "code",
   "execution_count": 6,
   "id": "2b655653-7a14-4603-bbe9-3f97fa596a5c",
   "metadata": {},
   "outputs": [],
   "source": [
    "b = A()"
   ]
  },
  {
   "cell_type": "code",
   "execution_count": 7,
   "id": "491ec3fb-7c89-44c5-80a8-f72ecbfdc40b",
   "metadata": {},
   "outputs": [
    {
     "data": {
      "text/plain": [
       "140366932540960"
      ]
     },
     "execution_count": 7,
     "metadata": {},
     "output_type": "execute_result"
    }
   ],
   "source": [
    "id(b)"
   ]
  },
  {
   "cell_type": "markdown",
   "id": "0a890e66-9fad-41c0-8a70-ddba7bd9a11e",
   "metadata": {},
   "source": [
    "- b는 오브젝트"
   ]
  },
  {
   "cell_type": "markdown",
   "id": "e8268172-d957-4eb0-bc05-9ae64056a4b8",
   "metadata": {},
   "source": [
    "`-` 앞으로는 A를 클래스 오브젝트, a,b를 인스턴스 오브젝트라고 부르자."
   ]
  },
  {
   "cell_type": "markdown",
   "id": "c7b0314f-921b-484d-894f-456477716b25",
   "metadata": {},
   "source": [
    "### 예제1: 클래스변수, 인스턴스변수"
   ]
  },
  {
   "cell_type": "markdown",
   "id": "1716aa3d-90a4-4189-bfd2-2c59d6975542",
   "metadata": {},
   "source": [
    "`-` 시점0"
   ]
  },
  {
   "cell_type": "code",
   "execution_count": 12,
   "id": "a4641811-df7a-4ceb-b946-08b97d7e410f",
   "metadata": {},
   "outputs": [],
   "source": [
    "# 클래스 선언 시점\n",
    "class A:\n",
    "    x = 0\n",
    "    y = 0\n",
    "    def f(self):\n",
    "        self.x = self.x + 1\n",
    "        A.y = A.y + 1\n",
    "        print('현재 인스턴스에서 f가 {}번 실행'.format(self.x))\n",
    "        print('A클래스에서 만들어진 모든 인스턴스들에서 f가 {}번 실행'.format(self.y))"
   ]
  },
  {
   "cell_type": "code",
   "execution_count": 13,
   "id": "9af92847-9661-499f-9151-3aeba7660d91",
   "metadata": {},
   "outputs": [
    {
     "data": {
      "text/plain": [
       "53014736"
      ]
     },
     "execution_count": 13,
     "metadata": {},
     "output_type": "execute_result"
    }
   ],
   "source": [
    "id(A) # A라는게 메모리 어딘가에 저장되어 있음."
   ]
  },
  {
   "cell_type": "code",
   "execution_count": 14,
   "id": "c0994666-1986-461d-a2d0-bc71a0f0d549",
   "metadata": {},
   "outputs": [
    {
     "data": {
      "text/plain": [
       "(0, 0)"
      ]
     },
     "execution_count": 14,
     "metadata": {},
     "output_type": "execute_result"
    }
   ],
   "source": [
    "A.x, A.y"
   ]
  },
  {
   "cell_type": "markdown",
   "id": "3aa0798a-08f7-4812-8c99-aecf2612f86b",
   "metadata": {},
   "source": [
    "`-` 시점1"
   ]
  },
  {
   "cell_type": "code",
   "execution_count": 15,
   "id": "361cad43-3c32-40eb-9adb-6704244854bf",
   "metadata": {},
   "outputs": [],
   "source": [
    "# a라는 인스턴스\n",
    "a = A()"
   ]
  },
  {
   "cell_type": "code",
   "execution_count": 16,
   "id": "b83d8ee8-4e10-4954-9087-ba75bd45f4f9",
   "metadata": {},
   "outputs": [],
   "source": [
    "# b라는 인스턴스\n",
    "b = A()"
   ]
  },
  {
   "cell_type": "code",
   "execution_count": 17,
   "id": "fd7f0e80-dbf5-4a00-815d-f093fcaa990d",
   "metadata": {},
   "outputs": [
    {
     "data": {
      "text/plain": [
       "([0, 0], [0, 0], [0, 0])"
      ]
     },
     "execution_count": 17,
     "metadata": {},
     "output_type": "execute_result"
    }
   ],
   "source": [
    "[A.x, A.y], [a.x, a.y], [b.x, b.y]"
   ]
  },
  {
   "cell_type": "markdown",
   "id": "86393aa1-2fff-43f3-b6c7-b28a6539eadf",
   "metadata": {},
   "source": [
    "`-` 시점2"
   ]
  },
  {
   "cell_type": "code",
   "execution_count": 18,
   "id": "e9795df4-d781-4c39-853a-ec3c9b0cb663",
   "metadata": {},
   "outputs": [
    {
     "name": "stdout",
     "output_type": "stream",
     "text": [
      "현재 인스턴스에서 f가 1번 실행\n",
      "A클래스에서 만들어진 모든 인스턴스들에서 f가 1번 실행\n"
     ]
    }
   ],
   "source": [
    "a.f() # a에서 f라는 메소드 사용"
   ]
  },
  {
   "cell_type": "code",
   "execution_count": 19,
   "id": "ebbe8116-28a8-4288-b837-ac53db05e7a1",
   "metadata": {},
   "outputs": [
    {
     "data": {
      "text/plain": [
       "([0, 1], [1, 1], [0, 1])"
      ]
     },
     "execution_count": 19,
     "metadata": {},
     "output_type": "execute_result"
    }
   ],
   "source": [
    "[A.x, A.y], [a.x, a.y], [b.x, b.y]"
   ]
  },
  {
   "cell_type": "markdown",
   "id": "0aac19e1-70c3-4751-9380-76fad780828d",
   "metadata": {},
   "source": [
    "- 여기서 현재 인스턴스라 함은 **a**를 의미한다.\n",
    "    - `[1,1]` 에서 첫번째 1은 현재 인스턴스(**a**)에서 f가 1번 실행되었다는 것을 의미하고\n",
    "    - `[1,1]` 에서 두번째 1은 A클래스에서 만들어진 모든 인스턴스들에서 f가 1번 실행되었음을 의미한다."
   ]
  },
  {
   "cell_type": "markdown",
   "id": "b2470139-eaa8-40aa-a28c-0fdc0eb9398e",
   "metadata": {},
   "source": [
    "`-` 시점3"
   ]
  },
  {
   "cell_type": "code",
   "execution_count": 20,
   "id": "5c741a5e-1339-41a7-8c64-0ef1eb4774f3",
   "metadata": {},
   "outputs": [
    {
     "name": "stdout",
     "output_type": "stream",
     "text": [
      "현재 인스턴스에서 f가 1번 실행\n",
      "A클래스에서 만들어진 모든 인스턴스들에서 f가 2번 실행\n"
     ]
    }
   ],
   "source": [
    "b.f()"
   ]
  },
  {
   "cell_type": "code",
   "execution_count": 11,
   "id": "79624997-78d0-473c-8896-09e246fa1477",
   "metadata": {},
   "outputs": [
    {
     "data": {
      "text/plain": [
       "([0, 2], [1, 2], [1, 2])"
      ]
     },
     "execution_count": 11,
     "metadata": {},
     "output_type": "execute_result"
    }
   ],
   "source": [
    "[A.x, A.y], [a.x, a.y], [b.x, b.y]"
   ]
  },
  {
   "cell_type": "markdown",
   "id": "686f58d1-89c7-4307-b55d-d324eb8bf884",
   "metadata": {},
   "source": [
    "- 여기서 현재 인스턴스라 함은 **b**를 의미한다.\n",
    "    - `[1,2]` 에서 첫번째 1은 현재 인스턴스(**b**)에서 f가 1번 실행되었다는 것을 의미하고\n",
    "    - `[1,2]` 에서 두번째 2는 A클래스에서 만들어진 모든 인스턴스들에서 f가 2번 실행되었음을 의미한다 (왜냐면, 위에서 이미 한번 실행을 했기 때문)"
   ]
  },
  {
   "cell_type": "markdown",
   "id": "8a9ef8e7-96f3-4218-8eaa-73083d309859",
   "metadata": {},
   "source": [
    "`-` 시점4"
   ]
  },
  {
   "cell_type": "code",
   "execution_count": 21,
   "id": "237f062b-c9b4-4401-87e5-4772c824f018",
   "metadata": {},
   "outputs": [
    {
     "name": "stdout",
     "output_type": "stream",
     "text": [
      "현재 인스턴스에서 f가 2번 실행\n",
      "A클래스에서 만들어진 모든 인스턴스들에서 f가 3번 실행\n"
     ]
    }
   ],
   "source": [
    "b.f()"
   ]
  },
  {
   "cell_type": "code",
   "execution_count": 22,
   "id": "3b47cde0-8ba7-4484-a975-cb06686b7916",
   "metadata": {},
   "outputs": [
    {
     "data": {
      "text/plain": [
       "([0, 3], [1, 3], [2, 3])"
      ]
     },
     "execution_count": 22,
     "metadata": {},
     "output_type": "execute_result"
    }
   ],
   "source": [
    "[A.x, A.y], [a.x, a.y], [b.x, b.y]"
   ]
  },
  {
   "cell_type": "markdown",
   "id": "10515f4c-2212-45a5-b753-092a6fbf33c7",
   "metadata": {},
   "source": [
    "`-` 시점5"
   ]
  },
  {
   "cell_type": "code",
   "execution_count": 23,
   "id": "a181b842-6625-4e7f-9615-096b63d0087c",
   "metadata": {},
   "outputs": [
    {
     "name": "stdout",
     "output_type": "stream",
     "text": [
      "현재 인스턴스에서 f가 2번 실행\n",
      "A클래스에서 만들어진 모든 인스턴스들에서 f가 4번 실행\n"
     ]
    }
   ],
   "source": [
    "a.f()"
   ]
  },
  {
   "cell_type": "code",
   "execution_count": 24,
   "id": "22547aef-f0a3-4842-ac28-7cf695c1b09b",
   "metadata": {},
   "outputs": [
    {
     "data": {
      "text/plain": [
       "([0, 4], [2, 4], [2, 4])"
      ]
     },
     "execution_count": 24,
     "metadata": {},
     "output_type": "execute_result"
    }
   ],
   "source": [
    "[A.x, A.y], [a.x, a.y], [b.x, b.y]"
   ]
  },
  {
   "cell_type": "markdown",
   "id": "1abad25a-b5b8-49d9-ad51-cbecdf606bc9",
   "metadata": {},
   "source": [
    "`-` 시점6"
   ]
  },
  {
   "cell_type": "code",
   "execution_count": 25,
   "id": "67f98959-d0f2-4aba-8fbe-8cc6185d5fbf",
   "metadata": {},
   "outputs": [],
   "source": [
    "# c라는 인스턴스를 만들어보자.\n",
    "c = A()"
   ]
  },
  {
   "cell_type": "code",
   "execution_count": 27,
   "id": "b3fa1c48-91cb-4b22-8456-0305d29340ae",
   "metadata": {},
   "outputs": [
    {
     "data": {
      "text/plain": [
       "([0, 4], [2, 4], [2, 4], [0, 4])"
      ]
     },
     "execution_count": 27,
     "metadata": {},
     "output_type": "execute_result"
    }
   ],
   "source": [
    "[A.x, A.y], [a.x, a.y], [b.x, b.y], [c.x, c.y]"
   ]
  },
  {
   "cell_type": "markdown",
   "id": "1876e758-208e-4a2d-b823-ecd9ee6f0c22",
   "metadata": {},
   "source": [
    "`-` 시점7"
   ]
  },
  {
   "cell_type": "code",
   "execution_count": 28,
   "id": "83bfa3a1-5f05-4bab-be1b-c90f73d8523c",
   "metadata": {},
   "outputs": [
    {
     "name": "stdout",
     "output_type": "stream",
     "text": [
      "현재 인스턴스에서 f가 1번 실행\n",
      "A클래스에서 만들어진 모든 인스턴스들에서 f가 5번 실행\n"
     ]
    }
   ],
   "source": [
    "c.f()"
   ]
  },
  {
   "cell_type": "code",
   "execution_count": 30,
   "id": "bc3a1bad-b2be-4f90-b096-68fd98c16b21",
   "metadata": {},
   "outputs": [
    {
     "data": {
      "text/plain": [
       "([0, 5], [2, 5], [2, 5], [1, 5])"
      ]
     },
     "execution_count": 30,
     "metadata": {},
     "output_type": "execute_result"
    }
   ],
   "source": [
    "[A.x, A.y], [a.x, a.y], [b.x, b.y], [c.x, c.y]"
   ]
  },
  {
   "cell_type": "markdown",
   "id": "0f7718bb-0bbd-48d1-9482-fe12dbc2832c",
   "metadata": {},
   "source": [
    "`-` 신기한 점: 각 인스턴스에서 `인스턴스이름.f()`를 실행한 횟수를 서로 공유하는 듯 하다. (마치 A가 관리하는 것 처럼 느껴진다.)"
   ]
  }
 ],
 "metadata": {
  "kernelspec": {
   "display_name": "Python 3",
   "language": "python",
   "name": "python3"
  },
  "language_info": {
   "codemirror_mode": {
    "name": "ipython",
    "version": 3
   },
   "file_extension": ".py",
   "mimetype": "text/x-python",
   "name": "python",
   "nbconvert_exporter": "python",
   "pygments_lexer": "ipython3",
   "version": "3.8.16"
  }
 },
 "nbformat": 4,
 "nbformat_minor": 5
}
