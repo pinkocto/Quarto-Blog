{
 "cells": [
  {
   "cell_type": "raw",
   "id": "d600d3fc-e252-4846-8661-4b52d029f59b",
   "metadata": {},
   "source": [
    "---\n",
    "title: \"Pandas 0단계\"\n",
    "author: \"jiyun Lim\"\n",
    "date: \"03/13/2023\"\n",
    "categories:\n",
    "  - Python\n",
    "  - Pandas\n",
    "---"
   ]
  },
  {
   "cell_type": "markdown",
   "id": "3b6af0de-131e-44b1-b13b-c471377be914",
   "metadata": {},
   "source": [
    "# [(10주차) 5월 6일](https://guebin.github.io/IP2022/2022/05/04/(10%EC%A3%BC%EC%B0%A8)-5%EC%9B%946%EC%9D%BC.html)"
   ]
  },
  {
   "cell_type": "markdown",
   "id": "cbccf0cd-db21-4591-ace4-b3806d4cf6da",
   "metadata": {},
   "source": [
    "판다스를 왜 써야할까?, pandas 개발동기"
   ]
  },
  {
   "cell_type": "markdown",
   "id": "2b7fd21d-c253-4686-b4ae-e227345612fb",
   "metadata": {},
   "source": [
    "## import"
   ]
  },
  {
   "cell_type": "code",
   "execution_count": 1,
   "id": "7e7e2f25-7514-424e-9687-4146bfce64fd",
   "metadata": {},
   "outputs": [],
   "source": [
    "import numpy as np\n",
    "import pandas as pd"
   ]
  },
  {
   "cell_type": "markdown",
   "id": "ca3c2c9a-0e8c-4d72-bb2f-14783b692ada",
   "metadata": {},
   "source": [
    "## 부분 데이터 꺼내기: 판다스를 왜 써야할까?"
   ]
  },
  {
   "cell_type": "markdown",
   "id": "b99d551d-cddc-4bf9-bb2d-763d1c9efb3c",
   "metadata": {},
   "source": [
    "### 기본 인덱싱"
   ]
  },
  {
   "cell_type": "markdown",
   "id": "b5fecb95-076f-4e13-93be-a1f7d9193857",
   "metadata": {},
   "source": [
    "`-` 예제1: 기본인덱싱"
   ]
  },
  {
   "cell_type": "code",
   "execution_count": 2,
   "id": "0dc96b11-465e-468d-8ca0-d116da09a535",
   "metadata": {},
   "outputs": [
    {
     "data": {
      "text/plain": [
       "'d'"
      ]
     },
     "execution_count": 2,
     "metadata": {},
     "output_type": "execute_result"
    }
   ],
   "source": [
    "a = 'asdf'\n",
    "a[2]"
   ]
  },
  {
   "cell_type": "code",
   "execution_count": 3,
   "id": "90a6465f-511c-4563-8ba1-447a1290c911",
   "metadata": {},
   "outputs": [
    {
     "data": {
      "text/plain": [
       "'f'"
      ]
     },
     "execution_count": 3,
     "metadata": {},
     "output_type": "execute_result"
    }
   ],
   "source": [
    "a[-1]"
   ]
  },
  {
   "cell_type": "markdown",
   "id": "88e1b98d-28a4-4ad8-8e9d-8603d1c010ef",
   "metadata": {},
   "source": [
    "`-` 예제2: 슬라이싱"
   ]
  },
  {
   "cell_type": "code",
   "execution_count": 4,
   "id": "4a4b8390-b120-48e1-a51b-56f321448864",
   "metadata": {},
   "outputs": [
    {
     "data": {
      "text/plain": [
       "'sd'"
      ]
     },
     "execution_count": 4,
     "metadata": {},
     "output_type": "execute_result"
    }
   ],
   "source": [
    "a='asdf'\n",
    "a[1:3]"
   ]
  },
  {
   "cell_type": "markdown",
   "id": "db9840bb-9a3d-4b54-bfb2-df0d81cb71fc",
   "metadata": {},
   "source": [
    "`-` 예제3: 스트라이딩"
   ]
  },
  {
   "cell_type": "code",
   "execution_count": 6,
   "id": "437c8ca2-955f-4fc5-9bc5-b3b018c8c138",
   "metadata": {},
   "outputs": [
    {
     "data": {
      "text/plain": [
       "'ad'"
      ]
     },
     "execution_count": 6,
     "metadata": {},
     "output_type": "execute_result"
    }
   ],
   "source": [
    "a='asdf'\n",
    "a[::2] # 1번째, 3번째 원소 출력"
   ]
  },
  {
   "cell_type": "markdown",
   "id": "5b3dd32a-5f2c-4519-9752-67d3a2cd9714",
   "metadata": {},
   "source": [
    "`-` 예제4: 불가능한 것"
   ]
  },
  {
   "cell_type": "code",
   "execution_count": 8,
   "id": "6f893dfa-746a-47ad-82ed-12614d63d944",
   "metadata": {},
   "outputs": [
    {
     "ename": "TypeError",
     "evalue": "string indices must be integers",
     "output_type": "error",
     "traceback": [
      "\u001b[0;31m---------------------------------------------------------------------------\u001b[0m",
      "\u001b[0;31mTypeError\u001b[0m                                 Traceback (most recent call last)",
      "Cell \u001b[0;32mIn[8], line 2\u001b[0m\n\u001b[1;32m      1\u001b[0m a \u001b[38;5;241m=\u001b[39m \u001b[38;5;124m'\u001b[39m\u001b[38;5;124masdf\u001b[39m\u001b[38;5;124m'\u001b[39m\n\u001b[0;32m----> 2\u001b[0m \u001b[43ma\u001b[49m\u001b[43m[\u001b[49m\u001b[43m[\u001b[49m\u001b[38;5;241;43m1\u001b[39;49m\u001b[43m,\u001b[49m\u001b[38;5;241;43m2\u001b[39;49m\u001b[43m]\u001b[49m\u001b[43m]\u001b[49m \u001b[38;5;66;03m# 정수인덱스를 리스트화 시켜서 인덱싱하는 것을 불가능\u001b[39;00m\n",
      "\u001b[0;31mTypeError\u001b[0m: string indices must be integers"
     ]
    }
   ],
   "source": [
    "a = 'asdf'\n",
    "a[[1,2]] # 정수인덱스를 리스트화 시켜서 인덱싱하는 것을 불가능"
   ]
  },
  {
   "cell_type": "markdown",
   "id": "b23e682c-52f0-44ba-abe4-af832a62dfba",
   "metadata": {},
   "source": [
    "### 팬시인덱싱"
   ]
  },
  {
   "cell_type": "markdown",
   "id": "955a327d-aa19-4e15-8255-7536e26c8e3b",
   "metadata": {},
   "source": [
    "`-` 예제1: 인덱스의 리스트 (혹은 ndarray)를 전달"
   ]
  },
  {
   "cell_type": "code",
   "execution_count": 11,
   "id": "5c2d0830-678d-4a3f-bd4d-0c8611175e83",
   "metadata": {},
   "outputs": [
    {
     "data": {
      "text/plain": [
       "(array([0, 1, 2, 3, 4]), array([1, 2, 4]))"
      ]
     },
     "execution_count": 11,
     "metadata": {},
     "output_type": "execute_result"
    }
   ],
   "source": [
    "a = np.arange(5)\n",
    "a,a[[1,2,-1]]"
   ]
  },
  {
   "cell_type": "code",
   "execution_count": 13,
   "id": "d22d3540-fd3a-4215-9995-a8cdd752e2ed",
   "metadata": {},
   "outputs": [
    {
     "data": {
      "text/plain": [
       "(array([55, 56, 57, 58, 59, 60]), array([56, 57, 60]))"
      ]
     },
     "execution_count": 13,
     "metadata": {},
     "output_type": "execute_result"
    }
   ],
   "source": [
    "a = np.arange(55,61)\n",
    "a, a[[1,2,-1]]"
   ]
  },
  {
   "cell_type": "markdown",
   "id": "dc8f2be6-5931-44d4-b329-1ca4887192f6",
   "metadata": {},
   "source": [
    "`-` 예제2: bool로 이루어진 리스트 (혹은 ndarray)를 전달"
   ]
  },
  {
   "cell_type": "code",
   "execution_count": 15,
   "id": "06e8f2df-22e2-493c-981a-7ea026b132c3",
   "metadata": {},
   "outputs": [
    {
     "data": {
      "text/plain": [
       "array([55, 56])"
      ]
     },
     "execution_count": 15,
     "metadata": {},
     "output_type": "execute_result"
    }
   ],
   "source": [
    "a[[True, True, False, False, False, False]]"
   ]
  },
  {
   "cell_type": "code",
   "execution_count": 17,
   "id": "b0743573-a089-4bef-b08c-f8abb0a6ecc3",
   "metadata": {},
   "outputs": [
    {
     "data": {
      "text/plain": [
       "array([55, 56])"
      ]
     },
     "execution_count": 17,
     "metadata": {},
     "output_type": "execute_result"
    }
   ],
   "source": [
    "a[np.array([True, True, False, False, False, False])] # 꼭 리스트로 전달할 필요는 없음."
   ]
  },
  {
   "cell_type": "code",
   "execution_count": 18,
   "id": "0c11d5fe-4267-401c-821b-f2624c12339b",
   "metadata": {},
   "outputs": [
    {
     "data": {
      "text/plain": [
       "array([55, 56, 57])"
      ]
     },
     "execution_count": 18,
     "metadata": {},
     "output_type": "execute_result"
    }
   ],
   "source": [
    "a[a<58]"
   ]
  },
  {
   "cell_type": "markdown",
   "id": "4fb7c9bf-995e-4616-afc8-9554b0625ebd",
   "metadata": {},
   "source": [
    "### 2차원자료형의 인덱싱"
   ]
  },
  {
   "cell_type": "markdown",
   "id": "cd611962-4e67-4474-b06d-14b54a6461fe",
   "metadata": {},
   "source": [
    "`-` 예제1"
   ]
  },
  {
   "cell_type": "code",
   "execution_count": 19,
   "id": "9170e72b-4aef-400d-a531-b24e6be28926",
   "metadata": {},
   "outputs": [
    {
     "data": {
      "text/plain": [
       "array([[ 0,  1,  2],\n",
       "       [ 3,  4,  5],\n",
       "       [ 6,  7,  8],\n",
       "       [ 9, 10, 11]])"
      ]
     },
     "execution_count": 19,
     "metadata": {},
     "output_type": "execute_result"
    }
   ],
   "source": [
    "a = np.arange(4*3).reshape(4,3)\n",
    "a"
   ]
  },
  {
   "cell_type": "code",
   "execution_count": 20,
   "id": "55c52937-3726-407d-8be1-3c5d9ae2d4f7",
   "metadata": {},
   "outputs": [
    {
     "data": {
      "text/plain": [
       "array([1, 4])"
      ]
     },
     "execution_count": 20,
     "metadata": {},
     "output_type": "execute_result"
    }
   ],
   "source": [
    "a[0:2,1]"
   ]
  },
  {
   "cell_type": "markdown",
   "id": "9a67e783-cefc-4690-8be8-cb9f402e7625",
   "metadata": {},
   "source": [
    "`-` 예제2: 차원을 유지하면서 인덱싱을 하고 싶으면?"
   ]
  },
  {
   "cell_type": "code",
   "execution_count": 22,
   "id": "5c1eb734-609c-4a7f-895e-47b8c8cee78d",
   "metadata": {},
   "outputs": [
    {
     "data": {
      "text/plain": [
       "array([[1],\n",
       "       [4]])"
      ]
     },
     "execution_count": 22,
     "metadata": {},
     "output_type": "execute_result"
    }
   ],
   "source": [
    "a = np.arange(4*3).reshape(4,3)\n",
    "a[0:2, [1]]"
   ]
  },
  {
   "cell_type": "markdown",
   "id": "03dd357c-558f-44fd-9c3a-dd6851ce6007",
   "metadata": {},
   "source": [
    "### Hash"
   ]
  },
  {
   "cell_type": "markdown",
   "id": "294ee17f-5ac6-40b2-a529-1af7a0f2a0f9",
   "metadata": {},
   "source": [
    "`-` 예제1: (key, value)o"
   ]
  },
  {
   "cell_type": "code",
   "execution_count": 23,
   "id": "764be91f-8b50-459f-aac5-b54126e2f6d1",
   "metadata": {},
   "outputs": [
    {
     "data": {
      "text/plain": [
       "{'att': 65, 'rep': 45, 'mid': 30, 'fin': 100}"
      ]
     },
     "execution_count": 23,
     "metadata": {},
     "output_type": "execute_result"
    }
   ],
   "source": [
    "d = {'att':65, 'rep':45, 'mid':30, 'fin':100}\n",
    "d"
   ]
  },
  {
   "cell_type": "code",
   "execution_count": 25,
   "id": "a7de994a-30ab-415e-8ed6-e2bbe459a7fa",
   "metadata": {},
   "outputs": [
    {
     "data": {
      "text/plain": [
       "65"
      ]
     },
     "execution_count": 25,
     "metadata": {},
     "output_type": "execute_result"
    }
   ],
   "source": [
    "d['att'] # key를 넣으면 value가 리턴"
   ]
  },
  {
   "cell_type": "markdown",
   "id": "b4113747-c9b7-4cf8-ace6-77f3ebc12f15",
   "metadata": {},
   "source": [
    "`-` 예제2: numpy와 비교"
   ]
  },
  {
   "cell_type": "code",
   "execution_count": 26,
   "id": "9b81a5d2-167a-4f58-95a2-374fd1cdd641",
   "metadata": {},
   "outputs": [],
   "source": [
    "np.random.seed(43052)\n",
    "att = np.random.choice(np.arange(10,21)*5,200)\n",
    "rep = np.random.choice(np.arange(5,21)*5,200)\n",
    "mid = np.random.choice(np.arange(0,21)*5,200)\n",
    "fin = np.random.choice(np.arange(0,21)*5,200)\n",
    "key = ['202212'+str(s) for s in np.random.choice(np.arange(300,501),200,replace=False)]\n",
    "test_dic = {key[i] : {'att':att[i], 'rep':rep[i], 'mid':mid[i], 'fin':fin[i]} for i in range(200)}\n",
    "test_ndarray = np.array([key,att,rep,mid,fin],dtype=np.int64).T\n",
    "del(att);del(rep);del(mid);del(fin);del(key)"
   ]
  },
  {
   "cell_type": "code",
   "execution_count": 28,
   "id": "105c3884-dd67-4842-b478-c05f4edb0e69",
   "metadata": {},
   "outputs": [],
   "source": [
    "#test_dic"
   ]
  },
  {
   "cell_type": "markdown",
   "id": "8a94372d-2a57-4f13-8d9b-18a4c1e1641a",
   "metadata": {},
   "source": [
    "학번 `202212460`에 해당하는 학생의 출석점수를 알고 싶다면?"
   ]
  },
  {
   "cell_type": "markdown",
   "id": "d41118bb-f2de-4283-bc67-cc1c57e8e2c3",
   "metadata": {},
   "source": [
    "`-` (풀이1)"
   ]
  },
  {
   "cell_type": "code",
   "execution_count": 29,
   "id": "9189ae4d-a52a-47d2-ae41-ea0d003c625d",
   "metadata": {},
   "outputs": [
    {
     "data": {
      "text/plain": [
       "55"
      ]
     },
     "execution_count": 29,
     "metadata": {},
     "output_type": "execute_result"
    }
   ],
   "source": [
    "test_dic['202212460']['att'] ## 가독성이 좋음."
   ]
  },
  {
   "cell_type": "markdown",
   "id": "8e72de03-c8f8-4a01-afba-e6155633ea83",
   "metadata": {},
   "source": [
    "`-` (풀이2)"
   ]
  },
  {
   "cell_type": "code",
   "execution_count": 35,
   "id": "d8979893-fe24-4c23-be6b-1d60f73a9b10",
   "metadata": {},
   "outputs": [
    {
     "data": {
      "text/plain": [
       "array([55])"
      ]
     },
     "execution_count": 35,
     "metadata": {},
     "output_type": "execute_result"
    }
   ],
   "source": [
    "test_ndarray[test_ndarray[:,0] == 202212460, 1] ## 가독성이 떨어짐."
   ]
  },
  {
   "cell_type": "markdown",
   "id": "135463e3-2fe2-4373-909c-0d74f83061a6",
   "metadata": {},
   "source": [
    "정보를 뽑을 때 Numpy indexing을 이용하는 것보다 딕셔너리를 이용하고 hash 타입으로 접근하는것이 편리할 때가 많이 있다."
   ]
  },
  {
   "cell_type": "markdown",
   "id": "4222ad5d-1762-4c6c-98e2-22fa73e1c44d",
   "metadata": {},
   "source": [
    "**(풀이2)가 (풀이1)에 비하여 불편한 점**\n",
    "\n",
    "- test_ndarray의 첫칼럼은 student id 이고 두번째 칼럼은 att라는 사실을 암기하고 있어야 한다.\n",
    "\n",
    "- student id가 아니고 만약에 학생이름을 써서 데이터를 정리한다면 모든 자료형은 문자형이 되어야 한다.\n",
    "\n",
    "- 작성한 코드의 가독성이 없다. (위치로 접근하기 때문)"
   ]
  },
  {
   "cell_type": "markdown",
   "id": "80ce2ed8-7443-49d2-8957-12f99aadfd0f",
   "metadata": {},
   "source": [
    "`-` 요약: hash 스타일로 정보를 추출하는 것이 유용할 때가 있다. 그리고 보통 hash 스타일로 정보를 뽑는 것이 유리하다. (사실 Numpy는 정보추출을 위해 개발된 자료형이 아니라 행렬 및 벡터의 수학연산을 지원하기 위해 개발된 자료형이다.)"
   ]
  },
  {
   "cell_type": "markdown",
   "id": "5364b39c-c848-436d-9307-26d168f533a6",
   "metadata": {},
   "source": [
    "`-` 소망: 정보를 추출할때는 hash 스타일도 유용하다는 것은 이해함 $\\to$ 하지만 나는 넘파이스타일로 정보를 뽑고 싶은걸? 그리고 딕셔너리 형태가 아니고 엑셀처럼(행렬처럼) 데이터를 보고 싶은걸? $\\to$ pandas의 개발"
   ]
  },
  {
   "cell_type": "markdown",
   "id": "01ca3f6a-8bd7-4ebc-9ddf-81711147ca86",
   "metadata": {},
   "source": [
    "## pandas 개발동기"
   ]
  },
  {
   "cell_type": "markdown",
   "id": "22161ba5-0291-49a4-8af6-51196850a918",
   "metadata": {},
   "source": [
    "### 엑셀처럼 데이터를 테이블 형태로 정리하고 싶다."
   ]
  },
  {
   "cell_type": "code",
   "execution_count": 36,
   "id": "ba6126c2-ca3d-4d33-9c09-4cbddb51091b",
   "metadata": {},
   "outputs": [],
   "source": [
    "np.random.seed(43052)\n",
    "att = np.random.choice(np.arange(10,21)*5,20)\n",
    "rep = np.random.choice(np.arange(5,21)*5,20)\n",
    "mid = np.random.choice(np.arange(0,21)*5,20)\n",
    "fin = np.random.choice(np.arange(0,21)*5,20)\n",
    "key = ['202212'+str(s) for s in np.random.choice(np.arange(300,501),20,replace=False)]\n",
    "test_dic = {key[i] : {'att':att[i], 'rep':rep[i], 'mid':mid[i], 'fin':fin[i]} for i in range(20)}"
   ]
  },
  {
   "cell_type": "code",
   "execution_count": 37,
   "id": "1b93f4b5-1dd0-4086-bd15-ae538035fa13",
   "metadata": {},
   "outputs": [
    {
     "data": {
      "text/plain": [
       "{'202212380': {'att': 65, 'rep': 55, 'mid': 50, 'fin': 40},\n",
       " '202212370': {'att': 95, 'rep': 100, 'mid': 50, 'fin': 80},\n",
       " '202212363': {'att': 65, 'rep': 90, 'mid': 60, 'fin': 30},\n",
       " '202212488': {'att': 55, 'rep': 80, 'mid': 75, 'fin': 80},\n",
       " '202212312': {'att': 80, 'rep': 30, 'mid': 30, 'fin': 100},\n",
       " '202212377': {'att': 75, 'rep': 40, 'mid': 100, 'fin': 15},\n",
       " '202212463': {'att': 65, 'rep': 45, 'mid': 45, 'fin': 90},\n",
       " '202212471': {'att': 60, 'rep': 60, 'mid': 25, 'fin': 0},\n",
       " '202212400': {'att': 95, 'rep': 65, 'mid': 20, 'fin': 10},\n",
       " '202212469': {'att': 90, 'rep': 80, 'mid': 80, 'fin': 20},\n",
       " '202212318': {'att': 55, 'rep': 75, 'mid': 35, 'fin': 25},\n",
       " '202212432': {'att': 95, 'rep': 95, 'mid': 45, 'fin': 0},\n",
       " '202212443': {'att': 95, 'rep': 55, 'mid': 15, 'fin': 35},\n",
       " '202212367': {'att': 50, 'rep': 80, 'mid': 40, 'fin': 30},\n",
       " '202212458': {'att': 50, 'rep': 55, 'mid': 15, 'fin': 85},\n",
       " '202212396': {'att': 95, 'rep': 30, 'mid': 30, 'fin': 95},\n",
       " '202212482': {'att': 50, 'rep': 50, 'mid': 45, 'fin': 10},\n",
       " '202212452': {'att': 65, 'rep': 55, 'mid': 15, 'fin': 45},\n",
       " '202212387': {'att': 70, 'rep': 70, 'mid': 40, 'fin': 35},\n",
       " '202212354': {'att': 90, 'rep': 90, 'mid': 80, 'fin': 90}}"
      ]
     },
     "execution_count": 37,
     "metadata": {},
     "output_type": "execute_result"
    }
   ],
   "source": [
    "test_dic"
   ]
  },
  {
   "cell_type": "markdown",
   "id": "7f692d26-42db-480d-a8bc-3c7962d9bf0a",
   "metadata": {},
   "source": [
    "- 테이블형태로 보고싶다."
   ]
  },
  {
   "cell_type": "markdown",
   "id": "1d405a58-d5d9-44e0-8761-874cf457aaee",
   "metadata": {},
   "source": [
    "(방법1) -- 행렬이기는 하지만 방법 2,3,4,5에 비하여 우리가 원하는 만큼 가독성을 주는 형태는 아님."
   ]
  },
  {
   "cell_type": "code",
   "execution_count": 38,
   "id": "377973df-2d3f-4891-9caa-1f738e12d593",
   "metadata": {},
   "outputs": [
    {
     "data": {
      "text/plain": [
       "array([[202212380,        65,        55,        50,        40],\n",
       "       [202212370,        95,       100,        50,        80],\n",
       "       [202212363,        65,        90,        60,        30],\n",
       "       [202212488,        55,        80,        75,        80],\n",
       "       [202212312,        80,        30,        30,       100],\n",
       "       [202212377,        75,        40,       100,        15],\n",
       "       [202212463,        65,        45,        45,        90],\n",
       "       [202212471,        60,        60,        25,         0],\n",
       "       [202212400,        95,        65,        20,        10],\n",
       "       [202212469,        90,        80,        80,        20],\n",
       "       [202212318,        55,        75,        35,        25],\n",
       "       [202212432,        95,        95,        45,         0],\n",
       "       [202212443,        95,        55,        15,        35],\n",
       "       [202212367,        50,        80,        40,        30],\n",
       "       [202212458,        50,        55,        15,        85],\n",
       "       [202212396,        95,        30,        30,        95],\n",
       "       [202212482,        50,        50,        45,        10],\n",
       "       [202212452,        65,        55,        15,        45],\n",
       "       [202212387,        70,        70,        40,        35],\n",
       "       [202212354,        90,        90,        80,        90]])"
      ]
     },
     "execution_count": 38,
     "metadata": {},
     "output_type": "execute_result"
    }
   ],
   "source": [
    "test_ndarray = np.array([key,att,rep,mid,fin],dtype=np.int64).T\n",
    "test_ndarray"
   ]
  },
  {
   "cell_type": "markdown",
   "id": "58e611ee-dadf-4822-aaec-403ffea0b3bc",
   "metadata": {},
   "source": [
    "(방법2)"
   ]
  },
  {
   "cell_type": "code",
   "execution_count": 40,
   "id": "2916d8f1-aacf-440e-8bb7-f8d27491812d",
   "metadata": {},
   "outputs": [
    {
     "data": {
      "text/html": [
       "<div>\n",
       "<style scoped>\n",
       "    .dataframe tbody tr th:only-of-type {\n",
       "        vertical-align: middle;\n",
       "    }\n",
       "\n",
       "    .dataframe tbody tr th {\n",
       "        vertical-align: top;\n",
       "    }\n",
       "\n",
       "    .dataframe thead th {\n",
       "        text-align: right;\n",
       "    }\n",
       "</style>\n",
       "<table border=\"1\" class=\"dataframe\">\n",
       "  <thead>\n",
       "    <tr style=\"text-align: right;\">\n",
       "      <th></th>\n",
       "      <th>att</th>\n",
       "      <th>rep</th>\n",
       "      <th>mid</th>\n",
       "      <th>fin</th>\n",
       "    </tr>\n",
       "  </thead>\n",
       "  <tbody>\n",
       "    <tr>\n",
       "      <th>202212380</th>\n",
       "      <td>65</td>\n",
       "      <td>55</td>\n",
       "      <td>50</td>\n",
       "      <td>40</td>\n",
       "    </tr>\n",
       "    <tr>\n",
       "      <th>202212370</th>\n",
       "      <td>95</td>\n",
       "      <td>100</td>\n",
       "      <td>50</td>\n",
       "      <td>80</td>\n",
       "    </tr>\n",
       "    <tr>\n",
       "      <th>202212363</th>\n",
       "      <td>65</td>\n",
       "      <td>90</td>\n",
       "      <td>60</td>\n",
       "      <td>30</td>\n",
       "    </tr>\n",
       "    <tr>\n",
       "      <th>202212488</th>\n",
       "      <td>55</td>\n",
       "      <td>80</td>\n",
       "      <td>75</td>\n",
       "      <td>80</td>\n",
       "    </tr>\n",
       "    <tr>\n",
       "      <th>202212312</th>\n",
       "      <td>80</td>\n",
       "      <td>30</td>\n",
       "      <td>30</td>\n",
       "      <td>100</td>\n",
       "    </tr>\n",
       "    <tr>\n",
       "      <th>202212377</th>\n",
       "      <td>75</td>\n",
       "      <td>40</td>\n",
       "      <td>100</td>\n",
       "      <td>15</td>\n",
       "    </tr>\n",
       "    <tr>\n",
       "      <th>202212463</th>\n",
       "      <td>65</td>\n",
       "      <td>45</td>\n",
       "      <td>45</td>\n",
       "      <td>90</td>\n",
       "    </tr>\n",
       "    <tr>\n",
       "      <th>202212471</th>\n",
       "      <td>60</td>\n",
       "      <td>60</td>\n",
       "      <td>25</td>\n",
       "      <td>0</td>\n",
       "    </tr>\n",
       "    <tr>\n",
       "      <th>202212400</th>\n",
       "      <td>95</td>\n",
       "      <td>65</td>\n",
       "      <td>20</td>\n",
       "      <td>10</td>\n",
       "    </tr>\n",
       "    <tr>\n",
       "      <th>202212469</th>\n",
       "      <td>90</td>\n",
       "      <td>80</td>\n",
       "      <td>80</td>\n",
       "      <td>20</td>\n",
       "    </tr>\n",
       "    <tr>\n",
       "      <th>202212318</th>\n",
       "      <td>55</td>\n",
       "      <td>75</td>\n",
       "      <td>35</td>\n",
       "      <td>25</td>\n",
       "    </tr>\n",
       "    <tr>\n",
       "      <th>202212432</th>\n",
       "      <td>95</td>\n",
       "      <td>95</td>\n",
       "      <td>45</td>\n",
       "      <td>0</td>\n",
       "    </tr>\n",
       "    <tr>\n",
       "      <th>202212443</th>\n",
       "      <td>95</td>\n",
       "      <td>55</td>\n",
       "      <td>15</td>\n",
       "      <td>35</td>\n",
       "    </tr>\n",
       "    <tr>\n",
       "      <th>202212367</th>\n",
       "      <td>50</td>\n",
       "      <td>80</td>\n",
       "      <td>40</td>\n",
       "      <td>30</td>\n",
       "    </tr>\n",
       "    <tr>\n",
       "      <th>202212458</th>\n",
       "      <td>50</td>\n",
       "      <td>55</td>\n",
       "      <td>15</td>\n",
       "      <td>85</td>\n",
       "    </tr>\n",
       "    <tr>\n",
       "      <th>202212396</th>\n",
       "      <td>95</td>\n",
       "      <td>30</td>\n",
       "      <td>30</td>\n",
       "      <td>95</td>\n",
       "    </tr>\n",
       "    <tr>\n",
       "      <th>202212482</th>\n",
       "      <td>50</td>\n",
       "      <td>50</td>\n",
       "      <td>45</td>\n",
       "      <td>10</td>\n",
       "    </tr>\n",
       "    <tr>\n",
       "      <th>202212452</th>\n",
       "      <td>65</td>\n",
       "      <td>55</td>\n",
       "      <td>15</td>\n",
       "      <td>45</td>\n",
       "    </tr>\n",
       "    <tr>\n",
       "      <th>202212387</th>\n",
       "      <td>70</td>\n",
       "      <td>70</td>\n",
       "      <td>40</td>\n",
       "      <td>35</td>\n",
       "    </tr>\n",
       "    <tr>\n",
       "      <th>202212354</th>\n",
       "      <td>90</td>\n",
       "      <td>90</td>\n",
       "      <td>80</td>\n",
       "      <td>90</td>\n",
       "    </tr>\n",
       "  </tbody>\n",
       "</table>\n",
       "</div>"
      ],
      "text/plain": [
       "           att  rep  mid  fin\n",
       "202212380   65   55   50   40\n",
       "202212370   95  100   50   80\n",
       "202212363   65   90   60   30\n",
       "202212488   55   80   75   80\n",
       "202212312   80   30   30  100\n",
       "202212377   75   40  100   15\n",
       "202212463   65   45   45   90\n",
       "202212471   60   60   25    0\n",
       "202212400   95   65   20   10\n",
       "202212469   90   80   80   20\n",
       "202212318   55   75   35   25\n",
       "202212432   95   95   45    0\n",
       "202212443   95   55   15   35\n",
       "202212367   50   80   40   30\n",
       "202212458   50   55   15   85\n",
       "202212396   95   30   30   95\n",
       "202212482   50   50   45   10\n",
       "202212452   65   55   15   45\n",
       "202212387   70   70   40   35\n",
       "202212354   90   90   80   90"
      ]
     },
     "execution_count": 40,
     "metadata": {},
     "output_type": "execute_result"
    }
   ],
   "source": [
    "pd.DataFrame(test_dic).T"
   ]
  },
  {
   "cell_type": "markdown",
   "id": "f520cfc4-9e0b-48bc-8186-5acb0761247c",
   "metadata": {},
   "source": [
    "(방법3)"
   ]
  },
  {
   "cell_type": "code",
   "execution_count": 41,
   "id": "de1d272e-9cb0-43c5-8173-5d029200c051",
   "metadata": {},
   "outputs": [],
   "source": [
    "test_dic2 = {'att':{key[i]:att[i] for i in range(20)},\n",
    "             'rep':{key[i]:rep[i] for i in range(20)},\n",
    "             'mid':{key[i]:mid[i] for i in range(20)},\n",
    "             'fin':{key[i]:fin[i] for i in range(20)}}"
   ]
  },
  {
   "cell_type": "code",
   "execution_count": 44,
   "id": "ea69a951-78d1-46bc-9570-2d8ea5b65cfb",
   "metadata": {},
   "outputs": [
    {
     "data": {
      "text/html": [
       "<div>\n",
       "<style scoped>\n",
       "    .dataframe tbody tr th:only-of-type {\n",
       "        vertical-align: middle;\n",
       "    }\n",
       "\n",
       "    .dataframe tbody tr th {\n",
       "        vertical-align: top;\n",
       "    }\n",
       "\n",
       "    .dataframe thead th {\n",
       "        text-align: right;\n",
       "    }\n",
       "</style>\n",
       "<table border=\"1\" class=\"dataframe\">\n",
       "  <thead>\n",
       "    <tr style=\"text-align: right;\">\n",
       "      <th></th>\n",
       "      <th>att</th>\n",
       "      <th>rep</th>\n",
       "      <th>mid</th>\n",
       "      <th>fin</th>\n",
       "    </tr>\n",
       "  </thead>\n",
       "  <tbody>\n",
       "    <tr>\n",
       "      <th>202212380</th>\n",
       "      <td>65</td>\n",
       "      <td>55</td>\n",
       "      <td>50</td>\n",
       "      <td>40</td>\n",
       "    </tr>\n",
       "    <tr>\n",
       "      <th>202212370</th>\n",
       "      <td>95</td>\n",
       "      <td>100</td>\n",
       "      <td>50</td>\n",
       "      <td>80</td>\n",
       "    </tr>\n",
       "    <tr>\n",
       "      <th>202212363</th>\n",
       "      <td>65</td>\n",
       "      <td>90</td>\n",
       "      <td>60</td>\n",
       "      <td>30</td>\n",
       "    </tr>\n",
       "    <tr>\n",
       "      <th>202212488</th>\n",
       "      <td>55</td>\n",
       "      <td>80</td>\n",
       "      <td>75</td>\n",
       "      <td>80</td>\n",
       "    </tr>\n",
       "    <tr>\n",
       "      <th>202212312</th>\n",
       "      <td>80</td>\n",
       "      <td>30</td>\n",
       "      <td>30</td>\n",
       "      <td>100</td>\n",
       "    </tr>\n",
       "    <tr>\n",
       "      <th>202212377</th>\n",
       "      <td>75</td>\n",
       "      <td>40</td>\n",
       "      <td>100</td>\n",
       "      <td>15</td>\n",
       "    </tr>\n",
       "    <tr>\n",
       "      <th>202212463</th>\n",
       "      <td>65</td>\n",
       "      <td>45</td>\n",
       "      <td>45</td>\n",
       "      <td>90</td>\n",
       "    </tr>\n",
       "    <tr>\n",
       "      <th>202212471</th>\n",
       "      <td>60</td>\n",
       "      <td>60</td>\n",
       "      <td>25</td>\n",
       "      <td>0</td>\n",
       "    </tr>\n",
       "    <tr>\n",
       "      <th>202212400</th>\n",
       "      <td>95</td>\n",
       "      <td>65</td>\n",
       "      <td>20</td>\n",
       "      <td>10</td>\n",
       "    </tr>\n",
       "    <tr>\n",
       "      <th>202212469</th>\n",
       "      <td>90</td>\n",
       "      <td>80</td>\n",
       "      <td>80</td>\n",
       "      <td>20</td>\n",
       "    </tr>\n",
       "    <tr>\n",
       "      <th>202212318</th>\n",
       "      <td>55</td>\n",
       "      <td>75</td>\n",
       "      <td>35</td>\n",
       "      <td>25</td>\n",
       "    </tr>\n",
       "    <tr>\n",
       "      <th>202212432</th>\n",
       "      <td>95</td>\n",
       "      <td>95</td>\n",
       "      <td>45</td>\n",
       "      <td>0</td>\n",
       "    </tr>\n",
       "    <tr>\n",
       "      <th>202212443</th>\n",
       "      <td>95</td>\n",
       "      <td>55</td>\n",
       "      <td>15</td>\n",
       "      <td>35</td>\n",
       "    </tr>\n",
       "    <tr>\n",
       "      <th>202212367</th>\n",
       "      <td>50</td>\n",
       "      <td>80</td>\n",
       "      <td>40</td>\n",
       "      <td>30</td>\n",
       "    </tr>\n",
       "    <tr>\n",
       "      <th>202212458</th>\n",
       "      <td>50</td>\n",
       "      <td>55</td>\n",
       "      <td>15</td>\n",
       "      <td>85</td>\n",
       "    </tr>\n",
       "    <tr>\n",
       "      <th>202212396</th>\n",
       "      <td>95</td>\n",
       "      <td>30</td>\n",
       "      <td>30</td>\n",
       "      <td>95</td>\n",
       "    </tr>\n",
       "    <tr>\n",
       "      <th>202212482</th>\n",
       "      <td>50</td>\n",
       "      <td>50</td>\n",
       "      <td>45</td>\n",
       "      <td>10</td>\n",
       "    </tr>\n",
       "    <tr>\n",
       "      <th>202212452</th>\n",
       "      <td>65</td>\n",
       "      <td>55</td>\n",
       "      <td>15</td>\n",
       "      <td>45</td>\n",
       "    </tr>\n",
       "    <tr>\n",
       "      <th>202212387</th>\n",
       "      <td>70</td>\n",
       "      <td>70</td>\n",
       "      <td>40</td>\n",
       "      <td>35</td>\n",
       "    </tr>\n",
       "    <tr>\n",
       "      <th>202212354</th>\n",
       "      <td>90</td>\n",
       "      <td>90</td>\n",
       "      <td>80</td>\n",
       "      <td>90</td>\n",
       "    </tr>\n",
       "  </tbody>\n",
       "</table>\n",
       "</div>"
      ],
      "text/plain": [
       "           att  rep  mid  fin\n",
       "202212380   65   55   50   40\n",
       "202212370   95  100   50   80\n",
       "202212363   65   90   60   30\n",
       "202212488   55   80   75   80\n",
       "202212312   80   30   30  100\n",
       "202212377   75   40  100   15\n",
       "202212463   65   45   45   90\n",
       "202212471   60   60   25    0\n",
       "202212400   95   65   20   10\n",
       "202212469   90   80   80   20\n",
       "202212318   55   75   35   25\n",
       "202212432   95   95   45    0\n",
       "202212443   95   55   15   35\n",
       "202212367   50   80   40   30\n",
       "202212458   50   55   15   85\n",
       "202212396   95   30   30   95\n",
       "202212482   50   50   45   10\n",
       "202212452   65   55   15   45\n",
       "202212387   70   70   40   35\n",
       "202212354   90   90   80   90"
      ]
     },
     "execution_count": 44,
     "metadata": {},
     "output_type": "execute_result"
    }
   ],
   "source": [
    "pd.DataFrame(test_dic2)"
   ]
  },
  {
   "cell_type": "markdown",
   "id": "9712935c-9517-4271-9e0d-6ebac7476996",
   "metadata": {},
   "source": [
    "(방법4)"
   ]
  },
  {
   "cell_type": "code",
   "execution_count": 48,
   "id": "4c4bdd0d-636d-46c0-8dc5-0e10321f1090",
   "metadata": {},
   "outputs": [
    {
     "data": {
      "text/html": [
       "<div>\n",
       "<style scoped>\n",
       "    .dataframe tbody tr th:only-of-type {\n",
       "        vertical-align: middle;\n",
       "    }\n",
       "\n",
       "    .dataframe tbody tr th {\n",
       "        vertical-align: top;\n",
       "    }\n",
       "\n",
       "    .dataframe thead th {\n",
       "        text-align: right;\n",
       "    }\n",
       "</style>\n",
       "<table border=\"1\" class=\"dataframe\">\n",
       "  <thead>\n",
       "    <tr style=\"text-align: right;\">\n",
       "      <th></th>\n",
       "      <th>att</th>\n",
       "      <th>rep</th>\n",
       "      <th>mid</th>\n",
       "      <th>fin</th>\n",
       "    </tr>\n",
       "  </thead>\n",
       "  <tbody>\n",
       "    <tr>\n",
       "      <th>202212380</th>\n",
       "      <td>65</td>\n",
       "      <td>55</td>\n",
       "      <td>50</td>\n",
       "      <td>40</td>\n",
       "    </tr>\n",
       "    <tr>\n",
       "      <th>202212370</th>\n",
       "      <td>95</td>\n",
       "      <td>100</td>\n",
       "      <td>50</td>\n",
       "      <td>80</td>\n",
       "    </tr>\n",
       "    <tr>\n",
       "      <th>202212363</th>\n",
       "      <td>65</td>\n",
       "      <td>90</td>\n",
       "      <td>60</td>\n",
       "      <td>30</td>\n",
       "    </tr>\n",
       "    <tr>\n",
       "      <th>202212488</th>\n",
       "      <td>55</td>\n",
       "      <td>80</td>\n",
       "      <td>75</td>\n",
       "      <td>80</td>\n",
       "    </tr>\n",
       "    <tr>\n",
       "      <th>202212312</th>\n",
       "      <td>80</td>\n",
       "      <td>30</td>\n",
       "      <td>30</td>\n",
       "      <td>100</td>\n",
       "    </tr>\n",
       "    <tr>\n",
       "      <th>202212377</th>\n",
       "      <td>75</td>\n",
       "      <td>40</td>\n",
       "      <td>100</td>\n",
       "      <td>15</td>\n",
       "    </tr>\n",
       "    <tr>\n",
       "      <th>202212463</th>\n",
       "      <td>65</td>\n",
       "      <td>45</td>\n",
       "      <td>45</td>\n",
       "      <td>90</td>\n",
       "    </tr>\n",
       "    <tr>\n",
       "      <th>202212471</th>\n",
       "      <td>60</td>\n",
       "      <td>60</td>\n",
       "      <td>25</td>\n",
       "      <td>0</td>\n",
       "    </tr>\n",
       "    <tr>\n",
       "      <th>202212400</th>\n",
       "      <td>95</td>\n",
       "      <td>65</td>\n",
       "      <td>20</td>\n",
       "      <td>10</td>\n",
       "    </tr>\n",
       "    <tr>\n",
       "      <th>202212469</th>\n",
       "      <td>90</td>\n",
       "      <td>80</td>\n",
       "      <td>80</td>\n",
       "      <td>20</td>\n",
       "    </tr>\n",
       "    <tr>\n",
       "      <th>202212318</th>\n",
       "      <td>55</td>\n",
       "      <td>75</td>\n",
       "      <td>35</td>\n",
       "      <td>25</td>\n",
       "    </tr>\n",
       "    <tr>\n",
       "      <th>202212432</th>\n",
       "      <td>95</td>\n",
       "      <td>95</td>\n",
       "      <td>45</td>\n",
       "      <td>0</td>\n",
       "    </tr>\n",
       "    <tr>\n",
       "      <th>202212443</th>\n",
       "      <td>95</td>\n",
       "      <td>55</td>\n",
       "      <td>15</td>\n",
       "      <td>35</td>\n",
       "    </tr>\n",
       "    <tr>\n",
       "      <th>202212367</th>\n",
       "      <td>50</td>\n",
       "      <td>80</td>\n",
       "      <td>40</td>\n",
       "      <td>30</td>\n",
       "    </tr>\n",
       "    <tr>\n",
       "      <th>202212458</th>\n",
       "      <td>50</td>\n",
       "      <td>55</td>\n",
       "      <td>15</td>\n",
       "      <td>85</td>\n",
       "    </tr>\n",
       "    <tr>\n",
       "      <th>202212396</th>\n",
       "      <td>95</td>\n",
       "      <td>30</td>\n",
       "      <td>30</td>\n",
       "      <td>95</td>\n",
       "    </tr>\n",
       "    <tr>\n",
       "      <th>202212482</th>\n",
       "      <td>50</td>\n",
       "      <td>50</td>\n",
       "      <td>45</td>\n",
       "      <td>10</td>\n",
       "    </tr>\n",
       "    <tr>\n",
       "      <th>202212452</th>\n",
       "      <td>65</td>\n",
       "      <td>55</td>\n",
       "      <td>15</td>\n",
       "      <td>45</td>\n",
       "    </tr>\n",
       "    <tr>\n",
       "      <th>202212387</th>\n",
       "      <td>70</td>\n",
       "      <td>70</td>\n",
       "      <td>40</td>\n",
       "      <td>35</td>\n",
       "    </tr>\n",
       "    <tr>\n",
       "      <th>202212354</th>\n",
       "      <td>90</td>\n",
       "      <td>90</td>\n",
       "      <td>80</td>\n",
       "      <td>90</td>\n",
       "    </tr>\n",
       "  </tbody>\n",
       "</table>\n",
       "</div>"
      ],
      "text/plain": [
       "           att  rep  mid  fin\n",
       "202212380   65   55   50   40\n",
       "202212370   95  100   50   80\n",
       "202212363   65   90   60   30\n",
       "202212488   55   80   75   80\n",
       "202212312   80   30   30  100\n",
       "202212377   75   40  100   15\n",
       "202212463   65   45   45   90\n",
       "202212471   60   60   25    0\n",
       "202212400   95   65   20   10\n",
       "202212469   90   80   80   20\n",
       "202212318   55   75   35   25\n",
       "202212432   95   95   45    0\n",
       "202212443   95   55   15   35\n",
       "202212367   50   80   40   30\n",
       "202212458   50   55   15   85\n",
       "202212396   95   30   30   95\n",
       "202212482   50   50   45   10\n",
       "202212452   65   55   15   45\n",
       "202212387   70   70   40   35\n",
       "202212354   90   90   80   90"
      ]
     },
     "execution_count": 48,
     "metadata": {},
     "output_type": "execute_result"
    }
   ],
   "source": [
    "df = pd.DataFrame({'att':att, 'rep':rep, 'mid':mid, 'fin':fin}, index=key)\n",
    "df"
   ]
  },
  {
   "cell_type": "markdown",
   "id": "115cda49-03fb-4a01-9046-235d07e0d49f",
   "metadata": {},
   "source": [
    "(방법5)"
   ]
  },
  {
   "cell_type": "code",
   "execution_count": 49,
   "id": "7f87f4b2-857f-439e-8cbe-7ee9fc323c18",
   "metadata": {},
   "outputs": [
    {
     "data": {
      "text/html": [
       "<div>\n",
       "<style scoped>\n",
       "    .dataframe tbody tr th:only-of-type {\n",
       "        vertical-align: middle;\n",
       "    }\n",
       "\n",
       "    .dataframe tbody tr th {\n",
       "        vertical-align: top;\n",
       "    }\n",
       "\n",
       "    .dataframe thead th {\n",
       "        text-align: right;\n",
       "    }\n",
       "</style>\n",
       "<table border=\"1\" class=\"dataframe\">\n",
       "  <thead>\n",
       "    <tr style=\"text-align: right;\">\n",
       "      <th></th>\n",
       "      <th>att</th>\n",
       "      <th>rep</th>\n",
       "      <th>mid</th>\n",
       "      <th>fin</th>\n",
       "    </tr>\n",
       "  </thead>\n",
       "  <tbody>\n",
       "    <tr>\n",
       "      <th>0</th>\n",
       "      <td>65</td>\n",
       "      <td>55</td>\n",
       "      <td>50</td>\n",
       "      <td>40</td>\n",
       "    </tr>\n",
       "    <tr>\n",
       "      <th>1</th>\n",
       "      <td>95</td>\n",
       "      <td>100</td>\n",
       "      <td>50</td>\n",
       "      <td>80</td>\n",
       "    </tr>\n",
       "    <tr>\n",
       "      <th>2</th>\n",
       "      <td>65</td>\n",
       "      <td>90</td>\n",
       "      <td>60</td>\n",
       "      <td>30</td>\n",
       "    </tr>\n",
       "    <tr>\n",
       "      <th>3</th>\n",
       "      <td>55</td>\n",
       "      <td>80</td>\n",
       "      <td>75</td>\n",
       "      <td>80</td>\n",
       "    </tr>\n",
       "    <tr>\n",
       "      <th>4</th>\n",
       "      <td>80</td>\n",
       "      <td>30</td>\n",
       "      <td>30</td>\n",
       "      <td>100</td>\n",
       "    </tr>\n",
       "    <tr>\n",
       "      <th>5</th>\n",
       "      <td>75</td>\n",
       "      <td>40</td>\n",
       "      <td>100</td>\n",
       "      <td>15</td>\n",
       "    </tr>\n",
       "    <tr>\n",
       "      <th>6</th>\n",
       "      <td>65</td>\n",
       "      <td>45</td>\n",
       "      <td>45</td>\n",
       "      <td>90</td>\n",
       "    </tr>\n",
       "    <tr>\n",
       "      <th>7</th>\n",
       "      <td>60</td>\n",
       "      <td>60</td>\n",
       "      <td>25</td>\n",
       "      <td>0</td>\n",
       "    </tr>\n",
       "    <tr>\n",
       "      <th>8</th>\n",
       "      <td>95</td>\n",
       "      <td>65</td>\n",
       "      <td>20</td>\n",
       "      <td>10</td>\n",
       "    </tr>\n",
       "    <tr>\n",
       "      <th>9</th>\n",
       "      <td>90</td>\n",
       "      <td>80</td>\n",
       "      <td>80</td>\n",
       "      <td>20</td>\n",
       "    </tr>\n",
       "    <tr>\n",
       "      <th>10</th>\n",
       "      <td>55</td>\n",
       "      <td>75</td>\n",
       "      <td>35</td>\n",
       "      <td>25</td>\n",
       "    </tr>\n",
       "    <tr>\n",
       "      <th>11</th>\n",
       "      <td>95</td>\n",
       "      <td>95</td>\n",
       "      <td>45</td>\n",
       "      <td>0</td>\n",
       "    </tr>\n",
       "    <tr>\n",
       "      <th>12</th>\n",
       "      <td>95</td>\n",
       "      <td>55</td>\n",
       "      <td>15</td>\n",
       "      <td>35</td>\n",
       "    </tr>\n",
       "    <tr>\n",
       "      <th>13</th>\n",
       "      <td>50</td>\n",
       "      <td>80</td>\n",
       "      <td>40</td>\n",
       "      <td>30</td>\n",
       "    </tr>\n",
       "    <tr>\n",
       "      <th>14</th>\n",
       "      <td>50</td>\n",
       "      <td>55</td>\n",
       "      <td>15</td>\n",
       "      <td>85</td>\n",
       "    </tr>\n",
       "    <tr>\n",
       "      <th>15</th>\n",
       "      <td>95</td>\n",
       "      <td>30</td>\n",
       "      <td>30</td>\n",
       "      <td>95</td>\n",
       "    </tr>\n",
       "    <tr>\n",
       "      <th>16</th>\n",
       "      <td>50</td>\n",
       "      <td>50</td>\n",
       "      <td>45</td>\n",
       "      <td>10</td>\n",
       "    </tr>\n",
       "    <tr>\n",
       "      <th>17</th>\n",
       "      <td>65</td>\n",
       "      <td>55</td>\n",
       "      <td>15</td>\n",
       "      <td>45</td>\n",
       "    </tr>\n",
       "    <tr>\n",
       "      <th>18</th>\n",
       "      <td>70</td>\n",
       "      <td>70</td>\n",
       "      <td>40</td>\n",
       "      <td>35</td>\n",
       "    </tr>\n",
       "    <tr>\n",
       "      <th>19</th>\n",
       "      <td>90</td>\n",
       "      <td>90</td>\n",
       "      <td>80</td>\n",
       "      <td>90</td>\n",
       "    </tr>\n",
       "  </tbody>\n",
       "</table>\n",
       "</div>"
      ],
      "text/plain": [
       "    att  rep  mid  fin\n",
       "0    65   55   50   40\n",
       "1    95  100   50   80\n",
       "2    65   90   60   30\n",
       "3    55   80   75   80\n",
       "4    80   30   30  100\n",
       "5    75   40  100   15\n",
       "6    65   45   45   90\n",
       "7    60   60   25    0\n",
       "8    95   65   20   10\n",
       "9    90   80   80   20\n",
       "10   55   75   35   25\n",
       "11   95   95   45    0\n",
       "12   95   55   15   35\n",
       "13   50   80   40   30\n",
       "14   50   55   15   85\n",
       "15   95   30   30   95\n",
       "16   50   50   45   10\n",
       "17   65   55   15   45\n",
       "18   70   70   40   35\n",
       "19   90   90   80   90"
      ]
     },
     "execution_count": 49,
     "metadata": {},
     "output_type": "execute_result"
    }
   ],
   "source": [
    "df = pd.DataFrame({'att':att, 'rep':rep, 'mid':mid, 'fin':fin})\n",
    "df"
   ]
  },
  {
   "cell_type": "code",
   "execution_count": 50,
   "id": "eb7bda0e-a6eb-4e0c-8c24-eacecf1d13ba",
   "metadata": {},
   "outputs": [
    {
     "data": {
      "text/html": [
       "<div>\n",
       "<style scoped>\n",
       "    .dataframe tbody tr th:only-of-type {\n",
       "        vertical-align: middle;\n",
       "    }\n",
       "\n",
       "    .dataframe tbody tr th {\n",
       "        vertical-align: top;\n",
       "    }\n",
       "\n",
       "    .dataframe thead th {\n",
       "        text-align: right;\n",
       "    }\n",
       "</style>\n",
       "<table border=\"1\" class=\"dataframe\">\n",
       "  <thead>\n",
       "    <tr style=\"text-align: right;\">\n",
       "      <th></th>\n",
       "      <th>att</th>\n",
       "      <th>rep</th>\n",
       "      <th>mid</th>\n",
       "      <th>fin</th>\n",
       "    </tr>\n",
       "  </thead>\n",
       "  <tbody>\n",
       "    <tr>\n",
       "      <th>202212380</th>\n",
       "      <td>65</td>\n",
       "      <td>55</td>\n",
       "      <td>50</td>\n",
       "      <td>40</td>\n",
       "    </tr>\n",
       "    <tr>\n",
       "      <th>202212370</th>\n",
       "      <td>95</td>\n",
       "      <td>100</td>\n",
       "      <td>50</td>\n",
       "      <td>80</td>\n",
       "    </tr>\n",
       "    <tr>\n",
       "      <th>202212363</th>\n",
       "      <td>65</td>\n",
       "      <td>90</td>\n",
       "      <td>60</td>\n",
       "      <td>30</td>\n",
       "    </tr>\n",
       "    <tr>\n",
       "      <th>202212488</th>\n",
       "      <td>55</td>\n",
       "      <td>80</td>\n",
       "      <td>75</td>\n",
       "      <td>80</td>\n",
       "    </tr>\n",
       "    <tr>\n",
       "      <th>202212312</th>\n",
       "      <td>80</td>\n",
       "      <td>30</td>\n",
       "      <td>30</td>\n",
       "      <td>100</td>\n",
       "    </tr>\n",
       "    <tr>\n",
       "      <th>202212377</th>\n",
       "      <td>75</td>\n",
       "      <td>40</td>\n",
       "      <td>100</td>\n",
       "      <td>15</td>\n",
       "    </tr>\n",
       "    <tr>\n",
       "      <th>202212463</th>\n",
       "      <td>65</td>\n",
       "      <td>45</td>\n",
       "      <td>45</td>\n",
       "      <td>90</td>\n",
       "    </tr>\n",
       "    <tr>\n",
       "      <th>202212471</th>\n",
       "      <td>60</td>\n",
       "      <td>60</td>\n",
       "      <td>25</td>\n",
       "      <td>0</td>\n",
       "    </tr>\n",
       "    <tr>\n",
       "      <th>202212400</th>\n",
       "      <td>95</td>\n",
       "      <td>65</td>\n",
       "      <td>20</td>\n",
       "      <td>10</td>\n",
       "    </tr>\n",
       "    <tr>\n",
       "      <th>202212469</th>\n",
       "      <td>90</td>\n",
       "      <td>80</td>\n",
       "      <td>80</td>\n",
       "      <td>20</td>\n",
       "    </tr>\n",
       "    <tr>\n",
       "      <th>202212318</th>\n",
       "      <td>55</td>\n",
       "      <td>75</td>\n",
       "      <td>35</td>\n",
       "      <td>25</td>\n",
       "    </tr>\n",
       "    <tr>\n",
       "      <th>202212432</th>\n",
       "      <td>95</td>\n",
       "      <td>95</td>\n",
       "      <td>45</td>\n",
       "      <td>0</td>\n",
       "    </tr>\n",
       "    <tr>\n",
       "      <th>202212443</th>\n",
       "      <td>95</td>\n",
       "      <td>55</td>\n",
       "      <td>15</td>\n",
       "      <td>35</td>\n",
       "    </tr>\n",
       "    <tr>\n",
       "      <th>202212367</th>\n",
       "      <td>50</td>\n",
       "      <td>80</td>\n",
       "      <td>40</td>\n",
       "      <td>30</td>\n",
       "    </tr>\n",
       "    <tr>\n",
       "      <th>202212458</th>\n",
       "      <td>50</td>\n",
       "      <td>55</td>\n",
       "      <td>15</td>\n",
       "      <td>85</td>\n",
       "    </tr>\n",
       "    <tr>\n",
       "      <th>202212396</th>\n",
       "      <td>95</td>\n",
       "      <td>30</td>\n",
       "      <td>30</td>\n",
       "      <td>95</td>\n",
       "    </tr>\n",
       "    <tr>\n",
       "      <th>202212482</th>\n",
       "      <td>50</td>\n",
       "      <td>50</td>\n",
       "      <td>45</td>\n",
       "      <td>10</td>\n",
       "    </tr>\n",
       "    <tr>\n",
       "      <th>202212452</th>\n",
       "      <td>65</td>\n",
       "      <td>55</td>\n",
       "      <td>15</td>\n",
       "      <td>45</td>\n",
       "    </tr>\n",
       "    <tr>\n",
       "      <th>202212387</th>\n",
       "      <td>70</td>\n",
       "      <td>70</td>\n",
       "      <td>40</td>\n",
       "      <td>35</td>\n",
       "    </tr>\n",
       "    <tr>\n",
       "      <th>202212354</th>\n",
       "      <td>90</td>\n",
       "      <td>90</td>\n",
       "      <td>80</td>\n",
       "      <td>90</td>\n",
       "    </tr>\n",
       "  </tbody>\n",
       "</table>\n",
       "</div>"
      ],
      "text/plain": [
       "           att  rep  mid  fin\n",
       "202212380   65   55   50   40\n",
       "202212370   95  100   50   80\n",
       "202212363   65   90   60   30\n",
       "202212488   55   80   75   80\n",
       "202212312   80   30   30  100\n",
       "202212377   75   40  100   15\n",
       "202212463   65   45   45   90\n",
       "202212471   60   60   25    0\n",
       "202212400   95   65   20   10\n",
       "202212469   90   80   80   20\n",
       "202212318   55   75   35   25\n",
       "202212432   95   95   45    0\n",
       "202212443   95   55   15   35\n",
       "202212367   50   80   40   30\n",
       "202212458   50   55   15   85\n",
       "202212396   95   30   30   95\n",
       "202212482   50   50   45   10\n",
       "202212452   65   55   15   45\n",
       "202212387   70   70   40   35\n",
       "202212354   90   90   80   90"
      ]
     },
     "execution_count": 50,
     "metadata": {},
     "output_type": "execute_result"
    }
   ],
   "source": [
    "df = df.set_index([key])\n",
    "df"
   ]
  },
  {
   "cell_type": "markdown",
   "id": "cc993cf2-440a-48c2-9474-0b21d3f68e94",
   "metadata": {},
   "source": [
    "### 해싱으로 원하는 정보를 뽑으면 좋겠다. (마치 딕셔너리처럼)"
   ]
  },
  {
   "cell_type": "markdown",
   "id": "5519aebb-cecc-4264-930e-367104802622",
   "metadata": {},
   "source": [
    "`-` 예제1: 출석점수를 출력"
   ]
  },
  {
   "cell_type": "code",
   "execution_count": 51,
   "id": "80b34752-a1f5-4c05-ba1a-483894f33230",
   "metadata": {},
   "outputs": [
    {
     "data": {
      "text/plain": [
       "{'202212380': 65,\n",
       " '202212370': 95,\n",
       " '202212363': 65,\n",
       " '202212488': 55,\n",
       " '202212312': 80,\n",
       " '202212377': 75,\n",
       " '202212463': 65,\n",
       " '202212471': 60,\n",
       " '202212400': 95,\n",
       " '202212469': 90,\n",
       " '202212318': 55,\n",
       " '202212432': 95,\n",
       " '202212443': 95,\n",
       " '202212367': 50,\n",
       " '202212458': 50,\n",
       " '202212396': 95,\n",
       " '202212482': 50,\n",
       " '202212452': 65,\n",
       " '202212387': 70,\n",
       " '202212354': 90}"
      ]
     },
     "execution_count": 51,
     "metadata": {},
     "output_type": "execute_result"
    }
   ],
   "source": [
    "test_dic2['att']"
   ]
  },
  {
   "cell_type": "code",
   "execution_count": 52,
   "id": "8b6f374d-2f5c-463e-b398-78d1060bca8b",
   "metadata": {},
   "outputs": [
    {
     "data": {
      "text/plain": [
       "202212380    65\n",
       "202212370    95\n",
       "202212363    65\n",
       "202212488    55\n",
       "202212312    80\n",
       "202212377    75\n",
       "202212463    65\n",
       "202212471    60\n",
       "202212400    95\n",
       "202212469    90\n",
       "202212318    55\n",
       "202212432    95\n",
       "202212443    95\n",
       "202212367    50\n",
       "202212458    50\n",
       "202212396    95\n",
       "202212482    50\n",
       "202212452    65\n",
       "202212387    70\n",
       "202212354    90\n",
       "Name: att, dtype: int64"
      ]
     },
     "execution_count": 52,
     "metadata": {},
     "output_type": "execute_result"
    }
   ],
   "source": [
    "df['att']"
   ]
  },
  {
   "cell_type": "markdown",
   "id": "9afda88f-f48d-45ee-9d0c-41fc2fa7c525",
   "metadata": {},
   "source": [
    "`-` 예제2: 학번 202212380의 출석점수 출력"
   ]
  },
  {
   "cell_type": "code",
   "execution_count": 54,
   "id": "76753358-ccc6-43c1-856e-1b0a95ee0766",
   "metadata": {},
   "outputs": [
    {
     "data": {
      "text/plain": [
       "65"
      ]
     },
     "execution_count": 54,
     "metadata": {},
     "output_type": "execute_result"
    }
   ],
   "source": [
    "test_dic2['att']['202212380']"
   ]
  },
  {
   "cell_type": "code",
   "execution_count": 55,
   "id": "1a693b23-1192-4034-bf57-a43e43547de0",
   "metadata": {},
   "outputs": [
    {
     "data": {
      "text/plain": [
       "65"
      ]
     },
     "execution_count": 55,
     "metadata": {},
     "output_type": "execute_result"
    }
   ],
   "source": [
    "df['att']['202212380']"
   ]
  },
  {
   "cell_type": "markdown",
   "id": "c8f311f3-c84e-404c-bb51-9c869a7dc79c",
   "metadata": {},
   "source": [
    "### 인덱싱으로 정보를 뽑는 기능도 지원하면 좋겠다. (마치 리스트나 넘파이처럼)"
   ]
  },
  {
   "cell_type": "markdown",
   "id": "54a3e6e7-5f9f-490f-9f9b-4e7c11e7f6f6",
   "metadata": {},
   "source": [
    "`-` 예제1: 첫번째 학생의 기말고사 성적을 출력하고 싶다."
   ]
  },
  {
   "cell_type": "code",
   "execution_count": 56,
   "id": "6723da9a-9ca7-476f-a55e-6e72e2f7ef92",
   "metadata": {},
   "outputs": [
    {
     "data": {
      "text/plain": [
       "40"
      ]
     },
     "execution_count": 56,
     "metadata": {},
     "output_type": "execute_result"
    }
   ],
   "source": [
    "test_ndarray[0,-1]"
   ]
  },
  {
   "cell_type": "code",
   "execution_count": 57,
   "id": "1474ab15-9f84-443d-9adb-e8b0c7fef2c6",
   "metadata": {},
   "outputs": [
    {
     "data": {
      "text/plain": [
       "40"
      ]
     },
     "execution_count": 57,
     "metadata": {},
     "output_type": "execute_result"
    }
   ],
   "source": [
    "df.iloc[0,-1]"
   ]
  },
  {
   "cell_type": "markdown",
   "id": "2e0a82fa-012c-4b39-a67d-be2e60420c51",
   "metadata": {},
   "source": [
    "- 벼락치기: df에서 iloc이라는 특수기능을 이용하면 넘파이 인덱싱처럼 원소출력이 가능하다."
   ]
  },
  {
   "cell_type": "markdown",
   "id": "b9d22b49-d731-4807-9281-a0976520b05b",
   "metadata": {},
   "source": [
    "`-` 예제2: 홀수번째 학생의 점수를 뽑고 싶다."
   ]
  },
  {
   "cell_type": "code",
   "execution_count": 58,
   "id": "d20487e7-32b6-4f2f-b573-01e473b4616a",
   "metadata": {},
   "outputs": [
    {
     "data": {
      "text/plain": [
       "array([[202212380,        65,        55,        50,        40],\n",
       "       [202212363,        65,        90,        60,        30],\n",
       "       [202212312,        80,        30,        30,       100],\n",
       "       [202212463,        65,        45,        45,        90],\n",
       "       [202212400,        95,        65,        20,        10],\n",
       "       [202212318,        55,        75,        35,        25],\n",
       "       [202212443,        95,        55,        15,        35],\n",
       "       [202212458,        50,        55,        15,        85],\n",
       "       [202212482,        50,        50,        45,        10],\n",
       "       [202212387,        70,        70,        40,        35]])"
      ]
     },
     "execution_count": 58,
     "metadata": {},
     "output_type": "execute_result"
    }
   ],
   "source": [
    "test_ndarray[::2]"
   ]
  },
  {
   "cell_type": "code",
   "execution_count": 59,
   "id": "0cb64c57-178d-4d09-ad99-275a0ae4ee42",
   "metadata": {},
   "outputs": [
    {
     "data": {
      "text/html": [
       "<div>\n",
       "<style scoped>\n",
       "    .dataframe tbody tr th:only-of-type {\n",
       "        vertical-align: middle;\n",
       "    }\n",
       "\n",
       "    .dataframe tbody tr th {\n",
       "        vertical-align: top;\n",
       "    }\n",
       "\n",
       "    .dataframe thead th {\n",
       "        text-align: right;\n",
       "    }\n",
       "</style>\n",
       "<table border=\"1\" class=\"dataframe\">\n",
       "  <thead>\n",
       "    <tr style=\"text-align: right;\">\n",
       "      <th></th>\n",
       "      <th>att</th>\n",
       "      <th>rep</th>\n",
       "      <th>mid</th>\n",
       "      <th>fin</th>\n",
       "    </tr>\n",
       "  </thead>\n",
       "  <tbody>\n",
       "    <tr>\n",
       "      <th>202212380</th>\n",
       "      <td>65</td>\n",
       "      <td>55</td>\n",
       "      <td>50</td>\n",
       "      <td>40</td>\n",
       "    </tr>\n",
       "    <tr>\n",
       "      <th>202212363</th>\n",
       "      <td>65</td>\n",
       "      <td>90</td>\n",
       "      <td>60</td>\n",
       "      <td>30</td>\n",
       "    </tr>\n",
       "    <tr>\n",
       "      <th>202212312</th>\n",
       "      <td>80</td>\n",
       "      <td>30</td>\n",
       "      <td>30</td>\n",
       "      <td>100</td>\n",
       "    </tr>\n",
       "    <tr>\n",
       "      <th>202212463</th>\n",
       "      <td>65</td>\n",
       "      <td>45</td>\n",
       "      <td>45</td>\n",
       "      <td>90</td>\n",
       "    </tr>\n",
       "    <tr>\n",
       "      <th>202212400</th>\n",
       "      <td>95</td>\n",
       "      <td>65</td>\n",
       "      <td>20</td>\n",
       "      <td>10</td>\n",
       "    </tr>\n",
       "    <tr>\n",
       "      <th>202212318</th>\n",
       "      <td>55</td>\n",
       "      <td>75</td>\n",
       "      <td>35</td>\n",
       "      <td>25</td>\n",
       "    </tr>\n",
       "    <tr>\n",
       "      <th>202212443</th>\n",
       "      <td>95</td>\n",
       "      <td>55</td>\n",
       "      <td>15</td>\n",
       "      <td>35</td>\n",
       "    </tr>\n",
       "    <tr>\n",
       "      <th>202212458</th>\n",
       "      <td>50</td>\n",
       "      <td>55</td>\n",
       "      <td>15</td>\n",
       "      <td>85</td>\n",
       "    </tr>\n",
       "    <tr>\n",
       "      <th>202212482</th>\n",
       "      <td>50</td>\n",
       "      <td>50</td>\n",
       "      <td>45</td>\n",
       "      <td>10</td>\n",
       "    </tr>\n",
       "    <tr>\n",
       "      <th>202212387</th>\n",
       "      <td>70</td>\n",
       "      <td>70</td>\n",
       "      <td>40</td>\n",
       "      <td>35</td>\n",
       "    </tr>\n",
       "  </tbody>\n",
       "</table>\n",
       "</div>"
      ],
      "text/plain": [
       "           att  rep  mid  fin\n",
       "202212380   65   55   50   40\n",
       "202212363   65   90   60   30\n",
       "202212312   80   30   30  100\n",
       "202212463   65   45   45   90\n",
       "202212400   95   65   20   10\n",
       "202212318   55   75   35   25\n",
       "202212443   95   55   15   35\n",
       "202212458   50   55   15   85\n",
       "202212482   50   50   45   10\n",
       "202212387   70   70   40   35"
      ]
     },
     "execution_count": 59,
     "metadata": {},
     "output_type": "execute_result"
    }
   ],
   "source": [
    "df.iloc[::2]"
   ]
  },
  {
   "cell_type": "markdown",
   "id": "79d741b1-b59d-4041-b673-b495a9c01301",
   "metadata": {},
   "source": [
    "`-` 예제3: 맨 끝에서 3명의 점수를 출력하고 싶다."
   ]
  },
  {
   "cell_type": "code",
   "execution_count": 60,
   "id": "52b78836-725e-4d26-9d20-49dd0df66ffc",
   "metadata": {},
   "outputs": [
    {
     "data": {
      "text/plain": [
       "array([[202212452,        65,        55,        15,        45],\n",
       "       [202212387,        70,        70,        40,        35],\n",
       "       [202212354,        90,        90,        80,        90]])"
      ]
     },
     "execution_count": 60,
     "metadata": {},
     "output_type": "execute_result"
    }
   ],
   "source": [
    "test_ndarray[-3:]"
   ]
  },
  {
   "cell_type": "code",
   "execution_count": 62,
   "id": "428ad539-dcab-47f1-ad7e-c23409702104",
   "metadata": {},
   "outputs": [
    {
     "data": {
      "text/html": [
       "<div>\n",
       "<style scoped>\n",
       "    .dataframe tbody tr th:only-of-type {\n",
       "        vertical-align: middle;\n",
       "    }\n",
       "\n",
       "    .dataframe tbody tr th {\n",
       "        vertical-align: top;\n",
       "    }\n",
       "\n",
       "    .dataframe thead th {\n",
       "        text-align: right;\n",
       "    }\n",
       "</style>\n",
       "<table border=\"1\" class=\"dataframe\">\n",
       "  <thead>\n",
       "    <tr style=\"text-align: right;\">\n",
       "      <th></th>\n",
       "      <th>att</th>\n",
       "      <th>rep</th>\n",
       "      <th>mid</th>\n",
       "      <th>fin</th>\n",
       "    </tr>\n",
       "  </thead>\n",
       "  <tbody>\n",
       "    <tr>\n",
       "      <th>202212452</th>\n",
       "      <td>65</td>\n",
       "      <td>55</td>\n",
       "      <td>15</td>\n",
       "      <td>45</td>\n",
       "    </tr>\n",
       "    <tr>\n",
       "      <th>202212387</th>\n",
       "      <td>70</td>\n",
       "      <td>70</td>\n",
       "      <td>40</td>\n",
       "      <td>35</td>\n",
       "    </tr>\n",
       "    <tr>\n",
       "      <th>202212354</th>\n",
       "      <td>90</td>\n",
       "      <td>90</td>\n",
       "      <td>80</td>\n",
       "      <td>90</td>\n",
       "    </tr>\n",
       "  </tbody>\n",
       "</table>\n",
       "</div>"
      ],
      "text/plain": [
       "           att  rep  mid  fin\n",
       "202212452   65   55   15   45\n",
       "202212387   70   70   40   35\n",
       "202212354   90   90   80   90"
      ]
     },
     "execution_count": 62,
     "metadata": {},
     "output_type": "execute_result"
    }
   ],
   "source": [
    "df.iloc[-3:]"
   ]
  },
  {
   "cell_type": "markdown",
   "id": "55a77b6d-607c-40ad-aa31-7ccb2e9ec610",
   "metadata": {},
   "source": [
    "`-` 예제4: 맨 끝에서 3명의 점수 중 마지막 2개의 칼럼만 출력하고 싶다."
   ]
  },
  {
   "cell_type": "code",
   "execution_count": 63,
   "id": "ee884382-d63c-4751-8476-5d86e7cf3128",
   "metadata": {},
   "outputs": [
    {
     "data": {
      "text/plain": [
       "array([[15, 45],\n",
       "       [40, 35],\n",
       "       [80, 90]])"
      ]
     },
     "execution_count": 63,
     "metadata": {},
     "output_type": "execute_result"
    }
   ],
   "source": [
    "test_ndarray[-3:,-2:]"
   ]
  },
  {
   "cell_type": "code",
   "execution_count": 64,
   "id": "04568712-50a1-4516-acf5-05676d03f570",
   "metadata": {},
   "outputs": [
    {
     "data": {
      "text/html": [
       "<div>\n",
       "<style scoped>\n",
       "    .dataframe tbody tr th:only-of-type {\n",
       "        vertical-align: middle;\n",
       "    }\n",
       "\n",
       "    .dataframe tbody tr th {\n",
       "        vertical-align: top;\n",
       "    }\n",
       "\n",
       "    .dataframe thead th {\n",
       "        text-align: right;\n",
       "    }\n",
       "</style>\n",
       "<table border=\"1\" class=\"dataframe\">\n",
       "  <thead>\n",
       "    <tr style=\"text-align: right;\">\n",
       "      <th></th>\n",
       "      <th>mid</th>\n",
       "      <th>fin</th>\n",
       "    </tr>\n",
       "  </thead>\n",
       "  <tbody>\n",
       "    <tr>\n",
       "      <th>202212452</th>\n",
       "      <td>15</td>\n",
       "      <td>45</td>\n",
       "    </tr>\n",
       "    <tr>\n",
       "      <th>202212387</th>\n",
       "      <td>40</td>\n",
       "      <td>35</td>\n",
       "    </tr>\n",
       "    <tr>\n",
       "      <th>202212354</th>\n",
       "      <td>80</td>\n",
       "      <td>90</td>\n",
       "    </tr>\n",
       "  </tbody>\n",
       "</table>\n",
       "</div>"
      ],
      "text/plain": [
       "           mid  fin\n",
       "202212452   15   45\n",
       "202212387   40   35\n",
       "202212354   80   90"
      ]
     },
     "execution_count": 64,
     "metadata": {},
     "output_type": "execute_result"
    }
   ],
   "source": [
    "df.iloc[-3:,-2:]"
   ]
  },
  {
   "cell_type": "markdown",
   "id": "aad47f7a-d160-4c5d-af0e-03daba15addf",
   "metadata": {},
   "source": [
    "### 궁극: 해싱과 인덱싱을 모두 지원하는 아주 우수한 자료형을 만들고 싶음."
   ]
  },
  {
   "cell_type": "markdown",
   "id": "a1fb8aa6-8beb-49a8-9020-7b4010e816c0",
   "metadata": {},
   "source": [
    "`-` 예제1: 중간고사 점수가 20점 이상이면서 동시에 출석점수가 60점미만인 학생들의 기말고사 점수를 출력"
   ]
  },
  {
   "cell_type": "code",
   "execution_count": 65,
   "id": "decede90-8e49-4c64-919f-7652e8d394e5",
   "metadata": {},
   "outputs": [
    {
     "data": {
      "text/html": [
       "<div>\n",
       "<style scoped>\n",
       "    .dataframe tbody tr th:only-of-type {\n",
       "        vertical-align: middle;\n",
       "    }\n",
       "\n",
       "    .dataframe tbody tr th {\n",
       "        vertical-align: top;\n",
       "    }\n",
       "\n",
       "    .dataframe thead th {\n",
       "        text-align: right;\n",
       "    }\n",
       "</style>\n",
       "<table border=\"1\" class=\"dataframe\">\n",
       "  <thead>\n",
       "    <tr style=\"text-align: right;\">\n",
       "      <th></th>\n",
       "      <th>att</th>\n",
       "      <th>rep</th>\n",
       "      <th>mid</th>\n",
       "      <th>fin</th>\n",
       "    </tr>\n",
       "  </thead>\n",
       "  <tbody>\n",
       "    <tr>\n",
       "      <th>202212488</th>\n",
       "      <td>55</td>\n",
       "      <td>80</td>\n",
       "      <td>75</td>\n",
       "      <td>80</td>\n",
       "    </tr>\n",
       "    <tr>\n",
       "      <th>202212318</th>\n",
       "      <td>55</td>\n",
       "      <td>75</td>\n",
       "      <td>35</td>\n",
       "      <td>25</td>\n",
       "    </tr>\n",
       "    <tr>\n",
       "      <th>202212367</th>\n",
       "      <td>50</td>\n",
       "      <td>80</td>\n",
       "      <td>40</td>\n",
       "      <td>30</td>\n",
       "    </tr>\n",
       "    <tr>\n",
       "      <th>202212482</th>\n",
       "      <td>50</td>\n",
       "      <td>50</td>\n",
       "      <td>45</td>\n",
       "      <td>10</td>\n",
       "    </tr>\n",
       "  </tbody>\n",
       "</table>\n",
       "</div>"
      ],
      "text/plain": [
       "           att  rep  mid  fin\n",
       "202212488   55   80   75   80\n",
       "202212318   55   75   35   25\n",
       "202212367   50   80   40   30\n",
       "202212482   50   50   45   10"
      ]
     },
     "execution_count": 65,
     "metadata": {},
     "output_type": "execute_result"
    }
   ],
   "source": [
    "df.query('mid >= 20 and att < 60')"
   ]
  },
  {
   "cell_type": "code",
   "execution_count": 66,
   "id": "95250854-4fc9-473b-8fa5-750277dfdc7a",
   "metadata": {},
   "outputs": [
    {
     "data": {
      "text/plain": [
       "202212488    80\n",
       "202212318    25\n",
       "202212367    30\n",
       "202212482    10\n",
       "Name: fin, dtype: int64"
      ]
     },
     "execution_count": 66,
     "metadata": {},
     "output_type": "execute_result"
    }
   ],
   "source": [
    "df.query('mid >= 20 and att < 60')['fin']"
   ]
  },
  {
   "cell_type": "markdown",
   "id": "f0db86ff-b6a1-4e87-813b-b53c481af06c",
   "metadata": {},
   "source": [
    "(방법2) 넘파이 스타일이라면?"
   ]
  },
  {
   "cell_type": "code",
   "execution_count": 67,
   "id": "2f14f7e9-8f32-4bb0-9797-e4762c4abdf8",
   "metadata": {},
   "outputs": [
    {
     "data": {
      "text/plain": [
       "array([[202212380,        65,        55,        50,        40],\n",
       "       [202212370,        95,       100,        50,        80],\n",
       "       [202212363,        65,        90,        60,        30],\n",
       "       [202212488,        55,        80,        75,        80],\n",
       "       [202212312,        80,        30,        30,       100],\n",
       "       [202212377,        75,        40,       100,        15],\n",
       "       [202212463,        65,        45,        45,        90],\n",
       "       [202212471,        60,        60,        25,         0],\n",
       "       [202212400,        95,        65,        20,        10],\n",
       "       [202212469,        90,        80,        80,        20],\n",
       "       [202212318,        55,        75,        35,        25],\n",
       "       [202212432,        95,        95,        45,         0],\n",
       "       [202212443,        95,        55,        15,        35],\n",
       "       [202212367,        50,        80,        40,        30],\n",
       "       [202212458,        50,        55,        15,        85],\n",
       "       [202212396,        95,        30,        30,        95],\n",
       "       [202212482,        50,        50,        45,        10],\n",
       "       [202212452,        65,        55,        15,        45],\n",
       "       [202212387,        70,        70,        40,        35],\n",
       "       [202212354,        90,        90,        80,        90]])"
      ]
     },
     "execution_count": 67,
     "metadata": {},
     "output_type": "execute_result"
    }
   ],
   "source": [
    "test_ndarray"
   ]
  },
  {
   "cell_type": "code",
   "execution_count": 70,
   "id": "3a9ea1dd-9bf2-4e53-b2d2-aef484ff8dac",
   "metadata": {},
   "outputs": [
    {
     "data": {
      "text/plain": [
       "array([ True,  True,  True,  True,  True,  True,  True,  True,  True,\n",
       "        True,  True,  True, False,  True, False,  True,  True, False,\n",
       "        True,  True])"
      ]
     },
     "execution_count": 70,
     "metadata": {},
     "output_type": "execute_result"
    }
   ],
   "source": [
    "test_ndarray[:,3] >= 20 ## 중간고사가 20점이상"
   ]
  },
  {
   "cell_type": "code",
   "execution_count": 75,
   "id": "f9ee8099-798e-4deb-bba6-bea0abe04076",
   "metadata": {},
   "outputs": [
    {
     "data": {
      "text/plain": [
       "array([False, False, False,  True, False, False, False, False, False,\n",
       "       False,  True, False, False,  True,  True, False,  True, False,\n",
       "       False, False])"
      ]
     },
     "execution_count": 75,
     "metadata": {},
     "output_type": "execute_result"
    }
   ],
   "source": [
    "test_ndarray[:,1] < 60 ## 출석이 60미만 "
   ]
  },
  {
   "cell_type": "code",
   "execution_count": 76,
   "id": "e31eeb52-dc57-4ac1-8ae1-56fc568ac630",
   "metadata": {},
   "outputs": [
    {
     "data": {
      "text/plain": [
       "array([False, False, False,  True, False, False, False, False, False,\n",
       "       False,  True, False, False,  True, False, False,  True, False,\n",
       "       False, False])"
      ]
     },
     "execution_count": 76,
     "metadata": {},
     "output_type": "execute_result"
    }
   ],
   "source": [
    "(test_ndarray[:,3] >= 20) & (test_ndarray[:,1] < 60)"
   ]
  },
  {
   "cell_type": "markdown",
   "id": "b9b18ebd-d53d-4e20-9850-042ddae30bbd",
   "metadata": {},
   "source": [
    "> note: test_ndarray[:,3] >= 20 & test_ndarray[:,1] >= 60와 같이 하면 에러가 난다. 조심하자! **괄호!!!**"
   ]
  },
  {
   "cell_type": "code",
   "execution_count": 78,
   "id": "ed1b8aca-b174-4a9f-8ec3-793ecd4872bc",
   "metadata": {},
   "outputs": [
    {
     "data": {
      "text/plain": [
       "array([80, 25, 30, 10])"
      ]
     },
     "execution_count": 78,
     "metadata": {},
     "output_type": "execute_result"
    }
   ],
   "source": [
    "test_ndarray[(test_ndarray[:,3] >= 20) & (test_ndarray[:,1] < 60),-1]"
   ]
  },
  {
   "cell_type": "markdown",
   "id": "cea8beab-6c9d-4947-9973-b3259b332a53",
   "metadata": {},
   "source": [
    "- 구현난이도 어려움, 가독성 꽝.."
   ]
  },
  {
   "cell_type": "markdown",
   "id": "33fdd296-073a-420a-9f40-f4d144703918",
   "metadata": {},
   "source": [
    "`-` 예제2: `중간고사점수<기말고사점수`인 학생들의 출석점수 평균을 구하자."
   ]
  },
  {
   "cell_type": "code",
   "execution_count": 82,
   "id": "c7c75b4f-b79f-4392-ae18-106d7c07ff1f",
   "metadata": {},
   "outputs": [
    {
     "data": {
      "text/html": [
       "<div>\n",
       "<style scoped>\n",
       "    .dataframe tbody tr th:only-of-type {\n",
       "        vertical-align: middle;\n",
       "    }\n",
       "\n",
       "    .dataframe tbody tr th {\n",
       "        vertical-align: top;\n",
       "    }\n",
       "\n",
       "    .dataframe thead th {\n",
       "        text-align: right;\n",
       "    }\n",
       "</style>\n",
       "<table border=\"1\" class=\"dataframe\">\n",
       "  <thead>\n",
       "    <tr style=\"text-align: right;\">\n",
       "      <th></th>\n",
       "      <th>att</th>\n",
       "      <th>rep</th>\n",
       "      <th>mid</th>\n",
       "      <th>fin</th>\n",
       "    </tr>\n",
       "  </thead>\n",
       "  <tbody>\n",
       "    <tr>\n",
       "      <th>202212370</th>\n",
       "      <td>95</td>\n",
       "      <td>100</td>\n",
       "      <td>50</td>\n",
       "      <td>80</td>\n",
       "    </tr>\n",
       "    <tr>\n",
       "      <th>202212488</th>\n",
       "      <td>55</td>\n",
       "      <td>80</td>\n",
       "      <td>75</td>\n",
       "      <td>80</td>\n",
       "    </tr>\n",
       "    <tr>\n",
       "      <th>202212312</th>\n",
       "      <td>80</td>\n",
       "      <td>30</td>\n",
       "      <td>30</td>\n",
       "      <td>100</td>\n",
       "    </tr>\n",
       "    <tr>\n",
       "      <th>202212463</th>\n",
       "      <td>65</td>\n",
       "      <td>45</td>\n",
       "      <td>45</td>\n",
       "      <td>90</td>\n",
       "    </tr>\n",
       "    <tr>\n",
       "      <th>202212443</th>\n",
       "      <td>95</td>\n",
       "      <td>55</td>\n",
       "      <td>15</td>\n",
       "      <td>35</td>\n",
       "    </tr>\n",
       "    <tr>\n",
       "      <th>202212458</th>\n",
       "      <td>50</td>\n",
       "      <td>55</td>\n",
       "      <td>15</td>\n",
       "      <td>85</td>\n",
       "    </tr>\n",
       "    <tr>\n",
       "      <th>202212396</th>\n",
       "      <td>95</td>\n",
       "      <td>30</td>\n",
       "      <td>30</td>\n",
       "      <td>95</td>\n",
       "    </tr>\n",
       "    <tr>\n",
       "      <th>202212452</th>\n",
       "      <td>65</td>\n",
       "      <td>55</td>\n",
       "      <td>15</td>\n",
       "      <td>45</td>\n",
       "    </tr>\n",
       "    <tr>\n",
       "      <th>202212354</th>\n",
       "      <td>90</td>\n",
       "      <td>90</td>\n",
       "      <td>80</td>\n",
       "      <td>90</td>\n",
       "    </tr>\n",
       "  </tbody>\n",
       "</table>\n",
       "</div>"
      ],
      "text/plain": [
       "           att  rep  mid  fin\n",
       "202212370   95  100   50   80\n",
       "202212488   55   80   75   80\n",
       "202212312   80   30   30  100\n",
       "202212463   65   45   45   90\n",
       "202212443   95   55   15   35\n",
       "202212458   50   55   15   85\n",
       "202212396   95   30   30   95\n",
       "202212452   65   55   15   45\n",
       "202212354   90   90   80   90"
      ]
     },
     "execution_count": 82,
     "metadata": {},
     "output_type": "execute_result"
    }
   ],
   "source": [
    "df.query('mid < fin')"
   ]
  },
  {
   "cell_type": "code",
   "execution_count": 81,
   "id": "635ea202-829f-482b-8742-06e7e4d3337b",
   "metadata": {},
   "outputs": [
    {
     "data": {
      "text/plain": [
       "76.66666666666667"
      ]
     },
     "execution_count": 81,
     "metadata": {},
     "output_type": "execute_result"
    }
   ],
   "source": [
    "df.query('mid < fin')['att'].mean()"
   ]
  },
  {
   "cell_type": "markdown",
   "id": "1e86f7fa-f8b5-4d50-9c17-98c5112ec67c",
   "metadata": {},
   "source": [
    "### pandas 공부 1단계"
   ]
  },
  {
   "cell_type": "markdown",
   "id": "4caacfbb-b28a-440f-ae77-edec7d01d50a",
   "metadata": {},
   "source": [
    "#### 데이터프레임 선언"
   ]
  },
  {
   "cell_type": "markdown",
   "id": "b4bb04b7-7b2d-4430-97e5-8425d84f102b",
   "metadata": {},
   "source": [
    "`-` 방법1: dictionary에서 만든다."
   ]
  },
  {
   "cell_type": "code",
   "execution_count": null,
   "id": "a1c6b7d6-7458-47b8-9688-f823cf451234",
   "metadata": {},
   "outputs": [],
   "source": [
    "pd.DataFrame({'att':[30,40,50], 'mid':[50,60,70]}"
   ]
  }
 ],
 "metadata": {
  "kernelspec": {
   "display_name": "Python 3",
   "language": "python",
   "name": "python3"
  },
  "language_info": {
   "codemirror_mode": {
    "name": "ipython",
    "version": 3
   },
   "file_extension": ".py",
   "mimetype": "text/x-python",
   "name": "python",
   "nbconvert_exporter": "python",
   "pygments_lexer": "ipython3",
   "version": "3.8.16"
  }
 },
 "nbformat": 4,
 "nbformat_minor": 5
}
