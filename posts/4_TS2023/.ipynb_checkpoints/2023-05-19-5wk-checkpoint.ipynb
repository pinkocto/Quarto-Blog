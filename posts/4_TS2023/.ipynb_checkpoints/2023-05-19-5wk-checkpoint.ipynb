{
 "cells": [
  {
   "cell_type": "raw",
   "id": "0285f4a1-974a-455e-94f3-e3e0c4555478",
   "metadata": {},
   "source": [
    "---\n",
    "title: \" **[TS]** 5wk. PACF\" \n",
    "author: \"JiyunLim\"\n",
    "date: \"05/19/2023\"\n",
    "categories:\n",
    "    - STUDY\n",
    "    - TS\n",
    "---"
   ]
  },
  {
   "cell_type": "markdown",
   "id": "59442b81-c136-46b8-ac43-971de0bcdf86",
   "metadata": {},
   "source": [
    "# PACF"
   ]
  },
  {
   "cell_type": "markdown",
   "id": "9a3af62a-34f1-48af-8162-5fd1530a9877",
   "metadata": {},
   "source": [
    "suppose $Y_t = \\phi Y_{t-1} + \\epsilon_t, \\quad \\epsilon_t \\sim \\begin{cases} 1 & wp \\frac{1}{2} \\\\ -1 & wp \\frac{1}{2}\\end{cases}, \\text{with } \\phi=0.5$"
   ]
  },
  {
   "cell_type": "markdown",
   "id": "500b7105-0e95-4df2-84f7-07382e23addd",
   "metadata": {},
   "source": [
    "| $Y_0$|$Y_1$ | $Y_2$ |\n",
    "|----|----|----|\n",
    "| 2  | 2  | 2  |\n",
    "| 2  | 2  | 0  |\n",
    "| 2  | 0  | 1  |\n",
    "| 2  | 0  | -1 |\n",
    "| 6  | 4  | 3  |\n",
    "| 6  | 4  | 1  |\n",
    "| 6  | 2  | 2  |\n",
    "| 6  | 2  | 0  |\n",
    "| 10 | 6  | 4  |\n",
    "| 10 | 6  | 2  |\n",
    "| 10 | 4  | 3  |\n",
    "| 10 | 4  | 1  |"
   ]
  },
  {
   "cell_type": "markdown",
   "id": "4c673ee9-870e-4d29-b1e1-09cf84fd0afe",
   "metadata": {},
   "source": [
    "`-` 관찰1"
   ]
  },
  {
   "cell_type": "markdown",
   "id": "10b787ee-715f-459c-98a6-f057cf96f84b",
   "metadata": {},
   "source": [
    "$Y_0, Y_2$ : 선형관계가 있어보인다.^[$Y_0$이 증가할때 $Y_2$도 평균적으로 증가해보임.]"
   ]
  },
  {
   "cell_type": "markdown",
   "id": "3f1f64e4-1f25-4d9e-a4da-1f8715b94f0d",
   "metadata": {},
   "source": [
    "`-` 관찰2: "
   ]
  },
  {
   "cell_type": "markdown",
   "id": "1a059dc8-44e1-4f7d-80dc-78f641367ecd",
   "metadata": {},
   "source": [
    "$Y_1$을 given^[$Y_1$을 통제한다고 생각하면 됩니다.] 하면 $Y_0, Y_2$는 선형관계가 없어보인다."
   ]
  },
  {
   "cell_type": "markdown",
   "id": "ceee4a36-2c50-4848-8e62-dba947570d0f",
   "metadata": {},
   "source": [
    "(i) $Y_1=0$"
   ]
  },
  {
   "cell_type": "markdown",
   "id": "58a02ca8-c142-41fd-9f8c-c8af8c4f740f",
   "metadata": {},
   "source": [
    "| $Y_0$ | $Y_2$ | \n",
    "|----|----|\n",
    "| 2  | 1  |\n",
    "| 2  | -1  |"
   ]
  },
  {
   "cell_type": "markdown",
   "id": "4a368fe7-2b72-482f-80ff-2ab7805bc817",
   "metadata": {},
   "source": [
    "(ii) $Y_1 =2$"
   ]
  },
  {
   "cell_type": "markdown",
   "id": "69d2d38f-54f7-48b0-b18f-fd1c077ac92f",
   "metadata": {},
   "source": [
    "| $Y_0$ | $Y_2$ | \n",
    "|----|----|\n",
    "| 2  | 2  |\n",
    "| 2  | 0 |\n",
    "| 6  | 2  |\n",
    "| 6  | 0 |"
   ]
  },
  {
   "cell_type": "markdown",
   "id": "c5b01300-88e2-4bb9-9485-28eae0bb8cb7",
   "metadata": {},
   "source": [
    "(iii)$ Y_1=4$"
   ]
  },
  {
   "cell_type": "markdown",
   "id": "2ef44a59-087a-47a9-8188-c4d361271929",
   "metadata": {},
   "source": [
    "| $Y_0$ | $Y_2$|\n",
    "|----|----|\n",
    "| 6  | 3  |\n",
    "| 6  | 1 |\n",
    "| 10  | 3  |\n",
    "| 10  | 1 |"
   ]
  },
  {
   "cell_type": "markdown",
   "id": "f1f7cd0f-4c5b-4e5c-847a-ee38e7efbf3f",
   "metadata": {},
   "source": [
    "`-` 관찰3"
   ]
  },
  {
   "cell_type": "markdown",
   "id": "624b0097-0c0a-4f73-80bc-dffb9c9c0904",
   "metadata": {},
   "source": [
    "$Y_0$를 given해도  $Y_1,Y_2$는 선형관계가 있다."
   ]
  },
  {
   "cell_type": "markdown",
   "id": "d5645698-ffa0-4706-b89e-f1bbdf85e420",
   "metadata": {},
   "source": [
    "`-` 관찰4"
   ]
  },
  {
   "cell_type": "markdown",
   "id": "5c229c30-4526-48e7-9429-fbb504b90248",
   "metadata": {},
   "source": [
    "$Y_2$를 given해도 $Y_0, Y_1$은 선형관계가 있다."
   ]
  },
  {
   "cell_type": "markdown",
   "id": "e6f373d2-b5d3-4c3b-879b-5a9f1fbbb926",
   "metadata": {},
   "source": [
    "`-` 결론"
   ]
  },
  {
   "cell_type": "markdown",
   "id": "f2c311d4-37b7-4db8-872a-4ba4c282f6eb",
   "metadata": {},
   "source": [
    "$Y_0$와 $Y_2$의 **순수한 선형관계(=부분자기상관계수)** 를 구하려면 **$Y_1$을 통제**^[$Y_1$을 given, $Y_1$의 효과를 제거]해야함."
   ]
  },
  {
   "cell_type": "markdown",
   "id": "cd38b3ba-1217-45cb-a366-c888ab91a6e1",
   "metadata": {},
   "source": [
    "(예시)"
   ]
  },
  {
   "cell_type": "markdown",
   "id": "bd1331f1-9e7e-4cad-9205-f5654482549a",
   "metadata": {},
   "source": [
    "$Y_0$: 교회의수, $Y_1$: 인구 수, $Y_2$: 범죄 수"
   ]
  },
  {
   "cell_type": "markdown",
   "id": "c38c4aa5-36ed-4e28-9c01-cac9cd31d511",
   "metadata": {},
   "source": [
    "교회의 수와 인구 수는 직접적인 관련이 있는데 교회의 수와 범죄 수는 직접적인 관련이 없다."
   ]
  },
  {
   "cell_type": "markdown",
   "id": "59a55574-d35b-4acd-a0d2-d014671d6d94",
   "metadata": {},
   "source": [
    "그런데 만약 \"인구\" 라는 요인을 통제 하지않고 단순히 교회 수($Y_0$)와 인구 수($Y_2$)만 봤을 때 교회의 수가 증가할 수록 범죄 수가 증가하네? 이렇게 해석이 된다. $\\to$ 즉, 인구의 수가 같은 주들끼리 놓고 봐야한다."
   ]
  },
  {
   "cell_type": "markdown",
   "id": "aff84aa3-643a-4233-b335-4e887b8ea0f1",
   "metadata": {},
   "source": [
    "$Y_0$와 $Y_2$의 순수한 선형관계를 보고싶다면 $Y_1$을 통제해야 한다."
   ]
  },
  {
   "cell_type": "markdown",
   "id": "46bb84d8-fec0-46e9-8ea9-b0de1e7fe462",
   "metadata": {},
   "source": [
    "$Cor(Y_0,Y_2|Y_1)$"
   ]
  },
  {
   "cell_type": "code",
   "execution_count": null,
   "id": "d06190c1-183e-47f1-b257-375b43f040c1",
   "metadata": {},
   "outputs": [],
   "source": []
  }
 ],
 "metadata": {
  "kernelspec": {
   "display_name": "R",
   "language": "R",
   "name": "ir"
  },
  "language_info": {
   "codemirror_mode": "r",
   "file_extension": ".r",
   "mimetype": "text/x-r-source",
   "name": "R",
   "pygments_lexer": "r",
   "version": "4.2.2"
  }
 },
 "nbformat": 4,
 "nbformat_minor": 5
}
