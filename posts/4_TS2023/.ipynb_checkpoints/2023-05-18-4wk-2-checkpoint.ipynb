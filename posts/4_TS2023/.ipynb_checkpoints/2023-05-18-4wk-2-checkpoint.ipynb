{
 "cells": [
  {
   "cell_type": "raw",
   "id": "d354478b-4eba-4d72-b1cd-64b4fb7c6a4f",
   "metadata": {},
   "source": [
    "---\n",
    "title: \" **[TS]** 4wk-2. PACF\" \n",
    "author: \"JiyunLim\"\n",
    "date: \"05/18/2023\"\n",
    "categories:\n",
    "    - STUDY\n",
    "    - TS\n",
    "---"
   ]
  },
  {
   "cell_type": "markdown",
   "id": "37bbd342-652a-445b-a517-1b3e3c00d787",
   "metadata": {},
   "source": [
    "# PACF"
   ]
  },
  {
   "cell_type": "markdown",
   "id": "346e974c-741b-45f7-aeb3-b7e13a9ade30",
   "metadata": {},
   "source": [
    "# Motivation"
   ]
  },
  {
   "cell_type": "markdown",
   "id": "36e1842f-82dd-4f3b-b653-72b63eaf1e70",
   "metadata": {},
   "source": [
    "우선 PACF가 등장하게 된 모티브는 ACF가 아쉬운 점이 있었던 것."
   ]
  },
  {
   "cell_type": "markdown",
   "id": "72367d9f-3086-4612-a5ae-97d8229266ad",
   "metadata": {},
   "source": [
    "`-` ACF: \n",
    "\n",
    "1. 정상인 AR(p)임을 주장하는 근거.\n",
    "\n",
    "2. white-noise.^[lag=1일때만 존재하고 나머지는 다 빵.]임을 주장하는 근거.\n",
    "\n",
    "ACF의 아쉬운 점은 ACF만 가지고는 AR(1)인지 AR(2)인지 판단할 수 있는 근거가 없다. 그래서 PACF라는 개념을 만들었습니다.\n",
    "\n",
    "결론은 PACF를 활용하면 AR모형일 때  AR(1)인지 AR(2)인지 AR(3), ... 인지 판단할 수 있어요."
   ]
  },
  {
   "cell_type": "markdown",
   "id": "08849757-8c50-42ed-91a4-319682b8beb1",
   "metadata": {},
   "source": [
    "`-` 예시"
   ]
  },
  {
   "cell_type": "markdown",
   "id": "abfa2a5d-a487-46d8-aa85-8d579072898e",
   "metadata": {},
   "source": [
    "# 실습"
   ]
  },
  {
   "cell_type": "markdown",
   "id": "d17c76be-01ee-4b1c-8166-6a404efa5c3b",
   "metadata": {},
   "source": [
    "3번 문제 pacf"
   ]
  },
  {
   "cell_type": "code",
   "execution_count": 1,
   "id": "7d94009f-10f2-4214-bb5b-936b8fd2db98",
   "metadata": {},
   "outputs": [],
   "source": [
    "zt <- c(7,6,5,8,9,4,5,5,4,6,7,8,5,6,5)"
   ]
  },
  {
   "cell_type": "code",
   "execution_count": 2,
   "id": "786e289f-599d-4990-893b-d60a14f0e6c1",
   "metadata": {},
   "outputs": [
    {
     "data": {
      "text/html": [
       "<style>\n",
       ".list-inline {list-style: none; margin:0; padding: 0}\n",
       ".list-inline>li {display: inline-block}\n",
       ".list-inline>li:not(:last-child)::after {content: \"\\00b7\"; padding: 0 .5ex}\n",
       "</style>\n",
       "<ol class=list-inline><li>0.09375</li><li>-0.292610837438424</li><li>-0.0700455193966981</li><li>-0.275261299435028</li><li>-0.319266184753246</li><li>-0.0511193905120405</li><li>0.0906650359255257</li><li>-0.179143783577863</li><li>-0.0487796620350025</li><li>-0.130342878803622</li><li>0.0623391055134182</li></ol>\n"
      ],
      "text/latex": [
       "\\begin{enumerate*}\n",
       "\\item 0.09375\n",
       "\\item -0.292610837438424\n",
       "\\item -0.0700455193966981\n",
       "\\item -0.275261299435028\n",
       "\\item -0.319266184753246\n",
       "\\item -0.0511193905120405\n",
       "\\item 0.0906650359255257\n",
       "\\item -0.179143783577863\n",
       "\\item -0.0487796620350025\n",
       "\\item -0.130342878803622\n",
       "\\item 0.0623391055134182\n",
       "\\end{enumerate*}\n"
      ],
      "text/markdown": [
       "1. 0.09375\n",
       "2. -0.292610837438424\n",
       "3. -0.0700455193966981\n",
       "4. -0.275261299435028\n",
       "5. -0.319266184753246\n",
       "6. -0.0511193905120405\n",
       "7. 0.0906650359255257\n",
       "8. -0.179143783577863\n",
       "9. -0.0487796620350025\n",
       "10. -0.130342878803622\n",
       "11. 0.0623391055134182\n",
       "\n",
       "\n"
      ],
      "text/plain": [
       ", , 1\n",
       "\n",
       "             [,1]\n",
       " [1,]  0.09375000\n",
       " [2,] -0.29261084\n",
       " [3,] -0.07004552\n",
       " [4,] -0.27526130\n",
       " [5,] -0.31926618\n",
       " [6,] -0.05111939\n",
       " [7,]  0.09066504\n",
       " [8,] -0.17914378\n",
       " [9,] -0.04877966\n",
       "[10,] -0.13034288\n",
       "[11,]  0.06233911\n"
      ]
     },
     "metadata": {},
     "output_type": "display_data"
    },
    {
     "data": {
      "image/png": "[encoded data removed]",
      "text/plain": [
       "Plot with title “Series  zt”"
      ]
     },
     "metadata": {
      "image/png": {
       "height": 420,
       "width": 420
      }
     },
     "output_type": "display_data"
    }
   ],
   "source": [
    "pacf(zt)$acf"
   ]
  },
  {
   "cell_type": "code",
   "execution_count": 4,
   "id": "db4684e6-18a2-4587-9ca9-34202716273b",
   "metadata": {},
   "outputs": [
    {
     "data": {
      "text/html": [
       "<table class=\"dataframe\">\n",
       "<caption>A matrix: 3 × 3 of type dbl</caption>\n",
       "<tbody>\n",
       "\t<tr><td> 1.00000</td><td>0.09375</td><td>-0.28125</td></tr>\n",
       "\t<tr><td> 0.09375</td><td>1.00000</td><td> 0.09375</td></tr>\n",
       "\t<tr><td>-0.28125</td><td>0.09375</td><td> 1.00000</td></tr>\n",
       "</tbody>\n",
       "</table>\n"
      ],
      "text/latex": [
       "A matrix: 3 × 3 of type dbl\n",
       "\\begin{tabular}{lll}\n",
       "\t  1.00000 & 0.09375 & -0.28125\\\\\n",
       "\t  0.09375 & 1.00000 &  0.09375\\\\\n",
       "\t -0.28125 & 0.09375 &  1.00000\\\\\n",
       "\\end{tabular}\n"
      ],
      "text/markdown": [
       "\n",
       "A matrix: 3 × 3 of type dbl\n",
       "\n",
       "|  1.00000 | 0.09375 | -0.28125 |\n",
       "|  0.09375 | 1.00000 |  0.09375 |\n",
       "| -0.28125 | 0.09375 |  1.00000 |\n",
       "\n"
      ],
      "text/plain": [
       "     [,1]     [,2]    [,3]    \n",
       "[1,]  1.00000 0.09375 -0.28125\n",
       "[2,]  0.09375 1.00000  0.09375\n",
       "[3,] -0.28125 0.09375  1.00000"
      ]
     },
     "metadata": {},
     "output_type": "display_data"
    }
   ],
   "source": [
    "A<-cbind(c(1,3/32,-9/32),c(3/32,1,3/32),c(-9/32,3/32,1))\n",
    "A"
   ]
  },
  {
   "cell_type": "code",
   "execution_count": 5,
   "id": "9aff69e5-a7b7-42e3-b18d-efd7a66c4501",
   "metadata": {},
   "outputs": [
    {
     "data": {
      "text/html": [
       "<table class=\"dataframe\">\n",
       "<caption>A matrix: 3 × 3 of type dbl</caption>\n",
       "<tbody>\n",
       "\t<tr><td> 1.00000</td><td>0.09375</td><td> 0.09375</td></tr>\n",
       "\t<tr><td> 0.09375</td><td>1.00000</td><td>-0.28125</td></tr>\n",
       "\t<tr><td>-0.28125</td><td>0.09375</td><td>-0.12500</td></tr>\n",
       "</tbody>\n",
       "</table>\n"
      ],
      "text/latex": [
       "A matrix: 3 × 3 of type dbl\n",
       "\\begin{tabular}{lll}\n",
       "\t  1.00000 & 0.09375 &  0.09375\\\\\n",
       "\t  0.09375 & 1.00000 & -0.28125\\\\\n",
       "\t -0.28125 & 0.09375 & -0.12500\\\\\n",
       "\\end{tabular}\n"
      ],
      "text/markdown": [
       "\n",
       "A matrix: 3 × 3 of type dbl\n",
       "\n",
       "|  1.00000 | 0.09375 |  0.09375 |\n",
       "|  0.09375 | 1.00000 | -0.28125 |\n",
       "| -0.28125 | 0.09375 | -0.12500 |\n",
       "\n"
      ],
      "text/plain": [
       "     [,1]     [,2]    [,3]    \n",
       "[1,]  1.00000 0.09375  0.09375\n",
       "[2,]  0.09375 1.00000 -0.28125\n",
       "[3,] -0.28125 0.09375 -0.12500"
      ]
     },
     "metadata": {},
     "output_type": "display_data"
    }
   ],
   "source": [
    "A3<-cbind(c(1,3/32,-9/32),c(3/32,1,3/32),c(3/32,-9/32,-0.125))\n",
    "A3"
   ]
  },
  {
   "cell_type": "code",
   "execution_count": 6,
   "id": "3f8d656b-429f-4001-9c69-7d6cecb50925",
   "metadata": {},
   "outputs": [
    {
     "data": {
      "text/html": [
       "-0.0700455193966981"
      ],
      "text/latex": [
       "-0.0700455193966981"
      ],
      "text/markdown": [
       "-0.0700455193966981"
      ],
      "text/plain": [
       "[1] -0.07004552"
      ]
     },
     "metadata": {},
     "output_type": "display_data"
    }
   ],
   "source": [
    "det(A3)/det(A)"
   ]
  },
  {
   "cell_type": "code",
   "execution_count": 10,
   "id": "dfac119f-6a19-43ed-acb2-3bc6f0bfe802",
   "metadata": {},
   "outputs": [
    {
     "data": {
      "text/html": [
       "-0.0700455193966981"
      ],
      "text/latex": [
       "-0.0700455193966981"
      ],
      "text/markdown": [
       "-0.0700455193966981"
      ],
      "text/plain": [
       "[1] -0.07004552"
      ]
     },
     "metadata": {},
     "output_type": "display_data"
    },
    {
     "data": {
      "image/png": "[encoded data removed]",
      "text/plain": [
       "Plot with title “Series  zt”"
      ]
     },
     "metadata": {
      "image/png": {
       "height": 420,
       "width": 420
      }
     },
     "output_type": "display_data"
    }
   ],
   "source": [
    "pacf(zt)$acf[3]"
   ]
  },
  {
   "cell_type": "markdown",
   "id": "acbf3cea-72a6-4163-ae2d-efe4daaf98ad",
   "metadata": {},
   "source": [
    "- 함수를 이용해서 구한 값과 일치함을 확인!"
   ]
  }
 ],
 "metadata": {
  "kernelspec": {
   "display_name": "R",
   "language": "R",
   "name": "ir"
  },
  "language_info": {
   "codemirror_mode": "r",
   "file_extension": ".r",
   "mimetype": "text/x-r-source",
   "name": "R",
   "pygments_lexer": "r",
   "version": "4.2.2"
  }
 },
 "nbformat": 4,
 "nbformat_minor": 5
}
