{
 "cells": [
  {
   "cell_type": "raw",
   "id": "53951b8c-dc32-4af0-8640-a59951f32cef",
   "metadata": {},
   "source": [
    "---\n",
    "title: \" **[TS]** 1wk. 확률\" \n",
    "author: \"JiyunLim\"\n",
    "date: \"05/10/2023\"\n",
    "categories:\n",
    "    - STUDY\n",
    "    - TS\n",
    "---"
   ]
  },
  {
   "cell_type": "markdown",
   "id": "23e95c87-3dd1-4e81-aeb2-d1c3702de59e",
   "metadata": {},
   "source": [
    "> 확률 $\\to$ 확률변수 $\\to$ 확률과정 $\\to$ 시계열"
   ]
  },
  {
   "cell_type": "markdown",
   "id": "18cf7209-e5ba-494d-864e-090a42c8ca8a",
   "metadata": {},
   "source": [
    "## Ex1. 동전던지기"
   ]
  },
  {
   "cell_type": "markdown",
   "id": "2ff19a52-f564-4786-b963-bbadf5888117",
   "metadata": {},
   "source": [
    "- $\\Omega = \\{H,T\\}$: sample space\n",
    "\n",
    "- $P(\\{H\\}) = P(\\{T\\}) = \\frac{1}{2}$: prob\n",
    "\n",
    "- $\\Omega$의 모든(=임의의) 부분집합 $\\Omega^*$에 대하여 $P(\\Omega^*)$을 **모순없이** 정의할 수 있어야함."
   ]
  },
  {
   "cell_type": "markdown",
   "id": "66605d71-c541-475e-9c8f-52a2ab6d5100",
   "metadata": {},
   "source": [
    "`-` 질문: $\\Omega$의 임의의 부분집합 $\\Omega^*$에 대하여 $P(\\Omega^*)$를 **모순없이** 정의할 수 있을까?"
   ]
  },
  {
   "cell_type": "markdown",
   "id": "3067b657-ad86-4686-9ab7-40cd3beef0bb",
   "metadata": {},
   "source": [
    "- 당연한거 아냐?\n",
    "- 이게 왜 안돼?"
   ]
  },
  {
   "cell_type": "markdown",
   "id": "f38537ef-2b3d-4243-a59f-9798756c1b2d",
   "metadata": {},
   "source": [
    "`-` 질문에 대한 대답"
   ]
  },
  {
   "cell_type": "markdown",
   "id": "004f3258-c5e2-4105-8495-772d74ccde3c",
   "metadata": {},
   "source": [
    "즉, $\\Omega$의 부분집합: $\\emptyset, \\Omega, \\{H\\}, \\{T\\}$에 대해 $P(\\emptyset)=0, P(\\Omega)=1, P(\\{H\\})=1/2, P(\\{T\\})=1/2$ 이런식으로 정의할 수 있어야 된다는 뜻이다."
   ]
  },
  {
   "cell_type": "markdown",
   "id": "4a6e1e50-abbf-4ad8-83ab-50e880522f36",
   "metadata": {},
   "source": [
    "`-` **모순없이** 의 의미?"
   ]
  },
  {
   "cell_type": "markdown",
   "id": "3fb8e980-099d-4cd4-90a0-016ddaaf3558",
   "metadata": {},
   "source": [
    "- 우리가 상식적으로 확률에 적용가능한 어떠한 연산들이 있음. (확률의 공리 + 기본성질)\n",
    "- 이러한 연산을 적용해도 상식적인 수준에서 납득이 가야함."
   ]
  },
  {
   "cell_type": "markdown",
   "id": "40abacb0-8343-4ced-befe-8ffe85a35cb7",
   "metadata": {},
   "source": [
    "### 확률의 성질"
   ]
  },
  {
   "cell_type": "markdown",
   "id": "168867a7-9ed7-47be-96b7-01f6d9062e90",
   "metadata": {},
   "source": [
    "$P(\\emptyset)=0, P(\\Omega)=1, P(\\{H\\})=1/2, P(\\{T\\})=1/2$"
   ]
  },
  {
   "cell_type": "markdown",
   "id": "b583a494-5612-44f4-946b-d6f2a6a95757",
   "metadata": {},
   "source": [
    "- $\\emptyset \\subset \\{H\\} \\Rightarrow P(\\emptyset)<P(\\{H\\})$"
   ]
  },
  {
   "cell_type": "markdown",
   "id": "dd98c38d-0273-44fa-98a7-085a5d82bdfb",
   "metadata": {},
   "source": [
    "- $\\begin{align*} \\{H\\} \\cap \\{T\\} = \\emptyset &\\Rightarrow P(\\{H\\} \\cup \\{T\\}) = P(\\Omega)=1 \\\\ &=P(\\{H\\}) +P(\\{T\\})=1\\end{align*}$"
   ]
  },
  {
   "cell_type": "markdown",
   "id": "683ddda8-bc43-493c-8809-6e111abed095",
   "metadata": {},
   "source": [
    "- $\\begin{align*}\\Omega - \\{H\\} = \\{T\\} &\\Rightarrow P(\\Omega-\\{H\\}) = P(\\{T\\})=1/2 \\\\ &=P(\\Omega)-P(\\{H\\})=1/2\\end{align*}$ "
   ]
  },
  {
   "cell_type": "markdown",
   "id": "21377732-a3a1-4568-9ffc-0a8b525fc0b4",
   "metadata": {},
   "source": [
    "> 모순없이 잘 정의되었다. 왜 확률을 정의하는 것이 어렵다는 걸까? $\\to$ 앞의 예제에서는 $\\Omega$의 원소가 유한인 경우이지만 무한이라면 확률을 정의하기 쉽지 않다."
   ]
  },
  {
   "cell_type": "markdown",
   "id": "42c88278-eecc-4363-86e3-cf8f9a3a2aef",
   "metadata": {},
   "source": [
    "## Ex2. 바늘이 하나만 있는 시계"
   ]
  },
  {
   "cell_type": "markdown",
   "id": "f3119d70-9dd0-4e67-b524-49923f1f8211",
   "metadata": {},
   "source": [
    ">시계바늘을 돌려서 나오는 각도를 재는 일 $\\Leftrightarrow$ $[0,2\\pi)$ 사이의 숫자중에 하나를 뽑는 일"
   ]
  },
  {
   "cell_type": "markdown",
   "id": "cabef39e-cca2-4602-93bb-ea0ca64ad3fe",
   "metadata": {},
   "source": [
    "Sample space: $\\Omega = [0,2\\pi]$\n",
    "\n",
    "Prob: $\\forall \\Omega^* \\subset \\Omega, \\quad P(\\Omega^*)=\\frac{m(\\Omega^*)}{m(\\Omega)}$"
   ]
  },
  {
   "cell_type": "markdown",
   "id": "1906ff9e-8fef-43ab-bc71-ef0c53356d35",
   "metadata": {},
   "source": [
    "`-` 질문: 바늘을 랜덤으로 돌렸을 때 12시-6시 사이에 바늘이 있을 확률? $\\frac{1}{2}$"
   ]
  },
  {
   "cell_type": "markdown",
   "id": "3a58a2be-3003-49d9-b872-d02dfb3ec938",
   "metadata": {},
   "source": [
    "$\\Omega$의 부분집합을 $\\Omega^*$라 하자."
   ]
  },
  {
   "cell_type": "markdown",
   "id": "c8fc8d2e-3a5e-4341-ba4d-4e56c9a67e09",
   "metadata": {},
   "source": [
    "- $\\Omega^* = [0,\\pi)$\n",
    "- $P(\\Omega^*)= \\frac{1}{2}$"
   ]
  },
  {
   "cell_type": "markdown",
   "id": "27d055c8-5eba-426e-b84d-466c5a9ea4f7",
   "metadata": {},
   "source": [
    "$\\forall \\Omega^* \\subset \\Omega, \\quad P(\\Omega^*)=\\frac{m(\\Omega^*)}{m(\\Omega)}$\n"
   ]
  },
  {
   "cell_type": "markdown",
   "id": "41fa9b23-c9d7-43bb-96ef-6806303a7a33",
   "metadata": {},
   "source": [
    "단, 여기에서 $m$은 구간의 길이를 재는 함수."
   ]
  },
  {
   "cell_type": "markdown",
   "id": "af4bc367-a9d4-4ea1-995e-571a8c58281a",
   "metadata": {},
   "source": [
    "**연습** : $m$의 사용\n",
    "- $m(\\Omega)=m\\big([0,2\\pi)\\big)=2\\pi$\n",
    "- $m(\\Omega^*) = m\\big([0,\\pi)\\big)= \\pi$"
   ]
  },
  {
   "cell_type": "markdown",
   "id": "48d03776-f7b7-4eba-b3be-1f7d9e4275b8",
   "metadata": {},
   "source": [
    "`-` 위와 같은 방식으로 확률을 정의하면 잘 정의될까? 이게 쉽지 않음. 왜냐하면 확률을 잘 정의하기 위해서는 "
   ]
  },
  {
   "cell_type": "markdown",
   "id": "34c01199-0bd0-41aa-8fea-5fef38f1b4d3",
   "metadata": {},
   "source": [
    "> $\\Omega$의 모든 부분집합 $\\Omega^*$에 대하여 $P(\\Omega^*)$를 모순없이 정의할 수 있어야하는데, 이게 쉬운일이 아님."
   ]
  },
  {
   "cell_type": "markdown",
   "id": "7c9c24d8-e160-4a3c-b3f7-74efcbc25d15",
   "metadata": {},
   "source": [
    "### `-` ***도전적 질문***"
   ]
  },
  {
   "cell_type": "markdown",
   "id": "30a92611-cdd7-498e-8330-6bfdf9fb5299",
   "metadata": {},
   "source": [
    "- $\\emptyset\\subset \\Omega, \\quad P(\\Omega)=0$\n",
    "- $[0,\\pi) \\subset \\Omega, \\quad \\frac{m([0,\\pi)}{m([0,2\\pi))}=\\frac{0}{2\\pi}=0$"
   ]
  },
  {
   "cell_type": "markdown",
   "id": "78b43289-68c6-43db-88c4-8c27a2305fb2",
   "metadata": {},
   "source": [
    "`질문1` $\\{0\\} \\subset \\Omega, \\quad P(\\{0\\})=\\frac{m(\\{0\\})}{m([0,2\\pi))}=\\frac{0}{2\\pi}=0$ \n",
    "- 점 하나의 길이는 $0$??\n",
    "\n",
    "왜 $0$이지? 점은 원래 길이가 없는데 굳이 재야한다면 $0$이라고 대답한다. 찝찝하지만 여기까지는 별 문제가 없다."
   ]
  },
  {
   "cell_type": "markdown",
   "id": "d6399751-3624-4e32-b9b8-92e11c59ed79",
   "metadata": {},
   "source": [
    "`질문2`  $\\emptyset \\subset \\{0\\} \\Rightarrow P(\\emptyset) \\leq P(\\{0\\})$"
   ]
  },
  {
   "cell_type": "markdown",
   "id": "d3a71008-cada-4276-898e-287415757110",
   "metadata": {},
   "source": [
    "우측 부등호에 등호를 넣어줌으로써 디펜스"
   ]
  },
  {
   "cell_type": "markdown",
   "id": "44ae473f-a3b4-4a15-bfa6-3ac71c4d31c2",
   "metadata": {},
   "source": [
    "`질문3`  $\\{0,1\\} \\subset \\Omega \\Rightarrow P(\\{0,1\\})=P(\\{0\\}) + P(\\{1\\})=0+0=0$"
   ]
  },
  {
   "cell_type": "markdown",
   "id": "4d95df02-c92e-4ada-bb9e-0647747d08d1",
   "metadata": {},
   "source": [
    "- $\\{0,1\\} = \\{0\\} \\cup \\{1\\}$\n",
    "- $\\{0\\} \\cap \\{1\\} = \\emptyset$"
   ]
  },
  {
   "cell_type": "markdown",
   "id": "147694a1-5238-4dcc-b04c-34eea32ebbdf",
   "metadata": {},
   "source": [
    "`질문4` $[0,2\\pi)=$ 무수히 많은 점들의 집합\n",
    "\n",
    "- **<font color='blue'>무수히 많은 것도 끕이 있다. (countable many, uncountable many)</font>**\n",
    "- 유리수 정도로 무수히 많은 것 $\\to$ `countable many`\n",
    "- 무리수 정도로 무수히 많은 것 $\\to$ `uncountable many`"
   ]
  },
  {
   "cell_type": "markdown",
   "id": "5b7b854f-7cd7-4e55-b333-755c90a04945",
   "metadata": {},
   "source": [
    "무수히 많은 점들의 집합이라고 하면 둘 중 뭔지 모르겠지만, 다 더해서 길이가 있다는 것은 **uncountable many** 겠지?"
   ]
  },
  {
   "cell_type": "markdown",
   "id": "ee6a7ead-8276-4073-9e8e-6ea3dac9c58d",
   "metadata": {},
   "source": [
    "- 점 하나의 길이 $= 0$\n",
    "- $0$을 무한번 더해도 $0$\n",
    "- $[0,2\\pi)$의 길이 $= 0+0+0+\\dots = 0?$ **<font color='red'> $\\Rightarrow 2\\pi$ </font>**"
   ]
  },
  {
   "cell_type": "markdown",
   "id": "a5b0776a-b67a-4f53-a11c-22417205aa53",
   "metadata": {},
   "source": [
    "논리전개는 틀린게 없어보이는데 말이 안됨. $[0,2\\pi)$ 의 길이는 $2\\pi$ 아냐?"
   ]
  },
  {
   "cell_type": "markdown",
   "id": "d867b241-6216-45c4-886b-6c8d8f2313e7",
   "metadata": {},
   "source": [
    "> ***디펜스*** : 무한번 더해도 $0$ 여기를 걸고 넘어지자. 점을 하나 합쳐도 점, 두개 합쳐도 점, 3개 합쳐도 점인데 무한번 합치면? 점이 선이 될 수 있잖아, 그런데 선은 길이가 될 수 있다고 했잖아. 그러니까 $2\\pi$가 되는거야! "
   ]
  },
  {
   "cell_type": "markdown",
   "id": "6a965c24-4ee0-462c-b40a-b146405650a1",
   "metadata": {},
   "source": [
    "> 유한번 더하면 $0$이 맞는데 무한번 더하면 달라지는거야"
   ]
  },
  {
   "cell_type": "markdown",
   "id": "0f07f889-6e34-4a88-89c6-e03a26ed74de",
   "metadata": {},
   "source": [
    "`질문5` $A = [0,2\\pi) \\cap \\mathbb{Q}$"
   ]
  },
  {
   "cell_type": "markdown",
   "id": "2e093894-70d9-4497-bcac-fa2f4a9bbeaa",
   "metadata": {},
   "source": [
    "> 결론: $0$도 아니고, $2\\pi$도 아니야.."
   ]
  },
  {
   "cell_type": "markdown",
   "id": "77e4b438-5355-4b0b-9ac9-e39b6d87f391",
   "metadata": {},
   "source": [
    "$A$의 원소는 무한개, $m(A) = 2\\pi$\n",
    "\n",
    "$A' = [0,2\\pi) \\cap (\\mathbb{R} - \\mathbb{Q})$, $\\quad(\\mathbb{R} - \\mathbb{Q})$ : 무리수 집합\n",
    "\n",
    "$m(A') = ?$"
   ]
  },
  {
   "cell_type": "markdown",
   "id": "c795bfe8-786a-47da-8311-b7e50634f6e4",
   "metadata": {},
   "source": [
    "$P(A\\cup A') = P(A) + P(A') = \\frac{m(A)}{m(\\Omega)}+\\frac{m(A')}{m(\\Omega)}$"
   ]
  },
  {
   "cell_type": "markdown",
   "id": "c04a0736-c4ea-485d-8dc6-3352faaf47eb",
   "metadata": {},
   "source": [
    "이렇게 되면 $m(A')=0$ 이라는 소리인데 이건 말이안돼.. 무리수가 더 많고 무한개 더했는데??"
   ]
  },
  {
   "cell_type": "markdown",
   "id": "998dd085-c4ee-4667-b30a-0d6a44e1e207",
   "metadata": {},
   "source": [
    "그럼 결론은 $A$의 길이를 $2\\pi$ 라고 대답못해.. 근데 또 $0$이라고 할 수도 없는데? 에매하게 대답할 수밖에."
   ]
  },
  {
   "cell_type": "markdown",
   "id": "10f2f977-3192-4d99-aa1f-f4658d6697e9",
   "metadata": {},
   "source": [
    "***디펜스***\n",
    "\n",
    "- $A$의 원소는 무한개\n",
    "- $m(A) = a$  **<font color='red'>$\\rightarrow$그냥 $0$ 이야</font>**, $\\quad 0<a<2\\pi$ (구체적으로 $a$가 뭔지는 나도 몰라.)\n",
    "- $m(A') = 2\\pi -a$"
   ]
  },
  {
   "cell_type": "markdown",
   "id": "8ccddb79-2977-41b7-8cf2-bc17d5b73638",
   "metadata": {},
   "source": [
    "유리수만 뽑으면 길이가 $a$야. 그럼 무리수만 뽑으면 $2\\pi-a$ 겠지? 이렇게 디펜스를 하고 넘어가자.."
   ]
  },
  {
   "cell_type": "markdown",
   "id": "4e6d9e08-3691-44af-87d0-f7a7f47a1387",
   "metadata": {},
   "source": [
    "`질문6` **<font color='red'>디펜스 불가능한 질문</font>**\n",
    "\n",
    "- $A=[0,\\pi) \\cap \\mathbb{Q}$\n",
    "- $A' = A \\oplus \\frac{\\pi}{2}$ ($A$를 $\\frac{\\pi}{2}$만큼 평행이동한 집합을 $A'$라고 하자.)"
   ]
  },
  {
   "attachments": {
    "aeb179b9-e065-4025-8618-b1c2ff1271eb.png": {
     "image/png": "[encoded data removed]"
    }
   },
   "cell_type": "markdown",
   "id": "857698b0-f129-4891-a8ba-4bea4afcf39b",
   "metadata": {},
   "source": [
    "![](attachment:aeb179b9-e065-4025-8618-b1c2ff1271eb.png)"
   ]
  },
  {
   "cell_type": "markdown",
   "id": "75fe5914-0be5-4118-959f-53331390598c",
   "metadata": {},
   "source": [
    "- $A$의 모든원소: 유리수 $\\to$ **<font color='red'>유리수 다 더하면 길이가 빵!</font>**\n",
    "- $A'$의 모든 원소: 무리수 $\\to$ **<font color='red'>$[0,2\\pi)$ 구간 안에 있는 값들을 다 포함해야지 길이가 생긴다. 고로 무리수여도 이건 길이가 빵! </font>**\n",
    "\n",
    "***<font color='blue'>유리수 만큼의 길이를 평행이동 한거니까 그냥 유리수 숫자만큼의 무리수가 생긴 것 뿐</font>***\n",
    "\n",
    "$\\Rightarrow A\\cap A' = \\emptyset$ ($A$와 $A'$은 서로소)"
   ]
  },
  {
   "cell_type": "markdown",
   "id": "c926c19f-ebd4-40fe-9df9-c48d9b4cb9e3",
   "metadata": {},
   "source": [
    "그럼 $P(A\\cup A') = P(A) + P(A') = \\frac{m(A)}{m(\\Omega)}+\\frac{m(A')}{m(\\Omega)}$이 성립한다."
   ]
  },
  {
   "cell_type": "markdown",
   "id": "bf20f7ff-34e8-4c56-a02a-702bd04497ab",
   "metadata": {},
   "source": [
    "$= \\frac{m(A)}{2\\pi}+\\frac{m(A')}{2\\pi}= \\frac{a/2}{2\\pi}+\\frac{a/2}{2\\pi}=\\frac{a}{2\\pi}$"
   ]
  },
  {
   "cell_type": "markdown",
   "id": "32510ad5-4ef7-4eba-9690-6a16785794de",
   "metadata": {},
   "source": [
    "결국 종합하면, $m(A) + m(A') = a$라는 소린데"
   ]
  },
  {
   "cell_type": "markdown",
   "id": "6d2ad0c0-59db-4c8b-b4f2-fa014ead8875",
   "metadata": {},
   "source": [
    "그림을 참고해서 직접 계산해보면 각각의 길이에 겹치는 부분의 길이를 뺀 $\\frac{a}{2}+\\frac{a}{2}-\\frac{a}{4}=\\frac{3}{4}a$일 것 같은데, $a$라고 주장하고 있는것이다."
   ]
  },
  {
   "cell_type": "markdown",
   "id": "0f9a5f5a-6542-407d-a892-9d5225ab64d2",
   "metadata": {},
   "source": [
    "우리가 알고있는 길이 상식과는 다르다. **모순발생!**"
   ]
  },
  {
   "cell_type": "markdown",
   "id": "95d75d86-e45e-4669-8319-ee24d5bd0778",
   "metadata": {},
   "source": [
    "***이건 디펜스가 불가능한 질문이다. 즉, 지금까지 했던 말이 다 거짓!! 확률을 이렇게 $\\frac{m(\\Omega^*)}{m(\\Omega)}$정의하는 것부터가 말이 안됨. 이렇게 정의할 수 없다.***"
   ]
  },
  {
   "cell_type": "markdown",
   "id": "26aecf42-598f-40a0-aa82-6c6bac644128",
   "metadata": {},
   "source": [
    "## 약속: 받아들이기^^"
   ]
  },
  {
   "cell_type": "markdown",
   "id": "e6f6306b-4ab3-4c5b-84f5-0d4502c76653",
   "metadata": {},
   "source": [
    "`(i)` 한 점에 대한 길이는 $0$\n",
    "\n",
    "`(ii)` $[0,2\\pi)$ 사이의 모든 유리수를 합친 집합의 길이$=0$\n",
    "- 아까 무한히 점을 더하면 선이된다? 다 없는소리.. (유한한 점을 더하면 길이가 0이된다.)"
   ]
  },
  {
   "cell_type": "markdown",
   "id": "82a0b7d7-c71f-46ec-a5ad-75d44656592f",
   "metadata": {},
   "source": [
    "`(iii)` $[0,2\\pi)$ 사이의 모든 무리수를 합친 집합의 길이$=2\\pi$"
   ]
  },
  {
   "cell_type": "markdown",
   "id": "9c38ef44-e442-449c-9e11-b1e9d2902ab2",
   "metadata": {},
   "source": [
    "> 위의 내용은 Measure Theory의 내용입니다. 그냥 받아들입시다~"
   ]
  },
  {
   "cell_type": "markdown",
   "id": "b8ce22a1-ead8-47cf-b6e4-955faa2ab5fe",
   "metadata": {},
   "source": [
    "***<font color='blue'>이제 모든 질문들에 대해서 깔끔하게 디펜스가 된다. </font>***"
   ]
  },
  {
   "cell_type": "markdown",
   "id": "94d6872b-092c-4901-baeb-6c0523200731",
   "metadata": {},
   "source": [
    "이제 이 정의가 다시 살아나게 된다.  $\\{0\\} \\subset \\Omega, \\quad P(\\{0\\})=\\frac{m(\\{0\\})}{m([0,2\\pi))}=\\frac{0}{2\\pi}=0$ "
   ]
  },
  {
   "cell_type": "markdown",
   "id": "93a0b985-6b92-49f8-8abb-a553dfb60677",
   "metadata": {},
   "source": [
    "### 주장 (X) : 틀린주장"
   ]
  },
  {
   "cell_type": "markdown",
   "id": "117ea3d5-e859-4dbb-8980-e9cfa6ff853f",
   "metadata": {},
   "source": [
    "위의 3가지 원리. 즉 (i)-(iii)를 사용하면(=받아들이면) $[0,2\\pi)$의 어떤 부분집합 $\\Omega^*$에 대해서도 $\\Omega^*$의 길이를 모순없이 정의할 수 있다."
   ]
  },
  {
   "cell_type": "markdown",
   "id": "191f1a7f-6a36-4a81-bd27-300f15124112",
   "metadata": {},
   "source": [
    "***길이를 잴 수 없는 집합이 존재함*** : 비탈리 집합"
   ]
  }
 ],
 "metadata": {
  "kernelspec": {
   "display_name": "R",
   "language": "R",
   "name": "ir"
  },
  "language_info": {
   "codemirror_mode": "r",
   "file_extension": ".r",
   "mimetype": "text/x-r-source",
   "name": "R",
   "pygments_lexer": "r",
   "version": "4.2.2"
  }
 },
 "nbformat": 4,
 "nbformat_minor": 5
}
