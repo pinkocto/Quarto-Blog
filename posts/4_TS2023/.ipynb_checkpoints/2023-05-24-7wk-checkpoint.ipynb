{
 "cells": [
  {
   "cell_type": "raw",
   "id": "ba96a0b1-8655-4447-8bc9-1fd986a6ff50",
   "metadata": {},
   "source": [
    "---\n",
    "title: \" **[TS]** 7wk. 5~6장 연습문제 (Ongoing) \" \n",
    "author: \"jiyunLim\"\n",
    "date: \"05/24/2023\"\n",
    "categories:\n",
    "    - STUDY\n",
    "    - TS\n",
    "---"
   ]
  },
  {
   "cell_type": "markdown",
   "id": "8ea89dfa-2875-4773-adf2-f9bb360f62aa",
   "metadata": {},
   "source": [
    "## 5.1 확률과정 $\\{Z_t\\}$는 정상성을 갖는가?"
   ]
  },
  {
   "cell_type": "markdown",
   "id": "4b67db90-80ed-4fb1-9893-edd13dc15835",
   "metadata": {},
   "source": [
    "### (a)"
   ]
  },
  {
   "cell_type": "markdown",
   "id": "4cc6d41f-fc46-4b94-8e5c-11c2aea5c49c",
   "metadata": {},
   "source": [
    "(a) $Z_t = \\epsilon_t + \\epsilon_{t-1} -\\epsilon_{t-2}, \\quad \\{\\epsilon_t\\}$는 WN(0,1)이다. "
   ]
  },
  {
   "cell_type": "markdown",
   "id": "ff43b64d-0190-4366-9e21-72c6bb237c5c",
   "metadata": {},
   "source": [
    "유한차수 MA모델은 정상임."
   ]
  },
  {
   "cell_type": "markdown",
   "id": "8fe4d794-a191-42ce-a2a4-39216a65c282",
   "metadata": {},
   "source": [
    "### (b)"
   ]
  },
  {
   "cell_type": "markdown",
   "id": "f05e1962-e95e-49d2-8b74-b13f1c620a98",
   "metadata": {},
   "source": [
    "(b) $Z_t \\overset{d}{=}\\epsilon_t\\epsilon_{t-1}+\\epsilon_{t}$"
   ]
  },
  {
   "cell_type": "markdown",
   "id": "19310ae5-f0a8-4459-991d-b2d42299e873",
   "metadata": {},
   "source": [
    "$\\eta_t \\overset{d}{=} \\epsilon_t\\epsilon_{t-1} + \\epsilon_t$"
   ]
  },
  {
   "cell_type": "markdown",
   "id": "e65b2821-3257-4e7e-ba1e-e38214096802",
   "metadata": {},
   "source": [
    "$\\eta_t, \\eta_{t-1},\\dots, \\eta_{t-h} \\Rightarrow$ 독립이고 분포가 같다."
   ]
  },
  {
   "cell_type": "markdown",
   "id": "37bcb44d-0e73-4cc7-aadc-52572bb5623d",
   "metadata": {},
   "source": [
    "따라서 $Z_t$는 정상"
   ]
  },
  {
   "cell_type": "markdown",
   "id": "fc6363b2-54cb-4044-84ed-d50943096747",
   "metadata": {},
   "source": [
    "### (g)"
   ]
  },
  {
   "cell_type": "markdown",
   "id": "7fed8179-d404-4288-9faf-f3fcda214cd5",
   "metadata": {},
   "source": [
    "(g) $Z_t = \\epsilon_t-350\\epsilon_{t-1}, \\quad \\{\\epsilon_t\\}$는 $WN(0,2)$"
   ]
  },
  {
   "cell_type": "markdown",
   "id": "fd227c13-ec93-4521-9d9f-1768578cab01",
   "metadata": {},
   "source": [
    "유한차수 MA $\\Rightarrow$ 정상."
   ]
  },
  {
   "cell_type": "markdown",
   "id": "4652e355-5128-46f4-848f-d848b77a4c86",
   "metadata": {},
   "source": [
    "### (j) ARMA"
   ]
  },
  {
   "cell_type": "markdown",
   "id": "e291f3ff-043e-4136-bba7-70a5dc08445c",
   "metadata": {},
   "source": [
    "(j) $Z_t = 0.8Z_{t-1} + \\epsilon_t -0.5\\epsilon_{t-1}$"
   ]
  },
  {
   "cell_type": "markdown",
   "id": "ddb593af-c5e6-497b-a525-f323dc002027",
   "metadata": {},
   "source": [
    "MA부분 무시하고 AR부분 정상성 체크 $\\to$ 0.8 < 1 이므로 정상"
   ]
  },
  {
   "cell_type": "markdown",
   "id": "14b89a1d-1c09-47b4-a758-1e43d5ab863a",
   "metadata": {},
   "source": [
    "MA부분은 유한차수이므로 정상"
   ]
  },
  {
   "cell_type": "markdown",
   "id": "7852fd7f-c176-4e0c-a636-c59ef0217ab2",
   "metadata": {},
   "source": [
    "$\\Rightarrow$ 정상"
   ]
  }
 ],
 "metadata": {
  "kernelspec": {
   "display_name": "R",
   "language": "R",
   "name": "ir"
  },
  "language_info": {
   "codemirror_mode": "r",
   "file_extension": ".r",
   "mimetype": "text/x-r-source",
   "name": "R",
   "pygments_lexer": "r",
   "version": "4.2.2"
  }
 },
 "nbformat": 4,
 "nbformat_minor": 5
}
