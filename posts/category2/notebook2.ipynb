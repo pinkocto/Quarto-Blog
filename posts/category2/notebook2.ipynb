{
 "cells": [
  {
   "cell_type": "raw",
   "id": "caf3768f",
   "metadata": {},
   "source": [
    "---\n",
    "title: \"test: quarto test2\"\n",
    "author: \"임지윤\"\n",
    "date: \"01/23/2023\"\n",
    "categories:\n",
    "  - test\n",
    "---\n"
   ]
  },
  {
   "cell_type": "code",
   "execution_count": 2,
   "id": "70abef71",
   "metadata": {},
   "outputs": [
    {
     "data": {
      "text/plain": [
       "22"
      ]
     },
     "execution_count": 2,
     "metadata": {},
     "output_type": "execute_result"
    }
   ],
   "source": [
    "22"
   ]
  }
 ],
 "metadata": {
  "kernelspec": {
   "display_name": "Python 3 (ipykernel)",
   "language": "python",
   "name": "python3"
  },
  "language_info": {
   "codemirror_mode": {
    "name": "ipython",
    "version": 3
   },
   "file_extension": ".py",
   "mimetype": "text/x-python",
   "name": "python",
   "nbconvert_exporter": "python",
   "pygments_lexer": "ipython3",
   "version": "3.8.13"
  }
 },
 "nbformat": 4,
 "nbformat_minor": 5
}
