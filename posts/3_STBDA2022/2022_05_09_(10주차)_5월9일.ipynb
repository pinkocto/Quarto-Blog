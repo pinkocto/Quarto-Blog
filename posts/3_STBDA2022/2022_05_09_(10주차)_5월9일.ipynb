{
 "cells": [
  {
   "cell_type": "raw",
   "id": "3a45c1ee-90ce-4909-9459-21702b42614f",
   "metadata": {},
   "source": [
    "---\n",
    "title: \"**[STBDA]** 10wk. Softmax / 다양한 평가지표 \" \n",
    "author: \"JiyunLim\"\n",
    "date: \"05/28/2023\"\n",
    "categories:\n",
    "    - 빅데이터분석특강\n",
    "---"
   ]
  },
  {
   "cell_type": "markdown",
   "id": "eca2b148-a91b-4ecc-9456-863de8d93cff",
   "metadata": {
    "id": "eca2b148-a91b-4ecc-9456-863de8d93cff"
   },
   "source": [
    "## 강의영상"
   ]
  },
  {
   "cell_type": "markdown",
   "id": "c3714d35-e319-4548-b2e5-c4fce4fe186d",
   "metadata": {
    "id": "c3714d35-e319-4548-b2e5-c4fce4fe186d"
   },
   "source": [
    "> youtube: https://youtube.com/playlist?list=PLQqh36zP38-zvc1QWi-Li-2GAeW91oicn"
   ]
  },
  {
   "cell_type": "markdown",
   "id": "c4f6e19b-33d5-457d-80e8-dca53a886c8b",
   "metadata": {
    "id": "c4f6e19b-33d5-457d-80e8-dca53a886c8b"
   },
   "source": [
    "## imports"
   ]
  },
  {
   "cell_type": "code",
   "execution_count": 1,
   "id": "0cfeb127-a213-48dd-a815-12298b527b46",
   "metadata": {
    "id": "0cfeb127-a213-48dd-a815-12298b527b46"
   },
   "outputs": [],
   "source": [
    "import tensorflow as tf\n",
    "import matplotlib.pyplot as plt\n",
    "import numpy as np\n",
    "import tensorflow.experimental.numpy as tnp"
   ]
  },
  {
   "cell_type": "code",
   "execution_count": 2,
   "id": "7940de87-5af9-4414-8df2-5dbcb45cb57c",
   "metadata": {
    "id": "7940de87-5af9-4414-8df2-5dbcb45cb57c"
   },
   "outputs": [],
   "source": [
    "tnp.experimental_enable_numpy_behavior()"
   ]
  },
  {
   "cell_type": "code",
   "execution_count": 3,
   "id": "0be75889-ad55-4212-a7a5-5e7df3dd3fe4",
   "metadata": {},
   "outputs": [
    {
     "data": {
      "text/plain": [
       "[PhysicalDevice(name='/physical_device:CPU:0', device_type='CPU')]"
      ]
     },
     "execution_count": 3,
     "metadata": {},
     "output_type": "execute_result"
    }
   ],
   "source": [
    "tf.config.experimental.list_physical_devices()"
   ]
  },
  {
   "cell_type": "code",
   "execution_count": 4,
   "id": "57a9ce84-9d59-4927-90b1-4e0e2f0fc41e",
   "metadata": {
    "id": "57a9ce84-9d59-4927-90b1-4e0e2f0fc41e"
   },
   "outputs": [],
   "source": [
    "import graphviz\n",
    "def gv(s): return graphviz.Source('digraph G{ rankdir=\"LR\"'+ s + ';}')"
   ]
  },
  {
   "cell_type": "markdown",
   "id": "6af42d55-ef62-474f-8eab-f8caa9ba8593",
   "metadata": {
    "id": "6af42d55-ef62-474f-8eab-f8caa9ba8593"
   },
   "source": [
    "## softmax function"
   ]
  },
  {
   "cell_type": "markdown",
   "id": "cafc45fe-2917-4925-aa7a-c33cb29753ea",
   "metadata": {
    "id": "cafc45fe-2917-4925-aa7a-c33cb29753ea"
   },
   "source": [
    "### 로지스틱 모형 (1): 활성화함수로 sigmoid 선택"
   ]
  },
  {
   "cell_type": "markdown",
   "id": "a4e403b1-0fc2-428e-abde-daf0630d98fe",
   "metadata": {
    "id": "a4e403b1-0fc2-428e-abde-daf0630d98fe"
   },
   "source": [
    "`-` 기본버전은 아래와 같다"
   ]
  },
  {
   "cell_type": "markdown",
   "id": "6805f22f-a786-49f4-ae76-99c6022c6571",
   "metadata": {
    "id": "6805f22f-a786-49f4-ae76-99c6022c6571"
   },
   "source": [
    "$$y_i \\approx \\text{sigmoid}(b + w_1 x_{1,i} + \\dots + w_{784}x_{784,i})= \\frac{\\exp(b + w_1 x_{1,i} + \\dots + w_{784}x_{784,i})}{1+\\exp(b + w_1 x_{1,i} + \\dots + w_{784}x_{784,i})}$$"
   ]
  },
  {
   "cell_type": "markdown",
   "id": "6075e29a-a5b3-4c2d-8b6e-ad9fd63ed96d",
   "metadata": {
    "id": "6075e29a-a5b3-4c2d-8b6e-ad9fd63ed96d"
   },
   "source": [
    "`-` 벡터버전은 아래와 같다."
   ]
  },
  {
   "cell_type": "markdown",
   "id": "ec929dee-7188-461c-bdaa-b0595510d90d",
   "metadata": {
    "id": "ec929dee-7188-461c-bdaa-b0595510d90d"
   },
   "source": [
    "$${\\boldsymbol y} \\approx \\text{sigmoid}({\\bf X}{\\bf W} + b) = \\frac{\\exp({\\bf XW} +b)}{1+\\exp({\\bf XW} +b)}$$"
   ]
  },
  {
   "cell_type": "markdown",
   "id": "acf45fcc-b7c7-4b9d-9aad-4d5c6a013cfe",
   "metadata": {
    "id": "acf45fcc-b7c7-4b9d-9aad-4d5c6a013cfe"
   },
   "source": [
    "`-` 벡터버전에 익숙해지도록 하자. 벡터버전에 사용된 차원 및 연산을 정리하면 아래와 같다.\n",
    "\n",
    "- ${\\bf X}$: (n,784) matrix\n",
    "\n",
    "- ${\\boldsymbol y}$: (n,1) matrix\n",
    "\n",
    "- ${\\bf W}$: (784,1) matrix\n",
    "\n",
    "- $b$: (1,1) matrix\n",
    "\n",
    "- `+`, `exp` 는 브로드캐스팅"
   ]
  },
  {
   "cell_type": "markdown",
   "id": "ec43450e-46ea-40fa-85f0-81775e63262f",
   "metadata": {
    "id": "ec43450e-46ea-40fa-85f0-81775e63262f"
   },
   "source": [
    "### 로지스틱 모형 (2): 활성화함수로 softmax 선택"
   ]
  },
  {
   "cell_type": "markdown",
   "id": "8aa3dd75-3bcf-496e-8c67-b3202dfc02ea",
   "metadata": {
    "id": "8aa3dd75-3bcf-496e-8c67-b3202dfc02ea"
   },
   "source": [
    "`-` $y_i=0 \\text{ or } 1$ 대신에 $\\boldsymbol{y}_i=[y_{i1},y_{i2}]= [1,0] \\text { or } [0,1]$와 같이 코딩하면 어떠할까? (즉 원핫인코딩을 한다면?)"
   ]
  },
  {
   "cell_type": "markdown",
   "id": "d9ad9856-ed0f-42d6-a65e-133a2823c992",
   "metadata": {
    "id": "d9ad9856-ed0f-42d6-a65e-133a2823c992"
   },
   "source": [
    "`-` 활성화 함수를 취하기 전의 버전은 아래와 같이 볼 수 있다.\n",
    "\n",
    "$$[{\\boldsymbol y}_1 ~ {\\boldsymbol y}_2] \\propto  [ {\\bf X}{\\bf W}_1  ~ {\\bf X}{\\bf W}_2] + [b_1 ~ b_2]= {\\bf X} [{\\bf W}_1 {\\bf W}_2] + [b_1 ~ b_2]= {\\bf X}{\\bf W} + {\\boldsymbol b}$$\n",
    "    \n",
    "여기에서 매트릭스 및 연산의 차원을 정리하면 아래와 같다.\n",
    "\n",
    "- ${\\bf X}$: (n,784) matrix\n",
    "\n",
    "- ${\\boldsymbol y}_1,{\\boldsymbol y}_2$: (n,1) matrix\n",
    "\n",
    "- ${\\boldsymbol y}:=[{\\boldsymbol y}_1~ {\\boldsymbol y}_2]$: (n,2) matrix\n",
    "\n",
    "- ${\\bf W}_1$, ${\\bf W}_2$: (784,1) matrix\n",
    "\n",
    "- ${\\bf W}:=[{\\bf W}_1~ {\\bf W}_2]$: (784,2) matrix\n",
    "\n",
    "- $b_1,b_2$: (1,1) matrix\n",
    "\n",
    "- $\\boldsymbol{b}:= [b_1 ~b_2] $: (1,2) matrix\n",
    "\n",
    "- `+` 는 브로드캐스팅\n",
    "\n"
   ]
  },
  {
   "cell_type": "markdown",
   "id": "b404347b-d3db-48d5-bb88-8dead20c6b3d",
   "metadata": {
    "id": "b404347b-d3db-48d5-bb88-8dead20c6b3d"
   },
   "source": [
    "`-` 즉 로지스틱 모형 (1)의 형태를 겹쳐놓은 형태로 해석할 수 있음. 따라서 ${\\bf X} {\\bf W}_1 + b_1$와 ${\\bf X} {\\bf W}_2 + b_2$의 row값이 클수록 ${\\boldsymbol y}_1$와 ${\\boldsymbol y}_2$의 row값이 1이어야 함\n",
    "\n",
    "- ${\\boldsymbol y}_1 \\propto  {\\bf X} {\\bf W}_1 + b_1$ $\\to$ ${\\bf X} {\\bf W}_1 + b_1$의 row값이 클수록 $\\boldsymbol{y}_1$의 row 값이 1이라면 모형계수를 잘 추정한것\n",
    "- ${\\boldsymbol y}_2 \\propto  {\\bf X} {\\bf W}_2 + b_2$ $\\to$ ${\\bf X} {\\bf W}_2 + b_2$의 row값이 클수록 $\\boldsymbol{y}_2$의 row 값을 1이라면 모형계수를 잘 추정한것\n"
   ]
  },
  {
   "cell_type": "markdown",
   "id": "905879bd-2a27-4fb7-bfd6-3acff0347bac",
   "metadata": {
    "id": "905879bd-2a27-4fb7-bfd6-3acff0347bac"
   },
   "source": [
    "`-` (문제) ${\\bf X}{\\bf W}_1 +b_1$의 값이 500, ${\\bf X}{\\bf W}_2 +b_2$의 값이 200 인 row가 있다고 하자. 대응하는 $\\boldsymbol{y}_1, \\boldsymbol{y}_2$의 row값은 얼마로 적합되어야 하는가?\n",
    "\n",
    "(1) $[0,0]$\n",
    "\n",
    "(2) $[0,1]$\n",
    "\n",
    "(3) $[1,0]$ <-- 이게 답이다!\n",
    "\n",
    "(4) $[1,1]$"
   ]
  },
  {
   "cell_type": "markdown",
   "id": "b4ff9437-115b-4e46-908f-c7ccd651e248",
   "metadata": {
    "id": "b4ff9437-115b-4e46-908f-c7ccd651e248"
   },
   "source": [
    "> note: 둘다 0 혹은 둘다 1로 적합할수는 없으니까 (1), (4)는 제외한다. ${\\bf X}{\\bf W}_1 +b_1$의 값이 ${\\bf X}{\\bf W}_2 +b_2$의 값보다 크므로 (3)번이 합리적임"
   ]
  },
  {
   "cell_type": "markdown",
   "id": "aa67ce2d-88d8-442b-a271-8166ae55ee43",
   "metadata": {
    "id": "aa67ce2d-88d8-442b-a271-8166ae55ee43"
   },
   "source": [
    "`-` **목표:** 위와 같은 문제의 답을 유도해주는 활성화함수를 설계하자. 즉 합리적인 $\\hat{\\boldsymbol{y}}_1,\\hat{\\boldsymbol{y}}_2$를 구해주는 활성화 함수를 설계해보자. 이를 위해서는 아래의 사항들이 충족되어야 한다.\n",
    "\n",
    "(1) $\\hat{\\boldsymbol{y}}_1$, $\\hat{\\boldsymbol{y}}_2$의 각 원소는 0보다 크고 1보다 작아야 한다. (확률을 의미해야 하니까)\n",
    "\n",
    "(2) $\\hat{\\boldsymbol{y}}_1+\\hat{\\boldsymbol{y}}_2={\\bf 1}$ 이어야 한다. (확률의 총합은 1이니까!)\n",
    "\n",
    "(3) $\\hat{\\boldsymbol{y}}_1$와 $\\hat{\\boldsymbol{y}}_2$를 각각 따로해석하면 로지스틱처럼 되면 좋겠다."
   ]
  },
  {
   "cell_type": "markdown",
   "id": "6d2e46a6-ffb0-47bb-8ea1-16da8dc52f0e",
   "metadata": {
    "id": "6d2e46a6-ffb0-47bb-8ea1-16da8dc52f0e"
   },
   "source": [
    "`-` 아래와 같은 활성화 함수를 도입하면 어떨까?"
   ]
  },
  {
   "cell_type": "markdown",
   "id": "e0aa7138-e594-4fc5-8d53-22981ca554f4",
   "metadata": {
    "id": "e0aa7138-e594-4fc5-8d53-22981ca554f4"
   },
   "source": [
    "$$\\hat{\\boldsymbol{y}}=[\\hat{\\boldsymbol y}_1 ~ \\hat{\\boldsymbol y}_2] =  \\big[ \\frac{\\exp({\\bf X}\\hat{\\bf W}_1+\\hat{b}_1)}{\\exp({\\bf X}\\hat{\\bf W}_1+\\hat{b}_1)+\\exp({\\bf X}\\hat{\\bf W}_2+\\hat{b}_2)}  ~~ \\frac{\\exp({\\bf X}\\hat{\\bf W}_2+\\hat{b}_2)}{\\exp({\\bf X}\\hat{\\bf W}_1+\\hat{b}_1)+\\exp({\\bf X}\\hat{\\bf W}_2+\\hat{b}_2)}  \\big]$$"
   ]
  },
  {
   "cell_type": "markdown",
   "id": "c0ecd5f0-05c8-4b3c-afab-98d7adac3da6",
   "metadata": {
    "id": "c0ecd5f0-05c8-4b3c-afab-98d7adac3da6"
   },
   "source": [
    "`-` (1),(2)는 만족하는 듯 하다. (3)은 바로 이해되지는 않는다\n",
    "\n",
    "(1) $\\hat{\\boldsymbol{y}}_1$, $\\hat{\\boldsymbol{y}}_2$의 각 원소는 0보다 크고 1보다 작아야 한다. --> OK!\n",
    "\n",
    "(2) $\\hat{\\boldsymbol{y}}_1+\\hat{\\boldsymbol{y}}_2={\\bf 1}$ 이어야 한다. --> OK!\n",
    "\n",
    "(3) $\\hat{\\boldsymbol{y}}_1$와 $\\hat{\\boldsymbol{y}}_2$를 각각 따로해석하면 로지스틱처럼 되면 좋겠다.  --> ???"
   ]
  },
  {
   "cell_type": "markdown",
   "id": "93264107-6eb5-4c86-b542-91bf8f30085d",
   "metadata": {
    "id": "93264107-6eb5-4c86-b542-91bf8f30085d"
   },
   "source": [
    "`-` 그런데 조금 따져보면 (3)도 만족된다는 것을 알 수 있다. (sigmoid, softmax Section 참고)"
   ]
  },
  {
   "cell_type": "markdown",
   "id": "a3f03f20-54a6-4a25-8e5f-be754a652896",
   "metadata": {
    "id": "a3f03f20-54a6-4a25-8e5f-be754a652896"
   },
   "source": [
    "`-` 위와 같은 함수를 softmax라고 하자. 즉 아래와 같이 정의하자."
   ]
  },
  {
   "cell_type": "markdown",
   "id": "ca920dd5-b284-4a2d-96ae-c2744a289c47",
   "metadata": {
    "id": "ca920dd5-b284-4a2d-96ae-c2744a289c47"
   },
   "source": [
    "$$\n",
    "\\hat{\\boldsymbol y} = \\text{softmax}({\\bf X}\\hat{\\bf W} + {\\boldsymbol b})\n",
    "= \\big[ \\frac{\\exp({\\bf X}\\hat{\\bf W}_1+\\hat{b}_1)}{\\exp({\\bf X}\\hat{\\bf W}_1+\\hat{b}_1)+\\exp({\\bf X}\\hat{\\bf W}_2+\\hat{b}_2)}  ~~ \\frac{\\exp({\\bf X}\\hat{\\bf W}_2+\\hat{b}_2)}{\\exp({\\bf X}\\hat{\\bf W}_1+\\hat{b}_1)+\\exp({\\bf X}\\hat{\\bf W}_2+\\hat{b}_2)}  \\big]\n",
    "$$"
   ]
  },
  {
   "cell_type": "markdown",
   "id": "3611bffe-ca5f-434c-9b17-328128138d84",
   "metadata": {
    "id": "3611bffe-ca5f-434c-9b17-328128138d84"
   },
   "source": [
    "### sigmoid, softmax"
   ]
  },
  {
   "cell_type": "markdown",
   "id": "8931ed60-512b-4495-ba87-d00b65e25811",
   "metadata": {
    "id": "8931ed60-512b-4495-ba87-d00b65e25811"
   },
   "source": [
    "#### **softmax는 sigmoid의 확장형**"
   ]
  },
  {
   "cell_type": "markdown",
   "id": "ebae5ffd-25c4-4457-b8f4-b48e49cf4069",
   "metadata": {
    "id": "ebae5ffd-25c4-4457-b8f4-b48e49cf4069"
   },
   "source": [
    "`-` 아래의 수식을 관찰하자.\n",
    "$$\\frac{\\exp(\\beta_0+\\beta_1 x_i)}{1+\\exp(\\beta_0+\\beta_1x_i)}=\\frac{\\exp(\\beta_0+\\beta_1 x_i)}{e^0+\\exp(\\beta_0+\\beta_1x_i)}$$"
   ]
  },
  {
   "cell_type": "markdown",
   "id": "17cf2f4f-eeb1-4c23-836c-dc4c8b026949",
   "metadata": {
    "id": "17cf2f4f-eeb1-4c23-836c-dc4c8b026949"
   },
   "source": [
    "`-` 1을 $e^0$로 해석하면 모형2의 해석을 아래와 같이 모형1의 해석으로 적용할수 있다.\n",
    "- 모형2: ${\\bf X}\\hat{\\bf W}_1 +\\hat{b}_1$ 와 ${\\bf X}\\hat{\\bf W}_2 +\\hat{b}_2$ 의 크기를 비교하고 확률 결정\n",
    "- 모형1: ${\\bf X}\\hat{\\bf W} +\\hat{b}$ 와 $0$의 크기를 비교하고 확률 결정 = ${\\bf X}\\hat{\\bf W} +\\hat{b}$의 row값이 양수이면 1로 예측하고 음수이면 0으로 예측"
   ]
  },
  {
   "cell_type": "markdown",
   "id": "4ddca402-232f-404a-b52d-36a72a9f1d5c",
   "metadata": {
    "id": "4ddca402-232f-404a-b52d-36a72a9f1d5c"
   },
   "source": [
    "`-` 이항분포를 차원이 2인 다항분포로 해석가능한 것처럼 sigmoid는 차원이 2인 softmax로 해석가능하다. 즉 다항분포가 이항분포의 확장형으로 해석가능한 것처럼 softmax도 sigmoid의 확장형으로 해석가능하다."
   ]
  },
  {
   "cell_type": "markdown",
   "id": "1c596068-664a-4969-9918-fb146ecb5156",
   "metadata": {
    "id": "1c596068-664a-4969-9918-fb146ecb5156"
   },
   "source": [
    "#### **클래스의 수가 2인 경우 softmax vs sigmoid**"
   ]
  },
  {
   "cell_type": "markdown",
   "id": "c64a8940-e691-45fe-a2be-74a0b6f23425",
   "metadata": {
    "id": "c64a8940-e691-45fe-a2be-74a0b6f23425"
   },
   "source": [
    "`-` 언뜻 생각하면 클래스가 2인 경우에도 sigmoid 대신 softmax로 활성화함수를 이용해도 될 듯 하다. 즉 $y=0 \\text{ or } 1$와 같이 정리하지 않고 $y=[0,1] \\text{ or } [1,0]$ 와 같이 정리해도 무방할 듯 하다."
   ]
  },
  {
   "cell_type": "markdown",
   "id": "db820ea7-7f7d-419e-beab-1417cb161291",
   "metadata": {
    "id": "db820ea7-7f7d-419e-beab-1417cb161291"
   },
   "source": [
    "`-` 하지만 sigmoid가 좀 더 좋은 선택이다. 즉 $y= 0 \\text{ or } 1$로 데이터를 정리하는 것이 더 좋은 선택이다. 왜냐하면 sigmoid는 softmax와 비교하여 파라메터의 수가 적지만 표현력은 동등하기 때문이다."
   ]
  },
  {
   "cell_type": "markdown",
   "id": "a827d994-74f1-4c69-8be2-f313659f76cf",
   "metadata": {
    "id": "a827d994-74f1-4c69-8be2-f313659f76cf"
   },
   "source": [
    "`-` 표현력이 동등한 이유? 아래 수식을 관찰하자."
   ]
  },
  {
   "cell_type": "markdown",
   "id": "3a0dbd3f-e440-457e-b8b9-ae6282ac7764",
   "metadata": {
    "id": "3a0dbd3f-e440-457e-b8b9-ae6282ac7764"
   },
   "source": [
    "$$\\big(\\frac{e^{300}}{e^{300}+e^{500}},\\frac{e^{500}}{e^{300}+e^{500}}\\big) =\\big( \\frac{e^{0}}{e^{0}+e^{200}}, \\frac{e^{200}}{e^{0}+e^{200}}\\big)$$"
   ]
  },
  {
   "cell_type": "markdown",
   "id": "b1aa5951-65c1-4cb3-bd2a-7c15e7228d40",
   "metadata": {
    "id": "b1aa5951-65c1-4cb3-bd2a-7c15e7228d40"
   },
   "source": [
    "- $\\big(\\frac{e^{300}}{e^{300}+e^{500}},\\frac{e^{500}}{e^{300}+e^{500}}\\big)$를 표현하기 위해서 300, 500 이라는 2개의 숫자가 필요한것이 아니고 따지고보면 200이라는 하나의 숫자만 필요하다.\n",
    "- $(\\hat{\\boldsymbol{y}}_1,\\hat{\\boldsymbol{y}}_2)$의 표현에서도 ${\\bf X}\\hat{\\bf W}_1 +\\hat{b}_1$ 와 ${\\bf X}\\hat{\\bf W}_2 +\\hat{b}_2$ 라는 숫자 각각이 필요한 것이 아니고 $({\\bf X}\\hat{\\bf W}_1 +\\hat{b}_1)-({\\bf X}\\hat{\\bf W}_2 +\\hat{b}_2)$의 값만 알면 된다."
   ]
  },
  {
   "cell_type": "markdown",
   "id": "0d3172d8-42e4-450c-afb5-f9fc28c282c1",
   "metadata": {
    "id": "0d3172d8-42e4-450c-afb5-f9fc28c282c1"
   },
   "source": [
    "`-` 클래스의 수가 2개일 경우는 softmax가 sigmoid에 비하여 장점이 없다. 하지만 softmax는 클래스의 수가 3개 이상일 경우로 쉽게 확장할 수 있다는 점에서 매력적인 활성화 함수이다."
   ]
  },
  {
   "cell_type": "markdown",
   "id": "668e0751-2fe9-470e-bfd9-53d347191f1b",
   "metadata": {
    "id": "668e0751-2fe9-470e-bfd9-53d347191f1b"
   },
   "source": [
    "### 분류할 클래스가 3개 이상일 경우 신경망 모형의 설계"
   ]
  },
  {
   "cell_type": "markdown",
   "id": "1122196f-607b-4c08-93b0-65aac538f0ae",
   "metadata": {
    "id": "1122196f-607b-4c08-93b0-65aac538f0ae"
   },
   "source": [
    "`-` y의 모양: [0 1 0 0 0 0 0 0 0 0]"
   ]
  },
  {
   "cell_type": "markdown",
   "id": "64cd37df-4b86-4e30-9d69-6623f48b340c",
   "metadata": {
    "id": "64cd37df-4b86-4e30-9d69-6623f48b340c"
   },
   "source": [
    "`-` 활성화함수의 선택: softmax"
   ]
  },
  {
   "cell_type": "markdown",
   "id": "33e82e80-6226-486e-88b0-98479b93ffd9",
   "metadata": {
    "id": "33e82e80-6226-486e-88b0-98479b93ffd9"
   },
   "source": [
    "`-` 손실함수의 선택: cross entropy"
   ]
  },
  {
   "cell_type": "markdown",
   "id": "86da6d25-de2a-4755-b206-d22307e1c9bc",
   "metadata": {
    "id": "86da6d25-de2a-4755-b206-d22307e1c9bc"
   },
   "source": [
    "### Fashion_MNIST 여러클래스의 분류 (softmax의 실습)"
   ]
  },
  {
   "cell_type": "markdown",
   "id": "b41b2e51-067d-420b-b564-cda58816379b",
   "metadata": {
    "id": "b41b2e51-067d-420b-b564-cda58816379b"
   },
   "source": [
    "`-` 데이터정리"
   ]
  },
  {
   "cell_type": "code",
   "execution_count": 5,
   "id": "0f347528-7089-4dc5-8ddf-7a4d06900eb0",
   "metadata": {
    "id": "0f347528-7089-4dc5-8ddf-7a4d06900eb0"
   },
   "outputs": [],
   "source": [
    "(x_train, y_train), (x_test, y_test) = tf.keras.datasets.fashion_mnist.load_data()"
   ]
  },
  {
   "cell_type": "code",
   "execution_count": 15,
   "id": "8ed5da05-01b1-4bd7-8227-27fef9f06d7c",
   "metadata": {
    "id": "8ed5da05-01b1-4bd7-8227-27fef9f06d7c"
   },
   "outputs": [],
   "source": [
    "X= x_train.reshape(-1,784)\n",
    "y= tf.keras.utils.to_categorical(y_train)\n",
    "XX = x_test.reshape(-1,784)\n",
    "yy = tf.keras.utils.to_categorical(y_test)"
   ]
  },
  {
   "cell_type": "markdown",
   "id": "fe801a9f-2cca-44fe-b1b2-b7036cab5680",
   "metadata": {
    "id": "fe801a9f-2cca-44fe-b1b2-b7036cab5680"
   },
   "source": [
    "`-` 시도1: 간단한 신경망"
   ]
  },
  {
   "cell_type": "code",
   "execution_count": 16,
   "id": "26b82ff3-e96c-4844-ad72-7aeab389fbd2",
   "metadata": {
    "id": "26b82ff3-e96c-4844-ad72-7aeab389fbd2",
    "outputId": "b01f1023-491c-443d-b898-46b67cf9eff2"
   },
   "outputs": [
    {
     "data": {
      "image/svg+xml": [
       "<?xml version=\"1.0\" encoding=\"UTF-8\" standalone=\"no\"?>\n",
       "<!DOCTYPE svg PUBLIC \"-//W3C//DTD SVG 1.1//EN\"\n",
       " \"http://www.w3.org/Graphics/SVG/1.1/DTD/svg11.dtd\">\n",
       "<!-- Generated by graphviz version 2.50.0 (0)\n",
       " -->\n",
       "<!-- Title: G Pages: 1 -->\n",
       "<svg width=\"384pt\" height=\"261pt\"\n",
       " viewBox=\"0.00 0.00 384.18 261.00\" xmlns=\"http://www.w3.org/2000/svg\" xmlns:xlink=\"http://www.w3.org/1999/xlink\">\n",
       "<g id=\"graph0\" class=\"graph\" transform=\"scale(1 1) rotate(0) translate(4 257)\">\n",
       "<title>G</title>\n",
       "<polygon fill=\"white\" stroke=\"transparent\" points=\"-4,4 -4,-257 380.18,-257 380.18,4 -4,4\"/>\n",
       "<g id=\"clust1\" class=\"cluster\">\n",
       "<title>cluster_1</title>\n",
       "<polygon fill=\"lightgrey\" stroke=\"lightgrey\" points=\"8,-8 8,-245 91.59,-245 91.59,-8 8,-8\"/>\n",
       "<text text-anchor=\"middle\" x=\"49.8\" y=\"-229.8\" font-family=\"Times,serif\" font-size=\"14.00\">Layer 0</text>\n",
       "</g>\n",
       "<g id=\"clust2\" class=\"cluster\">\n",
       "<title>cluster_2</title>\n",
       "<polygon fill=\"lightgrey\" stroke=\"lightgrey\" points=\"111.59,-8 111.59,-245 219.29,-245 219.29,-8 111.59,-8\"/>\n",
       "<text text-anchor=\"middle\" x=\"165.44\" y=\"-229.8\" font-family=\"Times,serif\" font-size=\"14.00\">Layer 1: relu</text>\n",
       "</g>\n",
       "<g id=\"clust3\" class=\"cluster\">\n",
       "<title>cluster_3</title>\n",
       "<polygon fill=\"lightgrey\" stroke=\"lightgrey\" points=\"239.29,-35 239.29,-218 376.18,-218 376.18,-35 239.29,-35\"/>\n",
       "<text text-anchor=\"middle\" x=\"307.73\" y=\"-202.8\" font-family=\"Times,serif\" font-size=\"14.00\">Layer 2: softmax</text>\n",
       "</g>\n",
       "<!-- x1 -->\n",
       "<g id=\"node1\" class=\"node\">\n",
       "<title>x1</title>\n",
       "<ellipse fill=\"none\" stroke=\"black\" cx=\"49.8\" cy=\"-196\" rx=\"27\" ry=\"18\"/>\n",
       "<text text-anchor=\"middle\" x=\"49.8\" y=\"-192.3\" font-family=\"Times,serif\" font-size=\"14.00\">x1</text>\n",
       "</g>\n",
       "<!-- node1 -->\n",
       "<g id=\"node5\" class=\"node\">\n",
       "<title>node1</title>\n",
       "<ellipse fill=\"none\" stroke=\"black\" cx=\"165.44\" cy=\"-196\" rx=\"38.99\" ry=\"18\"/>\n",
       "<text text-anchor=\"middle\" x=\"165.44\" y=\"-192.3\" font-family=\"Times,serif\" font-size=\"14.00\">node1</text>\n",
       "</g>\n",
       "<!-- x1&#45;&gt;node1 -->\n",
       "<g id=\"edge1\" class=\"edge\">\n",
       "<title>x1&#45;&gt;node1</title>\n",
       "<path fill=\"none\" stroke=\"black\" d=\"M76.87,-196C88.57,-196 102.75,-196 116.27,-196\"/>\n",
       "<polygon fill=\"black\" stroke=\"black\" points=\"116.42,-199.5 126.42,-196 116.42,-192.5 116.42,-199.5\"/>\n",
       "</g>\n",
       "<!-- node2 -->\n",
       "<g id=\"node6\" class=\"node\">\n",
       "<title>node2</title>\n",
       "<ellipse fill=\"none\" stroke=\"black\" cx=\"165.44\" cy=\"-142\" rx=\"38.99\" ry=\"18\"/>\n",
       "<text text-anchor=\"middle\" x=\"165.44\" y=\"-138.3\" font-family=\"Times,serif\" font-size=\"14.00\">node2</text>\n",
       "</g>\n",
       "<!-- x1&#45;&gt;node2 -->\n",
       "<g id=\"edge5\" class=\"edge\">\n",
       "<title>x1&#45;&gt;node2</title>\n",
       "<path fill=\"none\" stroke=\"black\" d=\"M72.17,-185.84C88.01,-178.32 109.97,-167.88 128.5,-159.08\"/>\n",
       "<polygon fill=\"black\" stroke=\"black\" points=\"130.01,-162.23 137.54,-154.78 127.01,-155.91 130.01,-162.23\"/>\n",
       "</g>\n",
       "<!-- ... -->\n",
       "<g id=\"node7\" class=\"node\">\n",
       "<title>...</title>\n",
       "<ellipse fill=\"none\" stroke=\"black\" cx=\"165.44\" cy=\"-88\" rx=\"27\" ry=\"18\"/>\n",
       "<text text-anchor=\"middle\" x=\"165.44\" y=\"-84.3\" font-family=\"Times,serif\" font-size=\"14.00\">...</text>\n",
       "</g>\n",
       "<!-- x1&#45;&gt;... -->\n",
       "<g id=\"edge9\" class=\"edge\">\n",
       "<title>x1&#45;&gt;...</title>\n",
       "<path fill=\"none\" stroke=\"black\" d=\"M66.12,-181.43C85.53,-163 119.12,-131.07 141.56,-109.74\"/>\n",
       "<polygon fill=\"black\" stroke=\"black\" points=\"144.16,-112.11 148.99,-102.68 139.33,-107.03 144.16,-112.11\"/>\n",
       "</g>\n",
       "<!-- node30 -->\n",
       "<g id=\"node8\" class=\"node\">\n",
       "<title>node30</title>\n",
       "<ellipse fill=\"none\" stroke=\"black\" cx=\"165.44\" cy=\"-34\" rx=\"44.69\" ry=\"18\"/>\n",
       "<text text-anchor=\"middle\" x=\"165.44\" y=\"-30.3\" font-family=\"Times,serif\" font-size=\"14.00\">node30</text>\n",
       "</g>\n",
       "<!-- x1&#45;&gt;node30 -->\n",
       "<g id=\"edge13\" class=\"edge\">\n",
       "<title>x1&#45;&gt;node30</title>\n",
       "<path fill=\"none\" stroke=\"black\" d=\"M62.11,-179.87C81.8,-151.81 122.52,-93.76 146.23,-59.97\"/>\n",
       "<polygon fill=\"black\" stroke=\"black\" points=\"149.27,-61.72 152.15,-51.52 143.54,-57.7 149.27,-61.72\"/>\n",
       "</g>\n",
       "<!-- x2 -->\n",
       "<g id=\"node2\" class=\"node\">\n",
       "<title>x2</title>\n",
       "<ellipse fill=\"none\" stroke=\"black\" cx=\"49.8\" cy=\"-142\" rx=\"27\" ry=\"18\"/>\n",
       "<text text-anchor=\"middle\" x=\"49.8\" y=\"-138.3\" font-family=\"Times,serif\" font-size=\"14.00\">x2</text>\n",
       "</g>\n",
       "<!-- x2&#45;&gt;node1 -->\n",
       "<g id=\"edge2\" class=\"edge\">\n",
       "<title>x2&#45;&gt;node1</title>\n",
       "<path fill=\"none\" stroke=\"black\" d=\"M72.17,-152.16C88.01,-159.68 109.97,-170.12 128.5,-178.92\"/>\n",
       "<polygon fill=\"black\" stroke=\"black\" points=\"127.01,-182.09 137.54,-183.22 130.01,-175.77 127.01,-182.09\"/>\n",
       "</g>\n",
       "<!-- x2&#45;&gt;node2 -->\n",
       "<g id=\"edge6\" class=\"edge\">\n",
       "<title>x2&#45;&gt;node2</title>\n",
       "<path fill=\"none\" stroke=\"black\" d=\"M76.87,-142C88.57,-142 102.75,-142 116.27,-142\"/>\n",
       "<polygon fill=\"black\" stroke=\"black\" points=\"116.42,-145.5 126.42,-142 116.42,-138.5 116.42,-145.5\"/>\n",
       "</g>\n",
       "<!-- x2&#45;&gt;... -->\n",
       "<g id=\"edge10\" class=\"edge\">\n",
       "<title>x2&#45;&gt;...</title>\n",
       "<path fill=\"none\" stroke=\"black\" d=\"M72.17,-131.84C89.52,-123.6 114.21,-111.87 133.69,-102.61\"/>\n",
       "<polygon fill=\"black\" stroke=\"black\" points=\"135.24,-105.75 142.77,-98.3 132.24,-99.43 135.24,-105.75\"/>\n",
       "</g>\n",
       "<!-- x2&#45;&gt;node30 -->\n",
       "<g id=\"edge14\" class=\"edge\">\n",
       "<title>x2&#45;&gt;node30</title>\n",
       "<path fill=\"none\" stroke=\"black\" d=\"M66.12,-127.43C84.98,-109.51 117.25,-78.84 139.66,-57.55\"/>\n",
       "<polygon fill=\"black\" stroke=\"black\" points=\"142.29,-59.88 147.13,-50.45 137.47,-54.8 142.29,-59.88\"/>\n",
       "</g>\n",
       "<!-- .. -->\n",
       "<g id=\"node3\" class=\"node\">\n",
       "<title>..</title>\n",
       "<ellipse fill=\"none\" stroke=\"black\" cx=\"49.8\" cy=\"-88\" rx=\"27\" ry=\"18\"/>\n",
       "<text text-anchor=\"middle\" x=\"49.8\" y=\"-84.3\" font-family=\"Times,serif\" font-size=\"14.00\">..</text>\n",
       "</g>\n",
       "<!-- ..&#45;&gt;node1 -->\n",
       "<g id=\"edge3\" class=\"edge\">\n",
       "<title>..&#45;&gt;node1</title>\n",
       "<path fill=\"none\" stroke=\"black\" d=\"M66.12,-102.57C85.09,-120.59 117.63,-151.51 140.04,-172.81\"/>\n",
       "<polygon fill=\"black\" stroke=\"black\" points=\"137.85,-175.56 147.51,-179.91 142.67,-170.48 137.85,-175.56\"/>\n",
       "</g>\n",
       "<!-- ..&#45;&gt;node2 -->\n",
       "<g id=\"edge7\" class=\"edge\">\n",
       "<title>..&#45;&gt;node2</title>\n",
       "<path fill=\"none\" stroke=\"black\" d=\"M72.17,-98.16C88.01,-105.68 109.97,-116.12 128.5,-124.92\"/>\n",
       "<polygon fill=\"black\" stroke=\"black\" points=\"127.01,-128.09 137.54,-129.22 130.01,-121.77 127.01,-128.09\"/>\n",
       "</g>\n",
       "<!-- ..&#45;&gt;... -->\n",
       "<g id=\"edge11\" class=\"edge\">\n",
       "<title>..&#45;&gt;...</title>\n",
       "<path fill=\"none\" stroke=\"black\" d=\"M76.87,-88C91.92,-88 111.09,-88 127.66,-88\"/>\n",
       "<polygon fill=\"black\" stroke=\"black\" points=\"128.1,-91.5 138.1,-88 128.1,-84.5 128.1,-91.5\"/>\n",
       "</g>\n",
       "<!-- ..&#45;&gt;node30 -->\n",
       "<g id=\"edge15\" class=\"edge\">\n",
       "<title>..&#45;&gt;node30</title>\n",
       "<path fill=\"none\" stroke=\"black\" d=\"M72.17,-77.84C87.5,-70.56 108.57,-60.55 126.7,-51.93\"/>\n",
       "<polygon fill=\"black\" stroke=\"black\" points=\"128.33,-55.03 135.86,-47.58 125.33,-48.71 128.33,-55.03\"/>\n",
       "</g>\n",
       "<!-- x784 -->\n",
       "<g id=\"node4\" class=\"node\">\n",
       "<title>x784</title>\n",
       "<ellipse fill=\"none\" stroke=\"black\" cx=\"49.8\" cy=\"-34\" rx=\"33.6\" ry=\"18\"/>\n",
       "<text text-anchor=\"middle\" x=\"49.8\" y=\"-30.3\" font-family=\"Times,serif\" font-size=\"14.00\">x784</text>\n",
       "</g>\n",
       "<!-- x784&#45;&gt;node1 -->\n",
       "<g id=\"edge4\" class=\"edge\">\n",
       "<title>x784&#45;&gt;node1</title>\n",
       "<path fill=\"none\" stroke=\"black\" d=\"M62.53,-50.73C82.42,-79.07 122.87,-136.74 146.38,-170.26\"/>\n",
       "<polygon fill=\"black\" stroke=\"black\" points=\"143.65,-172.46 152.26,-178.63 149.38,-168.44 143.65,-172.46\"/>\n",
       "</g>\n",
       "<!-- x784&#45;&gt;node2 -->\n",
       "<g id=\"edge8\" class=\"edge\">\n",
       "<title>x784&#45;&gt;node2</title>\n",
       "<path fill=\"none\" stroke=\"black\" d=\"M67.08,-49.47C86.18,-67.63 118.05,-97.91 140.09,-118.86\"/>\n",
       "<polygon fill=\"black\" stroke=\"black\" points=\"137.79,-121.5 147.45,-125.85 142.61,-116.42 137.79,-121.5\"/>\n",
       "</g>\n",
       "<!-- x784&#45;&gt;... -->\n",
       "<g id=\"edge12\" class=\"edge\">\n",
       "<title>x784&#45;&gt;...</title>\n",
       "<path fill=\"none\" stroke=\"black\" d=\"M75.46,-45.72C92.58,-53.85 115.51,-64.75 133.8,-73.44\"/>\n",
       "<polygon fill=\"black\" stroke=\"black\" points=\"132.36,-76.63 142.89,-77.76 135.36,-70.31 132.36,-76.63\"/>\n",
       "</g>\n",
       "<!-- x784&#45;&gt;node30 -->\n",
       "<g id=\"edge16\" class=\"edge\">\n",
       "<title>x784&#45;&gt;node30</title>\n",
       "<path fill=\"none\" stroke=\"black\" d=\"M83.67,-34C91.95,-34 101.07,-34 110.11,-34\"/>\n",
       "<polygon fill=\"black\" stroke=\"black\" points=\"110.23,-37.5 120.23,-34 110.23,-30.5 110.23,-37.5\"/>\n",
       "</g>\n",
       "<!-- y10 -->\n",
       "<g id=\"node9\" class=\"node\">\n",
       "<title>y10</title>\n",
       "<ellipse fill=\"none\" stroke=\"black\" cx=\"307.23\" cy=\"-61\" rx=\"27.9\" ry=\"18\"/>\n",
       "<text text-anchor=\"middle\" x=\"307.23\" y=\"-57.3\" font-family=\"Times,serif\" font-size=\"14.00\">y10</text>\n",
       "</g>\n",
       "<!-- node1&#45;&gt;y10 -->\n",
       "<g id=\"edge17\" class=\"edge\">\n",
       "<title>node1&#45;&gt;y10</title>\n",
       "<path fill=\"none\" stroke=\"black\" d=\"M183.3,-179.72C208.39,-155.49 255.6,-109.89 283.65,-82.81\"/>\n",
       "<polygon fill=\"black\" stroke=\"black\" points=\"286.26,-85.16 291.02,-75.69 281.4,-80.12 286.26,-85.16\"/>\n",
       "</g>\n",
       "<!-- y1 -->\n",
       "<g id=\"node10\" class=\"node\">\n",
       "<title>y1</title>\n",
       "<ellipse fill=\"none\" stroke=\"black\" cx=\"307.23\" cy=\"-169\" rx=\"27\" ry=\"18\"/>\n",
       "<text text-anchor=\"middle\" x=\"307.23\" y=\"-165.3\" font-family=\"Times,serif\" font-size=\"14.00\">y1</text>\n",
       "</g>\n",
       "<!-- node1&#45;&gt;y1 -->\n",
       "<g id=\"edge21\" class=\"edge\">\n",
       "<title>node1&#45;&gt;y1</title>\n",
       "<path fill=\"none\" stroke=\"black\" d=\"M201.72,-189.19C222.99,-185.08 249.98,-179.87 271.2,-175.77\"/>\n",
       "<polygon fill=\"black\" stroke=\"black\" points=\"271.96,-179.19 281.11,-173.85 270.63,-172.31 271.96,-179.19\"/>\n",
       "</g>\n",
       "<!-- . -->\n",
       "<g id=\"node11\" class=\"node\">\n",
       "<title>.</title>\n",
       "<ellipse fill=\"none\" stroke=\"black\" cx=\"307.23\" cy=\"-115\" rx=\"27\" ry=\"18\"/>\n",
       "<text text-anchor=\"middle\" x=\"307.23\" y=\"-111.3\" font-family=\"Times,serif\" font-size=\"14.00\">.</text>\n",
       "</g>\n",
       "<!-- node1&#45;&gt;. -->\n",
       "<g id=\"edge25\" class=\"edge\">\n",
       "<title>node1&#45;&gt;.</title>\n",
       "<path fill=\"none\" stroke=\"black\" d=\"M190.47,-182.08C214.53,-168.14 251.56,-146.68 277.24,-131.8\"/>\n",
       "<polygon fill=\"black\" stroke=\"black\" points=\"279.24,-134.69 286.14,-126.65 275.73,-128.63 279.24,-134.69\"/>\n",
       "</g>\n",
       "<!-- node2&#45;&gt;y10 -->\n",
       "<g id=\"edge18\" class=\"edge\">\n",
       "<title>node2&#45;&gt;y10</title>\n",
       "<path fill=\"none\" stroke=\"black\" d=\"M190.47,-128.08C214.39,-114.22 251.13,-92.93 276.79,-78.06\"/>\n",
       "<polygon fill=\"black\" stroke=\"black\" points=\"278.8,-80.94 285.7,-72.9 275.29,-74.89 278.8,-80.94\"/>\n",
       "</g>\n",
       "<!-- node2&#45;&gt;y1 -->\n",
       "<g id=\"edge22\" class=\"edge\">\n",
       "<title>node2&#45;&gt;y1</title>\n",
       "<path fill=\"none\" stroke=\"black\" d=\"M201.72,-148.81C222.99,-152.92 249.98,-158.13 271.2,-162.23\"/>\n",
       "<polygon fill=\"black\" stroke=\"black\" points=\"270.63,-165.69 281.11,-164.15 271.96,-158.81 270.63,-165.69\"/>\n",
       "</g>\n",
       "<!-- node2&#45;&gt;. -->\n",
       "<g id=\"edge26\" class=\"edge\">\n",
       "<title>node2&#45;&gt;.</title>\n",
       "<path fill=\"none\" stroke=\"black\" d=\"M201.72,-135.19C222.99,-131.08 249.98,-125.87 271.2,-121.77\"/>\n",
       "<polygon fill=\"black\" stroke=\"black\" points=\"271.96,-125.19 281.11,-119.85 270.63,-118.31 271.96,-125.19\"/>\n",
       "</g>\n",
       "<!-- ...&#45;&gt;y10 -->\n",
       "<g id=\"edge19\" class=\"edge\">\n",
       "<title>...&#45;&gt;y10</title>\n",
       "<path fill=\"none\" stroke=\"black\" d=\"M191.76,-83.11C213.65,-78.88 245.56,-72.72 270.13,-67.97\"/>\n",
       "<polygon fill=\"black\" stroke=\"black\" points=\"271,-71.37 280.16,-66.04 269.68,-64.5 271,-71.37\"/>\n",
       "</g>\n",
       "<!-- ...&#45;&gt;y1 -->\n",
       "<g id=\"edge23\" class=\"edge\">\n",
       "<title>...&#45;&gt;y1</title>\n",
       "<path fill=\"none\" stroke=\"black\" d=\"M186.47,-99.61C210.34,-113.44 250.42,-136.66 277.57,-152.39\"/>\n",
       "<polygon fill=\"black\" stroke=\"black\" points=\"275.83,-155.43 286.24,-157.42 279.34,-149.37 275.83,-155.43\"/>\n",
       "</g>\n",
       "<!-- ...&#45;&gt;. -->\n",
       "<g id=\"edge27\" class=\"edge\">\n",
       "<title>...&#45;&gt;.</title>\n",
       "<path fill=\"none\" stroke=\"black\" d=\"M191.76,-92.89C213.92,-97.17 246.36,-103.44 271.05,-108.2\"/>\n",
       "<polygon fill=\"black\" stroke=\"black\" points=\"270.62,-111.69 281.11,-110.15 271.95,-104.81 270.62,-111.69\"/>\n",
       "</g>\n",
       "<!-- node30&#45;&gt;y10 -->\n",
       "<g id=\"edge20\" class=\"edge\">\n",
       "<title>node30&#45;&gt;y10</title>\n",
       "<path fill=\"none\" stroke=\"black\" d=\"M206.13,-41.66C226.24,-45.55 250.49,-50.23 270.09,-54.02\"/>\n",
       "<polygon fill=\"black\" stroke=\"black\" points=\"269.67,-57.5 280.15,-55.96 270.99,-50.63 269.67,-57.5\"/>\n",
       "</g>\n",
       "<!-- node30&#45;&gt;y1 -->\n",
       "<g id=\"edge24\" class=\"edge\">\n",
       "<title>node30&#45;&gt;y1</title>\n",
       "<path fill=\"none\" stroke=\"black\" d=\"M183.58,-50.55C208.77,-74.88 255.82,-120.32 283.75,-147.29\"/>\n",
       "<polygon fill=\"black\" stroke=\"black\" points=\"281.47,-149.95 291.09,-154.38 286.33,-144.91 281.47,-149.95\"/>\n",
       "</g>\n",
       "<!-- node30&#45;&gt;. -->\n",
       "<g id=\"edge28\" class=\"edge\">\n",
       "<title>node30&#45;&gt;.</title>\n",
       "<path fill=\"none\" stroke=\"black\" d=\"M191.76,-48.67C215.86,-62.64 252.11,-83.64 277.34,-98.26\"/>\n",
       "<polygon fill=\"black\" stroke=\"black\" points=\"275.68,-101.34 286.09,-103.33 279.19,-95.29 275.68,-101.34\"/>\n",
       "</g>\n",
       "</g>\n",
       "</svg>\n"
      ],
      "text/plain": [
       "<graphviz.sources.Source at 0x7f9056c24a90>"
      ]
     },
     "execution_count": 16,
     "metadata": {},
     "output_type": "execute_result"
    }
   ],
   "source": [
    "#collapse\n",
    "gv('''\n",
    "splines=line\n",
    "subgraph cluster_1{\n",
    "    style=filled;\n",
    "    color=lightgrey;\n",
    "    \"x1\"\n",
    "    \"x2\"\n",
    "    \"..\"\n",
    "    \"x784\"\n",
    "    label = \"Layer 0\"\n",
    "}\n",
    "subgraph cluster_2{\n",
    "    style=filled;\n",
    "    color=lightgrey;\n",
    "    \"x1\" -> \"node1\"\n",
    "    \"x2\" -> \"node1\"\n",
    "    \"..\" -> \"node1\"\n",
    "\n",
    "    \"x784\" -> \"node1\"\n",
    "    \"x1\" -> \"node2\"\n",
    "    \"x2\" -> \"node2\"\n",
    "    \"..\" -> \"node2\"\n",
    "    \"x784\" -> \"node2\"\n",
    "\n",
    "    \"x1\" -> \"...\"\n",
    "    \"x2\" -> \"...\"\n",
    "    \"..\" -> \"...\"\n",
    "    \"x784\" -> \"...\"\n",
    "\n",
    "    \"x1\" -> \"node30\"\n",
    "    \"x2\" -> \"node30\"\n",
    "    \"..\" -> \"node30\"\n",
    "    \"x784\" -> \"node30\"\n",
    "\n",
    "\n",
    "    label = \"Layer 1: relu\"\n",
    "}\n",
    "subgraph cluster_3{\n",
    "    style=filled;\n",
    "    color=lightgrey;\n",
    "\n",
    "    \"node1\" -> \"y10\"\n",
    "    \"node2\" -> \"y10\"\n",
    "    \"...\" -> \"y10\"\n",
    "    \"node30\" -> \"y10\"\n",
    "\n",
    "    \"node1\" -> \"y1\"\n",
    "    \"node2\" -> \"y1\"\n",
    "    \"...\" -> \"y1\"\n",
    "    \"node30\" -> \"y1\"\n",
    "\n",
    "    \"node1\" -> \".\"\n",
    "    \"node2\" -> \".\"\n",
    "    \"...\" -> \".\"\n",
    "    \"node30\" -> \".\"\n",
    "\n",
    "    label = \"Layer 2: softmax\"\n",
    "}\n",
    "''')"
   ]
  },
  {
   "cell_type": "code",
   "execution_count": 17,
   "id": "4aec3ee3-912a-4db1-95d8-dd69cebcc8a2",
   "metadata": {
    "id": "4aec3ee3-912a-4db1-95d8-dd69cebcc8a2",
    "outputId": "f5efcdce-919c-48d3-b2e2-5551c3388620"
   },
   "outputs": [
    {
     "name": "stdout",
     "output_type": "stream",
     "text": [
      "Epoch 1/5\n",
      "1875/1875 [==============================] - 1s 485us/step - loss: 2.2998 - accuracy: 0.4233\n",
      "Epoch 2/5\n",
      "1875/1875 [==============================] - 1s 475us/step - loss: 1.2198 - accuracy: 0.5444\n",
      "Epoch 3/5\n",
      "1875/1875 [==============================] - 1s 498us/step - loss: 1.0499 - accuracy: 0.5938\n",
      "Epoch 4/5\n",
      "1875/1875 [==============================] - 1s 484us/step - loss: 0.9243 - accuracy: 0.6309\n",
      "Epoch 5/5\n",
      "1875/1875 [==============================] - 1s 484us/step - loss: 0.8560 - accuracy: 0.6506\n"
     ]
    },
    {
     "data": {
      "text/plain": [
       "<keras.callbacks.History at 0x7f904d4618b0>"
      ]
     },
     "execution_count": 17,
     "metadata": {},
     "output_type": "execute_result"
    }
   ],
   "source": [
    "net = tf.keras.Sequential()\n",
    "net.add(tf.keras.layers.Dense(30,activation = 'relu'))\n",
    "net.add(tf.keras.layers.Dense(10,activation = 'softmax'))\n",
    "net.compile(loss=tf.losses.categorical_crossentropy, optimizer='adam',metrics=['accuracy'])\n",
    "net.fit(X,y,epochs=5)"
   ]
  },
  {
   "cell_type": "code",
   "execution_count": 18,
   "id": "648f3d66-4f4a-4052-99b7-8546adfbdcff",
   "metadata": {
    "id": "648f3d66-4f4a-4052-99b7-8546adfbdcff",
    "outputId": "9d89fe72-810e-417f-811f-4916dc7f3f2c"
   },
   "outputs": [
    {
     "name": "stdout",
     "output_type": "stream",
     "text": [
      "313/313 [==============================] - 0s 374us/step - loss: 0.8689 - accuracy: 0.6363\n"
     ]
    },
    {
     "data": {
      "text/plain": [
       "[0.8688836693763733, 0.6363000273704529]"
      ]
     },
     "execution_count": 18,
     "metadata": {},
     "output_type": "execute_result"
    }
   ],
   "source": [
    "net.evaluate(XX,yy)"
   ]
  },
  {
   "cell_type": "code",
   "execution_count": 19,
   "id": "004d9b9a-ade5-481d-98e5-fb00df3119b1",
   "metadata": {
    "id": "004d9b9a-ade5-481d-98e5-fb00df3119b1",
    "outputId": "73964773-f164-4836-b014-01e36302af03"
   },
   "outputs": [
    {
     "name": "stdout",
     "output_type": "stream",
     "text": [
      "Model: \"sequential\"\n",
      "_________________________________________________________________\n",
      " Layer (type)                Output Shape              Param #   \n",
      "=================================================================\n",
      " dense (Dense)               (None, 30)                23550     \n",
      "                                                                 \n",
      " dense_1 (Dense)             (None, 10)                310       \n",
      "                                                                 \n",
      "=================================================================\n",
      "Total params: 23,860\n",
      "Trainable params: 23,860\n",
      "Non-trainable params: 0\n",
      "_________________________________________________________________\n"
     ]
    }
   ],
   "source": [
    "net.summary()"
   ]
  },
  {
   "cell_type": "markdown",
   "id": "8ad1c2a5-a0b7-4b4f-a26a-7b823a49deeb",
   "metadata": {
    "id": "8ad1c2a5-a0b7-4b4f-a26a-7b823a49deeb"
   },
   "source": [
    "`-` 시도2: 더 깊은 신경망"
   ]
  },
  {
   "cell_type": "code",
   "execution_count": null,
   "id": "82c577aa-3148-4e25-a8ae-721e9541d82f",
   "metadata": {
    "id": "82c577aa-3148-4e25-a8ae-721e9541d82f",
    "outputId": "fcb5a0e5-83b3-4604-d92f-cb07be18ede7"
   },
   "outputs": [
    {
     "data": {
      "image/svg+xml": [
       "<?xml version=\"1.0\" encoding=\"UTF-8\" standalone=\"no\"?>\n",
       "<!DOCTYPE svg PUBLIC \"-//W3C//DTD SVG 1.1//EN\"\n",
       " \"http://www.w3.org/Graphics/SVG/1.1/DTD/svg11.dtd\">\n",
       "<!-- Generated by graphviz version 3.0.0 (20220315.2325)\n",
       " -->\n",
       "<!-- Title: G Pages: 1 -->\n",
       "<svg width=\"557pt\" height=\"261pt\"\n",
       " viewBox=\"0.00 0.00 557.27 261.00\" xmlns=\"http://www.w3.org/2000/svg\" xmlns:xlink=\"http://www.w3.org/1999/xlink\">\n",
       "<g id=\"graph0\" class=\"graph\" transform=\"scale(1 1) rotate(0) translate(4 257)\">\n",
       "<title>G</title>\n",
       "<polygon fill=\"white\" stroke=\"transparent\" points=\"-4,4 -4,-257 553.27,-257 553.27,4 -4,4\"/>\n",
       "<g id=\"clust1\" class=\"cluster\">\n",
       "<title>cluster_1</title>\n",
       "<polygon fill=\"lightgrey\" stroke=\"lightgrey\" points=\"8,-8 8,-245 91.59,-245 91.59,-8 8,-8\"/>\n",
       "<text text-anchor=\"middle\" x=\"49.8\" y=\"-229.8\" font-family=\"Times,serif\" font-size=\"14.00\">Layer 0</text>\n",
       "</g>\n",
       "<g id=\"clust2\" class=\"cluster\">\n",
       "<title>cluster_2</title>\n",
       "<polygon fill=\"lightgrey\" stroke=\"lightgrey\" points=\"111.59,-8 111.59,-245 228.99,-245 228.99,-8 111.59,-8\"/>\n",
       "<text text-anchor=\"middle\" x=\"170.29\" y=\"-229.8\" font-family=\"Times,serif\" font-size=\"14.00\">Layer 1: relu</text>\n",
       "</g>\n",
       "<g id=\"clust3\" class=\"cluster\">\n",
       "<title>cluster_3</title>\n",
       "<polygon fill=\"lightgrey\" stroke=\"lightgrey\" points=\"248.99,-8 248.99,-245 392.37,-245 392.37,-8 248.99,-8\"/>\n",
       "<text text-anchor=\"middle\" x=\"320.68\" y=\"-229.8\" font-family=\"Times,serif\" font-size=\"14.00\">Layer 2: relu</text>\n",
       "</g>\n",
       "<g id=\"clust4\" class=\"cluster\">\n",
       "<title>cluster_4</title>\n",
       "<polygon fill=\"lightgrey\" stroke=\"lightgrey\" points=\"412.37,-35 412.37,-218 549.27,-218 549.27,-35 412.37,-35\"/>\n",
       "<text text-anchor=\"middle\" x=\"480.82\" y=\"-202.8\" font-family=\"Times,serif\" font-size=\"14.00\">Layer 3: softmax</text>\n",
       "</g>\n",
       "<!-- x1 -->\n",
       "<g id=\"node1\" class=\"node\">\n",
       "<title>x1</title>\n",
       "<ellipse fill=\"none\" stroke=\"black\" cx=\"49.8\" cy=\"-196\" rx=\"27\" ry=\"18\"/>\n",
       "<text text-anchor=\"middle\" x=\"49.8\" y=\"-192.3\" font-family=\"Times,serif\" font-size=\"14.00\">x1</text>\n",
       "</g>\n",
       "<!-- node1 -->\n",
       "<g id=\"node5\" class=\"node\">\n",
       "<title>node1</title>\n",
       "<ellipse fill=\"none\" stroke=\"black\" cx=\"170.29\" cy=\"-196\" rx=\"38.99\" ry=\"18\"/>\n",
       "<text text-anchor=\"middle\" x=\"170.29\" y=\"-192.3\" font-family=\"Times,serif\" font-size=\"14.00\">node1</text>\n",
       "</g>\n",
       "<!-- x1&#45;&gt;node1 -->\n",
       "<g id=\"edge1\" class=\"edge\">\n",
       "<title>x1&#45;&gt;node1</title>\n",
       "<path fill=\"none\" stroke=\"black\" d=\"M76.8,-196C89.75,-196 105.84,-196 120.95,-196\"/>\n",
       "<polygon fill=\"black\" stroke=\"black\" points=\"121.2,-199.5 131.2,-196 121.2,-192.5 121.2,-199.5\"/>\n",
       "</g>\n",
       "<!-- node2 -->\n",
       "<g id=\"node6\" class=\"node\">\n",
       "<title>node2</title>\n",
       "<ellipse fill=\"none\" stroke=\"black\" cx=\"170.29\" cy=\"-142\" rx=\"38.99\" ry=\"18\"/>\n",
       "<text text-anchor=\"middle\" x=\"170.29\" y=\"-138.3\" font-family=\"Times,serif\" font-size=\"14.00\">node2</text>\n",
       "</g>\n",
       "<!-- x1&#45;&gt;node2 -->\n",
       "<g id=\"edge5\" class=\"edge\">\n",
       "<title>x1&#45;&gt;node2</title>\n",
       "<path fill=\"none\" stroke=\"black\" d=\"M72.53,-186.1C89.3,-178.46 112.87,-167.71 132.55,-158.74\"/>\n",
       "<polygon fill=\"black\" stroke=\"black\" points=\"134.21,-161.84 141.85,-154.5 131.3,-155.47 134.21,-161.84\"/>\n",
       "</g>\n",
       "<!-- ... -->\n",
       "<g id=\"node7\" class=\"node\">\n",
       "<title>...</title>\n",
       "<ellipse fill=\"none\" stroke=\"black\" cx=\"170.29\" cy=\"-88\" rx=\"27\" ry=\"18\"/>\n",
       "<text text-anchor=\"middle\" x=\"170.29\" y=\"-84.3\" font-family=\"Times,serif\" font-size=\"14.00\">...</text>\n",
       "</g>\n",
       "<!-- x1&#45;&gt;... -->\n",
       "<g id=\"edge9\" class=\"edge\">\n",
       "<title>x1&#45;&gt;...</title>\n",
       "<path fill=\"none\" stroke=\"black\" d=\"M66.78,-181.43C87.21,-162.81 122.74,-130.43 146.13,-109.11\"/>\n",
       "<polygon fill=\"black\" stroke=\"black\" points=\"148.53,-111.66 153.56,-102.33 143.81,-106.48 148.53,-111.66\"/>\n",
       "</g>\n",
       "<!-- node500 -->\n",
       "<g id=\"node8\" class=\"node\">\n",
       "<title>node500</title>\n",
       "<ellipse fill=\"none\" stroke=\"black\" cx=\"170.29\" cy=\"-34\" rx=\"50.89\" ry=\"18\"/>\n",
       "<text text-anchor=\"middle\" x=\"170.29\" y=\"-30.3\" font-family=\"Times,serif\" font-size=\"14.00\">node500</text>\n",
       "</g>\n",
       "<!-- x1&#45;&gt;node500 -->\n",
       "<g id=\"edge13\" class=\"edge\">\n",
       "<title>x1&#45;&gt;node500</title>\n",
       "<path fill=\"none\" stroke=\"black\" d=\"M62.59,-179.87C83.12,-151.81 125.58,-93.76 150.3,-59.97\"/>\n",
       "<polygon fill=\"black\" stroke=\"black\" points=\"153.39,-61.66 156.47,-51.52 147.74,-57.53 153.39,-61.66\"/>\n",
       "</g>\n",
       "<!-- x2 -->\n",
       "<g id=\"node2\" class=\"node\">\n",
       "<title>x2</title>\n",
       "<ellipse fill=\"none\" stroke=\"black\" cx=\"49.8\" cy=\"-142\" rx=\"27\" ry=\"18\"/>\n",
       "<text text-anchor=\"middle\" x=\"49.8\" y=\"-138.3\" font-family=\"Times,serif\" font-size=\"14.00\">x2</text>\n",
       "</g>\n",
       "<!-- x2&#45;&gt;node1 -->\n",
       "<g id=\"edge2\" class=\"edge\">\n",
       "<title>x2&#45;&gt;node1</title>\n",
       "<path fill=\"none\" stroke=\"black\" d=\"M72.53,-151.9C89.3,-159.54 112.87,-170.29 132.55,-179.26\"/>\n",
       "<polygon fill=\"black\" stroke=\"black\" points=\"131.3,-182.53 141.85,-183.5 134.21,-176.16 131.3,-182.53\"/>\n",
       "</g>\n",
       "<!-- x2&#45;&gt;node2 -->\n",
       "<g id=\"edge6\" class=\"edge\">\n",
       "<title>x2&#45;&gt;node2</title>\n",
       "<path fill=\"none\" stroke=\"black\" d=\"M76.8,-142C89.75,-142 105.84,-142 120.95,-142\"/>\n",
       "<polygon fill=\"black\" stroke=\"black\" points=\"121.2,-145.5 131.2,-142 121.2,-138.5 121.2,-145.5\"/>\n",
       "</g>\n",
       "<!-- x2&#45;&gt;... -->\n",
       "<g id=\"edge10\" class=\"edge\">\n",
       "<title>x2&#45;&gt;...</title>\n",
       "<path fill=\"none\" stroke=\"black\" d=\"M72.53,-132.1C90.87,-123.74 117.36,-111.66 137.99,-102.26\"/>\n",
       "<polygon fill=\"black\" stroke=\"black\" points=\"139.64,-105.36 147.29,-98.02 136.74,-98.99 139.64,-105.36\"/>\n",
       "</g>\n",
       "<!-- x2&#45;&gt;node500 -->\n",
       "<g id=\"edge14\" class=\"edge\">\n",
       "<title>x2&#45;&gt;node500</title>\n",
       "<path fill=\"none\" stroke=\"black\" d=\"M66.78,-127.43C86.41,-109.54 120,-78.93 143.35,-57.64\"/>\n",
       "<polygon fill=\"black\" stroke=\"black\" points=\"145.81,-60.14 150.84,-50.81 141.09,-54.96 145.81,-60.14\"/>\n",
       "</g>\n",
       "<!-- .. -->\n",
       "<g id=\"node3\" class=\"node\">\n",
       "<title>..</title>\n",
       "<ellipse fill=\"none\" stroke=\"black\" cx=\"49.8\" cy=\"-88\" rx=\"27\" ry=\"18\"/>\n",
       "<text text-anchor=\"middle\" x=\"49.8\" y=\"-84.3\" font-family=\"Times,serif\" font-size=\"14.00\">..</text>\n",
       "</g>\n",
       "<!-- ..&#45;&gt;node1 -->\n",
       "<g id=\"edge3\" class=\"edge\">\n",
       "<title>..&#45;&gt;node1</title>\n",
       "<path fill=\"none\" stroke=\"black\" d=\"M66.78,-102.57C86.64,-120.67 120.77,-151.78 144.15,-173.09\"/>\n",
       "<polygon fill=\"black\" stroke=\"black\" points=\"141.89,-175.76 151.64,-179.91 146.6,-170.59 141.89,-175.76\"/>\n",
       "</g>\n",
       "<!-- ..&#45;&gt;node2 -->\n",
       "<g id=\"edge7\" class=\"edge\">\n",
       "<title>..&#45;&gt;node2</title>\n",
       "<path fill=\"none\" stroke=\"black\" d=\"M72.53,-97.9C89.3,-105.54 112.87,-116.29 132.55,-125.26\"/>\n",
       "<polygon fill=\"black\" stroke=\"black\" points=\"131.3,-128.53 141.85,-129.5 134.21,-122.16 131.3,-128.53\"/>\n",
       "</g>\n",
       "<!-- ..&#45;&gt;... -->\n",
       "<g id=\"edge11\" class=\"edge\">\n",
       "<title>..&#45;&gt;...</title>\n",
       "<path fill=\"none\" stroke=\"black\" d=\"M76.8,-88C93.2,-88 114.63,-88 132.73,-88\"/>\n",
       "<polygon fill=\"black\" stroke=\"black\" points=\"132.94,-91.5 142.94,-88 132.94,-84.5 132.94,-91.5\"/>\n",
       "</g>\n",
       "<!-- ..&#45;&gt;node500 -->\n",
       "<g id=\"edge15\" class=\"edge\">\n",
       "<title>..&#45;&gt;node500</title>\n",
       "<path fill=\"none\" stroke=\"black\" d=\"M72.53,-78.1C88.31,-70.91 110.11,-60.97 129.02,-52.35\"/>\n",
       "<polygon fill=\"black\" stroke=\"black\" points=\"130.67,-55.44 138.32,-48.11 127.77,-49.08 130.67,-55.44\"/>\n",
       "</g>\n",
       "<!-- x784 -->\n",
       "<g id=\"node4\" class=\"node\">\n",
       "<title>x784</title>\n",
       "<ellipse fill=\"none\" stroke=\"black\" cx=\"49.8\" cy=\"-34\" rx=\"33.6\" ry=\"18\"/>\n",
       "<text text-anchor=\"middle\" x=\"49.8\" y=\"-30.3\" font-family=\"Times,serif\" font-size=\"14.00\">x784</text>\n",
       "</g>\n",
       "<!-- x784&#45;&gt;node1 -->\n",
       "<g id=\"edge4\" class=\"edge\">\n",
       "<title>x784&#45;&gt;node1</title>\n",
       "<path fill=\"none\" stroke=\"black\" d=\"M63.03,-50.73C83.77,-79.07 125.94,-136.74 150.46,-170.26\"/>\n",
       "<polygon fill=\"black\" stroke=\"black\" points=\"147.86,-172.63 156.59,-178.63 153.51,-168.49 147.86,-172.63\"/>\n",
       "</g>\n",
       "<!-- x784&#45;&gt;node2 -->\n",
       "<g id=\"edge8\" class=\"edge\">\n",
       "<title>x784&#45;&gt;node2</title>\n",
       "<path fill=\"none\" stroke=\"black\" d=\"M67.77,-49.47C87.69,-67.63 120.92,-97.91 143.9,-118.86\"/>\n",
       "<polygon fill=\"black\" stroke=\"black\" points=\"141.82,-121.7 151.57,-125.85 146.54,-116.53 141.82,-121.7\"/>\n",
       "</g>\n",
       "<!-- x784&#45;&gt;... -->\n",
       "<g id=\"edge12\" class=\"edge\">\n",
       "<title>x784&#45;&gt;...</title>\n",
       "<path fill=\"none\" stroke=\"black\" d=\"M75.93,-45.45C94.06,-53.72 118.66,-64.93 138.05,-73.77\"/>\n",
       "<polygon fill=\"black\" stroke=\"black\" points=\"136.83,-77.05 147.38,-78.02 139.74,-70.69 136.83,-77.05\"/>\n",
       "</g>\n",
       "<!-- x784&#45;&gt;node500 -->\n",
       "<g id=\"edge16\" class=\"edge\">\n",
       "<title>x784&#45;&gt;node500</title>\n",
       "<path fill=\"none\" stroke=\"black\" d=\"M83.8,-34C91.68,-34 100.33,-34 109.01,-34\"/>\n",
       "<polygon fill=\"black\" stroke=\"black\" points=\"109.17,-37.5 119.17,-34 109.17,-30.5 109.17,-37.5\"/>\n",
       "</g>\n",
       "<!-- node1(2) -->\n",
       "<g id=\"node9\" class=\"node\">\n",
       "<title>node1(2)</title>\n",
       "<ellipse fill=\"none\" stroke=\"black\" cx=\"320.68\" cy=\"-196\" rx=\"51.99\" ry=\"18\"/>\n",
       "<text text-anchor=\"middle\" x=\"320.68\" y=\"-192.3\" font-family=\"Times,serif\" font-size=\"14.00\">node1(2)</text>\n",
       "</g>\n",
       "<!-- node1&#45;&gt;node1(2) -->\n",
       "<g id=\"edge17\" class=\"edge\">\n",
       "<title>node1&#45;&gt;node1(2)</title>\n",
       "<path fill=\"none\" stroke=\"black\" d=\"M209.5,-196C224.37,-196 241.77,-196 258.3,-196\"/>\n",
       "<polygon fill=\"black\" stroke=\"black\" points=\"258.45,-199.5 268.45,-196 258.45,-192.5 258.45,-199.5\"/>\n",
       "</g>\n",
       "<!-- node2(2) -->\n",
       "<g id=\"node10\" class=\"node\">\n",
       "<title>node2(2)</title>\n",
       "<ellipse fill=\"none\" stroke=\"black\" cx=\"320.68\" cy=\"-142\" rx=\"51.99\" ry=\"18\"/>\n",
       "<text text-anchor=\"middle\" x=\"320.68\" y=\"-138.3\" font-family=\"Times,serif\" font-size=\"14.00\">node2(2)</text>\n",
       "</g>\n",
       "<!-- node1&#45;&gt;node2(2) -->\n",
       "<g id=\"edge21\" class=\"edge\">\n",
       "<title>node1&#45;&gt;node2(2)</title>\n",
       "<path fill=\"none\" stroke=\"black\" d=\"M201.32,-185.07C222.38,-177.41 250.91,-167.02 274.69,-158.37\"/>\n",
       "<polygon fill=\"black\" stroke=\"black\" points=\"276.01,-161.62 284.21,-154.91 273.62,-155.04 276.01,-161.62\"/>\n",
       "</g>\n",
       "<!-- .... -->\n",
       "<g id=\"node11\" class=\"node\">\n",
       "<title>....</title>\n",
       "<ellipse fill=\"none\" stroke=\"black\" cx=\"320.68\" cy=\"-88\" rx=\"27\" ry=\"18\"/>\n",
       "<text text-anchor=\"middle\" x=\"320.68\" y=\"-84.3\" font-family=\"Times,serif\" font-size=\"14.00\">....</text>\n",
       "</g>\n",
       "<!-- node1&#45;&gt;.... -->\n",
       "<g id=\"edge25\" class=\"edge\">\n",
       "<title>node1&#45;&gt;....</title>\n",
       "<path fill=\"none\" stroke=\"black\" d=\"M191.92,-180.98C218.34,-161.76 264.14,-128.42 293.13,-107.32\"/>\n",
       "<polygon fill=\"black\" stroke=\"black\" points=\"295.52,-109.91 301.55,-101.2 291.4,-104.25 295.52,-109.91\"/>\n",
       "</g>\n",
       "<!-- node500(2) -->\n",
       "<g id=\"node12\" class=\"node\">\n",
       "<title>node500(2)</title>\n",
       "<ellipse fill=\"none\" stroke=\"black\" cx=\"320.68\" cy=\"-34\" rx=\"63.89\" ry=\"18\"/>\n",
       "<text text-anchor=\"middle\" x=\"320.68\" y=\"-30.3\" font-family=\"Times,serif\" font-size=\"14.00\">node500(2)</text>\n",
       "</g>\n",
       "<!-- node1&#45;&gt;node500(2) -->\n",
       "<g id=\"edge29\" class=\"edge\">\n",
       "<title>node1&#45;&gt;node500(2)</title>\n",
       "<path fill=\"none\" stroke=\"black\" d=\"M186.33,-179.58C212.39,-151.13 266.07,-92.53 296.78,-59\"/>\n",
       "<polygon fill=\"black\" stroke=\"black\" points=\"299.53,-61.18 303.7,-51.45 294.36,-56.46 299.53,-61.18\"/>\n",
       "</g>\n",
       "<!-- node2&#45;&gt;node1(2) -->\n",
       "<g id=\"edge18\" class=\"edge\">\n",
       "<title>node2&#45;&gt;node1(2)</title>\n",
       "<path fill=\"none\" stroke=\"black\" d=\"M201.32,-152.93C222.38,-160.59 250.91,-170.98 274.69,-179.63\"/>\n",
       "<polygon fill=\"black\" stroke=\"black\" points=\"273.62,-182.96 284.21,-183.09 276.01,-176.38 273.62,-182.96\"/>\n",
       "</g>\n",
       "<!-- node2&#45;&gt;node2(2) -->\n",
       "<g id=\"edge22\" class=\"edge\">\n",
       "<title>node2&#45;&gt;node2(2)</title>\n",
       "<path fill=\"none\" stroke=\"black\" d=\"M209.5,-142C224.37,-142 241.77,-142 258.3,-142\"/>\n",
       "<polygon fill=\"black\" stroke=\"black\" points=\"258.45,-145.5 268.45,-142 258.45,-138.5 258.45,-145.5\"/>\n",
       "</g>\n",
       "<!-- node2&#45;&gt;.... -->\n",
       "<g id=\"edge26\" class=\"edge\">\n",
       "<title>node2&#45;&gt;....</title>\n",
       "<path fill=\"none\" stroke=\"black\" d=\"M201.32,-131.07C226.14,-122.04 261.33,-109.23 286.88,-99.93\"/>\n",
       "<polygon fill=\"black\" stroke=\"black\" points=\"288.3,-103.14 296.5,-96.43 285.91,-96.56 288.3,-103.14\"/>\n",
       "</g>\n",
       "<!-- node2&#45;&gt;node500(2) -->\n",
       "<g id=\"edge30\" class=\"edge\">\n",
       "<title>node2&#45;&gt;node500(2)</title>\n",
       "<path fill=\"none\" stroke=\"black\" d=\"M191.92,-126.98C216.86,-108.84 259.07,-78.11 288.11,-56.98\"/>\n",
       "<polygon fill=\"black\" stroke=\"black\" points=\"290.26,-59.74 296.29,-51.02 286.14,-54.08 290.26,-59.74\"/>\n",
       "</g>\n",
       "<!-- ...&#45;&gt;node1(2) -->\n",
       "<g id=\"edge19\" class=\"edge\">\n",
       "<title>...&#45;&gt;node1(2)</title>\n",
       "<path fill=\"none\" stroke=\"black\" d=\"M189.19,-101.03C213.88,-119 258.77,-151.67 288.9,-173.6\"/>\n",
       "<polygon fill=\"black\" stroke=\"black\" points=\"287.22,-176.7 297.36,-179.76 291.34,-171.04 287.22,-176.7\"/>\n",
       "</g>\n",
       "<!-- ...&#45;&gt;node2(2) -->\n",
       "<g id=\"edge23\" class=\"edge\">\n",
       "<title>...&#45;&gt;node2(2)</title>\n",
       "<path fill=\"none\" stroke=\"black\" d=\"M194.48,-96.44C215.89,-104.23 248.3,-116.02 274.78,-125.66\"/>\n",
       "<polygon fill=\"black\" stroke=\"black\" points=\"273.64,-128.97 284.23,-129.1 276.03,-122.39 273.64,-128.97\"/>\n",
       "</g>\n",
       "<!-- ...&#45;&gt;.... -->\n",
       "<g id=\"edge27\" class=\"edge\">\n",
       "<title>...&#45;&gt;....</title>\n",
       "<path fill=\"none\" stroke=\"black\" d=\"M197.48,-88C221.28,-88 256.62,-88 283.19,-88\"/>\n",
       "<polygon fill=\"black\" stroke=\"black\" points=\"283.25,-91.5 293.25,-88 283.25,-84.5 283.25,-91.5\"/>\n",
       "</g>\n",
       "<!-- ...&#45;&gt;node500(2) -->\n",
       "<g id=\"edge31\" class=\"edge\">\n",
       "<title>...&#45;&gt;node500(2)</title>\n",
       "<path fill=\"none\" stroke=\"black\" d=\"M194.48,-79.56C214.93,-72.12 245.41,-61.03 271.18,-51.65\"/>\n",
       "<polygon fill=\"black\" stroke=\"black\" points=\"272.59,-54.86 280.79,-48.15 270.19,-48.28 272.59,-54.86\"/>\n",
       "</g>\n",
       "<!-- node500&#45;&gt;node1(2) -->\n",
       "<g id=\"edge20\" class=\"edge\">\n",
       "<title>node500&#45;&gt;node1(2)</title>\n",
       "<path fill=\"none\" stroke=\"black\" d=\"M186.89,-51.03C213.2,-79.76 266.52,-137.97 296.98,-171.22\"/>\n",
       "<polygon fill=\"black\" stroke=\"black\" points=\"294.51,-173.7 303.84,-178.71 299.67,-168.97 294.51,-173.7\"/>\n",
       "</g>\n",
       "<!-- node500&#45;&gt;node2(2) -->\n",
       "<g id=\"edge24\" class=\"edge\">\n",
       "<title>node500&#45;&gt;node2(2)</title>\n",
       "<path fill=\"none\" stroke=\"black\" d=\"M193.5,-50.17C218.86,-68.62 260.48,-98.91 288.94,-119.62\"/>\n",
       "<polygon fill=\"black\" stroke=\"black\" points=\"287.17,-122.67 297.31,-125.72 291.29,-117.01 287.17,-122.67\"/>\n",
       "</g>\n",
       "<!-- node500&#45;&gt;.... -->\n",
       "<g id=\"edge28\" class=\"edge\">\n",
       "<title>node500&#45;&gt;....</title>\n",
       "<path fill=\"none\" stroke=\"black\" d=\"M206.46,-46.8C230.75,-55.64 262.86,-67.32 286.67,-75.99\"/>\n",
       "<polygon fill=\"black\" stroke=\"black\" points=\"285.73,-79.37 296.33,-79.5 288.12,-72.79 285.73,-79.37\"/>\n",
       "</g>\n",
       "<!-- node500&#45;&gt;node500(2) -->\n",
       "<g id=\"edge32\" class=\"edge\">\n",
       "<title>node500&#45;&gt;node500(2)</title>\n",
       "<path fill=\"none\" stroke=\"black\" d=\"M221.11,-34C229.34,-34 238.02,-34 246.68,-34\"/>\n",
       "<polygon fill=\"black\" stroke=\"black\" points=\"246.81,-37.5 256.81,-34 246.81,-30.5 246.81,-37.5\"/>\n",
       "</g>\n",
       "<!-- y10 -->\n",
       "<g id=\"node13\" class=\"node\">\n",
       "<title>y10</title>\n",
       "<ellipse fill=\"none\" stroke=\"black\" cx=\"480.32\" cy=\"-61\" rx=\"27.9\" ry=\"18\"/>\n",
       "<text text-anchor=\"middle\" x=\"480.32\" y=\"-57.3\" font-family=\"Times,serif\" font-size=\"14.00\">y10</text>\n",
       "</g>\n",
       "<!-- node1(2)&#45;&gt;y10 -->\n",
       "<g id=\"edge33\" class=\"edge\">\n",
       "<title>node1(2)&#45;&gt;y10</title>\n",
       "<path fill=\"none\" stroke=\"black\" d=\"M341.33,-179.18C370.12,-154.52 423.73,-108.61 454.98,-81.84\"/>\n",
       "<polygon fill=\"black\" stroke=\"black\" points=\"457.47,-84.32 462.79,-75.16 452.92,-79 457.47,-84.32\"/>\n",
       "</g>\n",
       "<!-- y1 -->\n",
       "<g id=\"node14\" class=\"node\">\n",
       "<title>y1</title>\n",
       "<ellipse fill=\"none\" stroke=\"black\" cx=\"480.32\" cy=\"-169\" rx=\"27\" ry=\"18\"/>\n",
       "<text text-anchor=\"middle\" x=\"480.32\" y=\"-165.3\" font-family=\"Times,serif\" font-size=\"14.00\">y1</text>\n",
       "</g>\n",
       "<!-- node1(2)&#45;&gt;y1 -->\n",
       "<g id=\"edge37\" class=\"edge\">\n",
       "<title>node1(2)&#45;&gt;y1</title>\n",
       "<path fill=\"none\" stroke=\"black\" d=\"M367.7,-188.12C392.02,-183.95 421.41,-178.92 443.93,-175.06\"/>\n",
       "<polygon fill=\"black\" stroke=\"black\" points=\"444.8,-178.46 454.06,-173.33 443.62,-171.56 444.8,-178.46\"/>\n",
       "</g>\n",
       "<!-- . -->\n",
       "<g id=\"node15\" class=\"node\">\n",
       "<title>.</title>\n",
       "<ellipse fill=\"none\" stroke=\"black\" cx=\"480.32\" cy=\"-115\" rx=\"27\" ry=\"18\"/>\n",
       "<text text-anchor=\"middle\" x=\"480.32\" y=\"-111.3\" font-family=\"Times,serif\" font-size=\"14.00\">.</text>\n",
       "</g>\n",
       "<!-- node1(2)&#45;&gt;. -->\n",
       "<g id=\"edge41\" class=\"edge\">\n",
       "<title>node1(2)&#45;&gt;.</title>\n",
       "<path fill=\"none\" stroke=\"black\" d=\"M350.59,-181.14C378.54,-166.78 420.72,-145.11 449.1,-130.53\"/>\n",
       "<polygon fill=\"black\" stroke=\"black\" points=\"450.86,-133.56 458.16,-125.87 447.66,-127.33 450.86,-133.56\"/>\n",
       "</g>\n",
       "<!-- node2(2)&#45;&gt;y10 -->\n",
       "<g id=\"edge34\" class=\"edge\">\n",
       "<title>node2(2)&#45;&gt;y10</title>\n",
       "<path fill=\"none\" stroke=\"black\" d=\"M350.59,-127.14C378.38,-112.86 420.24,-91.36 448.61,-76.78\"/>\n",
       "<polygon fill=\"black\" stroke=\"black\" points=\"450.39,-79.8 457.68,-72.12 447.19,-73.58 450.39,-79.8\"/>\n",
       "</g>\n",
       "<!-- node2(2)&#45;&gt;y1 -->\n",
       "<g id=\"edge38\" class=\"edge\">\n",
       "<title>node2(2)&#45;&gt;y1</title>\n",
       "<path fill=\"none\" stroke=\"black\" d=\"M367.7,-149.88C392.02,-154.05 421.41,-159.08 443.93,-162.94\"/>\n",
       "<polygon fill=\"black\" stroke=\"black\" points=\"443.62,-166.44 454.06,-164.67 444.8,-159.54 443.62,-166.44\"/>\n",
       "</g>\n",
       "<!-- node2(2)&#45;&gt;. -->\n",
       "<g id=\"edge42\" class=\"edge\">\n",
       "<title>node2(2)&#45;&gt;.</title>\n",
       "<path fill=\"none\" stroke=\"black\" d=\"M367.7,-134.12C392.02,-129.95 421.41,-124.92 443.93,-121.06\"/>\n",
       "<polygon fill=\"black\" stroke=\"black\" points=\"444.8,-124.46 454.06,-119.33 443.62,-117.56 444.8,-124.46\"/>\n",
       "</g>\n",
       "<!-- ....&#45;&gt;y10 -->\n",
       "<g id=\"edge35\" class=\"edge\">\n",
       "<title>....&#45;&gt;y10</title>\n",
       "<path fill=\"none\" stroke=\"black\" d=\"M347.01,-83.66C373.01,-79.21 413.72,-72.24 443.12,-67.2\"/>\n",
       "<polygon fill=\"black\" stroke=\"black\" points=\"443.74,-70.65 453,-65.51 442.56,-63.75 443.74,-70.65\"/>\n",
       "</g>\n",
       "<!-- ....&#45;&gt;y1 -->\n",
       "<g id=\"edge39\" class=\"edge\">\n",
       "<title>....&#45;&gt;y1</title>\n",
       "<path fill=\"none\" stroke=\"black\" d=\"M342.61,-98.76C369.94,-112.8 417.95,-137.46 449.19,-153.52\"/>\n",
       "<polygon fill=\"black\" stroke=\"black\" points=\"447.81,-156.74 458.3,-158.2 451.01,-150.52 447.81,-156.74\"/>\n",
       "</g>\n",
       "<!-- ....&#45;&gt;. -->\n",
       "<g id=\"edge43\" class=\"edge\">\n",
       "<title>....&#45;&gt;.</title>\n",
       "<path fill=\"none\" stroke=\"black\" d=\"M347.01,-92.34C373.32,-96.85 414.7,-103.93 444.17,-108.98\"/>\n",
       "<polygon fill=\"black\" stroke=\"black\" points=\"443.61,-112.43 454.06,-110.67 444.79,-105.53 443.61,-112.43\"/>\n",
       "</g>\n",
       "<!-- node500(2)&#45;&gt;y10 -->\n",
       "<g id=\"edge36\" class=\"edge\">\n",
       "<title>node500(2)&#45;&gt;y10</title>\n",
       "<path fill=\"none\" stroke=\"black\" d=\"M375.49,-43.22C397.82,-47.04 423.14,-51.38 443.18,-54.81\"/>\n",
       "<polygon fill=\"black\" stroke=\"black\" points=\"442.69,-58.28 453.14,-56.52 443.88,-51.38 442.69,-58.28\"/>\n",
       "</g>\n",
       "<!-- node500(2)&#45;&gt;y1 -->\n",
       "<g id=\"edge40\" class=\"edge\">\n",
       "<title>node500(2)&#45;&gt;y1</title>\n",
       "<path fill=\"none\" stroke=\"black\" d=\"M341.64,-51.1C370.55,-75.85 423.97,-121.6 455.09,-148.25\"/>\n",
       "<polygon fill=\"black\" stroke=\"black\" points=\"452.99,-151.06 462.86,-154.91 457.55,-145.74 452.99,-151.06\"/>\n",
       "</g>\n",
       "<!-- node500(2)&#45;&gt;. -->\n",
       "<g id=\"edge44\" class=\"edge\">\n",
       "<title>node500(2)&#45;&gt;.</title>\n",
       "<path fill=\"none\" stroke=\"black\" d=\"M352.45,-49.81C380.34,-64.14 421.22,-85.14 448.98,-99.41\"/>\n",
       "<polygon fill=\"black\" stroke=\"black\" points=\"447.71,-102.69 458.21,-104.15 450.91,-96.47 447.71,-102.69\"/>\n",
       "</g>\n",
       "</g>\n",
       "</svg>\n"
      ],
      "text/plain": [
       "<graphviz.sources.Source at 0x7f1e61906b60>"
      ]
     },
     "execution_count": 10,
     "metadata": {},
     "output_type": "execute_result"
    }
   ],
   "source": [
    "#collapse\n",
    "gv('''\n",
    "splines=line\n",
    "subgraph cluster_1{\n",
    "    style=filled;\n",
    "    color=lightgrey;\n",
    "    \"x1\"\n",
    "    \"x2\"\n",
    "    \"..\"\n",
    "    \"x784\"\n",
    "    label = \"Layer 0\"\n",
    "}\n",
    "subgraph cluster_2{\n",
    "    style=filled;\n",
    "    color=lightgrey;\n",
    "    \"x1\" -> \"node1\"\n",
    "    \"x2\" -> \"node1\"\n",
    "    \"..\" -> \"node1\"\n",
    "\n",
    "    \"x784\" -> \"node1\"\n",
    "    \"x1\" -> \"node2\"\n",
    "    \"x2\" -> \"node2\"\n",
    "    \"..\" -> \"node2\"\n",
    "    \"x784\" -> \"node2\"\n",
    "\n",
    "    \"x1\" -> \"...\"\n",
    "    \"x2\" -> \"...\"\n",
    "    \"..\" -> \"...\"\n",
    "    \"x784\" -> \"...\"\n",
    "\n",
    "    \"x1\" -> \"node500\"\n",
    "    \"x2\" -> \"node500\"\n",
    "    \"..\" -> \"node500\"\n",
    "    \"x784\" -> \"node500\"\n",
    "\n",
    "\n",
    "    label = \"Layer 1: relu\"\n",
    "}\n",
    "\n",
    "subgraph cluster_3{\n",
    "    style=filled;\n",
    "    color=lightgrey;\n",
    "\n",
    "    \"node1\" -> \"node1(2)\"\n",
    "    \"node2\" -> \"node1(2)\"\n",
    "    \"...\" -> \"node1(2)\"\n",
    "    \"node500\" -> \"node1(2)\"\n",
    "\n",
    "    \"node1\" -> \"node2(2)\"\n",
    "    \"node2\" -> \"node2(2)\"\n",
    "    \"...\" -> \"node2(2)\"\n",
    "    \"node500\" -> \"node2(2)\"\n",
    "\n",
    "    \"node1\" -> \"....\"\n",
    "    \"node2\" -> \"....\"\n",
    "    \"...\" -> \"....\"\n",
    "    \"node500\" -> \"....\"\n",
    "\n",
    "    \"node1\" -> \"node500(2)\"\n",
    "    \"node2\" -> \"node500(2)\"\n",
    "    \"...\" -> \"node500(2)\"\n",
    "    \"node500\" -> \"node500(2)\"\n",
    "\n",
    "\n",
    "    label = \"Layer 2: relu\"\n",
    "}\n",
    "\n",
    "subgraph cluster_4{\n",
    "    style=filled;\n",
    "    color=lightgrey;\n",
    "\n",
    "    \"node1(2)\" -> \"y10\"\n",
    "    \"node2(2)\" -> \"y10\"\n",
    "    \"....\" -> \"y10\"\n",
    "    \"node500(2)\" -> \"y10\"\n",
    "\n",
    "    \"node1(2)\" -> \"y1\"\n",
    "    \"node2(2)\" -> \"y1\"\n",
    "    \"....\" -> \"y1\"\n",
    "    \"node500(2)\" -> \"y1\"\n",
    "\n",
    "    \"node1(2)\" -> \".\"\n",
    "    \"node2(2)\" -> \".\"\n",
    "    \"....\" -> \".\"\n",
    "    \"node500(2)\" -> \".\"\n",
    "\n",
    "    label = \"Layer 3: softmax\"\n",
    "}\n",
    "''')"
   ]
  },
  {
   "cell_type": "code",
   "execution_count": 22,
   "id": "9639a6d2-a2e7-4046-9b64-892738cb0c24",
   "metadata": {
    "id": "9639a6d2-a2e7-4046-9b64-892738cb0c24",
    "outputId": "18c4d5be-9e49-4294-ad49-fd85c680aee3"
   },
   "outputs": [
    {
     "name": "stdout",
     "output_type": "stream",
     "text": [
      "Epoch 1/5\n",
      "1875/1875 [==============================] - 3s 1ms/step - loss: 2.3745 - accuracy: 0.7530\n",
      "Epoch 2/5\n",
      "1875/1875 [==============================] - 3s 1ms/step - loss: 0.6109 - accuracy: 0.7965\n",
      "Epoch 3/5\n",
      "1875/1875 [==============================] - 3s 1ms/step - loss: 0.5170 - accuracy: 0.8190\n",
      "Epoch 4/5\n",
      "1875/1875 [==============================] - 2s 1ms/step - loss: 0.4650 - accuracy: 0.8356\n",
      "Epoch 5/5\n",
      "1875/1875 [==============================] - 2s 1ms/step - loss: 0.4269 - accuracy: 0.8481\n"
     ]
    },
    {
     "data": {
      "text/plain": [
       "<keras.callbacks.History at 0x7f8fa06980d0>"
      ]
     },
     "execution_count": 22,
     "metadata": {},
     "output_type": "execute_result"
    }
   ],
   "source": [
    "net = tf.keras.Sequential()\n",
    "net.add(tf.keras.layers.Dense(500,activation = 'relu'))\n",
    "net.add(tf.keras.layers.Dense(500,activation = 'relu'))\n",
    "net.add(tf.keras.layers.Dense(10,activation = 'softmax'))\n",
    "net.compile(loss=tf.losses.categorical_crossentropy, optimizer='adam',metrics=['accuracy'])\n",
    "net.fit(X,y,epochs=5)"
   ]
  },
  {
   "cell_type": "code",
   "execution_count": null,
   "id": "689c2fd0-b977-49e8-9a8b-94ac65e72cdc",
   "metadata": {
    "id": "689c2fd0-b977-49e8-9a8b-94ac65e72cdc",
    "outputId": "182c8e89-c0b7-4031-8265-3cbfb3efe47d"
   },
   "outputs": [
    {
     "name": "stdout",
     "output_type": "stream",
     "text": [
      "313/313 [==============================] - 0s 714us/step - loss: 0.4323 - accuracy: 0.8456\n"
     ]
    },
    {
     "data": {
      "text/plain": [
       "[0.4322887063026428, 0.8456000089645386]"
      ]
     },
     "execution_count": 12,
     "metadata": {},
     "output_type": "execute_result"
    }
   ],
   "source": [
    "net.evaluate(XX,yy)"
   ]
  },
  {
   "cell_type": "code",
   "execution_count": null,
   "id": "8c388a79-e555-449c-b8d0-480a4cadca08",
   "metadata": {
    "id": "8c388a79-e555-449c-b8d0-480a4cadca08",
    "outputId": "88295bc9-565a-432d-f4c6-ca42b26a0a9e"
   },
   "outputs": [
    {
     "name": "stdout",
     "output_type": "stream",
     "text": [
      "Model: \"sequential_1\"\n",
      "_________________________________________________________________\n",
      " Layer (type)                Output Shape              Param #   \n",
      "=================================================================\n",
      " dense_2 (Dense)             (None, 500)               392500    \n",
      "                                                                 \n",
      " dense_3 (Dense)             (None, 500)               250500    \n",
      "                                                                 \n",
      " dense_4 (Dense)             (None, 10)                5010      \n",
      "                                                                 \n",
      "=================================================================\n",
      "Total params: 648,010\n",
      "Trainable params: 648,010\n",
      "Non-trainable params: 0\n",
      "_________________________________________________________________\n"
     ]
    }
   ],
   "source": [
    "net.summary()"
   ]
  },
  {
   "cell_type": "markdown",
   "id": "56881dce-e37c-47da-8d44-4a5306094392",
   "metadata": {
    "id": "56881dce-e37c-47da-8d44-4a5306094392",
    "tags": []
   },
   "source": [
    "## 평가지표"
   ]
  },
  {
   "cell_type": "markdown",
   "id": "44e1103c-8fb4-4cc4-9d83-323ff5761536",
   "metadata": {
    "id": "44e1103c-8fb4-4cc4-9d83-323ff5761536"
   },
   "source": [
    "### 다양한 평가지표들"
   ]
  },
  {
   "cell_type": "markdown",
   "id": "0aeca2c1-d5b0-4760-8dfc-1d980bbe501e",
   "metadata": {
    "id": "0aeca2c1-d5b0-4760-8dfc-1d980bbe501e"
   },
   "source": [
    "`-` 의문: 왜 다양한 평가지표가 필요한가? (accuray면 끝나는거 아닌가? 더 이상 뭐가 필요해?)"
   ]
  },
  {
   "cell_type": "markdown",
   "id": "8b7f2f2f-c498-43da-8160-14fda54d4101",
   "metadata": {
    "id": "8b7f2f2f-c498-43da-8160-14fda54d4101"
   },
   "source": [
    "`-` 여러가지 평가지표들: https://en.wikipedia.org/wiki/Positive_and_negative_predictive_values\n",
    "- 이걸 다 암기하는건 불가능함.\n",
    "- 몇 개만 뽑아서 암기하고 왜 쓰는지만 생각해보고 넘어가자!"
   ]
  },
  {
   "cell_type": "markdown",
   "id": "3b177c93-1d52-4c48-bdb3-b063cae18903",
   "metadata": {
    "id": "3b177c93-1d52-4c48-bdb3-b063cae18903"
   },
   "source": [
    "### confusion matrix의 이해"
   ]
  },
  {
   "cell_type": "markdown",
   "id": "3f08dbd0-8e0d-4e15-9434-ca4fd1a81e60",
   "metadata": {
    "id": "3f08dbd0-8e0d-4e15-9434-ca4fd1a81e60"
   },
   "source": [
    "`-` 표1"
   ]
  },
  {
   "cell_type": "markdown",
   "id": "e134e892-e919-461e-bbdd-1220b1a2ede1",
   "metadata": {
    "id": "e134e892-e919-461e-bbdd-1220b1a2ede1"
   },
   "source": [
    "| |퇴사(예측)|안나감(예측)|\n",
    "|:-:|:-:|:-:|\n",
    "|퇴사(실제)|TP|FN|\n",
    "|안나감(실제)| FP| TN|"
   ]
  },
  {
   "cell_type": "markdown",
   "id": "20973ab7-3221-46d9-a29b-1309fc03c416",
   "metadata": {
    "id": "20973ab7-3221-46d9-a29b-1309fc03c416"
   },
   "source": [
    "`-` 표2 (책에없음)"
   ]
  },
  {
   "cell_type": "markdown",
   "id": "9b61a75a-ce73-4c57-8fbb-d4845b697583",
   "metadata": {
    "id": "9b61a75a-ce73-4c57-8fbb-d4845b697583"
   },
   "source": [
    "| |퇴사(예측)|안나감(예측)|\n",
    "|:-:|:-:|:-:|\n",
    "|퇴사(실제)|$(y,\\hat{y})= $ (O,O)|$(y,\\hat{y})= $(O,X)|\n",
    "|안나감(실제)| $(y,\\hat{y})= $(X,O)| $(y,\\hat{y})= $(X,X)|"
   ]
  },
  {
   "cell_type": "markdown",
   "id": "901d550c-6ef2-4904-a6e3-005195092cc7",
   "metadata": {
    "id": "901d550c-6ef2-4904-a6e3-005195092cc7"
   },
   "source": [
    "`-` 표3 (책에없음)"
   ]
  },
  {
   "cell_type": "markdown",
   "id": "6d57f627-4707-4fc7-a37d-9ed2d1a1e046",
   "metadata": {
    "id": "6d57f627-4707-4fc7-a37d-9ed2d1a1e046"
   },
   "source": [
    "| |퇴사(예측)|안나감(예측)|\n",
    "|:-:|:-:|:-:|\n",
    "|퇴사(실제)|TP, $\\# O/O$ |FN, $\\#O/X$|\n",
    "|안나감(실제)| FP, $\\#X/O$| TN, $\\#X/X$|"
   ]
  },
  {
   "cell_type": "markdown",
   "id": "b2c32968-6720-4a44-abb0-ac984ce02fdc",
   "metadata": {
    "id": "b2c32968-6720-4a44-abb0-ac984ce02fdc"
   },
   "source": [
    "- 암기법, (1) 두번째 글자를 그대로 쓴다 (2) 첫글자가 T이면 분류를 제대로한것, 첫글자가 F이면 분류를 잘못한것"
   ]
  },
  {
   "cell_type": "markdown",
   "id": "760b7899-86ce-4c7d-b33c-4f28d6481dd2",
   "metadata": {
    "id": "760b7899-86ce-4c7d-b33c-4f28d6481dd2"
   },
   "source": [
    "`-` 표4 (위키등에 있음)"
   ]
  },
  {
   "cell_type": "markdown",
   "id": "6dcfba33-552b-48b6-a33c-2d6f353f94f8",
   "metadata": {
    "id": "6dcfba33-552b-48b6-a33c-2d6f353f94f8"
   },
   "source": [
    "| |퇴사(예측)|안나감(예측)| |\n",
    "|:-:|:-:|:-:|:-:|\n",
    "|퇴사(실제)| TP, $\\# O/O$ |FN, $\\# O/X$| Sensitivity(민감도)=Recall(재현율)=$\\frac{TP}{TP+FN}$=$\\frac{\\#O/O}{\\# O/O+ \\#O/X}$|\n",
    "|안나감(실제)| FP, $\\# X/O$| TN, $\\# X/X$| |\n",
    "| |Precision(프리시즌)=$\\frac{TP}{TP+FP}$=$\\frac{\\# O/O}{\\# O/O+\\# X/O}$| |Accuracy(애큐러시)=$\\frac{TP+TN}{total}$=$\\frac{\\#O/O+\\# X/X}{total}$|"
   ]
  },
  {
   "cell_type": "markdown",
   "id": "d6790646-6489-41d5-a55a-19b53714b68c",
   "metadata": {
    "id": "d6790646-6489-41d5-a55a-19b53714b68c"
   },
   "source": [
    "### 상황극"
   ]
  },
  {
   "cell_type": "markdown",
   "id": "d8f8fefe-653b-4fac-8a5b-4685bbf1e91f",
   "metadata": {
    "id": "d8f8fefe-653b-4fac-8a5b-4685bbf1e91f"
   },
   "source": [
    "`-` 최규빈은 입사하여 \"퇴사자 예측시스템\"의 개발에 들어갔다."
   ]
  },
  {
   "cell_type": "markdown",
   "id": "d186fefe-7229-4c1d-908d-f41012e62bdb",
   "metadata": {
    "id": "d186fefe-7229-4c1d-908d-f41012e62bdb"
   },
   "source": [
    "`-` 자료의 특성상 대부분의 사람이 퇴사하지 않고 회사에 잘 다닌다. 즉 1000명이 있으면 10명정도 퇴사한다."
   ]
  },
  {
   "cell_type": "markdown",
   "id": "315b79c7-9c45-4c6d-bbe0-02630068db97",
   "metadata": {
    "id": "315b79c7-9c45-4c6d-bbe0-02630068db97"
   },
   "source": [
    "### Accuracy"
   ]
  },
  {
   "cell_type": "markdown",
   "id": "4c3fb5c4-d1e2-48cb-9aea-82f7afc0b33a",
   "metadata": {
    "id": "4c3fb5c4-d1e2-48cb-9aea-82f7afc0b33a"
   },
   "source": [
    "`-` 정의: Accuracy(애큐러시)=$\\frac{TP+TN}{total}$=$\\frac{\\#O/O+ \\#X/X}{total}$\n",
    "- 한국말로는 정확도, 정분류율이라고 한다.\n",
    "- 한국말이 헷갈리므로 그냥 영어를 외우는게 좋다. (어차피 Keras에서 옵션도 영어로 넣음)"
   ]
  },
  {
   "cell_type": "markdown",
   "id": "0f113d5d-4523-488c-ae19-58168a0e7708",
   "metadata": {
    "id": "0f113d5d-4523-488c-ae19-58168a0e7708"
   },
   "source": [
    "`-` (상확극 시점1) 왜 애큐러시는 불충분한가?\n",
    "- 회사: 퇴사자예측프로그램 개발해\n",
    "- 최규빈: 귀찮은데 다 안나간다고 하자! -> 99퍼의 accuracy\n",
    "\n",
    "> 모델에 사용한 파라메터 = 0. 그런데 애큐러시 = 99! 이거 엄청 좋은 모형이다?\n"
   ]
  },
  {
   "cell_type": "markdown",
   "id": "da1af1f5-7fd0-4985-a21b-4bb78b1b1b0c",
   "metadata": {
    "id": "da1af1f5-7fd0-4985-a21b-4bb78b1b1b0c"
   },
   "source": [
    "### Sensitivity(민감도), Recall(재현율), True Positive Rate(TPR)"
   ]
  },
  {
   "cell_type": "markdown",
   "id": "af74cefd-38de-4d46-bcf5-45dc840442da",
   "metadata": {
    "id": "af74cefd-38de-4d46-bcf5-45dc840442da"
   },
   "source": [
    "`-` 정의: Sensitivity(민감도)=Recall(재현율)=$\\frac{TP}{TP+FN}$=$\\frac{\\# O/O}{\\# O/O+\\# O/X}$\n",
    "- 분모: 실제 O인 관측치 수\n",
    "- 분자: 실제 O를 O라고 예측한 관측치 수\n",
    "- 뜻: 실제 O를 O라고 예측한 비율"
   ]
  },
  {
   "cell_type": "markdown",
   "id": "ebe6de05-f3e5-4ad9-aa73-5d855512331e",
   "metadata": {
    "id": "ebe6de05-f3e5-4ad9-aa73-5d855512331e"
   },
   "source": [
    "`-` (상황극 시점2) recall을 봐야하는 이유\n",
    "- 인사팀: 실제 퇴사자를 퇴사자로 예측해야 의미가 있음! 우리는 퇴사할것 같은 10명을 찍어달란 의미였어요! (그래야 면담을 하든 할거아냐!)\n",
    "- 최규빈: 가볍고(=파라메터 적고) 잘 맞추는 모형 만들어 달라면서요?\n"
   ]
  },
  {
   "cell_type": "markdown",
   "id": "9750589e-07b1-48a8-a682-4a203075173a",
   "metadata": {
    "id": "9750589e-07b1-48a8-a682-4a203075173a"
   },
   "source": [
    "- 인사팀: (고민중..) 사실 생각해보니까 이 경우는 애큐러시는 의미가 없네. 실제 나간 사람 중 최규빈이 나간다고 한 사람이 몇인지 카운트 하는게 더 의미가 있겠다. 우리는 앞으로 리컬(혹은 민감도)를 보겠다!\n",
    "\n",
    "> 예시1: 실제로 퇴사한 10명중 최규빈이 나간다고 찍은 사람이 5명이면 리컬이 50%\n",
    "\n",
    "> 예시2: 최규빈이 아무도 나가지 않는다고 예측해버린다? 실제 10명중에서 최규빈이 나간다고 적중시킨사람은 0명이므로 이 경우 리컬은 0%"
   ]
  },
  {
   "cell_type": "markdown",
   "id": "1bc361ae-c0c0-4946-a75f-6bb3127374f4",
   "metadata": {
    "id": "1bc361ae-c0c0-4946-a75f-6bb3127374f4"
   },
   "source": [
    "- 결론: 우리가 필요한건 recall이니까 앞으로 recall을 가져와! accuracy는 큰 의미없어. (그래도 명색이 모델인데 accuracy가 90은 되면 좋겠다)"
   ]
  },
  {
   "cell_type": "markdown",
   "id": "c363653f-3754-45c2-ad44-dcd2dac77ddd",
   "metadata": {
    "id": "c363653f-3754-45c2-ad44-dcd2dac77ddd"
   },
   "source": [
    "### Precision"
   ]
  },
  {
   "cell_type": "markdown",
   "id": "4c860208-82fe-4ef0-8501-f523df342349",
   "metadata": {
    "id": "4c860208-82fe-4ef0-8501-f523df342349"
   },
   "source": [
    "`-` 정의: Precision(프리시즌)=$\\frac{TP}{TP+FP}$=$\\frac{\\# O/O}{\\# O/O+\\# X/O}$\n",
    "- 분모: O라고 예측한 관측치\n",
    "- 분자: O라고 예측한 관측치중 진짜 O인 관측치\n",
    "- 뜻: O라고 예측한 관측치중 진짜 O인 비율"
   ]
  },
  {
   "cell_type": "markdown",
   "id": "921094c0-0baa-4123-9fdb-825940d47a7f",
   "metadata": {
    "id": "921094c0-0baa-4123-9fdb-825940d47a7f"
   },
   "source": [
    "`-` (상황극 시점3) recall 만으로 불충분한 이유\n",
    "\n",
    "- 최규빈: 에휴.. 귀찮은데 그냥 좀만 수틀리면 다 나갈것 같다고 해야겠다. -> 한 100명 나간다고 했음 -> 실제로 최규빈이 찍은 100명중에 10명이 다 나감!"
   ]
  },
  {
   "cell_type": "markdown",
   "id": "62337a64-6c48-4c1e-b7d1-935b308702c4",
   "metadata": {
    "id": "62337a64-6c48-4c1e-b7d1-935b308702c4"
   },
   "source": [
    "> 이 경우 애큐러시는 91%, 리컬은 100% (퇴사자 10명을 일단은 다 맞췄으므로)."
   ]
  },
  {
   "cell_type": "markdown",
   "id": "9552c5bb-dc5b-454a-9e85-c78f51b71a12",
   "metadata": {
    "id": "9552c5bb-dc5b-454a-9e85-c78f51b71a12"
   },
   "source": [
    "- 인사팀: (화가 많이 남) 멀쩡한 사람까지 다 퇴사할 것 같다고 하면 어떡해요? 최규빈 연구원이 나간다고 한 100명중에 실제로 10명만 나갔어요.\n",
    "\n",
    "- 인사팀: 마치 총으로 과녁중앙에 맞춰 달라고 했더니 기관총을 가져와서 한번 긁은것이랑 뭐가 달라요? 맞추는게 문제가 아니고 precision이 너무 낮아요."
   ]
  },
  {
   "cell_type": "markdown",
   "id": "1a77c5a8-93d7-468a-b6f9-9eea8c519d1d",
   "metadata": {
    "id": "1a77c5a8-93d7-468a-b6f9-9eea8c519d1d"
   },
   "source": [
    "- 최규빈: accuracy 90% 이상, recall은 높을수록 좋다는게 주문 아니었나요?"
   ]
  },
  {
   "cell_type": "markdown",
   "id": "854eb2a6-07c4-4509-baaa-1715ea98289e",
   "metadata": {
    "id": "854eb2a6-07c4-4509-baaa-1715ea98289e"
   },
   "source": [
    "- 인사팀: (고민중..) 앞으로는 recall과 함께 precision도 같이 제출하세요. precision은 당신이 나간다고 한 사람중에 실제 나간사람의 비율을 의미해요. 이 경우는 $\\frac{10}{100}$이니까 precision이 10%입니다. (속마음: recall 올리겠다고 무작정 너무 많이 예측하지 말란 말이야!)"
   ]
  },
  {
   "cell_type": "markdown",
   "id": "c7c84d80-ac8d-43c4-9ead-6270d14ba9e6",
   "metadata": {
    "id": "c7c84d80-ac8d-43c4-9ead-6270d14ba9e6"
   },
   "source": [
    "### F1 score"
   ]
  },
  {
   "cell_type": "markdown",
   "id": "21bf3b4c-56ee-45ec-9eab-b86bad04c16b",
   "metadata": {
    "id": "21bf3b4c-56ee-45ec-9eab-b86bad04c16b"
   },
   "source": [
    "`-` 정의: recall과 precision의 조화평균"
   ]
  },
  {
   "cell_type": "markdown",
   "id": "6c1d9e51-51a0-4574-ab82-085f59f3baec",
   "metadata": {
    "id": "6c1d9e51-51a0-4574-ab82-085f59f3baec"
   },
   "source": [
    "`-` (상황극 시점4) recall, precision을 모두 고려"
   ]
  },
  {
   "cell_type": "markdown",
   "id": "21d8c192-4831-472b-8e1e-03117d13e6dc",
   "metadata": {
    "id": "21d8c192-4831-472b-8e1e-03117d13e6dc"
   },
   "source": [
    "- 최규빈: recall/precision을 같이 내는건 좋은데요, 둘은 trade off의 관계에 있습니다. 물론 둘다 올리는 모형이 있다면 좋지만 그게 쉽지는 않아요. 보통은 precision을 올리려면 recall이 희생되는 면이 있고요, recall을 올리려고 하면 precision이 다소 떨어집니다.\n",
    "\n",
    "- 최규빈: 평가기준이 애매하다는 의미입니다. 모형1,2가 있는데 모형1은 모형2보다 precision이 약간 좋고 대신 recall이 떨어진다면 모형1이 좋은것입니까? 아니면 모형2가 좋은것입니까?"
   ]
  },
  {
   "cell_type": "markdown",
   "id": "6c809454-ce58-4a16-8517-a0bdf0e63538",
   "metadata": {
    "id": "6c809454-ce58-4a16-8517-a0bdf0e63538"
   },
   "source": [
    "- 인사팀: 그렇다면 둘을 평균내서 F1score를 계산해서 제출해주세요."
   ]
  },
  {
   "cell_type": "markdown",
   "id": "e1ebff1a-cea1-4bd5-8014-c6709924042d",
   "metadata": {
    "id": "e1ebff1a-cea1-4bd5-8014-c6709924042d"
   },
   "source": [
    "### Specificity(특이도), False Positive Rate(FPR)"
   ]
  },
  {
   "cell_type": "markdown",
   "id": "ce0e8e51-43af-4a32-8a50-5e6b6d53e83e",
   "metadata": {
    "id": "ce0e8e51-43af-4a32-8a50-5e6b6d53e83e"
   },
   "source": [
    "`-` 정의:\n",
    "\n",
    "(1) Specificity(특이도)=$\\frac{TN}{FP+TN}$=$\\frac{\\# X/X}{\\# X/O+\\# X/X}$\n",
    "\n",
    "(2) False Positive Rate (FPR) = 1-Specificity(특이도) = $\\frac{FP}{FP+TN}$=$\\frac{\\# X/O}{\\# X/O+\\# X/X}$"
   ]
  },
  {
   "cell_type": "markdown",
   "id": "46bed8ac-e7c1-43d3-b28c-b68c5fa9dfd8",
   "metadata": {
    "id": "46bed8ac-e7c1-43d3-b28c-b68c5fa9dfd8"
   },
   "source": [
    "`-` 의미: **FPR = 오해해서 미안해, recall(=TPR)을 올리려고 보니 어쩔 수 없었어 ㅠㅠ**\n",
    "- specificity는 안나간 사람을 안나갔다고 찾아낸 비율인데 별로 안중요하다.\n",
    "- FPR은 recall을 올리기 위해서 \"실제로는 회사 잘 다니고 있는 사람 중 최규빈이 나갈것 같다고 찍은 사람들\" 의 비율이다."
   ]
  },
  {
   "cell_type": "markdown",
   "id": "df9f85db-c924-4c72-a41f-a1ebea2e86bb",
   "metadata": {
    "id": "df9f85db-c924-4c72-a41f-a1ebea2e86bb"
   },
   "source": [
    "> 즉 생사람잡은 비율.. 오해해서 미안한 사람의 비율.."
   ]
  },
  {
   "cell_type": "markdown",
   "id": "f1353132-53d5-43ee-a056-1a6eaae00a60",
   "metadata": {
    "id": "f1353132-53d5-43ee-a056-1a6eaae00a60"
   },
   "source": [
    "### ROC curve"
   ]
  },
  {
   "cell_type": "markdown",
   "id": "ec1813b5-402b-403e-b164-6c77ddbf7292",
   "metadata": {
    "id": "ec1813b5-402b-403e-b164-6c77ddbf7292"
   },
   "source": [
    "`-` 정의: $x$축=FPR, $y$축=TPR 을 그린 커브"
   ]
  },
  {
   "cell_type": "markdown",
   "id": "39139e17-7ff1-406d-a885-3a142d097fc1",
   "metadata": {
    "id": "39139e17-7ff1-406d-a885-3a142d097fc1"
   },
   "source": [
    "`-` 의미:\n",
    "- 결국 \"오해해서 미안해 vs recall\"을 그린 곡선이 ROC커브이다.\n",
    "- 생각해보면 오해하는 사람이 많을수록 당연히 recall은 올라간다. 따라서 우상향하는 곡선이다.\n",
    "- 오해한 사람이 매우 적은데 recall이 우수하면 매우 좋은 모형이다. 그래서 초반부터 ROC값이 급격하게 올라가면 좋은 모형이다."
   ]
  },
  {
   "cell_type": "markdown",
   "id": "32c631a5-5aa2-435f-a2c1-eba3febf4e17",
   "metadata": {
    "id": "32c631a5-5aa2-435f-a2c1-eba3febf4e17"
   },
   "source": [
    "### Fashion MNIST 다양한 평가지표활용"
   ]
  },
  {
   "cell_type": "markdown",
   "id": "a5392ff8-5d1e-4f69-85b7-409a18bad916",
   "metadata": {
    "id": "a5392ff8-5d1e-4f69-85b7-409a18bad916"
   },
   "source": [
    "`-` data"
   ]
  },
  {
   "cell_type": "code",
   "execution_count": 23,
   "id": "5487d598-4921-40ad-8f26-5985177e5e5e",
   "metadata": {
    "id": "5487d598-4921-40ad-8f26-5985177e5e5e"
   },
   "outputs": [],
   "source": [
    "(x_train, y_train), (x_test, y_test) = tf.keras.datasets.fashion_mnist.load_data()"
   ]
  },
  {
   "cell_type": "code",
   "execution_count": 24,
   "id": "3d627356-a40d-4047-bcd3-1e6b60c96d7d",
   "metadata": {
    "id": "3d627356-a40d-4047-bcd3-1e6b60c96d7d"
   },
   "outputs": [],
   "source": [
    "X= x_train.reshape(-1,784)\n",
    "y= tf.keras.utils.to_categorical(y_train)\n",
    "XX = x_test.reshape(-1,784)\n",
    "yy = tf.keras.utils.to_categorical(y_test)"
   ]
  },
  {
   "cell_type": "markdown",
   "id": "3b4b0197-669f-412c-bc5c-1d92ae63804b",
   "metadata": {
    "id": "3b4b0197-669f-412c-bc5c-1d92ae63804b"
   },
   "source": [
    "`-` 다양한 평가지표를 넣는 방법 (1)"
   ]
  },
  {
   "cell_type": "code",
   "execution_count": 25,
   "id": "b2520525-b628-467f-8bd5-de1137a179a1",
   "metadata": {
    "id": "b2520525-b628-467f-8bd5-de1137a179a1",
    "outputId": "751d6c18-af86-401c-da88-48a20c923927"
   },
   "outputs": [
    {
     "name": "stdout",
     "output_type": "stream",
     "text": [
      "Epoch 1/5\n",
      "1875/1875 [==============================] - 3s 1ms/step - loss: 2.1689 - accuracy: 0.7489 - recall: 0.7085\n",
      "Epoch 2/5\n",
      "1875/1875 [==============================] - 2s 1ms/step - loss: 0.6779 - accuracy: 0.7775 - recall: 0.7104\n",
      "Epoch 3/5\n",
      "1875/1875 [==============================] - 2s 1ms/step - loss: 0.6277 - accuracy: 0.7802 - recall: 0.7084\n",
      "Epoch 4/5\n",
      "1875/1875 [==============================] - 3s 1ms/step - loss: 0.5648 - accuracy: 0.7937 - recall: 0.7370\n",
      "Epoch 5/5\n",
      "1875/1875 [==============================] - 3s 1ms/step - loss: 0.5308 - accuracy: 0.8032 - recall: 0.7394\n"
     ]
    },
    {
     "data": {
      "text/plain": [
       "<keras.callbacks.History at 0x7f8fa054c2b0>"
      ]
     },
     "execution_count": 25,
     "metadata": {},
     "output_type": "execute_result"
    }
   ],
   "source": [
    "net = tf.keras.Sequential()\n",
    "net.add(tf.keras.layers.Dense(500,activation = 'relu'))\n",
    "net.add(tf.keras.layers.Dense(500,activation = 'relu'))\n",
    "net.add(tf.keras.layers.Dense(10,activation = 'softmax'))\n",
    "net.compile(loss=tf.losses.categorical_crossentropy, optimizer='adam',metrics=['accuracy','Recall'])\n",
    "net.fit(X,y,epochs=5)"
   ]
  },
  {
   "cell_type": "code",
   "execution_count": 26,
   "id": "ae250323-8244-4fcf-818d-ab290b380d5c",
   "metadata": {
    "id": "ae250323-8244-4fcf-818d-ab290b380d5c",
    "outputId": "fbc8b6cc-685d-488b-d5a7-eaa23d6978be"
   },
   "outputs": [
    {
     "name": "stdout",
     "output_type": "stream",
     "text": [
      "313/313 [==============================] - 0s 592us/step - loss: 0.6554 - accuracy: 0.7603 - recall: 0.7150\n"
     ]
    },
    {
     "data": {
      "text/plain": [
       "[0.6554250717163086, 0.7602999806404114, 0.7149999737739563]"
      ]
     },
     "execution_count": 26,
     "metadata": {},
     "output_type": "execute_result"
    }
   ],
   "source": [
    "net.evaluate(XX,yy)"
   ]
  },
  {
   "cell_type": "markdown",
   "id": "fffc3b7b-82e9-4cf2-956c-d427031c5638",
   "metadata": {
    "id": "fffc3b7b-82e9-4cf2-956c-d427031c5638"
   },
   "source": [
    "`-` 다양한 평가지표를 넣는 방법 (2)"
   ]
  },
  {
   "cell_type": "code",
   "execution_count": 27,
   "id": "a03a161d-eda3-4a17-b4e5-490758dae9f6",
   "metadata": {
    "id": "a03a161d-eda3-4a17-b4e5-490758dae9f6",
    "outputId": "d5927268-bd95-4027-d034-7e23f82da509"
   },
   "outputs": [
    {
     "name": "stdout",
     "output_type": "stream",
     "text": [
      "Epoch 1/5\n",
      "1875/1875 [==============================] - 3s 1ms/step - loss: 1.9477 - categorical_accuracy: 0.7461 - recall: 0.7014\n",
      "Epoch 2/5\n",
      "1875/1875 [==============================] - 3s 1ms/step - loss: 0.6755 - categorical_accuracy: 0.7792 - recall: 0.7217\n",
      "Epoch 3/5\n",
      "1875/1875 [==============================] - 3s 1ms/step - loss: 0.5605 - categorical_accuracy: 0.8143 - recall: 0.7659\n",
      "Epoch 4/5\n",
      "1875/1875 [==============================] - 3s 1ms/step - loss: 0.4762 - categorical_accuracy: 0.8356 - recall: 0.7929\n",
      "Epoch 5/5\n",
      "1875/1875 [==============================] - 3s 1ms/step - loss: 0.4460 - categorical_accuracy: 0.8422 - recall: 0.8033\n"
     ]
    },
    {
     "data": {
      "text/plain": [
       "<keras.callbacks.History at 0x7f904e1603d0>"
      ]
     },
     "execution_count": 27,
     "metadata": {},
     "output_type": "execute_result"
    }
   ],
   "source": [
    "net = tf.keras.Sequential()\n",
    "net.add(tf.keras.layers.Dense(500,activation = 'relu'))\n",
    "net.add(tf.keras.layers.Dense(500,activation = 'relu'))\n",
    "net.add(tf.keras.layers.Dense(10,activation = 'softmax'))\n",
    "net.compile(loss=tf.losses.categorical_crossentropy, optimizer='adam',metrics=[tf.metrics.CategoricalAccuracy(),tf.metrics.Recall()])\n",
    "net.fit(X,y,epochs=5)"
   ]
  },
  {
   "cell_type": "code",
   "execution_count": 28,
   "id": "14abd79c-435b-4ce7-af7b-0719976b7c01",
   "metadata": {
    "id": "14abd79c-435b-4ce7-af7b-0719976b7c01",
    "outputId": "22bd630a-919c-46b9-fbd9-18a29b1d03aa"
   },
   "outputs": [
    {
     "name": "stdout",
     "output_type": "stream",
     "text": [
      "313/313 [==============================] - 0s 590us/step - loss: 0.4699 - categorical_accuracy: 0.8353 - recall: 0.7885\n"
     ]
    },
    {
     "data": {
      "text/plain": [
       "[0.46987518668174744, 0.8353000283241272, 0.7885000109672546]"
      ]
     },
     "execution_count": 28,
     "metadata": {},
     "output_type": "execute_result"
    }
   ],
   "source": [
    "net.evaluate(XX,yy)"
   ]
  },
  {
   "cell_type": "markdown",
   "id": "795f463f-4b23-4f27-915d-700957ffc4bc",
   "metadata": {
    "id": "795f463f-4b23-4f27-915d-700957ffc4bc"
   },
   "source": [
    "## flatten layer"
   ]
  },
  {
   "cell_type": "markdown",
   "id": "3c3c5329-7881-4f97-8e5e-900649412cd9",
   "metadata": {
    "id": "3c3c5329-7881-4f97-8e5e-900649412cd9"
   },
   "source": [
    "`-` 이미지 데이터를 분류하기 좋은 형태로 자료를 재정리하자."
   ]
  },
  {
   "cell_type": "code",
   "execution_count": 30,
   "id": "3460393c-559f-414d-a430-6254c53bc74a",
   "metadata": {},
   "outputs": [
    {
     "data": {
      "text/plain": [
       "(60000, 28, 28)"
      ]
     },
     "execution_count": 30,
     "metadata": {},
     "output_type": "execute_result"
    }
   ],
   "source": [
    "x_train.shape"
   ]
  },
  {
   "cell_type": "code",
   "execution_count": 33,
   "id": "da3ef0bd-3a9c-4ca6-8dbf-2007bd9b5ef2",
   "metadata": {
    "id": "da3ef0bd-3a9c-4ca6-8dbf-2007bd9b5ef2"
   },
   "outputs": [],
   "source": [
    "X = tf.constant(x_train.reshape(-1,28,28,1),dtype=tf.float64)\n",
    "y = tf.keras.utils.to_categorical(y_train)\n",
    "XX = tf.constant(x_test.reshape(-1,28,28,1),dtype=tf.float64)\n",
    "yy = tf.keras.utils.to_categorical(y_test)"
   ]
  },
  {
   "cell_type": "code",
   "execution_count": 34,
   "id": "21764aed-4319-4d39-ba0a-9fd600128b6a",
   "metadata": {
    "id": "21764aed-4319-4d39-ba0a-9fd600128b6a",
    "outputId": "2b6d9072-7ed5-43c8-8e2b-ba8282f853ed"
   },
   "outputs": [
    {
     "data": {
      "text/plain": [
       "(TensorShape([60000, 28, 28, 1]),\n",
       " TensorShape([10000, 28, 28, 1]),\n",
       " (60000, 10),\n",
       " (10000, 10))"
      ]
     },
     "execution_count": 34,
     "metadata": {},
     "output_type": "execute_result"
    }
   ],
   "source": [
    "X.shape,XX.shape,y.shape,yy.shape"
   ]
  },
  {
   "cell_type": "markdown",
   "id": "f250e492-4eff-4334-8fc0-0ae11811091b",
   "metadata": {
    "id": "f250e492-4eff-4334-8fc0-0ae11811091b"
   },
   "source": [
    "`-` 일반적인 이미지 분석 모형을 적용하기 용이한 데이터 형태로 정리했다. -> 그런데 모형에 넣고 돌릴려면 다시 차원을 펼쳐야 하지 않을까?"
   ]
  },
  {
   "cell_type": "markdown",
   "id": "4b6994d0-ffc1-4c35-8dc7-a146856516fa",
   "metadata": {
    "id": "4b6994d0-ffc1-4c35-8dc7-a146856516fa"
   },
   "source": [
    "`-` 안펼치고 하고싶다."
   ]
  },
  {
   "cell_type": "code",
   "execution_count": 35,
   "id": "c21237c0-5ab2-4324-9abe-4e88a1667be6",
   "metadata": {
    "id": "c21237c0-5ab2-4324-9abe-4e88a1667be6"
   },
   "outputs": [],
   "source": [
    "flttn = tf.keras.layers.Flatten()"
   ]
  },
  {
   "cell_type": "code",
   "execution_count": 36,
   "id": "81631691-7560-485f-87e0-ad53c8ddac26",
   "metadata": {
    "id": "81631691-7560-485f-87e0-ad53c8ddac26",
    "outputId": "0724ac69-c622-427f-a9dc-add13dcdf9f2"
   },
   "outputs": [
    {
     "data": {
      "text/plain": [
       "{'__call__'}"
      ]
     },
     "execution_count": 36,
     "metadata": {},
     "output_type": "execute_result"
    }
   ],
   "source": [
    "set(dir(flttn)) & {'__call__'}"
   ]
  },
  {
   "cell_type": "code",
   "execution_count": 38,
   "id": "90459f13-c4b5-4f3d-9256-f8178b1f7770",
   "metadata": {
    "id": "90459f13-c4b5-4f3d-9256-f8178b1f7770",
    "outputId": "23553aba-0508-4596-9265-9e85d9dae8a5"
   },
   "outputs": [
    {
     "data": {
      "text/plain": [
       "(TensorShape([60000, 28, 28, 1]),\n",
       " TensorShape([60000, 784]),\n",
       " TensorShape([60000, 784]))"
      ]
     },
     "execution_count": 38,
     "metadata": {},
     "output_type": "execute_result"
    }
   ],
   "source": [
    "X.shape, flttn(X).shape, X.reshape(-1,784).shape"
   ]
  },
  {
   "cell_type": "markdown",
   "id": "aa82a14b-ecb7-4daa-b8f3-0ab2703ca609",
   "metadata": {},
   "source": [
    "- 같은 기능\n",
    "- 다른건? $\\to$ `layers` (layer로 넣을 수 있는 무기들 중 Flatten이 하나 추가됨!) $\\to$ 네트워크에 넣을 수 있겠다!"
   ]
  },
  {
   "cell_type": "markdown",
   "id": "1ab61301-d473-459c-9e6d-fec5aea652de",
   "metadata": {
    "id": "1ab61301-d473-459c-9e6d-fec5aea652de"
   },
   "source": [
    "`-` flttn"
   ]
  },
  {
   "cell_type": "markdown",
   "id": "775b8860-8ad5-430d-a34c-aaa76ae5676e",
   "metadata": {},
   "source": [
    "$X \\to \\text{Dense}(500, relu) \\to \\text{Dense}(500, relu) \\to \\text{Dense}(10,\\text{softmax}):=y$"
   ]
  },
  {
   "cell_type": "code",
   "execution_count": 39,
   "id": "4a393f7c-8854-4ff6-8219-da599094ed34",
   "metadata": {
    "id": "4a393f7c-8854-4ff6-8219-da599094ed34",
    "outputId": "a38a3b23-a0a8-4fc6-f38a-226c42f62274"
   },
   "outputs": [
    {
     "name": "stdout",
     "output_type": "stream",
     "text": [
      "Epoch 1/5\n",
      "1875/1875 [==============================] - 3s 1ms/step - loss: 2.5320 - categorical_accuracy: 0.7491 - recall_1: 0.7126\n",
      "Epoch 2/5\n",
      "1875/1875 [==============================] - 3s 1ms/step - loss: 0.6705 - categorical_accuracy: 0.7844 - recall_1: 0.7238\n",
      "Epoch 3/5\n",
      "1875/1875 [==============================] - 3s 1ms/step - loss: 0.5829 - categorical_accuracy: 0.8096 - recall_1: 0.7708\n",
      "Epoch 4/5\n",
      "1875/1875 [==============================] - 3s 1ms/step - loss: 0.4954 - categorical_accuracy: 0.8318 - recall_1: 0.7970\n",
      "Epoch 5/5\n",
      "1875/1875 [==============================] - 3s 1ms/step - loss: 0.4676 - categorical_accuracy: 0.8383 - recall_1: 0.8020\n"
     ]
    },
    {
     "data": {
      "text/plain": [
       "<keras.callbacks.History at 0x7f904e050940>"
      ]
     },
     "execution_count": 39,
     "metadata": {},
     "output_type": "execute_result"
    }
   ],
   "source": [
    "net = tf.keras.Sequential()\n",
    "net.add(tf.keras.layers.Flatten()) ## dimension을 맞춰주는 것을 네트워크 안으로 넣은 것.\n",
    "net.add(tf.keras.layers.Dense(500,activation = 'relu'))\n",
    "net.add(tf.keras.layers.Dense(500,activation = 'relu'))\n",
    "net.add(tf.keras.layers.Dense(10,activation = 'softmax'))\n",
    "net.compile(loss=tf.losses.categorical_crossentropy, optimizer='adam',metrics=[tf.metrics.CategoricalAccuracy(),tf.metrics.Recall()])\n",
    "net.fit(X,y,epochs=5)"
   ]
  },
  {
   "cell_type": "code",
   "execution_count": 40,
   "id": "a439eccf-6a79-4b74-a3bb-d532580ccd42",
   "metadata": {
    "id": "a439eccf-6a79-4b74-a3bb-d532580ccd42",
    "outputId": "561e1da9-61a7-483e-9162-806edff0fdfa"
   },
   "outputs": [
    {
     "data": {
      "text/plain": [
       "[<keras.layers.reshaping.flatten.Flatten at 0x7f904df61430>,\n",
       " <keras.layers.core.dense.Dense at 0x7f904df612e0>,\n",
       " <keras.layers.core.dense.Dense at 0x7f904deed700>,\n",
       " <keras.layers.core.dense.Dense at 0x7f904deed970>]"
      ]
     },
     "execution_count": 40,
     "metadata": {},
     "output_type": "execute_result"
    }
   ],
   "source": [
    "net.layers"
   ]
  },
  {
   "cell_type": "markdown",
   "id": "03439e76-2b88-4e93-ae45-5fc255f16f63",
   "metadata": {},
   "source": [
    "- Dense layer는 activation이 합쳐진 layer."
   ]
  },
  {
   "cell_type": "code",
   "execution_count": 58,
   "id": "52fb5add-b35d-42ac-8409-c13125525d2f",
   "metadata": {
    "id": "52fb5add-b35d-42ac-8409-c13125525d2f",
    "outputId": "107cc59a-ab5b-430c-a648-95f67b89638a"
   },
   "outputs": [
    {
     "name": "stdout",
     "output_type": "stream",
     "text": [
      "(60000, 28, 28, 1)\n",
      "(60000, 784)\n",
      "(60000, 500)\n",
      "(60000, 500)\n",
      "(60000, 10)\n"
     ]
    }
   ],
   "source": [
    "print(X.shape)\n",
    "print(net.layers[0](X).shape)\n",
    "print(net.layers[1](net.layers[0](X)).shape)\n",
    "print(net.layers[2](net.layers[1](net.layers[0](X))).shape)\n",
    "print(net.layers[3](net.layers[2](net.layers[1](net.layers[0](X)))).shape)"
   ]
  },
  {
   "cell_type": "code",
   "execution_count": 49,
   "id": "fba806e5-0176-4b2a-94f9-a78c17656642",
   "metadata": {},
   "outputs": [
    {
     "data": {
      "text/plain": [
       "<keras.layers.core.dense.Dense at 0x7f904df612e0>"
      ]
     },
     "execution_count": 49,
     "metadata": {},
     "output_type": "execute_result"
    }
   ],
   "source": [
    "net.layers[1]"
   ]
  },
  {
   "cell_type": "markdown",
   "id": "b9b8bbaa-90c7-46bc-bf2e-8963afae92df",
   "metadata": {
    "id": "b9b8bbaa-90c7-46bc-bf2e-8963afae92df"
   },
   "source": [
    "`-` 좀 더 복잡한 네트워크 -> 하지만 한계가 보인다 -> 좀 더 나은 아키텍처는 없을까"
   ]
  },
  {
   "cell_type": "code",
   "execution_count": 59,
   "id": "2dc10a37-ff44-4c0b-8d7d-301250920ee3",
   "metadata": {
    "id": "2dc10a37-ff44-4c0b-8d7d-301250920ee3",
    "outputId": "d0be1fb3-8d38-4451-da96-ac03b3272d60"
   },
   "outputs": [
    {
     "name": "stdout",
     "output_type": "stream",
     "text": [
      "Epoch 1/10\n",
      "1875/1875 [==============================] - 5s 2ms/step - loss: 1.1550 - accuracy: 0.7911\n",
      "Epoch 2/10\n",
      "1875/1875 [==============================] - 5s 2ms/step - loss: 0.4523 - accuracy: 0.8377\n",
      "Epoch 3/10\n",
      "1875/1875 [==============================] - 5s 2ms/step - loss: 0.4129 - accuracy: 0.8532\n",
      "Epoch 4/10\n",
      "1875/1875 [==============================] - 4s 2ms/step - loss: 0.3926 - accuracy: 0.8610\n",
      "Epoch 5/10\n",
      "1875/1875 [==============================] - 5s 2ms/step - loss: 0.3748 - accuracy: 0.8680\n",
      "Epoch 6/10\n",
      "1875/1875 [==============================] - 4s 2ms/step - loss: 0.3645 - accuracy: 0.8718\n",
      "Epoch 7/10\n",
      "1875/1875 [==============================] - 4s 2ms/step - loss: 0.3461 - accuracy: 0.8773\n",
      "Epoch 8/10\n",
      "1875/1875 [==============================] - 4s 2ms/step - loss: 0.3381 - accuracy: 0.8788\n",
      "Epoch 9/10\n",
      "1875/1875 [==============================] - 4s 2ms/step - loss: 0.3372 - accuracy: 0.8810\n",
      "Epoch 10/10\n",
      "1875/1875 [==============================] - 5s 2ms/step - loss: 0.3240 - accuracy: 0.8844\n"
     ]
    },
    {
     "data": {
      "text/plain": [
       "<keras.callbacks.History at 0x7f904e1d9d00>"
      ]
     },
     "execution_count": 59,
     "metadata": {},
     "output_type": "execute_result"
    }
   ],
   "source": [
    "tf.random.set_seed(43052)\n",
    "net = tf.keras.Sequential()\n",
    "net.add(tf.keras.layers.Flatten())\n",
    "net.add(tf.keras.layers.Dense(500,activation='relu'))\n",
    "net.add(tf.keras.layers.Dense(500,activation='relu'))\n",
    "net.add(tf.keras.layers.Dense(500,activation='relu'))\n",
    "net.add(tf.keras.layers.Dense(500,activation='relu'))\n",
    "net.add(tf.keras.layers.Dense(10,activation='softmax'))\n",
    "net.compile(loss=tf.losses.categorical_crossentropy, optimizer='adam',metrics='accuracy')\n",
    "net.fit(X,y,epochs=10)"
   ]
  },
  {
   "cell_type": "code",
   "execution_count": 61,
   "id": "657eb8de-9361-4a1e-8291-e881d3219357",
   "metadata": {},
   "outputs": [
    {
     "name": "stdout",
     "output_type": "stream",
     "text": [
      "Model: \"sequential_7\"\n",
      "_________________________________________________________________\n",
      " Layer (type)                Output Shape              Param #   \n",
      "=================================================================\n",
      " flatten_3 (Flatten)         (None, 784)               0         \n",
      "                                                                 \n",
      " dense_20 (Dense)            (None, 500)               392500    \n",
      "                                                                 \n",
      " dense_21 (Dense)            (None, 500)               250500    \n",
      "                                                                 \n",
      " dense_22 (Dense)            (None, 500)               250500    \n",
      "                                                                 \n",
      " dense_23 (Dense)            (None, 500)               250500    \n",
      "                                                                 \n",
      " dense_24 (Dense)            (None, 10)                5010      \n",
      "                                                                 \n",
      "=================================================================\n",
      "Total params: 1,149,010\n",
      "Trainable params: 1,149,010\n",
      "Non-trainable params: 0\n",
      "_________________________________________________________________\n"
     ]
    }
   ],
   "source": [
    "net.summary()"
   ]
  },
  {
   "cell_type": "code",
   "execution_count": 60,
   "id": "1fbd86a4-0826-4cc9-91fe-3a3350cec69f",
   "metadata": {
    "id": "1fbd86a4-0826-4cc9-91fe-3a3350cec69f",
    "outputId": "e7a65ed3-a7c3-4576-83ce-99bb108a98c1"
   },
   "outputs": [
    {
     "name": "stdout",
     "output_type": "stream",
     "text": [
      "313/313 [==============================] - 0s 752us/step - loss: 0.4136 - accuracy: 0.8566\n"
     ]
    },
    {
     "data": {
      "text/plain": [
       "[0.4136269986629486, 0.8565999865531921]"
      ]
     },
     "execution_count": 60,
     "metadata": {},
     "output_type": "execute_result"
    }
   ],
   "source": [
    "net.evaluate(XX,yy)"
   ]
  },
  {
   "cell_type": "markdown",
   "id": "459e6b23-e284-47ed-886c-89a59fa4128d",
   "metadata": {
    "id": "459e6b23-e284-47ed-886c-89a59fa4128d"
   },
   "source": [
    "`-` layer중에 우리는 끽해야 Dense정도 쓰고있었음. $\\to$ flatten과 같은 다른 layer도 많음. $\\to$ 이런것도 써보자"
   ]
  }
 ],
 "metadata": {
  "celltoolbar": "Slideshow",
  "colab": {
   "provenance": []
  },
  "kernelspec": {
   "display_name": "Python 3",
   "language": "python",
   "name": "python3"
  },
  "language_info": {
   "codemirror_mode": {
    "name": "ipython",
    "version": 3
   },
   "file_extension": ".py",
   "mimetype": "text/x-python",
   "name": "python",
   "nbconvert_exporter": "python",
   "pygments_lexer": "ipython3",
   "version": "3.8.16"
  }
 },
 "nbformat": 4,
 "nbformat_minor": 5
}
