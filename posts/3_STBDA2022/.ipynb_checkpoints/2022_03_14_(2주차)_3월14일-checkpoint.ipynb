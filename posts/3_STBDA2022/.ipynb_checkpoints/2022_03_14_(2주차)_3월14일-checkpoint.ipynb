{
 "cells": [
  {
   "cell_type": "raw",
   "id": "c784a464-9af9-4dc1-8c06-704f1908cd75",
   "metadata": {},
   "source": [
    "---\n",
    "title: \"**[STBDA]** 2wk. 텐서플로우 intro1 (tf.constant선언, tnp사용법) \" \n",
    "author: \"JiyunLim\"\n",
    "date: \"05/10/2023\"\n",
    "categories:\n",
    "    - 빅데이터분석특강\n",
    "---"
   ]
  },
  {
   "cell_type": "markdown",
   "id": "904c2d8f-accf-4a4a-86b3-e9a6361ba29a",
   "metadata": {
    "id": "904c2d8f-accf-4a4a-86b3-e9a6361ba29a"
   },
   "source": [
    "# (2주차) 3월14일"
   ]
  },
  {
   "cell_type": "markdown",
   "id": "f8237871-83f7-4736-a222-debd1a50fd46",
   "metadata": {
    "id": "f8237871-83f7-4736-a222-debd1a50fd46"
   },
   "source": [
    "### 강의노트 "
   ]
  },
  {
   "cell_type": "markdown",
   "id": "0d83a2b7-e08e-48cf-a8bb-6453c702dba4",
   "metadata": {
    "id": "0d83a2b7-e08e-48cf-a8bb-6453c702dba4"
   },
   "source": [
    "> youtube: https://youtube.com/playlist?list=PLQqh36zP38-z8oR8bQZHR0mpy_9OcsWOz"
   ]
  },
  {
   "cell_type": "markdown",
   "id": "cdc4da3d-9aaa-4a1a-ac19-5070c0a4cbf8",
   "metadata": {
    "id": "cdc4da3d-9aaa-4a1a-ac19-5070c0a4cbf8"
   },
   "source": [
    "### import "
   ]
  },
  {
   "cell_type": "code",
   "execution_count": 2,
   "id": "e18d4288-4668-45c2-a66f-5bb76f5b9ca2",
   "metadata": {
    "id": "e18d4288-4668-45c2-a66f-5bb76f5b9ca2"
   },
   "outputs": [],
   "source": [
    "import tensorflow as tf\n",
    "import numpy as np"
   ]
  },
  {
   "cell_type": "code",
   "execution_count": null,
   "id": "c4a78936-73df-4a20-8041-0d76aa07fd0f",
   "metadata": {
    "id": "c4a78936-73df-4a20-8041-0d76aa07fd0f",
    "outputId": "984babd6-ae77-4fed-e1e1-9521c75e555b"
   },
   "outputs": [
    {
     "data": {
      "text/plain": [
       "[PhysicalDevice(name='/physical_device:GPU:0', device_type='GPU')]"
      ]
     },
     "execution_count": 3,
     "metadata": {},
     "output_type": "execute_result"
    }
   ],
   "source": [
    "tf.config.experimental.list_physical_devices('GPU')"
   ]
  },
  {
   "cell_type": "code",
   "execution_count": 9,
   "id": "7a375c80-90b0-486c-bfb0-2eb08b5297f7",
   "metadata": {},
   "outputs": [
    {
     "data": {
      "text/plain": [
       "[]"
      ]
     },
     "execution_count": 9,
     "metadata": {},
     "output_type": "execute_result"
    }
   ],
   "source": [
    "tf.config.experimental.list_physical_devices('GPU')"
   ]
  },
  {
   "cell_type": "markdown",
   "id": "1f7d8172-8b82-4777-b922-aa46ea9e5a48",
   "metadata": {
    "id": "1f7d8172-8b82-4777-b922-aa46ea9e5a48"
   },
   "source": [
    "### tf.constant "
   ]
  },
  {
   "cell_type": "markdown",
   "id": "19d1b4f6-91ae-4638-b332-103dadaf6473",
   "metadata": {
    "id": "19d1b4f6-91ae-4638-b332-103dadaf6473"
   },
   "source": [
    "#### 예비학습: 중첩리스트 "
   ]
  },
  {
   "cell_type": "markdown",
   "id": "988425c2-1d49-456f-946b-c7e770458016",
   "metadata": {
    "id": "988425c2-1d49-456f-946b-c7e770458016"
   },
   "source": [
    "`-` 리스트"
   ]
  },
  {
   "cell_type": "code",
   "execution_count": 10,
   "id": "8ce62ead-2002-4e4c-b9c6-faef7c87e3a9",
   "metadata": {
    "id": "8ce62ead-2002-4e4c-b9c6-faef7c87e3a9",
    "outputId": "a3d7bb2a-3c3f-4c01-e279-84bd99935173"
   },
   "outputs": [
    {
     "data": {
      "text/plain": [
       "[1, 2, 4, 5, 6]"
      ]
     },
     "execution_count": 10,
     "metadata": {},
     "output_type": "execute_result"
    }
   ],
   "source": [
    "lst = [1,2,4,5,6]\n",
    "lst "
   ]
  },
  {
   "cell_type": "code",
   "execution_count": 11,
   "id": "640326fb-ac17-4f52-8fb6-f10d15dfc8c2",
   "metadata": {
    "id": "640326fb-ac17-4f52-8fb6-f10d15dfc8c2",
    "outputId": "f38c955e-ebd6-4e7d-8d3f-fe863c573d56"
   },
   "outputs": [
    {
     "data": {
      "text/plain": [
       "2"
      ]
     },
     "execution_count": 11,
     "metadata": {},
     "output_type": "execute_result"
    }
   ],
   "source": [
    "lst[1] # 두번쨰원소 "
   ]
  },
  {
   "cell_type": "code",
   "execution_count": 12,
   "id": "c8e2ee14-9ae9-4e4c-8995-f935bd33cbe2",
   "metadata": {
    "id": "c8e2ee14-9ae9-4e4c-8995-f935bd33cbe2",
    "outputId": "884165da-d4ce-4a35-ab2b-c605db7b6cf1"
   },
   "outputs": [
    {
     "data": {
      "text/plain": [
       "6"
      ]
     },
     "execution_count": 12,
     "metadata": {},
     "output_type": "execute_result"
    }
   ],
   "source": [
    "lst[-1] # 마지막원소 "
   ]
  },
  {
   "cell_type": "markdown",
   "id": "6d2dbe9f-74c2-455a-afb0-341aebc9531a",
   "metadata": {
    "id": "6d2dbe9f-74c2-455a-afb0-341aebc9531a"
   },
   "source": [
    "`-` (2,2) matrix 느낌의 list"
   ]
  },
  {
   "cell_type": "code",
   "execution_count": 13,
   "id": "94f4135c-5c14-4145-8c29-5a91f3d6bf62",
   "metadata": {
    "id": "94f4135c-5c14-4145-8c29-5a91f3d6bf62",
    "outputId": "7145debf-70be-4ec0-fcf7-b3d53286bdb2"
   },
   "outputs": [
    {
     "data": {
      "text/plain": [
       "[[1, 2], [3, 4]]"
      ]
     },
     "execution_count": 13,
     "metadata": {},
     "output_type": "execute_result"
    }
   ],
   "source": [
    "lst= [[1,2],[3,4]]\n",
    "lst"
   ]
  },
  {
   "cell_type": "markdown",
   "id": "eec78e89-0206-487f-a7b9-ef3c0785fb7d",
   "metadata": {
    "id": "eec78e89-0206-487f-a7b9-ef3c0785fb7d"
   },
   "source": [
    "위를 아래와 같은 매트릭스로 생각할수 있다. \n",
    "\n",
    "```\n",
    "1 2 \n",
    "3 4 \n",
    "```"
   ]
  },
  {
   "cell_type": "code",
   "execution_count": null,
   "id": "1633ffe1-7530-4f4b-9b83-d63288f62776",
   "metadata": {
    "id": "1633ffe1-7530-4f4b-9b83-d63288f62776",
    "outputId": "286540c9-6e45-481c-e516-de0e7a7c4cc5"
   },
   "outputs": [
    {
     "name": "stdout",
     "output_type": "stream",
     "text": [
      "1\n",
      "2\n",
      "3\n",
      "4\n"
     ]
    }
   ],
   "source": [
    "print(lst[0][0]) # (1,1) \n",
    "print(lst[0][1]) # (1,2) \n",
    "print(lst[1][0]) # (2,1) \n",
    "print(lst[1][1]) # (2,2) "
   ]
  },
  {
   "cell_type": "markdown",
   "id": "94ad7902-0710-4d6e-8bc1-490a3033b3b4",
   "metadata": {
    "id": "94ad7902-0710-4d6e-8bc1-490a3033b3b4"
   },
   "source": [
    "`-` (4,1) matrix 느낌의 list "
   ]
  },
  {
   "cell_type": "code",
   "execution_count": 30,
   "id": "c85cff1f-ee24-495a-98bf-6ca14b2fad7c",
   "metadata": {
    "id": "c85cff1f-ee24-495a-98bf-6ca14b2fad7c",
    "outputId": "97cb919a-525f-472e-fbaf-1d1de2dacb57"
   },
   "outputs": [
    {
     "data": {
      "text/plain": [
       "[[1], [2], [3], [4]]"
      ]
     },
     "execution_count": 30,
     "metadata": {},
     "output_type": "execute_result"
    }
   ],
   "source": [
    "lst=[[1],[2],[3],[4]] # (4,1) matrix = 길이가 4인 col-vector\n",
    "lst"
   ]
  },
  {
   "cell_type": "code",
   "execution_count": 32,
   "id": "83b6145b-eea2-442c-a351-29c95b1a4ccf",
   "metadata": {},
   "outputs": [
    {
     "data": {
      "text/plain": [
       "(array([[1],\n",
       "        [2],\n",
       "        [3],\n",
       "        [4]]),\n",
       " (4, 1))"
      ]
     },
     "execution_count": 32,
     "metadata": {},
     "output_type": "execute_result"
    }
   ],
   "source": [
    "np.array(lst), np.array(lst).shape"
   ]
  },
  {
   "cell_type": "markdown",
   "id": "74c7d4ca-1ce1-4eb6-ac69-9cd62e736f37",
   "metadata": {
    "id": "74c7d4ca-1ce1-4eb6-ac69-9cd62e736f37"
   },
   "source": [
    "`-` (1,4) matrix 느낌의 list "
   ]
  },
  {
   "cell_type": "code",
   "execution_count": 33,
   "id": "5e1a530e-afa6-430d-b7bd-ff78958483bc",
   "metadata": {
    "id": "5e1a530e-afa6-430d-b7bd-ff78958483bc",
    "outputId": "bcaeb72f-50b8-49bb-f123-5498d79efdfe"
   },
   "outputs": [
    {
     "data": {
      "text/plain": [
       "[[1, 2, 3, 4]]"
      ]
     },
     "execution_count": 33,
     "metadata": {},
     "output_type": "execute_result"
    }
   ],
   "source": [
    "lst=[[1,2,3,4]] # (1,4) matrix = 길이가 4인 row-vector \n",
    "lst"
   ]
  },
  {
   "cell_type": "code",
   "execution_count": 34,
   "id": "978b1da8-234e-4b6c-b30d-eb2c5bf5e4a0",
   "metadata": {},
   "outputs": [
    {
     "data": {
      "text/plain": [
       "(array([[1, 2, 3, 4]]), (1, 4))"
      ]
     },
     "execution_count": 34,
     "metadata": {},
     "output_type": "execute_result"
    }
   ],
   "source": [
    "np.array(lst), np.array(lst).shape"
   ]
  },
  {
   "cell_type": "markdown",
   "id": "6a4dd379-e9c5-4e5d-a3ec-c2383ae1ac56",
   "metadata": {
    "id": "6a4dd379-e9c5-4e5d-a3ec-c2383ae1ac56"
   },
   "source": [
    "#### 선언 (변수 선언하는 법?)"
   ]
  },
  {
   "cell_type": "markdown",
   "id": "08087523-47c8-445f-88a7-9902c798e54c",
   "metadata": {},
   "source": [
    "- 텐서플로우를 쓰려면 텐서로 바꿔줘야 한다."
   ]
  },
  {
   "cell_type": "markdown",
   "id": "679e7366-50a9-4034-87b4-962d1aa64090",
   "metadata": {
    "id": "679e7366-50a9-4034-87b4-962d1aa64090"
   },
   "source": [
    "`-` 스칼라 "
   ]
  },
  {
   "cell_type": "code",
   "execution_count": 35,
   "id": "43e60a45-17d6-4d2e-809a-9efe4ebec72c",
   "metadata": {
    "id": "43e60a45-17d6-4d2e-809a-9efe4ebec72c",
    "outputId": "1d3731fe-497d-4602-dc2c-fc2a25601514"
   },
   "outputs": [
    {
     "data": {
      "text/plain": [
       "<tf.Tensor: shape=(), dtype=float32, numpy=3.14>"
      ]
     },
     "execution_count": 35,
     "metadata": {},
     "output_type": "execute_result"
    }
   ],
   "source": [
    "tf.constant(3.14)"
   ]
  },
  {
   "cell_type": "code",
   "execution_count": 21,
   "id": "df80b9d7-4cc8-42d1-a32c-503170307103",
   "metadata": {
    "id": "df80b9d7-4cc8-42d1-a32c-503170307103",
    "outputId": "27ca9560-905a-4b9e-d962-aa863aa861db"
   },
   "outputs": [
    {
     "data": {
      "text/plain": [
       "<tf.Tensor: shape=(), dtype=float32, numpy=6.28>"
      ]
     },
     "execution_count": 21,
     "metadata": {},
     "output_type": "execute_result"
    }
   ],
   "source": [
    "tf.constant(3.14)+tf.constant(3.14)"
   ]
  },
  {
   "cell_type": "markdown",
   "id": "82978720-7a2d-4e6a-a601-1c983ba2156b",
   "metadata": {
    "id": "82978720-7a2d-4e6a-a601-1c983ba2156b"
   },
   "source": [
    "`-` 벡터"
   ]
  },
  {
   "cell_type": "code",
   "execution_count": 45,
   "id": "dc92daa5-6a00-43b8-a51c-0d3a74a339c0",
   "metadata": {},
   "outputs": [
    {
     "data": {
      "text/plain": [
       "(int, list, tensorflow.python.framework.ops.EagerTensor)"
      ]
     },
     "execution_count": 45,
     "metadata": {},
     "output_type": "execute_result"
    }
   ],
   "source": [
    "type(1),type([1,2,3]), type(_vector) # int 혹은 list 타입 --> EagerTensor 타입으로 바꾸라는 뜻."
   ]
  },
  {
   "cell_type": "code",
   "execution_count": 46,
   "id": "3501b056-7453-4904-96cd-d1fdb58bbc37",
   "metadata": {
    "id": "3501b056-7453-4904-96cd-d1fdb58bbc37"
   },
   "outputs": [],
   "source": [
    "_vector=tf.constant([1,2,3])"
   ]
  },
  {
   "cell_type": "code",
   "execution_count": 47,
   "id": "49086376-8dd6-48c1-831b-5a10661162e0",
   "metadata": {},
   "outputs": [
    {
     "data": {
      "text/plain": [
       "<tf.Tensor: shape=(), dtype=int32, numpy=3>"
      ]
     },
     "execution_count": 47,
     "metadata": {},
     "output_type": "execute_result"
    }
   ],
   "source": [
    "_vector[-1]"
   ]
  },
  {
   "cell_type": "markdown",
   "id": "b66e0cca-27d7-4891-89b8-82dee75a0176",
   "metadata": {
    "id": "b66e0cca-27d7-4891-89b8-82dee75a0176"
   },
   "source": [
    "`-` 매트릭스"
   ]
  },
  {
   "cell_type": "code",
   "execution_count": 48,
   "id": "2f85c204-a946-4b36-b843-0a46cdefba76",
   "metadata": {
    "id": "2f85c204-a946-4b36-b843-0a46cdefba76",
    "outputId": "14314a54-bf48-4af7-8c92-cf9664399c5b"
   },
   "outputs": [
    {
     "data": {
      "text/plain": [
       "<tf.Tensor: shape=(2, 2), dtype=int32, numpy=\n",
       "array([[1, 0],\n",
       "       [0, 1]], dtype=int32)>"
      ]
     },
     "execution_count": 48,
     "metadata": {},
     "output_type": "execute_result"
    }
   ],
   "source": [
    "_matrix= tf.constant([[1,0],[0,1]])\n",
    "_matrix"
   ]
  },
  {
   "cell_type": "markdown",
   "id": "9707518f-e69e-4734-a1cb-70bbf11697b0",
   "metadata": {
    "id": "9707518f-e69e-4734-a1cb-70bbf11697b0"
   },
   "source": [
    "`-` array"
   ]
  },
  {
   "cell_type": "code",
   "execution_count": 49,
   "id": "d1e10f35-6e03-4ca2-8c06-dcb691cde56c",
   "metadata": {
    "id": "d1e10f35-6e03-4ca2-8c06-dcb691cde56c",
    "outputId": "9c0d8cc1-d9b0-4738-d249-9bf5c073fb57"
   },
   "outputs": [
    {
     "data": {
      "text/plain": [
       "<tf.Tensor: shape=(2, 2, 3), dtype=int32, numpy=\n",
       "array([[[ 0,  1,  1],\n",
       "        [ 1,  2, -1]],\n",
       "\n",
       "       [[ 0,  1,  2],\n",
       "        [ 1,  2, -1]]], dtype=int32)>"
      ]
     },
     "execution_count": 49,
     "metadata": {},
     "output_type": "execute_result"
    }
   ],
   "source": [
    "tf.constant([[[0,1,1],[1,2,-1]],[[0,1,2],[1,2,-1]]])"
   ]
  },
  {
   "cell_type": "markdown",
   "id": "db79211f-706f-4388-9e10-6b057ec840fb",
   "metadata": {
    "id": "db79211f-706f-4388-9e10-6b057ec840fb"
   },
   "source": [
    "#### 타입"
   ]
  },
  {
   "cell_type": "code",
   "execution_count": 50,
   "id": "6fbb7e42-32dc-452e-97f1-eb8f4cd7e53d",
   "metadata": {
    "id": "6fbb7e42-32dc-452e-97f1-eb8f4cd7e53d",
    "outputId": "2a432ddf-6d03-47f6-d034-5cacaa5614d6"
   },
   "outputs": [
    {
     "data": {
      "text/plain": [
       "tensorflow.python.framework.ops.EagerTensor"
      ]
     },
     "execution_count": 50,
     "metadata": {},
     "output_type": "execute_result"
    }
   ],
   "source": [
    "type(tf.constant(3.14))"
   ]
  },
  {
   "cell_type": "markdown",
   "id": "3468d1b6-8e3b-401c-8a4e-007379de9c4f",
   "metadata": {},
   "source": [
    "- EagerTensor 타입이라는 것만 기억!"
   ]
  },
  {
   "cell_type": "markdown",
   "id": "f06b1e19-16d1-4667-b881-5aabf63c84d9",
   "metadata": {
    "id": "f06b1e19-16d1-4667-b881-5aabf63c84d9"
   },
   "source": [
    "#### 인덱싱 "
   ]
  },
  {
   "cell_type": "code",
   "execution_count": 51,
   "id": "1843d446-7d13-449a-a49a-f7863d452ef8",
   "metadata": {
    "id": "1843d446-7d13-449a-a49a-f7863d452ef8",
    "outputId": "f25f5aa9-fab8-46d9-bb15-04904f2f1e33"
   },
   "outputs": [
    {
     "data": {
      "text/plain": [
       "<tf.Tensor: shape=(2, 2), dtype=int32, numpy=\n",
       "array([[1, 2],\n",
       "       [3, 4]], dtype=int32)>"
      ]
     },
     "execution_count": 51,
     "metadata": {},
     "output_type": "execute_result"
    }
   ],
   "source": [
    "_matrix = tf.constant([[1,2],[3,4]])\n",
    "_matrix"
   ]
  },
  {
   "cell_type": "code",
   "execution_count": 52,
   "id": "607a83e5-ac70-407d-9246-8fa650d16e2f",
   "metadata": {
    "id": "607a83e5-ac70-407d-9246-8fa650d16e2f",
    "outputId": "0ff69249-9a04-4da7-e8a7-005844ff2f97"
   },
   "outputs": [
    {
     "data": {
      "text/plain": [
       "<tf.Tensor: shape=(), dtype=int32, numpy=1>"
      ]
     },
     "execution_count": 52,
     "metadata": {},
     "output_type": "execute_result"
    }
   ],
   "source": [
    "_matrix[0][0]"
   ]
  },
  {
   "cell_type": "code",
   "execution_count": 53,
   "id": "0b78e746-e6ac-4d19-a9ea-825abdfbbf28",
   "metadata": {
    "id": "0b78e746-e6ac-4d19-a9ea-825abdfbbf28",
    "outputId": "8a48b0f1-01c5-46ab-bd99-118b059c0fe9"
   },
   "outputs": [
    {
     "data": {
      "text/plain": [
       "<tf.Tensor: shape=(2,), dtype=int32, numpy=array([1, 2], dtype=int32)>"
      ]
     },
     "execution_count": 53,
     "metadata": {},
     "output_type": "execute_result"
    }
   ],
   "source": [
    "_matrix[0]"
   ]
  },
  {
   "cell_type": "code",
   "execution_count": 54,
   "id": "64cc08c4-088c-4e16-9be1-98395e7075b6",
   "metadata": {
    "id": "64cc08c4-088c-4e16-9be1-98395e7075b6",
    "outputId": "21279df2-a294-4cc6-c395-c75f1e137356"
   },
   "outputs": [
    {
     "data": {
      "text/plain": [
       "<tf.Tensor: shape=(2,), dtype=int32, numpy=array([1, 2], dtype=int32)>"
      ]
     },
     "execution_count": 54,
     "metadata": {},
     "output_type": "execute_result"
    }
   ],
   "source": [
    "_matrix[0,:]"
   ]
  },
  {
   "cell_type": "code",
   "execution_count": 55,
   "id": "1aaa7862-1ccc-4f48-bc0d-191a95ef773b",
   "metadata": {
    "id": "1aaa7862-1ccc-4f48-bc0d-191a95ef773b",
    "outputId": "5736004d-402a-4159-d9da-c22ee5a190f4"
   },
   "outputs": [
    {
     "data": {
      "text/plain": [
       "<tf.Tensor: shape=(2,), dtype=int32, numpy=array([1, 3], dtype=int32)>"
      ]
     },
     "execution_count": 55,
     "metadata": {},
     "output_type": "execute_result"
    }
   ],
   "source": [
    "_matrix[:,0]"
   ]
  },
  {
   "cell_type": "markdown",
   "id": "cebc2e49-6c71-47bf-a884-e8556c3198cf",
   "metadata": {
    "id": "cebc2e49-6c71-47bf-a884-e8556c3198cf"
   },
   "source": [
    "#### tf.constant는 불편하다. "
   ]
  },
  {
   "cell_type": "markdown",
   "id": "3f0d5c88-8aeb-4163-a0e8-a04c26ebd64e",
   "metadata": {
    "id": "3f0d5c88-8aeb-4163-a0e8-a04c26ebd64e"
   },
   "source": [
    "`-` 불편한점\n",
    "1. 모든 원소가 같은 dtype을 가지고 있어야함. \n",
    "2. 원소 수정이 불가능함. \n",
    "3. 묵시적 형변환이 불가능하다. "
   ]
  },
  {
   "cell_type": "markdown",
   "id": "665ca8fb-0d51-44cc-aac9-f8884808f78f",
   "metadata": {
    "id": "665ca8fb-0d51-44cc-aac9-f8884808f78f"
   },
   "source": [
    "`-` 원소수정이 불가능함 "
   ]
  },
  {
   "cell_type": "code",
   "execution_count": 56,
   "id": "0e82d6a5-9004-44be-b50e-5ffbe8384597",
   "metadata": {
    "id": "0e82d6a5-9004-44be-b50e-5ffbe8384597",
    "outputId": "efaabb5d-a6e4-43e9-cb33-a60c1919a11f"
   },
   "outputs": [
    {
     "data": {
      "text/plain": [
       "<tf.Tensor: shape=(3,), dtype=int32, numpy=array([ 1, 22, 33], dtype=int32)>"
      ]
     },
     "execution_count": 56,
     "metadata": {},
     "output_type": "execute_result"
    }
   ],
   "source": [
    "a=tf.constant([1,22,33])\n",
    "a"
   ]
  },
  {
   "cell_type": "code",
   "execution_count": 57,
   "id": "5fc80571-5c93-498c-bc68-1f7e8c14d238",
   "metadata": {
    "id": "5fc80571-5c93-498c-bc68-1f7e8c14d238",
    "outputId": "a08de37a-3a92-4eea-c23e-d764fea4869f"
   },
   "outputs": [
    {
     "ename": "TypeError",
     "evalue": "'tensorflow.python.framework.ops.EagerTensor' object does not support item assignment",
     "output_type": "error",
     "traceback": [
      "\u001b[0;31m---------------------------------------------------------------------------\u001b[0m",
      "\u001b[0;31mTypeError\u001b[0m                                 Traceback (most recent call last)",
      "Cell \u001b[0;32mIn[57], line 1\u001b[0m\n\u001b[0;32m----> 1\u001b[0m \u001b[43ma\u001b[49m\u001b[43m[\u001b[49m\u001b[38;5;241;43m0\u001b[39;49m\u001b[43m]\u001b[49m\u001b[38;5;241m=\u001b[39m\u001b[38;5;241m11\u001b[39m\n",
      "\u001b[0;31mTypeError\u001b[0m: 'tensorflow.python.framework.ops.EagerTensor' object does not support item assignment"
     ]
    }
   ],
   "source": [
    "a[0]=11 "
   ]
  },
  {
   "cell_type": "markdown",
   "id": "d2c51e51-36ed-4453-afd6-f2b9029fa0d1",
   "metadata": {
    "id": "d2c51e51-36ed-4453-afd6-f2b9029fa0d1"
   },
   "source": [
    "`-` 묵시적 형변환이 불가능하다 "
   ]
  },
  {
   "cell_type": "code",
   "execution_count": 59,
   "id": "b8de2c14-03cc-4533-b084-828b5ddf9a88",
   "metadata": {},
   "outputs": [
    {
     "data": {
      "text/plain": [
       "4.140000000000001"
      ]
     },
     "execution_count": 59,
     "metadata": {},
     "output_type": "execute_result"
    }
   ],
   "source": [
    "1 + 3.14 # 1(int), 3.14(float) --> 4.14(float)"
   ]
  },
  {
   "cell_type": "markdown",
   "id": "80c4973c-43bf-426f-8640-83363a289394",
   "metadata": {},
   "source": [
    "- 1을 float으로 암묵적으로 바꿔서 계산함."
   ]
  },
  {
   "cell_type": "code",
   "execution_count": 62,
   "id": "30a9382d-cb1a-4e3f-ab24-7870d0b77b5a",
   "metadata": {
    "id": "30a9382d-cb1a-4e3f-ab24-7870d0b77b5a",
    "outputId": "9c25da36-7207-457c-9900-4c6326a31556"
   },
   "outputs": [
    {
     "ename": "InvalidArgumentError",
     "evalue": "cannot compute AddV2 as input #1(zero-based) was expected to be a int32 tensor but is a float tensor [Op:AddV2]",
     "output_type": "error",
     "traceback": [
      "\u001b[0;31m---------------------------------------------------------------------------\u001b[0m",
      "\u001b[0;31mInvalidArgumentError\u001b[0m                      Traceback (most recent call last)",
      "Cell \u001b[0;32mIn[62], line 1\u001b[0m\n\u001b[0;32m----> 1\u001b[0m \u001b[43mtf\u001b[49m\u001b[38;5;241;43m.\u001b[39;49m\u001b[43mconstant\u001b[49m\u001b[43m(\u001b[49m\u001b[38;5;241;43m1\u001b[39;49m\u001b[43m)\u001b[49m\u001b[38;5;241;43m+\u001b[39;49m\u001b[43mtf\u001b[49m\u001b[38;5;241;43m.\u001b[39;49m\u001b[43mconstant\u001b[49m\u001b[43m(\u001b[49m\u001b[38;5;241;43m3.14\u001b[39;49m\u001b[43m)\u001b[49m \u001b[38;5;66;03m## 에러!\u001b[39;00m\n",
      "File \u001b[0;32m~/anaconda3/envs/torch/lib/python3.8/site-packages/tensorflow/python/util/traceback_utils.py:153\u001b[0m, in \u001b[0;36mfilter_traceback.<locals>.error_handler\u001b[0;34m(*args, **kwargs)\u001b[0m\n\u001b[1;32m    151\u001b[0m \u001b[38;5;28;01mexcept\u001b[39;00m \u001b[38;5;167;01mException\u001b[39;00m \u001b[38;5;28;01mas\u001b[39;00m e:\n\u001b[1;32m    152\u001b[0m   filtered_tb \u001b[38;5;241m=\u001b[39m _process_traceback_frames(e\u001b[38;5;241m.\u001b[39m__traceback__)\n\u001b[0;32m--> 153\u001b[0m   \u001b[38;5;28;01mraise\u001b[39;00m e\u001b[38;5;241m.\u001b[39mwith_traceback(filtered_tb) \u001b[38;5;28;01mfrom\u001b[39;00m \u001b[38;5;28mNone\u001b[39m\n\u001b[1;32m    154\u001b[0m \u001b[38;5;28;01mfinally\u001b[39;00m:\n\u001b[1;32m    155\u001b[0m   \u001b[38;5;28;01mdel\u001b[39;00m filtered_tb\n",
      "File \u001b[0;32m~/anaconda3/envs/torch/lib/python3.8/site-packages/tensorflow/python/framework/ops.py:7262\u001b[0m, in \u001b[0;36mraise_from_not_ok_status\u001b[0;34m(e, name)\u001b[0m\n\u001b[1;32m   7260\u001b[0m \u001b[38;5;28;01mdef\u001b[39;00m \u001b[38;5;21mraise_from_not_ok_status\u001b[39m(e, name):\n\u001b[1;32m   7261\u001b[0m   e\u001b[38;5;241m.\u001b[39mmessage \u001b[38;5;241m+\u001b[39m\u001b[38;5;241m=\u001b[39m (\u001b[38;5;124m\"\u001b[39m\u001b[38;5;124m name: \u001b[39m\u001b[38;5;124m\"\u001b[39m \u001b[38;5;241m+\u001b[39m name \u001b[38;5;28;01mif\u001b[39;00m name \u001b[38;5;129;01mis\u001b[39;00m \u001b[38;5;129;01mnot\u001b[39;00m \u001b[38;5;28;01mNone\u001b[39;00m \u001b[38;5;28;01melse\u001b[39;00m \u001b[38;5;124m\"\u001b[39m\u001b[38;5;124m\"\u001b[39m)\n\u001b[0;32m-> 7262\u001b[0m   \u001b[38;5;28;01mraise\u001b[39;00m core\u001b[38;5;241m.\u001b[39m_status_to_exception(e) \u001b[38;5;28;01mfrom\u001b[39;00m \u001b[38;5;28mNone\u001b[39m\n",
      "\u001b[0;31mInvalidArgumentError\u001b[0m: cannot compute AddV2 as input #1(zero-based) was expected to be a int32 tensor but is a float tensor [Op:AddV2]"
     ]
    }
   ],
   "source": [
    "tf.constant(1)+tf.constant(3.14) ## 에러!"
   ]
  },
  {
   "cell_type": "markdown",
   "id": "623eddaf-6d8c-41b4-b6f6-00514f9628c5",
   "metadata": {},
   "source": [
    "- int와 float이라 에러나는 것"
   ]
  },
  {
   "cell_type": "code",
   "execution_count": 63,
   "id": "253e4106-9c73-440e-ab39-470305770bf8",
   "metadata": {
    "id": "253e4106-9c73-440e-ab39-470305770bf8",
    "outputId": "7e1abb05-e211-4cdb-fc6a-8e5c4ee089e2"
   },
   "outputs": [
    {
     "data": {
      "text/plain": [
       "<tf.Tensor: shape=(), dtype=float32, numpy=4.1400003>"
      ]
     },
     "execution_count": 63,
     "metadata": {},
     "output_type": "execute_result"
    }
   ],
   "source": [
    "tf.constant(1.0)+tf.constant(3.14)"
   ]
  },
  {
   "cell_type": "markdown",
   "id": "51f12a82-3ffa-45ea-8718-fd78146a0e62",
   "metadata": {
    "id": "51f12a82-3ffa-45ea-8718-fd78146a0e62"
   },
   "source": [
    "`-` 같은 float도 안되는 경우가 있음 "
   ]
  },
  {
   "cell_type": "code",
   "execution_count": 64,
   "id": "c4e854b9-7e32-4322-bb18-7634c6e71b1b",
   "metadata": {
    "id": "c4e854b9-7e32-4322-bb18-7634c6e71b1b",
    "outputId": "de517774-efa4-42fe-c4c6-4678b6d9ba9e"
   },
   "outputs": [
    {
     "data": {
      "text/plain": [
       "<tf.Tensor: shape=(), dtype=float64, numpy=1.0>"
      ]
     },
     "execution_count": 64,
     "metadata": {},
     "output_type": "execute_result"
    }
   ],
   "source": [
    "tf.constant(1.0,dtype=tf.float64)"
   ]
  },
  {
   "cell_type": "code",
   "execution_count": 65,
   "id": "71a0d05d-5190-4055-93d7-7c93903ab04a",
   "metadata": {
    "id": "71a0d05d-5190-4055-93d7-7c93903ab04a",
    "outputId": "713c332b-fd18-47c1-ea0a-b1c6a96a66bc"
   },
   "outputs": [
    {
     "data": {
      "text/plain": [
       "<tf.Tensor: shape=(), dtype=float32, numpy=3.14>"
      ]
     },
     "execution_count": 65,
     "metadata": {},
     "output_type": "execute_result"
    }
   ],
   "source": [
    "tf.constant(3.14)"
   ]
  },
  {
   "cell_type": "code",
   "execution_count": 66,
   "id": "d95be72f-599e-42bc-a98a-1d39d4deedb2",
   "metadata": {
    "id": "d95be72f-599e-42bc-a98a-1d39d4deedb2",
    "outputId": "a26d3566-d34c-498e-9478-2bb6912ce096"
   },
   "outputs": [
    {
     "ename": "InvalidArgumentError",
     "evalue": "cannot compute AddV2 as input #1(zero-based) was expected to be a double tensor but is a float tensor [Op:AddV2]",
     "output_type": "error",
     "traceback": [
      "\u001b[0;31m---------------------------------------------------------------------------\u001b[0m",
      "\u001b[0;31mInvalidArgumentError\u001b[0m                      Traceback (most recent call last)",
      "Cell \u001b[0;32mIn[66], line 1\u001b[0m\n\u001b[0;32m----> 1\u001b[0m \u001b[43mtf\u001b[49m\u001b[38;5;241;43m.\u001b[39;49m\u001b[43mconstant\u001b[49m\u001b[43m(\u001b[49m\u001b[38;5;241;43m1.0\u001b[39;49m\u001b[43m,\u001b[49m\u001b[43mdtype\u001b[49m\u001b[38;5;241;43m=\u001b[39;49m\u001b[43mtf\u001b[49m\u001b[38;5;241;43m.\u001b[39;49m\u001b[43mfloat64\u001b[49m\u001b[43m)\u001b[49m\u001b[38;5;241;43m+\u001b[39;49m\u001b[43mtf\u001b[49m\u001b[38;5;241;43m.\u001b[39;49m\u001b[43mconstant\u001b[49m\u001b[43m(\u001b[49m\u001b[38;5;241;43m3.14\u001b[39;49m\u001b[43m)\u001b[49m\n",
      "File \u001b[0;32m~/anaconda3/envs/torch/lib/python3.8/site-packages/tensorflow/python/util/traceback_utils.py:153\u001b[0m, in \u001b[0;36mfilter_traceback.<locals>.error_handler\u001b[0;34m(*args, **kwargs)\u001b[0m\n\u001b[1;32m    151\u001b[0m \u001b[38;5;28;01mexcept\u001b[39;00m \u001b[38;5;167;01mException\u001b[39;00m \u001b[38;5;28;01mas\u001b[39;00m e:\n\u001b[1;32m    152\u001b[0m   filtered_tb \u001b[38;5;241m=\u001b[39m _process_traceback_frames(e\u001b[38;5;241m.\u001b[39m__traceback__)\n\u001b[0;32m--> 153\u001b[0m   \u001b[38;5;28;01mraise\u001b[39;00m e\u001b[38;5;241m.\u001b[39mwith_traceback(filtered_tb) \u001b[38;5;28;01mfrom\u001b[39;00m \u001b[38;5;28mNone\u001b[39m\n\u001b[1;32m    154\u001b[0m \u001b[38;5;28;01mfinally\u001b[39;00m:\n\u001b[1;32m    155\u001b[0m   \u001b[38;5;28;01mdel\u001b[39;00m filtered_tb\n",
      "File \u001b[0;32m~/anaconda3/envs/torch/lib/python3.8/site-packages/tensorflow/python/framework/ops.py:7262\u001b[0m, in \u001b[0;36mraise_from_not_ok_status\u001b[0;34m(e, name)\u001b[0m\n\u001b[1;32m   7260\u001b[0m \u001b[38;5;28;01mdef\u001b[39;00m \u001b[38;5;21mraise_from_not_ok_status\u001b[39m(e, name):\n\u001b[1;32m   7261\u001b[0m   e\u001b[38;5;241m.\u001b[39mmessage \u001b[38;5;241m+\u001b[39m\u001b[38;5;241m=\u001b[39m (\u001b[38;5;124m\"\u001b[39m\u001b[38;5;124m name: \u001b[39m\u001b[38;5;124m\"\u001b[39m \u001b[38;5;241m+\u001b[39m name \u001b[38;5;28;01mif\u001b[39;00m name \u001b[38;5;129;01mis\u001b[39;00m \u001b[38;5;129;01mnot\u001b[39;00m \u001b[38;5;28;01mNone\u001b[39;00m \u001b[38;5;28;01melse\u001b[39;00m \u001b[38;5;124m\"\u001b[39m\u001b[38;5;124m\"\u001b[39m)\n\u001b[0;32m-> 7262\u001b[0m   \u001b[38;5;28;01mraise\u001b[39;00m core\u001b[38;5;241m.\u001b[39m_status_to_exception(e) \u001b[38;5;28;01mfrom\u001b[39;00m \u001b[38;5;28mNone\u001b[39m\n",
      "\u001b[0;31mInvalidArgumentError\u001b[0m: cannot compute AddV2 as input #1(zero-based) was expected to be a double tensor but is a float tensor [Op:AddV2]"
     ]
    }
   ],
   "source": [
    "tf.constant(1.0,dtype=tf.float64)+tf.constant(3.14)"
   ]
  },
  {
   "cell_type": "markdown",
   "id": "45299001-db82-4ef5-952d-17e1ac890c03",
   "metadata": {},
   "source": [
    "- 조금만 틀리면 에러남.."
   ]
  },
  {
   "cell_type": "markdown",
   "id": "0f7a75ed-b984-4f27-9440-d57253cb89bd",
   "metadata": {
    "id": "0f7a75ed-b984-4f27-9440-d57253cb89bd"
   },
   "source": [
    "#### tf.constant $\\to$ 넘파이 "
   ]
  },
  {
   "cell_type": "code",
   "execution_count": 68,
   "id": "b0f01b69-4a9a-46d3-94f3-5e26bcf48ac8",
   "metadata": {
    "id": "b0f01b69-4a9a-46d3-94f3-5e26bcf48ac8",
    "outputId": "3506a719-76c5-4324-a23e-8a7413e98643"
   },
   "outputs": [
    {
     "data": {
      "text/plain": [
       "array(1, dtype=int32)"
      ]
     },
     "execution_count": 68,
     "metadata": {},
     "output_type": "execute_result"
    }
   ],
   "source": [
    "np.array(tf.constant(1)) # 방법1"
   ]
  },
  {
   "cell_type": "markdown",
   "id": "ca690014-4717-40d8-8b5f-dd0e35bf009c",
   "metadata": {},
   "source": [
    "- numpy로 연산을 다 해놓고 tensor로 바꾼다.."
   ]
  },
  {
   "cell_type": "code",
   "execution_count": 69,
   "id": "4e97a26f-6d2b-48d8-aa77-34ad2d2d748a",
   "metadata": {
    "id": "4e97a26f-6d2b-48d8-aa77-34ad2d2d748a",
    "outputId": "48e056cd-e365-4fb6-9091-15628847c3df"
   },
   "outputs": [
    {
     "data": {
      "text/plain": [
       "tensorflow.python.framework.ops.EagerTensor"
      ]
     },
     "execution_count": 69,
     "metadata": {},
     "output_type": "execute_result"
    }
   ],
   "source": [
    "a=tf.constant([3.14,-3.14])\n",
    "type(a)"
   ]
  },
  {
   "cell_type": "code",
   "execution_count": 71,
   "id": "8dbd0c41-9d05-459c-8347-ea25d92798ba",
   "metadata": {
    "id": "8dbd0c41-9d05-459c-8347-ea25d92798ba",
    "outputId": "65050da9-033c-448c-f154-7de31304e1c1"
   },
   "outputs": [
    {
     "data": {
      "text/plain": [
       "array([ 3.14, -3.14], dtype=float32)"
      ]
     },
     "execution_count": 71,
     "metadata": {},
     "output_type": "execute_result"
    }
   ],
   "source": [
    "a.numpy() # numpy라는 메서드가 있음."
   ]
  },
  {
   "cell_type": "markdown",
   "id": "b1e11f1e-122d-4de3-95e8-e8eda9dac045",
   "metadata": {
    "id": "b1e11f1e-122d-4de3-95e8-e8eda9dac045",
    "tags": []
   },
   "source": [
    "#### 연산"
   ]
  },
  {
   "cell_type": "markdown",
   "id": "56d2fe05-93cc-4f76-a9a2-a65db01ee991",
   "metadata": {
    "id": "56d2fe05-93cc-4f76-a9a2-a65db01ee991"
   },
   "source": [
    "`-` 더하기 "
   ]
  },
  {
   "cell_type": "code",
   "execution_count": 72,
   "id": "5bb395b3-3a2c-4080-b459-c8c5047ac8ca",
   "metadata": {
    "id": "5bb395b3-3a2c-4080-b459-c8c5047ac8ca",
    "outputId": "90e6b069-0513-4072-ccdf-a7fc463d7f93"
   },
   "outputs": [
    {
     "data": {
      "text/plain": [
       "<tf.Tensor: shape=(2,), dtype=int32, numpy=array([4, 6], dtype=int32)>"
      ]
     },
     "execution_count": 72,
     "metadata": {},
     "output_type": "execute_result"
    }
   ],
   "source": [
    "a=tf.constant([1,2])\n",
    "b=tf.constant([3,4])\n",
    "a+b"
   ]
  },
  {
   "cell_type": "markdown",
   "id": "ef7d1ff6-74ed-4225-9376-c076dbe2295f",
   "metadata": {},
   "source": [
    "처음에 int로 선언했으면 나머지도 모두 int로 선언해야해.."
   ]
  },
  {
   "cell_type": "code",
   "execution_count": 75,
   "id": "a84a265f-58ca-4bda-9dc0-33c6bacacb74",
   "metadata": {
    "id": "a84a265f-58ca-4bda-9dc0-33c6bacacb74",
    "outputId": "5c72467e-b934-41ad-8930-0598d517b0ec"
   },
   "outputs": [
    {
     "data": {
      "text/plain": [
       "<tf.Tensor: shape=(2,), dtype=int32, numpy=array([4, 6], dtype=int32)>"
      ]
     },
     "execution_count": 75,
     "metadata": {},
     "output_type": "execute_result"
    }
   ],
   "source": [
    "tf.add(a,b)"
   ]
  },
  {
   "cell_type": "markdown",
   "id": "4373f2a2-7ded-4966-b096-f18424626c94",
   "metadata": {},
   "source": [
    "- 결과는 동일"
   ]
  },
  {
   "cell_type": "markdown",
   "id": "0b637dbb-e313-47de-be58-3a42a6e2c512",
   "metadata": {
    "id": "0b637dbb-e313-47de-be58-3a42a6e2c512"
   },
   "source": [
    "`-` 곱하기"
   ]
  },
  {
   "cell_type": "code",
   "execution_count": 76,
   "id": "76906234-6425-4e99-b7a9-21a9b6d102a2",
   "metadata": {
    "id": "76906234-6425-4e99-b7a9-21a9b6d102a2",
    "outputId": "67a468ae-0088-4c85-a254-772ec5eb0245"
   },
   "outputs": [
    {
     "data": {
      "text/plain": [
       "<tf.Tensor: shape=(2, 2), dtype=int32, numpy=\n",
       "array([[ 5, 12],\n",
       "       [21, 32]], dtype=int32)>"
      ]
     },
     "execution_count": 76,
     "metadata": {},
     "output_type": "execute_result"
    }
   ],
   "source": [
    "a=tf.constant([[1,2],[3,4]])\n",
    "b=tf.constant([[5,6],[7,8]])\n",
    "a*b # elementwise 하게 곱한하고 한다."
   ]
  },
  {
   "cell_type": "code",
   "execution_count": 78,
   "id": "d1cd1de9-0b9f-4c06-bb57-4254e69e037b",
   "metadata": {
    "id": "d1cd1de9-0b9f-4c06-bb57-4254e69e037b",
    "outputId": "f081439f-c0a2-4309-a8c0-84e9aabd1cf3"
   },
   "outputs": [
    {
     "data": {
      "text/plain": [
       "<tf.Tensor: shape=(2, 2), dtype=int32, numpy=\n",
       "array([[ 5, 12],\n",
       "       [21, 32]], dtype=int32)>"
      ]
     },
     "execution_count": 78,
     "metadata": {},
     "output_type": "execute_result"
    }
   ],
   "source": [
    "tf.multiply(a,b) # 이게 먼저 나왔음."
   ]
  },
  {
   "cell_type": "markdown",
   "id": "dd0e6699-39bd-4eeb-b862-8af0ce5a652d",
   "metadata": {
    "id": "dd0e6699-39bd-4eeb-b862-8af0ce5a652d"
   },
   "source": [
    "`-` 매트릭스의곱 "
   ]
  },
  {
   "cell_type": "code",
   "execution_count": 79,
   "id": "3c5621f7-b27e-4958-8e42-06265a8ccf9a",
   "metadata": {
    "id": "3c5621f7-b27e-4958-8e42-06265a8ccf9a",
    "outputId": "a768c35c-3e18-4dfb-ecac-9cee8c609cf8"
   },
   "outputs": [
    {
     "data": {
      "text/plain": [
       "<tf.Tensor: shape=(2, 1), dtype=int32, numpy=\n",
       "array([[5],\n",
       "       [7]], dtype=int32)>"
      ]
     },
     "execution_count": 79,
     "metadata": {},
     "output_type": "execute_result"
    }
   ],
   "source": [
    "a=tf.constant([[1,0],[0,1]]) # (2,2)\n",
    "b=tf.constant([[5],[7]]) # (2,1) \n",
    "a@b"
   ]
  },
  {
   "cell_type": "code",
   "execution_count": 80,
   "id": "77e8f14a-0413-4c3f-9eef-00cc202eb62b",
   "metadata": {
    "id": "77e8f14a-0413-4c3f-9eef-00cc202eb62b",
    "outputId": "9851dbd5-fb04-4ab3-9b80-9d4ca148c381"
   },
   "outputs": [
    {
     "data": {
      "text/plain": [
       "<tf.Tensor: shape=(2, 1), dtype=int32, numpy=\n",
       "array([[5],\n",
       "       [7]], dtype=int32)>"
      ]
     },
     "execution_count": 80,
     "metadata": {},
     "output_type": "execute_result"
    }
   ],
   "source": [
    "tf.matmul(a,b)"
   ]
  },
  {
   "cell_type": "markdown",
   "id": "686c844e-6813-4f14-95c9-8d1aad8231bf",
   "metadata": {
    "id": "686c844e-6813-4f14-95c9-8d1aad8231bf"
   },
   "source": [
    "`-` 역행렬 "
   ]
  },
  {
   "cell_type": "code",
   "execution_count": 81,
   "id": "507fbd44-d03c-4454-aabb-bd330ffcb4f2",
   "metadata": {
    "id": "507fbd44-d03c-4454-aabb-bd330ffcb4f2",
    "outputId": "31915026-fb17-46eb-dde4-4ad4c9cb2a57"
   },
   "outputs": [
    {
     "data": {
      "text/plain": [
       "<tf.Tensor: shape=(2, 2), dtype=int32, numpy=\n",
       "array([[1, 0],\n",
       "       [0, 2]], dtype=int32)>"
      ]
     },
     "execution_count": 81,
     "metadata": {},
     "output_type": "execute_result"
    }
   ],
   "source": [
    "a=tf.constant([[1,0],[0,2]])\n",
    "a"
   ]
  },
  {
   "cell_type": "code",
   "execution_count": 82,
   "id": "3affc7b8-de95-44f7-9872-4b6fafe08787",
   "metadata": {
    "id": "3affc7b8-de95-44f7-9872-4b6fafe08787",
    "outputId": "a5c27120-70f3-480b-c5e1-2c7fc87bd58e"
   },
   "outputs": [
    {
     "ename": "InvalidArgumentError",
     "evalue": "Value for attr 'T' of int32 is not in the list of allowed values: double, float, half, complex64, complex128\n\t; NodeDef: {{node MatrixInverse}}; Op<name=MatrixInverse; signature=input:T -> output:T; attr=adjoint:bool,default=false; attr=T:type,allowed=[DT_DOUBLE, DT_FLOAT, DT_HALF, DT_COMPLEX64, DT_COMPLEX128]> [Op:MatrixInverse]",
     "output_type": "error",
     "traceback": [
      "\u001b[0;31m---------------------------------------------------------------------------\u001b[0m",
      "\u001b[0;31mInvalidArgumentError\u001b[0m                      Traceback (most recent call last)",
      "Cell \u001b[0;32mIn[82], line 1\u001b[0m\n\u001b[0;32m----> 1\u001b[0m \u001b[43mtf\u001b[49m\u001b[38;5;241;43m.\u001b[39;49m\u001b[43mlinalg\u001b[49m\u001b[38;5;241;43m.\u001b[39;49m\u001b[43minv\u001b[49m\u001b[43m(\u001b[49m\u001b[43ma\u001b[49m\u001b[43m)\u001b[49m\n",
      "File \u001b[0;32m~/anaconda3/envs/torch/lib/python3.8/site-packages/tensorflow/python/ops/gen_linalg_ops.py:1505\u001b[0m, in \u001b[0;36mmatrix_inverse\u001b[0;34m(input, adjoint, name)\u001b[0m\n\u001b[1;32m   1503\u001b[0m   \u001b[38;5;28;01mreturn\u001b[39;00m _result\n\u001b[1;32m   1504\u001b[0m \u001b[38;5;28;01mexcept\u001b[39;00m _core\u001b[38;5;241m.\u001b[39m_NotOkStatusException \u001b[38;5;28;01mas\u001b[39;00m e:\n\u001b[0;32m-> 1505\u001b[0m   \u001b[43m_ops\u001b[49m\u001b[38;5;241;43m.\u001b[39;49m\u001b[43mraise_from_not_ok_status\u001b[49m\u001b[43m(\u001b[49m\u001b[43me\u001b[49m\u001b[43m,\u001b[49m\u001b[43m \u001b[49m\u001b[43mname\u001b[49m\u001b[43m)\u001b[49m\n\u001b[1;32m   1506\u001b[0m \u001b[38;5;28;01mexcept\u001b[39;00m _core\u001b[38;5;241m.\u001b[39m_FallbackException:\n\u001b[1;32m   1507\u001b[0m   \u001b[38;5;28;01mpass\u001b[39;00m\n",
      "File \u001b[0;32m~/anaconda3/envs/torch/lib/python3.8/site-packages/tensorflow/python/framework/ops.py:7262\u001b[0m, in \u001b[0;36mraise_from_not_ok_status\u001b[0;34m(e, name)\u001b[0m\n\u001b[1;32m   7260\u001b[0m \u001b[38;5;28;01mdef\u001b[39;00m \u001b[38;5;21mraise_from_not_ok_status\u001b[39m(e, name):\n\u001b[1;32m   7261\u001b[0m   e\u001b[38;5;241m.\u001b[39mmessage \u001b[38;5;241m+\u001b[39m\u001b[38;5;241m=\u001b[39m (\u001b[38;5;124m\"\u001b[39m\u001b[38;5;124m name: \u001b[39m\u001b[38;5;124m\"\u001b[39m \u001b[38;5;241m+\u001b[39m name \u001b[38;5;28;01mif\u001b[39;00m name \u001b[38;5;129;01mis\u001b[39;00m \u001b[38;5;129;01mnot\u001b[39;00m \u001b[38;5;28;01mNone\u001b[39;00m \u001b[38;5;28;01melse\u001b[39;00m \u001b[38;5;124m\"\u001b[39m\u001b[38;5;124m\"\u001b[39m)\n\u001b[0;32m-> 7262\u001b[0m   \u001b[38;5;28;01mraise\u001b[39;00m core\u001b[38;5;241m.\u001b[39m_status_to_exception(e) \u001b[38;5;28;01mfrom\u001b[39;00m \u001b[38;5;28mNone\u001b[39m\n",
      "\u001b[0;31mInvalidArgumentError\u001b[0m: Value for attr 'T' of int32 is not in the list of allowed values: double, float, half, complex64, complex128\n\t; NodeDef: {{node MatrixInverse}}; Op<name=MatrixInverse; signature=input:T -> output:T; attr=adjoint:bool,default=false; attr=T:type,allowed=[DT_DOUBLE, DT_FLOAT, DT_HALF, DT_COMPLEX64, DT_COMPLEX128]> [Op:MatrixInverse]"
     ]
    }
   ],
   "source": [
    "tf.linalg.inv(a)"
   ]
  },
  {
   "cell_type": "markdown",
   "id": "82c129b6-e386-4b13-996b-6cdd9fef665d",
   "metadata": {},
   "source": [
    "- 1/2을 계산하려면 애초에 float형이어야 했음."
   ]
  },
  {
   "cell_type": "code",
   "execution_count": 83,
   "id": "f22b4b87-8c65-4c98-872b-e75a0d4bc03d",
   "metadata": {
    "id": "f22b4b87-8c65-4c98-872b-e75a0d4bc03d",
    "outputId": "78b1f67b-972a-48b9-9a68-32e5e092cfd8"
   },
   "outputs": [
    {
     "data": {
      "text/plain": [
       "<tf.Tensor: shape=(2, 2), dtype=float32, numpy=\n",
       "array([[1. , 0. ],\n",
       "       [0. , 0.5]], dtype=float32)>"
      ]
     },
     "execution_count": 83,
     "metadata": {},
     "output_type": "execute_result"
    }
   ],
   "source": [
    "a=tf.constant([[1.0,0.0],[0.0,2.0]])\n",
    "tf.linalg.inv(a)"
   ]
  },
  {
   "cell_type": "markdown",
   "id": "a27f0b2c-1218-447f-aa1d-a8ae55b67e5c",
   "metadata": {
    "id": "a27f0b2c-1218-447f-aa1d-a8ae55b67e5c"
   },
   "source": [
    "`-` `tf.linalg.` + `tab`을 누르면 좋아보이는 연산들 많음 "
   ]
  },
  {
   "cell_type": "code",
   "execution_count": 88,
   "id": "8c4cd06c-73f2-4e82-bfd0-55438ee2a5de",
   "metadata": {
    "id": "8c4cd06c-73f2-4e82-bfd0-55438ee2a5de",
    "outputId": "21e33f75-d924-4d89-ceed-e04dd7edfe69"
   },
   "outputs": [
    {
     "name": "stdout",
     "output_type": "stream",
     "text": [
      "tf.Tensor(\n",
      "[[1. 2.]\n",
      " [3. 4.]], shape=(2, 2), dtype=float32)\n"
     ]
    },
    {
     "data": {
      "text/plain": [
       "<tf.Tensor: shape=(), dtype=float32, numpy=-2.0>"
      ]
     },
     "execution_count": 88,
     "metadata": {},
     "output_type": "execute_result"
    }
   ],
   "source": [
    "a=tf.constant([[1.0,2.0],[3.0,4.0]])\n",
    "print(a)\n",
    "tf.linalg.det(a)"
   ]
  },
  {
   "cell_type": "code",
   "execution_count": 89,
   "id": "dc33a91b-fc0e-49f9-b9ee-8c098f84e662",
   "metadata": {
    "id": "dc33a91b-fc0e-49f9-b9ee-8c098f84e662",
    "outputId": "f51a5b86-08c0-4c04-8c75-8e79e8a14f04"
   },
   "outputs": [
    {
     "data": {
      "text/plain": [
       "<tf.Tensor: shape=(), dtype=float32, numpy=5.0>"
      ]
     },
     "execution_count": 89,
     "metadata": {},
     "output_type": "execute_result"
    }
   ],
   "source": [
    "tf.linalg.trace(a)"
   ]
  },
  {
   "cell_type": "markdown",
   "id": "36eb6964-8d92-469c-b4fd-5e9ae19bf9af",
   "metadata": {
    "id": "36eb6964-8d92-469c-b4fd-5e9ae19bf9af",
    "tags": []
   },
   "source": [
    "#### 형태변환"
   ]
  },
  {
   "cell_type": "markdown",
   "id": "9c1dee18-c09a-423c-bff2-ab18dbe79071",
   "metadata": {
    "id": "9c1dee18-c09a-423c-bff2-ab18dbe79071"
   },
   "source": [
    "`-` 기본: tf.reshape() 를 이용"
   ]
  },
  {
   "cell_type": "code",
   "execution_count": 96,
   "id": "07db8721-4087-47a5-8b73-15f1c64eb65f",
   "metadata": {
    "id": "07db8721-4087-47a5-8b73-15f1c64eb65f",
    "outputId": "0ad61fe3-fabd-402d-e640-73ba6bcd545d"
   },
   "outputs": [
    {
     "data": {
      "text/plain": [
       "<tf.Tensor: shape=(4,), dtype=int32, numpy=array([1, 2, 3, 4], dtype=int32)>"
      ]
     },
     "execution_count": 96,
     "metadata": {},
     "output_type": "execute_result"
    }
   ],
   "source": [
    "a=tf.constant([1,2,3,4]) #  길이가 4인 vector\n",
    "a"
   ]
  },
  {
   "cell_type": "code",
   "execution_count": 97,
   "id": "5ef2a9f3-c54a-4d8e-9291-ae57d0d4741f",
   "metadata": {
    "id": "5ef2a9f3-c54a-4d8e-9291-ae57d0d4741f",
    "outputId": "0784fa52-a913-4b88-a99f-c97b106c1587"
   },
   "outputs": [
    {
     "data": {
      "text/plain": [
       "<tf.Tensor: shape=(4, 1), dtype=int32, numpy=\n",
       "array([[1],\n",
       "       [2],\n",
       "       [3],\n",
       "       [4]], dtype=int32)>"
      ]
     },
     "execution_count": 97,
     "metadata": {},
     "output_type": "execute_result"
    }
   ],
   "source": [
    "tf.reshape(a,(4,1)) # column-vec로 변환."
   ]
  },
  {
   "cell_type": "code",
   "execution_count": 92,
   "id": "9354e52f-40e9-45a1-b4e9-abdd7bf14ef7",
   "metadata": {
    "id": "9354e52f-40e9-45a1-b4e9-abdd7bf14ef7",
    "outputId": "afbf75da-f9a1-4f24-ee3b-c383d7c7a9af"
   },
   "outputs": [
    {
     "data": {
      "text/plain": [
       "<tf.Tensor: shape=(2, 2), dtype=int32, numpy=\n",
       "array([[1, 2],\n",
       "       [3, 4]], dtype=int32)>"
      ]
     },
     "execution_count": 92,
     "metadata": {},
     "output_type": "execute_result"
    }
   ],
   "source": [
    "tf.reshape(a,(2,2))"
   ]
  },
  {
   "cell_type": "code",
   "execution_count": 94,
   "id": "de9bb009-a2e2-413e-9be1-44775fdd2357",
   "metadata": {
    "id": "de9bb009-a2e2-413e-9be1-44775fdd2357",
    "outputId": "5003a649-e6ca-4969-a52e-5c40f90ffe7a"
   },
   "outputs": [
    {
     "data": {
      "text/plain": [
       "<tf.Tensor: shape=(2, 2, 1), dtype=int32, numpy=\n",
       "array([[[1],\n",
       "        [2]],\n",
       "\n",
       "       [[3],\n",
       "        [4]]], dtype=int32)>"
      ]
     },
     "execution_count": 94,
     "metadata": {},
     "output_type": "execute_result"
    }
   ],
   "source": [
    "tf.reshape(a,(2,2,1))"
   ]
  },
  {
   "cell_type": "markdown",
   "id": "b6ae5c1a-d0e3-46a2-81c0-520f2bbea0f7",
   "metadata": {
    "id": "b6ae5c1a-d0e3-46a2-81c0-520f2bbea0f7"
   },
   "source": [
    "`-` 다차원"
   ]
  },
  {
   "cell_type": "code",
   "execution_count": 100,
   "id": "dcec2dd7-8da3-4feb-9dce-895047ab3033",
   "metadata": {
    "id": "dcec2dd7-8da3-4feb-9dce-895047ab3033",
    "outputId": "538e3064-1e45-4fda-f7ca-1ccbd7348c74"
   },
   "outputs": [
    {
     "data": {
      "text/plain": [
       "<tf.Tensor: shape=(12,), dtype=int32, numpy=array([ 1,  2,  3,  4,  5,  6,  7,  8,  9, 10, 11, 12], dtype=int32)>"
      ]
     },
     "execution_count": 100,
     "metadata": {},
     "output_type": "execute_result"
    }
   ],
   "source": [
    "a=tf.constant([1,2,3,4,5,6,7,8,9,10,11,12]) # 길이가 12인 vector\n",
    "a"
   ]
  },
  {
   "cell_type": "code",
   "execution_count": 101,
   "id": "cf51544b-013b-4d58-a961-89c99318dbe2",
   "metadata": {
    "id": "cf51544b-013b-4d58-a961-89c99318dbe2",
    "outputId": "dcd0d4c4-2abb-49ac-9429-3edc23d5459a"
   },
   "outputs": [
    {
     "data": {
      "text/plain": [
       "<tf.Tensor: shape=(2, 2, 3), dtype=int32, numpy=\n",
       "array([[[ 1,  2,  3],\n",
       "        [ 4,  5,  6]],\n",
       "\n",
       "       [[ 7,  8,  9],\n",
       "        [10, 11, 12]]], dtype=int32)>"
      ]
     },
     "execution_count": 101,
     "metadata": {},
     "output_type": "execute_result"
    }
   ],
   "source": [
    "tf.reshape(a,(2,2,3)) # 2*2*3"
   ]
  },
  {
   "cell_type": "code",
   "execution_count": 102,
   "id": "6ee27b0d-be41-45a7-8b2f-28d10b285703",
   "metadata": {
    "id": "6ee27b0d-be41-45a7-8b2f-28d10b285703",
    "outputId": "70fd00f6-3118-4518-abc9-b3bfbfbfda90"
   },
   "outputs": [
    {
     "data": {
      "text/plain": [
       "<tf.Tensor: shape=(4, 3), dtype=int32, numpy=\n",
       "array([[ 1,  2,  3],\n",
       "       [ 4,  5,  6],\n",
       "       [ 7,  8,  9],\n",
       "       [10, 11, 12]], dtype=int32)>"
      ]
     },
     "execution_count": 102,
     "metadata": {},
     "output_type": "execute_result"
    }
   ],
   "source": [
    "tf.reshape(a,(4,3)) # 4*3"
   ]
  },
  {
   "cell_type": "markdown",
   "id": "d832a7c4-123f-48a9-9ae3-01042fa92593",
   "metadata": {
    "id": "d832a7c4-123f-48a9-9ae3-01042fa92593"
   },
   "source": [
    "`-` tf.reshape"
   ]
  },
  {
   "cell_type": "code",
   "execution_count": 103,
   "id": "43f908fd-6bca-47da-91f3-26e6185cfa6b",
   "metadata": {
    "id": "43f908fd-6bca-47da-91f3-26e6185cfa6b",
    "outputId": "68175844-ccb9-4aa9-ff81-41bd65ab2e5e"
   },
   "outputs": [
    {
     "data": {
      "text/plain": [
       "<tf.Tensor: shape=(12,), dtype=int32, numpy=array([ 1,  2,  3,  4,  5,  6,  7,  8,  9, 10, 11, 12], dtype=int32)>"
      ]
     },
     "execution_count": 103,
     "metadata": {},
     "output_type": "execute_result"
    }
   ],
   "source": [
    "a=tf.constant([1,2,3,4,5,6,7,8,9,10,11,12])\n",
    "a"
   ]
  },
  {
   "cell_type": "code",
   "execution_count": 106,
   "id": "90f10eb0-1e82-49e6-a3ee-f731ec1f72a5",
   "metadata": {
    "id": "90f10eb0-1e82-49e6-a3ee-f731ec1f72a5",
    "outputId": "36dca9e9-d9a2-403b-a697-985ce75986bc"
   },
   "outputs": [
    {
     "data": {
      "text/plain": [
       "<tf.Tensor: shape=(4, 3), dtype=int32, numpy=\n",
       "array([[ 1,  2,  3],\n",
       "       [ 4,  5,  6],\n",
       "       [ 7,  8,  9],\n",
       "       [10, 11, 12]], dtype=int32)>"
      ]
     },
     "execution_count": 106,
     "metadata": {},
     "output_type": "execute_result"
    }
   ],
   "source": [
    "tf.reshape(a,(4,-1)) # 원소 어짜피 12개 있으니까 4만 주면 나머지 3은 알아서 맞춰줌."
   ]
  },
  {
   "cell_type": "code",
   "execution_count": 107,
   "id": "04e750b1-5421-4211-8528-5aba29b14e5d",
   "metadata": {
    "id": "04e750b1-5421-4211-8528-5aba29b14e5d",
    "outputId": "abf2bb45-1db9-4063-fe31-b236b0a249e5"
   },
   "outputs": [
    {
     "data": {
      "text/plain": [
       "<tf.Tensor: shape=(2, 2, 3), dtype=int32, numpy=\n",
       "array([[[ 1,  2,  3],\n",
       "        [ 4,  5,  6]],\n",
       "\n",
       "       [[ 7,  8,  9],\n",
       "        [10, 11, 12]]], dtype=int32)>"
      ]
     },
     "execution_count": 107,
     "metadata": {},
     "output_type": "execute_result"
    }
   ],
   "source": [
    "tf.reshape(a,(2,2,-1))"
   ]
  },
  {
   "cell_type": "code",
   "execution_count": 108,
   "id": "df4aabe7-0aa0-40b0-b871-bb9c3fb774c8",
   "metadata": {
    "id": "df4aabe7-0aa0-40b0-b871-bb9c3fb774c8",
    "outputId": "1de203f2-b6fa-466d-e3b0-e249bae09b75"
   },
   "outputs": [
    {
     "data": {
      "text/plain": [
       "<tf.Tensor: shape=(2, 2, 3), dtype=int32, numpy=\n",
       "array([[[ 1,  2,  3],\n",
       "        [ 4,  5,  6]],\n",
       "\n",
       "       [[ 7,  8,  9],\n",
       "        [10, 11, 12]]], dtype=int32)>"
      ]
     },
     "execution_count": 108,
     "metadata": {},
     "output_type": "execute_result"
    }
   ],
   "source": [
    "b=tf.reshape(a,(2,2,-1))\n",
    "b"
   ]
  },
  {
   "cell_type": "code",
   "execution_count": 110,
   "id": "eda38fc5-f863-42fe-9d15-223ff98d6974",
   "metadata": {
    "id": "eda38fc5-f863-42fe-9d15-223ff98d6974",
    "outputId": "15cb58ee-eece-4c15-fe8e-a3dc195ee607"
   },
   "outputs": [
    {
     "data": {
      "text/plain": [
       "<tf.Tensor: shape=(12,), dtype=int32, numpy=array([ 1,  2,  3,  4,  5,  6,  7,  8,  9, 10, 11, 12], dtype=int32)>"
      ]
     },
     "execution_count": 110,
     "metadata": {},
     "output_type": "execute_result"
    }
   ],
   "source": [
    "tf.reshape(b,-1) # 길이가 12인 vector로 바꿔줌."
   ]
  },
  {
   "cell_type": "markdown",
   "id": "327eb735-9f41-40d5-8837-1ff630860b58",
   "metadata": {
    "id": "327eb735-9f41-40d5-8837-1ff630860b58"
   },
   "source": [
    "#### 선언고급 "
   ]
  },
  {
   "cell_type": "markdown",
   "id": "1289df46-1f74-49f6-8d5e-9ac95deab682",
   "metadata": {},
   "source": [
    "뭔가를 초기화할 때 필요한 기능을 정리한 것입니다."
   ]
  },
  {
   "cell_type": "markdown",
   "id": "78a276fe-ebf1-481d-9f3e-c887e233f6f2",
   "metadata": {
    "id": "78a276fe-ebf1-481d-9f3e-c887e233f6f2"
   },
   "source": [
    "`-` 다른 자료형 (리스트나 넘파이)로 만들고 바꾸는것도 좋다."
   ]
  },
  {
   "cell_type": "code",
   "execution_count": 111,
   "id": "9185ab7c-7458-447c-9bb8-7b158bd68f53",
   "metadata": {
    "id": "9185ab7c-7458-447c-9bb8-7b158bd68f53",
    "outputId": "33137c8b-143f-4008-982f-194ddde2c9d3"
   },
   "outputs": [
    {
     "data": {
      "text/plain": [
       "array([[1, 0, 0, 0],\n",
       "       [0, 2, 0, 0],\n",
       "       [0, 0, 3, 0],\n",
       "       [0, 0, 0, 4]])"
      ]
     },
     "execution_count": 111,
     "metadata": {},
     "output_type": "execute_result"
    }
   ],
   "source": [
    "np.diag([1,2,3,4])"
   ]
  },
  {
   "cell_type": "code",
   "execution_count": 112,
   "id": "f9be760f-aca3-4771-b857-49ccd36c1bdd",
   "metadata": {
    "id": "f9be760f-aca3-4771-b857-49ccd36c1bdd",
    "outputId": "aecdc8cd-b6e7-4d8c-8348-b1c2948eeadf"
   },
   "outputs": [
    {
     "data": {
      "text/plain": [
       "<tf.Tensor: shape=(4, 4), dtype=int64, numpy=\n",
       "array([[1, 0, 0, 0],\n",
       "       [0, 2, 0, 0],\n",
       "       [0, 0, 3, 0],\n",
       "       [0, 0, 0, 4]])>"
      ]
     },
     "execution_count": 112,
     "metadata": {},
     "output_type": "execute_result"
    }
   ],
   "source": [
    "tf.constant(np.diag([1,2,3,4]))"
   ]
  },
  {
   "cell_type": "markdown",
   "id": "bc7ff27a-5296-437a-afe9-1ed94ec680b5",
   "metadata": {
    "id": "bc7ff27a-5296-437a-afe9-1ed94ec680b5"
   },
   "source": [
    "`-` tf.ones, tf.zeros"
   ]
  },
  {
   "cell_type": "code",
   "execution_count": 116,
   "id": "60158e48-431a-4a32-97f2-2f20826e6b21",
   "metadata": {
    "id": "60158e48-431a-4a32-97f2-2f20826e6b21",
    "outputId": "b44fce5c-b35e-4b4a-bb5a-483dca3d7b61"
   },
   "outputs": [
    {
     "data": {
      "text/plain": [
       "<tf.Tensor: shape=(3, 3), dtype=float32, numpy=\n",
       "array([[0., 0., 0.],\n",
       "       [0., 0., 0.],\n",
       "       [0., 0., 0.]], dtype=float32)>"
      ]
     },
     "execution_count": 116,
     "metadata": {},
     "output_type": "execute_result"
    }
   ],
   "source": [
    "tf.zeros([3,3])"
   ]
  },
  {
   "cell_type": "code",
   "execution_count": 119,
   "id": "198bc334-ad60-4169-ba4c-a34004214040",
   "metadata": {
    "id": "198bc334-ad60-4169-ba4c-a34004214040",
    "outputId": "7d7cdf9b-52b1-4df6-85e9-9fc869aca1bc"
   },
   "outputs": [
    {
     "data": {
      "text/plain": [
       "<tf.Tensor: shape=(3, 3), dtype=int32, numpy=\n",
       "array([[0, 0, 0],\n",
       "       [0, 0, 0],\n",
       "       [0, 0, 0]], dtype=int32)>"
      ]
     },
     "execution_count": 119,
     "metadata": {},
     "output_type": "execute_result"
    }
   ],
   "source": [
    "tf.reshape(tf.constant([0]*9),(3,3)) # tensor로 바꾸고 shape을 바꿔주는 방법도 있다."
   ]
  },
  {
   "cell_type": "markdown",
   "id": "1eb6b6bb-a2b3-4b8c-bd0b-d4aa701a1fa3",
   "metadata": {
    "id": "1eb6b6bb-a2b3-4b8c-bd0b-d4aa701a1fa3"
   },
   "source": [
    "`-` range(10) "
   ]
  },
  {
   "cell_type": "code",
   "execution_count": 133,
   "id": "89e169a7-2676-4a28-8c4b-bf8ec344f691",
   "metadata": {},
   "outputs": [
    {
     "data": {
      "text/plain": [
       "range"
      ]
     },
     "execution_count": 133,
     "metadata": {},
     "output_type": "execute_result"
    }
   ],
   "source": [
    "a=range(0,12)\n",
    "type(a) # type이 range임!"
   ]
  },
  {
   "cell_type": "code",
   "execution_count": 130,
   "id": "81af66d6-0bcf-4aad-8891-bf84f06c806f",
   "metadata": {},
   "outputs": [
    {
     "data": {
      "text/plain": [
       "[0, 1, 2, 3, 4, 5, 6, 7, 8, 9, 10, 11]"
      ]
     },
     "execution_count": 130,
     "metadata": {},
     "output_type": "execute_result"
    }
   ],
   "source": [
    "list(a) # 타입을 list로 바꿀 수 있음."
   ]
  },
  {
   "cell_type": "code",
   "execution_count": 131,
   "id": "20340c4c-c619-42b6-9001-c0b26a26f5b9",
   "metadata": {
    "id": "20340c4c-c619-42b6-9001-c0b26a26f5b9",
    "outputId": "bb4519c2-a74c-4843-bb7d-49c19a35f68e"
   },
   "outputs": [
    {
     "data": {
      "text/plain": [
       "<tf.Tensor: shape=(12,), dtype=int32, numpy=array([ 0,  1,  2,  3,  4,  5,  6,  7,  8,  9, 10, 11], dtype=int32)>"
      ]
     },
     "execution_count": 131,
     "metadata": {},
     "output_type": "execute_result"
    }
   ],
   "source": [
    "a=range(0,12)\n",
    "tf.constant(a)"
   ]
  },
  {
   "cell_type": "code",
   "execution_count": 132,
   "id": "84e1cdd1-d2e2-4f23-8a20-28943d3c3562",
   "metadata": {
    "id": "84e1cdd1-d2e2-4f23-8a20-28943d3c3562",
    "outputId": "b4ed336c-a36d-4063-f05d-ca8ac87bfd6d"
   },
   "outputs": [
    {
     "data": {
      "text/plain": [
       "<tf.Tensor: shape=(7,), dtype=int32, numpy=array([ 1,  4,  7, 10, 13, 16, 19], dtype=int32)>"
      ]
     },
     "execution_count": 132,
     "metadata": {},
     "output_type": "execute_result"
    }
   ],
   "source": [
    "tf.constant(range(1,20,3)) "
   ]
  },
  {
   "cell_type": "markdown",
   "id": "233cc1ed-5fc2-4174-985b-a3f18815436b",
   "metadata": {
    "id": "233cc1ed-5fc2-4174-985b-a3f18815436b"
   },
   "source": [
    "`-` tf.linspace"
   ]
  },
  {
   "cell_type": "code",
   "execution_count": 136,
   "id": "74a8c861-e0cb-47d5-bd01-9bc40bb55191",
   "metadata": {
    "id": "74a8c861-e0cb-47d5-bd01-9bc40bb55191",
    "outputId": "0405b00e-e72e-4e6d-e4c2-ebc94f830ad2"
   },
   "outputs": [
    {
     "data": {
      "text/plain": [
       "<tf.Tensor: shape=(10,), dtype=float64, numpy=\n",
       "array([0.        , 0.11111111, 0.22222222, 0.33333333, 0.44444444,\n",
       "       0.55555556, 0.66666667, 0.77777778, 0.88888889, 1.        ])>"
      ]
     },
     "execution_count": 136,
     "metadata": {},
     "output_type": "execute_result"
    }
   ],
   "source": [
    "tf.linspace(0,1,10) # 0부터시작해서 1까지 총 10개 // 여기서는 1(마지막 숫자)이 포함됨"
   ]
  },
  {
   "cell_type": "markdown",
   "id": "2d0f27b7-688e-437a-856a-7ebb6d6a4a27",
   "metadata": {
    "id": "2d0f27b7-688e-437a-856a-7ebb6d6a4a27"
   },
   "source": [
    "#### tf.concat "
   ]
  },
  {
   "cell_type": "markdown",
   "id": "9d24bcf0-7c14-499c-9647-bd48451c7765",
   "metadata": {
    "id": "9d24bcf0-7c14-499c-9647-bd48451c7765"
   },
   "source": [
    "`-` (2,1) concat (2,1) => (2,2)\n",
    "- 두번째 축이 바뀌었다. => axis=1"
   ]
  },
  {
   "cell_type": "code",
   "execution_count": 139,
   "id": "6637263c-4d2c-4902-b609-2c1d043c7f51",
   "metadata": {
    "id": "6637263c-4d2c-4902-b609-2c1d043c7f51",
    "outputId": "4534137f-3ad4-4035-d53b-3547d5cd8495"
   },
   "outputs": [
    {
     "data": {
      "text/plain": [
       "(<tf.Tensor: shape=(2, 1), dtype=int32, numpy=\n",
       " array([[1],\n",
       "        [2]], dtype=int32)>,\n",
       " <tf.Tensor: shape=(2, 1), dtype=int32, numpy=\n",
       " array([[3],\n",
       "        [4]], dtype=int32)>)"
      ]
     },
     "execution_count": 139,
     "metadata": {},
     "output_type": "execute_result"
    }
   ],
   "source": [
    "a=tf.constant([[1],[2]])\n",
    "b=tf.constant([[3],[4]])\n",
    "a,b # 2개의 col-vec"
   ]
  },
  {
   "cell_type": "code",
   "execution_count": 140,
   "id": "e14c479a-b757-437e-aa6c-b4ec195ccef9",
   "metadata": {
    "id": "e14c479a-b757-437e-aa6c-b4ec195ccef9",
    "outputId": "58a8b57b-5dea-4eb5-f514-403b3040d9fc"
   },
   "outputs": [
    {
     "data": {
      "text/plain": [
       "<tf.Tensor: shape=(2, 2), dtype=int32, numpy=\n",
       "array([[1, 3],\n",
       "       [2, 4]], dtype=int32)>"
      ]
     },
     "execution_count": 140,
     "metadata": {},
     "output_type": "execute_result"
    }
   ],
   "source": [
    "tf.concat([a,b],axis=1) # 2col-vec -> matrix"
   ]
  },
  {
   "cell_type": "markdown",
   "id": "bc88c9f5-df4b-420d-9fe7-40a51de2e92f",
   "metadata": {
    "id": "bc88c9f5-df4b-420d-9fe7-40a51de2e92f"
   },
   "source": [
    "`-` (2,1) concat (2,1) => (4,1)\n",
    "- 첫번째 축이 바뀌었다. => axis=0"
   ]
  },
  {
   "cell_type": "code",
   "execution_count": 149,
   "id": "c9303d28-e105-40cd-845e-48b88350a2c3",
   "metadata": {
    "id": "c9303d28-e105-40cd-845e-48b88350a2c3",
    "outputId": "bbf91c6b-68ac-425e-bd2e-8cc309f3d513"
   },
   "outputs": [
    {
     "data": {
      "text/plain": [
       "(<tf.Tensor: shape=(2, 1), dtype=int32, numpy=\n",
       " array([[1],\n",
       "        [2]], dtype=int32)>,\n",
       " <tf.Tensor: shape=(2, 1), dtype=int32, numpy=\n",
       " array([[3],\n",
       "        [4]], dtype=int32)>)"
      ]
     },
     "execution_count": 149,
     "metadata": {},
     "output_type": "execute_result"
    }
   ],
   "source": [
    "a=tf.constant([[1],[2]])\n",
    "b=tf.constant([[3],[4]])\n",
    "a,b"
   ]
  },
  {
   "cell_type": "code",
   "execution_count": 150,
   "id": "93574aad-a592-45cd-bdac-2f2b93d1ca4e",
   "metadata": {
    "id": "93574aad-a592-45cd-bdac-2f2b93d1ca4e",
    "outputId": "2bc9a954-3400-42fc-fbb3-ae4d7d340d38"
   },
   "outputs": [
    {
     "data": {
      "text/plain": [
       "<tf.Tensor: shape=(4, 1), dtype=int32, numpy=\n",
       "array([[1],\n",
       "       [2],\n",
       "       [3],\n",
       "       [4]], dtype=int32)>"
      ]
     },
     "execution_count": 150,
     "metadata": {},
     "output_type": "execute_result"
    }
   ],
   "source": [
    "tf.concat([a,b],axis=0)"
   ]
  },
  {
   "cell_type": "markdown",
   "id": "f1515d99-1a9a-426d-acb3-860df3076552",
   "metadata": {
    "id": "f1515d99-1a9a-426d-acb3-860df3076552"
   },
   "source": [
    "`-` (1,2) concat (1,2) => (2,2) \n",
    "- 첫번째 // axis=0"
   ]
  },
  {
   "cell_type": "code",
   "execution_count": 151,
   "id": "e95c64f4-e416-49e4-8a1d-c50f74965470",
   "metadata": {
    "id": "e95c64f4-e416-49e4-8a1d-c50f74965470"
   },
   "outputs": [],
   "source": [
    "a=tf.constant([[1,2]])\n",
    "b=tf.constant([[3,4]])"
   ]
  },
  {
   "cell_type": "code",
   "execution_count": 152,
   "id": "9c23f461-7340-444b-9fba-a105e8b37961",
   "metadata": {
    "id": "9c23f461-7340-444b-9fba-a105e8b37961",
    "outputId": "70d15e86-718a-4eaf-c49f-1c67c87c0c10"
   },
   "outputs": [
    {
     "data": {
      "text/plain": [
       "<tf.Tensor: shape=(2, 2), dtype=int32, numpy=\n",
       "array([[1, 2],\n",
       "       [3, 4]], dtype=int32)>"
      ]
     },
     "execution_count": 152,
     "metadata": {},
     "output_type": "execute_result"
    }
   ],
   "source": [
    "tf.concat([a,b],axis=0)"
   ]
  },
  {
   "cell_type": "markdown",
   "id": "2ff3f9de-d9e6-4091-a0f8-ce4eed1f6a9f",
   "metadata": {
    "id": "2ff3f9de-d9e6-4091-a0f8-ce4eed1f6a9f"
   },
   "source": [
    "`-` (1,2) concat (1,2) => (1,4) \n",
    "- 두번째 // axis=1"
   ]
  },
  {
   "cell_type": "markdown",
   "id": "38ce37d2-d9a5-4544-b33c-392b0f7d36d9",
   "metadata": {
    "id": "38ce37d2-d9a5-4544-b33c-392b0f7d36d9"
   },
   "source": [
    "`-` (2,3,4,5) concat (2,3,4,5) => (4,3,4,5) \n",
    "- 첫번째 // axis=0"
   ]
  },
  {
   "cell_type": "code",
   "execution_count": 153,
   "id": "8f250340-fd33-48ef-86aa-153f0fc23968",
   "metadata": {
    "id": "8f250340-fd33-48ef-86aa-153f0fc23968"
   },
   "outputs": [],
   "source": [
    "a=tf.reshape(tf.constant(range(120)),(2,3,4,5))\n",
    "b=-a"
   ]
  },
  {
   "cell_type": "code",
   "execution_count": 156,
   "id": "31591041-8fed-4367-bc21-515bf830578b",
   "metadata": {
    "id": "31591041-8fed-4367-bc21-515bf830578b",
    "outputId": "986262ef-fc7c-4f1a-b501-df2c1dd59ae0"
   },
   "outputs": [
    {
     "data": {
      "text/plain": [
       "<tf.Tensor: shape=(4, 3, 4, 5), dtype=int32, numpy=\n",
       "array([[[[   0,    1,    2,    3,    4],\n",
       "         [   5,    6,    7,    8,    9],\n",
       "         [  10,   11,   12,   13,   14],\n",
       "         [  15,   16,   17,   18,   19]],\n",
       "\n",
       "        [[  20,   21,   22,   23,   24],\n",
       "         [  25,   26,   27,   28,   29],\n",
       "         [  30,   31,   32,   33,   34],\n",
       "         [  35,   36,   37,   38,   39]],\n",
       "\n",
       "        [[  40,   41,   42,   43,   44],\n",
       "         [  45,   46,   47,   48,   49],\n",
       "         [  50,   51,   52,   53,   54],\n",
       "         [  55,   56,   57,   58,   59]]],\n",
       "\n",
       "\n",
       "       [[[  60,   61,   62,   63,   64],\n",
       "         [  65,   66,   67,   68,   69],\n",
       "         [  70,   71,   72,   73,   74],\n",
       "         [  75,   76,   77,   78,   79]],\n",
       "\n",
       "        [[  80,   81,   82,   83,   84],\n",
       "         [  85,   86,   87,   88,   89],\n",
       "         [  90,   91,   92,   93,   94],\n",
       "         [  95,   96,   97,   98,   99]],\n",
       "\n",
       "        [[ 100,  101,  102,  103,  104],\n",
       "         [ 105,  106,  107,  108,  109],\n",
       "         [ 110,  111,  112,  113,  114],\n",
       "         [ 115,  116,  117,  118,  119]]],\n",
       "\n",
       "\n",
       "       [[[   0,   -1,   -2,   -3,   -4],\n",
       "         [  -5,   -6,   -7,   -8,   -9],\n",
       "         [ -10,  -11,  -12,  -13,  -14],\n",
       "         [ -15,  -16,  -17,  -18,  -19]],\n",
       "\n",
       "        [[ -20,  -21,  -22,  -23,  -24],\n",
       "         [ -25,  -26,  -27,  -28,  -29],\n",
       "         [ -30,  -31,  -32,  -33,  -34],\n",
       "         [ -35,  -36,  -37,  -38,  -39]],\n",
       "\n",
       "        [[ -40,  -41,  -42,  -43,  -44],\n",
       "         [ -45,  -46,  -47,  -48,  -49],\n",
       "         [ -50,  -51,  -52,  -53,  -54],\n",
       "         [ -55,  -56,  -57,  -58,  -59]]],\n",
       "\n",
       "\n",
       "       [[[ -60,  -61,  -62,  -63,  -64],\n",
       "         [ -65,  -66,  -67,  -68,  -69],\n",
       "         [ -70,  -71,  -72,  -73,  -74],\n",
       "         [ -75,  -76,  -77,  -78,  -79]],\n",
       "\n",
       "        [[ -80,  -81,  -82,  -83,  -84],\n",
       "         [ -85,  -86,  -87,  -88,  -89],\n",
       "         [ -90,  -91,  -92,  -93,  -94],\n",
       "         [ -95,  -96,  -97,  -98,  -99]],\n",
       "\n",
       "        [[-100, -101, -102, -103, -104],\n",
       "         [-105, -106, -107, -108, -109],\n",
       "         [-110, -111, -112, -113, -114],\n",
       "         [-115, -116, -117, -118, -119]]]], dtype=int32)>"
      ]
     },
     "execution_count": 156,
     "metadata": {},
     "output_type": "execute_result"
    }
   ],
   "source": [
    "tf.concat([a,b],axis=0)"
   ]
  },
  {
   "cell_type": "markdown",
   "id": "0f85fe76-300e-44cb-9911-431594e89b21",
   "metadata": {
    "id": "0f85fe76-300e-44cb-9911-431594e89b21"
   },
   "source": [
    "`-` (2,3,4,5) concat (2,3,4,5) => (2,6,4,5) \n",
    "- 두번째 // axis=1"
   ]
  },
  {
   "cell_type": "code",
   "execution_count": null,
   "id": "fe2075cd-aa38-494d-8b3a-1156e3c40e6a",
   "metadata": {
    "id": "fe2075cd-aa38-494d-8b3a-1156e3c40e6a"
   },
   "outputs": [],
   "source": [
    "a=tf.reshape(tf.constant(range(120)),(2,3,4,5))\n",
    "b=-a"
   ]
  },
  {
   "cell_type": "code",
   "execution_count": null,
   "id": "a59f627a-3423-4b9b-962a-7869f500ec2f",
   "metadata": {
    "id": "a59f627a-3423-4b9b-962a-7869f500ec2f",
    "outputId": "b4fcc7a1-7afa-47fe-e04b-d4df3e985f0b"
   },
   "outputs": [
    {
     "data": {
      "text/plain": [
       "<tf.Tensor: shape=(2, 6, 4, 5), dtype=int32, numpy=\n",
       "array([[[[   0,    1,    2,    3,    4],\n",
       "         [   5,    6,    7,    8,    9],\n",
       "         [  10,   11,   12,   13,   14],\n",
       "         [  15,   16,   17,   18,   19]],\n",
       "\n",
       "        [[  20,   21,   22,   23,   24],\n",
       "         [  25,   26,   27,   28,   29],\n",
       "         [  30,   31,   32,   33,   34],\n",
       "         [  35,   36,   37,   38,   39]],\n",
       "\n",
       "        [[  40,   41,   42,   43,   44],\n",
       "         [  45,   46,   47,   48,   49],\n",
       "         [  50,   51,   52,   53,   54],\n",
       "         [  55,   56,   57,   58,   59]],\n",
       "\n",
       "        [[   0,   -1,   -2,   -3,   -4],\n",
       "         [  -5,   -6,   -7,   -8,   -9],\n",
       "         [ -10,  -11,  -12,  -13,  -14],\n",
       "         [ -15,  -16,  -17,  -18,  -19]],\n",
       "\n",
       "        [[ -20,  -21,  -22,  -23,  -24],\n",
       "         [ -25,  -26,  -27,  -28,  -29],\n",
       "         [ -30,  -31,  -32,  -33,  -34],\n",
       "         [ -35,  -36,  -37,  -38,  -39]],\n",
       "\n",
       "        [[ -40,  -41,  -42,  -43,  -44],\n",
       "         [ -45,  -46,  -47,  -48,  -49],\n",
       "         [ -50,  -51,  -52,  -53,  -54],\n",
       "         [ -55,  -56,  -57,  -58,  -59]]],\n",
       "\n",
       "\n",
       "       [[[  60,   61,   62,   63,   64],\n",
       "         [  65,   66,   67,   68,   69],\n",
       "         [  70,   71,   72,   73,   74],\n",
       "         [  75,   76,   77,   78,   79]],\n",
       "\n",
       "        [[  80,   81,   82,   83,   84],\n",
       "         [  85,   86,   87,   88,   89],\n",
       "         [  90,   91,   92,   93,   94],\n",
       "         [  95,   96,   97,   98,   99]],\n",
       "\n",
       "        [[ 100,  101,  102,  103,  104],\n",
       "         [ 105,  106,  107,  108,  109],\n",
       "         [ 110,  111,  112,  113,  114],\n",
       "         [ 115,  116,  117,  118,  119]],\n",
       "\n",
       "        [[ -60,  -61,  -62,  -63,  -64],\n",
       "         [ -65,  -66,  -67,  -68,  -69],\n",
       "         [ -70,  -71,  -72,  -73,  -74],\n",
       "         [ -75,  -76,  -77,  -78,  -79]],\n",
       "\n",
       "        [[ -80,  -81,  -82,  -83,  -84],\n",
       "         [ -85,  -86,  -87,  -88,  -89],\n",
       "         [ -90,  -91,  -92,  -93,  -94],\n",
       "         [ -95,  -96,  -97,  -98,  -99]],\n",
       "\n",
       "        [[-100, -101, -102, -103, -104],\n",
       "         [-105, -106, -107, -108, -109],\n",
       "         [-110, -111, -112, -113, -114],\n",
       "         [-115, -116, -117, -118, -119]]]], dtype=int32)>"
      ]
     },
     "execution_count": 72,
     "metadata": {},
     "output_type": "execute_result"
    }
   ],
   "source": [
    "tf.concat([a,b],axis=1)"
   ]
  },
  {
   "cell_type": "markdown",
   "id": "aad1526d-1ac1-4f00-871d-1985f51c7df8",
   "metadata": {
    "id": "aad1526d-1ac1-4f00-871d-1985f51c7df8"
   },
   "source": [
    "`-` (2,3,4,5) concat (2,3,4,5) => (2,3,8,5) \n",
    "- 세번째 // axis=2"
   ]
  },
  {
   "cell_type": "code",
   "execution_count": 157,
   "id": "156589da-05fc-469e-b498-468c0936f9ad",
   "metadata": {
    "id": "156589da-05fc-469e-b498-468c0936f9ad"
   },
   "outputs": [],
   "source": [
    "a=tf.reshape(tf.constant(range(120)),(2,3,4,5))\n",
    "b=-a"
   ]
  },
  {
   "cell_type": "code",
   "execution_count": 158,
   "id": "92c131ed-8ec8-4143-b55c-35c6d8efe323",
   "metadata": {
    "id": "92c131ed-8ec8-4143-b55c-35c6d8efe323",
    "outputId": "056bee17-f241-4993-bc92-09e4bc231057"
   },
   "outputs": [
    {
     "data": {
      "text/plain": [
       "<tf.Tensor: shape=(2, 3, 8, 5), dtype=int32, numpy=\n",
       "array([[[[   0,    1,    2,    3,    4],\n",
       "         [   5,    6,    7,    8,    9],\n",
       "         [  10,   11,   12,   13,   14],\n",
       "         [  15,   16,   17,   18,   19],\n",
       "         [   0,   -1,   -2,   -3,   -4],\n",
       "         [  -5,   -6,   -7,   -8,   -9],\n",
       "         [ -10,  -11,  -12,  -13,  -14],\n",
       "         [ -15,  -16,  -17,  -18,  -19]],\n",
       "\n",
       "        [[  20,   21,   22,   23,   24],\n",
       "         [  25,   26,   27,   28,   29],\n",
       "         [  30,   31,   32,   33,   34],\n",
       "         [  35,   36,   37,   38,   39],\n",
       "         [ -20,  -21,  -22,  -23,  -24],\n",
       "         [ -25,  -26,  -27,  -28,  -29],\n",
       "         [ -30,  -31,  -32,  -33,  -34],\n",
       "         [ -35,  -36,  -37,  -38,  -39]],\n",
       "\n",
       "        [[  40,   41,   42,   43,   44],\n",
       "         [  45,   46,   47,   48,   49],\n",
       "         [  50,   51,   52,   53,   54],\n",
       "         [  55,   56,   57,   58,   59],\n",
       "         [ -40,  -41,  -42,  -43,  -44],\n",
       "         [ -45,  -46,  -47,  -48,  -49],\n",
       "         [ -50,  -51,  -52,  -53,  -54],\n",
       "         [ -55,  -56,  -57,  -58,  -59]]],\n",
       "\n",
       "\n",
       "       [[[  60,   61,   62,   63,   64],\n",
       "         [  65,   66,   67,   68,   69],\n",
       "         [  70,   71,   72,   73,   74],\n",
       "         [  75,   76,   77,   78,   79],\n",
       "         [ -60,  -61,  -62,  -63,  -64],\n",
       "         [ -65,  -66,  -67,  -68,  -69],\n",
       "         [ -70,  -71,  -72,  -73,  -74],\n",
       "         [ -75,  -76,  -77,  -78,  -79]],\n",
       "\n",
       "        [[  80,   81,   82,   83,   84],\n",
       "         [  85,   86,   87,   88,   89],\n",
       "         [  90,   91,   92,   93,   94],\n",
       "         [  95,   96,   97,   98,   99],\n",
       "         [ -80,  -81,  -82,  -83,  -84],\n",
       "         [ -85,  -86,  -87,  -88,  -89],\n",
       "         [ -90,  -91,  -92,  -93,  -94],\n",
       "         [ -95,  -96,  -97,  -98,  -99]],\n",
       "\n",
       "        [[ 100,  101,  102,  103,  104],\n",
       "         [ 105,  106,  107,  108,  109],\n",
       "         [ 110,  111,  112,  113,  114],\n",
       "         [ 115,  116,  117,  118,  119],\n",
       "         [-100, -101, -102, -103, -104],\n",
       "         [-105, -106, -107, -108, -109],\n",
       "         [-110, -111, -112, -113, -114],\n",
       "         [-115, -116, -117, -118, -119]]]], dtype=int32)>"
      ]
     },
     "execution_count": 158,
     "metadata": {},
     "output_type": "execute_result"
    }
   ],
   "source": [
    "tf.concat([a,b],axis=2)"
   ]
  },
  {
   "cell_type": "markdown",
   "id": "9f65a127-51cb-40e3-b526-5f41a84248f8",
   "metadata": {
    "id": "9f65a127-51cb-40e3-b526-5f41a84248f8"
   },
   "source": [
    "`-` (2,3,4,5) concat (2,3,4,5) => (2,3,4,10) \n",
    "- 네번째 // axis=3 # 0,1,2,3 // -4 -3 -2 -1"
   ]
  },
  {
   "cell_type": "code",
   "execution_count": 159,
   "id": "d59cf9ac-67c7-4931-be01-8f1432b2d4d5",
   "metadata": {
    "id": "d59cf9ac-67c7-4931-be01-8f1432b2d4d5"
   },
   "outputs": [],
   "source": [
    "a=tf.reshape(tf.constant(range(120)),(2,3,4,5))\n",
    "b=-a"
   ]
  },
  {
   "cell_type": "code",
   "execution_count": 160,
   "id": "050efe1d-9744-4b7c-93b5-ab92f01191e4",
   "metadata": {
    "id": "050efe1d-9744-4b7c-93b5-ab92f01191e4",
    "outputId": "bf41af41-c083-4a33-ebc9-052f32a2dc50"
   },
   "outputs": [
    {
     "data": {
      "text/plain": [
       "<tf.Tensor: shape=(2, 3, 4, 10), dtype=int32, numpy=\n",
       "array([[[[   0,    1,    2,    3,    4,    0,   -1,   -2,   -3,   -4],\n",
       "         [   5,    6,    7,    8,    9,   -5,   -6,   -7,   -8,   -9],\n",
       "         [  10,   11,   12,   13,   14,  -10,  -11,  -12,  -13,  -14],\n",
       "         [  15,   16,   17,   18,   19,  -15,  -16,  -17,  -18,  -19]],\n",
       "\n",
       "        [[  20,   21,   22,   23,   24,  -20,  -21,  -22,  -23,  -24],\n",
       "         [  25,   26,   27,   28,   29,  -25,  -26,  -27,  -28,  -29],\n",
       "         [  30,   31,   32,   33,   34,  -30,  -31,  -32,  -33,  -34],\n",
       "         [  35,   36,   37,   38,   39,  -35,  -36,  -37,  -38,  -39]],\n",
       "\n",
       "        [[  40,   41,   42,   43,   44,  -40,  -41,  -42,  -43,  -44],\n",
       "         [  45,   46,   47,   48,   49,  -45,  -46,  -47,  -48,  -49],\n",
       "         [  50,   51,   52,   53,   54,  -50,  -51,  -52,  -53,  -54],\n",
       "         [  55,   56,   57,   58,   59,  -55,  -56,  -57,  -58,  -59]]],\n",
       "\n",
       "\n",
       "       [[[  60,   61,   62,   63,   64,  -60,  -61,  -62,  -63,  -64],\n",
       "         [  65,   66,   67,   68,   69,  -65,  -66,  -67,  -68,  -69],\n",
       "         [  70,   71,   72,   73,   74,  -70,  -71,  -72,  -73,  -74],\n",
       "         [  75,   76,   77,   78,   79,  -75,  -76,  -77,  -78,  -79]],\n",
       "\n",
       "        [[  80,   81,   82,   83,   84,  -80,  -81,  -82,  -83,  -84],\n",
       "         [  85,   86,   87,   88,   89,  -85,  -86,  -87,  -88,  -89],\n",
       "         [  90,   91,   92,   93,   94,  -90,  -91,  -92,  -93,  -94],\n",
       "         [  95,   96,   97,   98,   99,  -95,  -96,  -97,  -98,  -99]],\n",
       "\n",
       "        [[ 100,  101,  102,  103,  104, -100, -101, -102, -103, -104],\n",
       "         [ 105,  106,  107,  108,  109, -105, -106, -107, -108, -109],\n",
       "         [ 110,  111,  112,  113,  114, -110, -111, -112, -113, -114],\n",
       "         [ 115,  116,  117,  118,  119, -115, -116, -117, -118, -119]]]],\n",
       "      dtype=int32)>"
      ]
     },
     "execution_count": 160,
     "metadata": {},
     "output_type": "execute_result"
    }
   ],
   "source": [
    "tf.concat([a,b],axis=-1)"
   ]
  },
  {
   "cell_type": "markdown",
   "id": "acd955d0-8df1-43cb-8b93-c5aa6e884575",
   "metadata": {
    "id": "acd955d0-8df1-43cb-8b93-c5aa6e884575"
   },
   "source": [
    "`-` (4,) concat (4,) => (8,)\n",
    "- 첫번째축? // axis=0"
   ]
  },
  {
   "cell_type": "code",
   "execution_count": 161,
   "id": "45a1cc9b-d2a1-4896-9f10-384896f3e2e8",
   "metadata": {
    "id": "45a1cc9b-d2a1-4896-9f10-384896f3e2e8",
    "outputId": "ca8f9022-0b01-4464-c306-514e514d6e13"
   },
   "outputs": [
    {
     "data": {
      "text/plain": [
       "(<tf.Tensor: shape=(4,), dtype=int32, numpy=array([1, 2, 3, 4], dtype=int32)>,\n",
       " <tf.Tensor: shape=(4,), dtype=int32, numpy=array([-1, -2, -3, -4], dtype=int32)>)"
      ]
     },
     "execution_count": 161,
     "metadata": {},
     "output_type": "execute_result"
    }
   ],
   "source": [
    "a=tf.constant([1,2,3,4])\n",
    "b=-a \n",
    "a,b"
   ]
  },
  {
   "cell_type": "code",
   "execution_count": 162,
   "id": "b2f99383-354f-4c41-a6e4-f624b303acc4",
   "metadata": {
    "id": "b2f99383-354f-4c41-a6e4-f624b303acc4",
    "outputId": "c0b08a2c-010f-47a9-a310-e5a58d2447b5"
   },
   "outputs": [
    {
     "data": {
      "text/plain": [
       "<tf.Tensor: shape=(8,), dtype=int32, numpy=array([ 1,  2,  3,  4, -1, -2, -3, -4], dtype=int32)>"
      ]
     },
     "execution_count": 162,
     "metadata": {},
     "output_type": "execute_result"
    }
   ],
   "source": [
    "tf.concat([a,b],axis=0)"
   ]
  },
  {
   "cell_type": "markdown",
   "id": "9919a953-60c7-4318-b9bc-a75506223688",
   "metadata": {
    "id": "9919a953-60c7-4318-b9bc-a75506223688"
   },
   "source": [
    "`-` (4,) concat (4,) => (4,2) \n",
    "- 두번째축? // axis=1 ==> 이런거없다.."
   ]
  },
  {
   "cell_type": "code",
   "execution_count": 163,
   "id": "02794bf8-bdbe-48d9-ad75-f3035e884cc8",
   "metadata": {
    "id": "02794bf8-bdbe-48d9-ad75-f3035e884cc8",
    "outputId": "6814b071-fe0e-41c5-fcbe-b35996f90f14"
   },
   "outputs": [
    {
     "data": {
      "text/plain": [
       "(<tf.Tensor: shape=(4,), dtype=int32, numpy=array([1, 2, 3, 4], dtype=int32)>,\n",
       " <tf.Tensor: shape=(4,), dtype=int32, numpy=array([-1, -2, -3, -4], dtype=int32)>)"
      ]
     },
     "execution_count": 163,
     "metadata": {},
     "output_type": "execute_result"
    }
   ],
   "source": [
    "a=tf.constant([1,2,3,4])\n",
    "b=-a \n",
    "a,b"
   ]
  },
  {
   "cell_type": "code",
   "execution_count": 164,
   "id": "0ee1d090-7481-4a45-9e43-01783dc1583d",
   "metadata": {
    "id": "0ee1d090-7481-4a45-9e43-01783dc1583d",
    "outputId": "68c2840f-45c0-4f34-e815-1022d39e0f77"
   },
   "outputs": [
    {
     "ename": "InvalidArgumentError",
     "evalue": "{{function_node __wrapped__ConcatV2_N_2_device_/job:localhost/replica:0/task:0/device:CPU:0}} ConcatOp : Expected concatenating dimensions in the range [-1, 1), but got 1 [Op:ConcatV2] name: concat",
     "output_type": "error",
     "traceback": [
      "\u001b[0;31m---------------------------------------------------------------------------\u001b[0m",
      "\u001b[0;31mInvalidArgumentError\u001b[0m                      Traceback (most recent call last)",
      "Cell \u001b[0;32mIn[164], line 1\u001b[0m\n\u001b[0;32m----> 1\u001b[0m \u001b[43mtf\u001b[49m\u001b[38;5;241;43m.\u001b[39;49m\u001b[43mconcat\u001b[49m\u001b[43m(\u001b[49m\u001b[43m[\u001b[49m\u001b[43ma\u001b[49m\u001b[43m,\u001b[49m\u001b[43mb\u001b[49m\u001b[43m]\u001b[49m\u001b[43m,\u001b[49m\u001b[43maxis\u001b[49m\u001b[38;5;241;43m=\u001b[39;49m\u001b[38;5;241;43m1\u001b[39;49m\u001b[43m)\u001b[49m\n",
      "File \u001b[0;32m~/anaconda3/envs/torch/lib/python3.8/site-packages/tensorflow/python/util/traceback_utils.py:153\u001b[0m, in \u001b[0;36mfilter_traceback.<locals>.error_handler\u001b[0;34m(*args, **kwargs)\u001b[0m\n\u001b[1;32m    151\u001b[0m \u001b[38;5;28;01mexcept\u001b[39;00m \u001b[38;5;167;01mException\u001b[39;00m \u001b[38;5;28;01mas\u001b[39;00m e:\n\u001b[1;32m    152\u001b[0m   filtered_tb \u001b[38;5;241m=\u001b[39m _process_traceback_frames(e\u001b[38;5;241m.\u001b[39m__traceback__)\n\u001b[0;32m--> 153\u001b[0m   \u001b[38;5;28;01mraise\u001b[39;00m e\u001b[38;5;241m.\u001b[39mwith_traceback(filtered_tb) \u001b[38;5;28;01mfrom\u001b[39;00m \u001b[38;5;28mNone\u001b[39m\n\u001b[1;32m    154\u001b[0m \u001b[38;5;28;01mfinally\u001b[39;00m:\n\u001b[1;32m    155\u001b[0m   \u001b[38;5;28;01mdel\u001b[39;00m filtered_tb\n",
      "File \u001b[0;32m~/anaconda3/envs/torch/lib/python3.8/site-packages/tensorflow/python/framework/ops.py:7262\u001b[0m, in \u001b[0;36mraise_from_not_ok_status\u001b[0;34m(e, name)\u001b[0m\n\u001b[1;32m   7260\u001b[0m \u001b[38;5;28;01mdef\u001b[39;00m \u001b[38;5;21mraise_from_not_ok_status\u001b[39m(e, name):\n\u001b[1;32m   7261\u001b[0m   e\u001b[38;5;241m.\u001b[39mmessage \u001b[38;5;241m+\u001b[39m\u001b[38;5;241m=\u001b[39m (\u001b[38;5;124m\"\u001b[39m\u001b[38;5;124m name: \u001b[39m\u001b[38;5;124m\"\u001b[39m \u001b[38;5;241m+\u001b[39m name \u001b[38;5;28;01mif\u001b[39;00m name \u001b[38;5;129;01mis\u001b[39;00m \u001b[38;5;129;01mnot\u001b[39;00m \u001b[38;5;28;01mNone\u001b[39;00m \u001b[38;5;28;01melse\u001b[39;00m \u001b[38;5;124m\"\u001b[39m\u001b[38;5;124m\"\u001b[39m)\n\u001b[0;32m-> 7262\u001b[0m   \u001b[38;5;28;01mraise\u001b[39;00m core\u001b[38;5;241m.\u001b[39m_status_to_exception(e) \u001b[38;5;28;01mfrom\u001b[39;00m \u001b[38;5;28mNone\u001b[39m\n",
      "\u001b[0;31mInvalidArgumentError\u001b[0m: {{function_node __wrapped__ConcatV2_N_2_device_/job:localhost/replica:0/task:0/device:CPU:0}} ConcatOp : Expected concatenating dimensions in the range [-1, 1), but got 1 [Op:ConcatV2] name: concat"
     ]
    }
   ],
   "source": [
    "tf.concat([a,b],axis=1)"
   ]
  },
  {
   "cell_type": "markdown",
   "id": "3e589726-7655-4ee2-a651-5281dd8a8cd9",
   "metadata": {},
   "source": [
    "- 에러남! 이럴때는 `tf.stack`을 쓰면 된다. "
   ]
  },
  {
   "cell_type": "markdown",
   "id": "1e294bec-ab08-42b4-895e-b439cddecf7b",
   "metadata": {
    "id": "fd8402bf-ccef-414e-a574-22524b02b593"
   },
   "source": [
    "#### tf.stack \n",
    "\n",
    "> stack은 차원이 늘어남!"
   ]
  },
  {
   "cell_type": "code",
   "execution_count": 165,
   "id": "e1915563-830b-447e-9cab-a2b8263529ea",
   "metadata": {
    "id": "e1915563-830b-447e-9cab-a2b8263529ea",
    "outputId": "c34ee3ec-4cf7-43a4-8cf4-f840c0e9097d"
   },
   "outputs": [
    {
     "data": {
      "text/plain": [
       "(<tf.Tensor: shape=(4,), dtype=int32, numpy=array([1, 2, 3, 4], dtype=int32)>,\n",
       " <tf.Tensor: shape=(4,), dtype=int32, numpy=array([-1, -2, -3, -4], dtype=int32)>)"
      ]
     },
     "execution_count": 165,
     "metadata": {},
     "output_type": "execute_result"
    }
   ],
   "source": [
    "a=tf.constant([1,2,3,4])\n",
    "b=-a \n",
    "a,b"
   ]
  },
  {
   "cell_type": "code",
   "execution_count": 166,
   "id": "e156bea0-cfa3-4f93-9773-aff0101a46be",
   "metadata": {
    "id": "e156bea0-cfa3-4f93-9773-aff0101a46be",
    "outputId": "3ec8d52f-cb14-4bee-8b7c-e2bbd770ada0"
   },
   "outputs": [
    {
     "data": {
      "text/plain": [
       "<tf.Tensor: shape=(2, 4), dtype=int32, numpy=\n",
       "array([[ 1,  2,  3,  4],\n",
       "       [-1, -2, -3, -4]], dtype=int32)>"
      ]
     },
     "execution_count": 166,
     "metadata": {},
     "output_type": "execute_result"
    }
   ],
   "source": [
    "tf.stack([a,b],axis=0)"
   ]
  },
  {
   "cell_type": "code",
   "execution_count": 167,
   "id": "9a2389a3-47da-4567-893b-15a9568d6277",
   "metadata": {
    "id": "9a2389a3-47da-4567-893b-15a9568d6277",
    "outputId": "113e0e1a-1ab7-46c5-cc47-34142854bd40"
   },
   "outputs": [
    {
     "data": {
      "text/plain": [
       "<tf.Tensor: shape=(4, 2), dtype=int32, numpy=\n",
       "array([[ 1, -1],\n",
       "       [ 2, -2],\n",
       "       [ 3, -3],\n",
       "       [ 4, -4]], dtype=int32)>"
      ]
     },
     "execution_count": 167,
     "metadata": {},
     "output_type": "execute_result"
    }
   ],
   "source": [
    "tf.stack([a,b],axis=1)"
   ]
  },
  {
   "cell_type": "markdown",
   "id": "d314cfb7-f3f1-496d-b5cb-ac6f57eaa503",
   "metadata": {
    "id": "d314cfb7-f3f1-496d-b5cb-ac6f57eaa503"
   },
   "source": [
    "### tnp"
   ]
  },
  {
   "cell_type": "markdown",
   "id": "6cc24d34-a9db-445a-82a8-f0e8ab7372d5",
   "metadata": {
    "id": "6cc24d34-a9db-445a-82a8-f0e8ab7372d5"
   },
   "source": [
    "`-` tf는 넘파이에 비하여 텐서만들기가 너무힘듬 "
   ]
  },
  {
   "cell_type": "code",
   "execution_count": 170,
   "id": "f4afe684-2aac-414a-8b5a-d7506c535131",
   "metadata": {},
   "outputs": [
    {
     "data": {
      "text/plain": [
       "array([[1, 0, 0],\n",
       "       [0, 2, 0],\n",
       "       [0, 0, 3]])"
      ]
     },
     "execution_count": 170,
     "metadata": {},
     "output_type": "execute_result"
    }
   ],
   "source": [
    "np.diag([1,2,3])"
   ]
  },
  {
   "cell_type": "code",
   "execution_count": 171,
   "id": "2d8d64ab-b1cf-44dd-bd96-089ae64d41e4",
   "metadata": {
    "id": "2d8d64ab-b1cf-44dd-bd96-089ae64d41e4",
    "outputId": "495c99ae-30d9-4358-9e1b-009ad44dd0e2"
   },
   "outputs": [
    {
     "data": {
      "text/plain": [
       "array([1, 0, 0, 0, 2, 0, 0, 0, 3])"
      ]
     },
     "execution_count": 171,
     "metadata": {},
     "output_type": "execute_result"
    }
   ],
   "source": [
    "np.diag([1,2,3]).reshape(-1)"
   ]
  },
  {
   "cell_type": "markdown",
   "id": "28cb4a1a-d8b9-43e3-83bc-9603cb290c25",
   "metadata": {
    "id": "28cb4a1a-d8b9-43e3-83bc-9603cb290c25"
   },
   "source": [
    "- 넘파이는 이런식으로 `np.diag()`도 쓸수 있고 reshape을 메소드로 쓸 수도 있는데... "
   ]
  },
  {
   "cell_type": "markdown",
   "id": "de010dbc-4294-4a4f-a861-c13799fe1eb6",
   "metadata": {
    "id": "de010dbc-4294-4a4f-a861-c13799fe1eb6"
   },
   "source": [
    "#### tnp 사용방법 (불만해결방법)"
   ]
  },
  {
   "cell_type": "markdown",
   "id": "3926f26f-4faa-49b1-a358-c6efdc5d387a",
   "metadata": {},
   "source": [
    "tensorflow에서 numpy처럼 동작하도록 할 수 있는 모듈이라고 생각 즉,  np의 모방버전으로 생각하면 된다."
   ]
  },
  {
   "cell_type": "code",
   "execution_count": 172,
   "id": "7da47e02-6e20-4988-a300-6248e8969472",
   "metadata": {
    "id": "7da47e02-6e20-4988-a300-6248e8969472"
   },
   "outputs": [],
   "source": [
    "import tensorflow.experimental.numpy as tnp\n",
    "tnp.experimental_enable_numpy_behavior()"
   ]
  },
  {
   "cell_type": "code",
   "execution_count": 173,
   "id": "be506db8-700b-4a5b-ba39-c6a46d809eb0",
   "metadata": {
    "id": "be506db8-700b-4a5b-ba39-c6a46d809eb0",
    "outputId": "48d820c1-7cad-4c14-d68a-449288fae917"
   },
   "outputs": [
    {
     "data": {
      "text/plain": [
       "tensorflow.python.framework.ops.EagerTensor"
      ]
     },
     "execution_count": 173,
     "metadata": {},
     "output_type": "execute_result"
    }
   ],
   "source": [
    "type(tnp.array([1,2,3]))"
   ]
  },
  {
   "cell_type": "markdown",
   "id": "9bd6ed70-87aa-4651-aa09-3ebffbb78cf9",
   "metadata": {},
   "source": [
    "- 이렇게 만들어도 된다."
   ]
  },
  {
   "cell_type": "markdown",
   "id": "6f802adc-e72e-4cbc-98b1-1568af58c29d",
   "metadata": {
    "id": "6f802adc-e72e-4cbc-98b1-1568af58c29d"
   },
   "source": [
    "`-` int와 float을 더할 수 있음"
   ]
  },
  {
   "cell_type": "code",
   "execution_count": 176,
   "id": "dd6414b7-33d3-4fda-9d5f-ec6451db05e4",
   "metadata": {
    "id": "dd6414b7-33d3-4fda-9d5f-ec6451db05e4",
    "outputId": "6ad2aecb-d02a-4f96-cad6-f5f2b9b3825e"
   },
   "outputs": [
    {
     "data": {
      "text/plain": [
       "<tf.Tensor: shape=(3,), dtype=float64, numpy=array([2., 4., 6.])>"
      ]
     },
     "execution_count": 176,
     "metadata": {},
     "output_type": "execute_result"
    }
   ],
   "source": [
    "tnp.array([1,2,3])+tnp.array([1.0,2.0,3.0])"
   ]
  },
  {
   "cell_type": "code",
   "execution_count": 184,
   "id": "369c0c5a-f87c-412a-b959-7837e0b9c1db",
   "metadata": {
    "id": "369c0c5a-f87c-412a-b959-7837e0b9c1db",
    "outputId": "f577d14c-6294-4531-9a29-1ea25ab56740"
   },
   "outputs": [
    {
     "data": {
      "text/plain": [
       "<tf.Tensor: shape=(3,), dtype=float64, numpy=array([2., 4., 6.])>"
      ]
     },
     "execution_count": 184,
     "metadata": {},
     "output_type": "execute_result"
    }
   ],
   "source": [
    "tf.constant([1,2,3])+tf.constant([1.0,2.0,3.0]) # 이게 원래 에러났었음!"
   ]
  },
  {
   "cell_type": "markdown",
   "id": "54dd5a4f-f295-4f13-916c-e2766031e8d3",
   "metadata": {},
   "source": [
    "- tnp 모듈을 불러오는 순간 tf로 선언하는 모든 것들도 우리가 알고있는 넘파이처럼 동작합니다."
   ]
  },
  {
   "cell_type": "code",
   "execution_count": 178,
   "id": "9a091e68-2ac3-42ec-b97e-bd908e7917a4",
   "metadata": {
    "id": "9a091e68-2ac3-42ec-b97e-bd908e7917a4",
    "outputId": "f6f5d6b1-09ce-45c8-f732-3ec3f226e219"
   },
   "outputs": [
    {
     "data": {
      "text/plain": [
       "<tf.Tensor: shape=(3,), dtype=float64, numpy=array([2., 3., 4.])>"
      ]
     },
     "execution_count": 178,
     "metadata": {},
     "output_type": "execute_result"
    }
   ],
   "source": [
    "tnp.array(1)+tnp.array([1.0,2.0,3.0])"
   ]
  },
  {
   "cell_type": "code",
   "execution_count": 179,
   "id": "7f1bb98a-f10b-47b2-8557-6dc4c352e5d2",
   "metadata": {
    "id": "7f1bb98a-f10b-47b2-8557-6dc4c352e5d2",
    "outputId": "e3e05099-4e85-4d8b-aa46-a0d2174c285b"
   },
   "outputs": [
    {
     "data": {
      "text/plain": [
       "<tf.Tensor: shape=(3, 3), dtype=int64, numpy=\n",
       "array([[1, 0, 0],\n",
       "       [0, 2, 0],\n",
       "       [0, 0, 3]])>"
      ]
     },
     "execution_count": 179,
     "metadata": {},
     "output_type": "execute_result"
    }
   ],
   "source": [
    "tnp.diag([1,2,3])"
   ]
  },
  {
   "cell_type": "code",
   "execution_count": 185,
   "id": "f0e851cc-5833-4e60-ab4f-2c88af9d05be",
   "metadata": {
    "id": "f0e851cc-5833-4e60-ab4f-2c88af9d05be",
    "outputId": "47cf3ffb-f53d-45b0-feb6-0e7e517873f7"
   },
   "outputs": [
    {
     "data": {
      "text/plain": [
       "tensorflow.python.framework.ops.EagerTensor"
      ]
     },
     "execution_count": 185,
     "metadata": {},
     "output_type": "execute_result"
    }
   ],
   "source": [
    "a=tnp.diag([1,2,3])\n",
    "type(a)"
   ]
  },
  {
   "cell_type": "code",
   "execution_count": 186,
   "id": "6f016b73-b45c-4579-8c40-0ed16e9690e3",
   "metadata": {
    "id": "6f016b73-b45c-4579-8c40-0ed16e9690e3",
    "outputId": "55de359c-86de-4d21-8375-5c50b17d255a"
   },
   "outputs": [
    {
     "data": {
      "text/plain": [
       "<tf.Tensor: shape=(3, 1), dtype=int32, numpy=\n",
       "array([[1],\n",
       "       [2],\n",
       "       [3]], dtype=int32)>"
      ]
     },
     "execution_count": 186,
     "metadata": {},
     "output_type": "execute_result"
    }
   ],
   "source": [
    "a=tf.constant([1,2,3])\n",
    "a.reshape(3,1)"
   ]
  },
  {
   "cell_type": "markdown",
   "id": "a7e4538a-52ff-4f84-8ac9-5381e0970fef",
   "metadata": {
    "id": "a7e4538a-52ff-4f84-8ac9-5381e0970fef"
   },
   "source": [
    "#### 선언고급"
   ]
  },
  {
   "cell_type": "code",
   "execution_count": 193,
   "id": "aa230a41-46e4-42ec-8313-ca9a65af9b5e",
   "metadata": {
    "id": "aa230a41-46e4-42ec-8313-ca9a65af9b5e",
    "outputId": "88b6411f-2d0e-40ba-c655-28acc5e01c02"
   },
   "outputs": [
    {
     "data": {
      "text/plain": [
       "array([1.12411749, 1.43127059, 0.61763568, 0.43586944, 0.33208259])"
      ]
     },
     "execution_count": 193,
     "metadata": {},
     "output_type": "execute_result"
    }
   ],
   "source": [
    "np.random.randn(5) # random module"
   ]
  },
  {
   "cell_type": "code",
   "execution_count": 194,
   "id": "75831108-494d-4257-9bb3-4f9bd1d96f90",
   "metadata": {
    "id": "75831108-494d-4257-9bb3-4f9bd1d96f90",
    "outputId": "44ce343e-173e-4d8c-e8db-764877feb228"
   },
   "outputs": [
    {
     "data": {
      "text/plain": [
       "<tf.Tensor: shape=(5,), dtype=float64, numpy=array([-0.64055227, -1.33606436, -0.71424816,  1.61243245, -2.07980232])>"
      ]
     },
     "execution_count": 194,
     "metadata": {},
     "output_type": "execute_result"
    }
   ],
   "source": [
    "tnp.random.randn(5) # 넘파이가 되면 나도 된다."
   ]
  },
  {
   "cell_type": "markdown",
   "id": "c1a84f81-fff4-4a5a-b8b2-8045ba3943fe",
   "metadata": {
    "id": "c1a84f81-fff4-4a5a-b8b2-8045ba3943fe"
   },
   "source": [
    "#### 타입"
   ]
  },
  {
   "cell_type": "code",
   "execution_count": 195,
   "id": "001eefa5-3215-47fc-83a7-46c6974a477d",
   "metadata": {
    "id": "001eefa5-3215-47fc-83a7-46c6974a477d",
    "outputId": "2d234270-b564-4d4f-d959-e46652b364a8"
   },
   "outputs": [
    {
     "data": {
      "text/plain": [
       "tensorflow.python.framework.ops.EagerTensor"
      ]
     },
     "execution_count": 195,
     "metadata": {},
     "output_type": "execute_result"
    }
   ],
   "source": [
    "type(tnp.random.randn(5))"
   ]
  },
  {
   "cell_type": "markdown",
   "id": "bb759864-ef75-4ba0-9a11-d10cca6669f3",
   "metadata": {
    "id": "bb759864-ef75-4ba0-9a11-d10cca6669f3"
   },
   "source": [
    "#### tf.contant로 만들어도 마치 넘파이인듯 쓰는 기능들"
   ]
  },
  {
   "cell_type": "markdown",
   "id": "4eaf886c-4162-450c-83ab-40aa08af1465",
   "metadata": {
    "id": "4eaf886c-4162-450c-83ab-40aa08af1465"
   },
   "source": [
    "`-` 묵시적형변환이 가능"
   ]
  },
  {
   "cell_type": "markdown",
   "id": "6941896a-ab78-4c95-890c-8de1f3642d68",
   "metadata": {},
   "source": [
    "int랑 float을 계산할 수 있다는 것"
   ]
  },
  {
   "cell_type": "code",
   "execution_count": 196,
   "id": "0e5ded82-30fe-40f8-94e1-81cefcdf3d49",
   "metadata": {
    "id": "0e5ded82-30fe-40f8-94e1-81cefcdf3d49",
    "outputId": "7f0e7225-a708-48e0-c096-e612eccb30de"
   },
   "outputs": [
    {
     "data": {
      "text/plain": [
       "<tf.Tensor: shape=(2,), dtype=float64, numpy=array([3.20000005, 4.29999995])>"
      ]
     },
     "execution_count": 196,
     "metadata": {},
     "output_type": "execute_result"
    }
   ],
   "source": [
    "tf.constant([1,1])+tf.constant([2.2,3.3])"
   ]
  },
  {
   "cell_type": "markdown",
   "id": "75131459-b680-4fca-bf95-a4c571e052d2",
   "metadata": {
    "id": "75131459-b680-4fca-bf95-a4c571e052d2"
   },
   "source": [
    "`-` 메소드를 쓸수 있음. "
   ]
  },
  {
   "cell_type": "markdown",
   "id": "47089c4a-34b9-4e42-a9e4-4203e4b4bda8",
   "metadata": {},
   "source": [
    "사용가능한 메소드가 많아짐.."
   ]
  },
  {
   "cell_type": "code",
   "execution_count": 197,
   "id": "f343b9ff-ebde-4eb0-b4a7-790e2cd59bd4",
   "metadata": {
    "id": "f343b9ff-ebde-4eb0-b4a7-790e2cd59bd4",
    "outputId": "bc467fef-a77e-48d0-96b1-2210483dc588"
   },
   "outputs": [
    {
     "data": {
      "text/plain": [
       "<tf.Tensor: shape=(4, 1), dtype=int64, numpy=\n",
       "array([[1],\n",
       "       [2],\n",
       "       [3],\n",
       "       [4]])>"
      ]
     },
     "execution_count": 197,
     "metadata": {},
     "output_type": "execute_result"
    }
   ],
   "source": [
    "a= tnp.array([[1,2,3,4]])\n",
    "a.T"
   ]
  },
  {
   "cell_type": "markdown",
   "id": "8426767e-976c-4e35-a390-7f2943ec4e8d",
   "metadata": {
    "id": "8426767e-976c-4e35-a390-7f2943ec4e8d"
   },
   "source": [
    "#### 그렇지만 np.array는 아님 "
   ]
  },
  {
   "cell_type": "markdown",
   "id": "f771ea7c-6701-4499-b312-f2fc27d2549f",
   "metadata": {
    "id": "f771ea7c-6701-4499-b312-f2fc27d2549f"
   },
   "source": [
    "`-` 원소를 할당하는것은 불가능 "
   ]
  },
  {
   "cell_type": "code",
   "execution_count": 198,
   "id": "3ff7d767-683c-4138-8ce3-c75d62e2bff7",
   "metadata": {
    "id": "3ff7d767-683c-4138-8ce3-c75d62e2bff7",
    "outputId": "807d915a-34ec-4304-ac49-76f3417dc9d5"
   },
   "outputs": [
    {
     "data": {
      "text/plain": [
       "<tf.Tensor: shape=(3,), dtype=int32, numpy=array([1, 2, 3], dtype=int32)>"
      ]
     },
     "execution_count": 198,
     "metadata": {},
     "output_type": "execute_result"
    }
   ],
   "source": [
    "a=tf.constant([1,2,3])\n",
    "a"
   ]
  },
  {
   "cell_type": "code",
   "execution_count": 199,
   "id": "218f3734-9de8-4ba6-b861-947b8ebc0932",
   "metadata": {
    "id": "218f3734-9de8-4ba6-b861-947b8ebc0932",
    "outputId": "7ba8e709-bcb6-43ed-bfd1-b659776a0686"
   },
   "outputs": [
    {
     "ename": "TypeError",
     "evalue": "'tensorflow.python.framework.ops.EagerTensor' object does not support item assignment",
     "output_type": "error",
     "traceback": [
      "\u001b[0;31m---------------------------------------------------------------------------\u001b[0m",
      "\u001b[0;31mTypeError\u001b[0m                                 Traceback (most recent call last)",
      "Cell \u001b[0;32mIn[199], line 1\u001b[0m\n\u001b[0;32m----> 1\u001b[0m \u001b[43ma\u001b[49m\u001b[43m[\u001b[49m\u001b[38;5;241;43m0\u001b[39;49m\u001b[43m]\u001b[49m\u001b[38;5;241m=\u001b[39m\u001b[38;5;241m11\u001b[39m\n",
      "\u001b[0;31mTypeError\u001b[0m: 'tensorflow.python.framework.ops.EagerTensor' object does not support item assignment"
     ]
    }
   ],
   "source": [
    "a[0]=11"
   ]
  },
  {
   "cell_type": "markdown",
   "id": "0aa9c445-f3f4-4e7c-84ca-0ff969b3298d",
   "metadata": {},
   "source": [
    "- 그냥 새로 만들어서 할당해야 함. (그래도 많이 개선된 것@)"
   ]
  }
 ],
 "metadata": {
  "colab": {
   "provenance": []
  },
  "kernelspec": {
   "display_name": "Python 3",
   "language": "python",
   "name": "python3"
  },
  "language_info": {
   "codemirror_mode": {
    "name": "ipython",
    "version": 3
   },
   "file_extension": ".py",
   "mimetype": "text/x-python",
   "name": "python",
   "nbconvert_exporter": "python",
   "pygments_lexer": "ipython3",
   "version": "3.8.16"
  }
 },
 "nbformat": 4,
 "nbformat_minor": 5
}
