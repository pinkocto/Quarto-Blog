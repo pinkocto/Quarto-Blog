{
 "cells": [
  {
   "cell_type": "raw",
   "id": "56e4e985-04d1-42c1-b289-63a2d866af27",
   "metadata": {},
   "source": [
    "---\n",
    "title: \"**[STBDA]** 11wk. MaxPool2D, Conv2D\" \n",
    "author: \"JiyunLim\"\n",
    "date: \"05/30/2023\"\n",
    "categories:\n",
    "    - 빅데이터분석특강\n",
    "---"
   ]
  },
  {
   "cell_type": "markdown",
   "id": "7918c1da-8764-48ff-b894-0e9d71dedcfc",
   "metadata": {
    "id": "7918c1da-8764-48ff-b894-0e9d71dedcfc"
   },
   "source": [
    "### 강의영상"
   ]
  },
  {
   "cell_type": "markdown",
   "id": "509e902e-f2c9-4d73-a6c1-45e76c7a979a",
   "metadata": {
    "id": "509e902e-f2c9-4d73-a6c1-45e76c7a979a"
   },
   "source": [
    ">youtube: https://youtube.com/playlist?list=PLQqh36zP38-wlEuWT75L4hqGNEwoPpjWw"
   ]
  },
  {
   "cell_type": "markdown",
   "id": "16dc582e-8b7b-4713-858e-f0efdfd98b10",
   "metadata": {
    "id": "16dc582e-8b7b-4713-858e-f0efdfd98b10"
   },
   "source": [
    "### imports"
   ]
  },
  {
   "cell_type": "code",
   "execution_count": 2,
   "id": "1f9b3e9e-4af0-47b9-84c9-a82d1b7b9d31",
   "metadata": {
    "id": "1f9b3e9e-4af0-47b9-84c9-a82d1b7b9d31"
   },
   "outputs": [],
   "source": [
    "import tensorflow as tf\n",
    "import tensorflow.experimental.numpy as tnp\n",
    "import numpy as np\n",
    "import matplotlib.pyplot as plt"
   ]
  },
  {
   "cell_type": "code",
   "execution_count": 3,
   "id": "4aff778e-c93c-425d-8cbb-28652367c5b2",
   "metadata": {
    "id": "4aff778e-c93c-425d-8cbb-28652367c5b2"
   },
   "outputs": [],
   "source": [
    "tnp.experimental_enable_numpy_behavior()"
   ]
  },
  {
   "cell_type": "code",
   "execution_count": 4,
   "id": "7207e6aa-0a59-41e2-aac3-89d2efb5f6c1",
   "metadata": {
    "id": "7207e6aa-0a59-41e2-aac3-89d2efb5f6c1"
   },
   "outputs": [],
   "source": [
    "(x_train, y_train), (x_test, y_test) = tf.keras.datasets.fashion_mnist.load_data()"
   ]
  },
  {
   "cell_type": "code",
   "execution_count": 5,
   "id": "da80b9e5-d7dc-40c9-8d00-65bba5638e30",
   "metadata": {
    "id": "da80b9e5-d7dc-40c9-8d00-65bba5638e30"
   },
   "outputs": [],
   "source": [
    "X = tf.constant(x_train.reshape(-1,28,28,1),dtype=tf.float64)\n",
    "y = tf.keras.utils.to_categorical(y_train)\n",
    "XX = tf.constant(x_test.reshape(-1,28,28,1),dtype=tf.float64)\n",
    "yy = tf.keras.utils.to_categorical(y_test)"
   ]
  },
  {
   "cell_type": "markdown",
   "id": "699b2db5-eb9a-443c-9924-b28056e24d99",
   "metadata": {
    "id": "699b2db5-eb9a-443c-9924-b28056e24d99"
   },
   "source": [
    "`-` 첫시도"
   ]
  },
  {
   "cell_type": "code",
   "execution_count": 6,
   "id": "d630e3e0-2574-4ad4-91d5-a05c73bf8fc5",
   "metadata": {
    "id": "d630e3e0-2574-4ad4-91d5-a05c73bf8fc5",
    "outputId": "32046465-0aa6-4bd2-f567-321d8c46c6a9"
   },
   "outputs": [
    {
     "name": "stdout",
     "output_type": "stream",
     "text": [
      "Epoch 1/5\n",
      "1875/1875 [==============================] - 5s 3ms/step - loss: 1.1752 - accuracy: 0.7889\n",
      "Epoch 2/5\n",
      "1875/1875 [==============================] - 5s 3ms/step - loss: 0.4585 - accuracy: 0.8347\n",
      "Epoch 3/5\n",
      "1875/1875 [==============================] - 5s 3ms/step - loss: 0.4124 - accuracy: 0.8537\n",
      "Epoch 4/5\n",
      "1875/1875 [==============================] - 5s 3ms/step - loss: 0.3948 - accuracy: 0.8602\n",
      "Epoch 5/5\n",
      "1875/1875 [==============================] - 5s 3ms/step - loss: 0.3813 - accuracy: 0.8649\n"
     ]
    },
    {
     "data": {
      "text/plain": [
       "<keras.callbacks.History at 0x7f7fc8338f40>"
      ]
     },
     "execution_count": 6,
     "metadata": {},
     "output_type": "execute_result"
    }
   ],
   "source": [
    "net1 = tf.keras.Sequential()\n",
    "net1.add(tf.keras.layers.Flatten())\n",
    "net1.add(tf.keras.layers.Dense(500,activation='relu')) # flatten(): x의 shape을 네트워크 모양에 따라 바꾸지 않아도 된다.\n",
    "net1.add(tf.keras.layers.Dense(500,activation='relu'))\n",
    "net1.add(tf.keras.layers.Dense(500,activation='relu'))\n",
    "net1.add(tf.keras.layers.Dense(500,activation='relu'))\n",
    "net1.add(tf.keras.layers.Dense(10,activation='softmax'))\n",
    "net1.compile(optimizer='adam', loss=tf.losses.categorical_crossentropy,metrics='accuracy')\n",
    "net1.fit(X,y,epochs=5)"
   ]
  },
  {
   "cell_type": "code",
   "execution_count": 7,
   "id": "2d5f021f-b06f-4cbb-875c-2eff3c2b2e2f",
   "metadata": {
    "id": "2d5f021f-b06f-4cbb-875c-2eff3c2b2e2f",
    "outputId": "72adf266-e9df-4d3d-9666-1a8a69ce831b"
   },
   "outputs": [
    {
     "name": "stdout",
     "output_type": "stream",
     "text": [
      "313/313 [==============================] - 0s 735us/step - loss: 0.4072 - accuracy: 0.8473\n"
     ]
    },
    {
     "data": {
      "text/plain": [
       "[0.40723177790641785, 0.8472999930381775]"
      ]
     },
     "execution_count": 7,
     "metadata": {},
     "output_type": "execute_result"
    }
   ],
   "source": [
    "net1.evaluate(XX,yy)"
   ]
  },
  {
   "cell_type": "code",
   "execution_count": 8,
   "id": "2222d929-7784-48d6-af5f-944682165714",
   "metadata": {
    "id": "2222d929-7784-48d6-af5f-944682165714",
    "outputId": "fab67763-d01a-4300-ac41-1697f80d1a31"
   },
   "outputs": [
    {
     "name": "stdout",
     "output_type": "stream",
     "text": [
      "Model: \"sequential\"\n",
      "_________________________________________________________________\n",
      " Layer (type)                Output Shape              Param #   \n",
      "=================================================================\n",
      " flatten (Flatten)           (None, 784)               0         \n",
      "                                                                 \n",
      " dense (Dense)               (None, 500)               392500    \n",
      "                                                                 \n",
      " dense_1 (Dense)             (None, 500)               250500    \n",
      "                                                                 \n",
      " dense_2 (Dense)             (None, 500)               250500    \n",
      "                                                                 \n",
      " dense_3 (Dense)             (None, 500)               250500    \n",
      "                                                                 \n",
      " dense_4 (Dense)             (None, 10)                5010      \n",
      "                                                                 \n",
      "=================================================================\n",
      "Total params: 1,149,010\n",
      "Trainable params: 1,149,010\n",
      "Non-trainable params: 0\n",
      "_________________________________________________________________\n"
     ]
    }
   ],
   "source": [
    "net1.summary()"
   ]
  },
  {
   "cell_type": "markdown",
   "id": "9c1bfa66-e9eb-4702-be68-8cad97aca26f",
   "metadata": {
    "id": "9c1bfa66-e9eb-4702-be68-8cad97aca26f"
   },
   "source": [
    "`-` 두번째 시도 : 네트워크를 다르게 설계"
   ]
  },
  {
   "cell_type": "code",
   "execution_count": 9,
   "id": "fbd22327-6b70-4294-b035-405747d5e32e",
   "metadata": {
    "id": "fbd22327-6b70-4294-b035-405747d5e32e",
    "outputId": "bd72940b-6a8a-4650-8532-31dc69bd8e3f"
   },
   "outputs": [
    {
     "name": "stdout",
     "output_type": "stream",
     "text": [
      "Epoch 1/5\n",
      "1875/1875 [==============================] - 5s 2ms/step - loss: 0.8491 - accuracy: 0.7960\n",
      "Epoch 2/5\n",
      "1875/1875 [==============================] - 4s 2ms/step - loss: 0.4071 - accuracy: 0.8539\n",
      "Epoch 3/5\n",
      "1875/1875 [==============================] - 4s 2ms/step - loss: 0.3550 - accuracy: 0.8719\n",
      "Epoch 4/5\n",
      "1875/1875 [==============================] - 4s 2ms/step - loss: 0.3221 - accuracy: 0.8831\n",
      "Epoch 5/5\n",
      "1875/1875 [==============================] - 4s 2ms/step - loss: 0.3096 - accuracy: 0.8877\n"
     ]
    },
    {
     "data": {
      "text/plain": [
       "<keras.callbacks.History at 0x7f7f847d1430>"
      ]
     },
     "execution_count": 9,
     "metadata": {},
     "output_type": "execute_result"
    }
   ],
   "source": [
    "net2 = tf.keras.Sequential()\n",
    "net2.add(tf.keras.layers.Conv2D(30,(2,2),activation='relu'))\n",
    "net2.add(tf.keras.layers.MaxPool2D())\n",
    "net2.add(tf.keras.layers.Conv2D(30,(2,2),activation='relu'))\n",
    "net2.add(tf.keras.layers.MaxPool2D())\n",
    "net2.add(tf.keras.layers.Flatten())\n",
    "#net2.add(tf.keras.layers.Dense(500,activation='relu'))\n",
    "net2.add(tf.keras.layers.Dense(10,activation='softmax'))\n",
    "net2.compile(optimizer='adam', loss=tf.losses.categorical_crossentropy,metrics='accuracy')\n",
    "net2.fit(X,y,epochs=5)"
   ]
  },
  {
   "cell_type": "code",
   "execution_count": 10,
   "id": "3e177600-bdb3-4752-b07c-d46b953b3bf7",
   "metadata": {
    "id": "3e177600-bdb3-4752-b07c-d46b953b3bf7",
    "outputId": "7eeeea5a-da51-4d69-e331-4b4c1d1c447c"
   },
   "outputs": [
    {
     "name": "stdout",
     "output_type": "stream",
     "text": [
      "313/313 [==============================] - 0s 845us/step - loss: 0.3697 - accuracy: 0.8627\n"
     ]
    },
    {
     "data": {
      "text/plain": [
       "[0.36973485350608826, 0.8626999855041504]"
      ]
     },
     "execution_count": 10,
     "metadata": {},
     "output_type": "execute_result"
    }
   ],
   "source": [
    "net2.evaluate(XX,yy)"
   ]
  },
  {
   "cell_type": "code",
   "execution_count": 11,
   "id": "9d4f313d-e8b1-44ab-9921-ffef5b34cfa7",
   "metadata": {
    "id": "9d4f313d-e8b1-44ab-9921-ffef5b34cfa7",
    "outputId": "8b7e6f47-4503-4956-8570-c81fd4d02034"
   },
   "outputs": [
    {
     "name": "stdout",
     "output_type": "stream",
     "text": [
      "Model: \"sequential_1\"\n",
      "_________________________________________________________________\n",
      " Layer (type)                Output Shape              Param #   \n",
      "=================================================================\n",
      " conv2d (Conv2D)             (None, 27, 27, 30)        150       \n",
      "                                                                 \n",
      " max_pooling2d (MaxPooling2D  (None, 13, 13, 30)       0         \n",
      " )                                                               \n",
      "                                                                 \n",
      " conv2d_1 (Conv2D)           (None, 12, 12, 30)        3630      \n",
      "                                                                 \n",
      " max_pooling2d_1 (MaxPooling  (None, 6, 6, 30)         0         \n",
      " 2D)                                                             \n",
      "                                                                 \n",
      " flatten_1 (Flatten)         (None, 1080)              0         \n",
      "                                                                 \n",
      " dense_5 (Dense)             (None, 10)                10810     \n",
      "                                                                 \n",
      "=================================================================\n",
      "Total params: 14,590\n",
      "Trainable params: 14,590\n",
      "Non-trainable params: 0\n",
      "_________________________________________________________________\n"
     ]
    }
   ],
   "source": [
    "net2.summary()"
   ]
  },
  {
   "cell_type": "code",
   "execution_count": null,
   "id": "792c1fe0-c8cc-4887-83ca-fc644a69067e",
   "metadata": {
    "id": "792c1fe0-c8cc-4887-83ca-fc644a69067e",
    "outputId": "8f71180a-1193-4402-b0bb-950241eaa2fc"
   },
   "outputs": [
    {
     "data": {
      "text/plain": [
       "0.012697887746842934"
      ]
     },
     "execution_count": 42,
     "metadata": {},
     "output_type": "execute_result"
    }
   ],
   "source": [
    "14590/ 1149010"
   ]
  },
  {
   "cell_type": "markdown",
   "id": "51767bff-b124-4fd6-b1c0-09659aee7f94",
   "metadata": {},
   "source": [
    "파라미터를 네트워크1에 비해  1.2%정도 밖에 안쓰고 있는데 성능은 더 좋다."
   ]
  },
  {
   "cell_type": "code",
   "execution_count": 13,
   "id": "d6b8c94c-c4a6-40b8-ac16-4e7885899530",
   "metadata": {},
   "outputs": [
    {
     "data": {
      "text/plain": [
       "[<keras.layers.convolutional.conv2d.Conv2D at 0x7f7f847bea90>,\n",
       " <keras.layers.pooling.max_pooling2d.MaxPooling2D at 0x7f7fc00ef160>,\n",
       " <keras.layers.convolutional.conv2d.Conv2D at 0x7f7fc00e7fd0>,\n",
       " <keras.layers.pooling.max_pooling2d.MaxPooling2D at 0x7f7fc007b280>,\n",
       " <keras.layers.reshaping.flatten.Flatten at 0x7f7fc008f2e0>,\n",
       " <keras.layers.core.dense.Dense at 0x7f7fc0075cd0>]"
      ]
     },
     "execution_count": 13,
     "metadata": {},
     "output_type": "execute_result"
    }
   ],
   "source": [
    "net2.layers"
   ]
  },
  {
   "cell_type": "markdown",
   "id": "39681d1c-a189-45d0-b60f-2813619a7b43",
   "metadata": {},
   "source": [
    "- $x$라는 데이터가 들어가서 6장의 레이어를 순차적으로 통과하는 구조이다."
   ]
  },
  {
   "cell_type": "code",
   "execution_count": 14,
   "id": "21ce9fe2-f5f9-49aa-93c4-a51e5efec519",
   "metadata": {
    "id": "21ce9fe2-f5f9-49aa-93c4-a51e5efec519"
   },
   "outputs": [],
   "source": [
    "c1, m1, c2, m2, flttn, dns = net2.layers"
   ]
  },
  {
   "cell_type": "code",
   "execution_count": 17,
   "id": "9f35432b-20ae-4e8e-ae9c-36f5d4937793",
   "metadata": {
    "id": "9f35432b-20ae-4e8e-ae9c-36f5d4937793",
    "outputId": "05b875fb-cc2f-4089-b286-80ae5fd29577"
   },
   "outputs": [
    {
     "name": "stdout",
     "output_type": "stream",
     "text": [
      "(60000, 28, 28, 1)\n",
      "(60000, 27, 27, 30)\n",
      "(60000, 13, 13, 30)\n",
      "(60000, 12, 12, 30)\n",
      "(60000, 6, 6, 30)\n",
      "(60000, 1080)\n",
      "(60000, 10)\n"
     ]
    }
   ],
   "source": [
    "print(X.shape) # 입력이미지 = 2D\n",
    "print(c1(X).shape) #2D\n",
    "print(m1(c1(X)).shape)  #2D\n",
    "print(c2(m1(c1(X))).shape) #2D\n",
    "print(m2(c2(m1(c1(X)))).shape) #2D\n",
    "print(flttn(m2(c2(m1(c1(X))))).shape)# 1D\n",
    "print(dns(flttn(m2(c2(m1(c1(X)))))).shape)# 1D"
   ]
  },
  {
   "cell_type": "markdown",
   "id": "839c0c6e-42c8-42f8-a95c-ec9dbf608f39",
   "metadata": {
    "id": "839c0c6e-42c8-42f8-a95c-ec9dbf608f39"
   },
   "source": [
    "### MaxPool2D"
   ]
  },
  {
   "cell_type": "markdown",
   "id": "71fa4575-d08b-4419-a8ec-9fe34dc74bf4",
   "metadata": {
    "id": "71fa4575-d08b-4419-a8ec-9fe34dc74bf4"
   },
   "source": [
    "#### 테스트1"
   ]
  },
  {
   "cell_type": "markdown",
   "id": "42f18227-357c-48ce-b98d-c6d418e3b9d1",
   "metadata": {
    "id": "42f18227-357c-48ce-b98d-c6d418e3b9d1"
   },
   "source": [
    "`-` 레이어생성"
   ]
  },
  {
   "cell_type": "code",
   "execution_count": 21,
   "id": "7791681d-c677-41d9-81ff-d4b0e2d38760",
   "metadata": {
    "id": "7791681d-c677-41d9-81ff-d4b0e2d38760"
   },
   "outputs": [],
   "source": [
    "m=tf.keras.layers.MaxPool2D()"
   ]
  },
  {
   "cell_type": "markdown",
   "id": "eb74ca8a-0f15-47d9-b57e-0e6b6f5076fc",
   "metadata": {
    "id": "eb74ca8a-0f15-47d9-b57e-0e6b6f5076fc"
   },
   "source": [
    "`-` 입력데이터"
   ]
  },
  {
   "cell_type": "code",
   "execution_count": 23,
   "id": "01cb3396-d796-4182-8887-8ddda02b066d",
   "metadata": {
    "id": "01cb3396-d796-4182-8887-8ddda02b066d",
    "outputId": "22dc386a-abc4-4c37-dbfa-0bcd0e6989b2"
   },
   "outputs": [
    {
     "data": {
      "text/plain": [
       "<tf.Tensor: shape=(1, 4, 4), dtype=int64, numpy=\n",
       "array([[[ 0,  1,  2,  3],\n",
       "        [ 4,  5,  6,  7],\n",
       "        [ 8,  9, 10, 11],\n",
       "        [12, 13, 14, 15]]])>"
      ]
     },
     "execution_count": 23,
     "metadata": {},
     "output_type": "execute_result"
    }
   ],
   "source": [
    "XXX = tnp.arange(1*4*4*1).reshape(1,4,4,1)\n",
    "XXX.reshape(1,4,4)"
   ]
  },
  {
   "cell_type": "markdown",
   "id": "92ca3385-90a3-4c8d-8cde-5cc7b20fe743",
   "metadata": {
    "id": "92ca3385-90a3-4c8d-8cde-5cc7b20fe743"
   },
   "source": [
    "`-` 입력데이터가 레이어를 통과한 모습"
   ]
  },
  {
   "cell_type": "code",
   "execution_count": 24,
   "id": "f253fa29-e6f1-4e97-b9f2-5d1ecb7e3325",
   "metadata": {
    "id": "f253fa29-e6f1-4e97-b9f2-5d1ecb7e3325",
    "outputId": "f518b3f5-7dc0-4e57-c80e-425a293ead24"
   },
   "outputs": [
    {
     "data": {
      "text/plain": [
       "<tf.Tensor: shape=(1, 2, 2), dtype=int64, numpy=\n",
       "array([[[ 5,  7],\n",
       "        [13, 15]]])>"
      ]
     },
     "execution_count": 24,
     "metadata": {},
     "output_type": "execute_result"
    }
   ],
   "source": [
    "m(XXX).reshape(1,2,2)"
   ]
  },
  {
   "cell_type": "markdown",
   "id": "3b70c614-a997-4d5c-8396-52cc18199d38",
   "metadata": {
    "id": "3b70c614-a997-4d5c-8396-52cc18199d38"
   },
   "source": [
    "`-` MaxPool2D layer의 역할: (2,2)윈도우를 만들고 (2,2)윈도우에서 max를 뽑아 값을 기록, 윈도우를 움직이면서 반복"
   ]
  },
  {
   "cell_type": "markdown",
   "id": "f633e962-ae8c-4118-9b97-ca2f72b563c5",
   "metadata": {
    "id": "f633e962-ae8c-4118-9b97-ca2f72b563c5"
   },
   "source": [
    "#### 테스트2"
   ]
  },
  {
   "cell_type": "code",
   "execution_count": null,
   "id": "a32cd4dc-5ee1-4b06-bfa2-4802662073dc",
   "metadata": {
    "id": "a32cd4dc-5ee1-4b06-bfa2-4802662073dc",
    "outputId": "805cfa33-26bf-4aa6-b449-e89fe47b42b2"
   },
   "outputs": [
    {
     "data": {
      "text/plain": [
       "<tf.Tensor: shape=(1, 6, 6), dtype=int64, numpy=\n",
       "array([[[ 0,  1,  2,  3,  4,  5],\n",
       "        [ 6,  7,  8,  9, 10, 11],\n",
       "        [12, 13, 14, 15, 16, 17],\n",
       "        [18, 19, 20, 21, 22, 23],\n",
       "        [24, 25, 26, 27, 28, 29],\n",
       "        [30, 31, 32, 33, 34, 35]]])>"
      ]
     },
     "execution_count": 66,
     "metadata": {},
     "output_type": "execute_result"
    }
   ],
   "source": [
    "XXX = tnp.arange(1*6*6*1).reshape(1,6,6,1)\n",
    "XXX.reshape(1,6,6)"
   ]
  },
  {
   "cell_type": "code",
   "execution_count": null,
   "id": "d5022e2c-0ec3-4250-aa43-83f3e4fd0294",
   "metadata": {
    "id": "d5022e2c-0ec3-4250-aa43-83f3e4fd0294",
    "outputId": "accfc41b-bf91-47bb-964b-ea009b82f356"
   },
   "outputs": [
    {
     "data": {
      "text/plain": [
       "<tf.Tensor: shape=(1, 3, 3), dtype=int64, numpy=\n",
       "array([[[ 7,  9, 11],\n",
       "        [19, 21, 23],\n",
       "        [31, 33, 35]]])>"
      ]
     },
     "execution_count": 68,
     "metadata": {},
     "output_type": "execute_result"
    }
   ],
   "source": [
    "m(XXX).reshape(1,3,3)"
   ]
  },
  {
   "cell_type": "markdown",
   "id": "0d2dd6b0-dbee-416b-8a34-546d383bdbad",
   "metadata": {
    "id": "0d2dd6b0-dbee-416b-8a34-546d383bdbad"
   },
   "source": [
    "#### 테스트3"
   ]
  },
  {
   "cell_type": "code",
   "execution_count": 25,
   "id": "db7eb3a2-c78c-49ab-a437-f771caecc0b5",
   "metadata": {
    "id": "db7eb3a2-c78c-49ab-a437-f771caecc0b5"
   },
   "outputs": [],
   "source": [
    "m=tf.keras.layers.MaxPool2D(pool_size=(3, 3))"
   ]
  },
  {
   "cell_type": "code",
   "execution_count": 26,
   "id": "85a7f0ca-435b-46b9-b8fb-423278d167b7",
   "metadata": {
    "id": "85a7f0ca-435b-46b9-b8fb-423278d167b7",
    "outputId": "812e0e99-6a3c-4aef-f2b6-281af13feabe"
   },
   "outputs": [
    {
     "data": {
      "text/plain": [
       "<tf.Tensor: shape=(1, 6, 6), dtype=int64, numpy=\n",
       "array([[[ 0,  1,  2,  3,  4,  5],\n",
       "        [ 6,  7,  8,  9, 10, 11],\n",
       "        [12, 13, 14, 15, 16, 17],\n",
       "        [18, 19, 20, 21, 22, 23],\n",
       "        [24, 25, 26, 27, 28, 29],\n",
       "        [30, 31, 32, 33, 34, 35]]])>"
      ]
     },
     "execution_count": 26,
     "metadata": {},
     "output_type": "execute_result"
    }
   ],
   "source": [
    "XXX = tnp.arange(1*6*6*1).reshape(1,6,6,1)\n",
    "XXX.reshape(1,6,6)"
   ]
  },
  {
   "cell_type": "code",
   "execution_count": 27,
   "id": "7e220b5d-b351-4364-8107-0ff98fd916da",
   "metadata": {
    "id": "7e220b5d-b351-4364-8107-0ff98fd916da",
    "outputId": "579796ae-987b-4c99-9bf8-7787be317f0e"
   },
   "outputs": [
    {
     "data": {
      "text/plain": [
       "<tf.Tensor: shape=(1, 2, 2), dtype=int64, numpy=\n",
       "array([[[14, 17],\n",
       "        [32, 35]]])>"
      ]
     },
     "execution_count": 27,
     "metadata": {},
     "output_type": "execute_result"
    }
   ],
   "source": [
    "m(XXX).reshape(1,2,2)"
   ]
  },
  {
   "cell_type": "markdown",
   "id": "b5a12865-d4fb-4076-a0df-3276ab405566",
   "metadata": {
    "id": "b5a12865-d4fb-4076-a0df-3276ab405566"
   },
   "source": [
    "#### 테스트4"
   ]
  },
  {
   "cell_type": "code",
   "execution_count": 28,
   "id": "bdafc487-20d0-4c13-83c9-e13eb9e14d8a",
   "metadata": {
    "id": "bdafc487-20d0-4c13-83c9-e13eb9e14d8a"
   },
   "outputs": [],
   "source": [
    "m=tf.keras.layers.MaxPool2D(pool_size=(2, 2))"
   ]
  },
  {
   "cell_type": "code",
   "execution_count": 29,
   "id": "5fdc2953-de7c-4542-b7ff-e177581862da",
   "metadata": {
    "id": "5fdc2953-de7c-4542-b7ff-e177581862da",
    "outputId": "cdd5d700-be6f-4858-b3ad-b8d844ec3312"
   },
   "outputs": [
    {
     "data": {
      "text/plain": [
       "<tf.Tensor: shape=(1, 5, 5), dtype=int64, numpy=\n",
       "array([[[ 0,  1,  2,  3,  4],\n",
       "        [ 5,  6,  7,  8,  9],\n",
       "        [10, 11, 12, 13, 14],\n",
       "        [15, 16, 17, 18, 19],\n",
       "        [20, 21, 22, 23, 24]]])>"
      ]
     },
     "execution_count": 29,
     "metadata": {},
     "output_type": "execute_result"
    }
   ],
   "source": [
    "XXX = tnp.arange(1*5*5*1).reshape(1,5,5,1)\n",
    "XXX.reshape(1,5,5)"
   ]
  },
  {
   "cell_type": "code",
   "execution_count": 30,
   "id": "88423b66-9fd6-4a30-a4da-061cbe97017c",
   "metadata": {
    "id": "88423b66-9fd6-4a30-a4da-061cbe97017c",
    "outputId": "3194d0bb-cb9b-4293-961c-8e7260d6d2ed"
   },
   "outputs": [
    {
     "data": {
      "text/plain": [
       "<tf.Tensor: shape=(1, 2, 2), dtype=int64, numpy=\n",
       "array([[[ 6,  8],\n",
       "        [16, 18]]])>"
      ]
     },
     "execution_count": 30,
     "metadata": {},
     "output_type": "execute_result"
    }
   ],
   "source": [
    "m(XXX).reshape(1,2,2)"
   ]
  },
  {
   "cell_type": "code",
   "execution_count": 31,
   "id": "34b07753-2418-40ca-ac27-870b571a807c",
   "metadata": {
    "id": "34b07753-2418-40ca-ac27-870b571a807c"
   },
   "outputs": [],
   "source": [
    "m=tf.keras.layers.MaxPool2D(pool_size=(2, 2),padding=\"same\")"
   ]
  },
  {
   "cell_type": "code",
   "execution_count": 32,
   "id": "bf7c74ae-1bf4-4f33-bab3-383d2d6f80be",
   "metadata": {
    "id": "bf7c74ae-1bf4-4f33-bab3-383d2d6f80be",
    "outputId": "70ae495f-83d2-4a35-f911-e440f54087c2"
   },
   "outputs": [
    {
     "data": {
      "text/plain": [
       "<tf.Tensor: shape=(1, 5, 5), dtype=int64, numpy=\n",
       "array([[[ 0,  1,  2,  3,  4],\n",
       "        [ 5,  6,  7,  8,  9],\n",
       "        [10, 11, 12, 13, 14],\n",
       "        [15, 16, 17, 18, 19],\n",
       "        [20, 21, 22, 23, 24]]])>"
      ]
     },
     "execution_count": 32,
     "metadata": {},
     "output_type": "execute_result"
    }
   ],
   "source": [
    "XXX = tnp.arange(1*5*5*1).reshape(1,5,5,1)\n",
    "XXX.reshape(1,5,5)"
   ]
  },
  {
   "cell_type": "markdown",
   "id": "d15ab800-dea9-47b5-ab45-c033fc9da39a",
   "metadata": {},
   "source": [
    "- 차원이 안맞는 부분은 버린다.. (이게 Default)"
   ]
  },
  {
   "cell_type": "code",
   "execution_count": 33,
   "id": "3b485719-ff9d-49b0-a9b4-dbbb391f532e",
   "metadata": {
    "id": "3b485719-ff9d-49b0-a9b4-dbbb391f532e",
    "outputId": "4330da38-cde9-4b61-a3a5-e1b9ed0ec634"
   },
   "outputs": [
    {
     "data": {
      "text/plain": [
       "<tf.Tensor: shape=(1, 3, 3), dtype=int64, numpy=\n",
       "array([[[ 6,  8,  9],\n",
       "        [16, 18, 19],\n",
       "        [21, 23, 24]]])>"
      ]
     },
     "execution_count": 33,
     "metadata": {},
     "output_type": "execute_result"
    }
   ],
   "source": [
    "m(XXX).reshape(1,3,3)"
   ]
  },
  {
   "cell_type": "markdown",
   "id": "455d6c71-f73a-4bcd-a4d9-33fce216e073",
   "metadata": {
    "id": "455d6c71-f73a-4bcd-a4d9-33fce216e073"
   },
   "source": [
    "#### 테스트5"
   ]
  },
  {
   "cell_type": "code",
   "execution_count": 34,
   "id": "e7fe1b09-07f7-4746-8bba-ba589b5603dd",
   "metadata": {
    "id": "e7fe1b09-07f7-4746-8bba-ba589b5603dd",
    "outputId": "4b0a099f-0d7b-4cf1-9563-77264984b697"
   },
   "outputs": [
    {
     "data": {
      "text/plain": [
       "<tf.Tensor: shape=(2, 4, 4), dtype=int64, numpy=\n",
       "array([[[ 0,  1,  2,  3],\n",
       "        [ 4,  5,  6,  7],\n",
       "        [ 8,  9, 10, 11],\n",
       "        [12, 13, 14, 15]],\n",
       "\n",
       "       [[16, 17, 18, 19],\n",
       "        [20, 21, 22, 23],\n",
       "        [24, 25, 26, 27],\n",
       "        [28, 29, 30, 31]]])>"
      ]
     },
     "execution_count": 34,
     "metadata": {},
     "output_type": "execute_result"
    }
   ],
   "source": [
    "XXX = tnp.arange(2*4*4*1).reshape(2,4,4,1)\n",
    "XXX.reshape(2,4,4)"
   ]
  },
  {
   "cell_type": "code",
   "execution_count": 35,
   "id": "6a9dee7b-22cc-46b9-9d20-757f5c904b43",
   "metadata": {
    "id": "6a9dee7b-22cc-46b9-9d20-757f5c904b43",
    "outputId": "ad649ee3-47aa-402c-f758-bcdebf718524"
   },
   "outputs": [
    {
     "data": {
      "text/plain": [
       "<tf.Tensor: shape=(2, 2, 2), dtype=int64, numpy=\n",
       "array([[[ 5,  7],\n",
       "        [13, 15]],\n",
       "\n",
       "       [[21, 23],\n",
       "        [29, 31]]])>"
      ]
     },
     "execution_count": 35,
     "metadata": {},
     "output_type": "execute_result"
    }
   ],
   "source": [
    "m(XXX).reshape(2,2,2)"
   ]
  },
  {
   "cell_type": "markdown",
   "id": "0d23dad2-5e71-4f6b-986b-6f620c32b9ac",
   "metadata": {
    "id": "0d23dad2-5e71-4f6b-986b-6f620c32b9ac"
   },
   "source": [
    "#### 테스트6"
   ]
  },
  {
   "cell_type": "code",
   "execution_count": 36,
   "id": "feba1874-dc57-4fb1-8b4f-99896602cef9",
   "metadata": {
    "id": "feba1874-dc57-4fb1-8b4f-99896602cef9"
   },
   "outputs": [],
   "source": [
    "XXX = tnp.arange(1*4*4*3).reshape(1,4,4,3)"
   ]
  },
  {
   "cell_type": "code",
   "execution_count": 37,
   "id": "d9e57c14-10d4-405d-aa81-315474f0eedb",
   "metadata": {
    "id": "d9e57c14-10d4-405d-aa81-315474f0eedb",
    "outputId": "a44061c5-74e2-4a42-8ffa-21082bd3421e"
   },
   "outputs": [
    {
     "data": {
      "text/plain": [
       "<tf.Tensor: shape=(1, 4, 4), dtype=int64, numpy=\n",
       "array([[[ 0,  3,  6,  9],\n",
       "        [12, 15, 18, 21],\n",
       "        [24, 27, 30, 33],\n",
       "        [36, 39, 42, 45]]])>"
      ]
     },
     "execution_count": 37,
     "metadata": {},
     "output_type": "execute_result"
    }
   ],
   "source": [
    "XXX[...,0]"
   ]
  },
  {
   "cell_type": "code",
   "execution_count": 38,
   "id": "14d25cc5-4f2a-404c-9380-f5e9a11a51ed",
   "metadata": {
    "id": "14d25cc5-4f2a-404c-9380-f5e9a11a51ed",
    "outputId": "b5c73ff6-dc76-4c22-99db-b928da71324a"
   },
   "outputs": [
    {
     "data": {
      "text/plain": [
       "<tf.Tensor: shape=(1, 2, 2), dtype=int64, numpy=\n",
       "array([[[15, 21],\n",
       "        [39, 45]]])>"
      ]
     },
     "execution_count": 38,
     "metadata": {},
     "output_type": "execute_result"
    }
   ],
   "source": [
    "m(XXX)[...,0]"
   ]
  },
  {
   "cell_type": "markdown",
   "id": "1e733af5-480e-4deb-95a3-7173592ff3b3",
   "metadata": {
    "id": "1e733af5-480e-4deb-95a3-7173592ff3b3"
   },
   "source": [
    "### Conv2D"
   ]
  },
  {
   "cell_type": "markdown",
   "id": "a75334b8-4153-48aa-82af-6188bb55b61f",
   "metadata": {
    "id": "a75334b8-4153-48aa-82af-6188bb55b61f"
   },
   "source": [
    "#### 테스트1"
   ]
  },
  {
   "cell_type": "markdown",
   "id": "ad28e8f6-8b8a-48a5-a955-15c9fc24fb60",
   "metadata": {
    "id": "ad28e8f6-8b8a-48a5-a955-15c9fc24fb60"
   },
   "source": [
    "`-` 레이어생성"
   ]
  },
  {
   "cell_type": "code",
   "execution_count": 39,
   "id": "31abec64-855b-4a27-9299-35c9f78ce6ee",
   "metadata": {
    "id": "31abec64-855b-4a27-9299-35c9f78ce6ee"
   },
   "outputs": [],
   "source": [
    "cnv = tf.keras.layers.Conv2D(1,(2,2))"
   ]
  },
  {
   "cell_type": "markdown",
   "id": "17ee313a-15b7-4fbf-99b3-7fe5ba596256",
   "metadata": {
    "id": "17ee313a-15b7-4fbf-99b3-7fe5ba596256"
   },
   "source": [
    "`-` XXX생성"
   ]
  },
  {
   "cell_type": "code",
   "execution_count": 43,
   "id": "1d6b3e52-b510-455c-b1dd-fe3f1a52c2c2",
   "metadata": {
    "id": "1d6b3e52-b510-455c-b1dd-fe3f1a52c2c2",
    "outputId": "0077ae14-4977-47d5-8e82-e377c2d976d8"
   },
   "outputs": [
    {
     "data": {
      "text/plain": [
       "<tf.Tensor: shape=(1, 4, 4), dtype=float64, numpy=\n",
       "array([[[ 0.,  1.,  2.,  3.],\n",
       "        [ 4.,  5.,  6.,  7.],\n",
       "        [ 8.,  9., 10., 11.],\n",
       "        [12., 13., 14., 15.]]])>"
      ]
     },
     "execution_count": 43,
     "metadata": {},
     "output_type": "execute_result"
    }
   ],
   "source": [
    "XXX = tnp.arange(1*4*4*1,dtype=tf.float64).reshape(1,4,4,1) # data type이 float형이어야 에러가 안남! 4-dim\n",
    "XXX.reshape(1,4,4)"
   ]
  },
  {
   "cell_type": "code",
   "execution_count": 44,
   "id": "30114419-cafa-4278-b557-c64c4f20a1a7",
   "metadata": {
    "id": "30114419-cafa-4278-b557-c64c4f20a1a7",
    "outputId": "2d4c5bb0-b69a-4d2e-f258-649343be3e32"
   },
   "outputs": [
    {
     "data": {
      "text/plain": [
       "<tf.Tensor: shape=(1, 3, 3), dtype=float32, numpy=\n",
       "array([[[ 0.9716801,  2.230203 ,  3.4887257],\n",
       "        [ 6.0057716,  7.2642946,  8.522818 ],\n",
       "        [11.039864 , 12.298387 , 13.55691  ]]], dtype=float32)>"
      ]
     },
     "execution_count": 44,
     "metadata": {},
     "output_type": "execute_result"
    }
   ],
   "source": [
    "cnv(XXX).reshape(1,3,3)"
   ]
  },
  {
   "cell_type": "markdown",
   "id": "9d6cf539-1d41-40a5-a692-ee19b9371ef1",
   "metadata": {
    "id": "9d6cf539-1d41-40a5-a692-ee19b9371ef1"
   },
   "source": [
    "- XXX에서 cnv(XXX)로 가는 맵핑을 찾는건 쉽지 않아보인다.\n",
    "- 심지어 랜덤으로 결정되는 부분도 있어보임"
   ]
  },
  {
   "cell_type": "markdown",
   "id": "1d4167be-745e-42fa-bb2a-a2ea49aef019",
   "metadata": {
    "id": "1d4167be-745e-42fa-bb2a-a2ea49aef019"
   },
   "source": [
    "`-` 코드정리 + 시드통일"
   ]
  },
  {
   "cell_type": "code",
   "execution_count": 72,
   "id": "615584b9-7a3a-4064-9ebd-3687a2736bc6",
   "metadata": {
    "id": "615584b9-7a3a-4064-9ebd-3687a2736bc6"
   },
   "outputs": [],
   "source": [
    "tf.random.set_seed(43052)\n",
    "cnv = tf.keras.layers.Conv2D(1,(2,2))\n",
    "XXX = tnp.arange(1*4*4*1,dtype=tf.float64).reshape(1,4,4,1)"
   ]
  },
  {
   "cell_type": "markdown",
   "id": "d5662418-95c0-4321-8988-999292be75e5",
   "metadata": {
    "id": "d5662418-95c0-4321-8988-999292be75e5"
   },
   "source": [
    "`-` conv의 입출력"
   ]
  },
  {
   "cell_type": "code",
   "execution_count": 73,
   "id": "9cb0f4cb-3312-475c-a15c-30581e030e1e",
   "metadata": {
    "id": "9cb0f4cb-3312-475c-a15c-30581e030e1e",
    "outputId": "38b64043-b4ce-4fb2-b0f4-d6e4f814aa66"
   },
   "outputs": [
    {
     "name": "stdout",
     "output_type": "stream",
     "text": [
      "tf.Tensor(\n",
      "[[[ 0.  1.  2.  3.]\n",
      "  [ 4.  5.  6.  7.]\n",
      "  [ 8.  9. 10. 11.]\n",
      "  [12. 13. 14. 15.]]], shape=(1, 4, 4), dtype=float64)\n",
      "tf.Tensor(\n",
      "[[[ 0.36673212 -0.5838206  -1.5343733 ]\n",
      "  [-3.4354792  -4.3860326  -5.336584  ]\n",
      "  [-7.23769    -8.188243   -9.138796  ]]], shape=(1, 3, 3), dtype=float32)\n"
     ]
    }
   ],
   "source": [
    "print(XXX.reshape(1,4,4))\n",
    "print(cnv(XXX).reshape(1,3,3))"
   ]
  },
  {
   "cell_type": "code",
   "execution_count": 137,
   "id": "5136a4d9-389f-4820-8a3e-57ab8490f5aa",
   "metadata": {},
   "outputs": [
    {
     "data": {
      "text/plain": [
       "list"
      ]
     },
     "execution_count": 137,
     "metadata": {},
     "output_type": "execute_result"
    }
   ],
   "source": [
    "type(cnv.weights) # 길이가 2인 list"
   ]
  },
  {
   "cell_type": "markdown",
   "id": "e683e00e-3ace-45fc-a68d-29b7362dac79",
   "metadata": {
    "id": "e683e00e-3ace-45fc-a68d-29b7362dac79"
   },
   "source": [
    "`-` conv연산 추론"
   ]
  },
  {
   "cell_type": "code",
   "execution_count": 75,
   "id": "fb8240bc-4f38-4d35-9eed-b971503ab0e3",
   "metadata": {
    "id": "fb8240bc-4f38-4d35-9eed-b971503ab0e3",
    "outputId": "0ae067f5-b16d-45f5-cda7-001534898e76"
   },
   "outputs": [
    {
     "data": {
      "text/plain": [
       "<tf.Tensor: shape=(2, 2), dtype=float32, numpy=\n",
       "array([[-0.7749905 , -0.50674176],\n",
       "       [ 0.7824232 , -0.45124376]], dtype=float32)>"
      ]
     },
     "execution_count": 75,
     "metadata": {},
     "output_type": "execute_result"
    }
   ],
   "source": [
    "tf.reshape(cnv.weights[0],(2,2))"
   ]
  },
  {
   "cell_type": "markdown",
   "id": "19bbe945-43a5-4ecd-8468-d0d657976448",
   "metadata": {},
   "source": [
    "```python\n",
    "\n",
    "## XXX\n",
    "tf.Tensor(\n",
    "[[[ 0.  1.  2.  3.]\n",
    "  [ 4.  5.  6.  7.]\n",
    "  [ 8.  9. 10. 11.]\n",
    "  [12. 13. 14. 15.]]]\n",
    "\n",
    "## cnv(XXX)\n",
    "[[[ 0.36673212 -0.5838206  -1.5343733 ]\n",
    "  [-3.4354792  -4.3860326  -5.336584  ]\n",
    "  [-7.23769    -8.188243   -9.138796  ]]]\n",
    "```"
   ]
  },
  {
   "cell_type": "markdown",
   "id": "2a13f56d-7b6f-4873-afca-c247c477c319",
   "metadata": {},
   "source": [
    "```python\n",
    "## cnv.weights\n",
    "array([[-0.7749905 , -0.50674176],\n",
    "       [ 0.7824232 , -0.45124376]], dtype=float32)>\n",
    "```"
   ]
  },
  {
   "cell_type": "code",
   "execution_count": 86,
   "id": "c50f8900-2e27-4ffa-a964-ba310e9b1f13",
   "metadata": {},
   "outputs": [
    {
     "name": "stdout",
     "output_type": "stream",
     "text": [
      "0.3667322399999997\n",
      "-0.5838205799999998\n",
      "-1.5343734000000002\n"
     ]
    }
   ],
   "source": [
    "# my version\n",
    "print(0*-0.7749905 + 1*-0.50674176 + 4*0.7824232 + 5*-0.45124376 + 0) # bias=0\n",
    "print(1*-0.7749905 + 2*-0.50674176 + 5*0.7824232 + 6*-0.45124376  + 0) # bias=0\n",
    "print(2*-0.7749905 + 3*-0.50674176 + 6*0.7824232 + 7*-0.45124376 + 0) # bias=0"
   ]
  },
  {
   "cell_type": "code",
   "execution_count": 76,
   "id": "22a81c5d-6fb5-4b1f-8469-ac003c1d0997",
   "metadata": {
    "id": "22a81c5d-6fb5-4b1f-8469-ac003c1d0997",
    "outputId": "8f297713-8cb7-4d1b-8186-9c969a4d8522"
   },
   "outputs": [
    {
     "data": {
      "text/plain": [
       "-4.1257540200000005"
      ]
     },
     "execution_count": 76,
     "metadata": {},
     "output_type": "execute_result"
    }
   ],
   "source": [
    "# element wise하게 곱한다.\n",
    "# ver. 교수님\n",
    "0 * -0.13014299 + 1 * -0.23927206 + 4 * -0.20175874 + 5 * -0.6158894 + 0"
   ]
  },
  {
   "cell_type": "markdown",
   "id": "5cb4c565-54c0-47b8-90da-b4c03422472f",
   "metadata": {},
   "source": [
    "- weights를 위에 처럼 다 쓰긴 너무 귀찮아.."
   ]
  },
  {
   "cell_type": "markdown",
   "id": "01dd1fc6-0fec-46b8-aa6d-a5e0b8785e4b",
   "metadata": {
    "id": "01dd1fc6-0fec-46b8-aa6d-a5e0b8785e4b"
   },
   "source": [
    "`-` 내가 정의한 weights를 대입하여 conv 연산 확인"
   ]
  },
  {
   "cell_type": "code",
   "execution_count": 84,
   "id": "661a2dd8-6e85-4d0c-8d6f-d1e89d1221f5",
   "metadata": {
    "id": "661a2dd8-6e85-4d0c-8d6f-d1e89d1221f5",
    "outputId": "ce849ae7-89b1-4838-9a86-c48254958347"
   },
   "outputs": [
    {
     "data": {
      "text/plain": [
       "(2, 2, 1, 1)"
      ]
     },
     "execution_count": 84,
     "metadata": {},
     "output_type": "execute_result"
    }
   ],
   "source": [
    "cnv.get_weights()[0].shape"
   ]
  },
  {
   "cell_type": "code",
   "execution_count": 94,
   "id": "8a049192-d97f-40dd-845f-61bde27ee392",
   "metadata": {
    "id": "8a049192-d97f-40dd-845f-61bde27ee392"
   },
   "outputs": [],
   "source": [
    "w = np.array([1/4,1/4,1/4,1/4],dtype=np.float32).reshape(2, 2, 1, 1)\n",
    "b = np.array([3],dtype=np.float32)"
   ]
  },
  {
   "cell_type": "code",
   "execution_count": 95,
   "id": "3f691bc3-d9d2-4506-83ac-1ad69685d5b4",
   "metadata": {
    "id": "3f691bc3-d9d2-4506-83ac-1ad69685d5b4"
   },
   "outputs": [],
   "source": [
    "cnv.set_weights([w,b])"
   ]
  },
  {
   "cell_type": "code",
   "execution_count": 99,
   "id": "868e5981-5c19-41e9-8b33-c81a4c7d1fae",
   "metadata": {},
   "outputs": [
    {
     "data": {
      "text/plain": [
       "[<tf.Variable 'conv2d_9/kernel:0' shape=(2, 2, 1, 1) dtype=float32, numpy=\n",
       " array([[[[0.25]],\n",
       " \n",
       "         [[0.25]]],\n",
       " \n",
       " \n",
       "        [[[0.25]],\n",
       " \n",
       "         [[0.25]]]], dtype=float32)>,\n",
       " <tf.Variable 'conv2d_9/bias:0' shape=(1,) dtype=float32, numpy=array([3.], dtype=float32)>]"
      ]
     },
     "execution_count": 99,
     "metadata": {},
     "output_type": "execute_result"
    }
   ],
   "source": [
    "cnv.weights"
   ]
  },
  {
   "cell_type": "markdown",
   "id": "ea5b8dc5-8152-49e3-8630-ba30f9dc52b1",
   "metadata": {},
   "source": [
    "- bias=3"
   ]
  },
  {
   "cell_type": "code",
   "execution_count": 100,
   "id": "d0a02431-b115-4e72-8aac-c6ba035f2cdf",
   "metadata": {
    "id": "d0a02431-b115-4e72-8aac-c6ba035f2cdf",
    "outputId": "a53a839c-b84a-4284-d001-4c38321c3811"
   },
   "outputs": [
    {
     "data": {
      "text/plain": [
       "<tf.Tensor: shape=(1, 4, 4), dtype=float64, numpy=\n",
       "array([[[ 0.,  1.,  2.,  3.],\n",
       "        [ 4.,  5.,  6.,  7.],\n",
       "        [ 8.,  9., 10., 11.],\n",
       "        [12., 13., 14., 15.]]])>"
      ]
     },
     "execution_count": 100,
     "metadata": {},
     "output_type": "execute_result"
    }
   ],
   "source": [
    "XXX.reshape(1,4,4)"
   ]
  },
  {
   "cell_type": "code",
   "execution_count": 101,
   "id": "d85618cb-e820-4fd4-a679-9708be4070d5",
   "metadata": {
    "id": "d85618cb-e820-4fd4-a679-9708be4070d5",
    "outputId": "f5a192a3-51e6-4fc1-e6cd-e95cf9fac9f3"
   },
   "outputs": [
    {
     "data": {
      "text/plain": [
       "<tf.Tensor: shape=(1, 3, 3), dtype=float32, numpy=\n",
       "array([[[ 5.5,  6.5,  7.5],\n",
       "        [ 9.5, 10.5, 11.5],\n",
       "        [13.5, 14.5, 15.5]]], dtype=float32)>"
      ]
     },
     "execution_count": 101,
     "metadata": {},
     "output_type": "execute_result"
    }
   ],
   "source": [
    "cnv(XXX).reshape(1,3,3)"
   ]
  },
  {
   "cell_type": "code",
   "execution_count": 102,
   "id": "548b9b81-85dc-4008-82a5-f14eb3708a75",
   "metadata": {
    "id": "548b9b81-85dc-4008-82a5-f14eb3708a75",
    "outputId": "e06318c0-658a-4e3b-c7bd-bd9e4e7a1b1c"
   },
   "outputs": [
    {
     "data": {
      "text/plain": [
       "(5.5, 6.5, 7.5)"
      ]
     },
     "execution_count": 102,
     "metadata": {},
     "output_type": "execute_result"
    }
   ],
   "source": [
    "np.mean([0,1,4,5])+3, np.mean([1,2,5,6])+3, np.mean([2,3,6,7])+3"
   ]
  },
  {
   "cell_type": "markdown",
   "id": "19e4460f-9944-46dc-a017-6f4f056572e2",
   "metadata": {
    "id": "19e4460f-9944-46dc-a017-6f4f056572e2"
   },
   "source": [
    "#### tf.keras.layers.Conv2D(1,kernel_size=(2,2)) 요약"
   ]
  },
  {
   "cell_type": "markdown",
   "id": "02656331-13c4-43c3-a33b-5317c4866e9a",
   "metadata": {
    "id": "02656331-13c4-43c3-a33b-5317c4866e9a"
   },
   "source": [
    "`-` 요약"
   ]
  },
  {
   "cell_type": "markdown",
   "id": "c6575f7c-f2c5-4ebc-86df-66479b5d2bd2",
   "metadata": {
    "id": "c6575f7c-f2c5-4ebc-86df-66479b5d2bd2"
   },
   "source": [
    "(1) size=(2,2)인 윈도우를 만듬.\n",
    "\n",
    "(2) XXX에 윈도우를 통과시켜서 (2,2)크기의 sub XXX 를 얻음. sub XXX의 각 원소에 conv2d.weights[0]의 각 원소를 element-wise하게 곱한다.\n",
    "\n",
    "(3) (2)의 결과를 모두 더한다. 그리고 그 결과에 다시 conv2d.weights[1]을 수행\n",
    "\n",
    "(4) 윈도우를 이동시키면서 반복!"
   ]
  },
  {
   "cell_type": "markdown",
   "id": "01c7db47-6485-4c37-a698-0efe6e480094",
   "metadata": {
    "id": "01c7db47-6485-4c37-a698-0efe6e480094",
    "tags": []
   },
   "source": [
    "#### 테스트2"
   ]
  },
  {
   "cell_type": "markdown",
   "id": "a587ea00-a382-45bf-9f95-5a1b14240251",
   "metadata": {
    "id": "a587ea00-a382-45bf-9f95-5a1b14240251"
   },
   "source": [
    "`-` 레이어와 XXX생성"
   ]
  },
  {
   "cell_type": "code",
   "execution_count": 138,
   "id": "7a669c76-4b8c-487c-b3cd-bad69c3537cf",
   "metadata": {
    "id": "7a669c76-4b8c-487c-b3cd-bad69c3537cf"
   },
   "outputs": [],
   "source": [
    "tf.random.set_seed(43052)\n",
    "cnv = tf.keras.layers.Conv2D(1,(3,3)) # kernel size: 3x3\n",
    "XXX = tnp.arange(1*5*5*1,dtype=tf.float64).reshape(1,5,5,1)"
   ]
  },
  {
   "cell_type": "code",
   "execution_count": 139,
   "id": "e45c7cd8-23b4-4df2-b358-dd542d6c81b2",
   "metadata": {
    "id": "e45c7cd8-23b4-4df2-b358-dd542d6c81b2",
    "outputId": "11f6d24d-035d-4649-da01-9c45f41796b3"
   },
   "outputs": [
    {
     "data": {
      "text/plain": [
       "<tf.Tensor: shape=(1, 5, 5), dtype=float64, numpy=\n",
       "array([[[ 0.,  1.,  2.,  3.,  4.],\n",
       "        [ 5.,  6.,  7.,  8.,  9.],\n",
       "        [10., 11., 12., 13., 14.],\n",
       "        [15., 16., 17., 18., 19.],\n",
       "        [20., 21., 22., 23., 24.]]])>"
      ]
     },
     "execution_count": 139,
     "metadata": {},
     "output_type": "execute_result"
    }
   ],
   "source": [
    "XXX.reshape(1,5,5) ## 입력: XXX"
   ]
  },
  {
   "cell_type": "code",
   "execution_count": 144,
   "id": "c2534ff0-96e3-4f76-b13f-813fe1a62ec0",
   "metadata": {},
   "outputs": [
    {
     "data": {
      "text/plain": [
       "<tf.Tensor: shape=(1, 3, 3, 1), dtype=float32, numpy=\n",
       "array([[[[-2.1662652 ],\n",
       "         [-1.4241629 ],\n",
       "         [-0.68206024]],\n",
       "\n",
       "        [[ 1.5442457 ],\n",
       "         [ 2.2863474 ],\n",
       "         [ 3.0284495 ]],\n",
       "\n",
       "        [[ 5.254756  ],\n",
       "         [ 5.996857  ],\n",
       "         [ 6.73896   ]]]], dtype=float32)>"
      ]
     },
     "execution_count": 144,
     "metadata": {},
     "output_type": "execute_result"
    }
   ],
   "source": [
    "cnv(XXX)"
   ]
  },
  {
   "cell_type": "code",
   "execution_count": 150,
   "id": "7ee6df21-72d1-4b69-ae06-7d0212f221d2",
   "metadata": {},
   "outputs": [
    {
     "data": {
      "text/plain": [
       "[array([[[[ 0.25344223]],\n",
       " \n",
       "         [[ 0.4941373 ]],\n",
       " \n",
       "         [[ 0.21964025]]],\n",
       " \n",
       " \n",
       "        [[[ 0.5367935 ]],\n",
       " \n",
       "         [[-0.38218382]],\n",
       " \n",
       "         [[-0.1195904 ]]],\n",
       " \n",
       " \n",
       "        [[[-0.52197355]],\n",
       " \n",
       "         [[ 0.5757177 ]],\n",
       " \n",
       "         [[-0.3138811 ]]]], dtype=float32),\n",
       " array([0.], dtype=float32)]"
      ]
     },
     "execution_count": 150,
     "metadata": {},
     "output_type": "execute_result"
    }
   ],
   "source": [
    "cnv.get_weights()"
   ]
  },
  {
   "cell_type": "markdown",
   "id": "8a4182ba-eec3-4a05-896a-c0d7ea155532",
   "metadata": {},
   "source": [
    "- 하나는 kernel에 대한 weight, 다른 하나는 bias에 대한 weight(=0)"
   ]
  },
  {
   "cell_type": "code",
   "execution_count": 153,
   "id": "53796db5-e9b9-484b-8698-75b1fd4e894d",
   "metadata": {
    "id": "53796db5-e9b9-484b-8698-75b1fd4e894d",
    "outputId": "6708a831-2380-40a1-ac6f-972884bb49ad"
   },
   "outputs": [
    {
     "data": {
      "text/plain": [
       "<tf.Tensor: shape=(3, 3), dtype=float32, numpy=\n",
       "array([[ 0.25344223,  0.4941373 ,  0.21964025],\n",
       "       [ 0.5367935 , -0.38218382, -0.1195904 ],\n",
       "       [-0.52197355,  0.5757177 , -0.3138811 ]], dtype=float32)>"
      ]
     },
     "execution_count": 153,
     "metadata": {},
     "output_type": "execute_result"
    }
   ],
   "source": [
    "tf.reshape(cnv.weights[0],(3,3)) ## 커널의 가중치"
   ]
  },
  {
   "cell_type": "code",
   "execution_count": 154,
   "id": "88b90786-2370-49c9-b02e-5cae590f1fc5",
   "metadata": {
    "id": "88b90786-2370-49c9-b02e-5cae590f1fc5",
    "outputId": "fa293dff-02aa-41b0-b7aa-c1ccad79e42a"
   },
   "outputs": [
    {
     "data": {
      "text/plain": [
       "<tf.Tensor: shape=(1, 3, 3), dtype=float32, numpy=\n",
       "array([[[-2.1662652 , -1.4241629 , -0.68206024],\n",
       "        [ 1.5442457 ,  2.2863474 ,  3.0284495 ],\n",
       "        [ 5.254756  ,  5.996857  ,  6.73896   ]]], dtype=float32)>"
      ]
     },
     "execution_count": 154,
     "metadata": {},
     "output_type": "execute_result"
    }
   ],
   "source": [
    "cnv(XXX).reshape(1,3,3) ## 출력: conv(XXX)"
   ]
  },
  {
   "cell_type": "code",
   "execution_count": 155,
   "id": "67a4337a-4640-4a07-8622-c55c870ade0a",
   "metadata": {
    "id": "67a4337a-4640-4a07-8622-c55c870ade0a",
    "outputId": "5c62b989-1208-4212-dc43-c454efe44c17"
   },
   "outputs": [
    {
     "data": {
      "text/plain": [
       "<tf.Tensor: shape=(), dtype=float64, numpy=-2.1662647128105164>"
      ]
     },
     "execution_count": 155,
     "metadata": {},
     "output_type": "execute_result"
    }
   ],
   "source": [
    "tf.reduce_sum(XXX.reshape(1,5,5)[0,:3,:3] * tf.reshape(cnv.weights[0],(3,3)))"
   ]
  },
  {
   "cell_type": "code",
   "execution_count": 166,
   "id": "bc0e0a1e-3d04-4413-9cd9-4541c2b2949f",
   "metadata": {},
   "outputs": [
    {
     "data": {
      "text/plain": [
       "<tf.Tensor: shape=(), dtype=float64, numpy=-1.4241626560688019>"
      ]
     },
     "execution_count": 166,
     "metadata": {},
     "output_type": "execute_result"
    }
   ],
   "source": [
    "tf.reduce_sum(XXX.reshape(1,5,5)[0,:3,1:4]  * tf.reshape(cnv.weights[0],(3,3)))"
   ]
  },
  {
   "cell_type": "code",
   "execution_count": 167,
   "id": "2fe04ce2-00ff-4d27-a054-4fc8adf569d8",
   "metadata": {},
   "outputs": [
    {
     "data": {
      "text/plain": [
       "<tf.Tensor: shape=(), dtype=float64, numpy=-0.6820605993270874>"
      ]
     },
     "execution_count": 167,
     "metadata": {},
     "output_type": "execute_result"
    }
   ],
   "source": [
    "tf.reduce_sum(XXX.reshape(1,5,5)[0,:3,2:5]  * tf.reshape(cnv.weights[0],(3,3)))"
   ]
  },
  {
   "cell_type": "markdown",
   "id": "028b335c-9542-4b20-9d4a-a9339409da18",
   "metadata": {
    "id": "028b335c-9542-4b20-9d4a-a9339409da18",
    "tags": []
   },
   "source": [
    "#### 테스트3"
   ]
  },
  {
   "cell_type": "markdown",
   "id": "b4f11523-6f72-4b0d-83bf-cba40d02f7f4",
   "metadata": {
    "id": "b4f11523-6f72-4b0d-83bf-cba40d02f7f4"
   },
   "source": [
    "![](https://github.com/guebin/2021BDA/blob/master/_notebooks/2021-11-04-conv.png?raw=true)"
   ]
  },
  {
   "cell_type": "code",
   "execution_count": 181,
   "id": "a30e90e8-aa36-4cc7-af7e-cc79647cc9dc",
   "metadata": {
    "id": "a30e90e8-aa36-4cc7-af7e-cc79647cc9dc",
    "outputId": "11056e51-bce8-47ae-a7eb-e226b48d09a0"
   },
   "outputs": [
    {
     "data": {
      "text/plain": [
       "<tf.Tensor: shape=(1, 5, 5), dtype=float64, numpy=\n",
       "array([[[3., 3., 2., 1., 0.],\n",
       "        [0., 0., 1., 3., 1.],\n",
       "        [3., 1., 2., 2., 3.],\n",
       "        [2., 0., 0., 2., 2.],\n",
       "        [2., 0., 0., 0., 1.]]])>"
      ]
     },
     "execution_count": 181,
     "metadata": {},
     "output_type": "execute_result"
    }
   ],
   "source": [
    "XXX = tf.constant([[3,3,2,1,0],[0,0,1,3,1],[3,1,2,2,3],[2,0,0,2,2],[2,0,0,0,1]],dtype=tf.float64).reshape(1,5,5,1)\n",
    "XXX.reshape(1,5,5)"
   ]
  },
  {
   "cell_type": "markdown",
   "id": "ed2631e5-31e5-4f8f-8049-fb54972e54db",
   "metadata": {},
   "source": [
    "::: {.callout-warning}\n",
    "- dtype은 항상 float\n",
    "- shape은 항상 4D로 나와야 한다.\n",
    ":::"
   ]
  },
  {
   "cell_type": "code",
   "execution_count": 182,
   "id": "411acaf9-6713-4a38-a4e1-92a917db70dc",
   "metadata": {
    "id": "411acaf9-6713-4a38-a4e1-92a917db70dc"
   },
   "outputs": [],
   "source": [
    "cnv = tf.keras.layers.Conv2D(1,(3,3)) # 3x3 window를 갖는 커널"
   ]
  },
  {
   "cell_type": "code",
   "execution_count": 183,
   "id": "6885e48b-4041-49fd-a070-dd6372c733fc",
   "metadata": {
    "id": "6885e48b-4041-49fd-a070-dd6372c733fc",
    "outputId": "7ee59ce4-a8b8-40d8-ca60-d2eecb47c0d2"
   },
   "outputs": [
    {
     "data": {
      "text/plain": [
       "[]"
      ]
     },
     "execution_count": 183,
     "metadata": {},
     "output_type": "execute_result"
    }
   ],
   "source": [
    "cnv.weights"
   ]
  },
  {
   "cell_type": "markdown",
   "id": "b2253a1d-a9f9-46e4-9371-f894cf91bbac",
   "metadata": {},
   "source": [
    "- 일단 cnv(XXX) 이걸 돌려줘야 weight이 생긴다."
   ]
  },
  {
   "cell_type": "code",
   "execution_count": 189,
   "id": "9f9d6290-d5a3-439e-b70e-3714b2928fbb",
   "metadata": {
    "id": "9f9d6290-d5a3-439e-b70e-3714b2928fbb",
    "outputId": "32aa138e-7fbd-4aad-e037-8194eb6527f3"
   },
   "outputs": [
    {
     "data": {
      "text/plain": [
       "<tf.Tensor: shape=(1, 3, 3), dtype=float32, numpy=\n",
       "array([[[ 0.5037645 , -1.312168  ,  0.6543627 ],\n",
       "        [ 2.4390626 ,  1.264232  , -0.26046228],\n",
       "        [ 2.5233214 ,  0.00339425,  1.0914648 ]]], dtype=float32)>"
      ]
     },
     "execution_count": 189,
     "metadata": {},
     "output_type": "execute_result"
    }
   ],
   "source": [
    "cnv(XXX).reshape(1,3,3) "
   ]
  },
  {
   "cell_type": "markdown",
   "id": "ea78837d-24fe-4550-8ffd-4cc95484f261",
   "metadata": {},
   "source": [
    "- layer에 통과하는 순간 weight이 정의된다."
   ]
  },
  {
   "cell_type": "code",
   "execution_count": 190,
   "id": "77c800c1-773f-4c3c-a816-4b247684bfed",
   "metadata": {
    "id": "77c800c1-773f-4c3c-a816-4b247684bfed",
    "outputId": "571c2444-4b65-4824-d66a-1cc590ae3c20"
   },
   "outputs": [
    {
     "data": {
      "text/plain": [
       "<tf.Variable 'conv2d_18/kernel:0' shape=(3, 3, 1, 1) dtype=float32, numpy=\n",
       "array([[[[-0.01447701]],\n",
       "\n",
       "        [[-0.02373308]],\n",
       "\n",
       "        [[ 0.40413225]]],\n",
       "\n",
       "\n",
       "       [[[ 0.47097933]],\n",
       "\n",
       "        [[ 0.52465725]],\n",
       "\n",
       "        [[-0.37146354]]],\n",
       "\n",
       "\n",
       "       [[[ 0.42013115]],\n",
       "\n",
       "        [[-0.37700126]],\n",
       "\n",
       "        [[-0.35089916]]]], dtype=float32)>"
      ]
     },
     "execution_count": 190,
     "metadata": {},
     "output_type": "execute_result"
    }
   ],
   "source": [
    "cnv.weights[0]"
   ]
  },
  {
   "cell_type": "code",
   "execution_count": 192,
   "id": "6e1c80cb-396a-45ef-aa8b-5412ab3f221c",
   "metadata": {},
   "outputs": [
    {
     "data": {
      "text/plain": [
       "<tf.Variable 'conv2d_18/bias:0' shape=(1,) dtype=float32, numpy=array([0.], dtype=float32)>"
      ]
     },
     "execution_count": 192,
     "metadata": {},
     "output_type": "execute_result"
    }
   ],
   "source": [
    "cnv.weights[1] # bias"
   ]
  },
  {
   "cell_type": "markdown",
   "id": "81274261-93bd-4c64-8e68-870896ae281f",
   "metadata": {},
   "source": [
    "- bias는 $0$이니까 무시.."
   ]
  },
  {
   "cell_type": "code",
   "execution_count": 197,
   "id": "024913a8-7f7a-4556-8eac-e95e9fe9a335",
   "metadata": {
    "id": "024913a8-7f7a-4556-8eac-e95e9fe9a335"
   },
   "outputs": [],
   "source": [
    "_w = tf.constant([[0,1,2],[2,2,0],[0,1,2]],dtype=tf.float64).reshape(3,3,1,1)\n",
    "_b = tf.constant([0],dtype=tf.float64)"
   ]
  },
  {
   "cell_type": "code",
   "execution_count": 198,
   "id": "7a5c9991-d011-425c-8922-e27fbe915289",
   "metadata": {
    "id": "7a5c9991-d011-425c-8922-e27fbe915289"
   },
   "outputs": [],
   "source": [
    "cnv.set_weights([_w,_b])"
   ]
  },
  {
   "cell_type": "code",
   "execution_count": 199,
   "id": "ba1bddad-9bf5-4489-a730-db41cada6197",
   "metadata": {
    "id": "ba1bddad-9bf5-4489-a730-db41cada6197",
    "outputId": "bab85319-84e3-43de-e0b9-dbea32c9ef74"
   },
   "outputs": [
    {
     "data": {
      "text/plain": [
       "<tf.Tensor: shape=(1, 3, 3), dtype=float32, numpy=\n",
       "array([[[12., 12., 17.],\n",
       "        [10., 17., 19.],\n",
       "        [ 9.,  6., 14.]]], dtype=float32)>"
      ]
     },
     "execution_count": 199,
     "metadata": {},
     "output_type": "execute_result"
    }
   ],
   "source": [
    "cnv(XXX).reshape(1,3,3)"
   ]
  },
  {
   "cell_type": "markdown",
   "id": "c59c0c72-ba78-4259-bf8d-45ff9f9247b9",
   "metadata": {
    "id": "c59c0c72-ba78-4259-bf8d-45ff9f9247b9"
   },
   "source": [
    "#### 테스트4: X의 channel, Conv channel 늘려보기."
   ]
  },
  {
   "cell_type": "code",
   "execution_count": 208,
   "id": "d8c19f60-8f35-4cde-8b69-649d5d994322",
   "metadata": {
    "id": "d8c19f60-8f35-4cde-8b69-649d5d994322"
   },
   "outputs": [],
   "source": [
    "tf.random.set_seed(43052)\n",
    "cnv = tf.keras.layers.Conv2D(1,(2,2))\n",
    "XXX = tnp.arange(2*5*5*1,dtype=tf.float64).reshape(2,5,5,1) # 무조건 4D, float형"
   ]
  },
  {
   "cell_type": "code",
   "execution_count": 209,
   "id": "493c58f5-4163-414b-a293-284882e303e8",
   "metadata": {
    "id": "493c58f5-4163-414b-a293-284882e303e8",
    "outputId": "84d299ba-b159-4ba0-c372-e5b356db1ec3"
   },
   "outputs": [
    {
     "name": "stdout",
     "output_type": "stream",
     "text": [
      "tf.Tensor(\n",
      "[[[ 0.  1.  2.  3.  4.]\n",
      "  [ 5.  6.  7.  8.  9.]\n",
      "  [10. 11. 12. 13. 14.]\n",
      "  [15. 16. 17. 18. 19.]\n",
      "  [20. 21. 22. 23. 24.]]\n",
      "\n",
      " [[25. 26. 27. 28. 29.]\n",
      "  [30. 31. 32. 33. 34.]\n",
      "  [35. 36. 37. 38. 39.]\n",
      "  [40. 41. 42. 43. 44.]\n",
      "  [45. 46. 47. 48. 49.]]], shape=(2, 5, 5), dtype=float64)\n",
      "tf.Tensor(\n",
      "[[[ 6.  7.  8.  9.]\n",
      "  [11. 12. 13. 14.]\n",
      "  [16. 17. 18. 19.]\n",
      "  [21. 22. 23. 24.]]\n",
      "\n",
      " [[31. 32. 33. 34.]\n",
      "  [36. 37. 38. 39.]\n",
      "  [41. 42. 43. 44.]\n",
      "  [46. 47. 48. 49.]]], shape=(2, 4, 4), dtype=float32)\n"
     ]
    }
   ],
   "source": [
    "print(XXX.reshape(2,5,5))\n",
    "cnv(XXX) # weights를 초기화 시키기 위해서 레이어를 1회 통과\n",
    "cnv.set_weights([w,b])\n",
    "print(cnv(XXX).reshape(2,4,4))"
   ]
  },
  {
   "cell_type": "markdown",
   "id": "61485d1a-5ba8-4753-8d79-f7323dfff751",
   "metadata": {},
   "source": [
    "```python\n",
    "## 첫번째 observation\n",
    "[[[ 0.  1.  2.  3.  4.]\n",
    "  [ 5.  6.  7.  8.  9.]\n",
    "  [10. 11. 12. 13. 14.]\n",
    "  [15. 16. 17. 18. 19.]\n",
    "  [20. 21. 22. 23. 24.]]\n",
    "\n",
    " ## 두번째 observation\n",
    " [[25. 26. 27. 28. 29.]\n",
    "  [30. 31. 32. 33. 34.]\n",
    "  [35. 36. 37. 38. 39.]\n",
    "  [40. 41. 42. 43. 44.]\n",
    "  [45. 46. 47. 48. 49.]]]\n",
    "```"
   ]
  },
  {
   "cell_type": "code",
   "execution_count": 214,
   "id": "274d4966-2c67-4a61-8aa4-5012eb2f8a02",
   "metadata": {},
   "outputs": [
    {
     "name": "stdout",
     "output_type": "stream",
     "text": [
      "<tf.Variable 'conv2d_24/kernel:0' shape=(2, 2, 1, 1) dtype=float32, numpy=\n",
      "array([[[[0.25]],\n",
      "\n",
      "        [[0.25]]],\n",
      "\n",
      "\n",
      "       [[[0.25]],\n",
      "\n",
      "        [[0.25]]]], dtype=float32)>\n",
      "<tf.Variable 'conv2d_24/bias:0' shape=(1,) dtype=float32, numpy=array([3.], dtype=float32)>\n"
     ]
    }
   ],
   "source": [
    "print(cnv.weights[0]) # weights\n",
    "print(cnv.weights[1]) # bias"
   ]
  },
  {
   "cell_type": "code",
   "execution_count": 215,
   "id": "b51b503e-740c-4699-a029-7ddc841fcb86",
   "metadata": {
    "id": "b51b503e-740c-4699-a029-7ddc841fcb86",
    "outputId": "b4fdc7d0-5747-4b53-c4ea-19ce937280cf"
   },
   "outputs": [
    {
     "data": {
      "text/plain": [
       "(6.0, 31.0)"
      ]
     },
     "execution_count": 215,
     "metadata": {},
     "output_type": "execute_result"
    }
   ],
   "source": [
    "np.mean([0,1,5,6])+3,np.mean([25,26,30,31])+3,"
   ]
  },
  {
   "cell_type": "markdown",
   "id": "c42ff688-e102-4127-9ce6-586460de5394",
   "metadata": {},
   "source": [
    "- 첫번째 obs에 컨볼루션 연산, 두번째 obs도 반복.."
   ]
  },
  {
   "cell_type": "markdown",
   "id": "36777d0c-eb19-452b-b835-70e068a3542d",
   "metadata": {
    "id": "36777d0c-eb19-452b-b835-70e068a3542d"
   },
   "source": [
    "#### 테스트5 : obs 그대로(고정), 출력 채널이 바뀔 때"
   ]
  },
  {
   "cell_type": "markdown",
   "id": "e7a6ba2b-4864-4bbe-b0e6-c6c39314b5e5",
   "metadata": {
    "id": "e7a6ba2b-4864-4bbe-b0e6-c6c39314b5e5"
   },
   "source": [
    "`-` 여기부터 어려워짐.."
   ]
  },
  {
   "cell_type": "code",
   "execution_count": 225,
   "id": "f3d31496-0191-4837-a0c5-4eeec53111b5",
   "metadata": {
    "id": "f3d31496-0191-4837-a0c5-4eeec53111b5"
   },
   "outputs": [],
   "source": [
    "tf.random.set_seed(43052)\n",
    "cnv = tf.keras.layers.Conv2D(4,(2,2),activation='relu')\n",
    "XXX = tnp.arange(1*2*2*1,dtype=tf.float64).reshape(1,2,2,1)"
   ]
  },
  {
   "cell_type": "code",
   "execution_count": 226,
   "id": "8d18d8aa-93d7-4e58-bc9a-171551fc144e",
   "metadata": {
    "id": "8d18d8aa-93d7-4e58-bc9a-171551fc144e",
    "outputId": "a53d8cba-d388-4ab8-9761-456f5919695b"
   },
   "outputs": [
    {
     "name": "stdout",
     "output_type": "stream",
     "text": [
      "tf.Tensor(\n",
      "[[[0. 1.]\n",
      "  [2. 3.]]], shape=(1, 2, 2), dtype=float64)\n"
     ]
    }
   ],
   "source": [
    "print(XXX.reshape(1,2,2))"
   ]
  },
  {
   "cell_type": "code",
   "execution_count": 227,
   "id": "59842396-9eea-4d17-b92b-82fdfdad144e",
   "metadata": {
    "id": "59842396-9eea-4d17-b92b-82fdfdad144e",
    "outputId": "7844edf9-4f91-4298-bcbb-d8ba5b1195c4"
   },
   "outputs": [
    {
     "data": {
      "text/plain": [
       "<tf.Tensor: shape=(1, 1, 1, 4), dtype=float32, numpy=array([[[[0.       , 1.4783237, 0.       , 1.3432117]]]], dtype=float32)>"
      ]
     },
     "execution_count": 227,
     "metadata": {},
     "output_type": "execute_result"
    }
   ],
   "source": [
    "cnv(XXX)"
   ]
  },
  {
   "cell_type": "code",
   "execution_count": 228,
   "id": "aafcd364-c4b4-44b5-89df-20480f566b31",
   "metadata": {
    "id": "aafcd364-c4b4-44b5-89df-20480f566b31",
    "outputId": "95a91201-6ebd-4334-dd22-b37a9d680ac2"
   },
   "outputs": [
    {
     "data": {
      "text/plain": [
       "<tf.Variable 'conv2d_27/kernel:0' shape=(2, 2, 1, 4) dtype=float32, numpy=\n",
       "array([[[[-0.14884505,  0.1156525 , -0.4904389 , -0.0581924 ]],\n",
       "\n",
       "        [[-0.05579314,  0.28279382, -0.27906388, -0.15229541]]],\n",
       "\n",
       "\n",
       "       [[[-0.02228564,  0.08160239,  0.44105333,  0.49807286]],\n",
       "\n",
       "        [[-0.51174355,  0.34410834, -0.38598925,  0.16645378]]]],\n",
       "      dtype=float32)>"
      ]
     },
     "execution_count": 228,
     "metadata": {},
     "output_type": "execute_result"
    }
   ],
   "source": [
    "cnv.weights[0] # (2,2) 커널의 크기 // 1은 XXX의 채널수 // 4는 conv(XXX)의 채널수"
   ]
  },
  {
   "cell_type": "markdown",
   "id": "cb61b10d-0ed1-4845-8240-051f224191cc",
   "metadata": {},
   "source": [
    "- 1개의 채널에서 4개의 채널로 뻥튀기 됨."
   ]
  },
  {
   "cell_type": "code",
   "execution_count": 229,
   "id": "6a8abf9a-a7d0-4dfd-b9f2-8c657f913683",
   "metadata": {
    "id": "6a8abf9a-a7d0-4dfd-b9f2-8c657f913683",
    "outputId": "be192a52-5344-4b8a-815b-d45f4d73ffcc"
   },
   "outputs": [
    {
     "data": {
      "text/plain": [
       "<tf.Tensor: shape=(2, 2), dtype=float32, numpy=\n",
       "array([[-0.14884505, -0.05579314],\n",
       "       [-0.02228564, -0.51174355]], dtype=float32)>"
      ]
     },
     "execution_count": 229,
     "metadata": {},
     "output_type": "execute_result"
    }
   ],
   "source": [
    "cnv.weights[0][...,0].reshape(2,2) ## conv(XXX)의 첫번째채널 출력을 얻기 위해 곱해지는 w"
   ]
  },
  {
   "cell_type": "code",
   "execution_count": 230,
   "id": "171f2ae5-06d9-450b-ac15-9723db067f63",
   "metadata": {
    "id": "171f2ae5-06d9-450b-ac15-9723db067f63",
    "outputId": "4ec57965-2a0b-4c54-9b16-12f9c5b558a0"
   },
   "outputs": [
    {
     "data": {
      "text/plain": [
       "<tf.Tensor: shape=(), dtype=float64, numpy=-1.635595053434372>"
      ]
     },
     "execution_count": 230,
     "metadata": {},
     "output_type": "execute_result"
    }
   ],
   "source": [
    "tf.reduce_sum(XXX.reshape(1,2,2) * cnv.weights[0][...,0].reshape(2,2)) ### conv(XXX)의 첫번째 채널 출력결과"
   ]
  },
  {
   "cell_type": "markdown",
   "id": "f5a87294-c00c-4de3-ad54-05be7c683933",
   "metadata": {
    "id": "f5a87294-c00c-4de3-ad54-05be7c683933"
   },
   "source": [
    "`-` 계산결과를 확인하기 쉽게 하기 위한 약간의 트릭"
   ]
  },
  {
   "cell_type": "code",
   "execution_count": null,
   "id": "4937eecd-dbdc-4d14-aac1-7e9583e36494",
   "metadata": {
    "id": "4937eecd-dbdc-4d14-aac1-7e9583e36494"
   },
   "outputs": [],
   "source": [
    "tf.random.set_seed(43052)\n",
    "cnv = tf.keras.layers.Conv2D(4,(2,2))\n",
    "XXX = tnp.array([1]*1*2*2*1,dtype=tf.float64).reshape(1,2,2,1)"
   ]
  },
  {
   "cell_type": "code",
   "execution_count": null,
   "id": "f863a7f9-2b8a-4bbc-82fc-653b8b30aab4",
   "metadata": {
    "id": "f863a7f9-2b8a-4bbc-82fc-653b8b30aab4",
    "outputId": "efff2950-056e-4f46-a9fb-fa12878449db"
   },
   "outputs": [
    {
     "name": "stdout",
     "output_type": "stream",
     "text": [
      "tf.Tensor(\n",
      "[[[1. 1.]\n",
      "  [1. 1.]]], shape=(1, 2, 2), dtype=float64)\n"
     ]
    }
   ],
   "source": [
    "print(XXX.reshape(1,2,2))"
   ]
  },
  {
   "cell_type": "markdown",
   "id": "b165cd57-3ed1-43d0-bde9-1eca002b2843",
   "metadata": {
    "id": "b165cd57-3ed1-43d0-bde9-1eca002b2843"
   },
   "source": [
    "- 이렇게 XXX를 설정하면 cnv(XXX)의 결과는 단지 cnv의 weight들의 sum이 된다."
   ]
  },
  {
   "cell_type": "code",
   "execution_count": 223,
   "id": "24b6931e-771b-4378-9400-c531a06e806e",
   "metadata": {
    "id": "24b6931e-771b-4378-9400-c531a06e806e",
    "outputId": "fdc652cf-7d03-436d-f4a9-396cd7e9f3df"
   },
   "outputs": [
    {
     "data": {
      "text/plain": [
       "<tf.Tensor: shape=(1, 1, 1, 4), dtype=float32, numpy=array([[[[1.1908543, 0.       , 0.       , 0.       ]]]], dtype=float32)>"
      ]
     },
     "execution_count": 223,
     "metadata": {},
     "output_type": "execute_result"
    }
   ],
   "source": [
    "cnv(XXX)"
   ]
  },
  {
   "cell_type": "code",
   "execution_count": null,
   "id": "149d1945-22f0-49c9-827f-8b7f2cfab22c",
   "metadata": {
    "id": "149d1945-22f0-49c9-827f-8b7f2cfab22c",
    "outputId": "e2864bc7-9448-42d6-bb92-f3a630801031"
   },
   "outputs": [
    {
     "data": {
      "text/plain": [
       "<tf.Variable 'conv2d_24/kernel:0' shape=(2, 2, 1, 4) dtype=float32, numpy=\n",
       "array([[[[-0.08230966, -0.15132892, -0.12760344, -0.38952267]],\n",
       "\n",
       "        [[-0.36398047,  0.07347518, -0.08780673,  0.46633136]]],\n",
       "\n",
       "\n",
       "       [[[ 0.19759327, -0.46042526, -0.15406173, -0.34838456]],\n",
       "\n",
       "        [[ 0.33916563, -0.08248386,  0.11705655, -0.49948823]]]],\n",
       "      dtype=float32)>"
      ]
     },
     "execution_count": 288,
     "metadata": {},
     "output_type": "execute_result"
    }
   ],
   "source": [
    "cnv.weights[0] # (2,2) 커널의 크기 // 1은 XXX의 채널수 // 4는 conv(XXX)의 채널수"
   ]
  },
  {
   "cell_type": "code",
   "execution_count": null,
   "id": "8cbe2c4d-a2ac-4e39-8c1d-729cd67df45b",
   "metadata": {
    "id": "8cbe2c4d-a2ac-4e39-8c1d-729cd67df45b",
    "outputId": "df8d17b9-dd0f-4109-e61a-548913f81629"
   },
   "outputs": [
    {
     "data": {
      "text/plain": [
       "<tf.Tensor: shape=(2, 2), dtype=float32, numpy=\n",
       "array([[-0.08230966, -0.36398047],\n",
       "       [ 0.19759327,  0.33916563]], dtype=float32)>"
      ]
     },
     "execution_count": 289,
     "metadata": {},
     "output_type": "execute_result"
    }
   ],
   "source": [
    "cnv.weights[0][...,0].reshape(2,2) ## conv(XXX)의 첫번째채널 출력을 얻기 위해 곱해지는 w"
   ]
  },
  {
   "cell_type": "code",
   "execution_count": null,
   "id": "e856dd07-3bc6-4559-976a-41519708c305",
   "metadata": {
    "id": "e856dd07-3bc6-4559-976a-41519708c305",
    "outputId": "4c1b1b94-ad58-40e9-809b-edfd27825d24"
   },
   "outputs": [
    {
     "data": {
      "text/plain": [
       "<tf.Tensor: shape=(), dtype=float32, numpy=0.090468764>"
      ]
     },
     "execution_count": 294,
     "metadata": {},
     "output_type": "execute_result"
    }
   ],
   "source": [
    "tf.reduce_sum(cnv.weights[0][...,0])\n",
    "#tf.reduce_sum(XXX.reshape(1,2,2) * cnv.weights[0][...,0].reshape(2,2)) ### conv(XXX)의 첫번째 채널 출력결과"
   ]
  },
  {
   "cell_type": "markdown",
   "id": "0d41505d-3b6d-452c-af0b-b00d973de695",
   "metadata": {
    "id": "0d41505d-3b6d-452c-af0b-b00d973de695"
   },
   "source": [
    "#### 테스트6"
   ]
  },
  {
   "cell_type": "markdown",
   "id": "5cb495db-bc84-4e9f-b2c7-3bf0a7170559",
   "metadata": {
    "id": "5cb495db-bc84-4e9f-b2c7-3bf0a7170559"
   },
   "source": [
    "`-` 결과확인을 쉽게하기 위해서 XXX를 1로 통일"
   ]
  },
  {
   "cell_type": "code",
   "execution_count": null,
   "id": "f3f12488-e6af-477a-ba2b-5fe1dbb14e97",
   "metadata": {
    "id": "f3f12488-e6af-477a-ba2b-5fe1dbb14e97"
   },
   "outputs": [],
   "source": [
    "tf.random.set_seed(43052)\n",
    "cnv = tf.keras.layers.Conv2D(4,(2,2))\n",
    "XXX = tnp.array([1]*1*2*2*3,dtype=tf.float64).reshape(1,2,2,3)"
   ]
  },
  {
   "cell_type": "code",
   "execution_count": null,
   "id": "c11e8203-092e-4970-89e6-c3183c6ae2b5",
   "metadata": {
    "id": "c11e8203-092e-4970-89e6-c3183c6ae2b5",
    "outputId": "c4181aec-d073-4fc1-c732-1c0e18bbe452"
   },
   "outputs": [
    {
     "data": {
      "text/plain": [
       "<tf.Tensor: shape=(1, 1, 1, 4), dtype=float32, numpy=\n",
       "array([[[[ 0.3297621, -0.4498347, -1.0487393, -1.580095 ]]]],\n",
       "      dtype=float32)>"
      ]
     },
     "execution_count": 345,
     "metadata": {},
     "output_type": "execute_result"
    }
   ],
   "source": [
    "cnv(XXX)"
   ]
  },
  {
   "cell_type": "code",
   "execution_count": null,
   "id": "92d999eb-148c-4bc5-a11d-a53e90c560c1",
   "metadata": {
    "id": "92d999eb-148c-4bc5-a11d-a53e90c560c1",
    "outputId": "991cfc5f-edc0-4279-eccb-3e60dc1e2aad"
   },
   "outputs": [
    {
     "data": {
      "text/plain": [
       "<tf.Variable 'conv2d_33/kernel:0' shape=(2, 2, 3, 4) dtype=float32, numpy=\n",
       "array([[[[-0.06956434, -0.12789628, -0.10784459, -0.32920673],\n",
       "         [-0.30761963,  0.06209785, -0.07421023,  0.3941219 ],\n",
       "         [ 0.16699678, -0.38913035, -0.13020593, -0.29443866]],\n",
       "\n",
       "        [[ 0.28664726, -0.0697116 ,  0.09893084, -0.4221446 ],\n",
       "         [-0.23161241, -0.16410837, -0.36420006,  0.12424195],\n",
       "         [-0.14245945,  0.36286396, -0.10751781,  0.1733647 ]]],\n",
       "\n",
       "\n",
       "       [[[ 0.02764335,  0.15547717, -0.42024496, -0.31893867],\n",
       "         [ 0.22414821,  0.3619454 , -0.00282967, -0.3503708 ],\n",
       "         [ 0.4610079 , -0.17417148,  0.00401336, -0.29777044]],\n",
       "\n",
       "        [[-0.1620284 , -0.42066965, -0.01578814, -0.4240524 ],\n",
       "         [ 0.37925082,  0.24236053,  0.3949356 , -0.20996472],\n",
       "         [-0.30264795, -0.28889188, -0.3237777 ,  0.37506342]]]],\n",
       "      dtype=float32)>"
      ]
     },
     "execution_count": 346,
     "metadata": {},
     "output_type": "execute_result"
    }
   ],
   "source": [
    "cnv.weights[0] ## (2,2)는 커널의 사이즈 // 3은 XXX의채널 // 4는 cnv(XXX)의 채널"
   ]
  },
  {
   "cell_type": "code",
   "execution_count": null,
   "id": "c0bdec5e-4dfe-428a-bd34-03808c230243",
   "metadata": {
    "id": "c0bdec5e-4dfe-428a-bd34-03808c230243",
    "outputId": "fba8d454-6d1d-4016-ff40-7360f947cb36"
   },
   "outputs": [
    {
     "data": {
      "text/plain": [
       "<tf.Tensor: shape=(2, 2, 3), dtype=float32, numpy=\n",
       "array([[[-0.06956434, -0.30761963,  0.16699678],\n",
       "        [ 0.28664726, -0.23161241, -0.14245945]],\n",
       "\n",
       "       [[ 0.02764335,  0.22414821,  0.4610079 ],\n",
       "        [-0.1620284 ,  0.37925082, -0.30264795]]], dtype=float32)>"
      ]
     },
     "execution_count": 347,
     "metadata": {},
     "output_type": "execute_result"
    }
   ],
   "source": [
    "cnv.weights[0][...,0] ## cnv(XXX)의 첫번째 채널결과를 얻기 위해서 사용하는 w"
   ]
  },
  {
   "cell_type": "code",
   "execution_count": null,
   "id": "04d9bee0-6efc-48f0-aca9-6fe5b1eb9b68",
   "metadata": {
    "id": "04d9bee0-6efc-48f0-aca9-6fe5b1eb9b68",
    "outputId": "b91d1da9-e0da-464c-9e05-b668e646eb1c"
   },
   "outputs": [
    {
     "data": {
      "text/plain": [
       "<tf.Tensor: shape=(), dtype=float32, numpy=0.32976213>"
      ]
     },
     "execution_count": 348,
     "metadata": {},
     "output_type": "execute_result"
    }
   ],
   "source": [
    "tf.reduce_sum(cnv.weights[0][...,0]) ### cnv(XXX)의 첫번째 채널의 결과"
   ]
  },
  {
   "cell_type": "code",
   "execution_count": null,
   "id": "f45cb0dc-36c7-495d-a260-5134667ea78e",
   "metadata": {
    "id": "f45cb0dc-36c7-495d-a260-5134667ea78e",
    "outputId": "a1671e02-8a49-453a-b736-a5c18c28b441"
   },
   "outputs": [
    {
     "name": "stdout",
     "output_type": "stream",
     "text": [
      "tf.Tensor(0.32976213, shape=(), dtype=float32)\n",
      "tf.Tensor(-0.44983464, shape=(), dtype=float32)\n",
      "tf.Tensor(-1.0487392, shape=(), dtype=float32)\n",
      "tf.Tensor(-1.5800952, shape=(), dtype=float32)\n"
     ]
    }
   ],
   "source": [
    "print(tf.reduce_sum(cnv.weights[0][...,0]))\n",
    "print(tf.reduce_sum(cnv.weights[0][...,1]))\n",
    "print(tf.reduce_sum(cnv.weights[0][...,2]))\n",
    "print(tf.reduce_sum(cnv.weights[0][...,3])) ### cnv(XXX)의 결과"
   ]
  },
  {
   "cell_type": "code",
   "execution_count": null,
   "id": "31045978-ddae-4bf4-9cc3-19b6dd1e521c",
   "metadata": {
    "id": "31045978-ddae-4bf4-9cc3-19b6dd1e521c"
   },
   "outputs": [],
   "source": [
    "w_red = cnv.weights[0][...,0][...,0]\n",
    "w_green = cnv.weights[0][...,0][...,1]\n",
    "w_blue = cnv.weights[0][...,0][...,2]"
   ]
  },
  {
   "cell_type": "code",
   "execution_count": null,
   "id": "10923f38-bc02-4338-9a26-d2a49820e74c",
   "metadata": {
    "id": "10923f38-bc02-4338-9a26-d2a49820e74c",
    "outputId": "eac2ed20-84cb-498f-a426-cb7f79b7b602"
   },
   "outputs": [
    {
     "data": {
      "text/plain": [
       "<tf.Tensor: shape=(), dtype=float64, numpy=0.32976213097572327>"
      ]
     },
     "execution_count": 351,
     "metadata": {},
     "output_type": "execute_result"
    }
   ],
   "source": [
    "tf.reduce_sum(XXX[...,0] * w_red + XXX[...,1] * w_green + XXX[...,2] * w_blue) ## cnv(XXX)의 첫채널 출력결과"
   ]
  },
  {
   "cell_type": "markdown",
   "id": "bcb86f5c-dc63-479c-a2b9-472a906adfbf",
   "metadata": {
    "id": "bcb86f5c-dc63-479c-a2b9-472a906adfbf"
   },
   "source": [
    "### hw"
   ]
  },
  {
   "cell_type": "markdown",
   "id": "2609636a-d84a-4e3a-ba38-86a52d5fdb2e",
   "metadata": {
    "id": "2609636a-d84a-4e3a-ba38-86a52d5fdb2e"
   },
   "source": [
    "아래와 같은 흑백이미지가 있다고 하자.\n",
    "```\n",
    "0 0 0 1 1 1\n",
    "0 0 0 1 1 1\n",
    "0 0 0 1 1 1\n",
    "0 0 0 1 1 1\n",
    "0 0 0 1 1 1\n",
    "0 0 0 1 1 1\n",
    "```\n",
    "\n",
    "위의 이미지에 아래와 같은 weight를 가진 필터를 적용하여 convolution한 결과를 계산하라. (bias는 0으로 가정한다)\n",
    "```\n",
    "-1 1\n",
    "-1 1\n",
    "```"
   ]
  }
 ],
 "metadata": {
  "colab": {
   "provenance": []
  },
  "kernelspec": {
   "display_name": "Python 3",
   "language": "python",
   "name": "python3"
  },
  "language_info": {
   "codemirror_mode": {
    "name": "ipython",
    "version": 3
   },
   "file_extension": ".py",
   "mimetype": "text/x-python",
   "name": "python",
   "nbconvert_exporter": "python",
   "pygments_lexer": "ipython3",
   "version": "3.8.16"
  }
 },
 "nbformat": 4,
 "nbformat_minor": 5
}
