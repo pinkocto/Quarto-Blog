{
 "cells": [
  {
   "cell_type": "raw",
   "id": "79c5eb6c-ba9b-4628-8e07-87e6b88f93a3",
   "metadata": {},
   "source": [
    "---\n",
    "title: \"Jupyter\" \n",
    "author: \"JiyunLim\"\n",
    "date: \"01/01/2023\"\n",
    "categories:\n",
    "    - Tip\n",
    "---"
   ]
  },
  {
   "cell_type": "markdown",
   "id": "31c9fb52-f2f0-4ab9-b2b9-d97f20c5a9a4",
   "metadata": {},
   "source": [
    "ref: [STBDA 10주차 (2번째 동영상)](https://guebin.github.io/STBDA2022/2022/05/09/(10%EC%A3%BC%EC%B0%A8)-5%EC%9B%949%EC%9D%BC.html)"
   ]
  },
  {
   "cell_type": "markdown",
   "id": "e714ab32-e808-4842-b48f-996330d79ca5",
   "metadata": {},
   "source": [
    "`-` 파이썬 / 주피터 설치"
   ]
  },
  {
   "cell_type": "markdown",
   "id": "01ec93d2-6b38-4a45-99a5-0e1a6e316c52",
   "metadata": {},
   "source": [
    "```python\n",
    "conda create -n test python=3.9\n",
    "\n",
    "conda env list\n",
    "\n",
    "conda activate test\n",
    "\n",
    "# conda라는 앱스토어에서 jupyterlab을 깐다. (conda-forge라는 커뮤니티에서 검증이 된 (추천목록) 패키지들을 깔겠다..)\n",
    "# 여러 솔루션 중 하나\n",
    "conda install -c conda-forge jupyterlab \n",
    "\n",
    "jupyter lab\n",
    "```"
   ]
  },
  {
   "cell_type": "markdown",
   "id": "d57b4a58-e20e-44f0-876b-60aa3d767efd",
   "metadata": {},
   "source": [
    "- 주피터 설치 완료"
   ]
  },
  {
   "cell_type": "markdown",
   "id": "a8882a6c-5780-4dd5-8e13-76cce711a201",
   "metadata": {},
   "source": [
    "`-` 주피터에서 슬라이드 쇼"
   ]
  },
  {
   "cell_type": "markdown",
   "id": "ac056f19-8ff6-4bea-8f73-8c63a519ecff",
   "metadata": {},
   "source": [
    "```python\n",
    "\n",
    "## test 환경 활성화\n",
    "conda activte test\n",
    "\n",
    "## jupyter notebook slide show\n",
    "conda install -c conda-forge rise\n",
    "jupyter notebook\n",
    "```"
   ]
  }
 ],
 "metadata": {
  "kernelspec": {
   "display_name": "Python 3",
   "language": "python",
   "name": "python3"
  },
  "language_info": {
   "codemirror_mode": {
    "name": "ipython",
    "version": 3
   },
   "file_extension": ".py",
   "mimetype": "text/x-python",
   "name": "python",
   "nbconvert_exporter": "python",
   "pygments_lexer": "ipython3",
   "version": "3.8.16"
  }
 },
 "nbformat": 4,
 "nbformat_minor": 5
}
