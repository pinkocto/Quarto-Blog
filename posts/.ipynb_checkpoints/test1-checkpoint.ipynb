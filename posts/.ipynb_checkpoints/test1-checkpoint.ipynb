{
 "cells": [
  {
   "cell_type": "raw",
   "id": "65ca1d41",
   "metadata": {},
   "source": [
    "---\n",
    "title: \"test: quarto 기초\"\n",
    "author: \"임지윤\"\n",
    "date: \"01/23/2023\"\n",
    "categories:\n",
    "  - test\n",
    "---\n"
   ]
  },
  {
   "cell_type": "code",
   "execution_count": 1,
   "id": "e257725d",
   "metadata": {},
   "outputs": [
    {
     "data": {
      "text/plain": [
       "2"
      ]
     },
     "execution_count": 1,
     "metadata": {},
     "output_type": "execute_result"
    }
   ],
   "source": [
    "# test\n",
    "1+1"
   ]
  },
  {
   "cell_type": "markdown",
   "id": "6349edd8-01c6-40ab-b7bd-aad4a94c2516",
   "metadata": {},
   "source": [
    "234234"
   ]
  },
  {
   "cell_type": "code",
   "execution_count": null,
   "id": "4774085d",
   "metadata": {},
   "outputs": [],
   "source": [
    "!git add .\n",
    "!git commit -m .\n",
    "!git pish"
   ]
  }
 ],
 "metadata": {
  "kernelspec": {
   "display_name": "Python 3",
   "language": "python",
   "name": "python3"
  },
  "language_info": {
   "codemirror_mode": {
    "name": "ipython",
    "version": 3
   },
   "file_extension": ".py",
   "mimetype": "text/x-python",
   "name": "python",
   "nbconvert_exporter": "python",
   "pygments_lexer": "ipython3",
   "version": "3.8.16"
  }
 },
 "nbformat": 4,
 "nbformat_minor": 5
}
