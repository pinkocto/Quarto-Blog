{
 "cells": [
  {
   "cell_type": "raw",
   "id": "abea67c4-ae38-4493-a1a4-9d65317a1601",
   "metadata": {},
   "source": [
    "---\n",
    "title: \"Chap2. 신경망의 수학적 구성요소\" \n",
    "author: \"JiyunLim\"\n",
    "date: \"06/18/2023\"\n",
    "categories:\n",
    "  - 딥러닝 스터디\n",
    "---"
   ]
  },
  {
   "cell_type": "markdown",
   "id": "c17533ac-9f64-4eea-8433-5bb8da8c4b81",
   "metadata": {},
   "source": [
    "# 2. 신경망의 수학적 구성요소"
   ]
  },
  {
   "cell_type": "markdown",
   "id": "ee52f945-4595-4d97-9667-99e11e9a92cc",
   "metadata": {},
   "source": [
    "케라스 파이썬 라이브러리를 사용하여 손글씨 숫자 분류를 학습하는 구체적인 신경망 예제를 살펴보겠습니다."
   ]
  },
  {
   "cell_type": "markdown",
   "id": "2e404fe1-d154-4a20-8648-bdcca0bb400b",
   "metadata": {},
   "source": [
    "흑백 손글씨 숫자 이미지 ($28 \\times 28$ 픽셀)를 10개의 범주(0에서 9까지)로 분류하는 것입니다. 1980년대 미국 국립표준기술연구소(NIST)에서 수집한 6만개의 훈련 이미지와 1만개의 테스트 이미지로 구성되어 있습니다. "
   ]
  },
  {
   "cell_type": "markdown",
   "id": "65726876-87a7-43d7-900c-1a078827390d",
   "metadata": {},
   "source": [
    "::: {.callout-note}\n",
    "머신러닝에서 분류 문제의 **범주(category)** 를 **클래스(class)** 라고 합니다. 데이터 포인트는 **샘플(sample)** 이라고 합니다. 특정 샘플의 클래스는 **레이블(label)** 이라고 합니다.\n",
    ":::"
   ]
  },
  {
   "cell_type": "markdown",
   "id": "cfe57855-afdd-4ea0-ab2a-ad9c8108cbff",
   "metadata": {},
   "source": [
    "## 2.1 신경망 intro"
   ]
  },
  {
   "cell_type": "markdown",
   "id": "34385729-be84-4781-9986-092120024a17",
   "metadata": {},
   "source": [
    "`-` 케라스에서 MNIST 데이터셋 적재 "
   ]
  },
  {
   "cell_type": "markdown",
   "id": "3022694d-bcc5-4450-9a08-fd38ecf7cec4",
   "metadata": {},
   "source": [
    "MNIST 데이터셋은 Numpy 배열 형태로 케라스에 이미 포함되어 있습니다."
   ]
  },
  {
   "cell_type": "code",
   "execution_count": 2,
   "id": "cbb1cf28-f1ac-464e-ba4a-b44ea443ca9d",
   "metadata": {},
   "outputs": [
    {
     "name": "stdout",
     "output_type": "stream",
     "text": [
      "Downloading data from https://storage.googleapis.com/tensorflow/tf-keras-datasets/mnist.npz\n",
      "11490434/11490434 [==============================] - 1s 0us/step\n"
     ]
    }
   ],
   "source": [
    "from keras.datasets import mnist\n",
    "(train_images, train_labels), (test_images, test_labels) = mnist.load_data()"
   ]
  },
  {
   "cell_type": "code",
   "execution_count": 6,
   "id": "3d39fdd0-0c3a-4e2b-90ff-dea9ba9a53eb",
   "metadata": {},
   "outputs": [
    {
     "data": {
      "text/plain": [
       "((60000, 28, 28), (10000, 28, 28))"
      ]
     },
     "execution_count": 6,
     "metadata": {},
     "output_type": "execute_result"
    }
   ],
   "source": [
    "train_images.shape, test_images.shape"
   ]
  },
  {
   "cell_type": "code",
   "execution_count": 5,
   "id": "25faf86c-5b0b-4498-87c0-4c213552a256",
   "metadata": {},
   "outputs": [
    {
     "data": {
      "text/plain": [
       "(60000, 10000)"
      ]
     },
     "execution_count": 5,
     "metadata": {},
     "output_type": "execute_result"
    }
   ],
   "source": [
    "len(train_labels), len(test_labels)"
   ]
  },
  {
   "cell_type": "code",
   "execution_count": 7,
   "id": "dd76dd38-4bd3-4d24-9c94-bd318d80e629",
   "metadata": {},
   "outputs": [
    {
     "data": {
      "text/plain": [
       "array([5, 0, 4, ..., 5, 6, 8], dtype=uint8)"
      ]
     },
     "execution_count": 7,
     "metadata": {},
     "output_type": "execute_result"
    }
   ],
   "source": [
    "train_labels"
   ]
  },
  {
   "cell_type": "code",
   "execution_count": 8,
   "id": "ba896a6d-165d-4f65-ae36-69fb593ebbf2",
   "metadata": {},
   "outputs": [
    {
     "data": {
      "text/plain": [
       "array([7, 2, 1, ..., 4, 5, 6], dtype=uint8)"
      ]
     },
     "execution_count": 8,
     "metadata": {},
     "output_type": "execute_result"
    }
   ],
   "source": [
    "test_labels"
   ]
  },
  {
   "cell_type": "markdown",
   "id": "cc6cf659-e413-43bf-8c1f-dd4c166a1df6",
   "metadata": {},
   "source": [
    "`-` 신경망 구조"
   ]
  },
  {
   "cell_type": "code",
   "execution_count": 11,
   "id": "94ca9b53-edc1-4f65-9a0b-e9caa1db13c8",
   "metadata": {},
   "outputs": [],
   "source": [
    "from keras import models\n",
    "from keras import layers"
   ]
  },
  {
   "cell_type": "code",
   "execution_count": 13,
   "id": "5bca5218-ea6e-479f-994a-789c06e10a38",
   "metadata": {},
   "outputs": [],
   "source": [
    "network = models.Sequential()\n",
    "network.add(layers.Dense(512, activation='relu', input_shape=(28*28,)))\n",
    "network.add(layers.Dense(10, activation='softmax'))"
   ]
  },
  {
   "cell_type": "markdown",
   "id": "7861e2d2-7fb7-48d9-a196-7e195de4b53a",
   "metadata": {},
   "source": [
    "신경망이 준비를 마치기 위해서 컴파일 단계에 포함될 세가지가 더 필요합니다.\n",
    "\n",
    "- **`손실함수(loss function)`** : 훈련 데이터에서 신경망의 성능을 측정하는 방법으로 네트워크가 옳은 방향으로 학습할 수 있도록 도와줍니다.\n",
    "- **`옵티마이저(optimizer)`** : 입력된 데이터와 손실함수를 기반으로 네트워크를 업데이트하는 메커니즘입니다.\n",
    "- **`훈련과 테스트 과정을 모니터링할 지표`** : 여기에서는 정확도(정확히 분류된 이미지의 비율)만 고려하겠습니다."
   ]
  },
  {
   "cell_type": "markdown",
   "id": "bff91237-bd33-4e39-95c3-b7c5fbc1d929",
   "metadata": {},
   "source": [
    "`-` 컴파일 단계"
   ]
  },
  {
   "cell_type": "code",
   "execution_count": 14,
   "id": "710d5205-ba4b-4fcf-95e9-34c30a5f0f40",
   "metadata": {},
   "outputs": [],
   "source": [
    "network.compile(optimizer='rmsprop',\n",
    "                loss = 'categorical_crossentropy',\n",
    "                metrics= ['accuracy'])"
   ]
  },
  {
   "cell_type": "markdown",
   "id": "1af3d4e4-fcd4-410e-871e-5821216f4243",
   "metadata": {},
   "source": [
    "훈련 시작 전에 데이터를 네트워크에 맞는 크기로 바꾸고 모든 값을 $0$ 과 $1$ 사이로 스케일을 조정합니다.^[신경망은 입력 데이터의 스케일에 민감하여 적절한 데이터 전처리 과정이 필요합니다. 이미지의 경우 보통 픽셀의 최댓값인 $255$로 나누어 사용합니다.]"
   ]
  },
  {
   "cell_type": "markdown",
   "id": "d8bc119d-46dd-4993-bc11-bd7294f8f578",
   "metadata": {
    "tags": []
   },
   "source": [
    "`-` 이미지 데이터 준비"
   ]
  },
  {
   "cell_type": "code",
   "execution_count": 15,
   "id": "03356603-1b43-49c9-a9ad-9cbb39bcb33e",
   "metadata": {},
   "outputs": [],
   "source": [
    "train_images = train_images.reshape((60000, 28*28))\n",
    "train_images = train_images.astype('float32')/255\n",
    "\n",
    "test_images = test_images.reshape((10000, 28*28))\n",
    "test_images = test_images.astype('float32')/255"
   ]
  },
  {
   "cell_type": "markdown",
   "id": "7a64010f-556d-4d87-ae4e-627a6eaeac4e",
   "metadata": {},
   "source": [
    "`-` 레이블 준비"
   ]
  },
  {
   "cell_type": "code",
   "execution_count": 17,
   "id": "8be1caaa-9b89-43e7-9d0f-ac86f2deff91",
   "metadata": {},
   "outputs": [],
   "source": [
    "from keras.utils import to_categorical\n",
    "\n",
    "train_labels = to_categorical(train_labels)\n",
    "test_labels = to_categorical(test_labels)"
   ]
  },
  {
   "cell_type": "code",
   "execution_count": 18,
   "id": "27bf204f-d9d6-4b51-9fc4-46fb21139bce",
   "metadata": {},
   "outputs": [
    {
     "data": {
      "text/plain": [
       "array([[0., 0., 0., ..., 0., 0., 0.],\n",
       "       [1., 0., 0., ..., 0., 0., 0.],\n",
       "       [0., 0., 0., ..., 0., 0., 0.],\n",
       "       ...,\n",
       "       [0., 0., 0., ..., 0., 0., 0.],\n",
       "       [0., 0., 0., ..., 0., 0., 0.],\n",
       "       [0., 0., 0., ..., 0., 1., 0.]], dtype=float32)"
      ]
     },
     "execution_count": 18,
     "metadata": {},
     "output_type": "execute_result"
    }
   ],
   "source": [
    "train_labels"
   ]
  },
  {
   "cell_type": "code",
   "execution_count": 19,
   "id": "bc15fc5a-adb0-4cc6-9800-a8fa9554c8d4",
   "metadata": {},
   "outputs": [
    {
     "data": {
      "text/plain": [
       "array([[0., 0., 0., ..., 1., 0., 0.],\n",
       "       [0., 0., 1., ..., 0., 0., 0.],\n",
       "       [0., 1., 0., ..., 0., 0., 0.],\n",
       "       ...,\n",
       "       [0., 0., 0., ..., 0., 0., 0.],\n",
       "       [0., 0., 0., ..., 0., 0., 0.],\n",
       "       [0., 0., 0., ..., 0., 0., 0.]], dtype=float32)"
      ]
     },
     "execution_count": 19,
     "metadata": {},
     "output_type": "execute_result"
    }
   ],
   "source": [
    "test_labels"
   ]
  },
  {
   "cell_type": "markdown",
   "id": "1b7b3aa5-b3d3-4e09-868b-806fe8cbd81f",
   "metadata": {},
   "source": [
    "- 신경망 훈련준비 완료!"
   ]
  },
  {
   "cell_type": "code",
   "execution_count": 21,
   "id": "015dcf70-8def-451f-8faf-66004e5539a3",
   "metadata": {},
   "outputs": [
    {
     "name": "stdout",
     "output_type": "stream",
     "text": [
      "Epoch 1/5\n",
      "469/469 [==============================] - 1s 1ms/step - loss: 0.2646 - accuracy: 0.9231\n",
      "Epoch 2/5\n",
      "469/469 [==============================] - 1s 1ms/step - loss: 0.1079 - accuracy: 0.9679\n",
      "Epoch 3/5\n",
      "469/469 [==============================] - 1s 1ms/step - loss: 0.0707 - accuracy: 0.9790\n",
      "Epoch 4/5\n",
      "469/469 [==============================] - 1s 1ms/step - loss: 0.0512 - accuracy: 0.9849\n",
      "Epoch 5/5\n",
      "469/469 [==============================] - 1s 1ms/step - loss: 0.0377 - accuracy: 0.9885\n"
     ]
    },
    {
     "data": {
      "text/plain": [
       "<keras.callbacks.History at 0x7f02cc03f880>"
      ]
     },
     "execution_count": 21,
     "metadata": {},
     "output_type": "execute_result"
    }
   ],
   "source": [
    "network.fit(train_images, train_labels, epochs=5, batch_size=128)"
   ]
  },
  {
   "cell_type": "markdown",
   "id": "5dcd2d47-9a8a-47f3-977a-5189e1cf4f20",
   "metadata": {},
   "source": [
    "훈련하는동안 2개의 정보가 출력도비니다. 훈련 데이터에 댛나 네트워크 손실과 정확도!"
   ]
  },
  {
   "cell_type": "markdown",
   "id": "030c5bc2-35ef-4070-82dc-0716942a4770",
   "metadata": {},
   "source": [
    "테스트 세트에서도 모델이 잘 작동하는지 확인해봅시다."
   ]
  },
  {
   "cell_type": "code",
   "execution_count": 22,
   "id": "580a0763-46ba-42d6-925b-47d37fa15195",
   "metadata": {},
   "outputs": [
    {
     "name": "stdout",
     "output_type": "stream",
     "text": [
      "313/313 [==============================] - 0s 470us/step - loss: 0.0605 - accuracy: 0.9815\n"
     ]
    }
   ],
   "source": [
    "test_loss, test_acc = network.evaluate(test_images, test_labels)"
   ]
  },
  {
   "cell_type": "markdown",
   "id": "29e59b8e-2e5a-4b13-8d99-7f71b7aafe84",
   "metadata": {},
   "source": [
    "## 2.2 신경망을 위한 데이터표현"
   ]
  },
  {
   "cell_type": "markdown",
   "id": "833ae854-530a-4ac8-a8cb-d4d8cf86dbc4",
   "metadata": {},
   "source": [
    "최근의 모든 머신러닝 시스템은 일반적으로 텐서를 기본 데이터 구조로 사용합니다.\n",
    "\n",
    "핵심적으로 텐서는 데이터를 위한 컨테이너(container)입니다. 거의 항상 수치형 데이터를 다루므로 숫자를 위한 컨테이너입니다. 텐서는 임의의 차원 개수를 가지는 행렬의 일반화된 모습입니다."
   ]
  },
  {
   "cell_type": "markdown",
   "id": "ac760f70-8dbc-41ef-8abc-a5f549beccb9",
   "metadata": {},
   "source": [
    "### 2.2.1 스칼라 (OD텐서)"
   ]
  },
  {
   "cell_type": "markdown",
   "id": "3085e5fc-a65f-40ec-994d-8cca5909a8f0",
   "metadata": {},
   "source": [
    "하나의 숫자만 담고있는 텐서를 **스칼라** 또는 (스칼라 텐서, 0차원 텐서, 0D텐서) 라고 부릅니다. 넘파이에서는 float32나 float64 타입의 숫자가 스칼라 텐서(또는 배열 스칼라) 입니다. 스칼라 텐서의 축 개수는 $0$개 입니다. 텐서의 축 개수를 **랭크(rank)** 라고도 부릅니다."
   ]
  },
  {
   "cell_type": "code",
   "execution_count": 24,
   "id": "c07e3601-70d8-4cc5-8937-57770f17be71",
   "metadata": {},
   "outputs": [
    {
     "data": {
      "text/plain": [
       "array(12)"
      ]
     },
     "execution_count": 24,
     "metadata": {},
     "output_type": "execute_result"
    }
   ],
   "source": [
    "import numpy as np\n",
    "x = np.array(12)\n",
    "x"
   ]
  },
  {
   "cell_type": "code",
   "execution_count": 25,
   "id": "d993581b-796c-4046-86f6-fb84431a0ac6",
   "metadata": {},
   "outputs": [
    {
     "data": {
      "text/plain": [
       "0"
      ]
     },
     "execution_count": 25,
     "metadata": {},
     "output_type": "execute_result"
    }
   ],
   "source": [
    "x.ndim"
   ]
  },
  {
   "cell_type": "markdown",
   "id": "779fed21-c94a-4c46-91aa-7e1e5099bbdc",
   "metadata": {},
   "source": [
    "### 2.2.2 벡터(1D 텐서)"
   ]
  },
  {
   "cell_type": "markdown",
   "id": "915373f9-2a06-4ad1-bfc6-1fd5972b2611",
   "metadata": {},
   "source": [
    "숫자의 배열을 **벡터(vector)** 또는 1D 텐서라고 부릅니다."
   ]
  },
  {
   "cell_type": "code",
   "execution_count": 27,
   "id": "ae87d7bc-b4c1-4799-980c-7428340cdb7c",
   "metadata": {},
   "outputs": [
    {
     "data": {
      "text/plain": [
       "array([12,  3,  6, 14,  7])"
      ]
     },
     "execution_count": 27,
     "metadata": {},
     "output_type": "execute_result"
    }
   ],
   "source": [
    "x = np.array([12,3,6,14,7])\n",
    "x"
   ]
  },
  {
   "cell_type": "code",
   "execution_count": 29,
   "id": "937e1004-d490-4f89-b73e-41ce375ae787",
   "metadata": {},
   "outputs": [
    {
     "data": {
      "text/plain": [
       "1"
      ]
     },
     "execution_count": 29,
     "metadata": {},
     "output_type": "execute_result"
    }
   ],
   "source": [
    "x.ndim"
   ]
  },
  {
   "cell_type": "markdown",
   "id": "b133d04e-6cd6-4487-a3e9-035032b09782",
   "metadata": {},
   "source": [
    "- 5개의 원소를 가지고 있으므로 이 벡터는  5D 벡터.\n",
    "- 5D벡터와 5D텐서 혼동하지 말기! (5D벡터는 하나의 축을따라 5개의 차원을 가진것이고, 5D텐서는 5개의 축을 가진 것!)"
   ]
  },
  {
   "cell_type": "markdown",
   "id": "02497422-dc74-43e8-85bd-bfa4b851372c",
   "metadata": {},
   "source": [
    "### 2.2.3 행렬(2D 텐서)"
   ]
  },
  {
   "cell_type": "markdown",
   "id": "52a89d05-9c24-4e94-a08a-1d61ffe6feba",
   "metadata": {},
   "source": [
    "벡터의 배열이 **행렬(matrix)** 또는 2D텐서 입니다. 행렬에는 2개의 축이 있습니다."
   ]
  },
  {
   "cell_type": "code",
   "execution_count": 30,
   "id": "8fd34bc3-21a8-4551-b417-ff87c9367c78",
   "metadata": {},
   "outputs": [
    {
     "data": {
      "text/plain": [
       "array([[1, 2, 3, 4, 5],\n",
       "       [6, 7, 8, 9, 0],\n",
       "       [4, 5, 6, 7, 8]])"
      ]
     },
     "execution_count": 30,
     "metadata": {},
     "output_type": "execute_result"
    }
   ],
   "source": [
    "x = np.array([[1,2,3,4,5],[6,7,8,9,0],[4,5,6,7,8]])\n",
    "x"
   ]
  },
  {
   "cell_type": "code",
   "execution_count": 31,
   "id": "0a753585-0e16-4407-a9cb-cd84ce78c9f1",
   "metadata": {},
   "outputs": [
    {
     "data": {
      "text/plain": [
       "2"
      ]
     },
     "execution_count": 31,
     "metadata": {},
     "output_type": "execute_result"
    }
   ],
   "source": [
    "x.ndim"
   ]
  },
  {
   "cell_type": "markdown",
   "id": "aa05dda0-dcf9-4803-9b90-0f3db92df8b3",
   "metadata": {},
   "source": [
    "### 2.2.4 3D텐서와 고차원 텐서"
   ]
  },
  {
   "cell_type": "markdown",
   "id": "6b630082-54af-4bc5-9340-65cecf15a627",
   "metadata": {},
   "source": [
    "이런 행렬들을 하나의 새로운 배열로 합치면 숫자가 채워진 직육면체 형태로 해석할 수 있는 3D텐서가 만들어집니다."
   ]
  },
  {
   "cell_type": "code",
   "execution_count": 37,
   "id": "07d913aa-2213-47c8-9403-d38939f398ec",
   "metadata": {},
   "outputs": [],
   "source": [
    "# 넘파이에서 3D 텐서\n",
    "x = np.array([[[1,2,3,4,5],[6,7,8,9,0],[4,5,6,7,8]],[[1,2,3,4,5],[6,7,8,9,0],[4,5,6,7,8]],[[1,2,3,4,5],[6,7,8,9,0],[4,5,6,7,8]]])"
   ]
  },
  {
   "cell_type": "code",
   "execution_count": 38,
   "id": "9bdbae70-4c55-436f-a9b5-c95ad3f9d2b4",
   "metadata": {},
   "outputs": [
    {
     "data": {
      "text/plain": [
       "array([[[1, 2, 3, 4, 5],\n",
       "        [6, 7, 8, 9, 0],\n",
       "        [4, 5, 6, 7, 8]],\n",
       "\n",
       "       [[1, 2, 3, 4, 5],\n",
       "        [6, 7, 8, 9, 0],\n",
       "        [4, 5, 6, 7, 8]],\n",
       "\n",
       "       [[1, 2, 3, 4, 5],\n",
       "        [6, 7, 8, 9, 0],\n",
       "        [4, 5, 6, 7, 8]]])"
      ]
     },
     "execution_count": 38,
     "metadata": {},
     "output_type": "execute_result"
    }
   ],
   "source": [
    "x"
   ]
  },
  {
   "cell_type": "code",
   "execution_count": 39,
   "id": "c016202c-4b6a-4be9-ae07-e333c9922980",
   "metadata": {},
   "outputs": [
    {
     "data": {
      "text/plain": [
       "3"
      ]
     },
     "execution_count": 39,
     "metadata": {},
     "output_type": "execute_result"
    }
   ],
   "source": [
    "x.ndim"
   ]
  },
  {
   "cell_type": "markdown",
   "id": "da8bf7a1-31f9-4b58-896a-6d7733012cd5",
   "metadata": {},
   "source": [
    "3D 텐서들을 하나의 배열로 합치면 4D 텐서를 만드는 식"
   ]
  },
  {
   "cell_type": "markdown",
   "id": "b7d06dd5-aa79-4916-a470-63f3af7c7ccb",
   "metadata": {},
   "source": [
    "딥러닝에서는 보통 0D에서 4D까지의 텐서를 다룹니다. 동영상 데이터는 5D까지.."
   ]
  },
  {
   "cell_type": "markdown",
   "id": "5f0db808-de10-4728-a8b0-6b777b0d1b8c",
   "metadata": {},
   "source": [
    "### 2.2.5 핵심속성"
   ]
  },
  {
   "cell_type": "markdown",
   "id": "223c545d-90a5-4262-96d1-593a9906e008",
   "metadata": {},
   "source": [
    "텐서는 3개의 핵심속성으로 정의됩니다."
   ]
  },
  {
   "cell_type": "markdown",
   "id": "be880ed4-10bf-4c75-8e18-c59021ac9d62",
   "metadata": {},
   "source": [
    "- 축의 개수(랭크) : 예를들어 3D 텐서에는 3개의 축, 행렬에는 2개의 축이 있다.\n",
    "    - 넘파이 라이브러리에 `ndim` 속성에 저장되어있음.\n",
    "- 크기 (shape): 텐서의 각 축을 따라 얼마나 많은 차원이 있는지를 나타낸 파이썬의 튜플(tuple).\n",
    "    - 벡터의 크기는 (5,) 처럼 1개의 원소로 이루어진 튜플. 배열스칼라는 `()`처럼 크기 가 없다.\n",
    "    \n",
    "- 데이터 타입: 넘파이에서는 `dtype`에 저장됨.\n",
    "    - ex. float32, uint8, float64 등."
   ]
  },
  {
   "cell_type": "code",
   "execution_count": 41,
   "id": "3c391bc0-7340-4765-ab83-a1e3b6bf7700",
   "metadata": {},
   "outputs": [],
   "source": [
    "from keras.datasets import mnist\n",
    "(train_images, train_labels), (test_images, tset_labels) = mnist.load_data()"
   ]
  },
  {
   "cell_type": "code",
   "execution_count": 44,
   "id": "9c427729-b7b1-4cc5-9588-27718575d342",
   "metadata": {},
   "outputs": [
    {
     "name": "stdout",
     "output_type": "stream",
     "text": [
      "3\n"
     ]
    }
   ],
   "source": [
    "# 축의 개수\n",
    "print(train_images.ndim)"
   ]
  },
  {
   "cell_type": "code",
   "execution_count": 45,
   "id": "52f8f9c2-371a-4a5c-92da-e8aec4c42648",
   "metadata": {},
   "outputs": [
    {
     "name": "stdout",
     "output_type": "stream",
     "text": [
      "(60000, 28, 28)\n"
     ]
    }
   ],
   "source": [
    "# 배열의 크기\n",
    "print(train_images.shape)"
   ]
  },
  {
   "cell_type": "code",
   "execution_count": 46,
   "id": "bf507fb6-55a5-418b-b6e6-08c0875d00d7",
   "metadata": {},
   "outputs": [
    {
     "name": "stdout",
     "output_type": "stream",
     "text": [
      "uint8\n"
     ]
    }
   ],
   "source": [
    "# 데이터 타입\n",
    "print(train_images.dtype)"
   ]
  },
  {
   "cell_type": "markdown",
   "id": "b7783125-a4c5-4ff3-82d0-4f27d9cb9e92",
   "metadata": {},
   "source": [
    "- 이 배열은 8비트 정수형 3D 텐서.\n",
    "- 정확히는 $28\\times 28$ 크기의 정수 행렬 6만개가 있는 배열"
   ]
  },
  {
   "cell_type": "markdown",
   "id": "c289ed87-41bc-44a9-b7d3-a4a5e4db2c43",
   "metadata": {},
   "source": [
    "`-` 다섯번째 샘플 확인"
   ]
  },
  {
   "cell_type": "code",
   "execution_count": 53,
   "id": "881d5dce-5a23-4fa1-b090-df8627381b9a",
   "metadata": {},
   "outputs": [
    {
     "data": {
      "image/png": "[encoded data removed]",
      "text/plain": [
       "<Figure size 432x288 with 1 Axes>"
      ]
     },
     "metadata": {
      "needs_background": "light"
     },
     "output_type": "display_data"
    }
   ],
   "source": [
    "digit = train_images[4]\n",
    "import matplotlib.pyplot as plt\n",
    "\n",
    "plt.imshow(digit, cmap=plt.cm.binary)\n",
    "plt.show()"
   ]
  },
  {
   "cell_type": "markdown",
   "id": "c903116e-d9e4-463b-a80a-c747d22c1dad",
   "metadata": {},
   "source": [
    "### 2.2.6 넘파이로 텐서 조작"
   ]
  },
  {
   "cell_type": "markdown",
   "id": "ab4db21e-6d6c-4ee8-ae73-92fc34d5ab1f",
   "metadata": {},
   "source": [
    "이전 예제에서는 train_images[i] 같은 형식으로 첫번째 축을 따라 특정 숫자를 선택했었다. 배열에 있는 특정 원소들을 선택하는 것을 **슬라이싱** 이라고 한다. 넘파이 배열에서 할 수 있는 슬라이싱 연산을 살펴보자."
   ]
  },
  {
   "cell_type": "code",
   "execution_count": 54,
   "id": "34c3febc-8783-4190-86fd-032f9d446158",
   "metadata": {},
   "outputs": [
    {
     "name": "stdout",
     "output_type": "stream",
     "text": [
      "(90, 28, 28)\n"
     ]
    }
   ],
   "source": [
    "my_slice = train_images[10:100]\n",
    "print(my_slice.shape)"
   ]
  },
  {
   "cell_type": "code",
   "execution_count": 55,
   "id": "dcecf2ce-eca3-4170-b7bb-a4d0f26a7075",
   "metadata": {},
   "outputs": [
    {
     "data": {
      "text/plain": [
       "(90, 28, 28)"
      ]
     },
     "execution_count": 55,
     "metadata": {},
     "output_type": "execute_result"
    }
   ],
   "source": [
    "my_slice = train_images[10:100, :, :]\n",
    "my_slice.shape"
   ]
  },
  {
   "cell_type": "code",
   "execution_count": 57,
   "id": "7525d300-b463-4edb-8aee-706cc68be506",
   "metadata": {},
   "outputs": [
    {
     "data": {
      "text/plain": [
       "(90, 28, 28)"
      ]
     },
     "execution_count": 57,
     "metadata": {},
     "output_type": "execute_result"
    }
   ],
   "source": [
    "my_slice = train_images[10:100, 0:28, 0:28]\n",
    "my_slice.shape"
   ]
  },
  {
   "cell_type": "code",
   "execution_count": 59,
   "id": "654d097a-e29d-4330-9428-4cd123cf9cc1",
   "metadata": {},
   "outputs": [
    {
     "data": {
      "text/plain": [
       "(90, 14, 14)"
      ]
     },
     "execution_count": 59,
     "metadata": {},
     "output_type": "execute_result"
    }
   ],
   "source": [
    "# 14x14 픽셀\n",
    "my_slice = train_images[10:100, 0:14, 0:14]\n",
    "my_slice.shape"
   ]
  },
  {
   "cell_type": "markdown",
   "id": "c47a6047-a0e6-43c1-871c-3f66c4316ba4",
   "metadata": {},
   "source": [
    "### 2.2.7 배치 데이터"
   ]
  },
  {
   "cell_type": "markdown",
   "id": "f86673b3-4901-4286-9d92-ad21cbef112c",
   "metadata": {},
   "source": [
    "일반적으로 딥러닝에서 사용하는 모든 데이터 텐서의 첫번째 축은 샘플 축(sample axis)이다.^[샘플 차원(sample dimension)이라고도 부른다.] MNIST 예제에서는 숫자 이미지가 샘플이다."
   ]
  },
  {
   "cell_type": "markdown",
   "id": "fe7d41ad-1bcd-458c-8534-217f5b3b198b",
   "metadata": {},
   "source": [
    "딥러닝 모델은 한 번에 전체 데이터셋을 처리하지 않습니다. 그 대신 데이터를 작은 배치(batch)로 나눕니다."
   ]
  },
  {
   "cell_type": "markdown",
   "id": "bd431cde-e128-42e6-a620-a49a4e3a98f5",
   "metadata": {},
   "source": [
    "```python\n",
    "# 첫번째 배치\n",
    "batch = train_images[:128]\n",
    "\n",
    "# 2번째 배치\n",
    "batch = train_images[128:256]\n",
    "\n",
    "# n 번째 배치\n",
    "batch = train_images[128 * n:128 * (n + 1)]\n",
    "```"
   ]
  },
  {
   "cell_type": "markdown",
   "id": "9b072983-fc5b-4952-8c0e-a9e4f0d9d183",
   "metadata": {},
   "source": [
    "### 2.2.8 텐서의 실제 사례"
   ]
  },
  {
   "cell_type": "markdown",
   "id": "1319351c-858a-4d77-9596-2bd84cc0bab0",
   "metadata": {},
   "source": [
    "우리가 앞으로 사용할 데이터는 대부분 다음 중 하나에 속할 것이다."
   ]
  },
  {
   "cell_type": "markdown",
   "id": "ec3c89b2-f4fe-45e2-a8e1-c91a8cdc2e3f",
   "metadata": {},
   "source": [
    "- 벡터 데이터 : `(samples, features)` 크기의 2D 텐서\n",
    "- 시계열 데이터 또는 시퀀스(sequence) 데이터: `(samples, timesteps, features)` 크기의 3D 텐서\n",
    "- 이미지: `(samples, height, width, channels)` 또는 (samples, channels, height, width)\n",
    "- 동영상: `(samples, frames, height, width, channels)` 또는 (samples,  frames, channels, height, width) 크기의 5D 텐서"
   ]
  },
  {
   "cell_type": "markdown",
   "id": "57986be5-eac1-4e88-b307-8af6fd2449d9",
   "metadata": {},
   "source": [
    "## 2.5 예제"
   ]
  },
  {
   "cell_type": "code",
   "execution_count": 65,
   "id": "3668f7fa-b4bb-4d8d-96a0-99799af40a1d",
   "metadata": {},
   "outputs": [],
   "source": [
    "(train_images, train_labels), (test_images, test_labels) = mnist.load_data()"
   ]
  },
  {
   "cell_type": "code",
   "execution_count": 69,
   "id": "b588e020-5db9-4165-a0c9-075276dd6a98",
   "metadata": {},
   "outputs": [],
   "source": [
    "train_images = train_images.reshape((60000, 28*28))\n",
    "train_images = train_images.astype('float32') / 255\n",
    "\n",
    "test_images = test_images.reshape((10000, 28*28))\n",
    "test_images = test_images.astype('float32') / 255"
   ]
  },
  {
   "cell_type": "code",
   "execution_count": 76,
   "id": "3d6fea61-0f77-4856-8b8e-79233321f0c8",
   "metadata": {},
   "outputs": [],
   "source": [
    "from keras.utils import to_categorical\n",
    "\n",
    "train_labels = to_categorical(train_labels)\n",
    "test_labels = to_categorical(test_labels)"
   ]
  },
  {
   "cell_type": "code",
   "execution_count": 78,
   "id": "c71084d8-c509-456f-82bb-65bbf9f13278",
   "metadata": {},
   "outputs": [],
   "source": [
    "network = models.Sequential()\n",
    "network.add(layers.Dense(512, activation='relu', input_shape=(28*28,)))\n",
    "network.add(layers.Dense(10, activation='softmax'))"
   ]
  },
  {
   "cell_type": "markdown",
   "id": "748a26b1-dfc6-4071-890a-9b2d19f59815",
   "metadata": {},
   "source": [
    "- 이 네트워크는 2개의 Dense 층이 연결되어 있고 각 층은 가중치 텐서를 포함하여 입력 데이터에 대한 몇 개의 간단한 텐서 연산을 적용.\n",
    "- 경사하강법을 적용하는 구체적인 방식은 첫번째 매개변수로 전달된 `rmsprop` 옵티마이저에 의해 결정."
   ]
  },
  {
   "cell_type": "code",
   "execution_count": 79,
   "id": "8677fcb8-b2f7-4324-9f96-714b30cbf86d",
   "metadata": {},
   "outputs": [],
   "source": [
    "# 네트워크 컴파일\n",
    "network.compile(optimizer='rmsprop',\n",
    "                loss = 'categorical_crossentropy',\n",
    "                metrics=['accuracy'])"
   ]
  },
  {
   "cell_type": "markdown",
   "id": "a99f00f0-c59d-4e51-a926-d27be725fdf4",
   "metadata": {},
   "source": [
    "- `categorical_crossentropy` : 손실함수, 가중치 텐서를 학습하기 위한 피드백 신호로 사용되며 훈련하는 동안 최소화 된다."
   ]
  },
  {
   "cell_type": "code",
   "execution_count": 80,
   "id": "43b496e8-29c4-4c4c-a44b-efcd8296ff47",
   "metadata": {},
   "outputs": [
    {
     "name": "stdout",
     "output_type": "stream",
     "text": [
      "Epoch 1/5\n",
      "469/469 [==============================] - 1s 1ms/step - loss: 2.3015 - accuracy: 0.1120\n",
      "Epoch 2/5\n",
      "469/469 [==============================] - 1s 1ms/step - loss: 2.3014 - accuracy: 0.1124\n",
      "Epoch 3/5\n",
      "469/469 [==============================] - 1s 1ms/step - loss: 2.3014 - accuracy: 0.1124\n",
      "Epoch 4/5\n",
      "469/469 [==============================] - 1s 1ms/step - loss: 2.3014 - accuracy: 0.1124\n",
      "Epoch 5/5\n",
      "469/469 [==============================] - 1s 1ms/step - loss: 2.3014 - accuracy: 0.1124\n"
     ]
    },
    {
     "data": {
      "text/plain": [
       "<keras.callbacks.History at 0x7f025d247850>"
      ]
     },
     "execution_count": 80,
     "metadata": {},
     "output_type": "execute_result"
    }
   ],
   "source": [
    "network.fit(train_images, train_labels, epochs=5, batch_size=128)"
   ]
  },
  {
   "cell_type": "markdown",
   "id": "c2ef1ccb-79ac-4138-9fcb-5610edfdde9f",
   "metadata": {},
   "source": [
    "`-` fit 메서드 호출 결과"
   ]
  },
  {
   "cell_type": "markdown",
   "id": "5b0938cb-4586-47ac-8409-38b0e334fffc",
   "metadata": {},
   "source": [
    "- 네트워크가 128개 샘플씩 미니배치로 훈련 데이터를 5번 반복. (전체 훈련 데이터에 수행되는 각 반복을 **에포크(epoch)** 라고 한다."
   ]
  },
  {
   "cell_type": "markdown",
   "id": "5ec3786e-9ae8-400c-aed7-c6ae2ed9e893",
   "metadata": {},
   "source": [
    "- 각 반복마다 네트워크가 배치에서 손실에 대한 가중치의 그래디언트를 계산하고 그에 맞추어 가중치를 업데이트.\n",
    "    \n",
    "- 다섯번의 에포크 동안 네트워크는 $2,345$번의 크래디언트 업데이트 수행. (에폭마다 469번)"
   ]
  },
  {
   "cell_type": "code",
   "execution_count": 82,
   "id": "2d03f72c-0998-45c1-b4e2-4cc08e9debd9",
   "metadata": {},
   "outputs": [
    {
     "data": {
      "text/plain": [
       "468.75"
      ]
     },
     "execution_count": 82,
     "metadata": {},
     "output_type": "execute_result"
    }
   ],
   "source": [
    "60000/128 # 1에폭당 업데이트 횟수"
   ]
  },
  {
   "cell_type": "code",
   "execution_count": 84,
   "id": "311724aa-1593-426e-9317-2985f2153469",
   "metadata": {},
   "outputs": [
    {
     "data": {
      "text/plain": [
       "2343.75"
      ]
     },
     "execution_count": 84,
     "metadata": {},
     "output_type": "execute_result"
    }
   ],
   "source": [
    "60000/128*5 # 5에폭 업데이트 횟수"
   ]
  }
 ],
 "metadata": {
  "kernelspec": {
   "display_name": "Python 3",
   "language": "python",
   "name": "python3"
  },
  "language_info": {
   "codemirror_mode": {
    "name": "ipython",
    "version": 3
   },
   "file_extension": ".py",
   "mimetype": "text/x-python",
   "name": "python",
   "nbconvert_exporter": "python",
   "pygments_lexer": "ipython3",
   "version": "3.8.16"
  }
 },
 "nbformat": 4,
 "nbformat_minor": 5
}
