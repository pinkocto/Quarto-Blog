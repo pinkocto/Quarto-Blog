{
 "cells": [
  {
   "cell_type": "raw",
   "id": "c79f3b11-7561-4073-ae23-1a1c5544a9b6",
   "metadata": {},
   "source": [
    "---\n",
    "title: \"Class 활용\"\n",
    "author: \"jiyun Lim\"\n",
    "date: \"05/27/2023\"\n",
    "categories:\n",
    "  - Python\n",
    "  - Class\n",
    "  - Study\n",
    "---"
   ]
  },
  {
   "cell_type": "markdown",
   "id": "8b954062-12d8-4fbd-a18b-840598eb6626",
   "metadata": {},
   "source": [
    "## 1. 캐릭터(Character) 클래스 (부모)"
   ]
  },
  {
   "cell_type": "markdown",
   "id": "b1739a20-343d-4da0-8007-759ad216bde8",
   "metadata": {},
   "source": [
    "- 클래스(class)는 여러 정보를 하나의 객체에 담을 때 사용할 수 있다.\n",
    "- 캐릭터 객체를 만들 때, 캐릭터에 대한 정보로는 다음과 같은 것들이 있다.\n",
    "    - 1. 이름\n",
    "    - 2. 체력\n",
    "    - 3. 힘\n",
    "    - 4. 민첩도"
   ]
  },
  {
   "cell_type": "code",
   "execution_count": 2,
   "id": "8d654bff-f23e-4211-a858-0f69b68be6fe",
   "metadata": {},
   "outputs": [],
   "source": [
    "class Character:\n",
    "    def __init__(self, name, hp, strength, agility):\n",
    "        self.name = name\n",
    "        self.hp = hp\n",
    "        self.strength = strength\n",
    "        self.agility = agility\n",
    "        \n",
    "    def show_character(self):\n",
    "        print('=======캐릭터 정보=======')\n",
    "        print(f'이름: {self.name}')\n",
    "        print(f'체력: {self.hp}')\n",
    "        print(f'힘: {self.strength}')\n",
    "        print(f'민첩도: {self.agility}')\n",
    "        \n",
    "    def attack(self):\n",
    "        print(f'[{self.name}] 기본 공격 수행 (공격력: {self.strength})')"
   ]
  },
  {
   "cell_type": "code",
   "execution_count": 4,
   "id": "868215a9-2f83-433d-b81d-6475a8acd4ae",
   "metadata": {},
   "outputs": [
    {
     "name": "stdout",
     "output_type": "stream",
     "text": [
      "=======캐릭터 정보=======\n",
      "이름: 슬라임\n",
      "체력: 50\n",
      "힘: 5\n",
      "민첩도: 3\n",
      "[슬라임] 기본 공격 수행 (공격력: 5)\n"
     ]
    }
   ],
   "source": [
    "character1 = Character(\"슬라임\", 50, 5, 3)\n",
    "character1.show_character()\n",
    "character1.attack()"
   ]
  },
  {
   "cell_type": "code",
   "execution_count": 6,
   "id": "d33aa30b-0129-4f59-8538-44367c17b95b",
   "metadata": {},
   "outputs": [
    {
     "name": "stdout",
     "output_type": "stream",
     "text": [
      "=======캐릭터 정보=======\n",
      "이름: 용사1\n",
      "체력: 200\n",
      "힘: 10\n",
      "민첩도: 5\n",
      "[용사1] 기본 공격 수행 (공격력: 10)\n"
     ]
    }
   ],
   "source": [
    "character2 = Character(\"용사1\", 200, 10, 5)\n",
    "character2.show_character()\n",
    "character2.attack()"
   ]
  },
  {
   "cell_type": "markdown",
   "id": "098594f4-cf3f-4853-8890-f9e45c9e6715",
   "metadata": {},
   "source": [
    "- character1, 2 각 각 인스턴스가 다르기 때문에 서로 다른 정보를 갖는다.\n",
    "- Character라는 클래스 내에 character1, character2처럼 같은 클래스 내의 인스턴스는 다를 수 있다."
   ]
  },
  {
   "cell_type": "markdown",
   "id": "28575d86-17ab-4c50-a43e-889584f90af5",
   "metadata": {},
   "source": [
    "## 2. 몬스터 클래스 (자식)"
   ]
  },
  {
   "cell_type": "markdown",
   "id": "6d889718-b196-427a-9d2e-29f19051f12b",
   "metadata": {},
   "source": [
    "앞서 정의했던 Character 클래스를 이용해서 몬스터 클래스를 정의할 수 있다."
   ]
  },
  {
   "cell_type": "markdown",
   "id": "2cfce58e-393c-4e80-a1f9-a332de196f98",
   "metadata": {},
   "source": [
    "- 클래스의 **상속(inheritance)** 은 체계적인 프로그램 개발을 위해 필요하다.^[코드 중복을 줄여준다.]\n",
    "- 예를 들어 캐릭터 객체는 **몬스터(monster)** 와 **주인공(hero)** 로 나누어질 수 있다.\n",
    "    - 이들은 **공통적으로** 이름(name), 힘(strength) 등의 정보를 가지고 있다.\n",
    "- 상속을 사용하여, 공통적으로 사용되는 변수를 매번 선언하지 않는다.\n",
    "- 몬스터는 모두 마력(MP) 정보를 가지고 있다고 가정하자."
   ]
  },
  {
   "cell_type": "code",
   "execution_count": 8,
   "id": "56d387c2-8b91-49d1-8430-b9763e01a69e",
   "metadata": {},
   "outputs": [],
   "source": [
    "class Monster(Character):\n",
    "    def __init__(self, name, hp, strength, agility, mp):\n",
    "        super().__init__(name, hp, strength, agility)\n",
    "        self.mp = mp\n",
    "    \n",
    "    def recovery(self):\n",
    "        print(f'[{self.name}] 자기 치유 (회복된 체력: {self.mp})')\n",
    "        self.hp += self.mp"
   ]
  },
  {
   "cell_type": "code",
   "execution_count": 13,
   "id": "9a9cbde3-2a36-4e4f-a64d-a2ee4e2e8c99",
   "metadata": {},
   "outputs": [
    {
     "name": "stdout",
     "output_type": "stream",
     "text": [
      "=======캐릭터 정보=======\n",
      "이름: 슬라임\n",
      "체력: 50\n",
      "힘: 5\n",
      "민첩도: 3\n",
      "[슬라임] 기본 공격 수행 (공격력: 5)\n",
      "[슬라임] 자기 치유 (회복된 체력: 5)\n",
      "=======캐릭터 정보=======\n",
      "이름: 슬라임\n",
      "체력: 55\n",
      "힘: 5\n",
      "민첩도: 3\n"
     ]
    }
   ],
   "source": [
    "monster1 = Monster('슬라임', 50, 5, 3, 5)\n",
    "monster1.show_character()\n",
    "monster1.attack()\n",
    "monster1.recovery()\n",
    "monster1.show_character()"
   ]
  },
  {
   "cell_type": "markdown",
   "id": "657090ec-d606-470a-9032-598ccdc7eb11",
   "metadata": {},
   "source": [
    "- Monster 클래스는 기존의 Character 클래스를 상속받은 것이기 때문에 기존 Character 클래스가 가지고 있던 기능까지 함께 사용할 수 있다."
   ]
  },
  {
   "cell_type": "markdown",
   "id": "56fd5674-f34a-4d96-9b81-316f0d3db0d2",
   "metadata": {},
   "source": [
    "## 3. 주인공 클래스 (자식)"
   ]
  },
  {
   "cell_type": "markdown",
   "id": "503a60b3-f579-4897-8865-2d180952587c",
   "metadata": {},
   "source": [
    "- 주인공은 모두 직업(job) 정보를 가지고 있다고 가정하자."
   ]
  },
  {
   "cell_type": "code",
   "execution_count": 14,
   "id": "bd227715-1acf-4302-a874-1426ce7c5748",
   "metadata": {},
   "outputs": [],
   "source": [
    "class Hero(Character):\n",
    "    def __init__(self, name, hp, strength, agility, job):\n",
    "        super().__init__(name, hp, strength, agility)\n",
    "        self.job = job\n",
    "    def show_hero(self):\n",
    "        print('==========주인공 정보==========')\n",
    "        print(f'직업: {self.job}')"
   ]
  },
  {
   "cell_type": "code",
   "execution_count": 15,
   "id": "efb0fa81-7683-461d-a544-01a118fd8c6f",
   "metadata": {},
   "outputs": [
    {
     "name": "stdout",
     "output_type": "stream",
     "text": [
      "=======캐릭터 정보=======\n",
      "이름: 용사1\n",
      "체력: 200\n",
      "힘: 10\n",
      "민첩도: 5\n"
     ]
    }
   ],
   "source": [
    "hero1 = Hero('용사1', 200, 10, 5, '마법사')\n",
    "hero1.show_character()"
   ]
  },
  {
   "cell_type": "code",
   "execution_count": 16,
   "id": "437aefce-32cf-48e7-98cd-f2248155cbdc",
   "metadata": {},
   "outputs": [
    {
     "name": "stdout",
     "output_type": "stream",
     "text": [
      "==========주인공 정보==========\n",
      "직업: 마법사\n"
     ]
    }
   ],
   "source": [
    "hero1.show_hero()"
   ]
  },
  {
   "cell_type": "markdown",
   "id": "8c6a2925-eb6c-4418-8df3-19f59bbaafcf",
   "metadata": {},
   "source": [
    "## 딥러닝 모델 클래스 예시"
   ]
  },
  {
   "cell_type": "markdown",
   "id": "7412abe6-445a-466a-b61d-569181886c83",
   "metadata": {},
   "source": [
    "### 1. 딥러닝 이미지 모델 클래스 (부모)"
   ]
  },
  {
   "cell_type": "markdown",
   "id": "7e464d92-ab5f-479e-99d1-562d34994ffd",
   "metadata": {},
   "source": [
    "- 기초적인 이미지 처리 모델은 일반적으로 인코더 정보를 포함한다.\n",
    "- **인코더(encoder)**\n",
    "    1. 특징 추출기(feature extractor)\n",
    "    2. 입력 모양(input shape)\n",
    "- 딥러닝 모델은 입력을 통해 출력을 뱉는 `forward()` 함수가 존재한다."
   ]
  },
  {
   "cell_type": "code",
   "execution_count": 17,
   "id": "c8e6d4b5-c050-442c-9dcf-cc0da98e621b",
   "metadata": {},
   "outputs": [],
   "source": [
    "class Model:\n",
    "    def __init__(self, feature_extractor, input_shape):\n",
    "        self.feature_extractor = feature_extractor\n",
    "        self.input_shape = input_shape\n",
    "        \n",
    "    def show(self):\n",
    "        print('==========인코더 정보===============')\n",
    "        print(f'특징 추출기: {self.feature_extractor}')\n",
    "        print(f'입력 차원: {self.input_shape}')\n",
    "        \n",
    "    def forward(self, x):\n",
    "        print(f'입력 데이터: {x}')\n",
    "        print(f'[특징 추출기] {self.feature_extractor}')"
   ]
  },
  {
   "cell_type": "code",
   "execution_count": 18,
   "id": "855e726d-ed92-439d-9f64-d1df15fb5363",
   "metadata": {},
   "outputs": [
    {
     "name": "stdout",
     "output_type": "stream",
     "text": [
      "==========인코더 정보===============\n",
      "특징 추출기: ResNet50 backbone\n",
      "입력 차원: (224, 224, 3)\n"
     ]
    }
   ],
   "source": [
    "model = Model('ResNet50 backbone', (224,224,3))\n",
    "model.show()"
   ]
  },
  {
   "cell_type": "code",
   "execution_count": 19,
   "id": "ff25ab16-db9d-4331-83dc-5db70b68eacc",
   "metadata": {},
   "outputs": [
    {
     "name": "stdout",
     "output_type": "stream",
     "text": [
      "입력 데이터: None\n",
      "[특징 추출기] ResNet50 backbone\n"
     ]
    }
   ],
   "source": [
    "model.forward(x=None)"
   ]
  },
  {
   "cell_type": "markdown",
   "id": "f741fcc2-cbfd-49db-add7-45908160b77b",
   "metadata": {},
   "source": [
    "- 인코더는 동일하게 설정하되 디코더는 다르게 설정하는 경우가 많다."
   ]
  },
  {
   "cell_type": "markdown",
   "id": "13615645-4fae-4942-8bde-ae0f780f6ec8",
   "metadata": {},
   "source": [
    "### 2. 이미지 분류 모델 (자식)"
   ]
  },
  {
   "cell_type": "markdown",
   "id": "d66da6b9-0bdd-4a89-bef4-effb8aa4d412",
   "metadata": {},
   "source": [
    "- 기초적인 이미지 분류 모델은 다음의 두 가지를 포함하는 경우가 많다.\n",
    "    1. 분류기(classifier)\n",
    "    2. 출력 모양(output shape)\n",
    "- **오버라이딩(overriding)** 을 이용해 `forward()` 함수를 재정의 할 수 있다."
   ]
  },
  {
   "cell_type": "code",
   "execution_count": 20,
   "id": "67ceb7db-d1f9-40ba-88d4-355e221ab156",
   "metadata": {},
   "outputs": [],
   "source": [
    "class Classifier(Model):\n",
    "    def __init__(self, feature_extractor, input_shape, classifier, output_shape):\n",
    "        super().__init__(feature_extractor, input_shape)\n",
    "        self.classifier = classifier\n",
    "        self.output_shape = output_shape\n",
    "    \n",
    "    def show_classifier(self):\n",
    "        print('=======모델 정보=====')\n",
    "        print(f'특징 추출기: {self.feature_extractor}')\n",
    "        print(f'분류 모델: {self.classifier}')\n",
    "        print(f'입력 차원: {self.input_shape}')\n",
    "        print(f'출력 차원: {self.output_shape}')\n",
    "        \n",
    "    def forward(self, x):\n",
    "        print(f'입력 데이터: {x}')\n",
    "        print(f'[특징 추출기] {self.feature_extractor}')\n",
    "        print(f'[분류 모델] {self.classifier}')"
   ]
  },
  {
   "cell_type": "code",
   "execution_count": 21,
   "id": "2be447a4-1b00-4706-85a4-dd829239b353",
   "metadata": {},
   "outputs": [
    {
     "name": "stdout",
     "output_type": "stream",
     "text": [
      "=======모델 정보=====\n",
      "특징 추출기: ResNet50 backbone\n",
      "분류 모델: FC layer\n",
      "입력 차원: (256, 256, 3)\n",
      "출력 차원: 10\n"
     ]
    }
   ],
   "source": [
    "model = Classifier(\"ResNet50 backbone\", (256,256,3), \"FC layer\", (10))\n",
    "model.show_classifier()"
   ]
  },
  {
   "cell_type": "code",
   "execution_count": 22,
   "id": "2a1472d9-5e70-47fa-8706-9f99d3ab4afe",
   "metadata": {},
   "outputs": [
    {
     "name": "stdout",
     "output_type": "stream",
     "text": [
      "입력 데이터: None\n",
      "[특징 추출기] ResNet50 backbone\n",
      "[분류 모델] FC layer\n"
     ]
    }
   ],
   "source": [
    "model.forward(x=None)"
   ]
  },
  {
   "cell_type": "markdown",
   "id": "b93eacb3-e5cd-4936-85d9-b737f97b2e47",
   "metadata": {},
   "source": [
    "## 3. 이미지 분할(Segmentation) 모델 (자식)"
   ]
  },
  {
   "cell_type": "markdown",
   "id": "dbce6a3e-46bb-4714-ac48-1c22a6f76c78",
   "metadata": {},
   "source": [
    "\n",
    "* 기초적인 이미지 분할 모델은 다음의 두 가지를 포함하는 경우가 많다.\n",
    "  1. 디코더(decoder)\n",
    "  2. 출력 모양(output shape)\n",
    "* <b>오버라이딩(overriding)</b>을 이용해 <b>forward()</b> 함수를 재정의할 수 있다."
   ]
  },
  {
   "cell_type": "code",
   "execution_count": 35,
   "id": "fc0dfa8e-9041-481e-80ae-a86797326ab3",
   "metadata": {},
   "outputs": [],
   "source": [
    "class SegmentationModel(Model):\n",
    "    def __init__(self, feature_extractor, input_shape, decoder, output_shape):\n",
    "        super().__init__(feature_extractor, input_shape)\n",
    "        self.decoder = decoder\n",
    "        self.output_shape = output_shape\n",
    "        \n",
    "    def show_segmentation_model(self):\n",
    "        print('========모델 정보========')\n",
    "        print(f'특징 추출기: {self.feature_extractor}')\n",
    "        print(f'디코더: {self.decoder}')\n",
    "        print(f'입력 차원: {self.input_shape}')\n",
    "        print(f'출력 차원: {self.output_shape}')\n",
    "    \n",
    "    def forward(self, x):\n",
    "        print(f'입력 데이터: {x}')\n",
    "        print(f'[특징 추출기]: {self.feature_extractor}')\n",
    "        print(f'[디코더]: {self.decoder}')"
   ]
  },
  {
   "cell_type": "code",
   "execution_count": 36,
   "id": "a3aa9c84-65a3-422c-864a-91cda63bef76",
   "metadata": {},
   "outputs": [],
   "source": [
    "model = SegmentationModel('ResNet50 backbone', (256,256,3), 'U-Net', (256,256,3))"
   ]
  },
  {
   "cell_type": "code",
   "execution_count": 37,
   "id": "46a6658e-2e8c-4cf7-857b-a97e11cb2009",
   "metadata": {},
   "outputs": [
    {
     "name": "stdout",
     "output_type": "stream",
     "text": [
      "========모델 정보========\n",
      "특징 추출기: ResNet50 backbone\n",
      "디코더: U-Net\n",
      "입력 차원: (256, 256, 3)\n",
      "출력 차원: (256, 256, 3)\n"
     ]
    }
   ],
   "source": [
    "model.show_segmentation_model()"
   ]
  },
  {
   "cell_type": "code",
   "execution_count": 38,
   "id": "1b143b40-3fc3-4a75-88a8-3d682da05646",
   "metadata": {},
   "outputs": [
    {
     "name": "stdout",
     "output_type": "stream",
     "text": [
      "입력 데이터: None\n",
      "[특징 추출기]: ResNet50 backbone\n",
      "[디코더]: U-Net\n"
     ]
    }
   ],
   "source": [
    "model.forward(x=None)"
   ]
  }
 ],
 "metadata": {
  "kernelspec": {
   "display_name": "Python 3",
   "language": "python",
   "name": "python3"
  },
  "language_info": {
   "codemirror_mode": {
    "name": "ipython",
    "version": 3
   },
   "file_extension": ".py",
   "mimetype": "text/x-python",
   "name": "python",
   "nbconvert_exporter": "python",
   "pygments_lexer": "ipython3",
   "version": "3.8.16"
  }
 },
 "nbformat": 4,
 "nbformat_minor": 5
}
