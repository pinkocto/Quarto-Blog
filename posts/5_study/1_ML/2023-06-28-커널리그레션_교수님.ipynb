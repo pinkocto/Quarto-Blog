{
 "cells": [
  {
   "cell_type": "raw",
   "id": "7899c8b2-5af1-4c9e-a04f-f03a72e620ce",
   "metadata": {},
   "source": [
    "---\n",
    "title: \"**[PINKOCTO]** 커널리그레션\"\n",
    "author: \"신록예찬\"\n",
    "date: \"06/23/2023\"\n",
    "---"
   ]
  },
  {
   "cell_type": "code",
   "execution_count": 1,
   "id": "0c915b4f-fd18-4457-ba9f-14b44f5efc88",
   "metadata": {},
   "outputs": [],
   "source": [
    "import numpy as np\n",
    "import matplotlib.pyplot as plt"
   ]
  },
  {
   "cell_type": "code",
   "execution_count": 2,
   "id": "e6df4780-36d6-433e-8a39-bea0b0d92c91",
   "metadata": {},
   "outputs": [
    {
     "data": {
      "text/plain": [
       "array([0.  , 0.25, 0.5 , 0.75, 1.  ])"
      ]
     },
     "execution_count": 2,
     "metadata": {},
     "output_type": "execute_result"
    }
   ],
   "source": [
    "x = np.linspace(0,1,5)\n",
    "x"
   ]
  },
  {
   "cell_type": "code",
   "execution_count": 3,
   "id": "30c1245d-e4de-4922-963f-f92faf07c121",
   "metadata": {},
   "outputs": [
    {
     "data": {
      "text/plain": [
       "array([0.03751157, 0.17618765, 1.29834754, 1.54927254, 1.44729929])"
      ]
     },
     "execution_count": 3,
     "metadata": {},
     "output_type": "execute_result"
    }
   ],
   "source": [
    "y = x*2 + np.random.randn(5)*0.3\n",
    "y"
   ]
  },
  {
   "cell_type": "code",
   "execution_count": 4,
   "id": "9a5230d2-8305-47ed-af23-96ce98b000f0",
   "metadata": {},
   "outputs": [
    {
     "data": {
      "text/plain": [
       "[<matplotlib.lines.Line2D at 0x7f7dc8ed6430>]"
      ]
     },
     "execution_count": 4,
     "metadata": {},
     "output_type": "execute_result"
    },
    {
     "data": {
      "image/png": "[encoded data removed]",
      "text/plain": [
       "<Figure size 432x288 with 1 Axes>"
      ]
     },
     "metadata": {
      "needs_background": "light"
     },
     "output_type": "display_data"
    }
   ],
   "source": [
    "plt.plot(x,y,'o')\n",
    "plt.plot(x,2*x,'--')"
   ]
  },
  {
   "cell_type": "markdown",
   "id": "93288b0e-0ac4-457b-8a10-6ef4d64cea61",
   "metadata": {},
   "source": [
    "$$y_i= \\sum_{i=1}^{5}\\theta_i\\exp\\left(-\\frac{|x-x_i|^2}{2h^2}\\right)$$"
   ]
  },
  {
   "cell_type": "code",
   "execution_count": 5,
   "id": "a1b102dc-a019-4161-83b6-f453dec87d39",
   "metadata": {},
   "outputs": [],
   "source": [
    "h= 0.15\n",
    "x0 = lambda xstar: np.exp(-(xstar-x[0])**2 / 2 / (h**2))\n",
    "x1 = lambda xstar: np.exp(-(xstar-x[1])**2 / 2 / (h**2))\n",
    "x2 = lambda xstar: np.exp(-(xstar-x[2])**2 / 2 / (h**2))\n",
    "x3 = lambda xstar: np.exp(-(xstar-x[3])**2 / 2 / (h**2))\n",
    "x4 = lambda xstar: np.exp(-(xstar-x[4])**2 / 2 / (h**2))"
   ]
  },
  {
   "cell_type": "code",
   "execution_count": 7,
   "id": "f43a538b-d6b9-44be-84e7-864c1a8bc6b0",
   "metadata": {},
   "outputs": [],
   "source": [
    "θ0 = 0\n",
    "θ1 = 0.2\n",
    "θ2 = 0.5\n",
    "θ3 = 1.0\n",
    "θ4 = 1.5"
   ]
  },
  {
   "cell_type": "code",
   "execution_count": 8,
   "id": "9544454a-c669-4f6b-8835-13dc11b33e47",
   "metadata": {},
   "outputs": [],
   "source": [
    "xstar = 0.6 "
   ]
  },
  {
   "cell_type": "code",
   "execution_count": 9,
   "id": "986c493c-4cee-4f0b-997e-6d53adab0d0c",
   "metadata": {},
   "outputs": [
    {
     "data": {
      "text/plain": [
       "1.062893318071169"
      ]
     },
     "execution_count": 9,
     "metadata": {},
     "output_type": "execute_result"
    }
   ],
   "source": [
    "θ0*x0(0.6)+θ1*x1(0.6)+θ2*x2(0.6)+θ3*x3(0.6)+θ4*x4(0.6)"
   ]
  },
  {
   "cell_type": "code",
   "execution_count": 10,
   "id": "f4c7990b-c68d-4c9d-80f2-07168be0b1f2",
   "metadata": {},
   "outputs": [],
   "source": [
    "_yhat = lambda xstar : θ0*x0(xstar)+\\\n",
    "θ1*x1(xstar)+\\\n",
    "θ2*x2(xstar)+\\\n",
    "θ3*x3(xstar)+\\\n",
    "θ4*x4(xstar)"
   ]
  },
  {
   "cell_type": "code",
   "execution_count": 11,
   "id": "aae09232-baeb-450c-9f5e-d3f5e13df1b4",
   "metadata": {},
   "outputs": [
    {
     "data": {
      "text/plain": [
       "0.00020436291799403913"
      ]
     },
     "execution_count": 11,
     "metadata": {},
     "output_type": "execute_result"
    }
   ],
   "source": [
    "(_yhat(0)-y[0])**2"
   ]
  },
  {
   "cell_type": "code",
   "execution_count": 12,
   "id": "81b3af8e-c738-44d9-925e-924444bf837b",
   "metadata": {},
   "outputs": [],
   "source": [
    "loss = (_yhat(0)-y[0])**2 + (_yhat(0.25)-y[1])**2+ \\\n",
    "(_yhat(0.5)-y[2])**2+(_yhat(0.75)-y[3])**2+\\\n",
    "(_yhat(1)-y[4])**2\n"
   ]
  },
  {
   "cell_type": "markdown",
   "id": "ff811f86-da36-48f5-9d95-08b1c32896f0",
   "metadata": {},
   "source": [
    "$loss(\\theta_0,\\theta_1,\\theta_2,\\theta_3,\\theta_4)$ 를 최소화하는 ${\\boldsymbol \\theta}$를 구한다. "
   ]
  },
  {
   "cell_type": "code",
   "execution_count": 13,
   "id": "f9515417-f096-4419-98ab-a8c5366384e7",
   "metadata": {},
   "outputs": [
    {
     "data": {
      "text/plain": [
       "[<matplotlib.lines.Line2D at 0x7f7dc8418ee0>]"
      ]
     },
     "execution_count": 13,
     "metadata": {},
     "output_type": "execute_result"
    },
    {
     "data": {
      "image/png": "[encoded data removed]",
      "text/plain": [
       "<Figure size 432x288 with 1 Axes>"
      ]
     },
     "metadata": {
      "needs_background": "light"
     },
     "output_type": "display_data"
    }
   ],
   "source": [
    "_x = np.linspace(0,1,1000)\n",
    "plt.plot(x,y,'o')\n",
    "plt.plot(x,2*x,'--')\n",
    "plt.plot(_x,_yhat(_x))"
   ]
  }
 ],
 "metadata": {
  "kernelspec": {
   "display_name": "Python 3",
   "language": "python",
   "name": "python3"
  },
  "language_info": {
   "codemirror_mode": {
    "name": "ipython",
    "version": 3
   },
   "file_extension": ".py",
   "mimetype": "text/x-python",
   "name": "python",
   "nbconvert_exporter": "python",
   "pygments_lexer": "ipython3",
   "version": "3.8.16"
  }
 },
 "nbformat": 4,
 "nbformat_minor": 5
}
