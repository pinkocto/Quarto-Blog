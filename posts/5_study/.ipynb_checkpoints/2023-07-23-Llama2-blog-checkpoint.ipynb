{
 "cells": [
  {
   "cell_type": "raw",
   "id": "c2977cd8-b030-4853-af18-06f0a761120d",
   "metadata": {},
   "source": [
    "---\n",
    "title: \"Llama2\"\n",
    "author: \"jiyun Lim\"\n",
    "date: \"07/23/2023\"\n",
    "categories:\n",
    "  - Study\n",
    "---"
   ]
  },
  {
   "cell_type": "markdown",
   "id": "0e8f5ae4-a9bd-4e4f-97db-29634cef6bc0",
   "metadata": {},
   "source": [
    "- ref: <https://huggingface.co/blog/llama2>\n",
    "\n",
    "- paper: <https://arxiv.org/pdf/2307.09288.pdf>"
   ]
  }
 ],
 "metadata": {
  "kernelspec": {
   "display_name": "Python 3",
   "language": "python",
   "name": "python3"
  },
  "language_info": {
   "codemirror_mode": {
    "name": "ipython",
    "version": 3
   },
   "file_extension": ".py",
   "mimetype": "text/x-python",
   "name": "python",
   "nbconvert_exporter": "python",
   "pygments_lexer": "ipython3",
   "version": "3.8.16"
  }
 },
 "nbformat": 4,
 "nbformat_minor": 5
}
