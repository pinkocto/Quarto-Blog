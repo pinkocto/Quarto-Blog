{
 "cells": [
  {
   "cell_type": "raw",
   "id": "cb263509-c3a8-4da4-a79b-434e95a4ae7e",
   "metadata": {},
   "source": [
    "---\n",
    "title: \"**[DL]** 2wk. Applied Math and Machine Learning Basics\" \n",
    "author: \"JiyunLim\"\n",
    "date: \"09/11/2023\"\n",
    "---"
   ]
  },
  {
   "cell_type": "markdown",
   "id": "a31b4d38-6fe4-4769-b9aa-e8926634a9e6",
   "metadata": {},
   "source": [
    "> 이번주 선형대수 // 다음주 확률 // optimization"
   ]
  },
  {
   "cell_type": "markdown",
   "id": "05a3916c-4875-41b4-86b4-87cc5c4bb37b",
   "metadata": {},
   "source": [
    "## Notations"
   ]
  },
  {
   "cell_type": "markdown",
   "id": "4406aef7-ee99-4907-b55a-25efa3c33d44",
   "metadata": {},
   "source": [
    "`-` Scalar"
   ]
  },
  {
   "cell_type": "markdown",
   "id": "af23baea-4246-4047-8013-eceba6c39231",
   "metadata": {},
   "source": [
    "Single number. (real number or natural number)"
   ]
  },
  {
   "cell_type": "markdown",
   "id": "d5546365-38f0-4dfc-b34b-1c00e4e8ea83",
   "metadata": {},
   "source": [
    "`-` Vector"
   ]
  },
  {
   "cell_type": "markdown",
   "id": "433656e0-e882-47b6-8b3f-336e3a9bd943",
   "metadata": {},
   "source": [
    "숫자들이 순서대로 배열된 1차원 배열."
   ]
  },
  {
   "cell_type": "markdown",
   "id": "61a77e07-67c8-43ee-b945-776cd675202d",
   "metadata": {},
   "source": [
    "`-` Matrix"
   ]
  },
  {
   "cell_type": "markdown",
   "id": "42387761-be03-442d-a1a7-d137c9940c85",
   "metadata": {},
   "source": [
    "2차원 배열. (벡터를 쌓아놓은 것)"
   ]
  },
  {
   "cell_type": "markdown",
   "id": "c6010d18-e12f-4b20-90de-dec0fa6aa420",
   "metadata": {},
   "source": [
    "$${\\bf A} = \\begin{bmatrix}A_{1,1} & A_{1,2} \\\\ A_{2,1} & A_{2,2} \\end{bmatrix}$$"
   ]
  },
  {
   "cell_type": "markdown",
   "id": "8ccdc7b9-4468-4076-92ba-dc8ba2f751da",
   "metadata": {},
   "source": [
    "`-` Tensor"
   ]
  },
  {
   "cell_type": "markdown",
   "id": "15769092-c85d-41a9-8e6b-701b1f59d31c",
   "metadata": {},
   "source": [
    "3차원 이상의 배열."
   ]
  },
  {
   "cell_type": "markdown",
   "id": "bafbb5b7-5b0b-49e5-b47e-68c189eb965b",
   "metadata": {},
   "source": [
    "## Transpose & Multiplication"
   ]
  },
  {
   "cell_type": "markdown",
   "id": "4a53dc63-0f98-4801-bc1d-ec717be184f7",
   "metadata": {},
   "source": [
    "`-` **1. Transpose**"
   ]
  },
  {
   "cell_type": "markdown",
   "id": "09538232-8e58-4bb2-8e04-b8db1d771217",
   "metadata": {},
   "source": [
    "${\\bf A}_{i,j}^\\top = {\\bf A}_{j,i}^\\top$"
   ]
  },
  {
   "cell_type": "markdown",
   "id": "3123f15a-4648-4447-abff-af14e43c89f5",
   "metadata": {},
   "source": [
    "`-` **2. Addition**"
   ]
  },
  {
   "cell_type": "markdown",
   "id": "b1ed0066-0027-4008-8794-efb6681f9530",
   "metadata": {},
   "source": [
    "- ${\\bf A} + {\\bf B} = {\\bf C}$ where $C_{i,j} = A_{i,j} + B_{i,j}$\n",
    "- $a\\cdot {\\bf A} + c = {\\bf G}$ where $G_{i,j} = a\\cdot A_{i,j}+c$"
   ]
  },
  {
   "cell_type": "markdown",
   "id": "178bd7ef-bce7-41ac-bd06-f6da1d589a7e",
   "metadata": {},
   "source": [
    "$\\begin{bmatrix} a_{11} & a_{12} \\\\ a_{21} & a_{22}\\end{bmatrix} + \\begin{bmatrix} b_1 \\\\ b_2 \\end{bmatrix}=\\begin{bmatrix} a_{11} + b_1 & a_{12} + b_2 \\\\ a_{21} + b_1 & a_{22} + b_2 \\end{bmatrix}$"
   ]
  },
  {
   "cell_type": "markdown",
   "id": "aebfb828-0586-47ee-9ba0-94659108d32a",
   "metadata": {},
   "source": [
    "> inner product는 차원을 줄이는 것이라면 outer product는 차원을 늘리는 것."
   ]
  },
  {
   "cell_type": "markdown",
   "id": "72d4eeb0-da80-40eb-aaf6-cf33458f8b5b",
   "metadata": {},
   "source": [
    "`-` **3. Multiplication**"
   ]
  },
  {
   "cell_type": "markdown",
   "id": "d5245e6b-5383-470f-9b2a-aa4179724509",
   "metadata": {},
   "source": [
    "**Multiplication**"
   ]
  },
  {
   "cell_type": "markdown",
   "id": "92a5ed92-5afb-4ddc-b51d-b8efc806c06c",
   "metadata": {},
   "source": [
    "matrices ${\\bf A} \\in \\mathbb{R}^{a_1\\times b}$ and ${\\bf B} \\in \\mathbb{R}^{b\\times a_2}$의 곱은 아래와 같다."
   ]
  },
  {
   "cell_type": "markdown",
   "id": "ce90d9ce-39a4-40fa-b6e9-7c7d4ab081a7",
   "metadata": {},
   "source": [
    "$${\\bf C} = {\\bf A}{\\bf B}$$"
   ]
  },
  {
   "cell_type": "markdown",
   "id": "6f274c77-3aac-43f6-8039-7010bf8b92ca",
   "metadata": {},
   "source": [
    "where $C_{i,j} = \\sum_{l}A_{i,l}B_{l,j} (i,j) = \\{1,\\dots,a_1\\}\\times \\{1,\\dots, a_2\\}$."
   ]
  },
  {
   "cell_type": "markdown",
   "id": "83da61a9-7090-423e-a2b3-803248a4e894",
   "metadata": {},
   "source": [
    "**Hadamard product**"
   ]
  },
  {
   "cell_type": "markdown",
   "id": "9b00e742-acd1-47fa-9c6d-0c511d77c3ff",
   "metadata": {},
   "source": [
    "Hadamard product (element-wise product) of $A \\in \\mathbb{R}^{a\\times b}$ and $B^{a\\times b}$"
   ]
  },
  {
   "cell_type": "markdown",
   "id": "5c4181e6-ce0e-4636-b2f9-427192dc099d",
   "metadata": {},
   "source": [
    "$${\\bf C} = {\\bf A} \\odot {\\bf B}$$"
   ]
  },
  {
   "cell_type": "markdown",
   "id": "b062183b-947d-4f50-8e82-19e1b403a4e2",
   "metadata": {},
   "source": [
    "where $C_{i,j} = A_{i,j}B_{i,j}.$"
   ]
  },
  {
   "cell_type": "markdown",
   "id": "c35816a5-76c8-4f29-a2cf-f10e42c0dd41",
   "metadata": {},
   "source": [
    "아다마르 곱(또는 요소별 곱셈, Hadamard product)은 다양한 분야에서 사용되며 주로 두 개의 행렬 또는 벡터 간의 요소별 연산을 나타냅니다. 아다마르 곱은 다음과 같은 상황에서 쓰입니다:\n",
    "\n",
    "- 신호 처리: 아다마르 곱은 디지털 신호 처리에서 자주 사용됩니다. 예를 들어, 두 시계열 데이터를 아다마르 곱하여 두 신호 간의 상관 관계를 계산하거나 신호를 필터링하는 데 사용될 수 있습니다.\n",
    "\n",
    "- 이미지 처리: 컴퓨터 비전 및 이미지 처리에서 두 이미지나 이미지와 마스크(필터) 사이의 요소별 곱셈은 특정 이미지 처리 작업에 사용됩니다. 예를 들어, 이미지를 선명하게 만들거나 특정 부분을 강조하는 데 유용합니다.\n",
    "\n",
    "- 뉴럴 네트워크: 인공 신경망에서 아다마르 곱은 활성화 함수와 가중치 간의 요소별 연산에 사용됩니다. 이를 통해 네트워크의 비선형성을 증가시키고 특정 기능을 강조할 수 있습니다.\n",
    "\n",
    "- 행렬 연산: 다른 행렬 연산과 결합하여 특정 형태의 계산을 수행할 때 아다마르 곱이 사용될 수 있습니다. 예를 들어, 고유값 분해(Eigendecomposition)와 같은 행렬 분해 기술에서도 사용됩니다.\n",
    "\n",
    "- 요소별 연산: 두 개의 행렬 또는 벡터 사이의 각 요소를 독립적으로 처리하고 싶을 때 아다마르 곱을 사용합니다. 이렇게 하면 각 요소 간의 관계를 보존하면서 연산을 수행할 수 있습니다.\n",
    "\n",
    "아다마르 곱은 행렬 곱셈과는 다르며, 두 개의 행렬 또는 벡터의 크기가 동일해야 합니다. 따라서 요소별 연산을 수행하려면 같은 크기의 입력이 필요합니다."
   ]
  },
  {
   "cell_type": "markdown",
   "id": "432e34f9-c495-46fe-a69f-d3fcdf52474d",
   "metadata": {},
   "source": [
    "**4. Properties of multiplication**"
   ]
  },
  {
   "cell_type": "markdown",
   "id": "fd015fea-41bf-4fbe-bb4b-c859160d44e9",
   "metadata": {},
   "source": [
    "**5. Linear equation**"
   ]
  },
  {
   "cell_type": "markdown",
   "id": "f37d5603-9e6f-462d-a185-100be1b9d507",
   "metadata": {},
   "source": [
    "${\\bf A}{\\bf x} = {\\bf b}$ where ${\\bf A} \\in \\mathbb{R}^{m\\times n}, {\\bf b} \\in \\mathbb{R}^{m\\times 1}$"
   ]
  },
  {
   "cell_type": "markdown",
   "id": "ecc6a00d-3b55-419f-9040-3f1799a8a9e4",
   "metadata": {},
   "source": [
    "## Identity and Inverse Matrix"
   ]
  },
  {
   "cell_type": "markdown",
   "id": "e6fde4e6-961a-44f2-ad76-17b112d2c2ee",
   "metadata": {},
   "source": [
    "Identity matrix: all diagonal terms are one, others are zero such that ${\\bf I}_n \\in \\mathbb{R}^{n\\times n}$"
   ]
  },
  {
   "cell_type": "markdown",
   "id": "6d4695e7-1cc3-4ae6-9fb6-d86b20414d9e",
   "metadata": {},
   "source": [
    "`-` 해가 엄청나게 많은 상황"
   ]
  },
  {
   "cell_type": "markdown",
   "id": "97772731-e34d-48c4-839e-047026551151",
   "metadata": {},
   "source": [
    "`-` 해를 못구하는 상황"
   ]
  },
  {
   "cell_type": "markdown",
   "id": "ad4e8a18-6df3-4c24-9fec-2c2b6b9a1e81",
   "metadata": {},
   "source": [
    "## Norms and Special Kinds of Matrices and Vectors"
   ]
  },
  {
   "cell_type": "markdown",
   "id": "c6e969a0-3f76-4e84-88af-db9149ce50e3",
   "metadata": {},
   "source": [
    "### 1. Norm"
   ]
  },
  {
   "cell_type": "markdown",
   "id": "937d2337-a060-450f-920a-df77b2fad92d",
   "metadata": {},
   "source": [
    "`-` Definition of $L^p$ norm"
   ]
  },
  {
   "cell_type": "markdown",
   "id": "14f97019-8462-4632-9726-cbeac98caaf7",
   "metadata": {},
   "source": [
    "$$||{\\bf x}||_p = \\left(\\sum_i |x_i|^p\\right)^{1/p}$$"
   ]
  },
  {
   "cell_type": "markdown",
   "id": "dbc457ee-51d4-4d77-991f-41ad33a5dc6c",
   "metadata": {},
   "source": [
    "Norm function $f$ 는 다음을 만족한다."
   ]
  },
  {
   "cell_type": "markdown",
   "id": "5497fa55-87d4-42ba-a1b8-3a651f888315",
   "metadata": {},
   "source": [
    "1. $f(x) = 0 \\Rightarrow {\\bf x} = 0$\n",
    "2. $f(x+y) \\leq f(x) + f(y)$ (triangle inequality)\n",
    "3. $\\forall \\alpha \\in \\mathbb{R}, f(\\alpha {\\bf x}) = |\\alpha|f(x)$"
   ]
  },
  {
   "cell_type": "markdown",
   "id": "4bd0fa39-cbbd-41e4-a6ff-5d19c45649c9",
   "metadata": {},
   "source": [
    "`-` $L^1$ and $L^0$ norm are considered to address the above."
   ]
  },
  {
   "cell_type": "markdown",
   "id": "fe867fce-c1cb-457a-807e-c01b44bfaaf1",
   "metadata": {},
   "source": [
    "$$||{\\bf x}||_1 = \\sum_i |x_i|$$\n",
    "\n",
    "$$||{\\bf x}||_0 = \\sum_i \\mathbb{I} (x_i \\neq 0)$$"
   ]
  },
  {
   "cell_type": "markdown",
   "id": "39851fa7-b414-4b66-bf23-f53d1b2d313a",
   "metadata": {},
   "source": [
    "high dimension에서는 $L^0$나 $L^1$을 많이 쓴다."
   ]
  },
  {
   "cell_type": "markdown",
   "id": "009d43b3-4754-4a5d-aa39-8e7b36d55a27",
   "metadata": {},
   "source": [
    "`-` $L^2$ norm은 $0$과 $0$이 아닌 기계학습 구별에서 너무 큰 값을 제공한다."
   ]
  },
  {
   "cell_type": "markdown",
   "id": "09094861-0257-45ee-b7d1-d969c08c0100",
   "metadata": {},
   "source": [
    "`-` Other norms such as **max norm** and **Frobenius norm**"
   ]
  },
  {
   "cell_type": "markdown",
   "id": "8cb846fe-3b22-4b02-bc76-4ec54a8792a2",
   "metadata": {},
   "source": [
    "$$||{\\bf x}||_{\\infty} = \\max|x_i|$$\n",
    "\n",
    "$$||{\\bf A}||_F = \\sqrt{\\sum_{i,j}{\\bf A}^2_{i,j}}$$"
   ]
  },
  {
   "cell_type": "markdown",
   "id": "7d06126f-b3d4-4039-8287-bf98075451c3",
   "metadata": {},
   "source": [
    "`-` Definition of an angle between two vectors."
   ]
  },
  {
   "cell_type": "markdown",
   "id": "2aa431b1-57d2-43bb-b8ac-e7d8f4ccf915",
   "metadata": {},
   "source": [
    "$\\cos \\theta = \\frac{x^\\top y}{||x|| ||y||}$"
   ]
  },
  {
   "cell_type": "markdown",
   "id": "e648c2ae-f078-4bc7-a92f-6c5fd47f96da",
   "metadata": {},
   "source": [
    "$w_1(1,0,0) + w_1(0,1,0) + w_3(0,0,1) = (w_1, w_2, w_3)$"
   ]
  },
  {
   "cell_type": "markdown",
   "id": "b852eb6e-372a-408e-aff8-44716f207b1e",
   "metadata": {},
   "source": [
    "## Linear Dependence and Span"
   ]
  },
  {
   "cell_type": "markdown",
   "id": "2562718c-5007-40a7-89b0-01124add445b",
   "metadata": {},
   "source": [
    "## Decompositions"
   ]
  },
  {
   "cell_type": "markdown",
   "id": "3a2ae961-6b08-419d-846a-b38ecf984223",
   "metadata": {},
   "source": [
    "### 1. Eigendecomposition"
   ]
  },
  {
   "cell_type": "markdown",
   "id": "6d552cb0-73e1-4ada-a2da-4a4c89eb2955",
   "metadata": {},
   "source": [
    "$${\\bf A} = {\\bf V}\\text{diag}({\\lambda}){\\bf V}^{-1}$$"
   ]
  },
  {
   "attachments": {
    "cd7cd15d-e0ae-4898-9e64-572c121393d5.png": {
     "image/png": "[encoded data removed]"
    }
   },
   "cell_type": "markdown",
   "id": "f6b70f10-6309-411a-b82d-d4bc4bf42867",
   "metadata": {},
   "source": [
    "![](attachment:cd7cd15d-e0ae-4898-9e64-572c121393d5.png)"
   ]
  },
  {
   "cell_type": "markdown",
   "id": "a5a5a1c0-bf72-4c45-b469-ee6d340253bf",
   "metadata": {},
   "source": [
    "데이터의 correaltion이 강할때 오른쪽 그림과 같다."
   ]
  },
  {
   "cell_type": "markdown",
   "id": "31df5220-1226-4a0c-86a9-9d44f68169a0",
   "metadata": {},
   "source": [
    "### 2. Singular value decomposition"
   ]
  },
  {
   "cell_type": "markdown",
   "id": "ab61ca33-2a9d-42a5-b97c-19ef62cd492b",
   "metadata": {},
   "source": [
    "Decomposition for a non-square matrix ${\\bf A} \\in \\mathbb{R}^{n\\times m}$"
   ]
  },
  {
   "cell_type": "markdown",
   "id": "561e6539-2fa0-4897-ba7b-1745e64a7c23",
   "metadata": {},
   "source": [
    "$${\\bf A} = {\\bf U}{\\bf D}{\\bf V}^\\top$$"
   ]
  },
  {
   "cell_type": "markdown",
   "id": "cb0441da-ef9d-4642-8c42-93c02c34656a",
   "metadata": {},
   "source": [
    "where ${\\bf U} \\in \\mathbb{R}^{n\\times n}, {\\bf D} \\in \\mathbb{R}^{n\\times m}$, and ${\\bf V}\\in \\mathbb{R}^{m\\times m}$."
   ]
  },
  {
   "cell_type": "markdown",
   "id": "23e4493c-620c-4bc4-a81e-e5cb5b1b5c4b",
   "metadata": {},
   "source": [
    "## The Moore-Penrose Pseudoinverse, Trace, and Determinant"
   ]
  },
  {
   "cell_type": "markdown",
   "id": "e9bea4f6-f312-4f54-bf43-537650c39028",
   "metadata": {},
   "source": [
    "- linear equation의 해가 너무 많아서 못푸는 문제 같은 경우는 대안이 있지 않을까?"
   ]
  },
  {
   "cell_type": "markdown",
   "id": "e68be77f-ca06-4762-bc18-eac6968430fc",
   "metadata": {},
   "source": [
    "변환시킨 경우 $n$차원 중 어떤 한 축이 0이면 $n-1$ 차원. 그럼 볼륨이 0이된다."
   ]
  },
  {
   "cell_type": "markdown",
   "id": "97eb2677-a6d6-4e40-ab6b-996d8bab521a",
   "metadata": {},
   "source": [
    "## Example: PCA"
   ]
  },
  {
   "cell_type": "markdown",
   "id": "9c82aa67-b023-4eb1-b3a7-06d02ada52c4",
   "metadata": {},
   "source": [
    "통계: 분산이 가장 큰 축을 찾는다.\n",
    "\n",
    "input data는 엄청 큰데 작은 차원으로 줄어들면서 다시 커지는 과정을 PCA가 하고 있다. 단, 제약이 있음.\n",
    "\n",
    "인코딩 디코딩 개념 알아두자."
   ]
  },
  {
   "cell_type": "markdown",
   "id": "9eda8ab7-92e0-4cd4-9119-2213ac53dba3",
   "metadata": {},
   "source": [
    "- $f(x)$: 인코딩 (관측을 하는 큰 차원에서 관측하지 못하는 작은 차원으로)\n",
    "\n",
    "- $g(f(x))$: 디코딩 (관측하지 못하는 작은 차원에서 관측을 하는 큰차원으로)"
   ]
  }
 ],
 "metadata": {
  "kernelspec": {
   "display_name": "Python 3",
   "language": "python",
   "name": "python3"
  },
  "language_info": {
   "codemirror_mode": {
    "name": "ipython",
    "version": 3
   },
   "file_extension": ".py",
   "mimetype": "text/x-python",
   "name": "python",
   "nbconvert_exporter": "python",
   "pygments_lexer": "ipython3",
   "version": "3.8.16"
  }
 },
 "nbformat": 4,
 "nbformat_minor": 5
}
