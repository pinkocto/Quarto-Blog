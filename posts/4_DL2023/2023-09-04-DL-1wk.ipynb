{
 "cells": [
  {
   "cell_type": "raw",
   "id": "e039a0fc-683b-45ef-b66c-3d805baaf453",
   "metadata": {},
   "source": [
    "---\n",
    "title: \"딥러닝\"\n",
    "author: \"jiyunLim\"\n",
    "date: \"09/04/2023\"\n",
    "---"
   ]
  },
  {
   "cell_type": "markdown",
   "id": "73d286c1-954f-4af2-9b00-7f3cbeeab60c",
   "metadata": {},
   "source": [
    "- 중간 : 지필\n",
    "- 기말 : 프로젝트 (조편성? / 3,4명)\n",
    "- 과제 : 2주에 한번"
   ]
  },
  {
   "cell_type": "markdown",
   "id": "b0566620-f912-4c06-b99a-d4aca6d3f1f1",
   "metadata": {},
   "source": [
    "`-` 문제1 : non-linear $\\to$ Stochastic descent 어떻게 쓰지?"
   ]
  },
  {
   "cell_type": "markdown",
   "id": "35d98c85-cedd-42ba-a000-f34fa08deb16",
   "metadata": {},
   "source": [
    "linear일 때는 연산이 되는데 non-linear일 때는 어떻게 하지? (복잡하다...)"
   ]
  },
  {
   "cell_type": "markdown",
   "id": "39076897-ed18-4ec9-baf7-9eadac32bb45",
   "metadata": {},
   "source": [
    "역전파 등장"
   ]
  },
  {
   "cell_type": "markdown",
   "id": "99b1261f-ee27-46dd-bd77-004bc13e8827",
   "metadata": {},
   "source": [
    "`-` 문제2: 왜 bounded function을 쓸까?"
   ]
  },
  {
   "cell_type": "markdown",
   "id": "4de73689-cae4-4600-b09f-d8882afa201d",
   "metadata": {},
   "source": [
    "딥네트워크 뉴런개수 많아. linear sum 할 때 예를들어 10만개가 들어와? 그런데 바운디드가 안되어있으면, 오버플러우 문제 발생. (값을 일정하게 안정화시키는 것이 중요했다. $\\to$ 가능하면 bounded function사용. (시그모이드 사용한 이유)"
   ]
  },
  {
   "cell_type": "markdown",
   "id": "ee829f71-d0d6-41e4-aadc-e4283862bd1f",
   "metadata": {},
   "source": [
    "`-` 문제3: ReLU를 쓰면 그레디언트 터지는거 아냐?"
   ]
  },
  {
   "cell_type": "markdown",
   "id": "01f26615-51d0-499e-985d-ba183ee6c337",
   "metadata": {},
   "source": [
    "뉴런의 수가 많아지고 층이 깊어지면 그레디언트 터지는거 아니야?"
   ]
  },
  {
   "cell_type": "markdown",
   "id": "c9d7efe8-d5c8-4016-a8f0-36df6b3509e0",
   "metadata": {},
   "source": [
    "0과 양수가 섞여있는데 0부분이 있어서 폭발을 막아준다."
   ]
  },
  {
   "cell_type": "markdown",
   "id": "b8476327-1048-49c7-9c8b-e0fec974f8ea",
   "metadata": {},
   "source": [
    "노드들을 연결하고 있는게 엣지라고 하는데 ReLU를 적용시키면 0이되는 (쓸모없는) 에지들이 있다. 혹은 뉴런이 있다. 극단적인 경우 10%만 쓸모있고 나머지는 날려도 좋다..."
   ]
  },
  {
   "cell_type": "markdown",
   "id": "d2121302-8d44-4a1a-a170-0f8e2403f825",
   "metadata": {},
   "source": [
    " linear summation $\\to$ non linear activation $\\to$ linear summation $\\to$ non linear activation $\\to$ $\\cdots$"
   ]
  },
  {
   "cell_type": "markdown",
   "id": "b1419cb3-9ee6-4687-82f1-63203c444a09",
   "metadata": {},
   "source": [
    "activation 과정에서 일부 날라가게 되겠지"
   ]
  },
  {
   "cell_type": "markdown",
   "id": "6e6a34f1-d25e-46d7-a383-f991b111aae3",
   "metadata": {},
   "source": [
    "`-` 볼츠만 머신"
   ]
  },
  {
   "cell_type": "markdown",
   "id": "1bf203bf-12e3-45dc-adcb-cada1ff33af6",
   "metadata": {},
   "source": [
    "지금 데이터를 가지고 새로운 피처를 만드는데 뉴럴넷 구조로 하자. (unsupervised learning)\n",
    "\n",
    "학습이 잘되는 피처를 만들겠다."
   ]
  },
  {
   "cell_type": "markdown",
   "id": "893364f7-f838-4a80-a4ac-bfdcaac829da",
   "metadata": {},
   "source": [
    "2009 딥볼츠만머신까지는 피처의 변환까지만 (회귀/분류 이런건 안했음) --> 알렉스넷부터..."
   ]
  },
  {
   "cell_type": "markdown",
   "id": "1c2903e3-d61d-4a04-b9df-a123e9f61480",
   "metadata": {},
   "source": [
    "`-` Pretrained Model"
   ]
  },
  {
   "cell_type": "markdown",
   "id": "8da415e3-545a-4077-86c7-94fa6d209562",
   "metadata": {},
   "source": [
    "특정 문제만 풀수있다? $\\to$ informative 하다고 할 수 없지만"
   ]
  },
  {
   "cell_type": "markdown",
   "id": "be31bde0-764b-4cc1-94da-9e19bec4dde6",
   "metadata": {},
   "source": [
    "다른 데이터로 학습을 했지만 \"이미지\" 라는 도메인에서 정보를 추출하는 방법으로 학습을 하기 때문에 다른 이미지가 들어와도 잘 학습한다."
   ]
  },
  {
   "cell_type": "markdown",
   "id": "e157d25a-5c8f-4ae3-9d32-7e65d0e84a32",
   "metadata": {},
   "source": [
    "Feature Extractor가 들어온 것이 큰 변화다. (Representation Power)"
   ]
  },
  {
   "cell_type": "markdown",
   "id": "bfa92978-c0f6-420e-a80b-351ab9bd9bd2",
   "metadata": {},
   "source": [
    "1. Representation Power\n",
    "\n",
    "2. 레이어를 쌓아가면서 참조를 하니까 성능이 올라가게 된다.\n",
    "\n",
    "3. 이미지에서 로컬한 부분먼저 본다. 레이어가 쌓아가면서 뭉쳐서 본다. $\\to$ 전체적인 개형이 나온다. But 전체적인 개형이 원래의 이미지와 같을 수는 없다. (어떤 부분은 강조가 되고, 어떤 부분은 사라지고)"
   ]
  },
  {
   "cell_type": "markdown",
   "id": "5c954659-cb2f-4c00-bf2f-bdfddb5cf289",
   "metadata": {},
   "source": [
    "`-` Depth\n",
    "\n",
    "- 계산\n",
    "- 레이어 개수 (check!) : 베이직하게 레이터를 몇층 쌓느냐라고 생각하면 된다."
   ]
  },
  {
   "cell_type": "markdown",
   "id": "2df8adee-3bdd-4162-832d-9ac722a87512",
   "metadata": {},
   "source": [
    "아키텍처를 크게 만들어서 1,2를 분류할 때 일부분만, 2,3을 예측할때 다른 일부분만,... 이런식으로 학습하는 방법도 있다."
   ]
  }
 ],
 "metadata": {
  "kernelspec": {
   "display_name": "Python 3",
   "language": "python",
   "name": "python3"
  },
  "language_info": {
   "codemirror_mode": {
    "name": "ipython",
    "version": 3
   },
   "file_extension": ".py",
   "mimetype": "text/x-python",
   "name": "python",
   "nbconvert_exporter": "python",
   "pygments_lexer": "ipython3",
   "version": "3.8.16"
  }
 },
 "nbformat": 4,
 "nbformat_minor": 5
}
